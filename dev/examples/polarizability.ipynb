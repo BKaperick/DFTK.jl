{
 "cells": [
  {
   "cell_type": "markdown",
   "source": [
    "# Polarizability by linear response\n",
    "\n",
    "We compute the polarizability of a Helium atom. The polarizability\n",
    "is defined as the change in dipole moment\n",
    "$$\n",
    "\\mu = \\int r ρ(r) dr\n",
    "$$\n",
    "with respect to a small uniform electric field ``E = -x``.\n",
    "\n",
    "We compute this in two ways: first by finite differences (applying a\n",
    "finite electric field), then by linear response. Note that DFTK is\n",
    "not really adapted to isolated atoms because it uses periodic\n",
    "boundary conditions. Nevertheless we can simply embed the Helium\n",
    "atom in a large enough box (although this is computationally wasteful).\n",
    "\n",
    "As in other tests, this is not fully converged, convergence\n",
    "parameters were simply selected for fast execution on CI,"
   ],
   "metadata": {}
  },
  {
   "outputs": [],
   "cell_type": "code",
   "source": [
    "using DFTK\n",
    "using LinearAlgebra\n",
    "\n",
    "a = 10.\n",
    "lattice = a * I(3)  # cube of ``a`` bohrs\n",
    "He = ElementPsp(:He, psp=load_psp(\"hgh/lda/He-q2\"))\n",
    "atoms = [He => [[1/2; 1/2; 1/2]]]  # Helium at the center of the box\n",
    "\n",
    "kgrid = [1, 1, 1]  # no kpoint sampling for an isolated system\n",
    "Ecut = 30\n",
    "tol = 1e-8\n",
    "\n",
    "# dipole moment of a given density (assuming the current geometry)\n",
    "function dipole(ρ)\n",
    "    basis = ρ.basis\n",
    "    rr = [a * (r[1] - 1/2) for r in r_vectors(basis)]\n",
    "    d = sum(rr .* ρ.real) * basis.model.unit_cell_volume / prod(basis.fft_size)\n",
    "end;"
   ],
   "metadata": {},
   "execution_count": 1
  },
  {
   "cell_type": "markdown",
   "source": [
    "## Polarizability by finite differences\n",
    "We first compute the polarizability by finite differences.\n",
    "First compute the dipole moment at rest:"
   ],
   "metadata": {}
  },
  {
   "outputs": [
    {
     "name": "stdout",
     "output_type": "stream",
     "text": [
      "n     Energy            Eₙ-Eₙ₋₁     ρout-ρin   Diag\n",
      "---   ---------------   ---------   --------   ----\n",
      "  1   -2.769804606248         NaN   2.97e-01    8.0 \n",
      "  2   -2.771187825589   -1.38e-03   4.74e-02    2.0 \n",
      "  3   -2.771210977979   -2.32e-05   6.52e-03    1.0 \n",
      "  4   -2.771212900353   -1.92e-06   3.66e-04    1.0 \n",
      "  5   -2.771212981545   -8.12e-08   3.89e-05    2.0 \n",
      "  6   -2.771212981716   -1.71e-10   1.30e-05    2.0 \n"
     ]
    },
    {
     "output_type": "execute_result",
     "data": {
      "text/plain": "-0.00013450743687289297"
     },
     "metadata": {},
     "execution_count": 2
    }
   ],
   "cell_type": "code",
   "source": [
    "model = model_LDA(lattice, atoms; symmetry=:off)\n",
    "basis = PlaneWaveBasis(model, Ecut; kgrid=kgrid)\n",
    "res = self_consistent_field(basis, tol=tol)\n",
    "μref = dipole(res.ρ)"
   ],
   "metadata": {},
   "execution_count": 2
  },
  {
   "cell_type": "markdown",
   "source": [
    "Then in a small uniform field:"
   ],
   "metadata": {}
  },
  {
   "outputs": [
    {
     "name": "stdout",
     "output_type": "stream",
     "text": [
      "n     Energy            Eₙ-Eₙ₋₁     ρout-ρin   Diag\n",
      "---   ---------------   ---------   --------   ----\n",
      "  1   -2.769959835942         NaN   2.97e-01    8.0 \n",
      "  2   -2.771277221758   -1.32e-03   4.74e-02    2.0 \n",
      "  3   -2.771298576789   -2.14e-05   6.24e-03    1.0 \n",
      "  4   -2.771300231764   -1.65e-06   4.37e-04    1.0 \n",
      "  5   -2.771300362088   -1.30e-07   6.10e-05    2.0 \n",
      "  6   -2.771300362345   -2.57e-10   1.46e-05    1.0 \n"
     ]
    },
    {
     "output_type": "execute_result",
     "data": {
      "text/plain": "0.017615094543505908"
     },
     "metadata": {},
     "execution_count": 3
    }
   ],
   "cell_type": "code",
   "source": [
    "ε = .01\n",
    "model_ε = model_LDA(lattice, atoms; extra_terms=[ExternalFromReal(r -> -ε * (r[1] - a/2))],\n",
    "                    symmetry=:off)\n",
    "basis_ε = PlaneWaveBasis(model_ε, Ecut; kgrid=kgrid)\n",
    "res_ε = self_consistent_field(basis_ε, tol=tol)\n",
    "με = dipole(res_ε.ρ)"
   ],
   "metadata": {},
   "execution_count": 3
  },
  {
   "outputs": [
    {
     "name": "stdout",
     "output_type": "stream",
     "text": [
      "Reference dipole:  -0.00013450743687289297\n",
      "Displaced dipole:  0.017615094543505908\n",
      "Polarizability :   1.7749601980378802\n"
     ]
    }
   ],
   "cell_type": "code",
   "source": [
    "polarizability = (με - μref) / ε\n",
    "\n",
    "println(\"Reference dipole:  $μref\")\n",
    "println(\"Displaced dipole:  $με\")\n",
    "println(\"Polarizability :   $polarizability\")"
   ],
   "metadata": {},
   "execution_count": 4
  },
  {
   "cell_type": "markdown",
   "source": [
    "The result on more converged grids is very close to published results.\n",
    "For example [DOI 10.1039/C8CP03569E](https://doi.org/10.1039/C8CP03569E)\n",
    "quotes **1.65** with LSDA and **1.38** with CCSD(T)."
   ],
   "metadata": {}
  },
  {
   "cell_type": "markdown",
   "source": [
    "## Polarizability by linear response\n",
    "Now we use linear response to compute this analytically; we refer to standard\n",
    "textbooks for the formalism. In the following, ``\\chi_0`` is the\n",
    "independent-particle polarizability, and ``K`` the\n",
    "Hartree-exchange-correlation kernel. We denote with ``dV_{\\rm ext}`` an external\n",
    "perturbing potential (like in this case the uniform electric field). Then:\n",
    "$$\n",
    "d\\rho = \\chi_0 dV = \\chi_0 (dV_{\\rm ext} + K d\\rho),\n",
    "$$\n",
    "which implies\n",
    "$$\n",
    "d\\rho = (1-\\chi_0 K)^-1 \\chi_0 dV_{\\rm ext}.\n",
    "$$\n",
    "From this we identify the polarizability operator to be ``\\chi = (1-\\chi_0 K)^-1 \\chi_0``.\n",
    "Numerically, we apply ``\\chi`` to ``dV = -x`` by solving a linear equation\n",
    "(the Dyson equation) iteratively."
   ],
   "metadata": {}
  },
  {
   "outputs": [
    {
     "name": "stdout",
     "output_type": "stream",
     "text": [
      "WARNING: using KrylovKit.basis in module ##434 conflicts with an existing identifier.\n",
      "┌ Info: GMRES linsolve in iter 1; step 1: normres = 2.492064951265e-01\n",
      "└ @ KrylovKit /home/travis/.julia/packages/KrylovKit/OLgKs/src/linsolve/gmres.jl:55\n",
      "┌ Info: GMRES linsolve in iter 1; step 2: normres = 3.796081960231e-03\n",
      "└ @ KrylovKit /home/travis/.julia/packages/KrylovKit/OLgKs/src/linsolve/gmres.jl:89\n",
      "┌ Info: GMRES linsolve in iter 1; step 3: normres = 3.615303641436e-04\n",
      "└ @ KrylovKit /home/travis/.julia/packages/KrylovKit/OLgKs/src/linsolve/gmres.jl:89\n",
      "┌ Info: GMRES linsolve in iter 1; step 4: normres = 4.837662448110e-06\n",
      "└ @ KrylovKit /home/travis/.julia/packages/KrylovKit/OLgKs/src/linsolve/gmres.jl:89\n",
      "┌ Info: GMRES linsolve in iter 1; step 5: normres = 2.459082994869e-07\n",
      "└ @ KrylovKit /home/travis/.julia/packages/KrylovKit/OLgKs/src/linsolve/gmres.jl:89\n",
      "┌ Info: GMRES linsolve in iter 1; step 6: normres = 1.853657798377e-09\n",
      "└ @ KrylovKit /home/travis/.julia/packages/KrylovKit/OLgKs/src/linsolve/gmres.jl:89\n",
      "┌ Info: GMRES linsolve in iter 1; step 7: normres = 1.130152321005e-11\n",
      "└ @ KrylovKit /home/travis/.julia/packages/KrylovKit/OLgKs/src/linsolve/gmres.jl:89\n",
      "┌ Info: GMRES linsolve in iter 1; step 8: normres = 3.504510925237e-13\n",
      "└ @ KrylovKit /home/travis/.julia/packages/KrylovKit/OLgKs/src/linsolve/gmres.jl:89\n",
      "┌ Info: GMRES linsolve in iter 1; finised at step 8: normres = 3.504510925237e-13\n",
      "└ @ KrylovKit /home/travis/.julia/packages/KrylovKit/OLgKs/src/linsolve/gmres.jl:96\n",
      "┌ Info: GMRES linsolve in iter 2; step 1: normres = 7.782529926764e-07\n",
      "└ @ KrylovKit /home/travis/.julia/packages/KrylovKit/OLgKs/src/linsolve/gmres.jl:55\n",
      "┌ Info: GMRES linsolve in iter 2; step 2: normres = 6.471624234351e-08\n",
      "└ @ KrylovKit /home/travis/.julia/packages/KrylovKit/OLgKs/src/linsolve/gmres.jl:89\n",
      "┌ Info: GMRES linsolve in iter 2; step 3: normres = 1.601551256364e-09\n",
      "└ @ KrylovKit /home/travis/.julia/packages/KrylovKit/OLgKs/src/linsolve/gmres.jl:89\n",
      "┌ Info: GMRES linsolve in iter 2; step 4: normres = 2.015486940051e-11\n",
      "└ @ KrylovKit /home/travis/.julia/packages/KrylovKit/OLgKs/src/linsolve/gmres.jl:89\n",
      "┌ Info: GMRES linsolve in iter 2; step 5: normres = 1.692160198105e-13\n",
      "└ @ KrylovKit /home/travis/.julia/packages/KrylovKit/OLgKs/src/linsolve/gmres.jl:89\n",
      "┌ Info: GMRES linsolve in iter 2; finised at step 5: normres = 1.692160198105e-13\n",
      "└ @ KrylovKit /home/travis/.julia/packages/KrylovKit/OLgKs/src/linsolve/gmres.jl:96\n",
      "┌ Info: GMRES linsolve in iter 3; step 1: normres = 3.135186184256e-11\n",
      "└ @ KrylovKit /home/travis/.julia/packages/KrylovKit/OLgKs/src/linsolve/gmres.jl:55\n",
      "┌ Info: GMRES linsolve in iter 3; step 2: normres = 4.928079288037e-12\n",
      "└ @ KrylovKit /home/travis/.julia/packages/KrylovKit/OLgKs/src/linsolve/gmres.jl:89\n",
      "┌ Info: GMRES linsolve in iter 3; step 3: normres = 6.520236593087e-14\n",
      "└ @ KrylovKit /home/travis/.julia/packages/KrylovKit/OLgKs/src/linsolve/gmres.jl:89\n",
      "┌ Info: GMRES linsolve in iter 3; finised at step 3: normres = 6.520236593087e-14\n",
      "└ @ KrylovKit /home/travis/.julia/packages/KrylovKit/OLgKs/src/linsolve/gmres.jl:96\n",
      "┌ Info: GMRES linsolve converged at iteration 3, step 3:\n",
      "│ *  norm of residual = 6.56847922137232e-14\n",
      "│ *  number of operations = 18\n",
      "└ @ KrylovKit /home/travis/.julia/packages/KrylovKit/OLgKs/src/linsolve/gmres.jl:127\n",
      "Non-interacting polarizability: 1.926617371506989\n",
      "Interacting polarizability: 1.7743303573957334\n"
     ]
    }
   ],
   "cell_type": "code",
   "source": [
    "using KrylovKit\n",
    "\n",
    "# KrylovKit cannot deal with the density as a 3D array, so we need `vec` to vectorize\n",
    "# and `devec` to \"unvectorize\"\n",
    "devec(arr) = from_real(basis, reshape(arr, size(res.ρ.real)))\n",
    "\n",
    "# Apply (1- χ0 K) to a vectorized dρ\n",
    "function dielectric_operator(dρ)\n",
    "    dρ = devec(dρ)\n",
    "    dv = apply_kernel(basis, dρ; ρ=res.ρ)\n",
    "    χ0dv = apply_χ0(res.ham, res.ψ, res.εF, res.eigenvalues, dv)\n",
    "    vec((dρ - χ0dv).real)\n",
    "end\n",
    "\n",
    "# dVext is the potential from a uniform field interacting with the dielectric dipole\n",
    "# of the density.\n",
    "dVext = from_real(basis, [-a * (r[1] - 1/2) for r in r_vectors(basis)])\n",
    "\n",
    "# Apply χ0 once to get non-interacting dipole\n",
    "dρ_nointeract = apply_χ0(res.ham, res.ψ, res.εF, res.eigenvalues, dVext)\n",
    "\n",
    "# Solve Dyson equation to get interacting dipole\n",
    "dρ = devec(linsolve(dielectric_operator, vec(dρ_nointeract.real), verbosity=3)[1])\n",
    "\n",
    "println(\"Non-interacting polarizability: $(dipole(dρ_nointeract))\")\n",
    "println(\"Interacting polarizability: $(dipole(dρ))\")"
   ],
   "metadata": {},
   "execution_count": 5
  },
  {
   "cell_type": "markdown",
   "source": [
    "As expected, the interacting polarizability matches the finite difference\n",
    "result. The non-interacting polarizability is higher."
   ],
   "metadata": {}
  }
 ],
 "nbformat_minor": 3,
 "metadata": {
  "language_info": {
   "file_extension": ".jl",
   "mimetype": "application/julia",
   "name": "julia",
   "version": "1.3.1"
  },
  "kernelspec": {
   "name": "julia-1.3",
   "display_name": "Julia 1.3.1",
   "language": "julia"
  }
 },
 "nbformat": 4
}
