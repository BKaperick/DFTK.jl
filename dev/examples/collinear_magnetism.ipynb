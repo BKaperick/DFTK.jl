{
 "cells": [
  {
   "cell_type": "markdown",
   "source": [
    "# Collinear spin and magnetic systems\n",
    "\n",
    "In this example we consider iron in the BCC phase.\n",
    "To show that this material is ferromagnetic we will model it once\n",
    "allowing collinear spin polarization and once without\n",
    "and compare the resulting SCF energies. In particular\n",
    "the ground state can only be found if collinear spins are allowed.\n",
    "\n",
    "First we setup BCC iron without spin polarization\n",
    "using a single iron atom inside the unit cell."
   ],
   "metadata": {}
  },
  {
   "outputs": [],
   "cell_type": "code",
   "source": [
    "using DFTK\n",
    "\n",
    "a = 5.42352  # Bohr\n",
    "lattice = a / 2 * [[-1  1  1];\n",
    "                   [ 1 -1  1];\n",
    "                   [ 1  1 -1]]\n",
    "Fe = ElementPsp(:Fe, psp=load_psp(\"hgh/lda/Fe-q8.hgh\"))\n",
    "atoms = [Fe => [zeros(3)]];"
   ],
   "metadata": {},
   "execution_count": 1
  },
  {
   "cell_type": "markdown",
   "source": [
    "To get the ground-state energy we use an LDA model and rather moderate\n",
    "discretisation parameters."
   ],
   "metadata": {}
  },
  {
   "outputs": [
    {
     "name": "stdout",
     "output_type": "stream",
     "text": [
      "n     Free energy       Eₙ-Eₙ₋₁     ρout-ρin   Diag\n",
      "---   ---------------   ---------   --------   ----\n",
      "  1   -16.64728554505         NaN   3.28e-01    5.0 \n",
      "  2   -16.64778098215   -4.95e-04   7.78e-02    2.0 \n",
      "  3   -16.64782811034   -4.71e-05   3.29e-03    1.0 \n",
      "  4   -16.64783300903   -4.90e-06   1.72e-03    2.8 \n",
      "  5   -16.64783420779   -1.20e-06   3.33e-04    1.0 \n",
      "  6   -16.64783430559   -9.78e-08   1.02e-04    2.0 \n"
     ]
    },
    {
     "output_type": "execute_result",
     "data": {
      "text/plain": "Energy breakdown:\n    Kinetic             15.9217429\n    AtomicLocal         -5.0697522\n    AtomicNonlocal      -5.2207793\n    Ewald               -21.4723040\n    PspCorrection       1.8758831 \n    Hartree             0.7794653 \n    Xc                  -3.4438022\n    Entropy             -0.0182880\n\n    total               -16.647834305595\n"
     },
     "metadata": {},
     "execution_count": 2
    }
   ],
   "cell_type": "code",
   "source": [
    "kgrid = [3, 3, 3]  # k-point grid (Regular Monkhorst-Pack grid)\n",
    "Ecut = 15          # kinetic energy cutoff in Hartree\n",
    "model_nospin = model_LDA(lattice, atoms, temperature=0.01)\n",
    "basis_nospin = PlaneWaveBasis(model_nospin, Ecut; kgrid=kgrid)\n",
    "\n",
    "scfres_nospin = self_consistent_field(basis_nospin, tol=1e-6, mixing=KerkerMixing())\n",
    "\n",
    "scfres_nospin.energies"
   ],
   "metadata": {},
   "execution_count": 2
  },
  {
   "cell_type": "markdown",
   "source": [
    "Since we did not specify any initial magnetic moment on the iron atom,\n",
    "DFTK will automatically assume that a calculation with only spin-paired\n",
    "electrons should be performed. As a result the obtained ground state\n",
    "features no spin-polarization."
   ],
   "metadata": {}
  },
  {
   "cell_type": "markdown",
   "source": [
    "Now we repeat the calculation, but give the iron atom an initial magnetic moment.\n",
    "For specifying the magnetic moment pass the desired excess of spin-up over spin-down\n",
    "electrons at each centre to the `Model` and the guess density functions.\n",
    "In this case we seek the state with as many spin-parallel\n",
    "``d``-electrons as possible. In our pseudopotential model the 8 valence\n",
    "electrons are 2 pair of ``s``-electrons, 1 pair of ``d``-electrons\n",
    "and 4 unpaired ``d``-electrons giving a desired magnetic moment of `4` at the iron centre.\n",
    "The structure (i.e. pair mapping and order) of the `magnetic_moments` array needs to agree\n",
    "with the `atoms` array and `0` magnetic moments need to be specified as well."
   ],
   "metadata": {}
  },
  {
   "outputs": [
    {
     "output_type": "execute_result",
     "data": {
      "text/plain": "1-element Array{Pair{ElementPsp,Array{Int64,1}},1}:\n ElementPsp(26, :Fe, PspHgh(8, 0.61, [0.0, 0.0, 0.0, 0.0], 2, [0.454482, 0.63890282, 0.30873177], [[3.01664046 -1.00040646 0.79478164; -1.00040646 2.58303836 -2.05211737; 0.79478164 -2.05211737 3.25763534], [1.49964199 -0.13812935; -0.13812935 0.32687369], [-9.14535371]], \"hgh/lda/fe-q8.hgh\", \"Fe GTH-PADE-q8 GTH-LDA-q8\")) => [4]"
     },
     "metadata": {},
     "execution_count": 3
    }
   ],
   "cell_type": "code",
   "source": [
    "magnetic_moments = [Fe => [4, ]]"
   ],
   "metadata": {},
   "execution_count": 3
  },
  {
   "cell_type": "markdown",
   "source": [
    "!!! tip \"Units of the magnetisation and magnetic moments in DFTK\"\n",
    "    Unlike all other quantities magnetisation and magnetic moments in DFTK\n",
    "    are given in units of the Bohr magneton ``μ_B``, which in atomic units has the\n",
    "    value ``\\frac{1}{2}``. Since ``μ_B`` is the magnetic moment of a single electron\n",
    "    the advantage is that one can directly think of these quantities as the excess of\n",
    "    spin-up electrons or spin-up electron density.\n",
    "\n",
    "We repeat the calculation using the same model as before. DFTK now detects\n",
    "the non-zero moment and switches to a collinear calculation."
   ],
   "metadata": {}
  },
  {
   "outputs": [
    {
     "name": "stdout",
     "output_type": "stream",
     "text": [
      "n     Free energy       Eₙ-Eₙ₋₁     ρout-ρin   Magnet   Diag\n",
      "---   ---------------   ---------   --------   ------   ----\n",
      "  1   -16.65997408942         NaN   3.41e-01    2.620    4.4 \n",
      "  2   -16.66653772919   -6.56e-03   6.92e-02    2.328    2.5 \n",
      "  3   -16.66694396071   -4.06e-04   1.05e-02    2.276    1.4 \n",
      "  4   -16.66698826374   -4.43e-05   1.18e-03    2.275    1.9 \n",
      "  5   -16.66699400087   -5.74e-06   8.60e-04    2.284    2.8 \n",
      "  6   -16.66699610033   -2.10e-06   4.29e-04    2.292    1.5 \n",
      "  7   -16.66699649850   -3.98e-07   7.28e-05    2.296    1.8 \n",
      "  8   -16.66699652206   -2.36e-08   1.12e-05    2.297    2.6 \n",
      "  9   -16.66699652212   -6.20e-11   2.07e-06    2.297    2.1 \n"
     ]
    },
    {
     "output_type": "execute_result",
     "data": {
      "text/plain": "Energy breakdown:\n    Kinetic             16.3015660\n    AtomicLocal         -5.2260645\n    AtomicNonlocal      -5.4136149\n    Ewald               -21.4723040\n    PspCorrection       1.8758831 \n    Hartree             0.8201416 \n    Xc                  -3.5395247\n    Entropy             -0.0130791\n\n    total               -16.666996522121\n"
     },
     "metadata": {},
     "execution_count": 4
    }
   ],
   "cell_type": "code",
   "source": [
    "model = model_LDA(lattice, atoms, magnetic_moments=magnetic_moments, temperature=0.01)\n",
    "basis = PlaneWaveBasis(model, Ecut; kgrid=kgrid)\n",
    "ρspin = guess_spin_density(basis, magnetic_moments)\n",
    "scfres = self_consistent_field(basis, tol=1e-10, ρspin=ρspin, mixing=KerkerMixing())\n",
    "\n",
    "scfres.energies"
   ],
   "metadata": {},
   "execution_count": 4
  },
  {
   "cell_type": "markdown",
   "source": [
    "!!! note \"Model and magnetic moments\"\n",
    "    DFTK does not store the `magnetic_moments` inside the `Model`, but only uses them\n",
    "    to determine the lattice symmetries. This step was taken to keep `Model`\n",
    "    (which contains the physical model) independent of the details of the numerical details\n",
    "    such as the initial guess for the spin density.\n",
    "\n",
    "In direct comparison we notice the first, spin-paired calculation to be\n",
    "a little higher in energy"
   ],
   "metadata": {}
  },
  {
   "outputs": [
    {
     "name": "stdout",
     "output_type": "stream",
     "text": [
      "No magnetization: -16.647834305594728\n",
      "Magnetic case:    -16.66699652212134\n"
     ]
    }
   ],
   "cell_type": "code",
   "source": [
    "println(\"No magnetization: \", scfres_nospin.energies.total)\n",
    "println(\"Magnetic case:    \", scfres.energies.total);"
   ],
   "metadata": {},
   "execution_count": 5
  },
  {
   "cell_type": "markdown",
   "source": [
    "Notice that with the small cutoffs we use to generate the online\n",
    "documentation the calculation is far from converged.\n",
    "With more realistic parameters a larger energy difference of about\n",
    "0.1 Hartree is obtained."
   ],
   "metadata": {}
  },
  {
   "cell_type": "markdown",
   "source": [
    "The spin polarization in the magnetic case is visible if we\n",
    "consider the occupation of the spin-up and spin-down Kohn-Sham orbitals.\n",
    "Especially for the ``d``-orbitals these differ rather drastically.\n",
    "For example for the first ``k``-point:"
   ],
   "metadata": {}
  },
  {
   "outputs": [
    {
     "name": "stdout",
     "output_type": "stream",
     "text": [
      "scfres.occupation[iup] = [1.0, 0.999998813918381, 0.9999988139179684, 0.9999988139175023, 0.9585650147127615, 0.9585649831158012, 1.154028975855243e-29, 1.1540288670681591e-29, 1.1540280038943253e-29, 1.3956887522242502e-31, 1.3956884361807453e-31, 1.3956879162922788e-31, 1.0609941884959859e-45, 8.576993324779098e-47, 8.576948207013733e-47]\n",
      "scfres.occupation[idown] = [1.0, 0.8327424978223893, 0.8327422653489471, 0.832742203156895, 7.846458919378072e-6, 7.846437052329144e-6, 1.5493026231424408e-32, 1.549300388171506e-32, 1.5493000573162046e-32, 9.808690815377012e-34, 9.808682309081347e-34, 9.808656826467027e-34, 6.717090917024839e-49, 6.717081655555281e-49, 3.6115639485301415e-51]\n"
     ]
    }
   ],
   "cell_type": "code",
   "source": [
    "iup   = 1\n",
    "idown = iup + length(scfres.basis.kpoints) ÷ 2\n",
    "@show scfres.occupation[iup]\n",
    "@show scfres.occupation[idown];"
   ],
   "metadata": {},
   "execution_count": 6
  },
  {
   "cell_type": "markdown",
   "source": [
    "Similarly the eigenvalues differ"
   ],
   "metadata": {}
  },
  {
   "outputs": [
    {
     "name": "stdout",
     "output_type": "stream",
     "text": [
      "scfres.eigenvalues[iup] = [-0.06926786720399174, 0.35688219276195904, 0.3568821962415984, 0.35688220017112515, 0.46191761720615016, 0.46191762516144685, 1.1596478195121955, 1.1596478204548677, 1.159647827934526, 1.2037982339141615, 1.2037982361785886, 1.20379823990355, 1.5289019633372174, 1.5540548947820498, 1.55405494738543]\n",
      "scfres.eigenvalues[idown] = [-0.030405543285342944, 0.47727883617180833, 0.4772788528625936, 0.47727885732776365, 0.6108851390574911, 0.6108851669264332, 1.225779915978991, 1.2257799304046593, 1.2257799325401737, 1.25337697882439, 1.2533769874965965, 1.2533770134762814, 1.6025508792637628, 1.6025508930516899, 1.6548077236865042]\n"
     ]
    }
   ],
   "cell_type": "code",
   "source": [
    "@show scfres.eigenvalues[iup]\n",
    "@show scfres.eigenvalues[idown];"
   ],
   "metadata": {},
   "execution_count": 7
  },
  {
   "cell_type": "markdown",
   "source": [
    "!!! note \"k-points in collinear calculations\"\n",
    "    For collinear calculations the `kpoints` field of the `PlaneWaveBasis` object contains\n",
    "    each ``k``-point coordinate twice, once associated with spin-up and once with down-down.\n",
    "    The list first contains all spin-up ``k``-points and then all spin-down ``k``-points,\n",
    "    such that `iup` and `idown` index the same ``k``-point, but differing spins."
   ],
   "metadata": {}
  }
 ],
 "nbformat_minor": 3,
 "metadata": {
  "language_info": {
   "file_extension": ".jl",
   "mimetype": "application/julia",
   "name": "julia",
   "version": "1.4.2"
  },
  "kernelspec": {
   "name": "julia-1.4",
   "display_name": "Julia 1.4.2",
   "language": "julia"
  }
 },
 "nbformat": 4
}
