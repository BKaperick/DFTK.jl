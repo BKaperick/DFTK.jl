{
 "cells": [
  {
   "cell_type": "markdown",
   "source": [
    "# Creating supercells with pymatgen\n",
    "\n",
    "The [Pymatgen](https://pymatgen.org/) python library allows to setup\n",
    "solid-state calculations using a flexible set of classes as well as an API\n",
    "to an online data base of structures. Its `Structure` and `Lattice`\n",
    "objects are directly supported by the DFTK `load_atoms` and `load_lattice`\n",
    "functions, such that DFTK may be readily used to run calculation on systems\n",
    "defined in pymatgen. Using the `pymatgen_structure` function a conversion\n",
    "from DFTK to pymatgen structures is also possible. In the following we\n",
    "use this to create a silicon supercell and find its LDA ground state\n",
    "using direct minimisation."
   ],
   "metadata": {}
  },
  {
   "cell_type": "markdown",
   "source": [
    "First we setup the silicon lattice in DFTK."
   ],
   "metadata": {}
  },
  {
   "outputs": [],
   "cell_type": "code",
   "source": [
    "using DFTK\n",
    "\n",
    "a = 10.263141334305942  # Lattice constant in Bohr\n",
    "lattice = a / 2 .* [[0 1 1.]; [1 0 1.]; [1 1 0.]]\n",
    "Si = ElementPsp(:Si, psp=load_psp(\"hgh/lda/Si-q4\"))\n",
    "atoms = [Si => [ones(3)/8, -ones(3)/8]];"
   ],
   "metadata": {},
   "execution_count": 1
  },
  {
   "cell_type": "markdown",
   "source": [
    "Next we make a `[2, 2, 2]` supercell using pymatgen"
   ],
   "metadata": {}
  },
  {
   "outputs": [],
   "cell_type": "code",
   "source": [
    "pystruct = pymatgen_structure(lattice, atoms)\n",
    "pystruct.make_supercell([2, 2, 2])\n",
    "lattice = load_lattice(pystruct)\n",
    "atoms = [Si => [s.frac_coords for s in pystruct.sites]];"
   ],
   "metadata": {},
   "execution_count": 2
  },
  {
   "cell_type": "markdown",
   "source": [
    "Setup an LDA model and discretize using\n",
    "a single kpoint and a small `Ecut` of 5 Hartree.\n",
    "Notice that `PlaneWaveBasis` defaults to just using the ``Γ``-point\n",
    "if no ``k``-point options are provided."
   ],
   "metadata": {}
  },
  {
   "outputs": [
    {
     "output_type": "execute_result",
     "data": {
      "text/plain": "PlaneWaveBasis (Ecut=5.0, 1 kpoints)"
     },
     "metadata": {},
     "execution_count": 3
    }
   ],
   "cell_type": "code",
   "source": [
    "model = model_LDA(lattice, atoms)\n",
    "basis = PlaneWaveBasis(model, 5)"
   ],
   "metadata": {},
   "execution_count": 3
  },
  {
   "cell_type": "markdown",
   "source": [
    "Find the ground state using direct minimisation (always using SCF is boring ...)"
   ],
   "metadata": {}
  },
  {
   "outputs": [
    {
     "name": "stdout",
     "output_type": "stream",
     "text": [
      "Iter     Function value   Gradient norm \n",
      "     0     1.127077e+02     1.684008e+00\n",
      " * time: 0.12131595611572266\n",
      "     1     1.095008e+01     9.695978e-01\n",
      " * time: 0.908174991607666\n",
      "     2    -1.154446e+01     1.119640e+00\n",
      " * time: 1.0407299995422363\n",
      "     3    -3.394052e+01     8.384228e-01\n",
      " * time: 1.1934537887573242\n",
      "     4    -4.741654e+01     5.818818e-01\n",
      " * time: 1.3354439735412598\n",
      "     5    -5.690203e+01     2.242481e-01\n",
      " * time: 1.4754638671875\n",
      "     6    -5.985299e+01     1.448206e-01\n",
      " * time: 1.5785880088806152\n",
      "     7    -6.100937e+01     5.456235e-02\n",
      " * time: 1.6891229152679443\n",
      "     8    -6.145553e+01     5.738248e-02\n",
      " * time: 1.7928388118743896\n",
      "     9    -6.169720e+01     4.029715e-02\n",
      " * time: 1.9028728008270264\n",
      "    10    -6.189767e+01     2.244481e-02\n",
      " * time: 2.0132949352264404\n",
      "    11    -6.202819e+01     1.776429e-02\n",
      " * time: 2.1167848110198975\n",
      "    12    -6.208974e+01     1.466616e-02\n",
      " * time: 2.2264299392700195\n",
      "    13    -6.213432e+01     1.459110e-02\n",
      " * time: 2.3292930126190186\n",
      "    14    -6.216089e+01     1.110901e-02\n",
      " * time: 2.4382729530334473\n",
      "    15    -6.217897e+01     1.037353e-02\n",
      " * time: 2.5481128692626953\n",
      "    16    -6.219020e+01     8.198902e-03\n",
      " * time: 2.6512629985809326\n",
      "    17    -6.219943e+01     6.681182e-03\n",
      " * time: 2.761185884475708\n",
      "    18    -6.220782e+01     6.422503e-03\n",
      " * time: 2.8703699111938477\n",
      "    19    -6.221648e+01     6.490462e-03\n",
      " * time: 2.9730708599090576\n",
      "    20    -6.222554e+01     6.131681e-03\n",
      " * time: 3.0815048217773438\n",
      "    21    -6.223482e+01     6.334364e-03\n",
      " * time: 3.1839540004730225\n",
      "    22    -6.224324e+01     5.516377e-03\n",
      " * time: 3.293390989303589\n",
      "    23    -6.224949e+01     5.289187e-03\n",
      " * time: 3.402050018310547\n",
      "    24    -6.225352e+01     4.191012e-03\n",
      " * time: 3.505190849304199\n",
      "    25    -6.225608e+01     3.429566e-03\n",
      " * time: 3.6165518760681152\n",
      "    26    -6.225784e+01     3.415778e-03\n",
      " * time: 3.732658863067627\n",
      "    27    -6.225902e+01     3.054605e-03\n",
      " * time: 3.845432996749878\n",
      "    28    -6.225991e+01     2.130792e-03\n",
      " * time: 3.9565279483795166\n",
      "    29    -6.226056e+01     1.789518e-03\n",
      " * time: 4.059705972671509\n",
      "    30    -6.226100e+01     1.474104e-03\n",
      " * time: 4.169595956802368\n",
      "    31    -6.226129e+01     1.318865e-03\n",
      " * time: 4.272199869155884\n",
      "    32    -6.226147e+01     6.898418e-04\n",
      " * time: 4.381242990493774\n",
      "    33    -6.226157e+01     4.851369e-04\n",
      " * time: 4.490577936172485\n",
      "    34    -6.226162e+01     3.234220e-04\n",
      " * time: 4.5943498611450195\n",
      "    35    -6.226164e+01     2.310026e-04\n",
      " * time: 4.704559803009033\n",
      "    36    -6.226166e+01     2.013198e-04\n",
      " * time: 4.8089799880981445\n",
      "    37    -6.226166e+01     1.407477e-04\n",
      " * time: 4.9184489250183105\n",
      "    38    -6.226166e+01     1.139000e-04\n",
      " * time: 5.028542995452881\n",
      "    39    -6.226166e+01     9.500380e-05\n",
      " * time: 5.1328208446502686\n",
      "    40    -6.226166e+01     6.993088e-05\n",
      " * time: 5.244346857070923\n",
      "    41    -6.226167e+01     5.849207e-05\n",
      " * time: 5.354074001312256\n",
      "    42    -6.226167e+01     4.570638e-05\n",
      " * time: 5.458727836608887\n",
      "    43    -6.226167e+01     3.273481e-05\n",
      " * time: 5.569750785827637\n",
      "    44    -6.226167e+01     3.119950e-05\n",
      " * time: 5.673557996749878\n",
      "    45    -6.226167e+01     2.394810e-05\n",
      " * time: 5.783495903015137\n",
      "    46    -6.226167e+01     1.607089e-05\n",
      " * time: 5.8929150104522705\n",
      "    47    -6.226167e+01     9.263968e-06\n",
      " * time: 5.9971349239349365\n",
      "    48    -6.226167e+01     6.881508e-06\n",
      " * time: 6.1074378490448\n",
      "    49    -6.226167e+01     5.641353e-06\n",
      " * time: 6.211284875869751\n",
      "    50    -6.226167e+01     5.432711e-06\n",
      " * time: 6.32132887840271\n",
      "    51    -6.226167e+01     5.836308e-06\n",
      " * time: 6.431291818618774\n",
      "    52    -6.226167e+01     5.296579e-06\n",
      " * time: 6.534413814544678\n",
      "    53    -6.226167e+01     3.789300e-06\n",
      " * time: 6.643347978591919\n",
      "    54    -6.226167e+01     3.106822e-06\n",
      " * time: 6.745795011520386\n"
     ]
    }
   ],
   "cell_type": "code",
   "source": [
    "scfres = direct_minimization(basis, tol=1e-5);"
   ],
   "metadata": {},
   "execution_count": 4
  },
  {
   "outputs": [
    {
     "output_type": "execute_result",
     "data": {
      "text/plain": "Energy breakdown:\n    Kinetic             25.7671073\n    AtomicLocal         -18.8557726\n    AtomicNonlocal      14.8522682\n    Ewald               -67.1831486\n    PspCorrection       -2.3569765\n    Hartree             4.8485383 \n    Xc                  -19.3336824\n\n    total               -62.261666461775\n"
     },
     "metadata": {},
     "execution_count": 5
    }
   ],
   "cell_type": "code",
   "source": [
    "scfres.energies"
   ],
   "metadata": {},
   "execution_count": 5
  }
 ],
 "nbformat_minor": 3,
 "metadata": {
  "language_info": {
   "file_extension": ".jl",
   "mimetype": "application/julia",
   "name": "julia",
   "version": "1.3.1"
  },
  "kernelspec": {
   "name": "julia-1.3",
   "display_name": "Julia 1.3.1",
   "language": "julia"
  }
 },
 "nbformat": 4
}
