{
 "cells": [
  {
   "cell_type": "markdown",
   "source": [
    "# Creating supercells with pymatgen\n",
    "\n",
    "The [Pymatgen](https://pymatgen.org/) python library allows to setup\n",
    "solid-state calculations using a flexible set of classes as well as an API\n",
    "to an online data base of structures. Its `Structure` and `Lattice`\n",
    "objects are directly supported by the DFTK `load_atoms` and `load_lattice`\n",
    "functions, such that DFTK may be readily used to run calculation on systems\n",
    "defined in pymatgen. Using the `pymatgen_structure` function a conversion\n",
    "from DFTK to pymatgen structures is also possible. In the following we\n",
    "use this to create a silicon supercell and find its LDA ground state\n",
    "using direct minimisation."
   ],
   "metadata": {}
  },
  {
   "cell_type": "markdown",
   "source": [
    "First we setup the silicon lattice in DFTK."
   ],
   "metadata": {}
  },
  {
   "outputs": [],
   "cell_type": "code",
   "source": [
    "using DFTK\n",
    "\n",
    "a = 10.263141334305942  # Lattice constant in Bohr\n",
    "lattice = a / 2 .* [[0 1 1.]; [1 0 1.]; [1 1 0.]]\n",
    "Si = ElementPsp(:Si, psp=load_psp(\"hgh/lda/Si-q4\"))\n",
    "atoms = [Si => [ones(3)/8, -ones(3)/8]];"
   ],
   "metadata": {},
   "execution_count": 1
  },
  {
   "cell_type": "markdown",
   "source": [
    "Next we make a `[2, 2, 2]` supercell using pymatgen"
   ],
   "metadata": {}
  },
  {
   "outputs": [],
   "cell_type": "code",
   "source": [
    "pystruct = pymatgen_structure(lattice, atoms)\n",
    "pystruct.make_supercell([2, 2, 2])\n",
    "lattice = load_lattice(pystruct)\n",
    "atoms = [Si => [s.frac_coords for s in pystruct.sites]];"
   ],
   "metadata": {},
   "execution_count": 2
  },
  {
   "cell_type": "markdown",
   "source": [
    "Setup an LDA model and discretize using\n",
    "a single kpoint and a small `Ecut` of 5 Hartree.\n",
    "Notice that `PlaneWaveBasis` defaults to just using the ``Γ``-point\n",
    "if no ``k``-point options are provided."
   ],
   "metadata": {}
  },
  {
   "outputs": [
    {
     "name": "stdout",
     "output_type": "stream",
     "text": [
      "Iter     Function value   Gradient norm \n",
      "     0     1.121700e+02     1.496662e+00\n",
      " * time: 0.1412220001220703\n",
      "     1     1.104301e+01     9.903399e-01\n",
      " * time: 1.0294218063354492\n",
      "     2    -1.176435e+01     9.992771e-01\n",
      " * time: 1.165496826171875\n",
      "     3    -3.396556e+01     7.519891e-01\n",
      " * time: 1.334500789642334\n",
      "     4    -4.765667e+01     5.654005e-01\n",
      " * time: 1.4911727905273438\n",
      "     5    -5.699939e+01     2.020928e-01\n",
      " * time: 1.6357169151306152\n",
      "     6    -5.983815e+01     1.390871e-01\n",
      " * time: 1.7550909519195557\n",
      "     7    -6.087507e+01     5.408502e-02\n",
      " * time: 1.8866028785705566\n",
      "     8    -6.126667e+01     8.383635e-02\n",
      " * time: 2.010502815246582\n",
      "     9    -6.157529e+01     4.073777e-02\n",
      " * time: 2.1234498023986816\n",
      "    10    -6.179255e+01     2.988812e-02\n",
      " * time: 2.2450218200683594\n",
      "    11    -6.196652e+01     2.548938e-02\n",
      " * time: 2.358613967895508\n",
      "    12    -6.203639e+01     2.006003e-02\n",
      " * time: 2.4785878658294678\n",
      "    13    -6.210793e+01     1.508076e-02\n",
      " * time: 2.5915279388427734\n",
      "    14    -6.213852e+01     1.399342e-02\n",
      " * time: 2.714376926422119\n",
      "    15    -6.216627e+01     1.125971e-02\n",
      " * time: 2.829694986343384\n",
      "    16    -6.218306e+01     8.987920e-03\n",
      " * time: 2.9500718116760254\n",
      "    17    -6.219632e+01     7.736117e-03\n",
      " * time: 3.0612869262695312\n",
      "    18    -6.220876e+01     7.522839e-03\n",
      " * time: 3.181708812713623\n",
      "    19    -6.221859e+01     6.666594e-03\n",
      " * time: 3.295074939727783\n",
      "    20    -6.222703e+01     7.110833e-03\n",
      " * time: 3.4163780212402344\n",
      "    21    -6.223451e+01     8.290650e-03\n",
      " * time: 3.528777837753296\n",
      "    22    -6.224145e+01     8.092673e-03\n",
      " * time: 3.650420904159546\n",
      "    23    -6.224762e+01     7.370432e-03\n",
      " * time: 3.763284921646118\n",
      "    24    -6.225236e+01     5.484489e-03\n",
      " * time: 3.883558988571167\n",
      "    25    -6.225539e+01     3.861122e-03\n",
      " * time: 3.996485948562622\n",
      "    26    -6.225741e+01     2.784377e-03\n",
      " * time: 4.119996786117554\n",
      "    27    -6.225869e+01     2.443027e-03\n",
      " * time: 4.231290817260742\n",
      "    28    -6.225959e+01     2.630953e-03\n",
      " * time: 4.372062921524048\n",
      "    29    -6.226029e+01     2.282670e-03\n",
      " * time: 4.482844829559326\n",
      "    30    -6.226084e+01     1.825324e-03\n",
      " * time: 4.596982955932617\n",
      "    31    -6.226121e+01     1.504186e-03\n",
      " * time: 4.716131925582886\n",
      "    32    -6.226142e+01     9.154296e-04\n",
      " * time: 4.829640865325928\n",
      "    33    -6.226155e+01     6.757049e-04\n",
      " * time: 4.94800591468811\n",
      "    34    -6.226161e+01     4.308063e-04\n",
      " * time: 5.0632219314575195\n",
      "    35    -6.226164e+01     3.150993e-04\n",
      " * time: 5.184412002563477\n",
      "    36    -6.226165e+01     2.297351e-04\n",
      " * time: 5.2987987995147705\n",
      "    37    -6.226166e+01     1.301829e-04\n",
      " * time: 5.420372009277344\n",
      "    38    -6.226166e+01     9.260135e-05\n",
      " * time: 5.534757852554321\n",
      "    39    -6.226166e+01     7.300561e-05\n",
      " * time: 5.657383918762207\n",
      "    40    -6.226166e+01     6.383525e-05\n",
      " * time: 5.7703938484191895\n",
      "    41    -6.226167e+01     5.832803e-05\n",
      " * time: 5.890331983566284\n",
      "    42    -6.226167e+01     3.630983e-05\n",
      " * time: 6.0016138553619385\n",
      "    43    -6.226167e+01     3.372603e-05\n",
      " * time: 6.121574878692627\n",
      "    44    -6.226167e+01     2.298009e-05\n",
      " * time: 6.234608888626099\n",
      "    45    -6.226167e+01     2.051515e-05\n",
      " * time: 6.355040788650513\n",
      "    46    -6.226167e+01     1.653327e-05\n",
      " * time: 6.467005014419556\n",
      "    47    -6.226167e+01     1.053164e-05\n",
      " * time: 6.5863938331604\n",
      "    48    -6.226167e+01     1.012554e-05\n",
      " * time: 6.69805383682251\n",
      "    49    -6.226167e+01     6.750534e-06\n",
      " * time: 6.816643953323364\n",
      "    50    -6.226167e+01     3.788306e-06\n",
      " * time: 6.926667928695679\n"
     ]
    }
   ],
   "cell_type": "code",
   "source": [
    "model = model_LDA(lattice, atoms)\n",
    "basis = PlaneWaveBasis(model, 5)\n",
    "\n",
    "# Find the ground state using direct minimisation (always using SCF is boring ...)\n",
    "scfres = direct_minimization(basis, tol=1e-5);"
   ],
   "metadata": {},
   "execution_count": 3
  },
  {
   "outputs": [
    {
     "output_type": "execute_result",
     "data": {
      "text/plain": "Energy breakdown:\n    Kinetic             25.7671072\n    AtomicLocal         -18.8557686\n    AtomicNonlocal      14.8522647\n    Ewald               -67.1831486\n    PspCorrection       -2.3569765\n    Hartree             4.8485376 \n    Xc                  -19.3336822\n\n    total               -62.261666455829\n"
     },
     "metadata": {},
     "execution_count": 4
    }
   ],
   "cell_type": "code",
   "source": [
    "scfres.energies"
   ],
   "metadata": {},
   "execution_count": 4
  }
 ],
 "nbformat_minor": 3,
 "metadata": {
  "language_info": {
   "file_extension": ".jl",
   "mimetype": "application/julia",
   "name": "julia",
   "version": "1.3.1"
  },
  "kernelspec": {
   "name": "julia-1.3",
   "display_name": "Julia 1.3.1",
   "language": "julia"
  }
 },
 "nbformat": 4
}
