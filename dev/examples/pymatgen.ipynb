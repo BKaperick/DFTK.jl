{
 "cells": [
  {
   "cell_type": "markdown",
   "source": [
    "# Creating supercells with pymatgen\n",
    "\n",
    "The [Pymatgen](https://pymatgen.org/) python library allows to setup\n",
    "solid-state calculations using a flexible set of classes as well as an API\n",
    "to an online data base of structures. Its `Structure` and `Lattice`\n",
    "objects are directly supported by the DFTK `load_atoms` and `load_lattice`\n",
    "functions, such that DFTK may be readily used to run calculation on systems\n",
    "defined in pymatgen. Using the `pymatgen_structure` function a conversion\n",
    "from DFTK to pymatgen structures is also possible. In the following we\n",
    "use this to create a silicon supercell and find its LDA ground state\n",
    "using direct minimisation."
   ],
   "metadata": {}
  },
  {
   "cell_type": "markdown",
   "source": [
    "First we setup the silicon lattice in DFTK."
   ],
   "metadata": {}
  },
  {
   "outputs": [],
   "cell_type": "code",
   "source": [
    "using DFTK\n",
    "\n",
    "a = 10.263141334305942  # Lattice constant in Bohr\n",
    "lattice = a / 2 .* [[0 1 1.]; [1 0 1.]; [1 1 0.]]\n",
    "Si = ElementPsp(:Si, psp=load_psp(\"hgh/lda/Si-q4\"))\n",
    "atoms = [Si => [ones(3)/8, -ones(3)/8]];"
   ],
   "metadata": {},
   "execution_count": 1
  },
  {
   "cell_type": "markdown",
   "source": [
    "Next we make a `[2, 2, 2]` supercell using pymatgen"
   ],
   "metadata": {}
  },
  {
   "outputs": [],
   "cell_type": "code",
   "source": [
    "pystruct = pymatgen_structure(lattice, atoms)\n",
    "pystruct.make_supercell([2, 2, 2])\n",
    "lattice = load_lattice(pystruct)\n",
    "atoms = [Si => [s.frac_coords for s in pystruct.sites]];"
   ],
   "metadata": {},
   "execution_count": 2
  },
  {
   "cell_type": "markdown",
   "source": [
    "Setup an LDA model and discretize using\n",
    "a single kpoint and a small `Ecut` of 5 Hartree."
   ],
   "metadata": {}
  },
  {
   "outputs": [
    {
     "output_type": "execute_result",
     "data": {
      "text/plain": "PlaneWaveBasis (Ecut=5.0, 1 kpoints)"
     },
     "metadata": {},
     "execution_count": 3
    }
   ],
   "cell_type": "code",
   "source": [
    "model = model_LDA(lattice, atoms)\n",
    "basis = PlaneWaveBasis(model, 5, kgrid=(1, 1, 1))"
   ],
   "metadata": {},
   "execution_count": 3
  },
  {
   "cell_type": "markdown",
   "source": [
    "Find the ground state using direct minimisation (always using SCF is boring ...)"
   ],
   "metadata": {}
  },
  {
   "outputs": [
    {
     "name": "stdout",
     "output_type": "stream",
     "text": [
      "Iter     Function value   Gradient norm \n",
      "     0     1.126594e+02     1.811673e+00\n",
      " * time: 0.2995798587799072\n",
      "     1     1.045863e+01     9.311585e-01\n",
      " * time: 1.8902819156646729\n",
      "     2    -1.173817e+01     1.082801e+00\n",
      " * time: 2.432687997817993\n",
      "     3    -3.421427e+01     7.858121e-01\n",
      " * time: 3.242224931716919\n",
      "     4    -4.760661e+01     5.069613e-01\n",
      " * time: 4.0558178424835205\n",
      "     5    -5.689335e+01     2.151808e-01\n",
      " * time: 4.8524558544158936\n",
      "     6    -5.980048e+01     1.368355e-01\n",
      " * time: 5.403043985366821\n",
      "     7    -6.091857e+01     4.905945e-02\n",
      " * time: 5.941468954086304\n",
      "     8    -6.133020e+01     7.647513e-02\n",
      " * time: 6.479715824127197\n",
      "     9    -6.162721e+01     3.804444e-02\n",
      " * time: 7.024501800537109\n",
      "    10    -6.183860e+01     3.226668e-02\n",
      " * time: 7.562685012817383\n",
      "    11    -6.199964e+01     1.976373e-02\n",
      " * time: 8.100736856460571\n",
      "    12    -6.206091e+01     1.860810e-02\n",
      " * time: 8.644771814346313\n",
      "    13    -6.212270e+01     1.500795e-02\n",
      " * time: 9.183069944381714\n",
      "    14    -6.215264e+01     1.211897e-02\n",
      " * time: 9.735083818435669\n",
      "    15    -6.218009e+01     1.155307e-02\n",
      " * time: 10.279456853866577\n",
      "    16    -6.219736e+01     1.266456e-02\n",
      " * time: 10.81760287284851\n",
      "    17    -6.220867e+01     1.013050e-02\n",
      " * time: 11.35611081123352\n",
      "    18    -6.221800e+01     8.509366e-03\n",
      " * time: 11.895716905593872\n",
      "    19    -6.222437e+01     9.013370e-03\n",
      " * time: 12.44101595878601\n",
      "    20    -6.222981e+01     8.098819e-03\n",
      " * time: 12.979451894760132\n",
      "    21    -6.223509e+01     7.937997e-03\n",
      " * time: 13.518423795700073\n",
      "    22    -6.224054e+01     6.612990e-03\n",
      " * time: 14.06311583518982\n",
      "    23    -6.224620e+01     6.656815e-03\n",
      " * time: 14.601475954055786\n",
      "    24    -6.225158e+01     4.943650e-03\n",
      " * time: 15.140225887298584\n",
      "    25    -6.225558e+01     3.477901e-03\n",
      " * time: 15.685308933258057\n",
      "    26    -6.225831e+01     2.469000e-03\n",
      " * time: 16.223541975021362\n",
      "    27    -6.225979e+01     1.772942e-03\n",
      " * time: 16.763189792633057\n",
      "    28    -6.226053e+01     1.368730e-03\n",
      " * time: 17.308012008666992\n",
      "    29    -6.226092e+01     1.191292e-03\n",
      " * time: 17.846853017807007\n",
      "    30    -6.226115e+01     1.382131e-03\n",
      " * time: 18.38640785217285\n",
      "    31    -6.226132e+01     1.006514e-03\n",
      " * time: 18.930662870407104\n",
      "    32    -6.226144e+01     8.128556e-04\n",
      " * time: 19.469063997268677\n",
      "    33    -6.226153e+01     5.817191e-04\n",
      " * time: 20.007807970046997\n",
      "    34    -6.226159e+01     4.514291e-04\n",
      " * time: 20.552297830581665\n",
      "    35    -6.226163e+01     2.972663e-04\n",
      " * time: 21.09018087387085\n",
      "    36    -6.226165e+01     2.503604e-04\n",
      " * time: 21.6288058757782\n",
      "    37    -6.226165e+01     2.520240e-04\n",
      " * time: 22.17309880256653\n",
      "    38    -6.226166e+01     1.612164e-04\n",
      " * time: 22.7115638256073\n",
      "    39    -6.226166e+01     9.435231e-05\n",
      " * time: 23.24989080429077\n",
      "    40    -6.226166e+01     8.124941e-05\n",
      " * time: 23.79370379447937\n",
      "    41    -6.226167e+01     6.453584e-05\n",
      " * time: 24.331800937652588\n",
      "    42    -6.226167e+01     4.832255e-05\n",
      " * time: 24.869302988052368\n",
      "    43    -6.226167e+01     4.695494e-05\n",
      " * time: 25.41301679611206\n",
      "    44    -6.226167e+01     3.233952e-05\n",
      " * time: 25.950793981552124\n",
      "    45    -6.226167e+01     3.533364e-05\n",
      " * time: 26.488582849502563\n",
      "    46    -6.226167e+01     2.702002e-05\n",
      " * time: 27.032160997390747\n",
      "    47    -6.226167e+01     1.712541e-05\n",
      " * time: 27.57072687149048\n",
      "    48    -6.226167e+01     9.231492e-06\n",
      " * time: 28.108696937561035\n",
      "    49    -6.226167e+01     6.862368e-06\n",
      " * time: 28.64692783355713\n",
      "    50    -6.226167e+01     5.184480e-06\n",
      " * time: 29.190642833709717\n",
      "    51    -6.226167e+01     4.384268e-06\n",
      " * time: 29.72835087776184\n",
      "    52    -6.226167e+01     3.317374e-06\n",
      " * time: 30.26667594909668\n"
     ]
    }
   ],
   "cell_type": "code",
   "source": [
    "scfres = direct_minimization(basis, tol=1e-5);"
   ],
   "metadata": {},
   "execution_count": 4
  },
  {
   "outputs": [
    {
     "output_type": "execute_result",
     "data": {
      "text/plain": "Energy breakdown:\n    Kinetic             25.7671073\n    AtomicLocal         -18.8557703\n    AtomicNonlocal      14.8522660\n    Ewald               -67.1831486\n    PspCorrection       -2.3569765\n    Hartree             4.8485380 \n    Xc                  -19.3336823\n\n    total               -62.261666459744\n"
     },
     "metadata": {},
     "execution_count": 5
    }
   ],
   "cell_type": "code",
   "source": [
    "scfres.energies"
   ],
   "metadata": {},
   "execution_count": 5
  }
 ],
 "nbformat_minor": 3,
 "metadata": {
  "language_info": {
   "file_extension": ".jl",
   "mimetype": "application/julia",
   "name": "julia",
   "version": "1.5.3"
  },
  "kernelspec": {
   "name": "julia-1.5",
   "display_name": "Julia 1.5.3",
   "language": "julia"
  }
 },
 "nbformat": 4
}
