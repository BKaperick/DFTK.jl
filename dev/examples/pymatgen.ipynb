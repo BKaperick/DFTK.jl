{
 "cells": [
  {
   "cell_type": "markdown",
   "source": [
    "# Creating supercells with pymatgen\n",
    "\n",
    "The [Pymatgen](https://pymatgen.org/) python library allows to setup\n",
    "solid-state calculations using a flexible set of classes as well as an API\n",
    "to an online data base of structures. Its `Structure` and `Lattice`\n",
    "objects are directly supported by the DFTK `load_atoms` and `load_lattice`\n",
    "functions, such that DFTK may be readily used to run calculation on systems\n",
    "defined in pymatgen. Using the `pymatgen_structure` function a conversion\n",
    "from DFTK to pymatgen structures is also possible. In the following we\n",
    "use this to create a silicon supercell and find its LDA ground state\n",
    "using direct minimisation."
   ],
   "metadata": {}
  },
  {
   "cell_type": "markdown",
   "source": [
    "First we setup the silicon lattice in DFTK."
   ],
   "metadata": {}
  },
  {
   "outputs": [],
   "cell_type": "code",
   "source": [
    "using DFTK\n",
    "\n",
    "a = 10.263141334305942  # Lattice constant in Bohr\n",
    "lattice = a / 2 .* [[0 1 1.]; [1 0 1.]; [1 1 0.]]\n",
    "Si = ElementPsp(:Si, psp=load_psp(\"hgh/lda/Si-q4\"))\n",
    "atoms = [Si => [ones(3)/8, -ones(3)/8]];"
   ],
   "metadata": {},
   "execution_count": 1
  },
  {
   "cell_type": "markdown",
   "source": [
    "Next we make a `[2, 2, 2]` supercell using pymatgen"
   ],
   "metadata": {}
  },
  {
   "outputs": [],
   "cell_type": "code",
   "source": [
    "pystruct = pymatgen_structure(lattice, atoms)\n",
    "pystruct.make_supercell([2, 2, 2])\n",
    "lattice = load_lattice(pystruct)\n",
    "atoms = [Si => [s.frac_coords for s in pystruct.sites]];"
   ],
   "metadata": {},
   "execution_count": 2
  },
  {
   "cell_type": "markdown",
   "source": [
    "Setup an LDA model and discretize using\n",
    "a single kpoint and a small `Ecut` of 5 Hartree."
   ],
   "metadata": {}
  },
  {
   "outputs": [
    {
     "output_type": "execute_result",
     "data": {
      "text/plain": "PlaneWaveBasis (Ecut=5.0, 1 kpoints)"
     },
     "metadata": {},
     "execution_count": 3
    }
   ],
   "cell_type": "code",
   "source": [
    "model = model_LDA(lattice, atoms)\n",
    "basis = PlaneWaveBasis(model, 5, kgrid=(1, 1, 1))"
   ],
   "metadata": {},
   "execution_count": 3
  },
  {
   "cell_type": "markdown",
   "source": [
    "Find the ground state using direct minimisation (always using SCF is boring ...)"
   ],
   "metadata": {}
  },
  {
   "outputs": [
    {
     "name": "stdout",
     "output_type": "stream",
     "text": [
      "Iter     Function value   Gradient norm \n",
      "     0     1.122201e+02     1.679470e+00\n",
      " * time: 0.06345605850219727\n",
      "     1     1.097129e+01     8.766797e-01\n",
      " * time: 1.3056368827819824\n",
      "     2    -1.238389e+01     1.012615e+00\n",
      " * time: 1.3910250663757324\n",
      "     3    -3.411631e+01     7.552049e-01\n",
      " * time: 1.4758470058441162\n",
      "     4    -4.781470e+01     5.525644e-01\n",
      " * time: 1.5720560550689697\n",
      "     5    -5.702902e+01     2.367172e-01\n",
      " * time: 1.6449220180511475\n",
      "     6    -5.988025e+01     1.260197e-01\n",
      " * time: 1.701570987701416\n",
      "     7    -6.096129e+01     6.351304e-02\n",
      " * time: 1.7700200080871582\n",
      "     8    -6.137197e+01     7.379804e-02\n",
      " * time: 1.8289048671722412\n",
      "     9    -6.165413e+01     3.962129e-02\n",
      " * time: 1.8856689929962158\n",
      "    10    -6.185988e+01     2.616946e-02\n",
      " * time: 1.942547082901001\n",
      "    11    -6.201047e+01     2.113210e-02\n",
      " * time: 2.004307985305786\n",
      "    12    -6.207230e+01     1.549582e-02\n",
      " * time: 2.0603909492492676\n",
      "    13    -6.213647e+01     1.280681e-02\n",
      " * time: 2.1170458793640137\n",
      "    14    -6.216516e+01     9.891638e-03\n",
      " * time: 2.1792869567871094\n",
      "    15    -6.218899e+01     1.136940e-02\n",
      " * time: 2.2367019653320312\n",
      "    16    -6.219840e+01     8.141186e-03\n",
      " * time: 2.2942960262298584\n",
      "    17    -6.220506e+01     5.531917e-03\n",
      " * time: 2.3566160202026367\n",
      "    18    -6.220948e+01     6.160062e-03\n",
      " * time: 2.412482976913452\n",
      "    19    -6.221235e+01     7.098488e-03\n",
      " * time: 2.4683010578155518\n",
      "    20    -6.221543e+01     7.441811e-03\n",
      " * time: 2.5249059200286865\n",
      "    21    -6.221880e+01     8.016668e-03\n",
      " * time: 2.5889649391174316\n",
      "    22    -6.222318e+01     7.916054e-03\n",
      " * time: 2.648360013961792\n",
      "    23    -6.222865e+01     7.137699e-03\n",
      " * time: 2.715463876724243\n",
      "    24    -6.223538e+01     7.061380e-03\n",
      " * time: 2.785407066345215\n",
      "    25    -6.224296e+01     5.843482e-03\n",
      " * time: 2.8419718742370605\n",
      "    26    -6.224886e+01     4.791944e-03\n",
      " * time: 2.89890193939209\n",
      "    27    -6.225314e+01     3.769020e-03\n",
      " * time: 2.956176996231079\n",
      "    28    -6.225597e+01     3.636424e-03\n",
      " * time: 3.0185980796813965\n",
      "    29    -6.225786e+01     2.604457e-03\n",
      " * time: 3.0760250091552734\n",
      "    30    -6.225921e+01     2.331139e-03\n",
      " * time: 3.1335020065307617\n",
      "    31    -6.226014e+01     1.616513e-03\n",
      " * time: 3.196721076965332\n",
      "    32    -6.226078e+01     1.411129e-03\n",
      " * time: 3.254251003265381\n",
      "    33    -6.226119e+01     1.138042e-03\n",
      " * time: 3.3104240894317627\n",
      "    34    -6.226142e+01     8.960428e-04\n",
      " * time: 3.372938871383667\n",
      "    35    -6.226155e+01     6.135578e-04\n",
      " * time: 3.4300918579101562\n",
      "    36    -6.226161e+01     4.348453e-04\n",
      " * time: 3.4861509799957275\n",
      "    37    -6.226163e+01     2.920835e-04\n",
      " * time: 3.541890859603882\n",
      "    38    -6.226165e+01     1.938513e-04\n",
      " * time: 3.602972984313965\n",
      "    39    -6.226166e+01     1.540198e-04\n",
      " * time: 3.659118890762329\n",
      "    40    -6.226166e+01     1.197906e-04\n",
      " * time: 3.71606707572937\n",
      "    41    -6.226166e+01     1.068650e-04\n",
      " * time: 3.785032033920288\n",
      "    42    -6.226166e+01     9.597713e-05\n",
      " * time: 3.8417470455169678\n",
      "    43    -6.226166e+01     7.207970e-05\n",
      " * time: 3.898056983947754\n",
      "    44    -6.226167e+01     5.470206e-05\n",
      " * time: 3.954787015914917\n",
      "    45    -6.226167e+01     4.964401e-05\n",
      " * time: 4.015862941741943\n",
      "    46    -6.226167e+01     5.229664e-05\n",
      " * time: 4.071879863739014\n",
      "    47    -6.226167e+01     2.743915e-05\n",
      " * time: 4.129759073257446\n",
      "    48    -6.226167e+01     1.667371e-05\n",
      " * time: 4.191582918167114\n",
      "    49    -6.226167e+01     1.045192e-05\n",
      " * time: 4.248163938522339\n",
      "    50    -6.226167e+01     1.000041e-05\n",
      " * time: 4.304081916809082\n",
      "    51    -6.226167e+01     8.439974e-06\n",
      " * time: 4.365603923797607\n",
      "    52    -6.226167e+01     6.781657e-06\n",
      " * time: 4.42212986946106\n",
      "    53    -6.226167e+01     4.798080e-06\n",
      " * time: 4.479453086853027\n"
     ]
    }
   ],
   "cell_type": "code",
   "source": [
    "scfres = direct_minimization(basis, tol=1e-5);"
   ],
   "metadata": {},
   "execution_count": 4
  },
  {
   "outputs": [
    {
     "output_type": "execute_result",
     "data": {
      "text/plain": "Energy breakdown:\n    Kinetic             25.7671094\n    AtomicLocal         -18.8557740\n    AtomicNonlocal      14.8522661\n    Ewald               -67.1831486\n    PspCorrection       -2.3569765\n    Hartree             4.8485406 \n    Xc                  -19.3336834\n\n    total               -62.261666451240\n"
     },
     "metadata": {},
     "execution_count": 5
    }
   ],
   "cell_type": "code",
   "source": [
    "scfres.energies"
   ],
   "metadata": {},
   "execution_count": 5
  }
 ],
 "nbformat_minor": 3,
 "metadata": {
  "language_info": {
   "file_extension": ".jl",
   "mimetype": "application/julia",
   "name": "julia",
   "version": "1.5.3"
  },
  "kernelspec": {
   "name": "julia-1.5",
   "display_name": "Julia 1.5.3",
   "language": "julia"
  }
 },
 "nbformat": 4
}
