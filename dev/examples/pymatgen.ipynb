{
 "cells": [
  {
   "cell_type": "markdown",
   "source": [
    "# Creating supercells with pymatgen\n",
    "\n",
    "The [Pymatgen](https://pymatgen.org/) python library allows to setup\n",
    "solid-state calculations using a flexible set of classes as well as an API\n",
    "to an online data base of structures. Its `Structure` and `Lattice`\n",
    "objects are directly supported by the DFTK `load_atoms` and `load_lattice`\n",
    "functions, such that DFTK may be readily used to run calculation on systems\n",
    "defined in pymatgen. Using the `pymatgen_structure` function a conversion\n",
    "from DFTK to pymatgen structures is also possible. In the following we\n",
    "use this to create a silicon supercell and find its LDA ground state\n",
    "using direct minimisation."
   ],
   "metadata": {}
  },
  {
   "cell_type": "markdown",
   "source": [
    "First we setup the silicon lattice in DFTK."
   ],
   "metadata": {}
  },
  {
   "outputs": [],
   "cell_type": "code",
   "source": [
    "using DFTK\n",
    "\n",
    "a = 10.263141334305942  # Lattice constant in Bohr\n",
    "lattice = a / 2 .* [[0 1 1.]; [1 0 1.]; [1 1 0.]]\n",
    "Si = ElementPsp(:Si, psp=load_psp(\"hgh/lda/Si-q4\"))\n",
    "atoms = [Si => [ones(3)/8, -ones(3)/8]];"
   ],
   "metadata": {},
   "execution_count": 1
  },
  {
   "cell_type": "markdown",
   "source": [
    "Next we make a `[2, 2, 2]` supercell using pymatgen"
   ],
   "metadata": {}
  },
  {
   "outputs": [],
   "cell_type": "code",
   "source": [
    "pystruct = pymatgen_structure(lattice, atoms)\n",
    "pystruct.make_supercell([2, 2, 2])\n",
    "lattice = load_lattice(pystruct)\n",
    "atoms = [Si => [s.frac_coords for s in pystruct.sites]];"
   ],
   "metadata": {},
   "execution_count": 2
  },
  {
   "cell_type": "markdown",
   "source": [
    "Setup an LDA model and discretize using\n",
    "a single kpoint and a small `Ecut` of 5 Hartree.\n",
    "Notice that `PlaneWaveBasis` defaults to just using the ``Γ``-point\n",
    "if no ``k``-point options are provided."
   ],
   "metadata": {}
  },
  {
   "outputs": [
    {
     "output_type": "execute_result",
     "data": {
      "text/plain": "PlaneWaveBasis (Ecut=5.0, 1 kpoints)"
     },
     "metadata": {},
     "execution_count": 3
    }
   ],
   "cell_type": "code",
   "source": [
    "model = model_LDA(lattice, atoms)\n",
    "basis = PlaneWaveBasis(model, 5)"
   ],
   "metadata": {},
   "execution_count": 3
  },
  {
   "cell_type": "markdown",
   "source": [
    "Find the ground state using direct minimisation (always using SCF is boring ...)"
   ],
   "metadata": {}
  },
  {
   "outputs": [
    {
     "name": "stdout",
     "output_type": "stream",
     "text": [
      "Iter     Function value   Gradient norm \n",
      "     0     1.121487e+02     1.504808e+00\n",
      " * time: 0.08546805381774902\n",
      "     1     1.084284e+01     9.081558e-01\n",
      " * time: 0.8925919532775879\n",
      "     2    -1.089684e+01     1.094589e+00\n",
      " * time: 1.001072883605957\n",
      "     3    -3.368320e+01     8.076531e-01\n",
      " * time: 1.1591110229492188\n",
      "     4    -4.706680e+01     6.045808e-01\n",
      " * time: 1.304063081741333\n",
      "     5    -5.676613e+01     2.274354e-01\n",
      " * time: 1.4467508792877197\n",
      "     6    -5.978214e+01     1.281292e-01\n",
      " * time: 1.5507218837738037\n",
      "     7    -6.090392e+01     5.066956e-02\n",
      " * time: 1.6664729118347168\n",
      "     8    -6.131397e+01     7.005384e-02\n",
      " * time: 1.7914528846740723\n",
      "     9    -6.160558e+01     3.561403e-02\n",
      " * time: 1.896190881729126\n",
      "    10    -6.182144e+01     3.145040e-02\n",
      " * time: 2.007904052734375\n",
      "    11    -6.198791e+01     2.031175e-02\n",
      " * time: 2.118726968765259\n",
      "    12    -6.205370e+01     1.635385e-02\n",
      " * time: 2.222411870956421\n",
      "    13    -6.211798e+01     1.361255e-02\n",
      " * time: 2.3332998752593994\n",
      "    14    -6.214590e+01     1.460128e-02\n",
      " * time: 2.437412977218628\n",
      "    15    -6.217133e+01     8.978223e-03\n",
      " * time: 2.547607898712158\n",
      "    16    -6.218511e+01     8.644655e-03\n",
      " * time: 2.6591389179229736\n",
      "    17    -6.219393e+01     5.853717e-03\n",
      " * time: 2.7633450031280518\n",
      "    18    -6.220053e+01     5.522759e-03\n",
      " * time: 2.874769926071167\n",
      "    19    -6.220528e+01     4.849356e-03\n",
      " * time: 2.9796109199523926\n",
      "    20    -6.220925e+01     5.582717e-03\n",
      " * time: 3.0913898944854736\n",
      "    21    -6.221277e+01     4.928642e-03\n",
      " * time: 3.202768087387085\n",
      "    22    -6.221611e+01     5.361221e-03\n",
      " * time: 3.308743953704834\n",
      "    23    -6.221951e+01     5.969609e-03\n",
      " * time: 3.424314022064209\n",
      "    24    -6.222304e+01     7.149656e-03\n",
      " * time: 3.5294859409332275\n",
      "    25    -6.222716e+01     8.298510e-03\n",
      " * time: 3.643864870071411\n",
      "    26    -6.223222e+01     6.843020e-03\n",
      " * time: 3.758091926574707\n",
      "    27    -6.223801e+01     5.548975e-03\n",
      " * time: 3.8620479106903076\n",
      "    28    -6.224471e+01     5.829990e-03\n",
      " * time: 3.9734880924224854\n",
      "    29    -6.225086e+01     4.667092e-03\n",
      " * time: 4.083483934402466\n",
      "    30    -6.225490e+01     4.131830e-03\n",
      " * time: 4.186316013336182\n",
      "    31    -6.225775e+01     3.019720e-03\n",
      " * time: 4.2965309619903564\n",
      "    32    -6.225937e+01     2.429086e-03\n",
      " * time: 4.401201009750366\n",
      "    33    -6.226035e+01     1.678413e-03\n",
      " * time: 4.511904001235962\n",
      "    34    -6.226091e+01     1.506592e-03\n",
      " * time: 4.6226770877838135\n",
      "    35    -6.226123e+01     9.979027e-04\n",
      " * time: 4.725624084472656\n",
      "    36    -6.226141e+01     7.029681e-04\n",
      " * time: 4.8484320640563965\n",
      "    37    -6.226151e+01     5.216793e-04\n",
      " * time: 4.952377080917358\n",
      "    38    -6.226156e+01     4.367663e-04\n",
      " * time: 5.062480926513672\n",
      "    39    -6.226160e+01     3.473108e-04\n",
      " * time: 5.17123007774353\n",
      "    40    -6.226162e+01     3.127613e-04\n",
      " * time: 5.274420976638794\n",
      "    41    -6.226164e+01     2.746439e-04\n",
      " * time: 5.386554956436157\n",
      "    42    -6.226165e+01     2.144779e-04\n",
      " * time: 5.507245063781738\n",
      "    43    -6.226166e+01     1.797749e-04\n",
      " * time: 5.622463941574097\n",
      "    44    -6.226166e+01     1.045382e-04\n",
      " * time: 5.733604907989502\n",
      "    45    -6.226166e+01     7.209644e-05\n",
      " * time: 5.8369300365448\n",
      "    46    -6.226167e+01     5.941232e-05\n",
      " * time: 5.948272943496704\n",
      "    47    -6.226167e+01     4.368844e-05\n",
      " * time: 6.051604986190796\n",
      "    48    -6.226167e+01     3.734367e-05\n",
      " * time: 6.162429094314575\n",
      "    49    -6.226167e+01     2.775762e-05\n",
      " * time: 6.2726099491119385\n",
      "    50    -6.226167e+01     1.929845e-05\n",
      " * time: 6.376256942749023\n",
      "    51    -6.226167e+01     1.724734e-05\n",
      " * time: 6.487645864486694\n",
      "    52    -6.226167e+01     1.525832e-05\n",
      " * time: 6.591222047805786\n",
      "    53    -6.226167e+01     1.235953e-05\n",
      " * time: 6.701793909072876\n",
      "    54    -6.226167e+01     1.165469e-05\n",
      " * time: 6.811053991317749\n",
      "    55    -6.226167e+01     7.857423e-06\n",
      " * time: 6.914649963378906\n",
      "    56    -6.226167e+01     5.481724e-06\n",
      " * time: 7.024676084518433\n",
      "    57    -6.226167e+01     4.138866e-06\n",
      " * time: 7.133547067642212\n",
      "    58    -6.226167e+01     2.621566e-06\n",
      " * time: 7.235562086105347\n"
     ]
    }
   ],
   "cell_type": "code",
   "source": [
    "scfres = direct_minimization(basis, tol=1e-5);"
   ],
   "metadata": {},
   "execution_count": 4
  },
  {
   "outputs": [
    {
     "output_type": "execute_result",
     "data": {
      "text/plain": "Energy breakdown:\n    Kinetic             25.7671070\n    AtomicLocal         -18.8557672\n    AtomicNonlocal      14.8522634\n    Ewald               -67.1831486\n    PspCorrection       -2.3569765\n    Hartree             4.8485379 \n    Xc                  -19.3336824\n\n    total               -62.261666460804\n"
     },
     "metadata": {},
     "execution_count": 5
    }
   ],
   "cell_type": "code",
   "source": [
    "scfres.energies"
   ],
   "metadata": {},
   "execution_count": 5
  }
 ],
 "nbformat_minor": 3,
 "metadata": {
  "language_info": {
   "file_extension": ".jl",
   "mimetype": "application/julia",
   "name": "julia",
   "version": "1.3.1"
  },
  "kernelspec": {
   "name": "julia-1.3",
   "display_name": "Julia 1.3.1",
   "language": "julia"
  }
 },
 "nbformat": 4
}
