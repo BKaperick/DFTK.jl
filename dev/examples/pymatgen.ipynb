{
 "cells": [
  {
   "cell_type": "markdown",
   "source": [
    "# Creating supercells with pymatgen\n",
    "\n",
    "The [Pymatgen](https://pymatgen.org/) python library allows to setup\n",
    "solid-state calculations using a flexible set of classes as well as an API\n",
    "to an online data base of structures. Its `Structure` and `Lattice`\n",
    "objects are directly supported by the DFTK `load_atoms` and `load_lattice`\n",
    "functions, such that DFTK may be readily used to run calculation on systems\n",
    "defined in pymatgen. Using the `pymatgen_structure` function a conversion\n",
    "from DFTK to pymatgen structures is also possible. In the following we\n",
    "use this to create a silicon supercell and find its LDA ground state\n",
    "using direct minimisation."
   ],
   "metadata": {}
  },
  {
   "cell_type": "markdown",
   "source": [
    "First we setup the silicon lattice in DFTK."
   ],
   "metadata": {}
  },
  {
   "outputs": [],
   "cell_type": "code",
   "source": [
    "using DFTK\n",
    "\n",
    "a = 10.263141334305942  # Lattice constant in Bohr\n",
    "lattice = a / 2 .* [[0 1 1.]; [1 0 1.]; [1 1 0.]]\n",
    "Si = ElementPsp(:Si, psp=load_psp(\"hgh/lda/Si-q4\"))\n",
    "atoms = [Si => [ones(3)/8, -ones(3)/8]];"
   ],
   "metadata": {},
   "execution_count": 1
  },
  {
   "cell_type": "markdown",
   "source": [
    "Next we make a `[2, 2, 2]` supercell using pymatgen"
   ],
   "metadata": {}
  },
  {
   "outputs": [],
   "cell_type": "code",
   "source": [
    "pystruct = pymatgen_structure(lattice, atoms)\n",
    "pystruct.make_supercell([2, 2, 2])\n",
    "lattice = load_lattice(pystruct)\n",
    "atoms = [Si => [s.frac_coords for s in pystruct.sites]];"
   ],
   "metadata": {},
   "execution_count": 2
  },
  {
   "cell_type": "markdown",
   "source": [
    "Setup an LDA model and discretize using\n",
    "a single kpoint and a small `Ecut` of 5 Hartree."
   ],
   "metadata": {}
  },
  {
   "outputs": [
    {
     "output_type": "execute_result",
     "data": {
      "text/plain": "PlaneWaveBasis (Ecut=5.0, 1 kpoints)"
     },
     "metadata": {},
     "execution_count": 3
    }
   ],
   "cell_type": "code",
   "source": [
    "model = model_LDA(lattice, atoms)\n",
    "basis = PlaneWaveBasis(model, 5, kgrid=(1, 1, 1))"
   ],
   "metadata": {},
   "execution_count": 3
  },
  {
   "cell_type": "markdown",
   "source": [
    "Find the ground state using direct minimisation (always using SCF is boring ...)"
   ],
   "metadata": {}
  },
  {
   "outputs": [
    {
     "name": "stdout",
     "output_type": "stream",
     "text": [
      "Iter     Function value   Gradient norm \n",
      "     0     1.114424e+02     1.649815e+00\n",
      " * time: 0.34057092666625977\n",
      "     1     1.067579e+01     9.148598e-01\n",
      " * time: 2.1680049896240234\n",
      "     2    -1.197023e+01     9.468281e-01\n",
      " * time: 2.8000669479370117\n",
      "     3    -3.372416e+01     7.446659e-01\n",
      " * time: 3.735940933227539\n",
      "     4    -4.726258e+01     5.578375e-01\n",
      " * time: 4.680046081542969\n",
      "     5    -5.685413e+01     2.219295e-01\n",
      " * time: 5.6070921421051025\n",
      "     6    -5.982652e+01     1.656145e-01\n",
      " * time: 6.234701156616211\n",
      "     7    -6.093817e+01     4.941529e-02\n",
      " * time: 6.864378929138184\n",
      "     8    -6.135277e+01     7.924769e-02\n",
      " * time: 7.503515005111694\n",
      "     9    -6.162512e+01     3.486119e-02\n",
      " * time: 8.136078119277954\n",
      "    10    -6.184081e+01     2.457507e-02\n",
      " * time: 8.767789125442505\n",
      "    11    -6.200968e+01     2.091493e-02\n",
      " * time: 9.38324499130249\n",
      "    12    -6.207396e+01     1.811946e-02\n",
      " * time: 10.015526056289673\n",
      "    13    -6.213991e+01     1.438266e-02\n",
      " * time: 10.641155004501343\n",
      "    14    -6.216755e+01     1.440017e-02\n",
      " * time: 11.26741099357605\n",
      "    15    -6.219153e+01     1.174355e-02\n",
      " * time: 11.895489931106567\n",
      "    16    -6.220421e+01     9.732315e-03\n",
      " * time: 12.528582096099854\n",
      "    17    -6.221348e+01     8.925183e-03\n",
      " * time: 13.15257215499878\n",
      "    18    -6.222171e+01     6.376739e-03\n",
      " * time: 13.773811101913452\n",
      "    19    -6.222905e+01     5.504107e-03\n",
      " * time: 14.402425050735474\n",
      "    20    -6.223616e+01     5.927651e-03\n",
      " * time: 15.026209115982056\n",
      "    21    -6.224299e+01     6.741240e-03\n",
      " * time: 15.649410963058472\n",
      "    22    -6.224926e+01     5.847390e-03\n",
      " * time: 16.27628993988037\n",
      "    23    -6.225431e+01     4.082241e-03\n",
      " * time: 16.914767026901245\n",
      "    24    -6.225757e+01     3.390323e-03\n",
      " * time: 17.547343015670776\n",
      "    25    -6.225930e+01     2.405686e-03\n",
      " * time: 18.182286024093628\n",
      "    26    -6.226024e+01     1.859629e-03\n",
      " * time: 18.80807614326477\n",
      "    27    -6.226074e+01     1.083902e-03\n",
      " * time: 19.4422709941864\n",
      "    28    -6.226102e+01     1.063100e-03\n",
      " * time: 20.068994998931885\n",
      "    29    -6.226121e+01     1.073329e-03\n",
      " * time: 20.69709300994873\n",
      "    30    -6.226136e+01     8.256028e-04\n",
      " * time: 21.32756805419922\n",
      "    31    -6.226147e+01     7.022763e-04\n",
      " * time: 21.957957983016968\n",
      "    32    -6.226155e+01     6.207736e-04\n",
      " * time: 22.621088981628418\n",
      "    33    -6.226160e+01     5.241205e-04\n",
      " * time: 23.278144121170044\n",
      "    34    -6.226163e+01     3.762847e-04\n",
      " * time: 23.93700098991394\n",
      "    35    -6.226165e+01     2.588396e-04\n",
      " * time: 24.57727313041687\n",
      "    36    -6.226166e+01     1.407190e-04\n",
      " * time: 25.209413051605225\n",
      "    37    -6.226166e+01     1.002659e-04\n",
      " * time: 25.84120202064514\n",
      "    38    -6.226166e+01     8.396963e-05\n",
      " * time: 26.47443413734436\n",
      "    39    -6.226167e+01     6.295544e-05\n",
      " * time: 27.122174978256226\n",
      "    40    -6.226167e+01     4.927769e-05\n",
      " * time: 27.754390954971313\n",
      "    41    -6.226167e+01     4.295413e-05\n",
      " * time: 28.38585901260376\n",
      "    42    -6.226167e+01     3.211199e-05\n",
      " * time: 29.016857147216797\n",
      "    43    -6.226167e+01     2.610798e-05\n",
      " * time: 29.655713081359863\n",
      "    44    -6.226167e+01     1.981263e-05\n",
      " * time: 30.302814960479736\n",
      "    45    -6.226167e+01     1.690816e-05\n",
      " * time: 30.952050924301147\n",
      "    46    -6.226167e+01     1.146695e-05\n",
      " * time: 31.596532106399536\n",
      "    47    -6.226167e+01     6.601983e-06\n",
      " * time: 32.22320008277893\n",
      "    48    -6.226167e+01     4.732738e-06\n",
      " * time: 32.8500030040741\n",
      "    49    -6.226167e+01     4.266601e-06\n",
      " * time: 33.4801721572876\n"
     ]
    }
   ],
   "cell_type": "code",
   "source": [
    "scfres = direct_minimization(basis, tol=1e-5);"
   ],
   "metadata": {},
   "execution_count": 4
  },
  {
   "outputs": [
    {
     "output_type": "execute_result",
     "data": {
      "text/plain": "Energy breakdown:\n    Kinetic             25.7671062\n    AtomicLocal         -18.8557688\n    AtomicNonlocal      14.8522664\n    Ewald               -67.1831486\n    PspCorrection       -2.3569765\n    Hartree             4.8485367 \n    Xc                  -19.3336818\n\n    total               -62.261666458538\n"
     },
     "metadata": {},
     "execution_count": 5
    }
   ],
   "cell_type": "code",
   "source": [
    "scfres.energies"
   ],
   "metadata": {},
   "execution_count": 5
  }
 ],
 "nbformat_minor": 3,
 "metadata": {
  "language_info": {
   "file_extension": ".jl",
   "mimetype": "application/julia",
   "name": "julia",
   "version": "1.5.3"
  },
  "kernelspec": {
   "name": "julia-1.5",
   "display_name": "Julia 1.5.3",
   "language": "julia"
  }
 },
 "nbformat": 4
}
