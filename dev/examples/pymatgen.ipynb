{
 "cells": [
  {
   "cell_type": "markdown",
   "source": [
    "# Creating supercells with pymatgen\n",
    "\n",
    "The [Pymatgen](https://pymatgen.org/) python library allows to setup\n",
    "solid-state calculations using a flexible set of classes as well as an API\n",
    "to an online data base of structures. Its `Structure` and `Lattice`\n",
    "objects are directly supported by the DFTK `load_atoms` and `load_lattice`\n",
    "functions, such that DFTK may be readily used to run calculation on systems\n",
    "defined in pymatgen. Using the `pymatgen_structure` function a conversion\n",
    "from DFTK to pymatgen structures is also possible. In the following we\n",
    "use this to create a silicon supercell and find its LDA ground state\n",
    "using direct minimisation."
   ],
   "metadata": {}
  },
  {
   "cell_type": "markdown",
   "source": [
    "First we setup the silicon lattice in DFTK."
   ],
   "metadata": {}
  },
  {
   "outputs": [],
   "cell_type": "code",
   "source": [
    "using DFTK\n",
    "\n",
    "a = 10.263141334305942  # Lattice constant in Bohr\n",
    "lattice = a / 2 .* [[0 1 1.]; [1 0 1.]; [1 1 0.]]\n",
    "Si = ElementPsp(:Si, psp=load_psp(\"hgh/lda/Si-q4\"))\n",
    "atoms = [Si => [ones(3)/8, -ones(3)/8]];"
   ],
   "metadata": {},
   "execution_count": 1
  },
  {
   "cell_type": "markdown",
   "source": [
    "Next we make a `[2, 2, 2]` supercell using pymatgen"
   ],
   "metadata": {}
  },
  {
   "outputs": [],
   "cell_type": "code",
   "source": [
    "pystruct = pymatgen_structure(lattice, atoms)\n",
    "pystruct.make_supercell([2, 2, 2])\n",
    "lattice = load_lattice(pystruct)\n",
    "atoms = [Si => [s.frac_coords for s in pystruct.sites]];"
   ],
   "metadata": {},
   "execution_count": 2
  },
  {
   "cell_type": "markdown",
   "source": [
    "Setup an LDA model and discretize using\n",
    "a single kpoint and a small `Ecut` of 5 Hartree."
   ],
   "metadata": {}
  },
  {
   "outputs": [
    {
     "output_type": "execute_result",
     "data": {
      "text/plain": "PlaneWaveBasis (Ecut=5.0, 1 kpoints)"
     },
     "metadata": {},
     "execution_count": 3
    }
   ],
   "cell_type": "code",
   "source": [
    "model = model_LDA(lattice, atoms)\n",
    "basis = PlaneWaveBasis(model, 5, kgrid=(1, 1, 1))"
   ],
   "metadata": {},
   "execution_count": 3
  },
  {
   "cell_type": "markdown",
   "source": [
    "Find the ground state using direct minimisation (always using SCF is boring ...)"
   ],
   "metadata": {}
  },
  {
   "outputs": [
    {
     "name": "stdout",
     "output_type": "stream",
     "text": [
      "Iter     Function value   Gradient norm \n",
      "     0     1.117226e+02     1.647761e+00\n",
      " * time: 0.14574480056762695\n",
      "     1     1.047858e+01     9.330579e-01\n",
      " * time: 1.3596558570861816\n",
      "     2    -1.192519e+01     1.068854e+00\n",
      " * time: 1.4939439296722412\n",
      "     3    -3.408713e+01     7.551034e-01\n",
      " * time: 1.657696008682251\n",
      "     4    -4.756239e+01     5.737868e-01\n",
      " * time: 1.8132150173187256\n",
      "     5    -5.706476e+01     2.041715e-01\n",
      " * time: 1.9594519138336182\n",
      "     6    -5.998152e+01     1.429440e-01\n",
      " * time: 2.0698180198669434\n",
      "     7    -6.105287e+01     4.986470e-02\n",
      " * time: 2.1849420070648193\n",
      "     8    -6.144946e+01     7.090447e-02\n",
      " * time: 2.2938008308410645\n",
      "     9    -6.170875e+01     3.599303e-02\n",
      " * time: 2.401798963546753\n",
      "    10    -6.190076e+01     2.838875e-02\n",
      " * time: 2.516918897628784\n",
      "    11    -6.204229e+01     1.887185e-02\n",
      " * time: 2.624202013015747\n",
      "    12    -6.209666e+01     1.545298e-02\n",
      " * time: 2.7393457889556885\n",
      "    13    -6.214787e+01     1.679045e-02\n",
      " * time: 2.8477859497070312\n",
      "    14    -6.217025e+01     1.359312e-02\n",
      " * time: 2.9627628326416016\n",
      "    15    -6.218808e+01     8.933387e-03\n",
      " * time: 3.070640802383423\n",
      "    16    -6.219744e+01     7.347607e-03\n",
      " * time: 3.185182809829712\n",
      "    17    -6.220465e+01     5.863521e-03\n",
      " * time: 3.2932379245758057\n",
      "    18    -6.221137e+01     5.478857e-03\n",
      " * time: 3.4066429138183594\n",
      "    19    -6.221761e+01     6.229472e-03\n",
      " * time: 3.5129058361053467\n",
      "    20    -6.222365e+01     5.914214e-03\n",
      " * time: 3.6274869441986084\n",
      "    21    -6.222983e+01     5.318434e-03\n",
      " * time: 3.735438823699951\n",
      "    22    -6.223624e+01     5.454986e-03\n",
      " * time: 3.8495988845825195\n",
      "    23    -6.224255e+01     5.052656e-03\n",
      " * time: 3.9574429988861084\n",
      "    24    -6.224763e+01     4.309916e-03\n",
      " * time: 4.074584007263184\n",
      "    25    -6.225140e+01     3.728249e-03\n",
      " * time: 4.193208932876587\n",
      "    26    -6.225437e+01     3.354073e-03\n",
      " * time: 4.32353401184082\n",
      "    27    -6.225673e+01     2.670761e-03\n",
      " * time: 4.433408975601196\n",
      "    28    -6.225860e+01     2.962824e-03\n",
      " * time: 4.551024913787842\n",
      "    29    -6.225985e+01     2.100339e-03\n",
      " * time: 4.659789800643921\n",
      "    30    -6.226066e+01     1.584145e-03\n",
      " * time: 4.777947902679443\n",
      "    31    -6.226114e+01     1.502690e-03\n",
      " * time: 4.885742902755737\n",
      "    32    -6.226140e+01     9.846598e-04\n",
      " * time: 5.0007829666137695\n",
      "    33    -6.226153e+01     6.995123e-04\n",
      " * time: 5.109782934188843\n",
      "    34    -6.226160e+01     4.324186e-04\n",
      " * time: 5.2270119190216064\n",
      "    35    -6.226163e+01     3.323996e-04\n",
      " * time: 5.334863901138306\n",
      "    36    -6.226164e+01     2.718226e-04\n",
      " * time: 5.4502198696136475\n",
      "    37    -6.226165e+01     2.172625e-04\n",
      " * time: 5.55771279335022\n",
      "    38    -6.226166e+01     1.790611e-04\n",
      " * time: 5.67556095123291\n",
      "    39    -6.226166e+01     1.380012e-04\n",
      " * time: 5.784206867218018\n",
      "    40    -6.226166e+01     9.607773e-05\n",
      " * time: 5.914675951004028\n",
      "    41    -6.226166e+01     9.152150e-05\n",
      " * time: 6.030954837799072\n",
      "    42    -6.226166e+01     6.623921e-05\n",
      " * time: 6.140643835067749\n",
      "    43    -6.226167e+01     4.913454e-05\n",
      " * time: 6.260655879974365\n",
      "    44    -6.226167e+01     2.884508e-05\n",
      " * time: 6.368801832199097\n",
      "    45    -6.226167e+01     2.298901e-05\n",
      " * time: 6.486178874969482\n",
      "    46    -6.226167e+01     1.518825e-05\n",
      " * time: 6.5953028202056885\n",
      "    47    -6.226167e+01     1.149165e-05\n",
      " * time: 6.712553977966309\n",
      "    48    -6.226167e+01     8.535151e-06\n",
      " * time: 6.822706937789917\n",
      "    49    -6.226167e+01     8.591361e-06\n",
      " * time: 6.939764976501465\n",
      "    50    -6.226167e+01     7.259074e-06\n",
      " * time: 7.048213005065918\n",
      "    51    -6.226167e+01     5.770115e-06\n",
      " * time: 7.1641998291015625\n",
      "    52    -6.226167e+01     4.309561e-06\n",
      " * time: 7.274475812911987\n",
      "    53    -6.226167e+01     3.496496e-06\n",
      " * time: 7.391457796096802\n",
      "    54    -6.226167e+01     2.309999e-06\n",
      " * time: 7.501962900161743\n",
      "    55    -6.226167e+01     1.763519e-06\n",
      " * time: 7.6224730014801025\n"
     ]
    }
   ],
   "cell_type": "code",
   "source": [
    "scfres = direct_minimization(basis, tol=1e-5);"
   ],
   "metadata": {},
   "execution_count": 4
  },
  {
   "outputs": [
    {
     "output_type": "execute_result",
     "data": {
      "text/plain": "Energy breakdown:\n    Kinetic             25.7671065\n    AtomicLocal         -18.8557687\n    AtomicNonlocal      14.8522660\n    Ewald               -67.1831486\n    PspCorrection       -2.3569765\n    Hartree             4.8485369 \n    Xc                  -19.3336819\n\n    total               -62.261666462290\n"
     },
     "metadata": {},
     "execution_count": 5
    }
   ],
   "cell_type": "code",
   "source": [
    "scfres.energies"
   ],
   "metadata": {},
   "execution_count": 5
  }
 ],
 "nbformat_minor": 3,
 "metadata": {
  "language_info": {
   "file_extension": ".jl",
   "mimetype": "application/julia",
   "name": "julia",
   "version": "1.4.2"
  },
  "kernelspec": {
   "name": "julia-1.4",
   "display_name": "Julia 1.4.2",
   "language": "julia"
  }
 },
 "nbformat": 4
}
