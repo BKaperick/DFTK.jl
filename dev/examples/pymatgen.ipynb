{
 "cells": [
  {
   "cell_type": "markdown",
   "source": [
    "# Creating supercells with pymatgen\n",
    "\n",
    "The [Pymatgen](https://pymatgen.org/) python library allows to setup\n",
    "solid-state calculations using a flexible set of classes as well as an API\n",
    "to an online data base of structures. Its `Structure` and `Lattice`\n",
    "objects are directly supported by the DFTK `load_atoms` and `load_lattice`\n",
    "functions, such that DFTK may be readily used to run calculation on systems\n",
    "defined in pymatgen. Using the `pymatgen_structure` function a conversion\n",
    "from DFTK to pymatgen structures is also possible. In the following we\n",
    "use this to create a silicon supercell and find its LDA ground state\n",
    "using direct minimisation."
   ],
   "metadata": {}
  },
  {
   "cell_type": "markdown",
   "source": [
    "First we setup the silicon lattice in DFTK."
   ],
   "metadata": {}
  },
  {
   "outputs": [],
   "cell_type": "code",
   "source": [
    "using DFTK\n",
    "\n",
    "a = 10.263141334305942  # Lattice constant in Bohr\n",
    "lattice = a / 2 .* [[0 1 1.]; [1 0 1.]; [1 1 0.]]\n",
    "Si = ElementPsp(:Si, psp=load_psp(\"hgh/lda/Si-q4\"))\n",
    "atoms = [Si => [ones(3)/8, -ones(3)/8]];"
   ],
   "metadata": {},
   "execution_count": 1
  },
  {
   "cell_type": "markdown",
   "source": [
    "Next we make a `[2, 2, 2]` supercell using pymatgen"
   ],
   "metadata": {}
  },
  {
   "outputs": [],
   "cell_type": "code",
   "source": [
    "pystruct = pymatgen_structure(lattice, atoms)\n",
    "pystruct.make_supercell([2, 2, 2])\n",
    "lattice = load_lattice(pystruct)\n",
    "atoms = [Si => [s.frac_coords for s in pystruct.sites]];"
   ],
   "metadata": {},
   "execution_count": 2
  },
  {
   "cell_type": "markdown",
   "source": [
    "Setup an LDA model and discretize using\n",
    "a single kpoint and a small `Ecut` of 5 Hartree."
   ],
   "metadata": {}
  },
  {
   "outputs": [
    {
     "output_type": "execute_result",
     "data": {
      "text/plain": "PlaneWaveBasis (Ecut=5.0, 1 kpoints)"
     },
     "metadata": {},
     "execution_count": 3
    }
   ],
   "cell_type": "code",
   "source": [
    "model = model_LDA(lattice, atoms)\n",
    "basis = PlaneWaveBasis(model, 5, kgrid=(1, 1, 1))"
   ],
   "metadata": {},
   "execution_count": 3
  },
  {
   "cell_type": "markdown",
   "source": [
    "Find the ground state using direct minimisation (always using SCF is boring ...)"
   ],
   "metadata": {}
  },
  {
   "outputs": [
    {
     "name": "stdout",
     "output_type": "stream",
     "text": [
      "Iter     Function value   Gradient norm \n",
      "     0     1.124179e+02     1.655843e+00\n",
      " * time: 0.12420296669006348\n",
      "     1     1.106896e+01     1.042905e+00\n",
      " * time: 0.9522190093994141\n",
      "     2    -1.231032e+01     1.090162e+00\n",
      " * time: 1.0885429382324219\n",
      "     3    -3.431624e+01     8.043889e-01\n",
      " * time: 1.2412199974060059\n",
      "     4    -4.780720e+01     6.372776e-01\n",
      " * time: 1.38714599609375\n",
      "     5    -5.693492e+01     2.052731e-01\n",
      " * time: 1.5241990089416504\n",
      "     6    -5.980029e+01     1.318435e-01\n",
      " * time: 1.6367950439453125\n",
      "     7    -6.092592e+01     5.419014e-02\n",
      " * time: 1.749932050704956\n",
      "     8    -6.137286e+01     6.437799e-02\n",
      " * time: 1.857593059539795\n",
      "     9    -6.167170e+01     4.260125e-02\n",
      " * time: 1.9724760055541992\n",
      "    10    -6.189294e+01     2.681866e-02\n",
      " * time: 2.086672067642212\n",
      "    11    -6.204535e+01     1.834371e-02\n",
      " * time: 2.1961429119110107\n",
      "    12    -6.210175e+01     1.566181e-02\n",
      " * time: 2.311552047729492\n",
      "    13    -6.215143e+01     1.132120e-02\n",
      " * time: 2.4321858882904053\n",
      "    14    -6.217281e+01     1.046374e-02\n",
      " * time: 2.551750898361206\n",
      "    15    -6.219017e+01     8.766213e-03\n",
      " * time: 2.666940927505493\n",
      "    16    -6.219949e+01     8.089608e-03\n",
      " * time: 2.774507999420166\n",
      "    17    -6.220773e+01     6.713425e-03\n",
      " * time: 2.8885409832000732\n",
      "    18    -6.221556e+01     5.859413e-03\n",
      " * time: 2.9951179027557373\n",
      "    19    -6.222247e+01     7.059741e-03\n",
      " * time: 3.120461940765381\n",
      "    20    -6.222935e+01     7.384058e-03\n",
      " * time: 3.234837055206299\n",
      "    21    -6.223627e+01     7.034832e-03\n",
      " * time: 3.3424549102783203\n",
      "    22    -6.224274e+01     5.648382e-03\n",
      " * time: 3.457313060760498\n",
      "    23    -6.224799e+01     5.387401e-03\n",
      " * time: 3.565207004547119\n",
      "    24    -6.225185e+01     3.964387e-03\n",
      " * time: 3.679633855819702\n",
      "    25    -6.225469e+01     3.566458e-03\n",
      " * time: 3.7934229373931885\n",
      "    26    -6.225683e+01     2.631089e-03\n",
      " * time: 3.8993849754333496\n",
      "    27    -6.225847e+01     2.270966e-03\n",
      " * time: 4.012640953063965\n",
      "    28    -6.225962e+01     1.793721e-03\n",
      " * time: 4.119240999221802\n",
      "    29    -6.226048e+01     1.383776e-03\n",
      " * time: 4.233603000640869\n",
      "    30    -6.226102e+01     1.450277e-03\n",
      " * time: 4.347872972488403\n",
      "    31    -6.226133e+01     8.671002e-04\n",
      " * time: 4.454967975616455\n",
      "    32    -6.226149e+01     8.427882e-04\n",
      " * time: 4.568665027618408\n",
      "    33    -6.226158e+01     4.313955e-04\n",
      " * time: 4.682556867599487\n",
      "    34    -6.226163e+01     2.526566e-04\n",
      " * time: 4.788954973220825\n",
      "    35    -6.226165e+01     1.990676e-04\n",
      " * time: 4.9011828899383545\n",
      "    36    -6.226166e+01     1.498872e-04\n",
      " * time: 5.007582902908325\n",
      "    37    -6.226166e+01     1.301911e-04\n",
      " * time: 5.119556903839111\n",
      "    38    -6.226166e+01     1.256687e-04\n",
      " * time: 5.232593059539795\n",
      "    39    -6.226166e+01     8.724792e-05\n",
      " * time: 5.340651035308838\n",
      "    40    -6.226166e+01     6.146933e-05\n",
      " * time: 5.45475697517395\n",
      "    41    -6.226167e+01     5.229664e-05\n",
      " * time: 5.560945987701416\n",
      "    42    -6.226167e+01     3.948153e-05\n",
      " * time: 5.67413592338562\n",
      "    43    -6.226167e+01     3.109493e-05\n",
      " * time: 5.78692102432251\n",
      "    44    -6.226167e+01     2.601862e-05\n",
      " * time: 5.894623041152954\n",
      "    45    -6.226167e+01     2.091506e-05\n",
      " * time: 6.010069847106934\n",
      "    46    -6.226167e+01     1.469886e-05\n",
      " * time: 6.130982875823975\n",
      "    47    -6.226167e+01     1.087824e-05\n",
      " * time: 6.247542858123779\n",
      "    48    -6.226167e+01     7.074540e-06\n",
      " * time: 6.361719846725464\n",
      "    49    -6.226167e+01     5.254440e-06\n",
      " * time: 6.468301057815552\n",
      "    50    -6.226167e+01     4.133963e-06\n",
      " * time: 6.5810019969940186\n",
      "    51    -6.226167e+01     3.667127e-06\n",
      " * time: 6.687241077423096\n",
      "    52    -6.226167e+01     4.064635e-06\n",
      " * time: 6.800039052963257\n"
     ]
    }
   ],
   "cell_type": "code",
   "source": [
    "scfres = direct_minimization(basis, tol=1e-5);"
   ],
   "metadata": {},
   "execution_count": 4
  },
  {
   "outputs": [
    {
     "output_type": "execute_result",
     "data": {
      "text/plain": "Energy breakdown:\n    Kinetic             25.7671087\n    AtomicLocal         -18.8557692\n    AtomicNonlocal      14.8522630\n    Ewald               -67.1831486\n    PspCorrection       -2.3569765\n    Hartree             4.8485391 \n    Xc                  -19.3336829\n\n    total               -62.261666459154\n"
     },
     "metadata": {},
     "execution_count": 5
    }
   ],
   "cell_type": "code",
   "source": [
    "scfres.energies"
   ],
   "metadata": {},
   "execution_count": 5
  }
 ],
 "nbformat_minor": 3,
 "metadata": {
  "language_info": {
   "file_extension": ".jl",
   "mimetype": "application/julia",
   "name": "julia",
   "version": "1.3.1"
  },
  "kernelspec": {
   "name": "julia-1.3",
   "display_name": "Julia 1.3.1",
   "language": "julia"
  }
 },
 "nbformat": 4
}
