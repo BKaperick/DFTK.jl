{
 "cells": [
  {
   "cell_type": "markdown",
   "source": [
    "# Creating supercells with pymatgen\n",
    "\n",
    "The [Pymatgen](https://pymatgen.org/) python library allows to setup\n",
    "solid-state calculations using a flexible set of classes as well as an API\n",
    "to an online data base of structures. Its `Structure` and `Lattice`\n",
    "objects are directly supported by the DFTK `load_atoms` and `load_lattice`\n",
    "functions, such that DFTK may be readily used to run calculation on systems\n",
    "defined in pymatgen. Using the `pymatgen_structure` function a conversion\n",
    "from DFTK to pymatgen structures is also possible. In the following we\n",
    "use this to create a silicon supercell and find its LDA ground state\n",
    "using direct minimisation."
   ],
   "metadata": {}
  },
  {
   "cell_type": "markdown",
   "source": [
    "First we setup the silicon lattice in DFTK."
   ],
   "metadata": {}
  },
  {
   "outputs": [],
   "cell_type": "code",
   "source": [
    "using DFTK\n",
    "\n",
    "a = 10.263141334305942  # Lattice constant in Bohr\n",
    "lattice = a / 2 .* [[0 1 1.]; [1 0 1.]; [1 1 0.]]\n",
    "Si = ElementPsp(:Si, psp=load_psp(\"hgh/lda/Si-q4\"))\n",
    "atoms = [Si => [ones(3)/8, -ones(3)/8]];"
   ],
   "metadata": {},
   "execution_count": 1
  },
  {
   "cell_type": "markdown",
   "source": [
    "Next we make a `[2, 2, 2]` supercell using pymatgen"
   ],
   "metadata": {}
  },
  {
   "outputs": [],
   "cell_type": "code",
   "source": [
    "pystruct = pymatgen_structure(lattice, atoms)\n",
    "pystruct.make_supercell([2, 2, 2])\n",
    "lattice = load_lattice(pystruct)\n",
    "atoms = [Si => [s.frac_coords for s in pystruct.sites]];"
   ],
   "metadata": {},
   "execution_count": 2
  },
  {
   "cell_type": "markdown",
   "source": [
    "Setup an LDA model and discretize using\n",
    "a single kpoint and a small `Ecut` of 5 Hartree."
   ],
   "metadata": {}
  },
  {
   "outputs": [
    {
     "output_type": "execute_result",
     "data": {
      "text/plain": "PlaneWaveBasis (Ecut=5.0, 1 kpoints)"
     },
     "metadata": {},
     "execution_count": 3
    }
   ],
   "cell_type": "code",
   "source": [
    "model = model_LDA(lattice, atoms)\n",
    "basis = PlaneWaveBasis(model, 5, kgrid=(1, 1, 1))"
   ],
   "metadata": {},
   "execution_count": 3
  },
  {
   "cell_type": "markdown",
   "source": [
    "Find the ground state using direct minimisation (always using SCF is boring ...)"
   ],
   "metadata": {}
  },
  {
   "outputs": [
    {
     "name": "stdout",
     "output_type": "stream",
     "text": [
      "Iter     Function value   Gradient norm \n",
      "     0     1.121716e+02     1.752293e+00\n",
      " * time: 0.09120702743530273\n",
      "     1     1.089919e+01     1.107959e+00\n",
      " * time: 1.3596348762512207\n",
      "     2    -1.151150e+01     1.337557e+00\n",
      " * time: 1.5110509395599365\n",
      "     3    -3.411965e+01     8.686416e-01\n",
      " * time: 1.6509168148040771\n",
      "     4    -4.759752e+01     5.919620e-01\n",
      " * time: 1.8023598194122314\n",
      "     5    -5.671517e+01     2.110934e-01\n",
      " * time: 1.947774887084961\n",
      "     6    -5.958329e+01     1.505753e-01\n",
      " * time: 2.062819004058838\n",
      "     7    -6.080447e+01     6.228930e-02\n",
      " * time: 2.1700589656829834\n",
      "     8    -6.132651e+01     4.541938e-02\n",
      " * time: 2.288674831390381\n",
      "     9    -6.161629e+01     4.692077e-02\n",
      " * time: 2.39998197555542\n",
      "    10    -6.184857e+01     2.721718e-02\n",
      " * time: 2.519171953201294\n",
      "    11    -6.202446e+01     2.031502e-02\n",
      " * time: 2.6268680095672607\n",
      "    12    -6.211132e+01     1.598944e-02\n",
      " * time: 2.744534969329834\n",
      "    13    -6.216224e+01     1.204958e-02\n",
      " * time: 2.8610289096832275\n",
      "    14    -6.219985e+01     1.021630e-02\n",
      " * time: 2.96993088722229\n",
      "    15    -6.221778e+01     8.208509e-03\n",
      " * time: 3.087414026260376\n",
      "    16    -6.222881e+01     8.043501e-03\n",
      " * time: 3.2018280029296875\n",
      "    17    -6.223601e+01     5.643375e-03\n",
      " * time: 3.32914400100708\n",
      "    18    -6.224230e+01     5.601844e-03\n",
      " * time: 3.4380528926849365\n",
      "    19    -6.224701e+01     4.531883e-03\n",
      " * time: 3.5636069774627686\n",
      "    20    -6.225145e+01     4.246496e-03\n",
      " * time: 3.6821320056915283\n",
      "    21    -6.225512e+01     3.838712e-03\n",
      " * time: 3.790313959121704\n",
      "    22    -6.225799e+01     2.876128e-03\n",
      " * time: 3.9057979583740234\n",
      "    23    -6.225985e+01     2.662669e-03\n",
      " * time: 4.014328956604004\n",
      "    24    -6.226082e+01     1.437893e-03\n",
      " * time: 4.129948854446411\n",
      "    25    -6.226125e+01     9.579138e-04\n",
      " * time: 4.237833023071289\n",
      "    26    -6.226144e+01     6.892915e-04\n",
      " * time: 4.353803873062134\n",
      "    27    -6.226153e+01     5.766565e-04\n",
      " * time: 4.464221954345703\n",
      "    28    -6.226157e+01     4.997205e-04\n",
      " * time: 4.580293893814087\n",
      "    29    -6.226160e+01     4.869641e-04\n",
      " * time: 4.697504997253418\n",
      "    30    -6.226162e+01     3.404799e-04\n",
      " * time: 4.80474591255188\n",
      "    31    -6.226164e+01     2.568728e-04\n",
      " * time: 4.9214088916778564\n",
      "    32    -6.226165e+01     2.211084e-04\n",
      " * time: 5.036074876785278\n",
      "    33    -6.226165e+01     1.657241e-04\n",
      " * time: 5.161048889160156\n",
      "    34    -6.226166e+01     1.473164e-04\n",
      " * time: 5.26986289024353\n",
      "    35    -6.226166e+01     1.030796e-04\n",
      " * time: 5.385083913803101\n",
      "    36    -6.226166e+01     7.279568e-05\n",
      " * time: 5.50229287147522\n",
      "    37    -6.226167e+01     4.240277e-05\n",
      " * time: 5.610633850097656\n",
      "    38    -6.226167e+01     3.040841e-05\n",
      " * time: 5.728441953659058\n",
      "    39    -6.226167e+01     1.987949e-05\n",
      " * time: 5.836902856826782\n",
      "    40    -6.226167e+01     1.701467e-05\n",
      " * time: 5.9522058963775635\n",
      "    41    -6.226167e+01     1.562115e-05\n",
      " * time: 6.059424877166748\n",
      "    42    -6.226167e+01     1.195022e-05\n",
      " * time: 6.176978826522827\n",
      "    43    -6.226167e+01     9.272097e-06\n",
      " * time: 6.294601917266846\n",
      "    44    -6.226167e+01     9.290116e-06\n",
      " * time: 6.402186870574951\n",
      "    45    -6.226167e+01     7.558978e-06\n",
      " * time: 6.51775598526001\n",
      "    46    -6.226167e+01     5.472838e-06\n",
      " * time: 6.626317977905273\n",
      "    47    -6.226167e+01     4.063189e-06\n",
      " * time: 6.744428873062134\n",
      "    48    -6.226167e+01     2.558551e-06\n",
      " * time: 6.852015018463135\n"
     ]
    }
   ],
   "cell_type": "code",
   "source": [
    "scfres = direct_minimization(basis, tol=1e-5);"
   ],
   "metadata": {},
   "execution_count": 4
  },
  {
   "outputs": [
    {
     "output_type": "execute_result",
     "data": {
      "text/plain": "Energy breakdown:\n    Kinetic             25.7671062\n    AtomicLocal         -18.8557655\n    AtomicNonlocal      14.8522634\n    Ewald               -67.1831486\n    PspCorrection       -2.3569765\n    Hartree             4.8485361 \n    Xc                  -19.3336816\n\n    total               -62.261666461282\n"
     },
     "metadata": {},
     "execution_count": 5
    }
   ],
   "cell_type": "code",
   "source": [
    "scfres.energies"
   ],
   "metadata": {},
   "execution_count": 5
  }
 ],
 "nbformat_minor": 3,
 "metadata": {
  "language_info": {
   "file_extension": ".jl",
   "mimetype": "application/julia",
   "name": "julia",
   "version": "1.4.2"
  },
  "kernelspec": {
   "name": "julia-1.4",
   "display_name": "Julia 1.4.2",
   "language": "julia"
  }
 },
 "nbformat": 4
}
