{
 "cells": [
  {
   "cell_type": "markdown",
   "source": [
    "# Creating supercells with pymatgen\n",
    "\n",
    "The [Pymatgen](https://pymatgen.org/) python library allows to setup\n",
    "solid-state calculations using a flexible set of classes as well as an API\n",
    "to an online data base of structures. Its `Structure` and `Lattice`\n",
    "objects are directly supported by the DFTK `load_atoms` and `load_lattice`\n",
    "functions, such that DFTK may be readily used to run calculation on systems\n",
    "defined in pymatgen. Using the `pymatgen_structure` function a conversion\n",
    "from DFTK to pymatgen structures is also possible. In the following we\n",
    "use this to create a silicon supercell and find its LDA ground state\n",
    "using direct minimisation."
   ],
   "metadata": {}
  },
  {
   "cell_type": "markdown",
   "source": [
    "First we setup the silicon lattice in DFTK."
   ],
   "metadata": {}
  },
  {
   "outputs": [],
   "cell_type": "code",
   "source": [
    "using DFTK\n",
    "\n",
    "a = 10.263141334305942  # Lattice constant in Bohr\n",
    "lattice = a / 2 .* [[0 1 1.]; [1 0 1.]; [1 1 0.]]\n",
    "Si = ElementPsp(:Si, psp=load_psp(\"hgh/lda/Si-q4\"))\n",
    "atoms = [Si => [ones(3)/8, -ones(3)/8]];"
   ],
   "metadata": {},
   "execution_count": 1
  },
  {
   "cell_type": "markdown",
   "source": [
    "Next we make a `[2, 2, 2]` supercell using pymatgen"
   ],
   "metadata": {}
  },
  {
   "outputs": [],
   "cell_type": "code",
   "source": [
    "pystruct = pymatgen_structure(lattice, atoms)\n",
    "pystruct.make_supercell([2, 2, 2])\n",
    "lattice = load_lattice(pystruct)\n",
    "atoms = [Si => [s.frac_coords for s in pystruct.sites]];"
   ],
   "metadata": {},
   "execution_count": 2
  },
  {
   "cell_type": "markdown",
   "source": [
    "Setup an LDA model and discretize using\n",
    "a single kpoint and a small `Ecut` of 5 Hartree."
   ],
   "metadata": {}
  },
  {
   "outputs": [
    {
     "output_type": "execute_result",
     "data": {
      "text/plain": "PlaneWaveBasis (Ecut=5.0, 1 kpoints)"
     },
     "metadata": {},
     "execution_count": 3
    }
   ],
   "cell_type": "code",
   "source": [
    "model = model_LDA(lattice, atoms)\n",
    "basis = PlaneWaveBasis(model, 5, kgrid=(1, 1, 1))"
   ],
   "metadata": {},
   "execution_count": 3
  },
  {
   "cell_type": "markdown",
   "source": [
    "Find the ground state using direct minimisation (always using SCF is boring ...)"
   ],
   "metadata": {}
  },
  {
   "outputs": [
    {
     "name": "stdout",
     "output_type": "stream",
     "text": [
      "Iter     Function value   Gradient norm \n",
      "     0     1.119814e+02     1.572613e+00\n",
      " * time: 0.08644390106201172\n",
      "     1     1.133801e+01     8.922536e-01\n",
      " * time: 0.9602398872375488\n",
      "     2    -1.154351e+01     1.028654e+00\n",
      " * time: 1.098404884338379\n",
      "     3    -3.405442e+01     8.140529e-01\n",
      " * time: 1.2304539680480957\n",
      "     4    -4.755478e+01     5.995804e-01\n",
      " * time: 1.3747549057006836\n",
      "     5    -5.685753e+01     2.212930e-01\n",
      " * time: 1.5166139602661133\n",
      "     6    -5.970123e+01     1.734233e-01\n",
      " * time: 1.6183350086212158\n",
      "     7    -6.086823e+01     7.230666e-02\n",
      " * time: 1.7275569438934326\n",
      "     8    -6.134162e+01     4.020746e-02\n",
      " * time: 1.8291888236999512\n",
      "     9    -6.159725e+01     5.118688e-02\n",
      " * time: 1.9384210109710693\n",
      "    10    -6.179457e+01     2.893343e-02\n",
      " * time: 2.0481009483337402\n",
      "    11    -6.195027e+01     2.324987e-02\n",
      " * time: 2.151132822036743\n",
      "    12    -6.204870e+01     1.857974e-02\n",
      " * time: 2.260293960571289\n",
      "    13    -6.210062e+01     1.484578e-02\n",
      " * time: 2.3640639781951904\n",
      "    14    -6.215283e+01     1.090306e-02\n",
      " * time: 2.4738988876342773\n",
      "    15    -6.217737e+01     1.045867e-02\n",
      " * time: 2.576880931854248\n",
      "    16    -6.219633e+01     9.120510e-03\n",
      " * time: 2.6871769428253174\n",
      "    17    -6.220741e+01     6.794660e-03\n",
      " * time: 2.7900829315185547\n",
      "    18    -6.221583e+01     6.450785e-03\n",
      " * time: 2.9006669521331787\n",
      "    19    -6.222209e+01     6.189484e-03\n",
      " * time: 3.003044843673706\n",
      "    20    -6.222739e+01     5.711698e-03\n",
      " * time: 3.113391876220703\n",
      "    21    -6.223286e+01     5.959682e-03\n",
      " * time: 3.2153398990631104\n",
      "    22    -6.223847e+01     5.538032e-03\n",
      " * time: 3.3244669437408447\n",
      "    23    -6.224410e+01     5.950175e-03\n",
      " * time: 3.427386999130249\n",
      "    24    -6.224917e+01     5.971651e-03\n",
      " * time: 3.5367369651794434\n",
      "    25    -6.225337e+01     5.007938e-03\n",
      " * time: 3.645869016647339\n",
      "    26    -6.225643e+01     3.315156e-03\n",
      " * time: 3.747286796569824\n",
      "    27    -6.225839e+01     2.876755e-03\n",
      " * time: 3.8581860065460205\n",
      "    28    -6.225955e+01     2.362137e-03\n",
      " * time: 3.965319871902466\n",
      "    29    -6.226029e+01     1.946152e-03\n",
      " * time: 4.090265989303589\n",
      "    30    -6.226078e+01     1.267278e-03\n",
      " * time: 4.19169282913208\n",
      "    31    -6.226110e+01     9.620491e-04\n",
      " * time: 4.3005499839782715\n",
      "    32    -6.226131e+01     8.810489e-04\n",
      " * time: 4.4019129276275635\n",
      "    33    -6.226147e+01     6.309538e-04\n",
      " * time: 4.5109639167785645\n",
      "    34    -6.226157e+01     4.710401e-04\n",
      " * time: 4.611594915390015\n",
      "    35    -6.226162e+01     3.359943e-04\n",
      " * time: 4.720263957977295\n",
      "    36    -6.226165e+01     2.633346e-04\n",
      " * time: 4.822314977645874\n",
      "    37    -6.226166e+01     1.766206e-04\n",
      " * time: 4.931505918502808\n",
      "    38    -6.226166e+01     1.270628e-04\n",
      " * time: 5.033228874206543\n",
      "    39    -6.226166e+01     9.428687e-05\n",
      " * time: 5.141656875610352\n",
      "    40    -6.226166e+01     6.134122e-05\n",
      " * time: 5.243496894836426\n",
      "    41    -6.226167e+01     5.111129e-05\n",
      " * time: 5.35100793838501\n",
      "    42    -6.226167e+01     4.312992e-05\n",
      " * time: 5.458355903625488\n",
      "    43    -6.226167e+01     3.467909e-05\n",
      " * time: 5.559477806091309\n",
      "    44    -6.226167e+01     2.375042e-05\n",
      " * time: 5.6674299240112305\n",
      "    45    -6.226167e+01     2.454109e-05\n",
      " * time: 5.769646883010864\n",
      "    46    -6.226167e+01     2.131613e-05\n",
      " * time: 5.87912392616272\n",
      "    47    -6.226167e+01     1.469466e-05\n",
      " * time: 5.981001853942871\n",
      "    48    -6.226167e+01     1.273759e-05\n",
      " * time: 6.089857816696167\n",
      "    49    -6.226167e+01     1.028916e-05\n",
      " * time: 6.191914796829224\n",
      "    50    -6.226167e+01     6.900425e-06\n",
      " * time: 6.3004469871521\n",
      "    51    -6.226167e+01     4.188936e-06\n",
      " * time: 6.402496814727783\n",
      "    52    -6.226167e+01     4.018626e-06\n",
      " * time: 6.510368824005127\n"
     ]
    }
   ],
   "cell_type": "code",
   "source": [
    "scfres = direct_minimization(basis, tol=1e-5);"
   ],
   "metadata": {},
   "execution_count": 4
  },
  {
   "outputs": [
    {
     "output_type": "execute_result",
     "data": {
      "text/plain": "Energy breakdown:\n    Kinetic             25.7671084\n    AtomicLocal         -18.8557690\n    AtomicNonlocal      14.8522634\n    Ewald               -67.1831486\n    PspCorrection       -2.3569765\n    Hartree             4.8485386 \n    Xc                  -19.3336826\n\n    total               -62.261666459285\n"
     },
     "metadata": {},
     "execution_count": 5
    }
   ],
   "cell_type": "code",
   "source": [
    "scfres.energies"
   ],
   "metadata": {},
   "execution_count": 5
  }
 ],
 "nbformat_minor": 3,
 "metadata": {
  "language_info": {
   "file_extension": ".jl",
   "mimetype": "application/julia",
   "name": "julia",
   "version": "1.3.1"
  },
  "kernelspec": {
   "name": "julia-1.3",
   "display_name": "Julia 1.3.1",
   "language": "julia"
  }
 },
 "nbformat": 4
}
