{
 "cells": [
  {
   "cell_type": "markdown",
   "source": [
    "# Creating supercells with pymatgen\n",
    "\n",
    "The [Pymatgen](https://pymatgen.org/) python library allows to setup\n",
    "solid-state calculations using a flexible set of classes as well as an API\n",
    "to an online data base of structures. Its `Structure` and `Lattice`\n",
    "objects are directly supported by the DFTK `load_atoms` and `load_lattice`\n",
    "functions, such that DFTK may be readily used to run calculation on systems\n",
    "defined in pymatgen. Using the `pymatgen_structure` function a conversion\n",
    "from DFTK to pymatgen structures is also possible. In the following we\n",
    "use this to create a silicon supercell and find its LDA ground state\n",
    "using direct minimisation."
   ],
   "metadata": {}
  },
  {
   "cell_type": "markdown",
   "source": [
    "First we setup the silicon lattice in DFTK."
   ],
   "metadata": {}
  },
  {
   "outputs": [],
   "cell_type": "code",
   "source": [
    "using DFTK\n",
    "\n",
    "a = 10.263141334305942  # Lattice constant in Bohr\n",
    "lattice = a / 2 .* [[0 1 1.]; [1 0 1.]; [1 1 0.]]\n",
    "Si = ElementPsp(:Si, psp=load_psp(\"hgh/lda/Si-q4\"))\n",
    "atoms = [Si => [ones(3)/8, -ones(3)/8]];"
   ],
   "metadata": {},
   "execution_count": 1
  },
  {
   "cell_type": "markdown",
   "source": [
    "Next we make a `[2, 2, 2]` supercell using pymatgen"
   ],
   "metadata": {}
  },
  {
   "outputs": [],
   "cell_type": "code",
   "source": [
    "pystruct = pymatgen_structure(lattice, atoms)\n",
    "pystruct.make_supercell([2, 2, 2])\n",
    "lattice = load_lattice(pystruct)\n",
    "atoms = [Si => [s.frac_coords for s in pystruct.sites]];"
   ],
   "metadata": {},
   "execution_count": 2
  },
  {
   "cell_type": "markdown",
   "source": [
    "Setup an LDA model and discretize using\n",
    "a single kpoint and a small `Ecut` of 5 Hartree."
   ],
   "metadata": {}
  },
  {
   "outputs": [
    {
     "output_type": "execute_result",
     "data": {
      "text/plain": "PlaneWaveBasis (Ecut=5.0, 1 kpoints)"
     },
     "metadata": {},
     "execution_count": 3
    }
   ],
   "cell_type": "code",
   "source": [
    "model = model_LDA(lattice, atoms)\n",
    "basis = PlaneWaveBasis(model, 5, kgrid=(1, 1, 1))"
   ],
   "metadata": {},
   "execution_count": 3
  },
  {
   "cell_type": "markdown",
   "source": [
    "Find the ground state using direct minimisation (always using SCF is boring ...)"
   ],
   "metadata": {}
  },
  {
   "outputs": [
    {
     "name": "stdout",
     "output_type": "stream",
     "text": [
      "Iter     Function value   Gradient norm \n",
      "     0     1.121325e+02     2.091646e+00\n",
      " * time: 0.1351470947265625\n",
      "     1     1.100370e+01     1.089591e+00\n",
      " * time: 1.0969820022583008\n",
      "     2    -1.179533e+01     1.281672e+00\n",
      " * time: 1.2475922107696533\n",
      "     3    -3.411238e+01     9.275418e-01\n",
      " * time: 1.417978048324585\n",
      "     4    -4.771241e+01     5.444966e-01\n",
      " * time: 1.5770671367645264\n",
      "     5    -5.699195e+01     1.833667e-01\n",
      " * time: 1.726938009262085\n",
      "     6    -5.983043e+01     1.192086e-01\n",
      " * time: 1.854283094406128\n",
      "     7    -6.084154e+01     4.763431e-02\n",
      " * time: 1.9799151420593262\n",
      "     8    -6.121167e+01     6.872577e-02\n",
      " * time: 2.0966901779174805\n",
      "     9    -6.152699e+01     4.164062e-02\n",
      " * time: 2.2195792198181152\n",
      "    10    -6.173852e+01     2.961087e-02\n",
      " * time: 2.336005210876465\n",
      "    11    -6.191605e+01     2.559027e-02\n",
      " * time: 2.4624969959259033\n",
      "    12    -6.199473e+01     2.595821e-02\n",
      " * time: 2.5904340744018555\n",
      "    13    -6.207806e+01     1.822825e-02\n",
      " * time: 2.7057621479034424\n",
      "    14    -6.211851e+01     1.386522e-02\n",
      " * time: 2.830202102661133\n",
      "    15    -6.215387e+01     1.479535e-02\n",
      " * time: 2.9552202224731445\n",
      "    16    -6.217308e+01     9.274225e-03\n",
      " * time: 3.067888021469116\n",
      "    17    -6.218521e+01     9.601788e-03\n",
      " * time: 3.189697027206421\n",
      "    18    -6.219440e+01     5.048269e-03\n",
      " * time: 3.3028512001037598\n",
      "    19    -6.220026e+01     5.171529e-03\n",
      " * time: 3.4261550903320312\n",
      "    20    -6.220463e+01     5.646518e-03\n",
      " * time: 3.5463080406188965\n",
      "    21    -6.220827e+01     3.642551e-03\n",
      " * time: 3.660590171813965\n",
      "    22    -6.221160e+01     3.604327e-03\n",
      " * time: 3.782766103744507\n",
      "    23    -6.221452e+01     3.970077e-03\n",
      " * time: 3.8957860469818115\n",
      "    24    -6.221676e+01     3.805400e-03\n",
      " * time: 4.016833066940308\n",
      "    25    -6.221883e+01     3.840152e-03\n",
      " * time: 4.137583017349243\n",
      "    26    -6.222105e+01     4.192209e-03\n",
      " * time: 4.249140024185181\n",
      "    27    -6.222403e+01     5.614943e-03\n",
      " * time: 4.370406150817871\n",
      "    28    -6.222830e+01     7.031407e-03\n",
      " * time: 4.48421311378479\n",
      "    29    -6.223381e+01     7.720705e-03\n",
      " * time: 4.606456995010376\n",
      "    30    -6.224119e+01     6.535500e-03\n",
      " * time: 4.730346202850342\n",
      "    31    -6.224857e+01     5.597328e-03\n",
      " * time: 4.846624135971069\n",
      "    32    -6.225327e+01     3.779236e-03\n",
      " * time: 4.972223997116089\n",
      "    33    -6.225716e+01     3.123562e-03\n",
      " * time: 5.087285995483398\n",
      "    34    -6.225907e+01     2.428837e-03\n",
      " * time: 5.2104620933532715\n",
      "    35    -6.226031e+01     1.657251e-03\n",
      " * time: 5.335498094558716\n",
      "    36    -6.226090e+01     1.404403e-03\n",
      " * time: 5.448434114456177\n",
      "    37    -6.226120e+01     1.147795e-03\n",
      " * time: 5.5715491771698\n",
      "    38    -6.226136e+01     1.052202e-03\n",
      " * time: 5.686601161956787\n",
      "    39    -6.226146e+01     8.150930e-04\n",
      " * time: 5.8099470138549805\n",
      "    40    -6.226153e+01     6.261552e-04\n",
      " * time: 5.936207056045532\n",
      "    41    -6.226157e+01     5.052131e-04\n",
      " * time: 6.051577091217041\n",
      "    42    -6.226160e+01     4.379237e-04\n",
      " * time: 6.172645092010498\n",
      "    43    -6.226163e+01     3.945839e-04\n",
      " * time: 6.288500070571899\n",
      "    44    -6.226164e+01     2.834284e-04\n",
      " * time: 6.412156105041504\n",
      "    45    -6.226166e+01     2.320276e-04\n",
      " * time: 6.541330099105835\n",
      "    46    -6.226166e+01     1.676142e-04\n",
      " * time: 6.659085035324097\n",
      "    47    -6.226166e+01     1.081466e-04\n",
      " * time: 6.784850120544434\n",
      "    48    -6.226167e+01     5.912924e-05\n",
      " * time: 6.903171062469482\n",
      "    49    -6.226167e+01     3.746981e-05\n",
      " * time: 7.025121212005615\n",
      "    50    -6.226167e+01     3.157869e-05\n",
      " * time: 7.146196126937866\n",
      "    51    -6.226167e+01     2.594553e-05\n",
      " * time: 7.260592222213745\n",
      "    52    -6.226167e+01     2.039537e-05\n",
      " * time: 7.386419057846069\n",
      "    53    -6.226167e+01     1.657436e-05\n",
      " * time: 7.5100321769714355\n",
      "    54    -6.226167e+01     1.495528e-05\n",
      " * time: 7.628258228302002\n",
      "    55    -6.226167e+01     1.266668e-05\n",
      " * time: 7.75339412689209\n",
      "    56    -6.226167e+01     7.879362e-06\n",
      " * time: 7.871141195297241\n",
      "    57    -6.226167e+01     5.617586e-06\n",
      " * time: 7.996882200241089\n",
      "    58    -6.226167e+01     4.122608e-06\n",
      " * time: 8.124819993972778\n",
      "    59    -6.226167e+01     3.317817e-06\n",
      " * time: 8.241047143936157\n",
      "    60    -6.226167e+01     2.441153e-06\n",
      " * time: 8.36487102508545\n"
     ]
    }
   ],
   "cell_type": "code",
   "source": [
    "scfres = direct_minimization(basis, tol=1e-5);"
   ],
   "metadata": {},
   "execution_count": 4
  },
  {
   "outputs": [
    {
     "output_type": "execute_result",
     "data": {
      "text/plain": "Energy breakdown:\n    Kinetic             25.7671070\n    AtomicLocal         -18.8557710\n    AtomicNonlocal      14.8522670\n    Ewald               -67.1831486\n    PspCorrection       -2.3569765\n    Hartree             4.8485381 \n    Xc                  -19.3336824\n\n    total               -62.261666461186\n"
     },
     "metadata": {},
     "execution_count": 5
    }
   ],
   "cell_type": "code",
   "source": [
    "scfres.energies"
   ],
   "metadata": {},
   "execution_count": 5
  }
 ],
 "nbformat_minor": 3,
 "metadata": {
  "language_info": {
   "file_extension": ".jl",
   "mimetype": "application/julia",
   "name": "julia",
   "version": "1.3.1"
  },
  "kernelspec": {
   "name": "julia-1.3",
   "display_name": "Julia 1.3.1",
   "language": "julia"
  }
 },
 "nbformat": 4
}
