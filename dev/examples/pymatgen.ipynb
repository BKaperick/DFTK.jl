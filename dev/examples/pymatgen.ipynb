{
 "cells": [
  {
   "cell_type": "markdown",
   "source": [
    "# Creating supercells with pymatgen\n",
    "\n",
    "The [Pymatgen](https://pymatgen.org/) python library allows to setup\n",
    "solid-state calculations using a flexible set of classes as well as an API\n",
    "to an online data base of structures. Its `Structure` and `Lattice`\n",
    "objects are directly supported by the DFTK `load_atoms` and `load_lattice`\n",
    "functions, such that DFTK may be readily used to run calculation on systems\n",
    "defined in pymatgen. Using the `pymatgen_structure` function a conversion\n",
    "from DFTK to pymatgen structures is also possible. In the following we\n",
    "use this to create a silicon supercell and find its LDA ground state\n",
    "using direct minimisation."
   ],
   "metadata": {}
  },
  {
   "cell_type": "markdown",
   "source": [
    "First we setup the silicon lattice in DFTK."
   ],
   "metadata": {}
  },
  {
   "outputs": [],
   "cell_type": "code",
   "source": [
    "using DFTK\n",
    "\n",
    "a = 10.263141334305942  # Lattice constant in Bohr\n",
    "lattice = a / 2 .* [[0 1 1.]; [1 0 1.]; [1 1 0.]]\n",
    "Si = ElementPsp(:Si, psp=load_psp(\"hgh/lda/Si-q4\"))\n",
    "atoms = [Si => [ones(3)/8, -ones(3)/8]];"
   ],
   "metadata": {},
   "execution_count": 1
  },
  {
   "cell_type": "markdown",
   "source": [
    "Next we make a `[2, 2, 2]` supercell using pymatgen"
   ],
   "metadata": {}
  },
  {
   "outputs": [],
   "cell_type": "code",
   "source": [
    "pystruct = pymatgen_structure(lattice, atoms)\n",
    "pystruct.make_supercell([2, 2, 2])\n",
    "lattice = load_lattice(pystruct)\n",
    "atoms = [Si => [s.frac_coords for s in pystruct.sites]];"
   ],
   "metadata": {},
   "execution_count": 2
  },
  {
   "cell_type": "markdown",
   "source": [
    "Setup an LDA model and discretize using\n",
    "a single kpoint and a small `Ecut` of 5 Hartree."
   ],
   "metadata": {}
  },
  {
   "outputs": [
    {
     "output_type": "execute_result",
     "data": {
      "text/plain": "PlaneWaveBasis (Ecut=5.0, 1 kpoints)"
     },
     "metadata": {},
     "execution_count": 3
    }
   ],
   "cell_type": "code",
   "source": [
    "model = model_LDA(lattice, atoms)\n",
    "basis = PlaneWaveBasis(model, 5, kgrid=(1, 1, 1))"
   ],
   "metadata": {},
   "execution_count": 3
  },
  {
   "cell_type": "markdown",
   "source": [
    "Find the ground state using direct minimisation (always using SCF is boring ...)"
   ],
   "metadata": {}
  },
  {
   "outputs": [
    {
     "name": "stdout",
     "output_type": "stream",
     "text": [
      "Iter     Function value   Gradient norm \n",
      "     0     1.118703e+02     1.513966e+00\n",
      " * time: 0.07802009582519531\n",
      "     1     1.112883e+01     8.989693e-01\n",
      " * time: 1.444167137145996\n",
      "     2    -1.177817e+01     9.145720e-01\n",
      " * time: 1.5481171607971191\n",
      "     3    -3.418889e+01     7.211346e-01\n",
      " * time: 1.6838390827178955\n",
      "     4    -4.780127e+01     5.590095e-01\n",
      " * time: 1.8844561576843262\n",
      "     5    -5.691863e+01     2.281750e-01\n",
      " * time: 2.008315086364746\n",
      "     6    -5.981740e+01     1.209034e-01\n",
      " * time: 2.1045539379119873\n",
      "     7    -6.091784e+01     5.037106e-02\n",
      " * time: 2.201064109802246\n",
      "     8    -6.133997e+01     8.250766e-02\n",
      " * time: 2.3280861377716064\n",
      "     9    -6.166352e+01     3.604097e-02\n",
      " * time: 2.424323081970215\n",
      "    10    -6.187485e+01     2.468195e-02\n",
      " * time: 2.519350051879883\n",
      "    11    -6.202231e+01     1.710251e-02\n",
      " * time: 2.614192008972168\n",
      "    12    -6.207652e+01     1.836437e-02\n",
      " * time: 2.7123570442199707\n",
      "    13    -6.212967e+01     1.819060e-02\n",
      " * time: 2.812631130218506\n",
      "    14    -6.215361e+01     1.503283e-02\n",
      " * time: 2.9250471591949463\n",
      "    15    -6.217504e+01     1.129292e-02\n",
      " * time: 3.0224461555480957\n",
      "    16    -6.218833e+01     9.317808e-03\n",
      " * time: 3.1192450523376465\n",
      "    17    -6.219921e+01     8.572868e-03\n",
      " * time: 3.2182581424713135\n",
      "    18    -6.220896e+01     7.999936e-03\n",
      " * time: 3.3179211616516113\n",
      "    19    -6.221764e+01     7.457719e-03\n",
      " * time: 3.4261059761047363\n",
      "    20    -6.222578e+01     8.211791e-03\n",
      " * time: 3.522818088531494\n",
      "    21    -6.223385e+01     7.302908e-03\n",
      " * time: 3.619590997695923\n",
      "    22    -6.224174e+01     6.268704e-03\n",
      " * time: 3.717137098312378\n",
      "    23    -6.224846e+01     5.318326e-03\n",
      " * time: 3.815613031387329\n",
      "    24    -6.225302e+01     3.636882e-03\n",
      " * time: 3.921056032180786\n",
      "    25    -6.225597e+01     2.733568e-03\n",
      " * time: 4.017651081085205\n",
      "    26    -6.225791e+01     2.519847e-03\n",
      " * time: 4.112694025039673\n",
      "    27    -6.225914e+01     2.102503e-03\n",
      " * time: 4.209534168243408\n",
      "    28    -6.225996e+01     2.244761e-03\n",
      " * time: 4.306689023971558\n",
      "    29    -6.226053e+01     2.134398e-03\n",
      " * time: 4.41364312171936\n",
      "    30    -6.226095e+01     1.421926e-03\n",
      " * time: 4.51212215423584\n",
      "    31    -6.226125e+01     1.129965e-03\n",
      " * time: 4.609171152114868\n",
      "    32    -6.226144e+01     8.688261e-04\n",
      " * time: 4.703582048416138\n",
      "    33    -6.226155e+01     7.186484e-04\n",
      " * time: 4.798356056213379\n",
      "    34    -6.226161e+01     4.081347e-04\n",
      " * time: 4.901180982589722\n",
      "    35    -6.226164e+01     2.941899e-04\n",
      " * time: 4.9955949783325195\n",
      "    36    -6.226165e+01     2.272729e-04\n",
      " * time: 5.089576005935669\n",
      "    37    -6.226166e+01     1.324695e-04\n",
      " * time: 5.184792995452881\n",
      "    38    -6.226166e+01     1.016489e-04\n",
      " * time: 5.281869173049927\n",
      "    39    -6.226166e+01     8.574073e-05\n",
      " * time: 5.386876106262207\n",
      "    40    -6.226166e+01     7.046857e-05\n",
      " * time: 5.48291802406311\n",
      "    41    -6.226167e+01     6.513910e-05\n",
      " * time: 5.579054117202759\n",
      "    42    -6.226167e+01     4.676520e-05\n",
      " * time: 5.673007011413574\n",
      "    43    -6.226167e+01     3.208386e-05\n",
      " * time: 5.769930124282837\n",
      "    44    -6.226167e+01     2.655704e-05\n",
      " * time: 5.873993158340454\n",
      "    45    -6.226167e+01     2.309990e-05\n",
      " * time: 5.969464063644409\n",
      "    46    -6.226167e+01     1.853620e-05\n",
      " * time: 6.066792964935303\n",
      "    47    -6.226167e+01     9.829680e-06\n",
      " * time: 6.168272972106934\n",
      "    48    -6.226167e+01     7.833738e-06\n",
      " * time: 6.266947031021118\n",
      "    49    -6.226167e+01     6.314110e-06\n",
      " * time: 6.375553131103516\n",
      "    50    -6.226167e+01     4.687727e-06\n",
      " * time: 6.473335027694702\n",
      "    51    -6.226167e+01     3.892461e-06\n",
      " * time: 6.569509029388428\n"
     ]
    }
   ],
   "cell_type": "code",
   "source": [
    "scfres = direct_minimization(basis, tol=1e-5);"
   ],
   "metadata": {},
   "execution_count": 4
  },
  {
   "outputs": [
    {
     "output_type": "execute_result",
     "data": {
      "text/plain": "Energy breakdown:\n    Kinetic             25.7671064\n    AtomicLocal         -18.8557645\n    AtomicNonlocal      14.8522621\n    Ewald               -67.1831486\n    PspCorrection       -2.3569765\n    Hartree             4.8485366 \n    Xc                  -19.3336818\n\n    total               -62.261666457704\n"
     },
     "metadata": {},
     "execution_count": 5
    }
   ],
   "cell_type": "code",
   "source": [
    "scfres.energies"
   ],
   "metadata": {},
   "execution_count": 5
  }
 ],
 "nbformat_minor": 3,
 "metadata": {
  "language_info": {
   "file_extension": ".jl",
   "mimetype": "application/julia",
   "name": "julia",
   "version": "1.4.2"
  },
  "kernelspec": {
   "name": "julia-1.4",
   "display_name": "Julia 1.4.2",
   "language": "julia"
  }
 },
 "nbformat": 4
}
