{
 "cells": [
  {
   "cell_type": "markdown",
   "source": [
    "# Creating supercells with pymatgen\n",
    "\n",
    "The [Pymatgen](https://pymatgen.org/) python library allows to setup\n",
    "solid-state calculations using a flexible set of classes as well as an API\n",
    "to an online data base of structures. Its `Structure` and `Lattice`\n",
    "objects are directly supported by the DFTK `load_atoms` and `load_lattice`\n",
    "functions, such that DFTK may be readily used to run calculation on systems\n",
    "defined in pymatgen. Using the `pymatgen_structure` function a conversion\n",
    "from DFTK to pymatgen structures is also possible. In the following we\n",
    "use this to create a silicon supercell and find its LDA ground state\n",
    "using direct minimisation."
   ],
   "metadata": {}
  },
  {
   "cell_type": "markdown",
   "source": [
    "First we setup the silicon lattice in DFTK."
   ],
   "metadata": {}
  },
  {
   "outputs": [],
   "cell_type": "code",
   "source": [
    "using DFTK\n",
    "\n",
    "a = 10.263141334305942  # Lattice constant in Bohr\n",
    "lattice = a / 2 .* [[0 1 1.]; [1 0 1.]; [1 1 0.]]\n",
    "Si = ElementPsp(:Si, psp=load_psp(\"hgh/lda/Si-q4\"))\n",
    "atoms = [Si => [ones(3)/8, -ones(3)/8]];"
   ],
   "metadata": {},
   "execution_count": 1
  },
  {
   "cell_type": "markdown",
   "source": [
    "Next we make a `[2, 2, 2]` supercell using pymatgen"
   ],
   "metadata": {}
  },
  {
   "outputs": [],
   "cell_type": "code",
   "source": [
    "pystruct = pymatgen_structure(lattice, atoms)\n",
    "pystruct.make_supercell([2, 2, 2])\n",
    "lattice = load_lattice(pystruct)\n",
    "atoms = [Si => [s.frac_coords for s in pystruct.sites]];"
   ],
   "metadata": {},
   "execution_count": 2
  },
  {
   "cell_type": "markdown",
   "source": [
    "Setup an LDA model and discretize using\n",
    "a single kpoint and a small `Ecut` of 5 Hartree."
   ],
   "metadata": {}
  },
  {
   "outputs": [
    {
     "output_type": "execute_result",
     "data": {
      "text/plain": "PlaneWaveBasis (Ecut=5.0, 1 kpoints)"
     },
     "metadata": {},
     "execution_count": 3
    }
   ],
   "cell_type": "code",
   "source": [
    "model = model_LDA(lattice, atoms)\n",
    "basis = PlaneWaveBasis(model, 5, kgrid=(1, 1, 1))"
   ],
   "metadata": {},
   "execution_count": 3
  },
  {
   "cell_type": "markdown",
   "source": [
    "Find the ground state using direct minimisation (always using SCF is boring ...)"
   ],
   "metadata": {}
  },
  {
   "outputs": [
    {
     "name": "stdout",
     "output_type": "stream",
     "text": [
      "Iter     Function value   Gradient norm \n",
      "     0     1.114382e+02     1.622129e+00\n",
      " * time: 0.07538104057312012\n",
      "     1     1.092347e+01     8.555678e-01\n",
      " * time: 1.3986101150512695\n",
      "     2    -1.141735e+01     1.020042e+00\n",
      " * time: 1.498924970626831\n",
      "     3    -3.388589e+01     7.463936e-01\n",
      " * time: 1.6291470527648926\n",
      "     4    -4.730988e+01     5.281953e-01\n",
      " * time: 1.7802090644836426\n",
      "     5    -5.690486e+01     2.262305e-01\n",
      " * time: 1.8982000350952148\n",
      "     6    -5.976492e+01     1.593242e-01\n",
      " * time: 1.9873430728912354\n",
      "     7    -6.091225e+01     8.544111e-02\n",
      " * time: 2.0774829387664795\n",
      "     8    -6.140782e+01     5.239465e-02\n",
      " * time: 2.182513952255249\n",
      "     9    -6.168674e+01     3.339579e-02\n",
      " * time: 2.2729270458221436\n",
      "    10    -6.184799e+01     2.725793e-02\n",
      " * time: 2.3635520935058594\n",
      "    11    -6.199392e+01     2.033551e-02\n",
      " * time: 2.4535181522369385\n",
      "    12    -6.208906e+01     1.851785e-02\n",
      " * time: 2.5445921421051025\n",
      "    13    -6.213798e+01     1.616094e-02\n",
      " * time: 2.645301103591919\n",
      "    14    -6.218467e+01     1.461351e-02\n",
      " * time: 2.7359559535980225\n",
      "    15    -6.220673e+01     9.240198e-03\n",
      " * time: 2.8262901306152344\n",
      "    16    -6.222196e+01     7.579733e-03\n",
      " * time: 2.9159610271453857\n",
      "    17    -6.223191e+01     6.684024e-03\n",
      " * time: 3.0066449642181396\n",
      "    18    -6.223924e+01     7.215483e-03\n",
      " * time: 3.1041791439056396\n",
      "    19    -6.224511e+01     7.251788e-03\n",
      " * time: 3.1918530464172363\n",
      "    20    -6.225012e+01     7.209738e-03\n",
      " * time: 3.2819631099700928\n",
      "    21    -6.225454e+01     4.884437e-03\n",
      " * time: 3.3699820041656494\n",
      "    22    -6.225789e+01     4.387645e-03\n",
      " * time: 3.4588301181793213\n",
      "    23    -6.225990e+01     2.316746e-03\n",
      " * time: 3.555330991744995\n",
      "    24    -6.226082e+01     1.787560e-03\n",
      " * time: 3.643486976623535\n",
      "    25    -6.226122e+01     1.159570e-03\n",
      " * time: 3.7322609424591064\n",
      "    26    -6.226142e+01     8.866000e-04\n",
      " * time: 3.821568012237549\n",
      "    27    -6.226151e+01     7.727073e-04\n",
      " * time: 3.9196791648864746\n",
      "    28    -6.226157e+01     5.899126e-04\n",
      " * time: 4.008358001708984\n",
      "    29    -6.226160e+01     5.371762e-04\n",
      " * time: 4.097643136978149\n",
      "    30    -6.226162e+01     4.421256e-04\n",
      " * time: 4.186105012893677\n",
      "    31    -6.226164e+01     3.505698e-04\n",
      " * time: 4.2750420570373535\n",
      "    32    -6.226165e+01     2.772023e-04\n",
      " * time: 4.37155294418335\n",
      "    33    -6.226166e+01     1.627756e-04\n",
      " * time: 4.460669040679932\n",
      "    34    -6.226166e+01     1.222459e-04\n",
      " * time: 4.54988694190979\n",
      "    35    -6.226166e+01     1.008827e-04\n",
      " * time: 4.639238119125366\n",
      "    36    -6.226167e+01     6.154289e-05\n",
      " * time: 4.728506088256836\n",
      "    37    -6.226167e+01     3.952359e-05\n",
      " * time: 4.8250720500946045\n",
      "    38    -6.226167e+01     2.753986e-05\n",
      " * time: 4.914035081863403\n",
      "    39    -6.226167e+01     2.240411e-05\n",
      " * time: 5.0052549839019775\n",
      "    40    -6.226167e+01     2.030297e-05\n",
      " * time: 5.094948053359985\n",
      "    41    -6.226167e+01     1.798585e-05\n",
      " * time: 5.193563938140869\n",
      "    42    -6.226167e+01     1.538218e-05\n",
      " * time: 5.285048961639404\n",
      "    43    -6.226167e+01     1.092744e-05\n",
      " * time: 5.3761210441589355\n",
      "    44    -6.226167e+01     9.916742e-06\n",
      " * time: 5.466655969619751\n",
      "    45    -6.226167e+01     9.193872e-06\n",
      " * time: 5.555626153945923\n",
      "    46    -6.226167e+01     7.062634e-06\n",
      " * time: 5.651693105697632\n",
      "    47    -6.226167e+01     4.336766e-06\n",
      " * time: 5.740431070327759\n",
      "    48    -6.226167e+01     3.209503e-06\n",
      " * time: 5.828884124755859\n",
      "    49    -6.226167e+01     1.908665e-06\n",
      " * time: 5.917886972427368\n"
     ]
    }
   ],
   "cell_type": "code",
   "source": [
    "scfres = direct_minimization(basis, tol=1e-5);"
   ],
   "metadata": {},
   "execution_count": 4
  },
  {
   "outputs": [
    {
     "output_type": "execute_result",
     "data": {
      "text/plain": "Energy breakdown:\n    Kinetic             25.7671066\n    AtomicLocal         -18.8557664\n    AtomicNonlocal      14.8522636\n    Ewald               -67.1831486\n    PspCorrection       -2.3569765\n    Hartree             4.8485368 \n    Xc                  -19.3336819\n\n    total               -62.261666462501\n"
     },
     "metadata": {},
     "execution_count": 5
    }
   ],
   "cell_type": "code",
   "source": [
    "scfres.energies"
   ],
   "metadata": {},
   "execution_count": 5
  }
 ],
 "nbformat_minor": 3,
 "metadata": {
  "language_info": {
   "file_extension": ".jl",
   "mimetype": "application/julia",
   "name": "julia",
   "version": "1.4.2"
  },
  "kernelspec": {
   "name": "julia-1.4",
   "display_name": "Julia 1.4.2",
   "language": "julia"
  }
 },
 "nbformat": 4
}
