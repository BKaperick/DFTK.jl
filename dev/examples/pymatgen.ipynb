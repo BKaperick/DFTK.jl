{
 "cells": [
  {
   "cell_type": "markdown",
   "source": [
    "# Creating supercells with pymatgen\n",
    "\n",
    "The [Pymatgen](https://pymatgen.org/) python library allows to setup\n",
    "solid-state calculations using a flexible set of classes as well as an API\n",
    "to an online data base of structures. Its `Structure` and `Lattice`\n",
    "objects are directly supported by the DFTK `load_atoms` and `load_lattice`\n",
    "functions, such that DFTK may be readily used to run calculation on systems\n",
    "defined in pymatgen. Using the `pymatgen_structure` function a conversion\n",
    "from DFTK to pymatgen structures is also possible. In the following we\n",
    "use this to create a silicon supercell and find its LDA ground state\n",
    "using direct minimisation."
   ],
   "metadata": {}
  },
  {
   "cell_type": "markdown",
   "source": [
    "First we setup the silicon lattice in DFTK."
   ],
   "metadata": {}
  },
  {
   "outputs": [],
   "cell_type": "code",
   "source": [
    "using DFTK\n",
    "\n",
    "a = 10.263141334305942  # Lattice constant in Bohr\n",
    "lattice = a / 2 .* [[0 1 1.]; [1 0 1.]; [1 1 0.]]\n",
    "Si = ElementPsp(:Si, psp=load_psp(\"hgh/lda/Si-q4\"))\n",
    "atoms = [Si => [ones(3)/8, -ones(3)/8]];"
   ],
   "metadata": {},
   "execution_count": 1
  },
  {
   "cell_type": "markdown",
   "source": [
    "Next we make a `[2, 2, 2]` supercell using pymatgen"
   ],
   "metadata": {}
  },
  {
   "outputs": [],
   "cell_type": "code",
   "source": [
    "pystruct = pymatgen_structure(lattice, atoms)\n",
    "pystruct.make_supercell([2, 2, 2])\n",
    "lattice = load_lattice(pystruct)\n",
    "atoms = [Si => [s.frac_coords for s in pystruct.sites]];"
   ],
   "metadata": {},
   "execution_count": 2
  },
  {
   "cell_type": "markdown",
   "source": [
    "Setup an LDA model and discretize using\n",
    "a single kpoint and a small `Ecut` of 5 Hartree."
   ],
   "metadata": {}
  },
  {
   "outputs": [
    {
     "output_type": "execute_result",
     "data": {
      "text/plain": "PlaneWaveBasis (Ecut=5.0, 1 kpoints)"
     },
     "metadata": {},
     "execution_count": 3
    }
   ],
   "cell_type": "code",
   "source": [
    "model = model_LDA(lattice, atoms)\n",
    "basis = PlaneWaveBasis(model, 5, kgrid=(1, 1, 1))"
   ],
   "metadata": {},
   "execution_count": 3
  },
  {
   "cell_type": "markdown",
   "source": [
    "Find the ground state using direct minimisation (always using SCF is boring ...)"
   ],
   "metadata": {}
  },
  {
   "outputs": [
    {
     "name": "stdout",
     "output_type": "stream",
     "text": [
      "Iter     Function value   Gradient norm \n",
      "     0     1.119044e+02     1.459687e+00\n",
      " * time: 0.09062504768371582\n",
      "     1     1.205559e+01     8.424775e-01\n",
      " * time: 0.9645121097564697\n",
      "     2    -1.170489e+01     9.997701e-01\n",
      " * time: 1.1135361194610596\n",
      "     3    -3.378313e+01     7.342869e-01\n",
      " * time: 1.2837719917297363\n",
      "     4    -4.730336e+01     5.245068e-01\n",
      " * time: 1.4393179416656494\n",
      "     5    -5.675638e+01     1.870099e-01\n",
      " * time: 1.5867400169372559\n",
      "     6    -5.970681e+01     1.054880e-01\n",
      " * time: 1.695322036743164\n",
      "     7    -6.081030e+01     5.441595e-02\n",
      " * time: 1.8111090660095215\n",
      "     8    -6.120922e+01     6.994394e-02\n",
      " * time: 1.9271371364593506\n",
      "     9    -6.154066e+01     3.652880e-02\n",
      " * time: 2.0351030826568604\n",
      "    10    -6.176374e+01     2.564564e-02\n",
      " * time: 2.1517720222473145\n",
      "    11    -6.194173e+01     2.274283e-02\n",
      " * time: 2.2597529888153076\n",
      "    12    -6.200818e+01     2.163160e-02\n",
      " * time: 2.3743810653686523\n",
      "    13    -6.208111e+01     1.648755e-02\n",
      " * time: 2.488554000854492\n",
      "    14    -6.211387e+01     1.528432e-02\n",
      " * time: 2.596325159072876\n",
      "    15    -6.214879e+01     1.164244e-02\n",
      " * time: 2.710442066192627\n",
      "    16    -6.216880e+01     9.882211e-03\n",
      " * time: 2.8175151348114014\n",
      "    17    -6.218509e+01     1.006142e-02\n",
      " * time: 2.932814121246338\n",
      "    18    -6.219716e+01     7.542023e-03\n",
      " * time: 3.046257972717285\n",
      "    19    -6.220679e+01     6.510958e-03\n",
      " * time: 3.152646064758301\n",
      "    20    -6.221573e+01     7.375948e-03\n",
      " * time: 3.2660810947418213\n",
      "    21    -6.222462e+01     7.142958e-03\n",
      " * time: 3.379621982574463\n",
      "    22    -6.223375e+01     7.727316e-03\n",
      " * time: 3.4861271381378174\n",
      "    23    -6.224250e+01     5.362513e-03\n",
      " * time: 3.6047770977020264\n",
      "    24    -6.224970e+01     4.455278e-03\n",
      " * time: 3.7114241123199463\n",
      "    25    -6.225411e+01     3.513926e-03\n",
      " * time: 3.8249170780181885\n",
      "    26    -6.225675e+01     2.978918e-03\n",
      " * time: 3.939347982406616\n",
      "    27    -6.225832e+01     2.680982e-03\n",
      " * time: 4.0458409786224365\n",
      "    28    -6.225936e+01     2.202959e-03\n",
      " * time: 4.158307075500488\n",
      "    29    -6.226010e+01     1.725110e-03\n",
      " * time: 4.265191078186035\n",
      "    30    -6.226067e+01     1.452919e-03\n",
      " * time: 4.380207061767578\n",
      "    31    -6.226107e+01     9.694437e-04\n",
      " * time: 4.495794057846069\n",
      "    32    -6.226132e+01     8.440002e-04\n",
      " * time: 4.602839946746826\n",
      "    33    -6.226148e+01     7.202096e-04\n",
      " * time: 4.716212034225464\n",
      "    34    -6.226158e+01     5.602223e-04\n",
      " * time: 4.822921991348267\n",
      "    35    -6.226162e+01     3.950878e-04\n",
      " * time: 4.937631130218506\n",
      "    36    -6.226164e+01     3.286301e-04\n",
      " * time: 5.050641059875488\n",
      "    37    -6.226165e+01     2.004788e-04\n",
      " * time: 5.157228946685791\n",
      "    38    -6.226166e+01     1.283863e-04\n",
      " * time: 5.2709879875183105\n",
      "    39    -6.226166e+01     1.017340e-04\n",
      " * time: 5.384876012802124\n",
      "    40    -6.226166e+01     8.406584e-05\n",
      " * time: 5.49208402633667\n",
      "    41    -6.226166e+01     6.982285e-05\n",
      " * time: 5.605971097946167\n",
      "    42    -6.226166e+01     6.217615e-05\n",
      " * time: 5.713510036468506\n",
      "    43    -6.226167e+01     4.265900e-05\n",
      " * time: 5.828230142593384\n",
      "    44    -6.226167e+01     3.481784e-05\n",
      " * time: 5.942085027694702\n",
      "    45    -6.226167e+01     2.429196e-05\n",
      " * time: 6.0492329597473145\n",
      "    46    -6.226167e+01     1.857883e-05\n",
      " * time: 6.164082050323486\n",
      "    47    -6.226167e+01     1.302187e-05\n",
      " * time: 6.272474050521851\n",
      "    48    -6.226167e+01     9.417510e-06\n",
      " * time: 6.387880086898804\n",
      "    49    -6.226167e+01     7.509557e-06\n",
      " * time: 6.502356052398682\n",
      "    50    -6.226167e+01     5.383396e-06\n",
      " * time: 6.609620094299316\n",
      "    51    -6.226167e+01     3.914730e-06\n",
      " * time: 6.723049163818359\n"
     ]
    }
   ],
   "cell_type": "code",
   "source": [
    "scfres = direct_minimization(basis, tol=1e-5);"
   ],
   "metadata": {},
   "execution_count": 4
  },
  {
   "outputs": [
    {
     "output_type": "execute_result",
     "data": {
      "text/plain": "Energy breakdown:\n    Kinetic             25.7671080\n    AtomicLocal         -18.8557674\n    AtomicNonlocal      14.8522625\n    Ewald               -67.1831486\n    PspCorrection       -2.3569765\n    Hartree             4.8485382 \n    Xc                  -19.3336825\n\n    total               -62.261666455686\n"
     },
     "metadata": {},
     "execution_count": 5
    }
   ],
   "cell_type": "code",
   "source": [
    "scfres.energies"
   ],
   "metadata": {},
   "execution_count": 5
  }
 ],
 "nbformat_minor": 3,
 "metadata": {
  "language_info": {
   "file_extension": ".jl",
   "mimetype": "application/julia",
   "name": "julia",
   "version": "1.3.1"
  },
  "kernelspec": {
   "name": "julia-1.3",
   "display_name": "Julia 1.3.1",
   "language": "julia"
  }
 },
 "nbformat": 4
}
