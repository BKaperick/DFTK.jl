{
 "cells": [
  {
   "cell_type": "markdown",
   "source": [
    "# Creating supercells with pymatgen\n",
    "\n",
    "The [Pymatgen](https://pymatgen.org/) python library allows to setup\n",
    "solid-state calculations using a flexible set of classes as well as an API\n",
    "to an online data base of structures. Its `Structure` and `Lattice`\n",
    "objects are directly supported by the DFTK `load_atoms` and `load_lattice`\n",
    "functions, such that DFTK may be readily used to run calculation on systems\n",
    "defined in pymatgen. Using the `pymatgen_structure` function a conversion\n",
    "from DFTK to pymatgen structures is also possible. In the following we\n",
    "use this to create a silicon supercell and find its LDA ground state\n",
    "using direct minimisation."
   ],
   "metadata": {}
  },
  {
   "cell_type": "markdown",
   "source": [
    "First we setup the silicon lattice in DFTK."
   ],
   "metadata": {}
  },
  {
   "outputs": [],
   "cell_type": "code",
   "source": [
    "using DFTK\n",
    "\n",
    "a = 10.263141334305942  # Lattice constant in Bohr\n",
    "lattice = a / 2 .* [[0 1 1.]; [1 0 1.]; [1 1 0.]]\n",
    "Si = ElementPsp(:Si, psp=load_psp(\"hgh/lda/Si-q4\"))\n",
    "atoms = [Si => [ones(3)/8, -ones(3)/8]];"
   ],
   "metadata": {},
   "execution_count": 1
  },
  {
   "cell_type": "markdown",
   "source": [
    "Next we make a `[2, 2, 2]` supercell using pymatgen"
   ],
   "metadata": {}
  },
  {
   "outputs": [],
   "cell_type": "code",
   "source": [
    "pystruct = pymatgen_structure(lattice, atoms)\n",
    "pystruct.make_supercell([2, 2, 2])\n",
    "lattice = load_lattice(pystruct)\n",
    "atoms = [Si => [s.frac_coords for s in pystruct.sites]];"
   ],
   "metadata": {},
   "execution_count": 2
  },
  {
   "cell_type": "markdown",
   "source": [
    "Setup an LDA model and discretize using\n",
    "a single kpoint and a small `Ecut` of 5 Hartree."
   ],
   "metadata": {}
  },
  {
   "outputs": [
    {
     "output_type": "execute_result",
     "data": {
      "text/plain": "PlaneWaveBasis (Ecut=5.0, 1 kpoints)"
     },
     "metadata": {},
     "execution_count": 3
    }
   ],
   "cell_type": "code",
   "source": [
    "model = model_LDA(lattice, atoms)\n",
    "basis = PlaneWaveBasis(model, 5, kgrid=(1, 1, 1))"
   ],
   "metadata": {},
   "execution_count": 3
  },
  {
   "cell_type": "markdown",
   "source": [
    "Find the ground state using direct minimisation (always using SCF is boring ...)"
   ],
   "metadata": {}
  },
  {
   "outputs": [
    {
     "name": "stdout",
     "output_type": "stream",
     "text": [
      "Iter     Function value   Gradient norm \n",
      "     0     1.122681e+02     1.492872e+00\n",
      " * time: 0.5708000659942627\n",
      "     1     1.148303e+01     9.758391e-01\n",
      " * time: 1.9773430824279785\n",
      "     2    -1.184628e+01     1.035129e+00\n",
      " * time: 2.5637030601501465\n",
      "     3    -3.401799e+01     7.782094e-01\n",
      " * time: 3.4736480712890625\n",
      "     4    -4.774517e+01     5.633767e-01\n",
      " * time: 4.315453052520752\n",
      "     5    -5.689684e+01     1.888836e-01\n",
      " * time: 5.156620979309082\n",
      "     6    -5.977584e+01     1.038155e-01\n",
      " * time: 5.722622871398926\n",
      "     7    -6.084505e+01     5.311621e-02\n",
      " * time: 6.274955987930298\n",
      "     8    -6.122395e+01     7.311219e-02\n",
      " * time: 6.838320970535278\n",
      "     9    -6.152661e+01     3.353111e-02\n",
      " * time: 7.413519859313965\n",
      "    10    -6.172266e+01     2.818243e-02\n",
      " * time: 7.965532064437866\n",
      "    11    -6.189835e+01     2.387256e-02\n",
      " * time: 8.51366901397705\n",
      "    12    -6.197552e+01     1.884651e-02\n",
      " * time: 9.072512865066528\n",
      "    13    -6.206069e+01     1.733363e-02\n",
      " * time: 9.623475074768066\n",
      "    14    -6.210004e+01     1.542182e-02\n",
      " * time: 10.178248882293701\n",
      "    15    -6.214047e+01     1.248209e-02\n",
      " * time: 10.748772859573364\n",
      "    16    -6.216446e+01     1.055960e-02\n",
      " * time: 11.322519063949585\n",
      "    17    -6.218123e+01     8.266354e-03\n",
      " * time: 11.889445066452026\n",
      "    18    -6.219349e+01     7.092357e-03\n",
      " * time: 12.50093698501587\n",
      "    19    -6.220200e+01     6.817049e-03\n",
      " * time: 13.065233945846558\n",
      "    20    -6.220907e+01     6.433260e-03\n",
      " * time: 13.62525987625122\n",
      "    21    -6.221508e+01     7.604065e-03\n",
      " * time: 14.199302911758423\n",
      "    22    -6.222103e+01     7.380543e-03\n",
      " * time: 14.777961015701294\n",
      "    23    -6.222725e+01     6.876610e-03\n",
      " * time: 15.346893072128296\n",
      "    24    -6.223353e+01     7.350385e-03\n",
      " * time: 15.910358905792236\n",
      "    25    -6.223952e+01     6.556891e-03\n",
      " * time: 16.48928999900818\n",
      "    26    -6.224522e+01     5.539667e-03\n",
      " * time: 17.061522006988525\n",
      "    27    -6.224993e+01     5.560536e-03\n",
      " * time: 17.648607969284058\n",
      "    28    -6.225363e+01     3.732084e-03\n",
      " * time: 18.199753999710083\n",
      "    29    -6.225621e+01     3.432342e-03\n",
      " * time: 18.764442920684814\n",
      "    30    -6.225803e+01     3.048022e-03\n",
      " * time: 19.37816596031189\n",
      "    31    -6.225936e+01     2.549589e-03\n",
      " * time: 19.94767999649048\n",
      "    32    -6.226024e+01     1.946638e-03\n",
      " * time: 20.502002954483032\n",
      "    33    -6.226087e+01     1.427203e-03\n",
      " * time: 21.087090015411377\n",
      "    34    -6.226124e+01     1.030432e-03\n",
      " * time: 21.678766012191772\n",
      "    35    -6.226145e+01     6.885815e-04\n",
      " * time: 22.26161003112793\n",
      "    36    -6.226156e+01     4.341326e-04\n",
      " * time: 22.829405069351196\n",
      "    37    -6.226161e+01     3.318303e-04\n",
      " * time: 23.386542081832886\n",
      "    38    -6.226163e+01     3.182261e-04\n",
      " * time: 23.969372987747192\n",
      "    39    -6.226165e+01     2.513810e-04\n",
      " * time: 24.542171955108643\n",
      "    40    -6.226165e+01     2.104229e-04\n",
      " * time: 25.11325693130493\n",
      "    41    -6.226166e+01     1.620078e-04\n",
      " * time: 25.689466953277588\n",
      "    42    -6.226166e+01     1.307023e-04\n",
      " * time: 26.2754008769989\n",
      "    43    -6.226166e+01     9.164797e-05\n",
      " * time: 26.835815906524658\n",
      "    44    -6.226166e+01     8.868815e-05\n",
      " * time: 27.41589903831482\n",
      "    45    -6.226167e+01     6.722186e-05\n",
      " * time: 28.00980305671692\n",
      "    46    -6.226167e+01     4.468052e-05\n",
      " * time: 28.597625017166138\n",
      "    47    -6.226167e+01     2.896022e-05\n",
      " * time: 29.169540882110596\n",
      "    48    -6.226167e+01     2.211758e-05\n",
      " * time: 29.72489309310913\n",
      "    49    -6.226167e+01     1.305068e-05\n",
      " * time: 30.27892804145813\n",
      "    50    -6.226167e+01     9.811693e-06\n",
      " * time: 30.85877299308777\n",
      "    51    -6.226167e+01     8.087634e-06\n",
      " * time: 31.436739921569824\n",
      "    52    -6.226167e+01     7.683938e-06\n",
      " * time: 32.00291585922241\n",
      "    53    -6.226167e+01     5.472705e-06\n",
      " * time: 32.566614866256714\n",
      "    54    -6.226167e+01     5.074121e-06\n",
      " * time: 33.13537406921387\n",
      "    55    -6.226167e+01     3.663661e-06\n",
      " * time: 33.71319103240967\n",
      "    56    -6.226167e+01     2.788242e-06\n",
      " * time: 34.28274893760681\n",
      "    57    -6.226167e+01     2.200707e-06\n",
      " * time: 34.844353914260864\n"
     ]
    }
   ],
   "cell_type": "code",
   "source": [
    "scfres = direct_minimization(basis, tol=1e-5);"
   ],
   "metadata": {},
   "execution_count": 4
  },
  {
   "outputs": [
    {
     "output_type": "execute_result",
     "data": {
      "text/plain": "Energy breakdown:\n    Kinetic             25.7671071\n    AtomicLocal         -18.8557701\n    AtomicNonlocal      14.8522659\n    Ewald               -67.1831486\n    PspCorrection       -2.3569765\n    Hartree             4.8485383 \n    Xc                  -19.3336825\n\n    total               -62.261666461227\n"
     },
     "metadata": {},
     "execution_count": 5
    }
   ],
   "cell_type": "code",
   "source": [
    "scfres.energies"
   ],
   "metadata": {},
   "execution_count": 5
  }
 ],
 "nbformat_minor": 3,
 "metadata": {
  "language_info": {
   "file_extension": ".jl",
   "mimetype": "application/julia",
   "name": "julia",
   "version": "1.6.1"
  },
  "kernelspec": {
   "name": "julia-1.6",
   "display_name": "Julia 1.6.1",
   "language": "julia"
  }
 },
 "nbformat": 4
}
