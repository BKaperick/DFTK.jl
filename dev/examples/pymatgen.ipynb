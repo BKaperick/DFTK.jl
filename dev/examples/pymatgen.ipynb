{
 "cells": [
  {
   "cell_type": "markdown",
   "source": [
    "# Creating supercells with pymatgen\n",
    "\n",
    "The [Pymatgen](https://pymatgen.org/) python library allows to setup\n",
    "solid-state calculations using a flexible set of classes as well as an API\n",
    "to an online data base of structures. Its `Structure` and `Lattice`\n",
    "objects are directly supported by the DFTK `load_atoms` and `load_lattice`\n",
    "functions, such that DFTK may be readily used to run calculation on systems\n",
    "defined in pymatgen. Using the `pymatgen_structure` function a conversion\n",
    "from DFTK to pymatgen structures is also possible. In the following we\n",
    "use this to create a silicon supercell and find its LDA ground state\n",
    "using direct minimisation."
   ],
   "metadata": {}
  },
  {
   "cell_type": "markdown",
   "source": [
    "First we setup the silicon lattice in DFTK."
   ],
   "metadata": {}
  },
  {
   "outputs": [],
   "cell_type": "code",
   "source": [
    "using DFTK\n",
    "\n",
    "a = 10.263141334305942  # Lattice constant in Bohr\n",
    "lattice = a / 2 .* [[0 1 1.]; [1 0 1.]; [1 1 0.]]\n",
    "Si = ElementPsp(:Si, psp=load_psp(\"hgh/lda/Si-q4\"))\n",
    "atoms = [Si => [ones(3)/8, -ones(3)/8]];"
   ],
   "metadata": {},
   "execution_count": 1
  },
  {
   "cell_type": "markdown",
   "source": [
    "Next we make a `[2, 2, 2]` supercell using pymatgen"
   ],
   "metadata": {}
  },
  {
   "outputs": [],
   "cell_type": "code",
   "source": [
    "pystruct = pymatgen_structure(lattice, atoms)\n",
    "pystruct.make_supercell([2, 2, 2])\n",
    "lattice = load_lattice(pystruct)\n",
    "atoms = [Si => [s.frac_coords for s in pystruct.sites]];"
   ],
   "metadata": {},
   "execution_count": 2
  },
  {
   "cell_type": "markdown",
   "source": [
    "Setup an LDA model and discretize using\n",
    "a single kpoint and a small `Ecut` of 5 Hartree.\n",
    "Notice that `PlaneWaveBasis` defaults to just using the ``Γ``-point\n",
    "if no ``k``-point options are provided."
   ],
   "metadata": {}
  },
  {
   "outputs": [
    {
     "output_type": "execute_result",
     "data": {
      "text/plain": "PlaneWaveBasis (Ecut=5.0, 1 kpoints)"
     },
     "metadata": {},
     "execution_count": 3
    }
   ],
   "cell_type": "code",
   "source": [
    "model = model_LDA(lattice, atoms)\n",
    "basis = PlaneWaveBasis(model, 5)"
   ],
   "metadata": {},
   "execution_count": 3
  },
  {
   "cell_type": "markdown",
   "source": [
    "Find the ground state using direct minimisation (always using SCF is boring ...)"
   ],
   "metadata": {}
  },
  {
   "outputs": [
    {
     "name": "stdout",
     "output_type": "stream",
     "text": [
      "Iter     Function value   Gradient norm \n",
      "     0     1.119326e+02     1.657688e+00\n",
      " * time: 0.09101414680480957\n",
      "     1     1.120210e+01     1.021875e+00\n",
      " * time: 0.9401390552520752\n",
      "     2    -1.167959e+01     1.134925e+00\n",
      " * time: 1.0767300128936768\n",
      "     3    -3.384695e+01     7.893461e-01\n",
      " * time: 1.2387821674346924\n",
      "     4    -4.745770e+01     5.541462e-01\n",
      " * time: 1.3855221271514893\n",
      "     5    -5.669431e+01     1.961684e-01\n",
      " * time: 1.5296630859375\n",
      "     6    -5.958016e+01     1.397412e-01\n",
      " * time: 1.636789083480835\n",
      "     7    -6.075797e+01     6.029916e-02\n",
      " * time: 1.750338077545166\n",
      "     8    -6.124929e+01     4.341717e-02\n",
      " * time: 1.865368127822876\n",
      "     9    -6.152061e+01     4.542566e-02\n",
      " * time: 1.9740240573883057\n",
      "    10    -6.174143e+01     2.763963e-02\n",
      " * time: 2.0892720222473145\n",
      "    11    -6.190652e+01     2.172077e-02\n",
      " * time: 2.20345401763916\n",
      "    12    -6.199490e+01     1.770741e-02\n",
      " * time: 2.311795949935913\n",
      "    13    -6.205943e+01     1.663658e-02\n",
      " * time: 2.4258739948272705\n",
      "    14    -6.211412e+01     1.500762e-02\n",
      " * time: 2.5329880714416504\n",
      "    15    -6.215661e+01     1.329534e-02\n",
      " * time: 2.648488998413086\n",
      "    16    -6.218966e+01     1.196245e-02\n",
      " * time: 2.7627220153808594\n",
      "    17    -6.221285e+01     9.024148e-03\n",
      " * time: 2.8701651096343994\n",
      "    18    -6.222867e+01     9.350687e-03\n",
      " * time: 2.9841861724853516\n",
      "    19    -6.223793e+01     6.727116e-03\n",
      " * time: 3.0984809398651123\n",
      "    20    -6.224386e+01     6.388111e-03\n",
      " * time: 3.2061729431152344\n",
      "    21    -6.224845e+01     4.793544e-03\n",
      " * time: 3.3206119537353516\n",
      "    22    -6.225240e+01     4.428015e-03\n",
      " * time: 3.4283859729766846\n",
      "    23    -6.225554e+01     3.853282e-03\n",
      " * time: 3.542495012283325\n",
      "    24    -6.225796e+01     3.278309e-03\n",
      " * time: 3.6577820777893066\n",
      "    25    -6.225963e+01     2.249385e-03\n",
      " * time: 3.766879081726074\n",
      "    26    -6.226065e+01     1.711139e-03\n",
      " * time: 3.8815109729766846\n",
      "    27    -6.226115e+01     1.067509e-03\n",
      " * time: 3.9961490631103516\n",
      "    28    -6.226140e+01     7.004205e-04\n",
      " * time: 4.104649066925049\n",
      "    29    -6.226152e+01     5.359033e-04\n",
      " * time: 4.218727111816406\n",
      "    30    -6.226157e+01     4.453400e-04\n",
      " * time: 4.32571816444397\n",
      "    31    -6.226160e+01     3.660930e-04\n",
      " * time: 4.439295053482056\n",
      "    32    -6.226162e+01     3.401640e-04\n",
      " * time: 4.553267002105713\n",
      "    33    -6.226163e+01     2.747968e-04\n",
      " * time: 4.661075115203857\n",
      "    34    -6.226165e+01     2.215395e-04\n",
      " * time: 4.775408983230591\n",
      "    35    -6.226165e+01     1.427964e-04\n",
      " * time: 4.889634132385254\n",
      "    36    -6.226166e+01     1.304721e-04\n",
      " * time: 4.9984800815582275\n",
      "    37    -6.226166e+01     1.035383e-04\n",
      " * time: 5.112805128097534\n",
      "    38    -6.226166e+01     7.690606e-05\n",
      " * time: 5.221522092819214\n",
      "    39    -6.226167e+01     4.662295e-05\n",
      " * time: 5.334869146347046\n",
      "    40    -6.226167e+01     3.201998e-05\n",
      " * time: 5.447827100753784\n",
      "    41    -6.226167e+01     2.519962e-05\n",
      " * time: 5.55439305305481\n",
      "    42    -6.226167e+01     1.749366e-05\n",
      " * time: 5.667323112487793\n",
      "    43    -6.226167e+01     1.312913e-05\n",
      " * time: 5.78117299079895\n",
      "    44    -6.226167e+01     1.046910e-05\n",
      " * time: 5.887918949127197\n",
      "    45    -6.226167e+01     1.024153e-05\n",
      " * time: 6.002825975418091\n",
      "    46    -6.226167e+01     7.517984e-06\n",
      " * time: 6.116898059844971\n",
      "    47    -6.226167e+01     6.224875e-06\n",
      " * time: 6.22412109375\n",
      "    48    -6.226167e+01     4.419973e-06\n",
      " * time: 6.338443994522095\n",
      "    49    -6.226167e+01     3.516978e-06\n",
      " * time: 6.445723056793213\n",
      "    50    -6.226167e+01     3.219074e-06\n",
      " * time: 6.558849096298218\n",
      "    51    -6.226167e+01     2.246935e-06\n",
      " * time: 6.671849012374878\n"
     ]
    }
   ],
   "cell_type": "code",
   "source": [
    "scfres = direct_minimization(basis, tol=1e-5);"
   ],
   "metadata": {},
   "execution_count": 4
  },
  {
   "outputs": [
    {
     "output_type": "execute_result",
     "data": {
      "text/plain": "Energy breakdown:\n    Kinetic             25.7671073\n    AtomicLocal         -18.8557729\n    AtomicNonlocal      14.8522685\n    Ewald               -67.1831486\n    PspCorrection       -2.3569765\n    Hartree             4.8485383 \n    Xc                  -19.3336824\n\n    total               -62.261666461958\n"
     },
     "metadata": {},
     "execution_count": 5
    }
   ],
   "cell_type": "code",
   "source": [
    "scfres.energies"
   ],
   "metadata": {},
   "execution_count": 5
  }
 ],
 "nbformat_minor": 3,
 "metadata": {
  "language_info": {
   "file_extension": ".jl",
   "mimetype": "application/julia",
   "name": "julia",
   "version": "1.3.1"
  },
  "kernelspec": {
   "name": "julia-1.3",
   "display_name": "Julia 1.3.1",
   "language": "julia"
  }
 },
 "nbformat": 4
}
