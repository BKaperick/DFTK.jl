{
 "cells": [
  {
   "cell_type": "markdown",
   "source": [
    "# Creating supercells with pymatgen\n",
    "\n",
    "The [Pymatgen](https://pymatgen.org/) python library allows to setup\n",
    "solid-state calculations using a flexible set of classes as well as an API\n",
    "to an online data base of structures. Its `Structure` and `Lattice`\n",
    "objects are directly supported by the DFTK `load_atoms` and `load_lattice`\n",
    "functions, such that DFTK may be readily used to run calculation on systems\n",
    "defined in pymatgen. Using the `pymatgen_structure` function a conversion\n",
    "from DFTK to pymatgen structures is also possible. In the following we\n",
    "use this to create a silicon supercell and find its LDA ground state\n",
    "using direct minimisation."
   ],
   "metadata": {}
  },
  {
   "cell_type": "markdown",
   "source": [
    "First we setup the silicon lattice in DFTK."
   ],
   "metadata": {}
  },
  {
   "outputs": [],
   "cell_type": "code",
   "source": [
    "using DFTK\n",
    "\n",
    "a = 10.263141334305942  # Lattice constant in Bohr\n",
    "lattice = a / 2 .* [[0 1 1.]; [1 0 1.]; [1 1 0.]]\n",
    "Si = ElementPsp(:Si, psp=load_psp(\"hgh/lda/Si-q4\"))\n",
    "atoms = [Si => [ones(3)/8, -ones(3)/8]];"
   ],
   "metadata": {},
   "execution_count": 1
  },
  {
   "cell_type": "markdown",
   "source": [
    "Next we make a `[2, 2, 2]` supercell using pymatgen"
   ],
   "metadata": {}
  },
  {
   "outputs": [],
   "cell_type": "code",
   "source": [
    "pystruct = pymatgen_structure(lattice, atoms)\n",
    "pystruct.make_supercell([2, 2, 2])\n",
    "lattice = load_lattice(pystruct)\n",
    "atoms = [Si => [s.frac_coords for s in pystruct.sites]];"
   ],
   "metadata": {},
   "execution_count": 2
  },
  {
   "cell_type": "markdown",
   "source": [
    "Setup an LDA model and discretize using\n",
    "a single kpoint and a small `Ecut` of 5 Hartree."
   ],
   "metadata": {}
  },
  {
   "outputs": [
    {
     "output_type": "execute_result",
     "data": {
      "text/plain": "PlaneWaveBasis (Ecut=5.0, 1 kpoints)"
     },
     "metadata": {},
     "execution_count": 3
    }
   ],
   "cell_type": "code",
   "source": [
    "model = model_LDA(lattice, atoms)\n",
    "basis = PlaneWaveBasis(model, 5, kgrid=(1, 1, 1))"
   ],
   "metadata": {},
   "execution_count": 3
  },
  {
   "cell_type": "markdown",
   "source": [
    "Find the ground state using direct minimisation (always using SCF is boring ...)"
   ],
   "metadata": {}
  },
  {
   "outputs": [
    {
     "name": "stdout",
     "output_type": "stream",
     "text": [
      "Iter     Function value   Gradient norm \n",
      "     0     1.118310e+02     1.466747e+00\n",
      " * time: 0.36330509185791016\n",
      "     1     1.105076e+01     9.337938e-01\n",
      " * time: 2.2746291160583496\n",
      "     2    -1.170333e+01     9.608353e-01\n",
      " * time: 2.9344210624694824\n",
      "     3    -3.374647e+01     7.183843e-01\n",
      " * time: 3.917030096054077\n",
      "     4    -4.706134e+01     5.194214e-01\n",
      " * time: 4.905336141586304\n",
      "     5    -5.669538e+01     2.339190e-01\n",
      " * time: 5.868128061294556\n",
      "     6    -5.976327e+01     1.448905e-01\n",
      " * time: 6.521826982498169\n",
      "     7    -6.090004e+01     4.826378e-02\n",
      " * time: 7.186225175857544\n",
      "     8    -6.130097e+01     8.035715e-02\n",
      " * time: 7.839219093322754\n",
      "     9    -6.159824e+01     3.934706e-02\n",
      " * time: 8.492067098617554\n",
      "    10    -6.182676e+01     3.080881e-02\n",
      " * time: 9.146795988082886\n",
      "    11    -6.201294e+01     2.216044e-02\n",
      " * time: 9.802836179733276\n",
      "    12    -6.207932e+01     2.198535e-02\n",
      " * time: 10.456377983093262\n",
      "    13    -6.214697e+01     1.522257e-02\n",
      " * time: 11.10706615447998\n",
      "    14    -6.217357e+01     1.165717e-02\n",
      " * time: 11.754204034805298\n",
      "    15    -6.219746e+01     1.170234e-02\n",
      " * time: 12.410163164138794\n",
      "    16    -6.220954e+01     8.004820e-03\n",
      " * time: 13.05638313293457\n",
      "    17    -6.221775e+01     7.045518e-03\n",
      " * time: 13.706745147705078\n",
      "    18    -6.222582e+01     6.379926e-03\n",
      " * time: 14.355411052703857\n",
      "    19    -6.223246e+01     6.432042e-03\n",
      " * time: 15.018200159072876\n",
      "    20    -6.223875e+01     5.944013e-03\n",
      " * time: 15.669188022613525\n",
      "    21    -6.224474e+01     5.185945e-03\n",
      " * time: 16.319603204727173\n",
      "    22    -6.225046e+01     4.686335e-03\n",
      " * time: 16.972156047821045\n",
      "    23    -6.225484e+01     4.309373e-03\n",
      " * time: 17.632894039154053\n",
      "    24    -6.225768e+01     3.288321e-03\n",
      " * time: 18.288944005966187\n",
      "    25    -6.225925e+01     2.125288e-03\n",
      " * time: 18.941752195358276\n",
      "    26    -6.226009e+01     1.822413e-03\n",
      " * time: 19.59262204170227\n",
      "    27    -6.226059e+01     1.441799e-03\n",
      " * time: 20.248958110809326\n",
      "    28    -6.226092e+01     1.419432e-03\n",
      " * time: 20.90226101875305\n",
      "    29    -6.226117e+01     9.901433e-04\n",
      " * time: 21.552603006362915\n",
      "    30    -6.226136e+01     7.116062e-04\n",
      " * time: 22.2382390499115\n",
      "    31    -6.226149e+01     5.955407e-04\n",
      " * time: 22.887789011001587\n",
      "    32    -6.226157e+01     4.191896e-04\n",
      " * time: 23.53949213027954\n",
      "    33    -6.226162e+01     3.466667e-04\n",
      " * time: 24.188794136047363\n",
      "    34    -6.226164e+01     2.991962e-04\n",
      " * time: 24.846997022628784\n",
      "    35    -6.226165e+01     2.016934e-04\n",
      " * time: 25.49990200996399\n",
      "    36    -6.226166e+01     1.171183e-04\n",
      " * time: 26.1513512134552\n",
      "    37    -6.226166e+01     8.181490e-05\n",
      " * time: 26.80355405807495\n",
      "    38    -6.226166e+01     6.110300e-05\n",
      " * time: 27.461760997772217\n",
      "    39    -6.226167e+01     5.361223e-05\n",
      " * time: 28.11349105834961\n",
      "    40    -6.226167e+01     4.409523e-05\n",
      " * time: 28.766407012939453\n",
      "    41    -6.226167e+01     3.690440e-05\n",
      " * time: 29.41940212249756\n",
      "    42    -6.226167e+01     2.943442e-05\n",
      " * time: 30.0785551071167\n",
      "    43    -6.226167e+01     2.413282e-05\n",
      " * time: 30.72803020477295\n",
      "    44    -6.226167e+01     1.949643e-05\n",
      " * time: 31.38024401664734\n",
      "    45    -6.226167e+01     1.255204e-05\n",
      " * time: 32.03180408477783\n",
      "    46    -6.226167e+01     8.305599e-06\n",
      " * time: 32.693042039871216\n",
      "    47    -6.226167e+01     6.494438e-06\n",
      " * time: 33.339744091033936\n",
      "    48    -6.226167e+01     6.361046e-06\n",
      " * time: 33.986605167388916\n",
      "    49    -6.226167e+01     3.593838e-06\n",
      " * time: 34.63702702522278\n"
     ]
    }
   ],
   "cell_type": "code",
   "source": [
    "scfres = direct_minimization(basis, tol=1e-5);"
   ],
   "metadata": {},
   "execution_count": 4
  },
  {
   "outputs": [
    {
     "output_type": "execute_result",
     "data": {
      "text/plain": "Energy breakdown:\n    Kinetic             25.7671070\n    AtomicLocal         -18.8557713\n    AtomicNonlocal      14.8522673\n    Ewald               -67.1831486\n    PspCorrection       -2.3569765\n    Hartree             4.8485382 \n    Xc                  -19.3336824\n\n    total               -62.261666459109\n"
     },
     "metadata": {},
     "execution_count": 5
    }
   ],
   "cell_type": "code",
   "source": [
    "scfres.energies"
   ],
   "metadata": {},
   "execution_count": 5
  }
 ],
 "nbformat_minor": 3,
 "metadata": {
  "language_info": {
   "file_extension": ".jl",
   "mimetype": "application/julia",
   "name": "julia",
   "version": "1.5.3"
  },
  "kernelspec": {
   "name": "julia-1.5",
   "display_name": "Julia 1.5.3",
   "language": "julia"
  }
 },
 "nbformat": 4
}
