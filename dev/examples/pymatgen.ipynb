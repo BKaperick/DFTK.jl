{
 "cells": [
  {
   "cell_type": "markdown",
   "source": [
    "# Creating supercells with pymatgen\n",
    "\n",
    "The [Pymatgen](https://pymatgen.org/) python library allows to setup\n",
    "solid-state calculations using a flexible set of classes as well as an API\n",
    "to an online data base of structures. Its `Structure` and `Lattice`\n",
    "objects are directly supported by the DFTK `load_atoms` and `load_lattice`\n",
    "functions, such that DFTK may be readily used to run calculation on systems\n",
    "defined in pymatgen. Using the `pymatgen_structure` function a conversion\n",
    "from DFTK to pymatgen structures is also possible. In the following we\n",
    "use this to create a silicon supercell and find its LDA ground state\n",
    "using direct minimisation."
   ],
   "metadata": {}
  },
  {
   "cell_type": "markdown",
   "source": [
    "First we setup the silicon lattice in DFTK."
   ],
   "metadata": {}
  },
  {
   "outputs": [],
   "cell_type": "code",
   "source": [
    "using DFTK\n",
    "\n",
    "a = 10.263141334305942  # Lattice constant in Bohr\n",
    "lattice = a / 2 .* [[0 1 1.]; [1 0 1.]; [1 1 0.]]\n",
    "Si = ElementPsp(:Si, psp=load_psp(\"hgh/lda/Si-q4\"))\n",
    "atoms = [Si => [ones(3)/8, -ones(3)/8]];"
   ],
   "metadata": {},
   "execution_count": 1
  },
  {
   "cell_type": "markdown",
   "source": [
    "Next we make a `[2, 2, 2]` supercell using pymatgen"
   ],
   "metadata": {}
  },
  {
   "outputs": [],
   "cell_type": "code",
   "source": [
    "pystruct = pymatgen_structure(lattice, atoms)\n",
    "pystruct.make_supercell([2, 2, 2])\n",
    "lattice = load_lattice(pystruct)\n",
    "atoms = [Si => [s.frac_coords for s in pystruct.sites]];"
   ],
   "metadata": {},
   "execution_count": 2
  },
  {
   "cell_type": "markdown",
   "source": [
    "Setup an LDA model and discretize using\n",
    "a single kpoint and a small `Ecut` of 5 Hartree."
   ],
   "metadata": {}
  },
  {
   "outputs": [
    {
     "output_type": "execute_result",
     "data": {
      "text/plain": "PlaneWaveBasis (Ecut=5.0, 1 kpoints)"
     },
     "metadata": {},
     "execution_count": 3
    }
   ],
   "cell_type": "code",
   "source": [
    "model = model_LDA(lattice, atoms)\n",
    "basis = PlaneWaveBasis(model, 5, kgrid=(1, 1, 1))"
   ],
   "metadata": {},
   "execution_count": 3
  },
  {
   "cell_type": "markdown",
   "source": [
    "Find the ground state using direct minimisation (always using SCF is boring ...)"
   ],
   "metadata": {}
  },
  {
   "outputs": [
    {
     "name": "stdout",
     "output_type": "stream",
     "text": [
      "Iter     Function value   Gradient norm \n",
      "     0     1.117946e+02     1.393265e+00\n",
      " * time: 0.7725529670715332\n",
      "     1     1.042078e+01     8.695707e-01\n",
      " * time: 2.169071912765503\n",
      "     2    -1.161274e+01     9.539157e-01\n",
      " * time: 2.8425209522247314\n",
      "     3    -3.385974e+01     6.554008e-01\n",
      " * time: 3.8527910709381104\n",
      "     4    -4.724720e+01     5.256215e-01\n",
      " * time: 4.871366024017334\n",
      "     5    -5.683348e+01     2.083175e-01\n",
      " * time: 5.872503042221069\n",
      "     6    -5.983056e+01     1.080403e-01\n",
      " * time: 6.537010908126831\n",
      "     7    -6.092273e+01     4.878144e-02\n",
      " * time: 7.200922012329102\n",
      "     8    -6.131784e+01     7.477114e-02\n",
      " * time: 7.864383935928345\n",
      "     9    -6.162571e+01     3.225254e-02\n",
      " * time: 8.525209903717041\n",
      "    10    -6.184426e+01     2.298151e-02\n",
      " * time: 9.210160970687866\n",
      "    11    -6.201296e+01     2.066229e-02\n",
      " * time: 9.89137601852417\n",
      "    12    -6.207248e+01     2.045155e-02\n",
      " * time: 10.55139708518982\n",
      "    13    -6.213285e+01     1.220028e-02\n",
      " * time: 11.237174034118652\n",
      "    14    -6.215718e+01     1.011894e-02\n",
      " * time: 11.932415962219238\n",
      "    15    -6.217920e+01     8.627513e-03\n",
      " * time: 12.598864078521729\n",
      "    16    -6.219028e+01     7.607008e-03\n",
      " * time: 13.257652044296265\n",
      "    17    -6.219784e+01     5.424427e-03\n",
      " * time: 13.917037963867188\n",
      "    18    -6.220369e+01     4.686139e-03\n",
      " * time: 14.606280088424683\n",
      "    19    -6.220834e+01     4.107954e-03\n",
      " * time: 15.26819896697998\n",
      "    20    -6.221210e+01     4.122543e-03\n",
      " * time: 15.94379186630249\n",
      "    21    -6.221517e+01     4.796644e-03\n",
      " * time: 16.600178956985474\n",
      "    22    -6.221777e+01     4.853489e-03\n",
      " * time: 17.299232006072998\n",
      "    23    -6.222020e+01     5.281825e-03\n",
      " * time: 17.963387966156006\n",
      "    24    -6.222294e+01     5.165094e-03\n",
      " * time: 18.625014066696167\n",
      "    25    -6.222658e+01     5.757512e-03\n",
      " * time: 19.2774019241333\n",
      "    26    -6.223159e+01     5.299258e-03\n",
      " * time: 19.95293092727661\n",
      "    27    -6.223736e+01     5.599936e-03\n",
      " * time: 20.631110906600952\n",
      "    28    -6.224503e+01     4.946320e-03\n",
      " * time: 21.297563076019287\n",
      "    29    -6.225100e+01     3.897245e-03\n",
      " * time: 21.95109486579895\n",
      "    30    -6.225502e+01     4.563554e-03\n",
      " * time: 22.637250900268555\n",
      "    31    -6.225772e+01     3.224523e-03\n",
      " * time: 23.303462028503418\n",
      "    32    -6.225934e+01     2.559034e-03\n",
      " * time: 23.964394092559814\n",
      "    33    -6.226035e+01     1.832918e-03\n",
      " * time: 24.635488033294678\n",
      "    34    -6.226089e+01     1.534323e-03\n",
      " * time: 25.32275700569153\n",
      "    35    -6.226122e+01     1.074998e-03\n",
      " * time: 25.995028972625732\n",
      "    36    -6.226138e+01     8.335271e-04\n",
      " * time: 26.655641078948975\n",
      "    37    -6.226147e+01     7.334839e-04\n",
      " * time: 27.323759078979492\n",
      "    38    -6.226153e+01     6.224106e-04\n",
      " * time: 28.0034658908844\n",
      "    39    -6.226158e+01     5.007256e-04\n",
      " * time: 28.669053077697754\n",
      "    40    -6.226161e+01     3.344024e-04\n",
      " * time: 29.328290939331055\n",
      "    41    -6.226163e+01     2.483434e-04\n",
      " * time: 29.989315032958984\n",
      "    42    -6.226165e+01     1.962718e-04\n",
      " * time: 30.681371927261353\n",
      "    43    -6.226166e+01     1.390157e-04\n",
      " * time: 31.35159707069397\n",
      "    44    -6.226166e+01     1.005789e-04\n",
      " * time: 32.00808906555176\n",
      "    45    -6.226166e+01     7.961659e-05\n",
      " * time: 32.67453098297119\n",
      "    46    -6.226167e+01     4.998292e-05\n",
      " * time: 33.3581759929657\n",
      "    47    -6.226167e+01     3.865075e-05\n",
      " * time: 34.03377294540405\n",
      "    48    -6.226167e+01     2.983097e-05\n",
      " * time: 34.695698976516724\n",
      "    49    -6.226167e+01     2.089571e-05\n",
      " * time: 35.34907102584839\n",
      "    50    -6.226167e+01     2.290455e-05\n",
      " * time: 36.047343015670776\n",
      "    51    -6.226167e+01     1.526013e-05\n",
      " * time: 36.714545011520386\n",
      "    52    -6.226167e+01     1.581451e-05\n",
      " * time: 37.369417905807495\n",
      "    53    -6.226167e+01     9.879410e-06\n",
      " * time: 38.04062294960022\n",
      "    54    -6.226167e+01     8.172398e-06\n",
      " * time: 38.73380208015442\n",
      "    55    -6.226167e+01     6.048908e-06\n",
      " * time: 39.40108299255371\n",
      "    56    -6.226167e+01     3.995399e-06\n",
      " * time: 40.06835889816284\n",
      "    57    -6.226167e+01     2.772121e-06\n",
      " * time: 40.73479509353638\n"
     ]
    }
   ],
   "cell_type": "code",
   "source": [
    "scfres = direct_minimization(basis, tol=1e-5);"
   ],
   "metadata": {},
   "execution_count": 4
  },
  {
   "outputs": [
    {
     "output_type": "execute_result",
     "data": {
      "text/plain": "Energy breakdown:\n    Kinetic             25.7671086\n    AtomicLocal         -18.8557770\n    AtomicNonlocal      14.8522701\n    Ewald               -67.1831486\n    PspCorrection       -2.3569765\n    Hartree             4.8485402 \n    Xc                  -19.3336832\n\n    total               -62.261666460167\n"
     },
     "metadata": {},
     "execution_count": 5
    }
   ],
   "cell_type": "code",
   "source": [
    "scfres.energies"
   ],
   "metadata": {},
   "execution_count": 5
  }
 ],
 "nbformat_minor": 3,
 "metadata": {
  "language_info": {
   "file_extension": ".jl",
   "mimetype": "application/julia",
   "name": "julia",
   "version": "1.6.2"
  },
  "kernelspec": {
   "name": "julia-1.6",
   "display_name": "Julia 1.6.2",
   "language": "julia"
  }
 },
 "nbformat": 4
}
