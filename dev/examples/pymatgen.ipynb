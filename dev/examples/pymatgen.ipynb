{
 "cells": [
  {
   "cell_type": "markdown",
   "source": [
    "# Creating supercells with pymatgen\n",
    "\n",
    "The [Pymatgen](https://pymatgen.org/) python library allows to setup\n",
    "solid-state calculations using a flexible set of classes as well as an API\n",
    "to an online data base of structures. Its `Structure` and `Lattice`\n",
    "objects are directly supported by the DFTK `load_atoms` and `load_lattice`\n",
    "functions, such that DFTK may be readily used to run calculation on systems\n",
    "defined in pymatgen. Using the `pymatgen_structure` function a conversion\n",
    "from DFTK to pymatgen structures is also possible. In the following we\n",
    "use this to create a silicon supercell and find its LDA ground state\n",
    "using direct minimisation."
   ],
   "metadata": {}
  },
  {
   "cell_type": "markdown",
   "source": [
    "First we setup the silicon lattice in DFTK."
   ],
   "metadata": {}
  },
  {
   "outputs": [],
   "cell_type": "code",
   "source": [
    "using DFTK\n",
    "\n",
    "a = 10.263141334305942  # Lattice constant in Bohr\n",
    "lattice = a / 2 .* [[0 1 1.]; [1 0 1.]; [1 1 0.]]\n",
    "Si = ElementPsp(:Si, psp=load_psp(\"hgh/lda/Si-q4\"))\n",
    "atoms = [Si => [ones(3)/8, -ones(3)/8]];"
   ],
   "metadata": {},
   "execution_count": 1
  },
  {
   "cell_type": "markdown",
   "source": [
    "Next we make a `[2, 2, 2]` supercell using pymatgen"
   ],
   "metadata": {}
  },
  {
   "outputs": [],
   "cell_type": "code",
   "source": [
    "pystruct = pymatgen_structure(lattice, atoms)\n",
    "pystruct.make_supercell([2, 2, 2])\n",
    "lattice = load_lattice(pystruct)\n",
    "atoms = [Si => [s.frac_coords for s in pystruct.sites]];"
   ],
   "metadata": {},
   "execution_count": 2
  },
  {
   "cell_type": "markdown",
   "source": [
    "Setup an LDA model and discretize using\n",
    "a single kpoint and a small `Ecut` of 5 Hartree."
   ],
   "metadata": {}
  },
  {
   "outputs": [
    {
     "output_type": "execute_result",
     "data": {
      "text/plain": "PlaneWaveBasis (Ecut=5.0, 1 kpoints)"
     },
     "metadata": {},
     "execution_count": 3
    }
   ],
   "cell_type": "code",
   "source": [
    "model = model_LDA(lattice, atoms)\n",
    "basis = PlaneWaveBasis(model, 5, kgrid=(1, 1, 1))"
   ],
   "metadata": {},
   "execution_count": 3
  },
  {
   "cell_type": "markdown",
   "source": [
    "Find the ground state using direct minimisation (always using SCF is boring ...)"
   ],
   "metadata": {}
  },
  {
   "outputs": [
    {
     "name": "stdout",
     "output_type": "stream",
     "text": [
      "Iter     Function value   Gradient norm \n",
      "     0     1.123428e+02     1.653033e+00\n",
      " * time: 0.6367080211639404\n",
      "     1     1.096594e+01     9.343237e-01\n",
      " * time: 1.7664189338684082\n",
      "     2    -1.166296e+01     1.007947e+00\n",
      " * time: 2.313917875289917\n",
      "     3    -3.387546e+01     8.173258e-01\n",
      " * time: 3.1346569061279297\n",
      "     4    -4.743878e+01     6.157458e-01\n",
      " * time: 3.951097011566162\n",
      "     5    -5.680087e+01     3.016789e-01\n",
      " * time: 4.767641067504883\n",
      "     6    -5.972159e+01     1.786478e-01\n",
      " * time: 5.303225994110107\n",
      "     7    -6.085105e+01     5.281289e-02\n",
      " * time: 5.848006963729858\n",
      "     8    -6.126022e+01     9.337059e-02\n",
      " * time: 6.386405944824219\n",
      "     9    -6.153086e+01     4.265752e-02\n",
      " * time: 6.931034088134766\n",
      "    10    -6.174703e+01     3.211662e-02\n",
      " * time: 7.4799299240112305\n",
      "    11    -6.193125e+01     2.800318e-02\n",
      " * time: 8.017701864242554\n",
      "    12    -6.200565e+01     1.888394e-02\n",
      " * time: 8.55596399307251\n",
      "    13    -6.208092e+01     1.762483e-02\n",
      " * time: 9.10153603553772\n",
      "    14    -6.211419e+01     1.581530e-02\n",
      " * time: 9.650460958480835\n",
      "    15    -6.214747e+01     1.205231e-02\n",
      " * time: 10.188921928405762\n",
      "    16    -6.216523e+01     1.023738e-02\n",
      " * time: 10.721338033676147\n",
      "    17    -6.218081e+01     8.115746e-03\n",
      " * time: 11.260852098464966\n",
      "    18    -6.219230e+01     7.317188e-03\n",
      " * time: 11.805439949035645\n",
      "    19    -6.220098e+01     6.841765e-03\n",
      " * time: 12.343602895736694\n",
      "    20    -6.220828e+01     6.208707e-03\n",
      " * time: 12.87968897819519\n",
      "    21    -6.221535e+01     6.352074e-03\n",
      " * time: 13.415086030960083\n",
      "    22    -6.222259e+01     7.487804e-03\n",
      " * time: 13.960851907730103\n",
      "    23    -6.222992e+01     7.329350e-03\n",
      " * time: 14.499322891235352\n",
      "    24    -6.223665e+01     6.200258e-03\n",
      " * time: 15.037497997283936\n",
      "    25    -6.224266e+01     5.738419e-03\n",
      " * time: 15.58962893486023\n",
      "    26    -6.224771e+01     5.000475e-03\n",
      " * time: 16.12754487991333\n",
      "    27    -6.225168e+01     3.334391e-03\n",
      " * time: 16.666852951049805\n",
      "    28    -6.225482e+01     2.890359e-03\n",
      " * time: 17.212838888168335\n",
      "    29    -6.225716e+01     2.636854e-03\n",
      " * time: 17.75757908821106\n",
      "    30    -6.225883e+01     2.243289e-03\n",
      " * time: 18.297055959701538\n",
      "    31    -6.225994e+01     2.050053e-03\n",
      " * time: 18.835263967514038\n",
      "    32    -6.226067e+01     1.570222e-03\n",
      " * time: 19.37346601486206\n",
      "    33    -6.226113e+01     1.079562e-03\n",
      " * time: 20.04261088371277\n",
      "    34    -6.226140e+01     6.948898e-04\n",
      " * time: 20.58776092529297\n",
      "    35    -6.226154e+01     5.865659e-04\n",
      " * time: 21.126590967178345\n",
      "    36    -6.226160e+01     4.037222e-04\n",
      " * time: 21.692312002182007\n",
      "    37    -6.226163e+01     3.354629e-04\n",
      " * time: 22.232825994491577\n",
      "    38    -6.226164e+01     2.905024e-04\n",
      " * time: 22.766758918762207\n",
      "    39    -6.226165e+01     2.418680e-04\n",
      " * time: 23.30165410041809\n",
      "    40    -6.226165e+01     2.084322e-04\n",
      " * time: 23.845782041549683\n",
      "    41    -6.226166e+01     1.532849e-04\n",
      " * time: 24.37996006011963\n",
      "    42    -6.226166e+01     1.084880e-04\n",
      " * time: 24.94385004043579\n",
      "    43    -6.226166e+01     9.013193e-05\n",
      " * time: 25.48213791847229\n",
      "    44    -6.226166e+01     6.163269e-05\n",
      " * time: 26.025877952575684\n",
      "    45    -6.226167e+01     3.794008e-05\n",
      " * time: 26.586570024490356\n",
      "    46    -6.226167e+01     2.836943e-05\n",
      " * time: 27.12693500518799\n",
      "    47    -6.226167e+01     2.015217e-05\n",
      " * time: 27.66584300994873\n",
      "    48    -6.226167e+01     1.677020e-05\n",
      " * time: 28.209696054458618\n",
      "    49    -6.226167e+01     1.329031e-05\n",
      " * time: 28.75573706626892\n",
      "    50    -6.226167e+01     1.050692e-05\n",
      " * time: 29.290173053741455\n",
      "    51    -6.226167e+01     8.757458e-06\n",
      " * time: 29.829794883728027\n",
      "    52    -6.226167e+01     6.993934e-06\n",
      " * time: 30.37057089805603\n",
      "    53    -6.226167e+01     5.500476e-06\n",
      " * time: 30.919429063796997\n",
      "    54    -6.226167e+01     4.299419e-06\n",
      " * time: 31.463406085968018\n",
      "    55    -6.226167e+01     3.279833e-06\n",
      " * time: 32.00427603721619\n",
      "    56    -6.226167e+01     2.570798e-06\n",
      " * time: 32.54147386550903\n",
      "    57    -6.226167e+01     2.387094e-06\n",
      " * time: 33.10516595840454\n"
     ]
    }
   ],
   "cell_type": "code",
   "source": [
    "scfres = direct_minimization(basis, tol=1e-5);"
   ],
   "metadata": {},
   "execution_count": 4
  },
  {
   "outputs": [
    {
     "output_type": "execute_result",
     "data": {
      "text/plain": "Energy breakdown:\n    Kinetic             25.7671066\n    AtomicLocal         -18.8557675\n    AtomicNonlocal      14.8522647\n    Ewald               -67.1831486\n    PspCorrection       -2.3569765\n    Hartree             4.8485369 \n    Xc                  -19.3336819\n\n    total               -62.261666462064\n"
     },
     "metadata": {},
     "execution_count": 5
    }
   ],
   "cell_type": "code",
   "source": [
    "scfres.energies"
   ],
   "metadata": {},
   "execution_count": 5
  }
 ],
 "nbformat_minor": 3,
 "metadata": {
  "language_info": {
   "file_extension": ".jl",
   "mimetype": "application/julia",
   "name": "julia",
   "version": "1.6.2"
  },
  "kernelspec": {
   "name": "julia-1.6",
   "display_name": "Julia 1.6.2",
   "language": "julia"
  }
 },
 "nbformat": 4
}
