{
 "cells": [
  {
   "cell_type": "markdown",
   "source": [
    "# Creating supercells with pymatgen\n",
    "\n",
    "The [Pymatgen](https://pymatgen.org/) python library allows to setup\n",
    "solid-state calculations using a flexible set of classes as well as an API\n",
    "to an online data base of structures. Its `Structure` and `Lattice`\n",
    "objects are directly supported by the DFTK `load_atoms` and `load_lattice`\n",
    "functions, such that DFTK may be readily used to run calculation on systems\n",
    "defined in pymatgen. Using the `pymatgen_structure` function a conversion\n",
    "from DFTK to pymatgen structures is also possible. In the following we\n",
    "use this to create a silicon supercell and find its LDA ground state\n",
    "using direct minimisation."
   ],
   "metadata": {}
  },
  {
   "cell_type": "markdown",
   "source": [
    "First we setup the silicon lattice in DFTK."
   ],
   "metadata": {}
  },
  {
   "outputs": [],
   "cell_type": "code",
   "source": [
    "using DFTK\n",
    "\n",
    "a = 10.263141334305942  # Lattice constant in Bohr\n",
    "lattice = a / 2 .* [[0 1 1.]; [1 0 1.]; [1 1 0.]]\n",
    "Si = ElementPsp(:Si, psp=load_psp(\"hgh/lda/Si-q4\"))\n",
    "atoms = [Si => [ones(3)/8, -ones(3)/8]];"
   ],
   "metadata": {},
   "execution_count": 1
  },
  {
   "cell_type": "markdown",
   "source": [
    "Next we make a `[2, 2, 2]` supercell using pymatgen"
   ],
   "metadata": {}
  },
  {
   "outputs": [],
   "cell_type": "code",
   "source": [
    "pystruct = pymatgen_structure(lattice, atoms)\n",
    "pystruct.make_supercell([2, 2, 2])\n",
    "lattice = load_lattice(pystruct)\n",
    "atoms = [Si => [s.frac_coords for s in pystruct.sites]];"
   ],
   "metadata": {},
   "execution_count": 2
  },
  {
   "cell_type": "markdown",
   "source": [
    "Setup an LDA model and discretize using\n",
    "a single kpoint and a small `Ecut` of 5 Hartree."
   ],
   "metadata": {}
  },
  {
   "outputs": [
    {
     "output_type": "execute_result",
     "data": {
      "text/plain": "PlaneWaveBasis (Ecut=5.0, 1 kpoints)"
     },
     "metadata": {},
     "execution_count": 3
    }
   ],
   "cell_type": "code",
   "source": [
    "model = model_LDA(lattice, atoms)\n",
    "basis = PlaneWaveBasis(model, 5, kgrid=(1, 1, 1))"
   ],
   "metadata": {},
   "execution_count": 3
  },
  {
   "cell_type": "markdown",
   "source": [
    "Find the ground state using direct minimisation (always using SCF is boring ...)"
   ],
   "metadata": {}
  },
  {
   "outputs": [
    {
     "name": "stdout",
     "output_type": "stream",
     "text": [
      "Iter     Function value   Gradient norm \n",
      "     0     1.122144e+02     1.581804e+00\n",
      " * time: 0.10100913047790527\n",
      "     1     1.168604e+01     1.013555e+00\n",
      " * time: 1.1007311344146729\n",
      "     2    -1.130356e+01     1.073502e+00\n",
      " * time: 1.2745511531829834\n",
      "     3    -3.364209e+01     7.915281e-01\n",
      " * time: 1.4854390621185303\n",
      "     4    -4.734110e+01     5.960793e-01\n",
      " * time: 1.633932113647461\n",
      "     5    -5.667382e+01     2.120848e-01\n",
      " * time: 1.798760175704956\n",
      "     6    -5.973279e+01     9.195490e-02\n",
      " * time: 1.9264872074127197\n",
      "     7    -6.080512e+01     5.949828e-02\n",
      " * time: 2.0445690155029297\n",
      "     8    -6.120767e+01     7.935906e-02\n",
      " * time: 2.1739771366119385\n",
      "     9    -6.155618e+01     3.920762e-02\n",
      " * time: 2.2924721240997314\n",
      "    10    -6.177272e+01     2.724176e-02\n",
      " * time: 2.411177158355713\n",
      "    11    -6.193265e+01     2.506273e-02\n",
      " * time: 2.5367300510406494\n",
      "    12    -6.200530e+01     2.077603e-02\n",
      " * time: 2.652858018875122\n",
      "    13    -6.207400e+01     1.451971e-02\n",
      " * time: 2.7808101177215576\n",
      "    14    -6.211242e+01     1.549442e-02\n",
      " * time: 2.900865077972412\n",
      "    15    -6.214640e+01     1.231603e-02\n",
      " * time: 3.029000997543335\n",
      "    16    -6.216669e+01     9.903464e-03\n",
      " * time: 3.1480791568756104\n",
      "    17    -6.218188e+01     8.973528e-03\n",
      " * time: 3.277860164642334\n",
      "    18    -6.219357e+01     7.390173e-03\n",
      " * time: 3.393937110900879\n",
      "    19    -6.220224e+01     6.550730e-03\n",
      " * time: 3.5179991722106934\n",
      "    20    -6.220918e+01     6.844448e-03\n",
      " * time: 3.6322062015533447\n",
      "    21    -6.221594e+01     7.315117e-03\n",
      " * time: 3.7569820880889893\n",
      "    22    -6.222280e+01     6.268739e-03\n",
      " * time: 3.8785240650177\n",
      "    23    -6.222995e+01     6.279544e-03\n",
      " * time: 4.004816055297852\n",
      "    24    -6.223682e+01     6.266455e-03\n",
      " * time: 4.121283054351807\n",
      "    25    -6.224253e+01     5.312647e-03\n",
      " * time: 4.2477500438690186\n",
      "    26    -6.224755e+01     5.001649e-03\n",
      " * time: 4.365764141082764\n",
      "    27    -6.225156e+01     4.813865e-03\n",
      " * time: 4.492627143859863\n",
      "    28    -6.225464e+01     3.839348e-03\n",
      " * time: 4.614881992340088\n",
      "    29    -6.225694e+01     3.153238e-03\n",
      " * time: 4.7423481941223145\n",
      "    30    -6.225867e+01     2.882573e-03\n",
      " * time: 4.856650114059448\n",
      "    31    -6.225988e+01     2.072980e-03\n",
      " * time: 4.969940185546875\n",
      "    32    -6.226062e+01     1.758774e-03\n",
      " * time: 5.095295190811157\n",
      "    33    -6.226108e+01     1.165874e-03\n",
      " * time: 5.211197137832642\n",
      "    34    -6.226137e+01     9.170236e-04\n",
      " * time: 5.340238094329834\n",
      "    35    -6.226151e+01     6.983922e-04\n",
      " * time: 5.458605051040649\n",
      "    36    -6.226158e+01     4.553675e-04\n",
      " * time: 5.588587999343872\n",
      "    37    -6.226161e+01     3.138511e-04\n",
      " * time: 5.706712007522583\n",
      "    38    -6.226163e+01     2.466421e-04\n",
      " * time: 5.837050199508667\n",
      "    39    -6.226164e+01     2.069709e-04\n",
      " * time: 5.953153133392334\n",
      "    40    -6.226165e+01     1.718151e-04\n",
      " * time: 6.080440998077393\n",
      "    41    -6.226166e+01     1.716273e-04\n",
      " * time: 6.195680141448975\n",
      "    42    -6.226166e+01     1.383161e-04\n",
      " * time: 6.327279090881348\n",
      "    43    -6.226166e+01     1.167124e-04\n",
      " * time: 6.4451680183410645\n",
      "    44    -6.226166e+01     7.959454e-05\n",
      " * time: 6.572940111160278\n",
      "    45    -6.226167e+01     5.405677e-05\n",
      " * time: 6.688773155212402\n",
      "    46    -6.226167e+01     3.808166e-05\n",
      " * time: 6.815752029418945\n",
      "    47    -6.226167e+01     2.347901e-05\n",
      " * time: 6.930383205413818\n",
      "    48    -6.226167e+01     1.807303e-05\n",
      " * time: 7.058017015457153\n",
      "    49    -6.226167e+01     1.541583e-05\n",
      " * time: 7.174668073654175\n",
      "    50    -6.226167e+01     9.021011e-06\n",
      " * time: 7.30158805847168\n",
      "    51    -6.226167e+01     7.907841e-06\n",
      " * time: 7.416988134384155\n",
      "    52    -6.226167e+01     6.596462e-06\n",
      " * time: 7.5330870151519775\n",
      "    53    -6.226167e+01     5.375348e-06\n",
      " * time: 7.665105104446411\n",
      "    54    -6.226167e+01     4.116692e-06\n",
      " * time: 7.7833030223846436\n",
      "    55    -6.226167e+01     3.116313e-06\n",
      " * time: 7.911609172821045\n",
      "    56    -6.226167e+01     2.872485e-06\n",
      " * time: 8.031191110610962\n",
      "    57    -6.226167e+01     1.892514e-06\n",
      " * time: 8.164571046829224\n"
     ]
    }
   ],
   "cell_type": "code",
   "source": [
    "scfres = direct_minimization(basis, tol=1e-5);"
   ],
   "metadata": {},
   "execution_count": 4
  },
  {
   "outputs": [
    {
     "output_type": "execute_result",
     "data": {
      "text/plain": "Energy breakdown:\n    Kinetic             25.7671069\n    AtomicLocal         -18.8557682\n    AtomicNonlocal      14.8522648\n    Ewald               -67.1831486\n    PspCorrection       -2.3569765\n    Hartree             4.8485374 \n    Xc                  -19.3336821\n\n    total               -62.261666462013\n"
     },
     "metadata": {},
     "execution_count": 5
    }
   ],
   "cell_type": "code",
   "source": [
    "scfres.energies"
   ],
   "metadata": {},
   "execution_count": 5
  }
 ],
 "nbformat_minor": 3,
 "metadata": {
  "language_info": {
   "file_extension": ".jl",
   "mimetype": "application/julia",
   "name": "julia",
   "version": "1.3.1"
  },
  "kernelspec": {
   "name": "julia-1.3",
   "display_name": "Julia 1.3.1",
   "language": "julia"
  }
 },
 "nbformat": 4
}
