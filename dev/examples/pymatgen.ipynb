{
 "cells": [
  {
   "cell_type": "markdown",
   "source": [
    "# Creating supercells with pymatgen\n",
    "\n",
    "The [Pymatgen](https://pymatgen.org/) python library allows to setup\n",
    "solid-state calculations using a flexible set of classes as well as an API\n",
    "to an online data base of structures. Its `Structure` and `Lattice`\n",
    "objects are directly supported by the DFTK `load_atoms` and `load_lattice`\n",
    "functions, such that DFTK may be readily used to run calculation on systems\n",
    "defined in pymatgen. Using the `pymatgen_structure` function a conversion\n",
    "from DFTK to pymatgen structures is also possible. In the following we\n",
    "use this to create a silicon supercell and find its LDA ground state\n",
    "using direct minimisation."
   ],
   "metadata": {}
  },
  {
   "cell_type": "markdown",
   "source": [
    "First we setup the silicon lattice in DFTK."
   ],
   "metadata": {}
  },
  {
   "outputs": [],
   "cell_type": "code",
   "source": [
    "using DFTK\n",
    "\n",
    "a = 10.263141334305942  # Lattice constant in Bohr\n",
    "lattice = a / 2 .* [[0 1 1.]; [1 0 1.]; [1 1 0.]]\n",
    "Si = ElementPsp(:Si, psp=load_psp(\"hgh/lda/Si-q4\"))\n",
    "atoms = [Si => [ones(3)/8, -ones(3)/8]];"
   ],
   "metadata": {},
   "execution_count": 1
  },
  {
   "cell_type": "markdown",
   "source": [
    "Next we make a `[2, 2, 2]` supercell using pymatgen"
   ],
   "metadata": {}
  },
  {
   "outputs": [],
   "cell_type": "code",
   "source": [
    "pystruct = pymatgen_structure(lattice, atoms)\n",
    "pystruct.make_supercell([2, 2, 2])\n",
    "lattice = load_lattice(pystruct)\n",
    "atoms = [Si => [s.frac_coords for s in pystruct.sites]];"
   ],
   "metadata": {},
   "execution_count": 2
  },
  {
   "cell_type": "markdown",
   "source": [
    "Setup an LDA model and discretize using\n",
    "a single kpoint and a small `Ecut` of 5 Hartree."
   ],
   "metadata": {}
  },
  {
   "outputs": [
    {
     "output_type": "execute_result",
     "data": {
      "text/plain": "PlaneWaveBasis (Ecut=5.0, 1 kpoints)"
     },
     "metadata": {},
     "execution_count": 3
    }
   ],
   "cell_type": "code",
   "source": [
    "model = model_LDA(lattice, atoms)\n",
    "basis = PlaneWaveBasis(model, 5, kgrid=(1, 1, 1))"
   ],
   "metadata": {},
   "execution_count": 3
  },
  {
   "cell_type": "markdown",
   "source": [
    "Find the ground state using direct minimisation (always using SCF is boring ...)"
   ],
   "metadata": {}
  },
  {
   "outputs": [
    {
     "name": "stdout",
     "output_type": "stream",
     "text": [
      "Iter     Function value   Gradient norm \n",
      "     0     1.130250e+02     1.550134e+00\n",
      " * time: 0.3765408992767334\n",
      "     1     1.053623e+01     9.915725e-01\n",
      " * time: 2.456576108932495\n",
      "     2    -1.221911e+01     1.048761e+00\n",
      " * time: 3.139741897583008\n",
      "     3    -3.435428e+01     8.119200e-01\n",
      " * time: 4.151794910430908\n",
      "     4    -4.807960e+01     5.503237e-01\n",
      " * time: 5.171741962432861\n",
      "     5    -5.717580e+01     1.656396e-01\n",
      " * time: 6.1815149784088135\n",
      "     6    -5.994514e+01     8.371992e-02\n",
      " * time: 6.848211050033569\n",
      "     7    -6.090048e+01     5.450259e-02\n",
      " * time: 7.5334179401397705\n",
      "     8    -6.128442e+01     6.251825e-02\n",
      " * time: 8.231868028640747\n",
      "     9    -6.160231e+01     3.291677e-02\n",
      " * time: 8.909954071044922\n",
      "    10    -6.182472e+01     2.927843e-02\n",
      " * time: 9.587371110916138\n",
      "    11    -6.198032e+01     2.215352e-02\n",
      " * time: 10.258449077606201\n",
      "    12    -6.205133e+01     1.778205e-02\n",
      " * time: 10.93670105934143\n",
      "    13    -6.210711e+01     1.543243e-02\n",
      " * time: 11.613270998001099\n",
      "    14    -6.213407e+01     1.388636e-02\n",
      " * time: 12.286772966384888\n",
      "    15    -6.215537e+01     1.007366e-02\n",
      " * time: 12.96262001991272\n",
      "    16    -6.216786e+01     8.282158e-03\n",
      " * time: 13.643505096435547\n",
      "    17    -6.217628e+01     7.399291e-03\n",
      " * time: 14.318849086761475\n",
      "    18    -6.218421e+01     6.324421e-03\n",
      " * time: 14.991684913635254\n",
      "    19    -6.219069e+01     6.338885e-03\n",
      " * time: 15.665138006210327\n",
      "    20    -6.219697e+01     6.764553e-03\n",
      " * time: 16.35719609260559\n",
      "    21    -6.220361e+01     7.133412e-03\n",
      " * time: 17.03750205039978\n",
      "    22    -6.221139e+01     8.541649e-03\n",
      " * time: 17.710153102874756\n",
      "    23    -6.222039e+01     8.304418e-03\n",
      " * time: 18.40567111968994\n",
      "    24    -6.222896e+01     6.856327e-03\n",
      " * time: 19.081877946853638\n",
      "    25    -6.223659e+01     6.687423e-03\n",
      " * time: 19.76380205154419\n",
      "    26    -6.224296e+01     5.828452e-03\n",
      " * time: 20.441917896270752\n",
      "    27    -6.224804e+01     4.978053e-03\n",
      " * time: 21.127844095230103\n",
      "    28    -6.225211e+01     3.753257e-03\n",
      " * time: 21.821063995361328\n",
      "    29    -6.225537e+01     3.188998e-03\n",
      " * time: 22.501112937927246\n",
      "    30    -6.225780e+01     3.005786e-03\n",
      " * time: 23.167535066604614\n",
      "    31    -6.225931e+01     2.765558e-03\n",
      " * time: 23.831615924835205\n",
      "    32    -6.226028e+01     2.179023e-03\n",
      " * time: 24.502105951309204\n",
      "    33    -6.226088e+01     1.803443e-03\n",
      " * time: 25.169436931610107\n",
      "    34    -6.226124e+01     1.080217e-03\n",
      " * time: 25.860302925109863\n",
      "    35    -6.226144e+01     9.526842e-04\n",
      " * time: 26.543631076812744\n",
      "    36    -6.226154e+01     5.531282e-04\n",
      " * time: 27.22458004951477\n",
      "    37    -6.226159e+01     3.948275e-04\n",
      " * time: 27.905380964279175\n",
      "    38    -6.226161e+01     3.147165e-04\n",
      " * time: 28.576301097869873\n",
      "    39    -6.226163e+01     2.933404e-04\n",
      " * time: 29.246541023254395\n",
      "    40    -6.226164e+01     2.519962e-04\n",
      " * time: 29.92313003540039\n",
      "    41    -6.226165e+01     1.861460e-04\n",
      " * time: 30.592911958694458\n",
      "    42    -6.226166e+01     1.297752e-04\n",
      " * time: 31.26825499534607\n",
      "    43    -6.226166e+01     9.518799e-05\n",
      " * time: 31.947926998138428\n",
      "    44    -6.226166e+01     7.961754e-05\n",
      " * time: 32.627382040023804\n",
      "    45    -6.226167e+01     5.708712e-05\n",
      " * time: 33.29942011833191\n",
      "    46    -6.226167e+01     4.246554e-05\n",
      " * time: 34.0008020401001\n",
      "    47    -6.226167e+01     2.734642e-05\n",
      " * time: 34.685741901397705\n",
      "    48    -6.226167e+01     1.844443e-05\n",
      " * time: 35.37444591522217\n",
      "    49    -6.226167e+01     1.521375e-05\n",
      " * time: 36.06595301628113\n",
      "    50    -6.226167e+01     1.056351e-05\n",
      " * time: 36.755255937576294\n",
      "    51    -6.226167e+01     9.864782e-06\n",
      " * time: 37.44115400314331\n",
      "    52    -6.226167e+01     1.021622e-05\n",
      " * time: 38.1349310874939\n",
      "    53    -6.226167e+01     6.933691e-06\n",
      " * time: 38.830759048461914\n",
      "    54    -6.226167e+01     5.525034e-06\n",
      " * time: 39.51197695732117\n",
      "    55    -6.226167e+01     4.087644e-06\n",
      " * time: 40.217649936676025\n",
      "    56    -6.226167e+01     2.654251e-06\n",
      " * time: 40.915066957473755\n",
      "    57    -6.226167e+01     1.936696e-06\n",
      " * time: 41.60783290863037\n"
     ]
    }
   ],
   "cell_type": "code",
   "source": [
    "scfres = direct_minimization(basis, tol=1e-5);"
   ],
   "metadata": {},
   "execution_count": 4
  },
  {
   "outputs": [
    {
     "output_type": "execute_result",
     "data": {
      "text/plain": "Energy breakdown:\n    Kinetic             25.7671068\n    AtomicLocal         -18.8557681\n    AtomicNonlocal      14.8522646\n    Ewald               -67.1831486\n    PspCorrection       -2.3569765\n    Hartree             4.8485375 \n    Xc                  -19.3336822\n\n    total               -62.261666462002\n"
     },
     "metadata": {},
     "execution_count": 5
    }
   ],
   "cell_type": "code",
   "source": [
    "scfres.energies"
   ],
   "metadata": {},
   "execution_count": 5
  }
 ],
 "nbformat_minor": 3,
 "metadata": {
  "language_info": {
   "file_extension": ".jl",
   "mimetype": "application/julia",
   "name": "julia",
   "version": "1.5.3"
  },
  "kernelspec": {
   "name": "julia-1.5",
   "display_name": "Julia 1.5.3",
   "language": "julia"
  }
 },
 "nbformat": 4
}
