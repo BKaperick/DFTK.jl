{
 "cells": [
  {
   "cell_type": "markdown",
   "source": [
    "# Creating supercells with pymatgen\n",
    "\n",
    "The [Pymatgen](https://pymatgen.org/) python library allows to setup\n",
    "solid-state calculations using a flexible set of classes as well as an API\n",
    "to an online data base of structures. Its `Structure` and `Lattice`\n",
    "objects are directly supported by the DFTK `load_atoms` and `load_lattice`\n",
    "functions, such that DFTK may be readily used to run calculation on systems\n",
    "defined in pymatgen. Using the `pymatgen_structure` function a conversion\n",
    "from DFTK to pymatgen structures is also possible. In the following we\n",
    "use this to create a silicon supercell and find its LDA ground state\n",
    "using direct minimisation."
   ],
   "metadata": {}
  },
  {
   "cell_type": "markdown",
   "source": [
    "First we setup the silicon lattice in DFTK."
   ],
   "metadata": {}
  },
  {
   "outputs": [],
   "cell_type": "code",
   "source": [
    "using DFTK\n",
    "\n",
    "a = 10.263141334305942  # Lattice constant in Bohr\n",
    "lattice = a / 2 .* [[0 1 1.]; [1 0 1.]; [1 1 0.]]\n",
    "Si = ElementPsp(:Si, psp=load_psp(\"hgh/lda/Si-q4\"))\n",
    "atoms = [Si => [ones(3)/8, -ones(3)/8]];"
   ],
   "metadata": {},
   "execution_count": 1
  },
  {
   "cell_type": "markdown",
   "source": [
    "Next we make a `[2, 2, 2]` supercell using pymatgen"
   ],
   "metadata": {}
  },
  {
   "outputs": [],
   "cell_type": "code",
   "source": [
    "pystruct = pymatgen_structure(lattice, atoms)\n",
    "pystruct.make_supercell([2, 2, 2])\n",
    "lattice = load_lattice(pystruct)\n",
    "atoms = [Si => [s.frac_coords for s in pystruct.sites]];"
   ],
   "metadata": {},
   "execution_count": 2
  },
  {
   "cell_type": "markdown",
   "source": [
    "Setup an LDA model and discretize using\n",
    "a single kpoint and a small `Ecut` of 5 Hartree."
   ],
   "metadata": {}
  },
  {
   "outputs": [
    {
     "output_type": "execute_result",
     "data": {
      "text/plain": "PlaneWaveBasis (Ecut=5.0, 1 kpoints)"
     },
     "metadata": {},
     "execution_count": 3
    }
   ],
   "cell_type": "code",
   "source": [
    "model = model_LDA(lattice, atoms)\n",
    "basis = PlaneWaveBasis(model, 5, kgrid=(1, 1, 1))"
   ],
   "metadata": {},
   "execution_count": 3
  },
  {
   "cell_type": "markdown",
   "source": [
    "Find the ground state using direct minimisation (always using SCF is boring ...)"
   ],
   "metadata": {}
  },
  {
   "outputs": [
    {
     "name": "stdout",
     "output_type": "stream",
     "text": [
      "Iter     Function value   Gradient norm \n",
      "     0     1.118995e+02     1.517328e+00\n",
      " * time: 0.3630189895629883\n",
      "     1     1.010244e+01     8.194572e-01\n",
      " * time: 2.397813081741333\n",
      "     2    -1.185528e+01     9.689988e-01\n",
      " * time: 3.0714640617370605\n",
      "     3    -3.438097e+01     7.044177e-01\n",
      " * time: 4.0803539752960205\n",
      "     4    -4.787822e+01     5.438848e-01\n",
      " * time: 5.058104038238525\n",
      "     5    -5.726063e+01     2.050181e-01\n",
      " * time: 6.108274936676025\n",
      "     6    -6.002050e+01     1.379188e-01\n",
      " * time: 6.801673889160156\n",
      "     7    -6.102367e+01     5.739620e-02\n",
      " * time: 7.451864957809448\n",
      "     8    -6.139028e+01     5.100622e-02\n",
      " * time: 8.129025936126709\n",
      "     9    -6.163034e+01     4.091542e-02\n",
      " * time: 8.805491924285889\n",
      "    10    -6.182391e+01     2.816795e-02\n",
      " * time: 9.479391098022461\n",
      "    11    -6.198271e+01     2.188116e-02\n",
      " * time: 10.151894092559814\n",
      "    12    -6.205737e+01     1.784241e-02\n",
      " * time: 10.818825960159302\n",
      "    13    -6.211785e+01     1.735281e-02\n",
      " * time: 11.498959064483643\n",
      "    14    -6.215123e+01     1.129135e-02\n",
      " * time: 12.165457010269165\n",
      "    15    -6.217550e+01     9.934310e-03\n",
      " * time: 12.833873987197876\n",
      "    16    -6.219017e+01     8.497715e-03\n",
      " * time: 13.496098041534424\n",
      "    17    -6.220145e+01     6.518483e-03\n",
      " * time: 14.179735898971558\n",
      "    18    -6.221040e+01     5.883458e-03\n",
      " * time: 14.844738960266113\n",
      "    19    -6.221728e+01     7.482208e-03\n",
      " * time: 15.511656999588013\n",
      "    20    -6.222409e+01     7.366483e-03\n",
      " * time: 16.190515995025635\n",
      "    21    -6.223078e+01     6.791793e-03\n",
      " * time: 16.8576819896698\n",
      "    22    -6.223791e+01     7.118268e-03\n",
      " * time: 17.515259981155396\n",
      "    23    -6.224478e+01     7.978687e-03\n",
      " * time: 18.18863606452942\n",
      "    24    -6.225037e+01     6.173216e-03\n",
      " * time: 18.882869958877563\n",
      "    25    -6.225427e+01     4.905512e-03\n",
      " * time: 19.570843935012817\n",
      "    26    -6.225673e+01     3.287480e-03\n",
      " * time: 20.25359010696411\n",
      "    27    -6.225832e+01     3.036121e-03\n",
      " * time: 20.92054510116577\n",
      "    28    -6.225941e+01     2.620635e-03\n",
      " * time: 21.589365005493164\n",
      "    29    -6.226020e+01     2.653914e-03\n",
      " * time: 22.297754049301147\n",
      "    30    -6.226079e+01     2.075138e-03\n",
      " * time: 23.010354042053223\n",
      "    31    -6.226117e+01     1.362261e-03\n",
      " * time: 23.6873140335083\n",
      "    32    -6.226138e+01     9.797708e-04\n",
      " * time: 24.359939098358154\n",
      "    33    -6.226152e+01     6.228316e-04\n",
      " * time: 25.013494968414307\n",
      "    34    -6.226159e+01     4.447175e-04\n",
      " * time: 25.69627594947815\n",
      "    35    -6.226163e+01     3.424677e-04\n",
      " * time: 26.391315937042236\n",
      "    36    -6.226164e+01     2.618262e-04\n",
      " * time: 27.08733892440796\n",
      "    37    -6.226165e+01     2.197515e-04\n",
      " * time: 27.786070108413696\n",
      "    38    -6.226166e+01     1.694861e-04\n",
      " * time: 28.45640206336975\n",
      "    39    -6.226166e+01     1.290071e-04\n",
      " * time: 29.136462926864624\n",
      "    40    -6.226166e+01     1.006480e-04\n",
      " * time: 29.807619094848633\n",
      "    41    -6.226166e+01     8.797469e-05\n",
      " * time: 30.486567974090576\n",
      "    42    -6.226166e+01     5.913948e-05\n",
      " * time: 31.158358097076416\n",
      "    43    -6.226167e+01     4.937871e-05\n",
      " * time: 31.820827960968018\n",
      "    44    -6.226167e+01     3.821120e-05\n",
      " * time: 32.50235199928284\n",
      "    45    -6.226167e+01     3.929916e-05\n",
      " * time: 33.160512924194336\n",
      "    46    -6.226167e+01     2.015739e-05\n",
      " * time: 33.82168507575989\n",
      "    47    -6.226167e+01     1.569854e-05\n",
      " * time: 34.49447989463806\n",
      "    48    -6.226167e+01     9.737077e-06\n",
      " * time: 35.21718192100525\n",
      "    49    -6.226167e+01     7.252337e-06\n",
      " * time: 35.91480898857117\n",
      "    50    -6.226167e+01     5.427435e-06\n",
      " * time: 36.61085104942322\n",
      "    51    -6.226167e+01     5.007037e-06\n",
      " * time: 37.29263401031494\n",
      "    52    -6.226167e+01     4.090022e-06\n",
      " * time: 37.96035599708557\n",
      "    53    -6.226167e+01     3.024613e-06\n",
      " * time: 38.62397789955139\n"
     ]
    }
   ],
   "cell_type": "code",
   "source": [
    "scfres = direct_minimization(basis, tol=1e-5);"
   ],
   "metadata": {},
   "execution_count": 4
  },
  {
   "outputs": [
    {
     "output_type": "execute_result",
     "data": {
      "text/plain": "Energy breakdown:\n    Kinetic             25.7671077\n    AtomicLocal         -18.8557699\n    AtomicNonlocal      14.8522652\n    Ewald               -67.1831486\n    PspCorrection       -2.3569765\n    Hartree             4.8485382 \n    Xc                  -19.3336824\n\n    total               -62.261666459059\n"
     },
     "metadata": {},
     "execution_count": 5
    }
   ],
   "cell_type": "code",
   "source": [
    "scfres.energies"
   ],
   "metadata": {},
   "execution_count": 5
  }
 ],
 "nbformat_minor": 3,
 "metadata": {
  "language_info": {
   "file_extension": ".jl",
   "mimetype": "application/julia",
   "name": "julia",
   "version": "1.5.3"
  },
  "kernelspec": {
   "name": "julia-1.5",
   "display_name": "Julia 1.5.3",
   "language": "julia"
  }
 },
 "nbformat": 4
}
