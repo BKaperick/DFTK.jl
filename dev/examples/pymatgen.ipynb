{
 "cells": [
  {
   "cell_type": "markdown",
   "source": [
    "# Creating supercells with pymatgen\n",
    "\n",
    "The [Pymatgen](https://pymatgen.org/) python library allows to setup\n",
    "solid-state calculations using a flexible set of classes as well as an API\n",
    "to an online data base of structures. Its `Structure` and `Lattice`\n",
    "objects are directly supported by the DFTK `load_atoms` and `load_lattice`\n",
    "functions, such that DFTK may be readily used to run calculation on systems\n",
    "defined in pymatgen. Using the `pymatgen_structure` function a conversion\n",
    "from DFTK to pymatgen structures is also possible. In the following we\n",
    "use this to create a silicon supercell and find its LDA ground state\n",
    "using direct minimisation."
   ],
   "metadata": {}
  },
  {
   "cell_type": "markdown",
   "source": [
    "First we setup the silicon lattice in DFTK."
   ],
   "metadata": {}
  },
  {
   "outputs": [],
   "cell_type": "code",
   "source": [
    "using DFTK\n",
    "\n",
    "a = 10.263141334305942  # Lattice constant in Bohr\n",
    "lattice = a / 2 .* [[0 1 1.]; [1 0 1.]; [1 1 0.]]\n",
    "Si = ElementPsp(:Si, psp=load_psp(\"hgh/lda/Si-q4\"))\n",
    "atoms = [Si => [ones(3)/8, -ones(3)/8]];"
   ],
   "metadata": {},
   "execution_count": 1
  },
  {
   "cell_type": "markdown",
   "source": [
    "Next we make a `[2, 2, 2]` supercell using pymatgen"
   ],
   "metadata": {}
  },
  {
   "outputs": [],
   "cell_type": "code",
   "source": [
    "pystruct = pymatgen_structure(lattice, atoms)\n",
    "pystruct.make_supercell([2, 2, 2])\n",
    "lattice = load_lattice(pystruct)\n",
    "atoms = [Si => [s.frac_coords for s in pystruct.sites]];"
   ],
   "metadata": {},
   "execution_count": 2
  },
  {
   "cell_type": "markdown",
   "source": [
    "Setup an LDA model and discretize using\n",
    "a single kpoint and a small `Ecut` of 5 Hartree."
   ],
   "metadata": {}
  },
  {
   "outputs": [
    {
     "output_type": "execute_result",
     "data": {
      "text/plain": "PlaneWaveBasis (Ecut=5.0, 1 kpoints)"
     },
     "metadata": {},
     "execution_count": 3
    }
   ],
   "cell_type": "code",
   "source": [
    "model = model_LDA(lattice, atoms)\n",
    "basis = PlaneWaveBasis(model, 5, kgrid=(1, 1, 1))"
   ],
   "metadata": {},
   "execution_count": 3
  },
  {
   "cell_type": "markdown",
   "source": [
    "Find the ground state using direct minimisation (always using SCF is boring ...)"
   ],
   "metadata": {}
  },
  {
   "outputs": [
    {
     "name": "stdout",
     "output_type": "stream",
     "text": [
      "Iter     Function value   Gradient norm \n",
      "     0     1.115195e+02     1.561257e+00\n",
      " * time: 0.748162031173706\n",
      "     1     9.965620e+00     9.522462e-01\n",
      " * time: 3.1196770668029785\n",
      "     2    -1.180812e+01     9.838244e-01\n",
      " * time: 3.7786219120025635\n",
      "     3    -3.394501e+01     7.378069e-01\n",
      " * time: 4.787785053253174\n",
      "     4    -4.702884e+01     5.986818e-01\n",
      " * time: 5.753901958465576\n",
      "     5    -5.684669e+01     2.470319e-01\n",
      " * time: 6.731514930725098\n",
      "     6    -5.954786e+01     2.670282e-01\n",
      " * time: 7.390548944473267\n",
      "     7    -6.070149e+01     1.039068e-01\n",
      " * time: 8.063516855239868\n",
      "     8    -6.122440e+01     5.455785e-02\n",
      " * time: 8.714869022369385\n",
      "     9    -6.151579e+01     3.801283e-02\n",
      " * time: 9.365562915802002\n",
      "    10    -6.177166e+01     3.827812e-02\n",
      " * time: 10.01638388633728\n",
      "    11    -6.192572e+01     2.288692e-02\n",
      " * time: 10.665322065353394\n",
      "    12    -6.204256e+01     1.756147e-02\n",
      " * time: 11.327800989151001\n",
      "    13    -6.208817e+01     1.439013e-02\n",
      " * time: 11.975620985031128\n",
      "    14    -6.213998e+01     1.330255e-02\n",
      " * time: 12.629140853881836\n",
      "    15    -6.216169e+01     1.355362e-02\n",
      " * time: 13.281458854675293\n",
      "    16    -6.217930e+01     7.392072e-03\n",
      " * time: 13.932539939880371\n",
      "    17    -6.219022e+01     5.961149e-03\n",
      " * time: 14.598281860351562\n",
      "    18    -6.219798e+01     5.039240e-03\n",
      " * time: 15.253807067871094\n",
      "    19    -6.220352e+01     4.636512e-03\n",
      " * time: 15.918951034545898\n",
      "    20    -6.220734e+01     4.116989e-03\n",
      " * time: 16.56886601448059\n",
      "    21    -6.221032e+01     4.140940e-03\n",
      " * time: 17.22506284713745\n",
      "    22    -6.221296e+01     4.662154e-03\n",
      " * time: 17.88846206665039\n",
      "    23    -6.221556e+01     4.301497e-03\n",
      " * time: 18.541383028030396\n",
      "    24    -6.221843e+01     4.911465e-03\n",
      " * time: 19.197870016098022\n",
      "    25    -6.222214e+01     5.210489e-03\n",
      " * time: 19.859076976776123\n",
      "    26    -6.222701e+01     5.402550e-03\n",
      " * time: 20.518739938735962\n",
      "    27    -6.223299e+01     6.031186e-03\n",
      " * time: 21.19909405708313\n",
      "    28    -6.224029e+01     5.242636e-03\n",
      " * time: 21.88464593887329\n",
      "    29    -6.224759e+01     4.952742e-03\n",
      " * time: 22.56341004371643\n",
      "    30    -6.225251e+01     4.679200e-03\n",
      " * time: 23.221179962158203\n",
      "    31    -6.225597e+01     4.309360e-03\n",
      " * time: 23.884742975234985\n",
      "    32    -6.225818e+01     2.756458e-03\n",
      " * time: 24.54436206817627\n",
      "    33    -6.225972e+01     1.815512e-03\n",
      " * time: 25.195389986038208\n",
      "    34    -6.226053e+01     1.387851e-03\n",
      " * time: 25.847144842147827\n",
      "    35    -6.226103e+01     1.172688e-03\n",
      " * time: 26.49712085723877\n",
      "    36    -6.226128e+01     9.533992e-04\n",
      " * time: 27.163599967956543\n",
      "    37    -6.226141e+01     6.433407e-04\n",
      " * time: 27.81827688217163\n",
      "    38    -6.226149e+01     5.650500e-04\n",
      " * time: 28.478052854537964\n",
      "    39    -6.226155e+01     4.507900e-04\n",
      " * time: 29.133678913116455\n",
      "    40    -6.226159e+01     3.758348e-04\n",
      " * time: 29.78550100326538\n",
      "    41    -6.226162e+01     3.474033e-04\n",
      " * time: 30.542171955108643\n",
      "    42    -6.226164e+01     2.491687e-04\n",
      " * time: 31.206192016601562\n",
      "    43    -6.226165e+01     1.806605e-04\n",
      " * time: 31.874290943145752\n",
      "    44    -6.226166e+01     1.518542e-04\n",
      " * time: 32.54173994064331\n",
      "    45    -6.226166e+01     1.072320e-04\n",
      " * time: 33.21240496635437\n",
      "    46    -6.226166e+01     8.512579e-05\n",
      " * time: 34.25832986831665\n",
      "    47    -6.226167e+01     4.753411e-05\n",
      " * time: 34.917113065719604\n",
      "    48    -6.226167e+01     3.412715e-05\n",
      " * time: 35.57355785369873\n",
      "    49    -6.226167e+01     2.868336e-05\n",
      " * time: 36.22715497016907\n",
      "    50    -6.226167e+01     2.463282e-05\n",
      " * time: 36.88963985443115\n",
      "    51    -6.226167e+01     2.276322e-05\n",
      " * time: 37.54561805725098\n",
      "    52    -6.226167e+01     1.528770e-05\n",
      " * time: 38.20027804374695\n",
      "    53    -6.226167e+01     1.209314e-05\n",
      " * time: 38.863219022750854\n",
      "    54    -6.226167e+01     1.084639e-05\n",
      " * time: 39.51647400856018\n",
      "    55    -6.226167e+01     8.589790e-06\n",
      " * time: 40.17084503173828\n",
      "    56    -6.226167e+01     6.559288e-06\n",
      " * time: 40.833117961883545\n",
      "    57    -6.226167e+01     4.225297e-06\n",
      " * time: 41.51723885536194\n",
      "    58    -6.226167e+01     3.267279e-06\n",
      " * time: 42.18661904335022\n",
      "    59    -6.226167e+01     2.267806e-06\n",
      " * time: 42.84413695335388\n"
     ]
    }
   ],
   "cell_type": "code",
   "source": [
    "scfres = direct_minimization(basis, tol=1e-5);"
   ],
   "metadata": {},
   "execution_count": 4
  },
  {
   "outputs": [
    {
     "output_type": "execute_result",
     "data": {
      "text/plain": "Energy breakdown:\n    Kinetic             25.7671073\n    AtomicLocal         -18.8557717\n    AtomicNonlocal      14.8522672\n    Ewald               -67.1831486\n    PspCorrection       -2.3569765\n    Hartree             4.8485384 \n    Xc                  -19.3336825\n\n    total               -62.261666461424\n"
     },
     "metadata": {},
     "execution_count": 5
    }
   ],
   "cell_type": "code",
   "source": [
    "scfres.energies"
   ],
   "metadata": {},
   "execution_count": 5
  }
 ],
 "nbformat_minor": 3,
 "metadata": {
  "language_info": {
   "file_extension": ".jl",
   "mimetype": "application/julia",
   "name": "julia",
   "version": "1.6.1"
  },
  "kernelspec": {
   "name": "julia-1.6",
   "display_name": "Julia 1.6.1",
   "language": "julia"
  }
 },
 "nbformat": 4
}
