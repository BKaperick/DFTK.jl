{
 "cells": [
  {
   "cell_type": "markdown",
   "source": [
    "# Creating supercells with pymatgen\n",
    "\n",
    "The [Pymatgen](https://pymatgen.org/) python library allows to setup\n",
    "solid-state calculations using a flexible set of classes as well as an API\n",
    "to an online data base of structures. Its `Structure` and `Lattice`\n",
    "objects are directly supported by the DFTK `load_atoms` and `load_lattice`\n",
    "functions, such that DFTK may be readily used to run calculation on systems\n",
    "defined in pymatgen. Using the `pymatgen_structure` function a conversion\n",
    "from DFTK to pymatgen structures is also possible. In the following we\n",
    "use this to create a silicon supercell and find its LDA ground state\n",
    "using direct minimisation."
   ],
   "metadata": {}
  },
  {
   "cell_type": "markdown",
   "source": [
    "First we setup the silicon lattice in DFTK."
   ],
   "metadata": {}
  },
  {
   "outputs": [],
   "cell_type": "code",
   "source": [
    "using DFTK\n",
    "\n",
    "a = 10.263141334305942  # Lattice constant in Bohr\n",
    "lattice = a / 2 .* [[0 1 1.]; [1 0 1.]; [1 1 0.]]\n",
    "Si = ElementPsp(:Si, psp=load_psp(\"hgh/lda/Si-q4\"))\n",
    "atoms = [Si => [ones(3)/8, -ones(3)/8]];"
   ],
   "metadata": {},
   "execution_count": 1
  },
  {
   "cell_type": "markdown",
   "source": [
    "Next we make a `[2, 2, 2]` supercell using pymatgen"
   ],
   "metadata": {}
  },
  {
   "outputs": [],
   "cell_type": "code",
   "source": [
    "pystruct = pymatgen_structure(lattice, atoms)\n",
    "pystruct.make_supercell([2, 2, 2])\n",
    "lattice = load_lattice(pystruct)\n",
    "atoms = [Si => [s.frac_coords for s in pystruct.sites]];"
   ],
   "metadata": {},
   "execution_count": 2
  },
  {
   "cell_type": "markdown",
   "source": [
    "Setup an LDA model and discretize using\n",
    "a single kpoint and a small `Ecut` of 5 Hartree."
   ],
   "metadata": {}
  },
  {
   "outputs": [
    {
     "output_type": "execute_result",
     "data": {
      "text/plain": "PlaneWaveBasis (Ecut=5.0, 1 kpoints)"
     },
     "metadata": {},
     "execution_count": 3
    }
   ],
   "cell_type": "code",
   "source": [
    "model = model_LDA(lattice, atoms)\n",
    "basis = PlaneWaveBasis(model, 5, kgrid=(1, 1, 1))"
   ],
   "metadata": {},
   "execution_count": 3
  },
  {
   "cell_type": "markdown",
   "source": [
    "Find the ground state using direct minimisation (always using SCF is boring ...)"
   ],
   "metadata": {}
  },
  {
   "outputs": [
    {
     "name": "stdout",
     "output_type": "stream",
     "text": [
      "Iter     Function value   Gradient norm \n",
      "     0     1.119175e+02     1.651349e+00\n",
      " * time: 0.0812830924987793\n",
      "     1     1.094624e+01     9.453336e-01\n",
      " * time: 1.517003059387207\n",
      "     2    -1.186942e+01     1.090915e+00\n",
      " * time: 1.6210041046142578\n",
      "     3    -3.394425e+01     8.061581e-01\n",
      " * time: 1.7613279819488525\n",
      "     4    -4.757878e+01     5.210986e-01\n",
      " * time: 1.9192180633544922\n",
      "     5    -5.680177e+01     1.956414e-01\n",
      " * time: 2.0414891242980957\n",
      "     6    -5.969963e+01     1.375643e-01\n",
      " * time: 2.1398980617523193\n",
      "     7    -6.084425e+01     4.949866e-02\n",
      " * time: 2.2605371475219727\n",
      "     8    -6.130275e+01     5.703886e-02\n",
      " * time: 2.356412172317505\n",
      "     9    -6.157906e+01     4.020241e-02\n",
      " * time: 2.4536800384521484\n",
      "    10    -6.180778e+01     3.027354e-02\n",
      " * time: 2.548866033554077\n",
      "    11    -6.198677e+01     2.250260e-02\n",
      " * time: 2.656860113143921\n",
      "    12    -6.206203e+01     1.654034e-02\n",
      " * time: 2.7503480911254883\n",
      "    13    -6.212883e+01     1.518655e-02\n",
      " * time: 2.8443710803985596\n",
      "    14    -6.215972e+01     1.211652e-02\n",
      " * time: 2.9371531009674072\n",
      "    15    -6.218639e+01     9.482572e-03\n",
      " * time: 3.0418031215667725\n",
      "    16    -6.220142e+01     7.414445e-03\n",
      " * time: 3.137714147567749\n",
      "    17    -6.221268e+01     6.509683e-03\n",
      " * time: 3.233053207397461\n",
      "    18    -6.222222e+01     6.167086e-03\n",
      " * time: 3.3282949924468994\n",
      "    19    -6.223116e+01     5.940705e-03\n",
      " * time: 3.423082113265991\n",
      "    20    -6.223935e+01     6.421160e-03\n",
      " * time: 3.5289671421051025\n",
      "    21    -6.224675e+01     5.436996e-03\n",
      " * time: 3.62786602973938\n",
      "    22    -6.225264e+01     5.109422e-03\n",
      " * time: 3.7259931564331055\n",
      "    23    -6.225674e+01     3.634781e-03\n",
      " * time: 3.823723077774048\n",
      "    24    -6.225904e+01     2.348833e-03\n",
      " * time: 3.9346530437469482\n",
      "    25    -6.226010e+01     1.661496e-03\n",
      " * time: 4.0303590297698975\n",
      "    26    -6.226062e+01     1.199779e-03\n",
      " * time: 4.127457141876221\n",
      "    27    -6.226094e+01     1.071875e-03\n",
      " * time: 4.22123908996582\n",
      "    28    -6.226115e+01     9.424291e-04\n",
      " * time: 4.329872131347656\n",
      "    29    -6.226131e+01     8.718611e-04\n",
      " * time: 4.425477981567383\n",
      "    30    -6.226144e+01     5.987921e-04\n",
      " * time: 4.520232200622559\n",
      "    31    -6.226154e+01     4.911414e-04\n",
      " * time: 4.615071058273315\n",
      "    32    -6.226160e+01     4.119354e-04\n",
      " * time: 4.7207770347595215\n",
      "    33    -6.226163e+01     2.770563e-04\n",
      " * time: 4.814905166625977\n",
      "    34    -6.226165e+01     2.100240e-04\n",
      " * time: 4.907883167266846\n",
      "    35    -6.226166e+01     1.416098e-04\n",
      " * time: 5.005820035934448\n",
      "    36    -6.226166e+01     1.128708e-04\n",
      " * time: 5.112462997436523\n",
      "    37    -6.226166e+01     6.175643e-05\n",
      " * time: 5.230838060379028\n",
      "    38    -6.226167e+01     4.456430e-05\n",
      " * time: 5.327594995498657\n",
      "    39    -6.226167e+01     3.302433e-05\n",
      " * time: 5.4240710735321045\n",
      "    40    -6.226167e+01     2.956501e-05\n",
      " * time: 5.520536184310913\n",
      "    41    -6.226167e+01     2.908183e-05\n",
      " * time: 5.624114036560059\n",
      "    42    -6.226167e+01     2.272897e-05\n",
      " * time: 5.7191832065582275\n",
      "    43    -6.226167e+01     1.951215e-05\n",
      " * time: 5.813184022903442\n",
      "    44    -6.226167e+01     1.368048e-05\n",
      " * time: 5.912887096405029\n",
      "    45    -6.226167e+01     1.092902e-05\n",
      " * time: 6.020026206970215\n",
      "    46    -6.226167e+01     8.785258e-06\n",
      " * time: 6.1195831298828125\n",
      "    47    -6.226167e+01     6.140458e-06\n",
      " * time: 6.215442180633545\n",
      "    48    -6.226167e+01     3.625291e-06\n",
      " * time: 6.310570001602173\n",
      "    49    -6.226167e+01     2.906771e-06\n",
      " * time: 6.419620990753174\n"
     ]
    }
   ],
   "cell_type": "code",
   "source": [
    "scfres = direct_minimization(basis, tol=1e-5);"
   ],
   "metadata": {},
   "execution_count": 4
  },
  {
   "outputs": [
    {
     "output_type": "execute_result",
     "data": {
      "text/plain": "Energy breakdown:\n    Kinetic             25.7671067\n    AtomicLocal         -18.8557689\n    AtomicNonlocal      14.8522658\n    Ewald               -67.1831486\n    PspCorrection       -2.3569765\n    Hartree             4.8485371 \n    Xc                  -19.3336820\n\n    total               -62.261666460135\n"
     },
     "metadata": {},
     "execution_count": 5
    }
   ],
   "cell_type": "code",
   "source": [
    "scfres.energies"
   ],
   "metadata": {},
   "execution_count": 5
  }
 ],
 "nbformat_minor": 3,
 "metadata": {
  "language_info": {
   "file_extension": ".jl",
   "mimetype": "application/julia",
   "name": "julia",
   "version": "1.4.2"
  },
  "kernelspec": {
   "name": "julia-1.4",
   "display_name": "Julia 1.4.2",
   "language": "julia"
  }
 },
 "nbformat": 4
}
