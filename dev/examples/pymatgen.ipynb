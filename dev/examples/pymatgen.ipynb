{
 "cells": [
  {
   "cell_type": "markdown",
   "source": [
    "# Creating supercells with pymatgen\n",
    "\n",
    "The [Pymatgen](https://pymatgen.org/) python library allows to setup\n",
    "solid-state calculations using a flexible set of classes as well as an API\n",
    "to an online data base of structures. Its `Structure` and `Lattice`\n",
    "objects are directly supported by the DFTK `load_atoms` and `load_lattice`\n",
    "functions, such that DFTK may be readily used to run calculation on systems\n",
    "defined in pymatgen. Using the `pymatgen_structure` function a conversion\n",
    "from DFTK to pymatgen structures is also possible. In the following we\n",
    "use this to create a silicon supercell and find its LDA ground state\n",
    "using direct minimisation."
   ],
   "metadata": {}
  },
  {
   "cell_type": "markdown",
   "source": [
    "First we setup the silicon lattice in DFTK."
   ],
   "metadata": {}
  },
  {
   "outputs": [],
   "cell_type": "code",
   "source": [
    "using DFTK\n",
    "\n",
    "a = 10.263141334305942  # Lattice constant in Bohr\n",
    "lattice = a / 2 .* [[0 1 1.]; [1 0 1.]; [1 1 0.]]\n",
    "Si = ElementPsp(:Si, psp=load_psp(\"hgh/lda/Si-q4\"))\n",
    "atoms = [Si => [ones(3)/8, -ones(3)/8]];"
   ],
   "metadata": {},
   "execution_count": 1
  },
  {
   "cell_type": "markdown",
   "source": [
    "Next we make a `[2, 2, 2]` supercell using pymatgen"
   ],
   "metadata": {}
  },
  {
   "outputs": [],
   "cell_type": "code",
   "source": [
    "pystruct = pymatgen_structure(lattice, atoms)\n",
    "pystruct.make_supercell([2, 2, 2])\n",
    "lattice = load_lattice(pystruct)\n",
    "atoms = [Si => [s.frac_coords for s in pystruct.sites]];"
   ],
   "metadata": {},
   "execution_count": 2
  },
  {
   "cell_type": "markdown",
   "source": [
    "Setup an LDA model and discretize using\n",
    "a single kpoint and a small `Ecut` of 5 Hartree.\n",
    "Notice that `PlaneWaveBasis` defaults to just using the ``Γ``-point\n",
    "if no ``k``-point options are provided."
   ],
   "metadata": {}
  },
  {
   "outputs": [
    {
     "output_type": "execute_result",
     "data": {
      "text/plain": "PlaneWaveBasis (Ecut=5.0, 1 kpoints)"
     },
     "metadata": {},
     "execution_count": 3
    }
   ],
   "cell_type": "code",
   "source": [
    "model = model_LDA(lattice, atoms)\n",
    "basis = PlaneWaveBasis(model, 5)"
   ],
   "metadata": {},
   "execution_count": 3
  },
  {
   "cell_type": "markdown",
   "source": [
    "Find the ground state using direct minimisation (always using SCF is boring ...)"
   ],
   "metadata": {}
  },
  {
   "outputs": [
    {
     "name": "stdout",
     "output_type": "stream",
     "text": [
      "Iter     Function value   Gradient norm \n",
      "     0     1.117676e+02     1.583299e+00\n",
      " * time: 0.13747906684875488\n",
      "     1     1.102450e+01     8.728657e-01\n",
      " * time: 0.9790771007537842\n",
      "     2    -1.102668e+01     1.014251e+00\n",
      " * time: 1.1137189865112305\n",
      "     3    -3.372035e+01     7.771202e-01\n",
      " * time: 1.2783639430999756\n",
      "     4    -4.722426e+01     5.750454e-01\n",
      " * time: 1.4314661026000977\n",
      "     5    -5.661258e+01     2.404362e-01\n",
      " * time: 1.5680999755859375\n",
      "     6    -5.956488e+01     1.580689e-01\n",
      " * time: 1.6820719242095947\n",
      "     7    -6.076515e+01     6.098834e-02\n",
      " * time: 1.8100519180297852\n",
      "     8    -6.126319e+01     6.789682e-02\n",
      " * time: 1.9245328903198242\n",
      "     9    -6.156544e+01     5.681141e-02\n",
      " * time: 2.0315558910369873\n",
      "    10    -6.180139e+01     2.572079e-02\n",
      " * time: 2.1455719470977783\n",
      "    11    -6.197235e+01     2.087375e-02\n",
      " * time: 2.2521770000457764\n",
      "    12    -6.205546e+01     1.736490e-02\n",
      " * time: 2.3652050495147705\n",
      "    13    -6.211607e+01     1.398438e-02\n",
      " * time: 2.471721887588501\n",
      "    14    -6.215344e+01     1.235152e-02\n",
      " * time: 2.5827829837799072\n",
      "    15    -6.217722e+01     1.159100e-02\n",
      " * time: 2.688750982284546\n",
      "    16    -6.219163e+01     8.734242e-03\n",
      " * time: 2.8003110885620117\n",
      "    17    -6.220220e+01     7.617759e-03\n",
      " * time: 2.9077160358428955\n",
      "    18    -6.221095e+01     6.898537e-03\n",
      " * time: 3.018315076828003\n",
      "    19    -6.221817e+01     6.208055e-03\n",
      " * time: 3.125307083129883\n",
      "    20    -6.222589e+01     7.286116e-03\n",
      " * time: 3.2391469478607178\n",
      "    21    -6.223389e+01     8.002044e-03\n",
      " * time: 3.355360984802246\n",
      "    22    -6.224175e+01     6.995511e-03\n",
      " * time: 3.4814860820770264\n",
      "    23    -6.224819e+01     7.541509e-03\n",
      " * time: 3.5873661041259766\n",
      "    24    -6.225273e+01     4.846488e-03\n",
      " * time: 3.700382947921753\n",
      "    25    -6.225580e+01     3.435107e-03\n",
      " * time: 3.8065779209136963\n",
      "    26    -6.225781e+01     2.561497e-03\n",
      " * time: 3.9192891120910645\n",
      "    27    -6.225905e+01     2.082280e-03\n",
      " * time: 4.025285005569458\n",
      "    28    -6.225986e+01     1.790428e-03\n",
      " * time: 4.138619899749756\n",
      "    29    -6.226047e+01     1.794818e-03\n",
      " * time: 4.245898962020874\n",
      "    30    -6.226091e+01     1.440982e-03\n",
      " * time: 4.359375\n",
      "    31    -6.226121e+01     1.379440e-03\n",
      " * time: 4.46644401550293\n",
      "    32    -6.226140e+01     8.671909e-04\n",
      " * time: 4.58109188079834\n",
      "    33    -6.226153e+01     5.944663e-04\n",
      " * time: 4.687721014022827\n",
      "    34    -6.226160e+01     3.801990e-04\n",
      " * time: 4.820457935333252\n",
      "    35    -6.226164e+01     2.530919e-04\n",
      " * time: 4.9272520542144775\n",
      "    36    -6.226165e+01     1.911816e-04\n",
      " * time: 5.040332078933716\n",
      "    37    -6.226166e+01     1.414311e-04\n",
      " * time: 5.149833917617798\n",
      "    38    -6.226166e+01     1.116087e-04\n",
      " * time: 5.263329982757568\n",
      "    39    -6.226166e+01     9.133739e-05\n",
      " * time: 5.370732069015503\n",
      "    40    -6.226166e+01     6.895388e-05\n",
      " * time: 5.486672878265381\n",
      "    41    -6.226167e+01     6.000361e-05\n",
      " * time: 5.5919880867004395\n",
      "    42    -6.226167e+01     4.863286e-05\n",
      " * time: 5.718980073928833\n",
      "    43    -6.226167e+01     3.172785e-05\n",
      " * time: 5.831434965133667\n",
      "    44    -6.226167e+01     2.561837e-05\n",
      " * time: 5.938752889633179\n",
      "    45    -6.226167e+01     2.829893e-05\n",
      " * time: 6.051503896713257\n",
      "    46    -6.226167e+01     1.858865e-05\n",
      " * time: 6.157644033432007\n",
      "    47    -6.226167e+01     1.171277e-05\n",
      " * time: 6.270662069320679\n",
      "    48    -6.226167e+01     7.492233e-06\n",
      " * time: 6.376949071884155\n",
      "    49    -6.226167e+01     5.214601e-06\n",
      " * time: 6.48965311050415\n",
      "    50    -6.226167e+01     4.400289e-06\n",
      " * time: 6.5959999561309814\n",
      "    51    -6.226167e+01     3.160913e-06\n",
      " * time: 6.710267066955566\n"
     ]
    }
   ],
   "cell_type": "code",
   "source": [
    "scfres = direct_minimization(basis, tol=1e-5);"
   ],
   "metadata": {},
   "execution_count": 4
  },
  {
   "outputs": [
    {
     "output_type": "execute_result",
     "data": {
      "text/plain": "Energy breakdown:\n    Kinetic             25.7671069\n    AtomicLocal         -18.8557694\n    AtomicNonlocal      14.8522659\n    Ewald               -67.1831486\n    PspCorrection       -2.3569765\n    Hartree             4.8485373 \n    Xc                  -19.3336820\n\n    total               -62.261666459795\n"
     },
     "metadata": {},
     "execution_count": 5
    }
   ],
   "cell_type": "code",
   "source": [
    "scfres.energies"
   ],
   "metadata": {},
   "execution_count": 5
  }
 ],
 "nbformat_minor": 3,
 "metadata": {
  "language_info": {
   "file_extension": ".jl",
   "mimetype": "application/julia",
   "name": "julia",
   "version": "1.3.1"
  },
  "kernelspec": {
   "name": "julia-1.3",
   "display_name": "Julia 1.3.1",
   "language": "julia"
  }
 },
 "nbformat": 4
}
