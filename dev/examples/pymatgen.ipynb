{
 "cells": [
  {
   "cell_type": "markdown",
   "source": [
    "# Creating supercells with pymatgen\n",
    "\n",
    "The [Pymatgen](https://pymatgen.org/) python library allows to setup\n",
    "solid-state calculations using a flexible set of classes as well as an API\n",
    "to an online data base of structures. Its `Structure` and `Lattice`\n",
    "objects are directly supported by the DFTK `load_atoms` and `load_lattice`\n",
    "functions, such that DFTK may be readily used to run calculation on systems\n",
    "defined in pymatgen. Using the `pymatgen_structure` function a conversion\n",
    "from DFTK to pymatgen structures is also possible. In the following we\n",
    "use this to create a silicon supercell and find its LDA ground state\n",
    "using direct minimisation."
   ],
   "metadata": {}
  },
  {
   "cell_type": "markdown",
   "source": [
    "First we setup the silicon lattice in DFTK."
   ],
   "metadata": {}
  },
  {
   "outputs": [],
   "cell_type": "code",
   "source": [
    "using DFTK\n",
    "\n",
    "a = 10.263141334305942  # Lattice constant in Bohr\n",
    "lattice = a / 2 .* [[0 1 1.]; [1 0 1.]; [1 1 0.]]\n",
    "Si = ElementPsp(:Si, psp=load_psp(\"hgh/lda/Si-q4\"))\n",
    "atoms = [Si => [ones(3)/8, -ones(3)/8]];"
   ],
   "metadata": {},
   "execution_count": 1
  },
  {
   "cell_type": "markdown",
   "source": [
    "Next we make a `[2, 2, 2]` supercell using pymatgen"
   ],
   "metadata": {}
  },
  {
   "outputs": [],
   "cell_type": "code",
   "source": [
    "pystruct = pymatgen_structure(lattice, atoms)\n",
    "pystruct.make_supercell([2, 2, 2])\n",
    "lattice = load_lattice(pystruct)\n",
    "atoms = [Si => [s.frac_coords for s in pystruct.sites]];"
   ],
   "metadata": {},
   "execution_count": 2
  },
  {
   "cell_type": "markdown",
   "source": [
    "Setup an LDA model and discretize using\n",
    "a single kpoint and a small `Ecut` of 5 Hartree."
   ],
   "metadata": {}
  },
  {
   "outputs": [
    {
     "output_type": "execute_result",
     "data": {
      "text/plain": "PlaneWaveBasis (Ecut=5.0, 1 kpoints)"
     },
     "metadata": {},
     "execution_count": 3
    }
   ],
   "cell_type": "code",
   "source": [
    "model = model_LDA(lattice, atoms)\n",
    "basis = PlaneWaveBasis(model, 5, kgrid=(1, 1, 1))"
   ],
   "metadata": {},
   "execution_count": 3
  },
  {
   "cell_type": "markdown",
   "source": [
    "Find the ground state using direct minimisation (always using SCF is boring ...)"
   ],
   "metadata": {}
  },
  {
   "outputs": [
    {
     "name": "stdout",
     "output_type": "stream",
     "text": [
      "Iter     Function value   Gradient norm \n",
      "     0     1.125472e+02     1.507297e+00\n",
      " * time: 0.07879996299743652\n",
      "     1     1.098487e+01     9.236241e-01\n",
      " * time: 1.3282480239868164\n",
      "     2    -1.180331e+01     9.461582e-01\n",
      " * time: 1.434692144393921\n",
      "     3    -3.426997e+01     6.973646e-01\n",
      " * time: 1.5752241611480713\n",
      "     4    -4.789223e+01     5.054297e-01\n",
      " * time: 1.743704080581665\n",
      "     5    -5.722717e+01     2.067940e-01\n",
      " * time: 1.8743000030517578\n",
      "     6    -6.005966e+01     1.052856e-01\n",
      " * time: 1.981856107711792\n",
      "     7    -6.101152e+01     5.178823e-02\n",
      " * time: 2.095980167388916\n",
      "     8    -6.135731e+01     8.161411e-02\n",
      " * time: 2.2162270545959473\n",
      "     9    -6.165202e+01     3.400898e-02\n",
      " * time: 2.3169350624084473\n",
      "    10    -6.183930e+01     2.814700e-02\n",
      " * time: 2.4164280891418457\n",
      "    11    -6.198290e+01     2.231472e-02\n",
      " * time: 2.5187020301818848\n",
      "    12    -6.204794e+01     1.791115e-02\n",
      " * time: 2.6256470680236816\n",
      "    13    -6.210796e+01     1.445340e-02\n",
      " * time: 2.7437620162963867\n",
      "    14    -6.214051e+01     1.356974e-02\n",
      " * time: 2.845294952392578\n",
      "    15    -6.217245e+01     9.936541e-03\n",
      " * time: 2.9471871852874756\n",
      "    16    -6.219594e+01     1.028598e-02\n",
      " * time: 3.051126003265381\n",
      "    17    -6.221334e+01     8.591641e-03\n",
      " * time: 3.155802011489868\n",
      "    18    -6.222557e+01     8.055088e-03\n",
      " * time: 3.27671217918396\n",
      "    19    -6.223368e+01     6.642364e-03\n",
      " * time: 3.3757829666137695\n",
      "    20    -6.223951e+01     6.834978e-03\n",
      " * time: 3.474032163619995\n",
      "    21    -6.224455e+01     7.337581e-03\n",
      " * time: 3.5731589794158936\n",
      "    22    -6.224938e+01     6.486836e-03\n",
      " * time: 3.6729960441589355\n",
      "    23    -6.225336e+01     5.440962e-03\n",
      " * time: 3.7799220085144043\n",
      "    24    -6.225642e+01     4.150444e-03\n",
      " * time: 3.8795480728149414\n",
      "    25    -6.225868e+01     2.980558e-03\n",
      " * time: 3.9790730476379395\n",
      "    26    -6.226003e+01     2.006509e-03\n",
      " * time: 4.078776121139526\n",
      "    27    -6.226074e+01     1.603198e-03\n",
      " * time: 4.1806910037994385\n",
      "    28    -6.226109e+01     1.254702e-03\n",
      " * time: 4.291188955307007\n",
      "    29    -6.226129e+01     1.043876e-03\n",
      " * time: 4.3915770053863525\n",
      "    30    -6.226141e+01     7.858164e-04\n",
      " * time: 4.498841047286987\n",
      "    31    -6.226149e+01     7.583740e-04\n",
      " * time: 4.636528015136719\n",
      "    32    -6.226155e+01     5.576702e-04\n",
      " * time: 4.739974021911621\n",
      "    33    -6.226159e+01     4.335778e-04\n",
      " * time: 4.856400012969971\n",
      "    34    -6.226162e+01     3.699574e-04\n",
      " * time: 4.957966089248657\n",
      "    35    -6.226164e+01     3.045424e-04\n",
      " * time: 5.059707164764404\n",
      "    36    -6.226165e+01     2.119121e-04\n",
      " * time: 5.162021160125732\n",
      "    37    -6.226166e+01     1.332130e-04\n",
      " * time: 5.261353969573975\n",
      "    38    -6.226166e+01     1.030492e-04\n",
      " * time: 5.37108302116394\n",
      "    39    -6.226166e+01     6.745662e-05\n",
      " * time: 5.472983121871948\n",
      "    40    -6.226167e+01     4.380921e-05\n",
      " * time: 5.577048063278198\n",
      "    41    -6.226167e+01     3.311410e-05\n",
      " * time: 5.678331136703491\n",
      "    42    -6.226167e+01     2.873279e-05\n",
      " * time: 5.7794201374053955\n",
      "    43    -6.226167e+01     2.440351e-05\n",
      " * time: 5.891993999481201\n",
      "    44    -6.226167e+01     1.824023e-05\n",
      " * time: 5.992516994476318\n",
      "    45    -6.226167e+01     1.566726e-05\n",
      " * time: 6.090659141540527\n",
      "    46    -6.226167e+01     1.271628e-05\n",
      " * time: 6.191956996917725\n",
      "    47    -6.226167e+01     1.086514e-05\n",
      " * time: 6.291977167129517\n",
      "    48    -6.226167e+01     7.819577e-06\n",
      " * time: 6.400560140609741\n",
      "    49    -6.226167e+01     6.049199e-06\n",
      " * time: 6.501634120941162\n",
      "    50    -6.226167e+01     4.879440e-06\n",
      " * time: 6.601561069488525\n",
      "    51    -6.226167e+01     3.241444e-06\n",
      " * time: 6.7031660079956055\n"
     ]
    }
   ],
   "cell_type": "code",
   "source": [
    "scfres = direct_minimization(basis, tol=1e-5);"
   ],
   "metadata": {},
   "execution_count": 4
  },
  {
   "outputs": [
    {
     "output_type": "execute_result",
     "data": {
      "text/plain": "Energy breakdown:\n    Kinetic             25.7671061\n    AtomicLocal         -18.8557681\n    AtomicNonlocal      14.8522655\n    Ewald               -67.1831486\n    PspCorrection       -2.3569765\n    Hartree             4.8485372 \n    Xc                  -19.3336820\n\n    total               -62.261666460121\n"
     },
     "metadata": {},
     "execution_count": 5
    }
   ],
   "cell_type": "code",
   "source": [
    "scfres.energies"
   ],
   "metadata": {},
   "execution_count": 5
  }
 ],
 "nbformat_minor": 3,
 "metadata": {
  "language_info": {
   "file_extension": ".jl",
   "mimetype": "application/julia",
   "name": "julia",
   "version": "1.4.2"
  },
  "kernelspec": {
   "name": "julia-1.4",
   "display_name": "Julia 1.4.2",
   "language": "julia"
  }
 },
 "nbformat": 4
}
