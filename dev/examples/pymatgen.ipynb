{
 "cells": [
  {
   "cell_type": "markdown",
   "source": [
    "# Creating supercells with pymatgen\n",
    "\n",
    "The [Pymatgen](https://pymatgen.org/) python library allows to setup\n",
    "solid-state calculations using a flexible set of classes as well as an API\n",
    "to an online data base of structures. Its `Structure` and `Lattice`\n",
    "objects are directly supported by the DFTK `load_atoms` and `load_lattice`\n",
    "functions, such that DFTK may be readily used to run calculation on systems\n",
    "defined in pymatgen. Using the `pymatgen_structure` function a conversion\n",
    "from DFTK to pymatgen structures is also possible. In the following we\n",
    "use this to create a silicon supercell and find its LDA ground state\n",
    "using direct minimisation."
   ],
   "metadata": {}
  },
  {
   "cell_type": "markdown",
   "source": [
    "First we setup the silicon lattice in DFTK."
   ],
   "metadata": {}
  },
  {
   "outputs": [],
   "cell_type": "code",
   "source": [
    "using DFTK\n",
    "\n",
    "a = 10.263141334305942  # Lattice constant in Bohr\n",
    "lattice = a / 2 .* [[0 1 1.]; [1 0 1.]; [1 1 0.]]\n",
    "Si = ElementPsp(:Si, psp=load_psp(\"hgh/lda/Si-q4\"))\n",
    "atoms = [Si => [ones(3)/8, -ones(3)/8]];"
   ],
   "metadata": {},
   "execution_count": 1
  },
  {
   "cell_type": "markdown",
   "source": [
    "Next we make a `[2, 2, 2]` supercell using pymatgen"
   ],
   "metadata": {}
  },
  {
   "outputs": [],
   "cell_type": "code",
   "source": [
    "pystruct = pymatgen_structure(lattice, atoms)\n",
    "pystruct.make_supercell([2, 2, 2])\n",
    "lattice = load_lattice(pystruct)\n",
    "atoms = [Si => [s.frac_coords for s in pystruct.sites]];"
   ],
   "metadata": {},
   "execution_count": 2
  },
  {
   "cell_type": "markdown",
   "source": [
    "Setup an LDA model and discretize using\n",
    "a single kpoint and a small `Ecut` of 5 Hartree."
   ],
   "metadata": {}
  },
  {
   "outputs": [
    {
     "output_type": "execute_result",
     "data": {
      "text/plain": "PlaneWaveBasis (Ecut=5.0, 1 kpoints)"
     },
     "metadata": {},
     "execution_count": 3
    }
   ],
   "cell_type": "code",
   "source": [
    "model = model_LDA(lattice, atoms)\n",
    "basis = PlaneWaveBasis(model, 5, kgrid=(1, 1, 1))"
   ],
   "metadata": {},
   "execution_count": 3
  },
  {
   "cell_type": "markdown",
   "source": [
    "Find the ground state using direct minimisation (always using SCF is boring ...)"
   ],
   "metadata": {}
  },
  {
   "outputs": [
    {
     "name": "stdout",
     "output_type": "stream",
     "text": [
      "Iter     Function value   Gradient norm \n",
      "     0     1.116106e+02     1.534717e+00\n",
      " * time: 0.08383584022521973\n",
      "     1     1.063641e+01     1.060039e+00\n",
      " * time: 0.9164028167724609\n",
      "     2    -1.186287e+01     1.174268e+00\n",
      " * time: 1.0217528343200684\n",
      "     3    -3.380976e+01     8.916643e-01\n",
      " * time: 1.1747570037841797\n",
      "     4    -4.716865e+01     6.069002e-01\n",
      " * time: 1.3165099620819092\n",
      "     5    -5.692000e+01     2.035238e-01\n",
      " * time: 1.4556019306182861\n",
      "     6    -5.977594e+01     1.227533e-01\n",
      " * time: 1.5655179023742676\n",
      "     7    -6.085862e+01     5.125252e-02\n",
      " * time: 1.6847758293151855\n",
      "     8    -6.129961e+01     5.181462e-02\n",
      " * time: 1.7873058319091797\n",
      "     9    -6.154474e+01     3.131817e-02\n",
      " * time: 1.8975839614868164\n",
      "    10    -6.178196e+01     2.745777e-02\n",
      " * time: 2.014312982559204\n",
      "    11    -6.196131e+01     2.239862e-02\n",
      " * time: 2.116529941558838\n",
      "    12    -6.204712e+01     1.999791e-02\n",
      " * time: 2.227695941925049\n",
      "    13    -6.211978e+01     1.528497e-02\n",
      " * time: 2.345435857772827\n",
      "    14    -6.216110e+01     1.336846e-02\n",
      " * time: 2.4478909969329834\n",
      "    15    -6.219291e+01     1.439829e-02\n",
      " * time: 2.5573649406433105\n",
      "    16    -6.221095e+01     8.617351e-03\n",
      " * time: 2.670753002166748\n",
      "    17    -6.222338e+01     6.801477e-03\n",
      " * time: 2.77268385887146\n",
      "    18    -6.223172e+01     5.414515e-03\n",
      " * time: 2.880708932876587\n",
      "    19    -6.223781e+01     5.547349e-03\n",
      " * time: 2.9931228160858154\n",
      "    20    -6.224288e+01     5.967580e-03\n",
      " * time: 3.0948739051818848\n",
      "    21    -6.224763e+01     5.858441e-03\n",
      " * time: 3.2047359943389893\n",
      "    22    -6.225203e+01     4.998599e-03\n",
      " * time: 3.317868947982788\n",
      "    23    -6.225581e+01     4.260630e-03\n",
      " * time: 3.42020583152771\n",
      "    24    -6.225848e+01     2.665051e-03\n",
      " * time: 3.529644012451172\n",
      "    25    -6.225995e+01     1.902947e-03\n",
      " * time: 3.6425487995147705\n",
      "    26    -6.226073e+01     1.581175e-03\n",
      " * time: 3.7447638511657715\n",
      "    27    -6.226110e+01     1.024225e-03\n",
      " * time: 3.8550539016723633\n",
      "    28    -6.226131e+01     8.215819e-04\n",
      " * time: 3.968622922897339\n",
      "    29    -6.226143e+01     7.783303e-04\n",
      " * time: 4.069464921951294\n",
      "    30    -6.226151e+01     6.371078e-04\n",
      " * time: 4.178719997406006\n",
      "    31    -6.226156e+01     5.493194e-04\n",
      " * time: 4.2884910106658936\n",
      "    32    -6.226160e+01     4.331519e-04\n",
      " * time: 4.397101879119873\n",
      "    33    -6.226162e+01     3.444632e-04\n",
      " * time: 4.49928879737854\n",
      "    34    -6.226164e+01     2.293628e-04\n",
      " * time: 4.6081249713897705\n",
      "    35    -6.226165e+01     1.892121e-04\n",
      " * time: 4.715389013290405\n",
      "    36    -6.226166e+01     1.577621e-04\n",
      " * time: 4.817149877548218\n",
      "    37    -6.226166e+01     1.003725e-04\n",
      " * time: 4.927019834518433\n",
      "    38    -6.226166e+01     6.502385e-05\n",
      " * time: 5.0358569622039795\n",
      "    39    -6.226167e+01     4.929021e-05\n",
      " * time: 5.138741970062256\n",
      "    40    -6.226167e+01     3.599123e-05\n",
      " * time: 5.247463941574097\n",
      "    41    -6.226167e+01     2.978161e-05\n",
      " * time: 5.356060981750488\n",
      "    42    -6.226167e+01     2.255090e-05\n",
      " * time: 5.457844972610474\n",
      "    43    -6.226167e+01     1.989823e-05\n",
      " * time: 5.566731929779053\n",
      "    44    -6.226167e+01     1.485844e-05\n",
      " * time: 5.67713189125061\n",
      "    45    -6.226167e+01     1.252395e-05\n",
      " * time: 5.779223918914795\n",
      "    46    -6.226167e+01     9.971661e-06\n",
      " * time: 5.887332916259766\n",
      "    47    -6.226167e+01     7.285386e-06\n",
      " * time: 5.999709844589233\n",
      "    48    -6.226167e+01     5.089499e-06\n",
      " * time: 6.100750923156738\n",
      "    49    -6.226167e+01     3.297809e-06\n",
      " * time: 6.210946798324585\n",
      "    50    -6.226167e+01     2.812228e-06\n",
      " * time: 6.333221912384033\n"
     ]
    }
   ],
   "cell_type": "code",
   "source": [
    "scfres = direct_minimization(basis, tol=1e-5);"
   ],
   "metadata": {},
   "execution_count": 4
  },
  {
   "outputs": [
    {
     "output_type": "execute_result",
     "data": {
      "text/plain": "Energy breakdown:\n    Kinetic             25.7671070\n    AtomicLocal         -18.8557646\n    AtomicNonlocal      14.8522614\n    Ewald               -67.1831486\n    PspCorrection       -2.3569765\n    Hartree             4.8485368 \n    Xc                  -19.3336820\n\n    total               -62.261666460356\n"
     },
     "metadata": {},
     "execution_count": 5
    }
   ],
   "cell_type": "code",
   "source": [
    "scfres.energies"
   ],
   "metadata": {},
   "execution_count": 5
  }
 ],
 "nbformat_minor": 3,
 "metadata": {
  "language_info": {
   "file_extension": ".jl",
   "mimetype": "application/julia",
   "name": "julia",
   "version": "1.3.1"
  },
  "kernelspec": {
   "name": "julia-1.3",
   "display_name": "Julia 1.3.1",
   "language": "julia"
  }
 },
 "nbformat": 4
}
