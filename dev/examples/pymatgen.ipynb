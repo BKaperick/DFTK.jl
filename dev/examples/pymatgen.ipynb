{
 "cells": [
  {
   "cell_type": "markdown",
   "source": [
    "# Creating supercells with pymatgen\n",
    "\n",
    "The [Pymatgen](https://pymatgen.org/) python library allows to setup\n",
    "solid-state calculations using a flexible set of classes as well as an API\n",
    "to an online data base of structures. Its `Structure` and `Lattice`\n",
    "objects are directly supported by the DFTK `load_atoms` and `load_lattice`\n",
    "functions, such that DFTK may be readily used to run calculation on systems\n",
    "defined in pymatgen. Using the `pymatgen_structure` function a conversion\n",
    "from DFTK to pymatgen structures is also possible. In the following we\n",
    "use this to create a silicon supercell and find its LDA ground state\n",
    "using direct minimisation."
   ],
   "metadata": {}
  },
  {
   "cell_type": "markdown",
   "source": [
    "First we setup the silicon lattice in DFTK."
   ],
   "metadata": {}
  },
  {
   "outputs": [],
   "cell_type": "code",
   "source": [
    "using DFTK\n",
    "\n",
    "a = 10.263141334305942  # Lattice constant in Bohr\n",
    "lattice = a / 2 .* [[0 1 1.]; [1 0 1.]; [1 1 0.]]\n",
    "Si = ElementPsp(:Si, psp=load_psp(\"hgh/lda/Si-q4\"))\n",
    "atoms = [Si => [ones(3)/8, -ones(3)/8]];"
   ],
   "metadata": {},
   "execution_count": 1
  },
  {
   "cell_type": "markdown",
   "source": [
    "Next we make a `[2, 2, 2]` supercell using pymatgen"
   ],
   "metadata": {}
  },
  {
   "outputs": [],
   "cell_type": "code",
   "source": [
    "pystruct = pymatgen_structure(lattice, atoms)\n",
    "pystruct.make_supercell([2, 2, 2])\n",
    "lattice = load_lattice(pystruct)\n",
    "atoms = [Si => [s.frac_coords for s in pystruct.sites]];"
   ],
   "metadata": {},
   "execution_count": 2
  },
  {
   "cell_type": "markdown",
   "source": [
    "Setup an LDA model and discretize using\n",
    "a single kpoint and a small `Ecut` of 5 Hartree."
   ],
   "metadata": {}
  },
  {
   "outputs": [
    {
     "output_type": "execute_result",
     "data": {
      "text/plain": "PlaneWaveBasis (Ecut=5.0, 1 kpoints)"
     },
     "metadata": {},
     "execution_count": 3
    }
   ],
   "cell_type": "code",
   "source": [
    "model = model_LDA(lattice, atoms)\n",
    "basis = PlaneWaveBasis(model, 5, kgrid=(1, 1, 1))"
   ],
   "metadata": {},
   "execution_count": 3
  },
  {
   "cell_type": "markdown",
   "source": [
    "Find the ground state using direct minimisation (always using SCF is boring ...)"
   ],
   "metadata": {}
  },
  {
   "outputs": [
    {
     "name": "stdout",
     "output_type": "stream",
     "text": [
      "Iter     Function value   Gradient norm \n",
      "     0     1.115924e+02     1.556638e+00\n",
      " * time: 0.08589506149291992\n",
      "     1     1.043925e+01     9.034950e-01\n",
      " * time: 1.1706740856170654\n",
      "     2    -1.132779e+01     1.019744e+00\n",
      " * time: 1.228572130203247\n",
      "     3    -3.424671e+01     8.348939e-01\n",
      " * time: 1.319404125213623\n",
      "     4    -4.750148e+01     6.145921e-01\n",
      " * time: 1.3876781463623047\n",
      "     5    -5.693361e+01     2.119975e-01\n",
      " * time: 1.473938226699829\n",
      "     6    -5.981627e+01     1.367954e-01\n",
      " * time: 1.5248920917510986\n",
      "     7    -6.089656e+01     5.583724e-02\n",
      " * time: 1.575618028640747\n",
      "     8    -6.129626e+01     7.500186e-02\n",
      " * time: 1.6283950805664062\n",
      "     9    -6.158818e+01     3.995313e-02\n",
      " * time: 1.6896350383758545\n",
      "    10    -6.179786e+01     3.075629e-02\n",
      " * time: 1.7405781745910645\n",
      "    11    -6.195809e+01     2.323387e-02\n",
      " * time: 1.7917580604553223\n",
      "    12    -6.202612e+01     2.179566e-02\n",
      " * time: 1.8489031791687012\n",
      "    13    -6.209897e+01     1.602252e-02\n",
      " * time: 1.9011170864105225\n",
      "    14    -6.213708e+01     1.491731e-02\n",
      " * time: 1.9521050453186035\n",
      "    15    -6.217496e+01     1.433380e-02\n",
      " * time: 2.0031840801239014\n",
      "    16    -6.219780e+01     1.337585e-02\n",
      " * time: 2.0598862171173096\n",
      "    17    -6.221228e+01     8.661631e-03\n",
      " * time: 2.1104490756988525\n",
      "    18    -6.222266e+01     7.737177e-03\n",
      " * time: 2.160818099975586\n",
      "    19    -6.222924e+01     7.580448e-03\n",
      " * time: 2.217038154602051\n",
      "    20    -6.223499e+01     5.801767e-03\n",
      " * time: 2.267883062362671\n",
      "    21    -6.224078e+01     5.276330e-03\n",
      " * time: 2.3187780380249023\n",
      "    22    -6.224694e+01     4.981002e-03\n",
      " * time: 2.369976043701172\n",
      "    23    -6.225233e+01     3.934803e-03\n",
      " * time: 2.426485061645508\n",
      "    24    -6.225630e+01     4.277857e-03\n",
      " * time: 2.477039098739624\n",
      "    25    -6.225862e+01     2.808299e-03\n",
      " * time: 2.5280981063842773\n",
      "    26    -6.225985e+01     2.287323e-03\n",
      " * time: 2.584641218185425\n",
      "    27    -6.226054e+01     1.606113e-03\n",
      " * time: 2.636442184448242\n",
      "    28    -6.226093e+01     1.244105e-03\n",
      " * time: 2.6876862049102783\n",
      "    29    -6.226117e+01     1.176311e-03\n",
      " * time: 2.7388670444488525\n",
      "    30    -6.226135e+01     8.272243e-04\n",
      " * time: 2.7948310375213623\n",
      "    31    -6.226146e+01     6.604549e-04\n",
      " * time: 2.8458690643310547\n",
      "    32    -6.226154e+01     4.985858e-04\n",
      " * time: 2.8968122005462646\n",
      "    33    -6.226159e+01     4.999910e-04\n",
      " * time: 2.9533920288085938\n",
      "    34    -6.226163e+01     3.172050e-04\n",
      " * time: 3.004906177520752\n",
      "    35    -6.226165e+01     2.125632e-04\n",
      " * time: 3.056140184402466\n",
      "    36    -6.226166e+01     1.498194e-04\n",
      " * time: 3.1065502166748047\n",
      "    37    -6.226166e+01     1.081478e-04\n",
      " * time: 3.16251802444458\n",
      "    38    -6.226166e+01     6.810885e-05\n",
      " * time: 3.213067054748535\n",
      "    39    -6.226166e+01     7.652575e-05\n",
      " * time: 3.2638661861419678\n",
      "    40    -6.226167e+01     6.187110e-05\n",
      " * time: 3.3208420276641846\n",
      "    41    -6.226167e+01     5.086424e-05\n",
      " * time: 3.3718361854553223\n",
      "    42    -6.226167e+01     3.671807e-05\n",
      " * time: 3.425473213195801\n",
      "    43    -6.226167e+01     2.936883e-05\n",
      " * time: 3.4760501384735107\n",
      "    44    -6.226167e+01     2.395819e-05\n",
      " * time: 3.5323212146759033\n",
      "    45    -6.226167e+01     1.526148e-05\n",
      " * time: 3.5828120708465576\n",
      "    46    -6.226167e+01     1.423553e-05\n",
      " * time: 3.6333072185516357\n",
      "    47    -6.226167e+01     1.192938e-05\n",
      " * time: 3.6892812252044678\n",
      "    48    -6.226167e+01     7.161330e-06\n",
      " * time: 3.739894151687622\n",
      "    49    -6.226167e+01     5.310039e-06\n",
      " * time: 3.7903661727905273\n",
      "    50    -6.226167e+01     3.117406e-06\n",
      " * time: 3.8407340049743652\n"
     ]
    }
   ],
   "cell_type": "code",
   "source": [
    "scfres = direct_minimization(basis, tol=1e-5);"
   ],
   "metadata": {},
   "execution_count": 4
  },
  {
   "outputs": [
    {
     "output_type": "execute_result",
     "data": {
      "text/plain": "Energy breakdown:\n    Kinetic             25.7671054\n    AtomicLocal         -18.8557637\n    AtomicNonlocal      14.8522628\n    Ewald               -67.1831486\n    PspCorrection       -2.3569765\n    Hartree             4.8485356 \n    Xc                  -19.3336814\n\n    total               -62.261666458512\n"
     },
     "metadata": {},
     "execution_count": 5
    }
   ],
   "cell_type": "code",
   "source": [
    "scfres.energies"
   ],
   "metadata": {},
   "execution_count": 5
  }
 ],
 "nbformat_minor": 3,
 "metadata": {
  "language_info": {
   "file_extension": ".jl",
   "mimetype": "application/julia",
   "name": "julia",
   "version": "1.5.3"
  },
  "kernelspec": {
   "name": "julia-1.5",
   "display_name": "Julia 1.5.3",
   "language": "julia"
  }
 },
 "nbformat": 4
}
