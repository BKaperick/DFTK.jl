{
 "cells": [
  {
   "cell_type": "markdown",
   "source": [
    "# Creating supercells with pymatgen\n",
    "\n",
    "The [Pymatgen](https://pymatgen.org/) python library allows to setup\n",
    "solid-state calculations using a flexible set of classes as well as an API\n",
    "to an online data base of structures. Its `Structure` and `Lattice`\n",
    "objects are directly supported by the DFTK `load_atoms` and `load_lattice`\n",
    "functions, such that DFTK may be readily used to run calculation on systems\n",
    "defined in pymatgen. Using the `pymatgen_structure` function a conversion\n",
    "from DFTK to pymatgen structures is also possible. In the following we\n",
    "use this to create a silicon supercell and find its LDA ground state\n",
    "using direct minimisation."
   ],
   "metadata": {}
  },
  {
   "cell_type": "markdown",
   "source": [
    "First we setup the silicon lattice in DFTK."
   ],
   "metadata": {}
  },
  {
   "outputs": [],
   "cell_type": "code",
   "source": [
    "using DFTK\n",
    "\n",
    "a = 10.263141334305942  # Lattice constant in Bohr\n",
    "lattice = a / 2 .* [[0 1 1.]; [1 0 1.]; [1 1 0.]]\n",
    "Si = ElementPsp(:Si, psp=load_psp(\"hgh/lda/Si-q4\"))\n",
    "atoms = [Si => [ones(3)/8, -ones(3)/8]];"
   ],
   "metadata": {},
   "execution_count": 1
  },
  {
   "cell_type": "markdown",
   "source": [
    "Next we make a `[2, 2, 2]` supercell using pymatgen"
   ],
   "metadata": {}
  },
  {
   "outputs": [],
   "cell_type": "code",
   "source": [
    "pystruct = pymatgen_structure(lattice, atoms)\n",
    "pystruct.make_supercell([2, 2, 2])\n",
    "lattice = load_lattice(pystruct)\n",
    "atoms = [Si => [s.frac_coords for s in pystruct.sites]];"
   ],
   "metadata": {},
   "execution_count": 2
  },
  {
   "cell_type": "markdown",
   "source": [
    "Setup an LDA model and discretize using\n",
    "a single kpoint and a small `Ecut` of 5 Hartree."
   ],
   "metadata": {}
  },
  {
   "outputs": [
    {
     "output_type": "execute_result",
     "data": {
      "text/plain": "PlaneWaveBasis (Ecut=5.0, 1 kpoints)"
     },
     "metadata": {},
     "execution_count": 3
    }
   ],
   "cell_type": "code",
   "source": [
    "model = model_LDA(lattice, atoms)\n",
    "basis = PlaneWaveBasis(model, 5, kgrid=(1, 1, 1))"
   ],
   "metadata": {},
   "execution_count": 3
  },
  {
   "cell_type": "markdown",
   "source": [
    "Find the ground state using direct minimisation (always using SCF is boring ...)"
   ],
   "metadata": {}
  },
  {
   "outputs": [
    {
     "name": "stdout",
     "output_type": "stream",
     "text": [
      "Iter     Function value   Gradient norm \n",
      "     0     1.124967e+02     1.412722e+00\n",
      " * time: 0.7300479412078857\n",
      "     1     1.058049e+01     1.009643e+00\n",
      " * time: 2.110646963119507\n",
      "     2    -1.207662e+01     1.062056e+00\n",
      " * time: 2.786134958267212\n",
      "     3    -3.417681e+01     7.335594e-01\n",
      " * time: 3.765587091445923\n",
      "     4    -4.783648e+01     5.189986e-01\n",
      " * time: 4.755934000015259\n",
      "     5    -5.702807e+01     1.890584e-01\n",
      " * time: 5.715878963470459\n",
      "     6    -5.983332e+01     1.360607e-01\n",
      " * time: 6.36284613609314\n",
      "     7    -6.091038e+01     4.883278e-02\n",
      " * time: 7.018033981323242\n",
      "     8    -6.133555e+01     6.393858e-02\n",
      " * time: 7.680139064788818\n",
      "     9    -6.162136e+01     3.993785e-02\n",
      " * time: 8.348122119903564\n",
      "    10    -6.184487e+01     2.810741e-02\n",
      " * time: 9.001212120056152\n",
      "    11    -6.201996e+01     2.151305e-02\n",
      " * time: 9.642990112304688\n",
      "    12    -6.208909e+01     1.506683e-02\n",
      " * time: 10.284526109695435\n",
      "    13    -6.215346e+01     1.386653e-02\n",
      " * time: 10.957452058792114\n",
      "    14    -6.217860e+01     1.064104e-02\n",
      " * time: 11.592838048934937\n",
      "    15    -6.220003e+01     1.128609e-02\n",
      " * time: 12.248441934585571\n",
      "    16    -6.221118e+01     7.766473e-03\n",
      " * time: 12.90262508392334\n",
      "    17    -6.222112e+01     6.278534e-03\n",
      " * time: 13.587652921676636\n",
      "    18    -6.222946e+01     6.433888e-03\n",
      " * time: 14.224682092666626\n",
      "    19    -6.223632e+01     6.224963e-03\n",
      " * time: 14.879126071929932\n",
      "    20    -6.224324e+01     5.625768e-03\n",
      " * time: 15.566736936569214\n",
      "    21    -6.224948e+01     4.951376e-03\n",
      " * time: 16.26131510734558\n",
      "    22    -6.225448e+01     4.090583e-03\n",
      " * time: 16.91882300376892\n",
      "    23    -6.225763e+01     3.412563e-03\n",
      " * time: 17.570745944976807\n",
      "    24    -6.225941e+01     2.166358e-03\n",
      " * time: 18.239288091659546\n",
      "    25    -6.226034e+01     1.613906e-03\n",
      " * time: 18.91236400604248\n",
      "    26    -6.226083e+01     1.112648e-03\n",
      " * time: 19.55559206008911\n",
      "    27    -6.226108e+01     8.722558e-04\n",
      " * time: 20.237777948379517\n",
      "    28    -6.226125e+01     7.115984e-04\n",
      " * time: 20.894103050231934\n",
      "    29    -6.226138e+01     6.684534e-04\n",
      " * time: 21.548419952392578\n",
      "    30    -6.226148e+01     6.432120e-04\n",
      " * time: 22.199373960494995\n",
      "    31    -6.226155e+01     5.239342e-04\n",
      " * time: 22.860948085784912\n",
      "    32    -6.226160e+01     5.158306e-04\n",
      " * time: 23.52013611793518\n",
      "    33    -6.226163e+01     4.113098e-04\n",
      " * time: 24.167808055877686\n",
      "    34    -6.226165e+01     2.629249e-04\n",
      " * time: 24.830496072769165\n",
      "    35    -6.226166e+01     1.156227e-04\n",
      " * time: 25.4850070476532\n",
      "    36    -6.226166e+01     1.015046e-04\n",
      " * time: 26.14945101737976\n",
      "    37    -6.226166e+01     6.540386e-05\n",
      " * time: 26.857638120651245\n",
      "    38    -6.226167e+01     5.114383e-05\n",
      " * time: 27.507750988006592\n",
      "    39    -6.226167e+01     4.316953e-05\n",
      " * time: 28.16770100593567\n",
      "    40    -6.226167e+01     3.342646e-05\n",
      " * time: 28.843621969223022\n",
      "    41    -6.226167e+01     2.845123e-05\n",
      " * time: 29.492802143096924\n",
      "    42    -6.226167e+01     1.975290e-05\n",
      " * time: 30.128390073776245\n",
      "    43    -6.226167e+01     1.546663e-05\n",
      " * time: 30.7708899974823\n",
      "    44    -6.226167e+01     1.339749e-05\n",
      " * time: 31.44501495361328\n",
      "    45    -6.226167e+01     1.042122e-05\n",
      " * time: 32.09150195121765\n",
      "    46    -6.226167e+01     7.233059e-06\n",
      " * time: 32.74636101722717\n",
      "    47    -6.226167e+01     4.846556e-06\n",
      " * time: 33.39441704750061\n",
      "    48    -6.226167e+01     4.233908e-06\n",
      " * time: 34.031288146972656\n",
      "    49    -6.226167e+01     2.573467e-06\n",
      " * time: 34.7177300453186\n",
      "    50    -6.226167e+01     2.084937e-06\n",
      " * time: 35.36789107322693\n"
     ]
    }
   ],
   "cell_type": "code",
   "source": [
    "scfres = direct_minimization(basis, tol=1e-5);"
   ],
   "metadata": {},
   "execution_count": 4
  },
  {
   "outputs": [
    {
     "output_type": "execute_result",
     "data": {
      "text/plain": "Energy breakdown:\n    Kinetic             25.7671068\n    AtomicLocal         -18.8557674\n    AtomicNonlocal      14.8522643\n    Ewald               -67.1831486\n    PspCorrection       -2.3569765\n    Hartree             4.8485370 \n    Xc                  -19.3336819\n\n    total               -62.261666462120\n"
     },
     "metadata": {},
     "execution_count": 5
    }
   ],
   "cell_type": "code",
   "source": [
    "scfres.energies"
   ],
   "metadata": {},
   "execution_count": 5
  }
 ],
 "nbformat_minor": 3,
 "metadata": {
  "language_info": {
   "file_extension": ".jl",
   "mimetype": "application/julia",
   "name": "julia",
   "version": "1.6.2"
  },
  "kernelspec": {
   "name": "julia-1.6",
   "display_name": "Julia 1.6.2",
   "language": "julia"
  }
 },
 "nbformat": 4
}
