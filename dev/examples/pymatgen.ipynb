{
 "cells": [
  {
   "cell_type": "markdown",
   "source": [
    "# Creating supercells with pymatgen\n",
    "\n",
    "The [Pymatgen](https://pymatgen.org/) python library allows to setup\n",
    "solid-state calculations using a flexible set of classes as well as an API\n",
    "to an online data base of structures. Its `Structure` and `Lattice`\n",
    "objects are directly supported by the DFTK `load_atoms` and `load_lattice`\n",
    "functions, such that DFTK may be readily used to run calculation on systems\n",
    "defined in pymatgen. Using the `pymatgen_structure` function a conversion\n",
    "from DFTK to pymatgen structures is also possible. In the following we\n",
    "use this to create a silicon supercell and find its LDA ground state\n",
    "using direct minimisation."
   ],
   "metadata": {}
  },
  {
   "cell_type": "markdown",
   "source": [
    "First we setup the silicon lattice in DFTK."
   ],
   "metadata": {}
  },
  {
   "outputs": [],
   "cell_type": "code",
   "source": [
    "using DFTK\n",
    "\n",
    "a = 10.263141334305942  # Lattice constant in Bohr\n",
    "lattice = a / 2 .* [[0 1 1.]; [1 0 1.]; [1 1 0.]]\n",
    "Si = ElementPsp(:Si, psp=load_psp(\"hgh/lda/Si-q4\"))\n",
    "atoms = [Si => [ones(3)/8, -ones(3)/8]];"
   ],
   "metadata": {},
   "execution_count": 1
  },
  {
   "cell_type": "markdown",
   "source": [
    "Next we make a `[2, 2, 2]` supercell using pymatgen"
   ],
   "metadata": {}
  },
  {
   "outputs": [],
   "cell_type": "code",
   "source": [
    "pystruct = pymatgen_structure(lattice, atoms)\n",
    "pystruct.make_supercell([2, 2, 2])\n",
    "lattice = load_lattice(pystruct)\n",
    "atoms = [Si => [s.frac_coords for s in pystruct.sites]];"
   ],
   "metadata": {},
   "execution_count": 2
  },
  {
   "cell_type": "markdown",
   "source": [
    "Setup an LDA model and discretize using\n",
    "a single kpoint and a small `Ecut` of 5 Hartree."
   ],
   "metadata": {}
  },
  {
   "outputs": [
    {
     "output_type": "execute_result",
     "data": {
      "text/plain": "PlaneWaveBasis (Ecut=5.0, 1 kpoints)"
     },
     "metadata": {},
     "execution_count": 3
    }
   ],
   "cell_type": "code",
   "source": [
    "model = model_LDA(lattice, atoms)\n",
    "basis = PlaneWaveBasis(model, 5, kgrid=(1, 1, 1))"
   ],
   "metadata": {},
   "execution_count": 3
  },
  {
   "cell_type": "markdown",
   "source": [
    "Find the ground state using direct minimisation (always using SCF is boring ...)"
   ],
   "metadata": {}
  },
  {
   "outputs": [
    {
     "name": "stdout",
     "output_type": "stream",
     "text": [
      "Iter     Function value   Gradient norm \n",
      "     0     1.121436e+02     1.593117e+00\n",
      " * time: 0.7098240852355957\n",
      "     1     1.031245e+01     8.866464e-01\n",
      " * time: 2.850947141647339\n",
      "     2    -1.223895e+01     1.033495e+00\n",
      " * time: 3.496696949005127\n",
      "     3    -3.484892e+01     7.410829e-01\n",
      " * time: 4.360658168792725\n",
      "     4    -4.838587e+01     5.926876e-01\n",
      " * time: 5.280102014541626\n",
      "     5    -5.734743e+01     1.999443e-01\n",
      " * time: 6.189496994018555\n",
      "     6    -6.000489e+01     1.176229e-01\n",
      " * time: 6.787836074829102\n",
      "     7    -6.100556e+01     4.914220e-02\n",
      " * time: 7.372948169708252\n",
      "     8    -6.138519e+01     7.200936e-02\n",
      " * time: 7.954553127288818\n",
      "     9    -6.164888e+01     3.643632e-02\n",
      " * time: 8.5161771774292\n",
      "    10    -6.182973e+01     2.991498e-02\n",
      " * time: 9.09042501449585\n",
      "    11    -6.197747e+01     1.986966e-02\n",
      " * time: 9.686761140823364\n",
      "    12    -6.204180e+01     1.740981e-02\n",
      " * time: 10.274598121643066\n",
      "    13    -6.211182e+01     1.538847e-02\n",
      " * time: 10.853779077529907\n",
      "    14    -6.214505e+01     1.262551e-02\n",
      " * time: 11.434705972671509\n",
      "    15    -6.217403e+01     1.160252e-02\n",
      " * time: 12.01547908782959\n",
      "    16    -6.218870e+01     8.176211e-03\n",
      " * time: 12.622374057769775\n",
      "    17    -6.219975e+01     9.216871e-03\n",
      " * time: 13.203498125076294\n",
      "    18    -6.220804e+01     9.436996e-03\n",
      " * time: 13.78486704826355\n",
      "    19    -6.221479e+01     9.336755e-03\n",
      " * time: 14.383969068527222\n",
      "    20    -6.222223e+01     8.449982e-03\n",
      " * time: 14.974568128585815\n",
      "    21    -6.223032e+01     6.768366e-03\n",
      " * time: 15.548457145690918\n",
      "    22    -6.223851e+01     6.216067e-03\n",
      " * time: 16.116769075393677\n",
      "    23    -6.224587e+01     6.443426e-03\n",
      " * time: 16.712058067321777\n",
      "    24    -6.225149e+01     4.868141e-03\n",
      " * time: 17.310431957244873\n",
      "    25    -6.225521e+01     3.788434e-03\n",
      " * time: 17.888667106628418\n",
      "    26    -6.225747e+01     3.121689e-03\n",
      " * time: 18.470783948898315\n",
      "    27    -6.225884e+01     2.577417e-03\n",
      " * time: 19.06579613685608\n",
      "    28    -6.225969e+01     2.102479e-03\n",
      " * time: 19.64434313774109\n",
      "    29    -6.226030e+01     2.007304e-03\n",
      " * time: 20.21838903427124\n",
      "    30    -6.226076e+01     1.488315e-03\n",
      " * time: 20.766417980194092\n",
      "    31    -6.226111e+01     1.439792e-03\n",
      " * time: 21.321660041809082\n",
      "    32    -6.226136e+01     1.101746e-03\n",
      " * time: 21.85341215133667\n",
      "    33    -6.226150e+01     8.081348e-04\n",
      " * time: 22.398781061172485\n",
      "    34    -6.226159e+01     4.685476e-04\n",
      " * time: 22.957316160202026\n",
      "    35    -6.226163e+01     3.940039e-04\n",
      " * time: 23.507080078125\n",
      "    36    -6.226165e+01     2.516003e-04\n",
      " * time: 24.050189971923828\n",
      "    37    -6.226166e+01     1.483183e-04\n",
      " * time: 24.587571144104004\n",
      "    38    -6.226166e+01     9.519087e-05\n",
      " * time: 25.151328086853027\n",
      "    39    -6.226166e+01     6.868448e-05\n",
      " * time: 25.696665048599243\n",
      "    40    -6.226167e+01     5.839703e-05\n",
      " * time: 26.230250120162964\n",
      "    41    -6.226167e+01     4.420281e-05\n",
      " * time: 26.77821111679077\n",
      "    42    -6.226167e+01     4.057190e-05\n",
      " * time: 27.347223043441772\n",
      "    43    -6.226167e+01     2.428317e-05\n",
      " * time: 27.884170055389404\n",
      "    44    -6.226167e+01     1.935229e-05\n",
      " * time: 28.418001174926758\n",
      "    45    -6.226167e+01     1.500545e-05\n",
      " * time: 28.972453117370605\n",
      "    46    -6.226167e+01     1.264098e-05\n",
      " * time: 29.52540612220764\n",
      "    47    -6.226167e+01     1.052281e-05\n",
      " * time: 30.091102123260498\n",
      "    48    -6.226167e+01     9.207080e-06\n",
      " * time: 30.662434101104736\n",
      "    49    -6.226167e+01     5.995612e-06\n",
      " * time: 31.203835010528564\n",
      "    50    -6.226167e+01     6.064967e-06\n",
      " * time: 31.747286081314087\n",
      "    51    -6.226167e+01     4.163221e-06\n",
      " * time: 32.327094078063965\n"
     ]
    }
   ],
   "cell_type": "code",
   "source": [
    "scfres = direct_minimization(basis, tol=1e-5);"
   ],
   "metadata": {},
   "execution_count": 4
  },
  {
   "outputs": [
    {
     "output_type": "execute_result",
     "data": {
      "text/plain": "Energy breakdown:\n    Kinetic             25.7671082\n    AtomicLocal         -18.8557773\n    AtomicNonlocal      14.8522708\n    Ewald               -67.1831486\n    PspCorrection       -2.3569765\n    Hartree             4.8485401 \n    Xc                  -19.3336831\n\n    total               -62.261666459162\n"
     },
     "metadata": {},
     "execution_count": 5
    }
   ],
   "cell_type": "code",
   "source": [
    "scfres.energies"
   ],
   "metadata": {},
   "execution_count": 5
  }
 ],
 "nbformat_minor": 3,
 "metadata": {
  "language_info": {
   "file_extension": ".jl",
   "mimetype": "application/julia",
   "name": "julia",
   "version": "1.6.1"
  },
  "kernelspec": {
   "name": "julia-1.6",
   "display_name": "Julia 1.6.1",
   "language": "julia"
  }
 },
 "nbformat": 4
}
