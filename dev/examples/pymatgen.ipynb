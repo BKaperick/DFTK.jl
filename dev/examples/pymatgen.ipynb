{
 "cells": [
  {
   "cell_type": "markdown",
   "source": [
    "# Creating supercells with pymatgen\n",
    "\n",
    "The [Pymatgen](https://pymatgen.org/) python library allows to setup\n",
    "solid-state calculations using a flexible set of classes as well as an API\n",
    "to an online data base of structures. Its `Structure` and `Lattice`\n",
    "objects are directly supported by the DFTK `load_atoms` and `load_lattice`\n",
    "functions, such that DFTK may be readily used to run calculation on systems\n",
    "defined in pymatgen. Using the `pymatgen_structure` function a conversion\n",
    "from DFTK to pymatgen structures is also possible. In the following we\n",
    "use this to create a silicon supercell and find its LDA ground state\n",
    "using direct minimisation."
   ],
   "metadata": {}
  },
  {
   "cell_type": "markdown",
   "source": [
    "First we setup the silicon lattice in DFTK."
   ],
   "metadata": {}
  },
  {
   "outputs": [],
   "cell_type": "code",
   "source": [
    "using DFTK\n",
    "\n",
    "a = 10.263141334305942  # Lattice constant in Bohr\n",
    "lattice = a / 2 .* [[0 1 1.]; [1 0 1.]; [1 1 0.]]\n",
    "Si = ElementPsp(:Si, psp=load_psp(\"hgh/lda/Si-q4\"))\n",
    "atoms = [Si => [ones(3)/8, -ones(3)/8]];"
   ],
   "metadata": {},
   "execution_count": 1
  },
  {
   "cell_type": "markdown",
   "source": [
    "Next we make a `[2, 2, 2]` supercell using pymatgen"
   ],
   "metadata": {}
  },
  {
   "outputs": [],
   "cell_type": "code",
   "source": [
    "pystruct = pymatgen_structure(lattice, atoms)\n",
    "pystruct.make_supercell([2, 2, 2])\n",
    "lattice = load_lattice(pystruct)\n",
    "atoms = [Si => [s.frac_coords for s in pystruct.sites]];"
   ],
   "metadata": {},
   "execution_count": 2
  },
  {
   "cell_type": "markdown",
   "source": [
    "Setup an LDA model and discretize using\n",
    "a single kpoint and a small `Ecut` of 5 Hartree.\n",
    "Notice that `PlaneWaveBasis` defaults to just using the ``Γ``-point\n",
    "if no ``k``-point options are provided."
   ],
   "metadata": {}
  },
  {
   "outputs": [
    {
     "output_type": "execute_result",
     "data": {
      "text/plain": "PlaneWaveBasis (Ecut=5.0, 1 kpoints)"
     },
     "metadata": {},
     "execution_count": 3
    }
   ],
   "cell_type": "code",
   "source": [
    "model = model_LDA(lattice, atoms)\n",
    "basis = PlaneWaveBasis(model, 5)"
   ],
   "metadata": {},
   "execution_count": 3
  },
  {
   "cell_type": "markdown",
   "source": [
    "Find the ground state using direct minimisation (always using SCF is boring ...)"
   ],
   "metadata": {}
  },
  {
   "outputs": [
    {
     "name": "stdout",
     "output_type": "stream",
     "text": [
      "Iter     Function value   Gradient norm \n",
      "     0     1.122373e+02     1.499354e+00\n",
      " * time: 0.08974599838256836\n",
      "     1     1.093735e+01     9.874945e-01\n",
      " * time: 0.9435288906097412\n",
      "     2    -1.171522e+01     1.114328e+00\n",
      " * time: 1.0625410079956055\n",
      "     3    -3.384684e+01     9.477592e-01\n",
      " * time: 1.227344036102295\n",
      "     4    -4.731723e+01     7.156208e-01\n",
      " * time: 1.376875877380371\n",
      "     5    -5.662360e+01     2.717262e-01\n",
      " * time: 1.5210368633270264\n",
      "     6    -5.954221e+01     2.019047e-01\n",
      " * time: 1.6342899799346924\n",
      "     7    -6.075600e+01     6.862075e-02\n",
      " * time: 1.741919994354248\n",
      "     8    -6.126781e+01     5.134828e-02\n",
      " * time: 1.8564720153808594\n",
      "     9    -6.155272e+01     5.626132e-02\n",
      " * time: 1.9660019874572754\n",
      "    10    -6.176416e+01     2.999491e-02\n",
      " * time: 2.0830249786376953\n",
      "    11    -6.193877e+01     2.297546e-02\n",
      " * time: 2.1979339122772217\n",
      "    12    -6.205427e+01     1.843503e-02\n",
      " * time: 2.3064210414886475\n",
      "    13    -6.211081e+01     1.443343e-02\n",
      " * time: 2.4243228435516357\n",
      "    14    -6.216918e+01     1.628132e-02\n",
      " * time: 2.549341917037964\n",
      "    15    -6.219356e+01     1.065749e-02\n",
      " * time: 2.6679768562316895\n",
      "    16    -6.221264e+01     8.628273e-03\n",
      " * time: 2.786409854888916\n",
      "    17    -6.222388e+01     6.751958e-03\n",
      " * time: 2.895961046218872\n",
      "    18    -6.223249e+01     5.962071e-03\n",
      " * time: 3.0112149715423584\n",
      "    19    -6.223913e+01     5.563622e-03\n",
      " * time: 3.1190450191497803\n",
      "    20    -6.224492e+01     4.870299e-03\n",
      " * time: 3.2339818477630615\n",
      "    21    -6.225016e+01     4.964667e-03\n",
      " * time: 3.348116874694824\n",
      "    22    -6.225451e+01     4.404620e-03\n",
      " * time: 3.4559710025787354\n",
      "    23    -6.225763e+01     3.355651e-03\n",
      " * time: 3.5708189010620117\n",
      "    24    -6.225961e+01     2.335653e-03\n",
      " * time: 3.6877119541168213\n",
      "    25    -6.226067e+01     1.768258e-03\n",
      " * time: 3.8014440536499023\n",
      "    26    -6.226115e+01     1.385015e-03\n",
      " * time: 3.9305648803710938\n",
      "    27    -6.226136e+01     9.968394e-04\n",
      " * time: 4.040209054946899\n",
      "    28    -6.226147e+01     7.018265e-04\n",
      " * time: 4.156466960906982\n",
      "    29    -6.226154e+01     5.010008e-04\n",
      " * time: 4.270968914031982\n",
      "    30    -6.226158e+01     4.700660e-04\n",
      " * time: 4.379894018173218\n",
      "    31    -6.226161e+01     3.885010e-04\n",
      " * time: 4.494377851486206\n",
      "    32    -6.226162e+01     3.262181e-04\n",
      " * time: 4.603425979614258\n",
      "    33    -6.226164e+01     2.346682e-04\n",
      " * time: 4.721673965454102\n",
      "    34    -6.226165e+01     1.677217e-04\n",
      " * time: 4.837218999862671\n",
      "    35    -6.226166e+01     1.188265e-04\n",
      " * time: 4.946810960769653\n",
      "    36    -6.226166e+01     9.716133e-05\n",
      " * time: 5.063186883926392\n",
      "    37    -6.226166e+01     8.396239e-05\n",
      " * time: 5.186790943145752\n",
      "    38    -6.226167e+01     4.691789e-05\n",
      " * time: 5.303670883178711\n",
      "    39    -6.226167e+01     3.066650e-05\n",
      " * time: 5.419986009597778\n",
      "    40    -6.226167e+01     2.667164e-05\n",
      " * time: 5.526340007781982\n",
      "    41    -6.226167e+01     2.325788e-05\n",
      " * time: 5.639039039611816\n",
      "    42    -6.226167e+01     1.746413e-05\n",
      " * time: 5.746196031570435\n",
      "    43    -6.226167e+01     1.689923e-05\n",
      " * time: 5.859714031219482\n",
      "    44    -6.226167e+01     1.126968e-05\n",
      " * time: 5.972715854644775\n",
      "    45    -6.226167e+01     9.897044e-06\n",
      " * time: 6.079552888870239\n",
      "    46    -6.226167e+01     8.355338e-06\n",
      " * time: 6.192847013473511\n",
      "    47    -6.226167e+01     5.304007e-06\n",
      " * time: 6.305882930755615\n",
      "    48    -6.226167e+01     4.038227e-06\n",
      " * time: 6.411632061004639\n",
      "    49    -6.226167e+01     2.698127e-06\n",
      " * time: 6.522920846939087\n"
     ]
    }
   ],
   "cell_type": "code",
   "source": [
    "scfres = direct_minimization(basis, tol=1e-5);"
   ],
   "metadata": {},
   "execution_count": 4
  },
  {
   "outputs": [
    {
     "output_type": "execute_result",
     "data": {
      "text/plain": "Energy breakdown:\n    Kinetic             25.7671055\n    AtomicLocal         -18.8557667\n    AtomicNonlocal      14.8522655\n    Ewald               -67.1831486\n    PspCorrection       -2.3569765\n    Hartree             4.8485359 \n    Xc                  -19.3336815\n\n    total               -62.261666460518\n"
     },
     "metadata": {},
     "execution_count": 5
    }
   ],
   "cell_type": "code",
   "source": [
    "scfres.energies"
   ],
   "metadata": {},
   "execution_count": 5
  }
 ],
 "nbformat_minor": 3,
 "metadata": {
  "language_info": {
   "file_extension": ".jl",
   "mimetype": "application/julia",
   "name": "julia",
   "version": "1.3.1"
  },
  "kernelspec": {
   "name": "julia-1.3",
   "display_name": "Julia 1.3.1",
   "language": "julia"
  }
 },
 "nbformat": 4
}
