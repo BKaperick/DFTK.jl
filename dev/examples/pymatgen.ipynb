{
 "cells": [
  {
   "cell_type": "markdown",
   "source": [
    "# Creating supercells with pymatgen\n",
    "\n",
    "The [Pymatgen](https://pymatgen.org/) python library allows to setup\n",
    "solid-state calculations using a flexible set of classes as well as an API\n",
    "to an online data base of structures. Its `Structure` and `Lattice`\n",
    "objects are directly supported by the DFTK `load_atoms` and `load_lattice`\n",
    "functions, such that DFTK may be readily used to run calculation on systems\n",
    "defined in pymatgen. Using the `pymatgen_structure` function a conversion\n",
    "from DFTK to pymatgen structures is also possible. In the following we\n",
    "use this to create a silicon supercell and find its LDA ground state\n",
    "using direct minimisation."
   ],
   "metadata": {}
  },
  {
   "cell_type": "markdown",
   "source": [
    "First we setup the silicon lattice in DFTK."
   ],
   "metadata": {}
  },
  {
   "outputs": [],
   "cell_type": "code",
   "source": [
    "using DFTK\n",
    "\n",
    "a = 10.263141334305942  # Lattice constant in Bohr\n",
    "lattice = a / 2 .* [[0 1 1.]; [1 0 1.]; [1 1 0.]]\n",
    "Si = ElementPsp(:Si, psp=load_psp(\"hgh/lda/Si-q4\"))\n",
    "atoms = [Si => [ones(3)/8, -ones(3)/8]];"
   ],
   "metadata": {},
   "execution_count": 1
  },
  {
   "cell_type": "markdown",
   "source": [
    "Next we make a `[2, 2, 2]` supercell using pymatgen"
   ],
   "metadata": {}
  },
  {
   "outputs": [],
   "cell_type": "code",
   "source": [
    "pystruct = pymatgen_structure(lattice, atoms)\n",
    "pystruct.make_supercell([2, 2, 2])\n",
    "lattice = load_lattice(pystruct)\n",
    "atoms = [Si => [s.frac_coords for s in pystruct.sites]];"
   ],
   "metadata": {},
   "execution_count": 2
  },
  {
   "cell_type": "markdown",
   "source": [
    "Setup an LDA model and discretize using\n",
    "a single kpoint and a small `Ecut` of 5 Hartree."
   ],
   "metadata": {}
  },
  {
   "outputs": [
    {
     "output_type": "execute_result",
     "data": {
      "text/plain": "PlaneWaveBasis (Ecut=5.0, 1 kpoints)"
     },
     "metadata": {},
     "execution_count": 3
    }
   ],
   "cell_type": "code",
   "source": [
    "model = model_LDA(lattice, atoms)\n",
    "basis = PlaneWaveBasis(model, 5, kgrid=(1, 1, 1))"
   ],
   "metadata": {},
   "execution_count": 3
  },
  {
   "cell_type": "markdown",
   "source": [
    "Find the ground state using direct minimisation (always using SCF is boring ...)"
   ],
   "metadata": {}
  },
  {
   "outputs": [
    {
     "name": "stdout",
     "output_type": "stream",
     "text": [
      "Iter     Function value   Gradient norm \n",
      "     0     1.120500e+02     1.519493e+00\n",
      " * time: 0.8142170906066895\n",
      "     1     1.093979e+01     9.124571e-01\n",
      " * time: 2.6485321521759033\n",
      "     2    -1.130265e+01     9.850673e-01\n",
      " * time: 3.348690986633301\n",
      "     3    -3.379510e+01     7.717721e-01\n",
      " * time: 4.450177192687988\n",
      "     4    -4.728668e+01     5.852969e-01\n",
      " * time: 5.54110312461853\n",
      "     5    -5.687983e+01     2.009011e-01\n",
      " * time: 6.532520055770874\n",
      "     6    -5.977864e+01     1.583991e-01\n",
      " * time: 7.233177185058594\n",
      "     7    -6.085745e+01     5.029478e-02\n",
      " * time: 7.902115106582642\n",
      "     8    -6.126237e+01     8.094122e-02\n",
      " * time: 8.570109128952026\n",
      "     9    -6.156263e+01     4.185138e-02\n",
      " * time: 9.261337041854858\n",
      "    10    -6.178793e+01     3.454875e-02\n",
      " * time: 10.022821187973022\n",
      "    11    -6.195486e+01     2.787196e-02\n",
      " * time: 10.740102052688599\n",
      "    12    -6.202156e+01     2.412186e-02\n",
      " * time: 11.437160015106201\n",
      "    13    -6.209255e+01     1.775297e-02\n",
      " * time: 12.094397068023682\n",
      "    14    -6.212866e+01     1.463949e-02\n",
      " * time: 12.81386399269104\n",
      "    15    -6.216486e+01     9.270440e-03\n",
      " * time: 13.503704071044922\n",
      "    16    -6.218480e+01     7.397790e-03\n",
      " * time: 14.168728113174438\n",
      "    17    -6.219760e+01     6.338648e-03\n",
      " * time: 14.918153047561646\n",
      "    18    -6.220667e+01     5.104494e-03\n",
      " * time: 15.60186505317688\n",
      "    19    -6.221284e+01     4.447708e-03\n",
      " * time: 16.30976915359497\n",
      "    20    -6.221809e+01     5.064154e-03\n",
      " * time: 16.987802028656006\n",
      "    21    -6.222318e+01     4.919958e-03\n",
      " * time: 17.67606210708618\n",
      "    22    -6.222871e+01     5.331706e-03\n",
      " * time: 18.378456115722656\n",
      "    23    -6.223480e+01     4.519318e-03\n",
      " * time: 19.086498022079468\n",
      "    24    -6.224103e+01     4.414390e-03\n",
      " * time: 19.833291053771973\n",
      "    25    -6.224627e+01     3.863218e-03\n",
      " * time: 20.603516101837158\n",
      "    26    -6.225080e+01     3.561554e-03\n",
      " * time: 21.338544130325317\n",
      "    27    -6.225428e+01     3.408889e-03\n",
      " * time: 22.062983989715576\n",
      "    28    -6.225677e+01     2.767560e-03\n",
      " * time: 22.76294207572937\n",
      "    29    -6.225847e+01     2.312568e-03\n",
      " * time: 23.45220708847046\n",
      "    30    -6.225969e+01     2.042897e-03\n",
      " * time: 24.15677499771118\n",
      "    31    -6.226052e+01     1.492377e-03\n",
      " * time: 24.836559057235718\n",
      "    32    -6.226102e+01     1.143412e-03\n",
      " * time: 25.584248065948486\n",
      "    33    -6.226131e+01     8.097789e-04\n",
      " * time: 26.29389715194702\n",
      "    34    -6.226149e+01     6.393052e-04\n",
      " * time: 27.003972053527832\n",
      "    35    -6.226157e+01     5.209932e-04\n",
      " * time: 27.67244601249695\n",
      "    36    -6.226161e+01     3.502839e-04\n",
      " * time: 28.3520610332489\n",
      "    37    -6.226164e+01     2.613843e-04\n",
      " * time: 29.04286503791809\n",
      "    38    -6.226165e+01     2.093291e-04\n",
      " * time: 29.74985909461975\n",
      "    39    -6.226165e+01     1.552622e-04\n",
      " * time: 30.434659004211426\n",
      "    40    -6.226166e+01     1.150418e-04\n",
      " * time: 31.143294095993042\n",
      "    41    -6.226166e+01     9.652859e-05\n",
      " * time: 31.86298108100891\n",
      "    42    -6.226166e+01     8.573191e-05\n",
      " * time: 32.54261112213135\n",
      "    43    -6.226166e+01     7.015589e-05\n",
      " * time: 33.21752309799194\n",
      "    44    -6.226167e+01     5.122522e-05\n",
      " * time: 33.88363718986511\n",
      "    45    -6.226167e+01     3.831954e-05\n",
      " * time: 34.559998989105225\n",
      "    46    -6.226167e+01     2.570747e-05\n",
      " * time: 35.26050901412964\n",
      "    47    -6.226167e+01     1.760075e-05\n",
      " * time: 36.020684003829956\n",
      "    48    -6.226167e+01     1.238501e-05\n",
      " * time: 36.759297132492065\n",
      "    49    -6.226167e+01     9.735089e-06\n",
      " * time: 37.492587089538574\n",
      "    50    -6.226167e+01     7.575767e-06\n",
      " * time: 38.186132192611694\n",
      "    51    -6.226167e+01     4.868140e-06\n",
      " * time: 38.84843111038208\n",
      "    52    -6.226167e+01     4.161373e-06\n",
      " * time: 39.52070713043213\n",
      "    53    -6.226167e+01     4.003777e-06\n",
      " * time: 40.20890712738037\n"
     ]
    }
   ],
   "cell_type": "code",
   "source": [
    "scfres = direct_minimization(basis, tol=1e-5);"
   ],
   "metadata": {},
   "execution_count": 4
  },
  {
   "outputs": [
    {
     "output_type": "execute_result",
     "data": {
      "text/plain": "Energy breakdown:\n    Kinetic             25.7671079\n    AtomicLocal         -18.8557691\n    AtomicNonlocal      14.8522641\n    Ewald               -67.1831486\n    PspCorrection       -2.3569765\n    Hartree             4.8485383 \n    Xc                  -19.3336825\n\n    total               -62.261666453999\n"
     },
     "metadata": {},
     "execution_count": 5
    }
   ],
   "cell_type": "code",
   "source": [
    "scfres.energies"
   ],
   "metadata": {},
   "execution_count": 5
  }
 ],
 "nbformat_minor": 3,
 "metadata": {
  "language_info": {
   "file_extension": ".jl",
   "mimetype": "application/julia",
   "name": "julia",
   "version": "1.6.1"
  },
  "kernelspec": {
   "name": "julia-1.6",
   "display_name": "Julia 1.6.1",
   "language": "julia"
  }
 },
 "nbformat": 4
}
