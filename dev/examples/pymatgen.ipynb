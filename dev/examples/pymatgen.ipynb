{
 "cells": [
  {
   "cell_type": "markdown",
   "source": [
    "# Creating supercells with pymatgen\n",
    "\n",
    "The [Pymatgen](https://pymatgen.org/) python library allows to setup\n",
    "solid-state calculations using a flexible set of classes as well as an API\n",
    "to an online data base of structures. Its `Structure` and `Lattice`\n",
    "objects are directly supported by the DFTK `load_atoms` and `load_lattice`\n",
    "functions, such that DFTK may be readily used to run calculation on systems\n",
    "defined in pymatgen. Using the `pymatgen_structure` function a conversion\n",
    "from DFTK to pymatgen structures is also possible. In the following we\n",
    "use this to create a silicon supercell and find its LDA ground state\n",
    "using direct minimisation."
   ],
   "metadata": {}
  },
  {
   "cell_type": "markdown",
   "source": [
    "First we setup the silicon lattice in DFTK."
   ],
   "metadata": {}
  },
  {
   "outputs": [],
   "cell_type": "code",
   "source": [
    "using DFTK\n",
    "\n",
    "a = 10.263141334305942  # Lattice constant in Bohr\n",
    "lattice = a / 2 .* [[0 1 1.]; [1 0 1.]; [1 1 0.]]\n",
    "Si = ElementPsp(:Si, psp=load_psp(\"hgh/lda/Si-q4\"))\n",
    "atoms = [Si => [ones(3)/8, -ones(3)/8]];"
   ],
   "metadata": {},
   "execution_count": 1
  },
  {
   "cell_type": "markdown",
   "source": [
    "Next we make a `[2, 2, 2]` supercell using pymatgen"
   ],
   "metadata": {}
  },
  {
   "outputs": [],
   "cell_type": "code",
   "source": [
    "pystruct = pymatgen_structure(lattice, atoms)\n",
    "pystruct.make_supercell([2, 2, 2])\n",
    "lattice = load_lattice(pystruct)\n",
    "atoms = [Si => [s.frac_coords for s in pystruct.sites]];"
   ],
   "metadata": {},
   "execution_count": 2
  },
  {
   "cell_type": "markdown",
   "source": [
    "Setup an LDA model and discretize using\n",
    "a single kpoint and a small `Ecut` of 5 Hartree."
   ],
   "metadata": {}
  },
  {
   "outputs": [
    {
     "output_type": "execute_result",
     "data": {
      "text/plain": "PlaneWaveBasis (Ecut=5.0, 1 kpoints)"
     },
     "metadata": {},
     "execution_count": 3
    }
   ],
   "cell_type": "code",
   "source": [
    "model = model_LDA(lattice, atoms)\n",
    "basis = PlaneWaveBasis(model, 5, kgrid=(1, 1, 1))"
   ],
   "metadata": {},
   "execution_count": 3
  },
  {
   "cell_type": "markdown",
   "source": [
    "Find the ground state using direct minimisation (always using SCF is boring ...)"
   ],
   "metadata": {}
  },
  {
   "outputs": [
    {
     "name": "stdout",
     "output_type": "stream",
     "text": [
      "Iter     Function value   Gradient norm \n",
      "     0     1.115736e+02     1.389534e+00\n",
      " * time: 0.09170293807983398\n",
      "     1     1.024760e+01     8.309271e-01\n",
      " * time: 1.3411879539489746\n",
      "     2    -1.159678e+01     1.006406e+00\n",
      " * time: 1.5046229362487793\n",
      "     3    -3.412130e+01     7.535815e-01\n",
      " * time: 1.6485259532928467\n",
      "     4    -4.737159e+01     5.703962e-01\n",
      " * time: 1.8108620643615723\n",
      "     5    -5.687580e+01     2.339000e-01\n",
      " * time: 1.9608519077301025\n",
      "     6    -5.968744e+01     1.759781e-01\n",
      " * time: 2.0677499771118164\n",
      "     7    -6.083949e+01     7.750590e-02\n",
      " * time: 2.185215950012207\n",
      "     8    -6.134030e+01     4.156983e-02\n",
      " * time: 2.29276704788208\n",
      "     9    -6.164230e+01     3.868859e-02\n",
      " * time: 2.42930006980896\n",
      "    10    -6.182341e+01     3.144549e-02\n",
      " * time: 2.5384199619293213\n",
      "    11    -6.194276e+01     2.742578e-02\n",
      " * time: 2.6478350162506104\n",
      "    12    -6.203312e+01     2.115860e-02\n",
      " * time: 2.7664270401000977\n",
      "    13    -6.210295e+01     1.601350e-02\n",
      " * time: 2.8750829696655273\n",
      "    14    -6.214443e+01     1.258130e-02\n",
      " * time: 2.9910409450531006\n",
      "    15    -6.217162e+01     1.068392e-02\n",
      " * time: 3.098618984222412\n",
      "    16    -6.218622e+01     1.094152e-02\n",
      " * time: 3.2151360511779785\n",
      "    17    -6.219583e+01     6.480272e-03\n",
      " * time: 3.3227808475494385\n",
      "    18    -6.220242e+01     6.204045e-03\n",
      " * time: 3.4394218921661377\n",
      "    19    -6.220677e+01     4.983849e-03\n",
      " * time: 3.5458319187164307\n",
      "    20    -6.221023e+01     5.037248e-03\n",
      " * time: 3.66145396232605\n",
      "    21    -6.221352e+01     5.345722e-03\n",
      " * time: 3.7691609859466553\n",
      "    22    -6.221679e+01     4.785365e-03\n",
      " * time: 3.884634017944336\n",
      "    23    -6.222014e+01     4.937646e-03\n",
      " * time: 3.9919300079345703\n",
      "    24    -6.222399e+01     6.154530e-03\n",
      " * time: 4.106945037841797\n",
      "    25    -6.222887e+01     5.780840e-03\n",
      " * time: 4.2137980461120605\n",
      "    26    -6.223472e+01     5.855811e-03\n",
      " * time: 4.322582006454468\n",
      "    27    -6.224138e+01     6.206382e-03\n",
      " * time: 4.43852686882019\n",
      "    28    -6.224823e+01     5.088727e-03\n",
      " * time: 4.5465898513793945\n",
      "    29    -6.225279e+01     5.023548e-03\n",
      " * time: 4.663810968399048\n",
      "    30    -6.225601e+01     3.636780e-03\n",
      " * time: 4.772578001022339\n",
      "    31    -6.225818e+01     2.854657e-03\n",
      " * time: 4.890117883682251\n",
      "    32    -6.225964e+01     2.311531e-03\n",
      " * time: 4.998105049133301\n",
      "    33    -6.226048e+01     1.888038e-03\n",
      " * time: 5.1162109375\n",
      "    34    -6.226104e+01     1.148114e-03\n",
      " * time: 5.231878995895386\n",
      "    35    -6.226135e+01     9.608011e-04\n",
      " * time: 5.367837905883789\n",
      "    36    -6.226149e+01     8.816499e-04\n",
      " * time: 5.476785898208618\n",
      "    37    -6.226156e+01     5.518715e-04\n",
      " * time: 5.594444036483765\n",
      "    38    -6.226160e+01     3.602701e-04\n",
      " * time: 5.703916072845459\n",
      "    39    -6.226162e+01     3.310949e-04\n",
      " * time: 5.816659927368164\n",
      "    40    -6.226164e+01     2.397403e-04\n",
      " * time: 5.932626962661743\n",
      "    41    -6.226165e+01     1.809055e-04\n",
      " * time: 6.042716026306152\n",
      "    42    -6.226165e+01     1.774068e-04\n",
      " * time: 6.159096002578735\n",
      "    43    -6.226166e+01     1.468527e-04\n",
      " * time: 6.269373893737793\n",
      "    44    -6.226166e+01     1.123154e-04\n",
      " * time: 6.388972997665405\n",
      "    45    -6.226166e+01     8.434855e-05\n",
      " * time: 6.498714923858643\n",
      "    46    -6.226167e+01     5.937742e-05\n",
      " * time: 6.618135929107666\n",
      "    47    -6.226167e+01     3.592342e-05\n",
      " * time: 6.727988004684448\n",
      "    48    -6.226167e+01     2.750706e-05\n",
      " * time: 6.850411891937256\n",
      "    49    -6.226167e+01     2.512613e-05\n",
      " * time: 6.972549915313721\n",
      "    50    -6.226167e+01     1.677453e-05\n",
      " * time: 7.108382940292358\n",
      "    51    -6.226167e+01     1.455564e-05\n",
      " * time: 7.217361927032471\n",
      "    52    -6.226167e+01     1.339104e-05\n",
      " * time: 7.333981990814209\n",
      "    53    -6.226167e+01     1.111724e-05\n",
      " * time: 7.441886901855469\n",
      "    54    -6.226167e+01     8.487177e-06\n",
      " * time: 7.5522730350494385\n",
      "    55    -6.226167e+01     6.159939e-06\n",
      " * time: 7.668768882751465\n",
      "    56    -6.226167e+01     4.679528e-06\n",
      " * time: 7.779948949813843\n",
      "    57    -6.226167e+01     3.549310e-06\n",
      " * time: 7.899065017700195\n",
      "    58    -6.226167e+01     2.765535e-06\n",
      " * time: 8.010380983352661\n"
     ]
    }
   ],
   "cell_type": "code",
   "source": [
    "scfres = direct_minimization(basis, tol=1e-5);"
   ],
   "metadata": {},
   "execution_count": 4
  },
  {
   "outputs": [
    {
     "output_type": "execute_result",
     "data": {
      "text/plain": "Energy breakdown:\n    Kinetic             25.7671076\n    AtomicLocal         -18.8557676\n    AtomicNonlocal      14.8522631\n    Ewald               -67.1831486\n    PspCorrection       -2.3569765\n    Hartree             4.8485380 \n    Xc                  -19.3336824\n\n    total               -62.261666461478\n"
     },
     "metadata": {},
     "execution_count": 5
    }
   ],
   "cell_type": "code",
   "source": [
    "scfres.energies"
   ],
   "metadata": {},
   "execution_count": 5
  }
 ],
 "nbformat_minor": 3,
 "metadata": {
  "language_info": {
   "file_extension": ".jl",
   "mimetype": "application/julia",
   "name": "julia",
   "version": "1.4.2"
  },
  "kernelspec": {
   "name": "julia-1.4",
   "display_name": "Julia 1.4.2",
   "language": "julia"
  }
 },
 "nbformat": 4
}
