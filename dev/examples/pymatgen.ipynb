{
 "cells": [
  {
   "cell_type": "markdown",
   "source": [
    "# Creating supercells with pymatgen\n",
    "\n",
    "The [Pymatgen](https://pymatgen.org/) python library allows to setup\n",
    "solid-state calculations using a flexible set of classes as well as an API\n",
    "to an online data base of structures. Its `Structure` and `Lattice`\n",
    "objects are directly supported by the DFTK `load_atoms` and `load_lattice`\n",
    "functions, such that DFTK may be readily used to run calculation on systems\n",
    "defined in pymatgen. Using the `pymatgen_structure` function a conversion\n",
    "from DFTK to pymatgen structures is also possible. In the following we\n",
    "use this to create a silicon supercell and find its LDA ground state\n",
    "using direct minimisation."
   ],
   "metadata": {}
  },
  {
   "cell_type": "markdown",
   "source": [
    "First we setup the silicon lattice in DFTK."
   ],
   "metadata": {}
  },
  {
   "outputs": [],
   "cell_type": "code",
   "source": [
    "using DFTK\n",
    "\n",
    "a = 10.263141334305942  # Lattice constant in Bohr\n",
    "lattice = a / 2 .* [[0 1 1.]; [1 0 1.]; [1 1 0.]]\n",
    "Si = ElementPsp(:Si, psp=load_psp(\"hgh/lda/Si-q4\"))\n",
    "atoms = [Si => [ones(3)/8, -ones(3)/8]];"
   ],
   "metadata": {},
   "execution_count": 1
  },
  {
   "cell_type": "markdown",
   "source": [
    "Next we make a `[2, 2, 2]` supercell using pymatgen"
   ],
   "metadata": {}
  },
  {
   "outputs": [],
   "cell_type": "code",
   "source": [
    "pystruct = pymatgen_structure(lattice, atoms)\n",
    "pystruct.make_supercell([2, 2, 2])\n",
    "lattice = load_lattice(pystruct)\n",
    "atoms = [Si => [s.frac_coords for s in pystruct.sites]];"
   ],
   "metadata": {},
   "execution_count": 2
  },
  {
   "cell_type": "markdown",
   "source": [
    "Setup an LDA model and discretize using\n",
    "a single kpoint and a small `Ecut` of 5 Hartree."
   ],
   "metadata": {}
  },
  {
   "outputs": [
    {
     "output_type": "execute_result",
     "data": {
      "text/plain": "PlaneWaveBasis (Ecut=5.0, 1 kpoints)"
     },
     "metadata": {},
     "execution_count": 3
    }
   ],
   "cell_type": "code",
   "source": [
    "model = model_LDA(lattice, atoms)\n",
    "basis = PlaneWaveBasis(model, 5, kgrid=(1, 1, 1))"
   ],
   "metadata": {},
   "execution_count": 3
  },
  {
   "cell_type": "markdown",
   "source": [
    "Find the ground state using direct minimisation (always using SCF is boring ...)"
   ],
   "metadata": {}
  },
  {
   "outputs": [
    {
     "name": "stdout",
     "output_type": "stream",
     "text": [
      "Iter     Function value   Gradient norm \n",
      "     0     1.129405e+02     1.873556e+00\n",
      " * time: 0.07543683052062988\n",
      "     1     1.088428e+01     9.690852e-01\n",
      " * time: 1.2689988613128662\n",
      "     2    -1.204808e+01     1.123640e+00\n",
      " * time: 1.413450002670288\n",
      "     3    -3.383400e+01     8.396793e-01\n",
      " * time: 1.5494208335876465\n",
      "     4    -4.745241e+01     5.843401e-01\n",
      " * time: 1.6864688396453857\n",
      "     5    -5.699554e+01     2.117739e-01\n",
      " * time: 1.8364198207855225\n",
      "     6    -5.991561e+01     1.142292e-01\n",
      " * time: 1.928278923034668\n",
      "     7    -6.095767e+01     4.860779e-02\n",
      " * time: 2.0208139419555664\n",
      "     8    -6.133965e+01     6.035881e-02\n",
      " * time: 2.113348960876465\n",
      "     9    -6.161751e+01     3.716844e-02\n",
      " * time: 2.205894947052002\n",
      "    10    -6.182541e+01     2.779192e-02\n",
      " * time: 2.3116648197174072\n",
      "    11    -6.197538e+01     2.035466e-02\n",
      " * time: 2.404979944229126\n",
      "    12    -6.203259e+01     1.915628e-02\n",
      " * time: 2.4980859756469727\n",
      "    13    -6.209321e+01     1.529347e-02\n",
      " * time: 2.5903749465942383\n",
      "    14    -6.212433e+01     1.395232e-02\n",
      " * time: 2.690426826477051\n",
      "    15    -6.215840e+01     1.143262e-02\n",
      " * time: 2.7826199531555176\n",
      "    16    -6.218262e+01     1.010197e-02\n",
      " * time: 2.875396966934204\n",
      "    17    -6.219957e+01     1.156301e-02\n",
      " * time: 2.9688639640808105\n",
      "    18    -6.221310e+01     9.645110e-03\n",
      " * time: 3.0611588954925537\n",
      "    19    -6.222231e+01     7.588295e-03\n",
      " * time: 3.1596009731292725\n",
      "    20    -6.223054e+01     8.636091e-03\n",
      " * time: 3.2503209114074707\n",
      "    21    -6.223844e+01     6.797506e-03\n",
      " * time: 3.3423469066619873\n",
      "    22    -6.224632e+01     6.548165e-03\n",
      " * time: 3.4344558715820312\n",
      "    23    -6.225263e+01     4.792511e-03\n",
      " * time: 3.5257439613342285\n",
      "    24    -6.225662e+01     3.272804e-03\n",
      " * time: 3.6242949962615967\n",
      "    25    -6.225887e+01     2.468243e-03\n",
      " * time: 3.715456962585449\n",
      "    26    -6.225995e+01     2.189043e-03\n",
      " * time: 3.807173013687134\n",
      "    27    -6.226051e+01     1.640070e-03\n",
      " * time: 3.8984408378601074\n",
      "    28    -6.226086e+01     1.177157e-03\n",
      " * time: 3.9894559383392334\n",
      "    29    -6.226112e+01     9.480417e-04\n",
      " * time: 4.087692022323608\n",
      "    30    -6.226130e+01     7.413510e-04\n",
      " * time: 4.178783893585205\n",
      "    31    -6.226144e+01     6.878608e-04\n",
      " * time: 4.2700347900390625\n",
      "    32    -6.226153e+01     6.053260e-04\n",
      " * time: 4.361714839935303\n",
      "    33    -6.226159e+01     4.943365e-04\n",
      " * time: 4.460493803024292\n",
      "    34    -6.226163e+01     3.587557e-04\n",
      " * time: 4.5512659549713135\n",
      "    35    -6.226165e+01     2.577263e-04\n",
      " * time: 4.642382860183716\n",
      "    36    -6.226166e+01     1.419430e-04\n",
      " * time: 4.733187913894653\n",
      "    37    -6.226166e+01     1.044484e-04\n",
      " * time: 4.825754880905151\n",
      "    38    -6.226166e+01     8.140085e-05\n",
      " * time: 4.92480993270874\n",
      "    39    -6.226166e+01     6.078253e-05\n",
      " * time: 5.0154218673706055\n",
      "    40    -6.226167e+01     4.862530e-05\n",
      " * time: 5.105788946151733\n",
      "    41    -6.226167e+01     3.757353e-05\n",
      " * time: 5.195758819580078\n",
      "    42    -6.226167e+01     3.079656e-05\n",
      " * time: 5.286003828048706\n",
      "    43    -6.226167e+01     2.357785e-05\n",
      " * time: 5.3864569664001465\n",
      "    44    -6.226167e+01     1.917351e-05\n",
      " * time: 5.4787538051605225\n",
      "    45    -6.226167e+01     1.504690e-05\n",
      " * time: 5.570083856582642\n",
      "    46    -6.226167e+01     1.239618e-05\n",
      " * time: 5.671228885650635\n",
      "    47    -6.226167e+01     8.293022e-06\n",
      " * time: 5.773155927658081\n",
      "    48    -6.226167e+01     8.280150e-06\n",
      " * time: 5.8763768672943115\n",
      "    49    -6.226167e+01     4.711430e-06\n",
      " * time: 5.969074010848999\n",
      "    50    -6.226167e+01     3.665959e-06\n",
      " * time: 6.060545921325684\n"
     ]
    }
   ],
   "cell_type": "code",
   "source": [
    "scfres = direct_minimization(basis, tol=1e-5);"
   ],
   "metadata": {},
   "execution_count": 4
  },
  {
   "outputs": [
    {
     "output_type": "execute_result",
     "data": {
      "text/plain": "Energy breakdown:\n    Kinetic             25.7671066\n    AtomicLocal         -18.8557625\n    AtomicNonlocal      14.8522599\n    Ewald               -67.1831486\n    PspCorrection       -2.3569765\n    Hartree             4.8485365 \n    Xc                  -19.3336819\n\n    total               -62.261666458385\n"
     },
     "metadata": {},
     "execution_count": 5
    }
   ],
   "cell_type": "code",
   "source": [
    "scfres.energies"
   ],
   "metadata": {},
   "execution_count": 5
  }
 ],
 "nbformat_minor": 3,
 "metadata": {
  "language_info": {
   "file_extension": ".jl",
   "mimetype": "application/julia",
   "name": "julia",
   "version": "1.4.2"
  },
  "kernelspec": {
   "name": "julia-1.4",
   "display_name": "Julia 1.4.2",
   "language": "julia"
  }
 },
 "nbformat": 4
}
