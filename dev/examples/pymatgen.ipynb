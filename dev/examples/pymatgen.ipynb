{
 "cells": [
  {
   "cell_type": "markdown",
   "source": [
    "# Creating supercells with pymatgen\n",
    "\n",
    "The [Pymatgen](https://pymatgen.org/) python library allows to setup\n",
    "solid-state calculations using a flexible set of classes as well as an API\n",
    "to an online data base of structures. Its `Structure` and `Lattice`\n",
    "objects are directly supported by the DFTK `load_atoms` and `load_lattice`\n",
    "functions, such that DFTK may be readily used to run calculation on systems\n",
    "defined in pymatgen. Using the `pymatgen_structure` function a conversion\n",
    "from DFTK to pymatgen structures is also possible. In the following we\n",
    "use this to create a silicon supercell and find its LDA ground state\n",
    "using direct minimisation."
   ],
   "metadata": {}
  },
  {
   "cell_type": "markdown",
   "source": [
    "First we setup the silicon lattice in DFTK."
   ],
   "metadata": {}
  },
  {
   "outputs": [],
   "cell_type": "code",
   "source": [
    "using DFTK\n",
    "\n",
    "a = 10.263141334305942  # Lattice constant in Bohr\n",
    "lattice = a / 2 .* [[0 1 1.]; [1 0 1.]; [1 1 0.]]\n",
    "Si = ElementPsp(:Si, psp=load_psp(\"hgh/lda/Si-q4\"))\n",
    "atoms = [Si => [ones(3)/8, -ones(3)/8]];"
   ],
   "metadata": {},
   "execution_count": 1
  },
  {
   "cell_type": "markdown",
   "source": [
    "Next we make a `[2, 2, 2]` supercell using pymatgen"
   ],
   "metadata": {}
  },
  {
   "outputs": [],
   "cell_type": "code",
   "source": [
    "pystruct = pymatgen_structure(lattice, atoms)\n",
    "pystruct.make_supercell([2, 2, 2])\n",
    "lattice = load_lattice(pystruct)\n",
    "atoms = [Si => [s.frac_coords for s in pystruct.sites]];"
   ],
   "metadata": {},
   "execution_count": 2
  },
  {
   "cell_type": "markdown",
   "source": [
    "Setup an LDA model and discretize using\n",
    "a single kpoint and a small `Ecut` of 5 Hartree."
   ],
   "metadata": {}
  },
  {
   "outputs": [
    {
     "output_type": "execute_result",
     "data": {
      "text/plain": "PlaneWaveBasis (Ecut=5.0, 1 kpoints)"
     },
     "metadata": {},
     "execution_count": 3
    }
   ],
   "cell_type": "code",
   "source": [
    "model = model_LDA(lattice, atoms)\n",
    "basis = PlaneWaveBasis(model, 5, kgrid=(1, 1, 1))"
   ],
   "metadata": {},
   "execution_count": 3
  },
  {
   "cell_type": "markdown",
   "source": [
    "Find the ground state using direct minimisation (always using SCF is boring ...)"
   ],
   "metadata": {}
  },
  {
   "outputs": [
    {
     "name": "stdout",
     "output_type": "stream",
     "text": [
      "Iter     Function value   Gradient norm \n",
      "     0     1.112961e+02     1.691104e+00\n",
      " * time: 0.06991696357727051\n",
      "     1     1.128395e+01     9.977066e-01\n",
      " * time: 1.2015178203582764\n",
      "     2    -1.153158e+01     1.123952e+00\n",
      " * time: 1.2973577976226807\n",
      "     3    -3.408486e+01     7.835358e-01\n",
      " * time: 1.4231128692626953\n",
      "     4    -4.783036e+01     5.540667e-01\n",
      " * time: 1.5987508296966553\n",
      "     5    -5.705243e+01     2.026521e-01\n",
      " * time: 1.7099947929382324\n",
      "     6    -5.983619e+01     1.534615e-01\n",
      " * time: 1.7965068817138672\n",
      "     7    -6.096012e+01     6.100847e-02\n",
      " * time: 1.8827099800109863\n",
      "     8    -6.144123e+01     4.354825e-02\n",
      " * time: 1.9958429336547852\n",
      "     9    -6.172120e+01     5.144921e-02\n",
      " * time: 2.082169771194458\n",
      "    10    -6.191512e+01     2.700266e-02\n",
      " * time: 2.1696338653564453\n",
      "    11    -6.204655e+01     1.877064e-02\n",
      " * time: 2.255772829055786\n",
      "    12    -6.211287e+01     1.332223e-02\n",
      " * time: 2.3412718772888184\n",
      "    13    -6.214761e+01     1.301671e-02\n",
      " * time: 2.4401328563690186\n",
      "    14    -6.217634e+01     1.133029e-02\n",
      " * time: 2.526042938232422\n",
      "    15    -6.219183e+01     9.744433e-03\n",
      " * time: 2.6127238273620605\n",
      "    16    -6.220378e+01     7.590157e-03\n",
      " * time: 2.6988589763641357\n",
      "    17    -6.221388e+01     6.430081e-03\n",
      " * time: 2.784876823425293\n",
      "    18    -6.222280e+01     5.940598e-03\n",
      " * time: 2.8809847831726074\n",
      "    19    -6.223099e+01     6.228394e-03\n",
      " * time: 2.9674718379974365\n",
      "    20    -6.223860e+01     6.086788e-03\n",
      " * time: 3.052647829055786\n",
      "    21    -6.224572e+01     5.669625e-03\n",
      " * time: 3.1390058994293213\n",
      "    22    -6.225160e+01     5.409836e-03\n",
      " * time: 3.2251338958740234\n",
      "    23    -6.225573e+01     4.009266e-03\n",
      " * time: 3.320314884185791\n",
      "    24    -6.225809e+01     3.113136e-03\n",
      " * time: 3.407045841217041\n",
      "    25    -6.225934e+01     2.559437e-03\n",
      " * time: 3.4924089908599854\n",
      "    26    -6.226007e+01     1.944951e-03\n",
      " * time: 3.5778918266296387\n",
      "    27    -6.226054e+01     1.575550e-03\n",
      " * time: 3.6637558937072754\n",
      "    28    -6.226089e+01     1.280688e-03\n",
      " * time: 3.75795578956604\n",
      "    29    -6.226115e+01     1.227782e-03\n",
      " * time: 3.8522539138793945\n",
      "    30    -6.226135e+01     1.213056e-03\n",
      " * time: 3.9372308254241943\n",
      "    31    -6.226149e+01     7.514099e-04\n",
      " * time: 4.0227649211883545\n",
      "    32    -6.226157e+01     5.121505e-04\n",
      " * time: 4.109838962554932\n",
      "    33    -6.226162e+01     3.941611e-04\n",
      " * time: 4.195775985717773\n",
      "    34    -6.226165e+01     2.384791e-04\n",
      " * time: 4.289586782455444\n",
      "    35    -6.226166e+01     1.869669e-04\n",
      " * time: 4.376272916793823\n",
      "    36    -6.226166e+01     1.479340e-04\n",
      " * time: 4.462430953979492\n",
      "    37    -6.226166e+01     7.630182e-05\n",
      " * time: 4.548625946044922\n",
      "    38    -6.226167e+01     5.950987e-05\n",
      " * time: 4.634842872619629\n",
      "    39    -6.226167e+01     4.603913e-05\n",
      " * time: 4.727877855300903\n",
      "    40    -6.226167e+01     3.437878e-05\n",
      " * time: 4.8139519691467285\n",
      "    41    -6.226167e+01     2.628975e-05\n",
      " * time: 4.898576974868774\n",
      "    42    -6.226167e+01     2.094572e-05\n",
      " * time: 4.983553886413574\n",
      "    43    -6.226167e+01     1.702247e-05\n",
      " * time: 5.068885803222656\n",
      "    44    -6.226167e+01     1.475036e-05\n",
      " * time: 5.161687850952148\n",
      "    45    -6.226167e+01     1.147552e-05\n",
      " * time: 5.249189853668213\n",
      "    46    -6.226167e+01     8.257421e-06\n",
      " * time: 5.334805965423584\n",
      "    47    -6.226167e+01     6.476661e-06\n",
      " * time: 5.419734954833984\n",
      "    48    -6.226167e+01     4.293604e-06\n",
      " * time: 5.506231784820557\n",
      "    49    -6.226167e+01     3.026395e-06\n",
      " * time: 5.598841905593872\n"
     ]
    }
   ],
   "cell_type": "code",
   "source": [
    "scfres = direct_minimization(basis, tol=1e-5);"
   ],
   "metadata": {},
   "execution_count": 4
  },
  {
   "outputs": [
    {
     "output_type": "execute_result",
     "data": {
      "text/plain": "Energy breakdown:\n    Kinetic             25.7671067\n    AtomicLocal         -18.8557659\n    AtomicNonlocal      14.8522629\n    Ewald               -67.1831486\n    PspCorrection       -2.3569765\n    Hartree             4.8485368 \n    Xc                  -19.3336819\n\n    total               -62.261666460349\n"
     },
     "metadata": {},
     "execution_count": 5
    }
   ],
   "cell_type": "code",
   "source": [
    "scfres.energies"
   ],
   "metadata": {},
   "execution_count": 5
  }
 ],
 "nbformat_minor": 3,
 "metadata": {
  "language_info": {
   "file_extension": ".jl",
   "mimetype": "application/julia",
   "name": "julia",
   "version": "1.4.2"
  },
  "kernelspec": {
   "name": "julia-1.4",
   "display_name": "Julia 1.4.2",
   "language": "julia"
  }
 },
 "nbformat": 4
}
