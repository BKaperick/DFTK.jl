{
 "cells": [
  {
   "cell_type": "markdown",
   "source": [
    "# Creating supercells with pymatgen\n",
    "\n",
    "The [Pymatgen](https://pymatgen.org/) python library allows to setup\n",
    "solid-state calculations using a flexible set of classes as well as an API\n",
    "to an online data base of structures. Its `Structure` and `Lattice`\n",
    "objects are directly supported by the DFTK `load_atoms` and `load_lattice`\n",
    "functions, such that DFTK may be readily used to run calculation on systems\n",
    "defined in pymatgen. Using the `pymatgen_structure` function a conversion\n",
    "from DFTK to pymatgen structures is also possible. In the following we\n",
    "use this to create a silicon supercell and find its LDA ground state\n",
    "using direct minimisation."
   ],
   "metadata": {}
  },
  {
   "cell_type": "markdown",
   "source": [
    "First we setup the silicon lattice in DFTK."
   ],
   "metadata": {}
  },
  {
   "outputs": [],
   "cell_type": "code",
   "source": [
    "using DFTK\n",
    "\n",
    "a = 10.263141334305942  # Lattice constant in Bohr\n",
    "lattice = a / 2 .* [[0 1 1.]; [1 0 1.]; [1 1 0.]]\n",
    "Si = ElementPsp(:Si, psp=load_psp(\"hgh/lda/Si-q4\"))\n",
    "atoms = [Si => [ones(3)/8, -ones(3)/8]];"
   ],
   "metadata": {},
   "execution_count": 1
  },
  {
   "cell_type": "markdown",
   "source": [
    "Next we make a `[2, 2, 2]` supercell using pymatgen"
   ],
   "metadata": {}
  },
  {
   "outputs": [],
   "cell_type": "code",
   "source": [
    "pystruct = pymatgen_structure(lattice, atoms)\n",
    "pystruct.make_supercell([2, 2, 2])\n",
    "lattice = load_lattice(pystruct)\n",
    "atoms = [Si => [s.frac_coords for s in pystruct.sites]];"
   ],
   "metadata": {},
   "execution_count": 2
  },
  {
   "cell_type": "markdown",
   "source": [
    "Setup an LDA model and discretize using\n",
    "a single kpoint and a small `Ecut` of 5 Hartree."
   ],
   "metadata": {}
  },
  {
   "outputs": [
    {
     "output_type": "execute_result",
     "data": {
      "text/plain": "PlaneWaveBasis (Ecut=5.0, 1 kpoints)"
     },
     "metadata": {},
     "execution_count": 3
    }
   ],
   "cell_type": "code",
   "source": [
    "model = model_LDA(lattice, atoms)\n",
    "basis = PlaneWaveBasis(model, 5, kgrid=(1, 1, 1))"
   ],
   "metadata": {},
   "execution_count": 3
  },
  {
   "cell_type": "markdown",
   "source": [
    "Find the ground state using direct minimisation (always using SCF is boring ...)"
   ],
   "metadata": {}
  },
  {
   "outputs": [
    {
     "name": "stdout",
     "output_type": "stream",
     "text": [
      "Iter     Function value   Gradient norm \n",
      "     0     1.116813e+02     1.551620e+00\n",
      " * time: 0.7788770198822021\n",
      "     1     1.081487e+01     9.126928e-01\n",
      " * time: 2.1688549518585205\n",
      "     2    -1.172819e+01     9.878274e-01\n",
      " * time: 2.8449771404266357\n",
      "     3    -3.387297e+01     8.382242e-01\n",
      " * time: 3.846935987472534\n",
      "     4    -4.723665e+01     6.650109e-01\n",
      " * time: 4.844261169433594\n",
      "     5    -5.687043e+01     2.810925e-01\n",
      " * time: 5.812992095947266\n",
      "     6    -5.967900e+01     2.618117e-01\n",
      " * time: 6.501569032669067\n",
      "     7    -6.087712e+01     1.054548e-01\n",
      " * time: 7.231588125228882\n",
      "     8    -6.141503e+01     3.996204e-02\n",
      " * time: 7.945536136627197\n",
      "     9    -6.168234e+01     3.221613e-02\n",
      " * time: 8.644531011581421\n",
      "    10    -6.185873e+01     3.193582e-02\n",
      " * time: 9.311486959457397\n",
      "    11    -6.200140e+01     2.088493e-02\n",
      " * time: 9.988492012023926\n",
      "    12    -6.208674e+01     1.518422e-02\n",
      " * time: 10.659409046173096\n",
      "    13    -6.212964e+01     1.156476e-02\n",
      " * time: 11.332324028015137\n",
      "    14    -6.216257e+01     1.236638e-02\n",
      " * time: 12.02016806602478\n",
      "    15    -6.218203e+01     1.179056e-02\n",
      " * time: 12.694565057754517\n",
      "    16    -6.219658e+01     1.049066e-02\n",
      " * time: 13.373157024383545\n",
      "    17    -6.220794e+01     7.836711e-03\n",
      " * time: 14.08454704284668\n",
      "    18    -6.221819e+01     6.773000e-03\n",
      " * time: 14.803579092025757\n",
      "    19    -6.222733e+01     5.773839e-03\n",
      " * time: 15.502108097076416\n",
      "    20    -6.223582e+01     6.071247e-03\n",
      " * time: 16.198270082473755\n",
      "    21    -6.224339e+01     5.551160e-03\n",
      " * time: 16.879361152648926\n",
      "    22    -6.225005e+01     5.048342e-03\n",
      " * time: 17.560964107513428\n",
      "    23    -6.225498e+01     3.988191e-03\n",
      " * time: 18.255622148513794\n",
      "    24    -6.225799e+01     3.007690e-03\n",
      " * time: 18.94070315361023\n",
      "    25    -6.225955e+01     2.023610e-03\n",
      " * time: 19.620720148086548\n",
      "    26    -6.226035e+01     1.559878e-03\n",
      " * time: 20.288267135620117\n",
      "    27    -6.226078e+01     1.416982e-03\n",
      " * time: 20.968004941940308\n",
      "    28    -6.226105e+01     1.353321e-03\n",
      " * time: 21.654946088790894\n",
      "    29    -6.226124e+01     1.211383e-03\n",
      " * time: 22.35387396812439\n",
      "    30    -6.226140e+01     1.038421e-03\n",
      " * time: 23.069810152053833\n",
      "    31    -6.226150e+01     8.370324e-04\n",
      " * time: 23.742793083190918\n",
      "    32    -6.226157e+01     5.777479e-04\n",
      " * time: 24.425084114074707\n",
      "    33    -6.226161e+01     3.389126e-04\n",
      " * time: 25.110939979553223\n",
      "    34    -6.226164e+01     2.830399e-04\n",
      " * time: 25.789364099502563\n",
      "    35    -6.226165e+01     2.515397e-04\n",
      " * time: 26.478069067001343\n",
      "    36    -6.226166e+01     1.187600e-04\n",
      " * time: 27.15908408164978\n",
      "    37    -6.226166e+01     7.572610e-05\n",
      " * time: 27.832210063934326\n",
      "    38    -6.226166e+01     6.378851e-05\n",
      " * time: 28.517678022384644\n",
      "    39    -6.226166e+01     5.776651e-05\n",
      " * time: 29.18973994255066\n",
      "    40    -6.226167e+01     4.679225e-05\n",
      " * time: 29.85045313835144\n",
      "    41    -6.226167e+01     3.882115e-05\n",
      " * time: 30.513000965118408\n",
      "    42    -6.226167e+01     3.460753e-05\n",
      " * time: 31.203001976013184\n",
      "    43    -6.226167e+01     2.529550e-05\n",
      " * time: 31.887006998062134\n",
      "    44    -6.226167e+01     1.848904e-05\n",
      " * time: 32.56337094306946\n",
      "    45    -6.226167e+01     1.402432e-05\n",
      " * time: 33.253934144973755\n",
      "    46    -6.226167e+01     1.085610e-05\n",
      " * time: 33.926897048950195\n",
      "    47    -6.226167e+01     6.192172e-06\n",
      " * time: 34.60186195373535\n",
      "    48    -6.226167e+01     5.685147e-06\n",
      " * time: 35.30711507797241\n",
      "    49    -6.226167e+01     4.369620e-06\n",
      " * time: 35.98776602745056\n"
     ]
    }
   ],
   "cell_type": "code",
   "source": [
    "scfres = direct_minimization(basis, tol=1e-5);"
   ],
   "metadata": {},
   "execution_count": 4
  },
  {
   "outputs": [
    {
     "output_type": "execute_result",
     "data": {
      "text/plain": "Energy breakdown:\n    Kinetic             25.7671063\n    AtomicLocal         -18.8557620\n    AtomicNonlocal      14.8522602\n    Ewald               -67.1831486\n    PspCorrection       -2.3569765\n    Hartree             4.8485357 \n    Xc                  -19.3336815\n\n    total               -62.261666457739\n"
     },
     "metadata": {},
     "execution_count": 5
    }
   ],
   "cell_type": "code",
   "source": [
    "scfres.energies"
   ],
   "metadata": {},
   "execution_count": 5
  }
 ],
 "nbformat_minor": 3,
 "metadata": {
  "language_info": {
   "file_extension": ".jl",
   "mimetype": "application/julia",
   "name": "julia",
   "version": "1.6.2"
  },
  "kernelspec": {
   "name": "julia-1.6",
   "display_name": "Julia 1.6.2",
   "language": "julia"
  }
 },
 "nbformat": 4
}
