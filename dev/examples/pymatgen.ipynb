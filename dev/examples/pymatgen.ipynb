{
 "cells": [
  {
   "cell_type": "markdown",
   "source": [
    "# Creating supercells with pymatgen\n",
    "\n",
    "The [Pymatgen](https://pymatgen.org/) python library allows to setup\n",
    "solid-state calculations using a flexible set of classes as well as an API\n",
    "to an online data base of structures. Its `Structure` and `Lattice`\n",
    "objects are directly supported by the DFTK `load_atoms` and `load_lattice`\n",
    "functions, such that DFTK may be readily used to run calculation on systems\n",
    "defined in pymatgen. Using the `pymatgen_structure` function a conversion\n",
    "from DFTK to pymatgen structures is also possible. In the following we\n",
    "use this to create a silicon supercell and find its LDA ground state\n",
    "using direct minimisation."
   ],
   "metadata": {}
  },
  {
   "cell_type": "markdown",
   "source": [
    "First we setup the silicon lattice in DFTK."
   ],
   "metadata": {}
  },
  {
   "outputs": [],
   "cell_type": "code",
   "source": [
    "using DFTK\n",
    "\n",
    "a = 10.263141334305942  # Lattice constant in Bohr\n",
    "lattice = a / 2 .* [[0 1 1.]; [1 0 1.]; [1 1 0.]]\n",
    "Si = ElementPsp(:Si, psp=load_psp(\"hgh/lda/Si-q4\"))\n",
    "atoms = [Si => [ones(3)/8, -ones(3)/8]];"
   ],
   "metadata": {},
   "execution_count": 1
  },
  {
   "cell_type": "markdown",
   "source": [
    "Next we make a `[2, 2, 2]` supercell using pymatgen"
   ],
   "metadata": {}
  },
  {
   "outputs": [],
   "cell_type": "code",
   "source": [
    "pystruct = pymatgen_structure(lattice, atoms)\n",
    "pystruct.make_supercell([2, 2, 2])\n",
    "lattice = load_lattice(pystruct)\n",
    "atoms = [Si => [s.frac_coords for s in pystruct.sites]];"
   ],
   "metadata": {},
   "execution_count": 2
  },
  {
   "cell_type": "markdown",
   "source": [
    "Setup an LDA model and discretize using\n",
    "a single kpoint and a small `Ecut` of 5 Hartree."
   ],
   "metadata": {}
  },
  {
   "outputs": [
    {
     "output_type": "execute_result",
     "data": {
      "text/plain": "PlaneWaveBasis (Ecut=5.0, 1 kpoints)"
     },
     "metadata": {},
     "execution_count": 3
    }
   ],
   "cell_type": "code",
   "source": [
    "model = model_LDA(lattice, atoms)\n",
    "basis = PlaneWaveBasis(model, 5, kgrid=(1, 1, 1))"
   ],
   "metadata": {},
   "execution_count": 3
  },
  {
   "cell_type": "markdown",
   "source": [
    "Find the ground state using direct minimisation (always using SCF is boring ...)"
   ],
   "metadata": {}
  },
  {
   "outputs": [
    {
     "name": "stdout",
     "output_type": "stream",
     "text": [
      "Iter     Function value   Gradient norm \n",
      "     0     1.119830e+02     1.390877e+00\n",
      " * time: 0.6925170421600342\n",
      "     1     1.036793e+01     8.056206e-01\n",
      " * time: 2.066068172454834\n",
      "     2    -1.126879e+01     9.749250e-01\n",
      " * time: 2.7046010494232178\n",
      "     3    -3.376257e+01     7.192019e-01\n",
      " * time: 3.632336139678955\n",
      "     4    -4.694520e+01     5.355576e-01\n",
      " * time: 4.574547052383423\n",
      "     5    -5.695364e+01     1.973974e-01\n",
      " * time: 5.4482221603393555\n",
      "     6    -5.990865e+01     1.339340e-01\n",
      " * time: 6.059966087341309\n",
      "     7    -6.100932e+01     4.772501e-02\n",
      " * time: 6.690268039703369\n",
      "     8    -6.144753e+01     4.967110e-02\n",
      " * time: 7.330810070037842\n",
      "     9    -6.168352e+01     3.694102e-02\n",
      " * time: 7.95405912399292\n",
      "    10    -6.189313e+01     2.904891e-02\n",
      " * time: 8.551769018173218\n",
      "    11    -6.201647e+01     1.839874e-02\n",
      " * time: 9.154124975204468\n",
      "    12    -6.206903e+01     1.568590e-02\n",
      " * time: 9.739629983901978\n",
      "    13    -6.210778e+01     1.351465e-02\n",
      " * time: 10.340057134628296\n",
      "    14    -6.213469e+01     1.247926e-02\n",
      " * time: 10.957821130752563\n",
      "    15    -6.215640e+01     1.146037e-02\n",
      " * time: 11.602527141571045\n",
      "    16    -6.217104e+01     9.623180e-03\n",
      " * time: 12.245261192321777\n",
      "    17    -6.218232e+01     7.351837e-03\n",
      " * time: 12.888283014297485\n",
      "    18    -6.219065e+01     4.867465e-03\n",
      " * time: 13.531491994857788\n",
      "    19    -6.219653e+01     4.663140e-03\n",
      " * time: 14.120329141616821\n",
      "    20    -6.220075e+01     3.836102e-03\n",
      " * time: 14.704337120056152\n",
      "    21    -6.220406e+01     3.710335e-03\n",
      " * time: 15.305117130279541\n",
      "    22    -6.220663e+01     3.667127e-03\n",
      " * time: 15.891861200332642\n",
      "    23    -6.220851e+01     2.960151e-03\n",
      " * time: 16.49618411064148\n",
      "    24    -6.220983e+01     2.820299e-03\n",
      " * time: 17.10912013053894\n",
      "    25    -6.221082e+01     3.358262e-03\n",
      " * time: 17.728904008865356\n",
      "    26    -6.221164e+01     2.882702e-03\n",
      " * time: 18.404000997543335\n",
      "    27    -6.221244e+01     3.226077e-03\n",
      " * time: 19.043143033981323\n",
      "    28    -6.221362e+01     3.842681e-03\n",
      " * time: 19.648285150527954\n",
      "    29    -6.221553e+01     4.906334e-03\n",
      " * time: 20.2422091960907\n",
      "    30    -6.221860e+01     6.050321e-03\n",
      " * time: 20.853008031845093\n",
      "    31    -6.222317e+01     5.869837e-03\n",
      " * time: 21.490748167037964\n",
      "    32    -6.223142e+01     6.936797e-03\n",
      " * time: 22.11309814453125\n",
      "    33    -6.223963e+01     6.762462e-03\n",
      " * time: 22.723287105560303\n",
      "    34    -6.224668e+01     6.348320e-03\n",
      " * time: 23.347558975219727\n",
      "    35    -6.225155e+01     6.581270e-03\n",
      " * time: 23.950254201889038\n",
      "    36    -6.225497e+01     4.599492e-03\n",
      " * time: 24.53878903388977\n",
      "    37    -6.225743e+01     2.951322e-03\n",
      " * time: 25.128260135650635\n",
      "    38    -6.225877e+01     2.110842e-03\n",
      " * time: 25.754574060440063\n",
      "    39    -6.225982e+01     1.845982e-03\n",
      " * time: 26.37678813934326\n",
      "    40    -6.226047e+01     1.637249e-03\n",
      " * time: 27.007472038269043\n",
      "    41    -6.226092e+01     1.252096e-03\n",
      " * time: 27.61286211013794\n",
      "    42    -6.226120e+01     1.049119e-03\n",
      " * time: 28.25279712677002\n",
      "    43    -6.226139e+01     8.359568e-04\n",
      " * time: 28.868812084197998\n",
      "    44    -6.226151e+01     7.545814e-04\n",
      " * time: 29.453046083450317\n",
      "    45    -6.226158e+01     4.403802e-04\n",
      " * time: 30.082170009613037\n",
      "    46    -6.226161e+01     3.415766e-04\n",
      " * time: 30.688419103622437\n",
      "    47    -6.226163e+01     3.112560e-04\n",
      " * time: 31.299448013305664\n",
      "    48    -6.226165e+01     2.536937e-04\n",
      " * time: 31.90196919441223\n",
      "    49    -6.226165e+01     1.686093e-04\n",
      " * time: 32.499557971954346\n",
      "    50    -6.226166e+01     1.546913e-04\n",
      " * time: 33.09941101074219\n",
      "    51    -6.226166e+01     1.123597e-04\n",
      " * time: 33.7339231967926\n",
      "    52    -6.226166e+01     9.430251e-05\n",
      " * time: 34.3759970664978\n",
      "    53    -6.226166e+01     7.154576e-05\n",
      " * time: 35.00127911567688\n",
      "    54    -6.226167e+01     5.095939e-05\n",
      " * time: 35.623778104782104\n",
      "    55    -6.226167e+01     4.881862e-05\n",
      " * time: 36.24430799484253\n",
      "    56    -6.226167e+01     3.817195e-05\n",
      " * time: 36.87140917778015\n",
      "    57    -6.226167e+01     2.766195e-05\n",
      " * time: 37.492571115493774\n",
      "    58    -6.226167e+01     1.854129e-05\n",
      " * time: 38.113455057144165\n",
      "    59    -6.226167e+01     1.679891e-05\n",
      " * time: 38.756587982177734\n",
      "    60    -6.226167e+01     1.504900e-05\n",
      " * time: 39.38285303115845\n",
      "    61    -6.226167e+01     1.029376e-05\n",
      " * time: 40.01696419715881\n",
      "    62    -6.226167e+01     7.059264e-06\n",
      " * time: 40.60692119598389\n",
      "    63    -6.226167e+01     5.995124e-06\n",
      " * time: 41.21333312988281\n",
      "    64    -6.226167e+01     4.807827e-06\n",
      " * time: 41.81160116195679\n",
      "    65    -6.226167e+01     3.287832e-06\n",
      " * time: 42.42284417152405\n",
      "    66    -6.226167e+01     2.620261e-06\n",
      " * time: 43.05514717102051\n"
     ]
    }
   ],
   "cell_type": "code",
   "source": [
    "scfres = direct_minimization(basis, tol=1e-5);"
   ],
   "metadata": {},
   "execution_count": 4
  },
  {
   "outputs": [
    {
     "output_type": "execute_result",
     "data": {
      "text/plain": "Energy breakdown:\n    Kinetic             25.7671054\n    AtomicLocal         -18.8557627\n    AtomicNonlocal      14.8522622\n    Ewald               -67.1831486\n    PspCorrection       -2.3569765\n    Hartree             4.8485350 \n    Xc                  -19.3336812\n\n    total               -62.261666459692\n"
     },
     "metadata": {},
     "execution_count": 5
    }
   ],
   "cell_type": "code",
   "source": [
    "scfres.energies"
   ],
   "metadata": {},
   "execution_count": 5
  }
 ],
 "nbformat_minor": 3,
 "metadata": {
  "language_info": {
   "file_extension": ".jl",
   "mimetype": "application/julia",
   "name": "julia",
   "version": "1.6.2"
  },
  "kernelspec": {
   "name": "julia-1.6",
   "display_name": "Julia 1.6.2",
   "language": "julia"
  }
 },
 "nbformat": 4
}
