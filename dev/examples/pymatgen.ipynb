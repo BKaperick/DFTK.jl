{
 "cells": [
  {
   "cell_type": "markdown",
   "source": [
    "# Creating supercells with pymatgen\n",
    "\n",
    "The [Pymatgen](https://pymatgen.org/) python library allows to setup\n",
    "solid-state calculations using a flexible set of classes as well as an API\n",
    "to an online data base of structures. Its `Structure` and `Lattice`\n",
    "objects are directly supported by the DFTK `load_atoms` and `load_lattice`\n",
    "functions, such that DFTK may be readily used to run calculation on systems\n",
    "defined in pymatgen. Using the `pymatgen_structure` function a conversion\n",
    "from DFTK to pymatgen structures is also possible. In the following we\n",
    "use this to create a silicon supercell and find its LDA ground state\n",
    "using direct minimisation."
   ],
   "metadata": {}
  },
  {
   "cell_type": "markdown",
   "source": [
    "First we setup the silicon lattice in DFTK."
   ],
   "metadata": {}
  },
  {
   "outputs": [],
   "cell_type": "code",
   "source": [
    "using DFTK\n",
    "\n",
    "a = 10.263141334305942  # Lattice constant in Bohr\n",
    "lattice = a / 2 .* [[0 1 1.]; [1 0 1.]; [1 1 0.]]\n",
    "Si = ElementPsp(:Si, psp=load_psp(\"hgh/lda/Si-q4\"))\n",
    "atoms = [Si => [ones(3)/8, -ones(3)/8]];"
   ],
   "metadata": {},
   "execution_count": 1
  },
  {
   "cell_type": "markdown",
   "source": [
    "Next we make a `[2, 2, 2]` supercell using pymatgen"
   ],
   "metadata": {}
  },
  {
   "outputs": [],
   "cell_type": "code",
   "source": [
    "pystruct = pymatgen_structure(lattice, atoms)\n",
    "pystruct.make_supercell([2, 2, 2])\n",
    "lattice = load_lattice(pystruct)\n",
    "atoms = [Si => [s.frac_coords for s in pystruct.sites]];"
   ],
   "metadata": {},
   "execution_count": 2
  },
  {
   "cell_type": "markdown",
   "source": [
    "Setup an LDA model and discretize using\n",
    "a single kpoint and a small `Ecut` of 5 Hartree."
   ],
   "metadata": {}
  },
  {
   "outputs": [
    {
     "output_type": "execute_result",
     "data": {
      "text/plain": "PlaneWaveBasis (Ecut=5.0, 1 kpoints)"
     },
     "metadata": {},
     "execution_count": 3
    }
   ],
   "cell_type": "code",
   "source": [
    "model = model_LDA(lattice, atoms)\n",
    "basis = PlaneWaveBasis(model, 5, kgrid=(1, 1, 1))"
   ],
   "metadata": {},
   "execution_count": 3
  },
  {
   "cell_type": "markdown",
   "source": [
    "Find the ground state using direct minimisation (always using SCF is boring ...)"
   ],
   "metadata": {}
  },
  {
   "outputs": [
    {
     "name": "stdout",
     "output_type": "stream",
     "text": [
      "Iter     Function value   Gradient norm \n",
      "     0     1.129985e+02     1.637541e+00\n",
      " * time: 0.0956120491027832\n",
      "     1     1.115662e+01     9.410288e-01\n",
      " * time: 1.0070140361785889\n",
      "     2    -1.160252e+01     9.780758e-01\n",
      " * time: 1.1582140922546387\n",
      "     3    -3.402800e+01     7.866685e-01\n",
      " * time: 1.3265349864959717\n",
      "     4    -4.775236e+01     5.496904e-01\n",
      " * time: 1.4821901321411133\n",
      "     5    -5.689252e+01     2.114102e-01\n",
      " * time: 1.630270004272461\n",
      "     6    -5.970779e+01     1.485947e-01\n",
      " * time: 1.741314172744751\n",
      "     7    -6.083787e+01     7.109999e-02\n",
      " * time: 1.8592400550842285\n",
      "     8    -6.128728e+01     6.783320e-02\n",
      " * time: 1.9723501205444336\n",
      "     9    -6.157791e+01     5.045313e-02\n",
      " * time: 2.0906009674072266\n",
      "    10    -6.179258e+01     2.754382e-02\n",
      " * time: 2.2092061042785645\n",
      "    11    -6.196370e+01     2.016929e-02\n",
      " * time: 2.3208811283111572\n",
      "    12    -6.203990e+01     1.737780e-02\n",
      " * time: 2.439578056335449\n",
      "    13    -6.211952e+01     1.523035e-02\n",
      " * time: 2.549973964691162\n",
      "    14    -6.215850e+01     1.199374e-02\n",
      " * time: 2.6684370040893555\n",
      "    15    -6.219118e+01     1.087969e-02\n",
      " * time: 2.786684989929199\n",
      "    16    -6.220560e+01     7.106510e-03\n",
      " * time: 2.8981549739837646\n",
      "    17    -6.221429e+01     5.705855e-03\n",
      " * time: 3.017096996307373\n",
      "    18    -6.222020e+01     6.329279e-03\n",
      " * time: 3.128504991531372\n",
      "    19    -6.222486e+01     6.609084e-03\n",
      " * time: 3.2463290691375732\n",
      "    20    -6.222994e+01     6.340444e-03\n",
      " * time: 3.365434169769287\n",
      "    21    -6.223575e+01     5.866793e-03\n",
      " * time: 3.4765031337738037\n",
      "    22    -6.224250e+01     6.082796e-03\n",
      " * time: 3.5964550971984863\n",
      "    23    -6.224901e+01     5.597299e-03\n",
      " * time: 3.721464157104492\n",
      "    24    -6.225394e+01     4.040883e-03\n",
      " * time: 3.8470661640167236\n",
      "    25    -6.225685e+01     2.910971e-03\n",
      " * time: 3.966353178024292\n",
      "    26    -6.225865e+01     2.521234e-03\n",
      " * time: 4.076066970825195\n",
      "    27    -6.225968e+01     1.981457e-03\n",
      " * time: 4.196480989456177\n",
      "    28    -6.226034e+01     1.609435e-03\n",
      " * time: 4.319313049316406\n",
      "    29    -6.226079e+01     1.471459e-03\n",
      " * time: 4.444396018981934\n",
      "    30    -6.226111e+01     1.051573e-03\n",
      " * time: 4.561714172363281\n",
      "    31    -6.226131e+01     8.922700e-04\n",
      " * time: 4.671105146408081\n",
      "    32    -6.226146e+01     6.904095e-04\n",
      " * time: 4.789941072463989\n",
      "    33    -6.226155e+01     5.766261e-04\n",
      " * time: 4.899662017822266\n",
      "    34    -6.226160e+01     4.062292e-04\n",
      " * time: 5.018134117126465\n",
      "    35    -6.226164e+01     4.116230e-04\n",
      " * time: 5.131427049636841\n",
      "    36    -6.226165e+01     3.131624e-04\n",
      " * time: 5.25068998336792\n",
      "    37    -6.226166e+01     1.528958e-04\n",
      " * time: 5.371201038360596\n",
      "    38    -6.226166e+01     1.486923e-04\n",
      " * time: 5.481779098510742\n",
      "    39    -6.226166e+01     1.064597e-04\n",
      " * time: 5.601328134536743\n",
      "    40    -6.226166e+01     8.131430e-05\n",
      " * time: 5.712064981460571\n",
      "    41    -6.226166e+01     5.994862e-05\n",
      " * time: 5.829571962356567\n",
      "    42    -6.226167e+01     4.531950e-05\n",
      " * time: 5.948017120361328\n",
      "    43    -6.226167e+01     3.621152e-05\n",
      " * time: 6.060090065002441\n",
      "    44    -6.226167e+01     2.986379e-05\n",
      " * time: 6.177802085876465\n",
      "    45    -6.226167e+01     2.601412e-05\n",
      " * time: 6.290601015090942\n",
      "    46    -6.226167e+01     1.907969e-05\n",
      " * time: 6.409063100814819\n",
      "    47    -6.226167e+01     1.403084e-05\n",
      " * time: 6.528483152389526\n",
      "    48    -6.226167e+01     1.059764e-05\n",
      " * time: 6.640107154846191\n",
      "    49    -6.226167e+01     6.397973e-06\n",
      " * time: 6.759968996047974\n",
      "    50    -6.226167e+01     5.213320e-06\n",
      " * time: 6.873972177505493\n",
      "    51    -6.226167e+01     3.769831e-06\n",
      " * time: 6.992861986160278\n",
      "    52    -6.226167e+01     3.129717e-06\n",
      " * time: 7.11038613319397\n"
     ]
    }
   ],
   "cell_type": "code",
   "source": [
    "scfres = direct_minimization(basis, tol=1e-5);"
   ],
   "metadata": {},
   "execution_count": 4
  },
  {
   "outputs": [
    {
     "output_type": "execute_result",
     "data": {
      "text/plain": "Energy breakdown:\n    Kinetic             25.7671070\n    AtomicLocal         -18.8557730\n    AtomicNonlocal      14.8522689\n    Ewald               -67.1831486\n    PspCorrection       -2.3569765\n    Hartree             4.8485382 \n    Xc                  -19.3336823\n\n    total               -62.261666459758\n"
     },
     "metadata": {},
     "execution_count": 5
    }
   ],
   "cell_type": "code",
   "source": [
    "scfres.energies"
   ],
   "metadata": {},
   "execution_count": 5
  }
 ],
 "nbformat_minor": 3,
 "metadata": {
  "language_info": {
   "file_extension": ".jl",
   "mimetype": "application/julia",
   "name": "julia",
   "version": "1.3.1"
  },
  "kernelspec": {
   "name": "julia-1.3",
   "display_name": "Julia 1.3.1",
   "language": "julia"
  }
 },
 "nbformat": 4
}
