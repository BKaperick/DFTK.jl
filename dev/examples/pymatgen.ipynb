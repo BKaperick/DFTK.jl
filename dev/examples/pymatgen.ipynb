{
 "cells": [
  {
   "cell_type": "markdown",
   "source": [
    "# Creating supercells with pymatgen\n",
    "\n",
    "The [Pymatgen](https://pymatgen.org/) python library allows to setup\n",
    "solid-state calculations using a flexible set of classes as well as an API\n",
    "to an online data base of structures. Its `Structure` and `Lattice`\n",
    "objects are directly supported by the DFTK `load_atoms` and `load_lattice`\n",
    "functions, such that DFTK may be readily used to run calculation on systems\n",
    "defined in pymatgen. Using the `pymatgen_structure` function a conversion\n",
    "from DFTK to pymatgen structures is also possible. In the following we\n",
    "use this to create a silicon supercell and find its LDA ground state\n",
    "using direct minimisation."
   ],
   "metadata": {}
  },
  {
   "cell_type": "markdown",
   "source": [
    "First we setup the silicon lattice in DFTK."
   ],
   "metadata": {}
  },
  {
   "outputs": [],
   "cell_type": "code",
   "source": [
    "using DFTK\n",
    "\n",
    "a = 10.263141334305942  # Lattice constant in Bohr\n",
    "lattice = a / 2 .* [[0 1 1.]; [1 0 1.]; [1 1 0.]]\n",
    "Si = ElementPsp(:Si, psp=load_psp(\"hgh/lda/Si-q4\"))\n",
    "atoms = [Si => [ones(3)/8, -ones(3)/8]];"
   ],
   "metadata": {},
   "execution_count": 1
  },
  {
   "cell_type": "markdown",
   "source": [
    "Next we make a `[2, 2, 2]` supercell using pymatgen"
   ],
   "metadata": {}
  },
  {
   "outputs": [],
   "cell_type": "code",
   "source": [
    "pystruct = pymatgen_structure(lattice, atoms)\n",
    "pystruct.make_supercell([2, 2, 2])\n",
    "lattice = load_lattice(pystruct)\n",
    "atoms = [Si => [s.frac_coords for s in pystruct.sites]];"
   ],
   "metadata": {},
   "execution_count": 2
  },
  {
   "cell_type": "markdown",
   "source": [
    "Setup an LDA model and discretize using\n",
    "a single kpoint and a small `Ecut` of 5 Hartree.\n",
    "Notice that `PlaneWaveBasis` defaults to just using the ``Γ``-point\n",
    "if no ``k``-point options are provided."
   ],
   "metadata": {}
  },
  {
   "outputs": [
    {
     "output_type": "execute_result",
     "data": {
      "text/plain": "PlaneWaveBasis (Ecut=5.0, 1 kpoints)"
     },
     "metadata": {},
     "execution_count": 3
    }
   ],
   "cell_type": "code",
   "source": [
    "model = model_LDA(lattice, atoms)\n",
    "basis = PlaneWaveBasis(model, 5)"
   ],
   "metadata": {},
   "execution_count": 3
  },
  {
   "cell_type": "markdown",
   "source": [
    "Find the ground state using direct minimisation (always using SCF is boring ...)"
   ],
   "metadata": {}
  },
  {
   "outputs": [
    {
     "name": "stdout",
     "output_type": "stream",
     "text": [
      "Iter     Function value   Gradient norm \n",
      "     0     1.122997e+02     1.619023e+00\n",
      " * time: 0.08878493309020996\n",
      "     1     1.105490e+01     9.079850e-01\n",
      " * time: 0.8614771366119385\n",
      "     2    -1.213588e+01     1.114836e+00\n",
      " * time: 0.9755511283874512\n",
      "     3    -3.402366e+01     8.217549e-01\n",
      " * time: 1.135667085647583\n",
      "     4    -4.741145e+01     6.096374e-01\n",
      " * time: 1.2780511379241943\n",
      "     5    -5.695579e+01     2.266537e-01\n",
      " * time: 1.418313980102539\n",
      "     6    -5.982156e+01     1.365675e-01\n",
      " * time: 1.5294160842895508\n",
      "     7    -6.088263e+01     6.293082e-02\n",
      " * time: 1.6374340057373047\n",
      "     8    -6.129770e+01     6.164982e-02\n",
      " * time: 1.7485649585723877\n",
      "     9    -6.160748e+01     4.021358e-02\n",
      " * time: 1.8592350482940674\n",
      "    10    -6.185615e+01     2.987059e-02\n",
      " * time: 1.97064208984375\n",
      "    11    -6.203629e+01     1.893770e-02\n",
      " * time: 2.075101137161255\n",
      "    12    -6.209908e+01     1.539312e-02\n",
      " * time: 2.184998035430908\n",
      "    13    -6.215991e+01     1.236581e-02\n",
      " * time: 2.295746088027954\n",
      "    14    -6.218466e+01     1.201712e-02\n",
      " * time: 2.407249927520752\n",
      "    15    -6.220865e+01     8.680837e-03\n",
      " * time: 2.5138440132141113\n",
      "    16    -6.222162e+01     6.754431e-03\n",
      " * time: 2.6243889331817627\n",
      "    17    -6.223161e+01     6.826041e-03\n",
      " * time: 2.734241008758545\n",
      "    18    -6.223892e+01     5.318011e-03\n",
      " * time: 2.8445630073547363\n",
      "    19    -6.224489e+01     5.155572e-03\n",
      " * time: 2.9484059810638428\n",
      "    20    -6.225006e+01     5.064615e-03\n",
      " * time: 3.058203935623169\n",
      "    21    -6.225457e+01     4.538233e-03\n",
      " * time: 3.1682770252227783\n",
      "    22    -6.225784e+01     3.521159e-03\n",
      " * time: 3.277794122695923\n",
      "    23    -6.225981e+01     2.372511e-03\n",
      " * time: 3.3815419673919678\n",
      "    24    -6.226077e+01     1.427782e-03\n",
      " * time: 3.4919209480285645\n",
      "    25    -6.226120e+01     1.069368e-03\n",
      " * time: 3.602081060409546\n",
      "    26    -6.226141e+01     7.200537e-04\n",
      " * time: 3.711862087249756\n",
      "    27    -6.226151e+01     5.330432e-04\n",
      " * time: 3.8152120113372803\n",
      "    28    -6.226156e+01     4.403105e-04\n",
      " * time: 3.9260590076446533\n",
      "    29    -6.226159e+01     3.829938e-04\n",
      " * time: 4.035769939422607\n",
      "    30    -6.226162e+01     3.133473e-04\n",
      " * time: 4.14565896987915\n",
      "    31    -6.226163e+01     2.728483e-04\n",
      " * time: 4.249402046203613\n",
      "    32    -6.226164e+01     2.253416e-04\n",
      " * time: 4.3595030307769775\n",
      "    33    -6.226165e+01     1.704894e-04\n",
      " * time: 4.468663930892944\n",
      "    34    -6.226166e+01     1.189825e-04\n",
      " * time: 4.577916145324707\n",
      "    35    -6.226166e+01     1.052133e-04\n",
      " * time: 4.680675029754639\n",
      "    36    -6.226166e+01     8.784686e-05\n",
      " * time: 4.790194034576416\n",
      "    37    -6.226167e+01     4.614293e-05\n",
      " * time: 4.899850130081177\n",
      "    38    -6.226167e+01     3.206729e-05\n",
      " * time: 5.0097270011901855\n",
      "    39    -6.226167e+01     2.516218e-05\n",
      " * time: 5.119028091430664\n",
      "    40    -6.226167e+01     1.987526e-05\n",
      " * time: 5.222192049026489\n",
      "    41    -6.226167e+01     1.779528e-05\n",
      " * time: 5.332144021987915\n",
      "    42    -6.226167e+01     1.419734e-05\n",
      " * time: 5.442662000656128\n",
      "    43    -6.226167e+01     1.155711e-05\n",
      " * time: 5.552995920181274\n",
      "    44    -6.226167e+01     1.087485e-05\n",
      " * time: 5.6563379764556885\n",
      "    45    -6.226167e+01     7.535304e-06\n",
      " * time: 5.766397953033447\n",
      "    46    -6.226167e+01     6.246359e-06\n",
      " * time: 5.876348972320557\n",
      "    47    -6.226167e+01     3.835651e-06\n",
      " * time: 5.986088991165161\n",
      "    48    -6.226167e+01     2.527023e-06\n",
      " * time: 6.090311050415039\n"
     ]
    }
   ],
   "cell_type": "code",
   "source": [
    "scfres = direct_minimization(basis, tol=1e-5);"
   ],
   "metadata": {},
   "execution_count": 4
  },
  {
   "outputs": [
    {
     "output_type": "execute_result",
     "data": {
      "text/plain": "Energy breakdown:\n    Kinetic             25.7671062\n    AtomicLocal         -18.8557661\n    AtomicNonlocal      14.8522640\n    Ewald               -67.1831486\n    PspCorrection       -2.3569765\n    Hartree             4.8485363 \n    Xc                  -19.3336817\n\n    total               -62.261666461008\n"
     },
     "metadata": {},
     "execution_count": 5
    }
   ],
   "cell_type": "code",
   "source": [
    "scfres.energies"
   ],
   "metadata": {},
   "execution_count": 5
  }
 ],
 "nbformat_minor": 3,
 "metadata": {
  "language_info": {
   "file_extension": ".jl",
   "mimetype": "application/julia",
   "name": "julia",
   "version": "1.3.1"
  },
  "kernelspec": {
   "name": "julia-1.3",
   "display_name": "Julia 1.3.1",
   "language": "julia"
  }
 },
 "nbformat": 4
}
