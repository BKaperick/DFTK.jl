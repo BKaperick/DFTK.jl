{
 "cells": [
  {
   "cell_type": "markdown",
   "source": [
    "# Creating supercells with pymatgen\n",
    "\n",
    "The [Pymatgen](https://pymatgen.org/) python library allows to setup\n",
    "solid-state calculations using a flexible set of classes as well as an API\n",
    "to an online data base of structures. Its `Structure` and `Lattice`\n",
    "objects are directly supported by the DFTK `load_atoms` and `load_lattice`\n",
    "functions, such that DFTK may be readily used to run calculation on systems\n",
    "defined in pymatgen. Using the `pymatgen_structure` function a conversion\n",
    "from DFTK to pymatgen structures is also possible. In the following we\n",
    "use this to create a silicon supercell and find its LDA ground state\n",
    "using direct minimisation."
   ],
   "metadata": {}
  },
  {
   "cell_type": "markdown",
   "source": [
    "First we setup the silicon lattice in DFTK."
   ],
   "metadata": {}
  },
  {
   "outputs": [],
   "cell_type": "code",
   "source": [
    "using DFTK\n",
    "\n",
    "a = 10.263141334305942  # Lattice constant in Bohr\n",
    "lattice = a / 2 .* [[0 1 1.]; [1 0 1.]; [1 1 0.]]\n",
    "Si = ElementPsp(:Si, psp=load_psp(\"hgh/lda/Si-q4\"))\n",
    "atoms = [Si => [ones(3)/8, -ones(3)/8]];"
   ],
   "metadata": {},
   "execution_count": 1
  },
  {
   "cell_type": "markdown",
   "source": [
    "Next we make a `[2, 2, 2]` supercell using pymatgen"
   ],
   "metadata": {}
  },
  {
   "outputs": [],
   "cell_type": "code",
   "source": [
    "pystruct = pymatgen_structure(lattice, atoms)\n",
    "pystruct.make_supercell([2, 2, 2])\n",
    "lattice = load_lattice(pystruct)\n",
    "atoms = [Si => [s.frac_coords for s in pystruct.sites]];"
   ],
   "metadata": {},
   "execution_count": 2
  },
  {
   "cell_type": "markdown",
   "source": [
    "Setup an LDA model and discretize using\n",
    "a single kpoint and a small `Ecut` of 5 Hartree."
   ],
   "metadata": {}
  },
  {
   "outputs": [
    {
     "output_type": "execute_result",
     "data": {
      "text/plain": "PlaneWaveBasis (Ecut=5.0, 1 kpoints)"
     },
     "metadata": {},
     "execution_count": 3
    }
   ],
   "cell_type": "code",
   "source": [
    "model = model_LDA(lattice, atoms)\n",
    "basis = PlaneWaveBasis(model, 5, kgrid=(1, 1, 1))"
   ],
   "metadata": {},
   "execution_count": 3
  },
  {
   "cell_type": "markdown",
   "source": [
    "Find the ground state using direct minimisation (always using SCF is boring ...)"
   ],
   "metadata": {}
  },
  {
   "outputs": [
    {
     "name": "stdout",
     "output_type": "stream",
     "text": [
      "Iter     Function value   Gradient norm \n",
      "     0     1.118126e+02     1.716112e+00\n",
      " * time: 0.08417487144470215\n",
      "     1     1.050606e+01     8.847660e-01\n",
      " * time: 1.525364875793457\n",
      "     2    -1.218308e+01     1.027633e+00\n",
      " * time: 1.61049485206604\n",
      "     3    -3.402191e+01     9.033674e-01\n",
      " * time: 1.723024845123291\n",
      "     4    -4.754282e+01     6.674977e-01\n",
      " * time: 1.83748197555542\n",
      "     5    -5.684587e+01     2.415073e-01\n",
      " * time: 1.9407768249511719\n",
      "     6    -5.977847e+01     1.578673e-01\n",
      " * time: 2.0326569080352783\n",
      "     7    -6.090650e+01     5.394732e-02\n",
      " * time: 2.109747886657715\n",
      "     8    -6.133707e+01     8.134625e-02\n",
      " * time: 2.1900758743286133\n",
      "     9    -6.160888e+01     4.436375e-02\n",
      " * time: 2.2664198875427246\n",
      "    10    -6.182841e+01     2.756352e-02\n",
      " * time: 2.3499269485473633\n",
      "    11    -6.198800e+01     2.178306e-02\n",
      " * time: 2.427133798599243\n",
      "    12    -6.205186e+01     1.567220e-02\n",
      " * time: 2.502992868423462\n",
      "    13    -6.211382e+01     1.367945e-02\n",
      " * time: 2.585162878036499\n",
      "    14    -6.214246e+01     1.223700e-02\n",
      " * time: 2.6592798233032227\n",
      "    15    -6.216743e+01     8.588133e-03\n",
      " * time: 2.735502004623413\n",
      "    16    -6.218029e+01     8.210583e-03\n",
      " * time: 2.818697929382324\n",
      "    17    -6.219011e+01     6.721617e-03\n",
      " * time: 2.8929808139801025\n",
      "    18    -6.219721e+01     6.339527e-03\n",
      " * time: 2.9708199501037598\n",
      "    19    -6.220297e+01     6.482490e-03\n",
      " * time: 3.0442259311676025\n",
      "    20    -6.220804e+01     5.986696e-03\n",
      " * time: 3.1331348419189453\n",
      "    21    -6.221271e+01     5.699197e-03\n",
      " * time: 3.2092368602752686\n",
      "    22    -6.221678e+01     6.507767e-03\n",
      " * time: 3.285677909851074\n",
      "    23    -6.222019e+01     6.270210e-03\n",
      " * time: 3.370433807373047\n",
      "    24    -6.222329e+01     5.570683e-03\n",
      " * time: 3.449361801147461\n",
      "    25    -6.222684e+01     5.315947e-03\n",
      " * time: 3.5468528270721436\n",
      "    26    -6.223129e+01     6.042957e-03\n",
      " * time: 3.626654863357544\n",
      "    27    -6.223675e+01     5.950022e-03\n",
      " * time: 3.707612991333008\n",
      "    28    -6.224309e+01     5.487246e-03\n",
      " * time: 3.7842140197753906\n",
      "    29    -6.225000e+01     4.635435e-03\n",
      " * time: 3.8649489879608154\n",
      "    30    -6.225455e+01     4.075307e-03\n",
      " * time: 3.9476068019866943\n",
      "    31    -6.225769e+01     3.245529e-03\n",
      " * time: 4.0371809005737305\n",
      "    32    -6.225955e+01     2.105984e-03\n",
      " * time: 4.11865496635437\n",
      "    33    -6.226062e+01     1.698160e-03\n",
      " * time: 4.206079006195068\n",
      "    34    -6.226109e+01     1.080914e-03\n",
      " * time: 4.282070875167847\n",
      "    35    -6.226134e+01     8.334665e-04\n",
      " * time: 4.359816789627075\n",
      "    36    -6.226146e+01     7.040481e-04\n",
      " * time: 4.448690891265869\n",
      "    37    -6.226153e+01     5.487821e-04\n",
      " * time: 4.537400960922241\n",
      "    38    -6.226157e+01     4.424478e-04\n",
      " * time: 4.614903926849365\n",
      "    39    -6.226160e+01     3.248418e-04\n",
      " * time: 4.6926867961883545\n",
      "    40    -6.226162e+01     2.810735e-04\n",
      " * time: 4.772502899169922\n",
      "    41    -6.226164e+01     2.469467e-04\n",
      " * time: 4.8511598110198975\n",
      "    42    -6.226165e+01     1.828393e-04\n",
      " * time: 4.92579197883606\n",
      "    43    -6.226166e+01     1.500815e-04\n",
      " * time: 5.005486011505127\n",
      "    44    -6.226166e+01     1.050434e-04\n",
      " * time: 5.081151962280273\n",
      "    45    -6.226166e+01     7.036295e-05\n",
      " * time: 5.155470848083496\n",
      "    46    -6.226167e+01     4.621656e-05\n",
      " * time: 5.2307448387146\n",
      "    47    -6.226167e+01     5.350275e-05\n",
      " * time: 5.319872856140137\n",
      "    48    -6.226167e+01     3.413016e-05\n",
      " * time: 5.393190860748291\n",
      "    49    -6.226167e+01     2.279689e-05\n",
      " * time: 5.475724935531616\n",
      "    50    -6.226167e+01     1.789608e-05\n",
      " * time: 5.556049823760986\n",
      "    51    -6.226167e+01     1.692230e-05\n",
      " * time: 5.63133692741394\n",
      "    52    -6.226167e+01     1.209077e-05\n",
      " * time: 5.706936836242676\n",
      "    53    -6.226167e+01     1.219275e-05\n",
      " * time: 5.790341854095459\n",
      "    54    -6.226167e+01     7.663166e-06\n",
      " * time: 5.866604804992676\n",
      "    55    -6.226167e+01     5.302234e-06\n",
      " * time: 5.941107988357544\n",
      "    56    -6.226167e+01     3.804124e-06\n",
      " * time: 6.014131784439087\n",
      "    57    -6.226167e+01     2.308528e-06\n",
      " * time: 6.093524932861328\n"
     ]
    }
   ],
   "cell_type": "code",
   "source": [
    "scfres = direct_minimization(basis, tol=1e-5);"
   ],
   "metadata": {},
   "execution_count": 4
  },
  {
   "outputs": [
    {
     "output_type": "execute_result",
     "data": {
      "text/plain": "Energy breakdown:\n    Kinetic             25.7671079\n    AtomicLocal         -18.8557738\n    AtomicNonlocal      14.8522682\n    Ewald               -67.1831486\n    PspCorrection       -2.3569765\n    Hartree             4.8485391 \n    Xc                  -19.3336828\n\n    total               -62.261666461029\n"
     },
     "metadata": {},
     "execution_count": 5
    }
   ],
   "cell_type": "code",
   "source": [
    "scfres.energies"
   ],
   "metadata": {},
   "execution_count": 5
  }
 ],
 "nbformat_minor": 3,
 "metadata": {
  "language_info": {
   "file_extension": ".jl",
   "mimetype": "application/julia",
   "name": "julia",
   "version": "1.5.3"
  },
  "kernelspec": {
   "name": "julia-1.5",
   "display_name": "Julia 1.5.3",
   "language": "julia"
  }
 },
 "nbformat": 4
}
