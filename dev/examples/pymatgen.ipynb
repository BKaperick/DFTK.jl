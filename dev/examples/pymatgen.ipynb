{
 "cells": [
  {
   "cell_type": "markdown",
   "source": [
    "# Creating supercells with pymatgen\n",
    "\n",
    "The [Pymatgen](https://pymatgen.org/) python library allows to setup\n",
    "solid-state calculations using a flexible set of classes as well as an API\n",
    "to an online data base of structures. Its `Structure` and `Lattice`\n",
    "objects are directly supported by the DFTK `load_atoms` and `load_lattice`\n",
    "functions, such that DFTK may be readily used to run calculation on systems\n",
    "defined in pymatgen. Using the `pymatgen_structure` function a conversion\n",
    "from DFTK to pymatgen structures is also possible. In the following we\n",
    "use this to create a silicon supercell and find its LDA ground state\n",
    "using direct minimisation."
   ],
   "metadata": {}
  },
  {
   "cell_type": "markdown",
   "source": [
    "First we setup the silicon lattice in DFTK."
   ],
   "metadata": {}
  },
  {
   "outputs": [],
   "cell_type": "code",
   "source": [
    "using DFTK\n",
    "\n",
    "a = 10.263141334305942  # Lattice constant in Bohr\n",
    "lattice = a / 2 .* [[0 1 1.]; [1 0 1.]; [1 1 0.]]\n",
    "Si = ElementPsp(:Si, psp=load_psp(\"hgh/lda/Si-q4\"))\n",
    "atoms = [Si => [ones(3)/8, -ones(3)/8]];"
   ],
   "metadata": {},
   "execution_count": 1
  },
  {
   "cell_type": "markdown",
   "source": [
    "Next we make a `[2, 2, 2]` supercell using pymatgen"
   ],
   "metadata": {}
  },
  {
   "outputs": [],
   "cell_type": "code",
   "source": [
    "pystruct = pymatgen_structure(lattice, atoms)\n",
    "pystruct.make_supercell([2, 2, 2])\n",
    "lattice = load_lattice(pystruct)\n",
    "atoms = [Si => [s.frac_coords for s in pystruct.sites]];"
   ],
   "metadata": {},
   "execution_count": 2
  },
  {
   "cell_type": "markdown",
   "source": [
    "Setup an LDA model and discretize using\n",
    "a single kpoint and a small `Ecut` of 5 Hartree."
   ],
   "metadata": {}
  },
  {
   "outputs": [
    {
     "output_type": "execute_result",
     "data": {
      "text/plain": "PlaneWaveBasis (Ecut=5.0, 1 kpoints)"
     },
     "metadata": {},
     "execution_count": 3
    }
   ],
   "cell_type": "code",
   "source": [
    "model = model_LDA(lattice, atoms)\n",
    "basis = PlaneWaveBasis(model, 5, kgrid=(1, 1, 1))"
   ],
   "metadata": {},
   "execution_count": 3
  },
  {
   "cell_type": "markdown",
   "source": [
    "Find the ground state using direct minimisation (always using SCF is boring ...)"
   ],
   "metadata": {}
  },
  {
   "outputs": [
    {
     "name": "stdout",
     "output_type": "stream",
     "text": [
      "Iter     Function value   Gradient norm \n",
      "     0     1.115167e+02     1.668474e+00\n",
      " * time: 0.621945858001709\n",
      "     1     1.044781e+01     8.189736e-01\n",
      " * time: 2.141281843185425\n",
      "     2    -1.152285e+01     9.719055e-01\n",
      " * time: 2.741001844406128\n",
      "     3    -3.422990e+01     7.569619e-01\n",
      " * time: 3.6198580265045166\n",
      "     4    -4.745309e+01     5.159999e-01\n",
      " * time: 4.4741480350494385\n",
      "     5    -5.696734e+01     1.771263e-01\n",
      " * time: 5.396565914154053\n",
      "     6    -5.986522e+01     1.240210e-01\n",
      " * time: 5.969390869140625\n",
      "     7    -6.097332e+01     4.298980e-02\n",
      " * time: 6.5471508502960205\n",
      "     8    -6.140554e+01     6.104528e-02\n",
      " * time: 7.133201837539673\n",
      "     9    -6.168138e+01     3.213154e-02\n",
      " * time: 7.729043006896973\n",
      "    10    -6.190080e+01     2.284852e-02\n",
      " * time: 8.311364889144897\n",
      "    11    -6.204510e+01     1.875989e-02\n",
      " * time: 8.888195991516113\n",
      "    12    -6.210393e+01     1.456123e-02\n",
      " * time: 9.485594987869263\n",
      "    13    -6.215771e+01     9.898902e-03\n",
      " * time: 10.057114839553833\n",
      "    14    -6.218086e+01     9.289097e-03\n",
      " * time: 10.642019987106323\n",
      "    15    -6.219812e+01     8.096683e-03\n",
      " * time: 11.225015878677368\n",
      "    16    -6.220646e+01     6.827023e-03\n",
      " * time: 11.798462867736816\n",
      "    17    -6.221208e+01     5.400975e-03\n",
      " * time: 12.399595975875854\n",
      "    18    -6.221557e+01     5.661501e-03\n",
      " * time: 12.99317193031311\n",
      "    19    -6.221803e+01     4.967378e-03\n",
      " * time: 13.582120895385742\n",
      "    20    -6.222018e+01     4.461637e-03\n",
      " * time: 14.161326885223389\n",
      "    21    -6.222263e+01     4.680785e-03\n",
      " * time: 14.7571280002594\n",
      "    22    -6.222583e+01     5.641630e-03\n",
      " * time: 15.330643892288208\n",
      "    23    -6.223058e+01     5.616476e-03\n",
      " * time: 15.919181823730469\n",
      "    24    -6.223682e+01     5.590074e-03\n",
      " * time: 16.49497890472412\n",
      "    25    -6.224385e+01     5.952370e-03\n",
      " * time: 17.081251859664917\n",
      "    26    -6.225121e+01     5.379121e-03\n",
      " * time: 17.65818190574646\n",
      "    27    -6.225581e+01     3.731668e-03\n",
      " * time: 18.239630937576294\n",
      "    28    -6.225835e+01     2.571480e-03\n",
      " * time: 18.83544087409973\n",
      "    29    -6.225959e+01     2.579074e-03\n",
      " * time: 19.412662982940674\n",
      "    30    -6.226034e+01     1.519576e-03\n",
      " * time: 19.99187994003296\n",
      "    31    -6.226079e+01     1.107777e-03\n",
      " * time: 20.590988874435425\n",
      "    32    -6.226107e+01     8.681572e-04\n",
      " * time: 21.151633977890015\n",
      "    33    -6.226127e+01     7.517367e-04\n",
      " * time: 21.723482847213745\n",
      "    34    -6.226144e+01     7.253186e-04\n",
      " * time: 22.310883045196533\n",
      "    35    -6.226155e+01     6.841521e-04\n",
      " * time: 22.889699935913086\n",
      "    36    -6.226161e+01     5.025619e-04\n",
      " * time: 23.477591037750244\n",
      "    37    -6.226164e+01     3.011753e-04\n",
      " * time: 24.063644886016846\n",
      "    38    -6.226165e+01     1.829566e-04\n",
      " * time: 24.695190906524658\n",
      "    39    -6.226166e+01     1.493039e-04\n",
      " * time: 25.29523491859436\n",
      "    40    -6.226166e+01     1.122661e-04\n",
      " * time: 25.895509958267212\n",
      "    41    -6.226166e+01     8.703969e-05\n",
      " * time: 26.47153902053833\n",
      "    42    -6.226166e+01     6.161053e-05\n",
      " * time: 27.084630966186523\n",
      "    43    -6.226167e+01     5.854496e-05\n",
      " * time: 27.679352045059204\n",
      "    44    -6.226167e+01     5.644596e-05\n",
      " * time: 28.257673978805542\n",
      "    45    -6.226167e+01     4.363303e-05\n",
      " * time: 28.835408926010132\n",
      "    46    -6.226167e+01     3.198308e-05\n",
      " * time: 29.424129009246826\n",
      "    47    -6.226167e+01     2.142625e-05\n",
      " * time: 30.016299962997437\n",
      "    48    -6.226167e+01     1.727826e-05\n",
      " * time: 30.58695888519287\n",
      "    49    -6.226167e+01     1.174563e-05\n",
      " * time: 31.1616849899292\n",
      "    50    -6.226167e+01     8.292675e-06\n",
      " * time: 31.749048948287964\n",
      "    51    -6.226167e+01     6.035066e-06\n",
      " * time: 32.33721685409546\n",
      "    52    -6.226167e+01     4.928248e-06\n",
      " * time: 32.9266619682312\n",
      "    53    -6.226167e+01     3.903248e-06\n",
      " * time: 33.51580595970154\n"
     ]
    }
   ],
   "cell_type": "code",
   "source": [
    "scfres = direct_minimization(basis, tol=1e-5);"
   ],
   "metadata": {},
   "execution_count": 4
  },
  {
   "outputs": [
    {
     "output_type": "execute_result",
     "data": {
      "text/plain": "Energy breakdown:\n    Kinetic             25.7671085\n    AtomicLocal         -18.8557719\n    AtomicNonlocal      14.8522657\n    Ewald               -67.1831486\n    PspCorrection       -2.3569765\n    Hartree             4.8485391 \n    Xc                  -19.3336828\n\n    total               -62.261666457648\n"
     },
     "metadata": {},
     "execution_count": 5
    }
   ],
   "cell_type": "code",
   "source": [
    "scfres.energies"
   ],
   "metadata": {},
   "execution_count": 5
  }
 ],
 "nbformat_minor": 3,
 "metadata": {
  "language_info": {
   "file_extension": ".jl",
   "mimetype": "application/julia",
   "name": "julia",
   "version": "1.6.1"
  },
  "kernelspec": {
   "name": "julia-1.6",
   "display_name": "Julia 1.6.1",
   "language": "julia"
  }
 },
 "nbformat": 4
}
