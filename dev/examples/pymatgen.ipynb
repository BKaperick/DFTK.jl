{
 "cells": [
  {
   "cell_type": "markdown",
   "source": [
    "# Creating supercells with pymatgen\n",
    "\n",
    "The [Pymatgen](https://pymatgen.org/) python library allows to setup\n",
    "solid-state calculations using a flexible set of classes as well as an API\n",
    "to an online data base of structures. Its `Structure` and `Lattice`\n",
    "objects are directly supported by the DFTK `load_atoms` and `load_lattice`\n",
    "functions, such that DFTK may be readily used to run calculation on systems\n",
    "defined in pymatgen. Using the `pymatgen_structure` function a conversion\n",
    "from DFTK to pymatgen structures is also possible. In the following we\n",
    "use this to create a silicon supercell and find its LDA ground state\n",
    "using direct minimisation."
   ],
   "metadata": {}
  },
  {
   "cell_type": "markdown",
   "source": [
    "First we setup the silicon lattice in DFTK."
   ],
   "metadata": {}
  },
  {
   "outputs": [],
   "cell_type": "code",
   "source": [
    "using DFTK\n",
    "\n",
    "a = 10.263141334305942  # Lattice constant in Bohr\n",
    "lattice = a / 2 .* [[0 1 1.]; [1 0 1.]; [1 1 0.]]\n",
    "Si = ElementPsp(:Si, psp=load_psp(\"hgh/lda/Si-q4\"))\n",
    "atoms = [Si => [ones(3)/8, -ones(3)/8]];"
   ],
   "metadata": {},
   "execution_count": 1
  },
  {
   "cell_type": "markdown",
   "source": [
    "Next we make a `[2, 2, 2]` supercell using pymatgen"
   ],
   "metadata": {}
  },
  {
   "outputs": [],
   "cell_type": "code",
   "source": [
    "pystruct = pymatgen_structure(lattice, atoms)\n",
    "pystruct.make_supercell([2, 2, 2])\n",
    "lattice = load_lattice(pystruct)\n",
    "atoms = [Si => [s.frac_coords for s in pystruct.sites]];"
   ],
   "metadata": {},
   "execution_count": 2
  },
  {
   "cell_type": "markdown",
   "source": [
    "Setup an LDA model and discretize using\n",
    "a single kpoint and a small `Ecut` of 5 Hartree."
   ],
   "metadata": {}
  },
  {
   "outputs": [
    {
     "output_type": "execute_result",
     "data": {
      "text/plain": "PlaneWaveBasis (Ecut=5.0, 1 kpoints)"
     },
     "metadata": {},
     "execution_count": 3
    }
   ],
   "cell_type": "code",
   "source": [
    "model = model_LDA(lattice, atoms)\n",
    "basis = PlaneWaveBasis(model, 5, kgrid=(1, 1, 1))"
   ],
   "metadata": {},
   "execution_count": 3
  },
  {
   "cell_type": "markdown",
   "source": [
    "Find the ground state using direct minimisation (always using SCF is boring ...)"
   ],
   "metadata": {}
  },
  {
   "outputs": [
    {
     "name": "stdout",
     "output_type": "stream",
     "text": [
      "Iter     Function value   Gradient norm \n",
      "     0     1.112969e+02     1.556956e+00\n",
      " * time: 0.09460282325744629\n",
      "     1     1.031523e+01     1.013987e+00\n",
      " * time: 1.0091040134429932\n",
      "     2    -1.209044e+01     1.075443e+00\n",
      " * time: 1.1381418704986572\n",
      "     3    -3.415203e+01     7.893784e-01\n",
      " * time: 1.3004729747772217\n",
      "     4    -4.760579e+01     5.894924e-01\n",
      " * time: 1.4507849216461182\n",
      "     5    -5.715566e+01     2.036747e-01\n",
      " * time: 1.603888988494873\n",
      "     6    -6.000028e+01     1.156797e-01\n",
      " * time: 1.737717866897583\n",
      "     7    -6.101825e+01     5.613902e-02\n",
      " * time: 1.8471088409423828\n",
      "     8    -6.140289e+01     6.862915e-02\n",
      " * time: 1.9637088775634766\n",
      "     9    -6.168073e+01     2.889919e-02\n",
      " * time: 2.0815789699554443\n",
      "    10    -6.188383e+01     2.307389e-02\n",
      " * time: 2.192368984222412\n",
      "    11    -6.202688e+01     1.799564e-02\n",
      " * time: 2.3099489212036133\n",
      "    12    -6.207925e+01     1.458342e-02\n",
      " * time: 2.4185409545898438\n",
      "    13    -6.213440e+01     1.326578e-02\n",
      " * time: 2.5353989601135254\n",
      "    14    -6.215708e+01     1.114902e-02\n",
      " * time: 2.654160976409912\n",
      "    15    -6.217770e+01     8.822868e-03\n",
      " * time: 2.7629778385162354\n",
      "    16    -6.218894e+01     7.355902e-03\n",
      " * time: 2.883944034576416\n",
      "    17    -6.219688e+01     5.425717e-03\n",
      " * time: 3.0143368244171143\n",
      "    18    -6.220248e+01     4.656313e-03\n",
      " * time: 3.135903835296631\n",
      "    19    -6.220636e+01     3.624508e-03\n",
      " * time: 3.2534878253936768\n",
      "    20    -6.220931e+01     3.944596e-03\n",
      " * time: 3.363698959350586\n",
      "    21    -6.221175e+01     3.530379e-03\n",
      " * time: 3.4812448024749756\n",
      "    22    -6.221387e+01     4.280523e-03\n",
      " * time: 3.59275484085083\n",
      "    23    -6.221577e+01     4.286602e-03\n",
      " * time: 3.7102890014648438\n",
      "    24    -6.221763e+01     4.476647e-03\n",
      " * time: 3.828166961669922\n",
      "    25    -6.221988e+01     5.107791e-03\n",
      " * time: 3.9383528232574463\n",
      "    26    -6.222334e+01     6.006957e-03\n",
      " * time: 4.055889844894409\n",
      "    27    -6.222806e+01     6.087693e-03\n",
      " * time: 4.175072908401489\n",
      "    28    -6.223403e+01     7.025533e-03\n",
      " * time: 4.2849647998809814\n",
      "    29    -6.224315e+01     5.877564e-03\n",
      " * time: 4.401988983154297\n",
      "    30    -6.224943e+01     4.578740e-03\n",
      " * time: 4.51106595993042\n",
      "    31    -6.225370e+01     4.193320e-03\n",
      " * time: 4.627434968948364\n",
      "    32    -6.225675e+01     2.698339e-03\n",
      " * time: 4.742940902709961\n",
      "    33    -6.225882e+01     2.359790e-03\n",
      " * time: 4.852214813232422\n",
      "    34    -6.226017e+01     1.762604e-03\n",
      " * time: 4.967504024505615\n",
      "    35    -6.226090e+01     1.381421e-03\n",
      " * time: 5.075883865356445\n",
      "    36    -6.226125e+01     1.173164e-03\n",
      " * time: 5.193145990371704\n",
      "    37    -6.226141e+01     7.333322e-04\n",
      " * time: 5.30949592590332\n",
      "    38    -6.226149e+01     5.858558e-04\n",
      " * time: 5.419589996337891\n",
      "    39    -6.226155e+01     4.308839e-04\n",
      " * time: 5.536629915237427\n",
      "    40    -6.226159e+01     3.781076e-04\n",
      " * time: 5.654392957687378\n",
      "    41    -6.226162e+01     2.868458e-04\n",
      " * time: 5.764084815979004\n",
      "    42    -6.226164e+01     2.378600e-04\n",
      " * time: 5.885708808898926\n",
      "    43    -6.226165e+01     2.171058e-04\n",
      " * time: 6.01435399055481\n",
      "    44    -6.226166e+01     1.514665e-04\n",
      " * time: 6.137596845626831\n",
      "    45    -6.226166e+01     1.261087e-04\n",
      " * time: 6.256174802780151\n",
      "    46    -6.226166e+01     9.746753e-05\n",
      " * time: 6.363740921020508\n",
      "    47    -6.226166e+01     6.009361e-05\n",
      " * time: 6.478614807128906\n",
      "    48    -6.226167e+01     4.588504e-05\n",
      " * time: 6.588040828704834\n",
      "    49    -6.226167e+01     3.534852e-05\n",
      " * time: 6.704034805297852\n",
      "    50    -6.226167e+01     2.300746e-05\n",
      " * time: 6.8203840255737305\n",
      "    51    -6.226167e+01     2.171893e-05\n",
      " * time: 6.9293129444122314\n",
      "    52    -6.226167e+01     1.733844e-05\n",
      " * time: 7.04507303237915\n",
      "    53    -6.226167e+01     1.729902e-05\n",
      " * time: 7.160275936126709\n",
      "    54    -6.226167e+01     1.173857e-05\n",
      " * time: 7.268960952758789\n",
      "    55    -6.226167e+01     8.982624e-06\n",
      " * time: 7.385149002075195\n",
      "    56    -6.226167e+01     7.239189e-06\n",
      " * time: 7.4928460121154785\n",
      "    57    -6.226167e+01     4.975963e-06\n",
      " * time: 7.608304023742676\n",
      "    58    -6.226167e+01     3.290580e-06\n",
      " * time: 7.7226409912109375\n",
      "    59    -6.226167e+01     2.962099e-06\n",
      " * time: 7.8303868770599365\n"
     ]
    }
   ],
   "cell_type": "code",
   "source": [
    "scfres = direct_minimization(basis, tol=1e-5);"
   ],
   "metadata": {},
   "execution_count": 4
  },
  {
   "outputs": [
    {
     "output_type": "execute_result",
     "data": {
      "text/plain": "Energy breakdown:\n    Kinetic             25.7671077\n    AtomicLocal         -18.8557700\n    AtomicNonlocal      14.8522648\n    Ewald               -67.1831486\n    PspCorrection       -2.3569765\n    Hartree             4.8485390 \n    Xc                  -19.3336828\n\n    total               -62.261666460377\n"
     },
     "metadata": {},
     "execution_count": 5
    }
   ],
   "cell_type": "code",
   "source": [
    "scfres.energies"
   ],
   "metadata": {},
   "execution_count": 5
  }
 ],
 "nbformat_minor": 3,
 "metadata": {
  "language_info": {
   "file_extension": ".jl",
   "mimetype": "application/julia",
   "name": "julia",
   "version": "1.3.1"
  },
  "kernelspec": {
   "name": "julia-1.3",
   "display_name": "Julia 1.3.1",
   "language": "julia"
  }
 },
 "nbformat": 4
}
