{
 "cells": [
  {
   "cell_type": "markdown",
   "source": [
    "# Creating supercells with pymatgen\n",
    "\n",
    "The [Pymatgen](https://pymatgen.org/) python library allows to setup\n",
    "solid-state calculations using a flexible set of classes as well as an API\n",
    "to an online data base of structures. Its `Structure` and `Lattice`\n",
    "objects are directly supported by the DFTK `load_atoms` and `load_lattice`\n",
    "functions, such that DFTK may be readily used to run calculation on systems\n",
    "defined in pymatgen. Using the `pymatgen_structure` function a conversion\n",
    "from DFTK to pymatgen structures is also possible. In the following we\n",
    "use this to create a silicon supercell and find its LDA ground state\n",
    "using direct minimisation."
   ],
   "metadata": {}
  },
  {
   "cell_type": "markdown",
   "source": [
    "First we setup the silicon lattice in DFTK."
   ],
   "metadata": {}
  },
  {
   "outputs": [],
   "cell_type": "code",
   "source": [
    "using DFTK\n",
    "\n",
    "a = 10.263141334305942  # Lattice constant in Bohr\n",
    "lattice = a / 2 .* [[0 1 1.]; [1 0 1.]; [1 1 0.]]\n",
    "Si = ElementPsp(:Si, psp=load_psp(\"hgh/lda/Si-q4\"))\n",
    "atoms = [Si => [ones(3)/8, -ones(3)/8]];"
   ],
   "metadata": {},
   "execution_count": 1
  },
  {
   "cell_type": "markdown",
   "source": [
    "Next we make a `[2, 2, 2]` supercell using pymatgen"
   ],
   "metadata": {}
  },
  {
   "outputs": [],
   "cell_type": "code",
   "source": [
    "pystruct = pymatgen_structure(lattice, atoms)\n",
    "pystruct.make_supercell([2, 2, 2])\n",
    "lattice = load_lattice(pystruct)\n",
    "atoms = [Si => [s.frac_coords for s in pystruct.sites]];"
   ],
   "metadata": {},
   "execution_count": 2
  },
  {
   "cell_type": "markdown",
   "source": [
    "Setup an LDA model and discretize using\n",
    "a single kpoint and a small `Ecut` of 5 Hartree.\n",
    "Notice that `PlaneWaveBasis` defaults to just using the ``Γ``-point\n",
    "if no ``k``-point options are provided."
   ],
   "metadata": {}
  },
  {
   "outputs": [
    {
     "name": "stdout",
     "output_type": "stream",
     "text": [
      "Iter     Function value   Gradient norm \n",
      "     0     1.123490e+02     1.817351e+00\n",
      " * time: 0.08766603469848633\n",
      "     1     1.176138e+01     1.026691e+00\n",
      " * time: 0.8908669948577881\n",
      "     2    -1.138019e+01     1.220392e+00\n",
      " * time: 1.0475349426269531\n",
      "     3    -3.363751e+01     8.682890e-01\n",
      " * time: 1.189640998840332\n",
      "     4    -4.726716e+01     5.896484e-01\n",
      " * time: 1.3494930267333984\n",
      "     5    -5.672952e+01     2.320052e-01\n",
      " * time: 1.5007739067077637\n",
      "     6    -5.964552e+01     1.294336e-01\n",
      " * time: 1.6098220348358154\n",
      "     7    -6.080857e+01     5.464929e-02\n",
      " * time: 1.7257938385009766\n",
      "     8    -6.126068e+01     6.420213e-02\n",
      " * time: 1.8339319229125977\n",
      "     9    -6.153738e+01     4.473067e-02\n",
      " * time: 1.9499969482421875\n",
      "    10    -6.175111e+01     2.982199e-02\n",
      " * time: 2.059558868408203\n",
      "    11    -6.190782e+01     1.931749e-02\n",
      " * time: 2.176745891571045\n",
      "    12    -6.198426e+01     1.795725e-02\n",
      " * time: 2.286149024963379\n",
      "    13    -6.205688e+01     1.632705e-02\n",
      " * time: 2.4008560180664062\n",
      "    14    -6.209902e+01     1.295314e-02\n",
      " * time: 2.508136034011841\n",
      "    15    -6.213526e+01     1.317888e-02\n",
      " * time: 2.6229019165039062\n",
      "    16    -6.215394e+01     1.349107e-02\n",
      " * time: 2.7312328815460205\n",
      "    17    -6.216863e+01     1.139116e-02\n",
      " * time: 2.8455710411071777\n",
      "    18    -6.217925e+01     8.118525e-03\n",
      " * time: 2.9544148445129395\n",
      "    19    -6.218773e+01     7.856326e-03\n",
      " * time: 3.069321870803833\n",
      "    20    -6.219545e+01     7.991285e-03\n",
      " * time: 3.1781229972839355\n",
      "    21    -6.220344e+01     6.928531e-03\n",
      " * time: 3.2940659523010254\n",
      "    22    -6.221124e+01     7.715135e-03\n",
      " * time: 3.4011058807373047\n",
      "    23    -6.221887e+01     7.827011e-03\n",
      " * time: 3.5334458351135254\n",
      "    24    -6.222630e+01     6.944562e-03\n",
      " * time: 3.6470930576324463\n",
      "    25    -6.223373e+01     6.300380e-03\n",
      " * time: 3.761849880218506\n",
      "    26    -6.224079e+01     5.901091e-03\n",
      " * time: 3.8700358867645264\n",
      "    27    -6.224644e+01     4.706467e-03\n",
      " * time: 3.9855918884277344\n",
      "    28    -6.225100e+01     4.241744e-03\n",
      " * time: 4.095056056976318\n",
      "    29    -6.225431e+01     4.690686e-03\n",
      " * time: 4.204071044921875\n",
      "    30    -6.225671e+01     3.909582e-03\n",
      " * time: 4.318173885345459\n",
      "    31    -6.225839e+01     3.721209e-03\n",
      " * time: 4.426175832748413\n",
      "    32    -6.225957e+01     2.537792e-03\n",
      " * time: 4.541741847991943\n",
      "    33    -6.226042e+01     2.258322e-03\n",
      " * time: 4.650606870651245\n",
      "    34    -6.226102e+01     1.465633e-03\n",
      " * time: 4.766933917999268\n",
      "    35    -6.226136e+01     9.180472e-04\n",
      " * time: 4.875043869018555\n",
      "    36    -6.226152e+01     6.356490e-04\n",
      " * time: 4.991551876068115\n",
      "    37    -6.226158e+01     4.919391e-04\n",
      " * time: 5.099649906158447\n",
      "    38    -6.226161e+01     3.572277e-04\n",
      " * time: 5.215642929077148\n",
      "    39    -6.226163e+01     2.618583e-04\n",
      " * time: 5.32410192489624\n",
      "    40    -6.226164e+01     2.103955e-04\n",
      " * time: 5.43883490562439\n",
      "    41    -6.226165e+01     1.835109e-04\n",
      " * time: 5.547169923782349\n",
      "    42    -6.226166e+01     1.641002e-04\n",
      " * time: 5.661453008651733\n",
      "    43    -6.226166e+01     1.391339e-04\n",
      " * time: 5.770349979400635\n",
      "    44    -6.226166e+01     1.099351e-04\n",
      " * time: 5.885313987731934\n",
      "    45    -6.226166e+01     8.772379e-05\n",
      " * time: 5.9937050342559814\n",
      "    46    -6.226167e+01     5.562765e-05\n",
      " * time: 6.110728025436401\n",
      "    47    -6.226167e+01     3.577007e-05\n",
      " * time: 6.226176977157593\n",
      "    48    -6.226167e+01     1.926867e-05\n",
      " * time: 6.354930877685547\n",
      "    49    -6.226167e+01     1.709463e-05\n",
      " * time: 6.464025020599365\n",
      "    50    -6.226167e+01     1.337095e-05\n",
      " * time: 6.580859899520874\n",
      "    51    -6.226167e+01     1.313263e-05\n",
      " * time: 6.689867973327637\n",
      "    52    -6.226167e+01     9.480678e-06\n",
      " * time: 6.804918050765991\n",
      "    53    -6.226167e+01     7.747547e-06\n",
      " * time: 6.911491870880127\n",
      "    54    -6.226167e+01     5.976374e-06\n",
      " * time: 7.025684833526611\n",
      "    55    -6.226167e+01     4.777008e-06\n",
      " * time: 7.1337339878082275\n",
      "    56    -6.226167e+01     3.926459e-06\n",
      " * time: 7.2476890087127686\n",
      "    57    -6.226167e+01     2.757125e-06\n",
      " * time: 7.355008840560913\n",
      "    58    -6.226167e+01     2.377401e-06\n",
      " * time: 7.468688011169434\n"
     ]
    }
   ],
   "cell_type": "code",
   "source": [
    "model = model_LDA(lattice, atoms)\n",
    "basis = PlaneWaveBasis(model, 5)\n",
    "\n",
    "# Find the ground state using direct minimisation (always using SCF is boring ...)\n",
    "scfres = direct_minimization(basis, tol=1e-5);"
   ],
   "metadata": {},
   "execution_count": 3
  },
  {
   "outputs": [
    {
     "output_type": "execute_result",
     "data": {
      "text/plain": "Energy breakdown:\n    Kinetic             25.7671065\n    AtomicLocal         -18.8557668\n    AtomicNonlocal      14.8522641\n    Ewald               -67.1831486\n    PspCorrection       -2.3569765\n    Hartree             4.8485369 \n    Xc                  -19.3336819\n\n    total               -62.261666461764\n"
     },
     "metadata": {},
     "execution_count": 4
    }
   ],
   "cell_type": "code",
   "source": [
    "scfres.energies"
   ],
   "metadata": {},
   "execution_count": 4
  }
 ],
 "nbformat_minor": 3,
 "metadata": {
  "language_info": {
   "file_extension": ".jl",
   "mimetype": "application/julia",
   "name": "julia",
   "version": "1.3.1"
  },
  "kernelspec": {
   "name": "julia-1.3",
   "display_name": "Julia 1.3.1",
   "language": "julia"
  }
 },
 "nbformat": 4
}
