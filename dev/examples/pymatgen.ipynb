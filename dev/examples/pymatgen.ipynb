{
 "cells": [
  {
   "cell_type": "markdown",
   "source": [
    "# Creating supercells with pymatgen\n",
    "\n",
    "The [Pymatgen](https://pymatgen.org/) python library allows to setup\n",
    "solid-state calculations using a flexible set of classes as well as an API\n",
    "to an online data base of structures. Its `Structure` and `Lattice`\n",
    "objects are directly supported by the DFTK `load_atoms` and `load_lattice`\n",
    "functions, such that DFTK may be readily used to run calculation on systems\n",
    "defined in pymatgen. Using the `pymatgen_structure` function a conversion\n",
    "from DFTK to pymatgen structures is also possible. In the following we\n",
    "use this to create a silicon supercell and find its LDA ground state\n",
    "using direct minimisation."
   ],
   "metadata": {}
  },
  {
   "cell_type": "markdown",
   "source": [
    "First we setup the silicon lattice in DFTK."
   ],
   "metadata": {}
  },
  {
   "outputs": [],
   "cell_type": "code",
   "source": [
    "using DFTK\n",
    "\n",
    "a = 10.263141334305942  # Lattice constant in Bohr\n",
    "lattice = a / 2 .* [[0 1 1.]; [1 0 1.]; [1 1 0.]]\n",
    "Si = ElementPsp(:Si, psp=load_psp(\"hgh/lda/Si-q4\"))\n",
    "atoms = [Si => [ones(3)/8, -ones(3)/8]];"
   ],
   "metadata": {},
   "execution_count": 1
  },
  {
   "cell_type": "markdown",
   "source": [
    "Next we make a `[2, 2, 2]` supercell using pymatgen"
   ],
   "metadata": {}
  },
  {
   "outputs": [],
   "cell_type": "code",
   "source": [
    "pystruct = pymatgen_structure(lattice, atoms)\n",
    "pystruct.make_supercell([2, 2, 2])\n",
    "lattice = load_lattice(pystruct)\n",
    "atoms = [Si => [s.frac_coords for s in pystruct.sites]];"
   ],
   "metadata": {},
   "execution_count": 2
  },
  {
   "cell_type": "markdown",
   "source": [
    "Setup an LDA model and discretize using\n",
    "a single kpoint and a small `Ecut` of 5 Hartree.\n",
    "Notice that `PlaneWaveBasis` defaults to just using the ``Γ``-point\n",
    "if no ``k``-point options are provided."
   ],
   "metadata": {}
  },
  {
   "outputs": [
    {
     "name": "stdout",
     "output_type": "stream",
     "text": [
      "Iter     Function value   Gradient norm \n",
      "     0     1.125446e+02     1.540455e+00\n",
      " * time: 0.0912621021270752\n",
      "     1     1.139582e+01     9.249075e-01\n",
      " * time: 0.9670670032501221\n",
      "     2    -1.212056e+01     1.061574e+00\n",
      " * time: 1.0860710144042969\n",
      "     3    -3.389027e+01     8.668200e-01\n",
      " * time: 1.2660911083221436\n",
      "     4    -4.760557e+01     6.084612e-01\n",
      " * time: 1.4231090545654297\n",
      "     5    -5.688078e+01     2.345721e-01\n",
      " * time: 1.567305088043213\n",
      "     6    -5.978475e+01     1.394801e-01\n",
      " * time: 1.687053918838501\n",
      "     7    -6.088967e+01     5.188590e-02\n",
      " * time: 1.8010640144348145\n",
      "     8    -6.128716e+01     7.806815e-02\n",
      " * time: 1.9202580451965332\n",
      "     9    -6.159980e+01     3.492794e-02\n",
      " * time: 2.0323619842529297\n",
      "    10    -6.182671e+01     3.126537e-02\n",
      " * time: 2.152646064758301\n",
      "    11    -6.200938e+01     2.452424e-02\n",
      " * time: 2.2649600505828857\n",
      "    12    -6.207367e+01     1.745668e-02\n",
      " * time: 2.3843190670013428\n",
      "    13    -6.213596e+01     1.557331e-02\n",
      " * time: 2.4964330196380615\n",
      "    14    -6.216114e+01     1.523565e-02\n",
      " * time: 2.616563081741333\n",
      "    15    -6.218449e+01     1.127346e-02\n",
      " * time: 2.728908061981201\n",
      "    16    -6.219774e+01     9.196530e-03\n",
      " * time: 2.8481950759887695\n",
      "    17    -6.220522e+01     8.692876e-03\n",
      " * time: 2.9602670669555664\n",
      "    18    -6.221196e+01     9.061153e-03\n",
      " * time: 3.0797879695892334\n",
      "    19    -6.221684e+01     8.597889e-03\n",
      " * time: 3.1924710273742676\n",
      "    20    -6.222185e+01     7.758599e-03\n",
      " * time: 3.31335711479187\n",
      "    21    -6.222702e+01     8.100033e-03\n",
      " * time: 3.4265880584716797\n",
      "    22    -6.223273e+01     8.263681e-03\n",
      " * time: 3.5463409423828125\n",
      "    23    -6.223910e+01     6.813555e-03\n",
      " * time: 3.659630060195923\n",
      "    24    -6.224567e+01     5.638168e-03\n",
      " * time: 3.779186964035034\n",
      "    25    -6.225138e+01     4.665565e-03\n",
      " * time: 3.891909122467041\n",
      "    26    -6.225554e+01     4.015024e-03\n",
      " * time: 4.0106000900268555\n",
      "    27    -6.225807e+01     2.432929e-03\n",
      " * time: 4.123342990875244\n",
      "    28    -6.225943e+01     2.279483e-03\n",
      " * time: 4.242748022079468\n",
      "    29    -6.226021e+01     1.928559e-03\n",
      " * time: 4.35480809211731\n",
      "    30    -6.226069e+01     1.695044e-03\n",
      " * time: 4.473679065704346\n",
      "    31    -6.226101e+01     1.272535e-03\n",
      " * time: 4.585303068161011\n",
      "    32    -6.226125e+01     9.605806e-04\n",
      " * time: 4.704071998596191\n",
      "    33    -6.226142e+01     8.455390e-04\n",
      " * time: 4.816252946853638\n",
      "    34    -6.226154e+01     6.048424e-04\n",
      " * time: 4.9376959800720215\n",
      "    35    -6.226161e+01     4.278516e-04\n",
      " * time: 5.051980018615723\n",
      "    36    -6.226164e+01     3.289788e-04\n",
      " * time: 5.172723054885864\n",
      "    37    -6.226165e+01     2.044831e-04\n",
      " * time: 5.294102907180786\n",
      "    38    -6.226166e+01     1.572143e-04\n",
      " * time: 5.408311128616333\n",
      "    39    -6.226166e+01     1.153381e-04\n",
      " * time: 5.529802083969116\n",
      "    40    -6.226166e+01     8.879416e-05\n",
      " * time: 5.644762992858887\n",
      "    41    -6.226166e+01     7.216445e-05\n",
      " * time: 5.763370037078857\n",
      "    42    -6.226167e+01     7.019155e-05\n",
      " * time: 5.875296115875244\n",
      "    43    -6.226167e+01     6.092276e-05\n",
      " * time: 5.99412202835083\n",
      "    44    -6.226167e+01     4.219726e-05\n",
      " * time: 6.10483193397522\n",
      "    45    -6.226167e+01     2.784954e-05\n",
      " * time: 6.223401069641113\n",
      "    46    -6.226167e+01     2.271688e-05\n",
      " * time: 6.335416078567505\n",
      "    47    -6.226167e+01     1.429727e-05\n",
      " * time: 6.455783128738403\n",
      "    48    -6.226167e+01     1.272440e-05\n",
      " * time: 6.5686421394348145\n",
      "    49    -6.226167e+01     1.157704e-05\n",
      " * time: 6.690021991729736\n",
      "    50    -6.226167e+01     6.531143e-06\n",
      " * time: 6.80309796333313\n",
      "    51    -6.226167e+01     4.966219e-06\n",
      " * time: 6.941237926483154\n",
      "    52    -6.226167e+01     4.211717e-06\n",
      " * time: 7.053700923919678\n",
      "    53    -6.226167e+01     3.421849e-06\n",
      " * time: 7.173241138458252\n",
      "    54    -6.226167e+01     2.570169e-06\n",
      " * time: 7.28521203994751\n",
      "    55    -6.226167e+01     2.002676e-06\n",
      " * time: 7.404364109039307\n"
     ]
    }
   ],
   "cell_type": "code",
   "source": [
    "model = model_LDA(lattice, atoms)\n",
    "basis = PlaneWaveBasis(model, 5)\n",
    "\n",
    "# Find the ground state using direct minimisation (always using SCF is boring ...)\n",
    "scfres = direct_minimization(basis, tol=1e-5);"
   ],
   "metadata": {},
   "execution_count": 3
  },
  {
   "outputs": [
    {
     "output_type": "execute_result",
     "data": {
      "text/plain": "Energy breakdown:\n    Kinetic             25.7671069\n    AtomicLocal         -18.8557667\n    AtomicNonlocal      14.8522635\n    Ewald               -67.1831486\n    PspCorrection       -2.3569765\n    Hartree             4.8485370 \n    Xc                  -19.3336820\n\n    total               -62.261666461615\n"
     },
     "metadata": {},
     "execution_count": 4
    }
   ],
   "cell_type": "code",
   "source": [
    "scfres.energies"
   ],
   "metadata": {},
   "execution_count": 4
  }
 ],
 "nbformat_minor": 3,
 "metadata": {
  "language_info": {
   "file_extension": ".jl",
   "mimetype": "application/julia",
   "name": "julia",
   "version": "1.3.1"
  },
  "kernelspec": {
   "name": "julia-1.3",
   "display_name": "Julia 1.3.1",
   "language": "julia"
  }
 },
 "nbformat": 4
}
