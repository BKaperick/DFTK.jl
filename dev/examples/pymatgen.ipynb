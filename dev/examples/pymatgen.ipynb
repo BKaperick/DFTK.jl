{
 "cells": [
  {
   "cell_type": "markdown",
   "source": [
    "# Creating supercells with pymatgen\n",
    "\n",
    "The [Pymatgen](https://pymatgen.org/) python library allows to setup\n",
    "solid-state calculations using a flexible set of classes as well as an API\n",
    "to an online data base of structures. Its `Structure` and `Lattice`\n",
    "objects are directly supported by the DFTK `load_atoms` and `load_lattice`\n",
    "functions, such that DFTK may be readily used to run calculation on systems\n",
    "defined in pymatgen. Using the `pymatgen_structure` function a conversion\n",
    "from DFTK to pymatgen structures is also possible. In the following we\n",
    "use this to create a silicon supercell and find its LDA ground state\n",
    "using direct minimisation."
   ],
   "metadata": {}
  },
  {
   "cell_type": "markdown",
   "source": [
    "First we setup the silicon lattice in DFTK."
   ],
   "metadata": {}
  },
  {
   "outputs": [],
   "cell_type": "code",
   "source": [
    "using DFTK\n",
    "\n",
    "a = 10.263141334305942  # Lattice constant in Bohr\n",
    "lattice = a / 2 .* [[0 1 1.]; [1 0 1.]; [1 1 0.]]\n",
    "Si = ElementPsp(:Si, psp=load_psp(\"hgh/lda/Si-q4\"))\n",
    "atoms = [Si => [ones(3)/8, -ones(3)/8]];"
   ],
   "metadata": {},
   "execution_count": 1
  },
  {
   "cell_type": "markdown",
   "source": [
    "Next we make a `[2, 2, 2]` supercell using pymatgen"
   ],
   "metadata": {}
  },
  {
   "outputs": [],
   "cell_type": "code",
   "source": [
    "pystruct = pymatgen_structure(lattice, atoms)\n",
    "pystruct.make_supercell([2, 2, 2])\n",
    "lattice = load_lattice(pystruct)\n",
    "atoms = [Si => [s.frac_coords for s in pystruct.sites]];"
   ],
   "metadata": {},
   "execution_count": 2
  },
  {
   "cell_type": "markdown",
   "source": [
    "Setup an LDA model and discretize using\n",
    "a single kpoint and a small `Ecut` of 5 Hartree."
   ],
   "metadata": {}
  },
  {
   "outputs": [
    {
     "output_type": "execute_result",
     "data": {
      "text/plain": "PlaneWaveBasis (Ecut=5.0, 1 kpoints)"
     },
     "metadata": {},
     "execution_count": 3
    }
   ],
   "cell_type": "code",
   "source": [
    "model = model_LDA(lattice, atoms)\n",
    "basis = PlaneWaveBasis(model, 5, kgrid=(1, 1, 1))"
   ],
   "metadata": {},
   "execution_count": 3
  },
  {
   "cell_type": "markdown",
   "source": [
    "Find the ground state using direct minimisation (always using SCF is boring ...)"
   ],
   "metadata": {}
  },
  {
   "outputs": [
    {
     "name": "stdout",
     "output_type": "stream",
     "text": [
      "Iter     Function value   Gradient norm \n",
      "     0     1.127343e+02     1.469504e+00\n",
      " * time: 0.07308197021484375\n",
      "     1     1.112734e+01     8.914462e-01\n",
      " * time: 1.2357990741729736\n",
      "     2    -1.200895e+01     1.035561e+00\n",
      " * time: 1.3343710899353027\n",
      "     3    -3.423821e+01     7.161400e-01\n",
      " * time: 1.465433120727539\n",
      "     4    -4.784928e+01     5.693378e-01\n",
      " * time: 1.5983860492706299\n",
      "     5    -5.702086e+01     2.473440e-01\n",
      " * time: 1.7390949726104736\n",
      "     6    -5.981411e+01     1.505911e-01\n",
      " * time: 1.8304870128631592\n",
      "     7    -6.090430e+01     5.175327e-02\n",
      " * time: 1.9220671653747559\n",
      "     8    -6.134062e+01     6.840021e-02\n",
      " * time: 2.0147721767425537\n",
      "     9    -6.160221e+01     4.991552e-02\n",
      " * time: 2.1071231365203857\n",
      "    10    -6.181179e+01     2.581028e-02\n",
      " * time: 2.213653087615967\n",
      "    11    -6.196400e+01     1.880623e-02\n",
      " * time: 2.305546998977661\n",
      "    12    -6.202980e+01     1.543435e-02\n",
      " * time: 2.397171974182129\n",
      "    13    -6.208624e+01     1.448797e-02\n",
      " * time: 2.4897210597991943\n",
      "    14    -6.212164e+01     1.275896e-02\n",
      " * time: 2.5812931060791016\n",
      "    15    -6.215157e+01     1.102610e-02\n",
      " * time: 2.679664134979248\n",
      "    16    -6.217165e+01     1.147582e-02\n",
      " * time: 2.771085023880005\n",
      "    17    -6.218596e+01     8.655597e-03\n",
      " * time: 2.86330509185791\n",
      "    18    -6.219590e+01     7.157031e-03\n",
      " * time: 2.9549741744995117\n",
      "    19    -6.220248e+01     7.126194e-03\n",
      " * time: 3.047520160675049\n",
      "    20    -6.220731e+01     6.460956e-03\n",
      " * time: 3.146329164505005\n",
      "    21    -6.221118e+01     8.044149e-03\n",
      " * time: 3.237652063369751\n",
      "    22    -6.221466e+01     6.180165e-03\n",
      " * time: 3.329432964324951\n",
      "    23    -6.221799e+01     6.551115e-03\n",
      " * time: 3.4202849864959717\n",
      "    24    -6.222152e+01     6.479706e-03\n",
      " * time: 3.5108489990234375\n",
      "    25    -6.222579e+01     6.116760e-03\n",
      " * time: 3.607973098754883\n",
      "    26    -6.223135e+01     6.618993e-03\n",
      " * time: 3.698284149169922\n",
      "    27    -6.223756e+01     5.418590e-03\n",
      " * time: 3.790235996246338\n",
      "    28    -6.224440e+01     5.494603e-03\n",
      " * time: 3.881510019302368\n",
      "    29    -6.225044e+01     4.683908e-03\n",
      " * time: 3.9716591835021973\n",
      "    30    -6.225411e+01     4.535500e-03\n",
      " * time: 4.069409132003784\n",
      "    31    -6.225695e+01     3.714496e-03\n",
      " * time: 4.159147024154663\n",
      "    32    -6.225889e+01     2.868261e-03\n",
      " * time: 4.249243974685669\n",
      "    33    -6.226003e+01     1.981156e-03\n",
      " * time: 4.339457988739014\n",
      "    34    -6.226079e+01     1.312855e-03\n",
      " * time: 4.429903030395508\n",
      "    35    -6.226120e+01     1.145666e-03\n",
      " * time: 4.528005123138428\n",
      "    36    -6.226141e+01     8.198447e-04\n",
      " * time: 4.619539022445679\n",
      "    37    -6.226151e+01     6.826420e-04\n",
      " * time: 4.711755990982056\n",
      "    38    -6.226157e+01     5.566197e-04\n",
      " * time: 4.802765130996704\n",
      "    39    -6.226160e+01     4.231252e-04\n",
      " * time: 4.892717123031616\n",
      "    40    -6.226163e+01     3.066267e-04\n",
      " * time: 4.99029803276062\n",
      "    41    -6.226164e+01     2.344869e-04\n",
      " * time: 5.081696033477783\n",
      "    42    -6.226165e+01     1.961743e-04\n",
      " * time: 5.173029184341431\n",
      "    43    -6.226166e+01     1.360295e-04\n",
      " * time: 5.26249098777771\n",
      "    44    -6.226166e+01     1.223344e-04\n",
      " * time: 5.3525590896606445\n",
      "    45    -6.226166e+01     1.001834e-04\n",
      " * time: 5.45261812210083\n",
      "    46    -6.226166e+01     6.498889e-05\n",
      " * time: 5.542159080505371\n",
      "    47    -6.226167e+01     4.712344e-05\n",
      " * time: 5.632165193557739\n",
      "    48    -6.226167e+01     3.502645e-05\n",
      " * time: 5.724143981933594\n",
      "    49    -6.226167e+01     2.307040e-05\n",
      " * time: 5.823139190673828\n",
      "    50    -6.226167e+01     2.151753e-05\n",
      " * time: 5.931056022644043\n",
      "    51    -6.226167e+01     1.710533e-05\n",
      " * time: 6.022953033447266\n",
      "    52    -6.226167e+01     1.300970e-05\n",
      " * time: 6.11341118812561\n",
      "    53    -6.226167e+01     1.095556e-05\n",
      " * time: 6.2029290199279785\n",
      "    54    -6.226167e+01     9.352669e-06\n",
      " * time: 6.292838096618652\n",
      "    55    -6.226167e+01     7.722654e-06\n",
      " * time: 6.389618158340454\n",
      "    56    -6.226167e+01     6.159037e-06\n",
      " * time: 6.4797351360321045\n",
      "    57    -6.226167e+01     5.031427e-06\n",
      " * time: 6.571251153945923\n",
      "    58    -6.226167e+01     4.675762e-06\n",
      " * time: 6.661501169204712\n"
     ]
    }
   ],
   "cell_type": "code",
   "source": [
    "scfres = direct_minimization(basis, tol=1e-5);"
   ],
   "metadata": {},
   "execution_count": 4
  },
  {
   "outputs": [
    {
     "output_type": "execute_result",
     "data": {
      "text/plain": "Energy breakdown:\n    Kinetic             25.7671073\n    AtomicLocal         -18.8557708\n    AtomicNonlocal      14.8522662\n    Ewald               -67.1831486\n    PspCorrection       -2.3569765\n    Hartree             4.8485385 \n    Xc                  -19.3336826\n\n    total               -62.261666459164\n"
     },
     "metadata": {},
     "execution_count": 5
    }
   ],
   "cell_type": "code",
   "source": [
    "scfres.energies"
   ],
   "metadata": {},
   "execution_count": 5
  }
 ],
 "nbformat_minor": 3,
 "metadata": {
  "language_info": {
   "file_extension": ".jl",
   "mimetype": "application/julia",
   "name": "julia",
   "version": "1.4.2"
  },
  "kernelspec": {
   "name": "julia-1.4",
   "display_name": "Julia 1.4.2",
   "language": "julia"
  }
 },
 "nbformat": 4
}
