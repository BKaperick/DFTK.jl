{
 "cells": [
  {
   "cell_type": "markdown",
   "source": [
    "# Creating supercells with pymatgen\n",
    "\n",
    "The [Pymatgen](https://pymatgen.org/) python library allows to setup\n",
    "solid-state calculations using a flexible set of classes as well as an API\n",
    "to an online data base of structures. Its `Structure` and `Lattice`\n",
    "objects are directly supported by the DFTK `load_atoms` and `load_lattice`\n",
    "functions, such that DFTK may be readily used to run calculation on systems\n",
    "defined in pymatgen. Using the `pymatgen_structure` function a conversion\n",
    "from DFTK to pymatgen structures is also possible. In the following we\n",
    "use this to create a silicon supercell and find its LDA ground state\n",
    "using direct minimisation."
   ],
   "metadata": {}
  },
  {
   "cell_type": "markdown",
   "source": [
    "First we setup the silicon lattice in DFTK."
   ],
   "metadata": {}
  },
  {
   "outputs": [],
   "cell_type": "code",
   "source": [
    "using DFTK\n",
    "\n",
    "a = 10.263141334305942  # Lattice constant in Bohr\n",
    "lattice = a / 2 .* [[0 1 1.]; [1 0 1.]; [1 1 0.]]\n",
    "Si = ElementPsp(:Si, psp=load_psp(\"hgh/lda/Si-q4\"))\n",
    "atoms = [Si => [ones(3)/8, -ones(3)/8]];"
   ],
   "metadata": {},
   "execution_count": 1
  },
  {
   "cell_type": "markdown",
   "source": [
    "Next we make a `[2, 2, 2]` supercell using pymatgen"
   ],
   "metadata": {}
  },
  {
   "outputs": [],
   "cell_type": "code",
   "source": [
    "pystruct = pymatgen_structure(lattice, atoms)\n",
    "pystruct.make_supercell([2, 2, 2])\n",
    "lattice = load_lattice(pystruct)\n",
    "atoms = [Si => [s.frac_coords for s in pystruct.sites]];"
   ],
   "metadata": {},
   "execution_count": 2
  },
  {
   "cell_type": "markdown",
   "source": [
    "Setup an LDA model and discretize using\n",
    "a single kpoint and a small `Ecut` of 5 Hartree."
   ],
   "metadata": {}
  },
  {
   "outputs": [
    {
     "output_type": "execute_result",
     "data": {
      "text/plain": "PlaneWaveBasis (Ecut=5.0, 1 kpoints)"
     },
     "metadata": {},
     "execution_count": 3
    }
   ],
   "cell_type": "code",
   "source": [
    "model = model_LDA(lattice, atoms)\n",
    "basis = PlaneWaveBasis(model, 5, kgrid=(1, 1, 1))"
   ],
   "metadata": {},
   "execution_count": 3
  },
  {
   "cell_type": "markdown",
   "source": [
    "Find the ground state using direct minimisation (always using SCF is boring ...)"
   ],
   "metadata": {}
  },
  {
   "outputs": [
    {
     "name": "stdout",
     "output_type": "stream",
     "text": [
      "Iter     Function value   Gradient norm \n",
      "     0     1.118681e+02     1.565970e+00\n",
      " * time: 0.7925469875335693\n",
      "     1     1.082928e+01     1.008279e+00\n",
      " * time: 3.469465970993042\n",
      "     2    -1.206560e+01     1.003450e+00\n",
      " * time: 4.1813130378723145\n",
      "     3    -3.417853e+01     7.904618e-01\n",
      " * time: 5.235162973403931\n",
      "     4    -4.761513e+01     5.819765e-01\n",
      " * time: 6.276344060897827\n",
      "     5    -5.691342e+01     2.002339e-01\n",
      " * time: 7.26018500328064\n",
      "     6    -5.983628e+01     1.355862e-01\n",
      " * time: 7.932932138442993\n",
      "     7    -6.094826e+01     5.086208e-02\n",
      " * time: 8.62177300453186\n",
      "     8    -6.136276e+01     6.426620e-02\n",
      " * time: 9.29264211654663\n",
      "     9    -6.164731e+01     3.923239e-02\n",
      " * time: 9.9654541015625\n",
      "    10    -6.185857e+01     2.604440e-02\n",
      " * time: 10.66375994682312\n",
      "    11    -6.201217e+01     2.217478e-02\n",
      " * time: 11.383579969406128\n",
      "    12    -6.207518e+01     1.892492e-02\n",
      " * time: 12.080635070800781\n",
      "    13    -6.213716e+01     1.439288e-02\n",
      " * time: 12.808558940887451\n",
      "    14    -6.216520e+01     1.188811e-02\n",
      " * time: 13.516417026519775\n",
      "    15    -6.218912e+01     1.109361e-02\n",
      " * time: 14.174170970916748\n",
      "    16    -6.220248e+01     8.316232e-03\n",
      " * time: 14.84342908859253\n",
      "    17    -6.221333e+01     7.718261e-03\n",
      " * time: 15.549046993255615\n",
      "    18    -6.222242e+01     6.413941e-03\n",
      " * time: 16.237868070602417\n",
      "    19    -6.223013e+01     5.519767e-03\n",
      " * time: 16.91037607192993\n",
      "    20    -6.223733e+01     5.434178e-03\n",
      " * time: 17.591844081878662\n",
      "    21    -6.224414e+01     5.569664e-03\n",
      " * time: 18.290390014648438\n",
      "    22    -6.225021e+01     4.774556e-03\n",
      " * time: 18.978044986724854\n",
      "    23    -6.225487e+01     4.196782e-03\n",
      " * time: 19.676496028900146\n",
      "    24    -6.225783e+01     2.807451e-03\n",
      " * time: 20.367835998535156\n",
      "    25    -6.225944e+01     2.133633e-03\n",
      " * time: 21.09498405456543\n",
      "    26    -6.226033e+01     1.507251e-03\n",
      " * time: 21.79237699508667\n",
      "    27    -6.226082e+01     1.382760e-03\n",
      " * time: 22.487175941467285\n",
      "    28    -6.226110e+01     1.067529e-03\n",
      " * time: 23.17374610900879\n",
      "    29    -6.226128e+01     9.271424e-04\n",
      " * time: 23.85532808303833\n",
      "    30    -6.226140e+01     6.794101e-04\n",
      " * time: 24.549139976501465\n",
      "    31    -6.226149e+01     5.048842e-04\n",
      " * time: 25.20737910270691\n",
      "    32    -6.226156e+01     4.412681e-04\n",
      " * time: 25.86617612838745\n",
      "    33    -6.226161e+01     3.871815e-04\n",
      " * time: 26.561049938201904\n",
      "    34    -6.226163e+01     3.069026e-04\n",
      " * time: 27.2793071269989\n",
      "    35    -6.226165e+01     2.625129e-04\n",
      " * time: 27.987680912017822\n",
      "    36    -6.226166e+01     1.857219e-04\n",
      " * time: 28.68038296699524\n",
      "    37    -6.226166e+01     1.076334e-04\n",
      " * time: 29.402372121810913\n",
      "    38    -6.226166e+01     6.261027e-05\n",
      " * time: 30.101623058319092\n",
      "    39    -6.226167e+01     5.282254e-05\n",
      " * time: 30.775366067886353\n",
      "    40    -6.226167e+01     4.373518e-05\n",
      " * time: 31.459877967834473\n",
      "    41    -6.226167e+01     3.462322e-05\n",
      " * time: 32.14494204521179\n",
      "    42    -6.226167e+01     2.800251e-05\n",
      " * time: 32.843382120132446\n",
      "    43    -6.226167e+01     2.119033e-05\n",
      " * time: 33.54079604148865\n",
      "    44    -6.226167e+01     1.911471e-05\n",
      " * time: 34.24181604385376\n",
      "    45    -6.226167e+01     1.257671e-05\n",
      " * time: 34.94428992271423\n",
      "    46    -6.226167e+01     9.594497e-06\n",
      " * time: 35.62949204444885\n",
      "    47    -6.226167e+01     6.621337e-06\n",
      " * time: 36.33970594406128\n",
      "    48    -6.226167e+01     5.311127e-06\n",
      " * time: 37.03460192680359\n",
      "    49    -6.226167e+01     4.271072e-06\n",
      " * time: 37.72784900665283\n",
      "    50    -6.226167e+01     3.318085e-06\n",
      " * time: 38.423665046691895\n"
     ]
    }
   ],
   "cell_type": "code",
   "source": [
    "scfres = direct_minimization(basis, tol=1e-5);"
   ],
   "metadata": {},
   "execution_count": 4
  },
  {
   "outputs": [
    {
     "output_type": "execute_result",
     "data": {
      "text/plain": "Energy breakdown:\n    Kinetic             25.7671073\n    AtomicLocal         -18.8557674\n    AtomicNonlocal      14.8522636\n    Ewald               -67.1831486\n    PspCorrection       -2.3569765\n    Hartree             4.8485374 \n    Xc                  -19.3336821\n\n    total               -62.261666460322\n"
     },
     "metadata": {},
     "execution_count": 5
    }
   ],
   "cell_type": "code",
   "source": [
    "scfres.energies"
   ],
   "metadata": {},
   "execution_count": 5
  }
 ],
 "nbformat_minor": 3,
 "metadata": {
  "language_info": {
   "file_extension": ".jl",
   "mimetype": "application/julia",
   "name": "julia",
   "version": "1.6.1"
  },
  "kernelspec": {
   "name": "julia-1.6",
   "display_name": "Julia 1.6.1",
   "language": "julia"
  }
 },
 "nbformat": 4
}
