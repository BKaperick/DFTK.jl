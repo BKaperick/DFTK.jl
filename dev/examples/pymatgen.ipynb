{
 "cells": [
  {
   "cell_type": "markdown",
   "source": [
    "# Creating supercells with pymatgen\n",
    "\n",
    "The [Pymatgen](https://pymatgen.org/) python library allows to setup\n",
    "solid-state calculations using a flexible set of classes as well as an API\n",
    "to an online data base of structures. Its `Structure` and `Lattice`\n",
    "objects are directly supported by the DFTK `load_atoms` and `load_lattice`\n",
    "functions, such that DFTK may be readily used to run calculation on systems\n",
    "defined in pymatgen. Using the `pymatgen_structure` function a conversion\n",
    "from DFTK to pymatgen structures is also possible. In the following we\n",
    "use this to create a silicon supercell and find its LDA ground state\n",
    "using direct minimisation."
   ],
   "metadata": {}
  },
  {
   "cell_type": "markdown",
   "source": [
    "First we setup the silicon lattice in DFTK."
   ],
   "metadata": {}
  },
  {
   "outputs": [],
   "cell_type": "code",
   "source": [
    "using DFTK\n",
    "\n",
    "a = 10.263141334305942  # Lattice constant in Bohr\n",
    "lattice = a / 2 .* [[0 1 1.]; [1 0 1.]; [1 1 0.]]\n",
    "Si = ElementPsp(:Si, psp=load_psp(\"hgh/lda/Si-q4\"))\n",
    "atoms = [Si => [ones(3)/8, -ones(3)/8]];"
   ],
   "metadata": {},
   "execution_count": 1
  },
  {
   "cell_type": "markdown",
   "source": [
    "Next we make a `[2, 2, 2]` supercell using pymatgen"
   ],
   "metadata": {}
  },
  {
   "outputs": [],
   "cell_type": "code",
   "source": [
    "pystruct = pymatgen_structure(lattice, atoms)\n",
    "pystruct.make_supercell([2, 2, 2])\n",
    "lattice = load_lattice(pystruct)\n",
    "atoms = [Si => [s.frac_coords for s in pystruct.sites]];"
   ],
   "metadata": {},
   "execution_count": 2
  },
  {
   "cell_type": "markdown",
   "source": [
    "Setup an LDA model and discretize using\n",
    "a single kpoint and a small `Ecut` of 5 Hartree."
   ],
   "metadata": {}
  },
  {
   "outputs": [
    {
     "output_type": "execute_result",
     "data": {
      "text/plain": "PlaneWaveBasis (Ecut=5.0, 1 kpoints)"
     },
     "metadata": {},
     "execution_count": 3
    }
   ],
   "cell_type": "code",
   "source": [
    "model = model_LDA(lattice, atoms)\n",
    "basis = PlaneWaveBasis(model, 5, kgrid=(1, 1, 1))"
   ],
   "metadata": {},
   "execution_count": 3
  },
  {
   "cell_type": "markdown",
   "source": [
    "Find the ground state using direct minimisation (always using SCF is boring ...)"
   ],
   "metadata": {}
  },
  {
   "outputs": [
    {
     "name": "stdout",
     "output_type": "stream",
     "text": [
      "Iter     Function value   Gradient norm \n",
      "     0     1.114934e+02     1.563229e+00\n",
      " * time: 0.0594480037689209\n",
      "     1     1.046441e+01     8.944547e-01\n",
      " * time: 1.292612075805664\n",
      "     2    -1.124438e+01     1.038812e+00\n",
      " * time: 1.3567490577697754\n",
      "     3    -3.363942e+01     7.814995e-01\n",
      " * time: 1.455306053161621\n",
      "     4    -4.688039e+01     5.538318e-01\n",
      " * time: 1.5242161750793457\n",
      "     5    -5.656975e+01     2.108468e-01\n",
      " * time: 1.594208002090454\n",
      "     6    -5.959057e+01     1.141833e-01\n",
      " * time: 1.6606941223144531\n",
      "     7    -6.074639e+01     5.054385e-02\n",
      " * time: 1.7120070457458496\n",
      "     8    -6.122966e+01     4.586223e-02\n",
      " * time: 1.7688000202178955\n",
      "     9    -6.151768e+01     3.590275e-02\n",
      " * time: 1.8234100341796875\n",
      "    10    -6.175701e+01     2.862701e-02\n",
      " * time: 1.8854851722717285\n",
      "    11    -6.192644e+01     2.446037e-02\n",
      " * time: 1.9404029846191406\n",
      "    12    -6.201985e+01     2.064478e-02\n",
      " * time: 1.9937560558319092\n",
      "    13    -6.208122e+01     1.761441e-02\n",
      " * time: 2.0550131797790527\n",
      "    14    -6.213201e+01     1.538505e-02\n",
      " * time: 2.1072940826416016\n",
      "    15    -6.216252e+01     1.208794e-02\n",
      " * time: 2.1625680923461914\n",
      "    16    -6.218139e+01     8.451560e-03\n",
      " * time: 2.220123052597046\n",
      "    17    -6.219342e+01     7.860605e-03\n",
      " * time: 2.2808589935302734\n",
      "    18    -6.220339e+01     6.294887e-03\n",
      " * time: 2.3353981971740723\n",
      "    19    -6.221068e+01     5.605918e-03\n",
      " * time: 2.3945651054382324\n",
      "    20    -6.221745e+01     6.157428e-03\n",
      " * time: 2.4640161991119385\n",
      "    21    -6.222431e+01     5.361936e-03\n",
      " * time: 2.52856707572937\n",
      "    22    -6.223155e+01     6.364163e-03\n",
      " * time: 2.5858731269836426\n",
      "    23    -6.223870e+01     5.290080e-03\n",
      " * time: 2.639770030975342\n",
      "    24    -6.224504e+01     4.831127e-03\n",
      " * time: 2.6997292041778564\n",
      "    25    -6.224986e+01     4.512652e-03\n",
      " * time: 2.756181001663208\n",
      "    26    -6.225333e+01     3.893028e-03\n",
      " * time: 2.813566207885742\n",
      "    27    -6.225594e+01     2.518030e-03\n",
      " * time: 2.869697093963623\n",
      "    28    -6.225777e+01     2.859777e-03\n",
      " * time: 2.931885004043579\n",
      "    29    -6.225910e+01     2.602366e-03\n",
      " * time: 2.986504077911377\n",
      "    30    -6.226005e+01     2.579961e-03\n",
      " * time: 3.04071307182312\n",
      "    31    -6.226073e+01     1.746637e-03\n",
      " * time: 3.0930581092834473\n",
      "    32    -6.226117e+01     1.152828e-03\n",
      " * time: 3.152130126953125\n",
      "    33    -6.226142e+01     7.652819e-04\n",
      " * time: 3.207581043243408\n",
      "    34    -6.226155e+01     5.212501e-04\n",
      " * time: 3.2666170597076416\n",
      "    35    -6.226161e+01     3.567865e-04\n",
      " * time: 3.3319880962371826\n",
      "    36    -6.226164e+01     2.647561e-04\n",
      " * time: 3.388883113861084\n",
      "    37    -6.226165e+01     3.035915e-04\n",
      " * time: 3.4496920108795166\n",
      "    38    -6.226166e+01     1.409636e-04\n",
      " * time: 3.507829189300537\n",
      "    39    -6.226166e+01     1.038532e-04\n",
      " * time: 3.569282054901123\n",
      "    40    -6.226166e+01     9.000301e-05\n",
      " * time: 3.625312089920044\n",
      "    41    -6.226166e+01     7.877135e-05\n",
      " * time: 3.6797070503234863\n",
      "    42    -6.226166e+01     8.137317e-05\n",
      " * time: 3.7363719940185547\n",
      "    43    -6.226167e+01     5.590581e-05\n",
      " * time: 3.7961881160736084\n",
      "    44    -6.226167e+01     4.533958e-05\n",
      " * time: 3.8485941886901855\n",
      "    45    -6.226167e+01     3.530141e-05\n",
      " * time: 3.900374174118042\n",
      "    46    -6.226167e+01     2.633546e-05\n",
      " * time: 3.952303171157837\n",
      "    47    -6.226167e+01     1.453557e-05\n",
      " * time: 4.010854005813599\n",
      "    48    -6.226167e+01     1.053697e-05\n",
      " * time: 4.073101997375488\n",
      "    49    -6.226167e+01     8.860857e-06\n",
      " * time: 4.128367185592651\n",
      "    50    -6.226167e+01     6.887940e-06\n",
      " * time: 4.191218137741089\n",
      "    51    -6.226167e+01     4.847085e-06\n",
      " * time: 4.248058080673218\n",
      "    52    -6.226167e+01     4.234440e-06\n",
      " * time: 4.301720142364502\n"
     ]
    }
   ],
   "cell_type": "code",
   "source": [
    "scfres = direct_minimization(basis, tol=1e-5);"
   ],
   "metadata": {},
   "execution_count": 4
  },
  {
   "outputs": [
    {
     "output_type": "execute_result",
     "data": {
      "text/plain": "Energy breakdown:\n    Kinetic             25.7671079\n    AtomicLocal         -18.8557727\n    AtomicNonlocal      14.8522672\n    Ewald               -67.1831486\n    PspCorrection       -2.3569765\n    Hartree             4.8485391 \n    Xc                  -19.3336827\n\n    total               -62.261666454136\n"
     },
     "metadata": {},
     "execution_count": 5
    }
   ],
   "cell_type": "code",
   "source": [
    "scfres.energies"
   ],
   "metadata": {},
   "execution_count": 5
  }
 ],
 "nbformat_minor": 3,
 "metadata": {
  "language_info": {
   "file_extension": ".jl",
   "mimetype": "application/julia",
   "name": "julia",
   "version": "1.5.3"
  },
  "kernelspec": {
   "name": "julia-1.5",
   "display_name": "Julia 1.5.3",
   "language": "julia"
  }
 },
 "nbformat": 4
}
