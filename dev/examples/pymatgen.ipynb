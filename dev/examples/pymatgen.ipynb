{
 "cells": [
  {
   "cell_type": "markdown",
   "source": [
    "# Creating supercells with pymatgen\n",
    "\n",
    "The [Pymatgen](https://pymatgen.org/) python library allows to setup\n",
    "solid-state calculations using a flexible set of classes as well as an API\n",
    "to an online data base of structures. Its `Structure` and `Lattice`\n",
    "objects are directly supported by the DFTK `load_atoms` and `load_lattice`\n",
    "functions, such that DFTK may be readily used to run calculation on systems\n",
    "defined in pymatgen. Using the `pymatgen_structure` function a conversion\n",
    "from DFTK to pymatgen structures is also possible. In the following we\n",
    "use this to create a silicon supercell and find its LDA ground state\n",
    "using direct minimisation."
   ],
   "metadata": {}
  },
  {
   "cell_type": "markdown",
   "source": [
    "First we setup the silicon lattice in DFTK."
   ],
   "metadata": {}
  },
  {
   "outputs": [],
   "cell_type": "code",
   "source": [
    "using DFTK\n",
    "\n",
    "a = 10.263141334305942  # Lattice constant in Bohr\n",
    "lattice = a / 2 .* [[0 1 1.]; [1 0 1.]; [1 1 0.]]\n",
    "Si = ElementPsp(:Si, psp=load_psp(\"hgh/lda/Si-q4\"))\n",
    "atoms = [Si => [ones(3)/8, -ones(3)/8]];"
   ],
   "metadata": {},
   "execution_count": 1
  },
  {
   "cell_type": "markdown",
   "source": [
    "Next we make a `[2, 2, 2]` supercell using pymatgen"
   ],
   "metadata": {}
  },
  {
   "outputs": [],
   "cell_type": "code",
   "source": [
    "pystruct = pymatgen_structure(lattice, atoms)\n",
    "pystruct.make_supercell([2, 2, 2])\n",
    "lattice = load_lattice(pystruct)\n",
    "atoms = [Si => [s.frac_coords for s in pystruct.sites]];"
   ],
   "metadata": {},
   "execution_count": 2
  },
  {
   "cell_type": "markdown",
   "source": [
    "Setup an LDA model and discretize using\n",
    "a single kpoint and a small `Ecut` of 5 Hartree.\n",
    "Notice that `PlaneWaveBasis` defaults to just using the ``Γ``-point\n",
    "if no ``k``-point options are provided."
   ],
   "metadata": {}
  },
  {
   "outputs": [
    {
     "output_type": "execute_result",
     "data": {
      "text/plain": "PlaneWaveBasis (Ecut=5.0, 1 kpoints)"
     },
     "metadata": {},
     "execution_count": 3
    }
   ],
   "cell_type": "code",
   "source": [
    "model = model_LDA(lattice, atoms)\n",
    "basis = PlaneWaveBasis(model, 5)"
   ],
   "metadata": {},
   "execution_count": 3
  },
  {
   "cell_type": "markdown",
   "source": [
    "Find the ground state using direct minimisation (always using SCF is boring ...)"
   ],
   "metadata": {}
  },
  {
   "outputs": [
    {
     "name": "stdout",
     "output_type": "stream",
     "text": [
      "Iter     Function value   Gradient norm \n",
      "     0     1.118739e+02     1.804043e+00\n",
      " * time: 0.08433699607849121\n",
      "     1     1.011651e+01     8.955194e-01\n",
      " * time: 0.9524109363555908\n",
      "     2    -1.206517e+01     1.033697e+00\n",
      " * time: 1.0834040641784668\n",
      "     3    -3.421290e+01     8.337126e-01\n",
      " * time: 1.4769208431243896\n",
      "     4    -4.785557e+01     6.107444e-01\n",
      " * time: 1.810288906097412\n",
      "     5    -5.696782e+01     2.298453e-01\n",
      " * time: 1.9524140357971191\n",
      "     6    -5.986501e+01     1.313552e-01\n",
      " * time: 2.0636019706726074\n",
      "     7    -6.099849e+01     5.625435e-02\n",
      " * time: 2.1749138832092285\n",
      "     8    -6.141325e+01     6.920408e-02\n",
      " * time: 2.2789900302886963\n",
      "     9    -6.167948e+01     4.211111e-02\n",
      " * time: 2.3901150226593018\n",
      "    10    -6.187303e+01     2.834969e-02\n",
      " * time: 2.5013248920440674\n",
      "    11    -6.202073e+01     2.089017e-02\n",
      " * time: 2.6124119758605957\n",
      "    12    -6.208090e+01     1.881613e-02\n",
      " * time: 2.722761869430542\n",
      "    13    -6.213760e+01     1.476486e-02\n",
      " * time: 2.8263649940490723\n",
      "    14    -6.216392e+01     1.477533e-02\n",
      " * time: 2.936471939086914\n",
      "    15    -6.218697e+01     8.591393e-03\n",
      " * time: 3.0460739135742188\n",
      "    16    -6.220057e+01     7.655057e-03\n",
      " * time: 3.1570098400115967\n",
      "    17    -6.221121e+01     7.635400e-03\n",
      " * time: 3.260455846786499\n",
      "    18    -6.222066e+01     6.626431e-03\n",
      " * time: 3.369933843612671\n",
      "    19    -6.222941e+01     8.706912e-03\n",
      " * time: 3.480098009109497\n",
      "    20    -6.223799e+01     7.637822e-03\n",
      " * time: 3.5907819271087646\n",
      "    21    -6.224612e+01     6.559407e-03\n",
      " * time: 3.693605899810791\n",
      "    22    -6.225257e+01     4.312573e-03\n",
      " * time: 3.8041038513183594\n",
      "    23    -6.225681e+01     3.331235e-03\n",
      " * time: 3.913416862487793\n",
      "    24    -6.225905e+01     2.926382e-03\n",
      " * time: 4.022294998168945\n",
      "    25    -6.226010e+01     2.135578e-03\n",
      " * time: 4.132385015487671\n",
      "    26    -6.226065e+01     1.694495e-03\n",
      " * time: 4.236196041107178\n",
      "    27    -6.226098e+01     1.156691e-03\n",
      " * time: 4.345339059829712\n",
      "    28    -6.226119e+01     1.016021e-03\n",
      " * time: 4.454795837402344\n",
      "    29    -6.226134e+01     9.770344e-04\n",
      " * time: 4.563605070114136\n",
      "    30    -6.226146e+01     6.931074e-04\n",
      " * time: 4.672231912612915\n",
      "    31    -6.226154e+01     6.192633e-04\n",
      " * time: 4.780653953552246\n",
      "    32    -6.226159e+01     4.945543e-04\n",
      " * time: 4.891027927398682\n",
      "    33    -6.226162e+01     3.269884e-04\n",
      " * time: 5.000282049179077\n",
      "    34    -6.226165e+01     2.258361e-04\n",
      " * time: 5.105345964431763\n",
      "    35    -6.226166e+01     1.456806e-04\n",
      " * time: 5.215329885482788\n",
      "    36    -6.226166e+01     1.181530e-04\n",
      " * time: 5.324799060821533\n",
      "    37    -6.226166e+01     7.952611e-05\n",
      " * time: 5.434881925582886\n",
      "    38    -6.226167e+01     5.886898e-05\n",
      " * time: 5.546154975891113\n",
      "    39    -6.226167e+01     3.840968e-05\n",
      " * time: 5.651612043380737\n",
      "    40    -6.226167e+01     3.110993e-05\n",
      " * time: 5.76160192489624\n",
      "    41    -6.226167e+01     2.440004e-05\n",
      " * time: 5.871535062789917\n",
      "    42    -6.226167e+01     1.945605e-05\n",
      " * time: 5.980020046234131\n",
      "    43    -6.226167e+01     2.019005e-05\n",
      " * time: 6.082435846328735\n",
      "    44    -6.226167e+01     1.517379e-05\n",
      " * time: 6.191125869750977\n",
      "    45    -6.226167e+01     1.297119e-05\n",
      " * time: 6.299579858779907\n",
      "    46    -6.226167e+01     1.033856e-05\n",
      " * time: 6.408655881881714\n",
      "    47    -6.226167e+01     7.495347e-06\n",
      " * time: 6.5115039348602295\n",
      "    48    -6.226167e+01     4.631736e-06\n",
      " * time: 6.621155023574829\n",
      "    49    -6.226167e+01     3.611667e-06\n",
      " * time: 6.730679035186768\n",
      "    50    -6.226167e+01     2.202511e-06\n",
      " * time: 6.8382790088653564\n"
     ]
    }
   ],
   "cell_type": "code",
   "source": [
    "scfres = direct_minimization(basis, tol=1e-5);"
   ],
   "metadata": {},
   "execution_count": 4
  },
  {
   "outputs": [
    {
     "output_type": "execute_result",
     "data": {
      "text/plain": "Energy breakdown:\n    Kinetic             25.7671062\n    AtomicLocal         -18.8557664\n    AtomicNonlocal      14.8522641\n    Ewald               -67.1831486\n    PspCorrection       -2.3569765\n    Hartree             4.8485365 \n    Xc                  -19.3336818\n\n    total               -62.261666461129\n"
     },
     "metadata": {},
     "execution_count": 5
    }
   ],
   "cell_type": "code",
   "source": [
    "scfres.energies"
   ],
   "metadata": {},
   "execution_count": 5
  }
 ],
 "nbformat_minor": 3,
 "metadata": {
  "language_info": {
   "file_extension": ".jl",
   "mimetype": "application/julia",
   "name": "julia",
   "version": "1.3.1"
  },
  "kernelspec": {
   "name": "julia-1.3",
   "display_name": "Julia 1.3.1",
   "language": "julia"
  }
 },
 "nbformat": 4
}
