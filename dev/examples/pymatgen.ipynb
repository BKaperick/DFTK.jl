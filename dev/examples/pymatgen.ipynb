{
 "cells": [
  {
   "cell_type": "markdown",
   "source": [
    "# Creating supercells with pymatgen\n",
    "\n",
    "The [Pymatgen](https://pymatgen.org/) python library allows to setup\n",
    "solid-state calculations using a flexible set of classes as well as an API\n",
    "to an online data base of structures. Its `Structure` and `Lattice`\n",
    "objects are directly supported by the DFTK `load_atoms` and `load_lattice`\n",
    "functions, such that DFTK may be readily used to run calculation on systems\n",
    "defined in pymatgen. Using the `pymatgen_structure` function a conversion\n",
    "from DFTK to pymatgen structures is also possible. In the following we\n",
    "use this to create a silicon supercell and find its LDA ground state\n",
    "using direct minimisation."
   ],
   "metadata": {}
  },
  {
   "cell_type": "markdown",
   "source": [
    "First we setup the silicon lattice in DFTK."
   ],
   "metadata": {}
  },
  {
   "outputs": [],
   "cell_type": "code",
   "source": [
    "using DFTK\n",
    "\n",
    "a = 10.263141334305942  # Lattice constant in Bohr\n",
    "lattice = a / 2 .* [[0 1 1.]; [1 0 1.]; [1 1 0.]]\n",
    "Si = ElementPsp(:Si, psp=load_psp(\"hgh/lda/Si-q4\"))\n",
    "atoms = [Si => [ones(3)/8, -ones(3)/8]];"
   ],
   "metadata": {},
   "execution_count": 1
  },
  {
   "cell_type": "markdown",
   "source": [
    "Next we make a `[2, 2, 2]` supercell using pymatgen"
   ],
   "metadata": {}
  },
  {
   "outputs": [],
   "cell_type": "code",
   "source": [
    "pystruct = pymatgen_structure(lattice, atoms)\n",
    "pystruct.make_supercell([2, 2, 2])\n",
    "lattice = load_lattice(pystruct)\n",
    "atoms = [Si => [s.frac_coords for s in pystruct.sites]];"
   ],
   "metadata": {},
   "execution_count": 2
  },
  {
   "cell_type": "markdown",
   "source": [
    "Setup an LDA model and discretize using\n",
    "a single kpoint and a small `Ecut` of 5 Hartree."
   ],
   "metadata": {}
  },
  {
   "outputs": [
    {
     "output_type": "execute_result",
     "data": {
      "text/plain": "PlaneWaveBasis (Ecut=5.0, 1 kpoints)"
     },
     "metadata": {},
     "execution_count": 3
    }
   ],
   "cell_type": "code",
   "source": [
    "model = model_LDA(lattice, atoms)\n",
    "basis = PlaneWaveBasis(model, 5, kgrid=(1, 1, 1))"
   ],
   "metadata": {},
   "execution_count": 3
  },
  {
   "cell_type": "markdown",
   "source": [
    "Find the ground state using direct minimisation (always using SCF is boring ...)"
   ],
   "metadata": {}
  },
  {
   "outputs": [
    {
     "name": "stdout",
     "output_type": "stream",
     "text": [
      "Iter     Function value   Gradient norm \n",
      "     0     1.115173e+02     1.541073e+00\n",
      " * time: 0.5685930252075195\n",
      "     1     1.145653e+01     8.531373e-01\n",
      " * time: 1.5873689651489258\n",
      "     2    -1.126371e+01     9.195932e-01\n",
      " * time: 2.076630115509033\n",
      "     3    -3.348530e+01     7.078083e-01\n",
      " * time: 2.8074610233306885\n",
      "     4    -4.686861e+01     5.363085e-01\n",
      " * time: 3.5236799716949463\n",
      "     5    -5.676911e+01     1.947701e-01\n",
      " * time: 4.224524974822998\n",
      "     6    -5.981909e+01     1.096191e-01\n",
      " * time: 4.714260101318359\n",
      "     7    -6.095470e+01     4.779071e-02\n",
      " * time: 5.18532395362854\n",
      "     8    -6.137520e+01     5.232300e-02\n",
      " * time: 5.659131050109863\n",
      "     9    -6.163378e+01     3.606315e-02\n",
      " * time: 6.139017105102539\n",
      "    10    -6.184583e+01     2.576030e-02\n",
      " * time: 6.62230110168457\n",
      "    11    -6.199628e+01     2.074801e-02\n",
      " * time: 7.096053123474121\n",
      "    12    -6.206197e+01     1.504268e-02\n",
      " * time: 7.570094108581543\n",
      "    13    -6.212302e+01     1.340728e-02\n",
      " * time: 8.046975135803223\n",
      "    14    -6.215562e+01     1.216796e-02\n",
      " * time: 8.52462100982666\n",
      "    15    -6.218407e+01     1.159297e-02\n",
      " * time: 9.001348972320557\n",
      "    16    -6.219990e+01     1.125193e-02\n",
      " * time: 9.474257946014404\n",
      "    17    -6.221081e+01     8.307180e-03\n",
      " * time: 9.947026014328003\n",
      "    18    -6.221881e+01     6.164685e-03\n",
      " * time: 10.425207138061523\n",
      "    19    -6.222538e+01     6.152774e-03\n",
      " * time: 10.89738917350769\n",
      "    20    -6.223173e+01     6.105675e-03\n",
      " * time: 11.37125015258789\n",
      "    21    -6.223843e+01     5.737733e-03\n",
      " * time: 11.852962970733643\n",
      "    22    -6.224518e+01     5.345494e-03\n",
      " * time: 12.323240041732788\n",
      "    23    -6.225112e+01     4.803870e-03\n",
      " * time: 12.796066045761108\n",
      "    24    -6.225542e+01     3.624218e-03\n",
      " * time: 13.275872945785522\n",
      "    25    -6.225803e+01     2.660514e-03\n",
      " * time: 13.772473096847534\n",
      "    26    -6.225957e+01     2.200215e-03\n",
      " * time: 14.24397897720337\n",
      "    27    -6.226041e+01     1.630904e-03\n",
      " * time: 14.716158151626587\n",
      "    28    -6.226086e+01     1.455451e-03\n",
      " * time: 15.189738988876343\n",
      "    29    -6.226112e+01     1.045958e-03\n",
      " * time: 15.667993068695068\n",
      "    30    -6.226130e+01     7.893508e-04\n",
      " * time: 16.148975133895874\n",
      "    31    -6.226142e+01     6.106861e-04\n",
      " * time: 16.619266033172607\n",
      "    32    -6.226151e+01     5.284831e-04\n",
      " * time: 17.092966079711914\n",
      "    33    -6.226157e+01     4.270151e-04\n",
      " * time: 17.59443998336792\n",
      "    34    -6.226162e+01     3.260650e-04\n",
      " * time: 18.065890073776245\n",
      "    35    -6.226164e+01     2.295884e-04\n",
      " * time: 18.53857111930847\n",
      "    36    -6.226165e+01     2.220844e-04\n",
      " * time: 19.022331953048706\n",
      "    37    -6.226166e+01     1.717553e-04\n",
      " * time: 19.49524998664856\n",
      "    38    -6.226166e+01     1.060021e-04\n",
      " * time: 19.965217113494873\n",
      "    39    -6.226166e+01     7.217624e-05\n",
      " * time: 20.439172983169556\n",
      "    40    -6.226167e+01     5.790728e-05\n",
      " * time: 20.923824071884155\n",
      "    41    -6.226167e+01     4.310643e-05\n",
      " * time: 21.405285120010376\n",
      "    42    -6.226167e+01     3.555381e-05\n",
      " * time: 21.878488063812256\n",
      "    43    -6.226167e+01     2.721274e-05\n",
      " * time: 22.35222101211548\n",
      "    44    -6.226167e+01     2.131575e-05\n",
      " * time: 22.830476999282837\n",
      "    45    -6.226167e+01     1.790624e-05\n",
      " * time: 23.303992986679077\n",
      "    46    -6.226167e+01     1.189403e-05\n",
      " * time: 23.777477979660034\n",
      "    47    -6.226167e+01     8.215429e-06\n",
      " * time: 24.251451015472412\n",
      "    48    -6.226167e+01     5.233856e-06\n",
      " * time: 24.738404035568237\n",
      "    49    -6.226167e+01     5.335750e-06\n",
      " * time: 25.21957516670227\n",
      "    50    -6.226167e+01     3.459827e-06\n",
      " * time: 25.693658113479614\n"
     ]
    }
   ],
   "cell_type": "code",
   "source": [
    "scfres = direct_minimization(basis, tol=1e-5);"
   ],
   "metadata": {},
   "execution_count": 4
  },
  {
   "outputs": [
    {
     "output_type": "execute_result",
     "data": {
      "text/plain": "Energy breakdown:\n    Kinetic             25.7671067\n    AtomicLocal         -18.8557662\n    AtomicNonlocal      14.8522632\n    Ewald               -67.1831486\n    PspCorrection       -2.3569765\n    Hartree             4.8485370 \n    Xc                  -19.3336820\n\n    total               -62.261666458281\n"
     },
     "metadata": {},
     "execution_count": 5
    }
   ],
   "cell_type": "code",
   "source": [
    "scfres.energies"
   ],
   "metadata": {},
   "execution_count": 5
  }
 ],
 "nbformat_minor": 3,
 "metadata": {
  "language_info": {
   "file_extension": ".jl",
   "mimetype": "application/julia",
   "name": "julia",
   "version": "1.6.2"
  },
  "kernelspec": {
   "name": "julia-1.6",
   "display_name": "Julia 1.6.2",
   "language": "julia"
  }
 },
 "nbformat": 4
}
