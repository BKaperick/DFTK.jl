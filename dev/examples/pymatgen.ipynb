{
 "cells": [
  {
   "cell_type": "markdown",
   "source": [
    "# Creating supercells with pymatgen\n",
    "\n",
    "The [Pymatgen](https://pymatgen.org/) python library allows to setup\n",
    "solid-state calculations using a flexible set of classes as well as an API\n",
    "to an online data base of structures. Its `Structure` and `Lattice`\n",
    "objects are directly supported by the DFTK `load_atoms` and `load_lattice`\n",
    "functions, such that DFTK may be readily used to run calculation on systems\n",
    "defined in pymatgen. Using the `pymatgen_structure` function a conversion\n",
    "from DFTK to pymatgen structures is also possible. In the following we\n",
    "use this to create a silicon supercell and find its LDA ground state\n",
    "using direct minimisation."
   ],
   "metadata": {}
  },
  {
   "cell_type": "markdown",
   "source": [
    "First we setup the silicon lattice in DFTK."
   ],
   "metadata": {}
  },
  {
   "outputs": [],
   "cell_type": "code",
   "source": [
    "using DFTK\n",
    "\n",
    "a = 10.263141334305942  # Lattice constant in Bohr\n",
    "lattice = a / 2 .* [[0 1 1.]; [1 0 1.]; [1 1 0.]]\n",
    "Si = ElementPsp(:Si, psp=load_psp(\"hgh/lda/Si-q4\"))\n",
    "atoms = [Si => [ones(3)/8, -ones(3)/8]];"
   ],
   "metadata": {},
   "execution_count": 1
  },
  {
   "cell_type": "markdown",
   "source": [
    "Next we make a `[2, 2, 2]` supercell using pymatgen"
   ],
   "metadata": {}
  },
  {
   "outputs": [],
   "cell_type": "code",
   "source": [
    "pystruct = pymatgen_structure(lattice, atoms)\n",
    "pystruct.make_supercell([2, 2, 2])\n",
    "lattice = load_lattice(pystruct)\n",
    "atoms = [Si => [s.frac_coords for s in pystruct.sites]];"
   ],
   "metadata": {},
   "execution_count": 2
  },
  {
   "cell_type": "markdown",
   "source": [
    "Setup an LDA model and discretize using\n",
    "a single kpoint and a small `Ecut` of 5 Hartree."
   ],
   "metadata": {}
  },
  {
   "outputs": [
    {
     "output_type": "execute_result",
     "data": {
      "text/plain": "PlaneWaveBasis (Ecut=5.0, 1 kpoints)"
     },
     "metadata": {},
     "execution_count": 3
    }
   ],
   "cell_type": "code",
   "source": [
    "model = model_LDA(lattice, atoms)\n",
    "basis = PlaneWaveBasis(model, 5, kgrid=(1, 1, 1))"
   ],
   "metadata": {},
   "execution_count": 3
  },
  {
   "cell_type": "markdown",
   "source": [
    "Find the ground state using direct minimisation (always using SCF is boring ...)"
   ],
   "metadata": {}
  },
  {
   "outputs": [
    {
     "name": "stdout",
     "output_type": "stream",
     "text": [
      "Iter     Function value   Gradient norm \n",
      "     0     1.120739e+02     1.750633e+00\n",
      " * time: 0.06431984901428223\n",
      "     1     1.061283e+01     9.565552e-01\n",
      " * time: 1.3136239051818848\n",
      "     2    -1.162889e+01     1.115441e+00\n",
      " * time: 1.433763027191162\n",
      "     3    -3.444247e+01     8.400461e-01\n",
      " * time: 1.5292809009552002\n",
      "     4    -4.782892e+01     5.967797e-01\n",
      " * time: 1.6417460441589355\n",
      "     5    -5.708320e+01     1.835557e-01\n",
      " * time: 1.722822904586792\n",
      "     6    -5.986504e+01     1.311104e-01\n",
      " * time: 1.7861008644104004\n",
      "     7    -6.092115e+01     5.085829e-02\n",
      " * time: 1.8655588626861572\n",
      "     8    -6.131774e+01     6.779462e-02\n",
      " * time: 1.9287769794464111\n",
      "     9    -6.159477e+01     5.198085e-02\n",
      " * time: 1.9920918941497803\n",
      "    10    -6.179993e+01     2.469601e-02\n",
      " * time: 2.055750846862793\n",
      "    11    -6.197142e+01     1.937886e-02\n",
      " * time: 2.1244828701019287\n",
      "    12    -6.204162e+01     1.732034e-02\n",
      " * time: 2.1868410110473633\n",
      "    13    -6.211461e+01     1.701071e-02\n",
      " * time: 2.249518871307373\n",
      "    14    -6.214860e+01     1.312635e-02\n",
      " * time: 2.3127670288085938\n",
      "    15    -6.217852e+01     1.391448e-02\n",
      " * time: 2.381505012512207\n",
      "    16    -6.219313e+01     1.229930e-02\n",
      " * time: 2.444192886352539\n",
      "    17    -6.220457e+01     9.317819e-03\n",
      " * time: 2.5065979957580566\n",
      "    18    -6.221381e+01     7.160378e-03\n",
      " * time: 2.575269937515259\n",
      "    19    -6.222169e+01     6.965233e-03\n",
      " * time: 2.6390469074249268\n",
      "    20    -6.222957e+01     6.691118e-03\n",
      " * time: 2.702035903930664\n",
      "    21    -6.223752e+01     6.762846e-03\n",
      " * time: 2.7647249698638916\n",
      "    22    -6.224488e+01     6.833153e-03\n",
      " * time: 2.8338470458984375\n",
      "    23    -6.225081e+01     5.331353e-03\n",
      " * time: 2.896528959274292\n",
      "    24    -6.225493e+01     3.690325e-03\n",
      " * time: 2.9601378440856934\n",
      "    25    -6.225747e+01     3.108401e-03\n",
      " * time: 3.023218870162964\n",
      "    26    -6.225892e+01     2.363364e-03\n",
      " * time: 3.0955989360809326\n",
      "    27    -6.225981e+01     2.041085e-03\n",
      " * time: 3.159507989883423\n",
      "    28    -6.226039e+01     1.883539e-03\n",
      " * time: 3.2223029136657715\n",
      "    29    -6.226080e+01     1.522755e-03\n",
      " * time: 3.2857470512390137\n",
      "    30    -6.226111e+01     1.063259e-03\n",
      " * time: 3.3544459342956543\n",
      "    31    -6.226133e+01     7.968095e-04\n",
      " * time: 3.4170260429382324\n",
      "    32    -6.226147e+01     6.331582e-04\n",
      " * time: 3.4804389476776123\n",
      "    33    -6.226156e+01     5.604357e-04\n",
      " * time: 3.550405979156494\n",
      "    34    -6.226162e+01     3.796797e-04\n",
      " * time: 3.613273859024048\n",
      "    35    -6.226164e+01     2.705806e-04\n",
      " * time: 3.676008939743042\n",
      "    36    -6.226165e+01     1.924711e-04\n",
      " * time: 3.7372779846191406\n",
      "    37    -6.226166e+01     1.522796e-04\n",
      " * time: 3.805332899093628\n",
      "    38    -6.226166e+01     1.290679e-04\n",
      " * time: 3.8676259517669678\n",
      "    39    -6.226166e+01     8.971325e-05\n",
      " * time: 3.9302139282226562\n",
      "    40    -6.226166e+01     7.185053e-05\n",
      " * time: 3.9914920330047607\n",
      "    41    -6.226167e+01     6.534470e-05\n",
      " * time: 4.060636043548584\n",
      "    42    -6.226167e+01     4.150920e-05\n",
      " * time: 4.1225550174713135\n",
      "    43    -6.226167e+01     3.477433e-05\n",
      " * time: 4.184004068374634\n",
      "    44    -6.226167e+01     3.215631e-05\n",
      " * time: 4.2452380657196045\n",
      "    45    -6.226167e+01     1.958787e-05\n",
      " * time: 4.314173936843872\n",
      "    46    -6.226167e+01     1.429958e-05\n",
      " * time: 4.3769659996032715\n",
      "    47    -6.226167e+01     1.041942e-05\n",
      " * time: 4.439141035079956\n",
      "    48    -6.226167e+01     8.408906e-06\n",
      " * time: 4.507721900939941\n",
      "    49    -6.226167e+01     5.438164e-06\n",
      " * time: 4.5709638595581055\n"
     ]
    }
   ],
   "cell_type": "code",
   "source": [
    "scfres = direct_minimization(basis, tol=1e-5);"
   ],
   "metadata": {},
   "execution_count": 4
  },
  {
   "outputs": [
    {
     "output_type": "execute_result",
     "data": {
      "text/plain": "Energy breakdown:\n    Kinetic             25.7671053\n    AtomicLocal         -18.8557693\n    AtomicNonlocal      14.8522682\n    Ewald               -67.1831486\n    PspCorrection       -2.3569765\n    Hartree             4.8485359 \n    Xc                  -19.3336814\n\n    total               -62.261666453156\n"
     },
     "metadata": {},
     "execution_count": 5
    }
   ],
   "cell_type": "code",
   "source": [
    "scfres.energies"
   ],
   "metadata": {},
   "execution_count": 5
  }
 ],
 "nbformat_minor": 3,
 "metadata": {
  "language_info": {
   "file_extension": ".jl",
   "mimetype": "application/julia",
   "name": "julia",
   "version": "1.5.3"
  },
  "kernelspec": {
   "name": "julia-1.5",
   "display_name": "Julia 1.5.3",
   "language": "julia"
  }
 },
 "nbformat": 4
}
