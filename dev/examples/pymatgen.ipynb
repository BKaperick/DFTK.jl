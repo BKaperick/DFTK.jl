{
 "cells": [
  {
   "cell_type": "markdown",
   "source": [
    "# Creating supercells with pymatgen\n",
    "\n",
    "The [Pymatgen](https://pymatgen.org/) python library allows to setup\n",
    "solid-state calculations using a flexible set of classes as well as an API\n",
    "to an online data base of structures. Its `Structure` and `Lattice`\n",
    "objects are directly supported by the DFTK `load_atoms` and `load_lattice`\n",
    "functions, such that DFTK may be readily used to run calculation on systems\n",
    "defined in pymatgen. Using the `pymatgen_structure` function a conversion\n",
    "from DFTK to pymatgen structures is also possible. In the following we\n",
    "use this to create a silicon supercell and find its LDA ground state\n",
    "using direct minimisation."
   ],
   "metadata": {}
  },
  {
   "cell_type": "markdown",
   "source": [
    "First we setup the silicon lattice in DFTK."
   ],
   "metadata": {}
  },
  {
   "outputs": [],
   "cell_type": "code",
   "source": [
    "using DFTK\n",
    "\n",
    "a = 10.263141334305942  # Lattice constant in Bohr\n",
    "lattice = a / 2 .* [[0 1 1.]; [1 0 1.]; [1 1 0.]]\n",
    "Si = ElementPsp(:Si, psp=load_psp(\"hgh/lda/Si-q4\"))\n",
    "atoms = [Si => [ones(3)/8, -ones(3)/8]];"
   ],
   "metadata": {},
   "execution_count": 1
  },
  {
   "cell_type": "markdown",
   "source": [
    "Next we make a `[2, 2, 2]` supercell using pymatgen"
   ],
   "metadata": {}
  },
  {
   "outputs": [],
   "cell_type": "code",
   "source": [
    "pystruct = pymatgen_structure(lattice, atoms)\n",
    "pystruct.make_supercell([2, 2, 2])\n",
    "lattice = load_lattice(pystruct)\n",
    "atoms = [Si => [s.frac_coords for s in pystruct.sites]];"
   ],
   "metadata": {},
   "execution_count": 2
  },
  {
   "cell_type": "markdown",
   "source": [
    "Setup an LDA model and discretize using\n",
    "a single kpoint and a small `Ecut` of 5 Hartree."
   ],
   "metadata": {}
  },
  {
   "outputs": [
    {
     "output_type": "execute_result",
     "data": {
      "text/plain": "PlaneWaveBasis (Ecut=5.0, 1 kpoints)"
     },
     "metadata": {},
     "execution_count": 3
    }
   ],
   "cell_type": "code",
   "source": [
    "model = model_LDA(lattice, atoms)\n",
    "basis = PlaneWaveBasis(model, 5, kgrid=(1, 1, 1))"
   ],
   "metadata": {},
   "execution_count": 3
  },
  {
   "cell_type": "markdown",
   "source": [
    "Find the ground state using direct minimisation (always using SCF is boring ...)"
   ],
   "metadata": {}
  },
  {
   "outputs": [
    {
     "name": "stdout",
     "output_type": "stream",
     "text": [
      "Iter     Function value   Gradient norm \n",
      "     0     1.124688e+02     1.560195e+00\n",
      " * time: 0.12476396560668945\n",
      "     1     1.097085e+01     9.104558e-01\n",
      " * time: 1.4601819515228271\n",
      "     2    -1.145221e+01     1.004775e+00\n",
      " * time: 1.528130054473877\n",
      "     3    -3.395551e+01     8.396454e-01\n",
      " * time: 1.618600845336914\n",
      "     4    -4.736370e+01     6.728611e-01\n",
      " * time: 1.7180979251861572\n",
      "     5    -5.697525e+01     2.446134e-01\n",
      " * time: 1.793949842453003\n",
      "     6    -5.980586e+01     1.958807e-01\n",
      " * time: 1.8516249656677246\n",
      "     7    -6.092854e+01     6.577497e-02\n",
      " * time: 1.9300549030303955\n",
      "     8    -6.140944e+01     4.435834e-02\n",
      " * time: 1.990488052368164\n",
      "     9    -6.169865e+01     3.471013e-02\n",
      " * time: 2.0513789653778076\n",
      "    10    -6.186340e+01     3.303808e-02\n",
      " * time: 2.1116600036621094\n",
      "    11    -6.201330e+01     2.482539e-02\n",
      " * time: 2.1721270084381104\n",
      "    12    -6.210004e+01     2.079766e-02\n",
      " * time: 2.241644859313965\n",
      "    13    -6.214071e+01     1.363802e-02\n",
      " * time: 2.302297830581665\n",
      "    14    -6.217957e+01     1.088894e-02\n",
      " * time: 2.3656320571899414\n",
      "    15    -6.219755e+01     9.362512e-03\n",
      " * time: 2.4285919666290283\n",
      "    16    -6.220989e+01     8.823074e-03\n",
      " * time: 2.496124029159546\n",
      "    17    -6.221723e+01     6.565013e-03\n",
      " * time: 2.556766986846924\n",
      "    18    -6.222320e+01     6.494644e-03\n",
      " * time: 2.6155478954315186\n",
      "    19    -6.222819e+01     6.895113e-03\n",
      " * time: 2.6765739917755127\n",
      "    20    -6.223339e+01     5.814194e-03\n",
      " * time: 2.7451980113983154\n",
      "    21    -6.223916e+01     6.811729e-03\n",
      " * time: 2.8059918880462646\n",
      "    22    -6.224547e+01     6.785085e-03\n",
      " * time: 2.8645808696746826\n",
      "    23    -6.225146e+01     5.914779e-03\n",
      " * time: 2.9256930351257324\n",
      "    24    -6.225558e+01     4.504640e-03\n",
      " * time: 2.9857499599456787\n",
      "    25    -6.225785e+01     2.864133e-03\n",
      " * time: 3.0535309314727783\n",
      "    26    -6.225917e+01     2.335125e-03\n",
      " * time: 3.112957000732422\n",
      "    27    -6.225995e+01     1.921566e-03\n",
      " * time: 3.172329902648926\n",
      "    28    -6.226048e+01     1.747226e-03\n",
      " * time: 3.233074903488159\n",
      "    29    -6.226087e+01     1.461069e-03\n",
      " * time: 3.300053834915161\n",
      "    30    -6.226117e+01     1.268229e-03\n",
      " * time: 3.360581874847412\n",
      "    31    -6.226137e+01     8.826699e-04\n",
      " * time: 3.4207990169525146\n",
      "    32    -6.226150e+01     5.788293e-04\n",
      " * time: 3.481673002243042\n",
      "    33    -6.226158e+01     4.211574e-04\n",
      " * time: 3.5492169857025146\n",
      "    34    -6.226162e+01     4.357019e-04\n",
      " * time: 3.608541965484619\n",
      "    35    -6.226165e+01     3.063441e-04\n",
      " * time: 3.668107032775879\n",
      "    36    -6.226166e+01     2.276182e-04\n",
      " * time: 3.7270209789276123\n",
      "    37    -6.226166e+01     1.444438e-04\n",
      " * time: 3.789340019226074\n",
      "    38    -6.226166e+01     1.026298e-04\n",
      " * time: 3.855862855911255\n",
      "    39    -6.226166e+01     9.611919e-05\n",
      " * time: 3.9145798683166504\n",
      "    40    -6.226167e+01     7.015250e-05\n",
      " * time: 3.9739959239959717\n",
      "    41    -6.226167e+01     5.699788e-05\n",
      " * time: 4.0335729122161865\n",
      "    42    -6.226167e+01     4.187367e-05\n",
      " * time: 4.100675821304321\n",
      "    43    -6.226167e+01     3.483784e-05\n",
      " * time: 4.161294937133789\n",
      "    44    -6.226167e+01     2.901579e-05\n",
      " * time: 4.222615957260132\n",
      "    45    -6.226167e+01     1.967127e-05\n",
      " * time: 4.282512903213501\n",
      "    46    -6.226167e+01     1.381561e-05\n",
      " * time: 4.343688011169434\n",
      "    47    -6.226167e+01     8.872602e-06\n",
      " * time: 4.410509824752808\n",
      "    48    -6.226167e+01     5.736849e-06\n",
      " * time: 4.469058036804199\n",
      "    49    -6.226167e+01     3.998579e-06\n",
      " * time: 4.5287699699401855\n",
      "    50    -6.226167e+01     3.505242e-06\n",
      " * time: 4.602895021438599\n",
      "    51    -6.226167e+01     3.246875e-06\n",
      " * time: 4.670184850692749\n"
     ]
    }
   ],
   "cell_type": "code",
   "source": [
    "scfres = direct_minimization(basis, tol=1e-5);"
   ],
   "metadata": {},
   "execution_count": 4
  },
  {
   "outputs": [
    {
     "output_type": "execute_result",
     "data": {
      "text/plain": "Energy breakdown:\n    Kinetic             25.7671074\n    AtomicLocal         -18.8557695\n    AtomicNonlocal      14.8522652\n    Ewald               -67.1831486\n    PspCorrection       -2.3569765\n    Hartree             4.8485380 \n    Xc                  -19.3336823\n\n    total               -62.261666460151\n"
     },
     "metadata": {},
     "execution_count": 5
    }
   ],
   "cell_type": "code",
   "source": [
    "scfres.energies"
   ],
   "metadata": {},
   "execution_count": 5
  }
 ],
 "nbformat_minor": 3,
 "metadata": {
  "language_info": {
   "file_extension": ".jl",
   "mimetype": "application/julia",
   "name": "julia",
   "version": "1.5.3"
  },
  "kernelspec": {
   "name": "julia-1.5",
   "display_name": "Julia 1.5.3",
   "language": "julia"
  }
 },
 "nbformat": 4
}
