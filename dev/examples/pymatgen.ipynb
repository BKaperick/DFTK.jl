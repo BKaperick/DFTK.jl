{
 "cells": [
  {
   "cell_type": "markdown",
   "source": [
    "# Creating supercells with pymatgen\n",
    "\n",
    "The [Pymatgen](https://pymatgen.org/) python library allows to setup\n",
    "solid-state calculations using a flexible set of classes as well as an API\n",
    "to an online data base of structures. Its `Structure` and `Lattice`\n",
    "objects are directly supported by the DFTK `load_atoms` and `load_lattice`\n",
    "functions, such that DFTK may be readily used to run calculation on systems\n",
    "defined in pymatgen. Using the `pymatgen_structure` function a conversion\n",
    "from DFTK to pymatgen structures is also possible. In the following we\n",
    "use this to create a silicon supercell and find its LDA ground state\n",
    "using direct minimisation."
   ],
   "metadata": {}
  },
  {
   "cell_type": "markdown",
   "source": [
    "First we setup the silicon lattice in DFTK."
   ],
   "metadata": {}
  },
  {
   "outputs": [],
   "cell_type": "code",
   "source": [
    "using DFTK\n",
    "\n",
    "a = 10.263141334305942  # Lattice constant in Bohr\n",
    "lattice = a / 2 .* [[0 1 1.]; [1 0 1.]; [1 1 0.]]\n",
    "Si = ElementPsp(:Si, psp=load_psp(\"hgh/lda/Si-q4\"))\n",
    "atoms = [Si => [ones(3)/8, -ones(3)/8]];"
   ],
   "metadata": {},
   "execution_count": 1
  },
  {
   "cell_type": "markdown",
   "source": [
    "Next we make a `[2, 2, 2]` supercell using pymatgen"
   ],
   "metadata": {}
  },
  {
   "outputs": [],
   "cell_type": "code",
   "source": [
    "pystruct = pymatgen_structure(lattice, atoms)\n",
    "pystruct.make_supercell([2, 2, 2])\n",
    "lattice = load_lattice(pystruct)\n",
    "atoms = [Si => [s.frac_coords for s in pystruct.sites]];"
   ],
   "metadata": {},
   "execution_count": 2
  },
  {
   "cell_type": "markdown",
   "source": [
    "Setup an LDA model and discretize using\n",
    "a single kpoint and a small `Ecut` of 5 Hartree."
   ],
   "metadata": {}
  },
  {
   "outputs": [
    {
     "output_type": "execute_result",
     "data": {
      "text/plain": "PlaneWaveBasis (Ecut=5.0, 1 kpoints)"
     },
     "metadata": {},
     "execution_count": 3
    }
   ],
   "cell_type": "code",
   "source": [
    "model = model_LDA(lattice, atoms)\n",
    "basis = PlaneWaveBasis(model, 5, kgrid=(1, 1, 1))"
   ],
   "metadata": {},
   "execution_count": 3
  },
  {
   "cell_type": "markdown",
   "source": [
    "Find the ground state using direct minimisation (always using SCF is boring ...)"
   ],
   "metadata": {}
  },
  {
   "outputs": [
    {
     "name": "stdout",
     "output_type": "stream",
     "text": [
      "Iter     Function value   Gradient norm \n",
      "     0     1.121780e+02     1.411379e+00\n",
      " * time: 0.6467881202697754\n",
      "     1     1.000811e+01     8.957799e-01\n",
      " * time: 1.7518610954284668\n",
      "     2    -1.196437e+01     9.557214e-01\n",
      " * time: 2.3314590454101562\n",
      "     3    -3.417866e+01     8.123438e-01\n",
      " * time: 3.1426279544830322\n",
      "     4    -4.763700e+01     5.790681e-01\n",
      " * time: 3.96492600440979\n",
      "     5    -5.716639e+01     2.486381e-01\n",
      " * time: 4.77888298034668\n",
      "     6    -5.996395e+01     1.539568e-01\n",
      " * time: 5.441251993179321\n",
      "     7    -6.098977e+01     4.802487e-02\n",
      " * time: 6.00477409362793\n",
      "     8    -6.138587e+01     5.916418e-02\n",
      " * time: 6.559446096420288\n",
      "     9    -6.161624e+01     4.113447e-02\n",
      " * time: 7.108334064483643\n",
      "    10    -6.180976e+01     2.565887e-02\n",
      " * time: 8.025820970535278\n",
      "    11    -6.196242e+01     2.276160e-02\n",
      " * time: 8.571614980697632\n",
      "    12    -6.204547e+01     1.719422e-02\n",
      " * time: 9.12139105796814\n",
      "    13    -6.210556e+01     1.347280e-02\n",
      " * time: 9.690142154693604\n",
      "    14    -6.214368e+01     1.014889e-02\n",
      " * time: 10.459619998931885\n",
      "    15    -6.216522e+01     8.245775e-03\n",
      " * time: 11.009968042373657\n",
      "    16    -6.217681e+01     7.279702e-03\n",
      " * time: 11.550305128097534\n",
      "    17    -6.218493e+01     5.260757e-03\n",
      " * time: 12.114468097686768\n",
      "    18    -6.219167e+01     4.623927e-03\n",
      " * time: 12.651808023452759\n",
      "    19    -6.219717e+01     4.713492e-03\n",
      " * time: 13.19146203994751\n",
      "    20    -6.220175e+01     3.618234e-03\n",
      " * time: 13.731266021728516\n",
      "    21    -6.220572e+01     3.256769e-03\n",
      " * time: 14.27578616142273\n",
      "    22    -6.220855e+01     2.830212e-03\n",
      " * time: 14.813209056854248\n",
      "    23    -6.221043e+01     2.656075e-03\n",
      " * time: 15.352283954620361\n",
      "    24    -6.221172e+01     2.473546e-03\n",
      " * time: 15.901110172271729\n",
      "    25    -6.221267e+01     2.270306e-03\n",
      " * time: 16.43437695503235\n",
      "    26    -6.221344e+01     2.239232e-03\n",
      " * time: 16.971084117889404\n",
      "    27    -6.221415e+01     2.635311e-03\n",
      " * time: 17.51786708831787\n",
      "    28    -6.221501e+01     2.840236e-03\n",
      " * time: 18.052211046218872\n",
      "    29    -6.221620e+01     3.740145e-03\n",
      " * time: 18.59107804298401\n",
      "    30    -6.221816e+01     4.510014e-03\n",
      " * time: 19.143351078033447\n",
      "    31    -6.222155e+01     5.660070e-03\n",
      " * time: 19.678565979003906\n",
      "    32    -6.222665e+01     6.258221e-03\n",
      " * time: 20.22054696083069\n",
      "    33    -6.223459e+01     6.004034e-03\n",
      " * time: 20.768346071243286\n",
      "    34    -6.224417e+01     5.569689e-03\n",
      " * time: 21.30976104736328\n",
      "    35    -6.225001e+01     4.064811e-03\n",
      " * time: 21.8511221408844\n",
      "    36    -6.225430e+01     2.943094e-03\n",
      " * time: 22.38888716697693\n",
      "    37    -6.225639e+01     3.173932e-03\n",
      " * time: 22.945106983184814\n",
      "    38    -6.225812e+01     2.032605e-03\n",
      " * time: 23.488088130950928\n",
      "    39    -6.225928e+01     2.330402e-03\n",
      " * time: 24.032555103302002\n",
      "    40    -6.226015e+01     1.729778e-03\n",
      " * time: 24.6002459526062\n",
      "    41    -6.226075e+01     1.544236e-03\n",
      " * time: 25.212702989578247\n",
      "    42    -6.226112e+01     1.104016e-03\n",
      " * time: 25.818340063095093\n",
      "    43    -6.226135e+01     7.949437e-04\n",
      " * time: 26.35611915588379\n",
      "    44    -6.226148e+01     5.831381e-04\n",
      " * time: 26.903444051742554\n",
      "    45    -6.226156e+01     4.807551e-04\n",
      " * time: 27.442003965377808\n",
      "    46    -6.226160e+01     3.641784e-04\n",
      " * time: 27.97361397743225\n",
      "    47    -6.226162e+01     3.202808e-04\n",
      " * time: 28.516390085220337\n",
      "    48    -6.226164e+01     2.188525e-04\n",
      " * time: 29.065685987472534\n",
      "    49    -6.226165e+01     1.692079e-04\n",
      " * time: 29.60500717163086\n",
      "    50    -6.226166e+01     1.236157e-04\n",
      " * time: 30.140615940093994\n",
      "    51    -6.226166e+01     1.052535e-04\n",
      " * time: 30.68285894393921\n",
      "    52    -6.226166e+01     9.606821e-05\n",
      " * time: 31.22715711593628\n",
      "    53    -6.226166e+01     6.534788e-05\n",
      " * time: 31.764984130859375\n",
      "    54    -6.226167e+01     4.329197e-05\n",
      " * time: 32.30396294593811\n",
      "    55    -6.226167e+01     2.937544e-05\n",
      " * time: 32.83715009689331\n",
      "    56    -6.226167e+01     2.634137e-05\n",
      " * time: 33.41798210144043\n",
      "    57    -6.226167e+01     1.965005e-05\n",
      " * time: 33.963303089141846\n",
      "    58    -6.226167e+01     1.881197e-05\n",
      " * time: 34.50745606422424\n",
      "    59    -6.226167e+01     1.397724e-05\n",
      " * time: 35.049113035202026\n",
      "    60    -6.226167e+01     9.348455e-06\n",
      " * time: 35.61721897125244\n",
      "    61    -6.226167e+01     8.668410e-06\n",
      " * time: 36.14887499809265\n",
      "    62    -6.226167e+01     6.819215e-06\n",
      " * time: 36.71613907814026\n",
      "    63    -6.226167e+01     5.659252e-06\n",
      " * time: 37.26429295539856\n",
      "    64    -6.226167e+01     5.061620e-06\n",
      " * time: 37.80584406852722\n",
      "    65    -6.226167e+01     3.658780e-06\n",
      " * time: 38.33587598800659\n",
      "    66    -6.226167e+01     3.095505e-06\n",
      " * time: 38.881186962127686\n"
     ]
    }
   ],
   "cell_type": "code",
   "source": [
    "scfres = direct_minimization(basis, tol=1e-5);"
   ],
   "metadata": {},
   "execution_count": 4
  },
  {
   "outputs": [
    {
     "output_type": "execute_result",
     "data": {
      "text/plain": "Energy breakdown:\n    Kinetic             25.7671052\n    AtomicLocal         -18.8557599\n    AtomicNonlocal      14.8522601\n    Ewald               -67.1831486\n    PspCorrection       -2.3569765\n    Hartree             4.8485343 \n    Xc                  -19.3336809\n\n    total               -62.261666459695\n"
     },
     "metadata": {},
     "execution_count": 5
    }
   ],
   "cell_type": "code",
   "source": [
    "scfres.energies"
   ],
   "metadata": {},
   "execution_count": 5
  }
 ],
 "nbformat_minor": 3,
 "metadata": {
  "language_info": {
   "file_extension": ".jl",
   "mimetype": "application/julia",
   "name": "julia",
   "version": "1.6.2"
  },
  "kernelspec": {
   "name": "julia-1.6",
   "display_name": "Julia 1.6.2",
   "language": "julia"
  }
 },
 "nbformat": 4
}
