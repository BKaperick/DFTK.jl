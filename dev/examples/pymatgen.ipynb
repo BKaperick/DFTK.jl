{
 "cells": [
  {
   "cell_type": "markdown",
   "source": [
    "# Creating supercells with pymatgen\n",
    "\n",
    "The [Pymatgen](https://pymatgen.org/) python library allows to setup\n",
    "solid-state calculations using a flexible set of classes as well as an API\n",
    "to an online data base of structures. Its `Structure` and `Lattice`\n",
    "objects are directly supported by the DFTK `load_atoms` and `load_lattice`\n",
    "functions, such that DFTK may be readily used to run calculation on systems\n",
    "defined in pymatgen. Using the `pymatgen_structure` function a conversion\n",
    "from DFTK to pymatgen structures is also possible. In the following we\n",
    "use this to create a silicon supercell and find its LDA ground state\n",
    "using direct minimisation."
   ],
   "metadata": {}
  },
  {
   "cell_type": "markdown",
   "source": [
    "First we setup the silicon lattice in DFTK."
   ],
   "metadata": {}
  },
  {
   "outputs": [],
   "cell_type": "code",
   "source": [
    "using DFTK\n",
    "\n",
    "a = 10.263141334305942  # Lattice constant in Bohr\n",
    "lattice = a / 2 .* [[0 1 1.]; [1 0 1.]; [1 1 0.]]\n",
    "Si = ElementPsp(:Si, psp=load_psp(\"hgh/lda/Si-q4\"))\n",
    "atoms = [Si => [ones(3)/8, -ones(3)/8]];"
   ],
   "metadata": {},
   "execution_count": 1
  },
  {
   "cell_type": "markdown",
   "source": [
    "Next we make a `[2, 2, 2]` supercell using pymatgen"
   ],
   "metadata": {}
  },
  {
   "outputs": [],
   "cell_type": "code",
   "source": [
    "pystruct = pymatgen_structure(lattice, atoms)\n",
    "pystruct.make_supercell([2, 2, 2])\n",
    "lattice = load_lattice(pystruct)\n",
    "atoms = [Si => [s.frac_coords for s in pystruct.sites]];"
   ],
   "metadata": {},
   "execution_count": 2
  },
  {
   "cell_type": "markdown",
   "source": [
    "Setup an LDA model and discretize using\n",
    "a single kpoint and a small `Ecut` of 5 Hartree.\n",
    "Notice that `PlaneWaveBasis` defaults to just using the ``Γ``-point\n",
    "if no ``k``-point options are provided."
   ],
   "metadata": {}
  },
  {
   "outputs": [
    {
     "output_type": "execute_result",
     "data": {
      "text/plain": "PlaneWaveBasis (Ecut=5.0, 1 kpoints)"
     },
     "metadata": {},
     "execution_count": 3
    }
   ],
   "cell_type": "code",
   "source": [
    "model = model_LDA(lattice, atoms)\n",
    "basis = PlaneWaveBasis(model, 5)"
   ],
   "metadata": {},
   "execution_count": 3
  },
  {
   "cell_type": "markdown",
   "source": [
    "Find the ground state using direct minimisation (always using SCF is boring ...)"
   ],
   "metadata": {}
  },
  {
   "outputs": [
    {
     "name": "stdout",
     "output_type": "stream",
     "text": [
      "Iter     Function value   Gradient norm \n",
      "     0     1.121742e+02     1.553517e+00\n",
      " * time: 0.0934760570526123\n",
      "     1     1.106535e+01     8.650723e-01\n",
      " * time: 0.990792989730835\n",
      "     2    -1.275862e+01     1.009868e+00\n",
      " * time: 1.1428840160369873\n",
      "     3    -3.458134e+01     7.774515e-01\n",
      " * time: 1.3157479763031006\n",
      "     4    -4.857119e+01     5.116347e-01\n",
      " * time: 1.4733550548553467\n",
      "     5    -5.736638e+01     2.046619e-01\n",
      " * time: 1.626626968383789\n",
      "     6    -6.000338e+01     1.047127e-01\n",
      " * time: 1.739583969116211\n",
      "     7    -6.095896e+01     6.184132e-02\n",
      " * time: 1.8596999645233154\n",
      "     8    -6.135452e+01     7.363773e-02\n",
      " * time: 1.9737310409545898\n",
      "     9    -6.165758e+01     3.844136e-02\n",
      " * time: 2.0960090160369873\n",
      "    10    -6.185244e+01     2.803859e-02\n",
      " * time: 2.2165091037750244\n",
      "    11    -6.199065e+01     2.018065e-02\n",
      " * time: 2.3296549320220947\n",
      "    12    -6.205283e+01     2.010708e-02\n",
      " * time: 2.4517979621887207\n",
      "    13    -6.211000e+01     1.393567e-02\n",
      " * time: 2.5715830326080322\n",
      "    14    -6.213831e+01     1.302713e-02\n",
      " * time: 2.6827681064605713\n",
      "    15    -6.216089e+01     1.021496e-02\n",
      " * time: 2.802536964416504\n",
      "    16    -6.217401e+01     8.295239e-03\n",
      " * time: 2.9149270057678223\n",
      "    17    -6.218398e+01     6.456672e-03\n",
      " * time: 3.0352110862731934\n",
      "    18    -6.219233e+01     6.650344e-03\n",
      " * time: 3.156085968017578\n",
      "    19    -6.219993e+01     7.189428e-03\n",
      " * time: 3.269547939300537\n",
      "    20    -6.220763e+01     6.655203e-03\n",
      " * time: 3.390247106552124\n",
      "    21    -6.221589e+01     6.513557e-03\n",
      " * time: 3.5019710063934326\n",
      "    22    -6.222447e+01     7.092926e-03\n",
      " * time: 3.6220500469207764\n",
      "    23    -6.223296e+01     6.825506e-03\n",
      " * time: 3.7433109283447266\n",
      "    24    -6.224025e+01     6.970988e-03\n",
      " * time: 3.8571081161499023\n",
      "    25    -6.224594e+01     6.666440e-03\n",
      " * time: 3.9787731170654297\n",
      "    26    -6.225038e+01     5.472982e-03\n",
      " * time: 4.094870090484619\n",
      "    27    -6.225356e+01     5.336881e-03\n",
      " * time: 4.215724945068359\n",
      "    28    -6.225592e+01     3.399090e-03\n",
      " * time: 4.336182117462158\n",
      "    29    -6.225778e+01     3.229458e-03\n",
      " * time: 4.448776006698608\n",
      "    30    -6.225926e+01     2.330930e-03\n",
      " * time: 4.569534063339233\n",
      "    31    -6.226024e+01     1.816155e-03\n",
      " * time: 4.682090997695923\n",
      "    32    -6.226086e+01     1.481226e-03\n",
      " * time: 4.802170038223267\n",
      "    33    -6.226125e+01     1.089886e-03\n",
      " * time: 4.922363996505737\n",
      "    34    -6.226146e+01     9.055516e-04\n",
      " * time: 5.035117149353027\n",
      "    35    -6.226156e+01     5.891274e-04\n",
      " * time: 5.156577110290527\n",
      "    36    -6.226161e+01     3.964228e-04\n",
      " * time: 5.2773520946502686\n",
      "    37    -6.226163e+01     3.018543e-04\n",
      " * time: 5.389979124069214\n",
      "    38    -6.226164e+01     2.373059e-04\n",
      " * time: 5.510530948638916\n",
      "    39    -6.226165e+01     1.756085e-04\n",
      " * time: 5.625956058502197\n",
      "    40    -6.226166e+01     1.550816e-04\n",
      " * time: 5.748345136642456\n",
      "    41    -6.226166e+01     1.241733e-04\n",
      " * time: 5.871147155761719\n",
      "    42    -6.226166e+01     8.979414e-05\n",
      " * time: 5.984748125076294\n",
      "    43    -6.226166e+01     7.408470e-05\n",
      " * time: 6.108418941497803\n",
      "    44    -6.226167e+01     5.645434e-05\n",
      " * time: 6.221595048904419\n",
      "    45    -6.226167e+01     4.241716e-05\n",
      " * time: 6.342154026031494\n",
      "    46    -6.226167e+01     3.277605e-05\n",
      " * time: 6.464152097702026\n",
      "    47    -6.226167e+01     2.021926e-05\n",
      " * time: 6.577275991439819\n",
      "    48    -6.226167e+01     1.201908e-05\n",
      " * time: 6.697865962982178\n",
      "    49    -6.226167e+01     1.061870e-05\n",
      " * time: 6.811300039291382\n",
      "    50    -6.226167e+01     9.378450e-06\n",
      " * time: 6.93229603767395\n",
      "    51    -6.226167e+01     6.561809e-06\n",
      " * time: 7.054739952087402\n",
      "    52    -6.226167e+01     6.576945e-06\n",
      " * time: 7.16754412651062\n",
      "    53    -6.226167e+01     4.160891e-06\n",
      " * time: 7.2890660762786865\n",
      "    54    -6.226167e+01     3.417104e-06\n",
      " * time: 7.409661054611206\n",
      "    55    -6.226167e+01     2.840022e-06\n",
      " * time: 7.523425102233887\n",
      "    56    -6.226167e+01     2.350014e-06\n",
      " * time: 7.645705938339233\n",
      "    57    -6.226167e+01     1.754568e-06\n",
      " * time: 7.75842809677124\n"
     ]
    }
   ],
   "cell_type": "code",
   "source": [
    "scfres = direct_minimization(basis, tol=1e-5);"
   ],
   "metadata": {},
   "execution_count": 4
  },
  {
   "outputs": [
    {
     "output_type": "execute_result",
     "data": {
      "text/plain": "Energy breakdown:\n    Kinetic             25.7671073\n    AtomicLocal         -18.8557685\n    AtomicNonlocal      14.8522644\n    Ewald               -67.1831486\n    PspCorrection       -2.3569765\n    Hartree             4.8485378 \n    Xc                  -19.3336823\n\n    total               -62.261666462754\n"
     },
     "metadata": {},
     "execution_count": 5
    }
   ],
   "cell_type": "code",
   "source": [
    "scfres.energies"
   ],
   "metadata": {},
   "execution_count": 5
  }
 ],
 "nbformat_minor": 3,
 "metadata": {
  "language_info": {
   "file_extension": ".jl",
   "mimetype": "application/julia",
   "name": "julia",
   "version": "1.3.1"
  },
  "kernelspec": {
   "name": "julia-1.3",
   "display_name": "Julia 1.3.1",
   "language": "julia"
  }
 },
 "nbformat": 4
}
