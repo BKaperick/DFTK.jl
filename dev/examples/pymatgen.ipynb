{
 "cells": [
  {
   "cell_type": "markdown",
   "source": [
    "# Creating supercells with pymatgen\n",
    "\n",
    "The [Pymatgen](https://pymatgen.org/) python library allows to setup\n",
    "solid-state calculations using a flexible set of classes as well as an API\n",
    "to an online data base of structures. Its `Structure` and `Lattice`\n",
    "objects are directly supported by the DFTK `load_atoms` and `load_lattice`\n",
    "functions, such that DFTK may be readily used to run calculation on systems\n",
    "defined in pymatgen. Using the `pymatgen_structure` function a conversion\n",
    "from DFTK to pymatgen structures is also possible. In the following we\n",
    "use this to create a silicon supercell and find its LDA ground state\n",
    "using direct minimisation."
   ],
   "metadata": {}
  },
  {
   "cell_type": "markdown",
   "source": [
    "First we setup the silicon lattice in DFTK."
   ],
   "metadata": {}
  },
  {
   "outputs": [],
   "cell_type": "code",
   "source": [
    "using DFTK\n",
    "\n",
    "a = 10.263141334305942  # Lattice constant in Bohr\n",
    "lattice = a / 2 .* [[0 1 1.]; [1 0 1.]; [1 1 0.]]\n",
    "Si = ElementPsp(:Si, psp=load_psp(\"hgh/lda/Si-q4\"))\n",
    "atoms = [Si => [ones(3)/8, -ones(3)/8]];"
   ],
   "metadata": {},
   "execution_count": 1
  },
  {
   "cell_type": "markdown",
   "source": [
    "Next we make a `[2, 2, 2]` supercell using pymatgen"
   ],
   "metadata": {}
  },
  {
   "outputs": [],
   "cell_type": "code",
   "source": [
    "pystruct = pymatgen_structure(lattice, atoms)\n",
    "pystruct.make_supercell([2, 2, 2])\n",
    "lattice = load_lattice(pystruct)\n",
    "atoms = [Si => [s.frac_coords for s in pystruct.sites]];"
   ],
   "metadata": {},
   "execution_count": 2
  },
  {
   "cell_type": "markdown",
   "source": [
    "Setup an LDA model and discretize using\n",
    "a single kpoint and a small `Ecut` of 5 Hartree.\n",
    "Notice that `PlaneWaveBasis` defaults to just using the ``Γ``-point\n",
    "if no ``k``-point options are provided."
   ],
   "metadata": {}
  },
  {
   "outputs": [
    {
     "output_type": "execute_result",
     "data": {
      "text/plain": "PlaneWaveBasis (Ecut=5.0, 1 kpoints)"
     },
     "metadata": {},
     "execution_count": 3
    }
   ],
   "cell_type": "code",
   "source": [
    "model = model_LDA(lattice, atoms)\n",
    "basis = PlaneWaveBasis(model, 5)"
   ],
   "metadata": {},
   "execution_count": 3
  },
  {
   "cell_type": "markdown",
   "source": [
    "Find the ground state using direct minimisation (always using SCF is boring ...)"
   ],
   "metadata": {}
  },
  {
   "outputs": [
    {
     "name": "stdout",
     "output_type": "stream",
     "text": [
      "Iter     Function value   Gradient norm \n",
      "     0     1.112314e+02     1.655468e+00\n",
      " * time: 0.09197187423706055\n",
      "     1     1.034287e+01     9.727900e-01\n",
      " * time: 1.000229835510254\n",
      "     2    -1.232662e+01     1.067384e+00\n",
      " * time: 1.1167609691619873\n",
      "     3    -3.436391e+01     9.171943e-01\n",
      " * time: 1.282438039779663\n",
      "     4    -4.794520e+01     6.917427e-01\n",
      " * time: 1.4364559650421143\n",
      "     5    -5.732968e+01     2.351459e-01\n",
      " * time: 1.5852069854736328\n",
      "     6    -6.006813e+01     1.696503e-01\n",
      " * time: 1.6930279731750488\n",
      "     7    -6.107399e+01     6.119983e-02\n",
      " * time: 1.81392502784729\n",
      "     8    -6.147364e+01     6.638063e-02\n",
      " * time: 1.9460928440093994\n",
      "     9    -6.171714e+01     5.850359e-02\n",
      " * time: 2.054672956466675\n",
      "    10    -6.189595e+01     2.331515e-02\n",
      " * time: 2.171311855316162\n",
      "    11    -6.202054e+01     1.782125e-02\n",
      " * time: 2.288482904434204\n",
      "    12    -6.207831e+01     1.659982e-02\n",
      " * time: 2.3969569206237793\n",
      "    13    -6.212639e+01     1.344925e-02\n",
      " * time: 2.5144870281219482\n",
      "    14    -6.215712e+01     1.194295e-02\n",
      " * time: 2.6246678829193115\n",
      "    15    -6.218056e+01     1.108966e-02\n",
      " * time: 2.745936870574951\n",
      "    16    -6.219507e+01     1.185776e-02\n",
      " * time: 2.8633289337158203\n",
      "    17    -6.220649e+01     1.006025e-02\n",
      " * time: 2.972972869873047\n",
      "    18    -6.221535e+01     8.824052e-03\n",
      " * time: 3.0910799503326416\n",
      "    19    -6.222194e+01     7.338356e-03\n",
      " * time: 3.200489044189453\n",
      "    20    -6.222718e+01     5.193109e-03\n",
      " * time: 3.317889928817749\n",
      "    21    -6.223205e+01     5.841088e-03\n",
      " * time: 3.434926986694336\n",
      "    22    -6.223718e+01     5.564581e-03\n",
      " * time: 3.544752836227417\n",
      "    23    -6.224252e+01     6.937207e-03\n",
      " * time: 3.663404941558838\n",
      "    24    -6.224808e+01     6.977036e-03\n",
      " * time: 3.774688959121704\n",
      "    25    -6.225302e+01     5.453990e-03\n",
      " * time: 3.893242835998535\n",
      "    26    -6.225641e+01     3.961225e-03\n",
      " * time: 4.011353969573975\n",
      "    27    -6.225853e+01     2.295393e-03\n",
      " * time: 4.1209259033203125\n",
      "    28    -6.225968e+01     1.905651e-03\n",
      " * time: 4.239675998687744\n",
      "    29    -6.226037e+01     1.586372e-03\n",
      " * time: 4.364822864532471\n",
      "    30    -6.226080e+01     1.286039e-03\n",
      " * time: 4.483428001403809\n",
      "    31    -6.226110e+01     1.105168e-03\n",
      " * time: 4.601748943328857\n",
      "    32    -6.226131e+01     1.058243e-03\n",
      " * time: 4.71189284324646\n",
      "    33    -6.226147e+01     1.057187e-03\n",
      " * time: 4.8273680210113525\n",
      "    34    -6.226156e+01     6.624453e-04\n",
      " * time: 4.935321807861328\n",
      "    35    -6.226162e+01     4.050733e-04\n",
      " * time: 5.0507729053497314\n",
      "    36    -6.226164e+01     3.270726e-04\n",
      " * time: 5.1671929359436035\n",
      "    37    -6.226165e+01     2.618815e-04\n",
      " * time: 5.27535080909729\n",
      "    38    -6.226166e+01     1.271737e-04\n",
      " * time: 5.39172101020813\n",
      "    39    -6.226166e+01     9.303870e-05\n",
      " * time: 5.5013039112091064\n",
      "    40    -6.226166e+01     8.099967e-05\n",
      " * time: 5.617523908615112\n",
      "    41    -6.226166e+01     6.547708e-05\n",
      " * time: 5.732861042022705\n",
      "    42    -6.226167e+01     5.510226e-05\n",
      " * time: 5.840627908706665\n",
      "    43    -6.226167e+01     4.063588e-05\n",
      " * time: 5.956331968307495\n",
      "    44    -6.226167e+01     3.355229e-05\n",
      " * time: 6.0741119384765625\n",
      "    45    -6.226167e+01     2.227161e-05\n",
      " * time: 6.18346095085144\n",
      "    46    -6.226167e+01     1.716001e-05\n",
      " * time: 6.299389839172363\n",
      "    47    -6.226167e+01     1.557652e-05\n",
      " * time: 6.407783031463623\n",
      "    48    -6.226167e+01     1.214434e-05\n",
      " * time: 6.5247650146484375\n",
      "    49    -6.226167e+01     9.415764e-06\n",
      " * time: 6.6402459144592285\n",
      "    50    -6.226167e+01     7.708761e-06\n",
      " * time: 6.749095916748047\n",
      "    51    -6.226167e+01     6.523328e-06\n",
      " * time: 6.86824893951416\n",
      "    52    -6.226167e+01     4.757303e-06\n",
      " * time: 6.996557950973511\n",
      "    53    -6.226167e+01     3.836439e-06\n",
      " * time: 7.117384910583496\n",
      "    54    -6.226167e+01     2.887494e-06\n",
      " * time: 7.234308958053589\n"
     ]
    }
   ],
   "cell_type": "code",
   "source": [
    "scfres = direct_minimization(basis, tol=1e-5);"
   ],
   "metadata": {},
   "execution_count": 4
  },
  {
   "outputs": [
    {
     "output_type": "execute_result",
     "data": {
      "text/plain": "Energy breakdown:\n    Kinetic             25.7671077\n    AtomicLocal         -18.8557681\n    AtomicNonlocal      14.8522635\n    Ewald               -67.1831486\n    PspCorrection       -2.3569765\n    Hartree             4.8485380 \n    Xc                  -19.3336824\n\n    total               -62.261666460368\n"
     },
     "metadata": {},
     "execution_count": 5
    }
   ],
   "cell_type": "code",
   "source": [
    "scfres.energies"
   ],
   "metadata": {},
   "execution_count": 5
  }
 ],
 "nbformat_minor": 3,
 "metadata": {
  "language_info": {
   "file_extension": ".jl",
   "mimetype": "application/julia",
   "name": "julia",
   "version": "1.3.1"
  },
  "kernelspec": {
   "name": "julia-1.3",
   "display_name": "Julia 1.3.1",
   "language": "julia"
  }
 },
 "nbformat": 4
}
