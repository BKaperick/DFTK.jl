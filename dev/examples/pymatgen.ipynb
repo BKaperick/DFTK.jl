{
 "cells": [
  {
   "cell_type": "markdown",
   "source": [
    "# Creating supercells with pymatgen\n",
    "\n",
    "The [Pymatgen](https://pymatgen.org/) python library allows to setup\n",
    "solid-state calculations using a flexible set of classes as well as an API\n",
    "to an online data base of structures. Its `Structure` and `Lattice`\n",
    "objects are directly supported by the DFTK `load_atoms` and `load_lattice`\n",
    "functions, such that DFTK may be readily used to run calculation on systems\n",
    "defined in pymatgen. Using the `pymatgen_structure` function a conversion\n",
    "from DFTK to pymatgen structures is also possible. In the following we\n",
    "use this to create a silicon supercell and find its LDA ground state\n",
    "using direct minimisation."
   ],
   "metadata": {}
  },
  {
   "cell_type": "markdown",
   "source": [
    "First we setup the silicon lattice in DFTK."
   ],
   "metadata": {}
  },
  {
   "outputs": [],
   "cell_type": "code",
   "source": [
    "using DFTK\n",
    "\n",
    "a = 10.263141334305942  # Lattice constant in Bohr\n",
    "lattice = a / 2 .* [[0 1 1.]; [1 0 1.]; [1 1 0.]]\n",
    "Si = ElementPsp(:Si, psp=load_psp(\"hgh/lda/Si-q4\"))\n",
    "atoms = [Si => [ones(3)/8, -ones(3)/8]];"
   ],
   "metadata": {},
   "execution_count": 1
  },
  {
   "cell_type": "markdown",
   "source": [
    "Next we make a `[2, 2, 2]` supercell using pymatgen"
   ],
   "metadata": {}
  },
  {
   "outputs": [],
   "cell_type": "code",
   "source": [
    "pystruct = pymatgen_structure(lattice, atoms)\n",
    "pystruct.make_supercell([2, 2, 2])\n",
    "lattice = load_lattice(pystruct)\n",
    "atoms = [Si => [s.frac_coords for s in pystruct.sites]];"
   ],
   "metadata": {},
   "execution_count": 2
  },
  {
   "cell_type": "markdown",
   "source": [
    "Setup an LDA model and discretize using\n",
    "a single kpoint and a small `Ecut` of 5 Hartree.\n",
    "Notice that `PlaneWaveBasis` defaults to just using the ``Γ``-point\n",
    "if no ``k``-point options are provided."
   ],
   "metadata": {}
  },
  {
   "outputs": [
    {
     "name": "stdout",
     "output_type": "stream",
     "text": [
      "Iter     Function value   Gradient norm \n",
      "     0     1.115664e+02     1.536012e+00\n",
      " * time: 0.1279900074005127\n",
      "     1     1.018830e+01     8.177933e-01\n",
      " * time: 0.9498951435089111\n",
      "     2    -1.191186e+01     9.448034e-01\n",
      " * time: 1.0828790664672852\n",
      "     3    -3.415417e+01     7.302661e-01\n",
      " * time: 1.2522361278533936\n",
      "     4    -4.763873e+01     5.653385e-01\n",
      " * time: 1.4071099758148193\n",
      "     5    -5.693761e+01     2.054103e-01\n",
      " * time: 1.5507681369781494\n",
      "     6    -5.972339e+01     1.649561e-01\n",
      " * time: 1.6677460670471191\n",
      "     7    -6.085713e+01     6.247863e-02\n",
      " * time: 1.7788469791412354\n",
      "     8    -6.135047e+01     4.257051e-02\n",
      " * time: 1.897355079650879\n",
      "     9    -6.162743e+01     3.729123e-02\n",
      " * time: 2.00740909576416\n",
      "    10    -6.181054e+01     3.260977e-02\n",
      " * time: 2.123703956604004\n",
      "    11    -6.196758e+01     2.062483e-02\n",
      " * time: 2.2329111099243164\n",
      "    12    -6.206152e+01     1.728121e-02\n",
      " * time: 2.3485920429229736\n",
      "    13    -6.210215e+01     1.363844e-02\n",
      " * time: 2.4587790966033936\n",
      "    14    -6.214417e+01     1.553139e-02\n",
      " * time: 2.577165126800537\n",
      "    15    -6.216196e+01     1.140516e-02\n",
      " * time: 2.6869430541992188\n",
      "    16    -6.217817e+01     9.672034e-03\n",
      " * time: 2.804893970489502\n",
      "    17    -6.219004e+01     8.103941e-03\n",
      " * time: 2.9146039485931396\n",
      "    18    -6.219923e+01     7.286393e-03\n",
      " * time: 3.0319690704345703\n",
      "    19    -6.220737e+01     7.397113e-03\n",
      " * time: 3.141817092895508\n",
      "    20    -6.221515e+01     8.619270e-03\n",
      " * time: 3.2595319747924805\n",
      "    21    -6.222341e+01     7.200992e-03\n",
      " * time: 3.3691329956054688\n",
      "    22    -6.223174e+01     7.109479e-03\n",
      " * time: 3.4874680042266846\n",
      "    23    -6.223952e+01     7.193375e-03\n",
      " * time: 3.5974271297454834\n",
      "    24    -6.224615e+01     5.048770e-03\n",
      " * time: 3.7148189544677734\n",
      "    25    -6.225096e+01     4.026161e-03\n",
      " * time: 3.8254499435424805\n",
      "    26    -6.225420e+01     3.415871e-03\n",
      " * time: 3.943932056427002\n",
      "    27    -6.225643e+01     2.854904e-03\n",
      " * time: 4.066425085067749\n",
      "    28    -6.225807e+01     2.476965e-03\n",
      " * time: 4.18978214263916\n",
      "    29    -6.225931e+01     1.956317e-03\n",
      " * time: 4.299269914627075\n",
      "    30    -6.226021e+01     2.583621e-03\n",
      " * time: 4.417269945144653\n",
      "    31    -6.226081e+01     1.640638e-03\n",
      " * time: 4.527930974960327\n",
      "    32    -6.226120e+01     1.257954e-03\n",
      " * time: 4.645280122756958\n",
      "    33    -6.226143e+01     7.206612e-04\n",
      " * time: 4.755753040313721\n",
      "    34    -6.226156e+01     5.481181e-04\n",
      " * time: 4.875415086746216\n",
      "    35    -6.226162e+01     3.380943e-04\n",
      " * time: 4.997390985488892\n",
      "    36    -6.226164e+01     2.888614e-04\n",
      " * time: 5.125886917114258\n",
      "    37    -6.226165e+01     2.210313e-04\n",
      " * time: 5.236127138137817\n",
      "    38    -6.226166e+01     1.614219e-04\n",
      " * time: 5.35421895980835\n",
      "    39    -6.226166e+01     1.245457e-04\n",
      " * time: 5.465050935745239\n",
      "    40    -6.226166e+01     9.490722e-05\n",
      " * time: 5.585536003112793\n",
      "    41    -6.226166e+01     7.400023e-05\n",
      " * time: 5.705824136734009\n",
      "    42    -6.226166e+01     5.854560e-05\n",
      " * time: 5.835322141647339\n",
      "    43    -6.226167e+01     4.616049e-05\n",
      " * time: 5.945544958114624\n",
      "    44    -6.226167e+01     4.418311e-05\n",
      " * time: 6.062374114990234\n",
      "    45    -6.226167e+01     3.392157e-05\n",
      " * time: 6.171083927154541\n",
      "    46    -6.226167e+01     2.025340e-05\n",
      " * time: 6.287142992019653\n",
      "    47    -6.226167e+01     1.282316e-05\n",
      " * time: 6.398936033248901\n",
      "    48    -6.226167e+01     9.293603e-06\n",
      " * time: 6.516438007354736\n",
      "    49    -6.226167e+01     6.849492e-06\n",
      " * time: 6.626819133758545\n",
      "    50    -6.226167e+01     7.276941e-06\n",
      " * time: 6.744246959686279\n"
     ]
    }
   ],
   "cell_type": "code",
   "source": [
    "model = model_LDA(lattice, atoms)\n",
    "basis = PlaneWaveBasis(model, 5)\n",
    "\n",
    "# Find the ground state using direct minimisation (always using SCF is boring ...)\n",
    "scfres = direct_minimization(basis, tol=1e-5);"
   ],
   "metadata": {},
   "execution_count": 3
  },
  {
   "outputs": [
    {
     "output_type": "execute_result",
     "data": {
      "text/plain": "Energy breakdown:\n    Kinetic             25.7671052\n    AtomicLocal         -18.8557599\n    AtomicNonlocal      14.8522599\n    Ewald               -67.1831486\n    PspCorrection       -2.3569765\n    Hartree             4.8485346 \n    Xc                  -19.3336811\n\n    total               -62.261666447040\n"
     },
     "metadata": {},
     "execution_count": 4
    }
   ],
   "cell_type": "code",
   "source": [
    "scfres.energies"
   ],
   "metadata": {},
   "execution_count": 4
  }
 ],
 "nbformat_minor": 3,
 "metadata": {
  "language_info": {
   "file_extension": ".jl",
   "mimetype": "application/julia",
   "name": "julia",
   "version": "1.3.1"
  },
  "kernelspec": {
   "name": "julia-1.3",
   "display_name": "Julia 1.3.1",
   "language": "julia"
  }
 },
 "nbformat": 4
}
