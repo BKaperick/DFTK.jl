{
 "cells": [
  {
   "cell_type": "markdown",
   "source": [
    "# Creating supercells with pymatgen\n",
    "\n",
    "The [Pymatgen](https://pymatgen.org/) python library allows to setup\n",
    "solid-state calculations using a flexible set of classes as well as an API\n",
    "to an online data base of structures. Its `Structure` and `Lattice`\n",
    "objects are directly supported by the DFTK `load_atoms` and `load_lattice`\n",
    "functions, such that DFTK may be readily used to run calculation on systems\n",
    "defined in pymatgen. Using the `pymatgen_structure` function a conversion\n",
    "from DFTK to pymatgen structures is also possible. In the following we\n",
    "use this to create a silicon supercell and find its LDA ground state\n",
    "using direct minimisation."
   ],
   "metadata": {}
  },
  {
   "cell_type": "markdown",
   "source": [
    "First we setup the silicon lattice in DFTK."
   ],
   "metadata": {}
  },
  {
   "outputs": [],
   "cell_type": "code",
   "source": [
    "using DFTK\n",
    "\n",
    "a = 10.263141334305942  # Lattice constant in Bohr\n",
    "lattice = a / 2 .* [[0 1 1.]; [1 0 1.]; [1 1 0.]]\n",
    "Si = ElementPsp(:Si, psp=load_psp(\"hgh/lda/Si-q4\"))\n",
    "atoms = [Si => [ones(3)/8, -ones(3)/8]];"
   ],
   "metadata": {},
   "execution_count": 1
  },
  {
   "cell_type": "markdown",
   "source": [
    "Next we make a `[2, 2, 2]` supercell using pymatgen"
   ],
   "metadata": {}
  },
  {
   "outputs": [],
   "cell_type": "code",
   "source": [
    "pystruct = pymatgen_structure(lattice, atoms)\n",
    "pystruct.make_supercell([2, 2, 2])\n",
    "lattice = load_lattice(pystruct)\n",
    "atoms = [Si => [s.frac_coords for s in pystruct.sites]];"
   ],
   "metadata": {},
   "execution_count": 2
  },
  {
   "cell_type": "markdown",
   "source": [
    "Setup an LDA model and discretize using\n",
    "a single kpoint and a small `Ecut` of 5 Hartree."
   ],
   "metadata": {}
  },
  {
   "outputs": [
    {
     "output_type": "execute_result",
     "data": {
      "text/plain": "PlaneWaveBasis (Ecut=5.0, 1 kpoints)"
     },
     "metadata": {},
     "execution_count": 3
    }
   ],
   "cell_type": "code",
   "source": [
    "model = model_LDA(lattice, atoms)\n",
    "basis = PlaneWaveBasis(model, 5, kgrid=(1, 1, 1))"
   ],
   "metadata": {},
   "execution_count": 3
  },
  {
   "cell_type": "markdown",
   "source": [
    "Find the ground state using direct minimisation (always using SCF is boring ...)"
   ],
   "metadata": {}
  },
  {
   "outputs": [
    {
     "name": "stdout",
     "output_type": "stream",
     "text": [
      "Iter     Function value   Gradient norm \n",
      "     0     1.121105e+02     1.732582e+00\n",
      " * time: 0.8423008918762207\n",
      "     1     1.090833e+01     9.499619e-01\n",
      " * time: 3.48396897315979\n",
      "     2    -1.188398e+01     1.115551e+00\n",
      " * time: 4.208762884140015\n",
      "     3    -3.421156e+01     8.958310e-01\n",
      " * time: 5.276172876358032\n",
      "     4    -4.775311e+01     6.695822e-01\n",
      " * time: 6.722339868545532\n",
      "     5    -5.703762e+01     2.041665e-01\n",
      " * time: 7.753896951675415\n",
      "     6    -5.986037e+01     1.373281e-01\n",
      " * time: 8.443837881088257\n",
      "     7    -6.096018e+01     5.357052e-02\n",
      " * time: 9.139747858047485\n",
      "     8    -6.139264e+01     6.679423e-02\n",
      " * time: 9.828896045684814\n",
      "     9    -6.166917e+01     5.022997e-02\n",
      " * time: 10.54561185836792\n",
      "    10    -6.187675e+01     3.090067e-02\n",
      " * time: 11.237627029418945\n",
      "    11    -6.202762e+01     1.900593e-02\n",
      " * time: 11.931596994400024\n",
      "    12    -6.209194e+01     1.594464e-02\n",
      " * time: 12.630012035369873\n",
      "    13    -6.215076e+01     1.293505e-02\n",
      " * time: 13.330188989639282\n",
      "    14    -6.217879e+01     1.037546e-02\n",
      " * time: 14.034746885299683\n",
      "    15    -6.219963e+01     1.149485e-02\n",
      " * time: 14.726073026657104\n",
      "    16    -6.221049e+01     9.049483e-03\n",
      " * time: 15.43461799621582\n",
      "    17    -6.221862e+01     8.766895e-03\n",
      " * time: 16.132111072540283\n",
      "    18    -6.222495e+01     7.317158e-03\n",
      " * time: 16.8419668674469\n",
      "    19    -6.223024e+01     6.889333e-03\n",
      " * time: 17.538027048110962\n",
      "    20    -6.223554e+01     7.533249e-03\n",
      " * time: 18.252521991729736\n",
      "    21    -6.224139e+01     5.349689e-03\n",
      " * time: 18.953666925430298\n",
      "    22    -6.224770e+01     6.132219e-03\n",
      " * time: 19.669288873672485\n",
      "    23    -6.225306e+01     4.487003e-03\n",
      " * time: 20.36798405647278\n",
      "    24    -6.225661e+01     3.965460e-03\n",
      " * time: 21.061856031417847\n",
      "    25    -6.225871e+01     2.866301e-03\n",
      " * time: 21.75209403038025\n",
      "    26    -6.225989e+01     2.621585e-03\n",
      " * time: 22.44727897644043\n",
      "    27    -6.226054e+01     1.661592e-03\n",
      " * time: 23.15228295326233\n",
      "    28    -6.226091e+01     1.391290e-03\n",
      " * time: 23.853950023651123\n",
      "    29    -6.226115e+01     1.094883e-03\n",
      " * time: 24.544352054595947\n",
      "    30    -6.226133e+01     8.478822e-04\n",
      " * time: 25.245644092559814\n",
      "    31    -6.226144e+01     6.772328e-04\n",
      " * time: 25.949774026870728\n",
      "    32    -6.226153e+01     5.269927e-04\n",
      " * time: 26.652267932891846\n",
      "    33    -6.226159e+01     4.784077e-04\n",
      " * time: 27.342566967010498\n",
      "    34    -6.226162e+01     3.533934e-04\n",
      " * time: 28.047937870025635\n",
      "    35    -6.226165e+01     2.229994e-04\n",
      " * time: 28.749536991119385\n",
      "    36    -6.226166e+01     1.471886e-04\n",
      " * time: 29.46736788749695\n",
      "    37    -6.226166e+01     1.281130e-04\n",
      " * time: 30.174659967422485\n",
      "    38    -6.226166e+01     8.615348e-05\n",
      " * time: 30.862077951431274\n",
      "    39    -6.226166e+01     8.717421e-05\n",
      " * time: 31.57021689414978\n",
      "    40    -6.226167e+01     4.414859e-05\n",
      " * time: 32.271657943725586\n",
      "    41    -6.226167e+01     3.640711e-05\n",
      " * time: 32.984463930130005\n",
      "    42    -6.226167e+01     2.784147e-05\n",
      " * time: 33.68019986152649\n",
      "    43    -6.226167e+01     2.315620e-05\n",
      " * time: 34.38838291168213\n",
      "    44    -6.226167e+01     1.861639e-05\n",
      " * time: 35.07528591156006\n",
      "    45    -6.226167e+01     1.747243e-05\n",
      " * time: 35.766459941864014\n",
      "    46    -6.226167e+01     1.253326e-05\n",
      " * time: 36.467063903808594\n",
      "    47    -6.226167e+01     9.345843e-06\n",
      " * time: 37.16524291038513\n",
      "    48    -6.226167e+01     7.180480e-06\n",
      " * time: 37.88094687461853\n",
      "    49    -6.226167e+01     5.759910e-06\n",
      " * time: 38.582557916641235\n",
      "    50    -6.226167e+01     4.329617e-06\n",
      " * time: 39.28789687156677\n",
      "    51    -6.226167e+01     3.067351e-06\n",
      " * time: 39.9901340007782\n",
      "    52    -6.226167e+01     3.130828e-06\n",
      " * time: 40.69068694114685\n"
     ]
    }
   ],
   "cell_type": "code",
   "source": [
    "scfres = direct_minimization(basis, tol=1e-5);"
   ],
   "metadata": {},
   "execution_count": 4
  },
  {
   "outputs": [
    {
     "output_type": "execute_result",
     "data": {
      "text/plain": "Energy breakdown:\n    Kinetic             25.7671075\n    AtomicLocal         -18.8557697\n    AtomicNonlocal      14.8522652\n    Ewald               -67.1831486\n    PspCorrection       -2.3569765\n    Hartree             4.8485380 \n    Xc                  -19.3336823\n\n    total               -62.261666460925\n"
     },
     "metadata": {},
     "execution_count": 5
    }
   ],
   "cell_type": "code",
   "source": [
    "scfres.energies"
   ],
   "metadata": {},
   "execution_count": 5
  }
 ],
 "nbformat_minor": 3,
 "metadata": {
  "language_info": {
   "file_extension": ".jl",
   "mimetype": "application/julia",
   "name": "julia",
   "version": "1.6.1"
  },
  "kernelspec": {
   "name": "julia-1.6",
   "display_name": "Julia 1.6.1",
   "language": "julia"
  }
 },
 "nbformat": 4
}
