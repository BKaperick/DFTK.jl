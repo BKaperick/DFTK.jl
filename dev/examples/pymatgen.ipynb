{
 "cells": [
  {
   "cell_type": "markdown",
   "source": [
    "# Creating supercells with pymatgen\n",
    "\n",
    "The [Pymatgen](https://pymatgen.org/) python library allows to setup\n",
    "solid-state calculations using a flexible set of classes as well as an API\n",
    "to an online data base of structures. Its `Structure` and `Lattice`\n",
    "objects are directly supported by the DFTK `load_atoms` and `load_lattice`\n",
    "functions, such that DFTK may be readily used to run calculation on systems\n",
    "defined in pymatgen. Using the `pymatgen_structure` function a conversion\n",
    "from DFTK to pymatgen structures is also possible. In the following we\n",
    "use this to create a silicon supercell and find its LDA ground state\n",
    "using direct minimisation."
   ],
   "metadata": {}
  },
  {
   "cell_type": "markdown",
   "source": [
    "First we setup the silicon lattice in DFTK."
   ],
   "metadata": {}
  },
  {
   "outputs": [],
   "cell_type": "code",
   "source": [
    "using DFTK\n",
    "\n",
    "a = 10.263141334305942  # Lattice constant in Bohr\n",
    "lattice = a / 2 .* [[0 1 1.]; [1 0 1.]; [1 1 0.]]\n",
    "Si = ElementPsp(:Si, psp=load_psp(\"hgh/lda/Si-q4\"))\n",
    "atoms = [Si => [ones(3)/8, -ones(3)/8]];"
   ],
   "metadata": {},
   "execution_count": 1
  },
  {
   "cell_type": "markdown",
   "source": [
    "Next we make a `[2, 2, 2]` supercell using pymatgen"
   ],
   "metadata": {}
  },
  {
   "outputs": [],
   "cell_type": "code",
   "source": [
    "pystruct = pymatgen_structure(lattice, atoms)\n",
    "pystruct.make_supercell([2, 2, 2])\n",
    "lattice = load_lattice(pystruct)\n",
    "atoms = [Si => [s.frac_coords for s in pystruct.sites]];"
   ],
   "metadata": {},
   "execution_count": 2
  },
  {
   "cell_type": "markdown",
   "source": [
    "Setup an LDA model and discretize using\n",
    "a single kpoint and a small `Ecut` of 5 Hartree."
   ],
   "metadata": {}
  },
  {
   "outputs": [
    {
     "output_type": "execute_result",
     "data": {
      "text/plain": "PlaneWaveBasis (Ecut=5.0, 1 kpoints)"
     },
     "metadata": {},
     "execution_count": 3
    }
   ],
   "cell_type": "code",
   "source": [
    "model = model_LDA(lattice, atoms)\n",
    "basis = PlaneWaveBasis(model, 5, kgrid=(1, 1, 1))"
   ],
   "metadata": {},
   "execution_count": 3
  },
  {
   "cell_type": "markdown",
   "source": [
    "Find the ground state using direct minimisation (always using SCF is boring ...)"
   ],
   "metadata": {}
  },
  {
   "outputs": [
    {
     "name": "stdout",
     "output_type": "stream",
     "text": [
      "Iter     Function value   Gradient norm \n",
      "     0     1.124340e+02     1.958656e+00\n",
      " * time: 0.30257296562194824\n",
      "     1     1.091122e+01     9.835741e-01\n",
      " * time: 1.8967039585113525\n",
      "     2    -1.067184e+01     1.125602e+00\n",
      " * time: 2.4523110389709473\n",
      "     3    -3.371219e+01     8.961819e-01\n",
      " * time: 3.274899959564209\n",
      "     4    -4.701935e+01     6.697879e-01\n",
      " * time: 4.114284992218018\n",
      "     5    -5.670420e+01     2.436583e-01\n",
      " * time: 4.92576003074646\n",
      "     6    -5.975162e+01     2.183344e-01\n",
      " * time: 5.473284006118774\n",
      "     7    -6.097215e+01     8.147592e-02\n",
      " * time: 6.0187249183654785\n",
      "     8    -6.144886e+01     3.973755e-02\n",
      " * time: 6.575844049453735\n",
      "     9    -6.169635e+01     5.507894e-02\n",
      " * time: 7.122575998306274\n",
      "    10    -6.187304e+01     3.760769e-02\n",
      " * time: 7.671466827392578\n",
      "    11    -6.200255e+01     2.629436e-02\n",
      " * time: 8.218660831451416\n",
      "    12    -6.207963e+01     1.679311e-02\n",
      " * time: 8.765447854995728\n",
      "    13    -6.211455e+01     1.728892e-02\n",
      " * time: 9.318011999130249\n",
      "    14    -6.215050e+01     1.493927e-02\n",
      " * time: 9.86629581451416\n",
      "    15    -6.216840e+01     9.925977e-03\n",
      " * time: 10.412274837493896\n",
      "    16    -6.218328e+01     8.111265e-03\n",
      " * time: 10.961951971054077\n",
      "    17    -6.219513e+01     7.191038e-03\n",
      " * time: 11.513458013534546\n",
      "    18    -6.220553e+01     7.135800e-03\n",
      " * time: 12.059983968734741\n",
      "    19    -6.221532e+01     7.083087e-03\n",
      " * time: 12.607022047042847\n",
      "    20    -6.222416e+01     7.291839e-03\n",
      " * time: 13.153496026992798\n",
      "    21    -6.223209e+01     6.015602e-03\n",
      " * time: 13.706387042999268\n",
      "    22    -6.223921e+01     6.285501e-03\n",
      " * time: 14.253983974456787\n",
      "    23    -6.224534e+01     5.775027e-03\n",
      " * time: 14.800585985183716\n",
      "    24    -6.225019e+01     4.302730e-03\n",
      " * time: 15.347707986831665\n",
      "    25    -6.225360e+01     3.884261e-03\n",
      " * time: 15.893728971481323\n",
      "    26    -6.225610e+01     3.222734e-03\n",
      " * time: 16.44706392288208\n",
      "    27    -6.225786e+01     2.605939e-03\n",
      " * time: 16.997548818588257\n",
      "    28    -6.225910e+01     2.863161e-03\n",
      " * time: 17.54390001296997\n",
      "    29    -6.226003e+01     1.699771e-03\n",
      " * time: 18.090450048446655\n",
      "    30    -6.226071e+01     1.308523e-03\n",
      " * time: 18.644153833389282\n",
      "    31    -6.226115e+01     9.827616e-04\n",
      " * time: 19.191104888916016\n",
      "    32    -6.226139e+01     7.405069e-04\n",
      " * time: 19.73907995223999\n",
      "    33    -6.226153e+01     5.539258e-04\n",
      " * time: 20.293447017669678\n",
      "    34    -6.226159e+01     4.871361e-04\n",
      " * time: 20.841049909591675\n",
      "    35    -6.226163e+01     3.127618e-04\n",
      " * time: 21.393728017807007\n",
      "    36    -6.226165e+01     2.341147e-04\n",
      " * time: 21.939613819122314\n",
      "    37    -6.226165e+01     1.796476e-04\n",
      " * time: 22.48724603652954\n",
      "    38    -6.226166e+01     1.239484e-04\n",
      " * time: 23.03421401977539\n",
      "    39    -6.226166e+01     1.025486e-04\n",
      " * time: 23.587565898895264\n",
      "    40    -6.226166e+01     8.433814e-05\n",
      " * time: 24.13488793373108\n",
      "    41    -6.226166e+01     7.581101e-05\n",
      " * time: 24.682584047317505\n",
      "    42    -6.226166e+01     7.038065e-05\n",
      " * time: 25.22792100906372\n",
      "    43    -6.226167e+01     5.231952e-05\n",
      " * time: 25.7811918258667\n",
      "    44    -6.226167e+01     3.510312e-05\n",
      " * time: 26.327631950378418\n",
      "    45    -6.226167e+01     2.579975e-05\n",
      " * time: 26.88333296775818\n",
      "    46    -6.226167e+01     1.870634e-05\n",
      " * time: 27.42992901802063\n",
      "    47    -6.226167e+01     1.729703e-05\n",
      " * time: 27.97701096534729\n",
      "    48    -6.226167e+01     9.525132e-06\n",
      " * time: 28.53027582168579\n",
      "    49    -6.226167e+01     8.542731e-06\n",
      " * time: 29.0776309967041\n",
      "    50    -6.226167e+01     7.937679e-06\n",
      " * time: 29.62549090385437\n",
      "    51    -6.226167e+01     6.952721e-06\n",
      " * time: 30.172006845474243\n",
      "    52    -6.226167e+01     5.518451e-06\n",
      " * time: 30.724411010742188\n",
      "    53    -6.226167e+01     3.951038e-06\n",
      " * time: 31.27045702934265\n",
      "    54    -6.226167e+01     3.121308e-06\n",
      " * time: 31.81653904914856\n",
      "    55    -6.226167e+01     2.290645e-06\n",
      " * time: 32.36288285255432\n",
      "    56    -6.226167e+01     1.843791e-06\n",
      " * time: 32.908900022506714\n"
     ]
    }
   ],
   "cell_type": "code",
   "source": [
    "scfres = direct_minimization(basis, tol=1e-5);"
   ],
   "metadata": {},
   "execution_count": 4
  },
  {
   "outputs": [
    {
     "output_type": "execute_result",
     "data": {
      "text/plain": "Energy breakdown:\n    Kinetic             25.7671068\n    AtomicLocal         -18.8557676\n    AtomicNonlocal      14.8522644\n    Ewald               -67.1831486\n    PspCorrection       -2.3569765\n    Hartree             4.8485371 \n    Xc                  -19.3336820\n\n    total               -62.261666462769\n"
     },
     "metadata": {},
     "execution_count": 5
    }
   ],
   "cell_type": "code",
   "source": [
    "scfres.energies"
   ],
   "metadata": {},
   "execution_count": 5
  }
 ],
 "nbformat_minor": 3,
 "metadata": {
  "language_info": {
   "file_extension": ".jl",
   "mimetype": "application/julia",
   "name": "julia",
   "version": "1.5.4"
  },
  "kernelspec": {
   "name": "julia-1.5",
   "display_name": "Julia 1.5.4",
   "language": "julia"
  }
 },
 "nbformat": 4
}
