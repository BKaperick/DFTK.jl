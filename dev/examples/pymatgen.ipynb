{
 "cells": [
  {
   "cell_type": "markdown",
   "source": [
    "# Creating supercells with pymatgen\n",
    "\n",
    "The [Pymatgen](https://pymatgen.org/) python library allows to setup\n",
    "solid-state calculations using a flexible set of classes as well as an API\n",
    "to an online data base of structures. Its `Structure` and `Lattice`\n",
    "objects are directly supported by the DFTK `load_atoms` and `load_lattice`\n",
    "functions, such that DFTK may be readily used to run calculation on systems\n",
    "defined in pymatgen. Using the `pymatgen_structure` function a conversion\n",
    "from DFTK to pymatgen structures is also possible. In the following we\n",
    "use this to create a silicon supercell and find its LDA ground state\n",
    "using direct minimisation."
   ],
   "metadata": {}
  },
  {
   "cell_type": "markdown",
   "source": [
    "First we setup the silicon lattice in DFTK."
   ],
   "metadata": {}
  },
  {
   "outputs": [],
   "cell_type": "code",
   "source": [
    "using DFTK\n",
    "\n",
    "a = 10.263141334305942  # Lattice constant in Bohr\n",
    "lattice = a / 2 .* [[0 1 1.]; [1 0 1.]; [1 1 0.]]\n",
    "Si = ElementPsp(:Si, psp=load_psp(\"hgh/lda/Si-q4\"))\n",
    "atoms = [Si => [ones(3)/8, -ones(3)/8]];"
   ],
   "metadata": {},
   "execution_count": 1
  },
  {
   "cell_type": "markdown",
   "source": [
    "Next we make a `[2, 2, 2]` supercell using pymatgen"
   ],
   "metadata": {}
  },
  {
   "outputs": [],
   "cell_type": "code",
   "source": [
    "pystruct = pymatgen_structure(lattice, atoms)\n",
    "pystruct.make_supercell([2, 2, 2])\n",
    "lattice = load_lattice(pystruct)\n",
    "atoms = [Si => [s.frac_coords for s in pystruct.sites]];"
   ],
   "metadata": {},
   "execution_count": 2
  },
  {
   "cell_type": "markdown",
   "source": [
    "Setup an LDA model and discretize using\n",
    "a single kpoint and a small `Ecut` of 5 Hartree."
   ],
   "metadata": {}
  },
  {
   "outputs": [
    {
     "output_type": "execute_result",
     "data": {
      "text/plain": "PlaneWaveBasis (Ecut=5.0, 1 kpoints)"
     },
     "metadata": {},
     "execution_count": 3
    }
   ],
   "cell_type": "code",
   "source": [
    "model = model_LDA(lattice, atoms)\n",
    "basis = PlaneWaveBasis(model, 5, kgrid=(1, 1, 1))"
   ],
   "metadata": {},
   "execution_count": 3
  },
  {
   "cell_type": "markdown",
   "source": [
    "Find the ground state using direct minimisation (always using SCF is boring ...)"
   ],
   "metadata": {}
  },
  {
   "outputs": [
    {
     "name": "stdout",
     "output_type": "stream",
     "text": [
      "Iter     Function value   Gradient norm \n",
      "     0     1.123122e+02     1.616637e+00\n",
      " * time: 0.0895850658416748\n",
      "     1     1.048927e+01     9.493192e-01\n",
      " * time: 1.278975009918213\n",
      "     2    -1.119111e+01     1.128007e+00\n",
      " * time: 1.408926010131836\n",
      "     3    -3.403947e+01     9.001623e-01\n",
      " * time: 1.7196180820465088\n",
      "     4    -4.736418e+01     6.827396e-01\n",
      " * time: 2.188441038131714\n",
      "     5    -5.687638e+01     2.374132e-01\n",
      " * time: 2.3380930423736572\n",
      "     6    -5.977187e+01     1.763838e-01\n",
      " * time: 2.4434170722961426\n",
      "     7    -6.095461e+01     6.941153e-02\n",
      " * time: 2.558004140853882\n",
      "     8    -6.143496e+01     5.603413e-02\n",
      " * time: 2.6736600399017334\n",
      "     9    -6.168247e+01     5.296009e-02\n",
      " * time: 2.779266119003296\n",
      "    10    -6.187262e+01     2.283531e-02\n",
      " * time: 2.8925909996032715\n",
      "    11    -6.200089e+01     1.816388e-02\n",
      " * time: 3.0054991245269775\n",
      "    12    -6.207527e+01     1.823870e-02\n",
      " * time: 3.113211154937744\n",
      "    13    -6.211890e+01     1.579124e-02\n",
      " * time: 3.2263970375061035\n",
      "    14    -6.215574e+01     1.412228e-02\n",
      " * time: 3.3392210006713867\n",
      "    15    -6.217774e+01     1.105034e-02\n",
      " * time: 3.4517059326171875\n",
      "    16    -6.219322e+01     1.106483e-02\n",
      " * time: 3.557335138320923\n",
      "    17    -6.220486e+01     9.358053e-03\n",
      " * time: 3.6704790592193604\n",
      "    18    -6.221402e+01     8.667994e-03\n",
      " * time: 3.783172130584717\n",
      "    19    -6.222214e+01     6.535525e-03\n",
      " * time: 3.8897969722747803\n",
      "    20    -6.222972e+01     7.416756e-03\n",
      " * time: 4.001929044723511\n",
      "    21    -6.223739e+01     6.326446e-03\n",
      " * time: 4.114182949066162\n",
      "    22    -6.224485e+01     5.523614e-03\n",
      " * time: 4.21975302696228\n",
      "    23    -6.225089e+01     4.611514e-03\n",
      " * time: 4.332765102386475\n",
      "    24    -6.225481e+01     3.876683e-03\n",
      " * time: 4.444911003112793\n",
      "    25    -6.225718e+01     3.449433e-03\n",
      " * time: 4.557842016220093\n",
      "    26    -6.225864e+01     2.611626e-03\n",
      " * time: 4.6655261516571045\n",
      "    27    -6.225959e+01     2.275997e-03\n",
      " * time: 4.7786009311676025\n",
      "    28    -6.226024e+01     1.777225e-03\n",
      " * time: 4.8909080028533936\n",
      "    29    -6.226073e+01     1.376779e-03\n",
      " * time: 4.99626612663269\n",
      "    30    -6.226110e+01     1.214423e-03\n",
      " * time: 5.108366012573242\n",
      "    31    -6.226136e+01     1.002286e-03\n",
      " * time: 5.22036600112915\n",
      "    32    -6.226150e+01     7.827741e-04\n",
      " * time: 5.33466911315918\n",
      "    33    -6.226158e+01     4.852758e-04\n",
      " * time: 5.440274000167847\n",
      "    34    -6.226163e+01     4.031474e-04\n",
      " * time: 5.552343130111694\n",
      "    35    -6.226165e+01     2.752608e-04\n",
      " * time: 5.664309024810791\n",
      "    36    -6.226166e+01     1.777229e-04\n",
      " * time: 5.7717859745025635\n",
      "    37    -6.226166e+01     1.192552e-04\n",
      " * time: 5.88454794883728\n",
      "    38    -6.226166e+01     9.555715e-05\n",
      " * time: 5.99751615524292\n",
      "    39    -6.226166e+01     8.236918e-05\n",
      " * time: 6.103976011276245\n",
      "    40    -6.226167e+01     6.914411e-05\n",
      " * time: 6.2168450355529785\n",
      "    41    -6.226167e+01     5.408492e-05\n",
      " * time: 6.328387975692749\n",
      "    42    -6.226167e+01     3.916643e-05\n",
      " * time: 6.441601991653442\n",
      "    43    -6.226167e+01     2.634804e-05\n",
      " * time: 6.547804117202759\n",
      "    44    -6.226167e+01     2.189232e-05\n",
      " * time: 6.661531925201416\n",
      "    45    -6.226167e+01     1.736835e-05\n",
      " * time: 6.774235963821411\n",
      "    46    -6.226167e+01     1.253876e-05\n",
      " * time: 6.880794048309326\n",
      "    47    -6.226167e+01     8.190171e-06\n",
      " * time: 6.994385004043579\n",
      "    48    -6.226167e+01     7.137838e-06\n",
      " * time: 7.107043981552124\n",
      "    49    -6.226167e+01     5.030624e-06\n",
      " * time: 7.212176084518433\n",
      "    50    -6.226167e+01     4.108600e-06\n",
      " * time: 7.324465036392212\n"
     ]
    }
   ],
   "cell_type": "code",
   "source": [
    "scfres = direct_minimization(basis, tol=1e-5);"
   ],
   "metadata": {},
   "execution_count": 4
  },
  {
   "outputs": [
    {
     "output_type": "execute_result",
     "data": {
      "text/plain": "Energy breakdown:\n    Kinetic             25.7671056\n    AtomicLocal         -18.8557589\n    AtomicNonlocal      14.8522582\n    Ewald               -67.1831486\n    PspCorrection       -2.3569765\n    Hartree             4.8485351 \n    Xc                  -19.3336813\n\n    total               -62.261666457073\n"
     },
     "metadata": {},
     "execution_count": 5
    }
   ],
   "cell_type": "code",
   "source": [
    "scfres.energies"
   ],
   "metadata": {},
   "execution_count": 5
  }
 ],
 "nbformat_minor": 3,
 "metadata": {
  "language_info": {
   "file_extension": ".jl",
   "mimetype": "application/julia",
   "name": "julia",
   "version": "1.4.2"
  },
  "kernelspec": {
   "name": "julia-1.4",
   "display_name": "Julia 1.4.2",
   "language": "julia"
  }
 },
 "nbformat": 4
}
