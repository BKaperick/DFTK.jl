{
 "cells": [
  {
   "cell_type": "markdown",
   "source": [
    "# Creating supercells with pymatgen\n",
    "\n",
    "The [Pymatgen](https://pymatgen.org/) python library allows to setup\n",
    "solid-state calculations using a flexible set of classes as well as an API\n",
    "to an online data base of structures. Its `Structure` and `Lattice`\n",
    "objects are directly supported by the DFTK `load_atoms` and `load_lattice`\n",
    "functions, such that DFTK may be readily used to run calculation on systems\n",
    "defined in pymatgen. Using the `pymatgen_structure` function a conversion\n",
    "from DFTK to pymatgen structures is also possible. In the following we\n",
    "use this to create a silicon supercell and find its LDA ground state\n",
    "using direct minimisation."
   ],
   "metadata": {}
  },
  {
   "cell_type": "markdown",
   "source": [
    "First we setup the silicon lattice in DFTK."
   ],
   "metadata": {}
  },
  {
   "outputs": [],
   "cell_type": "code",
   "source": [
    "using DFTK\n",
    "\n",
    "a = 10.263141334305942  # Lattice constant in Bohr\n",
    "lattice = a / 2 .* [[0 1 1.]; [1 0 1.]; [1 1 0.]]\n",
    "Si = ElementPsp(:Si, psp=load_psp(\"hgh/lda/Si-q4\"))\n",
    "atoms = [Si => [ones(3)/8, -ones(3)/8]];"
   ],
   "metadata": {},
   "execution_count": 1
  },
  {
   "cell_type": "markdown",
   "source": [
    "Next we make a `[2, 2, 2]` supercell using pymatgen"
   ],
   "metadata": {}
  },
  {
   "outputs": [],
   "cell_type": "code",
   "source": [
    "pystruct = pymatgen_structure(lattice, atoms)\n",
    "pystruct.make_supercell([2, 2, 2])\n",
    "lattice = load_lattice(pystruct)\n",
    "atoms = [Si => [s.frac_coords for s in pystruct.sites]];"
   ],
   "metadata": {},
   "execution_count": 2
  },
  {
   "cell_type": "markdown",
   "source": [
    "Setup an LDA model and discretize using\n",
    "a single kpoint and a small `Ecut` of 5 Hartree."
   ],
   "metadata": {}
  },
  {
   "outputs": [
    {
     "output_type": "execute_result",
     "data": {
      "text/plain": "PlaneWaveBasis (Ecut=5.0, 1 kpoints)"
     },
     "metadata": {},
     "execution_count": 3
    }
   ],
   "cell_type": "code",
   "source": [
    "model = model_LDA(lattice, atoms)\n",
    "basis = PlaneWaveBasis(model, 5, kgrid=(1, 1, 1))"
   ],
   "metadata": {},
   "execution_count": 3
  },
  {
   "cell_type": "markdown",
   "source": [
    "Find the ground state using direct minimisation (always using SCF is boring ...)"
   ],
   "metadata": {}
  },
  {
   "outputs": [
    {
     "name": "stdout",
     "output_type": "stream",
     "text": [
      "Iter     Function value   Gradient norm \n",
      "     0     1.120828e+02     1.542893e+00\n",
      " * time: 0.7485859394073486\n",
      "     1     1.129945e+01     9.433763e-01\n",
      " * time: 3.143934965133667\n",
      "     2    -1.151691e+01     9.972489e-01\n",
      " * time: 3.7984039783477783\n",
      "     3    -3.406944e+01     7.653398e-01\n",
      " * time: 4.793399810791016\n",
      "     4    -4.755206e+01     6.028549e-01\n",
      " * time: 5.748171806335449\n",
      "     5    -5.700028e+01     2.008281e-01\n",
      " * time: 6.717785835266113\n",
      "     6    -5.980841e+01     1.524335e-01\n",
      " * time: 7.382828950881958\n",
      "     7    -6.089081e+01     5.093624e-02\n",
      " * time: 8.058369874954224\n",
      "     8    -6.131163e+01     5.386747e-02\n",
      " * time: 8.700815916061401\n",
      "     9    -6.157358e+01     5.097503e-02\n",
      " * time: 9.345285892486572\n",
      "    10    -6.178826e+01     3.082349e-02\n",
      " * time: 10.00771188735962\n",
      "    11    -6.196061e+01     2.269800e-02\n",
      " * time: 10.651080846786499\n",
      "    12    -6.204559e+01     2.173931e-02\n",
      " * time: 11.296340942382812\n",
      "    13    -6.212062e+01     1.878717e-02\n",
      " * time: 11.93965482711792\n",
      "    14    -6.216696e+01     1.379569e-02\n",
      " * time: 12.597018957138062\n",
      "    15    -6.220300e+01     1.077325e-02\n",
      " * time: 13.240017890930176\n",
      "    16    -6.222393e+01     8.480316e-03\n",
      " * time: 13.881902933120728\n",
      "    17    -6.223614e+01     6.412931e-03\n",
      " * time: 14.532526969909668\n",
      "    18    -6.224378e+01     4.566307e-03\n",
      " * time: 15.182902812957764\n",
      "    19    -6.224842e+01     4.323267e-03\n",
      " * time: 15.826967000961304\n",
      "    20    -6.225173e+01     3.546356e-03\n",
      " * time: 16.46989393234253\n",
      "    21    -6.225437e+01     3.618900e-03\n",
      " * time: 17.121132850646973\n",
      "    22    -6.225673e+01     3.076820e-03\n",
      " * time: 17.766289949417114\n",
      "    23    -6.225870e+01     2.164411e-03\n",
      " * time: 18.410252809524536\n",
      "    24    -6.226004e+01     1.795899e-03\n",
      " * time: 19.054351806640625\n",
      "    25    -6.226085e+01     1.353730e-03\n",
      " * time: 19.70624089241028\n",
      "    26    -6.226127e+01     9.239149e-04\n",
      " * time: 20.34970188140869\n",
      "    27    -6.226147e+01     6.408837e-04\n",
      " * time: 20.991622924804688\n",
      "    28    -6.226157e+01     4.730408e-04\n",
      " * time: 21.6371808052063\n",
      "    29    -6.226161e+01     3.783826e-04\n",
      " * time: 22.287532806396484\n",
      "    30    -6.226163e+01     3.173047e-04\n",
      " * time: 22.930732011795044\n",
      "    31    -6.226164e+01     2.208029e-04\n",
      " * time: 23.572999000549316\n",
      "    32    -6.226165e+01     1.780686e-04\n",
      " * time: 24.220539808273315\n",
      "    33    -6.226166e+01     1.286021e-04\n",
      " * time: 24.869159936904907\n",
      "    34    -6.226166e+01     1.195563e-04\n",
      " * time: 25.543941974639893\n",
      "    35    -6.226166e+01     9.569971e-05\n",
      " * time: 26.186961889266968\n",
      "    36    -6.226166e+01     1.010207e-04\n",
      " * time: 26.83096981048584\n",
      "    37    -6.226167e+01     6.718999e-05\n",
      " * time: 27.480402946472168\n",
      "    38    -6.226167e+01     3.765767e-05\n",
      " * time: 28.13089394569397\n",
      "    39    -6.226167e+01     2.672855e-05\n",
      " * time: 28.77411699295044\n",
      "    40    -6.226167e+01     2.048753e-05\n",
      " * time: 29.4178249835968\n",
      "    41    -6.226167e+01     1.720951e-05\n",
      " * time: 30.06743288040161\n",
      "    42    -6.226167e+01     1.240093e-05\n",
      " * time: 30.71579885482788\n",
      "    43    -6.226167e+01     1.051658e-05\n",
      " * time: 31.36034893989563\n",
      "    44    -6.226167e+01     7.205904e-06\n",
      " * time: 32.004140853881836\n",
      "    45    -6.226167e+01     6.409298e-06\n",
      " * time: 32.65467596054077\n",
      "    46    -6.226167e+01     5.694592e-06\n",
      " * time: 33.29726696014404\n",
      "    47    -6.226167e+01     5.028693e-06\n",
      " * time: 33.94179081916809\n",
      "    48    -6.226167e+01     3.176432e-06\n",
      " * time: 34.58680582046509\n",
      "    49    -6.226167e+01     2.991584e-06\n",
      " * time: 35.240983963012695\n"
     ]
    }
   ],
   "cell_type": "code",
   "source": [
    "scfres = direct_minimization(basis, tol=1e-5);"
   ],
   "metadata": {},
   "execution_count": 4
  },
  {
   "outputs": [
    {
     "output_type": "execute_result",
     "data": {
      "text/plain": "Energy breakdown:\n    Kinetic             25.7671068\n    AtomicLocal         -18.8557657\n    AtomicNonlocal      14.8522626\n    Ewald               -67.1831486\n    PspCorrection       -2.3569765\n    Hartree             4.8485370 \n    Xc                  -19.3336820\n\n    total               -62.261666461280\n"
     },
     "metadata": {},
     "execution_count": 5
    }
   ],
   "cell_type": "code",
   "source": [
    "scfres.energies"
   ],
   "metadata": {},
   "execution_count": 5
  }
 ],
 "nbformat_minor": 3,
 "metadata": {
  "language_info": {
   "file_extension": ".jl",
   "mimetype": "application/julia",
   "name": "julia",
   "version": "1.6.1"
  },
  "kernelspec": {
   "name": "julia-1.6",
   "display_name": "Julia 1.6.1",
   "language": "julia"
  }
 },
 "nbformat": 4
}
