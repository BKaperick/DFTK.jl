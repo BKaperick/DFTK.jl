{
 "cells": [
  {
   "cell_type": "markdown",
   "source": [
    "# Creating supercells with pymatgen\n",
    "\n",
    "The [Pymatgen](https://pymatgen.org/) python library allows to setup\n",
    "solid-state calculations using a flexible set of classes as well as an API\n",
    "to an online data base of structures. Its `Structure` and `Lattice`\n",
    "objects are directly supported by the DFTK `load_atoms` and `load_lattice`\n",
    "functions, such that DFTK may be readily used to run calculation on systems\n",
    "defined in pymatgen. Using the `pymatgen_structure` function a conversion\n",
    "from DFTK to pymatgen structures is also possible. In the following we\n",
    "use this to create a silicon supercell and find its LDA ground state\n",
    "using direct minimisation."
   ],
   "metadata": {}
  },
  {
   "cell_type": "markdown",
   "source": [
    "First we setup the silicon lattice in DFTK."
   ],
   "metadata": {}
  },
  {
   "outputs": [],
   "cell_type": "code",
   "source": [
    "using DFTK\n",
    "\n",
    "a = 10.263141334305942  # Lattice constant in Bohr\n",
    "lattice = a / 2 .* [[0 1 1.]; [1 0 1.]; [1 1 0.]]\n",
    "Si = ElementPsp(:Si, psp=load_psp(\"hgh/lda/Si-q4\"))\n",
    "atoms = [Si => [ones(3)/8, -ones(3)/8]];"
   ],
   "metadata": {},
   "execution_count": 1
  },
  {
   "cell_type": "markdown",
   "source": [
    "Next we make a `[2, 2, 2]` supercell using pymatgen"
   ],
   "metadata": {}
  },
  {
   "outputs": [],
   "cell_type": "code",
   "source": [
    "pystruct = pymatgen_structure(lattice, atoms)\n",
    "pystruct.make_supercell([2, 2, 2])\n",
    "lattice = load_lattice(pystruct)\n",
    "atoms = [Si => [s.frac_coords for s in pystruct.sites]];"
   ],
   "metadata": {},
   "execution_count": 2
  },
  {
   "cell_type": "markdown",
   "source": [
    "Setup an LDA model and discretize using\n",
    "a single kpoint and a small `Ecut` of 5 Hartree."
   ],
   "metadata": {}
  },
  {
   "outputs": [
    {
     "output_type": "execute_result",
     "data": {
      "text/plain": "PlaneWaveBasis (Ecut=5.0, 1 kpoints)"
     },
     "metadata": {},
     "execution_count": 3
    }
   ],
   "cell_type": "code",
   "source": [
    "model = model_LDA(lattice, atoms)\n",
    "basis = PlaneWaveBasis(model, 5, kgrid=(1, 1, 1))"
   ],
   "metadata": {},
   "execution_count": 3
  },
  {
   "cell_type": "markdown",
   "source": [
    "Find the ground state using direct minimisation (always using SCF is boring ...)"
   ],
   "metadata": {}
  },
  {
   "outputs": [
    {
     "name": "stdout",
     "output_type": "stream",
     "text": [
      "Iter     Function value   Gradient norm \n",
      "     0     1.116703e+02     1.640322e+00\n",
      " * time: 0.08267498016357422\n",
      "     1     1.061533e+01     8.991512e-01\n",
      " * time: 1.2896251678466797\n",
      "     2    -1.107152e+01     1.044894e+00\n",
      " * time: 1.4031860828399658\n",
      "     3    -3.400593e+01     8.196776e-01\n",
      " * time: 1.5806269645690918\n",
      "     4    -4.731192e+01     6.154606e-01\n",
      " * time: 1.7121789455413818\n",
      "     5    -5.672497e+01     1.974289e-01\n",
      " * time: 1.8582940101623535\n",
      "     6    -5.979224e+01     1.274506e-01\n",
      " * time: 1.986152172088623\n",
      "     7    -6.092150e+01     5.490411e-02\n",
      " * time: 2.0887889862060547\n",
      "     8    -6.132677e+01     7.134503e-02\n",
      " * time: 2.1912829875946045\n",
      "     9    -6.164476e+01     3.374633e-02\n",
      " * time: 2.295959949493408\n",
      "    10    -6.186621e+01     3.051725e-02\n",
      " * time: 2.4009389877319336\n",
      "    11    -6.203862e+01     2.297740e-02\n",
      " * time: 2.5171711444854736\n",
      "    12    -6.210336e+01     1.575298e-02\n",
      " * time: 2.620687961578369\n",
      "    13    -6.216607e+01     1.393041e-02\n",
      " * time: 2.7242040634155273\n",
      "    14    -6.219186e+01     1.176797e-02\n",
      " * time: 2.827476978302002\n",
      "    15    -6.221322e+01     8.319385e-03\n",
      " * time: 2.9305150508880615\n",
      "    16    -6.222462e+01     6.545161e-03\n",
      " * time: 3.04141902923584\n",
      "    17    -6.223174e+01     5.856616e-03\n",
      " * time: 3.1438939571380615\n",
      "    18    -6.223815e+01     5.561048e-03\n",
      " * time: 3.2473340034484863\n",
      "    19    -6.224332e+01     4.711287e-03\n",
      " * time: 3.350051164627075\n",
      "    20    -6.224819e+01     5.142148e-03\n",
      " * time: 3.4621901512145996\n",
      "    21    -6.225268e+01     4.378605e-03\n",
      " * time: 3.565538167953491\n",
      "    22    -6.225640e+01     3.240795e-03\n",
      " * time: 3.6678011417388916\n",
      "    23    -6.225876e+01     2.302237e-03\n",
      " * time: 3.770975112915039\n",
      "    24    -6.226010e+01     1.688078e-03\n",
      " * time: 3.873384952545166\n",
      "    25    -6.226077e+01     1.205424e-03\n",
      " * time: 3.982156991958618\n",
      "    26    -6.226112e+01     1.026791e-03\n",
      " * time: 4.083754062652588\n",
      "    27    -6.226130e+01     8.718615e-04\n",
      " * time: 4.1865150928497314\n",
      "    28    -6.226141e+01     7.725604e-04\n",
      " * time: 4.288361072540283\n",
      "    29    -6.226149e+01     6.381935e-04\n",
      " * time: 4.390048980712891\n",
      "    30    -6.226155e+01     4.610419e-04\n",
      " * time: 4.501224040985107\n",
      "    31    -6.226160e+01     3.605016e-04\n",
      " * time: 4.603995084762573\n",
      "    32    -6.226162e+01     2.983161e-04\n",
      " * time: 4.706449031829834\n",
      "    33    -6.226164e+01     2.228605e-04\n",
      " * time: 4.808618068695068\n",
      "    34    -6.226165e+01     1.929288e-04\n",
      " * time: 4.918382167816162\n",
      "    35    -6.226166e+01     1.488431e-04\n",
      " * time: 5.0208580493927\n",
      "    36    -6.226166e+01     8.194530e-05\n",
      " * time: 5.123033046722412\n",
      "    37    -6.226166e+01     5.860690e-05\n",
      " * time: 5.226966142654419\n",
      "    38    -6.226167e+01     4.128266e-05\n",
      " * time: 5.32919716835022\n",
      "    39    -6.226167e+01     2.957453e-05\n",
      " * time: 5.440953969955444\n",
      "    40    -6.226167e+01     2.527718e-05\n",
      " * time: 5.543919086456299\n",
      "    41    -6.226167e+01     2.258609e-05\n",
      " * time: 5.645817995071411\n",
      "    42    -6.226167e+01     1.943214e-05\n",
      " * time: 5.747050046920776\n",
      "    43    -6.226167e+01     1.703665e-05\n",
      " * time: 5.848682165145874\n",
      "    44    -6.226167e+01     1.241358e-05\n",
      " * time: 5.95969295501709\n",
      "    45    -6.226167e+01     8.005015e-06\n",
      " * time: 6.061819076538086\n",
      "    46    -6.226167e+01     6.185047e-06\n",
      " * time: 6.163825035095215\n",
      "    47    -6.226167e+01     4.236415e-06\n",
      " * time: 6.275412082672119\n",
      "    48    -6.226167e+01     3.397230e-06\n",
      " * time: 6.39565110206604\n",
      "    49    -6.226167e+01     2.511129e-06\n",
      " * time: 6.497874021530151\n"
     ]
    }
   ],
   "cell_type": "code",
   "source": [
    "scfres = direct_minimization(basis, tol=1e-5);"
   ],
   "metadata": {},
   "execution_count": 4
  },
  {
   "outputs": [
    {
     "output_type": "execute_result",
     "data": {
      "text/plain": "Energy breakdown:\n    Kinetic             25.7671065\n    AtomicLocal         -18.8557676\n    AtomicNonlocal      14.8522647\n    Ewald               -67.1831486\n    PspCorrection       -2.3569765\n    Hartree             4.8485371 \n    Xc                  -19.3336820\n\n    total               -62.261666461144\n"
     },
     "metadata": {},
     "execution_count": 5
    }
   ],
   "cell_type": "code",
   "source": [
    "scfres.energies"
   ],
   "metadata": {},
   "execution_count": 5
  }
 ],
 "nbformat_minor": 3,
 "metadata": {
  "language_info": {
   "file_extension": ".jl",
   "mimetype": "application/julia",
   "name": "julia",
   "version": "1.4.2"
  },
  "kernelspec": {
   "name": "julia-1.4",
   "display_name": "Julia 1.4.2",
   "language": "julia"
  }
 },
 "nbformat": 4
}
