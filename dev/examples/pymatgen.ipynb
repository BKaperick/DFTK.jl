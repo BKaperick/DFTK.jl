{
 "cells": [
  {
   "cell_type": "markdown",
   "source": [
    "# Creating supercells with pymatgen\n",
    "\n",
    "The [Pymatgen](https://pymatgen.org/) python library allows to setup\n",
    "solid-state calculations using a flexible set of classes as well as an API\n",
    "to an online data base of structures. Its `Structure` and `Lattice`\n",
    "objects are directly supported by the DFTK `load_atoms` and `load_lattice`\n",
    "functions, such that DFTK may be readily used to run calculation on systems\n",
    "defined in pymatgen. Using the `pymatgen_structure` function a conversion\n",
    "from DFTK to pymatgen structures is also possible. In the following we\n",
    "use this to create a silicon supercell and find its LDA ground state\n",
    "using direct minimisation."
   ],
   "metadata": {}
  },
  {
   "cell_type": "markdown",
   "source": [
    "First we setup the silicon lattice in DFTK."
   ],
   "metadata": {}
  },
  {
   "outputs": [],
   "cell_type": "code",
   "source": [
    "using DFTK\n",
    "\n",
    "a = 10.263141334305942  # Lattice constant in Bohr\n",
    "lattice = a / 2 .* [[0 1 1.]; [1 0 1.]; [1 1 0.]]\n",
    "Si = ElementPsp(:Si, psp=load_psp(\"hgh/lda/Si-q4\"))\n",
    "atoms = [Si => [ones(3)/8, -ones(3)/8]];"
   ],
   "metadata": {},
   "execution_count": 1
  },
  {
   "cell_type": "markdown",
   "source": [
    "Next we make a `[2, 2, 2]` supercell using pymatgen"
   ],
   "metadata": {}
  },
  {
   "outputs": [],
   "cell_type": "code",
   "source": [
    "pystruct = pymatgen_structure(lattice, atoms)\n",
    "pystruct.make_supercell([2, 2, 2])\n",
    "lattice = load_lattice(pystruct)\n",
    "atoms = [Si => [s.frac_coords for s in pystruct.sites]];"
   ],
   "metadata": {},
   "execution_count": 2
  },
  {
   "cell_type": "markdown",
   "source": [
    "Setup an LDA model and discretize using\n",
    "a single kpoint and a small `Ecut` of 5 Hartree."
   ],
   "metadata": {}
  },
  {
   "outputs": [
    {
     "output_type": "execute_result",
     "data": {
      "text/plain": "PlaneWaveBasis (Ecut=5.0, 1 kpoints)"
     },
     "metadata": {},
     "execution_count": 3
    }
   ],
   "cell_type": "code",
   "source": [
    "model = model_LDA(lattice, atoms)\n",
    "basis = PlaneWaveBasis(model, 5, kgrid=(1, 1, 1))"
   ],
   "metadata": {},
   "execution_count": 3
  },
  {
   "cell_type": "markdown",
   "source": [
    "Find the ground state using direct minimisation (always using SCF is boring ...)"
   ],
   "metadata": {}
  },
  {
   "outputs": [
    {
     "name": "stdout",
     "output_type": "stream",
     "text": [
      "Iter     Function value   Gradient norm \n",
      "     0     1.126576e+02     1.781461e+00\n",
      " * time: 0.09125709533691406\n",
      "     1     1.101762e+01     1.101698e+00\n",
      " * time: 0.955970048904419\n",
      "     2    -1.200737e+01     1.152970e+00\n",
      " * time: 1.1067330837249756\n",
      "     3    -3.375422e+01     9.825408e-01\n",
      " * time: 1.2450380325317383\n",
      "     4    -4.737838e+01     7.750459e-01\n",
      " * time: 1.396320104598999\n",
      "     5    -5.684902e+01     2.495177e-01\n",
      " * time: 1.5416321754455566\n",
      "     6    -5.976889e+01     1.713398e-01\n",
      " * time: 1.6565911769866943\n",
      "     7    -6.086071e+01     5.005932e-02\n",
      " * time: 1.7645909786224365\n",
      "     8    -6.127470e+01     1.021412e-01\n",
      " * time: 1.8810670375823975\n",
      "     9    -6.156890e+01     3.476022e-02\n",
      " * time: 1.996570110321045\n",
      "    10    -6.178482e+01     2.954601e-02\n",
      " * time: 2.105703115463257\n",
      "    11    -6.195048e+01     1.980584e-02\n",
      " * time: 2.221428155899048\n",
      "    12    -6.201681e+01     1.689520e-02\n",
      " * time: 2.329679012298584\n",
      "    13    -6.208482e+01     1.557727e-02\n",
      " * time: 2.444904088973999\n",
      "    14    -6.211471e+01     1.373462e-02\n",
      " * time: 2.560168981552124\n",
      "    15    -6.214337e+01     1.239197e-02\n",
      " * time: 2.668584108352661\n",
      "    16    -6.215938e+01     1.104588e-02\n",
      " * time: 2.7851650714874268\n",
      "    17    -6.217328e+01     8.134205e-03\n",
      " * time: 2.900559186935425\n",
      "    18    -6.218404e+01     7.448603e-03\n",
      " * time: 3.0086309909820557\n",
      "    19    -6.219298e+01     8.666201e-03\n",
      " * time: 3.1246299743652344\n",
      "    20    -6.220132e+01     7.175016e-03\n",
      " * time: 3.2330710887908936\n",
      "    21    -6.220978e+01     6.974650e-03\n",
      " * time: 3.350316047668457\n",
      "    22    -6.221840e+01     7.331455e-03\n",
      " * time: 3.466654062271118\n",
      "    23    -6.222695e+01     6.189500e-03\n",
      " * time: 3.5759971141815186\n",
      "    24    -6.223456e+01     6.813307e-03\n",
      " * time: 3.6906981468200684\n",
      "    25    -6.224099e+01     6.328548e-03\n",
      " * time: 3.7990570068359375\n",
      "    26    -6.224613e+01     5.980957e-03\n",
      " * time: 3.914306163787842\n",
      "    27    -6.225023e+01     5.347095e-03\n",
      " * time: 4.0319390296936035\n",
      "    28    -6.225355e+01     3.680211e-03\n",
      " * time: 4.140552997589111\n",
      "    29    -6.225615e+01     2.972381e-03\n",
      " * time: 4.254971027374268\n",
      "    30    -6.225810e+01     2.612417e-03\n",
      " * time: 4.36325216293335\n",
      "    31    -6.225948e+01     2.195027e-03\n",
      " * time: 4.478422164916992\n",
      "    32    -6.226039e+01     1.743225e-03\n",
      " * time: 4.5938639640808105\n",
      "    33    -6.226098e+01     1.295937e-03\n",
      " * time: 4.7043280601501465\n",
      "    34    -6.226131e+01     9.215820e-04\n",
      " * time: 4.818894147872925\n",
      "    35    -6.226149e+01     6.661617e-04\n",
      " * time: 4.93342399597168\n",
      "    36    -6.226157e+01     6.302564e-04\n",
      " * time: 5.0411341190338135\n",
      "    37    -6.226160e+01     4.984308e-04\n",
      " * time: 5.155617952346802\n",
      "    38    -6.226163e+01     4.427147e-04\n",
      " * time: 5.263231039047241\n",
      "    39    -6.226164e+01     3.592934e-04\n",
      " * time: 5.3769941329956055\n",
      "    40    -6.226165e+01     2.695983e-04\n",
      " * time: 5.489941120147705\n",
      "    41    -6.226165e+01     1.869450e-04\n",
      " * time: 5.598184108734131\n",
      "    42    -6.226166e+01     1.387845e-04\n",
      " * time: 5.7120521068573\n",
      "    43    -6.226166e+01     1.046708e-04\n",
      " * time: 5.819265127182007\n",
      "    44    -6.226166e+01     7.498712e-05\n",
      " * time: 5.936310052871704\n",
      "    45    -6.226167e+01     5.665826e-05\n",
      " * time: 6.049800157546997\n",
      "    46    -6.226167e+01     3.702423e-05\n",
      " * time: 6.157648086547852\n",
      "    47    -6.226167e+01     2.541325e-05\n",
      " * time: 6.272041082382202\n",
      "    48    -6.226167e+01     1.780799e-05\n",
      " * time: 6.386224031448364\n",
      "    49    -6.226167e+01     1.684955e-05\n",
      " * time: 6.494364976882935\n",
      "    50    -6.226167e+01     1.157117e-05\n",
      " * time: 6.609157085418701\n",
      "    51    -6.226167e+01     9.395469e-06\n",
      " * time: 6.715761184692383\n",
      "    52    -6.226167e+01     7.153988e-06\n",
      " * time: 6.829064130783081\n",
      "    53    -6.226167e+01     6.130556e-06\n",
      " * time: 6.942720174789429\n",
      "    54    -6.226167e+01     6.112747e-06\n",
      " * time: 7.050189971923828\n",
      "    55    -6.226167e+01     5.076071e-06\n",
      " * time: 7.163623094558716\n",
      "    56    -6.226167e+01     3.967346e-06\n",
      " * time: 7.271610975265503\n",
      "    57    -6.226167e+01     2.428858e-06\n",
      " * time: 7.385149002075195\n"
     ]
    }
   ],
   "cell_type": "code",
   "source": [
    "scfres = direct_minimization(basis, tol=1e-5);"
   ],
   "metadata": {},
   "execution_count": 4
  },
  {
   "outputs": [
    {
     "output_type": "execute_result",
     "data": {
      "text/plain": "Energy breakdown:\n    Kinetic             25.7671065\n    AtomicLocal         -18.8557667\n    AtomicNonlocal      14.8522641\n    Ewald               -67.1831486\n    PspCorrection       -2.3569765\n    Hartree             4.8485366 \n    Xc                  -19.3336818\n\n    total               -62.261666461435\n"
     },
     "metadata": {},
     "execution_count": 5
    }
   ],
   "cell_type": "code",
   "source": [
    "scfres.energies"
   ],
   "metadata": {},
   "execution_count": 5
  }
 ],
 "nbformat_minor": 3,
 "metadata": {
  "language_info": {
   "file_extension": ".jl",
   "mimetype": "application/julia",
   "name": "julia",
   "version": "1.3.1"
  },
  "kernelspec": {
   "name": "julia-1.3",
   "display_name": "Julia 1.3.1",
   "language": "julia"
  }
 },
 "nbformat": 4
}
