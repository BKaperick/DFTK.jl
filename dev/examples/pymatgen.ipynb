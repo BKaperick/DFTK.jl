{
 "cells": [
  {
   "cell_type": "markdown",
   "source": [
    "# Creating supercells with pymatgen\n",
    "\n",
    "The [Pymatgen](https://pymatgen.org/) python library allows to setup\n",
    "solid-state calculations using a flexible set of classes as well as an API\n",
    "to an online data base of structures. Its `Structure` and `Lattice`\n",
    "objects are directly supported by the DFTK `load_atoms` and `load_lattice`\n",
    "functions, such that DFTK may be readily used to run calculation on systems\n",
    "defined in pymatgen. Using the `pymatgen_structure` function a conversion\n",
    "from DFTK to pymatgen structures is also possible. In the following we\n",
    "use this to create a silicon supercell and find its LDA ground state\n",
    "using direct minimisation."
   ],
   "metadata": {}
  },
  {
   "cell_type": "markdown",
   "source": [
    "First we setup the silicon lattice in DFTK."
   ],
   "metadata": {}
  },
  {
   "outputs": [],
   "cell_type": "code",
   "source": [
    "using DFTK\n",
    "\n",
    "a = 10.263141334305942  # Lattice constant in Bohr\n",
    "lattice = a / 2 .* [[0 1 1.]; [1 0 1.]; [1 1 0.]]\n",
    "Si = ElementPsp(:Si, psp=load_psp(\"hgh/lda/Si-q4\"))\n",
    "atoms = [Si => [ones(3)/8, -ones(3)/8]];"
   ],
   "metadata": {},
   "execution_count": 1
  },
  {
   "cell_type": "markdown",
   "source": [
    "Next we make a `[2, 2, 2]` supercell using pymatgen"
   ],
   "metadata": {}
  },
  {
   "outputs": [],
   "cell_type": "code",
   "source": [
    "pystruct = pymatgen_structure(lattice, atoms)\n",
    "pystruct.make_supercell([2, 2, 2])\n",
    "lattice = load_lattice(pystruct)\n",
    "atoms = [Si => [s.frac_coords for s in pystruct.sites]];"
   ],
   "metadata": {},
   "execution_count": 2
  },
  {
   "cell_type": "markdown",
   "source": [
    "Setup an LDA model and discretize using\n",
    "a single kpoint and a small `Ecut` of 5 Hartree.\n",
    "Notice that `PlaneWaveBasis` defaults to just using the ``Γ``-point\n",
    "if no ``k``-point options are provided."
   ],
   "metadata": {}
  },
  {
   "outputs": [
    {
     "output_type": "execute_result",
     "data": {
      "text/plain": "PlaneWaveBasis (Ecut=5.0, 1 kpoints)"
     },
     "metadata": {},
     "execution_count": 3
    }
   ],
   "cell_type": "code",
   "source": [
    "model = model_LDA(lattice, atoms)\n",
    "basis = PlaneWaveBasis(model, 5)"
   ],
   "metadata": {},
   "execution_count": 3
  },
  {
   "cell_type": "markdown",
   "source": [
    "Find the ground state using direct minimisation (always using SCF is boring ...)"
   ],
   "metadata": {}
  },
  {
   "outputs": [
    {
     "name": "stdout",
     "output_type": "stream",
     "text": [
      "Iter     Function value   Gradient norm \n",
      "     0     1.119743e+02     1.643724e+00\n",
      " * time: 0.09055089950561523\n",
      "     1     1.034067e+01     9.426893e-01\n",
      " * time: 0.9903650283813477\n",
      "     2    -1.138855e+01     9.973316e-01\n",
      " * time: 1.1008219718933105\n",
      "     3    -3.398986e+01     7.560922e-01\n",
      " * time: 1.2773489952087402\n",
      "     4    -4.730311e+01     6.407976e-01\n",
      " * time: 1.4274399280548096\n",
      "     5    -5.677390e+01     2.893562e-01\n",
      " * time: 1.5643548965454102\n",
      "     6    -5.961500e+01     2.541554e-01\n",
      " * time: 1.6771819591522217\n",
      "     7    -6.085088e+01     1.086560e-01\n",
      " * time: 1.7840769290924072\n",
      "     8    -6.142716e+01     4.188863e-02\n",
      " * time: 1.8977720737457275\n",
      "     9    -6.172280e+01     3.488519e-02\n",
      " * time: 2.004142999649048\n",
      "    10    -6.188543e+01     3.430444e-02\n",
      " * time: 2.118468999862671\n",
      "    11    -6.202013e+01     2.046051e-02\n",
      " * time: 2.224565029144287\n",
      "    12    -6.209378e+01     1.426287e-02\n",
      " * time: 2.338447093963623\n",
      "    13    -6.214508e+01     1.149558e-02\n",
      " * time: 2.44498610496521\n",
      "    14    -6.217980e+01     1.216044e-02\n",
      " * time: 2.5580499172210693\n",
      "    15    -6.220455e+01     1.068663e-02\n",
      " * time: 2.663541078567505\n",
      "    16    -6.222034e+01     8.743942e-03\n",
      " * time: 2.776853084564209\n",
      "    17    -6.223152e+01     6.915452e-03\n",
      " * time: 2.883436918258667\n",
      "    18    -6.223929e+01     6.583753e-03\n",
      " * time: 2.9971070289611816\n",
      "    19    -6.224502e+01     6.205348e-03\n",
      " * time: 3.101346969604492\n",
      "    20    -6.224911e+01     5.954798e-03\n",
      " * time: 3.2328269481658936\n",
      "    21    -6.225301e+01     5.179508e-03\n",
      " * time: 3.3385109901428223\n",
      "    22    -6.225632e+01     3.921358e-03\n",
      " * time: 3.451427936553955\n",
      "    23    -6.225871e+01     2.977601e-03\n",
      " * time: 3.557610034942627\n",
      "    24    -6.226009e+01     2.304822e-03\n",
      " * time: 3.6646180152893066\n",
      "    25    -6.226082e+01     1.791548e-03\n",
      " * time: 3.7783749103546143\n",
      "    26    -6.226120e+01     1.042996e-03\n",
      " * time: 3.885183095932007\n",
      "    27    -6.226139e+01     7.879854e-04\n",
      " * time: 3.997973918914795\n",
      "    28    -6.226148e+01     5.443232e-04\n",
      " * time: 4.10434889793396\n",
      "    29    -6.226154e+01     4.835971e-04\n",
      " * time: 4.215991973876953\n",
      "    30    -6.226159e+01     4.635663e-04\n",
      " * time: 4.320166110992432\n",
      "    31    -6.226161e+01     3.752626e-04\n",
      " * time: 4.433327913284302\n",
      "    32    -6.226163e+01     3.351768e-04\n",
      " * time: 4.538609027862549\n",
      "    33    -6.226164e+01     2.443269e-04\n",
      " * time: 4.650765895843506\n",
      "    34    -6.226165e+01     2.235975e-04\n",
      " * time: 4.756524085998535\n",
      "    35    -6.226166e+01     1.384207e-04\n",
      " * time: 4.870176076889038\n",
      "    36    -6.226166e+01     9.394190e-05\n",
      " * time: 4.976219892501831\n",
      "    37    -6.226166e+01     7.735143e-05\n",
      " * time: 5.089201927185059\n",
      "    38    -6.226167e+01     4.718204e-05\n",
      " * time: 5.195982933044434\n",
      "    39    -6.226167e+01     3.703619e-05\n",
      " * time: 5.310286045074463\n",
      "    40    -6.226167e+01     2.855470e-05\n",
      " * time: 5.424000024795532\n",
      "    41    -6.226167e+01     2.104422e-05\n",
      " * time: 5.5504469871521\n",
      "    42    -6.226167e+01     1.926101e-05\n",
      " * time: 5.6571619510650635\n",
      "    43    -6.226167e+01     1.475693e-05\n",
      " * time: 5.772221088409424\n",
      "    44    -6.226167e+01     1.136223e-05\n",
      " * time: 5.879065036773682\n",
      "    45    -6.226167e+01     8.873082e-06\n",
      " * time: 5.992276906967163\n",
      "    46    -6.226167e+01     9.193743e-06\n",
      " * time: 6.098016023635864\n",
      "    47    -6.226167e+01     7.701585e-06\n",
      " * time: 6.210836887359619\n",
      "    48    -6.226167e+01     4.729224e-06\n",
      " * time: 6.317425966262817\n",
      "    49    -6.226167e+01     2.384332e-06\n",
      " * time: 6.430465936660767\n"
     ]
    }
   ],
   "cell_type": "code",
   "source": [
    "scfres = direct_minimization(basis, tol=1e-5);"
   ],
   "metadata": {},
   "execution_count": 4
  },
  {
   "outputs": [
    {
     "output_type": "execute_result",
     "data": {
      "text/plain": "Energy breakdown:\n    Kinetic             25.7671050\n    AtomicLocal         -18.8557650\n    AtomicNonlocal      14.8522647\n    Ewald               -67.1831486\n    PspCorrection       -2.3569765\n    Hartree             4.8485352 \n    Xc                  -19.3336812\n\n    total               -62.261666461035\n"
     },
     "metadata": {},
     "execution_count": 5
    }
   ],
   "cell_type": "code",
   "source": [
    "scfres.energies"
   ],
   "metadata": {},
   "execution_count": 5
  }
 ],
 "nbformat_minor": 3,
 "metadata": {
  "language_info": {
   "file_extension": ".jl",
   "mimetype": "application/julia",
   "name": "julia",
   "version": "1.3.1"
  },
  "kernelspec": {
   "name": "julia-1.3",
   "display_name": "Julia 1.3.1",
   "language": "julia"
  }
 },
 "nbformat": 4
}
