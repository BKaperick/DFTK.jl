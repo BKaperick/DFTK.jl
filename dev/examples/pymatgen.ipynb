{
 "cells": [
  {
   "cell_type": "markdown",
   "source": [
    "# Creating supercells with pymatgen\n",
    "\n",
    "The [Pymatgen](https://pymatgen.org/) python library allows to setup\n",
    "solid-state calculations using a flexible set of classes as well as an API\n",
    "to an online data base of structures. Its `Structure` and `Lattice`\n",
    "objects are directly supported by the DFTK `load_atoms` and `load_lattice`\n",
    "functions, such that DFTK may be readily used to run calculation on systems\n",
    "defined in pymatgen. Using the `pymatgen_structure` function a conversion\n",
    "from DFTK to pymatgen structures is also possible. In the following we\n",
    "use this to create a silicon supercell and find its LDA ground state\n",
    "using direct minimisation."
   ],
   "metadata": {}
  },
  {
   "cell_type": "markdown",
   "source": [
    "First we setup the silicon lattice in DFTK."
   ],
   "metadata": {}
  },
  {
   "outputs": [],
   "cell_type": "code",
   "source": [
    "using DFTK\n",
    "\n",
    "a = 10.263141334305942  # Lattice constant in Bohr\n",
    "lattice = a / 2 .* [[0 1 1.]; [1 0 1.]; [1 1 0.]]\n",
    "Si = ElementPsp(:Si, psp=load_psp(\"hgh/lda/Si-q4\"))\n",
    "atoms = [Si => [ones(3)/8, -ones(3)/8]];"
   ],
   "metadata": {},
   "execution_count": 1
  },
  {
   "cell_type": "markdown",
   "source": [
    "Next we make a `[2, 2, 2]` supercell using pymatgen"
   ],
   "metadata": {}
  },
  {
   "outputs": [],
   "cell_type": "code",
   "source": [
    "pystruct = pymatgen_structure(lattice, atoms)\n",
    "pystruct.make_supercell([2, 2, 2])\n",
    "lattice = load_lattice(pystruct)\n",
    "atoms = [Si => [s.frac_coords for s in pystruct.sites]];"
   ],
   "metadata": {},
   "execution_count": 2
  },
  {
   "cell_type": "markdown",
   "source": [
    "Setup an LDA model and discretize using\n",
    "a single kpoint and a small `Ecut` of 5 Hartree."
   ],
   "metadata": {}
  },
  {
   "outputs": [
    {
     "output_type": "execute_result",
     "data": {
      "text/plain": "PlaneWaveBasis (Ecut=5.0, 1 kpoints)"
     },
     "metadata": {},
     "execution_count": 3
    }
   ],
   "cell_type": "code",
   "source": [
    "model = model_LDA(lattice, atoms)\n",
    "basis = PlaneWaveBasis(model; Ecut=5, kgrid=(1, 1, 1))"
   ],
   "metadata": {},
   "execution_count": 3
  },
  {
   "cell_type": "markdown",
   "source": [
    "Find the ground state using direct minimisation (always using SCF is boring ...)"
   ],
   "metadata": {}
  },
  {
   "outputs": [
    {
     "name": "stdout",
     "output_type": "stream",
     "text": [
      "Iter     Function value   Gradient norm \n",
      "     0     1.113766e+02     1.533869e+00\n",
      " * time: 0.673799991607666\n",
      "     1     1.112362e+01     8.055906e-01\n",
      " * time: 2.0497519969940186\n",
      "     2    -1.156511e+01     9.980529e-01\n",
      " * time: 2.714574098587036\n",
      "     3    -3.373089e+01     7.390935e-01\n",
      " * time: 3.7146220207214355\n",
      "     4    -4.718306e+01     5.034577e-01\n",
      " * time: 4.622936964035034\n",
      "     5    -5.689996e+01     1.930233e-01\n",
      " * time: 5.537729978561401\n",
      "     6    -5.986305e+01     1.315256e-01\n",
      " * time: 6.195868968963623\n",
      "     7    -6.095037e+01     4.993135e-02\n",
      " * time: 6.846844911575317\n",
      "     8    -6.136315e+01     5.896537e-02\n",
      " * time: 7.44304895401001\n",
      "     9    -6.162443e+01     3.104573e-02\n",
      " * time: 8.074876070022583\n",
      "    10    -6.185118e+01     2.391195e-02\n",
      " * time: 8.741008043289185\n",
      "    11    -6.201532e+01     1.567630e-02\n",
      " * time: 9.386240005493164\n",
      "    12    -6.207821e+01     1.672242e-02\n",
      " * time: 10.019335985183716\n",
      "    13    -6.214243e+01     1.405847e-02\n",
      " * time: 10.666745901107788\n",
      "    14    -6.216998e+01     1.367722e-02\n",
      " * time: 11.323576927185059\n",
      "    15    -6.219434e+01     9.209280e-03\n",
      " * time: 11.967058897018433\n",
      "    16    -6.220842e+01     8.374216e-03\n",
      " * time: 12.61801290512085\n",
      "    17    -6.221787e+01     6.442033e-03\n",
      " * time: 13.259037017822266\n",
      "    18    -6.222594e+01     6.720580e-03\n",
      " * time: 13.89294695854187\n",
      "    19    -6.223197e+01     6.296138e-03\n",
      " * time: 14.539730072021484\n",
      "    20    -6.223772e+01     5.876029e-03\n",
      " * time: 15.196937084197998\n",
      "    21    -6.224361e+01     4.485673e-03\n",
      " * time: 15.815428972244263\n",
      "    22    -6.224949e+01     4.306660e-03\n",
      " * time: 16.414813995361328\n",
      "    23    -6.225420e+01     4.104553e-03\n",
      " * time: 16.955230951309204\n",
      "    24    -6.225745e+01     3.241069e-03\n",
      " * time: 17.5379741191864\n",
      "    25    -6.225923e+01     2.304179e-03\n",
      " * time: 18.096235990524292\n",
      "    26    -6.226014e+01     1.582422e-03\n",
      " * time: 18.6765079498291\n",
      "    27    -6.226066e+01     1.440433e-03\n",
      " * time: 19.238806009292603\n",
      "    28    -6.226101e+01     1.025402e-03\n",
      " * time: 19.823020935058594\n",
      "    29    -6.226124e+01     9.879314e-04\n",
      " * time: 20.391161918640137\n",
      "    30    -6.226138e+01     7.308458e-04\n",
      " * time: 20.948669910430908\n",
      "    31    -6.226149e+01     6.228512e-04\n",
      " * time: 21.503557920455933\n",
      "    32    -6.226156e+01     4.647174e-04\n",
      " * time: 22.048871994018555\n",
      "    33    -6.226160e+01     4.294259e-04\n",
      " * time: 22.59659504890442\n",
      "    34    -6.226163e+01     2.982138e-04\n",
      " * time: 23.15166711807251\n",
      "    35    -6.226165e+01     1.576985e-04\n",
      " * time: 23.723855018615723\n",
      "    36    -6.226166e+01     1.094662e-04\n",
      " * time: 24.294433116912842\n",
      "    37    -6.226166e+01     8.521011e-05\n",
      " * time: 24.877552032470703\n",
      "    38    -6.226166e+01     6.886653e-05\n",
      " * time: 25.473690032958984\n",
      "    39    -6.226166e+01     5.496420e-05\n",
      " * time: 26.053988933563232\n",
      "    40    -6.226167e+01     4.574982e-05\n",
      " * time: 26.630398988723755\n",
      "    41    -6.226167e+01     3.839705e-05\n",
      " * time: 27.219685077667236\n",
      "    42    -6.226167e+01     3.002758e-05\n",
      " * time: 27.820038080215454\n",
      "    43    -6.226167e+01     2.394932e-05\n",
      " * time: 28.42971706390381\n",
      "    44    -6.226167e+01     1.784849e-05\n",
      " * time: 29.045774936676025\n",
      "    45    -6.226167e+01     1.552869e-05\n",
      " * time: 29.59980607032776\n",
      "    46    -6.226167e+01     1.228565e-05\n",
      " * time: 30.21575689315796\n",
      "    47    -6.226167e+01     7.785409e-06\n",
      " * time: 30.79849910736084\n",
      "    48    -6.226167e+01     5.593829e-06\n",
      " * time: 31.369972944259644\n",
      "    49    -6.226167e+01     3.816024e-06\n",
      " * time: 31.997297048568726\n"
     ]
    }
   ],
   "cell_type": "code",
   "source": [
    "scfres = direct_minimization(basis, tol=1e-5);"
   ],
   "metadata": {},
   "execution_count": 4
  },
  {
   "outputs": [
    {
     "output_type": "execute_result",
     "data": {
      "text/plain": "Energy breakdown:\n    Kinetic             25.7671058\n    AtomicLocal         -18.8557688\n    AtomicNonlocal      14.8522669\n    Ewald               -67.1831486\n    PspCorrection       -2.3569765\n    Hartree             4.8485365 \n    Xc                  -19.3336817\n\n    total               -62.261666455175\n"
     },
     "metadata": {},
     "execution_count": 5
    }
   ],
   "cell_type": "code",
   "source": [
    "scfres.energies"
   ],
   "metadata": {},
   "execution_count": 5
  }
 ],
 "nbformat_minor": 3,
 "metadata": {
  "language_info": {
   "file_extension": ".jl",
   "mimetype": "application/julia",
   "name": "julia",
   "version": "1.6.2"
  },
  "kernelspec": {
   "name": "julia-1.6",
   "display_name": "Julia 1.6.2",
   "language": "julia"
  }
 },
 "nbformat": 4
}
