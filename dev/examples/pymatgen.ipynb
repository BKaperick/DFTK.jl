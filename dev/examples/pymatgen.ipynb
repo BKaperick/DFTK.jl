{
 "cells": [
  {
   "cell_type": "markdown",
   "source": [
    "# Creating supercells with pymatgen\n",
    "\n",
    "The [Pymatgen](https://pymatgen.org/) python library allows to setup\n",
    "solid-state calculations using a flexible set of classes as well as an API\n",
    "to an online data base of structures. Its `Structure` and `Lattice`\n",
    "objects are directly supported by the DFTK `load_atoms` and `load_lattice`\n",
    "functions, such that DFTK may be readily used to run calculation on systems\n",
    "defined in pymatgen. Using the `pymatgen_structure` function a conversion\n",
    "from DFTK to pymatgen structures is also possible. In the following we\n",
    "use this to create a silicon supercell and find its LDA ground state\n",
    "using direct minimisation."
   ],
   "metadata": {}
  },
  {
   "cell_type": "markdown",
   "source": [
    "First we setup the silicon lattice in DFTK."
   ],
   "metadata": {}
  },
  {
   "outputs": [],
   "cell_type": "code",
   "source": [
    "using DFTK\n",
    "\n",
    "a = 10.263141334305942  # Lattice constant in Bohr\n",
    "lattice = a / 2 .* [[0 1 1.]; [1 0 1.]; [1 1 0.]]\n",
    "Si = ElementPsp(:Si, psp=load_psp(\"hgh/lda/Si-q4\"))\n",
    "atoms = [Si => [ones(3)/8, -ones(3)/8]];"
   ],
   "metadata": {},
   "execution_count": 1
  },
  {
   "cell_type": "markdown",
   "source": [
    "Next we make a `[2, 2, 2]` supercell using pymatgen"
   ],
   "metadata": {}
  },
  {
   "outputs": [],
   "cell_type": "code",
   "source": [
    "pystruct = pymatgen_structure(lattice, atoms)\n",
    "pystruct.make_supercell([2, 2, 2])\n",
    "lattice = load_lattice(pystruct)\n",
    "atoms = [Si => [s.frac_coords for s in pystruct.sites]];"
   ],
   "metadata": {},
   "execution_count": 2
  },
  {
   "cell_type": "markdown",
   "source": [
    "Setup an LDA model and discretize using\n",
    "a single kpoint and a small `Ecut` of 5 Hartree."
   ],
   "metadata": {}
  },
  {
   "outputs": [
    {
     "output_type": "execute_result",
     "data": {
      "text/plain": "PlaneWaveBasis (Ecut=5.0, 1 kpoints)"
     },
     "metadata": {},
     "execution_count": 3
    }
   ],
   "cell_type": "code",
   "source": [
    "model = model_LDA(lattice, atoms)\n",
    "basis = PlaneWaveBasis(model, 5, kgrid=(1, 1, 1))"
   ],
   "metadata": {},
   "execution_count": 3
  },
  {
   "cell_type": "markdown",
   "source": [
    "Find the ground state using direct minimisation (always using SCF is boring ...)"
   ],
   "metadata": {}
  },
  {
   "outputs": [
    {
     "name": "stdout",
     "output_type": "stream",
     "text": [
      "Iter     Function value   Gradient norm \n",
      "     0     1.121592e+02     1.396676e+00\n",
      " * time: 0.6430199146270752\n",
      "     1     1.090356e+01     8.257016e-01\n",
      " * time: 1.9149219989776611\n",
      "     2    -1.190047e+01     9.160670e-01\n",
      " * time: 2.489764928817749\n",
      "     3    -3.422187e+01     7.386412e-01\n",
      " * time: 3.391774892807007\n",
      "     4    -4.786018e+01     5.638092e-01\n",
      " * time: 4.250895977020264\n",
      "     5    -5.703428e+01     2.021741e-01\n",
      " * time: 5.222264051437378\n",
      "     6    -5.991274e+01     1.251394e-01\n",
      " * time: 5.796416997909546\n",
      "     7    -6.103811e+01     4.901186e-02\n",
      " * time: 6.36556601524353\n",
      "     8    -6.146000e+01     6.187852e-02\n",
      " * time: 6.969156980514526\n",
      "     9    -6.173018e+01     4.136818e-02\n",
      " * time: 7.574378967285156\n",
      "    10    -6.192446e+01     2.209907e-02\n",
      " * time: 8.15067195892334\n",
      "    11    -6.206388e+01     1.735738e-02\n",
      " * time: 8.730110883712769\n",
      "    12    -6.211764e+01     1.368694e-02\n",
      " * time: 9.31196904182434\n",
      "    13    -6.216884e+01     1.211800e-02\n",
      " * time: 9.933525085449219\n",
      "    14    -6.219116e+01     1.044160e-02\n",
      " * time: 10.564171075820923\n",
      "    15    -6.220904e+01     6.871318e-03\n",
      " * time: 11.183732986450195\n",
      "    16    -6.221862e+01     6.317033e-03\n",
      " * time: 11.751807928085327\n",
      "    17    -6.222650e+01     6.147571e-03\n",
      " * time: 12.400789022445679\n",
      "    18    -6.223343e+01     5.416043e-03\n",
      " * time: 13.00956392288208\n",
      "    19    -6.223973e+01     6.429271e-03\n",
      " * time: 13.638171911239624\n",
      "    20    -6.224564e+01     5.922645e-03\n",
      " * time: 14.216306924819946\n",
      "    21    -6.225101e+01     5.797014e-03\n",
      " * time: 14.82811188697815\n",
      "    22    -6.225520e+01     4.665906e-03\n",
      " * time: 15.406755924224854\n",
      "    23    -6.225795e+01     3.009640e-03\n",
      " * time: 16.017149925231934\n",
      "    24    -6.225944e+01     2.006497e-03\n",
      " * time: 16.64189100265503\n",
      "    25    -6.226023e+01     1.616715e-03\n",
      " * time: 17.25976800918579\n",
      "    26    -6.226069e+01     1.211790e-03\n",
      " * time: 17.859683990478516\n",
      "    27    -6.226101e+01     1.112635e-03\n",
      " * time: 18.456878900527954\n",
      "    28    -6.226123e+01     9.151226e-04\n",
      " * time: 19.070175886154175\n",
      "    29    -6.226140e+01     8.323822e-04\n",
      " * time: 19.671066999435425\n",
      "    30    -6.226151e+01     5.492416e-04\n",
      " * time: 20.26531195640564\n",
      "    31    -6.226158e+01     5.147001e-04\n",
      " * time: 20.854044914245605\n",
      "    32    -6.226162e+01     3.382015e-04\n",
      " * time: 21.491159915924072\n",
      "    33    -6.226164e+01     2.177131e-04\n",
      " * time: 22.097089052200317\n",
      "    34    -6.226165e+01     1.434250e-04\n",
      " * time: 22.660290002822876\n",
      "    35    -6.226166e+01     1.020476e-04\n",
      " * time: 23.261664867401123\n",
      "    36    -6.226166e+01     9.439396e-05\n",
      " * time: 23.924400091171265\n",
      "    37    -6.226166e+01     9.600977e-05\n",
      " * time: 24.581547021865845\n",
      "    38    -6.226166e+01     7.369969e-05\n",
      " * time: 25.250839948654175\n",
      "    39    -6.226167e+01     5.512335e-05\n",
      " * time: 25.875169038772583\n",
      "    40    -6.226167e+01     4.560295e-05\n",
      " * time: 26.498661994934082\n",
      "    41    -6.226167e+01     3.460118e-05\n",
      " * time: 27.075841903686523\n",
      "    42    -6.226167e+01     2.330070e-05\n",
      " * time: 27.664576053619385\n",
      "    43    -6.226167e+01     2.155881e-05\n",
      " * time: 28.26441192626953\n",
      "    44    -6.226167e+01     1.829260e-05\n",
      " * time: 28.866286993026733\n",
      "    45    -6.226167e+01     9.785384e-06\n",
      " * time: 29.435302019119263\n",
      "    46    -6.226167e+01     6.336424e-06\n",
      " * time: 30.020395040512085\n",
      "    47    -6.226167e+01     4.971600e-06\n",
      " * time: 30.619237899780273\n",
      "    48    -6.226167e+01     3.436164e-06\n",
      " * time: 31.201714038848877\n",
      "    49    -6.226167e+01     3.206858e-06\n",
      " * time: 31.762239933013916\n"
     ]
    }
   ],
   "cell_type": "code",
   "source": [
    "scfres = direct_minimization(basis, tol=1e-5);"
   ],
   "metadata": {},
   "execution_count": 4
  },
  {
   "outputs": [
    {
     "output_type": "execute_result",
     "data": {
      "text/plain": "Energy breakdown:\n    Kinetic             25.7671064\n    AtomicLocal         -18.8557668\n    AtomicNonlocal      14.8522643\n    Ewald               -67.1831486\n    PspCorrection       -2.3569765\n    Hartree             4.8485365 \n    Xc                  -19.3336817\n\n    total               -62.261666460172\n"
     },
     "metadata": {},
     "execution_count": 5
    }
   ],
   "cell_type": "code",
   "source": [
    "scfres.energies"
   ],
   "metadata": {},
   "execution_count": 5
  }
 ],
 "nbformat_minor": 3,
 "metadata": {
  "language_info": {
   "file_extension": ".jl",
   "mimetype": "application/julia",
   "name": "julia",
   "version": "1.6.2"
  },
  "kernelspec": {
   "name": "julia-1.6",
   "display_name": "Julia 1.6.2",
   "language": "julia"
  }
 },
 "nbformat": 4
}
