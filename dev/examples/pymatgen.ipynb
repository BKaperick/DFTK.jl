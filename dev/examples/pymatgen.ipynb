{
 "cells": [
  {
   "cell_type": "markdown",
   "source": [
    "# Creating supercells with pymatgen\n",
    "\n",
    "The [Pymatgen](https://pymatgen.org/) python library allows to setup\n",
    "solid-state calculations using a flexible set of classes as well as an API\n",
    "to an online data base of structures. Its `Structure` and `Lattice`\n",
    "objects are directly supported by the DFTK `load_atoms` and `load_lattice`\n",
    "functions, such that DFTK may be readily used to run calculation on systems\n",
    "defined in pymatgen. Using the `pymatgen_structure` function a conversion\n",
    "from DFTK to pymatgen structures is also possible. In the following we\n",
    "use this to create a silicon supercell and find its LDA ground state\n",
    "using direct minimisation."
   ],
   "metadata": {}
  },
  {
   "cell_type": "markdown",
   "source": [
    "First we setup the silicon lattice in DFTK."
   ],
   "metadata": {}
  },
  {
   "outputs": [],
   "cell_type": "code",
   "source": [
    "using DFTK\n",
    "\n",
    "a = 10.263141334305942  # Lattice constant in Bohr\n",
    "lattice = a / 2 .* [[0 1 1.]; [1 0 1.]; [1 1 0.]]\n",
    "Si = ElementPsp(:Si, psp=load_psp(\"hgh/lda/Si-q4\"))\n",
    "atoms = [Si => [ones(3)/8, -ones(3)/8]];"
   ],
   "metadata": {},
   "execution_count": 1
  },
  {
   "cell_type": "markdown",
   "source": [
    "Next we make a `[2, 2, 2]` supercell using pymatgen"
   ],
   "metadata": {}
  },
  {
   "outputs": [],
   "cell_type": "code",
   "source": [
    "pystruct = pymatgen_structure(lattice, atoms)\n",
    "pystruct.make_supercell([2, 2, 2])\n",
    "lattice = load_lattice(pystruct)\n",
    "atoms = [Si => [s.frac_coords for s in pystruct.sites]];"
   ],
   "metadata": {},
   "execution_count": 2
  },
  {
   "cell_type": "markdown",
   "source": [
    "Setup an LDA model and discretize using\n",
    "a single kpoint and a small `Ecut` of 5 Hartree.\n",
    "Notice that `PlaneWaveBasis` defaults to just using the ``Γ``-point\n",
    "if no ``k``-point options are provided."
   ],
   "metadata": {}
  },
  {
   "outputs": [
    {
     "output_type": "execute_result",
     "data": {
      "text/plain": "PlaneWaveBasis (Ecut=5.0, 1 kpoints)"
     },
     "metadata": {},
     "execution_count": 3
    }
   ],
   "cell_type": "code",
   "source": [
    "model = model_LDA(lattice, atoms)\n",
    "basis = PlaneWaveBasis(model, 5)"
   ],
   "metadata": {},
   "execution_count": 3
  },
  {
   "cell_type": "markdown",
   "source": [
    "Find the ground state using direct minimisation (always using SCF is boring ...)"
   ],
   "metadata": {}
  },
  {
   "outputs": [
    {
     "name": "stdout",
     "output_type": "stream",
     "text": [
      "Iter     Function value   Gradient norm \n",
      "     0     1.126336e+02     1.596965e+00\n",
      " * time: 0.13038206100463867\n",
      "     1     1.074902e+01     9.507850e-01\n",
      " * time: 1.0014240741729736\n",
      "     2    -1.201263e+01     1.025653e+00\n",
      " * time: 1.1355741024017334\n",
      "     3    -3.412025e+01     7.958712e-01\n",
      " * time: 1.2972631454467773\n",
      "     4    -4.746779e+01     6.137705e-01\n",
      " * time: 1.450796127319336\n",
      "     5    -5.676820e+01     2.258002e-01\n",
      " * time: 1.598973035812378\n",
      "     6    -5.961201e+01     2.075028e-01\n",
      " * time: 1.7069971561431885\n",
      "     7    -6.080662e+01     9.167877e-02\n",
      " * time: 1.8238391876220703\n",
      "     8    -6.134973e+01     5.030177e-02\n",
      " * time: 1.9320850372314453\n",
      "     9    -6.167378e+01     4.259078e-02\n",
      " * time: 2.047516107559204\n",
      "    10    -6.187269e+01     3.216241e-02\n",
      " * time: 2.1570730209350586\n",
      "    11    -6.199318e+01     2.725707e-02\n",
      " * time: 2.273576021194458\n",
      "    12    -6.207678e+01     1.855462e-02\n",
      " * time: 2.3837850093841553\n",
      "    13    -6.213391e+01     1.563177e-02\n",
      " * time: 2.499624013900757\n",
      "    14    -6.217124e+01     1.204644e-02\n",
      " * time: 2.6091811656951904\n",
      "    15    -6.219517e+01     1.144138e-02\n",
      " * time: 2.7262539863586426\n",
      "    16    -6.221059e+01     1.325510e-02\n",
      " * time: 2.834235191345215\n",
      "    17    -6.222184e+01     7.345542e-03\n",
      " * time: 2.9499130249023438\n",
      "    18    -6.223068e+01     7.229657e-03\n",
      " * time: 3.0588691234588623\n",
      "    19    -6.223777e+01     5.780730e-03\n",
      " * time: 3.174818992614746\n",
      "    20    -6.224316e+01     5.183473e-03\n",
      " * time: 3.283612012863159\n",
      "    21    -6.224833e+01     4.378725e-03\n",
      " * time: 3.4003779888153076\n",
      "    22    -6.225311e+01     3.990729e-03\n",
      " * time: 3.5076920986175537\n",
      "    23    -6.225675e+01     3.636161e-03\n",
      " * time: 3.622282028198242\n",
      "    24    -6.225900e+01     2.823694e-03\n",
      " * time: 3.729530096054077\n",
      "    25    -6.226026e+01     1.964242e-03\n",
      " * time: 3.844571113586426\n",
      "    26    -6.226092e+01     1.412360e-03\n",
      " * time: 3.9524710178375244\n",
      "    27    -6.226123e+01     9.010470e-04\n",
      " * time: 4.067732095718384\n",
      "    28    -6.226139e+01     7.444416e-04\n",
      " * time: 4.1768341064453125\n",
      "    29    -6.226148e+01     5.880193e-04\n",
      " * time: 4.293701171875\n",
      "    30    -6.226154e+01     4.502909e-04\n",
      " * time: 4.418701171875\n",
      "    31    -6.226158e+01     4.716232e-04\n",
      " * time: 4.535897970199585\n",
      "    32    -6.226161e+01     3.267102e-04\n",
      " * time: 4.6442790031433105\n",
      "    33    -6.226163e+01     2.645604e-04\n",
      " * time: 4.7589240074157715\n",
      "    34    -6.226165e+01     1.970574e-04\n",
      " * time: 4.865187168121338\n",
      "    35    -6.226166e+01     1.409251e-04\n",
      " * time: 4.97974419593811\n",
      "    36    -6.226166e+01     1.095527e-04\n",
      " * time: 5.093302011489868\n",
      "    37    -6.226166e+01     8.556077e-05\n",
      " * time: 5.2000391483306885\n",
      "    38    -6.226167e+01     7.182832e-05\n",
      " * time: 5.312697172164917\n",
      "    39    -6.226167e+01     4.216743e-05\n",
      " * time: 5.419968128204346\n",
      "    40    -6.226167e+01     3.072946e-05\n",
      " * time: 5.533898115158081\n",
      "    41    -6.226167e+01     2.721970e-05\n",
      " * time: 5.640693187713623\n",
      "    42    -6.226167e+01     2.044309e-05\n",
      " * time: 5.75632119178772\n",
      "    43    -6.226167e+01     1.921307e-05\n",
      " * time: 5.867319107055664\n",
      "    44    -6.226167e+01     1.480118e-05\n",
      " * time: 6.000051975250244\n",
      "    45    -6.226167e+01     1.262031e-05\n",
      " * time: 6.1068480014801025\n",
      "    46    -6.226167e+01     1.063035e-05\n",
      " * time: 6.222733020782471\n",
      "    47    -6.226167e+01     7.439803e-06\n",
      " * time: 6.330327033996582\n",
      "    48    -6.226167e+01     5.437377e-06\n",
      " * time: 6.444964170455933\n",
      "    49    -6.226167e+01     3.463553e-06\n",
      " * time: 6.552754163742065\n",
      "    50    -6.226167e+01     2.360971e-06\n",
      " * time: 6.665966033935547\n"
     ]
    }
   ],
   "cell_type": "code",
   "source": [
    "scfres = direct_minimization(basis, tol=1e-5);"
   ],
   "metadata": {},
   "execution_count": 4
  },
  {
   "outputs": [
    {
     "output_type": "execute_result",
     "data": {
      "text/plain": "Energy breakdown:\n    Kinetic             25.7671056\n    AtomicLocal         -18.8557631\n    AtomicNonlocal      14.8522622\n    Ewald               -67.1831486\n    PspCorrection       -2.3569765\n    Hartree             4.8485353 \n    Xc                  -19.3336813\n\n    total               -62.261666461579\n"
     },
     "metadata": {},
     "execution_count": 5
    }
   ],
   "cell_type": "code",
   "source": [
    "scfres.energies"
   ],
   "metadata": {},
   "execution_count": 5
  }
 ],
 "nbformat_minor": 3,
 "metadata": {
  "language_info": {
   "file_extension": ".jl",
   "mimetype": "application/julia",
   "name": "julia",
   "version": "1.3.1"
  },
  "kernelspec": {
   "name": "julia-1.3",
   "display_name": "Julia 1.3.1",
   "language": "julia"
  }
 },
 "nbformat": 4
}
