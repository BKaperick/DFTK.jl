{
 "cells": [
  {
   "cell_type": "markdown",
   "source": [
    "# Creating supercells with pymatgen\n",
    "\n",
    "The [Pymatgen](https://pymatgen.org/) python library allows to setup\n",
    "solid-state calculations using a flexible set of classes as well as an API\n",
    "to an online data base of structures. Its `Structure` and `Lattice`\n",
    "objects are directly supported by the DFTK `load_atoms` and `load_lattice`\n",
    "functions, such that DFTK may be readily used to run calculation on systems\n",
    "defined in pymatgen. Using the `pymatgen_structure` function a conversion\n",
    "from DFTK to pymatgen structures is also possible. In the following we\n",
    "use this to create a silicon supercell and find its LDA ground state\n",
    "using direct minimisation."
   ],
   "metadata": {}
  },
  {
   "cell_type": "markdown",
   "source": [
    "First we setup the silicon lattice in DFTK."
   ],
   "metadata": {}
  },
  {
   "outputs": [],
   "cell_type": "code",
   "source": [
    "using DFTK\n",
    "\n",
    "a = 10.263141334305942  # Lattice constant in Bohr\n",
    "lattice = a / 2 .* [[0 1 1.]; [1 0 1.]; [1 1 0.]]\n",
    "Si = ElementPsp(:Si, psp=load_psp(\"hgh/lda/Si-q4\"))\n",
    "atoms = [Si => [ones(3)/8, -ones(3)/8]];"
   ],
   "metadata": {},
   "execution_count": 1
  },
  {
   "cell_type": "markdown",
   "source": [
    "Next we make a `[2, 2, 2]` supercell using pymatgen"
   ],
   "metadata": {}
  },
  {
   "outputs": [],
   "cell_type": "code",
   "source": [
    "pystruct = pymatgen_structure(lattice, atoms)\n",
    "pystruct.make_supercell([2, 2, 2])\n",
    "lattice = load_lattice(pystruct)\n",
    "atoms = [Si => [s.frac_coords for s in pystruct.sites]];"
   ],
   "metadata": {},
   "execution_count": 2
  },
  {
   "cell_type": "markdown",
   "source": [
    "Setup an LDA model and discretize using\n",
    "a single kpoint and a small `Ecut` of 5 Hartree.\n",
    "Notice that `PlaneWaveBasis` defaults to just using the ``Γ``-point\n",
    "if no ``k``-point options are provided."
   ],
   "metadata": {}
  },
  {
   "outputs": [
    {
     "output_type": "execute_result",
     "data": {
      "text/plain": "PlaneWaveBasis (Ecut=5.0, 1 kpoints)"
     },
     "metadata": {},
     "execution_count": 3
    }
   ],
   "cell_type": "code",
   "source": [
    "model = model_LDA(lattice, atoms)\n",
    "basis = PlaneWaveBasis(model, 5)"
   ],
   "metadata": {},
   "execution_count": 3
  },
  {
   "cell_type": "markdown",
   "source": [
    "Find the ground state using direct minimisation (always using SCF is boring ...)"
   ],
   "metadata": {}
  },
  {
   "outputs": [
    {
     "name": "stdout",
     "output_type": "stream",
     "text": [
      "Iter     Function value   Gradient norm \n",
      "     0     1.117844e+02     1.600886e+00\n",
      " * time: 0.09354519844055176\n",
      "     1     1.100442e+01     9.071146e-01\n",
      " * time: 0.9407131671905518\n",
      "     2    -1.162130e+01     1.005346e+00\n",
      " * time: 1.0902221202850342\n",
      "     3    -3.433736e+01     7.201658e-01\n",
      " * time: 1.2647461891174316\n",
      "     4    -4.784919e+01     4.956766e-01\n",
      " * time: 1.4197101593017578\n",
      "     5    -5.714380e+01     2.042683e-01\n",
      " * time: 1.5699481964111328\n",
      "     6    -5.997586e+01     8.359153e-02\n",
      " * time: 1.6802730560302734\n",
      "     7    -6.091982e+01     5.674456e-02\n",
      " * time: 1.799307107925415\n",
      "     8    -6.130246e+01     6.795625e-02\n",
      " * time: 1.9168310165405273\n",
      "     9    -6.162575e+01     3.921131e-02\n",
      " * time: 2.0280210971832275\n",
      "    10    -6.184790e+01     2.703787e-02\n",
      " * time: 2.146329164505005\n",
      "    11    -6.200163e+01     2.271938e-02\n",
      " * time: 2.2597811222076416\n",
      "    12    -6.207788e+01     1.874001e-02\n",
      " * time: 2.3836450576782227\n",
      "    13    -6.213835e+01     1.493370e-02\n",
      " * time: 2.5017800331115723\n",
      "    14    -6.216965e+01     1.154114e-02\n",
      " * time: 2.6136820316314697\n",
      "    15    -6.219242e+01     1.022471e-02\n",
      " * time: 2.7335760593414307\n",
      "    16    -6.220559e+01     7.702326e-03\n",
      " * time: 2.8607420921325684\n",
      "    17    -6.221529e+01     6.996374e-03\n",
      " * time: 2.985018014907837\n",
      "    18    -6.222359e+01     6.090052e-03\n",
      " * time: 3.1036901473999023\n",
      "    19    -6.223145e+01     5.919569e-03\n",
      " * time: 3.213823080062866\n",
      "    20    -6.223901e+01     5.800434e-03\n",
      " * time: 3.332973003387451\n",
      "    21    -6.224603e+01     5.681651e-03\n",
      " * time: 3.4630022048950195\n",
      "    22    -6.225191e+01     4.296127e-03\n",
      " * time: 3.5861711502075195\n",
      "    23    -6.225610e+01     3.199233e-03\n",
      " * time: 3.7067201137542725\n",
      "    24    -6.225840e+01     2.312052e-03\n",
      " * time: 3.8181240558624268\n",
      "    25    -6.225957e+01     2.145916e-03\n",
      " * time: 3.9359700679779053\n",
      "    26    -6.226026e+01     1.773979e-03\n",
      " * time: 4.050156116485596\n",
      "    27    -6.226070e+01     1.413362e-03\n",
      " * time: 4.172420978546143\n",
      "    28    -6.226099e+01     1.391574e-03\n",
      " * time: 4.2926881313323975\n",
      "    29    -6.226122e+01     9.109987e-04\n",
      " * time: 4.403295993804932\n",
      "    30    -6.226140e+01     6.885599e-04\n",
      " * time: 4.520029067993164\n",
      "    31    -6.226152e+01     4.761090e-04\n",
      " * time: 4.629850149154663\n",
      "    32    -6.226159e+01     3.944969e-04\n",
      " * time: 4.747798204421997\n",
      "    33    -6.226163e+01     2.875105e-04\n",
      " * time: 4.8646581172943115\n",
      "    34    -6.226165e+01     2.427538e-04\n",
      " * time: 4.976093053817749\n",
      "    35    -6.226166e+01     2.349433e-04\n",
      " * time: 5.096022129058838\n",
      "    36    -6.226166e+01     1.541833e-04\n",
      " * time: 5.2070910930633545\n",
      "    37    -6.226166e+01     8.517335e-05\n",
      " * time: 5.325407028198242\n",
      "    38    -6.226166e+01     7.009182e-05\n",
      " * time: 5.443798065185547\n",
      "    39    -6.226167e+01     5.328356e-05\n",
      " * time: 5.554227113723755\n",
      "    40    -6.226167e+01     4.324449e-05\n",
      " * time: 5.676117181777954\n",
      "    41    -6.226167e+01     4.041238e-05\n",
      " * time: 5.7947070598602295\n",
      "    42    -6.226167e+01     2.815719e-05\n",
      " * time: 5.9047040939331055\n",
      "    43    -6.226167e+01     2.512528e-05\n",
      " * time: 6.025276184082031\n",
      "    44    -6.226167e+01     1.686262e-05\n",
      " * time: 6.153699159622192\n",
      "    45    -6.226167e+01     1.396965e-05\n",
      " * time: 6.27919602394104\n",
      "    46    -6.226167e+01     9.837346e-06\n",
      " * time: 6.397992134094238\n",
      "    47    -6.226167e+01     5.498017e-06\n",
      " * time: 6.508464097976685\n",
      "    48    -6.226167e+01     3.963900e-06\n",
      " * time: 6.625708103179932\n",
      "    49    -6.226167e+01     3.330777e-06\n",
      " * time: 6.736274003982544\n"
     ]
    }
   ],
   "cell_type": "code",
   "source": [
    "scfres = direct_minimization(basis, tol=1e-5);"
   ],
   "metadata": {},
   "execution_count": 4
  },
  {
   "outputs": [
    {
     "output_type": "execute_result",
     "data": {
      "text/plain": "Energy breakdown:\n    Kinetic             25.7671071\n    AtomicLocal         -18.8557645\n    AtomicNonlocal      14.8522614\n    Ewald               -67.1831486\n    PspCorrection       -2.3569765\n    Hartree             4.8485364 \n    Xc                  -19.3336817\n\n    total               -62.261666459984\n"
     },
     "metadata": {},
     "execution_count": 5
    }
   ],
   "cell_type": "code",
   "source": [
    "scfres.energies"
   ],
   "metadata": {},
   "execution_count": 5
  }
 ],
 "nbformat_minor": 3,
 "metadata": {
  "language_info": {
   "file_extension": ".jl",
   "mimetype": "application/julia",
   "name": "julia",
   "version": "1.3.1"
  },
  "kernelspec": {
   "name": "julia-1.3",
   "display_name": "Julia 1.3.1",
   "language": "julia"
  }
 },
 "nbformat": 4
}
