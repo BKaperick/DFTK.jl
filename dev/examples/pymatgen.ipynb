{
 "cells": [
  {
   "cell_type": "markdown",
   "source": [
    "# Creating supercells with pymatgen\n",
    "\n",
    "The [Pymatgen](https://pymatgen.org/) python library allows to setup\n",
    "solid-state calculations using a flexible set of classes as well as an API\n",
    "to an online data base of structures. Its `Structure` and `Lattice`\n",
    "objects are directly supported by the DFTK `load_atoms` and `load_lattice`\n",
    "functions, such that DFTK may be readily used to run calculation on systems\n",
    "defined in pymatgen. Using the `pymatgen_structure` function a conversion\n",
    "from DFTK to pymatgen structures is also possible. In the following we\n",
    "use this to create a silicon supercell and find its LDA ground state\n",
    "using direct minimisation."
   ],
   "metadata": {}
  },
  {
   "cell_type": "markdown",
   "source": [
    "First we setup the silicon lattice in DFTK."
   ],
   "metadata": {}
  },
  {
   "outputs": [],
   "cell_type": "code",
   "source": [
    "using DFTK\n",
    "\n",
    "a = 10.263141334305942  # Lattice constant in Bohr\n",
    "lattice = a / 2 .* [[0 1 1.]; [1 0 1.]; [1 1 0.]]\n",
    "Si = ElementPsp(:Si, psp=load_psp(\"hgh/lda/Si-q4\"))\n",
    "atoms = [Si => [ones(3)/8, -ones(3)/8]];"
   ],
   "metadata": {},
   "execution_count": 1
  },
  {
   "cell_type": "markdown",
   "source": [
    "Next we make a `[2, 2, 2]` supercell using pymatgen"
   ],
   "metadata": {}
  },
  {
   "outputs": [],
   "cell_type": "code",
   "source": [
    "pystruct = pymatgen_structure(lattice, atoms)\n",
    "pystruct.make_supercell([2, 2, 2])\n",
    "lattice = load_lattice(pystruct)\n",
    "atoms = [Si => [s.frac_coords for s in pystruct.sites]];"
   ],
   "metadata": {},
   "execution_count": 2
  },
  {
   "cell_type": "markdown",
   "source": [
    "Setup an LDA model and discretize using\n",
    "a single kpoint and a small `Ecut` of 5 Hartree."
   ],
   "metadata": {}
  },
  {
   "outputs": [
    {
     "output_type": "execute_result",
     "data": {
      "text/plain": "PlaneWaveBasis (Ecut=5.0, 1 kpoints)"
     },
     "metadata": {},
     "execution_count": 3
    }
   ],
   "cell_type": "code",
   "source": [
    "model = model_LDA(lattice, atoms)\n",
    "basis = PlaneWaveBasis(model, 5, kgrid=(1, 1, 1))"
   ],
   "metadata": {},
   "execution_count": 3
  },
  {
   "cell_type": "markdown",
   "source": [
    "Find the ground state using direct minimisation (always using SCF is boring ...)"
   ],
   "metadata": {}
  },
  {
   "outputs": [
    {
     "name": "stdout",
     "output_type": "stream",
     "text": [
      "Iter     Function value   Gradient norm \n",
      "     0     1.124120e+02     1.516338e+00\n",
      " * time: 0.3767399787902832\n",
      "     1     1.044772e+01     9.245340e-01\n",
      " * time: 2.51369309425354\n",
      "     2    -1.133698e+01     1.037078e+00\n",
      " * time: 3.2635891437530518\n",
      "     3    -3.397678e+01     8.174619e-01\n",
      " * time: 4.32865309715271\n",
      "     4    -4.728854e+01     5.925121e-01\n",
      " * time: 5.4376749992370605\n",
      "     5    -5.684224e+01     2.058469e-01\n",
      " * time: 6.518611192703247\n",
      "     6    -5.975199e+01     1.603956e-01\n",
      " * time: 7.227179050445557\n",
      "     7    -6.090882e+01     6.490261e-02\n",
      " * time: 7.939206123352051\n",
      "     8    -6.138773e+01     3.822214e-02\n",
      " * time: 8.713836193084717\n",
      "     9    -6.165892e+01     3.607093e-02\n",
      " * time: 9.416200160980225\n",
      "    10    -6.182796e+01     3.696621e-02\n",
      " * time: 10.131909132003784\n",
      "    11    -6.198000e+01     2.451611e-02\n",
      " * time: 10.838661193847656\n",
      "    12    -6.207390e+01     1.719690e-02\n",
      " * time: 11.586122989654541\n",
      "    13    -6.211532e+01     1.439985e-02\n",
      " * time: 12.276822090148926\n",
      "    14    -6.215946e+01     1.322849e-02\n",
      " * time: 12.987122058868408\n",
      "    15    -6.217822e+01     1.085133e-02\n",
      " * time: 13.693397045135498\n",
      "    16    -6.219426e+01     9.648746e-03\n",
      " * time: 14.396133184432983\n",
      "    17    -6.220550e+01     8.664698e-03\n",
      " * time: 15.09896206855774\n",
      "    18    -6.221569e+01     7.948685e-03\n",
      " * time: 15.811048030853271\n",
      "    19    -6.222517e+01     8.102828e-03\n",
      " * time: 16.525475025177002\n",
      "    20    -6.223371e+01     7.252789e-03\n",
      " * time: 17.26402997970581\n",
      "    21    -6.224160e+01     7.052687e-03\n",
      " * time: 18.001042127609253\n",
      "    22    -6.224865e+01     5.619469e-03\n",
      " * time: 18.730197191238403\n",
      "    23    -6.225409e+01     4.477609e-03\n",
      " * time: 19.461681127548218\n",
      "    24    -6.225742e+01     3.286909e-03\n",
      " * time: 20.19863200187683\n",
      "    25    -6.225913e+01     2.316075e-03\n",
      " * time: 20.94498896598816\n",
      "    26    -6.226004e+01     2.063412e-03\n",
      " * time: 21.69136118888855\n",
      "    27    -6.226055e+01     1.436692e-03\n",
      " * time: 22.411237001419067\n",
      "    28    -6.226088e+01     1.149256e-03\n",
      " * time: 23.147865056991577\n",
      "    29    -6.226112e+01     8.463346e-04\n",
      " * time: 23.887157201766968\n",
      "    30    -6.226132e+01     7.800648e-04\n",
      " * time: 24.587820053100586\n",
      "    31    -6.226145e+01     8.277855e-04\n",
      " * time: 25.27891516685486\n",
      "    32    -6.226154e+01     6.396507e-04\n",
      " * time: 25.985258102416992\n",
      "    33    -6.226160e+01     5.679735e-04\n",
      " * time: 26.719799995422363\n",
      "    34    -6.226163e+01     3.495647e-04\n",
      " * time: 27.451282024383545\n",
      "    35    -6.226165e+01     1.947201e-04\n",
      " * time: 28.178356170654297\n",
      "    36    -6.226166e+01     1.500715e-04\n",
      " * time: 28.891173124313354\n",
      "    37    -6.226166e+01     9.366471e-05\n",
      " * time: 29.606669187545776\n",
      "    38    -6.226166e+01     7.391849e-05\n",
      " * time: 30.304157972335815\n",
      "    39    -6.226166e+01     6.156290e-05\n",
      " * time: 30.998216152191162\n",
      "    40    -6.226167e+01     6.134999e-05\n",
      " * time: 31.71424102783203\n",
      "    41    -6.226167e+01     4.712387e-05\n",
      " * time: 32.42484903335571\n",
      "    42    -6.226167e+01     2.870947e-05\n",
      " * time: 33.13664698600769\n",
      "    43    -6.226167e+01     2.570265e-05\n",
      " * time: 33.85651206970215\n",
      "    44    -6.226167e+01     2.055554e-05\n",
      " * time: 34.57321214675903\n",
      "    45    -6.226167e+01     1.484410e-05\n",
      " * time: 35.274224042892456\n",
      "    46    -6.226167e+01     1.328140e-05\n",
      " * time: 35.98471808433533\n",
      "    47    -6.226167e+01     9.255503e-06\n",
      " * time: 36.71363615989685\n",
      "    48    -6.226167e+01     5.854714e-06\n",
      " * time: 37.43484020233154\n",
      "    49    -6.226167e+01     3.745875e-06\n",
      " * time: 38.15352416038513\n"
     ]
    }
   ],
   "cell_type": "code",
   "source": [
    "scfres = direct_minimization(basis, tol=1e-5);"
   ],
   "metadata": {},
   "execution_count": 4
  },
  {
   "outputs": [
    {
     "output_type": "execute_result",
     "data": {
      "text/plain": "Energy breakdown:\n    Kinetic             25.7671066\n    AtomicLocal         -18.8557653\n    AtomicNonlocal      14.8522624\n    Ewald               -67.1831486\n    PspCorrection       -2.3569765\n    Hartree             4.8485370 \n    Xc                  -19.3336820\n\n    total               -62.261666457158\n"
     },
     "metadata": {},
     "execution_count": 5
    }
   ],
   "cell_type": "code",
   "source": [
    "scfres.energies"
   ],
   "metadata": {},
   "execution_count": 5
  }
 ],
 "nbformat_minor": 3,
 "metadata": {
  "language_info": {
   "file_extension": ".jl",
   "mimetype": "application/julia",
   "name": "julia",
   "version": "1.5.4"
  },
  "kernelspec": {
   "name": "julia-1.5",
   "display_name": "Julia 1.5.4",
   "language": "julia"
  }
 },
 "nbformat": 4
}
