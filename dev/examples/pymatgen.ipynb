{
 "cells": [
  {
   "cell_type": "markdown",
   "source": [
    "# Creating supercells with pymatgen\n",
    "\n",
    "The [Pymatgen](https://pymatgen.org/) python library allows to setup\n",
    "solid-state calculations using a flexible set of classes as well as an API\n",
    "to an online data base of structures. Its `Structure` and `Lattice`\n",
    "objects are directly supported by the DFTK `load_atoms` and `load_lattice`\n",
    "functions, such that DFTK may be readily used to run calculation on systems\n",
    "defined in pymatgen. Using the `pymatgen_structure` function a conversion\n",
    "from DFTK to pymatgen structures is also possible. In the following we\n",
    "use this to create a silicon supercell and find its LDA ground state\n",
    "using direct minimisation."
   ],
   "metadata": {}
  },
  {
   "cell_type": "markdown",
   "source": [
    "First we setup the silicon lattice in DFTK."
   ],
   "metadata": {}
  },
  {
   "outputs": [],
   "cell_type": "code",
   "source": [
    "using DFTK\n",
    "\n",
    "a = 10.263141334305942  # Lattice constant in Bohr\n",
    "lattice = a / 2 .* [[0 1 1.]; [1 0 1.]; [1 1 0.]]\n",
    "Si = ElementPsp(:Si, psp=load_psp(\"hgh/lda/Si-q4\"))\n",
    "atoms = [Si => [ones(3)/8, -ones(3)/8]];"
   ],
   "metadata": {},
   "execution_count": 1
  },
  {
   "cell_type": "markdown",
   "source": [
    "Next we make a `[2, 2, 2]` supercell using pymatgen"
   ],
   "metadata": {}
  },
  {
   "outputs": [],
   "cell_type": "code",
   "source": [
    "pystruct = pymatgen_structure(lattice, atoms)\n",
    "pystruct.make_supercell([2, 2, 2])\n",
    "lattice = load_lattice(pystruct)\n",
    "atoms = [Si => [s.frac_coords for s in pystruct.sites]];"
   ],
   "metadata": {},
   "execution_count": 2
  },
  {
   "cell_type": "markdown",
   "source": [
    "Setup an LDA model and discretize using\n",
    "a single kpoint and a small `Ecut` of 5 Hartree.\n",
    "Notice that `PlaneWaveBasis` defaults to just using the ``Γ``-point\n",
    "if no ``k``-point options are provided."
   ],
   "metadata": {}
  },
  {
   "outputs": [
    {
     "output_type": "execute_result",
     "data": {
      "text/plain": "PlaneWaveBasis (Ecut=5.0, 1 kpoints)"
     },
     "metadata": {},
     "execution_count": 3
    }
   ],
   "cell_type": "code",
   "source": [
    "model = model_LDA(lattice, atoms)\n",
    "basis = PlaneWaveBasis(model, 5)"
   ],
   "metadata": {},
   "execution_count": 3
  },
  {
   "cell_type": "markdown",
   "source": [
    "Find the ground state using direct minimisation (always using SCF is boring ...)"
   ],
   "metadata": {}
  },
  {
   "outputs": [
    {
     "name": "stdout",
     "output_type": "stream",
     "text": [
      "Iter     Function value   Gradient norm \n",
      "     0     1.115604e+02     1.590712e+00\n",
      " * time: 0.1177670955657959\n",
      "     1     1.004519e+01     9.851803e-01\n",
      " * time: 0.9153361320495605\n",
      "     2    -1.211022e+01     1.070335e+00\n",
      " * time: 1.0524959564208984\n",
      "     3    -3.412933e+01     8.075901e-01\n",
      " * time: 1.2004051208496094\n",
      "     4    -4.738603e+01     5.852293e-01\n",
      " * time: 1.3405251502990723\n",
      "     5    -5.700948e+01     2.084137e-01\n",
      " * time: 1.4791419506072998\n",
      "     6    -5.983078e+01     1.379781e-01\n",
      " * time: 1.582827091217041\n",
      "     7    -6.092426e+01     4.888245e-02\n",
      " * time: 1.693068027496338\n",
      "     8    -6.138168e+01     3.718360e-02\n",
      " * time: 1.7973310947418213\n",
      "     9    -6.165040e+01     3.506501e-02\n",
      " * time: 1.9083549976348877\n",
      "    10    -6.182425e+01     3.829428e-02\n",
      " * time: 2.0263309478759766\n",
      "    11    -6.196948e+01     3.406259e-02\n",
      " * time: 2.130929946899414\n",
      "    12    -6.207026e+01     2.609279e-02\n",
      " * time: 2.2417850494384766\n",
      "    13    -6.211888e+01     1.581326e-02\n",
      " * time: 2.3533310890197754\n",
      "    14    -6.216881e+01     1.120667e-02\n",
      " * time: 2.4569239616394043\n",
      "    15    -6.218648e+01     1.197523e-02\n",
      " * time: 2.5672080516815186\n",
      "    16    -6.219932e+01     8.640928e-03\n",
      " * time: 2.677272081375122\n",
      "    17    -6.220682e+01     8.960968e-03\n",
      " * time: 2.7809031009674072\n",
      "    18    -6.221344e+01     8.205840e-03\n",
      " * time: 2.8929409980773926\n",
      "    19    -6.221849e+01     7.260857e-03\n",
      " * time: 3.0227651596069336\n",
      "    20    -6.222385e+01     6.391062e-03\n",
      " * time: 3.126716136932373\n",
      "    21    -6.222965e+01     6.154130e-03\n",
      " * time: 3.237046003341675\n",
      "    22    -6.223593e+01     5.594972e-03\n",
      " * time: 3.340888023376465\n",
      "    23    -6.224252e+01     4.827359e-03\n",
      " * time: 3.450881004333496\n",
      "    24    -6.224877e+01     5.221701e-03\n",
      " * time: 3.561220169067383\n",
      "    25    -6.225353e+01     4.254460e-03\n",
      " * time: 3.6659481525421143\n",
      "    26    -6.225667e+01     3.177824e-03\n",
      " * time: 3.777595043182373\n",
      "    27    -6.225845e+01     2.639491e-03\n",
      " * time: 3.889644145965576\n",
      "    28    -6.225946e+01     2.320218e-03\n",
      " * time: 3.9944100379943848\n",
      "    29    -6.226016e+01     1.571484e-03\n",
      " * time: 4.104465961456299\n",
      "    30    -6.226071e+01     1.417071e-03\n",
      " * time: 4.215429067611694\n",
      "    31    -6.226108e+01     1.229041e-03\n",
      " * time: 4.319378137588501\n",
      "    32    -6.226132e+01     1.020626e-03\n",
      " * time: 4.4295830726623535\n",
      "    33    -6.226148e+01     8.233578e-04\n",
      " * time: 4.540323972702026\n",
      "    34    -6.226157e+01     5.351719e-04\n",
      " * time: 4.644593000411987\n",
      "    35    -6.226162e+01     3.481296e-04\n",
      " * time: 4.755619049072266\n",
      "    36    -6.226164e+01     2.474300e-04\n",
      " * time: 4.860180139541626\n",
      "    37    -6.226165e+01     1.660692e-04\n",
      " * time: 4.971577167510986\n",
      "    38    -6.226166e+01     1.502401e-04\n",
      " * time: 5.083220958709717\n",
      "    39    -6.226166e+01     1.280691e-04\n",
      " * time: 5.1875669956207275\n",
      "    40    -6.226166e+01     9.933912e-05\n",
      " * time: 5.299018144607544\n",
      "    41    -6.226166e+01     7.986412e-05\n",
      " * time: 5.408730983734131\n",
      "    42    -6.226166e+01     6.546690e-05\n",
      " * time: 5.512298107147217\n",
      "    43    -6.226167e+01     4.398562e-05\n",
      " * time: 5.621876955032349\n",
      "    44    -6.226167e+01     3.581477e-05\n",
      " * time: 5.73202109336853\n",
      "    45    -6.226167e+01     2.693811e-05\n",
      " * time: 5.8363261222839355\n",
      "    46    -6.226167e+01     2.148287e-05\n",
      " * time: 5.947116136550903\n",
      "    47    -6.226167e+01     1.462499e-05\n",
      " * time: 6.057890176773071\n",
      "    48    -6.226167e+01     1.032941e-05\n",
      " * time: 6.161211013793945\n",
      "    49    -6.226167e+01     7.180717e-06\n",
      " * time: 6.271039962768555\n",
      "    50    -6.226167e+01     6.326175e-06\n",
      " * time: 6.374576091766357\n",
      "    51    -6.226167e+01     4.565124e-06\n",
      " * time: 6.487665176391602\n"
     ]
    }
   ],
   "cell_type": "code",
   "source": [
    "scfres = direct_minimization(basis, tol=1e-5);"
   ],
   "metadata": {},
   "execution_count": 4
  },
  {
   "outputs": [
    {
     "output_type": "execute_result",
     "data": {
      "text/plain": "Energy breakdown:\n    Kinetic             25.7671066\n    AtomicLocal         -18.8557658\n    AtomicNonlocal      14.8522630\n    Ewald               -67.1831486\n    PspCorrection       -2.3569765\n    Hartree             4.8485369 \n    Xc                  -19.3336820\n\n    total               -62.261666452924\n"
     },
     "metadata": {},
     "execution_count": 5
    }
   ],
   "cell_type": "code",
   "source": [
    "scfres.energies"
   ],
   "metadata": {},
   "execution_count": 5
  }
 ],
 "nbformat_minor": 3,
 "metadata": {
  "language_info": {
   "file_extension": ".jl",
   "mimetype": "application/julia",
   "name": "julia",
   "version": "1.3.1"
  },
  "kernelspec": {
   "name": "julia-1.3",
   "display_name": "Julia 1.3.1",
   "language": "julia"
  }
 },
 "nbformat": 4
}
