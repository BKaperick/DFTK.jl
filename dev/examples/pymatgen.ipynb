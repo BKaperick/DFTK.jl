{
 "cells": [
  {
   "cell_type": "markdown",
   "source": [
    "# Creating supercells with pymatgen\n",
    "\n",
    "The [Pymatgen](https://pymatgen.org/) python library allows to setup\n",
    "solid-state calculations using a flexible set of classes as well as an API\n",
    "to an online data base of structures. Its `Structure` and `Lattice`\n",
    "objects are directly supported by the DFTK `load_atoms` and `load_lattice`\n",
    "functions, such that DFTK may be readily used to run calculation on systems\n",
    "defined in pymatgen. Using the `pymatgen_structure` function a conversion\n",
    "from DFTK to pymatgen structures is also possible. In the following we\n",
    "use this to create a silicon supercell and find its LDA ground state\n",
    "using direct minimisation."
   ],
   "metadata": {}
  },
  {
   "cell_type": "markdown",
   "source": [
    "First we setup the silicon lattice in DFTK."
   ],
   "metadata": {}
  },
  {
   "outputs": [],
   "cell_type": "code",
   "source": [
    "using DFTK\n",
    "\n",
    "a = 10.263141334305942  # Lattice constant in Bohr\n",
    "lattice = a / 2 .* [[0 1 1.]; [1 0 1.]; [1 1 0.]]\n",
    "Si = ElementPsp(:Si, psp=load_psp(\"hgh/lda/Si-q4\"))\n",
    "atoms = [Si => [ones(3)/8, -ones(3)/8]];"
   ],
   "metadata": {},
   "execution_count": 1
  },
  {
   "cell_type": "markdown",
   "source": [
    "Next we make a `[2, 2, 2]` supercell using pymatgen"
   ],
   "metadata": {}
  },
  {
   "outputs": [],
   "cell_type": "code",
   "source": [
    "pystruct = pymatgen_structure(lattice, atoms)\n",
    "pystruct.make_supercell([2, 2, 2])\n",
    "lattice = load_lattice(pystruct)\n",
    "atoms = [Si => [s.frac_coords for s in pystruct.sites]];"
   ],
   "metadata": {},
   "execution_count": 2
  },
  {
   "cell_type": "markdown",
   "source": [
    "Setup an LDA model and discretize using\n",
    "a single kpoint and a small `Ecut` of 5 Hartree.\n",
    "Notice that `PlaneWaveBasis` defaults to just using the ``Γ``-point\n",
    "if no ``k``-point options are provided."
   ],
   "metadata": {}
  },
  {
   "outputs": [
    {
     "name": "stdout",
     "output_type": "stream",
     "text": [
      "Iter     Function value   Gradient norm \n",
      "     0     1.114105e+02     1.892898e+00\n",
      " * time: 0.12483596801757812\n",
      "     1     1.105060e+01     1.060201e+00\n",
      " * time: 1.001235008239746\n",
      "     2    -1.166195e+01     1.264238e+00\n",
      " * time: 1.1387660503387451\n",
      "     3    -3.390021e+01     9.539114e-01\n",
      " * time: 1.3049030303955078\n",
      "     4    -4.749239e+01     6.332177e-01\n",
      " * time: 1.4586901664733887\n",
      "     5    -5.692771e+01     2.100981e-01\n",
      " * time: 1.6083781719207764\n",
      "     6    -5.986171e+01     1.498246e-01\n",
      " * time: 1.7271201610565186\n",
      "     7    -6.098744e+01     5.881844e-02\n",
      " * time: 1.8379809856414795\n",
      "     8    -6.142003e+01     5.323389e-02\n",
      " * time: 1.9552781581878662\n",
      "     9    -6.166021e+01     5.925177e-02\n",
      " * time: 2.074882984161377\n",
      "    10    -6.185510e+01     3.110971e-02\n",
      " * time: 2.197175979614258\n",
      "    11    -6.199988e+01     2.474754e-02\n",
      " * time: 2.3117361068725586\n",
      "    12    -6.207137e+01     1.933669e-02\n",
      " * time: 2.430124044418335\n",
      "    13    -6.212123e+01     1.263237e-02\n",
      " * time: 2.5492300987243652\n",
      "    14    -6.215044e+01     1.223247e-02\n",
      " * time: 2.6612789630889893\n",
      "    15    -6.217040e+01     9.839503e-03\n",
      " * time: 2.7867541313171387\n",
      "    16    -6.218316e+01     7.267611e-03\n",
      " * time: 2.9069020748138428\n",
      "    17    -6.219281e+01     6.565162e-03\n",
      " * time: 3.021476984024048\n",
      "    18    -6.220013e+01     5.952021e-03\n",
      " * time: 3.142824172973633\n",
      "    19    -6.220679e+01     5.405649e-03\n",
      " * time: 3.2637810707092285\n",
      "    20    -6.221264e+01     6.394028e-03\n",
      " * time: 3.377899169921875\n",
      "    21    -6.221805e+01     6.195453e-03\n",
      " * time: 3.4975950717926025\n",
      "    22    -6.222317e+01     6.709242e-03\n",
      " * time: 3.6196131706237793\n",
      "    23    -6.222834e+01     5.787439e-03\n",
      " * time: 3.7364699840545654\n",
      "    24    -6.223370e+01     6.108437e-03\n",
      " * time: 3.8635871410369873\n",
      "    25    -6.223901e+01     5.740951e-03\n",
      " * time: 3.9837169647216797\n",
      "    26    -6.224424e+01     5.398597e-03\n",
      " * time: 4.102827072143555\n",
      "    27    -6.224917e+01     4.869856e-03\n",
      " * time: 4.21845817565918\n",
      "    28    -6.225331e+01     4.322027e-03\n",
      " * time: 4.340430021286011\n",
      "    29    -6.225647e+01     3.625786e-03\n",
      " * time: 4.459969997406006\n",
      "    30    -6.225869e+01     3.019353e-03\n",
      " * time: 4.57082200050354\n",
      "    31    -6.226001e+01     2.564391e-03\n",
      " * time: 4.690100193023682\n",
      "    32    -6.226072e+01     1.610647e-03\n",
      " * time: 4.8092360496521\n",
      "    33    -6.226115e+01     1.375241e-03\n",
      " * time: 4.924293041229248\n",
      "    34    -6.226138e+01     1.011730e-03\n",
      " * time: 5.0443620681762695\n",
      "    35    -6.226151e+01     5.911351e-04\n",
      " * time: 5.166285037994385\n",
      "    36    -6.226157e+01     5.399991e-04\n",
      " * time: 5.279664993286133\n",
      "    37    -6.226160e+01     4.988216e-04\n",
      " * time: 5.399518013000488\n",
      "    38    -6.226162e+01     4.427698e-04\n",
      " * time: 5.520780086517334\n",
      "    39    -6.226164e+01     3.715856e-04\n",
      " * time: 5.633691072463989\n",
      "    40    -6.226165e+01     2.447085e-04\n",
      " * time: 5.75469708442688\n",
      "    41    -6.226165e+01     1.776559e-04\n",
      " * time: 5.874618053436279\n",
      "    42    -6.226166e+01     1.099748e-04\n",
      " * time: 5.9930579662323\n",
      "    43    -6.226166e+01     8.807360e-05\n",
      " * time: 6.103381156921387\n",
      "    44    -6.226166e+01     6.270721e-05\n",
      " * time: 6.223294019699097\n",
      "    45    -6.226167e+01     4.501674e-05\n",
      " * time: 6.343760013580322\n",
      "    46    -6.226167e+01     3.509477e-05\n",
      " * time: 6.457494020462036\n",
      "    47    -6.226167e+01     2.559430e-05\n",
      " * time: 6.5761191844940186\n",
      "    48    -6.226167e+01     2.139225e-05\n",
      " * time: 6.694626092910767\n",
      "    49    -6.226167e+01     1.716260e-05\n",
      " * time: 6.804725170135498\n",
      "    50    -6.226167e+01     1.552005e-05\n",
      " * time: 6.922816038131714\n",
      "    51    -6.226167e+01     1.178224e-05\n",
      " * time: 7.0417211055755615\n",
      "    52    -6.226167e+01     9.532553e-06\n",
      " * time: 7.15474796295166\n",
      "    53    -6.226167e+01     7.201962e-06\n",
      " * time: 7.273125171661377\n",
      "    54    -6.226167e+01     6.374901e-06\n",
      " * time: 7.393193006515503\n",
      "    55    -6.226167e+01     4.404552e-06\n",
      " * time: 7.504045009613037\n",
      "    56    -6.226167e+01     2.748639e-06\n",
      " * time: 7.6226160526275635\n",
      "    57    -6.226167e+01     2.652703e-06\n",
      " * time: 7.740983963012695\n"
     ]
    }
   ],
   "cell_type": "code",
   "source": [
    "model = model_LDA(lattice, atoms)\n",
    "basis = PlaneWaveBasis(model, 5)\n",
    "\n",
    "# Find the ground state using direct minimisation (always using SCF is boring ...)\n",
    "scfres = direct_minimization(basis, tol=1e-5);"
   ],
   "metadata": {},
   "execution_count": 3
  },
  {
   "outputs": [
    {
     "output_type": "execute_result",
     "data": {
      "text/plain": "Energy breakdown:\n    Kinetic             25.7671071\n    AtomicLocal         -18.8557669\n    AtomicNonlocal      14.8522632\n    Ewald               -67.1831486\n    PspCorrection       -2.3569765\n    Hartree             4.8485376 \n    Xc                  -19.3336822\n\n    total               -62.261666462208\n"
     },
     "metadata": {},
     "execution_count": 4
    }
   ],
   "cell_type": "code",
   "source": [
    "scfres.energies"
   ],
   "metadata": {},
   "execution_count": 4
  }
 ],
 "nbformat_minor": 3,
 "metadata": {
  "language_info": {
   "file_extension": ".jl",
   "mimetype": "application/julia",
   "name": "julia",
   "version": "1.3.1"
  },
  "kernelspec": {
   "name": "julia-1.3",
   "display_name": "Julia 1.3.1",
   "language": "julia"
  }
 },
 "nbformat": 4
}
