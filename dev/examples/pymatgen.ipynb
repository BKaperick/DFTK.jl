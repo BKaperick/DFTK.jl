{
 "cells": [
  {
   "cell_type": "markdown",
   "source": [
    "# Creating supercells with pymatgen\n",
    "\n",
    "The [Pymatgen](https://pymatgen.org/) python library allows to setup\n",
    "solid-state calculations using a flexible set of classes as well as an API\n",
    "to an online data base of structures. Its `Structure` and `Lattice`\n",
    "objects are directly supported by the DFTK `load_atoms` and `load_lattice`\n",
    "functions, such that DFTK may be readily used to run calculation on systems\n",
    "defined in pymatgen. Using the `pymatgen_structure` function a conversion\n",
    "from DFTK to pymatgen structures is also possible. In the following we\n",
    "use this to create a silicon supercell and find its LDA ground state\n",
    "using direct minimisation."
   ],
   "metadata": {}
  },
  {
   "cell_type": "markdown",
   "source": [
    "First we setup the silicon lattice in DFTK."
   ],
   "metadata": {}
  },
  {
   "outputs": [],
   "cell_type": "code",
   "source": [
    "using DFTK\n",
    "\n",
    "a = 10.263141334305942  # Lattice constant in Bohr\n",
    "lattice = a / 2 .* [[0 1 1.]; [1 0 1.]; [1 1 0.]]\n",
    "Si = ElementPsp(:Si, psp=load_psp(\"hgh/lda/Si-q4\"))\n",
    "atoms = [Si => [ones(3)/8, -ones(3)/8]];"
   ],
   "metadata": {},
   "execution_count": 1
  },
  {
   "cell_type": "markdown",
   "source": [
    "Next we make a `[2, 2, 2]` supercell using pymatgen"
   ],
   "metadata": {}
  },
  {
   "outputs": [],
   "cell_type": "code",
   "source": [
    "pystruct = pymatgen_structure(lattice, atoms)\n",
    "pystruct.make_supercell([2, 2, 2])\n",
    "lattice = load_lattice(pystruct)\n",
    "atoms = [Si => [s.frac_coords for s in pystruct.sites]];"
   ],
   "metadata": {},
   "execution_count": 2
  },
  {
   "cell_type": "markdown",
   "source": [
    "Setup an LDA model and discretize using\n",
    "a single kpoint and a small `Ecut` of 5 Hartree."
   ],
   "metadata": {}
  },
  {
   "outputs": [
    {
     "output_type": "execute_result",
     "data": {
      "text/plain": "PlaneWaveBasis (Ecut=5.0, 1 kpoints)"
     },
     "metadata": {},
     "execution_count": 3
    }
   ],
   "cell_type": "code",
   "source": [
    "model = model_LDA(lattice, atoms)\n",
    "basis = PlaneWaveBasis(model, 5, kgrid=(1, 1, 1))"
   ],
   "metadata": {},
   "execution_count": 3
  },
  {
   "cell_type": "markdown",
   "source": [
    "Find the ground state using direct minimisation (always using SCF is boring ...)"
   ],
   "metadata": {}
  },
  {
   "outputs": [
    {
     "name": "stdout",
     "output_type": "stream",
     "text": [
      "Iter     Function value   Gradient norm \n",
      "     0     1.114220e+02     1.807800e+00\n",
      " * time: 0.6047859191894531\n",
      "     1     1.109280e+01     1.084703e+00\n",
      " * time: 2.662490129470825\n",
      "     2    -1.120287e+01     1.150014e+00\n",
      " * time: 3.3061749935150146\n",
      "     3    -3.351783e+01     8.523470e-01\n",
      " * time: 4.119194030761719\n",
      "     4    -4.689529e+01     6.164556e-01\n",
      " * time: 4.932678937911987\n",
      "     5    -5.674635e+01     2.184154e-01\n",
      " * time: 6.12213397026062\n",
      "     6    -5.971593e+01     2.046794e-01\n",
      " * time: 6.6614830493927\n",
      "     7    -6.089565e+01     8.122559e-02\n",
      " * time: 7.200860023498535\n",
      "     8    -6.137248e+01     4.940483e-02\n",
      " * time: 7.7398130893707275\n",
      "     9    -6.164080e+01     4.233046e-02\n",
      " * time: 8.510826110839844\n",
      "    10    -6.181313e+01     3.005940e-02\n",
      " * time: 9.049865007400513\n",
      "    11    -6.192095e+01     2.718549e-02\n",
      " * time: 9.593321084976196\n",
      "    12    -6.200730e+01     1.794333e-02\n",
      " * time: 10.140278100967407\n",
      "    13    -6.206993e+01     1.478953e-02\n",
      " * time: 10.679372072219849\n",
      "    14    -6.210760e+01     1.225313e-02\n",
      " * time: 11.214752912521362\n",
      "    15    -6.214293e+01     1.335593e-02\n",
      " * time: 11.754611015319824\n",
      "    16    -6.216532e+01     1.261271e-02\n",
      " * time: 12.303651094436646\n",
      "    17    -6.218610e+01     1.058308e-02\n",
      " * time: 12.842525005340576\n",
      "    18    -6.220216e+01     8.381134e-03\n",
      " * time: 13.380721092224121\n",
      "    19    -6.221535e+01     7.092547e-03\n",
      " * time: 13.926253080368042\n",
      "    20    -6.222493e+01     7.248101e-03\n",
      " * time: 14.462204933166504\n",
      "    21    -6.223291e+01     8.729108e-03\n",
      " * time: 15.001555919647217\n",
      "    22    -6.224038e+01     8.377496e-03\n",
      " * time: 15.543168067932129\n",
      "    23    -6.224716e+01     7.815919e-03\n",
      " * time: 16.08265709877014\n",
      "    24    -6.225287e+01     5.786513e-03\n",
      " * time: 16.62159514427185\n",
      "    25    -6.225674e+01     3.910774e-03\n",
      " * time: 17.16606092453003\n",
      "    26    -6.225899e+01     2.695906e-03\n",
      " * time: 17.70949697494507\n",
      "    27    -6.226019e+01     1.826333e-03\n",
      " * time: 18.248358964920044\n",
      "    28    -6.226079e+01     1.257167e-03\n",
      " * time: 18.792783975601196\n",
      "    29    -6.226110e+01     1.045299e-03\n",
      " * time: 19.333166122436523\n",
      "    30    -6.226128e+01     1.038229e-03\n",
      " * time: 19.87146806716919\n",
      "    31    -6.226139e+01     8.296182e-04\n",
      " * time: 20.416054010391235\n",
      "    32    -6.226148e+01     6.543295e-04\n",
      " * time: 20.95550298690796\n",
      "    33    -6.226155e+01     5.127197e-04\n",
      " * time: 21.494391918182373\n",
      "    34    -6.226160e+01     3.576046e-04\n",
      " * time: 22.03849506378174\n",
      "    35    -6.226163e+01     3.050200e-04\n",
      " * time: 22.57739806175232\n",
      "    36    -6.226165e+01     2.198615e-04\n",
      " * time: 23.119602918624878\n",
      "    37    -6.226166e+01     1.730542e-04\n",
      " * time: 23.66390895843506\n",
      "    38    -6.226166e+01     1.359570e-04\n",
      " * time: 24.19945001602173\n",
      "    39    -6.226166e+01     9.420493e-05\n",
      " * time: 24.738285064697266\n",
      "    40    -6.226166e+01     6.895414e-05\n",
      " * time: 25.282948970794678\n",
      "    41    -6.226167e+01     4.934282e-05\n",
      " * time: 25.82168698310852\n",
      "    42    -6.226167e+01     3.797860e-05\n",
      " * time: 26.357610940933228\n",
      "    43    -6.226167e+01     2.773606e-05\n",
      " * time: 26.901920080184937\n",
      "    44    -6.226167e+01     2.289503e-05\n",
      " * time: 27.438066959381104\n",
      "    45    -6.226167e+01     2.017180e-05\n",
      " * time: 27.97423791885376\n",
      "    46    -6.226167e+01     2.015328e-05\n",
      " * time: 28.512469053268433\n",
      "    47    -6.226167e+01     1.926603e-05\n",
      " * time: 29.05857014656067\n",
      "    48    -6.226167e+01     1.133607e-05\n",
      " * time: 29.597429990768433\n",
      "    49    -6.226167e+01     7.889349e-06\n",
      " * time: 30.132401943206787\n",
      "    50    -6.226167e+01     5.366751e-06\n",
      " * time: 30.67026710510254\n",
      "    51    -6.226167e+01     3.968304e-06\n",
      " * time: 31.20907711982727\n",
      "    52    -6.226167e+01     2.776699e-06\n",
      " * time: 31.74743103981018\n"
     ]
    }
   ],
   "cell_type": "code",
   "source": [
    "scfres = direct_minimization(basis, tol=1e-5);"
   ],
   "metadata": {},
   "execution_count": 4
  },
  {
   "outputs": [
    {
     "output_type": "execute_result",
     "data": {
      "text/plain": "Energy breakdown:\n    Kinetic             25.7671069\n    AtomicLocal         -18.8557671\n    AtomicNonlocal      14.8522637\n    Ewald               -67.1831486\n    PspCorrection       -2.3569765\n    Hartree             4.8485373 \n    Xc                  -19.3336821\n\n    total               -62.261666460340\n"
     },
     "metadata": {},
     "execution_count": 5
    }
   ],
   "cell_type": "code",
   "source": [
    "scfres.energies"
   ],
   "metadata": {},
   "execution_count": 5
  }
 ],
 "nbformat_minor": 3,
 "metadata": {
  "language_info": {
   "file_extension": ".jl",
   "mimetype": "application/julia",
   "name": "julia",
   "version": "1.6.1"
  },
  "kernelspec": {
   "name": "julia-1.6",
   "display_name": "Julia 1.6.1",
   "language": "julia"
  }
 },
 "nbformat": 4
}
