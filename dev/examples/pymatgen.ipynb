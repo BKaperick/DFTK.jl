{
 "cells": [
  {
   "cell_type": "markdown",
   "source": [
    "# Creating supercells with pymatgen\n",
    "\n",
    "The [Pymatgen](https://pymatgen.org/) python library allows to setup\n",
    "solid-state calculations using a flexible set of classes as well as an API\n",
    "to an online data base of structures. Its `Structure` and `Lattice`\n",
    "objects are directly supported by the DFTK `load_atoms` and `load_lattice`\n",
    "functions, such that DFTK may be readily used to run calculation on systems\n",
    "defined in pymatgen. Using the `pymatgen_structure` function a conversion\n",
    "from DFTK to pymatgen structures is also possible. In the following we\n",
    "use this to create a silicon supercell and find its LDA ground state\n",
    "using direct minimisation."
   ],
   "metadata": {}
  },
  {
   "cell_type": "markdown",
   "source": [
    "First we setup the silicon lattice in DFTK."
   ],
   "metadata": {}
  },
  {
   "outputs": [],
   "cell_type": "code",
   "source": [
    "using DFTK\n",
    "\n",
    "a = 10.263141334305942  # Lattice constant in Bohr\n",
    "lattice = a / 2 .* [[0 1 1.]; [1 0 1.]; [1 1 0.]]\n",
    "Si = ElementPsp(:Si, psp=load_psp(\"hgh/lda/Si-q4\"))\n",
    "atoms = [Si => [ones(3)/8, -ones(3)/8]];"
   ],
   "metadata": {},
   "execution_count": 1
  },
  {
   "cell_type": "markdown",
   "source": [
    "Next we make a `[2, 2, 2]` supercell using pymatgen"
   ],
   "metadata": {}
  },
  {
   "outputs": [],
   "cell_type": "code",
   "source": [
    "pystruct = pymatgen_structure(lattice, atoms)\n",
    "pystruct.make_supercell([2, 2, 2])\n",
    "lattice = load_lattice(pystruct)\n",
    "atoms = [Si => [s.frac_coords for s in pystruct.sites]];"
   ],
   "metadata": {},
   "execution_count": 2
  },
  {
   "cell_type": "markdown",
   "source": [
    "Setup an LDA model and discretize using\n",
    "a single kpoint and a small `Ecut` of 5 Hartree.\n",
    "Notice that `PlaneWaveBasis` defaults to just using the ``Γ``-point\n",
    "if no ``k``-point options are provided."
   ],
   "metadata": {}
  },
  {
   "outputs": [
    {
     "output_type": "execute_result",
     "data": {
      "text/plain": "PlaneWaveBasis (Ecut=5.0, 1 kpoints)"
     },
     "metadata": {},
     "execution_count": 3
    }
   ],
   "cell_type": "code",
   "source": [
    "model = model_LDA(lattice, atoms)\n",
    "basis = PlaneWaveBasis(model, 5)"
   ],
   "metadata": {},
   "execution_count": 3
  },
  {
   "cell_type": "markdown",
   "source": [
    "Find the ground state using direct minimisation (always using SCF is boring ...)"
   ],
   "metadata": {}
  },
  {
   "outputs": [
    {
     "name": "stdout",
     "output_type": "stream",
     "text": [
      "Iter     Function value   Gradient norm \n",
      "     0     1.119473e+02     1.692437e+00\n",
      " * time: 0.09222006797790527\n",
      "     1     1.096474e+01     9.110164e-01\n",
      " * time: 0.9539239406585693\n",
      "     2    -1.264092e+01     1.079850e+00\n",
      " * time: 1.114220142364502\n",
      "     3    -3.438456e+01     8.115111e-01\n",
      " * time: 1.254073143005371\n",
      "     4    -4.809435e+01     6.014056e-01\n",
      " * time: 1.412196159362793\n",
      "     5    -5.711703e+01     1.848837e-01\n",
      " * time: 1.5606160163879395\n",
      "     6    -5.984830e+01     1.003379e-01\n",
      " * time: 1.6691160202026367\n",
      "     7    -6.085386e+01     5.540393e-02\n",
      " * time: 1.78391695022583\n",
      "     8    -6.124190e+01     7.006512e-02\n",
      " * time: 1.8926260471343994\n",
      "     9    -6.156455e+01     3.548090e-02\n",
      " * time: 2.008923053741455\n",
      "    10    -6.178687e+01     2.895165e-02\n",
      " * time: 2.1198880672454834\n",
      "    11    -6.195798e+01     2.006668e-02\n",
      " * time: 2.2354531288146973\n",
      "    12    -6.202562e+01     1.993440e-02\n",
      " * time: 2.3452789783477783\n",
      "    13    -6.209630e+01     1.787633e-02\n",
      " * time: 2.4599721431732178\n",
      "    14    -6.212867e+01     1.518622e-02\n",
      " * time: 2.5697951316833496\n",
      "    15    -6.215951e+01     1.239700e-02\n",
      " * time: 2.6875381469726562\n",
      "    16    -6.217821e+01     9.734895e-03\n",
      " * time: 2.79644513130188\n",
      "    17    -6.219208e+01     1.070397e-02\n",
      " * time: 2.9262731075286865\n",
      "    18    -6.220454e+01     8.951433e-03\n",
      " * time: 3.042262077331543\n",
      "    19    -6.221445e+01     7.346457e-03\n",
      " * time: 3.151479959487915\n",
      "    20    -6.222411e+01     6.855815e-03\n",
      " * time: 3.2659740447998047\n",
      "    21    -6.223358e+01     7.006544e-03\n",
      " * time: 3.374812126159668\n",
      "    22    -6.224330e+01     6.089431e-03\n",
      " * time: 3.4894039630889893\n",
      "    23    -6.225095e+01     4.367677e-03\n",
      " * time: 3.599313974380493\n",
      "    24    -6.225589e+01     3.543375e-03\n",
      " * time: 3.7140140533447266\n",
      "    25    -6.225863e+01     2.786138e-03\n",
      " * time: 3.822633981704712\n",
      "    26    -6.225994e+01     2.109674e-03\n",
      " * time: 3.939368963241577\n",
      "    27    -6.226056e+01     1.668567e-03\n",
      " * time: 4.047924995422363\n",
      "    28    -6.226092e+01     1.489128e-03\n",
      " * time: 4.163227081298828\n",
      "    29    -6.226116e+01     1.137109e-03\n",
      " * time: 4.273040056228638\n",
      "    30    -6.226132e+01     7.936497e-04\n",
      " * time: 4.389908075332642\n",
      "    31    -6.226144e+01     7.088966e-04\n",
      " * time: 4.499401092529297\n",
      "    32    -6.226152e+01     5.537049e-04\n",
      " * time: 4.615371942520142\n",
      "    33    -6.226158e+01     4.520535e-04\n",
      " * time: 4.724571943283081\n",
      "    34    -6.226162e+01     3.349484e-04\n",
      " * time: 4.84148907661438\n",
      "    35    -6.226164e+01     3.226088e-04\n",
      " * time: 4.959213972091675\n",
      "    36    -6.226165e+01     1.935716e-04\n",
      " * time: 5.085785150527954\n",
      "    37    -6.226166e+01     1.306487e-04\n",
      " * time: 5.196486949920654\n",
      "    38    -6.226166e+01     8.230144e-05\n",
      " * time: 5.3141210079193115\n",
      "    39    -6.226166e+01     5.462551e-05\n",
      " * time: 5.426360130310059\n",
      "    40    -6.226167e+01     5.466444e-05\n",
      " * time: 5.544561147689819\n",
      "    41    -6.226167e+01     3.947447e-05\n",
      " * time: 5.654971122741699\n",
      "    42    -6.226167e+01     3.260869e-05\n",
      " * time: 5.773890972137451\n",
      "    43    -6.226167e+01     2.397210e-05\n",
      " * time: 5.8857879638671875\n",
      "    44    -6.226167e+01     2.321924e-05\n",
      " * time: 6.004034042358398\n",
      "    45    -6.226167e+01     1.829803e-05\n",
      " * time: 6.113327980041504\n",
      "    46    -6.226167e+01     1.293244e-05\n",
      " * time: 6.228219032287598\n",
      "    47    -6.226167e+01     9.841324e-06\n",
      " * time: 6.337490081787109\n",
      "    48    -6.226167e+01     8.918296e-06\n",
      " * time: 6.45191216468811\n",
      "    49    -6.226167e+01     6.576522e-06\n",
      " * time: 6.561429977416992\n",
      "    50    -6.226167e+01     3.884668e-06\n",
      " * time: 6.6759960651397705\n"
     ]
    }
   ],
   "cell_type": "code",
   "source": [
    "scfres = direct_minimization(basis, tol=1e-5);"
   ],
   "metadata": {},
   "execution_count": 4
  },
  {
   "outputs": [
    {
     "output_type": "execute_result",
     "data": {
      "text/plain": "Energy breakdown:\n    Kinetic             25.7671056\n    AtomicLocal         -18.8557704\n    AtomicNonlocal      14.8522685\n    Ewald               -67.1831486\n    PspCorrection       -2.3569765\n    Hartree             4.8485368 \n    Xc                  -19.3336818\n\n    total               -62.261666458484\n"
     },
     "metadata": {},
     "execution_count": 5
    }
   ],
   "cell_type": "code",
   "source": [
    "scfres.energies"
   ],
   "metadata": {},
   "execution_count": 5
  }
 ],
 "nbformat_minor": 3,
 "metadata": {
  "language_info": {
   "file_extension": ".jl",
   "mimetype": "application/julia",
   "name": "julia",
   "version": "1.3.1"
  },
  "kernelspec": {
   "name": "julia-1.3",
   "display_name": "Julia 1.3.1",
   "language": "julia"
  }
 },
 "nbformat": 4
}
