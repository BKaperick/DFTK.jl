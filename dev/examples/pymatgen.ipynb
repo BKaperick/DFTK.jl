{
 "cells": [
  {
   "cell_type": "markdown",
   "source": [
    "# Creating supercells with pymatgen\n",
    "\n",
    "The [Pymatgen](https://pymatgen.org/) python library allows to setup\n",
    "solid-state calculations using a flexible set of classes as well as an API\n",
    "to an online data base of structures. Its `Structure` and `Lattice`\n",
    "objects are directly supported by the DFTK `load_atoms` and `load_lattice`\n",
    "functions, such that DFTK may be readily used to run calculation on systems\n",
    "defined in pymatgen. Using the `pymatgen_structure` function a conversion\n",
    "from DFTK to pymatgen structures is also possible. In the following we\n",
    "use this to create a silicon supercell and find its LDA ground state\n",
    "using direct minimisation."
   ],
   "metadata": {}
  },
  {
   "cell_type": "markdown",
   "source": [
    "First we setup the silicon lattice in DFTK."
   ],
   "metadata": {}
  },
  {
   "outputs": [],
   "cell_type": "code",
   "source": [
    "using DFTK\n",
    "\n",
    "a = 10.263141334305942  # Lattice constant in Bohr\n",
    "lattice = a / 2 .* [[0 1 1.]; [1 0 1.]; [1 1 0.]]\n",
    "Si = ElementPsp(:Si, psp=load_psp(\"hgh/lda/Si-q4\"))\n",
    "atoms = [Si => [ones(3)/8, -ones(3)/8]];"
   ],
   "metadata": {},
   "execution_count": 1
  },
  {
   "cell_type": "markdown",
   "source": [
    "Next we make a `[2, 2, 2]` supercell using pymatgen"
   ],
   "metadata": {}
  },
  {
   "outputs": [],
   "cell_type": "code",
   "source": [
    "pystruct = pymatgen_structure(lattice, atoms)\n",
    "pystruct.make_supercell([2, 2, 2])\n",
    "lattice = load_lattice(pystruct)\n",
    "atoms = [Si => [s.frac_coords for s in pystruct.sites]];"
   ],
   "metadata": {},
   "execution_count": 2
  },
  {
   "cell_type": "markdown",
   "source": [
    "Setup an LDA model and discretize using\n",
    "a single kpoint and a small `Ecut` of 5 Hartree."
   ],
   "metadata": {}
  },
  {
   "outputs": [
    {
     "output_type": "execute_result",
     "data": {
      "text/plain": "PlaneWaveBasis (Ecut=5.0, 1 kpoints)"
     },
     "metadata": {},
     "execution_count": 3
    }
   ],
   "cell_type": "code",
   "source": [
    "model = model_LDA(lattice, atoms)\n",
    "basis = PlaneWaveBasis(model, 5, kgrid=(1, 1, 1))"
   ],
   "metadata": {},
   "execution_count": 3
  },
  {
   "cell_type": "markdown",
   "source": [
    "Find the ground state using direct minimisation (always using SCF is boring ...)"
   ],
   "metadata": {}
  },
  {
   "outputs": [
    {
     "name": "stdout",
     "output_type": "stream",
     "text": [
      "Iter     Function value   Gradient norm \n",
      "     0     1.118617e+02     1.517525e+00\n",
      " * time: 0.09008097648620605\n",
      "     1     1.101036e+01     1.070636e+00\n",
      " * time: 0.9408318996429443\n",
      "     2    -1.156777e+01     1.088003e+00\n",
      " * time: 1.0635600090026855\n",
      "     3    -3.399999e+01     9.050603e-01\n",
      " * time: 1.2219820022583008\n",
      "     4    -4.757070e+01     7.218841e-01\n",
      " * time: 1.3698399066925049\n",
      "     5    -5.701618e+01     2.472814e-01\n",
      " * time: 1.51802396774292\n",
      "     6    -5.987285e+01     1.698315e-01\n",
      " * time: 1.6482160091400146\n",
      "     7    -6.095889e+01     6.266220e-02\n",
      " * time: 1.7552199363708496\n",
      "     8    -6.137227e+01     6.752112e-02\n",
      " * time: 1.8681230545043945\n",
      "     9    -6.161433e+01     5.777288e-02\n",
      " * time: 1.9739210605621338\n",
      "    10    -6.180671e+01     2.645564e-02\n",
      " * time: 2.0875649452209473\n",
      "    11    -6.195134e+01     2.286778e-02\n",
      " * time: 2.199079990386963\n",
      "    12    -6.202588e+01     1.663470e-02\n",
      " * time: 2.3052890300750732\n",
      "    13    -6.208741e+01     1.573934e-02\n",
      " * time: 2.4187119007110596\n",
      "    14    -6.213009e+01     1.564546e-02\n",
      " * time: 2.5329790115356445\n",
      "    15    -6.216323e+01     1.288788e-02\n",
      " * time: 2.639914035797119\n",
      "    16    -6.218577e+01     1.190168e-02\n",
      " * time: 2.7535829544067383\n",
      "    17    -6.220220e+01     8.815596e-03\n",
      " * time: 2.8597500324249268\n",
      "    18    -6.221542e+01     8.072937e-03\n",
      " * time: 2.9731550216674805\n",
      "    19    -6.222505e+01     6.614857e-03\n",
      " * time: 3.08548903465271\n",
      "    20    -6.223377e+01     7.472018e-03\n",
      " * time: 3.1904349327087402\n",
      "    21    -6.224134e+01     6.784274e-03\n",
      " * time: 3.302509069442749\n",
      "    22    -6.224807e+01     5.780121e-03\n",
      " * time: 3.4067859649658203\n",
      "    23    -6.225337e+01     4.534460e-03\n",
      " * time: 3.5185611248016357\n",
      "    24    -6.225699e+01     3.705076e-03\n",
      " * time: 3.6282529830932617\n",
      "    25    -6.225906e+01     3.003321e-03\n",
      " * time: 3.7333619594573975\n",
      "    26    -6.226019e+01     2.471220e-03\n",
      " * time: 3.842952013015747\n",
      "    27    -6.226078e+01     1.631513e-03\n",
      " * time: 3.947636127471924\n",
      "    28    -6.226110e+01     1.010133e-03\n",
      " * time: 4.058910131454468\n",
      "    29    -6.226128e+01     1.020404e-03\n",
      " * time: 4.170146942138672\n",
      "    30    -6.226140e+01     8.120154e-04\n",
      " * time: 4.274810075759888\n",
      "    31    -6.226148e+01     6.830490e-04\n",
      " * time: 4.3868489265441895\n",
      "    32    -6.226155e+01     6.167626e-04\n",
      " * time: 4.498960018157959\n",
      "    33    -6.226159e+01     4.723120e-04\n",
      " * time: 4.603791952133179\n",
      "    34    -6.226163e+01     3.403231e-04\n",
      " * time: 4.718981981277466\n",
      "    35    -6.226165e+01     2.831586e-04\n",
      " * time: 4.84213399887085\n",
      "    36    -6.226166e+01     2.001269e-04\n",
      " * time: 4.9646079540252686\n",
      "    37    -6.226166e+01     1.339698e-04\n",
      " * time: 5.079416036605835\n",
      "    38    -6.226166e+01     9.894903e-05\n",
      " * time: 5.184930086135864\n",
      "    39    -6.226166e+01     8.300072e-05\n",
      " * time: 5.297967910766602\n",
      "    40    -6.226167e+01     5.916547e-05\n",
      " * time: 5.419174909591675\n",
      "    41    -6.226167e+01     4.466588e-05\n",
      " * time: 5.5342628955841064\n",
      "    42    -6.226167e+01     2.979571e-05\n",
      " * time: 5.65474009513855\n",
      "    43    -6.226167e+01     2.465356e-05\n",
      " * time: 5.760868072509766\n",
      "    44    -6.226167e+01     1.638656e-05\n",
      " * time: 5.872965097427368\n",
      "    45    -6.226167e+01     1.608250e-05\n",
      " * time: 5.9776771068573\n",
      "    46    -6.226167e+01     1.574453e-05\n",
      " * time: 6.089680910110474\n",
      "    47    -6.226167e+01     1.177718e-05\n",
      " * time: 6.201822996139526\n",
      "    48    -6.226167e+01     7.027661e-06\n",
      " * time: 6.307470083236694\n",
      "    49    -6.226167e+01     5.107968e-06\n",
      " * time: 6.420017957687378\n",
      "    50    -6.226167e+01     4.145202e-06\n",
      " * time: 6.53329610824585\n",
      "    51    -6.226167e+01     4.006631e-06\n",
      " * time: 6.638195991516113\n"
     ]
    }
   ],
   "cell_type": "code",
   "source": [
    "scfres = direct_minimization(basis, tol=1e-5);"
   ],
   "metadata": {},
   "execution_count": 4
  },
  {
   "outputs": [
    {
     "output_type": "execute_result",
     "data": {
      "text/plain": "Energy breakdown:\n    Kinetic             25.7671071\n    AtomicLocal         -18.8557723\n    AtomicNonlocal      14.8522681\n    Ewald               -67.1831486\n    PspCorrection       -2.3569765\n    Hartree             4.8485382 \n    Xc                  -19.3336824\n\n    total               -62.261666459916\n"
     },
     "metadata": {},
     "execution_count": 5
    }
   ],
   "cell_type": "code",
   "source": [
    "scfres.energies"
   ],
   "metadata": {},
   "execution_count": 5
  }
 ],
 "nbformat_minor": 3,
 "metadata": {
  "language_info": {
   "file_extension": ".jl",
   "mimetype": "application/julia",
   "name": "julia",
   "version": "1.3.1"
  },
  "kernelspec": {
   "name": "julia-1.3",
   "display_name": "Julia 1.3.1",
   "language": "julia"
  }
 },
 "nbformat": 4
}
