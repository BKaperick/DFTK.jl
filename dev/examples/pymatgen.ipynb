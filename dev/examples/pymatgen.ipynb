{
 "cells": [
  {
   "cell_type": "markdown",
   "source": [
    "# Creating supercells with pymatgen\n",
    "\n",
    "The [Pymatgen](https://pymatgen.org/) python library allows to setup\n",
    "solid-state calculations using a flexible set of classes as well as an API\n",
    "to an online data base of structures. Its `Structure` and `Lattice`\n",
    "objects are directly supported by the DFTK `load_atoms` and `load_lattice`\n",
    "functions, such that DFTK may be readily used to run calculation on systems\n",
    "defined in pymatgen. Using the `pymatgen_structure` function a conversion\n",
    "from DFTK to pymatgen structures is also possible. In the following we\n",
    "use this to create a silicon supercell and find its LDA ground state\n",
    "using direct minimisation."
   ],
   "metadata": {}
  },
  {
   "cell_type": "markdown",
   "source": [
    "First we setup the silicon lattice in DFTK."
   ],
   "metadata": {}
  },
  {
   "outputs": [],
   "cell_type": "code",
   "source": [
    "using DFTK\n",
    "\n",
    "a = 10.263141334305942  # Lattice constant in Bohr\n",
    "lattice = a / 2 .* [[0 1 1.]; [1 0 1.]; [1 1 0.]]\n",
    "Si = ElementPsp(:Si, psp=load_psp(\"hgh/lda/Si-q4\"))\n",
    "atoms = [Si => [ones(3)/8, -ones(3)/8]];"
   ],
   "metadata": {},
   "execution_count": 1
  },
  {
   "cell_type": "markdown",
   "source": [
    "Next we make a `[2, 2, 2]` supercell using pymatgen"
   ],
   "metadata": {}
  },
  {
   "outputs": [],
   "cell_type": "code",
   "source": [
    "pystruct = pymatgen_structure(lattice, atoms)\n",
    "pystruct.make_supercell([2, 2, 2])\n",
    "lattice = load_lattice(pystruct)\n",
    "atoms = [Si => [s.frac_coords for s in pystruct.sites]];"
   ],
   "metadata": {},
   "execution_count": 2
  },
  {
   "cell_type": "markdown",
   "source": [
    "Setup an LDA model and discretize using\n",
    "a single kpoint and a small `Ecut` of 5 Hartree."
   ],
   "metadata": {}
  },
  {
   "outputs": [
    {
     "output_type": "execute_result",
     "data": {
      "text/plain": "PlaneWaveBasis (Ecut=5.0, 1 kpoints)"
     },
     "metadata": {},
     "execution_count": 3
    }
   ],
   "cell_type": "code",
   "source": [
    "model = model_LDA(lattice, atoms)\n",
    "basis = PlaneWaveBasis(model, 5, kgrid=(1, 1, 1))"
   ],
   "metadata": {},
   "execution_count": 3
  },
  {
   "cell_type": "markdown",
   "source": [
    "Find the ground state using direct minimisation (always using SCF is boring ...)"
   ],
   "metadata": {}
  },
  {
   "outputs": [
    {
     "name": "stdout",
     "output_type": "stream",
     "text": [
      "Iter     Function value   Gradient norm \n",
      "     0     1.122741e+02     1.566110e+00\n",
      " * time: 0.6679930686950684\n",
      "     1     1.068124e+01     9.013168e-01\n",
      " * time: 1.9502429962158203\n",
      "     2    -1.130942e+01     9.481453e-01\n",
      " * time: 2.5758049488067627\n",
      "     3    -3.369645e+01     7.155944e-01\n",
      " * time: 3.488408088684082\n",
      "     4    -4.717399e+01     5.061715e-01\n",
      " * time: 4.3732750415802\n",
      "     5    -5.674253e+01     2.158875e-01\n",
      " * time: 5.246599912643433\n",
      "     6    -5.970337e+01     1.484150e-01\n",
      " * time: 5.84299111366272\n",
      "     7    -6.085820e+01     6.142199e-02\n",
      " * time: 6.425633907318115\n",
      "     8    -6.130954e+01     5.701387e-02\n",
      " * time: 7.025686979293823\n",
      "     9    -6.156155e+01     5.185429e-02\n",
      " * time: 7.618904113769531\n",
      "    10    -6.177955e+01     2.541281e-02\n",
      " * time: 8.258821964263916\n",
      "    11    -6.195519e+01     2.092514e-02\n",
      " * time: 8.830262899398804\n",
      "    12    -6.204284e+01     1.732164e-02\n",
      " * time: 9.398788928985596\n",
      "    13    -6.209774e+01     1.454891e-02\n",
      " * time: 10.00496792793274\n",
      "    14    -6.213495e+01     1.092055e-02\n",
      " * time: 10.602179050445557\n",
      "    15    -6.215909e+01     9.045360e-03\n",
      " * time: 11.209640979766846\n",
      "    16    -6.217592e+01     7.980479e-03\n",
      " * time: 11.84479808807373\n",
      "    17    -6.218737e+01     6.698265e-03\n",
      " * time: 12.478091955184937\n",
      "    18    -6.219578e+01     5.321147e-03\n",
      " * time: 13.058280944824219\n",
      "    19    -6.220186e+01     4.926252e-03\n",
      " * time: 13.655476093292236\n",
      "    20    -6.220638e+01     4.154144e-03\n",
      " * time: 14.267164945602417\n",
      "    21    -6.220965e+01     3.399118e-03\n",
      " * time: 14.866113901138306\n",
      "    22    -6.221209e+01     3.260387e-03\n",
      " * time: 15.481165885925293\n",
      "    23    -6.221403e+01     3.614477e-03\n",
      " * time: 16.06239604949951\n",
      "    24    -6.221576e+01     3.476015e-03\n",
      " * time: 16.668953895568848\n",
      "    25    -6.221747e+01     3.728268e-03\n",
      " * time: 17.31774401664734\n",
      "    26    -6.221961e+01     4.044342e-03\n",
      " * time: 17.91142702102661\n",
      "    27    -6.222304e+01     4.491978e-03\n",
      " * time: 18.514771938323975\n",
      "    28    -6.222787e+01     5.443928e-03\n",
      " * time: 19.11201000213623\n",
      "    29    -6.223430e+01     5.597782e-03\n",
      " * time: 19.6878719329834\n",
      "    30    -6.224425e+01     5.167222e-03\n",
      " * time: 20.280672073364258\n",
      "    31    -6.225089e+01     5.086436e-03\n",
      " * time: 20.916269063949585\n",
      "    32    -6.225515e+01     3.727333e-03\n",
      " * time: 21.573337078094482\n",
      "    33    -6.225768e+01     3.212846e-03\n",
      " * time: 22.17677402496338\n",
      "    34    -6.225945e+01     2.130181e-03\n",
      " * time: 22.79487895965576\n",
      "    35    -6.226051e+01     1.318081e-03\n",
      " * time: 23.39540696144104\n",
      "    36    -6.226099e+01     1.016349e-03\n",
      " * time: 23.978071928024292\n",
      "    37    -6.226125e+01     8.706908e-04\n",
      " * time: 24.557265043258667\n",
      "    38    -6.226139e+01     6.570704e-04\n",
      " * time: 25.17152500152588\n",
      "    39    -6.226148e+01     4.611994e-04\n",
      " * time: 25.754245042800903\n",
      "    40    -6.226154e+01     4.294792e-04\n",
      " * time: 26.383529901504517\n",
      "    41    -6.226158e+01     3.323480e-04\n",
      " * time: 26.97344207763672\n",
      "    42    -6.226161e+01     2.982467e-04\n",
      " * time: 27.586817979812622\n",
      "    43    -6.226163e+01     2.265164e-04\n",
      " * time: 28.22319197654724\n",
      "    44    -6.226165e+01     1.640578e-04\n",
      " * time: 28.849266052246094\n",
      "    45    -6.226166e+01     1.518130e-04\n",
      " * time: 29.460467100143433\n",
      "    46    -6.226166e+01     1.224782e-04\n",
      " * time: 30.099531888961792\n",
      "    47    -6.226166e+01     8.515258e-05\n",
      " * time: 30.759006023406982\n",
      "    48    -6.226166e+01     6.138936e-05\n",
      " * time: 31.34757399559021\n",
      "    49    -6.226167e+01     4.848434e-05\n",
      " * time: 31.95688509941101\n",
      "    50    -6.226167e+01     4.001415e-05\n",
      " * time: 32.56157398223877\n",
      "    51    -6.226167e+01     3.992773e-05\n",
      " * time: 33.15311288833618\n",
      "    52    -6.226167e+01     3.220850e-05\n",
      " * time: 33.77214193344116\n",
      "    53    -6.226167e+01     2.421080e-05\n",
      " * time: 34.42837691307068\n",
      "    54    -6.226167e+01     1.599168e-05\n",
      " * time: 35.05974006652832\n",
      "    55    -6.226167e+01     1.231663e-05\n",
      " * time: 35.69767999649048\n",
      "    56    -6.226167e+01     9.882128e-06\n",
      " * time: 36.29467988014221\n",
      "    57    -6.226167e+01     6.785476e-06\n",
      " * time: 36.90012788772583\n",
      "    58    -6.226167e+01     6.361455e-06\n",
      " * time: 37.53646492958069\n",
      "    59    -6.226167e+01     5.053704e-06\n",
      " * time: 38.142723083496094\n",
      "    60    -6.226167e+01     3.191107e-06\n",
      " * time: 38.793169021606445\n"
     ]
    }
   ],
   "cell_type": "code",
   "source": [
    "scfres = direct_minimization(basis, tol=1e-5);"
   ],
   "metadata": {},
   "execution_count": 4
  },
  {
   "outputs": [
    {
     "output_type": "execute_result",
     "data": {
      "text/plain": "Energy breakdown:\n    Kinetic             25.7671089\n    AtomicLocal         -18.8557774\n    AtomicNonlocal      14.8522698\n    Ewald               -67.1831486\n    PspCorrection       -2.3569765\n    Hartree             4.8485409 \n    Xc                  -19.3336835\n\n    total               -62.261666457749\n"
     },
     "metadata": {},
     "execution_count": 5
    }
   ],
   "cell_type": "code",
   "source": [
    "scfres.energies"
   ],
   "metadata": {},
   "execution_count": 5
  }
 ],
 "nbformat_minor": 3,
 "metadata": {
  "language_info": {
   "file_extension": ".jl",
   "mimetype": "application/julia",
   "name": "julia",
   "version": "1.6.2"
  },
  "kernelspec": {
   "name": "julia-1.6",
   "display_name": "Julia 1.6.2",
   "language": "julia"
  }
 },
 "nbformat": 4
}
