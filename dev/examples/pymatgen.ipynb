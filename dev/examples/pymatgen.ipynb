{
 "cells": [
  {
   "cell_type": "markdown",
   "source": [
    "# Creating supercells with pymatgen\n",
    "\n",
    "The [Pymatgen](https://pymatgen.org/) python library allows to setup\n",
    "solid-state calculations using a flexible set of classes as well as an API\n",
    "to an online data base of structures. Its `Structure` and `Lattice`\n",
    "objects are directly supported by the DFTK `load_atoms` and `load_lattice`\n",
    "functions, such that DFTK may be readily used to run calculation on systems\n",
    "defined in pymatgen. Using the `pymatgen_structure` function a conversion\n",
    "from DFTK to pymatgen structures is also possible. In the following we\n",
    "use this to create a silicon supercell and find its LDA ground state\n",
    "using direct minimisation."
   ],
   "metadata": {}
  },
  {
   "cell_type": "markdown",
   "source": [
    "First we setup the silicon lattice in DFTK."
   ],
   "metadata": {}
  },
  {
   "outputs": [],
   "cell_type": "code",
   "source": [
    "using DFTK\n",
    "\n",
    "a = 10.263141334305942  # Lattice constant in Bohr\n",
    "lattice = a / 2 .* [[0 1 1.]; [1 0 1.]; [1 1 0.]]\n",
    "Si = ElementPsp(:Si, psp=load_psp(\"hgh/lda/Si-q4\"))\n",
    "atoms = [Si => [ones(3)/8, -ones(3)/8]];"
   ],
   "metadata": {},
   "execution_count": 1
  },
  {
   "cell_type": "markdown",
   "source": [
    "Next we make a `[2, 2, 2]` supercell using pymatgen"
   ],
   "metadata": {}
  },
  {
   "outputs": [],
   "cell_type": "code",
   "source": [
    "pystruct = pymatgen_structure(lattice, atoms)\n",
    "pystruct.make_supercell([2, 2, 2])\n",
    "lattice = load_lattice(pystruct)\n",
    "atoms = [Si => [s.frac_coords for s in pystruct.sites]];"
   ],
   "metadata": {},
   "execution_count": 2
  },
  {
   "cell_type": "markdown",
   "source": [
    "Setup an LDA model and discretize using\n",
    "a single kpoint and a small `Ecut` of 5 Hartree."
   ],
   "metadata": {}
  },
  {
   "outputs": [
    {
     "output_type": "execute_result",
     "data": {
      "text/plain": "PlaneWaveBasis (Ecut=5.0, 1 kpoints)"
     },
     "metadata": {},
     "execution_count": 3
    }
   ],
   "cell_type": "code",
   "source": [
    "model = model_LDA(lattice, atoms)\n",
    "basis = PlaneWaveBasis(model, 5, kgrid=(1, 1, 1))"
   ],
   "metadata": {},
   "execution_count": 3
  },
  {
   "cell_type": "markdown",
   "source": [
    "Find the ground state using direct minimisation (always using SCF is boring ...)"
   ],
   "metadata": {}
  },
  {
   "outputs": [
    {
     "name": "stdout",
     "output_type": "stream",
     "text": [
      "Iter     Function value   Gradient norm \n",
      "     0     1.112152e+02     1.457562e+00\n",
      " * time: 0.06360006332397461\n",
      "     1     1.121972e+01     8.817408e-01\n",
      " * time: 1.3191859722137451\n",
      "     2    -1.138178e+01     9.566399e-01\n",
      " * time: 1.4049968719482422\n",
      "     3    -3.406165e+01     7.866613e-01\n",
      " * time: 1.4836318492889404\n",
      "     4    -4.770789e+01     6.198698e-01\n",
      " * time: 1.5740978717803955\n",
      "     5    -5.699553e+01     2.642592e-01\n",
      " * time: 1.6622259616851807\n",
      "     6    -5.986243e+01     1.796988e-01\n",
      " * time: 1.7209508419036865\n",
      "     7    -6.091721e+01     5.186016e-02\n",
      " * time: 1.7801399230957031\n",
      "     8    -6.130446e+01     1.060200e-01\n",
      " * time: 1.847442865371704\n",
      "     9    -6.160061e+01     5.465584e-02\n",
      " * time: 1.9060750007629395\n",
      "    10    -6.180895e+01     3.531519e-02\n",
      " * time: 1.9652018547058105\n",
      "    11    -6.197464e+01     2.047100e-02\n",
      " * time: 2.028594970703125\n",
      "    12    -6.204557e+01     1.688063e-02\n",
      " * time: 2.086103916168213\n",
      "    13    -6.212442e+01     1.820483e-02\n",
      " * time: 2.143148899078369\n",
      "    14    -6.215916e+01     1.457026e-02\n",
      " * time: 2.2004029750823975\n",
      "    15    -6.218979e+01     1.274878e-02\n",
      " * time: 2.263313055038452\n",
      "    16    -6.220540e+01     1.043042e-02\n",
      " * time: 2.322675943374634\n",
      "    17    -6.221797e+01     7.780109e-03\n",
      " * time: 2.381756067276001\n",
      "    18    -6.222733e+01     7.106451e-03\n",
      " * time: 2.446323871612549\n",
      "    19    -6.223440e+01     5.810830e-03\n",
      " * time: 2.5053210258483887\n",
      "    20    -6.224123e+01     5.501227e-03\n",
      " * time: 2.5634498596191406\n",
      "    21    -6.224738e+01     5.842749e-03\n",
      " * time: 2.6205170154571533\n",
      "    22    -6.225271e+01     4.903704e-03\n",
      " * time: 2.6836700439453125\n",
      "    23    -6.225654e+01     4.502875e-03\n",
      " * time: 2.7415390014648438\n",
      "    24    -6.225885e+01     2.895574e-03\n",
      " * time: 2.79939603805542\n",
      "    25    -6.226008e+01     1.986949e-03\n",
      " * time: 2.8628580570220947\n",
      "    26    -6.226074e+01     1.537579e-03\n",
      " * time: 2.920353889465332\n",
      "    27    -6.226109e+01     1.188308e-03\n",
      " * time: 2.9790780544281006\n",
      "    28    -6.226129e+01     8.460428e-04\n",
      " * time: 3.0431718826293945\n",
      "    29    -6.226141e+01     6.778333e-04\n",
      " * time: 3.1017398834228516\n",
      "    30    -6.226149e+01     5.406750e-04\n",
      " * time: 3.159827947616577\n",
      "    31    -6.226155e+01     5.875319e-04\n",
      " * time: 3.2182819843292236\n",
      "    32    -6.226159e+01     4.023896e-04\n",
      " * time: 3.282362937927246\n",
      "    33    -6.226163e+01     3.171872e-04\n",
      " * time: 3.3402860164642334\n",
      "    34    -6.226165e+01     2.292665e-04\n",
      " * time: 3.398674964904785\n",
      "    35    -6.226166e+01     1.956183e-04\n",
      " * time: 3.461535930633545\n",
      "    36    -6.226166e+01     1.757258e-04\n",
      " * time: 3.5184788703918457\n",
      "    37    -6.226166e+01     9.699212e-05\n",
      " * time: 3.575984001159668\n",
      "    38    -6.226166e+01     7.498363e-05\n",
      " * time: 3.632830858230591\n",
      "    39    -6.226167e+01     4.844869e-05\n",
      " * time: 3.6947410106658936\n",
      "    40    -6.226167e+01     4.414888e-05\n",
      " * time: 3.7523739337921143\n",
      "    41    -6.226167e+01     4.337262e-05\n",
      " * time: 3.811079978942871\n",
      "    42    -6.226167e+01     3.746633e-05\n",
      " * time: 3.874177932739258\n",
      "    43    -6.226167e+01     3.017641e-05\n",
      " * time: 3.93210506439209\n",
      "    44    -6.226167e+01     2.084288e-05\n",
      " * time: 3.989696979522705\n",
      "    45    -6.226167e+01     1.679259e-05\n",
      " * time: 4.047916889190674\n",
      "    46    -6.226167e+01     1.161673e-05\n",
      " * time: 4.111464023590088\n",
      "    47    -6.226167e+01     7.560139e-06\n",
      " * time: 4.169334888458252\n",
      "    48    -6.226167e+01     4.863123e-06\n",
      " * time: 4.227804899215698\n",
      "    49    -6.226167e+01     4.181424e-06\n",
      " * time: 4.2915990352630615\n",
      "    50    -6.226167e+01     3.720594e-06\n",
      " * time: 4.350656032562256\n"
     ]
    }
   ],
   "cell_type": "code",
   "source": [
    "scfres = direct_minimization(basis, tol=1e-5);"
   ],
   "metadata": {},
   "execution_count": 4
  },
  {
   "outputs": [
    {
     "output_type": "execute_result",
     "data": {
      "text/plain": "Energy breakdown:\n    Kinetic             25.7671066\n    AtomicLocal         -18.8557661\n    AtomicNonlocal      14.8522632\n    Ewald               -67.1831486\n    PspCorrection       -2.3569765\n    Hartree             4.8485369 \n    Xc                  -19.3336819\n\n    total               -62.261666460946\n"
     },
     "metadata": {},
     "execution_count": 5
    }
   ],
   "cell_type": "code",
   "source": [
    "scfres.energies"
   ],
   "metadata": {},
   "execution_count": 5
  }
 ],
 "nbformat_minor": 3,
 "metadata": {
  "language_info": {
   "file_extension": ".jl",
   "mimetype": "application/julia",
   "name": "julia",
   "version": "1.5.3"
  },
  "kernelspec": {
   "name": "julia-1.5",
   "display_name": "Julia 1.5.3",
   "language": "julia"
  }
 },
 "nbformat": 4
}
