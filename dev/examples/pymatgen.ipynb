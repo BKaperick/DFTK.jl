{
 "cells": [
  {
   "cell_type": "markdown",
   "source": [
    "# Creating supercells with pymatgen\n",
    "\n",
    "The [Pymatgen](https://pymatgen.org/) python library allows to setup\n",
    "solid-state calculations using a flexible set of classes as well as an API\n",
    "to an online data base of structures. Its `Structure` and `Lattice`\n",
    "objects are directly supported by the DFTK `load_atoms` and `load_lattice`\n",
    "functions, such that DFTK may be readily used to run calculation on systems\n",
    "defined in pymatgen. Using the `pymatgen_structure` function a conversion\n",
    "from DFTK to pymatgen structures is also possible. In the following we\n",
    "use this to create a silicon supercell and find its LDA ground state\n",
    "using direct minimisation."
   ],
   "metadata": {}
  },
  {
   "cell_type": "markdown",
   "source": [
    "First we setup the silicon lattice in DFTK."
   ],
   "metadata": {}
  },
  {
   "outputs": [],
   "cell_type": "code",
   "source": [
    "using DFTK\n",
    "\n",
    "a = 10.263141334305942  # Lattice constant in Bohr\n",
    "lattice = a / 2 .* [[0 1 1.]; [1 0 1.]; [1 1 0.]]\n",
    "Si = ElementPsp(:Si, psp=load_psp(\"hgh/lda/Si-q4\"))\n",
    "atoms = [Si => [ones(3)/8, -ones(3)/8]];"
   ],
   "metadata": {},
   "execution_count": 1
  },
  {
   "cell_type": "markdown",
   "source": [
    "Next we make a `[2, 2, 2]` supercell using pymatgen"
   ],
   "metadata": {}
  },
  {
   "outputs": [],
   "cell_type": "code",
   "source": [
    "pystruct = pymatgen_structure(lattice, atoms)\n",
    "pystruct.make_supercell([2, 2, 2])\n",
    "lattice = load_lattice(pystruct)\n",
    "atoms = [Si => [s.frac_coords for s in pystruct.sites]];"
   ],
   "metadata": {},
   "execution_count": 2
  },
  {
   "cell_type": "markdown",
   "source": [
    "Setup an LDA model and discretize using\n",
    "a single kpoint and a small `Ecut` of 5 Hartree."
   ],
   "metadata": {}
  },
  {
   "outputs": [
    {
     "output_type": "execute_result",
     "data": {
      "text/plain": "PlaneWaveBasis (Ecut=5.0, 1 kpoints)"
     },
     "metadata": {},
     "execution_count": 3
    }
   ],
   "cell_type": "code",
   "source": [
    "model = model_LDA(lattice, atoms)\n",
    "basis = PlaneWaveBasis(model, 5, kgrid=(1, 1, 1))"
   ],
   "metadata": {},
   "execution_count": 3
  },
  {
   "cell_type": "markdown",
   "source": [
    "Find the ground state using direct minimisation (always using SCF is boring ...)"
   ],
   "metadata": {}
  },
  {
   "outputs": [
    {
     "name": "stdout",
     "output_type": "stream",
     "text": [
      "Iter     Function value   Gradient norm \n",
      "     0     1.121397e+02     1.713703e+00\n",
      " * time: 0.7272260189056396\n",
      "     1     1.101098e+01     1.018616e+00\n",
      " * time: 3.029141902923584\n",
      "     2    -1.202689e+01     9.442263e-01\n",
      " * time: 3.7162749767303467\n",
      "     3    -3.427796e+01     7.169581e-01\n",
      " * time: 4.745611906051636\n",
      "     4    -4.794666e+01     5.388025e-01\n",
      " * time: 5.777898073196411\n",
      "     5    -5.695093e+01     1.998590e-01\n",
      " * time: 6.72732400894165\n",
      "     6    -5.978442e+01     1.265642e-01\n",
      " * time: 7.401260852813721\n",
      "     7    -6.086881e+01     5.456964e-02\n",
      " * time: 8.025332927703857\n",
      "     8    -6.129001e+01     7.938306e-02\n",
      " * time: 8.691473007202148\n",
      "     9    -6.162333e+01     3.502613e-02\n",
      " * time: 9.357320070266724\n",
      "    10    -6.185245e+01     2.610485e-02\n",
      " * time: 10.009574890136719\n",
      "    11    -6.202438e+01     2.252671e-02\n",
      " * time: 10.656172037124634\n",
      "    12    -6.208887e+01     1.645504e-02\n",
      " * time: 11.282667875289917\n",
      "    13    -6.214682e+01     1.313475e-02\n",
      " * time: 11.951510906219482\n",
      "    14    -6.216891e+01     1.240555e-02\n",
      " * time: 12.599488019943237\n",
      "    15    -6.218596e+01     8.751554e-03\n",
      " * time: 13.232127904891968\n",
      "    16    -6.219444e+01     8.414738e-03\n",
      " * time: 13.870857954025269\n",
      "    17    -6.220027e+01     6.478622e-03\n",
      " * time: 14.489665985107422\n",
      "    18    -6.220472e+01     5.863946e-03\n",
      " * time: 15.114366054534912\n",
      "    19    -6.220824e+01     5.471859e-03\n",
      " * time: 15.779006958007812\n",
      "    20    -6.221120e+01     7.463360e-03\n",
      " * time: 16.401511907577515\n",
      "    21    -6.221408e+01     6.149812e-03\n",
      " * time: 17.060121059417725\n",
      "    22    -6.221733e+01     6.535132e-03\n",
      " * time: 17.69973087310791\n",
      "    23    -6.222134e+01     7.868925e-03\n",
      " * time: 18.328621864318848\n",
      "    24    -6.222641e+01     8.999593e-03\n",
      " * time: 18.965595960617065\n",
      "    25    -6.223260e+01     8.570180e-03\n",
      " * time: 19.59121084213257\n",
      "    26    -6.223990e+01     7.247071e-03\n",
      " * time: 20.252482891082764\n",
      "    27    -6.224722e+01     5.011323e-03\n",
      " * time: 20.878434896469116\n",
      "    28    -6.225248e+01     4.308512e-03\n",
      " * time: 21.543817043304443\n",
      "    29    -6.225591e+01     3.668357e-03\n",
      " * time: 22.18619990348816\n",
      "    30    -6.225809e+01     3.162939e-03\n",
      " * time: 22.86280393600464\n",
      "    31    -6.225953e+01     2.626658e-03\n",
      " * time: 23.52857995033264\n",
      "    32    -6.226036e+01     2.228217e-03\n",
      " * time: 24.18089199066162\n",
      "    33    -6.226092e+01     1.410786e-03\n",
      " * time: 24.85086488723755\n",
      "    34    -6.226126e+01     1.189245e-03\n",
      " * time: 25.514070987701416\n",
      "    35    -6.226146e+01     8.112265e-04\n",
      " * time: 26.180341958999634\n",
      "    36    -6.226155e+01     4.603539e-04\n",
      " * time: 26.83704686164856\n",
      "    37    -6.226160e+01     3.967125e-04\n",
      " * time: 27.486018896102905\n",
      "    38    -6.226162e+01     3.346134e-04\n",
      " * time: 28.118010997772217\n",
      "    39    -6.226164e+01     2.930777e-04\n",
      " * time: 28.771371841430664\n",
      "    40    -6.226165e+01     2.147288e-04\n",
      " * time: 29.429975986480713\n",
      "    41    -6.226165e+01     1.762129e-04\n",
      " * time: 30.091487884521484\n",
      "    42    -6.226166e+01     1.414992e-04\n",
      " * time: 30.74005699157715\n",
      "    43    -6.226166e+01     1.202893e-04\n",
      " * time: 31.435309886932373\n",
      "    44    -6.226166e+01     8.588329e-05\n",
      " * time: 32.09883189201355\n",
      "    45    -6.226166e+01     7.067801e-05\n",
      " * time: 32.75873589515686\n",
      "    46    -6.226167e+01     5.461118e-05\n",
      " * time: 33.392683029174805\n",
      "    47    -6.226167e+01     3.032691e-05\n",
      " * time: 34.07469987869263\n",
      "    48    -6.226167e+01     2.506360e-05\n",
      " * time: 34.7105450630188\n",
      "    49    -6.226167e+01     1.904942e-05\n",
      " * time: 35.372227907180786\n",
      "    50    -6.226167e+01     1.525986e-05\n",
      " * time: 36.05922794342041\n",
      "    51    -6.226167e+01     1.193397e-05\n",
      " * time: 36.714887857437134\n",
      "    52    -6.226167e+01     1.093687e-05\n",
      " * time: 37.403825998306274\n",
      "    53    -6.226167e+01     8.419386e-06\n",
      " * time: 38.08370399475098\n",
      "    54    -6.226167e+01     7.512863e-06\n",
      " * time: 38.73934006690979\n",
      "    55    -6.226167e+01     5.401454e-06\n",
      " * time: 39.42684984207153\n",
      "    56    -6.226167e+01     4.335888e-06\n",
      " * time: 40.104289054870605\n",
      "    57    -6.226167e+01     2.880100e-06\n",
      " * time: 40.8123939037323\n"
     ]
    }
   ],
   "cell_type": "code",
   "source": [
    "scfres = direct_minimization(basis, tol=1e-5);"
   ],
   "metadata": {},
   "execution_count": 4
  },
  {
   "outputs": [
    {
     "output_type": "execute_result",
     "data": {
      "text/plain": "Energy breakdown:\n    Kinetic             25.7671064\n    AtomicLocal         -18.8557684\n    AtomicNonlocal      14.8522656\n    Ewald               -67.1831486\n    PspCorrection       -2.3569765\n    Hartree             4.8485370 \n    Xc                  -19.3336819\n\n    total               -62.261666460462\n"
     },
     "metadata": {},
     "execution_count": 5
    }
   ],
   "cell_type": "code",
   "source": [
    "scfres.energies"
   ],
   "metadata": {},
   "execution_count": 5
  }
 ],
 "nbformat_minor": 3,
 "metadata": {
  "language_info": {
   "file_extension": ".jl",
   "mimetype": "application/julia",
   "name": "julia",
   "version": "1.6.1"
  },
  "kernelspec": {
   "name": "julia-1.6",
   "display_name": "Julia 1.6.1",
   "language": "julia"
  }
 },
 "nbformat": 4
}
