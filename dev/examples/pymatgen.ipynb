{
 "cells": [
  {
   "cell_type": "markdown",
   "source": [
    "# Creating supercells with pymatgen\n",
    "\n",
    "The [Pymatgen](https://pymatgen.org/) python library allows to setup\n",
    "solid-state calculations using a flexible set of classes as well as an API\n",
    "to an online data base of structures. Its `Structure` and `Lattice`\n",
    "objects are directly supported by the DFTK `load_atoms` and `load_lattice`\n",
    "functions, such that DFTK may be readily used to run calculation on systems\n",
    "defined in pymatgen. Using the `pymatgen_structure` function a conversion\n",
    "from DFTK to pymatgen structures is also possible. In the following we\n",
    "use this to create a silicon supercell and find its LDA ground state\n",
    "using direct minimisation."
   ],
   "metadata": {}
  },
  {
   "cell_type": "markdown",
   "source": [
    "First we setup the silicon lattice in DFTK."
   ],
   "metadata": {}
  },
  {
   "outputs": [],
   "cell_type": "code",
   "source": [
    "using DFTK\n",
    "\n",
    "a = 10.263141334305942  # Lattice constant in Bohr\n",
    "lattice = a / 2 .* [[0 1 1.]; [1 0 1.]; [1 1 0.]]\n",
    "Si = ElementPsp(:Si, psp=load_psp(\"hgh/lda/Si-q4\"))\n",
    "atoms = [Si => [ones(3)/8, -ones(3)/8]];"
   ],
   "metadata": {},
   "execution_count": 1
  },
  {
   "cell_type": "markdown",
   "source": [
    "Next we make a `[2, 2, 2]` supercell using pymatgen"
   ],
   "metadata": {}
  },
  {
   "outputs": [],
   "cell_type": "code",
   "source": [
    "pystruct = pymatgen_structure(lattice, atoms)\n",
    "pystruct.make_supercell([2, 2, 2])\n",
    "lattice = load_lattice(pystruct)\n",
    "atoms = [Si => [s.frac_coords for s in pystruct.sites]];"
   ],
   "metadata": {},
   "execution_count": 2
  },
  {
   "cell_type": "markdown",
   "source": [
    "Setup an LDA model and discretize using\n",
    "a single kpoint and a small `Ecut` of 5 Hartree."
   ],
   "metadata": {}
  },
  {
   "outputs": [
    {
     "output_type": "execute_result",
     "data": {
      "text/plain": "PlaneWaveBasis (Ecut=5.0, 1 kpoints)"
     },
     "metadata": {},
     "execution_count": 3
    }
   ],
   "cell_type": "code",
   "source": [
    "model = model_LDA(lattice, atoms)\n",
    "basis = PlaneWaveBasis(model, 5, kgrid=(1, 1, 1))"
   ],
   "metadata": {},
   "execution_count": 3
  },
  {
   "cell_type": "markdown",
   "source": [
    "Find the ground state using direct minimisation (always using SCF is boring ...)"
   ],
   "metadata": {}
  },
  {
   "outputs": [
    {
     "name": "stdout",
     "output_type": "stream",
     "text": [
      "Iter     Function value   Gradient norm \n",
      "     0     1.126805e+02     1.575011e+00\n",
      " * time: 0.09175896644592285\n",
      "     1     1.104842e+01     9.955929e-01\n",
      " * time: 1.3408207893371582\n",
      "     2    -1.194877e+01     1.035576e+00\n",
      " * time: 1.4680168628692627\n",
      "     3    -3.443861e+01     7.956738e-01\n",
      " * time: 1.636441946029663\n",
      "     4    -4.809858e+01     5.934579e-01\n",
      " * time: 1.7884578704833984\n",
      "     5    -5.698423e+01     2.146449e-01\n",
      " * time: 1.9259648323059082\n",
      "     6    -5.974421e+01     1.299746e-01\n",
      " * time: 2.040303945541382\n",
      "     7    -6.081511e+01     6.497854e-02\n",
      " * time: 2.147932767868042\n",
      "     8    -6.123956e+01     8.137032e-02\n",
      " * time: 2.262969970703125\n",
      "     9    -6.156762e+01     3.781047e-02\n",
      " * time: 2.370065927505493\n",
      "    10    -6.179081e+01     3.476556e-02\n",
      " * time: 2.4841108322143555\n",
      "    11    -6.197602e+01     2.468093e-02\n",
      " * time: 2.5971169471740723\n",
      "    12    -6.205190e+01     1.927299e-02\n",
      " * time: 2.706157922744751\n",
      "    13    -6.212692e+01     1.580293e-02\n",
      " * time: 2.8196699619293213\n",
      "    14    -6.215745e+01     1.298605e-02\n",
      " * time: 2.926104784011841\n",
      "    15    -6.218493e+01     9.592371e-03\n",
      " * time: 3.040566921234131\n",
      "    16    -6.219986e+01     8.357878e-03\n",
      " * time: 3.1477138996124268\n",
      "    17    -6.221149e+01     7.762366e-03\n",
      " * time: 3.2629618644714355\n",
      "    18    -6.222133e+01     6.120102e-03\n",
      " * time: 3.372750997543335\n",
      "    19    -6.222972e+01     6.367882e-03\n",
      " * time: 3.4889349937438965\n",
      "    20    -6.223724e+01     5.658407e-03\n",
      " * time: 3.5975749492645264\n",
      "    21    -6.224419e+01     6.487628e-03\n",
      " * time: 3.7125189304351807\n",
      "    22    -6.225027e+01     5.848788e-03\n",
      " * time: 3.8200628757476807\n",
      "    23    -6.225505e+01     4.664694e-03\n",
      " * time: 3.9351508617401123\n",
      "    24    -6.225815e+01     3.071133e-03\n",
      " * time: 4.043136835098267\n",
      "    25    -6.225976e+01     1.953447e-03\n",
      " * time: 4.158466815948486\n",
      "    26    -6.226054e+01     1.448201e-03\n",
      " * time: 4.26613187789917\n",
      "    27    -6.226093e+01     9.750207e-04\n",
      " * time: 4.381217002868652\n",
      "    28    -6.226115e+01     8.602208e-04\n",
      " * time: 4.488416910171509\n",
      "    29    -6.226130e+01     8.701207e-04\n",
      " * time: 4.603517770767212\n",
      "    30    -6.226142e+01     7.937676e-04\n",
      " * time: 4.711005926132202\n",
      "    31    -6.226151e+01     7.399541e-04\n",
      " * time: 4.827514886856079\n",
      "    32    -6.226157e+01     5.589368e-04\n",
      " * time: 4.936170816421509\n",
      "    33    -6.226161e+01     3.402618e-04\n",
      " * time: 5.053273916244507\n",
      "    34    -6.226164e+01     2.790303e-04\n",
      " * time: 5.16174578666687\n",
      "    35    -6.226165e+01     1.916243e-04\n",
      " * time: 5.276124954223633\n",
      "    36    -6.226166e+01     1.674130e-04\n",
      " * time: 5.382662773132324\n",
      "    37    -6.226166e+01     9.468337e-05\n",
      " * time: 5.497652769088745\n",
      "    38    -6.226166e+01     5.575388e-05\n",
      " * time: 5.605076789855957\n",
      "    39    -6.226167e+01     4.798754e-05\n",
      " * time: 5.720534801483154\n",
      "    40    -6.226167e+01     3.868343e-05\n",
      " * time: 5.8280558586120605\n",
      "    41    -6.226167e+01     2.864280e-05\n",
      " * time: 5.942742824554443\n",
      "    42    -6.226167e+01     2.610447e-05\n",
      " * time: 6.05250883102417\n",
      "    43    -6.226167e+01     1.961236e-05\n",
      " * time: 6.168059825897217\n",
      "    44    -6.226167e+01     1.567306e-05\n",
      " * time: 6.276705980300903\n",
      "    45    -6.226167e+01     1.262181e-05\n",
      " * time: 6.39089298248291\n",
      "    46    -6.226167e+01     9.229829e-06\n",
      " * time: 6.497942924499512\n",
      "    47    -6.226167e+01     6.289718e-06\n",
      " * time: 6.612549781799316\n",
      "    48    -6.226167e+01     4.932450e-06\n",
      " * time: 6.719158887863159\n",
      "    49    -6.226167e+01     3.601585e-06\n",
      " * time: 6.833450794219971\n"
     ]
    }
   ],
   "cell_type": "code",
   "source": [
    "scfres = direct_minimization(basis, tol=1e-5);"
   ],
   "metadata": {},
   "execution_count": 4
  },
  {
   "outputs": [
    {
     "output_type": "execute_result",
     "data": {
      "text/plain": "Energy breakdown:\n    Kinetic             25.7671065\n    AtomicLocal         -18.8557682\n    AtomicNonlocal      14.8522654\n    Ewald               -67.1831486\n    PspCorrection       -2.3569765\n    Hartree             4.8485369 \n    Xc                  -19.3336819\n\n    total               -62.261666458623\n"
     },
     "metadata": {},
     "execution_count": 5
    }
   ],
   "cell_type": "code",
   "source": [
    "scfres.energies"
   ],
   "metadata": {},
   "execution_count": 5
  }
 ],
 "nbformat_minor": 3,
 "metadata": {
  "language_info": {
   "file_extension": ".jl",
   "mimetype": "application/julia",
   "name": "julia",
   "version": "1.4.2"
  },
  "kernelspec": {
   "name": "julia-1.4",
   "display_name": "Julia 1.4.2",
   "language": "julia"
  }
 },
 "nbformat": 4
}
