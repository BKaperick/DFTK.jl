{
 "cells": [
  {
   "cell_type": "markdown",
   "source": [
    "# Creating supercells with pymatgen\n",
    "\n",
    "The [Pymatgen](https://pymatgen.org/) python library allows to setup\n",
    "solid-state calculations using a flexible set of classes as well as an API\n",
    "to an online data base of structures. Its `Structure` and `Lattice`\n",
    "objects are directly supported by the DFTK `load_atoms` and `load_lattice`\n",
    "functions, such that DFTK may be readily used to run calculation on systems\n",
    "defined in pymatgen. Using the `pymatgen_structure` function a conversion\n",
    "from DFTK to pymatgen structures is also possible. In the following we\n",
    "use this to create a silicon supercell and find its LDA ground state\n",
    "using direct minimisation."
   ],
   "metadata": {}
  },
  {
   "cell_type": "markdown",
   "source": [
    "First we setup the silicon lattice in DFTK."
   ],
   "metadata": {}
  },
  {
   "outputs": [],
   "cell_type": "code",
   "source": [
    "using DFTK\n",
    "\n",
    "a = 10.263141334305942  # Lattice constant in Bohr\n",
    "lattice = a / 2 .* [[0 1 1.]; [1 0 1.]; [1 1 0.]]\n",
    "Si = ElementPsp(:Si, psp=load_psp(\"hgh/lda/Si-q4\"))\n",
    "atoms = [Si => [ones(3)/8, -ones(3)/8]];"
   ],
   "metadata": {},
   "execution_count": 1
  },
  {
   "cell_type": "markdown",
   "source": [
    "Next we make a `[2, 2, 2]` supercell using pymatgen"
   ],
   "metadata": {}
  },
  {
   "outputs": [],
   "cell_type": "code",
   "source": [
    "pystruct = pymatgen_structure(lattice, atoms)\n",
    "pystruct.make_supercell([2, 2, 2])\n",
    "lattice = load_lattice(pystruct)\n",
    "atoms = [Si => [s.frac_coords for s in pystruct.sites]];"
   ],
   "metadata": {},
   "execution_count": 2
  },
  {
   "cell_type": "markdown",
   "source": [
    "Setup an LDA model and discretize using\n",
    "a single kpoint and a small `Ecut` of 5 Hartree.\n",
    "Notice that `PlaneWaveBasis` defaults to just using the ``Γ``-point\n",
    "if no ``k``-point options are provided."
   ],
   "metadata": {}
  },
  {
   "outputs": [
    {
     "output_type": "execute_result",
     "data": {
      "text/plain": "PlaneWaveBasis (Ecut=5.0, 1 kpoints)"
     },
     "metadata": {},
     "execution_count": 3
    }
   ],
   "cell_type": "code",
   "source": [
    "model = model_LDA(lattice, atoms)\n",
    "basis = PlaneWaveBasis(model, 5)"
   ],
   "metadata": {},
   "execution_count": 3
  },
  {
   "cell_type": "markdown",
   "source": [
    "Find the ground state using direct minimisation (always using SCF is boring ...)"
   ],
   "metadata": {}
  },
  {
   "outputs": [
    {
     "name": "stdout",
     "output_type": "stream",
     "text": [
      "Iter     Function value   Gradient norm \n",
      "     0     1.124952e+02     1.710152e+00\n",
      " * time: 0.13184905052185059\n",
      "     1     1.096403e+01     8.397447e-01\n",
      " * time: 0.9922900199890137\n",
      "     2    -1.203016e+01     9.307049e-01\n",
      " * time: 1.1307399272918701\n",
      "     3    -3.416090e+01     7.147939e-01\n",
      " * time: 1.2904760837554932\n",
      "     4    -4.771356e+01     5.316428e-01\n",
      " * time: 1.4401469230651855\n",
      "     5    -5.694208e+01     1.853727e-01\n",
      " * time: 1.5880439281463623\n",
      "     6    -5.982599e+01     1.053656e-01\n",
      " * time: 1.6980979442596436\n",
      "     7    -6.080109e+01     6.201304e-02\n",
      " * time: 1.8143188953399658\n",
      "     8    -6.126609e+01     6.013716e-02\n",
      " * time: 1.9233789443969727\n",
      "     9    -6.160873e+01     3.809630e-02\n",
      " * time: 2.0406739711761475\n",
      "    10    -6.184906e+01     2.619006e-02\n",
      " * time: 2.1577789783477783\n",
      "    11    -6.198924e+01     2.797390e-02\n",
      " * time: 2.268151044845581\n",
      "    12    -6.207044e+01     2.294783e-02\n",
      " * time: 2.383380889892578\n",
      "    13    -6.212427e+01     1.641862e-02\n",
      " * time: 2.492558002471924\n",
      "    14    -6.216040e+01     1.484790e-02\n",
      " * time: 2.608664035797119\n",
      "    15    -6.218453e+01     1.009685e-02\n",
      " * time: 2.7262749671936035\n",
      "    16    -6.219958e+01     7.992717e-03\n",
      " * time: 2.8352549076080322\n",
      "    17    -6.221031e+01     6.704596e-03\n",
      " * time: 2.951122999191284\n",
      "    18    -6.222057e+01     5.983070e-03\n",
      " * time: 3.061337947845459\n",
      "    19    -6.222943e+01     6.009877e-03\n",
      " * time: 3.177238941192627\n",
      "    20    -6.223747e+01     6.016371e-03\n",
      " * time: 3.293915033340454\n",
      "    21    -6.224476e+01     5.871788e-03\n",
      " * time: 3.4043619632720947\n",
      "    22    -6.225121e+01     4.763639e-03\n",
      " * time: 3.5211520195007324\n",
      "    23    -6.225598e+01     3.707045e-03\n",
      " * time: 3.630526065826416\n",
      "    24    -6.225847e+01     3.047092e-03\n",
      " * time: 3.749147891998291\n",
      "    25    -6.225970e+01     1.956837e-03\n",
      " * time: 3.866183042526245\n",
      "    26    -6.226038e+01     1.553670e-03\n",
      " * time: 3.976285934448242\n",
      "    27    -6.226079e+01     1.600641e-03\n",
      " * time: 4.092300891876221\n",
      "    28    -6.226107e+01     1.244638e-03\n",
      " * time: 4.203397989273071\n",
      "    29    -6.226126e+01     9.427976e-04\n",
      " * time: 4.32438588142395\n",
      "    30    -6.226141e+01     6.426666e-04\n",
      " * time: 4.440486907958984\n",
      "    31    -6.226151e+01     4.889303e-04\n",
      " * time: 4.550668954849243\n",
      "    32    -6.226158e+01     4.100350e-04\n",
      " * time: 4.66757607460022\n",
      "    33    -6.226162e+01     3.608409e-04\n",
      " * time: 4.78521990776062\n",
      "    34    -6.226164e+01     2.802389e-04\n",
      " * time: 4.896034002304077\n",
      "    35    -6.226165e+01     1.609989e-04\n",
      " * time: 5.016371965408325\n",
      "    36    -6.226166e+01     1.312906e-04\n",
      " * time: 5.143220901489258\n",
      "    37    -6.226166e+01     1.012965e-04\n",
      " * time: 5.266693115234375\n",
      "    38    -6.226166e+01     8.819415e-05\n",
      " * time: 5.384531021118164\n",
      "    39    -6.226166e+01     6.182559e-05\n",
      " * time: 5.493356943130493\n",
      "    40    -6.226167e+01     4.840707e-05\n",
      " * time: 5.611459016799927\n",
      "    41    -6.226167e+01     5.138339e-05\n",
      " * time: 5.738262891769409\n",
      "    42    -6.226167e+01     3.809681e-05\n",
      " * time: 5.863408088684082\n",
      "    43    -6.226167e+01     2.337386e-05\n",
      " * time: 5.984041929244995\n",
      "    44    -6.226167e+01     2.276023e-05\n",
      " * time: 6.094675064086914\n",
      "    45    -6.226167e+01     1.234094e-05\n",
      " * time: 6.215614080429077\n",
      "    46    -6.226167e+01     8.698396e-06\n",
      " * time: 6.342027902603149\n",
      "    47    -6.226167e+01     6.090248e-06\n",
      " * time: 6.465699911117554\n",
      "    48    -6.226167e+01     5.897514e-06\n",
      " * time: 6.58796501159668\n",
      "    49    -6.226167e+01     2.818783e-06\n",
      " * time: 6.7002339363098145\n"
     ]
    }
   ],
   "cell_type": "code",
   "source": [
    "scfres = direct_minimization(basis, tol=1e-5);"
   ],
   "metadata": {},
   "execution_count": 4
  },
  {
   "outputs": [
    {
     "output_type": "execute_result",
     "data": {
      "text/plain": "Energy breakdown:\n    Kinetic             25.7671074\n    AtomicLocal         -18.8557683\n    AtomicNonlocal      14.8522642\n    Ewald               -67.1831486\n    PspCorrection       -2.3569765\n    Hartree             4.8485377 \n    Xc                  -19.3336822\n\n    total               -62.261666459445\n"
     },
     "metadata": {},
     "execution_count": 5
    }
   ],
   "cell_type": "code",
   "source": [
    "scfres.energies"
   ],
   "metadata": {},
   "execution_count": 5
  }
 ],
 "nbformat_minor": 3,
 "metadata": {
  "language_info": {
   "file_extension": ".jl",
   "mimetype": "application/julia",
   "name": "julia",
   "version": "1.3.1"
  },
  "kernelspec": {
   "name": "julia-1.3",
   "display_name": "Julia 1.3.1",
   "language": "julia"
  }
 },
 "nbformat": 4
}
