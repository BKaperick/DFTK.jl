{
 "cells": [
  {
   "cell_type": "markdown",
   "source": [
    "# Creating supercells with pymatgen\n",
    "\n",
    "The [Pymatgen](https://pymatgen.org/) python library allows to setup\n",
    "solid-state calculations using a flexible set of classes as well as an API\n",
    "to an online data base of structures. Its `Structure` and `Lattice`\n",
    "objects are directly supported by the DFTK `load_atoms` and `load_lattice`\n",
    "functions, such that DFTK may be readily used to run calculation on systems\n",
    "defined in pymatgen. Using the `pymatgen_structure` function a conversion\n",
    "from DFTK to pymatgen structures is also possible. In the following we\n",
    "use this to create a silicon supercell and find its LDA ground state\n",
    "using direct minimisation."
   ],
   "metadata": {}
  },
  {
   "cell_type": "markdown",
   "source": [
    "First we setup the silicon lattice in DFTK."
   ],
   "metadata": {}
  },
  {
   "outputs": [],
   "cell_type": "code",
   "source": [
    "using DFTK\n",
    "\n",
    "a = 10.263141334305942  # Lattice constant in Bohr\n",
    "lattice = a / 2 .* [[0 1 1.]; [1 0 1.]; [1 1 0.]]\n",
    "Si = ElementPsp(:Si, psp=load_psp(\"hgh/lda/Si-q4\"))\n",
    "atoms = [Si => [ones(3)/8, -ones(3)/8]];"
   ],
   "metadata": {},
   "execution_count": 1
  },
  {
   "cell_type": "markdown",
   "source": [
    "Next we make a `[2, 2, 2]` supercell using pymatgen"
   ],
   "metadata": {}
  },
  {
   "outputs": [],
   "cell_type": "code",
   "source": [
    "pystruct = pymatgen_structure(lattice, atoms)\n",
    "pystruct.make_supercell([2, 2, 2])\n",
    "lattice = load_lattice(pystruct)\n",
    "atoms = [Si => [s.frac_coords for s in pystruct.sites]];"
   ],
   "metadata": {},
   "execution_count": 2
  },
  {
   "cell_type": "markdown",
   "source": [
    "Setup an LDA model and discretize using\n",
    "a single kpoint and a small `Ecut` of 5 Hartree."
   ],
   "metadata": {}
  },
  {
   "outputs": [
    {
     "output_type": "execute_result",
     "data": {
      "text/plain": "PlaneWaveBasis (Ecut=5.0, 1 kpoints)"
     },
     "metadata": {},
     "execution_count": 3
    }
   ],
   "cell_type": "code",
   "source": [
    "model = model_LDA(lattice, atoms)\n",
    "basis = PlaneWaveBasis(model, 5, kgrid=(1, 1, 1))"
   ],
   "metadata": {},
   "execution_count": 3
  },
  {
   "cell_type": "markdown",
   "source": [
    "Find the ground state using direct minimisation (always using SCF is boring ...)"
   ],
   "metadata": {}
  },
  {
   "outputs": [
    {
     "name": "stdout",
     "output_type": "stream",
     "text": [
      "Iter     Function value   Gradient norm \n",
      "     0     1.121659e+02     1.521084e+00\n",
      " * time: 0.08636903762817383\n",
      "     1     1.129413e+01     1.026594e+00\n",
      " * time: 0.9283490180969238\n",
      "     2    -1.159892e+01     1.000282e+00\n",
      " * time: 1.167492151260376\n",
      "     3    -3.387364e+01     9.132988e-01\n",
      " * time: 1.3341541290283203\n",
      "     4    -4.731970e+01     7.032257e-01\n",
      " * time: 1.7933390140533447\n",
      "     5    -5.652348e+01     3.062603e-01\n",
      " * time: 2.139111042022705\n",
      "     6    -5.950574e+01     2.011360e-01\n",
      " * time: 2.2486321926116943\n",
      "     7    -6.076972e+01     7.672595e-02\n",
      " * time: 2.357631206512451\n",
      "     8    -6.131474e+01     5.486218e-02\n",
      " * time: 2.457515001296997\n",
      "     9    -6.161023e+01     5.409149e-02\n",
      " * time: 2.5648281574249268\n",
      "    10    -6.180991e+01     3.396100e-02\n",
      " * time: 2.6717731952667236\n",
      "    11    -6.196945e+01     2.274668e-02\n",
      " * time: 2.7780821323394775\n",
      "    12    -6.206093e+01     1.781598e-02\n",
      " * time: 2.8781561851501465\n",
      "    13    -6.210244e+01     1.586214e-02\n",
      " * time: 2.9849531650543213\n",
      "    14    -6.214475e+01     1.397668e-02\n",
      " * time: 3.09147310256958\n",
      "    15    -6.216397e+01     9.588530e-03\n",
      " * time: 3.197526216506958\n",
      "    16    -6.217889e+01     7.935112e-03\n",
      " * time: 3.2981841564178467\n",
      "    17    -6.218893e+01     7.313625e-03\n",
      " * time: 3.4044041633605957\n",
      "    18    -6.219661e+01     6.505950e-03\n",
      " * time: 3.5108890533447266\n",
      "    19    -6.220246e+01     5.532378e-03\n",
      " * time: 3.6164300441741943\n",
      "    20    -6.220699e+01     5.505712e-03\n",
      " * time: 3.7225260734558105\n",
      "    21    -6.221070e+01     5.730805e-03\n",
      " * time: 3.823763132095337\n",
      "    22    -6.221383e+01     6.470137e-03\n",
      " * time: 3.9305830001831055\n",
      "    23    -6.221681e+01     5.438808e-03\n",
      " * time: 4.036388158798218\n",
      "    24    -6.222016e+01     5.510715e-03\n",
      " * time: 4.14372706413269\n",
      "    25    -6.222439e+01     6.665075e-03\n",
      " * time: 4.24383807182312\n",
      "    26    -6.222986e+01     6.351835e-03\n",
      " * time: 4.35128116607666\n",
      "    27    -6.223654e+01     6.962209e-03\n",
      " * time: 4.45873498916626\n",
      "    28    -6.224459e+01     6.363901e-03\n",
      " * time: 4.566242218017578\n",
      "    29    -6.225150e+01     5.794335e-03\n",
      " * time: 4.668989181518555\n",
      "    30    -6.225558e+01     4.645622e-03\n",
      " * time: 4.777477025985718\n",
      "    31    -6.225804e+01     3.472735e-03\n",
      " * time: 4.885347127914429\n",
      "    32    -6.225945e+01     2.818743e-03\n",
      " * time: 4.99240517616272\n",
      "    33    -6.226036e+01     1.933027e-03\n",
      " * time: 5.094901084899902\n",
      "    34    -6.226089e+01     1.511775e-03\n",
      " * time: 5.208558082580566\n",
      "    35    -6.226120e+01     1.017074e-03\n",
      " * time: 5.317288160324097\n",
      "    36    -6.226138e+01     6.998175e-04\n",
      " * time: 5.424108028411865\n",
      "    37    -6.226147e+01     6.899997e-04\n",
      " * time: 5.530954122543335\n",
      "    38    -6.226153e+01     5.439443e-04\n",
      " * time: 5.631818056106567\n",
      "    39    -6.226158e+01     4.300336e-04\n",
      " * time: 5.738086223602295\n",
      "    40    -6.226161e+01     3.503716e-04\n",
      " * time: 5.845207214355469\n",
      "    41    -6.226163e+01     2.954950e-04\n",
      " * time: 5.961405038833618\n",
      "    42    -6.226165e+01     2.293523e-04\n",
      " * time: 6.062144994735718\n",
      "    43    -6.226166e+01     1.544994e-04\n",
      " * time: 6.169611215591431\n",
      "    44    -6.226166e+01     1.069018e-04\n",
      " * time: 6.276376008987427\n",
      "    45    -6.226166e+01     1.096332e-04\n",
      " * time: 6.382181167602539\n",
      "    46    -6.226166e+01     7.608452e-05\n",
      " * time: 6.483311176300049\n",
      "    47    -6.226167e+01     5.691733e-05\n",
      " * time: 6.590074062347412\n",
      "    48    -6.226167e+01     3.776028e-05\n",
      " * time: 6.697615146636963\n",
      "    49    -6.226167e+01     2.750080e-05\n",
      " * time: 6.80412220954895\n",
      "    50    -6.226167e+01     2.604165e-05\n",
      " * time: 6.904316186904907\n",
      "    51    -6.226167e+01     2.015503e-05\n",
      " * time: 7.011176109313965\n",
      "    52    -6.226167e+01     1.620290e-05\n",
      " * time: 7.118540048599243\n",
      "    53    -6.226167e+01     1.385207e-05\n",
      " * time: 7.225024223327637\n",
      "    54    -6.226167e+01     8.479612e-06\n",
      " * time: 7.331230163574219\n",
      "    55    -6.226167e+01     6.778801e-06\n",
      " * time: 7.4322350025177\n",
      "    56    -6.226167e+01     5.618008e-06\n",
      " * time: 7.539555072784424\n",
      "    57    -6.226167e+01     3.285817e-06\n",
      " * time: 7.646663188934326\n",
      "    58    -6.226167e+01     2.523307e-06\n",
      " * time: 7.754048109054565\n"
     ]
    }
   ],
   "cell_type": "code",
   "source": [
    "scfres = direct_minimization(basis, tol=1e-5);"
   ],
   "metadata": {},
   "execution_count": 4
  },
  {
   "outputs": [
    {
     "output_type": "execute_result",
     "data": {
      "text/plain": "Energy breakdown:\n    Kinetic             25.7671072\n    AtomicLocal         -18.8557688\n    AtomicNonlocal      14.8522647\n    Ewald               -67.1831486\n    PspCorrection       -2.3569765\n    Hartree             4.8485378 \n    Xc                  -19.3336823\n\n    total               -62.261666460510\n"
     },
     "metadata": {},
     "execution_count": 5
    }
   ],
   "cell_type": "code",
   "source": [
    "scfres.energies"
   ],
   "metadata": {},
   "execution_count": 5
  }
 ],
 "nbformat_minor": 3,
 "metadata": {
  "language_info": {
   "file_extension": ".jl",
   "mimetype": "application/julia",
   "name": "julia",
   "version": "1.3.1"
  },
  "kernelspec": {
   "name": "julia-1.3",
   "display_name": "Julia 1.3.1",
   "language": "julia"
  }
 },
 "nbformat": 4
}
