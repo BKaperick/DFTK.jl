{
 "cells": [
  {
   "cell_type": "markdown",
   "source": [
    "# Creating supercells with pymatgen\n",
    "\n",
    "The [Pymatgen](https://pymatgen.org/) python library allows to setup\n",
    "solid-state calculations using a flexible set of classes as well as an API\n",
    "to an online data base of structures. Its `Structure` and `Lattice`\n",
    "objects are directly supported by the DFTK `load_atoms` and `load_lattice`\n",
    "functions, such that DFTK may be readily used to run calculation on systems\n",
    "defined in pymatgen. Using the `pymatgen_structure` function a conversion\n",
    "from DFTK to pymatgen structures is also possible. In the following we\n",
    "use this to create a silicon supercell and find its LDA ground state\n",
    "using direct minimisation."
   ],
   "metadata": {}
  },
  {
   "cell_type": "markdown",
   "source": [
    "First we setup the silicon lattice in DFTK."
   ],
   "metadata": {}
  },
  {
   "outputs": [],
   "cell_type": "code",
   "source": [
    "using DFTK\n",
    "\n",
    "a = 10.263141334305942  # Lattice constant in Bohr\n",
    "lattice = a / 2 .* [[0 1 1.]; [1 0 1.]; [1 1 0.]]\n",
    "Si = ElementPsp(:Si, psp=load_psp(\"hgh/lda/Si-q4\"))\n",
    "atoms = [Si => [ones(3)/8, -ones(3)/8]];"
   ],
   "metadata": {},
   "execution_count": 1
  },
  {
   "cell_type": "markdown",
   "source": [
    "Next we make a `[2, 2, 2]` supercell using pymatgen"
   ],
   "metadata": {}
  },
  {
   "outputs": [],
   "cell_type": "code",
   "source": [
    "pystruct = pymatgen_structure(lattice, atoms)\n",
    "pystruct.make_supercell([2, 2, 2])\n",
    "lattice = load_lattice(pystruct)\n",
    "atoms = [Si => [s.frac_coords for s in pystruct.sites]];"
   ],
   "metadata": {},
   "execution_count": 2
  },
  {
   "cell_type": "markdown",
   "source": [
    "Setup an LDA model and discretize using\n",
    "a single kpoint and a small `Ecut` of 5 Hartree."
   ],
   "metadata": {}
  },
  {
   "outputs": [
    {
     "output_type": "execute_result",
     "data": {
      "text/plain": "PlaneWaveBasis (Ecut=5.0, 1 kpoints)"
     },
     "metadata": {},
     "execution_count": 3
    }
   ],
   "cell_type": "code",
   "source": [
    "model = model_LDA(lattice, atoms)\n",
    "basis = PlaneWaveBasis(model, 5, kgrid=(1, 1, 1))"
   ],
   "metadata": {},
   "execution_count": 3
  },
  {
   "cell_type": "markdown",
   "source": [
    "Find the ground state using direct minimisation (always using SCF is boring ...)"
   ],
   "metadata": {}
  },
  {
   "outputs": [
    {
     "name": "stdout",
     "output_type": "stream",
     "text": [
      "Iter     Function value   Gradient norm \n",
      "     0     1.118387e+02     1.690921e+00\n",
      " * time: 0.41190505027770996\n",
      "     1     1.157809e+01     8.566835e-01\n",
      " * time: 2.4014999866485596\n",
      "     2    -1.212195e+01     9.897637e-01\n",
      " * time: 3.155385971069336\n",
      "     3    -3.461552e+01     7.355064e-01\n",
      " * time: 4.259565114974976\n",
      "     4    -4.846742e+01     5.447242e-01\n",
      " * time: 5.362986087799072\n",
      "     5    -5.724080e+01     1.861844e-01\n",
      " * time: 6.458285093307495\n",
      "     6    -5.993453e+01     7.813146e-02\n",
      " * time: 7.170528173446655\n",
      "     7    -6.087450e+01     7.362736e-02\n",
      " * time: 7.873545169830322\n",
      "     8    -6.131396e+01     5.878579e-02\n",
      " * time: 8.574692010879517\n",
      "     9    -6.163072e+01     3.719785e-02\n",
      " * time: 9.281658172607422\n",
      "    10    -6.185066e+01     2.873163e-02\n",
      " * time: 9.994160175323486\n",
      "    11    -6.197161e+01     2.019939e-02\n",
      " * time: 10.758285999298096\n",
      "    12    -6.204377e+01     1.765688e-02\n",
      " * time: 11.51046109199524\n",
      "    13    -6.209419e+01     1.762655e-02\n",
      " * time: 12.219422101974487\n",
      "    14    -6.213473e+01     1.713012e-02\n",
      " * time: 12.996587038040161\n",
      "    15    -6.216460e+01     1.382793e-02\n",
      " * time: 13.70962405204773\n",
      "    16    -6.218593e+01     1.052525e-02\n",
      " * time: 14.421096086502075\n",
      "    17    -6.220127e+01     8.109258e-03\n",
      " * time: 15.141649961471558\n",
      "    18    -6.221314e+01     8.758603e-03\n",
      " * time: 15.869039058685303\n",
      "    19    -6.222258e+01     6.974558e-03\n",
      " * time: 16.573173999786377\n",
      "    20    -6.223024e+01     6.757900e-03\n",
      " * time: 17.280140161514282\n",
      "    21    -6.223751e+01     6.903410e-03\n",
      " * time: 17.978214979171753\n",
      "    22    -6.224427e+01     6.125932e-03\n",
      " * time: 18.690855026245117\n",
      "    23    -6.225029e+01     5.284860e-03\n",
      " * time: 19.413563013076782\n",
      "    24    -6.225475e+01     4.283143e-03\n",
      " * time: 20.14000105857849\n",
      "    25    -6.225744e+01     3.153371e-03\n",
      " * time: 20.871217012405396\n",
      "    26    -6.225907e+01     2.288758e-03\n",
      " * time: 21.653685092926025\n",
      "    27    -6.226001e+01     1.745028e-03\n",
      " * time: 22.39743399620056\n",
      "    28    -6.226053e+01     1.809157e-03\n",
      " * time: 23.127274990081787\n",
      "    29    -6.226088e+01     1.459095e-03\n",
      " * time: 23.845234155654907\n",
      "    30    -6.226114e+01     1.147310e-03\n",
      " * time: 24.613497972488403\n",
      "    31    -6.226133e+01     8.900223e-04\n",
      " * time: 25.342594146728516\n",
      "    32    -6.226146e+01     6.795101e-04\n",
      " * time: 26.087757110595703\n",
      "    33    -6.226155e+01     5.357818e-04\n",
      " * time: 26.874710083007812\n",
      "    34    -6.226161e+01     4.403201e-04\n",
      " * time: 27.67751407623291\n",
      "    35    -6.226164e+01     3.136729e-04\n",
      " * time: 28.446989059448242\n",
      "    36    -6.226165e+01     2.405984e-04\n",
      " * time: 29.260301113128662\n",
      "    37    -6.226166e+01     1.803188e-04\n",
      " * time: 30.047882080078125\n",
      "    38    -6.226166e+01     1.331127e-04\n",
      " * time: 30.76726198196411\n",
      "    39    -6.226166e+01     8.928596e-05\n",
      " * time: 31.516338109970093\n",
      "    40    -6.226166e+01     7.221759e-05\n",
      " * time: 32.27283000946045\n",
      "    41    -6.226167e+01     5.407567e-05\n",
      " * time: 33.0295569896698\n",
      "    42    -6.226167e+01     4.938681e-05\n",
      " * time: 33.74580717086792\n",
      "    43    -6.226167e+01     3.139592e-05\n",
      " * time: 34.53496599197388\n",
      "    44    -6.226167e+01     2.674216e-05\n",
      " * time: 35.3350031375885\n",
      "    45    -6.226167e+01     2.177999e-05\n",
      " * time: 36.07451415061951\n",
      "    46    -6.226167e+01     1.534756e-05\n",
      " * time: 36.805500984191895\n",
      "    47    -6.226167e+01     8.980411e-06\n",
      " * time: 37.53558397293091\n",
      "    48    -6.226167e+01     7.754343e-06\n",
      " * time: 38.28825616836548\n",
      "    49    -6.226167e+01     7.093919e-06\n",
      " * time: 39.036221981048584\n",
      "    50    -6.226167e+01     4.360726e-06\n",
      " * time: 39.75276207923889\n"
     ]
    }
   ],
   "cell_type": "code",
   "source": [
    "scfres = direct_minimization(basis, tol=1e-5);"
   ],
   "metadata": {},
   "execution_count": 4
  },
  {
   "outputs": [
    {
     "output_type": "execute_result",
     "data": {
      "text/plain": "Energy breakdown:\n    Kinetic             25.7671070\n    AtomicLocal         -18.8557723\n    AtomicNonlocal      14.8522685\n    Ewald               -67.1831486\n    PspCorrection       -2.3569765\n    Hartree             4.8485376 \n    Xc                  -19.3336821\n\n    total               -62.261666456923\n"
     },
     "metadata": {},
     "execution_count": 5
    }
   ],
   "cell_type": "code",
   "source": [
    "scfres.energies"
   ],
   "metadata": {},
   "execution_count": 5
  }
 ],
 "nbformat_minor": 3,
 "metadata": {
  "language_info": {
   "file_extension": ".jl",
   "mimetype": "application/julia",
   "name": "julia",
   "version": "1.5.3"
  },
  "kernelspec": {
   "name": "julia-1.5",
   "display_name": "Julia 1.5.3",
   "language": "julia"
  }
 },
 "nbformat": 4
}
