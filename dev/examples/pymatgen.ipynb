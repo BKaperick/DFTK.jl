{
 "cells": [
  {
   "cell_type": "markdown",
   "source": [
    "# Creating supercells with pymatgen\n",
    "\n",
    "The [Pymatgen](https://pymatgen.org/) python library allows to setup\n",
    "solid-state calculations using a flexible set of classes as well as an API\n",
    "to an online data base of structures. Its `Structure` and `Lattice`\n",
    "objects are directly supported by the DFTK `load_atoms` and `load_lattice`\n",
    "functions, such that DFTK may be readily used to run calculation on systems\n",
    "defined in pymatgen. Using the `pymatgen_structure` function a conversion\n",
    "from DFTK to pymatgen structures is also possible. In the following we\n",
    "use this to create a silicon supercell and find its LDA ground state\n",
    "using direct minimisation."
   ],
   "metadata": {}
  },
  {
   "cell_type": "markdown",
   "source": [
    "First we setup the silicon lattice in DFTK."
   ],
   "metadata": {}
  },
  {
   "outputs": [],
   "cell_type": "code",
   "source": [
    "using DFTK\n",
    "\n",
    "a = 10.263141334305942  # Lattice constant in Bohr\n",
    "lattice = a / 2 .* [[0 1 1.]; [1 0 1.]; [1 1 0.]]\n",
    "Si = ElementPsp(:Si, psp=load_psp(\"hgh/lda/Si-q4\"))\n",
    "atoms = [Si => [ones(3)/8, -ones(3)/8]];"
   ],
   "metadata": {},
   "execution_count": 1
  },
  {
   "cell_type": "markdown",
   "source": [
    "Next we make a `[2, 2, 2]` supercell using pymatgen"
   ],
   "metadata": {}
  },
  {
   "outputs": [],
   "cell_type": "code",
   "source": [
    "pystruct = pymatgen_structure(lattice, atoms)\n",
    "pystruct.make_supercell([2, 2, 2])\n",
    "lattice = load_lattice(pystruct)\n",
    "atoms = [Si => [s.frac_coords for s in pystruct.sites]];"
   ],
   "metadata": {},
   "execution_count": 2
  },
  {
   "cell_type": "markdown",
   "source": [
    "Setup an LDA model and discretize using\n",
    "a single kpoint and a small `Ecut` of 5 Hartree."
   ],
   "metadata": {}
  },
  {
   "outputs": [
    {
     "output_type": "execute_result",
     "data": {
      "text/plain": "PlaneWaveBasis (Ecut=5.0, 1 kpoints)"
     },
     "metadata": {},
     "execution_count": 3
    }
   ],
   "cell_type": "code",
   "source": [
    "model = model_LDA(lattice, atoms)\n",
    "basis = PlaneWaveBasis(model, 5, kgrid=(1, 1, 1))"
   ],
   "metadata": {},
   "execution_count": 3
  },
  {
   "cell_type": "markdown",
   "source": [
    "Find the ground state using direct minimisation (always using SCF is boring ...)"
   ],
   "metadata": {}
  },
  {
   "outputs": [
    {
     "name": "stdout",
     "output_type": "stream",
     "text": [
      "Iter     Function value   Gradient norm \n",
      "     0     1.118099e+02     1.642166e+00\n",
      " * time: 0.11246705055236816\n",
      "     1     1.074468e+01     8.590238e-01\n",
      " * time: 0.9155220985412598\n",
      "     2    -1.190454e+01     9.865872e-01\n",
      " * time: 1.0468580722808838\n",
      "     3    -3.455631e+01     7.578786e-01\n",
      " * time: 1.2141392230987549\n",
      "     4    -4.802883e+01     5.519512e-01\n",
      " * time: 1.3661251068115234\n",
      "     5    -5.707095e+01     1.985243e-01\n",
      " * time: 1.5077722072601318\n",
      "     6    -5.981826e+01     1.165031e-01\n",
      " * time: 1.621873140335083\n",
      "     7    -6.087506e+01     5.316547e-02\n",
      " * time: 1.7277112007141113\n",
      "     8    -6.128578e+01     6.341996e-02\n",
      " * time: 1.8398540019989014\n",
      "     9    -6.158668e+01     3.899764e-02\n",
      " * time: 1.9523930549621582\n",
      "    10    -6.181262e+01     3.423000e-02\n",
      " * time: 2.0586540699005127\n",
      "    11    -6.199566e+01     2.256229e-02\n",
      " * time: 2.1783711910247803\n",
      "    12    -6.206332e+01     1.737270e-02\n",
      " * time: 2.2921810150146484\n",
      "    13    -6.213241e+01     1.430989e-02\n",
      " * time: 2.398853063583374\n",
      "    14    -6.215983e+01     1.764095e-02\n",
      " * time: 2.514766216278076\n",
      "    15    -6.218480e+01     9.324100e-03\n",
      " * time: 2.62886118888855\n",
      "    16    -6.219608e+01     9.020108e-03\n",
      " * time: 2.735626220703125\n",
      "    17    -6.220375e+01     6.375325e-03\n",
      " * time: 2.8497371673583984\n",
      "    18    -6.220907e+01     6.170670e-03\n",
      " * time: 2.9632670879364014\n",
      "    19    -6.221347e+01     6.909079e-03\n",
      " * time: 3.070817232131958\n",
      "    20    -6.221802e+01     8.039717e-03\n",
      " * time: 3.1853110790252686\n",
      "    21    -6.222322e+01     7.842612e-03\n",
      " * time: 3.297638177871704\n",
      "    22    -6.222916e+01     7.043756e-03\n",
      " * time: 3.4082159996032715\n",
      "    23    -6.223564e+01     8.325780e-03\n",
      " * time: 3.5239241123199463\n",
      "    24    -6.224245e+01     8.348752e-03\n",
      " * time: 3.638439178466797\n",
      "    25    -6.224857e+01     7.061290e-03\n",
      " * time: 3.746467113494873\n",
      "    26    -6.225312e+01     4.892846e-03\n",
      " * time: 3.8606531620025635\n",
      "    27    -6.225626e+01     3.203094e-03\n",
      " * time: 3.9753870964050293\n",
      "    28    -6.225821e+01     2.463665e-03\n",
      " * time: 4.083474159240723\n",
      "    29    -6.225945e+01     2.051179e-03\n",
      " * time: 4.199817180633545\n",
      "    30    -6.226026e+01     1.871674e-03\n",
      " * time: 4.316026210784912\n",
      "    31    -6.226081e+01     1.810587e-03\n",
      " * time: 4.423335075378418\n",
      "    32    -6.226117e+01     1.166818e-03\n",
      " * time: 4.536531209945679\n",
      "    33    -6.226140e+01     7.655764e-04\n",
      " * time: 4.650323152542114\n",
      "    34    -6.226154e+01     5.592958e-04\n",
      " * time: 4.755785226821899\n",
      "    35    -6.226160e+01     4.757827e-04\n",
      " * time: 4.868404150009155\n",
      "    36    -6.226163e+01     3.490916e-04\n",
      " * time: 4.981086015701294\n",
      "    37    -6.226164e+01     2.216263e-04\n",
      " * time: 5.0872650146484375\n",
      "    38    -6.226165e+01     1.813076e-04\n",
      " * time: 5.200676202774048\n",
      "    39    -6.226166e+01     1.562354e-04\n",
      " * time: 5.314157009124756\n",
      "    40    -6.226166e+01     1.289756e-04\n",
      " * time: 5.421875\n",
      "    41    -6.226166e+01     1.052266e-04\n",
      " * time: 5.538165092468262\n",
      "    42    -6.226166e+01     7.584756e-05\n",
      " * time: 5.651557207107544\n",
      "    43    -6.226167e+01     5.004995e-05\n",
      " * time: 5.757601022720337\n",
      "    44    -6.226167e+01     5.174758e-05\n",
      " * time: 5.871440172195435\n",
      "    45    -6.226167e+01     3.271718e-05\n",
      " * time: 5.986274003982544\n",
      "    46    -6.226167e+01     3.041494e-05\n",
      " * time: 6.093738079071045\n",
      "    47    -6.226167e+01     1.664770e-05\n",
      " * time: 6.206628084182739\n",
      "    48    -6.226167e+01     1.072762e-05\n",
      " * time: 6.32046914100647\n",
      "    49    -6.226167e+01     7.758157e-06\n",
      " * time: 6.4274280071258545\n",
      "    50    -6.226167e+01     6.631608e-06\n",
      " * time: 6.5402162075042725\n",
      "    51    -6.226167e+01     5.443744e-06\n",
      " * time: 6.654243230819702\n",
      "    52    -6.226167e+01     4.974058e-06\n",
      " * time: 6.76040506362915\n",
      "    53    -6.226167e+01     3.888951e-06\n",
      " * time: 6.873847007751465\n",
      "    54    -6.226167e+01     3.542394e-06\n",
      " * time: 6.987969160079956\n"
     ]
    }
   ],
   "cell_type": "code",
   "source": [
    "scfres = direct_minimization(basis, tol=1e-5);"
   ],
   "metadata": {},
   "execution_count": 4
  },
  {
   "outputs": [
    {
     "output_type": "execute_result",
     "data": {
      "text/plain": "Energy breakdown:\n    Kinetic             25.7671077\n    AtomicLocal         -18.8557697\n    AtomicNonlocal      14.8522648\n    Ewald               -67.1831486\n    PspCorrection       -2.3569765\n    Hartree             4.8485384 \n    Xc                  -19.3336825\n\n    total               -62.261666458198\n"
     },
     "metadata": {},
     "execution_count": 5
    }
   ],
   "cell_type": "code",
   "source": [
    "scfres.energies"
   ],
   "metadata": {},
   "execution_count": 5
  }
 ],
 "nbformat_minor": 3,
 "metadata": {
  "language_info": {
   "file_extension": ".jl",
   "mimetype": "application/julia",
   "name": "julia",
   "version": "1.3.1"
  },
  "kernelspec": {
   "name": "julia-1.3",
   "display_name": "Julia 1.3.1",
   "language": "julia"
  }
 },
 "nbformat": 4
}
