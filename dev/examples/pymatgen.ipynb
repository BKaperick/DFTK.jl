{
 "cells": [
  {
   "cell_type": "markdown",
   "source": [
    "# Creating supercells with pymatgen\n",
    "\n",
    "The [Pymatgen](https://pymatgen.org/) python library allows to setup\n",
    "solid-state calculations using a flexible set of classes as well as an API\n",
    "to an online data base of structures. Its `Structure` and `Lattice`\n",
    "objects are directly supported by the DFTK `load_atoms` and `load_lattice`\n",
    "functions, such that DFTK may be readily used to run calculation on systems\n",
    "defined in pymatgen. Using the `pymatgen_structure` function a conversion\n",
    "from DFTK to pymatgen structures is also possible. In the following we\n",
    "use this to create a silicon supercell and find its LDA ground state\n",
    "using direct minimisation."
   ],
   "metadata": {}
  },
  {
   "cell_type": "markdown",
   "source": [
    "First we setup the silicon lattice in DFTK."
   ],
   "metadata": {}
  },
  {
   "outputs": [],
   "cell_type": "code",
   "source": [
    "using DFTK\n",
    "\n",
    "a = 10.263141334305942  # Lattice constant in Bohr\n",
    "lattice = a / 2 .* [[0 1 1.]; [1 0 1.]; [1 1 0.]]\n",
    "Si = ElementPsp(:Si, psp=load_psp(\"hgh/lda/Si-q4\"))\n",
    "atoms = [Si => [ones(3)/8, -ones(3)/8]];"
   ],
   "metadata": {},
   "execution_count": 1
  },
  {
   "cell_type": "markdown",
   "source": [
    "Next we make a `[2, 2, 2]` supercell using pymatgen"
   ],
   "metadata": {}
  },
  {
   "outputs": [],
   "cell_type": "code",
   "source": [
    "pystruct = pymatgen_structure(lattice, atoms)\n",
    "pystruct.make_supercell([2, 2, 2])\n",
    "lattice = load_lattice(pystruct)\n",
    "atoms = [Si => [s.frac_coords for s in pystruct.sites]];"
   ],
   "metadata": {},
   "execution_count": 2
  },
  {
   "cell_type": "markdown",
   "source": [
    "Setup an LDA model and discretize using\n",
    "a single kpoint and a small `Ecut` of 5 Hartree."
   ],
   "metadata": {}
  },
  {
   "outputs": [
    {
     "output_type": "execute_result",
     "data": {
      "text/plain": "PlaneWaveBasis (Ecut=5.0, 1 kpoints)"
     },
     "metadata": {},
     "execution_count": 3
    }
   ],
   "cell_type": "code",
   "source": [
    "model = model_LDA(lattice, atoms)\n",
    "basis = PlaneWaveBasis(model, 5, kgrid=(1, 1, 1))"
   ],
   "metadata": {},
   "execution_count": 3
  },
  {
   "cell_type": "markdown",
   "source": [
    "Find the ground state using direct minimisation (always using SCF is boring ...)"
   ],
   "metadata": {}
  },
  {
   "outputs": [
    {
     "name": "stdout",
     "output_type": "stream",
     "text": [
      "Iter     Function value   Gradient norm \n",
      "     0     1.123030e+02     1.486757e+00\n",
      " * time: 0.09415197372436523\n",
      "     1     1.179682e+01     9.216697e-01\n",
      " * time: 1.4299280643463135\n",
      "     2    -1.132875e+01     1.027030e+00\n",
      " * time: 1.5699858665466309\n",
      "     3    -3.360850e+01     7.421950e-01\n",
      " * time: 1.7445080280303955\n",
      "     4    -4.707207e+01     5.592409e-01\n",
      " * time: 1.9003610610961914\n",
      "     5    -5.670812e+01     2.325899e-01\n",
      " * time: 2.053025960922241\n",
      "     6    -5.971467e+01     1.550981e-01\n",
      " * time: 2.1631009578704834\n",
      "     7    -6.090929e+01     6.907517e-02\n",
      " * time: 2.282309055328369\n",
      "     8    -6.136620e+01     5.176941e-02\n",
      " * time: 2.4007949829101562\n",
      "     9    -6.162082e+01     5.266173e-02\n",
      " * time: 2.511492967605591\n",
      "    10    -6.182884e+01     2.734995e-02\n",
      " * time: 2.630743980407715\n",
      "    11    -6.196884e+01     2.164420e-02\n",
      " * time: 2.7533750534057617\n",
      "    12    -6.203799e+01     1.718940e-02\n",
      " * time: 2.8683559894561768\n",
      "    13    -6.208535e+01     1.419336e-02\n",
      " * time: 2.988445997238159\n",
      "    14    -6.211715e+01     1.429689e-02\n",
      " * time: 3.1025960445404053\n",
      "    15    -6.214017e+01     1.224837e-02\n",
      " * time: 3.2253990173339844\n",
      "    16    -6.215640e+01     9.951437e-03\n",
      " * time: 3.345668077468872\n",
      "    17    -6.216960e+01     8.063664e-03\n",
      " * time: 3.458185911178589\n",
      "    18    -6.218000e+01     7.071236e-03\n",
      " * time: 3.5777158737182617\n",
      "    19    -6.218782e+01     6.358645e-03\n",
      " * time: 3.6972899436950684\n",
      "    20    -6.219386e+01     5.582555e-03\n",
      " * time: 3.8107500076293945\n",
      "    21    -6.219921e+01     4.897614e-03\n",
      " * time: 3.9344089031219482\n",
      "    22    -6.220449e+01     5.474552e-03\n",
      " * time: 4.066634893417358\n",
      "    23    -6.220943e+01     4.990132e-03\n",
      " * time: 4.18797492980957\n",
      "    24    -6.221348e+01     4.652628e-03\n",
      " * time: 4.3121960163116455\n",
      "    25    -6.221648e+01     4.366149e-03\n",
      " * time: 4.425648927688599\n",
      "    26    -6.221899e+01     4.181652e-03\n",
      " * time: 4.54449987411499\n",
      "    27    -6.222136e+01     4.759729e-03\n",
      " * time: 4.6644439697265625\n",
      "    28    -6.222420e+01     5.298747e-03\n",
      " * time: 4.778970956802368\n",
      "    29    -6.222807e+01     5.030314e-03\n",
      " * time: 4.899293899536133\n",
      "    30    -6.223326e+01     6.784238e-03\n",
      " * time: 5.014019966125488\n",
      "    31    -6.224005e+01     7.418470e-03\n",
      " * time: 5.135309934616089\n",
      "    32    -6.224803e+01     7.134290e-03\n",
      " * time: 5.2607200145721436\n",
      "    33    -6.225306e+01     5.167331e-03\n",
      " * time: 5.376012086868286\n",
      "    34    -6.225704e+01     4.009215e-03\n",
      " * time: 5.502990961074829\n",
      "    35    -6.225904e+01     2.540198e-03\n",
      " * time: 5.627680063247681\n",
      "    36    -6.226023e+01     2.136940e-03\n",
      " * time: 5.746062994003296\n",
      "    37    -6.226083e+01     1.369391e-03\n",
      " * time: 5.8674399852752686\n",
      "    38    -6.226116e+01     9.822649e-04\n",
      " * time: 5.981896877288818\n",
      "    39    -6.226134e+01     6.490646e-04\n",
      " * time: 6.104115009307861\n",
      "    40    -6.226145e+01     5.908136e-04\n",
      " * time: 6.225971937179565\n",
      "    41    -6.226152e+01     5.928268e-04\n",
      " * time: 6.339228868484497\n",
      "    42    -6.226156e+01     5.456447e-04\n",
      " * time: 6.460130929946899\n",
      "    43    -6.226160e+01     4.289050e-04\n",
      " * time: 6.574802875518799\n",
      "    44    -6.226163e+01     3.023938e-04\n",
      " * time: 6.6979920864105225\n",
      "    45    -6.226165e+01     2.057196e-04\n",
      " * time: 6.8211469650268555\n",
      "    46    -6.226165e+01     1.692073e-04\n",
      " * time: 6.934467077255249\n",
      "    47    -6.226166e+01     1.724353e-04\n",
      " * time: 7.055168867111206\n",
      "    48    -6.226166e+01     9.106398e-05\n",
      " * time: 7.176814079284668\n",
      "    49    -6.226166e+01     5.045515e-05\n",
      " * time: 7.290920972824097\n",
      "    50    -6.226167e+01     5.345289e-05\n",
      " * time: 7.412477016448975\n",
      "    51    -6.226167e+01     5.149169e-05\n",
      " * time: 7.525702953338623\n",
      "    52    -6.226167e+01     3.941977e-05\n",
      " * time: 7.648248910903931\n",
      "    53    -6.226167e+01     3.678166e-05\n",
      " * time: 7.771668910980225\n",
      "    54    -6.226167e+01     2.239417e-05\n",
      " * time: 7.885621070861816\n",
      "    55    -6.226167e+01     1.714912e-05\n",
      " * time: 8.005737066268921\n",
      "    56    -6.226167e+01     1.237917e-05\n",
      " * time: 8.126255989074707\n",
      "    57    -6.226167e+01     9.926650e-06\n",
      " * time: 8.24221396446228\n",
      "    58    -6.226167e+01     7.441932e-06\n",
      " * time: 8.365566968917847\n",
      "    59    -6.226167e+01     5.446632e-06\n",
      " * time: 8.497586965560913\n"
     ]
    }
   ],
   "cell_type": "code",
   "source": [
    "scfres = direct_minimization(basis, tol=1e-5);"
   ],
   "metadata": {},
   "execution_count": 4
  },
  {
   "outputs": [
    {
     "output_type": "execute_result",
     "data": {
      "text/plain": "Energy breakdown:\n    Kinetic             25.7671085\n    AtomicLocal         -18.8557654\n    AtomicNonlocal      14.8522599\n    Ewald               -67.1831486\n    PspCorrection       -2.3569765\n    Hartree             4.8485382 \n    Xc                  -19.3336826\n\n    total               -62.261666454545\n"
     },
     "metadata": {},
     "execution_count": 5
    }
   ],
   "cell_type": "code",
   "source": [
    "scfres.energies"
   ],
   "metadata": {},
   "execution_count": 5
  }
 ],
 "nbformat_minor": 3,
 "metadata": {
  "language_info": {
   "file_extension": ".jl",
   "mimetype": "application/julia",
   "name": "julia",
   "version": "1.4.2"
  },
  "kernelspec": {
   "name": "julia-1.4",
   "display_name": "Julia 1.4.2",
   "language": "julia"
  }
 },
 "nbformat": 4
}
