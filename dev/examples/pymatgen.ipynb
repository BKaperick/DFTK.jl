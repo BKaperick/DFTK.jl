{
 "cells": [
  {
   "cell_type": "markdown",
   "source": [
    "# Creating supercells with pymatgen\n",
    "\n",
    "The [Pymatgen](https://pymatgen.org/) python library allows to setup\n",
    "solid-state calculations using a flexible set of classes as well as an API\n",
    "to an online data base of structures. Its `Structure` and `Lattice`\n",
    "objects are directly supported by the DFTK `load_atoms` and `load_lattice`\n",
    "functions, such that DFTK may be readily used to run calculation on systems\n",
    "defined in pymatgen. Using the `pymatgen_structure` function a conversion\n",
    "from DFTK to pymatgen structures is also possible. In the following we\n",
    "use this to create a silicon supercell and find its LDA ground state\n",
    "using direct minimisation."
   ],
   "metadata": {}
  },
  {
   "cell_type": "markdown",
   "source": [
    "First we setup the silicon lattice in DFTK."
   ],
   "metadata": {}
  },
  {
   "outputs": [],
   "cell_type": "code",
   "source": [
    "using DFTK\n",
    "\n",
    "a = 10.263141334305942  # Lattice constant in Bohr\n",
    "lattice = a / 2 .* [[0 1 1.]; [1 0 1.]; [1 1 0.]]\n",
    "Si = ElementPsp(:Si, psp=load_psp(\"hgh/lda/Si-q4\"))\n",
    "atoms = [Si => [ones(3)/8, -ones(3)/8]];"
   ],
   "metadata": {},
   "execution_count": 1
  },
  {
   "cell_type": "markdown",
   "source": [
    "Next we make a `[2, 2, 2]` supercell using pymatgen"
   ],
   "metadata": {}
  },
  {
   "outputs": [],
   "cell_type": "code",
   "source": [
    "pystruct = pymatgen_structure(lattice, atoms)\n",
    "pystruct.make_supercell([2, 2, 2])\n",
    "lattice = load_lattice(pystruct)\n",
    "atoms = [Si => [s.frac_coords for s in pystruct.sites]];"
   ],
   "metadata": {},
   "execution_count": 2
  },
  {
   "cell_type": "markdown",
   "source": [
    "Setup an LDA model and discretize using\n",
    "a single kpoint and a small `Ecut` of 5 Hartree."
   ],
   "metadata": {}
  },
  {
   "outputs": [
    {
     "output_type": "execute_result",
     "data": {
      "text/plain": "PlaneWaveBasis (Ecut=5.0, 1 kpoints)"
     },
     "metadata": {},
     "execution_count": 3
    }
   ],
   "cell_type": "code",
   "source": [
    "model = model_LDA(lattice, atoms)\n",
    "basis = PlaneWaveBasis(model, 5, kgrid=(1, 1, 1))"
   ],
   "metadata": {},
   "execution_count": 3
  },
  {
   "cell_type": "markdown",
   "source": [
    "Find the ground state using direct minimisation (always using SCF is boring ...)"
   ],
   "metadata": {}
  },
  {
   "outputs": [
    {
     "name": "stdout",
     "output_type": "stream",
     "text": [
      "Iter     Function value   Gradient norm \n",
      "     0     1.117760e+02     1.752143e+00\n",
      " * time: 0.08879995346069336\n",
      "     1     1.127012e+01     9.010206e-01\n",
      " * time: 1.2960319519042969\n",
      "     2    -1.168907e+01     1.035015e+00\n",
      " * time: 1.4277348518371582\n",
      "     3    -3.391287e+01     7.937160e-01\n",
      " * time: 1.5887279510498047\n",
      "     4    -4.748170e+01     5.294693e-01\n",
      " * time: 1.7372148036956787\n",
      "     5    -5.687262e+01     2.031639e-01\n",
      " * time: 1.8709847927093506\n",
      "     6    -5.982740e+01     1.362444e-01\n",
      " * time: 1.9846489429473877\n",
      "     7    -6.098900e+01     5.330095e-02\n",
      " * time: 2.1105737686157227\n",
      "     8    -6.144817e+01     4.543621e-02\n",
      " * time: 2.2239789962768555\n",
      "     9    -6.167400e+01     4.344837e-02\n",
      " * time: 2.3315367698669434\n",
      "    10    -6.185840e+01     2.655818e-02\n",
      " * time: 2.444506883621216\n",
      "    11    -6.198231e+01     2.265142e-02\n",
      " * time: 2.551302909851074\n",
      "    12    -6.204929e+01     1.726648e-02\n",
      " * time: 2.6648008823394775\n",
      "    13    -6.209322e+01     1.383604e-02\n",
      " * time: 2.7694168090820312\n",
      "    14    -6.212553e+01     1.404022e-02\n",
      " * time: 2.881243944168091\n",
      "    15    -6.214567e+01     1.239502e-02\n",
      " * time: 2.9858148097991943\n",
      "    16    -6.215978e+01     1.202227e-02\n",
      " * time: 3.0990078449249268\n",
      "    17    -6.217073e+01     9.053781e-03\n",
      " * time: 3.2037808895111084\n",
      "    18    -6.218021e+01     7.900665e-03\n",
      " * time: 3.3157999515533447\n",
      "    19    -6.218803e+01     7.536940e-03\n",
      " * time: 3.4205617904663086\n",
      "    20    -6.219530e+01     6.938866e-03\n",
      " * time: 3.5334057807922363\n",
      "    21    -6.220265e+01     7.082710e-03\n",
      " * time: 3.638983964920044\n",
      "    22    -6.221030e+01     7.085521e-03\n",
      " * time: 3.7508199214935303\n",
      "    23    -6.221836e+01     7.001828e-03\n",
      " * time: 3.855247974395752\n",
      "    24    -6.222606e+01     6.279571e-03\n",
      " * time: 3.967150926589966\n",
      "    25    -6.223297e+01     5.570259e-03\n",
      " * time: 4.071600914001465\n",
      "    26    -6.223888e+01     5.429515e-03\n",
      " * time: 4.185764789581299\n",
      "    27    -6.224397e+01     4.763109e-03\n",
      " * time: 4.291466951370239\n",
      "    28    -6.224847e+01     4.561410e-03\n",
      " * time: 4.404764890670776\n",
      "    29    -6.225245e+01     3.813933e-03\n",
      " * time: 4.510786771774292\n",
      "    30    -6.225563e+01     3.865774e-03\n",
      " * time: 4.626266956329346\n",
      "    31    -6.225791e+01     3.559840e-03\n",
      " * time: 4.743524789810181\n",
      "    32    -6.225949e+01     2.471154e-03\n",
      " * time: 4.868497848510742\n",
      "    33    -6.226050e+01     1.668324e-03\n",
      " * time: 4.9732959270477295\n",
      "    34    -6.226109e+01     1.149674e-03\n",
      " * time: 5.085968971252441\n",
      "    35    -6.226137e+01     1.024368e-03\n",
      " * time: 5.191319942474365\n",
      "    36    -6.226149e+01     6.086532e-04\n",
      " * time: 5.30418586730957\n",
      "    37    -6.226156e+01     6.034345e-04\n",
      " * time: 5.408921003341675\n",
      "    38    -6.226159e+01     3.724747e-04\n",
      " * time: 5.521623849868774\n",
      "    39    -6.226162e+01     3.306700e-04\n",
      " * time: 5.627272844314575\n",
      "    40    -6.226163e+01     3.089771e-04\n",
      " * time: 5.739585876464844\n",
      "    41    -6.226164e+01     2.484478e-04\n",
      " * time: 5.8442888259887695\n",
      "    42    -6.226165e+01     1.947408e-04\n",
      " * time: 5.955686807632446\n",
      "    43    -6.226166e+01     1.130931e-04\n",
      " * time: 6.061083793640137\n",
      "    44    -6.226166e+01     1.130528e-04\n",
      " * time: 6.174067974090576\n",
      "    45    -6.226166e+01     8.353842e-05\n",
      " * time: 6.278514862060547\n",
      "    46    -6.226167e+01     4.347977e-05\n",
      " * time: 6.3914079666137695\n",
      "    47    -6.226167e+01     3.407552e-05\n",
      " * time: 6.4965620040893555\n",
      "    48    -6.226167e+01     2.577888e-05\n",
      " * time: 6.611727952957153\n",
      "    49    -6.226167e+01     1.814555e-05\n",
      " * time: 6.71692681312561\n",
      "    50    -6.226167e+01     1.756229e-05\n",
      " * time: 6.852388858795166\n",
      "    51    -6.226167e+01     1.381565e-05\n",
      " * time: 6.958486795425415\n",
      "    52    -6.226167e+01     1.174171e-05\n",
      " * time: 7.072431802749634\n",
      "    53    -6.226167e+01     8.522951e-06\n",
      " * time: 7.179203987121582\n",
      "    54    -6.226167e+01     6.278915e-06\n",
      " * time: 7.294341802597046\n",
      "    55    -6.226167e+01     5.461349e-06\n",
      " * time: 7.401156902313232\n",
      "    56    -6.226167e+01     3.649071e-06\n",
      " * time: 7.528873920440674\n",
      "    57    -6.226167e+01     2.400192e-06\n",
      " * time: 7.641782999038696\n"
     ]
    }
   ],
   "cell_type": "code",
   "source": [
    "scfres = direct_minimization(basis, tol=1e-5);"
   ],
   "metadata": {},
   "execution_count": 4
  },
  {
   "outputs": [
    {
     "output_type": "execute_result",
     "data": {
      "text/plain": "Energy breakdown:\n    Kinetic             25.7671070\n    AtomicLocal         -18.8557647\n    AtomicNonlocal      14.8522616\n    Ewald               -67.1831486\n    PspCorrection       -2.3569765\n    Hartree             4.8485368 \n    Xc                  -19.3336819\n\n    total               -62.261666461254\n"
     },
     "metadata": {},
     "execution_count": 5
    }
   ],
   "cell_type": "code",
   "source": [
    "scfres.energies"
   ],
   "metadata": {},
   "execution_count": 5
  }
 ],
 "nbformat_minor": 3,
 "metadata": {
  "language_info": {
   "file_extension": ".jl",
   "mimetype": "application/julia",
   "name": "julia",
   "version": "1.4.2"
  },
  "kernelspec": {
   "name": "julia-1.4",
   "display_name": "Julia 1.4.2",
   "language": "julia"
  }
 },
 "nbformat": 4
}
