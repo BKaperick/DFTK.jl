{
 "cells": [
  {
   "cell_type": "markdown",
   "source": [
    "# Creating supercells with pymatgen\n",
    "\n",
    "The [Pymatgen](https://pymatgen.org/) python library allows to setup\n",
    "solid-state calculations using a flexible set of classes as well as an API\n",
    "to an online data base of structures. Its `Structure` and `Lattice`\n",
    "objects are directly supported by the DFTK `load_atoms` and `load_lattice`\n",
    "functions, such that DFTK may be readily used to run calculation on systems\n",
    "defined in pymatgen. Using the `pymatgen_structure` function a conversion\n",
    "from DFTK to pymatgen structures is also possible. In the following we\n",
    "use this to create a silicon supercell and find its LDA ground state\n",
    "using direct minimisation."
   ],
   "metadata": {}
  },
  {
   "cell_type": "markdown",
   "source": [
    "First we setup the silicon lattice in DFTK."
   ],
   "metadata": {}
  },
  {
   "outputs": [],
   "cell_type": "code",
   "source": [
    "using DFTK\n",
    "\n",
    "a = 10.263141334305942  # Lattice constant in Bohr\n",
    "lattice = a / 2 .* [[0 1 1.]; [1 0 1.]; [1 1 0.]]\n",
    "Si = ElementPsp(:Si, psp=load_psp(\"hgh/lda/Si-q4\"))\n",
    "atoms = [Si => [ones(3)/8, -ones(3)/8]];"
   ],
   "metadata": {},
   "execution_count": 1
  },
  {
   "cell_type": "markdown",
   "source": [
    "Next we make a `[2, 2, 2]` supercell using pymatgen"
   ],
   "metadata": {}
  },
  {
   "outputs": [],
   "cell_type": "code",
   "source": [
    "pystruct = pymatgen_structure(lattice, atoms)\n",
    "pystruct.make_supercell([2, 2, 2])\n",
    "lattice = load_lattice(pystruct)\n",
    "atoms = [Si => [s.frac_coords for s in pystruct.sites]];"
   ],
   "metadata": {},
   "execution_count": 2
  },
  {
   "cell_type": "markdown",
   "source": [
    "Setup an LDA model and discretize using\n",
    "a single kpoint and a small `Ecut` of 5 Hartree.\n",
    "Notice that `PlaneWaveBasis` defaults to just using the ``Γ``-point\n",
    "if no ``k``-point options are provided."
   ],
   "metadata": {}
  },
  {
   "outputs": [
    {
     "output_type": "execute_result",
     "data": {
      "text/plain": "PlaneWaveBasis (Ecut=5.0, 1 kpoints)"
     },
     "metadata": {},
     "execution_count": 3
    }
   ],
   "cell_type": "code",
   "source": [
    "model = model_LDA(lattice, atoms)\n",
    "basis = PlaneWaveBasis(model, 5)"
   ],
   "metadata": {},
   "execution_count": 3
  },
  {
   "cell_type": "markdown",
   "source": [
    "Find the ground state using direct minimisation (always using SCF is boring ...)"
   ],
   "metadata": {}
  },
  {
   "outputs": [
    {
     "name": "stdout",
     "output_type": "stream",
     "text": [
      "Iter     Function value   Gradient norm \n",
      "     0     1.115179e+02     1.716351e+00\n",
      " * time: 0.08841800689697266\n",
      "     1     1.009936e+01     1.008122e+00\n",
      " * time: 0.9646458625793457\n",
      "     2    -1.182187e+01     1.115594e+00\n",
      " * time: 1.1079699993133545\n",
      "     3    -3.404592e+01     9.234779e-01\n",
      " * time: 1.2557790279388428\n",
      "     4    -4.741256e+01     6.969890e-01\n",
      " * time: 1.3903608322143555\n",
      "     5    -5.684468e+01     2.642941e-01\n",
      " * time: 1.532270908355713\n",
      "     6    -5.963077e+01     1.907678e-01\n",
      " * time: 1.6446399688720703\n",
      "     7    -6.077207e+01     7.092645e-02\n",
      " * time: 1.7575969696044922\n",
      "     8    -6.129573e+01     4.908872e-02\n",
      " * time: 1.8621678352355957\n",
      "     9    -6.160735e+01     3.688814e-02\n",
      " * time: 1.9752588272094727\n",
      "    10    -6.177529e+01     3.127654e-02\n",
      " * time: 2.0893189907073975\n",
      "    11    -6.193558e+01     2.545849e-02\n",
      " * time: 2.196645975112915\n",
      "    12    -6.203111e+01     1.715021e-02\n",
      " * time: 2.310851812362671\n",
      "    13    -6.208508e+01     1.542355e-02\n",
      " * time: 2.4244589805603027\n",
      "    14    -6.213488e+01     1.577960e-02\n",
      " * time: 2.531038999557495\n",
      "    15    -6.215960e+01     1.284642e-02\n",
      " * time: 2.6471059322357178\n",
      "    16    -6.217758e+01     8.531640e-03\n",
      " * time: 2.778317928314209\n",
      "    17    -6.218821e+01     6.350737e-03\n",
      " * time: 2.8846449851989746\n",
      "    18    -6.219627e+01     7.564032e-03\n",
      " * time: 2.998619794845581\n",
      "    19    -6.220198e+01     7.957489e-03\n",
      " * time: 3.105822801589966\n",
      "    20    -6.220698e+01     7.787309e-03\n",
      " * time: 3.220179796218872\n",
      "    21    -6.221202e+01     7.630382e-03\n",
      " * time: 3.3334670066833496\n",
      "    22    -6.221750e+01     8.343406e-03\n",
      " * time: 3.440929889678955\n",
      "    23    -6.222361e+01     8.678438e-03\n",
      " * time: 3.5558788776397705\n",
      "    24    -6.222993e+01     7.455797e-03\n",
      " * time: 3.671705961227417\n",
      "    25    -6.223637e+01     6.813334e-03\n",
      " * time: 3.780557870864868\n",
      "    26    -6.224272e+01     6.280913e-03\n",
      " * time: 3.8951590061187744\n",
      "    27    -6.224841e+01     5.183315e-03\n",
      " * time: 4.009063959121704\n",
      "    28    -6.225296e+01     4.034647e-03\n",
      " * time: 4.117762804031372\n",
      "    29    -6.225620e+01     4.539719e-03\n",
      " * time: 4.231832981109619\n",
      "    30    -6.225846e+01     2.833822e-03\n",
      " * time: 4.345610857009888\n",
      "    31    -6.225986e+01     2.185972e-03\n",
      " * time: 4.451915979385376\n",
      "    32    -6.226063e+01     1.654095e-03\n",
      " * time: 4.564759016036987\n",
      "    33    -6.226106e+01     1.391041e-03\n",
      " * time: 4.678708791732788\n",
      "    34    -6.226133e+01     9.792659e-04\n",
      " * time: 4.785431861877441\n",
      "    35    -6.226147e+01     8.566236e-04\n",
      " * time: 4.898849010467529\n",
      "    36    -6.226154e+01     7.349067e-04\n",
      " * time: 5.005846977233887\n",
      "    37    -6.226158e+01     6.321335e-04\n",
      " * time: 5.119504928588867\n",
      "    38    -6.226161e+01     5.330140e-04\n",
      " * time: 5.2331438064575195\n",
      "    39    -6.226163e+01     4.364090e-04\n",
      " * time: 5.338557004928589\n",
      "    40    -6.226164e+01     2.964130e-04\n",
      " * time: 5.451900005340576\n",
      "    41    -6.226165e+01     1.852212e-04\n",
      " * time: 5.564096927642822\n",
      "    42    -6.226166e+01     1.606831e-04\n",
      " * time: 5.670199871063232\n",
      "    43    -6.226166e+01     1.408482e-04\n",
      " * time: 5.784142971038818\n",
      "    44    -6.226166e+01     7.782442e-05\n",
      " * time: 5.898252010345459\n",
      "    45    -6.226167e+01     4.980196e-05\n",
      " * time: 6.005121946334839\n",
      "    46    -6.226167e+01     3.758953e-05\n",
      " * time: 6.121264934539795\n",
      "    47    -6.226167e+01     2.702502e-05\n",
      " * time: 6.253377914428711\n",
      "    48    -6.226167e+01     2.010765e-05\n",
      " * time: 6.3590497970581055\n",
      "    49    -6.226167e+01     1.632105e-05\n",
      " * time: 6.472445964813232\n",
      "    50    -6.226167e+01     1.343911e-05\n",
      " * time: 6.578560829162598\n",
      "    51    -6.226167e+01     1.010493e-05\n",
      " * time: 6.691773891448975\n",
      "    52    -6.226167e+01     8.720802e-06\n",
      " * time: 6.804487943649292\n",
      "    53    -6.226167e+01     7.391407e-06\n",
      " * time: 6.909198999404907\n",
      "    54    -6.226167e+01     6.056600e-06\n",
      " * time: 7.0225629806518555\n",
      "    55    -6.226167e+01     4.917411e-06\n",
      " * time: 7.135723829269409\n",
      "    56    -6.226167e+01     4.210376e-06\n",
      " * time: 7.2424399852752686\n",
      "    57    -6.226167e+01     2.353083e-06\n",
      " * time: 7.35391092300415\n"
     ]
    }
   ],
   "cell_type": "code",
   "source": [
    "scfres = direct_minimization(basis, tol=1e-5);"
   ],
   "metadata": {},
   "execution_count": 4
  },
  {
   "outputs": [
    {
     "output_type": "execute_result",
     "data": {
      "text/plain": "Energy breakdown:\n    Kinetic             25.7671067\n    AtomicLocal         -18.8557685\n    AtomicNonlocal      14.8522654\n    Ewald               -67.1831486\n    PspCorrection       -2.3569765\n    Hartree             4.8485372 \n    Xc                  -19.3336820\n\n    total               -62.261666461345\n"
     },
     "metadata": {},
     "execution_count": 5
    }
   ],
   "cell_type": "code",
   "source": [
    "scfres.energies"
   ],
   "metadata": {},
   "execution_count": 5
  }
 ],
 "nbformat_minor": 3,
 "metadata": {
  "language_info": {
   "file_extension": ".jl",
   "mimetype": "application/julia",
   "name": "julia",
   "version": "1.3.1"
  },
  "kernelspec": {
   "name": "julia-1.3",
   "display_name": "Julia 1.3.1",
   "language": "julia"
  }
 },
 "nbformat": 4
}
