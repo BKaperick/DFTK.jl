{
 "cells": [
  {
   "cell_type": "markdown",
   "source": [
    "# Creating supercells with pymatgen\n",
    "\n",
    "The [Pymatgen](https://pymatgen.org/) python library allows to setup\n",
    "solid-state calculations using a flexible set of classes as well as an API\n",
    "to an online data base of structures. Its `Structure` and `Lattice`\n",
    "objects are directly supported by the DFTK `load_atoms` and `load_lattice`\n",
    "functions, such that DFTK may be readily used to run calculation on systems\n",
    "defined in pymatgen. Using the `pymatgen_structure` function a conversion\n",
    "from DFTK to pymatgen structures is also possible. In the following we\n",
    "use this to create a silicon supercell and find its LDA ground state\n",
    "using direct minimisation."
   ],
   "metadata": {}
  },
  {
   "cell_type": "markdown",
   "source": [
    "First we setup the silicon lattice in DFTK."
   ],
   "metadata": {}
  },
  {
   "outputs": [],
   "cell_type": "code",
   "source": [
    "using DFTK\n",
    "\n",
    "a = 10.263141334305942  # Lattice constant in Bohr\n",
    "lattice = a / 2 .* [[0 1 1.]; [1 0 1.]; [1 1 0.]]\n",
    "Si = ElementPsp(:Si, psp=load_psp(\"hgh/lda/Si-q4\"))\n",
    "atoms = [Si => [ones(3)/8, -ones(3)/8]];"
   ],
   "metadata": {},
   "execution_count": 1
  },
  {
   "cell_type": "markdown",
   "source": [
    "Next we make a `[2, 2, 2]` supercell using pymatgen"
   ],
   "metadata": {}
  },
  {
   "outputs": [],
   "cell_type": "code",
   "source": [
    "pystruct = pymatgen_structure(lattice, atoms)\n",
    "pystruct.make_supercell([2, 2, 2])\n",
    "lattice = load_lattice(pystruct)\n",
    "atoms = [Si => [s.frac_coords for s in pystruct.sites]];"
   ],
   "metadata": {},
   "execution_count": 2
  },
  {
   "cell_type": "markdown",
   "source": [
    "Setup an LDA model and discretize using\n",
    "a single kpoint and a small `Ecut` of 5 Hartree."
   ],
   "metadata": {}
  },
  {
   "outputs": [
    {
     "output_type": "execute_result",
     "data": {
      "text/plain": "PlaneWaveBasis (Ecut=5.0, 1 kpoints)"
     },
     "metadata": {},
     "execution_count": 3
    }
   ],
   "cell_type": "code",
   "source": [
    "model = model_LDA(lattice, atoms)\n",
    "basis = PlaneWaveBasis(model, 5, kgrid=(1, 1, 1))"
   ],
   "metadata": {},
   "execution_count": 3
  },
  {
   "cell_type": "markdown",
   "source": [
    "Find the ground state using direct minimisation (always using SCF is boring ...)"
   ],
   "metadata": {}
  },
  {
   "outputs": [
    {
     "name": "stdout",
     "output_type": "stream",
     "text": [
      "Iter     Function value   Gradient norm \n",
      "     0     1.119121e+02     1.688845e+00\n",
      " * time: 0.3056619167327881\n",
      "     1     1.075448e+01     9.780084e-01\n",
      " * time: 1.8552899360656738\n",
      "     2    -1.157903e+01     1.095306e+00\n",
      " * time: 2.434138059616089\n",
      "     3    -3.387834e+01     9.313897e-01\n",
      " * time: 3.2530999183654785\n",
      "     4    -4.713904e+01     6.718415e-01\n",
      " * time: 4.0829918384552\n",
      "     5    -5.680061e+01     2.350472e-01\n",
      " * time: 4.910333871841431\n",
      "     6    -5.979454e+01     1.564275e-01\n",
      " * time: 5.461943864822388\n",
      "     7    -6.092355e+01     4.648917e-02\n",
      " * time: 6.012775897979736\n",
      "     8    -6.133581e+01     5.867481e-02\n",
      " * time: 6.571156024932861\n",
      "     9    -6.158186e+01     3.525859e-02\n",
      " * time: 7.122318983078003\n",
      "    10    -6.179908e+01     2.944372e-02\n",
      " * time: 7.674383878707886\n",
      "    11    -6.197048e+01     2.856620e-02\n",
      " * time: 8.230557918548584\n",
      "    12    -6.204796e+01     2.069395e-02\n",
      " * time: 8.78136396408081\n",
      "    13    -6.211820e+01     1.554680e-02\n",
      " * time: 9.332489013671875\n",
      "    14    -6.215560e+01     1.341162e-02\n",
      " * time: 9.898690938949585\n",
      "    15    -6.218737e+01     1.119707e-02\n",
      " * time: 10.449720859527588\n",
      "    16    -6.220513e+01     1.032574e-02\n",
      " * time: 11.003891944885254\n",
      "    17    -6.221765e+01     6.527352e-03\n",
      " * time: 11.555078983306885\n",
      "    18    -6.222681e+01     5.919033e-03\n",
      " * time: 12.110594987869263\n",
      "    19    -6.223393e+01     6.418257e-03\n",
      " * time: 12.660974025726318\n",
      "    20    -6.223995e+01     6.657570e-03\n",
      " * time: 13.212154865264893\n",
      "    21    -6.224574e+01     5.628634e-03\n",
      " * time: 13.767469882965088\n",
      "    22    -6.225127e+01     4.907360e-03\n",
      " * time: 14.317889928817749\n",
      "    23    -6.225579e+01     3.431729e-03\n",
      " * time: 14.868633031845093\n",
      "    24    -6.225842e+01     2.812682e-03\n",
      " * time: 15.41965103149414\n",
      "    25    -6.225983e+01     2.207668e-03\n",
      " * time: 15.974261045455933\n",
      "    26    -6.226053e+01     1.586677e-03\n",
      " * time: 16.52509593963623\n",
      "    27    -6.226091e+01     1.195803e-03\n",
      " * time: 17.075706958770752\n",
      "    28    -6.226115e+01     1.304852e-03\n",
      " * time: 17.631190061569214\n",
      "    29    -6.226132e+01     9.278911e-04\n",
      " * time: 18.182148933410645\n",
      "    30    -6.226144e+01     7.393159e-04\n",
      " * time: 18.73264503479004\n",
      "    31    -6.226153e+01     6.011979e-04\n",
      " * time: 19.289288997650146\n",
      "    32    -6.226158e+01     4.344067e-04\n",
      " * time: 19.83976101875305\n",
      "    33    -6.226162e+01     2.937424e-04\n",
      " * time: 20.392542839050293\n",
      "    34    -6.226164e+01     2.451115e-04\n",
      " * time: 20.9526150226593\n",
      "    35    -6.226166e+01     1.955621e-04\n",
      " * time: 21.51133394241333\n",
      "    36    -6.226166e+01     1.268503e-04\n",
      " * time: 22.061555862426758\n",
      "    37    -6.226166e+01     9.483787e-05\n",
      " * time: 22.613525867462158\n",
      "    38    -6.226166e+01     6.725317e-05\n",
      " * time: 23.1712429523468\n",
      "    39    -6.226167e+01     4.604635e-05\n",
      " * time: 23.722092866897583\n",
      "    40    -6.226167e+01     4.110226e-05\n",
      " * time: 24.27287006378174\n",
      "    41    -6.226167e+01     3.818177e-05\n",
      " * time: 24.823328018188477\n",
      "    42    -6.226167e+01     2.798286e-05\n",
      " * time: 25.378394842147827\n",
      "    43    -6.226167e+01     2.262201e-05\n",
      " * time: 25.928523063659668\n",
      "    44    -6.226167e+01     1.624687e-05\n",
      " * time: 26.479702949523926\n",
      "    45    -6.226167e+01     1.186782e-05\n",
      " * time: 27.036038875579834\n",
      "    46    -6.226167e+01     8.439767e-06\n",
      " * time: 27.5864200592041\n",
      "    47    -6.226167e+01     5.779195e-06\n",
      " * time: 28.136682987213135\n",
      "    48    -6.226167e+01     4.034318e-06\n",
      " * time: 28.693469047546387\n",
      "    49    -6.226167e+01     3.531681e-06\n",
      " * time: 29.24436902999878\n"
     ]
    }
   ],
   "cell_type": "code",
   "source": [
    "scfres = direct_minimization(basis, tol=1e-5);"
   ],
   "metadata": {},
   "execution_count": 4
  },
  {
   "outputs": [
    {
     "output_type": "execute_result",
     "data": {
      "text/plain": "Energy breakdown:\n    Kinetic             25.7671067\n    AtomicLocal         -18.8557699\n    AtomicNonlocal      14.8522667\n    Ewald               -67.1831486\n    PspCorrection       -2.3569765\n    Hartree             4.8485373 \n    Xc                  -19.3336820\n\n    total               -62.261666458088\n"
     },
     "metadata": {},
     "execution_count": 5
    }
   ],
   "cell_type": "code",
   "source": [
    "scfres.energies"
   ],
   "metadata": {},
   "execution_count": 5
  }
 ],
 "nbformat_minor": 3,
 "metadata": {
  "language_info": {
   "file_extension": ".jl",
   "mimetype": "application/julia",
   "name": "julia",
   "version": "1.5.3"
  },
  "kernelspec": {
   "name": "julia-1.5",
   "display_name": "Julia 1.5.3",
   "language": "julia"
  }
 },
 "nbformat": 4
}
