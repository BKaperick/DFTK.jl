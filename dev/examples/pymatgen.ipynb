{
 "cells": [
  {
   "cell_type": "markdown",
   "source": [
    "# Creating supercells with pymatgen\n",
    "\n",
    "The [Pymatgen](https://pymatgen.org/) python library allows to setup\n",
    "solid-state calculations using a flexible set of classes as well as an API\n",
    "to an online data base of structures. Its `Structure` and `Lattice`\n",
    "objects are directly supported by the DFTK `load_atoms` and `load_lattice`\n",
    "functions, such that DFTK may be readily used to run calculation on systems\n",
    "defined in pymatgen. Using the `pymatgen_structure` function a conversion\n",
    "from DFTK to pymatgen structures is also possible. In the following we\n",
    "use this to create a silicon supercell and find its LDA ground state\n",
    "using direct minimisation."
   ],
   "metadata": {}
  },
  {
   "cell_type": "markdown",
   "source": [
    "First we setup the silicon lattice in DFTK."
   ],
   "metadata": {}
  },
  {
   "outputs": [],
   "cell_type": "code",
   "source": [
    "using DFTK\n",
    "\n",
    "a = 10.263141334305942  # Lattice constant in Bohr\n",
    "lattice = a / 2 .* [[0 1 1.]; [1 0 1.]; [1 1 0.]]\n",
    "Si = ElementPsp(:Si, psp=load_psp(\"hgh/lda/Si-q4\"))\n",
    "atoms = [Si => [ones(3)/8, -ones(3)/8]];"
   ],
   "metadata": {},
   "execution_count": 1
  },
  {
   "cell_type": "markdown",
   "source": [
    "Next we make a `[2, 2, 2]` supercell using pymatgen"
   ],
   "metadata": {}
  },
  {
   "outputs": [],
   "cell_type": "code",
   "source": [
    "pystruct = pymatgen_structure(lattice, atoms)\n",
    "pystruct.make_supercell([2, 2, 2])\n",
    "lattice = load_lattice(pystruct)\n",
    "atoms = [Si => [s.frac_coords for s in pystruct.sites]];"
   ],
   "metadata": {},
   "execution_count": 2
  },
  {
   "cell_type": "markdown",
   "source": [
    "Setup an LDA model and discretize using\n",
    "a single kpoint and a small `Ecut` of 5 Hartree.\n",
    "Notice that `PlaneWaveBasis` defaults to just using the ``Γ``-point\n",
    "if no ``k``-point options are provided."
   ],
   "metadata": {}
  },
  {
   "outputs": [
    {
     "output_type": "execute_result",
     "data": {
      "text/plain": "PlaneWaveBasis (Ecut=5.0, 1 kpoints)"
     },
     "metadata": {},
     "execution_count": 3
    }
   ],
   "cell_type": "code",
   "source": [
    "model = model_LDA(lattice, atoms)\n",
    "basis = PlaneWaveBasis(model, 5)"
   ],
   "metadata": {},
   "execution_count": 3
  },
  {
   "cell_type": "markdown",
   "source": [
    "Find the ground state using direct minimisation (always using SCF is boring ...)"
   ],
   "metadata": {}
  },
  {
   "outputs": [
    {
     "name": "stdout",
     "output_type": "stream",
     "text": [
      "Iter     Function value   Gradient norm \n",
      "     0     1.111458e+02     1.602309e+00\n",
      " * time: 0.08865690231323242\n",
      "     1     1.032370e+01     9.013000e-01\n",
      " * time: 0.9211039543151855\n",
      "     2    -1.180597e+01     9.773257e-01\n",
      " * time: 1.0743300914764404\n",
      "     3    -3.423391e+01     7.632150e-01\n",
      " * time: 1.2201869487762451\n",
      "     4    -4.767034e+01     5.998520e-01\n",
      " * time: 1.3742458820343018\n",
      "     5    -5.705835e+01     1.912968e-01\n",
      " * time: 1.5231659412384033\n",
      "     6    -5.990912e+01     1.494964e-01\n",
      " * time: 1.6292619705200195\n",
      "     7    -6.098549e+01     4.752778e-02\n",
      " * time: 1.7438631057739258\n",
      "     8    -6.140449e+01     5.359633e-02\n",
      " * time: 1.8516108989715576\n",
      "     9    -6.164689e+01     5.284728e-02\n",
      " * time: 1.9659419059753418\n",
      "    10    -6.184497e+01     2.724058e-02\n",
      " * time: 2.0766921043395996\n",
      "    11    -6.198460e+01     1.989916e-02\n",
      " * time: 2.1923530101776123\n",
      "    12    -6.205310e+01     1.761583e-02\n",
      " * time: 2.299510955810547\n",
      "    13    -6.211448e+01     1.546765e-02\n",
      " * time: 2.414201021194458\n",
      "    14    -6.215136e+01     1.217546e-02\n",
      " * time: 2.521914005279541\n",
      "    15    -6.218063e+01     1.104212e-02\n",
      " * time: 2.6366090774536133\n",
      "    16    -6.219677e+01     9.522712e-03\n",
      " * time: 2.7454819679260254\n",
      "    17    -6.220880e+01     8.005394e-03\n",
      " * time: 2.8597559928894043\n",
      "    18    -6.221746e+01     5.885514e-03\n",
      " * time: 2.9676899909973145\n",
      "    19    -6.222423e+01     5.155296e-03\n",
      " * time: 3.0844221115112305\n",
      "    20    -6.223004e+01     5.208244e-03\n",
      " * time: 3.2077090740203857\n",
      "    21    -6.223601e+01     4.839589e-03\n",
      " * time: 3.3303749561309814\n",
      "    22    -6.224195e+01     5.972602e-03\n",
      " * time: 3.437505006790161\n",
      "    23    -6.224748e+01     4.638438e-03\n",
      " * time: 3.5523369312286377\n",
      "    24    -6.225221e+01     4.453880e-03\n",
      " * time: 3.6577229499816895\n",
      "    25    -6.225584e+01     3.483925e-03\n",
      " * time: 3.7728140354156494\n",
      "    26    -6.225817e+01     2.349810e-03\n",
      " * time: 3.879034996032715\n",
      "    27    -6.225947e+01     1.813429e-03\n",
      " * time: 3.9955101013183594\n",
      "    28    -6.226024e+01     1.360767e-03\n",
      " * time: 4.114671945571899\n",
      "    29    -6.226071e+01     1.265701e-03\n",
      " * time: 4.239480972290039\n",
      "    30    -6.226103e+01     1.073975e-03\n",
      " * time: 4.345854997634888\n",
      "    31    -6.226125e+01     1.101413e-03\n",
      " * time: 4.4601240158081055\n",
      "    32    -6.226140e+01     7.931375e-04\n",
      " * time: 4.567188024520874\n",
      "    33    -6.226151e+01     6.504482e-04\n",
      " * time: 4.683716058731079\n",
      "    34    -6.226159e+01     4.727765e-04\n",
      " * time: 4.805382966995239\n",
      "    35    -6.226163e+01     3.042792e-04\n",
      " * time: 4.929445028305054\n",
      "    36    -6.226165e+01     2.127561e-04\n",
      " * time: 5.036394119262695\n",
      "    37    -6.226166e+01     1.783120e-04\n",
      " * time: 5.149440050125122\n",
      "    38    -6.226166e+01     1.383179e-04\n",
      " * time: 5.2554030418396\n",
      "    39    -6.226166e+01     8.659361e-05\n",
      " * time: 5.3676159381866455\n",
      "    40    -6.226166e+01     6.130642e-05\n",
      " * time: 5.4726879596710205\n",
      "    41    -6.226166e+01     5.329711e-05\n",
      " * time: 5.58381199836731\n",
      "    42    -6.226167e+01     4.042339e-05\n",
      " * time: 5.688159942626953\n",
      "    43    -6.226167e+01     3.684397e-05\n",
      " * time: 5.800028085708618\n",
      "    44    -6.226167e+01     3.252317e-05\n",
      " * time: 5.905216932296753\n",
      "    45    -6.226167e+01     2.715502e-05\n",
      " * time: 6.017394065856934\n",
      "    46    -6.226167e+01     1.820623e-05\n",
      " * time: 6.123276948928833\n",
      "    47    -6.226167e+01     1.103333e-05\n",
      " * time: 6.2370429039001465\n",
      "    48    -6.226167e+01     8.523157e-06\n",
      " * time: 6.343106985092163\n",
      "    49    -6.226167e+01     5.632015e-06\n",
      " * time: 6.456305027008057\n",
      "    50    -6.226167e+01     4.165668e-06\n",
      " * time: 6.5622639656066895\n",
      "    51    -6.226167e+01     3.280657e-06\n",
      " * time: 6.675457000732422\n"
     ]
    }
   ],
   "cell_type": "code",
   "source": [
    "scfres = direct_minimization(basis, tol=1e-5);"
   ],
   "metadata": {},
   "execution_count": 4
  },
  {
   "outputs": [
    {
     "output_type": "execute_result",
     "data": {
      "text/plain": "Energy breakdown:\n    Kinetic             25.7671071\n    AtomicLocal         -18.8557734\n    AtomicNonlocal      14.8522691\n    Ewald               -67.1831486\n    PspCorrection       -2.3569765\n    Hartree             4.8485383 \n    Xc                  -19.3336824\n\n    total               -62.261666458768\n"
     },
     "metadata": {},
     "execution_count": 5
    }
   ],
   "cell_type": "code",
   "source": [
    "scfres.energies"
   ],
   "metadata": {},
   "execution_count": 5
  }
 ],
 "nbformat_minor": 3,
 "metadata": {
  "language_info": {
   "file_extension": ".jl",
   "mimetype": "application/julia",
   "name": "julia",
   "version": "1.3.1"
  },
  "kernelspec": {
   "name": "julia-1.3",
   "display_name": "Julia 1.3.1",
   "language": "julia"
  }
 },
 "nbformat": 4
}
