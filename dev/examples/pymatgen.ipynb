{
 "cells": [
  {
   "cell_type": "markdown",
   "source": [
    "# Creating supercells with pymatgen\n",
    "\n",
    "The [Pymatgen](https://pymatgen.org/) python library allows to setup\n",
    "solid-state calculations using a flexible set of classes as well as an API\n",
    "to an online data base of structures. Its `Structure` and `Lattice`\n",
    "objects are directly supported by the DFTK `load_atoms` and `load_lattice`\n",
    "functions, such that DFTK may be readily used to run calculation on systems\n",
    "defined in pymatgen. Using the `pymatgen_structure` function a conversion\n",
    "from DFTK to pymatgen structures is also possible. In the following we\n",
    "use this to create a silicon supercell and find its LDA ground state\n",
    "using direct minimisation."
   ],
   "metadata": {}
  },
  {
   "cell_type": "markdown",
   "source": [
    "First we setup the silicon lattice in DFTK."
   ],
   "metadata": {}
  },
  {
   "outputs": [],
   "cell_type": "code",
   "source": [
    "using DFTK\n",
    "\n",
    "a = 10.263141334305942  # Lattice constant in Bohr\n",
    "lattice = a / 2 .* [[0 1 1.]; [1 0 1.]; [1 1 0.]]\n",
    "Si = ElementPsp(:Si, psp=load_psp(\"hgh/lda/Si-q4\"))\n",
    "atoms = [Si => [ones(3)/8, -ones(3)/8]];"
   ],
   "metadata": {},
   "execution_count": 1
  },
  {
   "cell_type": "markdown",
   "source": [
    "Next we make a `[2, 2, 2]` supercell using pymatgen"
   ],
   "metadata": {}
  },
  {
   "outputs": [],
   "cell_type": "code",
   "source": [
    "pystruct = pymatgen_structure(lattice, atoms)\n",
    "pystruct.make_supercell([2, 2, 2])\n",
    "lattice = load_lattice(pystruct)\n",
    "atoms = [Si => [s.frac_coords for s in pystruct.sites]];"
   ],
   "metadata": {},
   "execution_count": 2
  },
  {
   "cell_type": "markdown",
   "source": [
    "Setup an LDA model and discretize using\n",
    "a single kpoint and a small `Ecut` of 5 Hartree.\n",
    "Notice that `PlaneWaveBasis` defaults to just using the ``Γ``-point\n",
    "if no ``k``-point options are provided."
   ],
   "metadata": {}
  },
  {
   "outputs": [
    {
     "output_type": "execute_result",
     "data": {
      "text/plain": "PlaneWaveBasis (Ecut=5.0, 1 kpoints)"
     },
     "metadata": {},
     "execution_count": 3
    }
   ],
   "cell_type": "code",
   "source": [
    "model = model_LDA(lattice, atoms)\n",
    "basis = PlaneWaveBasis(model, 5)"
   ],
   "metadata": {},
   "execution_count": 3
  },
  {
   "cell_type": "markdown",
   "source": [
    "Find the ground state using direct minimisation (always using SCF is boring ...)"
   ],
   "metadata": {}
  },
  {
   "outputs": [
    {
     "name": "stdout",
     "output_type": "stream",
     "text": [
      "Iter     Function value   Gradient norm \n",
      "     0     1.126564e+02     1.759567e+00\n",
      " * time: 0.08927083015441895\n",
      "     1     1.167548e+01     8.905493e-01\n",
      " * time: 0.9449608325958252\n",
      "     2    -1.188188e+01     1.063145e+00\n",
      " * time: 1.129241943359375\n",
      "     3    -3.401769e+01     7.776548e-01\n",
      " * time: 1.27518892288208\n",
      "     4    -4.774330e+01     5.771220e-01\n",
      " * time: 1.435628890991211\n",
      "     5    -5.695756e+01     2.362981e-01\n",
      " * time: 1.586568832397461\n",
      "     6    -5.982264e+01     1.179468e-01\n",
      " * time: 1.6943278312683105\n",
      "     7    -6.087088e+01     5.657247e-02\n",
      " * time: 1.8085639476776123\n",
      "     8    -6.126893e+01     8.486107e-02\n",
      " * time: 1.9168219566345215\n",
      "     9    -6.161905e+01     3.234443e-02\n",
      " * time: 2.031972885131836\n",
      "    10    -6.183528e+01     2.774569e-02\n",
      " * time: 2.1420300006866455\n",
      "    11    -6.199004e+01     1.875308e-02\n",
      " * time: 2.2571489810943604\n",
      "    12    -6.205339e+01     1.639865e-02\n",
      " * time: 2.365466833114624\n",
      "    13    -6.211099e+01     1.734358e-02\n",
      " * time: 2.4780778884887695\n",
      "    14    -6.213963e+01     1.459864e-02\n",
      " * time: 2.585502862930298\n",
      "    15    -6.216390e+01     1.208874e-02\n",
      " * time: 2.7005560398101807\n",
      "    16    -6.217845e+01     9.449607e-03\n",
      " * time: 2.8081648349761963\n",
      "    17    -6.219032e+01     8.392060e-03\n",
      " * time: 2.923149824142456\n",
      "    18    -6.220130e+01     7.756725e-03\n",
      " * time: 3.032052993774414\n",
      "    19    -6.221219e+01     7.223408e-03\n",
      " * time: 3.147382974624634\n",
      "    20    -6.222312e+01     7.446962e-03\n",
      " * time: 3.255736827850342\n",
      "    21    -6.223399e+01     6.753515e-03\n",
      " * time: 3.371462821960449\n",
      "    22    -6.224383e+01     6.642270e-03\n",
      " * time: 3.4783318042755127\n",
      "    23    -6.225092e+01     5.699299e-03\n",
      " * time: 3.594059944152832\n",
      "    24    -6.225502e+01     4.594731e-03\n",
      " * time: 3.712286949157715\n",
      "    25    -6.225725e+01     3.546487e-03\n",
      " * time: 3.835784912109375\n",
      "    26    -6.225860e+01     2.745580e-03\n",
      " * time: 3.9425079822540283\n",
      "    27    -6.225952e+01     2.016744e-03\n",
      " * time: 4.057318925857544\n",
      "    28    -6.226020e+01     1.762815e-03\n",
      " * time: 4.166594982147217\n",
      "    29    -6.226073e+01     1.298593e-03\n",
      " * time: 4.283159017562866\n",
      "    30    -6.226111e+01     1.066139e-03\n",
      " * time: 4.393179893493652\n",
      "    31    -6.226136e+01     9.091693e-04\n",
      " * time: 4.511660814285278\n",
      "    32    -6.226150e+01     6.329642e-04\n",
      " * time: 4.6301939487457275\n",
      "    33    -6.226158e+01     5.823792e-04\n",
      " * time: 4.755753993988037\n",
      "    34    -6.226162e+01     3.520942e-04\n",
      " * time: 4.863097906112671\n",
      "    35    -6.226164e+01     2.381391e-04\n",
      " * time: 4.977138996124268\n",
      "    36    -6.226165e+01     1.433128e-04\n",
      " * time: 5.084626913070679\n",
      "    37    -6.226166e+01     1.295868e-04\n",
      " * time: 5.200250864028931\n",
      "    38    -6.226166e+01     1.296703e-04\n",
      " * time: 5.307915925979614\n",
      "    39    -6.226166e+01     9.305055e-05\n",
      " * time: 5.422595024108887\n",
      "    40    -6.226166e+01     6.697740e-05\n",
      " * time: 5.531548023223877\n",
      "    41    -6.226166e+01     5.472834e-05\n",
      " * time: 5.6473119258880615\n",
      "    42    -6.226167e+01     4.371652e-05\n",
      " * time: 5.767771005630493\n",
      "    43    -6.226167e+01     3.699995e-05\n",
      " * time: 5.894279956817627\n",
      "    44    -6.226167e+01     2.939649e-05\n",
      " * time: 6.001919984817505\n",
      "    45    -6.226167e+01     2.084098e-05\n",
      " * time: 6.116402864456177\n",
      "    46    -6.226167e+01     1.276175e-05\n",
      " * time: 6.2249579429626465\n",
      "    47    -6.226167e+01     8.311792e-06\n",
      " * time: 6.340459823608398\n",
      "    48    -6.226167e+01     6.992679e-06\n",
      " * time: 6.447384834289551\n",
      "    49    -6.226167e+01     6.057285e-06\n",
      " * time: 6.561813831329346\n",
      "    50    -6.226167e+01     4.265367e-06\n",
      " * time: 6.667404890060425\n",
      "    51    -6.226167e+01     3.221848e-06\n",
      " * time: 6.781277894973755\n"
     ]
    }
   ],
   "cell_type": "code",
   "source": [
    "scfres = direct_minimization(basis, tol=1e-5);"
   ],
   "metadata": {},
   "execution_count": 4
  },
  {
   "outputs": [
    {
     "output_type": "execute_result",
     "data": {
      "text/plain": "Energy breakdown:\n    Kinetic             25.7671065\n    AtomicLocal         -18.8557684\n    AtomicNonlocal      14.8522653\n    Ewald               -67.1831486\n    PspCorrection       -2.3569765\n    Hartree             4.8485373 \n    Xc                  -19.3336821\n\n    total               -62.261666459473\n"
     },
     "metadata": {},
     "execution_count": 5
    }
   ],
   "cell_type": "code",
   "source": [
    "scfres.energies"
   ],
   "metadata": {},
   "execution_count": 5
  }
 ],
 "nbformat_minor": 3,
 "metadata": {
  "language_info": {
   "file_extension": ".jl",
   "mimetype": "application/julia",
   "name": "julia",
   "version": "1.3.1"
  },
  "kernelspec": {
   "name": "julia-1.3",
   "display_name": "Julia 1.3.1",
   "language": "julia"
  }
 },
 "nbformat": 4
}
