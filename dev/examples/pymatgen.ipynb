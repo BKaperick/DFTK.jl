{
 "cells": [
  {
   "cell_type": "markdown",
   "source": [
    "# Creating supercells with pymatgen\n",
    "\n",
    "The [Pymatgen](https://pymatgen.org/) python library allows to setup\n",
    "solid-state calculations using a flexible set of classes as well as an API\n",
    "to an online data base of structures. Its `Structure` and `Lattice`\n",
    "objects are directly supported by the DFTK `load_atoms` and `load_lattice`\n",
    "functions, such that DFTK may be readily used to run calculation on systems\n",
    "defined in pymatgen. Using the `pymatgen_structure` function a conversion\n",
    "from DFTK to pymatgen structures is also possible. In the following we\n",
    "use this to create a silicon supercell and find its LDA ground state\n",
    "using direct minimisation."
   ],
   "metadata": {}
  },
  {
   "cell_type": "markdown",
   "source": [
    "First we setup the silicon lattice in DFTK."
   ],
   "metadata": {}
  },
  {
   "outputs": [],
   "cell_type": "code",
   "source": [
    "using DFTK\n",
    "\n",
    "a = 10.263141334305942  # Lattice constant in Bohr\n",
    "lattice = a / 2 .* [[0 1 1.]; [1 0 1.]; [1 1 0.]]\n",
    "Si = ElementPsp(:Si, psp=load_psp(\"hgh/lda/Si-q4\"))\n",
    "atoms = [Si => [ones(3)/8, -ones(3)/8]];"
   ],
   "metadata": {},
   "execution_count": 1
  },
  {
   "cell_type": "markdown",
   "source": [
    "Next we make a `[2, 2, 2]` supercell using pymatgen"
   ],
   "metadata": {}
  },
  {
   "outputs": [],
   "cell_type": "code",
   "source": [
    "pystruct = pymatgen_structure(lattice, atoms)\n",
    "pystruct.make_supercell([2, 2, 2])\n",
    "lattice = load_lattice(pystruct)\n",
    "atoms = [Si => [s.frac_coords for s in pystruct.sites]];"
   ],
   "metadata": {},
   "execution_count": 2
  },
  {
   "cell_type": "markdown",
   "source": [
    "Setup an LDA model and discretize using\n",
    "a single kpoint and a small `Ecut` of 5 Hartree."
   ],
   "metadata": {}
  },
  {
   "outputs": [
    {
     "output_type": "execute_result",
     "data": {
      "text/plain": "PlaneWaveBasis (Ecut=5.0, 1 kpoints)"
     },
     "metadata": {},
     "execution_count": 3
    }
   ],
   "cell_type": "code",
   "source": [
    "model = model_LDA(lattice, atoms)\n",
    "basis = PlaneWaveBasis(model, 5, kgrid=(1, 1, 1))"
   ],
   "metadata": {},
   "execution_count": 3
  },
  {
   "cell_type": "markdown",
   "source": [
    "Find the ground state using direct minimisation (always using SCF is boring ...)"
   ],
   "metadata": {}
  },
  {
   "outputs": [
    {
     "name": "stdout",
     "output_type": "stream",
     "text": [
      "Iter     Function value   Gradient norm \n",
      "     0     1.121539e+02     1.619388e+00\n",
      " * time: 0.44199085235595703\n",
      "     1     1.157098e+01     9.253537e-01\n",
      " * time: 2.519850015640259\n",
      "     2    -1.219857e+01     9.739805e-01\n",
      " * time: 3.261586904525757\n",
      "     3    -3.392480e+01     7.418835e-01\n",
      " * time: 4.317023038864136\n",
      "     4    -4.756827e+01     5.244027e-01\n",
      " * time: 5.394103050231934\n",
      "     5    -5.690073e+01     2.308065e-01\n",
      " * time: 6.464671850204468\n",
      "     6    -5.969967e+01     1.649586e-01\n",
      " * time: 7.203001022338867\n",
      "     7    -6.081694e+01     5.976932e-02\n",
      " * time: 7.951946973800659\n",
      "     8    -6.128722e+01     5.009918e-02\n",
      " * time: 8.665868997573853\n",
      "     9    -6.157411e+01     5.510973e-02\n",
      " * time: 9.39097285270691\n",
      "    10    -6.180673e+01     3.360346e-02\n",
      " * time: 10.106185913085938\n",
      "    11    -6.197774e+01     2.648181e-02\n",
      " * time: 10.819478988647461\n",
      "    12    -6.206219e+01     1.668673e-02\n",
      " * time: 11.532532930374146\n",
      "    13    -6.211602e+01     1.331856e-02\n",
      " * time: 12.245954036712646\n",
      "    14    -6.215392e+01     1.325750e-02\n",
      " * time: 12.955574989318848\n",
      "    15    -6.217555e+01     1.162158e-02\n",
      " * time: 13.6925950050354\n",
      "    16    -6.218970e+01     8.676485e-03\n",
      " * time: 14.40871787071228\n",
      "    17    -6.220007e+01     6.643524e-03\n",
      " * time: 15.12683892250061\n",
      "    18    -6.220899e+01     6.523249e-03\n",
      " * time: 15.847975969314575\n",
      "    19    -6.221702e+01     6.034108e-03\n",
      " * time: 16.56446886062622\n",
      "    20    -6.222514e+01     6.578264e-03\n",
      " * time: 17.297613859176636\n",
      "    21    -6.223326e+01     6.138758e-03\n",
      " * time: 18.013442993164062\n",
      "    22    -6.224090e+01     6.481003e-03\n",
      " * time: 18.73899793624878\n",
      "    23    -6.224703e+01     5.465875e-03\n",
      " * time: 19.484046936035156\n",
      "    24    -6.225161e+01     4.607774e-03\n",
      " * time: 20.204386949539185\n",
      "    25    -6.225480e+01     3.560984e-03\n",
      " * time: 20.93264889717102\n",
      "    26    -6.225695e+01     2.961712e-03\n",
      " * time: 21.6661958694458\n",
      "    27    -6.225846e+01     2.299125e-03\n",
      " * time: 22.373909950256348\n",
      "    28    -6.225949e+01     2.376308e-03\n",
      " * time: 23.110355854034424\n",
      "    29    -6.226024e+01     1.840215e-03\n",
      " * time: 23.83364486694336\n",
      "    30    -6.226079e+01     1.977753e-03\n",
      " * time: 24.552032947540283\n",
      "    31    -6.226118e+01     1.507786e-03\n",
      " * time: 25.27650284767151\n",
      "    32    -6.226141e+01     9.824640e-04\n",
      " * time: 26.00128197669983\n",
      "    33    -6.226154e+01     6.530785e-04\n",
      " * time: 26.736494064331055\n",
      "    34    -6.226161e+01     4.743630e-04\n",
      " * time: 27.476783990859985\n",
      "    35    -6.226164e+01     2.778281e-04\n",
      " * time: 28.20386004447937\n",
      "    36    -6.226165e+01     2.328673e-04\n",
      " * time: 28.915892839431763\n",
      "    37    -6.226166e+01     1.911711e-04\n",
      " * time: 29.638148069381714\n",
      "    38    -6.226166e+01     1.679954e-04\n",
      " * time: 30.366379976272583\n",
      "    39    -6.226166e+01     1.497091e-04\n",
      " * time: 31.09008002281189\n",
      "    40    -6.226166e+01     1.074546e-04\n",
      " * time: 31.81824803352356\n",
      "    41    -6.226166e+01     6.648108e-05\n",
      " * time: 32.53839898109436\n",
      "    42    -6.226167e+01     5.313413e-05\n",
      " * time: 33.275187969207764\n",
      "    43    -6.226167e+01     3.569959e-05\n",
      " * time: 33.991868019104004\n",
      "    44    -6.226167e+01     2.688713e-05\n",
      " * time: 34.70734095573425\n",
      "    45    -6.226167e+01     1.919890e-05\n",
      " * time: 35.44831991195679\n",
      "    46    -6.226167e+01     1.572094e-05\n",
      " * time: 36.16314101219177\n",
      "    47    -6.226167e+01     1.062905e-05\n",
      " * time: 36.88801693916321\n",
      "    48    -6.226167e+01     8.334683e-06\n",
      " * time: 37.629169940948486\n",
      "    49    -6.226167e+01     7.515632e-06\n",
      " * time: 38.33954906463623\n",
      "    50    -6.226167e+01     3.936328e-06\n",
      " * time: 39.06669497489929\n"
     ]
    }
   ],
   "cell_type": "code",
   "source": [
    "scfres = direct_minimization(basis, tol=1e-5);"
   ],
   "metadata": {},
   "execution_count": 4
  },
  {
   "outputs": [
    {
     "output_type": "execute_result",
     "data": {
      "text/plain": "Energy breakdown:\n    Kinetic             25.7671064\n    AtomicLocal         -18.8557558\n    AtomicNonlocal      14.8522547\n    Ewald               -67.1831486\n    PspCorrection       -2.3569765\n    Hartree             4.8485346 \n    Xc                  -19.3336812\n\n    total               -62.261666453237\n"
     },
     "metadata": {},
     "execution_count": 5
    }
   ],
   "cell_type": "code",
   "source": [
    "scfres.energies"
   ],
   "metadata": {},
   "execution_count": 5
  }
 ],
 "nbformat_minor": 3,
 "metadata": {
  "language_info": {
   "file_extension": ".jl",
   "mimetype": "application/julia",
   "name": "julia",
   "version": "1.5.3"
  },
  "kernelspec": {
   "name": "julia-1.5",
   "display_name": "Julia 1.5.3",
   "language": "julia"
  }
 },
 "nbformat": 4
}
