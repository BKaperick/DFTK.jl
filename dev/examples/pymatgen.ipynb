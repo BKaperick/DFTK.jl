{
 "cells": [
  {
   "cell_type": "markdown",
   "source": [
    "# Creating supercells with pymatgen\n",
    "\n",
    "The [Pymatgen](https://pymatgen.org/) python library allows to setup\n",
    "solid-state calculations using a flexible set of classes as well as an API\n",
    "to an online data base of structures. Its `Structure` and `Lattice`\n",
    "objects are directly supported by the DFTK `load_atoms` and `load_lattice`\n",
    "functions, such that DFTK may be readily used to run calculation on systems\n",
    "defined in pymatgen. Using the `pymatgen_structure` function a conversion\n",
    "from DFTK to pymatgen structures is also possible. In the following we\n",
    "use this to create a silicon supercell and find its LDA ground state\n",
    "using direct minimisation."
   ],
   "metadata": {}
  },
  {
   "cell_type": "markdown",
   "source": [
    "First we setup the silicon lattice in DFTK."
   ],
   "metadata": {}
  },
  {
   "outputs": [],
   "cell_type": "code",
   "source": [
    "using DFTK\n",
    "\n",
    "a = 10.263141334305942  # Lattice constant in Bohr\n",
    "lattice = a / 2 .* [[0 1 1.]; [1 0 1.]; [1 1 0.]]\n",
    "Si = ElementPsp(:Si, psp=load_psp(\"hgh/lda/Si-q4\"))\n",
    "atoms = [Si => [ones(3)/8, -ones(3)/8]];"
   ],
   "metadata": {},
   "execution_count": 1
  },
  {
   "cell_type": "markdown",
   "source": [
    "Next we make a `[2, 2, 2]` supercell using pymatgen"
   ],
   "metadata": {}
  },
  {
   "outputs": [],
   "cell_type": "code",
   "source": [
    "pystruct = pymatgen_structure(lattice, atoms)\n",
    "pystruct.make_supercell([2, 2, 2])\n",
    "lattice = load_lattice(pystruct)\n",
    "atoms = [Si => [s.frac_coords for s in pystruct.sites]];"
   ],
   "metadata": {},
   "execution_count": 2
  },
  {
   "cell_type": "markdown",
   "source": [
    "Setup an LDA model and discretize using\n",
    "a single kpoint and a small `Ecut` of 5 Hartree."
   ],
   "metadata": {}
  },
  {
   "outputs": [
    {
     "output_type": "execute_result",
     "data": {
      "text/plain": "PlaneWaveBasis (Ecut=5.0, 1 kpoints)"
     },
     "metadata": {},
     "execution_count": 3
    }
   ],
   "cell_type": "code",
   "source": [
    "model = model_LDA(lattice, atoms)\n",
    "basis = PlaneWaveBasis(model, 5, kgrid=(1, 1, 1))"
   ],
   "metadata": {},
   "execution_count": 3
  },
  {
   "cell_type": "markdown",
   "source": [
    "Find the ground state using direct minimisation (always using SCF is boring ...)"
   ],
   "metadata": {}
  },
  {
   "outputs": [
    {
     "name": "stdout",
     "output_type": "stream",
     "text": [
      "Iter     Function value   Gradient norm \n",
      "     0     1.120994e+02     1.687180e+00\n",
      " * time: 1.1469910144805908\n",
      "     1     1.162566e+01     1.252317e+00\n",
      " * time: 3.457595109939575\n",
      "     2    -1.239379e+01     1.263519e+00\n",
      " * time: 4.1448609828948975\n",
      "     3    -3.422833e+01     9.171553e-01\n",
      " * time: 5.182893991470337\n",
      "     4    -4.798478e+01     5.770044e-01\n",
      " * time: 6.168481111526489\n",
      "     5    -5.699412e+01     1.739505e-01\n",
      " * time: 7.137538909912109\n",
      "     6    -5.978979e+01     9.959664e-02\n",
      " * time: 7.794487953186035\n",
      "     7    -6.081873e+01     6.043434e-02\n",
      " * time: 8.444252014160156\n",
      "     8    -6.123410e+01     6.749937e-02\n",
      " * time: 9.081609010696411\n",
      "     9    -6.157831e+01     4.152623e-02\n",
      " * time: 9.725692987442017\n",
      "    10    -6.180597e+01     3.319845e-02\n",
      " * time: 10.384742021560669\n",
      "    11    -6.197513e+01     2.358813e-02\n",
      " * time: 11.059993028640747\n",
      "    12    -6.204779e+01     1.833292e-02\n",
      " * time: 11.719477891921997\n",
      "    13    -6.211701e+01     1.375369e-02\n",
      " * time: 12.384156942367554\n",
      "    14    -6.215057e+01     1.492620e-02\n",
      " * time: 13.060343980789185\n",
      "    15    -6.218207e+01     1.002348e-02\n",
      " * time: 13.727727890014648\n",
      "    16    -6.220098e+01     7.963516e-03\n",
      " * time: 14.390279054641724\n",
      "    17    -6.221400e+01     7.860154e-03\n",
      " * time: 15.069772005081177\n",
      "    18    -6.222415e+01     7.613039e-03\n",
      " * time: 15.74009895324707\n",
      "    19    -6.223188e+01     7.031055e-03\n",
      " * time: 16.41417908668518\n",
      "    20    -6.223866e+01     6.506599e-03\n",
      " * time: 17.092252016067505\n",
      "    21    -6.224511e+01     6.357217e-03\n",
      " * time: 17.764326095581055\n",
      "    22    -6.225115e+01     5.013166e-03\n",
      " * time: 18.43267798423767\n",
      "    23    -6.225582e+01     3.550449e-03\n",
      " * time: 19.09552001953125\n",
      "    24    -6.225860e+01     2.652783e-03\n",
      " * time: 19.776707887649536\n",
      "    25    -6.226005e+01     2.061705e-03\n",
      " * time: 20.452008962631226\n",
      "    26    -6.226074e+01     1.545079e-03\n",
      " * time: 21.12558388710022\n",
      "    27    -6.226109e+01     1.065749e-03\n",
      " * time: 21.78917694091797\n",
      "    28    -6.226127e+01     1.022198e-03\n",
      " * time: 22.466897010803223\n",
      "    29    -6.226140e+01     6.704360e-04\n",
      " * time: 23.13539695739746\n",
      "    30    -6.226148e+01     6.351857e-04\n",
      " * time: 23.826229095458984\n",
      "    31    -6.226154e+01     5.384942e-04\n",
      " * time: 24.4907009601593\n",
      "    32    -6.226159e+01     4.586858e-04\n",
      " * time: 25.16371488571167\n",
      "    33    -6.226162e+01     3.478126e-04\n",
      " * time: 25.850157976150513\n",
      "    34    -6.226164e+01     3.267513e-04\n",
      " * time: 26.52587890625\n",
      "    35    -6.226165e+01     2.508692e-04\n",
      " * time: 27.207093954086304\n",
      "    36    -6.226166e+01     1.616791e-04\n",
      " * time: 27.88626194000244\n",
      "    37    -6.226166e+01     9.734523e-05\n",
      " * time: 28.55968689918518\n",
      "    38    -6.226167e+01     5.366400e-05\n",
      " * time: 29.237322092056274\n",
      "    39    -6.226167e+01     4.508129e-05\n",
      " * time: 29.922184944152832\n",
      "    40    -6.226167e+01     3.293905e-05\n",
      " * time: 30.577955961227417\n",
      "    41    -6.226167e+01     2.363280e-05\n",
      " * time: 31.22599196434021\n",
      "    42    -6.226167e+01     2.174491e-05\n",
      " * time: 31.864603996276855\n",
      "    43    -6.226167e+01     1.510541e-05\n",
      " * time: 32.50819706916809\n",
      "    44    -6.226167e+01     1.220176e-05\n",
      " * time: 33.15885090827942\n",
      "    45    -6.226167e+01     1.125935e-05\n",
      " * time: 33.80536699295044\n",
      "    46    -6.226167e+01     9.971217e-06\n",
      " * time: 34.44210600852966\n",
      "    47    -6.226167e+01     6.569860e-06\n",
      " * time: 35.08615708351135\n",
      "    48    -6.226167e+01     5.106411e-06\n",
      " * time: 35.73830509185791\n",
      "    49    -6.226167e+01     4.194635e-06\n",
      " * time: 36.383857011795044\n",
      "    50    -6.226167e+01     2.873221e-06\n",
      " * time: 37.01840806007385\n"
     ]
    }
   ],
   "cell_type": "code",
   "source": [
    "scfres = direct_minimization(basis, tol=1e-5);"
   ],
   "metadata": {},
   "execution_count": 4
  },
  {
   "outputs": [
    {
     "output_type": "execute_result",
     "data": {
      "text/plain": "Energy breakdown:\n    Kinetic             25.7671058\n    AtomicLocal         -18.8557682\n    AtomicNonlocal      14.8522661\n    Ewald               -67.1831486\n    PspCorrection       -2.3569765\n    Hartree             4.8485369 \n    Xc                  -19.3336819\n\n    total               -62.261666460628\n"
     },
     "metadata": {},
     "execution_count": 5
    }
   ],
   "cell_type": "code",
   "source": [
    "scfres.energies"
   ],
   "metadata": {},
   "execution_count": 5
  }
 ],
 "nbformat_minor": 3,
 "metadata": {
  "language_info": {
   "file_extension": ".jl",
   "mimetype": "application/julia",
   "name": "julia",
   "version": "1.6.0"
  },
  "kernelspec": {
   "name": "julia-1.6",
   "display_name": "Julia 1.6.0",
   "language": "julia"
  }
 },
 "nbformat": 4
}
