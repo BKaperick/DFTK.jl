{
 "cells": [
  {
   "cell_type": "markdown",
   "source": [
    "# Creating supercells with pymatgen\n",
    "\n",
    "The [Pymatgen](https://pymatgen.org/) python library allows to setup\n",
    "solid-state calculations using a flexible set of classes as well as an API\n",
    "to an online data base of structures. Its `Structure` and `Lattice`\n",
    "objects are directly supported by the DFTK `load_atoms` and `load_lattice`\n",
    "functions, such that DFTK may be readily used to run calculation on systems\n",
    "defined in pymatgen. Using the `pymatgen_structure` function a conversion\n",
    "from DFTK to pymatgen structures is also possible. In the following we\n",
    "use this to create a silicon supercell and find its LDA ground state\n",
    "using direct minimisation."
   ],
   "metadata": {}
  },
  {
   "cell_type": "markdown",
   "source": [
    "First we setup the silicon lattice in DFTK."
   ],
   "metadata": {}
  },
  {
   "outputs": [],
   "cell_type": "code",
   "source": [
    "using DFTK\n",
    "\n",
    "a = 10.263141334305942  # Lattice constant in Bohr\n",
    "lattice = a / 2 .* [[0 1 1.]; [1 0 1.]; [1 1 0.]]\n",
    "Si = ElementPsp(:Si, psp=load_psp(\"hgh/lda/Si-q4\"))\n",
    "atoms = [Si => [ones(3)/8, -ones(3)/8]];"
   ],
   "metadata": {},
   "execution_count": 1
  },
  {
   "cell_type": "markdown",
   "source": [
    "Next we make a `[2, 2, 2]` supercell using pymatgen"
   ],
   "metadata": {}
  },
  {
   "outputs": [],
   "cell_type": "code",
   "source": [
    "pystruct = pymatgen_structure(lattice, atoms)\n",
    "pystruct.make_supercell([2, 2, 2])\n",
    "lattice = load_lattice(pystruct)\n",
    "atoms = [Si => [s.frac_coords for s in pystruct.sites]];"
   ],
   "metadata": {},
   "execution_count": 2
  },
  {
   "cell_type": "markdown",
   "source": [
    "Setup an LDA model and discretize using\n",
    "a single kpoint and a small `Ecut` of 5 Hartree."
   ],
   "metadata": {}
  },
  {
   "outputs": [
    {
     "output_type": "execute_result",
     "data": {
      "text/plain": "PlaneWaveBasis (Ecut=5.0, 1 kpoints)"
     },
     "metadata": {},
     "execution_count": 3
    }
   ],
   "cell_type": "code",
   "source": [
    "model = model_LDA(lattice, atoms)\n",
    "basis = PlaneWaveBasis(model, 5, kgrid=(1, 1, 1))"
   ],
   "metadata": {},
   "execution_count": 3
  },
  {
   "cell_type": "markdown",
   "source": [
    "Find the ground state using direct minimisation (always using SCF is boring ...)"
   ],
   "metadata": {}
  },
  {
   "outputs": [
    {
     "name": "stdout",
     "output_type": "stream",
     "text": [
      "Iter     Function value   Gradient norm \n",
      "     0     1.116291e+02     1.598696e+00\n",
      " * time: 0.3358879089355469\n",
      "     1     1.095175e+01     9.139767e-01\n",
      " * time: 1.9999639987945557\n",
      "     2    -1.145615e+01     9.405409e-01\n",
      " * time: 2.646951913833618\n",
      "     3    -3.394798e+01     7.202931e-01\n",
      " * time: 3.5712409019470215\n",
      "     4    -4.746869e+01     5.526928e-01\n",
      " * time: 4.537462949752808\n",
      "     5    -5.676666e+01     1.901569e-01\n",
      " * time: 5.478619813919067\n",
      "     6    -5.972927e+01     1.070267e-01\n",
      " * time: 6.104112863540649\n",
      "     7    -6.081086e+01     5.556482e-02\n",
      " * time: 6.764304876327515\n",
      "     8    -6.119792e+01     6.650002e-02\n",
      " * time: 7.399596929550171\n",
      "     9    -6.151828e+01     3.724827e-02\n",
      " * time: 8.003243923187256\n",
      "    10    -6.173411e+01     3.404004e-02\n",
      " * time: 8.611342906951904\n",
      "    11    -6.192297e+01     2.412175e-02\n",
      " * time: 9.233797788619995\n",
      "    12    -6.200258e+01     1.989454e-02\n",
      " * time: 9.8659188747406\n",
      "    13    -6.208473e+01     1.575111e-02\n",
      " * time: 10.485962867736816\n",
      "    14    -6.212076e+01     1.423093e-02\n",
      " * time: 11.130293846130371\n",
      "    15    -6.215392e+01     1.075575e-02\n",
      " * time: 11.75957989692688\n",
      "    16    -6.217088e+01     8.357035e-03\n",
      " * time: 12.382475852966309\n",
      "    17    -6.218212e+01     5.520993e-03\n",
      " * time: 12.993985891342163\n",
      "    18    -6.218965e+01     5.764640e-03\n",
      " * time: 13.616222858428955\n",
      "    19    -6.219531e+01     6.202707e-03\n",
      " * time: 14.261326789855957\n",
      "    20    -6.220041e+01     6.043718e-03\n",
      " * time: 14.905444860458374\n",
      "    21    -6.220538e+01     5.243380e-03\n",
      " * time: 15.537622928619385\n",
      "    22    -6.221041e+01     5.593842e-03\n",
      " * time: 16.17810583114624\n",
      "    23    -6.221536e+01     5.547097e-03\n",
      " * time: 16.811681985855103\n",
      "    24    -6.222001e+01     7.803064e-03\n",
      " * time: 17.416838884353638\n",
      "    25    -6.222423e+01     8.550627e-03\n",
      " * time: 18.086192846298218\n",
      "    26    -6.222866e+01     7.841306e-03\n",
      " * time: 18.743132829666138\n",
      "    27    -6.223353e+01     5.994415e-03\n",
      " * time: 19.36364984512329\n",
      "    28    -6.223880e+01     6.095673e-03\n",
      " * time: 19.961273908615112\n",
      "    29    -6.224475e+01     5.393099e-03\n",
      " * time: 20.579461812973022\n",
      "    30    -6.225074e+01     4.684510e-03\n",
      " * time: 21.18361783027649\n",
      "    31    -6.225484e+01     4.013616e-03\n",
      " * time: 21.797668933868408\n",
      "    32    -6.225779e+01     3.007518e-03\n",
      " * time: 22.413861989974976\n",
      "    33    -6.225948e+01     2.095279e-03\n",
      " * time: 23.028803825378418\n",
      "    34    -6.226050e+01     1.657718e-03\n",
      " * time: 23.647136926651\n",
      "    35    -6.226104e+01     1.274507e-03\n",
      " * time: 24.255043983459473\n",
      "    36    -6.226129e+01     9.055897e-04\n",
      " * time: 24.867559909820557\n",
      "    37    -6.226142e+01     8.611578e-04\n",
      " * time: 25.471025943756104\n",
      "    38    -6.226150e+01     6.283868e-04\n",
      " * time: 26.1383638381958\n",
      "    39    -6.226156e+01     5.330347e-04\n",
      " * time: 26.75911784172058\n",
      "    40    -6.226159e+01     3.823079e-04\n",
      " * time: 27.37122678756714\n",
      "    41    -6.226162e+01     3.837260e-04\n",
      " * time: 27.980742931365967\n",
      "    42    -6.226164e+01     2.649204e-04\n",
      " * time: 28.625553846359253\n",
      "    43    -6.226165e+01     2.043330e-04\n",
      " * time: 29.244144916534424\n",
      "    44    -6.226166e+01     1.327255e-04\n",
      " * time: 29.8508939743042\n",
      "    45    -6.226166e+01     1.149630e-04\n",
      " * time: 30.474280834197998\n",
      "    46    -6.226166e+01     9.930139e-05\n",
      " * time: 31.117092847824097\n",
      "    47    -6.226167e+01     6.080323e-05\n",
      " * time: 31.717036962509155\n",
      "    48    -6.226167e+01     4.046526e-05\n",
      " * time: 32.38101387023926\n",
      "    49    -6.226167e+01     3.918128e-05\n",
      " * time: 32.99557590484619\n",
      "    50    -6.226167e+01     3.401827e-05\n",
      " * time: 33.61121892929077\n",
      "    51    -6.226167e+01     2.705680e-05\n",
      " * time: 34.254241943359375\n",
      "    52    -6.226167e+01     2.249136e-05\n",
      " * time: 34.88668990135193\n",
      "    53    -6.226167e+01     1.685002e-05\n",
      " * time: 35.520248889923096\n",
      "    54    -6.226167e+01     1.317148e-05\n",
      " * time: 36.164291858673096\n",
      "    55    -6.226167e+01     9.550593e-06\n",
      " * time: 36.79828882217407\n",
      "    56    -6.226167e+01     7.630690e-06\n",
      " * time: 37.41171383857727\n",
      "    57    -6.226167e+01     6.186338e-06\n",
      " * time: 38.036672830581665\n"
     ]
    }
   ],
   "cell_type": "code",
   "source": [
    "scfres = direct_minimization(basis, tol=1e-5);"
   ],
   "metadata": {},
   "execution_count": 4
  },
  {
   "outputs": [
    {
     "output_type": "execute_result",
     "data": {
      "text/plain": "Energy breakdown:\n    Kinetic             25.7671073\n    AtomicLocal         -18.8557659\n    AtomicNonlocal      14.8522622\n    Ewald               -67.1831486\n    PspCorrection       -2.3569765\n    Hartree             4.8485371 \n    Xc                  -19.3336820\n\n    total               -62.261666458173\n"
     },
     "metadata": {},
     "execution_count": 5
    }
   ],
   "cell_type": "code",
   "source": [
    "scfres.energies"
   ],
   "metadata": {},
   "execution_count": 5
  }
 ],
 "nbformat_minor": 3,
 "metadata": {
  "language_info": {
   "file_extension": ".jl",
   "mimetype": "application/julia",
   "name": "julia",
   "version": "1.5.3"
  },
  "kernelspec": {
   "name": "julia-1.5",
   "display_name": "Julia 1.5.3",
   "language": "julia"
  }
 },
 "nbformat": 4
}
