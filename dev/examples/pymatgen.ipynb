{
 "cells": [
  {
   "cell_type": "markdown",
   "source": [
    "# Creating supercells with pymatgen\n",
    "\n",
    "The [Pymatgen](https://pymatgen.org/) python library allows to setup\n",
    "solid-state calculations using a flexible set of classes as well as an API\n",
    "to an online data base of structures. Its `Structure` and `Lattice`\n",
    "objects are directly supported by the DFTK `load_atoms` and `load_lattice`\n",
    "functions, such that DFTK may be readily used to run calculation on systems\n",
    "defined in pymatgen. Using the `pymatgen_structure` function a conversion\n",
    "from DFTK to pymatgen structures is also possible. In the following we\n",
    "use this to create a silicon supercell and find its LDA ground state\n",
    "using direct minimisation."
   ],
   "metadata": {}
  },
  {
   "cell_type": "markdown",
   "source": [
    "First we setup the silicon lattice in DFTK."
   ],
   "metadata": {}
  },
  {
   "outputs": [],
   "cell_type": "code",
   "source": [
    "using DFTK\n",
    "\n",
    "a = 10.263141334305942  # Lattice constant in Bohr\n",
    "lattice = a / 2 .* [[0 1 1.]; [1 0 1.]; [1 1 0.]]\n",
    "Si = ElementPsp(:Si, psp=load_psp(\"hgh/lda/Si-q4\"))\n",
    "atoms = [Si => [ones(3)/8, -ones(3)/8]];"
   ],
   "metadata": {},
   "execution_count": 1
  },
  {
   "cell_type": "markdown",
   "source": [
    "Next we make a `[2, 2, 2]` supercell using pymatgen"
   ],
   "metadata": {}
  },
  {
   "outputs": [],
   "cell_type": "code",
   "source": [
    "pystruct = pymatgen_structure(lattice, atoms)\n",
    "pystruct.make_supercell([2, 2, 2])\n",
    "lattice = load_lattice(pystruct)\n",
    "atoms = [Si => [s.frac_coords for s in pystruct.sites]];"
   ],
   "metadata": {},
   "execution_count": 2
  },
  {
   "cell_type": "markdown",
   "source": [
    "Setup an LDA model and discretize using\n",
    "a single kpoint and a small `Ecut` of 5 Hartree."
   ],
   "metadata": {}
  },
  {
   "outputs": [
    {
     "output_type": "execute_result",
     "data": {
      "text/plain": "PlaneWaveBasis (Ecut=5.0, 1 kpoints)"
     },
     "metadata": {},
     "execution_count": 3
    }
   ],
   "cell_type": "code",
   "source": [
    "model = model_LDA(lattice, atoms)\n",
    "basis = PlaneWaveBasis(model, 5, kgrid=(1, 1, 1))"
   ],
   "metadata": {},
   "execution_count": 3
  },
  {
   "cell_type": "markdown",
   "source": [
    "Find the ground state using direct minimisation (always using SCF is boring ...)"
   ],
   "metadata": {}
  },
  {
   "outputs": [
    {
     "name": "stdout",
     "output_type": "stream",
     "text": [
      "Iter     Function value   Gradient norm \n",
      "     0     1.121647e+02     1.611773e+00\n",
      " * time: 0.07040190696716309\n",
      "     1     1.091033e+01     8.866917e-01\n",
      " * time: 1.3839478492736816\n",
      "     2    -1.192679e+01     9.772462e-01\n",
      " * time: 1.4649529457092285\n",
      "     3    -3.420014e+01     7.344924e-01\n",
      " * time: 1.6974709033966064\n",
      "     4    -4.797862e+01     5.381764e-01\n",
      " * time: 1.8075599670410156\n",
      "     5    -5.687693e+01     2.077723e-01\n",
      " * time: 1.9158649444580078\n",
      "     6    -5.973179e+01     1.173230e-01\n",
      " * time: 2.001436948776245\n",
      "     7    -6.082428e+01     6.330651e-02\n",
      " * time: 2.3845438957214355\n",
      "     8    -6.124074e+01     7.871847e-02\n",
      " * time: 2.45560884475708\n",
      "     9    -6.156129e+01     3.617455e-02\n",
      " * time: 2.5272388458251953\n",
      "    10    -6.177464e+01     2.774036e-02\n",
      " * time: 2.6046860218048096\n",
      "    11    -6.194450e+01     2.400305e-02\n",
      " * time: 2.6761720180511475\n",
      "    12    -6.202145e+01     2.203765e-02\n",
      " * time: 2.7607948780059814\n",
      "    13    -6.210178e+01     1.556112e-02\n",
      " * time: 2.8313238620758057\n",
      "    14    -6.214003e+01     1.511553e-02\n",
      " * time: 2.912972927093506\n",
      "    15    -6.217586e+01     1.497324e-02\n",
      " * time: 2.9908008575439453\n",
      "    16    -6.219410e+01     9.374767e-03\n",
      " * time: 3.064091920852661\n",
      "    17    -6.220685e+01     7.560466e-03\n",
      " * time: 3.1398239135742188\n",
      "    18    -6.221499e+01     7.643737e-03\n",
      " * time: 3.223351001739502\n",
      "    19    -6.222097e+01     6.912568e-03\n",
      " * time: 3.297614812850952\n",
      "    20    -6.222581e+01     5.704570e-03\n",
      " * time: 3.3704419136047363\n",
      "    21    -6.223056e+01     6.011543e-03\n",
      " * time: 3.4475908279418945\n",
      "    22    -6.223574e+01     7.472852e-03\n",
      " * time: 3.518862009048462\n",
      "    23    -6.224168e+01     6.618165e-03\n",
      " * time: 3.5909879207611084\n",
      "    24    -6.224764e+01     6.175714e-03\n",
      " * time: 3.667163848876953\n",
      "    25    -6.225269e+01     5.520429e-03\n",
      " * time: 3.7433409690856934\n",
      "    26    -6.225632e+01     3.518766e-03\n",
      " * time: 3.8232009410858154\n",
      "    27    -6.225836e+01     3.572404e-03\n",
      " * time: 3.903183937072754\n",
      "    28    -6.225951e+01     2.176055e-03\n",
      " * time: 3.973827838897705\n",
      "    29    -6.226025e+01     1.683762e-03\n",
      " * time: 4.045781850814819\n",
      "    30    -6.226075e+01     1.184682e-03\n",
      " * time: 4.125592947006226\n",
      "    31    -6.226106e+01     1.203817e-03\n",
      " * time: 4.196800947189331\n",
      "    32    -6.226127e+01     1.027184e-03\n",
      " * time: 4.269158840179443\n",
      "    33    -6.226143e+01     8.698097e-04\n",
      " * time: 4.347244024276733\n",
      "    34    -6.226153e+01     5.866123e-04\n",
      " * time: 4.417101860046387\n",
      "    35    -6.226160e+01     5.073377e-04\n",
      " * time: 4.488757848739624\n",
      "    36    -6.226163e+01     2.950993e-04\n",
      " * time: 4.5920820236206055\n",
      "    37    -6.226165e+01     1.839749e-04\n",
      " * time: 4.662186861038208\n",
      "    38    -6.226166e+01     1.315733e-04\n",
      " * time: 4.7316858768463135\n",
      "    39    -6.226166e+01     1.097548e-04\n",
      " * time: 4.807570934295654\n",
      "    40    -6.226166e+01     8.107998e-05\n",
      " * time: 4.881186008453369\n",
      "    41    -6.226166e+01     6.535517e-05\n",
      " * time: 4.951655864715576\n",
      "    42    -6.226167e+01     5.710657e-05\n",
      " * time: 5.028868913650513\n",
      "    43    -6.226167e+01     3.499224e-05\n",
      " * time: 5.09912896156311\n",
      "    44    -6.226167e+01     2.847263e-05\n",
      " * time: 5.1694629192352295\n",
      "    45    -6.226167e+01     2.756544e-05\n",
      " * time: 5.245900869369507\n",
      "    46    -6.226167e+01     2.208170e-05\n",
      " * time: 5.318022966384888\n",
      "    47    -6.226167e+01     1.663256e-05\n",
      " * time: 5.388433933258057\n",
      "    48    -6.226167e+01     1.403427e-05\n",
      " * time: 5.4681549072265625\n",
      "    49    -6.226167e+01     1.037308e-05\n",
      " * time: 5.5385308265686035\n",
      "    50    -6.226167e+01     6.882827e-06\n",
      " * time: 5.609647989273071\n",
      "    51    -6.226167e+01     5.691960e-06\n",
      " * time: 5.690558910369873\n",
      "    52    -6.226167e+01     4.386523e-06\n",
      " * time: 5.76012396812439\n",
      "    53    -6.226167e+01     3.354550e-06\n",
      " * time: 5.829351902008057\n"
     ]
    }
   ],
   "cell_type": "code",
   "source": [
    "scfres = direct_minimization(basis, tol=1e-5);"
   ],
   "metadata": {},
   "execution_count": 4
  },
  {
   "outputs": [
    {
     "output_type": "execute_result",
     "data": {
      "text/plain": "Energy breakdown:\n    Kinetic             25.7671076\n    AtomicLocal         -18.8557701\n    AtomicNonlocal      14.8522655\n    Ewald               -67.1831486\n    PspCorrection       -2.3569765\n    Hartree             4.8485381 \n    Xc                  -19.3336824\n\n    total               -62.261666459017\n"
     },
     "metadata": {},
     "execution_count": 5
    }
   ],
   "cell_type": "code",
   "source": [
    "scfres.energies"
   ],
   "metadata": {},
   "execution_count": 5
  }
 ],
 "nbformat_minor": 3,
 "metadata": {
  "language_info": {
   "file_extension": ".jl",
   "mimetype": "application/julia",
   "name": "julia",
   "version": "1.5.3"
  },
  "kernelspec": {
   "name": "julia-1.5",
   "display_name": "Julia 1.5.3",
   "language": "julia"
  }
 },
 "nbformat": 4
}
