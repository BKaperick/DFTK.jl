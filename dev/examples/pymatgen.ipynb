{
 "cells": [
  {
   "cell_type": "markdown",
   "source": [
    "# Creating supercells with pymatgen\n",
    "\n",
    "The [Pymatgen](https://pymatgen.org/) python library allows to setup\n",
    "solid-state calculations using a flexible set of classes as well as an API\n",
    "to an online data base of structures. Its `Structure` and `Lattice`\n",
    "objects are directly supported by the DFTK `load_atoms` and `load_lattice`\n",
    "functions, such that DFTK may be readily used to run calculation on systems\n",
    "defined in pymatgen. Using the `pymatgen_structure` function a conversion\n",
    "from DFTK to pymatgen structures is also possible. In the following we\n",
    "use this to create a silicon supercell and find its LDA ground state\n",
    "using direct minimisation."
   ],
   "metadata": {}
  },
  {
   "cell_type": "markdown",
   "source": [
    "First we setup the silicon lattice in DFTK."
   ],
   "metadata": {}
  },
  {
   "outputs": [],
   "cell_type": "code",
   "source": [
    "using DFTK\n",
    "\n",
    "a = 10.263141334305942  # Lattice constant in Bohr\n",
    "lattice = a / 2 .* [[0 1 1.]; [1 0 1.]; [1 1 0.]]\n",
    "Si = ElementPsp(:Si, psp=load_psp(\"hgh/lda/Si-q4\"))\n",
    "atoms = [Si => [ones(3)/8, -ones(3)/8]];"
   ],
   "metadata": {},
   "execution_count": 1
  },
  {
   "cell_type": "markdown",
   "source": [
    "Next we make a `[2, 2, 2]` supercell using pymatgen"
   ],
   "metadata": {}
  },
  {
   "outputs": [],
   "cell_type": "code",
   "source": [
    "pystruct = pymatgen_structure(lattice, atoms)\n",
    "pystruct.make_supercell([2, 2, 2])\n",
    "lattice = load_lattice(pystruct)\n",
    "atoms = [Si => [s.frac_coords for s in pystruct.sites]];"
   ],
   "metadata": {},
   "execution_count": 2
  },
  {
   "cell_type": "markdown",
   "source": [
    "Setup an LDA model and discretize using\n",
    "a single kpoint and a small `Ecut` of 5 Hartree."
   ],
   "metadata": {}
  },
  {
   "outputs": [
    {
     "output_type": "execute_result",
     "data": {
      "text/plain": "PlaneWaveBasis (Ecut=5.0, 1 kpoints)"
     },
     "metadata": {},
     "execution_count": 3
    }
   ],
   "cell_type": "code",
   "source": [
    "model = model_LDA(lattice, atoms)\n",
    "basis = PlaneWaveBasis(model, 5, kgrid=(1, 1, 1))"
   ],
   "metadata": {},
   "execution_count": 3
  },
  {
   "cell_type": "markdown",
   "source": [
    "Find the ground state using direct minimisation (always using SCF is boring ...)"
   ],
   "metadata": {}
  },
  {
   "outputs": [
    {
     "name": "stdout",
     "output_type": "stream",
     "text": [
      "Iter     Function value   Gradient norm \n",
      "     0     1.117167e+02     1.409521e+00\n",
      " * time: 0.7593328952789307\n",
      "     1     1.114701e+01     9.445772e-01\n",
      " * time: 2.266021966934204\n",
      "     2    -1.146398e+01     1.105240e+00\n",
      " * time: 2.979142904281616\n",
      "     3    -3.377732e+01     7.920563e-01\n",
      " * time: 4.049831867218018\n",
      "     4    -4.713506e+01     5.602961e-01\n",
      " * time: 5.14890193939209\n",
      "     5    -5.683249e+01     1.904768e-01\n",
      " * time: 6.234027862548828\n",
      "     6    -5.966554e+01     1.731988e-01\n",
      " * time: 6.951547861099243\n",
      "     7    -6.082192e+01     8.010144e-02\n",
      " * time: 7.681707859039307\n",
      "     8    -6.133789e+01     4.042113e-02\n",
      " * time: 8.39197301864624\n",
      "     9    -6.164940e+01     2.835575e-02\n",
      " * time: 9.08116602897644\n",
      "    10    -6.184785e+01     2.488523e-02\n",
      " * time: 9.789427995681763\n",
      "    11    -6.197745e+01     2.453670e-02\n",
      " * time: 10.520870923995972\n",
      "    12    -6.207084e+01     1.655848e-02\n",
      " * time: 11.254173994064331\n",
      "    13    -6.214115e+01     1.169887e-02\n",
      " * time: 11.989772081375122\n",
      "    14    -6.218710e+01     1.145323e-02\n",
      " * time: 12.753926038742065\n",
      "    15    -6.221564e+01     9.814534e-03\n",
      " * time: 13.484988927841187\n",
      "    16    -6.223196e+01     7.287789e-03\n",
      " * time: 14.197720050811768\n",
      "    17    -6.224159e+01     4.924880e-03\n",
      " * time: 14.919162034988403\n",
      "    18    -6.224784e+01     4.743364e-03\n",
      " * time: 15.647547006607056\n",
      "    19    -6.225177e+01     3.750000e-03\n",
      " * time: 16.348397970199585\n",
      "    20    -6.225452e+01     3.442949e-03\n",
      " * time: 17.06180500984192\n",
      "    21    -6.225674e+01     2.706169e-03\n",
      " * time: 17.767340898513794\n",
      "    22    -6.225867e+01     2.186956e-03\n",
      " * time: 18.483668088912964\n",
      "    23    -6.226006e+01     1.876916e-03\n",
      " * time: 19.198513984680176\n",
      "    24    -6.226085e+01     1.369383e-03\n",
      " * time: 19.916872024536133\n",
      "    25    -6.226127e+01     9.315048e-04\n",
      " * time: 20.635849952697754\n",
      "    26    -6.226146e+01     8.491506e-04\n",
      " * time: 21.36791491508484\n",
      "    27    -6.226155e+01     4.819370e-04\n",
      " * time: 22.09427499771118\n",
      "    28    -6.226160e+01     3.288152e-04\n",
      " * time: 22.811935901641846\n",
      "    29    -6.226162e+01     2.622289e-04\n",
      " * time: 23.503720998764038\n",
      "    30    -6.226163e+01     2.122957e-04\n",
      " * time: 24.231956005096436\n",
      "    31    -6.226164e+01     1.871469e-04\n",
      " * time: 24.917454957962036\n",
      "    32    -6.226165e+01     1.522599e-04\n",
      " * time: 25.628752946853638\n",
      "    33    -6.226166e+01     1.338975e-04\n",
      " * time: 26.341495037078857\n",
      "    34    -6.226166e+01     1.076028e-04\n",
      " * time: 27.067475080490112\n",
      "    35    -6.226166e+01     8.499427e-05\n",
      " * time: 27.780144929885864\n",
      "    36    -6.226167e+01     6.700931e-05\n",
      " * time: 28.500802040100098\n",
      "    37    -6.226167e+01     3.592452e-05\n",
      " * time: 29.1974880695343\n",
      "    38    -6.226167e+01     2.255421e-05\n",
      " * time: 29.923192977905273\n",
      "    39    -6.226167e+01     1.866368e-05\n",
      " * time: 30.64932107925415\n",
      "    40    -6.226167e+01     1.259636e-05\n",
      " * time: 31.37643003463745\n",
      "    41    -6.226167e+01     9.430286e-06\n",
      " * time: 32.125470876693726\n",
      "    42    -6.226167e+01     9.646306e-06\n",
      " * time: 32.83206391334534\n",
      "    43    -6.226167e+01     6.848494e-06\n",
      " * time: 33.55514907836914\n",
      "    44    -6.226167e+01     4.872159e-06\n",
      " * time: 34.282504081726074\n",
      "    45    -6.226167e+01     3.951913e-06\n",
      " * time: 35.030786991119385\n",
      "    46    -6.226167e+01     3.275532e-06\n",
      " * time: 35.72979402542114\n",
      "    47    -6.226167e+01     2.766205e-06\n",
      " * time: 36.444684982299805\n",
      "    48    -6.226167e+01     2.037995e-06\n",
      " * time: 37.173794984817505\n"
     ]
    }
   ],
   "cell_type": "code",
   "source": [
    "scfres = direct_minimization(basis, tol=1e-5);"
   ],
   "metadata": {},
   "execution_count": 4
  },
  {
   "outputs": [
    {
     "output_type": "execute_result",
     "data": {
      "text/plain": "Energy breakdown:\n    Kinetic             25.7671069\n    AtomicLocal         -18.8557655\n    AtomicNonlocal      14.8522623\n    Ewald               -67.1831486\n    PspCorrection       -2.3569765\n    Hartree             4.8485369 \n    Xc                  -19.3336820\n\n    total               -62.261666461541\n"
     },
     "metadata": {},
     "execution_count": 5
    }
   ],
   "cell_type": "code",
   "source": [
    "scfres.energies"
   ],
   "metadata": {},
   "execution_count": 5
  }
 ],
 "nbformat_minor": 3,
 "metadata": {
  "language_info": {
   "file_extension": ".jl",
   "mimetype": "application/julia",
   "name": "julia",
   "version": "1.6.2"
  },
  "kernelspec": {
   "name": "julia-1.6",
   "display_name": "Julia 1.6.2",
   "language": "julia"
  }
 },
 "nbformat": 4
}
