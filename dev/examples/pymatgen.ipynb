{
 "cells": [
  {
   "cell_type": "markdown",
   "source": [
    "# Creating supercells with pymatgen\n",
    "\n",
    "The [Pymatgen](https://pymatgen.org/) python library allows to setup\n",
    "solid-state calculations using a flexible set of classes as well as an API\n",
    "to an online data base of structures. Its `Structure` and `Lattice`\n",
    "objects are directly supported by the DFTK `load_atoms` and `load_lattice`\n",
    "functions, such that DFTK may be readily used to run calculation on systems\n",
    "defined in pymatgen. Using the `pymatgen_structure` function a conversion\n",
    "from DFTK to pymatgen structures is also possible. In the following we\n",
    "use this to create a silicon supercell and find its LDA ground state\n",
    "using direct minimisation."
   ],
   "metadata": {}
  },
  {
   "cell_type": "markdown",
   "source": [
    "First we setup the silicon lattice in DFTK."
   ],
   "metadata": {}
  },
  {
   "outputs": [],
   "cell_type": "code",
   "source": [
    "using DFTK\n",
    "\n",
    "a = 10.263141334305942  # Lattice constant in Bohr\n",
    "lattice = a / 2 .* [[0 1 1.]; [1 0 1.]; [1 1 0.]]\n",
    "Si = ElementPsp(:Si, psp=load_psp(\"hgh/lda/Si-q4\"))\n",
    "atoms = [Si => [ones(3)/8, -ones(3)/8]];"
   ],
   "metadata": {},
   "execution_count": 1
  },
  {
   "cell_type": "markdown",
   "source": [
    "Next we make a `[2, 2, 2]` supercell using pymatgen"
   ],
   "metadata": {}
  },
  {
   "outputs": [],
   "cell_type": "code",
   "source": [
    "pystruct = pymatgen_structure(lattice, atoms)\n",
    "pystruct.make_supercell([2, 2, 2])\n",
    "lattice = load_lattice(pystruct)\n",
    "atoms = [Si => [s.frac_coords for s in pystruct.sites]];"
   ],
   "metadata": {},
   "execution_count": 2
  },
  {
   "cell_type": "markdown",
   "source": [
    "Setup an LDA model and discretize using\n",
    "a single kpoint and a small `Ecut` of 5 Hartree.\n",
    "Notice that `PlaneWaveBasis` defaults to just using the ``Γ``-point\n",
    "if no ``k``-point options are provided."
   ],
   "metadata": {}
  },
  {
   "outputs": [
    {
     "output_type": "execute_result",
     "data": {
      "text/plain": "PlaneWaveBasis (Ecut=5.0, 1 kpoints)"
     },
     "metadata": {},
     "execution_count": 3
    }
   ],
   "cell_type": "code",
   "source": [
    "model = model_LDA(lattice, atoms)\n",
    "basis = PlaneWaveBasis(model, 5)"
   ],
   "metadata": {},
   "execution_count": 3
  },
  {
   "cell_type": "markdown",
   "source": [
    "Find the ground state using direct minimisation (always using SCF is boring ...)"
   ],
   "metadata": {}
  },
  {
   "outputs": [
    {
     "name": "stdout",
     "output_type": "stream",
     "text": [
      "Iter     Function value   Gradient norm \n",
      "     0     1.118732e+02     2.120767e+00\n",
      " * time: 0.08827900886535645\n",
      "     1     1.016047e+01     1.086308e+00\n",
      " * time: 0.9586811065673828\n",
      "     2    -1.199763e+01     1.265166e+00\n",
      " * time: 1.097465991973877\n",
      "     3    -3.413416e+01     1.025769e+00\n",
      " * time: 1.2654049396514893\n",
      "     4    -4.766036e+01     6.577692e-01\n",
      " * time: 1.4148359298706055\n",
      "     5    -5.710637e+01     2.053705e-01\n",
      " * time: 1.5604910850524902\n",
      "     6    -5.988830e+01     1.803777e-01\n",
      " * time: 1.6670520305633545\n",
      "     7    -6.095313e+01     5.293264e-02\n",
      " * time: 1.780668020248413\n",
      "     8    -6.138593e+01     6.561034e-02\n",
      " * time: 1.8952720165252686\n",
      "     9    -6.164354e+01     5.034667e-02\n",
      " * time: 2.0031919479370117\n",
      "    10    -6.185275e+01     2.900325e-02\n",
      " * time: 2.1173629760742188\n",
      "    11    -6.199989e+01     1.935438e-02\n",
      " * time: 2.2253670692443848\n",
      "    12    -6.207010e+01     1.551784e-02\n",
      " * time: 2.3411519527435303\n",
      "    13    -6.211762e+01     1.480023e-02\n",
      " * time: 2.4549219608306885\n",
      "    14    -6.214980e+01     1.329807e-02\n",
      " * time: 2.5621790885925293\n",
      "    15    -6.217194e+01     1.034705e-02\n",
      " * time: 2.6760151386260986\n",
      "    16    -6.218627e+01     1.017779e-02\n",
      " * time: 2.7840349674224854\n",
      "    17    -6.219654e+01     9.861409e-03\n",
      " * time: 2.8974409103393555\n",
      "    18    -6.220503e+01     9.440022e-03\n",
      " * time: 3.010288953781128\n",
      "    19    -6.221239e+01     8.265371e-03\n",
      " * time: 3.117475986480713\n",
      "    20    -6.221947e+01     7.916862e-03\n",
      " * time: 3.2326579093933105\n",
      "    21    -6.222688e+01     8.224893e-03\n",
      " * time: 3.3572840690612793\n",
      "    22    -6.223459e+01     7.834534e-03\n",
      " * time: 3.4763050079345703\n",
      "    23    -6.224215e+01     6.071719e-03\n",
      " * time: 3.59181809425354\n",
      "    24    -6.224846e+01     5.595256e-03\n",
      " * time: 3.6993539333343506\n",
      "    25    -6.225294e+01     4.580911e-03\n",
      " * time: 3.815000057220459\n",
      "    26    -6.225603e+01     3.488431e-03\n",
      " * time: 3.9379169940948486\n",
      "    27    -6.225798e+01     2.825631e-03\n",
      " * time: 4.05601692199707\n",
      "    28    -6.225923e+01     2.343557e-03\n",
      " * time: 4.1725311279296875\n",
      "    29    -6.226008e+01     1.866104e-03\n",
      " * time: 4.280565977096558\n",
      "    30    -6.226069e+01     1.454377e-03\n",
      " * time: 4.395856142044067\n",
      "    31    -6.226109e+01     1.137839e-03\n",
      " * time: 4.504248142242432\n",
      "    32    -6.226133e+01     9.016573e-04\n",
      " * time: 4.618420124053955\n",
      "    33    -6.226149e+01     6.950566e-04\n",
      " * time: 4.731738090515137\n",
      "    34    -6.226158e+01     5.086010e-04\n",
      " * time: 4.838621139526367\n",
      "    35    -6.226162e+01     3.601455e-04\n",
      " * time: 4.953030109405518\n",
      "    36    -6.226164e+01     2.551594e-04\n",
      " * time: 5.060606956481934\n",
      "    37    -6.226165e+01     1.921165e-04\n",
      " * time: 5.173789978027344\n",
      "    38    -6.226166e+01     1.619823e-04\n",
      " * time: 5.287599086761475\n",
      "    39    -6.226166e+01     1.331750e-04\n",
      " * time: 5.3955559730529785\n",
      "    40    -6.226166e+01     1.141869e-04\n",
      " * time: 5.510376930236816\n",
      "    41    -6.226166e+01     9.312890e-05\n",
      " * time: 5.6175761222839355\n",
      "    42    -6.226166e+01     5.784983e-05\n",
      " * time: 5.730777025222778\n",
      "    43    -6.226167e+01     4.611536e-05\n",
      " * time: 5.842477083206177\n",
      "    44    -6.226167e+01     3.194750e-05\n",
      " * time: 5.948694944381714\n",
      "    45    -6.226167e+01     2.407733e-05\n",
      " * time: 6.0606889724731445\n",
      "    46    -6.226167e+01     1.851334e-05\n",
      " * time: 6.167212009429932\n",
      "    47    -6.226167e+01     1.417341e-05\n",
      " * time: 6.28145694732666\n",
      "    48    -6.226167e+01     1.042074e-05\n",
      " * time: 6.394941091537476\n",
      "    49    -6.226167e+01     6.388118e-06\n",
      " * time: 6.502056121826172\n",
      "    50    -6.226167e+01     5.936607e-06\n",
      " * time: 6.6164679527282715\n",
      "    51    -6.226167e+01     5.705290e-06\n",
      " * time: 6.7312541007995605\n",
      "    52    -6.226167e+01     4.794546e-06\n",
      " * time: 6.838135004043579\n",
      "    53    -6.226167e+01     3.518373e-06\n",
      " * time: 6.950091123580933\n"
     ]
    }
   ],
   "cell_type": "code",
   "source": [
    "scfres = direct_minimization(basis, tol=1e-5);"
   ],
   "metadata": {},
   "execution_count": 4
  },
  {
   "outputs": [
    {
     "output_type": "execute_result",
     "data": {
      "text/plain": "Energy breakdown:\n    Kinetic             25.7671074\n    AtomicLocal         -18.8557685\n    AtomicNonlocal      14.8522644\n    Ewald               -67.1831486\n    PspCorrection       -2.3569765\n    Hartree             4.8485377 \n    Xc                  -19.3336823\n\n    total               -62.261666458887\n"
     },
     "metadata": {},
     "execution_count": 5
    }
   ],
   "cell_type": "code",
   "source": [
    "scfres.energies"
   ],
   "metadata": {},
   "execution_count": 5
  }
 ],
 "nbformat_minor": 3,
 "metadata": {
  "language_info": {
   "file_extension": ".jl",
   "mimetype": "application/julia",
   "name": "julia",
   "version": "1.3.1"
  },
  "kernelspec": {
   "name": "julia-1.3",
   "display_name": "Julia 1.3.1",
   "language": "julia"
  }
 },
 "nbformat": 4
}
