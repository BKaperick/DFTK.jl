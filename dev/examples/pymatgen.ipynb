{
 "cells": [
  {
   "cell_type": "markdown",
   "source": [
    "# Creating supercells with pymatgen\n",
    "\n",
    "The [Pymatgen](https://pymatgen.org/) python library allows to setup\n",
    "solid-state calculations using a flexible set of classes as well as an API\n",
    "to an online data base of structures. Its `Structure` and `Lattice`\n",
    "objects are directly supported by the DFTK `load_atoms` and `load_lattice`\n",
    "functions, such that DFTK may be readily used to run calculation on systems\n",
    "defined in pymatgen. Using the `pymatgen_structure` function a conversion\n",
    "from DFTK to pymatgen structures is also possible. In the following we\n",
    "use this to create a silicon supercell and find its LDA ground state\n",
    "using direct minimisation."
   ],
   "metadata": {}
  },
  {
   "cell_type": "markdown",
   "source": [
    "First we setup the silicon lattice in DFTK."
   ],
   "metadata": {}
  },
  {
   "outputs": [],
   "cell_type": "code",
   "source": [
    "using DFTK\n",
    "\n",
    "a = 10.263141334305942  # Lattice constant in Bohr\n",
    "lattice = a / 2 .* [[0 1 1.]; [1 0 1.]; [1 1 0.]]\n",
    "Si = ElementPsp(:Si, psp=load_psp(\"hgh/lda/Si-q4\"))\n",
    "atoms = [Si => [ones(3)/8, -ones(3)/8]];"
   ],
   "metadata": {},
   "execution_count": 1
  },
  {
   "cell_type": "markdown",
   "source": [
    "Next we make a `[2, 2, 2]` supercell using pymatgen"
   ],
   "metadata": {}
  },
  {
   "outputs": [],
   "cell_type": "code",
   "source": [
    "pystruct = pymatgen_structure(lattice, atoms)\n",
    "pystruct.make_supercell([2, 2, 2])\n",
    "lattice = load_lattice(pystruct)\n",
    "atoms = [Si => [s.frac_coords for s in pystruct.sites]];"
   ],
   "metadata": {},
   "execution_count": 2
  },
  {
   "cell_type": "markdown",
   "source": [
    "Setup an LDA model and discretize using\n",
    "a single kpoint and a small `Ecut` of 5 Hartree.\n",
    "Notice that `PlaneWaveBasis` defaults to just using the ``Γ``-point\n",
    "if no ``k``-point options are provided."
   ],
   "metadata": {}
  },
  {
   "outputs": [
    {
     "output_type": "execute_result",
     "data": {
      "text/plain": "PlaneWaveBasis (Ecut=5.0, 1 kpoints)"
     },
     "metadata": {},
     "execution_count": 3
    }
   ],
   "cell_type": "code",
   "source": [
    "model = model_LDA(lattice, atoms)\n",
    "basis = PlaneWaveBasis(model, 5)"
   ],
   "metadata": {},
   "execution_count": 3
  },
  {
   "cell_type": "markdown",
   "source": [
    "Find the ground state using direct minimisation (always using SCF is boring ...)"
   ],
   "metadata": {}
  },
  {
   "outputs": [
    {
     "name": "stdout",
     "output_type": "stream",
     "text": [
      "Iter     Function value   Gradient norm \n",
      "     0     1.118047e+02     1.678916e+00\n",
      " * time: 0.1271660327911377\n",
      "     1     1.098278e+01     1.036426e+00\n",
      " * time: 0.9389228820800781\n",
      "     2    -1.177605e+01     1.247153e+00\n",
      " * time: 1.0701611042022705\n",
      "     3    -3.414738e+01     8.672077e-01\n",
      " * time: 1.2296490669250488\n",
      "     4    -4.771223e+01     6.306280e-01\n",
      " * time: 1.3788509368896484\n",
      "     5    -5.705415e+01     1.966517e-01\n",
      " * time: 1.521320104598999\n",
      "     6    -5.998735e+01     8.855971e-02\n",
      " * time: 1.6260221004486084\n",
      "     7    -6.096803e+01     7.395612e-02\n",
      " * time: 1.737795114517212\n",
      "     8    -6.137245e+01     6.958022e-02\n",
      " * time: 1.8436920642852783\n",
      "     9    -6.169933e+01     4.061100e-02\n",
      " * time: 1.9583220481872559\n",
      "    10    -6.190526e+01     3.095862e-02\n",
      " * time: 2.065433979034424\n",
      "    11    -6.203424e+01     2.133797e-02\n",
      " * time: 2.177988052368164\n",
      "    12    -6.209715e+01     1.772219e-02\n",
      " * time: 2.2829771041870117\n",
      "    13    -6.214429e+01     1.323183e-02\n",
      " * time: 2.396841049194336\n",
      "    14    -6.217139e+01     1.125353e-02\n",
      " * time: 2.5037150382995605\n",
      "    15    -6.219123e+01     9.656524e-03\n",
      " * time: 2.618518114089966\n",
      "    16    -6.220355e+01     7.869524e-03\n",
      " * time: 2.7265050411224365\n",
      "    17    -6.221297e+01     6.970237e-03\n",
      " * time: 2.842607021331787\n",
      "    18    -6.222152e+01     5.898798e-03\n",
      " * time: 2.9503579139709473\n",
      "    19    -6.222899e+01     6.048338e-03\n",
      " * time: 3.0645029544830322\n",
      "    20    -6.223541e+01     5.736891e-03\n",
      " * time: 3.179529905319214\n",
      "    21    -6.224137e+01     6.565432e-03\n",
      " * time: 3.2867848873138428\n",
      "    22    -6.224723e+01     6.279370e-03\n",
      " * time: 3.399311065673828\n",
      "    23    -6.225270e+01     5.005838e-03\n",
      " * time: 3.5050129890441895\n",
      "    24    -6.225656e+01     3.061876e-03\n",
      " * time: 3.6167709827423096\n",
      "    25    -6.225869e+01     2.276268e-03\n",
      " * time: 3.72161602973938\n",
      "    26    -6.225982e+01     1.722472e-03\n",
      " * time: 3.8336739540100098\n",
      "    27    -6.226041e+01     1.848003e-03\n",
      " * time: 3.9400250911712646\n",
      "    28    -6.226079e+01     1.348324e-03\n",
      " * time: 4.052030086517334\n",
      "    29    -6.226107e+01     1.155797e-03\n",
      " * time: 4.1582090854644775\n",
      "    30    -6.226128e+01     9.294162e-04\n",
      " * time: 4.27203893661499\n",
      "    31    -6.226143e+01     7.424600e-04\n",
      " * time: 4.3778159618377686\n",
      "    32    -6.226153e+01     5.390134e-04\n",
      " * time: 4.4910290241241455\n",
      "    33    -6.226159e+01     4.809786e-04\n",
      " * time: 4.5973310470581055\n",
      "    34    -6.226163e+01     3.675479e-04\n",
      " * time: 4.709780931472778\n",
      "    35    -6.226165e+01     2.518945e-04\n",
      " * time: 4.815387010574341\n",
      "    36    -6.226166e+01     1.568361e-04\n",
      " * time: 4.927613973617554\n",
      "    37    -6.226166e+01     1.298971e-04\n",
      " * time: 5.033030986785889\n",
      "    38    -6.226166e+01     8.939569e-05\n",
      " * time: 5.1473069190979\n",
      "    39    -6.226166e+01     7.839766e-05\n",
      " * time: 5.260130882263184\n",
      "    40    -6.226167e+01     5.501584e-05\n",
      " * time: 5.366950035095215\n",
      "    41    -6.226167e+01     4.116273e-05\n",
      " * time: 5.4793860912323\n",
      "    42    -6.226167e+01     3.513145e-05\n",
      " * time: 5.586174964904785\n",
      "    43    -6.226167e+01     2.618860e-05\n",
      " * time: 5.700599908828735\n",
      "    44    -6.226167e+01     2.548860e-05\n",
      " * time: 5.807287931442261\n",
      "    45    -6.226167e+01     2.180606e-05\n",
      " * time: 5.9224278926849365\n",
      "    46    -6.226167e+01     1.423095e-05\n",
      " * time: 6.029706001281738\n",
      "    47    -6.226167e+01     1.078622e-05\n",
      " * time: 6.145153045654297\n",
      "    48    -6.226167e+01     5.760314e-06\n",
      " * time: 6.252227067947388\n",
      "    49    -6.226167e+01     5.738430e-06\n",
      " * time: 6.364865064620972\n",
      "    50    -6.226167e+01     3.254079e-06\n",
      " * time: 6.4704060554504395\n"
     ]
    }
   ],
   "cell_type": "code",
   "source": [
    "scfres = direct_minimization(basis, tol=1e-5);"
   ],
   "metadata": {},
   "execution_count": 4
  },
  {
   "outputs": [
    {
     "output_type": "execute_result",
     "data": {
      "text/plain": "Energy breakdown:\n    Kinetic             25.7671068\n    AtomicLocal         -18.8557671\n    AtomicNonlocal      14.8522636\n    Ewald               -67.1831486\n    PspCorrection       -2.3569765\n    Hartree             4.8485375 \n    Xc                  -19.3336822\n\n    total               -62.261666458759\n"
     },
     "metadata": {},
     "execution_count": 5
    }
   ],
   "cell_type": "code",
   "source": [
    "scfres.energies"
   ],
   "metadata": {},
   "execution_count": 5
  }
 ],
 "nbformat_minor": 3,
 "metadata": {
  "language_info": {
   "file_extension": ".jl",
   "mimetype": "application/julia",
   "name": "julia",
   "version": "1.3.1"
  },
  "kernelspec": {
   "name": "julia-1.3",
   "display_name": "Julia 1.3.1",
   "language": "julia"
  }
 },
 "nbformat": 4
}
