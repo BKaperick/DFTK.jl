{
 "cells": [
  {
   "cell_type": "markdown",
   "source": [
    "# Creating supercells with pymatgen\n",
    "\n",
    "The [Pymatgen](https://pymatgen.org/) python library allows to setup\n",
    "solid-state calculations using a flexible set of classes as well as an API\n",
    "to an online data base of structures. Its `Structure` and `Lattice`\n",
    "objects are directly supported by the DFTK `load_atoms` and `load_lattice`\n",
    "functions, such that DFTK may be readily used to run calculation on systems\n",
    "defined in pymatgen. Using the `pymatgen_structure` function a conversion\n",
    "from DFTK to pymatgen structures is also possible. In the following we\n",
    "use this to create a silicon supercell and find its LDA ground state\n",
    "using direct minimisation."
   ],
   "metadata": {}
  },
  {
   "cell_type": "markdown",
   "source": [
    "First we setup the silicon lattice in DFTK."
   ],
   "metadata": {}
  },
  {
   "outputs": [],
   "cell_type": "code",
   "source": [
    "using DFTK\n",
    "\n",
    "a = 10.263141334305942  # Lattice constant in Bohr\n",
    "lattice = a / 2 .* [[0 1 1.]; [1 0 1.]; [1 1 0.]]\n",
    "Si = ElementPsp(:Si, psp=load_psp(\"hgh/lda/Si-q4\"))\n",
    "atoms = [Si => [ones(3)/8, -ones(3)/8]];"
   ],
   "metadata": {},
   "execution_count": 1
  },
  {
   "cell_type": "markdown",
   "source": [
    "Next we make a `[2, 2, 2]` supercell using pymatgen"
   ],
   "metadata": {}
  },
  {
   "outputs": [],
   "cell_type": "code",
   "source": [
    "pystruct = pymatgen_structure(lattice, atoms)\n",
    "pystruct.make_supercell([2, 2, 2])\n",
    "lattice = load_lattice(pystruct)\n",
    "atoms = [Si => [s.frac_coords for s in pystruct.sites]];"
   ],
   "metadata": {},
   "execution_count": 2
  },
  {
   "cell_type": "markdown",
   "source": [
    "Setup an LDA model and discretize using\n",
    "a single kpoint and a small `Ecut` of 5 Hartree.\n",
    "Notice that `PlaneWaveBasis` defaults to just using the ``Γ``-point\n",
    "if no ``k``-point options are provided."
   ],
   "metadata": {}
  },
  {
   "outputs": [
    {
     "output_type": "execute_result",
     "data": {
      "text/plain": "PlaneWaveBasis (Ecut=5.0, 1 kpoints)"
     },
     "metadata": {},
     "execution_count": 3
    }
   ],
   "cell_type": "code",
   "source": [
    "model = model_LDA(lattice, atoms)\n",
    "basis = PlaneWaveBasis(model, 5)"
   ],
   "metadata": {},
   "execution_count": 3
  },
  {
   "cell_type": "markdown",
   "source": [
    "Find the ground state using direct minimisation (always using SCF is boring ...)"
   ],
   "metadata": {}
  },
  {
   "outputs": [
    {
     "name": "stdout",
     "output_type": "stream",
     "text": [
      "Iter     Function value   Gradient norm \n",
      "     0     1.114016e+02     1.625323e+00\n",
      " * time: 0.12853789329528809\n",
      "     1     1.059104e+01     9.787446e-01\n",
      " * time: 1.0091850757598877\n",
      "     2    -1.057054e+01     1.017210e+00\n",
      " * time: 1.154404878616333\n",
      "     3    -3.332094e+01     8.315349e-01\n",
      " * time: 1.315176010131836\n",
      "     4    -4.650909e+01     7.051791e-01\n",
      " * time: 1.4667038917541504\n",
      "     5    -5.644754e+01     2.723994e-01\n",
      " * time: 1.6083869934082031\n",
      "     6    -5.945460e+01     2.452829e-01\n",
      " * time: 1.726240873336792\n",
      "     7    -6.071587e+01     1.093965e-01\n",
      " * time: 1.846817970275879\n",
      "     8    -6.125508e+01     4.079570e-02\n",
      " * time: 1.9587469100952148\n",
      "     9    -6.157361e+01     2.983654e-02\n",
      " * time: 2.0774478912353516\n",
      "    10    -6.176891e+01     3.854248e-02\n",
      " * time: 2.1883790493011475\n",
      "    11    -6.189098e+01     2.813712e-02\n",
      " * time: 2.3076589107513428\n",
      "    12    -6.198773e+01     2.189893e-02\n",
      " * time: 2.427854061126709\n",
      "    13    -6.206206e+01     1.499662e-02\n",
      " * time: 2.538343906402588\n",
      "    14    -6.210880e+01     1.521265e-02\n",
      " * time: 2.6575849056243896\n",
      "    15    -6.214528e+01     1.474620e-02\n",
      " * time: 2.769463062286377\n",
      "    16    -6.216608e+01     1.249575e-02\n",
      " * time: 2.888943910598755\n",
      "    17    -6.218270e+01     1.228666e-02\n",
      " * time: 3.006566047668457\n",
      "    18    -6.219492e+01     8.783309e-03\n",
      " * time: 3.1158249378204346\n",
      "    19    -6.220461e+01     7.877071e-03\n",
      " * time: 3.2317309379577637\n",
      "    20    -6.221275e+01     7.520720e-03\n",
      " * time: 3.3489339351654053\n",
      "    21    -6.222113e+01     6.909201e-03\n",
      " * time: 3.4580190181732178\n",
      "    22    -6.222944e+01     6.462401e-03\n",
      " * time: 3.5764338970184326\n",
      "    23    -6.223674e+01     5.991854e-03\n",
      " * time: 3.698884963989258\n",
      "    24    -6.224304e+01     6.361623e-03\n",
      " * time: 3.8241989612579346\n",
      "    25    -6.224831e+01     4.340710e-03\n",
      " * time: 3.942556858062744\n",
      "    26    -6.225267e+01     3.939585e-03\n",
      " * time: 4.052016019821167\n",
      "    27    -6.225556e+01     3.281607e-03\n",
      " * time: 4.170958995819092\n",
      "    28    -6.225749e+01     2.715621e-03\n",
      " * time: 4.295197010040283\n",
      "    29    -6.225887e+01     2.352864e-03\n",
      " * time: 4.419090986251831\n",
      "    30    -6.225988e+01     1.981598e-03\n",
      " * time: 4.536349058151245\n",
      "    31    -6.226058e+01     1.807550e-03\n",
      " * time: 4.6449689865112305\n",
      "    32    -6.226104e+01     1.199571e-03\n",
      " * time: 4.76214599609375\n",
      "    33    -6.226133e+01     9.768722e-04\n",
      " * time: 4.886551856994629\n",
      "    34    -6.226149e+01     6.217592e-04\n",
      " * time: 5.0076000690460205\n",
      "    35    -6.226158e+01     5.056356e-04\n",
      " * time: 5.1257898807525635\n",
      "    36    -6.226162e+01     3.531010e-04\n",
      " * time: 5.234596014022827\n",
      "    37    -6.226164e+01     2.603998e-04\n",
      " * time: 5.350317001342773\n",
      "    38    -6.226165e+01     2.156982e-04\n",
      " * time: 5.459873914718628\n",
      "    39    -6.226166e+01     1.419871e-04\n",
      " * time: 5.577890872955322\n",
      "    40    -6.226166e+01     1.193345e-04\n",
      " * time: 5.694540023803711\n",
      "    41    -6.226166e+01     9.477315e-05\n",
      " * time: 5.80405592918396\n",
      "    42    -6.226166e+01     7.719045e-05\n",
      " * time: 5.920989036560059\n",
      "    43    -6.226166e+01     6.585472e-05\n",
      " * time: 6.031044960021973\n",
      "    44    -6.226167e+01     5.857823e-05\n",
      " * time: 6.147477865219116\n",
      "    45    -6.226167e+01     3.461216e-05\n",
      " * time: 6.266682863235474\n",
      "    46    -6.226167e+01     2.850337e-05\n",
      " * time: 6.376590967178345\n",
      "    47    -6.226167e+01     2.199766e-05\n",
      " * time: 6.495391845703125\n",
      "    48    -6.226167e+01     1.834633e-05\n",
      " * time: 6.6059019565582275\n",
      "    49    -6.226167e+01     1.171065e-05\n",
      " * time: 6.723747968673706\n",
      "    50    -6.226167e+01     9.570561e-06\n",
      " * time: 6.841738939285278\n",
      "    51    -6.226167e+01     6.641410e-06\n",
      " * time: 6.949795961380005\n",
      "    52    -6.226167e+01     5.807143e-06\n",
      " * time: 7.066415071487427\n",
      "    53    -6.226167e+01     4.852277e-06\n",
      " * time: 7.1769700050354\n",
      "    54    -6.226167e+01     4.321470e-06\n",
      " * time: 7.2949888706207275\n",
      "    55    -6.226167e+01     3.289153e-06\n",
      " * time: 7.413985967636108\n",
      "    56    -6.226167e+01     2.167134e-06\n",
      " * time: 7.523624897003174\n",
      "    57    -6.226167e+01     1.720626e-06\n",
      " * time: 7.639972925186157\n"
     ]
    }
   ],
   "cell_type": "code",
   "source": [
    "scfres = direct_minimization(basis, tol=1e-5);"
   ],
   "metadata": {},
   "execution_count": 4
  },
  {
   "outputs": [
    {
     "output_type": "execute_result",
     "data": {
      "text/plain": "Energy breakdown:\n    Kinetic             25.7671067\n    AtomicLocal         -18.8557676\n    AtomicNonlocal      14.8522645\n    Ewald               -67.1831486\n    PspCorrection       -2.3569765\n    Hartree             4.8485371 \n    Xc                  -19.3336820\n\n    total               -62.261666462534\n"
     },
     "metadata": {},
     "execution_count": 5
    }
   ],
   "cell_type": "code",
   "source": [
    "scfres.energies"
   ],
   "metadata": {},
   "execution_count": 5
  }
 ],
 "nbformat_minor": 3,
 "metadata": {
  "language_info": {
   "file_extension": ".jl",
   "mimetype": "application/julia",
   "name": "julia",
   "version": "1.3.1"
  },
  "kernelspec": {
   "name": "julia-1.3",
   "display_name": "Julia 1.3.1",
   "language": "julia"
  }
 },
 "nbformat": 4
}
