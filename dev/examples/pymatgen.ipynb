{
 "cells": [
  {
   "cell_type": "markdown",
   "source": [
    "# Creating supercells with pymatgen\n",
    "\n",
    "The [Pymatgen](https://pymatgen.org/) python library allows to setup\n",
    "solid-state calculations using a flexible set of classes as well as an API\n",
    "to an online data base of structures. Its `Structure` and `Lattice`\n",
    "objects are directly supported by the DFTK `load_atoms` and `load_lattice`\n",
    "functions, such that DFTK may be readily used to run calculation on systems\n",
    "defined in pymatgen. Using the `pymatgen_structure` function a conversion\n",
    "from DFTK to pymatgen structures is also possible. In the following we\n",
    "use this to create a silicon supercell and find its LDA ground state\n",
    "using direct minimisation."
   ],
   "metadata": {}
  },
  {
   "cell_type": "markdown",
   "source": [
    "First we setup the silicon lattice in DFTK."
   ],
   "metadata": {}
  },
  {
   "outputs": [],
   "cell_type": "code",
   "source": [
    "using DFTK\n",
    "\n",
    "a = 10.263141334305942  # Lattice constant in Bohr\n",
    "lattice = a / 2 .* [[0 1 1.]; [1 0 1.]; [1 1 0.]]\n",
    "Si = ElementPsp(:Si, psp=load_psp(\"hgh/lda/Si-q4\"))\n",
    "atoms = [Si => [ones(3)/8, -ones(3)/8]];"
   ],
   "metadata": {},
   "execution_count": 1
  },
  {
   "cell_type": "markdown",
   "source": [
    "Next we make a `[2, 2, 2]` supercell using pymatgen"
   ],
   "metadata": {}
  },
  {
   "outputs": [],
   "cell_type": "code",
   "source": [
    "pystruct = pymatgen_structure(lattice, atoms)\n",
    "pystruct.make_supercell([2, 2, 2])\n",
    "lattice = load_lattice(pystruct)\n",
    "atoms = [Si => [s.frac_coords for s in pystruct.sites]];"
   ],
   "metadata": {},
   "execution_count": 2
  },
  {
   "cell_type": "markdown",
   "source": [
    "Setup an LDA model and discretize using\n",
    "a single kpoint and a small `Ecut` of 5 Hartree.\n",
    "Notice that `PlaneWaveBasis` defaults to just using the ``Γ``-point\n",
    "if no ``k``-point options are provided."
   ],
   "metadata": {}
  },
  {
   "outputs": [
    {
     "output_type": "execute_result",
     "data": {
      "text/plain": "PlaneWaveBasis (Ecut=5.0, 1 kpoints)"
     },
     "metadata": {},
     "execution_count": 3
    }
   ],
   "cell_type": "code",
   "source": [
    "model = model_LDA(lattice, atoms)\n",
    "basis = PlaneWaveBasis(model, 5)"
   ],
   "metadata": {},
   "execution_count": 3
  },
  {
   "cell_type": "markdown",
   "source": [
    "Find the ground state using direct minimisation (always using SCF is boring ...)"
   ],
   "metadata": {}
  },
  {
   "outputs": [
    {
     "name": "stdout",
     "output_type": "stream",
     "text": [
      "Iter     Function value   Gradient norm \n",
      "     0     1.120255e+02     1.579727e+00\n",
      " * time: 0.13536596298217773\n",
      "     1     1.114429e+01     9.213813e-01\n",
      " * time: 0.9808518886566162\n",
      "     2    -1.232745e+01     1.095610e+00\n",
      " * time: 1.1190190315246582\n",
      "     3    -3.386204e+01     8.936710e-01\n",
      " * time: 1.4183568954467773\n",
      "     4    -4.742967e+01     6.447175e-01\n",
      " * time: 1.8536789417266846\n",
      "     5    -5.680124e+01     2.146038e-01\n",
      " * time: 1.9975969791412354\n",
      "     6    -5.964691e+01     1.694260e-01\n",
      " * time: 2.3076589107513428\n",
      "     7    -6.084574e+01     7.411796e-02\n",
      " * time: 2.425581932067871\n",
      "     8    -6.137020e+01     4.595670e-02\n",
      " * time: 2.5433850288391113\n",
      "     9    -6.168367e+01     4.067040e-02\n",
      " * time: 2.6557459831237793\n",
      "    10    -6.185960e+01     3.295004e-02\n",
      " * time: 2.772977113723755\n",
      "    11    -6.201269e+01     2.336900e-02\n",
      " * time: 2.889857053756714\n",
      "    12    -6.210748e+01     1.821666e-02\n",
      " * time: 3.006398916244507\n",
      "    13    -6.216897e+01     1.366141e-02\n",
      " * time: 3.1232059001922607\n",
      "    14    -6.220152e+01     9.882656e-03\n",
      " * time: 3.2347629070281982\n",
      "    15    -6.222308e+01     9.399057e-03\n",
      " * time: 3.350788116455078\n",
      "    16    -6.223412e+01     6.559177e-03\n",
      " * time: 3.4675769805908203\n",
      "    17    -6.224145e+01     5.276926e-03\n",
      " * time: 3.583193063735962\n",
      "    18    -6.224692e+01     4.545172e-03\n",
      " * time: 3.6936631202697754\n",
      "    19    -6.225082e+01     3.482927e-03\n",
      " * time: 3.8086330890655518\n",
      "    20    -6.225404e+01     3.879358e-03\n",
      " * time: 3.9239768981933594\n",
      "    21    -6.225660e+01     3.120747e-03\n",
      " * time: 4.03781795501709\n",
      "    22    -6.225862e+01     2.726289e-03\n",
      " * time: 4.145704030990601\n",
      "    23    -6.226005e+01     2.116793e-03\n",
      " * time: 4.2597479820251465\n",
      "    24    -6.226092e+01     1.407223e-03\n",
      " * time: 4.3742969036102295\n",
      "    25    -6.226133e+01     8.649714e-04\n",
      " * time: 4.48861289024353\n",
      "    26    -6.226150e+01     7.378891e-04\n",
      " * time: 4.603111982345581\n",
      "    27    -6.226158e+01     5.364720e-04\n",
      " * time: 4.7121100425720215\n",
      "    28    -6.226161e+01     4.029700e-04\n",
      " * time: 4.825700998306274\n",
      "    29    -6.226163e+01     3.030808e-04\n",
      " * time: 4.939523935317993\n",
      "    30    -6.226164e+01     2.612337e-04\n",
      " * time: 5.054292917251587\n",
      "    31    -6.226165e+01     1.970734e-04\n",
      " * time: 5.1617491245269775\n",
      "    32    -6.226166e+01     1.746338e-04\n",
      " * time: 5.275792121887207\n",
      "    33    -6.226166e+01     1.157144e-04\n",
      " * time: 5.389863967895508\n",
      "    34    -6.226166e+01     8.317677e-05\n",
      " * time: 5.502846002578735\n",
      "    35    -6.226166e+01     6.942066e-05\n",
      " * time: 5.613127946853638\n",
      "    36    -6.226167e+01     6.449560e-05\n",
      " * time: 5.726812124252319\n",
      "    37    -6.226167e+01     3.705189e-05\n",
      " * time: 5.840251922607422\n",
      "    38    -6.226167e+01     2.593940e-05\n",
      " * time: 5.955326080322266\n",
      "    39    -6.226167e+01     1.704695e-05\n",
      " * time: 6.063668966293335\n",
      "    40    -6.226167e+01     1.362848e-05\n",
      " * time: 6.177047967910767\n",
      "    41    -6.226167e+01     1.121226e-05\n",
      " * time: 6.291192054748535\n",
      "    42    -6.226167e+01     8.843069e-06\n",
      " * time: 6.406606912612915\n",
      "    43    -6.226167e+01     8.127752e-06\n",
      " * time: 6.520463943481445\n",
      "    44    -6.226167e+01     6.559012e-06\n",
      " * time: 6.628983020782471\n",
      "    45    -6.226167e+01     5.438780e-06\n",
      " * time: 6.742680072784424\n",
      "    46    -6.226167e+01     4.140655e-06\n",
      " * time: 6.85671591758728\n",
      "    47    -6.226167e+01     3.370886e-06\n",
      " * time: 6.970020055770874\n",
      "    48    -6.226167e+01     2.310841e-06\n",
      " * time: 7.077204942703247\n"
     ]
    }
   ],
   "cell_type": "code",
   "source": [
    "scfres = direct_minimization(basis, tol=1e-5);"
   ],
   "metadata": {},
   "execution_count": 4
  },
  {
   "outputs": [
    {
     "output_type": "execute_result",
     "data": {
      "text/plain": "Energy breakdown:\n    Kinetic             25.7671070\n    AtomicLocal         -18.8557667\n    AtomicNonlocal      14.8522634\n    Ewald               -67.1831486\n    PspCorrection       -2.3569765\n    Hartree             4.8485370 \n    Xc                  -19.3336820\n\n    total               -62.261666461960\n"
     },
     "metadata": {},
     "execution_count": 5
    }
   ],
   "cell_type": "code",
   "source": [
    "scfres.energies"
   ],
   "metadata": {},
   "execution_count": 5
  }
 ],
 "nbformat_minor": 3,
 "metadata": {
  "language_info": {
   "file_extension": ".jl",
   "mimetype": "application/julia",
   "name": "julia",
   "version": "1.3.1"
  },
  "kernelspec": {
   "name": "julia-1.3",
   "display_name": "Julia 1.3.1",
   "language": "julia"
  }
 },
 "nbformat": 4
}
