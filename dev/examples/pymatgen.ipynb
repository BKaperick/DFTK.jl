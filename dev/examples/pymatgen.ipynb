{
 "cells": [
  {
   "cell_type": "markdown",
   "source": [
    "# Creating supercells with pymatgen\n",
    "\n",
    "The [Pymatgen](https://pymatgen.org/) python library allows to setup\n",
    "solid-state calculations using a flexible set of classes as well as an API\n",
    "to an online data base of structures. Its `Structure` and `Lattice`\n",
    "objects are directly supported by the DFTK `load_atoms` and `load_lattice`\n",
    "functions, such that DFTK may be readily used to run calculation on systems\n",
    "defined in pymatgen. Using the `pymatgen_structure` function a conversion\n",
    "from DFTK to pymatgen structures is also possible. In the following we\n",
    "use this to create a silicon supercell and find its LDA ground state\n",
    "using direct minimisation."
   ],
   "metadata": {}
  },
  {
   "cell_type": "markdown",
   "source": [
    "First we setup the silicon lattice in DFTK."
   ],
   "metadata": {}
  },
  {
   "outputs": [],
   "cell_type": "code",
   "source": [
    "using DFTK\n",
    "\n",
    "a = 10.263141334305942  # Lattice constant in Bohr\n",
    "lattice = a / 2 .* [[0 1 1.]; [1 0 1.]; [1 1 0.]]\n",
    "Si = ElementPsp(:Si, psp=load_psp(\"hgh/lda/Si-q4\"))\n",
    "atoms = [Si => [ones(3)/8, -ones(3)/8]];"
   ],
   "metadata": {},
   "execution_count": 1
  },
  {
   "cell_type": "markdown",
   "source": [
    "Next we make a `[2, 2, 2]` supercell using pymatgen"
   ],
   "metadata": {}
  },
  {
   "outputs": [],
   "cell_type": "code",
   "source": [
    "pystruct = pymatgen_structure(lattice, atoms)\n",
    "pystruct.make_supercell([2, 2, 2])\n",
    "lattice = load_lattice(pystruct)\n",
    "atoms = [Si => [s.frac_coords for s in pystruct.sites]];"
   ],
   "metadata": {},
   "execution_count": 2
  },
  {
   "cell_type": "markdown",
   "source": [
    "Setup an LDA model and discretize using\n",
    "a single kpoint and a small `Ecut` of 5 Hartree."
   ],
   "metadata": {}
  },
  {
   "outputs": [
    {
     "output_type": "execute_result",
     "data": {
      "text/plain": "PlaneWaveBasis (Ecut=5.0, 1 kpoints)"
     },
     "metadata": {},
     "execution_count": 3
    }
   ],
   "cell_type": "code",
   "source": [
    "model = model_LDA(lattice, atoms)\n",
    "basis = PlaneWaveBasis(model, 5, kgrid=(1, 1, 1))"
   ],
   "metadata": {},
   "execution_count": 3
  },
  {
   "cell_type": "markdown",
   "source": [
    "Find the ground state using direct minimisation (always using SCF is boring ...)"
   ],
   "metadata": {}
  },
  {
   "outputs": [
    {
     "name": "stdout",
     "output_type": "stream",
     "text": [
      "Iter     Function value   Gradient norm \n",
      "     0     1.112697e+02     1.583388e+00\n",
      " * time: 0.08477997779846191\n",
      "     1     9.915796e+00     9.180628e-01\n",
      " * time: 1.009108066558838\n",
      "     2    -1.230176e+01     1.068952e+00\n",
      " * time: 1.138904094696045\n",
      "     3    -3.449712e+01     8.475081e-01\n",
      " * time: 1.5711638927459717\n",
      "     4    -4.784883e+01     6.226568e-01\n",
      " * time: 1.7188100814819336\n",
      "     5    -5.718278e+01     1.855201e-01\n",
      " * time: 1.8642640113830566\n",
      "     6    -5.988702e+01     1.217322e-01\n",
      " * time: 1.979780912399292\n",
      "     7    -6.094240e+01     5.503898e-02\n",
      " * time: 2.0879459381103516\n",
      "     8    -6.136620e+01     3.840235e-02\n",
      " * time: 2.2004098892211914\n",
      "     9    -6.162073e+01     3.444705e-02\n",
      " * time: 2.3137760162353516\n",
      "    10    -6.180777e+01     3.750444e-02\n",
      " * time: 2.4282209873199463\n",
      "    11    -6.195621e+01     2.989796e-02\n",
      " * time: 2.5347800254821777\n",
      "    12    -6.205211e+01     1.803633e-02\n",
      " * time: 2.645456075668335\n",
      "    13    -6.210071e+01     1.626302e-02\n",
      " * time: 2.7577810287475586\n",
      "    14    -6.214764e+01     1.289151e-02\n",
      " * time: 2.8696200847625732\n",
      "    15    -6.216750e+01     1.159600e-02\n",
      " * time: 2.974714994430542\n",
      "    16    -6.218298e+01     7.957336e-03\n",
      " * time: 3.085603952407837\n",
      "    17    -6.219362e+01     6.812259e-03\n",
      " * time: 3.19697904586792\n",
      "    18    -6.220242e+01     5.702806e-03\n",
      " * time: 3.3080010414123535\n",
      "    19    -6.220937e+01     6.291522e-03\n",
      " * time: 3.4189751148223877\n",
      "    20    -6.221574e+01     6.535139e-03\n",
      " * time: 3.5237579345703125\n",
      "    21    -6.222169e+01     6.850599e-03\n",
      " * time: 3.634752035140991\n",
      "    22    -6.222753e+01     6.776190e-03\n",
      " * time: 3.745413064956665\n",
      "    23    -6.223322e+01     5.936189e-03\n",
      " * time: 3.85562801361084\n",
      "    24    -6.223898e+01     5.602406e-03\n",
      " * time: 3.9596729278564453\n",
      "    25    -6.224465e+01     5.186619e-03\n",
      " * time: 4.070101976394653\n",
      "    26    -6.224952e+01     4.423564e-03\n",
      " * time: 4.180459022521973\n",
      "    27    -6.225319e+01     4.035129e-03\n",
      " * time: 4.291635036468506\n",
      "    28    -6.225613e+01     3.178168e-03\n",
      " * time: 4.395502090454102\n",
      "    29    -6.225828e+01     2.410615e-03\n",
      " * time: 4.505561113357544\n",
      "    30    -6.225969e+01     2.193609e-03\n",
      " * time: 4.615839004516602\n",
      "    31    -6.226053e+01     1.903703e-03\n",
      " * time: 4.726011037826538\n",
      "    32    -6.226104e+01     1.511996e-03\n",
      " * time: 4.837687015533447\n",
      "    33    -6.226135e+01     9.564359e-04\n",
      " * time: 4.941756010055542\n",
      "    34    -6.226152e+01     6.676603e-04\n",
      " * time: 5.054452896118164\n",
      "    35    -6.226159e+01     4.177350e-04\n",
      " * time: 5.1657679080963135\n",
      "    36    -6.226163e+01     3.471604e-04\n",
      " * time: 5.288763999938965\n",
      "    37    -6.226164e+01     2.729793e-04\n",
      " * time: 5.393799066543579\n",
      "    38    -6.226165e+01     2.080179e-04\n",
      " * time: 5.505440950393677\n",
      "    39    -6.226166e+01     1.574681e-04\n",
      " * time: 5.615772008895874\n",
      "    40    -6.226166e+01     1.158348e-04\n",
      " * time: 5.726367950439453\n",
      "    41    -6.226166e+01     9.912024e-05\n",
      " * time: 5.831424951553345\n",
      "    42    -6.226166e+01     7.498659e-05\n",
      " * time: 5.942164897918701\n",
      "    43    -6.226167e+01     6.312394e-05\n",
      " * time: 6.052019119262695\n",
      "    44    -6.226167e+01     5.394304e-05\n",
      " * time: 6.162149906158447\n",
      "    45    -6.226167e+01     3.768531e-05\n",
      " * time: 6.272893905639648\n",
      "    46    -6.226167e+01     2.110346e-05\n",
      " * time: 6.378180027008057\n",
      "    47    -6.226167e+01     1.805489e-05\n",
      " * time: 6.490721940994263\n",
      "    48    -6.226167e+01     1.331444e-05\n",
      " * time: 6.601973056793213\n",
      "    49    -6.226167e+01     8.809667e-06\n",
      " * time: 6.712102890014648\n",
      "    50    -6.226167e+01     7.223958e-06\n",
      " * time: 6.81812596321106\n",
      "    51    -6.226167e+01     6.682301e-06\n",
      " * time: 6.929260015487671\n",
      "    52    -6.226167e+01     5.557579e-06\n",
      " * time: 7.041054964065552\n",
      "    53    -6.226167e+01     4.215358e-06\n",
      " * time: 7.153369903564453\n",
      "    54    -6.226167e+01     3.029120e-06\n",
      " * time: 7.259371042251587\n",
      "    55    -6.226167e+01     2.688950e-06\n",
      " * time: 7.372500896453857\n",
      "    56    -6.226167e+01     2.217662e-06\n",
      " * time: 7.483680009841919\n"
     ]
    }
   ],
   "cell_type": "code",
   "source": [
    "scfres = direct_minimization(basis, tol=1e-5);"
   ],
   "metadata": {},
   "execution_count": 4
  },
  {
   "outputs": [
    {
     "output_type": "execute_result",
     "data": {
      "text/plain": "Energy breakdown:\n    Kinetic             25.7671061\n    AtomicLocal         -18.8557675\n    AtomicNonlocal      14.8522653\n    Ewald               -67.1831486\n    PspCorrection       -2.3569765\n    Hartree             4.8485366 \n    Xc                  -19.3336818\n\n    total               -62.261666462148\n"
     },
     "metadata": {},
     "execution_count": 5
    }
   ],
   "cell_type": "code",
   "source": [
    "scfres.energies"
   ],
   "metadata": {},
   "execution_count": 5
  }
 ],
 "nbformat_minor": 3,
 "metadata": {
  "language_info": {
   "file_extension": ".jl",
   "mimetype": "application/julia",
   "name": "julia",
   "version": "1.3.1"
  },
  "kernelspec": {
   "name": "julia-1.3",
   "display_name": "Julia 1.3.1",
   "language": "julia"
  }
 },
 "nbformat": 4
}
