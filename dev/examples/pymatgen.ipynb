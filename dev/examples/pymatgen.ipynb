{
 "cells": [
  {
   "cell_type": "markdown",
   "source": [
    "# Creating supercells with pymatgen\n",
    "\n",
    "The [Pymatgen](https://pymatgen.org/) python library allows to setup\n",
    "solid-state calculations using a flexible set of classes as well as an API\n",
    "to an online data base of structures. Its `Structure` and `Lattice`\n",
    "objects are directly supported by the DFTK `load_atoms` and `load_lattice`\n",
    "functions, such that DFTK may be readily used to run calculation on systems\n",
    "defined in pymatgen. Using the `pymatgen_structure` function a conversion\n",
    "from DFTK to pymatgen structures is also possible. In the following we\n",
    "use this to create a silicon supercell and find its LDA ground state\n",
    "using direct minimisation."
   ],
   "metadata": {}
  },
  {
   "cell_type": "markdown",
   "source": [
    "First we setup the silicon lattice in DFTK."
   ],
   "metadata": {}
  },
  {
   "outputs": [],
   "cell_type": "code",
   "source": [
    "using DFTK\n",
    "\n",
    "a = 10.263141334305942  # Lattice constant in Bohr\n",
    "lattice = a / 2 .* [[0 1 1.]; [1 0 1.]; [1 1 0.]]\n",
    "Si = ElementPsp(:Si, psp=load_psp(\"hgh/lda/Si-q4\"))\n",
    "atoms = [Si => [ones(3)/8, -ones(3)/8]];"
   ],
   "metadata": {},
   "execution_count": 1
  },
  {
   "cell_type": "markdown",
   "source": [
    "Next we make a `[2, 2, 2]` supercell using pymatgen"
   ],
   "metadata": {}
  },
  {
   "outputs": [],
   "cell_type": "code",
   "source": [
    "pystruct = pymatgen_structure(lattice, atoms)\n",
    "pystruct.make_supercell([2, 2, 2])\n",
    "lattice = load_lattice(pystruct)\n",
    "atoms = [Si => [s.frac_coords for s in pystruct.sites]];"
   ],
   "metadata": {},
   "execution_count": 2
  },
  {
   "cell_type": "markdown",
   "source": [
    "Setup an LDA model and discretize using\n",
    "a single kpoint and a small `Ecut` of 5 Hartree.\n",
    "Notice that `PlaneWaveBasis` defaults to just using the ``Γ``-point\n",
    "if no ``k``-point options are provided."
   ],
   "metadata": {}
  },
  {
   "outputs": [
    {
     "name": "stdout",
     "output_type": "stream",
     "text": [
      "Iter     Function value   Gradient norm \n",
      "     0     1.121436e+02     1.799224e+00\n",
      " * time: 0.09094595909118652\n",
      "     1     1.088732e+01     1.107797e+00\n",
      " * time: 0.9702877998352051\n",
      "     2    -1.083184e+01     1.302759e+00\n",
      " * time: 1.1034820079803467\n",
      "     3    -3.359940e+01     9.121144e-01\n",
      " * time: 1.2808609008789062\n",
      "     4    -4.701631e+01     6.438061e-01\n",
      " * time: 1.439032793045044\n",
      "     5    -5.664807e+01     2.353629e-01\n",
      " * time: 1.5827178955078125\n",
      "     6    -5.962394e+01     1.265887e-01\n",
      " * time: 1.702692985534668\n",
      "     7    -6.073524e+01     5.763839e-02\n",
      " * time: 1.8144688606262207\n",
      "     8    -6.115523e+01     7.663770e-02\n",
      " * time: 1.9337899684906006\n",
      "     9    -6.147165e+01     3.871426e-02\n",
      " * time: 2.0461978912353516\n",
      "    10    -6.172563e+01     3.628530e-02\n",
      " * time: 2.167949914932251\n",
      "    11    -6.193491e+01     3.089648e-02\n",
      " * time: 2.2822659015655518\n",
      "    12    -6.201946e+01     2.700777e-02\n",
      " * time: 2.402535915374756\n",
      "    13    -6.210534e+01     1.480135e-02\n",
      " * time: 2.5144259929656982\n",
      "    14    -6.213766e+01     1.390393e-02\n",
      " * time: 2.6321849822998047\n",
      "    15    -6.216932e+01     1.273179e-02\n",
      " * time: 2.749689817428589\n",
      "    16    -6.218638e+01     1.181393e-02\n",
      " * time: 2.8602190017700195\n",
      "    17    -6.220035e+01     9.341966e-03\n",
      " * time: 2.9774789810180664\n",
      "    18    -6.221095e+01     6.757077e-03\n",
      " * time: 3.08852481842041\n",
      "    19    -6.221991e+01     6.333079e-03\n",
      " * time: 3.206683874130249\n",
      "    20    -6.222816e+01     7.067070e-03\n",
      " * time: 3.318774938583374\n",
      "    21    -6.223653e+01     6.171975e-03\n",
      " * time: 3.437213897705078\n",
      "    22    -6.224444e+01     5.912557e-03\n",
      " * time: 3.54830002784729\n",
      "    23    -6.225110e+01     4.786333e-03\n",
      " * time: 3.6649768352508545\n",
      "    24    -6.225580e+01     3.798889e-03\n",
      " * time: 3.7743449211120605\n",
      "    25    -6.225853e+01     2.668759e-03\n",
      " * time: 3.892622947692871\n",
      "    26    -6.225998e+01     1.853465e-03\n",
      " * time: 4.002665996551514\n",
      "    27    -6.226068e+01     1.567465e-03\n",
      " * time: 4.122639894485474\n",
      "    28    -6.226103e+01     1.212238e-03\n",
      " * time: 4.233947992324829\n",
      "    29    -6.226124e+01     1.017147e-03\n",
      " * time: 4.368381977081299\n",
      "    30    -6.226138e+01     7.678446e-04\n",
      " * time: 4.4778008460998535\n",
      "    31    -6.226147e+01     6.239605e-04\n",
      " * time: 4.595142841339111\n",
      "    32    -6.226154e+01     4.909229e-04\n",
      " * time: 4.705104827880859\n",
      "    33    -6.226159e+01     4.247185e-04\n",
      " * time: 4.821807861328125\n",
      "    34    -6.226162e+01     3.465134e-04\n",
      " * time: 4.931375026702881\n",
      "    35    -6.226165e+01     2.471987e-04\n",
      " * time: 5.049181938171387\n",
      "    36    -6.226166e+01     1.927617e-04\n",
      " * time: 5.160727024078369\n",
      "    37    -6.226166e+01     1.145750e-04\n",
      " * time: 5.277954816818237\n",
      "    38    -6.226166e+01     8.957929e-05\n",
      " * time: 5.38943886756897\n",
      "    39    -6.226166e+01     8.069128e-05\n",
      " * time: 5.507750988006592\n",
      "    40    -6.226167e+01     6.386359e-05\n",
      " * time: 5.619063854217529\n",
      "    41    -6.226167e+01     5.087572e-05\n",
      " * time: 5.736474990844727\n",
      "    42    -6.226167e+01     3.636992e-05\n",
      " * time: 5.847005844116211\n",
      "    43    -6.226167e+01     2.923082e-05\n",
      " * time: 5.963786840438843\n",
      "    44    -6.226167e+01     2.531953e-05\n",
      " * time: 6.073267936706543\n",
      "    45    -6.226167e+01     2.195191e-05\n",
      " * time: 6.190672874450684\n",
      "    46    -6.226167e+01     1.581009e-05\n",
      " * time: 6.301203012466431\n",
      "    47    -6.226167e+01     9.970000e-06\n",
      " * time: 6.417856931686401\n",
      "    48    -6.226167e+01     5.829811e-06\n",
      " * time: 6.528810024261475\n",
      "    49    -6.226167e+01     4.263682e-06\n",
      " * time: 6.645007848739624\n",
      "    50    -6.226167e+01     3.386339e-06\n",
      " * time: 6.753525018692017\n"
     ]
    }
   ],
   "cell_type": "code",
   "source": [
    "model = model_LDA(lattice, atoms)\n",
    "basis = PlaneWaveBasis(model, 5)\n",
    "\n",
    "# Find the ground state using direct minimisation (always using SCF is boring ...)\n",
    "scfres = direct_minimization(basis, tol=1e-5);"
   ],
   "metadata": {},
   "execution_count": 3
  },
  {
   "outputs": [
    {
     "output_type": "execute_result",
     "data": {
      "text/plain": "Energy breakdown:\n    Kinetic             25.7671066\n    AtomicLocal         -18.8557670\n    AtomicNonlocal      14.8522641\n    Ewald               -67.1831486\n    PspCorrection       -2.3569765\n    Hartree             4.8485370 \n    Xc                  -19.3336819\n\n    total               -62.261666459575\n"
     },
     "metadata": {},
     "execution_count": 4
    }
   ],
   "cell_type": "code",
   "source": [
    "scfres.energies"
   ],
   "metadata": {},
   "execution_count": 4
  }
 ],
 "nbformat_minor": 3,
 "metadata": {
  "language_info": {
   "file_extension": ".jl",
   "mimetype": "application/julia",
   "name": "julia",
   "version": "1.3.1"
  },
  "kernelspec": {
   "name": "julia-1.3",
   "display_name": "Julia 1.3.1",
   "language": "julia"
  }
 },
 "nbformat": 4
}
