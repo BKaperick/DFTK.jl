{
 "cells": [
  {
   "cell_type": "markdown",
   "source": [
    "# Creating supercells with pymatgen\n",
    "\n",
    "The [Pymatgen](https://pymatgen.org/) python library allows to setup\n",
    "solid-state calculations using a flexible set of classes as well as an API\n",
    "to an online data base of structures. Its `Structure` and `Lattice`\n",
    "objects are directly supported by the DFTK `load_atoms` and `load_lattice`\n",
    "functions, such that DFTK may be readily used to run calculation on systems\n",
    "defined in pymatgen. Using the `pymatgen_structure` function a conversion\n",
    "from DFTK to pymatgen structures is also possible. In the following we\n",
    "use this to create a silicon supercell and find its LDA ground state\n",
    "using direct minimisation."
   ],
   "metadata": {}
  },
  {
   "cell_type": "markdown",
   "source": [
    "First we setup the silicon lattice in DFTK."
   ],
   "metadata": {}
  },
  {
   "outputs": [],
   "cell_type": "code",
   "source": [
    "using DFTK\n",
    "\n",
    "a = 10.263141334305942  # Lattice constant in Bohr\n",
    "lattice = a / 2 .* [[0 1 1.]; [1 0 1.]; [1 1 0.]]\n",
    "Si = ElementPsp(:Si, psp=load_psp(\"hgh/lda/Si-q4\"))\n",
    "atoms = [Si => [ones(3)/8, -ones(3)/8]];"
   ],
   "metadata": {},
   "execution_count": 1
  },
  {
   "cell_type": "markdown",
   "source": [
    "Next we make a `[2, 2, 2]` supercell using pymatgen"
   ],
   "metadata": {}
  },
  {
   "outputs": [],
   "cell_type": "code",
   "source": [
    "pystruct = pymatgen_structure(lattice, atoms)\n",
    "pystruct.make_supercell([2, 2, 2])\n",
    "lattice = load_lattice(pystruct)\n",
    "atoms = [Si => [s.frac_coords for s in pystruct.sites]];"
   ],
   "metadata": {},
   "execution_count": 2
  },
  {
   "cell_type": "markdown",
   "source": [
    "Setup an LDA model and discretize using\n",
    "a single kpoint and a small `Ecut` of 5 Hartree."
   ],
   "metadata": {}
  },
  {
   "outputs": [
    {
     "output_type": "execute_result",
     "data": {
      "text/plain": "PlaneWaveBasis (Ecut=5.0, 1 kpoints)"
     },
     "metadata": {},
     "execution_count": 3
    }
   ],
   "cell_type": "code",
   "source": [
    "model = model_LDA(lattice, atoms)\n",
    "basis = PlaneWaveBasis(model, 5, kgrid=(1, 1, 1))"
   ],
   "metadata": {},
   "execution_count": 3
  },
  {
   "cell_type": "markdown",
   "source": [
    "Find the ground state using direct minimisation (always using SCF is boring ...)"
   ],
   "metadata": {}
  },
  {
   "outputs": [
    {
     "name": "stdout",
     "output_type": "stream",
     "text": [
      "Iter     Function value   Gradient norm \n",
      "     0     1.116849e+02     1.509131e+00\n",
      " * time: 0.8115789890289307\n",
      "     1     1.075531e+01     1.046395e+00\n",
      " * time: 3.2571301460266113\n",
      "     2    -1.165680e+01     1.064526e+00\n",
      " * time: 3.9463560581207275\n",
      "     3    -3.395038e+01     7.830277e-01\n",
      " * time: 4.987536191940308\n",
      "     4    -4.747293e+01     5.369070e-01\n",
      " * time: 6.0273730754852295\n",
      "     5    -5.697193e+01     2.256415e-01\n",
      " * time: 7.083360195159912\n",
      "     6    -5.981305e+01     1.441000e-01\n",
      " * time: 7.777106046676636\n",
      "     7    -6.091179e+01     5.638094e-02\n",
      " * time: 8.481749057769775\n",
      "     8    -6.135949e+01     4.571594e-02\n",
      " * time: 9.17664098739624\n",
      "     9    -6.161954e+01     4.079839e-02\n",
      " * time: 9.908788204193115\n",
      "    10    -6.183557e+01     2.822450e-02\n",
      " * time: 10.62145709991455\n",
      "    11    -6.199341e+01     2.122035e-02\n",
      " * time: 11.31079912185669\n",
      "    12    -6.207476e+01     1.847499e-02\n",
      " * time: 11.986379146575928\n",
      "    13    -6.212586e+01     1.567392e-02\n",
      " * time: 12.662317037582397\n",
      "    14    -6.216548e+01     1.142678e-02\n",
      " * time: 13.348090171813965\n",
      "    15    -6.218857e+01     9.863075e-03\n",
      " * time: 14.023247003555298\n",
      "    16    -6.220429e+01     7.856413e-03\n",
      " * time: 14.700976133346558\n",
      "    17    -6.221468e+01     6.322830e-03\n",
      " * time: 15.383480072021484\n",
      "    18    -6.222258e+01     5.972213e-03\n",
      " * time: 16.05899405479431\n",
      "    19    -6.222914e+01     5.826690e-03\n",
      " * time: 16.7345290184021\n",
      "    20    -6.223543e+01     5.913635e-03\n",
      " * time: 17.416606187820435\n",
      "    21    -6.224187e+01     5.825662e-03\n",
      " * time: 18.092162132263184\n",
      "    22    -6.224795e+01     5.503954e-03\n",
      " * time: 18.767621994018555\n",
      "    23    -6.225294e+01     4.391009e-03\n",
      " * time: 19.449969053268433\n",
      "    24    -6.225631e+01     3.322237e-03\n",
      " * time: 20.13191509246826\n",
      "    25    -6.225824e+01     2.753836e-03\n",
      " * time: 20.808072090148926\n",
      "    26    -6.225941e+01     1.990127e-03\n",
      " * time: 21.49346113204956\n",
      "    27    -6.226011e+01     1.685537e-03\n",
      " * time: 22.17659902572632\n",
      "    28    -6.226059e+01     1.362742e-03\n",
      " * time: 22.85312008857727\n",
      "    29    -6.226095e+01     1.242596e-03\n",
      " * time: 23.535471200942993\n",
      "    30    -6.226123e+01     1.103306e-03\n",
      " * time: 24.240482091903687\n",
      "    31    -6.226142e+01     8.498878e-04\n",
      " * time: 24.949928045272827\n",
      "    32    -6.226153e+01     6.089334e-04\n",
      " * time: 25.662545204162598\n",
      "    33    -6.226160e+01     4.845794e-04\n",
      " * time: 26.35988211631775\n",
      "    34    -6.226164e+01     2.708707e-04\n",
      " * time: 27.056950092315674\n",
      "    35    -6.226165e+01     2.526203e-04\n",
      " * time: 27.761903047561646\n",
      "    36    -6.226166e+01     1.514695e-04\n",
      " * time: 28.466580152511597\n",
      "    37    -6.226166e+01     1.158872e-04\n",
      " * time: 29.168097019195557\n",
      "    38    -6.226166e+01     7.492271e-05\n",
      " * time: 29.857999086380005\n",
      "    39    -6.226167e+01     5.218222e-05\n",
      " * time: 30.56661820411682\n",
      "    40    -6.226167e+01     4.968090e-05\n",
      " * time: 31.26653504371643\n",
      "    41    -6.226167e+01     4.285645e-05\n",
      " * time: 31.970319986343384\n",
      "    42    -6.226167e+01     3.329806e-05\n",
      " * time: 32.688860177993774\n",
      "    43    -6.226167e+01     2.629690e-05\n",
      " * time: 33.39184212684631\n",
      "    44    -6.226167e+01     1.985595e-05\n",
      " * time: 34.10453009605408\n",
      "    45    -6.226167e+01     1.814774e-05\n",
      " * time: 34.80130410194397\n",
      "    46    -6.226167e+01     1.424173e-05\n",
      " * time: 35.51125907897949\n",
      "    47    -6.226167e+01     8.932596e-06\n",
      " * time: 36.213563203811646\n",
      "    48    -6.226167e+01     5.482247e-06\n",
      " * time: 36.94562816619873\n",
      "    49    -6.226167e+01     3.893651e-06\n",
      " * time: 37.66677498817444\n",
      "    50    -6.226167e+01     3.744774e-06\n",
      " * time: 38.37409710884094\n"
     ]
    }
   ],
   "cell_type": "code",
   "source": [
    "scfres = direct_minimization(basis, tol=1e-5);"
   ],
   "metadata": {},
   "execution_count": 4
  },
  {
   "outputs": [
    {
     "output_type": "execute_result",
     "data": {
      "text/plain": "Energy breakdown:\n    Kinetic             25.7671061\n    AtomicLocal         -18.8557638\n    AtomicNonlocal      14.8522619\n    Ewald               -67.1831486\n    PspCorrection       -2.3569765\n    Hartree             4.8485361 \n    Xc                  -19.3336817\n\n    total               -62.261666458426\n"
     },
     "metadata": {},
     "execution_count": 5
    }
   ],
   "cell_type": "code",
   "source": [
    "scfres.energies"
   ],
   "metadata": {},
   "execution_count": 5
  }
 ],
 "nbformat_minor": 3,
 "metadata": {
  "language_info": {
   "file_extension": ".jl",
   "mimetype": "application/julia",
   "name": "julia",
   "version": "1.6.1"
  },
  "kernelspec": {
   "name": "julia-1.6",
   "display_name": "Julia 1.6.1",
   "language": "julia"
  }
 },
 "nbformat": 4
}
