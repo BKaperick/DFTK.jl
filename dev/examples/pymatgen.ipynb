{
 "cells": [
  {
   "cell_type": "markdown",
   "source": [
    "# Creating supercells with pymatgen\n",
    "\n",
    "The [Pymatgen](https://pymatgen.org/) python library allows to setup\n",
    "solid-state calculations using a flexible set of classes as well as an API\n",
    "to an online data base of structures. Its `Structure` and `Lattice`\n",
    "objects are directly supported by the DFTK `load_atoms` and `load_lattice`\n",
    "functions, such that DFTK may be readily used to run calculation on systems\n",
    "defined in pymatgen. Using the `pymatgen_structure` function a conversion\n",
    "from DFTK to pymatgen structures is also possible. In the following we\n",
    "use this to create a silicon supercell and find its LDA ground state\n",
    "using direct minimisation."
   ],
   "metadata": {}
  },
  {
   "cell_type": "markdown",
   "source": [
    "First we setup the silicon lattice in DFTK."
   ],
   "metadata": {}
  },
  {
   "outputs": [],
   "cell_type": "code",
   "source": [
    "using DFTK\n",
    "\n",
    "a = 10.263141334305942  # Lattice constant in Bohr\n",
    "lattice = a / 2 .* [[0 1 1.]; [1 0 1.]; [1 1 0.]]\n",
    "Si = ElementPsp(:Si, psp=load_psp(\"hgh/lda/Si-q4\"))\n",
    "atoms = [Si => [ones(3)/8, -ones(3)/8]];"
   ],
   "metadata": {},
   "execution_count": 1
  },
  {
   "cell_type": "markdown",
   "source": [
    "Next we make a `[2, 2, 2]` supercell using pymatgen"
   ],
   "metadata": {}
  },
  {
   "outputs": [],
   "cell_type": "code",
   "source": [
    "pystruct = pymatgen_structure(lattice, atoms)\n",
    "pystruct.make_supercell([2, 2, 2])\n",
    "lattice = load_lattice(pystruct)\n",
    "atoms = [Si => [s.frac_coords for s in pystruct.sites]];"
   ],
   "metadata": {},
   "execution_count": 2
  },
  {
   "cell_type": "markdown",
   "source": [
    "Setup an LDA model and discretize using\n",
    "a single kpoint and a small `Ecut` of 5 Hartree."
   ],
   "metadata": {}
  },
  {
   "outputs": [
    {
     "output_type": "execute_result",
     "data": {
      "text/plain": "PlaneWaveBasis (Ecut=5.0, 1 kpoints)"
     },
     "metadata": {},
     "execution_count": 3
    }
   ],
   "cell_type": "code",
   "source": [
    "model = model_LDA(lattice, atoms)\n",
    "basis = PlaneWaveBasis(model, 5, kgrid=(1, 1, 1))"
   ],
   "metadata": {},
   "execution_count": 3
  },
  {
   "cell_type": "markdown",
   "source": [
    "Find the ground state using direct minimisation (always using SCF is boring ...)"
   ],
   "metadata": {}
  },
  {
   "outputs": [
    {
     "name": "stdout",
     "output_type": "stream",
     "text": [
      "Iter     Function value   Gradient norm \n",
      "     0     1.123573e+02     1.512100e+00\n",
      " * time: 0.0862269401550293\n",
      "     1     1.015483e+01     8.798207e-01\n",
      " * time: 1.3467769622802734\n",
      "     2    -1.250566e+01     9.709591e-01\n",
      " * time: 1.455164909362793\n",
      "     3    -3.441033e+01     7.581793e-01\n",
      " * time: 1.605314016342163\n",
      "     4    -4.798777e+01     6.198035e-01\n",
      " * time: 1.7708539962768555\n",
      "     5    -5.716032e+01     2.213901e-01\n",
      " * time: 1.9078071117401123\n",
      "     6    -5.989309e+01     1.313613e-01\n",
      " * time: 2.0112719535827637\n",
      "     7    -6.094440e+01     6.036288e-02\n",
      " * time: 2.116086006164551\n",
      "     8    -6.136732e+01     8.387522e-02\n",
      " * time: 2.2326090335845947\n",
      "     9    -6.165863e+01     3.553010e-02\n",
      " * time: 2.337161064147949\n",
      "    10    -6.186969e+01     2.415245e-02\n",
      " * time: 2.443087100982666\n",
      "    11    -6.202741e+01     1.929941e-02\n",
      " * time: 2.551358938217163\n",
      "    12    -6.208951e+01     1.722035e-02\n",
      " * time: 2.666785955429077\n",
      "    13    -6.215216e+01     1.166474e-02\n",
      " * time: 2.7756450176239014\n",
      "    14    -6.217613e+01     1.250701e-02\n",
      " * time: 2.8840110301971436\n",
      "    15    -6.219383e+01     8.636153e-03\n",
      " * time: 2.9927830696105957\n",
      "    16    -6.220210e+01     7.686396e-03\n",
      " * time: 3.10846209526062\n",
      "    17    -6.220822e+01     7.460747e-03\n",
      " * time: 3.2158679962158203\n",
      "    18    -6.221306e+01     6.939690e-03\n",
      " * time: 3.322878122329712\n",
      "    19    -6.221771e+01     7.009068e-03\n",
      " * time: 3.4294679164886475\n",
      "    20    -6.222287e+01     6.945193e-03\n",
      " * time: 3.5468709468841553\n",
      "    21    -6.222907e+01     7.122629e-03\n",
      " * time: 3.655550956726074\n",
      "    22    -6.223619e+01     6.278137e-03\n",
      " * time: 3.762906074523926\n",
      "    23    -6.224321e+01     5.763954e-03\n",
      " * time: 3.8680529594421387\n",
      "    24    -6.224881e+01     4.435086e-03\n",
      " * time: 3.984076976776123\n",
      "    25    -6.225268e+01     3.626180e-03\n",
      " * time: 4.0925750732421875\n",
      "    26    -6.225558e+01     2.942536e-03\n",
      " * time: 4.201432943344116\n",
      "    27    -6.225753e+01     2.358634e-03\n",
      " * time: 4.309291124343872\n",
      "    28    -6.225889e+01     2.433409e-03\n",
      " * time: 4.423933982849121\n",
      "    29    -6.225989e+01     1.894227e-03\n",
      " * time: 4.531589031219482\n",
      "    30    -6.226066e+01     1.430083e-03\n",
      " * time: 4.641824007034302\n",
      "    31    -6.226114e+01     9.974022e-04\n",
      " * time: 4.750571012496948\n",
      "    32    -6.226139e+01     7.580086e-04\n",
      " * time: 4.865801095962524\n",
      "    33    -6.226153e+01     7.731348e-04\n",
      " * time: 4.972373962402344\n",
      "    34    -6.226160e+01     4.789182e-04\n",
      " * time: 5.079421043395996\n",
      "    35    -6.226163e+01     2.772420e-04\n",
      " * time: 5.19427490234375\n",
      "    36    -6.226165e+01     2.047757e-04\n",
      " * time: 5.300148963928223\n",
      "    37    -6.226165e+01     1.564840e-04\n",
      " * time: 5.407581090927124\n",
      "    38    -6.226166e+01     1.215515e-04\n",
      " * time: 5.514182090759277\n",
      "    39    -6.226166e+01     1.030179e-04\n",
      " * time: 5.6283581256866455\n",
      "    40    -6.226166e+01     9.061751e-05\n",
      " * time: 5.734753131866455\n",
      "    41    -6.226166e+01     6.021964e-05\n",
      " * time: 5.841591119766235\n",
      "    42    -6.226167e+01     5.360313e-05\n",
      " * time: 5.947148084640503\n",
      "    43    -6.226167e+01     4.578561e-05\n",
      " * time: 6.061262130737305\n",
      "    44    -6.226167e+01     3.193510e-05\n",
      " * time: 6.167330980300903\n",
      "    45    -6.226167e+01     2.522409e-05\n",
      " * time: 6.274302959442139\n",
      "    46    -6.226167e+01     1.726520e-05\n",
      " * time: 6.379496097564697\n",
      "    47    -6.226167e+01     1.057111e-05\n",
      " * time: 6.494425058364868\n",
      "    48    -6.226167e+01     7.558519e-06\n",
      " * time: 6.602024078369141\n",
      "    49    -6.226167e+01     6.266970e-06\n",
      " * time: 6.7093000411987305\n",
      "    50    -6.226167e+01     5.254063e-06\n",
      " * time: 6.814913034439087\n",
      "    51    -6.226167e+01     4.849449e-06\n",
      " * time: 6.929250955581665\n",
      "    52    -6.226167e+01     4.195080e-06\n",
      " * time: 7.036348104476929\n"
     ]
    }
   ],
   "cell_type": "code",
   "source": [
    "scfres = direct_minimization(basis, tol=1e-5);"
   ],
   "metadata": {},
   "execution_count": 4
  },
  {
   "outputs": [
    {
     "output_type": "execute_result",
     "data": {
      "text/plain": "Energy breakdown:\n    Kinetic             25.7671074\n    AtomicLocal         -18.8557723\n    AtomicNonlocal      14.8522676\n    Ewald               -67.1831486\n    PspCorrection       -2.3569765\n    Hartree             4.8485386 \n    Xc                  -19.3336825\n\n    total               -62.261666457026\n"
     },
     "metadata": {},
     "execution_count": 5
    }
   ],
   "cell_type": "code",
   "source": [
    "scfres.energies"
   ],
   "metadata": {},
   "execution_count": 5
  }
 ],
 "nbformat_minor": 3,
 "metadata": {
  "language_info": {
   "file_extension": ".jl",
   "mimetype": "application/julia",
   "name": "julia",
   "version": "1.4.2"
  },
  "kernelspec": {
   "name": "julia-1.4",
   "display_name": "Julia 1.4.2",
   "language": "julia"
  }
 },
 "nbformat": 4
}
