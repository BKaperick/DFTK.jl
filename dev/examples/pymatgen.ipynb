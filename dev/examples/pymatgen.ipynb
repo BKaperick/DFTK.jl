{
 "cells": [
  {
   "cell_type": "markdown",
   "source": [
    "# Creating supercells with pymatgen\n",
    "\n",
    "The [Pymatgen](https://pymatgen.org/) python library allows to setup\n",
    "solid-state calculations using a flexible set of classes as well as an API\n",
    "to an online data base of structures. Its `Structure` and `Lattice`\n",
    "objects are directly supported by the DFTK `load_atoms` and `load_lattice`\n",
    "functions, such that DFTK may be readily used to run calculation on systems\n",
    "defined in pymatgen. Using the `pymatgen_structure` function a conversion\n",
    "from DFTK to pymatgen structures is also possible. In the following we\n",
    "use this to create a silicon supercell and find its LDA ground state\n",
    "using direct minimisation."
   ],
   "metadata": {}
  },
  {
   "cell_type": "markdown",
   "source": [
    "First we setup the silicon lattice in DFTK."
   ],
   "metadata": {}
  },
  {
   "outputs": [],
   "cell_type": "code",
   "source": [
    "using DFTK\n",
    "\n",
    "a = 10.263141334305942  # Lattice constant in Bohr\n",
    "lattice = a / 2 .* [[0 1 1.]; [1 0 1.]; [1 1 0.]]\n",
    "Si = ElementPsp(:Si, psp=load_psp(\"hgh/lda/Si-q4\"))\n",
    "atoms = [Si => [ones(3)/8, -ones(3)/8]];"
   ],
   "metadata": {},
   "execution_count": 1
  },
  {
   "cell_type": "markdown",
   "source": [
    "Next we make a `[2, 2, 2]` supercell using pymatgen"
   ],
   "metadata": {}
  },
  {
   "outputs": [],
   "cell_type": "code",
   "source": [
    "pystruct = pymatgen_structure(lattice, atoms)\n",
    "pystruct.make_supercell([2, 2, 2])\n",
    "lattice = load_lattice(pystruct)\n",
    "atoms = [Si => [s.frac_coords for s in pystruct.sites]];"
   ],
   "metadata": {},
   "execution_count": 2
  },
  {
   "cell_type": "markdown",
   "source": [
    "Setup an LDA model and discretize using\n",
    "a single kpoint and a small `Ecut` of 5 Hartree.\n",
    "Notice that `PlaneWaveBasis` defaults to just using the ``Γ``-point\n",
    "if no ``k``-point options are provided."
   ],
   "metadata": {}
  },
  {
   "outputs": [
    {
     "output_type": "execute_result",
     "data": {
      "text/plain": "PlaneWaveBasis (Ecut=5.0, 1 kpoints)"
     },
     "metadata": {},
     "execution_count": 3
    }
   ],
   "cell_type": "code",
   "source": [
    "model = model_LDA(lattice, atoms)\n",
    "basis = PlaneWaveBasis(model, 5)"
   ],
   "metadata": {},
   "execution_count": 3
  },
  {
   "cell_type": "markdown",
   "source": [
    "Find the ground state using direct minimisation (always using SCF is boring ...)"
   ],
   "metadata": {}
  },
  {
   "outputs": [
    {
     "name": "stdout",
     "output_type": "stream",
     "text": [
      "Iter     Function value   Gradient norm \n",
      "     0     1.118806e+02     1.707169e+00\n",
      " * time: 0.08503007888793945\n",
      "     1     1.067229e+01     9.326871e-01\n",
      " * time: 0.9310290813446045\n",
      "     2    -1.213177e+01     1.100888e+00\n",
      " * time: 1.0427160263061523\n",
      "     3    -3.432058e+01     8.178286e-01\n",
      " * time: 1.206794023513794\n",
      "     4    -4.780880e+01     5.710330e-01\n",
      " * time: 1.3567969799041748\n",
      "     5    -5.682517e+01     2.083896e-01\n",
      " * time: 1.4978749752044678\n",
      "     6    -5.967022e+01     1.468383e-01\n",
      " * time: 1.6008031368255615\n",
      "     7    -6.079532e+01     4.970938e-02\n",
      " * time: 1.7099919319152832\n",
      "     8    -6.124195e+01     6.667711e-02\n",
      " * time: 1.8211450576782227\n",
      "     9    -6.153005e+01     4.908919e-02\n",
      " * time: 1.9267840385437012\n",
      "    10    -6.176540e+01     3.376574e-02\n",
      " * time: 2.0400121212005615\n",
      "    11    -6.194908e+01     2.447534e-02\n",
      " * time: 2.146182060241699\n",
      "    12    -6.202876e+01     2.020341e-02\n",
      " * time: 2.2588279247283936\n",
      "    13    -6.210380e+01     1.566526e-02\n",
      " * time: 2.3641300201416016\n",
      "    14    -6.214408e+01     1.493313e-02\n",
      " * time: 2.4753799438476562\n",
      "    15    -6.217947e+01     1.092885e-02\n",
      " * time: 2.586761951446533\n",
      "    16    -6.219957e+01     1.003511e-02\n",
      " * time: 2.689908981323242\n",
      "    17    -6.221407e+01     7.330401e-03\n",
      " * time: 2.800734043121338\n",
      "    18    -6.222403e+01     6.177333e-03\n",
      " * time: 2.9046990871429443\n",
      "    19    -6.223162e+01     6.018198e-03\n",
      " * time: 3.0159099102020264\n",
      "    20    -6.223812e+01     6.469862e-03\n",
      " * time: 3.126605987548828\n",
      "    21    -6.224443e+01     5.586432e-03\n",
      " * time: 3.2306740283966064\n",
      "    22    -6.225029e+01     6.242040e-03\n",
      " * time: 3.340527057647705\n",
      "    23    -6.225515e+01     4.583229e-03\n",
      " * time: 3.4446661472320557\n",
      "    24    -6.225824e+01     3.204993e-03\n",
      " * time: 3.55452299118042\n",
      "    25    -6.225982e+01     2.326003e-03\n",
      " * time: 3.658450126647949\n",
      "    26    -6.226064e+01     1.551108e-03\n",
      " * time: 3.7688729763031006\n",
      "    27    -6.226102e+01     1.255015e-03\n",
      " * time: 3.8791239261627197\n",
      "    28    -6.226123e+01     1.046098e-03\n",
      " * time: 3.9829800128936768\n",
      "    29    -6.226136e+01     9.259792e-04\n",
      " * time: 4.093351125717163\n",
      "    30    -6.226146e+01     6.743133e-04\n",
      " * time: 4.196820020675659\n",
      "    31    -6.226153e+01     5.304332e-04\n",
      " * time: 4.306373119354248\n",
      "    32    -6.226158e+01     5.003421e-04\n",
      " * time: 4.417029142379761\n",
      "    33    -6.226161e+01     3.532470e-04\n",
      " * time: 4.522825002670288\n",
      "    34    -6.226164e+01     3.281662e-04\n",
      " * time: 4.635503053665161\n",
      "    35    -6.226165e+01     2.749525e-04\n",
      " * time: 4.749820947647095\n",
      "    36    -6.226166e+01     1.455346e-04\n",
      " * time: 4.867902994155884\n",
      "    37    -6.226166e+01     9.633326e-05\n",
      " * time: 4.972590923309326\n",
      "    38    -6.226166e+01     7.253173e-05\n",
      " * time: 5.083313941955566\n",
      "    39    -6.226167e+01     5.646582e-05\n",
      " * time: 5.193725109100342\n",
      "    40    -6.226167e+01     3.962291e-05\n",
      " * time: 5.298035144805908\n",
      "    41    -6.226167e+01     2.784533e-05\n",
      " * time: 5.409137964248657\n",
      "    42    -6.226167e+01     2.176022e-05\n",
      " * time: 5.512937068939209\n",
      "    43    -6.226167e+01     1.853246e-05\n",
      " * time: 5.622574090957642\n",
      "    44    -6.226167e+01     1.643521e-05\n",
      " * time: 5.732234954833984\n",
      "    45    -6.226167e+01     1.405823e-05\n",
      " * time: 5.8359479904174805\n",
      "    46    -6.226167e+01     1.090350e-05\n",
      " * time: 5.946968078613281\n",
      "    47    -6.226167e+01     7.853645e-06\n",
      " * time: 6.050014019012451\n",
      "    48    -6.226167e+01     6.327752e-06\n",
      " * time: 6.158724069595337\n",
      "    49    -6.226167e+01     3.660687e-06\n",
      " * time: 6.262884140014648\n",
      "    50    -6.226167e+01     2.771320e-06\n",
      " * time: 6.372543096542358\n"
     ]
    }
   ],
   "cell_type": "code",
   "source": [
    "scfres = direct_minimization(basis, tol=1e-5);"
   ],
   "metadata": {},
   "execution_count": 4
  },
  {
   "outputs": [
    {
     "output_type": "execute_result",
     "data": {
      "text/plain": "Energy breakdown:\n    Kinetic             25.7671061\n    AtomicLocal         -18.8557641\n    AtomicNonlocal      14.8522622\n    Ewald               -67.1831486\n    PspCorrection       -2.3569765\n    Hartree             4.8485361 \n    Xc                  -19.3336816\n\n    total               -62.261666460361\n"
     },
     "metadata": {},
     "execution_count": 5
    }
   ],
   "cell_type": "code",
   "source": [
    "scfres.energies"
   ],
   "metadata": {},
   "execution_count": 5
  }
 ],
 "nbformat_minor": 3,
 "metadata": {
  "language_info": {
   "file_extension": ".jl",
   "mimetype": "application/julia",
   "name": "julia",
   "version": "1.3.1"
  },
  "kernelspec": {
   "name": "julia-1.3",
   "display_name": "Julia 1.3.1",
   "language": "julia"
  }
 },
 "nbformat": 4
}
