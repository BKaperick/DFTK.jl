{
 "cells": [
  {
   "cell_type": "markdown",
   "source": [
    "# Creating supercells with pymatgen\n",
    "\n",
    "The [Pymatgen](https://pymatgen.org/) python library allows to setup\n",
    "solid-state calculations using a flexible set of classes as well as an API\n",
    "to an online data base of structures. Its `Structure` and `Lattice`\n",
    "objects are directly supported by the DFTK `load_atoms` and `load_lattice`\n",
    "functions, such that DFTK may be readily used to run calculation on systems\n",
    "defined in pymatgen. Using the `pymatgen_structure` function a conversion\n",
    "from DFTK to pymatgen structures is also possible. In the following we\n",
    "use this to create a silicon supercell and find its LDA ground state\n",
    "using direct minimisation."
   ],
   "metadata": {}
  },
  {
   "cell_type": "markdown",
   "source": [
    "First we setup the silicon lattice in DFTK."
   ],
   "metadata": {}
  },
  {
   "outputs": [],
   "cell_type": "code",
   "source": [
    "using DFTK\n",
    "\n",
    "a = 10.263141334305942  # Lattice constant in Bohr\n",
    "lattice = a / 2 .* [[0 1 1.]; [1 0 1.]; [1 1 0.]]\n",
    "Si = ElementPsp(:Si, psp=load_psp(\"hgh/lda/Si-q4\"))\n",
    "atoms = [Si => [ones(3)/8, -ones(3)/8]];"
   ],
   "metadata": {},
   "execution_count": 1
  },
  {
   "cell_type": "markdown",
   "source": [
    "Next we make a `[2, 2, 2]` supercell using pymatgen"
   ],
   "metadata": {}
  },
  {
   "outputs": [],
   "cell_type": "code",
   "source": [
    "pystruct = pymatgen_structure(lattice, atoms)\n",
    "pystruct.make_supercell([2, 2, 2])\n",
    "lattice = load_lattice(pystruct)\n",
    "atoms = [Si => [s.frac_coords for s in pystruct.sites]];"
   ],
   "metadata": {},
   "execution_count": 2
  },
  {
   "cell_type": "markdown",
   "source": [
    "Setup an LDA model and discretize using\n",
    "a single kpoint and a small `Ecut` of 5 Hartree.\n",
    "Notice that `PlaneWaveBasis` defaults to just using the ``Γ``-point\n",
    "if no ``k``-point options are provided."
   ],
   "metadata": {}
  },
  {
   "outputs": [
    {
     "name": "stdout",
     "output_type": "stream",
     "text": [
      "Iter     Function value   Gradient norm \n",
      "     0     1.118967e+02     1.644150e+00\n",
      " * time: 0.08798599243164062\n",
      "     1     1.068239e+01     8.790500e-01\n",
      " * time: 0.91485595703125\n",
      "     2    -1.178945e+01     1.047460e+00\n",
      " * time: 1.0623548030853271\n",
      "     3    -3.383072e+01     7.624953e-01\n",
      " * time: 1.2353599071502686\n",
      "     4    -4.707583e+01     5.756535e-01\n",
      " * time: 1.3783400058746338\n",
      "     5    -5.667652e+01     2.224638e-01\n",
      " * time: 1.5311999320983887\n",
      "     6    -5.958685e+01     1.728719e-01\n",
      " * time: 1.6474158763885498\n",
      "     7    -6.079381e+01     6.720891e-02\n",
      " * time: 1.757091999053955\n",
      "     8    -6.131370e+01     4.101222e-02\n",
      " * time: 1.8726179599761963\n",
      "     9    -6.160529e+01     3.232922e-02\n",
      " * time: 1.98087477684021\n",
      "    10    -6.176836e+01     3.021242e-02\n",
      " * time: 2.097146987915039\n",
      "    11    -6.192312e+01     2.258391e-02\n",
      " * time: 2.206707000732422\n",
      "    12    -6.201802e+01     1.783924e-02\n",
      " * time: 2.3219778537750244\n",
      "    13    -6.206929e+01     1.342226e-02\n",
      " * time: 2.430875778198242\n",
      "    14    -6.212530e+01     1.313387e-02\n",
      " * time: 2.546759843826294\n",
      "    15    -6.215537e+01     1.199889e-02\n",
      " * time: 2.655822992324829\n",
      "    16    -6.218039e+01     9.427802e-03\n",
      " * time: 2.7712059020996094\n",
      "    17    -6.219358e+01     6.313953e-03\n",
      " * time: 2.8797428607940674\n",
      "    18    -6.220254e+01     5.307628e-03\n",
      " * time: 2.995530843734741\n",
      "    19    -6.220824e+01     5.036664e-03\n",
      " * time: 3.1120238304138184\n",
      "    20    -6.221263e+01     5.419506e-03\n",
      " * time: 3.220728874206543\n",
      "    21    -6.221716e+01     5.991637e-03\n",
      " * time: 3.336005926132202\n",
      "    22    -6.222217e+01     6.648731e-03\n",
      " * time: 3.445701837539673\n",
      "    23    -6.222790e+01     7.801911e-03\n",
      " * time: 3.5618247985839844\n",
      "    24    -6.223406e+01     6.836816e-03\n",
      " * time: 3.6704869270324707\n",
      "    25    -6.224034e+01     7.718627e-03\n",
      " * time: 3.7853078842163086\n",
      "    26    -6.224600e+01     5.980260e-03\n",
      " * time: 3.8931078910827637\n",
      "    27    -6.225041e+01     4.459129e-03\n",
      " * time: 4.007925987243652\n",
      "    28    -6.225396e+01     3.654082e-03\n",
      " * time: 4.116722822189331\n",
      "    29    -6.225660e+01     3.032841e-03\n",
      " * time: 4.232399940490723\n",
      "    30    -6.225847e+01     3.017307e-03\n",
      " * time: 4.340511798858643\n",
      "    31    -6.225973e+01     2.015764e-03\n",
      " * time: 4.456384897232056\n",
      "    32    -6.226055e+01     1.624177e-03\n",
      " * time: 4.564791917800903\n",
      "    33    -6.226106e+01     1.373505e-03\n",
      " * time: 4.680758953094482\n",
      "    34    -6.226137e+01     8.978804e-04\n",
      " * time: 4.788877964019775\n",
      "    35    -6.226152e+01     4.929547e-04\n",
      " * time: 4.903988838195801\n",
      "    36    -6.226159e+01     4.192635e-04\n",
      " * time: 5.011825799942017\n",
      "    37    -6.226162e+01     3.243546e-04\n",
      " * time: 5.126307964324951\n",
      "    38    -6.226164e+01     2.557919e-04\n",
      " * time: 5.241603851318359\n",
      "    39    -6.226165e+01     2.390777e-04\n",
      " * time: 5.350232839584351\n",
      "    40    -6.226165e+01     1.851871e-04\n",
      " * time: 5.464794874191284\n",
      "    41    -6.226166e+01     1.685932e-04\n",
      " * time: 5.5731728076934814\n",
      "    42    -6.226166e+01     1.035788e-04\n",
      " * time: 5.688731908798218\n",
      "    43    -6.226166e+01     7.433605e-05\n",
      " * time: 5.796889781951904\n",
      "    44    -6.226166e+01     7.069618e-05\n",
      " * time: 5.9122679233551025\n",
      "    45    -6.226167e+01     4.932149e-05\n",
      " * time: 6.021212816238403\n",
      "    46    -6.226167e+01     3.130926e-05\n",
      " * time: 6.137122869491577\n",
      "    47    -6.226167e+01     2.116168e-05\n",
      " * time: 6.2461419105529785\n",
      "    48    -6.226167e+01     1.706021e-05\n",
      " * time: 6.360152006149292\n",
      "    49    -6.226167e+01     1.201640e-05\n",
      " * time: 6.468148946762085\n",
      "    50    -6.226167e+01     1.073565e-05\n",
      " * time: 6.583547830581665\n",
      "    51    -6.226167e+01     8.716557e-06\n",
      " * time: 6.691759824752808\n",
      "    52    -6.226167e+01     8.597570e-06\n",
      " * time: 6.80623197555542\n",
      "    53    -6.226167e+01     6.589926e-06\n",
      " * time: 6.914106845855713\n",
      "    54    -6.226167e+01     5.090612e-06\n",
      " * time: 7.028179883956909\n",
      "    55    -6.226167e+01     4.020473e-06\n",
      " * time: 7.135763883590698\n",
      "    56    -6.226167e+01     2.646612e-06\n",
      " * time: 7.251518964767456\n",
      "    57    -6.226167e+01     2.597335e-06\n",
      " * time: 7.366128921508789\n",
      "    58    -6.226167e+01     1.833644e-06\n",
      " * time: 7.474358797073364\n"
     ]
    }
   ],
   "cell_type": "code",
   "source": [
    "model = model_LDA(lattice, atoms)\n",
    "basis = PlaneWaveBasis(model, 5)\n",
    "\n",
    "# Find the ground state using direct minimisation (always using SCF is boring ...)\n",
    "scfres = direct_minimization(basis, tol=1e-5);"
   ],
   "metadata": {},
   "execution_count": 3
  },
  {
   "outputs": [
    {
     "output_type": "execute_result",
     "data": {
      "text/plain": "Energy breakdown:\n    Kinetic             25.7671066\n    AtomicLocal         -18.8557668\n    AtomicNonlocal      14.8522640\n    Ewald               -67.1831486\n    PspCorrection       -2.3569765\n    Hartree             4.8485367 \n    Xc                  -19.3336818\n\n    total               -62.261666462904\n"
     },
     "metadata": {},
     "execution_count": 4
    }
   ],
   "cell_type": "code",
   "source": [
    "scfres.energies"
   ],
   "metadata": {},
   "execution_count": 4
  }
 ],
 "nbformat_minor": 3,
 "metadata": {
  "language_info": {
   "file_extension": ".jl",
   "mimetype": "application/julia",
   "name": "julia",
   "version": "1.3.1"
  },
  "kernelspec": {
   "name": "julia-1.3",
   "display_name": "Julia 1.3.1",
   "language": "julia"
  }
 },
 "nbformat": 4
}
