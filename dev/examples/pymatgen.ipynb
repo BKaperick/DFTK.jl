{
 "cells": [
  {
   "cell_type": "markdown",
   "source": [
    "# Creating supercells with pymatgen\n",
    "\n",
    "The [Pymatgen](https://pymatgen.org/) python library allows to setup\n",
    "solid-state calculations using a flexible set of classes as well as an API\n",
    "to an online data base of structures. Its `Structure` and `Lattice`\n",
    "objects are directly supported by the DFTK `load_atoms` and `load_lattice`\n",
    "functions, such that DFTK may be readily used to run calculation on systems\n",
    "defined in pymatgen. Using the `pymatgen_structure` function a conversion\n",
    "from DFTK to pymatgen structures is also possible. In the following we\n",
    "use this to create a silicon supercell and find its LDA ground state\n",
    "using direct minimisation."
   ],
   "metadata": {}
  },
  {
   "cell_type": "markdown",
   "source": [
    "First we setup the silicon lattice in DFTK."
   ],
   "metadata": {}
  },
  {
   "outputs": [],
   "cell_type": "code",
   "source": [
    "using DFTK\n",
    "\n",
    "a = 10.263141334305942  # Lattice constant in Bohr\n",
    "lattice = a / 2 .* [[0 1 1.]; [1 0 1.]; [1 1 0.]]\n",
    "Si = ElementPsp(:Si, psp=load_psp(\"hgh/lda/Si-q4\"))\n",
    "atoms = [Si => [ones(3)/8, -ones(3)/8]];"
   ],
   "metadata": {},
   "execution_count": 1
  },
  {
   "cell_type": "markdown",
   "source": [
    "Next we make a `[2, 2, 2]` supercell using pymatgen"
   ],
   "metadata": {}
  },
  {
   "outputs": [],
   "cell_type": "code",
   "source": [
    "pystruct = pymatgen_structure(lattice, atoms)\n",
    "pystruct.make_supercell([2, 2, 2])\n",
    "lattice = load_lattice(pystruct)\n",
    "atoms = [Si => [s.frac_coords for s in pystruct.sites]];"
   ],
   "metadata": {},
   "execution_count": 2
  },
  {
   "cell_type": "markdown",
   "source": [
    "Setup an LDA model and discretize using\n",
    "a single kpoint and a small `Ecut` of 5 Hartree."
   ],
   "metadata": {}
  },
  {
   "outputs": [
    {
     "output_type": "execute_result",
     "data": {
      "text/plain": "PlaneWaveBasis (Ecut=5.0, 1 kpoints)"
     },
     "metadata": {},
     "execution_count": 3
    }
   ],
   "cell_type": "code",
   "source": [
    "model = model_LDA(lattice, atoms)\n",
    "basis = PlaneWaveBasis(model, 5, kgrid=(1, 1, 1))"
   ],
   "metadata": {},
   "execution_count": 3
  },
  {
   "cell_type": "markdown",
   "source": [
    "Find the ground state using direct minimisation (always using SCF is boring ...)"
   ],
   "metadata": {}
  },
  {
   "outputs": [
    {
     "name": "stdout",
     "output_type": "stream",
     "text": [
      "Iter     Function value   Gradient norm \n",
      "     0     1.113144e+02     1.549157e+00\n",
      " * time: 0.8443958759307861\n",
      "     1     1.114771e+01     8.353108e-01\n",
      " * time: 2.3835818767547607\n",
      "     2    -1.127352e+01     1.014645e+00\n",
      " * time: 3.1154069900512695\n",
      "     3    -3.382039e+01     7.393873e-01\n",
      " * time: 4.210920810699463\n",
      "     4    -4.731750e+01     5.349468e-01\n",
      " * time: 5.293068885803223\n",
      "     5    -5.670542e+01     2.168858e-01\n",
      " * time: 6.3309409618377686\n",
      "     6    -5.962867e+01     1.870439e-01\n",
      " * time: 7.0478198528289795\n",
      "     7    -6.082333e+01     8.282118e-02\n",
      " * time: 7.779819011688232\n",
      "     8    -6.133651e+01     5.052680e-02\n",
      " * time: 8.49852991104126\n",
      "     9    -6.163144e+01     3.242310e-02\n",
      " * time: 9.2078378200531\n",
      "    10    -6.179697e+01     3.626119e-02\n",
      " * time: 9.908308029174805\n",
      "    11    -6.194255e+01     2.697668e-02\n",
      " * time: 10.63527798652649\n",
      "    12    -6.203137e+01     1.753954e-02\n",
      " * time: 11.333834886550903\n",
      "    13    -6.208745e+01     1.419807e-02\n",
      " * time: 12.070523977279663\n",
      "    14    -6.213203e+01     1.338101e-02\n",
      " * time: 12.78329086303711\n",
      "    15    -6.216332e+01     1.201487e-02\n",
      " * time: 13.488200902938843\n",
      "    16    -6.218929e+01     9.000483e-03\n",
      " * time: 14.23317003250122\n",
      "    17    -6.220900e+01     7.965012e-03\n",
      " * time: 14.939690828323364\n",
      "    18    -6.222271e+01     7.069961e-03\n",
      " * time: 15.640414953231812\n",
      "    19    -6.223194e+01     7.143514e-03\n",
      " * time: 16.34440588951111\n",
      "    20    -6.223816e+01     5.948011e-03\n",
      " * time: 17.077986001968384\n",
      "    21    -6.224352e+01     5.292323e-03\n",
      " * time: 17.78563380241394\n",
      "    22    -6.224849e+01     4.112620e-03\n",
      " * time: 18.48810386657715\n",
      "    23    -6.225285e+01     3.801083e-03\n",
      " * time: 19.208312034606934\n",
      "    24    -6.225615e+01     3.181107e-03\n",
      " * time: 19.90827703475952\n",
      "    25    -6.225858e+01     2.469864e-03\n",
      " * time: 20.617640018463135\n",
      "    26    -6.226000e+01     1.677389e-03\n",
      " * time: 21.321259021759033\n",
      "    27    -6.226069e+01     2.059910e-03\n",
      " * time: 22.03731679916382\n",
      "    28    -6.226105e+01     1.226662e-03\n",
      " * time: 22.734560012817383\n",
      "    29    -6.226127e+01     1.026566e-03\n",
      " * time: 23.439441919326782\n",
      "    30    -6.226141e+01     8.188684e-04\n",
      " * time: 24.1400408744812\n",
      "    31    -6.226149e+01     6.448961e-04\n",
      " * time: 24.841521978378296\n",
      "    32    -6.226155e+01     5.158185e-04\n",
      " * time: 25.554467916488647\n",
      "    33    -6.226159e+01     4.569266e-04\n",
      " * time: 26.251948833465576\n",
      "    34    -6.226162e+01     3.875149e-04\n",
      " * time: 26.92376184463501\n",
      "    35    -6.226164e+01     2.460401e-04\n",
      " * time: 27.61699891090393\n",
      "    36    -6.226165e+01     2.100242e-04\n",
      " * time: 28.346417903900146\n",
      "    37    -6.226166e+01     1.175855e-04\n",
      " * time: 29.02684497833252\n",
      "    38    -6.226166e+01     7.311388e-05\n",
      " * time: 29.716651916503906\n",
      "    39    -6.226166e+01     6.766396e-05\n",
      " * time: 30.413973808288574\n",
      "    40    -6.226167e+01     6.794673e-05\n",
      " * time: 31.064815998077393\n",
      "    41    -6.226167e+01     5.019586e-05\n",
      " * time: 31.73482894897461\n",
      "    42    -6.226167e+01     3.592886e-05\n",
      " * time: 32.39684987068176\n",
      "    43    -6.226167e+01     2.901103e-05\n",
      " * time: 33.03277897834778\n",
      "    44    -6.226167e+01     2.633963e-05\n",
      " * time: 33.68149495124817\n",
      "    45    -6.226167e+01     1.938484e-05\n",
      " * time: 34.364481925964355\n",
      "    46    -6.226167e+01     1.281174e-05\n",
      " * time: 35.04243087768555\n",
      "    47    -6.226167e+01     1.021608e-05\n",
      " * time: 35.65499687194824\n",
      "    48    -6.226167e+01     6.522686e-06\n",
      " * time: 36.371017932891846\n",
      "    49    -6.226167e+01     5.860149e-06\n",
      " * time: 37.067683935165405\n",
      "    50    -6.226167e+01     3.803633e-06\n",
      " * time: 37.72335386276245\n"
     ]
    }
   ],
   "cell_type": "code",
   "source": [
    "scfres = direct_minimization(basis, tol=1e-5);"
   ],
   "metadata": {},
   "execution_count": 4
  },
  {
   "outputs": [
    {
     "output_type": "execute_result",
     "data": {
      "text/plain": "Energy breakdown:\n    Kinetic             25.7671063\n    AtomicLocal         -18.8557749\n    AtomicNonlocal      14.8522714\n    Ewald               -67.1831486\n    PspCorrection       -2.3569765\n    Hartree             4.8485382 \n    Xc                  -19.3336823\n\n    total               -62.261666455864\n"
     },
     "metadata": {},
     "execution_count": 5
    }
   ],
   "cell_type": "code",
   "source": [
    "scfres.energies"
   ],
   "metadata": {},
   "execution_count": 5
  }
 ],
 "nbformat_minor": 3,
 "metadata": {
  "language_info": {
   "file_extension": ".jl",
   "mimetype": "application/julia",
   "name": "julia",
   "version": "1.6.2"
  },
  "kernelspec": {
   "name": "julia-1.6",
   "display_name": "Julia 1.6.2",
   "language": "julia"
  }
 },
 "nbformat": 4
}
