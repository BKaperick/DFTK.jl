{
 "cells": [
  {
   "cell_type": "markdown",
   "source": [
    "# Creating supercells with pymatgen\n",
    "\n",
    "The [Pymatgen](https://pymatgen.org/) python library allows to setup\n",
    "solid-state calculations using a flexible set of classes as well as an API\n",
    "to an online data base of structures. Its `Structure` and `Lattice`\n",
    "objects are directly supported by the DFTK `load_atoms` and `load_lattice`\n",
    "functions, such that DFTK may be readily used to run calculation on systems\n",
    "defined in pymatgen. Using the `pymatgen_structure` function a conversion\n",
    "from DFTK to pymatgen structures is also possible. In the following we\n",
    "use this to create a silicon supercell and find its LDA ground state\n",
    "using direct minimisation."
   ],
   "metadata": {}
  },
  {
   "cell_type": "markdown",
   "source": [
    "First we setup the silicon lattice in DFTK."
   ],
   "metadata": {}
  },
  {
   "outputs": [],
   "cell_type": "code",
   "source": [
    "using DFTK\n",
    "\n",
    "a = 10.263141334305942  # Lattice constant in Bohr\n",
    "lattice = a / 2 .* [[0 1 1.]; [1 0 1.]; [1 1 0.]]\n",
    "Si = ElementPsp(:Si, psp=load_psp(\"hgh/lda/Si-q4\"))\n",
    "atoms = [Si => [ones(3)/8, -ones(3)/8]];"
   ],
   "metadata": {},
   "execution_count": 1
  },
  {
   "cell_type": "markdown",
   "source": [
    "Next we make a `[2, 2, 2]` supercell using pymatgen"
   ],
   "metadata": {}
  },
  {
   "outputs": [],
   "cell_type": "code",
   "source": [
    "pystruct = pymatgen_structure(lattice, atoms)\n",
    "pystruct.make_supercell([2, 2, 2])\n",
    "lattice = load_lattice(pystruct)\n",
    "atoms = [Si => [s.frac_coords for s in pystruct.sites]];"
   ],
   "metadata": {},
   "execution_count": 2
  },
  {
   "cell_type": "markdown",
   "source": [
    "Setup an LDA model and discretize using\n",
    "a single kpoint and a small `Ecut` of 5 Hartree."
   ],
   "metadata": {}
  },
  {
   "outputs": [
    {
     "output_type": "execute_result",
     "data": {
      "text/plain": "PlaneWaveBasis (Ecut=5.0, 1 kpoints)"
     },
     "metadata": {},
     "execution_count": 3
    }
   ],
   "cell_type": "code",
   "source": [
    "model = model_LDA(lattice, atoms)\n",
    "basis = PlaneWaveBasis(model, 5, kgrid=(1, 1, 1))"
   ],
   "metadata": {},
   "execution_count": 3
  },
  {
   "cell_type": "markdown",
   "source": [
    "Find the ground state using direct minimisation (always using SCF is boring ...)"
   ],
   "metadata": {}
  },
  {
   "outputs": [
    {
     "name": "stdout",
     "output_type": "stream",
     "text": [
      "Iter     Function value   Gradient norm \n",
      "     0     1.123783e+02     1.485722e+00\n",
      " * time: 0.8032829761505127\n",
      "     1     1.128298e+01     8.361269e-01\n",
      " * time: 2.247912883758545\n",
      "     2    -1.278105e+01     9.886060e-01\n",
      " * time: 2.964488983154297\n",
      "     3    -3.469771e+01     7.561409e-01\n",
      " * time: 3.989982843399048\n",
      "     4    -4.860638e+01     5.258424e-01\n",
      " * time: 5.037807941436768\n",
      "     5    -5.731292e+01     1.916179e-01\n",
      " * time: 6.040586948394775\n",
      "     6    -5.993125e+01     1.149274e-01\n",
      " * time: 6.718851804733276\n",
      "     7    -6.088695e+01     5.645686e-02\n",
      " * time: 7.40641188621521\n",
      "     8    -6.129148e+01     8.688166e-02\n",
      " * time: 8.109572887420654\n",
      "     9    -6.160379e+01     2.891149e-02\n",
      " * time: 8.783873796463013\n",
      "    10    -6.181233e+01     2.606852e-02\n",
      " * time: 9.459289789199829\n",
      "    11    -6.196458e+01     2.076499e-02\n",
      " * time: 10.158759832382202\n",
      "    12    -6.204160e+01     1.525077e-02\n",
      " * time: 10.860054969787598\n",
      "    13    -6.210870e+01     1.468410e-02\n",
      " * time: 11.547191858291626\n",
      "    14    -6.214424e+01     1.325545e-02\n",
      " * time: 12.288071870803833\n",
      "    15    -6.217093e+01     9.836185e-03\n",
      " * time: 12.99855089187622\n",
      "    16    -6.218483e+01     8.382021e-03\n",
      " * time: 13.706131935119629\n",
      "    17    -6.219434e+01     5.696092e-03\n",
      " * time: 14.405174970626831\n",
      "    18    -6.220068e+01     5.015765e-03\n",
      " * time: 15.105156898498535\n",
      "    19    -6.220509e+01     4.864296e-03\n",
      " * time: 15.788590908050537\n",
      "    20    -6.220845e+01     4.504085e-03\n",
      " * time: 16.47557282447815\n",
      "    21    -6.221123e+01     4.203627e-03\n",
      " * time: 17.12746787071228\n",
      "    22    -6.221380e+01     4.569033e-03\n",
      " * time: 17.80573582649231\n",
      "    23    -6.221627e+01     5.021591e-03\n",
      " * time: 18.46330690383911\n",
      "    24    -6.221867e+01     5.230400e-03\n",
      " * time: 19.142509937286377\n",
      "    25    -6.222156e+01     5.008532e-03\n",
      " * time: 19.82235884666443\n",
      "    26    -6.222556e+01     4.962734e-03\n",
      " * time: 20.51635980606079\n",
      "    27    -6.223074e+01     5.412575e-03\n",
      " * time: 21.211975812911987\n",
      "    28    -6.223727e+01     5.417821e-03\n",
      " * time: 21.908297777175903\n",
      "    29    -6.224546e+01     5.076788e-03\n",
      " * time: 22.60276484489441\n",
      "    30    -6.225078e+01     4.415535e-03\n",
      " * time: 23.287253856658936\n",
      "    31    -6.225475e+01     4.082453e-03\n",
      " * time: 23.975169897079468\n",
      "    32    -6.225743e+01     3.500293e-03\n",
      " * time: 24.65399980545044\n",
      "    33    -6.225920e+01     2.579656e-03\n",
      " * time: 25.32239294052124\n",
      "    34    -6.226030e+01     2.193020e-03\n",
      " * time: 26.02335786819458\n",
      "    35    -6.226091e+01     1.449380e-03\n",
      " * time: 26.71079993247986\n",
      "    36    -6.226123e+01     7.640724e-04\n",
      " * time: 27.379186868667603\n",
      "    37    -6.226139e+01     6.670805e-04\n",
      " * time: 28.063466787338257\n",
      "    38    -6.226148e+01     6.112857e-04\n",
      " * time: 28.722649812698364\n",
      "    39    -6.226154e+01     4.449469e-04\n",
      " * time: 29.395267963409424\n",
      "    40    -6.226159e+01     4.290146e-04\n",
      " * time: 30.08201789855957\n",
      "    41    -6.226162e+01     3.049583e-04\n",
      " * time: 30.749939918518066\n",
      "    42    -6.226164e+01     2.652021e-04\n",
      " * time: 31.42621684074402\n",
      "    43    -6.226165e+01     2.018543e-04\n",
      " * time: 32.116617918014526\n",
      "    44    -6.226166e+01     1.707933e-04\n",
      " * time: 32.796040773391724\n",
      "    45    -6.226166e+01     9.603814e-05\n",
      " * time: 33.520763874053955\n",
      "    46    -6.226166e+01     7.495497e-05\n",
      " * time: 34.20517587661743\n",
      "    47    -6.226166e+01     5.061090e-05\n",
      " * time: 34.8735728263855\n",
      "    48    -6.226167e+01     4.600317e-05\n",
      " * time: 35.56173777580261\n",
      "    49    -6.226167e+01     3.202368e-05\n",
      " * time: 36.25304198265076\n",
      "    50    -6.226167e+01     3.031122e-05\n",
      " * time: 36.95567178726196\n",
      "    51    -6.226167e+01     2.282353e-05\n",
      " * time: 37.661376953125\n",
      "    52    -6.226167e+01     1.889671e-05\n",
      " * time: 38.38173484802246\n",
      "    53    -6.226167e+01     1.337485e-05\n",
      " * time: 39.0723397731781\n",
      "    54    -6.226167e+01     1.230655e-05\n",
      " * time: 39.75455689430237\n",
      "    55    -6.226167e+01     9.650813e-06\n",
      " * time: 40.423259973526\n",
      "    56    -6.226167e+01     6.939815e-06\n",
      " * time: 41.10858988761902\n",
      "    57    -6.226167e+01     4.512063e-06\n",
      " * time: 41.80163884162903\n",
      "    58    -6.226167e+01     3.279295e-06\n",
      " * time: 42.53022480010986\n"
     ]
    }
   ],
   "cell_type": "code",
   "source": [
    "scfres = direct_minimization(basis, tol=1e-5);"
   ],
   "metadata": {},
   "execution_count": 4
  },
  {
   "outputs": [
    {
     "output_type": "execute_result",
     "data": {
      "text/plain": "Energy breakdown:\n    Kinetic             25.7671086\n    AtomicLocal         -18.8557739\n    AtomicNonlocal      14.8522669\n    Ewald               -67.1831486\n    PspCorrection       -2.3569765\n    Hartree             4.8485406 \n    Xc                  -19.3336834\n\n    total               -62.261666458289\n"
     },
     "metadata": {},
     "execution_count": 5
    }
   ],
   "cell_type": "code",
   "source": [
    "scfres.energies"
   ],
   "metadata": {},
   "execution_count": 5
  }
 ],
 "nbformat_minor": 3,
 "metadata": {
  "language_info": {
   "file_extension": ".jl",
   "mimetype": "application/julia",
   "name": "julia",
   "version": "1.6.2"
  },
  "kernelspec": {
   "name": "julia-1.6",
   "display_name": "Julia 1.6.2",
   "language": "julia"
  }
 },
 "nbformat": 4
}
