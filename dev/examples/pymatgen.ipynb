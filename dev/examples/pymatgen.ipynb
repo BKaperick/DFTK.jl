{
 "cells": [
  {
   "cell_type": "markdown",
   "source": [
    "# Creating supercells with pymatgen\n",
    "\n",
    "The [Pymatgen](https://pymatgen.org/) python library allows to setup\n",
    "solid-state calculations using a flexible set of classes as well as an API\n",
    "to an online data base of structures. Its `Structure` and `Lattice`\n",
    "objects are directly supported by the DFTK `load_atoms` and `load_lattice`\n",
    "functions, such that DFTK may be readily used to run calculation on systems\n",
    "defined in pymatgen. Using the `pymatgen_structure` function a conversion\n",
    "from DFTK to pymatgen structures is also possible. In the following we\n",
    "use this to create a silicon supercell and find its LDA ground state\n",
    "using direct minimisation."
   ],
   "metadata": {}
  },
  {
   "cell_type": "markdown",
   "source": [
    "First we setup the silicon lattice in DFTK."
   ],
   "metadata": {}
  },
  {
   "outputs": [],
   "cell_type": "code",
   "source": [
    "using DFTK\n",
    "\n",
    "a = 10.263141334305942  # Lattice constant in Bohr\n",
    "lattice = a / 2 .* [[0 1 1.]; [1 0 1.]; [1 1 0.]]\n",
    "Si = ElementPsp(:Si, psp=load_psp(\"hgh/lda/Si-q4\"))\n",
    "atoms = [Si => [ones(3)/8, -ones(3)/8]];"
   ],
   "metadata": {},
   "execution_count": 1
  },
  {
   "cell_type": "markdown",
   "source": [
    "Next we make a `[2, 2, 2]` supercell using pymatgen"
   ],
   "metadata": {}
  },
  {
   "outputs": [],
   "cell_type": "code",
   "source": [
    "pystruct = pymatgen_structure(lattice, atoms)\n",
    "pystruct.make_supercell([2, 2, 2])\n",
    "lattice = load_lattice(pystruct)\n",
    "atoms = [Si => [s.frac_coords for s in pystruct.sites]];"
   ],
   "metadata": {},
   "execution_count": 2
  },
  {
   "cell_type": "markdown",
   "source": [
    "Setup an LDA model and discretize using\n",
    "a single kpoint and a small `Ecut` of 5 Hartree."
   ],
   "metadata": {}
  },
  {
   "outputs": [
    {
     "output_type": "execute_result",
     "data": {
      "text/plain": "PlaneWaveBasis (Ecut=5.0, 1 kpoints)"
     },
     "metadata": {},
     "execution_count": 3
    }
   ],
   "cell_type": "code",
   "source": [
    "model = model_LDA(lattice, atoms)\n",
    "basis = PlaneWaveBasis(model, 5, kgrid=(1, 1, 1))"
   ],
   "metadata": {},
   "execution_count": 3
  },
  {
   "cell_type": "markdown",
   "source": [
    "Find the ground state using direct minimisation (always using SCF is boring ...)"
   ],
   "metadata": {}
  },
  {
   "outputs": [
    {
     "name": "stdout",
     "output_type": "stream",
     "text": [
      "Iter     Function value   Gradient norm \n",
      "     0     1.119557e+02     1.618855e+00\n",
      " * time: 0.09425902366638184\n",
      "     1     1.042719e+01     9.363134e-01\n",
      " * time: 1.04960298538208\n",
      "     2    -1.125156e+01     1.092506e+00\n",
      " * time: 1.200653076171875\n",
      "     3    -3.396558e+01     8.111573e-01\n",
      " * time: 1.3770740032196045\n",
      "     4    -4.727855e+01     5.519689e-01\n",
      " * time: 1.5433080196380615\n",
      "     5    -5.676807e+01     2.053543e-01\n",
      " * time: 1.6989390850067139\n",
      "     6    -5.962820e+01     1.488611e-01\n",
      " * time: 1.813002109527588\n",
      "     7    -6.077391e+01     7.079119e-02\n",
      " * time: 1.9350650310516357\n",
      "     8    -6.126628e+01     4.012618e-02\n",
      " * time: 2.0640389919281006\n",
      "     9    -6.154228e+01     4.581290e-02\n",
      " * time: 2.181812047958374\n",
      "    10    -6.173877e+01     3.277473e-02\n",
      " * time: 2.314577102661133\n",
      "    11    -6.189736e+01     2.550111e-02\n",
      " * time: 2.4303719997406006\n",
      "    12    -6.199953e+01     2.101474e-02\n",
      " * time: 2.5640101432800293\n",
      "    13    -6.205212e+01     1.987852e-02\n",
      " * time: 2.693958044052124\n",
      "    14    -6.211365e+01     1.645667e-02\n",
      " * time: 2.8083150386810303\n",
      "    15    -6.214883e+01     1.621830e-02\n",
      " * time: 2.9466681480407715\n",
      "    16    -6.218189e+01     1.675798e-02\n",
      " * time: 3.0644161701202393\n",
      "    17    -6.220248e+01     1.346006e-02\n",
      " * time: 3.1918880939483643\n",
      "    18    -6.221898e+01     8.560536e-03\n",
      " * time: 3.312268018722534\n",
      "    19    -6.222941e+01     7.240397e-03\n",
      " * time: 3.432692050933838\n",
      "    20    -6.223757e+01     6.201911e-03\n",
      " * time: 3.565027952194214\n",
      "    21    -6.224396e+01     5.903540e-03\n",
      " * time: 3.6848580837249756\n",
      "    22    -6.224930e+01     4.793889e-03\n",
      " * time: 3.8096539974212646\n",
      "    23    -6.225362e+01     3.519471e-03\n",
      " * time: 3.929605007171631\n",
      "    24    -6.225690e+01     3.556348e-03\n",
      " * time: 4.04900598526001\n",
      "    25    -6.225912e+01     2.915709e-03\n",
      " * time: 4.179316997528076\n",
      "    26    -6.226034e+01     1.737523e-03\n",
      " * time: 4.303107023239136\n",
      "    27    -6.226093e+01     1.311338e-03\n",
      " * time: 4.421345949172974\n",
      "    28    -6.226124e+01     9.795986e-04\n",
      " * time: 4.545695066452026\n",
      "    29    -6.226140e+01     6.859780e-04\n",
      " * time: 4.664783954620361\n",
      "    30    -6.226149e+01     5.388830e-04\n",
      " * time: 4.792489051818848\n",
      "    31    -6.226154e+01     4.554829e-04\n",
      " * time: 4.9239959716796875\n",
      "    32    -6.226158e+01     4.147696e-04\n",
      " * time: 5.048444032669067\n",
      "    33    -6.226161e+01     3.574744e-04\n",
      " * time: 5.194507122039795\n",
      "    34    -6.226163e+01     2.871840e-04\n",
      " * time: 5.31508207321167\n",
      "    35    -6.226165e+01     2.562485e-04\n",
      " * time: 5.445475101470947\n",
      "    36    -6.226166e+01     1.712469e-04\n",
      " * time: 5.570407152175903\n",
      "    37    -6.226166e+01     1.354696e-04\n",
      " * time: 5.690413951873779\n",
      "    38    -6.226166e+01     8.885279e-05\n",
      " * time: 5.813883066177368\n",
      "    39    -6.226166e+01     6.606751e-05\n",
      " * time: 5.9274139404296875\n",
      "    40    -6.226167e+01     4.622531e-05\n",
      " * time: 6.053490161895752\n",
      "    41    -6.226167e+01     3.079982e-05\n",
      " * time: 6.181671142578125\n",
      "    42    -6.226167e+01     2.949889e-05\n",
      " * time: 6.297795057296753\n",
      "    43    -6.226167e+01     2.146164e-05\n",
      " * time: 6.428526163101196\n",
      "    44    -6.226167e+01     1.658113e-05\n",
      " * time: 6.5434889793396\n",
      "    45    -6.226167e+01     1.222483e-05\n",
      " * time: 6.669939041137695\n",
      "    46    -6.226167e+01     1.024863e-05\n",
      " * time: 6.793393135070801\n",
      "    47    -6.226167e+01     7.794670e-06\n",
      " * time: 6.911777973175049\n",
      "    48    -6.226167e+01     7.333728e-06\n",
      " * time: 7.042756080627441\n",
      "    49    -6.226167e+01     5.398811e-06\n",
      " * time: 7.17867112159729\n",
      "    50    -6.226167e+01     3.979704e-06\n",
      " * time: 7.297605037689209\n",
      "    51    -6.226167e+01     2.407449e-06\n",
      " * time: 7.4391770362854\n"
     ]
    }
   ],
   "cell_type": "code",
   "source": [
    "scfres = direct_minimization(basis, tol=1e-5);"
   ],
   "metadata": {},
   "execution_count": 4
  },
  {
   "outputs": [
    {
     "output_type": "execute_result",
     "data": {
      "text/plain": "Energy breakdown:\n    Kinetic             25.7671066\n    AtomicLocal         -18.8557692\n    AtomicNonlocal      14.8522659\n    Ewald               -67.1831486\n    PspCorrection       -2.3569765\n    Hartree             4.8485375 \n    Xc                  -19.3336821\n\n    total               -62.261666460714\n"
     },
     "metadata": {},
     "execution_count": 5
    }
   ],
   "cell_type": "code",
   "source": [
    "scfres.energies"
   ],
   "metadata": {},
   "execution_count": 5
  }
 ],
 "nbformat_minor": 3,
 "metadata": {
  "language_info": {
   "file_extension": ".jl",
   "mimetype": "application/julia",
   "name": "julia",
   "version": "1.3.1"
  },
  "kernelspec": {
   "name": "julia-1.3",
   "display_name": "Julia 1.3.1",
   "language": "julia"
  }
 },
 "nbformat": 4
}
