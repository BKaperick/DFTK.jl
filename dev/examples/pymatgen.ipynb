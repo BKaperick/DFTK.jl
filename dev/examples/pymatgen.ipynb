{
 "cells": [
  {
   "cell_type": "markdown",
   "source": [
    "# Creating supercells with pymatgen\n",
    "\n",
    "The [Pymatgen](https://pymatgen.org/) python library allows to setup\n",
    "solid-state calculations using a flexible set of classes as well as an API\n",
    "to an online data base of structures. Its `Structure` and `Lattice`\n",
    "objects are directly supported by the DFTK `load_atoms` and `load_lattice`\n",
    "functions, such that DFTK may be readily used to run calculation on systems\n",
    "defined in pymatgen. Using the `pymatgen_structure` function a conversion\n",
    "from DFTK to pymatgen structures is also possible. In the following we\n",
    "use this to create a silicon supercell and find its LDA ground state\n",
    "using direct minimisation."
   ],
   "metadata": {}
  },
  {
   "cell_type": "markdown",
   "source": [
    "First we setup the silicon lattice in DFTK."
   ],
   "metadata": {}
  },
  {
   "outputs": [],
   "cell_type": "code",
   "source": [
    "using DFTK\n",
    "\n",
    "a = 10.263141334305942  # Lattice constant in Bohr\n",
    "lattice = a / 2 .* [[0 1 1.]; [1 0 1.]; [1 1 0.]]\n",
    "Si = ElementPsp(:Si, psp=load_psp(\"hgh/lda/Si-q4\"))\n",
    "atoms = [Si => [ones(3)/8, -ones(3)/8]];"
   ],
   "metadata": {},
   "execution_count": 1
  },
  {
   "cell_type": "markdown",
   "source": [
    "Next we make a `[2, 2, 2]` supercell using pymatgen"
   ],
   "metadata": {}
  },
  {
   "outputs": [],
   "cell_type": "code",
   "source": [
    "pystruct = pymatgen_structure(lattice, atoms)\n",
    "pystruct.make_supercell([2, 2, 2])\n",
    "lattice = load_lattice(pystruct)\n",
    "atoms = [Si => [s.frac_coords for s in pystruct.sites]];"
   ],
   "metadata": {},
   "execution_count": 2
  },
  {
   "cell_type": "markdown",
   "source": [
    "Setup an LDA model and discretize using\n",
    "a single kpoint and a small `Ecut` of 5 Hartree."
   ],
   "metadata": {}
  },
  {
   "outputs": [
    {
     "output_type": "execute_result",
     "data": {
      "text/plain": "PlaneWaveBasis (Ecut=5.0, 1 kpoints)"
     },
     "metadata": {},
     "execution_count": 3
    }
   ],
   "cell_type": "code",
   "source": [
    "model = model_LDA(lattice, atoms)\n",
    "basis = PlaneWaveBasis(model, 5, kgrid=(1, 1, 1))"
   ],
   "metadata": {},
   "execution_count": 3
  },
  {
   "cell_type": "markdown",
   "source": [
    "Find the ground state using direct minimisation (always using SCF is boring ...)"
   ],
   "metadata": {}
  },
  {
   "outputs": [
    {
     "name": "stdout",
     "output_type": "stream",
     "text": [
      "Iter     Function value   Gradient norm \n",
      "     0     1.120486e+02     1.496448e+00\n",
      " * time: 0.09202003479003906\n",
      "     1     1.109452e+01     9.943075e-01\n",
      " * time: 0.9985170364379883\n",
      "     2    -1.233186e+01     1.084438e+00\n",
      " * time: 1.1586480140686035\n",
      "     3    -3.442275e+01     7.661405e-01\n",
      " * time: 1.2974388599395752\n",
      "     4    -4.826875e+01     6.156790e-01\n",
      " * time: 1.4582080841064453\n",
      "     5    -5.733805e+01     1.993634e-01\n",
      " * time: 1.6111230850219727\n",
      "     6    -6.011613e+01     9.010097e-02\n",
      " * time: 1.7275218963623047\n",
      "     7    -6.104975e+01     6.195404e-02\n",
      " * time: 1.8425440788269043\n",
      "     8    -6.142534e+01     6.919091e-02\n",
      " * time: 1.9543380737304688\n",
      "     9    -6.171897e+01     3.057378e-02\n",
      " * time: 2.074384927749634\n",
      "    10    -6.189914e+01     2.627182e-02\n",
      " * time: 2.1923940181732178\n",
      "    11    -6.202209e+01     1.760750e-02\n",
      " * time: 2.2996459007263184\n",
      "    12    -6.208024e+01     1.644722e-02\n",
      " * time: 2.4146058559417725\n",
      "    13    -6.212763e+01     1.501717e-02\n",
      " * time: 2.5242810249328613\n",
      "    14    -6.215503e+01     1.284532e-02\n",
      " * time: 2.6419289112091064\n",
      "    15    -6.217676e+01     8.249533e-03\n",
      " * time: 2.7618589401245117\n",
      "    16    -6.219084e+01     7.066802e-03\n",
      " * time: 2.8723978996276855\n",
      "    17    -6.220125e+01     6.461327e-03\n",
      " * time: 2.990844964981079\n",
      "    18    -6.221037e+01     7.451487e-03\n",
      " * time: 3.1100878715515137\n",
      "    19    -6.221861e+01     7.021920e-03\n",
      " * time: 3.2242860794067383\n",
      "    20    -6.222644e+01     7.192830e-03\n",
      " * time: 3.3434810638427734\n",
      "    21    -6.223418e+01     7.269448e-03\n",
      " * time: 3.460397958755493\n",
      "    22    -6.224162e+01     5.306164e-03\n",
      " * time: 3.5703420639038086\n",
      "    23    -6.224813e+01     4.313143e-03\n",
      " * time: 3.688077926635742\n",
      "    24    -6.225257e+01     3.790349e-03\n",
      " * time: 3.799804925918579\n",
      "    25    -6.225532e+01     3.118738e-03\n",
      " * time: 3.91827392578125\n",
      "    26    -6.225717e+01     2.596802e-03\n",
      " * time: 4.03885293006897\n",
      "    27    -6.225853e+01     2.124978e-03\n",
      " * time: 4.149616003036499\n",
      "    28    -6.225960e+01     1.952207e-03\n",
      " * time: 4.268012046813965\n",
      "    29    -6.226043e+01     1.674395e-03\n",
      " * time: 4.383588075637817\n",
      "    30    -6.226101e+01     1.392806e-03\n",
      " * time: 4.490891933441162\n",
      "    31    -6.226132e+01     8.423818e-04\n",
      " * time: 4.608222961425781\n",
      "    32    -6.226149e+01     6.215476e-04\n",
      " * time: 4.7240400314331055\n",
      "    33    -6.226157e+01     5.618105e-04\n",
      " * time: 4.8399128913879395\n",
      "    34    -6.226162e+01     3.880901e-04\n",
      " * time: 4.957526922225952\n",
      "    35    -6.226164e+01     2.886300e-04\n",
      " * time: 5.066736936569214\n",
      "    36    -6.226165e+01     2.245249e-04\n",
      " * time: 5.188530921936035\n",
      "    37    -6.226166e+01     1.650475e-04\n",
      " * time: 5.309313058853149\n",
      "    38    -6.226166e+01     1.427543e-04\n",
      " * time: 5.4186320304870605\n",
      "    39    -6.226166e+01     1.045714e-04\n",
      " * time: 5.53658390045166\n",
      "    40    -6.226166e+01     9.611367e-05\n",
      " * time: 5.6553590297698975\n",
      "    41    -6.226166e+01     7.754028e-05\n",
      " * time: 5.76626992225647\n",
      "    42    -6.226167e+01     4.618360e-05\n",
      " * time: 5.883615016937256\n",
      "    43    -6.226167e+01     3.875405e-05\n",
      " * time: 6.002315998077393\n",
      "    44    -6.226167e+01     3.477193e-05\n",
      " * time: 6.1118409633636475\n",
      "    45    -6.226167e+01     2.670737e-05\n",
      " * time: 6.22842001914978\n",
      "    46    -6.226167e+01     1.585174e-05\n",
      " * time: 6.345267057418823\n",
      "    47    -6.226167e+01     9.766669e-06\n",
      " * time: 6.454967021942139\n",
      "    48    -6.226167e+01     6.078696e-06\n",
      " * time: 6.5737950801849365\n",
      "    49    -6.226167e+01     5.409327e-06\n",
      " * time: 6.685618877410889\n",
      "    50    -6.226167e+01     4.593396e-06\n",
      " * time: 6.801120042800903\n"
     ]
    }
   ],
   "cell_type": "code",
   "source": [
    "scfres = direct_minimization(basis, tol=1e-5);"
   ],
   "metadata": {},
   "execution_count": 4
  },
  {
   "outputs": [
    {
     "output_type": "execute_result",
     "data": {
      "text/plain": "Energy breakdown:\n    Kinetic             25.7671055\n    AtomicLocal         -18.8557656\n    AtomicNonlocal      14.8522643\n    Ewald               -67.1831486\n    PspCorrection       -2.3569765\n    Hartree             4.8485360 \n    Xc                  -19.3336816\n\n    total               -62.261666452780\n"
     },
     "metadata": {},
     "execution_count": 5
    }
   ],
   "cell_type": "code",
   "source": [
    "scfres.energies"
   ],
   "metadata": {},
   "execution_count": 5
  }
 ],
 "nbformat_minor": 3,
 "metadata": {
  "language_info": {
   "file_extension": ".jl",
   "mimetype": "application/julia",
   "name": "julia",
   "version": "1.3.1"
  },
  "kernelspec": {
   "name": "julia-1.3",
   "display_name": "Julia 1.3.1",
   "language": "julia"
  }
 },
 "nbformat": 4
}
