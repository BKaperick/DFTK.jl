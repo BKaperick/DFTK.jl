{
 "cells": [
  {
   "cell_type": "markdown",
   "source": [
    "# Creating supercells with pymatgen\n",
    "\n",
    "The [Pymatgen](https://pymatgen.org/) python library allows to setup\n",
    "solid-state calculations using a flexible set of classes as well as an API\n",
    "to an online data base of structures. Its `Structure` and `Lattice`\n",
    "objects are directly supported by the DFTK `load_atoms` and `load_lattice`\n",
    "functions, such that DFTK may be readily used to run calculation on systems\n",
    "defined in pymatgen. Using the `pymatgen_structure` function a conversion\n",
    "from DFTK to pymatgen structures is also possible. In the following we\n",
    "use this to create a silicon supercell and find its LDA ground state\n",
    "using direct minimisation."
   ],
   "metadata": {}
  },
  {
   "cell_type": "markdown",
   "source": [
    "First we setup the silicon lattice in DFTK."
   ],
   "metadata": {}
  },
  {
   "outputs": [],
   "cell_type": "code",
   "source": [
    "using DFTK\n",
    "\n",
    "a = 10.263141334305942  # Lattice constant in Bohr\n",
    "lattice = a / 2 .* [[0 1 1.]; [1 0 1.]; [1 1 0.]]\n",
    "Si = ElementPsp(:Si, psp=load_psp(\"hgh/lda/Si-q4\"))\n",
    "atoms = [Si => [ones(3)/8, -ones(3)/8]];"
   ],
   "metadata": {},
   "execution_count": 1
  },
  {
   "cell_type": "markdown",
   "source": [
    "Next we make a `[2, 2, 2]` supercell using pymatgen"
   ],
   "metadata": {}
  },
  {
   "outputs": [],
   "cell_type": "code",
   "source": [
    "pystruct = pymatgen_structure(lattice, atoms)\n",
    "pystruct.make_supercell([2, 2, 2])\n",
    "lattice = load_lattice(pystruct)\n",
    "atoms = [Si => [s.frac_coords for s in pystruct.sites]];"
   ],
   "metadata": {},
   "execution_count": 2
  },
  {
   "cell_type": "markdown",
   "source": [
    "Setup an LDA model and discretize using\n",
    "a single kpoint and a small `Ecut` of 5 Hartree."
   ],
   "metadata": {}
  },
  {
   "outputs": [
    {
     "output_type": "execute_result",
     "data": {
      "text/plain": "PlaneWaveBasis (Ecut=5.0, 1 kpoints)"
     },
     "metadata": {},
     "execution_count": 3
    }
   ],
   "cell_type": "code",
   "source": [
    "model = model_LDA(lattice, atoms)\n",
    "basis = PlaneWaveBasis(model, 5, kgrid=(1, 1, 1))"
   ],
   "metadata": {},
   "execution_count": 3
  },
  {
   "cell_type": "markdown",
   "source": [
    "Find the ground state using direct minimisation (always using SCF is boring ...)"
   ],
   "metadata": {}
  },
  {
   "outputs": [
    {
     "name": "stdout",
     "output_type": "stream",
     "text": [
      "Iter     Function value   Gradient norm \n",
      "     0     1.118900e+02     1.556631e+00\n",
      " * time: 0.09225606918334961\n",
      "     1     1.101453e+01     9.738784e-01\n",
      " * time: 0.9656589031219482\n",
      "     2    -1.197137e+01     1.133919e+00\n",
      " * time: 1.2272779941558838\n",
      "     3    -3.416244e+01     7.625954e-01\n",
      " * time: 1.7145891189575195\n",
      "     4    -4.762104e+01     5.386964e-01\n",
      " * time: 1.8574090003967285\n",
      "     5    -5.705477e+01     2.309768e-01\n",
      " * time: 2.011059045791626\n",
      "     6    -5.987842e+01     2.095364e-01\n",
      " * time: 2.1280930042266846\n",
      "     7    -6.101794e+01     9.431211e-02\n",
      " * time: 2.2460761070251465\n",
      "     8    -6.150093e+01     3.965040e-02\n",
      " * time: 2.3635740280151367\n",
      "     9    -6.177319e+01     3.698170e-02\n",
      " * time: 2.4742939472198486\n",
      "    10    -6.190085e+01     2.471805e-02\n",
      " * time: 2.5918960571289062\n",
      "    11    -6.201617e+01     1.879781e-02\n",
      " * time: 2.7086129188537598\n",
      "    12    -6.207688e+01     1.549350e-02\n",
      " * time: 2.825937032699585\n",
      "    13    -6.211445e+01     1.195618e-02\n",
      " * time: 2.9420371055603027\n",
      "    14    -6.214846e+01     1.111188e-02\n",
      " * time: 3.0518739223480225\n",
      "    15    -6.216835e+01     1.051900e-02\n",
      " * time: 3.170409917831421\n",
      "    16    -6.218411e+01     8.066586e-03\n",
      " * time: 3.286536931991577\n",
      "    17    -6.219471e+01     7.562830e-03\n",
      " * time: 3.401042938232422\n",
      "    18    -6.220327e+01     7.673627e-03\n",
      " * time: 3.5098319053649902\n",
      "    19    -6.220879e+01     5.371771e-03\n",
      " * time: 3.6254239082336426\n",
      "    20    -6.221265e+01     5.055135e-03\n",
      " * time: 3.7412779331207275\n",
      "    21    -6.221593e+01     4.346344e-03\n",
      " * time: 3.857988119125366\n",
      "    22    -6.221885e+01     5.508102e-03\n",
      " * time: 3.9674320220947266\n",
      "    23    -6.222189e+01     6.876951e-03\n",
      " * time: 4.084182977676392\n",
      "    24    -6.222557e+01     6.897247e-03\n",
      " * time: 4.201575040817261\n",
      "    25    -6.223066e+01     6.828489e-03\n",
      " * time: 4.321461915969849\n",
      "    26    -6.223723e+01     5.429049e-03\n",
      " * time: 4.433120012283325\n",
      "    27    -6.224406e+01     4.651924e-03\n",
      " * time: 4.55049204826355\n",
      "    28    -6.225025e+01     4.306380e-03\n",
      " * time: 4.666940927505493\n",
      "    29    -6.225429e+01     3.533869e-03\n",
      " * time: 4.786717891693115\n",
      "    30    -6.225703e+01     3.345398e-03\n",
      " * time: 4.897337913513184\n",
      "    31    -6.225863e+01     3.043844e-03\n",
      " * time: 5.016258001327515\n",
      "    32    -6.225971e+01     1.985031e-03\n",
      " * time: 5.134658098220825\n",
      "    33    -6.226049e+01     1.635274e-03\n",
      " * time: 5.251634120941162\n",
      "    34    -6.226100e+01     1.377717e-03\n",
      " * time: 5.366748094558716\n",
      "    35    -6.226132e+01     9.879777e-04\n",
      " * time: 5.478554010391235\n",
      "    36    -6.226149e+01     6.968051e-04\n",
      " * time: 5.5962159633636475\n",
      "    37    -6.226156e+01     5.346648e-04\n",
      " * time: 5.712558031082153\n",
      "    38    -6.226161e+01     4.188399e-04\n",
      " * time: 5.828316926956177\n",
      "    39    -6.226163e+01     2.633140e-04\n",
      " * time: 5.938151121139526\n",
      "    40    -6.226165e+01     2.188745e-04\n",
      " * time: 6.055819034576416\n",
      "    41    -6.226165e+01     1.722016e-04\n",
      " * time: 6.1722190380096436\n",
      "    42    -6.226166e+01     1.385703e-04\n",
      " * time: 6.29024600982666\n",
      "    43    -6.226166e+01     9.943111e-05\n",
      " * time: 6.399821043014526\n",
      "    44    -6.226166e+01     8.067530e-05\n",
      " * time: 6.515188932418823\n",
      "    45    -6.226166e+01     6.538725e-05\n",
      " * time: 6.6324310302734375\n",
      "    46    -6.226167e+01     5.266457e-05\n",
      " * time: 6.749145030975342\n",
      "    47    -6.226167e+01     4.480514e-05\n",
      " * time: 6.858841896057129\n",
      "    48    -6.226167e+01     3.096365e-05\n",
      " * time: 6.976838111877441\n",
      "    49    -6.226167e+01     2.924741e-05\n",
      " * time: 7.092839002609253\n",
      "    50    -6.226167e+01     2.130490e-05\n",
      " * time: 7.210733890533447\n",
      "    51    -6.226167e+01     1.715135e-05\n",
      " * time: 7.326112985610962\n",
      "    52    -6.226167e+01     1.294101e-05\n",
      " * time: 7.4355669021606445\n",
      "    53    -6.226167e+01     9.764800e-06\n",
      " * time: 7.552791118621826\n",
      "    54    -6.226167e+01     8.498052e-06\n",
      " * time: 7.6703009605407715\n",
      "    55    -6.226167e+01     5.362226e-06\n",
      " * time: 7.787803888320923\n",
      "    56    -6.226167e+01     4.516879e-06\n",
      " * time: 7.89789605140686\n",
      "    57    -6.226167e+01     3.738760e-06\n",
      " * time: 8.014501094818115\n",
      "    58    -6.226167e+01     3.088839e-06\n",
      " * time: 8.130589008331299\n"
     ]
    }
   ],
   "cell_type": "code",
   "source": [
    "scfres = direct_minimization(basis, tol=1e-5);"
   ],
   "metadata": {},
   "execution_count": 4
  },
  {
   "outputs": [
    {
     "output_type": "execute_result",
     "data": {
      "text/plain": "Energy breakdown:\n    Kinetic             25.7671065\n    AtomicLocal         -18.8557681\n    AtomicNonlocal      14.8522653\n    Ewald               -67.1831486\n    PspCorrection       -2.3569765\n    Hartree             4.8485368 \n    Xc                  -19.3336819\n\n    total               -62.261666460838\n"
     },
     "metadata": {},
     "execution_count": 5
    }
   ],
   "cell_type": "code",
   "source": [
    "scfres.energies"
   ],
   "metadata": {},
   "execution_count": 5
  }
 ],
 "nbformat_minor": 3,
 "metadata": {
  "language_info": {
   "file_extension": ".jl",
   "mimetype": "application/julia",
   "name": "julia",
   "version": "1.3.1"
  },
  "kernelspec": {
   "name": "julia-1.3",
   "display_name": "Julia 1.3.1",
   "language": "julia"
  }
 },
 "nbformat": 4
}
