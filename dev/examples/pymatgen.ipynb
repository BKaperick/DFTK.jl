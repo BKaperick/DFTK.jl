{
 "cells": [
  {
   "cell_type": "markdown",
   "source": [
    "# Creating supercells with pymatgen\n",
    "\n",
    "The [Pymatgen](https://pymatgen.org/) python library allows to setup\n",
    "solid-state calculations using a flexible set of classes as well as an API\n",
    "to an online data base of structures. Its `Structure` and `Lattice`\n",
    "objects are directly supported by the DFTK `load_atoms` and `load_lattice`\n",
    "functions, such that DFTK may be readily used to run calculation on systems\n",
    "defined in pymatgen. Using the `pymatgen_structure` function a conversion\n",
    "from DFTK to pymatgen structures is also possible. In the following we\n",
    "use this to create a silicon supercell and find its LDA ground state\n",
    "using direct minimisation."
   ],
   "metadata": {}
  },
  {
   "cell_type": "markdown",
   "source": [
    "First we setup the silicon lattice in DFTK."
   ],
   "metadata": {}
  },
  {
   "outputs": [],
   "cell_type": "code",
   "source": [
    "using DFTK\n",
    "\n",
    "a = 10.263141334305942  # Lattice constant in Bohr\n",
    "lattice = a / 2 .* [[0 1 1.]; [1 0 1.]; [1 1 0.]]\n",
    "Si = ElementPsp(:Si, psp=load_psp(\"hgh/lda/Si-q4\"))\n",
    "atoms = [Si => [ones(3)/8, -ones(3)/8]];"
   ],
   "metadata": {},
   "execution_count": 1
  },
  {
   "cell_type": "markdown",
   "source": [
    "Next we make a `[2, 2, 2]` supercell using pymatgen"
   ],
   "metadata": {}
  },
  {
   "outputs": [],
   "cell_type": "code",
   "source": [
    "pystruct = pymatgen_structure(lattice, atoms)\n",
    "pystruct.make_supercell([2, 2, 2])\n",
    "lattice = load_lattice(pystruct)\n",
    "atoms = [Si => [s.frac_coords for s in pystruct.sites]];"
   ],
   "metadata": {},
   "execution_count": 2
  },
  {
   "cell_type": "markdown",
   "source": [
    "Setup an LDA model and discretize using\n",
    "a single kpoint and a small `Ecut` of 5 Hartree."
   ],
   "metadata": {}
  },
  {
   "outputs": [
    {
     "output_type": "execute_result",
     "data": {
      "text/plain": "PlaneWaveBasis (Ecut=5.0, 1 kpoints)"
     },
     "metadata": {},
     "execution_count": 3
    }
   ],
   "cell_type": "code",
   "source": [
    "model = model_LDA(lattice, atoms)\n",
    "basis = PlaneWaveBasis(model, 5, kgrid=(1, 1, 1))"
   ],
   "metadata": {},
   "execution_count": 3
  },
  {
   "cell_type": "markdown",
   "source": [
    "Find the ground state using direct minimisation (always using SCF is boring ...)"
   ],
   "metadata": {}
  },
  {
   "outputs": [
    {
     "name": "stdout",
     "output_type": "stream",
     "text": [
      "Iter     Function value   Gradient norm \n",
      "     0     1.120665e+02     1.667883e+00\n",
      " * time: 0.7857649326324463\n",
      "     1     1.038995e+01     1.004390e+00\n",
      " * time: 2.1748270988464355\n",
      "     2    -1.208186e+01     1.031574e+00\n",
      " * time: 2.8572731018066406\n",
      "     3    -3.436596e+01     8.457768e-01\n",
      " * time: 3.8737571239471436\n",
      "     4    -4.793199e+01     6.147369e-01\n",
      " * time: 4.91091513633728\n",
      "     5    -5.727178e+01     2.590683e-01\n",
      " * time: 5.9081950187683105\n",
      "     6    -5.997830e+01     1.834429e-01\n",
      " * time: 6.581967115402222\n",
      "     7    -6.102429e+01     5.184555e-02\n",
      " * time: 7.253514051437378\n",
      "     8    -6.144735e+01     6.902266e-02\n",
      " * time: 7.941586017608643\n",
      "     9    -6.169507e+01     4.531897e-02\n",
      " * time: 8.61252212524414\n",
      "    10    -6.188497e+01     2.374962e-02\n",
      " * time: 9.284495115280151\n",
      "    11    -6.201885e+01     2.164986e-02\n",
      " * time: 9.95748496055603\n",
      "    12    -6.208931e+01     1.636555e-02\n",
      " * time: 10.630265951156616\n",
      "    13    -6.214321e+01     1.401187e-02\n",
      " * time: 11.308933973312378\n",
      "    14    -6.218026e+01     1.167023e-02\n",
      " * time: 11.989061117172241\n",
      "    15    -6.220570e+01     9.475633e-03\n",
      " * time: 12.665807962417603\n",
      "    16    -6.222191e+01     7.461333e-03\n",
      " * time: 13.338231086730957\n",
      "    17    -6.223326e+01     6.287106e-03\n",
      " * time: 14.017500162124634\n",
      "    18    -6.224152e+01     4.942683e-03\n",
      " * time: 14.687400102615356\n",
      "    19    -6.224657e+01     4.117620e-03\n",
      " * time: 15.360265970230103\n",
      "    20    -6.225061e+01     4.468606e-03\n",
      " * time: 16.03232216835022\n",
      "    21    -6.225401e+01     4.563927e-03\n",
      " * time: 16.71060299873352\n",
      "    22    -6.225681e+01     3.496840e-03\n",
      " * time: 17.38232111930847\n",
      "    23    -6.225886e+01     2.406724e-03\n",
      " * time: 18.05408811569214\n",
      "    24    -6.226022e+01     1.750819e-03\n",
      " * time: 18.72631001472473\n",
      "    25    -6.226098e+01     1.199615e-03\n",
      " * time: 19.403517961502075\n",
      "    26    -6.226132e+01     8.456498e-04\n",
      " * time: 20.081881999969482\n",
      "    27    -6.226148e+01     5.569084e-04\n",
      " * time: 20.75285816192627\n",
      "    28    -6.226156e+01     4.205730e-04\n",
      " * time: 21.42749309539795\n",
      "    29    -6.226159e+01     3.310604e-04\n",
      " * time: 22.10116696357727\n",
      "    30    -6.226162e+01     2.673962e-04\n",
      " * time: 22.781017065048218\n",
      "    31    -6.226163e+01     2.290239e-04\n",
      " * time: 23.452691078186035\n",
      "    32    -6.226164e+01     2.007008e-04\n",
      " * time: 24.124398946762085\n",
      "    33    -6.226165e+01     1.690181e-04\n",
      " * time: 24.824828147888184\n",
      "    34    -6.226166e+01     1.342117e-04\n",
      " * time: 25.50738000869751\n",
      "    35    -6.226166e+01     1.002412e-04\n",
      " * time: 26.178439140319824\n",
      "    36    -6.226166e+01     8.964254e-05\n",
      " * time: 26.849015951156616\n",
      "    37    -6.226166e+01     6.170894e-05\n",
      " * time: 27.521015167236328\n",
      "    38    -6.226167e+01     4.317300e-05\n",
      " * time: 28.223828077316284\n",
      "    39    -6.226167e+01     3.326377e-05\n",
      " * time: 28.902090072631836\n",
      "    40    -6.226167e+01     2.694078e-05\n",
      " * time: 29.57460308074951\n",
      "    41    -6.226167e+01     2.237674e-05\n",
      " * time: 30.24498701095581\n",
      "    42    -6.226167e+01     1.716933e-05\n",
      " * time: 30.915931940078735\n",
      "    43    -6.226167e+01     1.188063e-05\n",
      " * time: 31.596508026123047\n",
      "    44    -6.226167e+01     1.056874e-05\n",
      " * time: 32.26643204689026\n",
      "    45    -6.226167e+01     8.967290e-06\n",
      " * time: 32.93888306617737\n",
      "    46    -6.226167e+01     7.259786e-06\n",
      " * time: 33.6417670249939\n",
      "    47    -6.226167e+01     4.968404e-06\n",
      " * time: 34.32028412818909\n",
      "    48    -6.226167e+01     2.946052e-06\n",
      " * time: 34.99143695831299\n",
      "    49    -6.226167e+01     2.148853e-06\n",
      " * time: 35.663007974624634\n",
      "    50    -6.226167e+01     1.910111e-06\n",
      " * time: 36.33357501029968\n"
     ]
    }
   ],
   "cell_type": "code",
   "source": [
    "scfres = direct_minimization(basis, tol=1e-5);"
   ],
   "metadata": {},
   "execution_count": 4
  },
  {
   "outputs": [
    {
     "output_type": "execute_result",
     "data": {
      "text/plain": "Energy breakdown:\n    Kinetic             25.7671068\n    AtomicLocal         -18.8557673\n    AtomicNonlocal      14.8522641\n    Ewald               -67.1831486\n    PspCorrection       -2.3569765\n    Hartree             4.8485370 \n    Xc                  -19.3336819\n\n    total               -62.261666462259\n"
     },
     "metadata": {},
     "execution_count": 5
    }
   ],
   "cell_type": "code",
   "source": [
    "scfres.energies"
   ],
   "metadata": {},
   "execution_count": 5
  }
 ],
 "nbformat_minor": 3,
 "metadata": {
  "language_info": {
   "file_extension": ".jl",
   "mimetype": "application/julia",
   "name": "julia",
   "version": "1.6.2"
  },
  "kernelspec": {
   "name": "julia-1.6",
   "display_name": "Julia 1.6.2",
   "language": "julia"
  }
 },
 "nbformat": 4
}
