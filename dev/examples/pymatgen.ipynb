{
 "cells": [
  {
   "cell_type": "markdown",
   "source": [
    "# Creating supercells with pymatgen\n",
    "\n",
    "The [Pymatgen](https://pymatgen.org/) python library allows to setup\n",
    "solid-state calculations using a flexible set of classes as well as an API\n",
    "to an online data base of structures. Its `Structure` and `Lattice`\n",
    "objects are directly supported by the DFTK `load_atoms` and `load_lattice`\n",
    "functions, such that DFTK may be readily used to run calculation on systems\n",
    "defined in pymatgen. Using the `pymatgen_structure` function a conversion\n",
    "from DFTK to pymatgen structures is also possible. In the following we\n",
    "use this to create a silicon supercell and find its LDA ground state\n",
    "using direct minimisation."
   ],
   "metadata": {}
  },
  {
   "cell_type": "markdown",
   "source": [
    "First we setup the silicon lattice in DFTK."
   ],
   "metadata": {}
  },
  {
   "outputs": [],
   "cell_type": "code",
   "source": [
    "using DFTK\n",
    "\n",
    "a = 10.263141334305942  # Lattice constant in Bohr\n",
    "lattice = a / 2 .* [[0 1 1.]; [1 0 1.]; [1 1 0.]]\n",
    "Si = ElementPsp(:Si, psp=load_psp(\"hgh/lda/Si-q4\"))\n",
    "atoms = [Si => [ones(3)/8, -ones(3)/8]];"
   ],
   "metadata": {},
   "execution_count": 1
  },
  {
   "cell_type": "markdown",
   "source": [
    "Next we make a `[2, 2, 2]` supercell using pymatgen"
   ],
   "metadata": {}
  },
  {
   "outputs": [],
   "cell_type": "code",
   "source": [
    "pystruct = pymatgen_structure(lattice, atoms)\n",
    "pystruct.make_supercell([2, 2, 2])\n",
    "lattice = load_lattice(pystruct)\n",
    "atoms = [Si => [s.frac_coords for s in pystruct.sites]];"
   ],
   "metadata": {},
   "execution_count": 2
  },
  {
   "cell_type": "markdown",
   "source": [
    "Setup an LDA model and discretize using\n",
    "a single kpoint and a small `Ecut` of 5 Hartree."
   ],
   "metadata": {}
  },
  {
   "outputs": [
    {
     "output_type": "execute_result",
     "data": {
      "text/plain": "PlaneWaveBasis (Ecut=5.0, 1 kpoints)"
     },
     "metadata": {},
     "execution_count": 3
    }
   ],
   "cell_type": "code",
   "source": [
    "model = model_LDA(lattice, atoms)\n",
    "basis = PlaneWaveBasis(model, 5, kgrid=(1, 1, 1))"
   ],
   "metadata": {},
   "execution_count": 3
  },
  {
   "cell_type": "markdown",
   "source": [
    "Find the ground state using direct minimisation (always using SCF is boring ...)"
   ],
   "metadata": {}
  },
  {
   "outputs": [
    {
     "name": "stdout",
     "output_type": "stream",
     "text": [
      "Iter     Function value   Gradient norm \n",
      "     0     1.122481e+02     1.580378e+00\n",
      " * time: 0.6927509307861328\n",
      "     1     1.080469e+01     8.655927e-01\n",
      " * time: 2.0174529552459717\n",
      "     2    -1.212781e+01     1.057845e+00\n",
      " * time: 2.672315835952759\n",
      "     3    -3.390737e+01     7.453569e-01\n",
      " * time: 3.6613059043884277\n",
      "     4    -4.746127e+01     5.398960e-01\n",
      " * time: 4.613008975982666\n",
      "     5    -5.675641e+01     2.276962e-01\n",
      " * time: 5.5925610065460205\n",
      "     6    -5.973211e+01     1.146884e-01\n",
      " * time: 6.2305169105529785\n",
      "     7    -6.085408e+01     4.534887e-02\n",
      " * time: 6.8802008628845215\n",
      "     8    -6.126638e+01     8.407974e-02\n",
      " * time: 7.53013801574707\n",
      "     9    -6.158256e+01     3.277903e-02\n",
      " * time: 8.198517799377441\n",
      "    10    -6.179460e+01     2.544870e-02\n",
      " * time: 8.841769933700562\n",
      "    11    -6.195054e+01     1.846255e-02\n",
      " * time: 9.48632287979126\n",
      "    12    -6.200957e+01     1.846941e-02\n",
      " * time: 10.12818694114685\n",
      "    13    -6.207505e+01     1.510530e-02\n",
      " * time: 10.777406930923462\n",
      "    14    -6.210734e+01     1.158366e-02\n",
      " * time: 11.409592866897583\n",
      "    15    -6.214185e+01     1.190215e-02\n",
      " * time: 12.056285858154297\n",
      "    16    -6.216089e+01     8.992321e-03\n",
      " * time: 12.698323965072632\n",
      "    17    -6.217846e+01     7.419464e-03\n",
      " * time: 13.353547811508179\n",
      "    18    -6.219067e+01     9.051492e-03\n",
      " * time: 13.98806381225586\n",
      "    19    -6.220006e+01     8.148418e-03\n",
      " * time: 14.62091588973999\n",
      "    20    -6.220789e+01     6.549702e-03\n",
      " * time: 15.284896850585938\n",
      "    21    -6.221526e+01     6.546938e-03\n",
      " * time: 15.942071914672852\n",
      "    22    -6.222256e+01     7.465835e-03\n",
      " * time: 16.571120977401733\n",
      "    23    -6.223001e+01     6.597286e-03\n",
      " * time: 17.211643934249878\n",
      "    24    -6.223737e+01     6.260688e-03\n",
      " * time: 17.85104489326477\n",
      "    25    -6.224367e+01     5.631825e-03\n",
      " * time: 18.498552799224854\n",
      "    26    -6.224882e+01     5.470993e-03\n",
      " * time: 19.14504384994507\n",
      "    27    -6.225266e+01     3.885905e-03\n",
      " * time: 19.789982795715332\n",
      "    28    -6.225538e+01     2.997154e-03\n",
      " * time: 20.427027940750122\n",
      "    29    -6.225735e+01     2.279140e-03\n",
      " * time: 21.069681882858276\n",
      "    30    -6.225882e+01     2.673486e-03\n",
      " * time: 21.695287942886353\n",
      "    31    -6.225989e+01     1.859332e-03\n",
      " * time: 22.32298183441162\n",
      "    32    -6.226062e+01     1.649667e-03\n",
      " * time: 22.95364999771118\n",
      "    33    -6.226109e+01     1.159489e-03\n",
      " * time: 23.590457916259766\n",
      "    34    -6.226138e+01     7.593921e-04\n",
      " * time: 24.220568895339966\n",
      "    35    -6.226152e+01     6.384948e-04\n",
      " * time: 24.856279850006104\n",
      "    36    -6.226158e+01     3.993737e-04\n",
      " * time: 25.485440969467163\n",
      "    37    -6.226162e+01     2.671291e-04\n",
      " * time: 26.123143911361694\n",
      "    38    -6.226164e+01     2.609028e-04\n",
      " * time: 26.755602836608887\n",
      "    39    -6.226165e+01     2.117083e-04\n",
      " * time: 27.38827896118164\n",
      "    40    -6.226165e+01     1.816686e-04\n",
      " * time: 28.0175199508667\n",
      "    41    -6.226166e+01     1.304161e-04\n",
      " * time: 28.661418914794922\n",
      "    42    -6.226166e+01     1.119464e-04\n",
      " * time: 29.303020000457764\n",
      "    43    -6.226166e+01     9.217665e-05\n",
      " * time: 29.942577838897705\n",
      "    44    -6.226166e+01     5.446678e-05\n",
      " * time: 30.573033809661865\n",
      "    45    -6.226167e+01     4.290726e-05\n",
      " * time: 31.21052885055542\n",
      "    46    -6.226167e+01     2.731493e-05\n",
      " * time: 31.843315839767456\n",
      "    47    -6.226167e+01     2.042389e-05\n",
      " * time: 32.48392391204834\n",
      "    48    -6.226167e+01     1.463455e-05\n",
      " * time: 33.121410846710205\n",
      "    49    -6.226167e+01     9.824677e-06\n",
      " * time: 33.76241898536682\n",
      "    50    -6.226167e+01     9.125598e-06\n",
      " * time: 34.39332985877991\n",
      "    51    -6.226167e+01     5.665614e-06\n",
      " * time: 35.02174401283264\n",
      "    52    -6.226167e+01     4.659870e-06\n",
      " * time: 35.655043840408325\n",
      "    53    -6.226167e+01     4.246802e-06\n",
      " * time: 36.326416969299316\n"
     ]
    }
   ],
   "cell_type": "code",
   "source": [
    "scfres = direct_minimization(basis, tol=1e-5);"
   ],
   "metadata": {},
   "execution_count": 4
  },
  {
   "outputs": [
    {
     "output_type": "execute_result",
     "data": {
      "text/plain": "Energy breakdown:\n    Kinetic             25.7671075\n    AtomicLocal         -18.8557707\n    AtomicNonlocal      14.8522661\n    Ewald               -67.1831486\n    PspCorrection       -2.3569765\n    Hartree             4.8485383 \n    Xc                  -19.3336824\n\n    total               -62.261666453288\n"
     },
     "metadata": {},
     "execution_count": 5
    }
   ],
   "cell_type": "code",
   "source": [
    "scfres.energies"
   ],
   "metadata": {},
   "execution_count": 5
  }
 ],
 "nbformat_minor": 3,
 "metadata": {
  "language_info": {
   "file_extension": ".jl",
   "mimetype": "application/julia",
   "name": "julia",
   "version": "1.6.2"
  },
  "kernelspec": {
   "name": "julia-1.6",
   "display_name": "Julia 1.6.2",
   "language": "julia"
  }
 },
 "nbformat": 4
}
