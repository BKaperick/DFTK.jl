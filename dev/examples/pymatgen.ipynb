{
 "cells": [
  {
   "cell_type": "markdown",
   "source": [
    "# Creating supercells with pymatgen\n",
    "\n",
    "The [Pymatgen](https://pymatgen.org/) python library allows to setup\n",
    "solid-state calculations using a flexible set of classes as well as an API\n",
    "to an online data base of structures. Its `Structure` and `Lattice`\n",
    "objects are directly supported by the DFTK `load_atoms` and `load_lattice`\n",
    "functions, such that DFTK may be readily used to run calculation on systems\n",
    "defined in pymatgen. Using the `pymatgen_structure` function a conversion\n",
    "from DFTK to pymatgen structures is also possible. In the following we\n",
    "use this to create a silicon supercell and find its LDA ground state\n",
    "using direct minimisation."
   ],
   "metadata": {}
  },
  {
   "cell_type": "markdown",
   "source": [
    "First we setup the silicon lattice in DFTK."
   ],
   "metadata": {}
  },
  {
   "outputs": [],
   "cell_type": "code",
   "source": [
    "using DFTK\n",
    "\n",
    "a = 10.263141334305942  # Lattice constant in Bohr\n",
    "lattice = a / 2 .* [[0 1 1.]; [1 0 1.]; [1 1 0.]]\n",
    "Si = ElementPsp(:Si, psp=load_psp(\"hgh/lda/Si-q4\"))\n",
    "atoms = [Si => [ones(3)/8, -ones(3)/8]];"
   ],
   "metadata": {},
   "execution_count": 1
  },
  {
   "cell_type": "markdown",
   "source": [
    "Next we make a `[2, 2, 2]` supercell using pymatgen"
   ],
   "metadata": {}
  },
  {
   "outputs": [],
   "cell_type": "code",
   "source": [
    "pystruct = pymatgen_structure(lattice, atoms)\n",
    "pystruct.make_supercell([2, 2, 2])\n",
    "lattice = load_lattice(pystruct)\n",
    "atoms = [Si => [s.frac_coords for s in pystruct.sites]];"
   ],
   "metadata": {},
   "execution_count": 2
  },
  {
   "cell_type": "markdown",
   "source": [
    "Setup an LDA model and discretize using\n",
    "a single kpoint and a small `Ecut` of 5 Hartree."
   ],
   "metadata": {}
  },
  {
   "outputs": [
    {
     "output_type": "execute_result",
     "data": {
      "text/plain": "PlaneWaveBasis (Ecut=5.0, 1 kpoints)"
     },
     "metadata": {},
     "execution_count": 3
    }
   ],
   "cell_type": "code",
   "source": [
    "model = model_LDA(lattice, atoms)\n",
    "basis = PlaneWaveBasis(model, 5, kgrid=(1, 1, 1))"
   ],
   "metadata": {},
   "execution_count": 3
  },
  {
   "cell_type": "markdown",
   "source": [
    "Find the ground state using direct minimisation (always using SCF is boring ...)"
   ],
   "metadata": {}
  },
  {
   "outputs": [
    {
     "name": "stdout",
     "output_type": "stream",
     "text": [
      "Iter     Function value   Gradient norm \n",
      "     0     1.126664e+02     1.505371e+00\n",
      " * time: 0.5942888259887695\n",
      "     1     1.043365e+01     8.106226e-01\n",
      " * time: 2.127720832824707\n",
      "     2    -1.064031e+01     9.781295e-01\n",
      " * time: 2.692888021469116\n",
      "     3    -3.349271e+01     7.360967e-01\n",
      " * time: 3.580176830291748\n",
      "     4    -4.641988e+01     5.530150e-01\n",
      " * time: 4.427206039428711\n",
      "     5    -5.647682e+01     2.235053e-01\n",
      " * time: 5.2867348194122314\n",
      "     6    -5.950394e+01     2.221215e-01\n",
      " * time: 5.875488996505737\n",
      "     7    -6.077040e+01     8.791398e-02\n",
      " * time: 6.458319902420044\n",
      "     8    -6.130689e+01     3.973034e-02\n",
      " * time: 7.0267088413238525\n",
      "     9    -6.160766e+01     3.749805e-02\n",
      " * time: 7.5979509353637695\n",
      "    10    -6.179503e+01     3.432408e-02\n",
      " * time: 8.216177940368652\n",
      "    11    -6.195756e+01     2.662152e-02\n",
      " * time: 8.84922194480896\n",
      "    12    -6.205672e+01     1.794362e-02\n",
      " * time: 9.458325862884521\n",
      "    13    -6.211613e+01     1.472620e-02\n",
      " * time: 10.05177092552185\n",
      "    14    -6.215558e+01     1.190441e-02\n",
      " * time: 10.654695987701416\n",
      "    15    -6.218299e+01     1.182816e-02\n",
      " * time: 11.228832006454468\n",
      "    16    -6.219961e+01     9.923872e-03\n",
      " * time: 11.81329894065857\n",
      "    17    -6.221203e+01     7.496401e-03\n",
      " * time: 12.388773918151855\n",
      "    18    -6.222144e+01     6.567258e-03\n",
      " * time: 12.964777946472168\n",
      "    19    -6.222858e+01     5.477021e-03\n",
      " * time: 13.56990385055542\n",
      "    20    -6.223395e+01     5.601368e-03\n",
      " * time: 14.151152849197388\n",
      "    21    -6.223906e+01     5.744630e-03\n",
      " * time: 14.757738828659058\n",
      "    22    -6.224468e+01     5.674760e-03\n",
      " * time: 15.34355902671814\n",
      "    23    -6.225001e+01     5.560486e-03\n",
      " * time: 15.940608024597168\n",
      "    24    -6.225441e+01     4.415055e-03\n",
      " * time: 16.540812015533447\n",
      "    25    -6.225738e+01     3.242324e-03\n",
      " * time: 17.153563976287842\n",
      "    26    -6.225915e+01     2.257884e-03\n",
      " * time: 17.818349838256836\n",
      "    27    -6.226014e+01     1.484524e-03\n",
      " * time: 18.52773380279541\n",
      "    28    -6.226070e+01     1.244843e-03\n",
      " * time: 19.20109486579895\n",
      "    29    -6.226103e+01     1.148664e-03\n",
      " * time: 19.855836868286133\n",
      "    30    -6.226127e+01     9.449515e-04\n",
      " * time: 20.504776000976562\n",
      "    31    -6.226141e+01     7.802050e-04\n",
      " * time: 21.167147874832153\n",
      "    32    -6.226151e+01     7.224189e-04\n",
      " * time: 21.820600032806396\n",
      "    33    -6.226157e+01     5.165503e-04\n",
      " * time: 22.48170495033264\n",
      "    34    -6.226161e+01     3.078800e-04\n",
      " * time: 23.12174701690674\n",
      "    35    -6.226164e+01     2.244408e-04\n",
      " * time: 23.785475969314575\n",
      "    36    -6.226165e+01     2.046312e-04\n",
      " * time: 24.46281886100769\n",
      "    37    -6.226166e+01     1.262153e-04\n",
      " * time: 25.106488943099976\n",
      "    38    -6.226166e+01     1.143759e-04\n",
      " * time: 25.819228887557983\n",
      "    39    -6.226166e+01     8.418190e-05\n",
      " * time: 26.495484828948975\n",
      "    40    -6.226166e+01     9.408898e-05\n",
      " * time: 27.150513887405396\n",
      "    41    -6.226167e+01     5.956025e-05\n",
      " * time: 27.824788808822632\n",
      "    42    -6.226167e+01     4.582300e-05\n",
      " * time: 28.501457929611206\n",
      "    43    -6.226167e+01     2.747646e-05\n",
      " * time: 29.199776887893677\n",
      "    44    -6.226167e+01     2.375742e-05\n",
      " * time: 29.85880184173584\n",
      "    45    -6.226167e+01     1.920961e-05\n",
      " * time: 30.51198101043701\n",
      "    46    -6.226167e+01     1.589584e-05\n",
      " * time: 31.16097593307495\n",
      "    47    -6.226167e+01     1.214185e-05\n",
      " * time: 31.83510994911194\n",
      "    48    -6.226167e+01     8.129490e-06\n",
      " * time: 32.5356228351593\n",
      "    49    -6.226167e+01     6.049043e-06\n",
      " * time: 33.15703201293945\n",
      "    50    -6.226167e+01     3.879277e-06\n",
      " * time: 33.73435592651367\n",
      "    51    -6.226167e+01     2.916962e-06\n",
      " * time: 34.334237813949585\n",
      "    52    -6.226167e+01     2.110005e-06\n",
      " * time: 34.993980884552\n"
     ]
    }
   ],
   "cell_type": "code",
   "source": [
    "scfres = direct_minimization(basis, tol=1e-5);"
   ],
   "metadata": {},
   "execution_count": 4
  },
  {
   "outputs": [
    {
     "output_type": "execute_result",
     "data": {
      "text/plain": "Energy breakdown:\n    Kinetic             25.7671072\n    AtomicLocal         -18.8557702\n    AtomicNonlocal      14.8522663\n    Ewald               -67.1831486\n    PspCorrection       -2.3569765\n    Hartree             4.8485376 \n    Xc                  -19.3336822\n\n    total               -62.261666461746\n"
     },
     "metadata": {},
     "execution_count": 5
    }
   ],
   "cell_type": "code",
   "source": [
    "scfres.energies"
   ],
   "metadata": {},
   "execution_count": 5
  }
 ],
 "nbformat_minor": 3,
 "metadata": {
  "language_info": {
   "file_extension": ".jl",
   "mimetype": "application/julia",
   "name": "julia",
   "version": "1.6.1"
  },
  "kernelspec": {
   "name": "julia-1.6",
   "display_name": "Julia 1.6.1",
   "language": "julia"
  }
 },
 "nbformat": 4
}
