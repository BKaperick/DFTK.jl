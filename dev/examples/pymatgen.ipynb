{
 "cells": [
  {
   "cell_type": "markdown",
   "source": [
    "# Creating supercells with pymatgen\n",
    "\n",
    "The [Pymatgen](https://pymatgen.org/) python library allows to setup\n",
    "solid-state calculations using a flexible set of classes as well as an API\n",
    "to an online data base of structures. Its `Structure` and `Lattice`\n",
    "objects are directly supported by the DFTK `load_atoms` and `load_lattice`\n",
    "functions, such that DFTK may be readily used to run calculation on systems\n",
    "defined in pymatgen. Using the `pymatgen_structure` function a conversion\n",
    "from DFTK to pymatgen structures is also possible. In the following we\n",
    "use this to create a silicon supercell and find its LDA ground state\n",
    "using direct minimisation."
   ],
   "metadata": {}
  },
  {
   "cell_type": "markdown",
   "source": [
    "First we setup the silicon lattice in DFTK."
   ],
   "metadata": {}
  },
  {
   "outputs": [],
   "cell_type": "code",
   "source": [
    "using DFTK\n",
    "\n",
    "a = 10.263141334305942  # Lattice constant in Bohr\n",
    "lattice = a / 2 .* [[0 1 1.]; [1 0 1.]; [1 1 0.]]\n",
    "Si = ElementPsp(:Si, psp=load_psp(\"hgh/lda/Si-q4\"))\n",
    "atoms = [Si => [ones(3)/8, -ones(3)/8]];"
   ],
   "metadata": {},
   "execution_count": 1
  },
  {
   "cell_type": "markdown",
   "source": [
    "Next we make a `[2, 2, 2]` supercell using pymatgen"
   ],
   "metadata": {}
  },
  {
   "outputs": [],
   "cell_type": "code",
   "source": [
    "pystruct = pymatgen_structure(lattice, atoms)\n",
    "pystruct.make_supercell([2, 2, 2])\n",
    "lattice = load_lattice(pystruct)\n",
    "atoms = [Si => [s.frac_coords for s in pystruct.sites]];"
   ],
   "metadata": {},
   "execution_count": 2
  },
  {
   "cell_type": "markdown",
   "source": [
    "Setup an LDA model and discretize using\n",
    "a single kpoint and a small `Ecut` of 5 Hartree.\n",
    "Notice that `PlaneWaveBasis` defaults to just using the ``Γ``-point\n",
    "if no ``k``-point options are provided."
   ],
   "metadata": {}
  },
  {
   "outputs": [
    {
     "output_type": "execute_result",
     "data": {
      "text/plain": "PlaneWaveBasis (Ecut=5.0, 1 kpoints)"
     },
     "metadata": {},
     "execution_count": 3
    }
   ],
   "cell_type": "code",
   "source": [
    "model = model_LDA(lattice, atoms)\n",
    "basis = PlaneWaveBasis(model, 5)"
   ],
   "metadata": {},
   "execution_count": 3
  },
  {
   "cell_type": "markdown",
   "source": [
    "Find the ground state using direct minimisation (always using SCF is boring ...)"
   ],
   "metadata": {}
  },
  {
   "outputs": [
    {
     "name": "stdout",
     "output_type": "stream",
     "text": [
      "Iter     Function value   Gradient norm \n",
      "     0     1.113558e+02     1.736299e+00\n",
      " * time: 0.12709999084472656\n",
      "     1     1.093049e+01     9.390822e-01\n",
      " * time: 0.924921989440918\n",
      "     2    -1.137047e+01     1.089996e+00\n",
      " * time: 1.0521411895751953\n",
      "     3    -3.368680e+01     8.827084e-01\n",
      " * time: 1.2136061191558838\n",
      "     4    -4.701434e+01     7.297427e-01\n",
      " * time: 1.3607730865478516\n",
      "     5    -5.648289e+01     2.951362e-01\n",
      " * time: 1.5039150714874268\n",
      "     6    -5.923424e+01     2.958215e-01\n",
      " * time: 1.6086421012878418\n",
      "     7    -6.047148e+01     1.239297e-01\n",
      " * time: 1.7209131717681885\n",
      "     8    -6.106686e+01     5.136064e-02\n",
      " * time: 1.825890064239502\n",
      "     9    -6.139974e+01     4.800026e-02\n",
      " * time: 1.9380011558532715\n",
      "    10    -6.169749e+01     3.795920e-02\n",
      " * time: 2.0426480770111084\n",
      "    11    -6.188527e+01     2.881671e-02\n",
      " * time: 2.1544041633605957\n",
      "    12    -6.201471e+01     1.947802e-02\n",
      " * time: 2.2590761184692383\n",
      "    13    -6.206966e+01     1.604567e-02\n",
      " * time: 2.37086820602417\n",
      "    14    -6.212293e+01     1.380247e-02\n",
      " * time: 2.4760282039642334\n",
      "    15    -6.214583e+01     1.557366e-02\n",
      " * time: 2.588001012802124\n",
      "    16    -6.216426e+01     1.065091e-02\n",
      " * time: 2.6927740573883057\n",
      "    17    -6.217623e+01     8.871577e-03\n",
      " * time: 2.8043479919433594\n",
      "    18    -6.218636e+01     7.733843e-03\n",
      " * time: 2.908907175064087\n",
      "    19    -6.219377e+01     7.365467e-03\n",
      " * time: 3.0205562114715576\n",
      "    20    -6.219998e+01     6.009757e-03\n",
      " * time: 3.125385046005249\n",
      "    21    -6.220538e+01     6.718745e-03\n",
      " * time: 3.2365901470184326\n",
      "    22    -6.221005e+01     7.811481e-03\n",
      " * time: 3.340823173522949\n",
      "    23    -6.221441e+01     8.415614e-03\n",
      " * time: 3.4527101516723633\n",
      "    24    -6.221899e+01     8.204958e-03\n",
      " * time: 3.558289051055908\n",
      "    25    -6.222414e+01     7.617300e-03\n",
      " * time: 3.670241117477417\n",
      "    26    -6.222987e+01     6.494413e-03\n",
      " * time: 3.775067090988159\n",
      "    27    -6.223603e+01     6.485580e-03\n",
      " * time: 3.8873941898345947\n",
      "    28    -6.224232e+01     5.993618e-03\n",
      " * time: 3.9914541244506836\n",
      "    29    -6.224832e+01     5.302344e-03\n",
      " * time: 4.102432012557983\n",
      "    30    -6.225285e+01     4.605475e-03\n",
      " * time: 4.207388162612915\n",
      "    31    -6.225627e+01     4.432004e-03\n",
      " * time: 4.318953037261963\n",
      "    32    -6.225857e+01     3.055166e-03\n",
      " * time: 4.424223184585571\n",
      "    33    -6.225985e+01     2.406957e-03\n",
      " * time: 4.537931203842163\n",
      "    34    -6.226066e+01     1.931405e-03\n",
      " * time: 4.642157077789307\n",
      "    35    -6.226112e+01     1.458816e-03\n",
      " * time: 4.753486156463623\n",
      "    36    -6.226135e+01     9.582243e-04\n",
      " * time: 4.8577799797058105\n",
      "    37    -6.226147e+01     6.159091e-04\n",
      " * time: 4.969866037368774\n",
      "    38    -6.226154e+01     5.112138e-04\n",
      " * time: 5.07457709312439\n",
      "    39    -6.226158e+01     4.444106e-04\n",
      " * time: 5.1849141120910645\n",
      "    40    -6.226161e+01     3.832948e-04\n",
      " * time: 5.288828134536743\n",
      "    41    -6.226163e+01     3.422164e-04\n",
      " * time: 5.400098085403442\n",
      "    42    -6.226164e+01     2.423191e-04\n",
      " * time: 5.505987167358398\n",
      "    43    -6.226165e+01     1.613179e-04\n",
      " * time: 5.617581129074097\n",
      "    44    -6.226166e+01     1.185889e-04\n",
      " * time: 5.722181081771851\n",
      "    45    -6.226166e+01     8.250579e-05\n",
      " * time: 5.833792209625244\n",
      "    46    -6.226166e+01     6.454701e-05\n",
      " * time: 5.938371181488037\n",
      "    47    -6.226167e+01     4.785803e-05\n",
      " * time: 6.049263000488281\n",
      "    48    -6.226167e+01     3.277773e-05\n",
      " * time: 6.15368914604187\n",
      "    49    -6.226167e+01     2.465652e-05\n",
      " * time: 6.265201091766357\n",
      "    50    -6.226167e+01     2.298666e-05\n",
      " * time: 6.369599103927612\n",
      "    51    -6.226167e+01     2.040083e-05\n",
      " * time: 6.480931997299194\n",
      "    52    -6.226167e+01     1.489886e-05\n",
      " * time: 6.584933042526245\n",
      "    53    -6.226167e+01     1.257807e-05\n",
      " * time: 6.695839166641235\n",
      "    54    -6.226167e+01     1.246620e-05\n",
      " * time: 6.79994010925293\n",
      "    55    -6.226167e+01     9.901817e-06\n",
      " * time: 6.9110682010650635\n",
      "    56    -6.226167e+01     8.179021e-06\n",
      " * time: 7.014311075210571\n",
      "    57    -6.226167e+01     4.652192e-06\n",
      " * time: 7.126700162887573\n",
      "    58    -6.226167e+01     2.806748e-06\n",
      " * time: 7.231069087982178\n",
      "    59    -6.226167e+01     1.664549e-06\n",
      " * time: 7.341994047164917\n"
     ]
    }
   ],
   "cell_type": "code",
   "source": [
    "scfres = direct_minimization(basis, tol=1e-5);"
   ],
   "metadata": {},
   "execution_count": 4
  },
  {
   "outputs": [
    {
     "output_type": "execute_result",
     "data": {
      "text/plain": "Energy breakdown:\n    Kinetic             25.7671068\n    AtomicLocal         -18.8557678\n    AtomicNonlocal      14.8522646\n    Ewald               -67.1831486\n    PspCorrection       -2.3569765\n    Hartree             4.8485372 \n    Xc                  -19.3336821\n\n    total               -62.261666462299\n"
     },
     "metadata": {},
     "execution_count": 5
    }
   ],
   "cell_type": "code",
   "source": [
    "scfres.energies"
   ],
   "metadata": {},
   "execution_count": 5
  }
 ],
 "nbformat_minor": 3,
 "metadata": {
  "language_info": {
   "file_extension": ".jl",
   "mimetype": "application/julia",
   "name": "julia",
   "version": "1.3.1"
  },
  "kernelspec": {
   "name": "julia-1.3",
   "display_name": "Julia 1.3.1",
   "language": "julia"
  }
 },
 "nbformat": 4
}
