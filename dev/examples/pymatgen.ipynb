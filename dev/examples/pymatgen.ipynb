{
 "cells": [
  {
   "cell_type": "markdown",
   "source": [
    "# Creating supercells with pymatgen\n",
    "\n",
    "The [Pymatgen](https://pymatgen.org/) python library allows to setup\n",
    "solid-state calculations using a flexible set of classes as well as an API\n",
    "to an online data base of structures. Its `Structure` and `Lattice`\n",
    "objects are directly supported by the DFTK `load_atoms` and `load_lattice`\n",
    "functions, such that DFTK may be readily used to run calculation on systems\n",
    "defined in pymatgen. Using the `pymatgen_structure` function a conversion\n",
    "from DFTK to pymatgen structures is also possible. In the following we\n",
    "use this to create a silicon supercell and find its LDA ground state\n",
    "using direct minimisation."
   ],
   "metadata": {}
  },
  {
   "cell_type": "markdown",
   "source": [
    "First we setup the silicon lattice in DFTK."
   ],
   "metadata": {}
  },
  {
   "outputs": [],
   "cell_type": "code",
   "source": [
    "using DFTK\n",
    "\n",
    "a = 10.263141334305942  # Lattice constant in Bohr\n",
    "lattice = a / 2 .* [[0 1 1.]; [1 0 1.]; [1 1 0.]]\n",
    "Si = ElementPsp(:Si, psp=load_psp(\"hgh/lda/Si-q4\"))\n",
    "atoms = [Si => [ones(3)/8, -ones(3)/8]];"
   ],
   "metadata": {},
   "execution_count": 1
  },
  {
   "cell_type": "markdown",
   "source": [
    "Next we make a `[2, 2, 2]` supercell using pymatgen"
   ],
   "metadata": {}
  },
  {
   "outputs": [],
   "cell_type": "code",
   "source": [
    "pystruct = pymatgen_structure(lattice, atoms)\n",
    "pystruct.make_supercell([2, 2, 2])\n",
    "lattice = load_lattice(pystruct)\n",
    "atoms = [Si => [s.frac_coords for s in pystruct.sites]];"
   ],
   "metadata": {},
   "execution_count": 2
  },
  {
   "cell_type": "markdown",
   "source": [
    "Setup an LDA model and discretize using\n",
    "a single kpoint and a small `Ecut` of 5 Hartree."
   ],
   "metadata": {}
  },
  {
   "outputs": [
    {
     "output_type": "execute_result",
     "data": {
      "text/plain": "PlaneWaveBasis (Ecut=5.0, 1 kpoints)"
     },
     "metadata": {},
     "execution_count": 3
    }
   ],
   "cell_type": "code",
   "source": [
    "model = model_LDA(lattice, atoms)\n",
    "basis = PlaneWaveBasis(model, 5, kgrid=(1, 1, 1))"
   ],
   "metadata": {},
   "execution_count": 3
  },
  {
   "cell_type": "markdown",
   "source": [
    "Find the ground state using direct minimisation (always using SCF is boring ...)"
   ],
   "metadata": {}
  },
  {
   "outputs": [
    {
     "name": "stdout",
     "output_type": "stream",
     "text": [
      "Iter     Function value   Gradient norm \n",
      "     0     1.115812e+02     1.567620e+00\n",
      " * time: 0.8317649364471436\n",
      "     1     1.131471e+01     1.002168e+00\n",
      " * time: 2.2271101474761963\n",
      "     2    -1.221523e+01     1.041643e+00\n",
      " * time: 2.983083963394165\n",
      "     3    -3.418227e+01     8.421596e-01\n",
      " * time: 4.042772054672241\n",
      "     4    -4.785940e+01     7.182707e-01\n",
      " * time: 5.055032968521118\n",
      "     5    -5.689129e+01     2.557973e-01\n",
      " * time: 6.085591077804565\n",
      "     6    -5.961765e+01     2.253163e-01\n",
      " * time: 6.7738869190216064\n",
      "     7    -6.079319e+01     8.191246e-02\n",
      " * time: 7.451801061630249\n",
      "     8    -6.133884e+01     4.587786e-02\n",
      " * time: 8.144854068756104\n",
      "     9    -6.166177e+01     3.424708e-02\n",
      " * time: 8.831918001174927\n",
      "    10    -6.183103e+01     3.470563e-02\n",
      " * time: 9.533293008804321\n",
      "    11    -6.198891e+01     2.730538e-02\n",
      " * time: 10.207878112792969\n",
      "    12    -6.207985e+01     1.952545e-02\n",
      " * time: 10.889554023742676\n",
      "    13    -6.213182e+01     1.494721e-02\n",
      " * time: 11.585948944091797\n",
      "    14    -6.216773e+01     1.236341e-02\n",
      " * time: 12.287346124649048\n",
      "    15    -6.218620e+01     1.014511e-02\n",
      " * time: 13.000340938568115\n",
      "    16    -6.219837e+01     7.843624e-03\n",
      " * time: 13.70947813987732\n",
      "    17    -6.220657e+01     6.689424e-03\n",
      " * time: 14.400547981262207\n",
      "    18    -6.221312e+01     6.767163e-03\n",
      " * time: 15.109405040740967\n",
      "    19    -6.221884e+01     6.858730e-03\n",
      " * time: 15.80461597442627\n",
      "    20    -6.222463e+01     6.088598e-03\n",
      " * time: 16.52191996574402\n",
      "    21    -6.223061e+01     6.160949e-03\n",
      " * time: 17.25806713104248\n",
      "    22    -6.223675e+01     5.604512e-03\n",
      " * time: 17.94412398338318\n",
      "    23    -6.224268e+01     5.256674e-03\n",
      " * time: 18.624916076660156\n",
      "    24    -6.224794e+01     4.449229e-03\n",
      " * time: 19.338624000549316\n",
      "    25    -6.225227e+01     3.841868e-03\n",
      " * time: 20.044995069503784\n",
      "    26    -6.225522e+01     3.681888e-03\n",
      " * time: 20.739917039871216\n",
      "    27    -6.225741e+01     2.744319e-03\n",
      " * time: 21.456979990005493\n",
      "    28    -6.225884e+01     1.893725e-03\n",
      " * time: 22.15891408920288\n",
      "    29    -6.225987e+01     1.646832e-03\n",
      " * time: 22.85745096206665\n",
      "    30    -6.226058e+01     1.774847e-03\n",
      " * time: 23.579445123672485\n",
      "    31    -6.226106e+01     1.010567e-03\n",
      " * time: 24.31405806541443\n",
      "    32    -6.226134e+01     7.723511e-04\n",
      " * time: 25.065545082092285\n",
      "    33    -6.226150e+01     5.522848e-04\n",
      " * time: 25.78650212287903\n",
      "    34    -6.226158e+01     3.974638e-04\n",
      " * time: 26.50575304031372\n",
      "    35    -6.226162e+01     3.201867e-04\n",
      " * time: 27.215424060821533\n",
      "    36    -6.226164e+01     2.367369e-04\n",
      " * time: 27.936846017837524\n",
      "    37    -6.226165e+01     2.044812e-04\n",
      " * time: 28.65213108062744\n",
      "    38    -6.226166e+01     1.530605e-04\n",
      " * time: 29.34688901901245\n",
      "    39    -6.226166e+01     1.311200e-04\n",
      " * time: 30.066443920135498\n",
      "    40    -6.226166e+01     1.115415e-04\n",
      " * time: 30.775155067443848\n",
      "    41    -6.226166e+01     7.880155e-05\n",
      " * time: 31.471413135528564\n",
      "    42    -6.226166e+01     6.153264e-05\n",
      " * time: 32.17592000961304\n",
      "    43    -6.226167e+01     4.251631e-05\n",
      " * time: 32.87709593772888\n",
      "    44    -6.226167e+01     3.927506e-05\n",
      " * time: 33.58841300010681\n",
      "    45    -6.226167e+01     2.234766e-05\n",
      " * time: 34.28969597816467\n",
      "    46    -6.226167e+01     1.642268e-05\n",
      " * time: 35.000410079956055\n",
      "    47    -6.226167e+01     1.234959e-05\n",
      " * time: 35.696357011795044\n",
      "    48    -6.226167e+01     8.483644e-06\n",
      " * time: 36.41070914268494\n",
      "    49    -6.226167e+01     6.357302e-06\n",
      " * time: 37.10149312019348\n",
      "    50    -6.226167e+01     6.608066e-06\n",
      " * time: 37.79887008666992\n",
      "    51    -6.226167e+01     3.957555e-06\n",
      " * time: 38.50559091567993\n"
     ]
    }
   ],
   "cell_type": "code",
   "source": [
    "scfres = direct_minimization(basis, tol=1e-5);"
   ],
   "metadata": {},
   "execution_count": 4
  },
  {
   "outputs": [
    {
     "output_type": "execute_result",
     "data": {
      "text/plain": "Energy breakdown:\n    Kinetic             25.7671064\n    AtomicLocal         -18.8557660\n    AtomicNonlocal      14.8522634\n    Ewald               -67.1831486\n    PspCorrection       -2.3569765\n    Hartree             4.8485369 \n    Xc                  -19.3336820\n\n    total               -62.261666453138\n"
     },
     "metadata": {},
     "execution_count": 5
    }
   ],
   "cell_type": "code",
   "source": [
    "scfres.energies"
   ],
   "metadata": {},
   "execution_count": 5
  }
 ],
 "nbformat_minor": 3,
 "metadata": {
  "language_info": {
   "file_extension": ".jl",
   "mimetype": "application/julia",
   "name": "julia",
   "version": "1.6.2"
  },
  "kernelspec": {
   "name": "julia-1.6",
   "display_name": "Julia 1.6.2",
   "language": "julia"
  }
 },
 "nbformat": 4
}
