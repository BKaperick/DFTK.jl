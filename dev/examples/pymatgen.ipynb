{
 "cells": [
  {
   "cell_type": "markdown",
   "source": [
    "# Creating supercells with pymatgen\n",
    "\n",
    "The [Pymatgen](https://pymatgen.org/) python library allows to setup\n",
    "solid-state calculations using a flexible set of classes as well as an API\n",
    "to an online data base of structures. Its `Structure` and `Lattice`\n",
    "objects are directly supported by the DFTK `load_atoms` and `load_lattice`\n",
    "functions, such that DFTK may be readily used to run calculation on systems\n",
    "defined in pymatgen. Using the `pymatgen_structure` function a conversion\n",
    "from DFTK to pymatgen structures is also possible. In the following we\n",
    "use this to create a silicon supercell and find its LDA ground state\n",
    "using direct minimisation."
   ],
   "metadata": {}
  },
  {
   "cell_type": "markdown",
   "source": [
    "First we setup the silicon lattice in DFTK."
   ],
   "metadata": {}
  },
  {
   "outputs": [],
   "cell_type": "code",
   "source": [
    "using DFTK\n",
    "\n",
    "a = 10.263141334305942  # Lattice constant in Bohr\n",
    "lattice = a / 2 .* [[0 1 1.]; [1 0 1.]; [1 1 0.]]\n",
    "Si = ElementPsp(:Si, psp=load_psp(\"hgh/lda/Si-q4\"))\n",
    "atoms = [Si => [ones(3)/8, -ones(3)/8]];"
   ],
   "metadata": {},
   "execution_count": 1
  },
  {
   "cell_type": "markdown",
   "source": [
    "Next we make a `[2, 2, 2]` supercell using pymatgen"
   ],
   "metadata": {}
  },
  {
   "outputs": [],
   "cell_type": "code",
   "source": [
    "pystruct = pymatgen_structure(lattice, atoms)\n",
    "pystruct.make_supercell([2, 2, 2])\n",
    "lattice = load_lattice(pystruct)\n",
    "atoms = [Si => [s.frac_coords for s in pystruct.sites]];"
   ],
   "metadata": {},
   "execution_count": 2
  },
  {
   "cell_type": "markdown",
   "source": [
    "Setup an LDA model and discretize using\n",
    "a single kpoint and a small `Ecut` of 5 Hartree."
   ],
   "metadata": {}
  },
  {
   "outputs": [
    {
     "output_type": "execute_result",
     "data": {
      "text/plain": "PlaneWaveBasis (Ecut=5.0, 1 kpoints)"
     },
     "metadata": {},
     "execution_count": 3
    }
   ],
   "cell_type": "code",
   "source": [
    "model = model_LDA(lattice, atoms)\n",
    "basis = PlaneWaveBasis(model, 5, kgrid=(1, 1, 1))"
   ],
   "metadata": {},
   "execution_count": 3
  },
  {
   "cell_type": "markdown",
   "source": [
    "Find the ground state using direct minimisation (always using SCF is boring ...)"
   ],
   "metadata": {}
  },
  {
   "outputs": [
    {
     "name": "stdout",
     "output_type": "stream",
     "text": [
      "Iter     Function value   Gradient norm \n",
      "     0     1.118945e+02     1.527839e+00\n",
      " * time: 0.08986711502075195\n",
      "     1     1.019015e+01     9.885724e-01\n",
      " * time: 0.9487309455871582\n",
      "     2    -1.125075e+01     1.077677e+00\n",
      " * time: 1.1982529163360596\n",
      "     3    -3.410021e+01     8.017985e-01\n",
      " * time: 1.7034060955047607\n",
      "     4    -4.733008e+01     6.307744e-01\n",
      " * time: 1.8351099491119385\n",
      "     5    -5.683960e+01     1.852509e-01\n",
      " * time: 2.201050043106079\n",
      "     6    -5.976698e+01     1.419984e-01\n",
      " * time: 2.313844919204712\n",
      "     7    -6.091365e+01     5.171557e-02\n",
      " * time: 2.424452066421509\n",
      "     8    -6.137835e+01     6.433255e-02\n",
      " * time: 2.5334579944610596\n",
      "     9    -6.165878e+01     5.061342e-02\n",
      " * time: 2.6368050575256348\n",
      "    10    -6.188756e+01     3.175499e-02\n",
      " * time: 2.748013973236084\n",
      "    11    -6.203987e+01     2.055711e-02\n",
      " * time: 2.8561859130859375\n",
      "    12    -6.210241e+01     1.539432e-02\n",
      " * time: 2.967139959335327\n",
      "    13    -6.215219e+01     1.149073e-02\n",
      " * time: 3.0711281299591064\n",
      "    14    -6.217571e+01     1.036222e-02\n",
      " * time: 3.1811420917510986\n",
      "    15    -6.219287e+01     8.340069e-03\n",
      " * time: 3.292114019393921\n",
      "    16    -6.220271e+01     6.076331e-03\n",
      " * time: 3.402559995651245\n",
      "    17    -6.221000e+01     5.252417e-03\n",
      " * time: 3.512532949447632\n",
      "    18    -6.221601e+01     6.254831e-03\n",
      " * time: 3.6164510250091553\n",
      "    19    -6.222118e+01     5.972202e-03\n",
      " * time: 3.7280161380767822\n",
      "    20    -6.222609e+01     5.032188e-03\n",
      " * time: 3.8374979496002197\n",
      "    21    -6.223119e+01     5.183722e-03\n",
      " * time: 3.9462029933929443\n",
      "    22    -6.223675e+01     4.900708e-03\n",
      " * time: 4.049639940261841\n",
      "    23    -6.224257e+01     5.525138e-03\n",
      " * time: 4.158512115478516\n",
      "    24    -6.224798e+01     4.843982e-03\n",
      " * time: 4.266587972640991\n",
      "    25    -6.225230e+01     3.721972e-03\n",
      " * time: 4.374910116195679\n",
      "    26    -6.225558e+01     3.022413e-03\n",
      " * time: 4.477989912033081\n",
      "    27    -6.225762e+01     2.771475e-03\n",
      " * time: 4.587187051773071\n",
      "    28    -6.225900e+01     2.494693e-03\n",
      " * time: 4.697504043579102\n",
      "    29    -6.225995e+01     1.714678e-03\n",
      " * time: 4.8073930740356445\n",
      "    30    -6.226064e+01     1.402812e-03\n",
      " * time: 4.9165260791778564\n",
      "    31    -6.226108e+01     1.063025e-03\n",
      " * time: 5.01985502243042\n",
      "    32    -6.226133e+01     8.807078e-04\n",
      " * time: 5.128999948501587\n",
      "    33    -6.226149e+01     6.517919e-04\n",
      " * time: 5.23897910118103\n",
      "    34    -6.226157e+01     5.275828e-04\n",
      " * time: 5.348362922668457\n",
      "    35    -6.226162e+01     3.847417e-04\n",
      " * time: 5.4531779289245605\n",
      "    36    -6.226164e+01     2.236586e-04\n",
      " * time: 5.5628650188446045\n",
      "    37    -6.226165e+01     1.762726e-04\n",
      " * time: 5.673558950424194\n",
      "    38    -6.226166e+01     1.603333e-04\n",
      " * time: 5.781480073928833\n",
      "    39    -6.226166e+01     1.170992e-04\n",
      " * time: 5.883688926696777\n",
      "    40    -6.226166e+01     1.054721e-04\n",
      " * time: 5.991481065750122\n",
      "    41    -6.226166e+01     8.470554e-05\n",
      " * time: 6.099640130996704\n",
      "    42    -6.226166e+01     7.080770e-05\n",
      " * time: 6.208255052566528\n",
      "    43    -6.226167e+01     4.893631e-05\n",
      " * time: 6.3157689571380615\n",
      "    44    -6.226167e+01     3.552318e-05\n",
      " * time: 6.4176061153411865\n",
      "    45    -6.226167e+01     3.070328e-05\n",
      " * time: 6.534877061843872\n",
      "    46    -6.226167e+01     2.026363e-05\n",
      " * time: 6.648859977722168\n",
      "    47    -6.226167e+01     1.343077e-05\n",
      " * time: 6.758198976516724\n",
      "    48    -6.226167e+01     1.070782e-05\n",
      " * time: 6.86241602897644\n",
      "    49    -6.226167e+01     7.579479e-06\n",
      " * time: 6.970777988433838\n",
      "    50    -6.226167e+01     5.829602e-06\n",
      " * time: 7.07884407043457\n",
      "    51    -6.226167e+01     5.454994e-06\n",
      " * time: 7.193825960159302\n",
      "    52    -6.226167e+01     4.638378e-06\n",
      " * time: 7.296787977218628\n",
      "    53    -6.226167e+01     3.803136e-06\n",
      " * time: 7.405586004257202\n",
      "    54    -6.226167e+01     2.679027e-06\n",
      " * time: 7.513864040374756\n",
      "    55    -6.226167e+01     2.244142e-06\n",
      " * time: 7.622837066650391\n",
      "    56    -6.226167e+01     1.994650e-06\n",
      " * time: 7.732353925704956\n"
     ]
    }
   ],
   "cell_type": "code",
   "source": [
    "scfres = direct_minimization(basis, tol=1e-5);"
   ],
   "metadata": {},
   "execution_count": 4
  },
  {
   "outputs": [
    {
     "output_type": "execute_result",
     "data": {
      "text/plain": "Energy breakdown:\n    Kinetic             25.7671067\n    AtomicLocal         -18.8557659\n    AtomicNonlocal      14.8522630\n    Ewald               -67.1831486\n    PspCorrection       -2.3569765\n    Hartree             4.8485368 \n    Xc                  -19.3336819\n\n    total               -62.261666462453\n"
     },
     "metadata": {},
     "execution_count": 5
    }
   ],
   "cell_type": "code",
   "source": [
    "scfres.energies"
   ],
   "metadata": {},
   "execution_count": 5
  }
 ],
 "nbformat_minor": 3,
 "metadata": {
  "language_info": {
   "file_extension": ".jl",
   "mimetype": "application/julia",
   "name": "julia",
   "version": "1.3.1"
  },
  "kernelspec": {
   "name": "julia-1.3",
   "display_name": "Julia 1.3.1",
   "language": "julia"
  }
 },
 "nbformat": 4
}
