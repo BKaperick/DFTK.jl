{
 "cells": [
  {
   "cell_type": "markdown",
   "source": [
    "# Creating supercells with pymatgen\n",
    "\n",
    "The [Pymatgen](https://pymatgen.org/) python library allows to setup\n",
    "solid-state calculations using a flexible set of classes as well as an API\n",
    "to an online data base of structures. Its `Structure` and `Lattice`\n",
    "objects are directly supported by the DFTK `load_atoms` and `load_lattice`\n",
    "functions, such that DFTK may be readily used to run calculation on systems\n",
    "defined in pymatgen. Using the `pymatgen_structure` function a conversion\n",
    "from DFTK to pymatgen structures is also possible. In the following we\n",
    "use this to create a silicon supercell and find its LDA ground state\n",
    "using direct minimisation."
   ],
   "metadata": {}
  },
  {
   "cell_type": "markdown",
   "source": [
    "First we setup the silicon lattice in DFTK."
   ],
   "metadata": {}
  },
  {
   "outputs": [],
   "cell_type": "code",
   "source": [
    "using DFTK\n",
    "\n",
    "a = 10.263141334305942  # Lattice constant in Bohr\n",
    "lattice = a / 2 .* [[0 1 1.]; [1 0 1.]; [1 1 0.]]\n",
    "Si = ElementPsp(:Si, psp=load_psp(\"hgh/lda/Si-q4\"))\n",
    "atoms = [Si => [ones(3)/8, -ones(3)/8]];"
   ],
   "metadata": {},
   "execution_count": 1
  },
  {
   "cell_type": "markdown",
   "source": [
    "Next we make a `[2, 2, 2]` supercell using pymatgen"
   ],
   "metadata": {}
  },
  {
   "outputs": [],
   "cell_type": "code",
   "source": [
    "pystruct = pymatgen_structure(lattice, atoms)\n",
    "pystruct.make_supercell([2, 2, 2])\n",
    "lattice = load_lattice(pystruct)\n",
    "atoms = [Si => [s.frac_coords for s in pystruct.sites]];"
   ],
   "metadata": {},
   "execution_count": 2
  },
  {
   "cell_type": "markdown",
   "source": [
    "Setup an LDA model and discretize using\n",
    "a single kpoint and a small `Ecut` of 5 Hartree."
   ],
   "metadata": {}
  },
  {
   "outputs": [
    {
     "output_type": "execute_result",
     "data": {
      "text/plain": "PlaneWaveBasis (Ecut=5.0, 1 kpoints)"
     },
     "metadata": {},
     "execution_count": 3
    }
   ],
   "cell_type": "code",
   "source": [
    "model = model_LDA(lattice, atoms)\n",
    "basis = PlaneWaveBasis(model, 5, kgrid=(1, 1, 1))"
   ],
   "metadata": {},
   "execution_count": 3
  },
  {
   "cell_type": "markdown",
   "source": [
    "Find the ground state using direct minimisation (always using SCF is boring ...)"
   ],
   "metadata": {}
  },
  {
   "outputs": [
    {
     "name": "stdout",
     "output_type": "stream",
     "text": [
      "Iter     Function value   Gradient norm \n",
      "     0     1.121426e+02     1.478792e+00\n",
      " * time: 0.6858799457550049\n",
      "     1     1.057181e+01     8.328493e-01\n",
      " * time: 1.9896130561828613\n",
      "     2    -1.180864e+01     9.618209e-01\n",
      " * time: 2.6677448749542236\n",
      "     3    -3.396182e+01     7.698895e-01\n",
      " * time: 3.6044809818267822\n",
      "     4    -4.753466e+01     5.391099e-01\n",
      " * time: 4.565170049667358\n",
      "     5    -5.684615e+01     2.305172e-01\n",
      " * time: 5.536135911941528\n",
      "     6    -5.983675e+01     1.135475e-01\n",
      " * time: 6.178966045379639\n",
      "     7    -6.094484e+01     5.079858e-02\n",
      " * time: 6.82000994682312\n",
      "     8    -6.135153e+01     8.343486e-02\n",
      " * time: 7.474202871322632\n",
      "     9    -6.167919e+01     3.509831e-02\n",
      " * time: 8.116654872894287\n",
      "    10    -6.188547e+01     2.845213e-02\n",
      " * time: 8.754173040390015\n",
      "    11    -6.203881e+01     2.019254e-02\n",
      " * time: 9.396610975265503\n",
      "    12    -6.209457e+01     1.930068e-02\n",
      " * time: 10.05132508277893\n",
      "    13    -6.214594e+01     1.288291e-02\n",
      " * time: 10.686218976974487\n",
      "    14    -6.216860e+01     1.282507e-02\n",
      " * time: 11.327863931655884\n",
      "    15    -6.218752e+01     9.449796e-03\n",
      " * time: 11.979933023452759\n",
      "    16    -6.219849e+01     6.268224e-03\n",
      " * time: 12.62459397315979\n",
      "    17    -6.220518e+01     4.681152e-03\n",
      " * time: 13.26857304573059\n",
      "    18    -6.221075e+01     4.352350e-03\n",
      " * time: 13.913443088531494\n",
      "    19    -6.221486e+01     4.855626e-03\n",
      " * time: 14.560847043991089\n",
      "    20    -6.221863e+01     5.069219e-03\n",
      " * time: 15.218416929244995\n",
      "    21    -6.222257e+01     4.822148e-03\n",
      " * time: 15.862393856048584\n",
      "    22    -6.222716e+01     6.444900e-03\n",
      " * time: 16.533079862594604\n",
      "    23    -6.223249e+01     6.406062e-03\n",
      " * time: 17.179463863372803\n",
      "    24    -6.223808e+01     5.073064e-03\n",
      " * time: 17.83946204185486\n",
      "    25    -6.224367e+01     4.468559e-03\n",
      " * time: 18.477150917053223\n",
      "    26    -6.224884e+01     4.139030e-03\n",
      " * time: 19.153380870819092\n",
      "    27    -6.225294e+01     3.721417e-03\n",
      " * time: 19.79307508468628\n",
      "    28    -6.225600e+01     3.200004e-03\n",
      " * time: 20.423462867736816\n",
      "    29    -6.225821e+01     3.152188e-03\n",
      " * time: 21.058554887771606\n",
      "    30    -6.225969e+01     2.841865e-03\n",
      " * time: 21.70668601989746\n",
      "    31    -6.226049e+01     2.084367e-03\n",
      " * time: 22.350138902664185\n",
      "    32    -6.226102e+01     1.296135e-03\n",
      " * time: 22.992588996887207\n",
      "    33    -6.226132e+01     1.036023e-03\n",
      " * time: 23.63836693763733\n",
      "    34    -6.226149e+01     7.012209e-04\n",
      " * time: 24.278718948364258\n",
      "    35    -6.226158e+01     3.944719e-04\n",
      " * time: 24.920670986175537\n",
      "    36    -6.226162e+01     2.991893e-04\n",
      " * time: 25.560544967651367\n",
      "    37    -6.226164e+01     2.313287e-04\n",
      " * time: 26.20624089241028\n",
      "    38    -6.226165e+01     1.850483e-04\n",
      " * time: 26.85739493370056\n",
      "    39    -6.226165e+01     1.653574e-04\n",
      " * time: 27.498507976531982\n",
      "    40    -6.226166e+01     1.209656e-04\n",
      " * time: 28.16821789741516\n",
      "    41    -6.226166e+01     1.049272e-04\n",
      " * time: 28.813941955566406\n",
      "    42    -6.226166e+01     8.138022e-05\n",
      " * time: 29.471384048461914\n",
      "    43    -6.226166e+01     5.968815e-05\n",
      " * time: 30.111423015594482\n",
      "    44    -6.226167e+01     5.045516e-05\n",
      " * time: 30.7868070602417\n",
      "    45    -6.226167e+01     3.306305e-05\n",
      " * time: 31.42589807510376\n",
      "    46    -6.226167e+01     2.525351e-05\n",
      " * time: 32.065572023391724\n",
      "    47    -6.226167e+01     2.138158e-05\n",
      " * time: 32.70688605308533\n",
      "    48    -6.226167e+01     1.245599e-05\n",
      " * time: 33.35785102844238\n",
      "    49    -6.226167e+01     9.162297e-06\n",
      " * time: 33.99674606323242\n",
      "    50    -6.226167e+01     6.448661e-06\n",
      " * time: 34.64092397689819\n",
      "    51    -6.226167e+01     6.116437e-06\n",
      " * time: 35.29125690460205\n",
      "    52    -6.226167e+01     5.548162e-06\n",
      " * time: 35.93644189834595\n"
     ]
    }
   ],
   "cell_type": "code",
   "source": [
    "scfres = direct_minimization(basis, tol=1e-5);"
   ],
   "metadata": {},
   "execution_count": 4
  },
  {
   "outputs": [
    {
     "output_type": "execute_result",
     "data": {
      "text/plain": "Energy breakdown:\n    Kinetic             25.7671060\n    AtomicLocal         -18.8557689\n    AtomicNonlocal      14.8522667\n    Ewald               -67.1831486\n    PspCorrection       -2.3569765\n    Hartree             4.8485367 \n    Xc                  -19.3336818\n\n    total               -62.261666449616\n"
     },
     "metadata": {},
     "execution_count": 5
    }
   ],
   "cell_type": "code",
   "source": [
    "scfres.energies"
   ],
   "metadata": {},
   "execution_count": 5
  }
 ],
 "nbformat_minor": 3,
 "metadata": {
  "language_info": {
   "file_extension": ".jl",
   "mimetype": "application/julia",
   "name": "julia",
   "version": "1.6.2"
  },
  "kernelspec": {
   "name": "julia-1.6",
   "display_name": "Julia 1.6.2",
   "language": "julia"
  }
 },
 "nbformat": 4
}
