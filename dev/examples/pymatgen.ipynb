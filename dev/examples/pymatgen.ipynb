{
 "cells": [
  {
   "cell_type": "markdown",
   "source": [
    "# Creating supercells with pymatgen\n",
    "\n",
    "The [Pymatgen](https://pymatgen.org/) python library allows to setup\n",
    "solid-state calculations using a flexible set of classes as well as an API\n",
    "to an online data base of structures. Its `Structure` and `Lattice`\n",
    "objects are directly supported by the DFTK `load_atoms` and `load_lattice`\n",
    "functions, such that DFTK may be readily used to run calculation on systems\n",
    "defined in pymatgen. Using the `pymatgen_structure` function a conversion\n",
    "from DFTK to pymatgen structures is also possible. In the following we\n",
    "use this to create a silicon supercell and find its LDA ground state\n",
    "using direct minimisation."
   ],
   "metadata": {}
  },
  {
   "cell_type": "markdown",
   "source": [
    "First we setup the silicon lattice in DFTK."
   ],
   "metadata": {}
  },
  {
   "outputs": [],
   "cell_type": "code",
   "source": [
    "using DFTK\n",
    "\n",
    "a = 10.263141334305942  # Lattice constant in Bohr\n",
    "lattice = a / 2 .* [[0 1 1.]; [1 0 1.]; [1 1 0.]]\n",
    "Si = ElementPsp(:Si, psp=load_psp(\"hgh/lda/Si-q4\"))\n",
    "atoms = [Si => [ones(3)/8, -ones(3)/8]];"
   ],
   "metadata": {},
   "execution_count": 1
  },
  {
   "cell_type": "markdown",
   "source": [
    "Next we make a `[2, 2, 2]` supercell using pymatgen"
   ],
   "metadata": {}
  },
  {
   "outputs": [],
   "cell_type": "code",
   "source": [
    "pystruct = pymatgen_structure(lattice, atoms)\n",
    "pystruct.make_supercell([2, 2, 2])\n",
    "lattice = load_lattice(pystruct)\n",
    "atoms = [Si => [s.frac_coords for s in pystruct.sites]];"
   ],
   "metadata": {},
   "execution_count": 2
  },
  {
   "cell_type": "markdown",
   "source": [
    "Setup an LDA model and discretize using\n",
    "a single kpoint and a small `Ecut` of 5 Hartree."
   ],
   "metadata": {}
  },
  {
   "outputs": [
    {
     "output_type": "execute_result",
     "data": {
      "text/plain": "PlaneWaveBasis (Ecut=5.0, 1 kpoints)"
     },
     "metadata": {},
     "execution_count": 3
    }
   ],
   "cell_type": "code",
   "source": [
    "model = model_LDA(lattice, atoms)\n",
    "basis = PlaneWaveBasis(model, 5, kgrid=(1, 1, 1))"
   ],
   "metadata": {},
   "execution_count": 3
  },
  {
   "cell_type": "markdown",
   "source": [
    "Find the ground state using direct minimisation (always using SCF is boring ...)"
   ],
   "metadata": {}
  },
  {
   "outputs": [
    {
     "name": "stdout",
     "output_type": "stream",
     "text": [
      "Iter     Function value   Gradient norm \n",
      "     0     1.115833e+02     1.630674e+00\n",
      " * time: 0.604485034942627\n",
      "     1     1.072321e+01     8.944018e-01\n",
      " * time: 2.4531030654907227\n",
      "     2    -1.153103e+01     1.078476e+00\n",
      " * time: 2.939941167831421\n",
      "     3    -3.402372e+01     7.920185e-01\n",
      " * time: 3.6629209518432617\n",
      "     4    -4.747374e+01     5.367627e-01\n",
      " * time: 4.398113012313843\n",
      "     5    -5.686378e+01     1.968141e-01\n",
      " * time: 5.106090068817139\n",
      "     6    -5.986296e+01     1.038102e-01\n",
      " * time: 5.58432412147522\n",
      "     7    -6.093503e+01     5.055322e-02\n",
      " * time: 6.076694965362549\n",
      "     8    -6.130148e+01     6.428607e-02\n",
      " * time: 6.555086135864258\n",
      "     9    -6.159840e+01     3.144936e-02\n",
      " * time: 7.033979177474976\n",
      "    10    -6.179833e+01     2.586133e-02\n",
      " * time: 7.5141921043396\n",
      "    11    -6.196796e+01     2.334085e-02\n",
      " * time: 8.000774145126343\n",
      "    12    -6.203689e+01     1.937043e-02\n",
      " * time: 8.482371091842651\n",
      "    13    -6.210919e+01     1.537489e-02\n",
      " * time: 8.961302042007446\n",
      "    14    -6.213938e+01     1.596031e-02\n",
      " * time: 9.440499067306519\n",
      "    15    -6.216850e+01     9.933066e-03\n",
      " * time: 9.926310062408447\n",
      "    16    -6.218376e+01     9.540808e-03\n",
      " * time: 10.405671119689941\n",
      "    17    -6.219656e+01     7.426440e-03\n",
      " * time: 10.939793109893799\n",
      "    18    -6.220566e+01     5.915844e-03\n",
      " * time: 11.479647159576416\n",
      "    19    -6.221296e+01     6.283899e-03\n",
      " * time: 12.024456024169922\n",
      "    20    -6.221950e+01     7.418617e-03\n",
      " * time: 12.564354181289673\n",
      "    21    -6.222655e+01     6.674134e-03\n",
      " * time: 13.104969024658203\n",
      "    22    -6.223421e+01     6.028030e-03\n",
      " * time: 13.643933057785034\n",
      "    23    -6.224205e+01     5.939156e-03\n",
      " * time: 14.188688039779663\n",
      "    24    -6.224872e+01     4.910629e-03\n",
      " * time: 14.727699995040894\n",
      "    25    -6.225314e+01     4.378664e-03\n",
      " * time: 15.269313097000122\n",
      "    26    -6.225588e+01     3.413784e-03\n",
      " * time: 15.808273077011108\n",
      "    27    -6.225762e+01     3.121457e-03\n",
      " * time: 16.356086015701294\n",
      "    28    -6.225877e+01     2.567488e-03\n",
      " * time: 16.89840006828308\n",
      "    29    -6.225966e+01     2.141988e-03\n",
      " * time: 17.4373881816864\n",
      "    30    -6.226041e+01     1.736390e-03\n",
      " * time: 17.976202964782715\n",
      "    31    -6.226094e+01     1.555097e-03\n",
      " * time: 18.521695137023926\n",
      "    32    -6.226126e+01     1.281899e-03\n",
      " * time: 19.059741973876953\n",
      "    33    -6.226146e+01     8.500844e-04\n",
      " * time: 19.59856414794922\n",
      "    34    -6.226156e+01     6.488716e-04\n",
      " * time: 20.136988162994385\n",
      "    35    -6.226162e+01     3.243133e-04\n",
      " * time: 20.681709051132202\n",
      "    36    -6.226164e+01     2.187114e-04\n",
      " * time: 21.218497037887573\n",
      "    37    -6.226165e+01     1.643788e-04\n",
      " * time: 21.756819009780884\n",
      "    38    -6.226166e+01     1.316563e-04\n",
      " * time: 22.295582056045532\n",
      "    39    -6.226166e+01     1.100099e-04\n",
      " * time: 22.84027099609375\n",
      "    40    -6.226166e+01     8.750359e-05\n",
      " * time: 23.376979112625122\n",
      "    41    -6.226166e+01     6.379152e-05\n",
      " * time: 23.915388107299805\n",
      "    42    -6.226166e+01     5.843405e-05\n",
      " * time: 24.45363998413086\n",
      "    43    -6.226167e+01     4.079193e-05\n",
      " * time: 24.9984290599823\n",
      "    44    -6.226167e+01     4.748326e-05\n",
      " * time: 25.537331104278564\n",
      "    45    -6.226167e+01     2.958571e-05\n",
      " * time: 26.076190948486328\n",
      "    46    -6.226167e+01     2.134336e-05\n",
      " * time: 26.613696098327637\n",
      "    47    -6.226167e+01     1.281542e-05\n",
      " * time: 27.159316062927246\n",
      "    48    -6.226167e+01     8.713904e-06\n",
      " * time: 27.697817087173462\n",
      "    49    -6.226167e+01     6.366514e-06\n",
      " * time: 28.23645305633545\n",
      "    50    -6.226167e+01     4.982879e-06\n",
      " * time: 28.774877071380615\n",
      "    51    -6.226167e+01     3.976708e-06\n",
      " * time: 29.321060180664062\n",
      "    52    -6.226167e+01     3.659647e-06\n",
      " * time: 29.859644174575806\n"
     ]
    }
   ],
   "cell_type": "code",
   "source": [
    "scfres = direct_minimization(basis, tol=1e-5);"
   ],
   "metadata": {},
   "execution_count": 4
  },
  {
   "outputs": [
    {
     "output_type": "execute_result",
     "data": {
      "text/plain": "Energy breakdown:\n    Kinetic             25.7671069\n    AtomicLocal         -18.8557699\n    AtomicNonlocal      14.8522663\n    Ewald               -67.1831486\n    PspCorrection       -2.3569765\n    Hartree             4.8485375 \n    Xc                  -19.3336821\n\n    total               -62.261666456874\n"
     },
     "metadata": {},
     "execution_count": 5
    }
   ],
   "cell_type": "code",
   "source": [
    "scfres.energies"
   ],
   "metadata": {},
   "execution_count": 5
  }
 ],
 "nbformat_minor": 3,
 "metadata": {
  "language_info": {
   "file_extension": ".jl",
   "mimetype": "application/julia",
   "name": "julia",
   "version": "1.6.1"
  },
  "kernelspec": {
   "name": "julia-1.6",
   "display_name": "Julia 1.6.1",
   "language": "julia"
  }
 },
 "nbformat": 4
}
