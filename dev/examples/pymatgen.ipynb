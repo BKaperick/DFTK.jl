{
 "cells": [
  {
   "cell_type": "markdown",
   "source": [
    "# Creating supercells with pymatgen\n",
    "\n",
    "The [Pymatgen](https://pymatgen.org/) python library allows to setup\n",
    "solid-state calculations using a flexible set of classes as well as an API\n",
    "to an online data base of structures. Its `Structure` and `Lattice`\n",
    "objects are directly supported by the DFTK `load_atoms` and `load_lattice`\n",
    "functions, such that DFTK may be readily used to run calculation on systems\n",
    "defined in pymatgen. Using the `pymatgen_structure` function a conversion\n",
    "from DFTK to pymatgen structures is also possible. In the following we\n",
    "use this to create a silicon supercell and find its LDA ground state\n",
    "using direct minimisation."
   ],
   "metadata": {}
  },
  {
   "cell_type": "markdown",
   "source": [
    "First we setup the silicon lattice in DFTK."
   ],
   "metadata": {}
  },
  {
   "outputs": [],
   "cell_type": "code",
   "source": [
    "using DFTK\n",
    "\n",
    "a = 10.263141334305942  # Lattice constant in Bohr\n",
    "lattice = a / 2 .* [[0 1 1.]; [1 0 1.]; [1 1 0.]]\n",
    "Si = ElementPsp(:Si, psp=load_psp(\"hgh/lda/Si-q4\"))\n",
    "atoms = [Si => [ones(3)/8, -ones(3)/8]];"
   ],
   "metadata": {},
   "execution_count": 1
  },
  {
   "cell_type": "markdown",
   "source": [
    "Next we make a `[2, 2, 2]` supercell using pymatgen"
   ],
   "metadata": {}
  },
  {
   "outputs": [],
   "cell_type": "code",
   "source": [
    "pystruct = pymatgen_structure(lattice, atoms)\n",
    "pystruct.make_supercell([2, 2, 2])\n",
    "lattice = load_lattice(pystruct)\n",
    "atoms = [Si => [s.frac_coords for s in pystruct.sites]];"
   ],
   "metadata": {},
   "execution_count": 2
  },
  {
   "cell_type": "markdown",
   "source": [
    "Setup an LDA model and discretize using\n",
    "a single kpoint and a small `Ecut` of 5 Hartree."
   ],
   "metadata": {}
  },
  {
   "outputs": [
    {
     "output_type": "execute_result",
     "data": {
      "text/plain": "PlaneWaveBasis (Ecut=5.0, 1 kpoints)"
     },
     "metadata": {},
     "execution_count": 3
    }
   ],
   "cell_type": "code",
   "source": [
    "model = model_LDA(lattice, atoms)\n",
    "basis = PlaneWaveBasis(model, 5, kgrid=(1, 1, 1))"
   ],
   "metadata": {},
   "execution_count": 3
  },
  {
   "cell_type": "markdown",
   "source": [
    "Find the ground state using direct minimisation (always using SCF is boring ...)"
   ],
   "metadata": {}
  },
  {
   "outputs": [
    {
     "name": "stdout",
     "output_type": "stream",
     "text": [
      "Iter     Function value   Gradient norm \n",
      "     0     1.119225e+02     1.575026e+00\n",
      " * time: 0.6325180530548096\n",
      "     1     1.097656e+01     9.764831e-01\n",
      " * time: 2.6560049057006836\n",
      "     2    -1.172831e+01     1.083093e+00\n",
      " * time: 3.1477460861206055\n",
      "     3    -3.359957e+01     7.974475e-01\n",
      " * time: 3.8971269130706787\n",
      "     4    -4.710698e+01     6.365345e-01\n",
      " * time: 4.606719970703125\n",
      "     5    -5.665303e+01     2.314068e-01\n",
      " * time: 5.329329013824463\n",
      "     6    -5.966938e+01     1.999828e-01\n",
      " * time: 5.826551914215088\n",
      "     7    -6.090017e+01     6.212948e-02\n",
      " * time: 6.305480003356934\n",
      "     8    -6.137079e+01     5.870031e-02\n",
      " * time: 6.784229040145874\n",
      "     9    -6.161454e+01     4.513103e-02\n",
      " * time: 7.319715976715088\n",
      "    10    -6.180966e+01     2.891883e-02\n",
      " * time: 7.871808052062988\n",
      "    11    -6.195768e+01     2.680782e-02\n",
      " * time: 8.411436080932617\n",
      "    12    -6.205493e+01     1.961752e-02\n",
      " * time: 8.950335025787354\n",
      "    13    -6.210369e+01     1.757180e-02\n",
      " * time: 9.489569902420044\n",
      "    14    -6.215236e+01     1.242142e-02\n",
      " * time: 10.029424905776978\n",
      "    15    -6.217548e+01     1.145184e-02\n",
      " * time: 10.575231075286865\n",
      "    16    -6.219364e+01     1.045555e-02\n",
      " * time: 11.115082025527954\n",
      "    17    -6.220605e+01     7.617505e-03\n",
      " * time: 11.65457797050476\n",
      "    18    -6.221703e+01     7.007954e-03\n",
      " * time: 12.19045090675354\n",
      "    19    -6.222618e+01     7.439451e-03\n",
      " * time: 12.73705005645752\n",
      "    20    -6.223501e+01     7.025299e-03\n",
      " * time: 13.276685953140259\n",
      "    21    -6.224321e+01     6.023426e-03\n",
      " * time: 13.812318086624146\n",
      "    22    -6.225005e+01     6.030156e-03\n",
      " * time: 14.348119020462036\n",
      "    23    -6.225494e+01     3.807385e-03\n",
      " * time: 14.884093999862671\n",
      "    24    -6.225783e+01     3.483434e-03\n",
      " * time: 15.373297929763794\n",
      "    25    -6.225927e+01     2.128215e-03\n",
      " * time: 15.858972072601318\n",
      "    26    -6.226004e+01     1.783377e-03\n",
      " * time: 16.33787202835083\n",
      "    27    -6.226052e+01     1.467507e-03\n",
      " * time: 16.8176429271698\n",
      "    28    -6.226086e+01     1.213802e-03\n",
      " * time: 17.30247402191162\n",
      "    29    -6.226112e+01     1.098097e-03\n",
      " * time: 17.775554895401\n",
      "    30    -6.226132e+01     9.419875e-04\n",
      " * time: 18.29967188835144\n",
      "    31    -6.226147e+01     7.240518e-04\n",
      " * time: 18.84472393989563\n",
      "    32    -6.226156e+01     5.523923e-04\n",
      " * time: 19.329635858535767\n",
      "    33    -6.226161e+01     3.969485e-04\n",
      " * time: 19.80947494506836\n",
      "    34    -6.226164e+01     2.479213e-04\n",
      " * time: 20.288681983947754\n",
      "    35    -6.226165e+01     2.386241e-04\n",
      " * time: 20.767278909683228\n",
      "    36    -6.226166e+01     1.380983e-04\n",
      " * time: 21.24760890007019\n",
      "    37    -6.226166e+01     1.185604e-04\n",
      " * time: 21.73212194442749\n",
      "    38    -6.226166e+01     6.875747e-05\n",
      " * time: 22.211732864379883\n",
      "    39    -6.226167e+01     5.086524e-05\n",
      " * time: 22.688673973083496\n",
      "    40    -6.226167e+01     4.279182e-05\n",
      " * time: 23.168274879455566\n",
      "    41    -6.226167e+01     3.302748e-05\n",
      " * time: 23.65369701385498\n",
      "    42    -6.226167e+01     3.103799e-05\n",
      " * time: 24.130910873413086\n",
      "    43    -6.226167e+01     2.062861e-05\n",
      " * time: 24.61019206047058\n",
      "    44    -6.226167e+01     1.600508e-05\n",
      " * time: 25.089247941970825\n",
      "    45    -6.226167e+01     1.160426e-05\n",
      " * time: 25.56804394721985\n",
      "    46    -6.226167e+01     8.516784e-06\n",
      " * time: 26.051049947738647\n",
      "    47    -6.226167e+01     5.378147e-06\n",
      " * time: 26.551950931549072\n",
      "    48    -6.226167e+01     4.013671e-06\n",
      " * time: 27.03060507774353\n",
      "    49    -6.226167e+01     3.566306e-06\n",
      " * time: 27.509487867355347\n"
     ]
    }
   ],
   "cell_type": "code",
   "source": [
    "scfres = direct_minimization(basis, tol=1e-5);"
   ],
   "metadata": {},
   "execution_count": 4
  },
  {
   "outputs": [
    {
     "output_type": "execute_result",
     "data": {
      "text/plain": "Energy breakdown:\n    Kinetic             25.7671059\n    AtomicLocal         -18.8557675\n    AtomicNonlocal      14.8522656\n    Ewald               -67.1831486\n    PspCorrection       -2.3569765\n    Hartree             4.8485362 \n    Xc                  -19.3336816\n\n    total               -62.261666459151\n"
     },
     "metadata": {},
     "execution_count": 5
    }
   ],
   "cell_type": "code",
   "source": [
    "scfres.energies"
   ],
   "metadata": {},
   "execution_count": 5
  }
 ],
 "nbformat_minor": 3,
 "metadata": {
  "language_info": {
   "file_extension": ".jl",
   "mimetype": "application/julia",
   "name": "julia",
   "version": "1.6.1"
  },
  "kernelspec": {
   "name": "julia-1.6",
   "display_name": "Julia 1.6.1",
   "language": "julia"
  }
 },
 "nbformat": 4
}
