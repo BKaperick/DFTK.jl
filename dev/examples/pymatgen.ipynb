{
 "cells": [
  {
   "cell_type": "markdown",
   "source": [
    "# Creating supercells with pymatgen\n",
    "\n",
    "The [Pymatgen](https://pymatgen.org/) python library allows to setup\n",
    "solid-state calculations using a flexible set of classes as well as an API\n",
    "to an online data base of structures. Its `Structure` and `Lattice`\n",
    "objects are directly supported by the DFTK `load_atoms` and `load_lattice`\n",
    "functions, such that DFTK may be readily used to run calculation on systems\n",
    "defined in pymatgen. Using the `pymatgen_structure` function a conversion\n",
    "from DFTK to pymatgen structures is also possible. In the following we\n",
    "use this to create a silicon supercell and find its LDA ground state\n",
    "using direct minimisation."
   ],
   "metadata": {}
  },
  {
   "cell_type": "markdown",
   "source": [
    "First we setup the silicon lattice in DFTK."
   ],
   "metadata": {}
  },
  {
   "outputs": [],
   "cell_type": "code",
   "source": [
    "using DFTK\n",
    "\n",
    "a = 10.263141334305942  # Lattice constant in Bohr\n",
    "lattice = a / 2 .* [[0 1 1.]; [1 0 1.]; [1 1 0.]]\n",
    "Si = ElementPsp(:Si, psp=load_psp(\"hgh/lda/Si-q4\"))\n",
    "atoms = [Si => [ones(3)/8, -ones(3)/8]];"
   ],
   "metadata": {},
   "execution_count": 1
  },
  {
   "cell_type": "markdown",
   "source": [
    "Next we make a `[2, 2, 2]` supercell using pymatgen"
   ],
   "metadata": {}
  },
  {
   "outputs": [],
   "cell_type": "code",
   "source": [
    "pystruct = pymatgen_structure(lattice, atoms)\n",
    "pystruct.make_supercell([2, 2, 2])\n",
    "lattice = load_lattice(pystruct)\n",
    "atoms = [Si => [s.frac_coords for s in pystruct.sites]];"
   ],
   "metadata": {},
   "execution_count": 2
  },
  {
   "cell_type": "markdown",
   "source": [
    "Setup an LDA model and discretize using\n",
    "a single kpoint and a small `Ecut` of 5 Hartree."
   ],
   "metadata": {}
  },
  {
   "outputs": [
    {
     "output_type": "execute_result",
     "data": {
      "text/plain": "PlaneWaveBasis (Ecut=5.0, 1 kpoints)"
     },
     "metadata": {},
     "execution_count": 3
    }
   ],
   "cell_type": "code",
   "source": [
    "model = model_LDA(lattice, atoms)\n",
    "basis = PlaneWaveBasis(model, 5, kgrid=(1, 1, 1))"
   ],
   "metadata": {},
   "execution_count": 3
  },
  {
   "cell_type": "markdown",
   "source": [
    "Find the ground state using direct minimisation (always using SCF is boring ...)"
   ],
   "metadata": {}
  },
  {
   "outputs": [
    {
     "name": "stdout",
     "output_type": "stream",
     "text": [
      "Iter     Function value   Gradient norm \n",
      "     0     1.125257e+02     1.727475e+00\n",
      " * time: 0.09251189231872559\n",
      "     1     1.112450e+01     1.077136e+00\n",
      " * time: 1.371541976928711\n",
      "     2    -1.256434e+01     1.131674e+00\n",
      " * time: 1.4919648170471191\n",
      "     3    -3.445535e+01     7.998524e-01\n",
      " * time: 1.6611649990081787\n",
      "     4    -4.816962e+01     5.500273e-01\n",
      " * time: 1.8176817893981934\n",
      "     5    -5.711592e+01     2.389875e-01\n",
      " * time: 1.9690279960632324\n",
      "     6    -5.984823e+01     1.650292e-01\n",
      " * time: 2.0799639225006104\n",
      "     7    -6.091403e+01     6.038219e-02\n",
      " * time: 2.1965909004211426\n",
      "     8    -6.133322e+01     7.158718e-02\n",
      " * time: 2.305989980697632\n",
      "     9    -6.160558e+01     5.515181e-02\n",
      " * time: 2.423914909362793\n",
      "    10    -6.180588e+01     3.521546e-02\n",
      " * time: 2.5424089431762695\n",
      "    11    -6.196128e+01     2.193890e-02\n",
      " * time: 2.653932809829712\n",
      "    12    -6.202948e+01     1.789150e-02\n",
      " * time: 2.7748608589172363\n",
      "    13    -6.209275e+01     1.436280e-02\n",
      " * time: 2.887075901031494\n",
      "    14    -6.212597e+01     1.240393e-02\n",
      " * time: 3.00590181350708\n",
      "    15    -6.215199e+01     1.027018e-02\n",
      " * time: 3.118569850921631\n",
      "    16    -6.216650e+01     9.616527e-03\n",
      " * time: 3.2379488945007324\n",
      "    17    -6.217763e+01     7.130139e-03\n",
      " * time: 3.3550808429718018\n",
      "    18    -6.218641e+01     6.995228e-03\n",
      " * time: 3.46720290184021\n",
      "    19    -6.219345e+01     6.528161e-03\n",
      " * time: 3.587737798690796\n",
      "    20    -6.219981e+01     6.426489e-03\n",
      " * time: 3.700824022293091\n",
      "    21    -6.220578e+01     6.577075e-03\n",
      " * time: 3.8187239170074463\n",
      "    22    -6.221143e+01     6.860911e-03\n",
      " * time: 3.930421829223633\n",
      "    23    -6.221664e+01     6.883139e-03\n",
      " * time: 4.050236940383911\n",
      "    24    -6.222163e+01     6.782152e-03\n",
      " * time: 4.1693480014801025\n",
      "    25    -6.222681e+01     7.751327e-03\n",
      " * time: 4.2809178829193115\n",
      "    26    -6.223228e+01     5.923648e-03\n",
      " * time: 4.400270938873291\n",
      "    27    -6.223814e+01     5.733681e-03\n",
      " * time: 4.5105719566345215\n",
      "    28    -6.224408e+01     5.947484e-03\n",
      " * time: 4.633976936340332\n",
      "    29    -6.224966e+01     4.618608e-03\n",
      " * time: 4.751726865768433\n",
      "    30    -6.225387e+01     3.903109e-03\n",
      " * time: 4.862742900848389\n",
      "    31    -6.225686e+01     4.013401e-03\n",
      " * time: 4.981040954589844\n",
      "    32    -6.225887e+01     3.005807e-03\n",
      " * time: 5.0942018032073975\n",
      "    33    -6.226022e+01     1.995240e-03\n",
      " * time: 5.212951898574829\n",
      "    34    -6.226093e+01     1.253692e-03\n",
      " * time: 5.325048923492432\n",
      "    35    -6.226127e+01     1.008840e-03\n",
      " * time: 5.4427549839019775\n",
      "    36    -6.226143e+01     8.271710e-04\n",
      " * time: 5.561686992645264\n",
      "    37    -6.226151e+01     6.615377e-04\n",
      " * time: 5.672282934188843\n",
      "    38    -6.226156e+01     4.737388e-04\n",
      " * time: 5.789048910140991\n",
      "    39    -6.226159e+01     3.739140e-04\n",
      " * time: 5.898651838302612\n",
      "    40    -6.226162e+01     3.348423e-04\n",
      " * time: 6.016239881515503\n",
      "    41    -6.226163e+01     2.376003e-04\n",
      " * time: 6.125960826873779\n",
      "    42    -6.226165e+01     1.825088e-04\n",
      " * time: 6.243961811065674\n",
      "    43    -6.226166e+01     1.721251e-04\n",
      " * time: 6.3620829582214355\n",
      "    44    -6.226166e+01     1.502153e-04\n",
      " * time: 6.472978830337524\n",
      "    45    -6.226166e+01     1.003450e-04\n",
      " * time: 6.5900208950042725\n",
      "    46    -6.226166e+01     7.226753e-05\n",
      " * time: 6.7009758949279785\n",
      "    47    -6.226167e+01     3.960130e-05\n",
      " * time: 6.8213419914245605\n",
      "    48    -6.226167e+01     2.954627e-05\n",
      " * time: 6.934417963027954\n",
      "    49    -6.226167e+01     2.787978e-05\n",
      " * time: 7.052478790283203\n",
      "    50    -6.226167e+01     2.223554e-05\n",
      " * time: 7.170399904251099\n",
      "    51    -6.226167e+01     2.063305e-05\n",
      " * time: 7.282220840454102\n",
      "    52    -6.226167e+01     1.451762e-05\n",
      " * time: 7.402702808380127\n",
      "    53    -6.226167e+01     1.251979e-05\n",
      " * time: 7.5153608322143555\n",
      "    54    -6.226167e+01     8.053398e-06\n",
      " * time: 7.638124942779541\n",
      "    55    -6.226167e+01     5.547775e-06\n",
      " * time: 7.752070903778076\n",
      "    56    -6.226167e+01     4.662851e-06\n",
      " * time: 7.870499849319458\n",
      "    57    -6.226167e+01     3.191625e-06\n",
      " * time: 7.994485855102539\n",
      "    58    -6.226167e+01     2.343097e-06\n",
      " * time: 8.107810974121094\n"
     ]
    }
   ],
   "cell_type": "code",
   "source": [
    "scfres = direct_minimization(basis, tol=1e-5);"
   ],
   "metadata": {},
   "execution_count": 4
  },
  {
   "outputs": [
    {
     "output_type": "execute_result",
     "data": {
      "text/plain": "Energy breakdown:\n    Kinetic             25.7671072\n    AtomicLocal         -18.8557706\n    AtomicNonlocal      14.8522665\n    Ewald               -67.1831486\n    PspCorrection       -2.3569765\n    Hartree             4.8485380 \n    Xc                  -19.3336823\n\n    total               -62.261666462032\n"
     },
     "metadata": {},
     "execution_count": 5
    }
   ],
   "cell_type": "code",
   "source": [
    "scfres.energies"
   ],
   "metadata": {},
   "execution_count": 5
  }
 ],
 "nbformat_minor": 3,
 "metadata": {
  "language_info": {
   "file_extension": ".jl",
   "mimetype": "application/julia",
   "name": "julia",
   "version": "1.4.2"
  },
  "kernelspec": {
   "name": "julia-1.4",
   "display_name": "Julia 1.4.2",
   "language": "julia"
  }
 },
 "nbformat": 4
}
