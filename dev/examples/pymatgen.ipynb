{
 "cells": [
  {
   "cell_type": "markdown",
   "source": [
    "# Creating supercells with pymatgen\n",
    "\n",
    "The [Pymatgen](https://pymatgen.org/) python library allows to setup\n",
    "solid-state calculations using a flexible set of classes as well as an API\n",
    "to an online data base of structures. Its `Structure` and `Lattice`\n",
    "objects are directly supported by the DFTK `load_atoms` and `load_lattice`\n",
    "functions, such that DFTK may be readily used to run calculation on systems\n",
    "defined in pymatgen. Using the `pymatgen_structure` function a conversion\n",
    "from DFTK to pymatgen structures is also possible. In the following we\n",
    "use this to create a silicon supercell and find its LDA ground state\n",
    "using direct minimisation."
   ],
   "metadata": {}
  },
  {
   "cell_type": "markdown",
   "source": [
    "First we setup the silicon lattice in DFTK."
   ],
   "metadata": {}
  },
  {
   "outputs": [],
   "cell_type": "code",
   "source": [
    "using DFTK\n",
    "\n",
    "a = 10.263141334305942  # Lattice constant in Bohr\n",
    "lattice = a / 2 .* [[0 1 1.]; [1 0 1.]; [1 1 0.]]\n",
    "Si = ElementPsp(:Si, psp=load_psp(\"hgh/lda/Si-q4\"))\n",
    "atoms = [Si => [ones(3)/8, -ones(3)/8]];"
   ],
   "metadata": {},
   "execution_count": 1
  },
  {
   "cell_type": "markdown",
   "source": [
    "Next we make a `[2, 2, 2]` supercell using pymatgen"
   ],
   "metadata": {}
  },
  {
   "outputs": [],
   "cell_type": "code",
   "source": [
    "pystruct = pymatgen_structure(lattice, atoms)\n",
    "pystruct.make_supercell([2, 2, 2])\n",
    "lattice = load_lattice(pystruct)\n",
    "atoms = [Si => [s.frac_coords for s in pystruct.sites]];"
   ],
   "metadata": {},
   "execution_count": 2
  },
  {
   "cell_type": "markdown",
   "source": [
    "Setup an LDA model and discretize using\n",
    "a single kpoint and a small `Ecut` of 5 Hartree."
   ],
   "metadata": {}
  },
  {
   "outputs": [
    {
     "output_type": "execute_result",
     "data": {
      "text/plain": "PlaneWaveBasis (Ecut=5.0, 1 kpoints)"
     },
     "metadata": {},
     "execution_count": 3
    }
   ],
   "cell_type": "code",
   "source": [
    "model = model_LDA(lattice, atoms)\n",
    "basis = PlaneWaveBasis(model, 5, kgrid=(1, 1, 1))"
   ],
   "metadata": {},
   "execution_count": 3
  },
  {
   "cell_type": "markdown",
   "source": [
    "Find the ground state using direct minimisation (always using SCF is boring ...)"
   ],
   "metadata": {}
  },
  {
   "outputs": [
    {
     "name": "stdout",
     "output_type": "stream",
     "text": [
      "Iter     Function value   Gradient norm \n",
      "     0     1.115329e+02     1.719396e+00\n",
      " * time: 0.11944198608398438\n",
      "     1     1.028096e+01     1.015483e+00\n",
      " * time: 0.9044029712677002\n",
      "     2    -1.231599e+01     1.219490e+00\n",
      " * time: 1.0385658740997314\n",
      "     3    -3.476916e+01     8.779338e-01\n",
      " * time: 1.1894049644470215\n",
      "     4    -4.859381e+01     6.385843e-01\n",
      " * time: 1.3342149257659912\n",
      "     5    -5.739280e+01     1.863560e-01\n",
      " * time: 1.4757139682769775\n",
      "     6    -5.996100e+01     7.427854e-02\n",
      " * time: 1.5808610916137695\n",
      "     7    -6.083658e+01     5.840308e-02\n",
      " * time: 1.69193696975708\n",
      "     8    -6.125606e+01     6.195430e-02\n",
      " * time: 1.796396017074585\n",
      "     9    -6.159090e+01     3.554498e-02\n",
      " * time: 1.9089910984039307\n",
      "    10    -6.183699e+01     2.766577e-02\n",
      " * time: 2.0219690799713135\n",
      "    11    -6.196633e+01     2.174162e-02\n",
      " * time: 2.126115083694458\n",
      "    12    -6.204627e+01     1.968356e-02\n",
      " * time: 2.2364749908447266\n",
      "    13    -6.209726e+01     1.578394e-02\n",
      " * time: 2.3403899669647217\n",
      "    14    -6.213749e+01     1.325561e-02\n",
      " * time: 2.450432062149048\n",
      "    15    -6.216488e+01     1.201313e-02\n",
      " * time: 2.5600759983062744\n",
      "    16    -6.218375e+01     9.038843e-03\n",
      " * time: 2.6638550758361816\n",
      "    17    -6.219814e+01     9.214741e-03\n",
      " * time: 2.773967981338501\n",
      "    18    -6.221102e+01     8.235192e-03\n",
      " * time: 2.883291006088257\n",
      "    19    -6.222149e+01     8.170502e-03\n",
      " * time: 2.9863390922546387\n",
      "    20    -6.223017e+01     6.769208e-03\n",
      " * time: 3.0984599590301514\n",
      "    21    -6.223808e+01     6.980021e-03\n",
      " * time: 3.2167649269104004\n",
      "    22    -6.224536e+01     7.617515e-03\n",
      " * time: 3.3311219215393066\n",
      "    23    -6.225154e+01     5.551416e-03\n",
      " * time: 3.4423460960388184\n",
      "    24    -6.225582e+01     3.314461e-03\n",
      " * time: 3.545475959777832\n",
      "    25    -6.225814e+01     2.623256e-03\n",
      " * time: 3.6563799381256104\n",
      "    26    -6.225956e+01     2.068246e-03\n",
      " * time: 3.7593119144439697\n",
      "    27    -6.226033e+01     1.522922e-03\n",
      " * time: 3.868849039077759\n",
      "    28    -6.226077e+01     1.588164e-03\n",
      " * time: 3.977713108062744\n",
      "    29    -6.226106e+01     9.806195e-04\n",
      " * time: 4.080718994140625\n",
      "    30    -6.226126e+01     8.461220e-04\n",
      " * time: 4.191340923309326\n",
      "    31    -6.226140e+01     7.506105e-04\n",
      " * time: 4.3010170459747314\n",
      "    32    -6.226150e+01     6.514419e-04\n",
      " * time: 4.403532028198242\n",
      "    33    -6.226157e+01     4.727005e-04\n",
      " * time: 4.513845920562744\n",
      "    34    -6.226162e+01     3.800752e-04\n",
      " * time: 4.617027044296265\n",
      "    35    -6.226164e+01     2.632773e-04\n",
      " * time: 4.7265870571136475\n",
      "    36    -6.226165e+01     1.754288e-04\n",
      " * time: 4.8355278968811035\n",
      "    37    -6.226166e+01     1.230190e-04\n",
      " * time: 4.938903093338013\n",
      "    38    -6.226166e+01     9.007973e-05\n",
      " * time: 5.048547983169556\n",
      "    39    -6.226166e+01     6.909571e-05\n",
      " * time: 5.152956008911133\n",
      "    40    -6.226166e+01     7.025656e-05\n",
      " * time: 5.262917995452881\n",
      "    41    -6.226167e+01     6.071801e-05\n",
      " * time: 5.373192071914673\n",
      "    42    -6.226167e+01     4.349066e-05\n",
      " * time: 5.4766950607299805\n",
      "    43    -6.226167e+01     3.224514e-05\n",
      " * time: 5.585654973983765\n",
      "    44    -6.226167e+01     2.370090e-05\n",
      " * time: 5.688730001449585\n",
      "    45    -6.226167e+01     1.985900e-05\n",
      " * time: 5.797605991363525\n",
      "    46    -6.226167e+01     1.540137e-05\n",
      " * time: 5.906843900680542\n",
      "    47    -6.226167e+01     1.215202e-05\n",
      " * time: 6.010462999343872\n",
      "    48    -6.226167e+01     8.538613e-06\n",
      " * time: 6.119965076446533\n",
      "    49    -6.226167e+01     6.416734e-06\n",
      " * time: 6.228667974472046\n",
      "    50    -6.226167e+01     3.855247e-06\n",
      " * time: 6.3308470249176025\n"
     ]
    }
   ],
   "cell_type": "code",
   "source": [
    "scfres = direct_minimization(basis, tol=1e-5);"
   ],
   "metadata": {},
   "execution_count": 4
  },
  {
   "outputs": [
    {
     "output_type": "execute_result",
     "data": {
      "text/plain": "Energy breakdown:\n    Kinetic             25.7671063\n    AtomicLocal         -18.8557703\n    AtomicNonlocal      14.8522673\n    Ewald               -67.1831486\n    PspCorrection       -2.3569765\n    Hartree             4.8485375 \n    Xc                  -19.3336821\n\n    total               -62.261666456939\n"
     },
     "metadata": {},
     "execution_count": 5
    }
   ],
   "cell_type": "code",
   "source": [
    "scfres.energies"
   ],
   "metadata": {},
   "execution_count": 5
  }
 ],
 "nbformat_minor": 3,
 "metadata": {
  "language_info": {
   "file_extension": ".jl",
   "mimetype": "application/julia",
   "name": "julia",
   "version": "1.3.1"
  },
  "kernelspec": {
   "name": "julia-1.3",
   "display_name": "Julia 1.3.1",
   "language": "julia"
  }
 },
 "nbformat": 4
}
