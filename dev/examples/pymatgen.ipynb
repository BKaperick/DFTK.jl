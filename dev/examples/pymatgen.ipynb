{
 "cells": [
  {
   "cell_type": "markdown",
   "source": [
    "# Creating supercells with pymatgen\n",
    "\n",
    "The [Pymatgen](https://pymatgen.org/) python library allows to setup\n",
    "solid-state calculations using a flexible set of classes as well as an API\n",
    "to an online data base of structures. Its `Structure` and `Lattice`\n",
    "objects are directly supported by the DFTK `load_atoms` and `load_lattice`\n",
    "functions, such that DFTK may be readily used to run calculation on systems\n",
    "defined in pymatgen. Using the `pymatgen_structure` function a conversion\n",
    "from DFTK to pymatgen structures is also possible. In the following we\n",
    "use this to create a silicon supercell and find its LDA ground state\n",
    "using direct minimisation."
   ],
   "metadata": {}
  },
  {
   "cell_type": "markdown",
   "source": [
    "First we setup the silicon lattice in DFTK."
   ],
   "metadata": {}
  },
  {
   "outputs": [],
   "cell_type": "code",
   "source": [
    "using DFTK\n",
    "\n",
    "a = 10.263141334305942  # Lattice constant in Bohr\n",
    "lattice = a / 2 .* [[0 1 1.]; [1 0 1.]; [1 1 0.]]\n",
    "Si = ElementPsp(:Si, psp=load_psp(\"hgh/lda/Si-q4\"))\n",
    "atoms = [Si => [ones(3)/8, -ones(3)/8]];"
   ],
   "metadata": {},
   "execution_count": 1
  },
  {
   "cell_type": "markdown",
   "source": [
    "Next we make a `[2, 2, 2]` supercell using pymatgen"
   ],
   "metadata": {}
  },
  {
   "outputs": [],
   "cell_type": "code",
   "source": [
    "pystruct = pymatgen_structure(lattice, atoms)\n",
    "pystruct.make_supercell([2, 2, 2])\n",
    "lattice = load_lattice(pystruct)\n",
    "atoms = [Si => [s.frac_coords for s in pystruct.sites]];"
   ],
   "metadata": {},
   "execution_count": 2
  },
  {
   "cell_type": "markdown",
   "source": [
    "Setup an LDA model and discretize using\n",
    "a single kpoint and a small `Ecut` of 5 Hartree."
   ],
   "metadata": {}
  },
  {
   "outputs": [
    {
     "output_type": "execute_result",
     "data": {
      "text/plain": "PlaneWaveBasis (Ecut=5.0, 1 kpoints)"
     },
     "metadata": {},
     "execution_count": 3
    }
   ],
   "cell_type": "code",
   "source": [
    "model = model_LDA(lattice, atoms)\n",
    "basis = PlaneWaveBasis(model, 5, kgrid=(1, 1, 1))"
   ],
   "metadata": {},
   "execution_count": 3
  },
  {
   "cell_type": "markdown",
   "source": [
    "Find the ground state using direct minimisation (always using SCF is boring ...)"
   ],
   "metadata": {}
  },
  {
   "outputs": [
    {
     "name": "stdout",
     "output_type": "stream",
     "text": [
      "Iter     Function value   Gradient norm \n",
      "     0     1.121829e+02     1.623583e+00\n",
      " * time: 0.09093284606933594\n",
      "     1     1.154069e+01     8.901053e-01\n",
      " * time: 0.9873569011688232\n",
      "     2    -1.186656e+01     1.066251e+00\n",
      " * time: 1.121025800704956\n",
      "     3    -3.419200e+01     7.513000e-01\n",
      " * time: 1.2857248783111572\n",
      "     4    -4.795572e+01     5.055250e-01\n",
      " * time: 1.4410769939422607\n",
      "     5    -5.710360e+01     1.821407e-01\n",
      " * time: 1.589684009552002\n",
      "     6    -5.990840e+01     1.123619e-01\n",
      " * time: 1.7055978775024414\n",
      "     7    -6.093044e+01     5.337322e-02\n",
      " * time: 1.8155059814453125\n",
      "     8    -6.131731e+01     6.444137e-02\n",
      " * time: 1.9351599216461182\n",
      "     9    -6.162212e+01     4.013443e-02\n",
      " * time: 2.0483808517456055\n",
      "    10    -6.182104e+01     3.124235e-02\n",
      " * time: 2.165247917175293\n",
      "    11    -6.197434e+01     2.013354e-02\n",
      " * time: 2.281315803527832\n",
      "    12    -6.203481e+01     1.619426e-02\n",
      " * time: 2.3905699253082275\n",
      "    13    -6.209272e+01     1.452902e-02\n",
      " * time: 2.506450891494751\n",
      "    14    -6.212035e+01     1.139020e-02\n",
      " * time: 2.616158962249756\n",
      "    15    -6.214511e+01     1.035627e-02\n",
      " * time: 2.7330689430236816\n",
      "    16    -6.215861e+01     9.704078e-03\n",
      " * time: 2.851058006286621\n",
      "    17    -6.216780e+01     9.134464e-03\n",
      " * time: 2.9623279571533203\n",
      "    18    -6.217527e+01     7.760297e-03\n",
      " * time: 3.0818188190460205\n",
      "    19    -6.218227e+01     6.839321e-03\n",
      " * time: 3.2114598751068115\n",
      "    20    -6.218981e+01     7.509890e-03\n",
      " * time: 3.336092948913574\n",
      "    21    -6.219818e+01     8.368443e-03\n",
      " * time: 3.4530529975891113\n",
      "    22    -6.220700e+01     9.842493e-03\n",
      " * time: 3.5694069862365723\n",
      "    23    -6.221544e+01     8.976327e-03\n",
      " * time: 3.6878278255462646\n",
      "    24    -6.222237e+01     7.649869e-03\n",
      " * time: 3.7984769344329834\n",
      "    25    -6.222804e+01     7.474364e-03\n",
      " * time: 3.9273669719696045\n",
      "    26    -6.223358e+01     5.806154e-03\n",
      " * time: 4.04598593711853\n",
      "    27    -6.223902e+01     5.821498e-03\n",
      " * time: 4.156571865081787\n",
      "    28    -6.224432e+01     4.547997e-03\n",
      " * time: 4.273562908172607\n",
      "    29    -6.224936e+01     4.321546e-03\n",
      " * time: 4.383525848388672\n",
      "    30    -6.225369e+01     4.014998e-03\n",
      " * time: 4.500155925750732\n",
      "    31    -6.225676e+01     4.094009e-03\n",
      " * time: 4.6110169887542725\n",
      "    32    -6.225882e+01     2.989064e-03\n",
      " * time: 4.729549884796143\n",
      "    33    -6.226011e+01     2.155064e-03\n",
      " * time: 4.847961902618408\n",
      "    34    -6.226087e+01     1.412708e-03\n",
      " * time: 4.959245920181274\n",
      "    35    -6.226126e+01     9.804493e-04\n",
      " * time: 5.080146789550781\n",
      "    36    -6.226144e+01     8.088975e-04\n",
      " * time: 5.1901679039001465\n",
      "    37    -6.226151e+01     6.178061e-04\n",
      " * time: 5.307323932647705\n",
      "    38    -6.226156e+01     4.455642e-04\n",
      " * time: 5.42710280418396\n",
      "    39    -6.226159e+01     4.452375e-04\n",
      " * time: 5.540141820907593\n",
      "    40    -6.226162e+01     3.505088e-04\n",
      " * time: 5.657384872436523\n",
      "    41    -6.226163e+01     3.053742e-04\n",
      " * time: 5.767651796340942\n",
      "    42    -6.226165e+01     2.286469e-04\n",
      " * time: 5.884627819061279\n",
      "    43    -6.226165e+01     1.977002e-04\n",
      " * time: 5.999630928039551\n",
      "    44    -6.226166e+01     1.210969e-04\n",
      " * time: 6.108635902404785\n",
      "    45    -6.226166e+01     1.451239e-04\n",
      " * time: 6.225729942321777\n",
      "    46    -6.226166e+01     8.253894e-05\n",
      " * time: 6.336346864700317\n",
      "    47    -6.226167e+01     4.983194e-05\n",
      " * time: 6.461112976074219\n",
      "    48    -6.226167e+01     3.622385e-05\n",
      " * time: 6.595857858657837\n",
      "    49    -6.226167e+01     3.167446e-05\n",
      " * time: 6.716272830963135\n",
      "    50    -6.226167e+01     2.676885e-05\n",
      " * time: 6.847492933273315\n",
      "    51    -6.226167e+01     1.972340e-05\n",
      " * time: 6.961533784866333\n",
      "    52    -6.226167e+01     1.931853e-05\n",
      " * time: 7.083270788192749\n",
      "    53    -6.226167e+01     1.687881e-05\n",
      " * time: 7.206425905227661\n",
      "    54    -6.226167e+01     1.404672e-05\n",
      " * time: 7.31874680519104\n",
      "    55    -6.226167e+01     6.700079e-06\n",
      " * time: 7.437305927276611\n",
      "    56    -6.226167e+01     4.922820e-06\n",
      " * time: 7.547133922576904\n",
      "    57    -6.226167e+01     3.376812e-06\n",
      " * time: 7.663878917694092\n",
      "    58    -6.226167e+01     4.015787e-06\n",
      " * time: 7.781317949295044\n"
     ]
    }
   ],
   "cell_type": "code",
   "source": [
    "scfres = direct_minimization(basis, tol=1e-5);"
   ],
   "metadata": {},
   "execution_count": 4
  },
  {
   "outputs": [
    {
     "output_type": "execute_result",
     "data": {
      "text/plain": "Energy breakdown:\n    Kinetic             25.7671075\n    AtomicLocal         -18.8557707\n    AtomicNonlocal      14.8522661\n    Ewald               -67.1831486\n    PspCorrection       -2.3569765\n    Hartree             4.8485383 \n    Xc                  -19.3336824\n\n    total               -62.261666461655\n"
     },
     "metadata": {},
     "execution_count": 5
    }
   ],
   "cell_type": "code",
   "source": [
    "scfres.energies"
   ],
   "metadata": {},
   "execution_count": 5
  }
 ],
 "nbformat_minor": 3,
 "metadata": {
  "language_info": {
   "file_extension": ".jl",
   "mimetype": "application/julia",
   "name": "julia",
   "version": "1.3.1"
  },
  "kernelspec": {
   "name": "julia-1.3",
   "display_name": "Julia 1.3.1",
   "language": "julia"
  }
 },
 "nbformat": 4
}
