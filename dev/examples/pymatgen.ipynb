{
 "cells": [
  {
   "cell_type": "markdown",
   "source": [
    "# Creating supercells with pymatgen\n",
    "\n",
    "The [Pymatgen](https://pymatgen.org/) python library allows to setup\n",
    "solid-state calculations using a flexible set of classes as well as an API\n",
    "to an online data base of structures. Its `Structure` and `Lattice`\n",
    "objects are directly supported by the DFTK `load_atoms` and `load_lattice`\n",
    "functions, such that DFTK may be readily used to run calculation on systems\n",
    "defined in pymatgen. Using the `pymatgen_structure` function a conversion\n",
    "from DFTK to pymatgen structures is also possible. In the following we\n",
    "use this to create a silicon supercell and find its LDA ground state\n",
    "using direct minimisation."
   ],
   "metadata": {}
  },
  {
   "cell_type": "markdown",
   "source": [
    "First we setup the silicon lattice in DFTK."
   ],
   "metadata": {}
  },
  {
   "outputs": [],
   "cell_type": "code",
   "source": [
    "using DFTK\n",
    "\n",
    "a = 10.263141334305942  # Lattice constant in Bohr\n",
    "lattice = a / 2 .* [[0 1 1.]; [1 0 1.]; [1 1 0.]]\n",
    "Si = ElementPsp(:Si, psp=load_psp(\"hgh/lda/Si-q4\"))\n",
    "atoms = [Si => [ones(3)/8, -ones(3)/8]];"
   ],
   "metadata": {},
   "execution_count": 1
  },
  {
   "cell_type": "markdown",
   "source": [
    "Next we make a `[2, 2, 2]` supercell using pymatgen"
   ],
   "metadata": {}
  },
  {
   "outputs": [],
   "cell_type": "code",
   "source": [
    "pystruct = pymatgen_structure(lattice, atoms)\n",
    "pystruct.make_supercell([2, 2, 2])\n",
    "lattice = load_lattice(pystruct)\n",
    "atoms = [Si => [s.frac_coords for s in pystruct.sites]];"
   ],
   "metadata": {},
   "execution_count": 2
  },
  {
   "cell_type": "markdown",
   "source": [
    "Setup an LDA model and discretize using\n",
    "a single kpoint and a small `Ecut` of 5 Hartree."
   ],
   "metadata": {}
  },
  {
   "outputs": [
    {
     "output_type": "execute_result",
     "data": {
      "text/plain": "PlaneWaveBasis (Ecut=5.0, 1 kpoints)"
     },
     "metadata": {},
     "execution_count": 3
    }
   ],
   "cell_type": "code",
   "source": [
    "model = model_LDA(lattice, atoms)\n",
    "basis = PlaneWaveBasis(model, 5, kgrid=(1, 1, 1))"
   ],
   "metadata": {},
   "execution_count": 3
  },
  {
   "cell_type": "markdown",
   "source": [
    "Find the ground state using direct minimisation (always using SCF is boring ...)"
   ],
   "metadata": {}
  },
  {
   "outputs": [
    {
     "name": "stdout",
     "output_type": "stream",
     "text": [
      "Iter     Function value   Gradient norm \n",
      "     0     1.120732e+02     1.548328e+00\n",
      " * time: 0.734083890914917\n",
      "     1     1.051803e+01     8.411327e-01\n",
      " * time: 2.0006399154663086\n",
      "     2    -1.216414e+01     9.948632e-01\n",
      " * time: 2.676654815673828\n",
      "     3    -3.421532e+01     7.160164e-01\n",
      " * time: 3.6419880390167236\n",
      "     4    -4.792789e+01     4.853440e-01\n",
      " * time: 4.611682891845703\n",
      "     5    -5.692338e+01     1.623754e-01\n",
      " * time: 5.5798180103302\n",
      "     6    -5.972911e+01     1.261209e-01\n",
      " * time: 6.222069025039673\n",
      "     7    -6.085427e+01     5.247603e-02\n",
      " * time: 6.872222900390625\n",
      "     8    -6.130150e+01     6.389584e-02\n",
      " * time: 7.514561891555786\n",
      "     9    -6.161698e+01     3.883126e-02\n",
      " * time: 8.176854848861694\n",
      "    10    -6.184311e+01     2.564056e-02\n",
      " * time: 8.822357892990112\n",
      "    11    -6.200856e+01     2.101894e-02\n",
      " * time: 9.46508502960205\n",
      "    12    -6.207294e+01     2.046114e-02\n",
      " * time: 10.110251903533936\n",
      "    13    -6.214013e+01     1.359340e-02\n",
      " * time: 10.754849910736084\n",
      "    14    -6.216871e+01     1.286530e-02\n",
      " * time: 11.393785953521729\n",
      "    15    -6.219252e+01     1.150583e-02\n",
      " * time: 12.028358936309814\n",
      "    16    -6.220420e+01     7.895719e-03\n",
      " * time: 12.668715953826904\n",
      "    17    -6.221393e+01     5.416505e-03\n",
      " * time: 13.312052965164185\n",
      "    18    -6.222214e+01     5.613745e-03\n",
      " * time: 13.961539030075073\n",
      "    19    -6.222940e+01     6.027422e-03\n",
      " * time: 14.606266975402832\n",
      "    20    -6.223655e+01     6.047049e-03\n",
      " * time: 15.252306938171387\n",
      "    21    -6.224355e+01     5.853438e-03\n",
      " * time: 15.908378839492798\n",
      "    22    -6.224980e+01     4.136754e-03\n",
      " * time: 16.54878282546997\n",
      "    23    -6.225447e+01     4.579797e-03\n",
      " * time: 17.189373016357422\n",
      "    24    -6.225745e+01     3.566279e-03\n",
      " * time: 17.826887845993042\n",
      "    25    -6.225905e+01     2.331502e-03\n",
      " * time: 18.50202202796936\n",
      "    26    -6.225996e+01     1.658597e-03\n",
      " * time: 19.1434109210968\n",
      "    27    -6.226051e+01     1.481925e-03\n",
      " * time: 19.78739094734192\n",
      "    28    -6.226088e+01     1.122588e-03\n",
      " * time: 20.42888593673706\n",
      "    29    -6.226114e+01     1.063536e-03\n",
      " * time: 21.077236890792847\n",
      "    30    -6.226133e+01     9.430794e-04\n",
      " * time: 21.720974922180176\n",
      "    31    -6.226147e+01     1.003539e-03\n",
      " * time: 22.3730149269104\n",
      "    32    -6.226156e+01     6.285019e-04\n",
      " * time: 23.020025968551636\n",
      "    33    -6.226161e+01     3.666937e-04\n",
      " * time: 23.664981842041016\n",
      "    34    -6.226164e+01     2.098979e-04\n",
      " * time: 24.310138940811157\n",
      "    35    -6.226165e+01     1.620636e-04\n",
      " * time: 24.954376935958862\n",
      "    36    -6.226166e+01     1.387793e-04\n",
      " * time: 25.593684911727905\n",
      "    37    -6.226166e+01     1.093301e-04\n",
      " * time: 26.24347996711731\n",
      "    38    -6.226166e+01     8.655420e-05\n",
      " * time: 26.88041090965271\n",
      "    39    -6.226166e+01     6.706236e-05\n",
      " * time: 27.513803958892822\n",
      "    40    -6.226167e+01     6.283836e-05\n",
      " * time: 28.15095090866089\n",
      "    41    -6.226167e+01     4.847504e-05\n",
      " * time: 28.797452926635742\n",
      "    42    -6.226167e+01     2.919326e-05\n",
      " * time: 29.44828486442566\n",
      "    43    -6.226167e+01     2.443252e-05\n",
      " * time: 30.086975812911987\n",
      "    44    -6.226167e+01     1.757146e-05\n",
      " * time: 30.72068691253662\n",
      "    45    -6.226167e+01     1.566046e-05\n",
      " * time: 31.35956382751465\n",
      "    46    -6.226167e+01     1.008927e-05\n",
      " * time: 32.0015709400177\n",
      "    47    -6.226167e+01     6.877571e-06\n",
      " * time: 32.631722927093506\n",
      "    48    -6.226167e+01     4.391406e-06\n",
      " * time: 33.27283787727356\n",
      "    49    -6.226167e+01     3.379197e-06\n",
      " * time: 33.91446590423584\n",
      "    50    -6.226167e+01     2.437058e-06\n",
      " * time: 34.55970287322998\n"
     ]
    }
   ],
   "cell_type": "code",
   "source": [
    "scfres = direct_minimization(basis, tol=1e-5);"
   ],
   "metadata": {},
   "execution_count": 4
  },
  {
   "outputs": [
    {
     "output_type": "execute_result",
     "data": {
      "text/plain": "Energy breakdown:\n    Kinetic             25.7671068\n    AtomicLocal         -18.8557663\n    AtomicNonlocal      14.8522633\n    Ewald               -67.1831486\n    PspCorrection       -2.3569765\n    Hartree             4.8485370 \n    Xc                  -19.3336820\n\n    total               -62.261666460493\n"
     },
     "metadata": {},
     "execution_count": 5
    }
   ],
   "cell_type": "code",
   "source": [
    "scfres.energies"
   ],
   "metadata": {},
   "execution_count": 5
  }
 ],
 "nbformat_minor": 3,
 "metadata": {
  "language_info": {
   "file_extension": ".jl",
   "mimetype": "application/julia",
   "name": "julia",
   "version": "1.6.2"
  },
  "kernelspec": {
   "name": "julia-1.6",
   "display_name": "Julia 1.6.2",
   "language": "julia"
  }
 },
 "nbformat": 4
}
