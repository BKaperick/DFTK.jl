{
 "cells": [
  {
   "cell_type": "markdown",
   "source": [
    "# Creating supercells with pymatgen\n",
    "\n",
    "The [Pymatgen](https://pymatgen.org/) python library allows to setup\n",
    "solid-state calculations using a flexible set of classes as well as an API\n",
    "to an online data base of structures. Its `Structure` and `Lattice`\n",
    "objects are directly supported by the DFTK `load_atoms` and `load_lattice`\n",
    "functions, such that DFTK may be readily used to run calculation on systems\n",
    "defined in pymatgen. Using the `pymatgen_structure` function a conversion\n",
    "from DFTK to pymatgen structures is also possible. In the following we\n",
    "use this to create a silicon supercell and find its LDA ground state\n",
    "using direct minimisation."
   ],
   "metadata": {}
  },
  {
   "cell_type": "markdown",
   "source": [
    "First we setup the silicon lattice in DFTK."
   ],
   "metadata": {}
  },
  {
   "outputs": [],
   "cell_type": "code",
   "source": [
    "using DFTK\n",
    "\n",
    "a = 10.263141334305942  # Lattice constant in Bohr\n",
    "lattice = a / 2 .* [[0 1 1.]; [1 0 1.]; [1 1 0.]]\n",
    "Si = ElementPsp(:Si, psp=load_psp(\"hgh/lda/Si-q4\"))\n",
    "atoms = [Si => [ones(3)/8, -ones(3)/8]];"
   ],
   "metadata": {},
   "execution_count": 1
  },
  {
   "cell_type": "markdown",
   "source": [
    "Next we make a `[2, 2, 2]` supercell using pymatgen"
   ],
   "metadata": {}
  },
  {
   "outputs": [],
   "cell_type": "code",
   "source": [
    "pystruct = pymatgen_structure(lattice, atoms)\n",
    "pystruct.make_supercell([2, 2, 2])\n",
    "lattice = load_lattice(pystruct)\n",
    "atoms = [Si => [s.frac_coords for s in pystruct.sites]];"
   ],
   "metadata": {},
   "execution_count": 2
  },
  {
   "cell_type": "markdown",
   "source": [
    "Setup an LDA model and discretize using\n",
    "a single kpoint and a small `Ecut` of 5 Hartree."
   ],
   "metadata": {}
  },
  {
   "outputs": [
    {
     "output_type": "execute_result",
     "data": {
      "text/plain": "PlaneWaveBasis (Ecut=5.0, 1 kpoints)"
     },
     "metadata": {},
     "execution_count": 3
    }
   ],
   "cell_type": "code",
   "source": [
    "model = model_LDA(lattice, atoms)\n",
    "basis = PlaneWaveBasis(model, 5, kgrid=(1, 1, 1))"
   ],
   "metadata": {},
   "execution_count": 3
  },
  {
   "cell_type": "markdown",
   "source": [
    "Find the ground state using direct minimisation (always using SCF is boring ...)"
   ],
   "metadata": {}
  },
  {
   "outputs": [
    {
     "name": "stdout",
     "output_type": "stream",
     "text": [
      "Iter     Function value   Gradient norm \n",
      "     0     1.122737e+02     1.592957e+00\n",
      " * time: 0.6891539096832275\n",
      "     1     1.105512e+01     9.618065e-01\n",
      " * time: 3.210170030593872\n",
      "     2    -1.178277e+01     1.035717e+00\n",
      " * time: 3.8008508682250977\n",
      "     3    -3.381059e+01     8.631083e-01\n",
      " * time: 4.72448992729187\n",
      "     4    -4.732473e+01     6.752086e-01\n",
      " * time: 5.646566867828369\n",
      "     5    -5.659649e+01     2.424961e-01\n",
      " * time: 6.538017988204956\n",
      "     6    -5.947681e+01     1.964552e-01\n",
      " * time: 7.166640043258667\n",
      "     7    -6.071827e+01     7.084547e-02\n",
      " * time: 7.792325973510742\n",
      "     8    -6.127306e+01     4.212211e-02\n",
      " * time: 8.41960597038269\n",
      "     9    -6.157320e+01     4.078909e-02\n",
      " * time: 9.073256015777588\n",
      "    10    -6.176176e+01     3.107483e-02\n",
      " * time: 9.688848972320557\n",
      "    11    -6.193052e+01     2.297163e-02\n",
      " * time: 10.302114009857178\n",
      "    12    -6.203556e+01     1.679735e-02\n",
      " * time: 10.933093070983887\n",
      "    13    -6.208374e+01     1.486867e-02\n",
      " * time: 11.558602094650269\n",
      "    14    -6.213848e+01     1.515669e-02\n",
      " * time: 12.160638093948364\n",
      "    15    -6.216297e+01     1.260547e-02\n",
      " * time: 12.744860887527466\n",
      "    16    -6.218441e+01     9.100705e-03\n",
      " * time: 13.351032972335815\n",
      "    17    -6.219712e+01     7.201290e-03\n",
      " * time: 13.961986064910889\n",
      "    18    -6.220724e+01     6.954336e-03\n",
      " * time: 14.594472885131836\n",
      "    19    -6.221531e+01     6.410258e-03\n",
      " * time: 15.216305017471313\n",
      "    20    -6.222289e+01     6.123072e-03\n",
      " * time: 15.816931009292603\n",
      "    21    -6.223039e+01     8.140936e-03\n",
      " * time: 16.433177947998047\n",
      "    22    -6.223792e+01     5.381475e-03\n",
      " * time: 17.051876068115234\n",
      "    23    -6.224491e+01     6.532856e-03\n",
      " * time: 17.65942406654358\n",
      "    24    -6.225069e+01     4.840288e-03\n",
      " * time: 18.29611897468567\n",
      "    25    -6.225461e+01     4.182093e-03\n",
      " * time: 18.899769067764282\n",
      "    26    -6.225706e+01     3.584546e-03\n",
      " * time: 19.507462978363037\n",
      "    27    -6.225861e+01     2.790764e-03\n",
      " * time: 20.1322979927063\n",
      "    28    -6.225961e+01     1.950800e-03\n",
      " * time: 20.749887943267822\n",
      "    29    -6.226028e+01     1.771210e-03\n",
      " * time: 21.378707885742188\n",
      "    30    -6.226075e+01     1.395973e-03\n",
      " * time: 22.02417492866516\n",
      "    31    -6.226108e+01     1.054199e-03\n",
      " * time: 22.666626930236816\n",
      "    32    -6.226132e+01     8.707557e-04\n",
      " * time: 23.27231001853943\n",
      "    33    -6.226148e+01     6.532745e-04\n",
      " * time: 23.8908109664917\n",
      "    34    -6.226158e+01     5.292361e-04\n",
      " * time: 24.47686791419983\n",
      "    35    -6.226162e+01     3.776452e-04\n",
      " * time: 25.07190990447998\n",
      "    36    -6.226164e+01     2.950350e-04\n",
      " * time: 25.698074102401733\n",
      "    37    -6.226165e+01     1.751338e-04\n",
      " * time: 26.34964394569397\n",
      "    38    -6.226166e+01     1.274922e-04\n",
      " * time: 26.963640928268433\n",
      "    39    -6.226166e+01     8.853420e-05\n",
      " * time: 27.574328899383545\n",
      "    40    -6.226166e+01     7.281050e-05\n",
      " * time: 28.263874053955078\n",
      "    41    -6.226166e+01     7.918175e-05\n",
      " * time: 28.840399026870728\n",
      "    42    -6.226167e+01     5.707933e-05\n",
      " * time: 29.49239706993103\n",
      "    43    -6.226167e+01     5.685507e-05\n",
      " * time: 30.12182307243347\n",
      "    44    -6.226167e+01     3.424633e-05\n",
      " * time: 30.723180055618286\n",
      "    45    -6.226167e+01     2.565819e-05\n",
      " * time: 31.339335918426514\n",
      "    46    -6.226167e+01     2.183592e-05\n",
      " * time: 31.961355924606323\n",
      "    47    -6.226167e+01     1.499249e-05\n",
      " * time: 32.57894492149353\n",
      "    48    -6.226167e+01     1.076826e-05\n",
      " * time: 33.18714094161987\n",
      "    49    -6.226167e+01     7.730723e-06\n",
      " * time: 33.791483879089355\n",
      "    50    -6.226167e+01     5.225111e-06\n",
      " * time: 34.42881202697754\n"
     ]
    }
   ],
   "cell_type": "code",
   "source": [
    "scfres = direct_minimization(basis, tol=1e-5);"
   ],
   "metadata": {},
   "execution_count": 4
  },
  {
   "outputs": [
    {
     "output_type": "execute_result",
     "data": {
      "text/plain": "Energy breakdown:\n    Kinetic             25.7671061\n    AtomicLocal         -18.8557696\n    AtomicNonlocal      14.8522673\n    Ewald               -67.1831486\n    PspCorrection       -2.3569765\n    Hartree             4.8485367 \n    Xc                  -19.3336818\n\n    total               -62.261666452663\n"
     },
     "metadata": {},
     "execution_count": 5
    }
   ],
   "cell_type": "code",
   "source": [
    "scfres.energies"
   ],
   "metadata": {},
   "execution_count": 5
  }
 ],
 "nbformat_minor": 3,
 "metadata": {
  "language_info": {
   "file_extension": ".jl",
   "mimetype": "application/julia",
   "name": "julia",
   "version": "1.6.1"
  },
  "kernelspec": {
   "name": "julia-1.6",
   "display_name": "Julia 1.6.1",
   "language": "julia"
  }
 },
 "nbformat": 4
}
