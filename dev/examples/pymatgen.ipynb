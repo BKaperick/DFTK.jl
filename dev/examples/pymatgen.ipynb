{
 "cells": [
  {
   "cell_type": "markdown",
   "source": [
    "# Creating supercells with pymatgen\n",
    "\n",
    "The [Pymatgen](https://pymatgen.org/) python library allows to setup\n",
    "solid-state calculations using a flexible set of classes as well as an API\n",
    "to an online data base of structures. Its `Structure` and `Lattice`\n",
    "objects are directly supported by the DFTK `load_atoms` and `load_lattice`\n",
    "functions, such that DFTK may be readily used to run calculation on systems\n",
    "defined in pymatgen. Using the `pymatgen_structure` function a conversion\n",
    "from DFTK to pymatgen structures is also possible. In the following we\n",
    "use this to create a silicon supercell and find its LDA ground state\n",
    "using direct minimisation."
   ],
   "metadata": {}
  },
  {
   "cell_type": "markdown",
   "source": [
    "First we setup the silicon lattice in DFTK."
   ],
   "metadata": {}
  },
  {
   "outputs": [],
   "cell_type": "code",
   "source": [
    "using DFTK\n",
    "\n",
    "a = 10.263141334305942  # Lattice constant in Bohr\n",
    "lattice = a / 2 .* [[0 1 1.]; [1 0 1.]; [1 1 0.]]\n",
    "Si = ElementPsp(:Si, psp=load_psp(\"hgh/lda/Si-q4\"))\n",
    "atoms = [Si => [ones(3)/8, -ones(3)/8]];"
   ],
   "metadata": {},
   "execution_count": 1
  },
  {
   "cell_type": "markdown",
   "source": [
    "Next we make a `[2, 2, 2]` supercell using pymatgen"
   ],
   "metadata": {}
  },
  {
   "outputs": [],
   "cell_type": "code",
   "source": [
    "pystruct = pymatgen_structure(lattice, atoms)\n",
    "pystruct.make_supercell([2, 2, 2])\n",
    "lattice = load_lattice(pystruct)\n",
    "atoms = [Si => [s.frac_coords for s in pystruct.sites]];"
   ],
   "metadata": {},
   "execution_count": 2
  },
  {
   "cell_type": "markdown",
   "source": [
    "Setup an LDA model and discretize using\n",
    "a single kpoint and a small `Ecut` of 5 Hartree."
   ],
   "metadata": {}
  },
  {
   "outputs": [
    {
     "output_type": "execute_result",
     "data": {
      "text/plain": "PlaneWaveBasis (Ecut=5.0, 1 kpoints)"
     },
     "metadata": {},
     "execution_count": 3
    }
   ],
   "cell_type": "code",
   "source": [
    "model = model_LDA(lattice, atoms)\n",
    "basis = PlaneWaveBasis(model, 5, kgrid=(1, 1, 1))"
   ],
   "metadata": {},
   "execution_count": 3
  },
  {
   "cell_type": "markdown",
   "source": [
    "Find the ground state using direct minimisation (always using SCF is boring ...)"
   ],
   "metadata": {}
  },
  {
   "outputs": [
    {
     "name": "stdout",
     "output_type": "stream",
     "text": [
      "Iter     Function value   Gradient norm \n",
      "     0     1.122856e+02     1.634875e+00\n",
      " * time: 0.35370707511901855\n",
      "     1     1.119221e+01     8.673287e-01\n",
      " * time: 2.16194486618042\n",
      "     2    -1.200182e+01     1.033060e+00\n",
      " * time: 2.8036069869995117\n",
      "     3    -3.408316e+01     7.871606e-01\n",
      " * time: 3.7528879642486572\n",
      "     4    -4.770500e+01     5.806629e-01\n",
      " * time: 4.631706953048706\n",
      "     5    -5.684546e+01     2.775951e-01\n",
      " * time: 5.534621953964233\n",
      "     6    -5.972820e+01     1.918756e-01\n",
      " * time: 6.145789861679077\n",
      "     7    -6.085722e+01     5.897904e-02\n",
      " * time: 6.749543905258179\n",
      "     8    -6.129395e+01     8.250207e-02\n",
      " * time: 7.354156017303467\n",
      "     9    -6.155021e+01     6.369585e-02\n",
      " * time: 7.963732957839966\n",
      "    10    -6.175255e+01     2.751149e-02\n",
      " * time: 8.575260877609253\n",
      "    11    -6.190148e+01     2.254178e-02\n",
      " * time: 9.178956031799316\n",
      "    12    -6.197360e+01     2.118766e-02\n",
      " * time: 9.789720058441162\n",
      "    13    -6.204873e+01     1.732777e-02\n",
      " * time: 10.387896060943604\n",
      "    14    -6.210118e+01     1.465186e-02\n",
      " * time: 10.994071960449219\n",
      "    15    -6.215064e+01     1.462273e-02\n",
      " * time: 11.61665391921997\n",
      "    16    -6.218102e+01     1.280449e-02\n",
      " * time: 12.226929903030396\n",
      "    17    -6.220126e+01     1.095201e-02\n",
      " * time: 12.827035903930664\n",
      "    18    -6.221394e+01     9.240607e-03\n",
      " * time: 13.428238868713379\n",
      "    19    -6.222267e+01     7.308700e-03\n",
      " * time: 14.031771898269653\n",
      "    20    -6.222937e+01     5.851627e-03\n",
      " * time: 14.62634801864624\n",
      "    21    -6.223543e+01     5.585370e-03\n",
      " * time: 15.23143196105957\n",
      "    22    -6.224143e+01     4.561529e-03\n",
      " * time: 15.8352370262146\n",
      "    23    -6.224714e+01     4.551808e-03\n",
      " * time: 16.435945987701416\n",
      "    24    -6.225197e+01     4.876700e-03\n",
      " * time: 17.043817043304443\n",
      "    25    -6.225569e+01     3.803962e-03\n",
      " * time: 17.63708806037903\n",
      "    26    -6.225819e+01     2.437391e-03\n",
      " * time: 18.233525037765503\n",
      "    27    -6.225962e+01     1.718724e-03\n",
      " * time: 18.831904888153076\n",
      "    28    -6.226038e+01     1.475788e-03\n",
      " * time: 19.449477910995483\n",
      "    29    -6.226083e+01     1.180874e-03\n",
      " * time: 20.047379970550537\n",
      "    30    -6.226110e+01     1.055567e-03\n",
      " * time: 20.641825914382935\n",
      "    31    -6.226128e+01     8.256697e-04\n",
      " * time: 21.24603295326233\n",
      "    32    -6.226140e+01     8.059777e-04\n",
      " * time: 21.872267961502075\n",
      "    33    -6.226151e+01     5.667872e-04\n",
      " * time: 22.496708869934082\n",
      "    34    -6.226158e+01     4.037171e-04\n",
      " * time: 23.11792302131653\n",
      "    35    -6.226163e+01     2.929414e-04\n",
      " * time: 23.73814105987549\n",
      "    36    -6.226165e+01     2.602215e-04\n",
      " * time: 24.336591005325317\n",
      "    37    -6.226166e+01     1.828312e-04\n",
      " * time: 24.940518856048584\n",
      "    38    -6.226166e+01     1.369565e-04\n",
      " * time: 25.54084587097168\n",
      "    39    -6.226166e+01     1.082963e-04\n",
      " * time: 26.14361000061035\n",
      "    40    -6.226166e+01     8.627814e-05\n",
      " * time: 26.75327205657959\n",
      "    41    -6.226167e+01     6.128225e-05\n",
      " * time: 27.356934070587158\n",
      "    42    -6.226167e+01     4.320573e-05\n",
      " * time: 27.95882487297058\n",
      "    43    -6.226167e+01     3.969336e-05\n",
      " * time: 28.56460404396057\n",
      "    44    -6.226167e+01     2.713162e-05\n",
      " * time: 29.15764808654785\n",
      "    45    -6.226167e+01     2.233796e-05\n",
      " * time: 29.76303791999817\n",
      "    46    -6.226167e+01     1.990213e-05\n",
      " * time: 30.380308866500854\n",
      "    47    -6.226167e+01     1.570954e-05\n",
      " * time: 30.982277870178223\n",
      "    48    -6.226167e+01     9.040731e-06\n",
      " * time: 31.60219097137451\n",
      "    49    -6.226167e+01     6.713935e-06\n",
      " * time: 32.20661401748657\n",
      "    50    -6.226167e+01     4.653817e-06\n",
      " * time: 32.81464505195618\n",
      "    51    -6.226167e+01     3.500111e-06\n",
      " * time: 33.41051006317139\n"
     ]
    }
   ],
   "cell_type": "code",
   "source": [
    "scfres = direct_minimization(basis, tol=1e-5);"
   ],
   "metadata": {},
   "execution_count": 4
  },
  {
   "outputs": [
    {
     "output_type": "execute_result",
     "data": {
      "text/plain": "Energy breakdown:\n    Kinetic             25.7671065\n    AtomicLocal         -18.8557651\n    AtomicNonlocal      14.8522627\n    Ewald               -67.1831486\n    PspCorrection       -2.3569765\n    Hartree             4.8485362 \n    Xc                  -19.3336817\n\n    total               -62.261666458230\n"
     },
     "metadata": {},
     "execution_count": 5
    }
   ],
   "cell_type": "code",
   "source": [
    "scfres.energies"
   ],
   "metadata": {},
   "execution_count": 5
  }
 ],
 "nbformat_minor": 3,
 "metadata": {
  "language_info": {
   "file_extension": ".jl",
   "mimetype": "application/julia",
   "name": "julia",
   "version": "1.5.3"
  },
  "kernelspec": {
   "name": "julia-1.5",
   "display_name": "Julia 1.5.3",
   "language": "julia"
  }
 },
 "nbformat": 4
}
