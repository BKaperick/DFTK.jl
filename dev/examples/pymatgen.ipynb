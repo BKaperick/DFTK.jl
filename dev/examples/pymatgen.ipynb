{
 "cells": [
  {
   "cell_type": "markdown",
   "source": [
    "# Creating supercells with pymatgen\n",
    "\n",
    "The [Pymatgen](https://pymatgen.org/) python library allows to setup\n",
    "solid-state calculations using a flexible set of classes as well as an API\n",
    "to an online data base of structures. Its `Structure` and `Lattice`\n",
    "objects are directly supported by the DFTK `load_atoms` and `load_lattice`\n",
    "functions, such that DFTK may be readily used to run calculation on systems\n",
    "defined in pymatgen. Using the `pymatgen_structure` function a conversion\n",
    "from DFTK to pymatgen structures is also possible. In the following we\n",
    "use this to create a silicon supercell and find its LDA ground state\n",
    "using direct minimisation."
   ],
   "metadata": {}
  },
  {
   "cell_type": "markdown",
   "source": [
    "First we setup the silicon lattice in DFTK."
   ],
   "metadata": {}
  },
  {
   "outputs": [],
   "cell_type": "code",
   "source": [
    "using DFTK\n",
    "\n",
    "a = 10.263141334305942  # Lattice constant in Bohr\n",
    "lattice = a / 2 .* [[0 1 1.]; [1 0 1.]; [1 1 0.]]\n",
    "Si = ElementPsp(:Si, psp=load_psp(\"hgh/lda/Si-q4\"))\n",
    "atoms = [Si => [ones(3)/8, -ones(3)/8]];"
   ],
   "metadata": {},
   "execution_count": 1
  },
  {
   "cell_type": "markdown",
   "source": [
    "Next we make a `[2, 2, 2]` supercell using pymatgen"
   ],
   "metadata": {}
  },
  {
   "outputs": [],
   "cell_type": "code",
   "source": [
    "pystruct = pymatgen_structure(lattice, atoms)\n",
    "pystruct.make_supercell([2, 2, 2])\n",
    "lattice = load_lattice(pystruct)\n",
    "atoms = [Si => [s.frac_coords for s in pystruct.sites]];"
   ],
   "metadata": {},
   "execution_count": 2
  },
  {
   "cell_type": "markdown",
   "source": [
    "Setup an LDA model and discretize using\n",
    "a single kpoint and a small `Ecut` of 5 Hartree."
   ],
   "metadata": {}
  },
  {
   "outputs": [
    {
     "output_type": "execute_result",
     "data": {
      "text/plain": "PlaneWaveBasis (Ecut=5.0, 1 kpoints)"
     },
     "metadata": {},
     "execution_count": 3
    }
   ],
   "cell_type": "code",
   "source": [
    "model = model_LDA(lattice, atoms)\n",
    "basis = PlaneWaveBasis(model, 5, kgrid=(1, 1, 1))"
   ],
   "metadata": {},
   "execution_count": 3
  },
  {
   "cell_type": "markdown",
   "source": [
    "Find the ground state using direct minimisation (always using SCF is boring ...)"
   ],
   "metadata": {}
  },
  {
   "outputs": [
    {
     "name": "stdout",
     "output_type": "stream",
     "text": [
      "Iter     Function value   Gradient norm \n",
      "     0     1.120176e+02     1.696095e+00\n",
      " * time: 0.8041019439697266\n",
      "     1     1.105720e+01     1.086551e+00\n",
      " * time: 3.409572124481201\n",
      "     2    -1.125991e+01     1.105889e+00\n",
      " * time: 4.099808931350708\n",
      "     3    -3.357207e+01     8.889625e-01\n",
      " * time: 5.11748194694519\n",
      "     4    -4.722443e+01     6.947145e-01\n",
      " * time: 6.098887920379639\n",
      "     5    -5.665492e+01     2.220052e-01\n",
      " * time: 7.121997117996216\n",
      "     6    -5.965648e+01     1.355719e-01\n",
      " * time: 7.8200600147247314\n",
      "     7    -6.081371e+01     5.478583e-02\n",
      " * time: 8.509582042694092\n",
      "     8    -6.124078e+01     6.818591e-02\n",
      " * time: 9.199940919876099\n",
      "     9    -6.152511e+01     4.439267e-02\n",
      " * time: 9.88260006904602\n",
      "    10    -6.175443e+01     3.595450e-02\n",
      " * time: 10.569936037063599\n",
      "    11    -6.193439e+01     2.871679e-02\n",
      " * time: 11.260606050491333\n",
      "    12    -6.200804e+01     2.462809e-02\n",
      " * time: 11.941401958465576\n",
      "    13    -6.208258e+01     2.052742e-02\n",
      " * time: 12.642647981643677\n",
      "    14    -6.212029e+01     1.822395e-02\n",
      " * time: 13.340532064437866\n",
      "    15    -6.215856e+01     1.317788e-02\n",
      " * time: 14.01575493812561\n",
      "    16    -6.218157e+01     1.004058e-02\n",
      " * time: 14.710679054260254\n",
      "    17    -6.219605e+01     8.359530e-03\n",
      " * time: 15.439438104629517\n",
      "    18    -6.220700e+01     6.424506e-03\n",
      " * time: 16.14710807800293\n",
      "    19    -6.221450e+01     5.813734e-03\n",
      " * time: 16.832353115081787\n",
      "    20    -6.222100e+01     7.117241e-03\n",
      " * time: 17.51128911972046\n",
      "    21    -6.222762e+01     6.097684e-03\n",
      " * time: 18.20067310333252\n",
      "    22    -6.223464e+01     5.790759e-03\n",
      " * time: 18.892316102981567\n",
      "    23    -6.224195e+01     5.389924e-03\n",
      " * time: 19.570789098739624\n",
      "    24    -6.224827e+01     5.499382e-03\n",
      " * time: 20.257261991500854\n",
      "    25    -6.225298e+01     4.920384e-03\n",
      " * time: 20.947089910507202\n",
      "    26    -6.225615e+01     3.715305e-03\n",
      " * time: 21.64446997642517\n",
      "    27    -6.225808e+01     2.578839e-03\n",
      " * time: 22.31850790977478\n",
      "    28    -6.225923e+01     2.336313e-03\n",
      " * time: 23.002645015716553\n",
      "    29    -6.225996e+01     1.893455e-03\n",
      " * time: 23.691792011260986\n",
      "    30    -6.226050e+01     1.590234e-03\n",
      " * time: 24.383235931396484\n",
      "    31    -6.226092e+01     1.405586e-03\n",
      " * time: 25.053597927093506\n",
      "    32    -6.226122e+01     1.121271e-03\n",
      " * time: 25.742865085601807\n",
      "    33    -6.226143e+01     9.061859e-04\n",
      " * time: 26.416038036346436\n",
      "    34    -6.226155e+01     6.121572e-04\n",
      " * time: 27.10110092163086\n",
      "    35    -6.226161e+01     4.325706e-04\n",
      " * time: 27.775919914245605\n",
      "    36    -6.226164e+01     2.747853e-04\n",
      " * time: 28.4668710231781\n",
      "    37    -6.226165e+01     1.893771e-04\n",
      " * time: 29.16328501701355\n",
      "    38    -6.226166e+01     1.267695e-04\n",
      " * time: 29.858886003494263\n",
      "    39    -6.226166e+01     1.071068e-04\n",
      " * time: 30.521250009536743\n",
      "    40    -6.226166e+01     9.212994e-05\n",
      " * time: 31.199285984039307\n",
      "    41    -6.226166e+01     6.920594e-05\n",
      " * time: 31.87128210067749\n",
      "    42    -6.226167e+01     5.086853e-05\n",
      " * time: 32.56125497817993\n",
      "    43    -6.226167e+01     4.790635e-05\n",
      " * time: 33.2663631439209\n",
      "    44    -6.226167e+01     3.960925e-05\n",
      " * time: 33.9531569480896\n",
      "    45    -6.226167e+01     3.019109e-05\n",
      " * time: 34.64509892463684\n",
      "    46    -6.226167e+01     2.226824e-05\n",
      " * time: 35.32255792617798\n",
      "    47    -6.226167e+01     1.462024e-05\n",
      " * time: 35.981574058532715\n",
      "    48    -6.226167e+01     1.191970e-05\n",
      " * time: 36.662277936935425\n",
      "    49    -6.226167e+01     7.564776e-06\n",
      " * time: 37.35138702392578\n",
      "    50    -6.226167e+01     5.414726e-06\n",
      " * time: 38.047585010528564\n",
      "    51    -6.226167e+01     6.153647e-06\n",
      " * time: 38.74945902824402\n",
      "    52    -6.226167e+01     3.920622e-06\n",
      " * time: 39.43385696411133\n"
     ]
    }
   ],
   "cell_type": "code",
   "source": [
    "scfres = direct_minimization(basis, tol=1e-5);"
   ],
   "metadata": {},
   "execution_count": 4
  },
  {
   "outputs": [
    {
     "output_type": "execute_result",
     "data": {
      "text/plain": "Energy breakdown:\n    Kinetic             25.7671069\n    AtomicLocal         -18.8557689\n    AtomicNonlocal      14.8522654\n    Ewald               -67.1831486\n    PspCorrection       -2.3569765\n    Hartree             4.8485374 \n    Xc                  -19.3336821\n\n    total               -62.261666457349\n"
     },
     "metadata": {},
     "execution_count": 5
    }
   ],
   "cell_type": "code",
   "source": [
    "scfres.energies"
   ],
   "metadata": {},
   "execution_count": 5
  }
 ],
 "nbformat_minor": 3,
 "metadata": {
  "language_info": {
   "file_extension": ".jl",
   "mimetype": "application/julia",
   "name": "julia",
   "version": "1.6.1"
  },
  "kernelspec": {
   "name": "julia-1.6",
   "display_name": "Julia 1.6.1",
   "language": "julia"
  }
 },
 "nbformat": 4
}
