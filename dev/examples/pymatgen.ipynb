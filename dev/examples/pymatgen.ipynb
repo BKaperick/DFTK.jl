{
 "cells": [
  {
   "cell_type": "markdown",
   "source": [
    "# Creating supercells with pymatgen\n",
    "\n",
    "The [Pymatgen](https://pymatgen.org/) python library allows to setup\n",
    "solid-state calculations using a flexible set of classes as well as an API\n",
    "to an online data base of structures. Its `Structure` and `Lattice`\n",
    "objects are directly supported by the DFTK `load_atoms` and `load_lattice`\n",
    "functions, such that DFTK may be readily used to run calculation on systems\n",
    "defined in pymatgen. Using the `pymatgen_structure` function a conversion\n",
    "from DFTK to pymatgen structures is also possible. In the following we\n",
    "use this to create a silicon supercell and find its LDA ground state\n",
    "using direct minimisation."
   ],
   "metadata": {}
  },
  {
   "cell_type": "markdown",
   "source": [
    "First we setup the silicon lattice in DFTK."
   ],
   "metadata": {}
  },
  {
   "outputs": [],
   "cell_type": "code",
   "source": [
    "using DFTK\n",
    "\n",
    "a = 10.263141334305942  # Lattice constant in Bohr\n",
    "lattice = a / 2 .* [[0 1 1.]; [1 0 1.]; [1 1 0.]]\n",
    "Si = ElementPsp(:Si, psp=load_psp(\"hgh/lda/Si-q4\"))\n",
    "atoms = [Si => [ones(3)/8, -ones(3)/8]];"
   ],
   "metadata": {},
   "execution_count": 1
  },
  {
   "cell_type": "markdown",
   "source": [
    "Next we make a `[2, 2, 2]` supercell using pymatgen"
   ],
   "metadata": {}
  },
  {
   "outputs": [],
   "cell_type": "code",
   "source": [
    "pystruct = pymatgen_structure(lattice, atoms)\n",
    "pystruct.make_supercell([2, 2, 2])\n",
    "lattice = load_lattice(pystruct)\n",
    "atoms = [Si => [s.frac_coords for s in pystruct.sites]];"
   ],
   "metadata": {},
   "execution_count": 2
  },
  {
   "cell_type": "markdown",
   "source": [
    "Setup an LDA model and discretize using\n",
    "a single kpoint and a small `Ecut` of 5 Hartree."
   ],
   "metadata": {}
  },
  {
   "outputs": [
    {
     "output_type": "execute_result",
     "data": {
      "text/plain": "PlaneWaveBasis (Ecut=5.0, 1 kpoints)"
     },
     "metadata": {},
     "execution_count": 3
    }
   ],
   "cell_type": "code",
   "source": [
    "model = model_LDA(lattice, atoms)\n",
    "basis = PlaneWaveBasis(model, 5, kgrid=(1, 1, 1))"
   ],
   "metadata": {},
   "execution_count": 3
  },
  {
   "cell_type": "markdown",
   "source": [
    "Find the ground state using direct minimisation (always using SCF is boring ...)"
   ],
   "metadata": {}
  },
  {
   "outputs": [
    {
     "name": "stdout",
     "output_type": "stream",
     "text": [
      "Iter     Function value   Gradient norm \n",
      "     0     1.116584e+02     1.555192e+00\n",
      " * time: 0.06557297706604004\n",
      "     1     1.033659e+01     9.556110e-01\n",
      " * time: 1.2989130020141602\n",
      "     2    -1.200258e+01     1.061363e+00\n",
      " * time: 1.3850629329681396\n",
      "     3    -3.439596e+01     8.183056e-01\n",
      " * time: 1.4652128219604492\n",
      "     4    -4.782606e+01     6.759891e-01\n",
      " * time: 1.5530569553375244\n",
      "     5    -5.694605e+01     2.679392e-01\n",
      " * time: 1.6400988101959229\n",
      "     6    -5.968804e+01     2.424373e-01\n",
      " * time: 1.6963229179382324\n",
      "     7    -6.086131e+01     9.734727e-02\n",
      " * time: 1.7515900135040283\n",
      "     8    -6.140319e+01     5.223618e-02\n",
      " * time: 1.8159217834472656\n",
      "     9    -6.170959e+01     3.380191e-02\n",
      " * time: 1.8711168766021729\n",
      "    10    -6.189568e+01     3.814812e-02\n",
      " * time: 1.9273579120635986\n",
      "    11    -6.200385e+01     2.173575e-02\n",
      " * time: 1.9843389987945557\n",
      "    12    -6.208674e+01     1.676159e-02\n",
      " * time: 2.0467779636383057\n",
      "    13    -6.214347e+01     1.537639e-02\n",
      " * time: 2.104712963104248\n",
      "    14    -6.217278e+01     1.310224e-02\n",
      " * time: 2.1636359691619873\n",
      "    15    -6.219352e+01     9.812317e-03\n",
      " * time: 2.2222437858581543\n",
      "    16    -6.220305e+01     7.254088e-03\n",
      " * time: 2.2862229347229004\n",
      "    17    -6.221016e+01     5.880379e-03\n",
      " * time: 2.3440399169921875\n",
      "    18    -6.221553e+01     6.164319e-03\n",
      " * time: 2.4016377925872803\n",
      "    19    -6.221965e+01     5.623121e-03\n",
      " * time: 2.4654788970947266\n",
      "    20    -6.222323e+01     6.433098e-03\n",
      " * time: 2.5245399475097656\n",
      "    21    -6.222711e+01     6.674759e-03\n",
      " * time: 2.5815517902374268\n",
      "    22    -6.223160e+01     7.173941e-03\n",
      " * time: 2.6402409076690674\n",
      "    23    -6.223702e+01     7.029298e-03\n",
      " * time: 2.700963020324707\n",
      "    24    -6.224297e+01     6.718142e-03\n",
      " * time: 2.756258964538574\n",
      "    25    -6.224913e+01     4.960454e-03\n",
      " * time: 2.813231945037842\n",
      "    26    -6.225420e+01     3.594064e-03\n",
      " * time: 2.8710927963256836\n",
      "    27    -6.225723e+01     3.106783e-03\n",
      " * time: 2.9340569972991943\n",
      "    28    -6.225897e+01     2.644681e-03\n",
      " * time: 2.990041971206665\n",
      "    29    -6.225991e+01     2.208568e-03\n",
      " * time: 3.0473389625549316\n",
      "    30    -6.226052e+01     1.836818e-03\n",
      " * time: 3.109635829925537\n",
      "    31    -6.226091e+01     1.455121e-03\n",
      " * time: 3.166553020477295\n",
      "    32    -6.226119e+01     1.150720e-03\n",
      " * time: 3.2227089405059814\n",
      "    33    -6.226139e+01     7.579088e-04\n",
      " * time: 3.27848482131958\n",
      "    34    -6.226152e+01     6.160716e-04\n",
      " * time: 3.3412609100341797\n",
      "    35    -6.226159e+01     4.156838e-04\n",
      " * time: 3.398098945617676\n",
      "    36    -6.226163e+01     3.635769e-04\n",
      " * time: 3.4623448848724365\n",
      "    37    -6.226165e+01     2.230005e-04\n",
      " * time: 3.5187339782714844\n",
      "    38    -6.226166e+01     1.598688e-04\n",
      " * time: 3.578549861907959\n",
      "    39    -6.226166e+01     1.287403e-04\n",
      " * time: 3.6338260173797607\n",
      "    40    -6.226166e+01     1.017731e-04\n",
      " * time: 3.6884849071502686\n",
      "    41    -6.226166e+01     7.740547e-05\n",
      " * time: 3.743389844894409\n",
      "    42    -6.226166e+01     6.015295e-05\n",
      " * time: 3.802637815475464\n",
      "    43    -6.226167e+01     4.787323e-05\n",
      " * time: 3.8572628498077393\n",
      "    44    -6.226167e+01     3.666303e-05\n",
      " * time: 3.9138269424438477\n",
      "    45    -6.226167e+01     3.014085e-05\n",
      " * time: 3.97825288772583\n",
      "    46    -6.226167e+01     2.350145e-05\n",
      " * time: 4.036594867706299\n",
      "    47    -6.226167e+01     2.131940e-05\n",
      " * time: 4.092988967895508\n",
      "    48    -6.226167e+01     1.562330e-05\n",
      " * time: 4.151561975479126\n",
      "    49    -6.226167e+01     1.119371e-05\n",
      " * time: 4.2156829833984375\n",
      "    50    -6.226167e+01     7.413583e-06\n",
      " * time: 4.271956920623779\n",
      "    51    -6.226167e+01     5.361871e-06\n",
      " * time: 4.328065872192383\n",
      "    52    -6.226167e+01     4.856300e-06\n",
      " * time: 4.384986877441406\n",
      "    53    -6.226167e+01     3.488017e-06\n",
      " * time: 4.447311878204346\n",
      "    54    -6.226167e+01     3.033334e-06\n",
      " * time: 4.503186941146851\n",
      "    55    -6.226167e+01     2.354517e-06\n",
      " * time: 4.559875011444092\n",
      "    56    -6.226167e+01     1.916126e-06\n",
      " * time: 4.616064786911011\n"
     ]
    }
   ],
   "cell_type": "code",
   "source": [
    "scfres = direct_minimization(basis, tol=1e-5);"
   ],
   "metadata": {},
   "execution_count": 4
  },
  {
   "outputs": [
    {
     "output_type": "execute_result",
     "data": {
      "text/plain": "Energy breakdown:\n    Kinetic             25.7671070\n    AtomicLocal         -18.8557668\n    AtomicNonlocal      14.8522635\n    Ewald               -67.1831486\n    PspCorrection       -2.3569765\n    Hartree             4.8485371 \n    Xc                  -19.3336820\n\n    total               -62.261666462131\n"
     },
     "metadata": {},
     "execution_count": 5
    }
   ],
   "cell_type": "code",
   "source": [
    "scfres.energies"
   ],
   "metadata": {},
   "execution_count": 5
  }
 ],
 "nbformat_minor": 3,
 "metadata": {
  "language_info": {
   "file_extension": ".jl",
   "mimetype": "application/julia",
   "name": "julia",
   "version": "1.5.3"
  },
  "kernelspec": {
   "name": "julia-1.5",
   "display_name": "Julia 1.5.3",
   "language": "julia"
  }
 },
 "nbformat": 4
}
