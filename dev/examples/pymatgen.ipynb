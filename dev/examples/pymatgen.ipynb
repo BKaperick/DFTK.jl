{
 "cells": [
  {
   "cell_type": "markdown",
   "source": [
    "# Creating supercells with pymatgen\n",
    "\n",
    "The [Pymatgen](https://pymatgen.org/) python library allows to setup\n",
    "solid-state calculations using a flexible set of classes as well as an API\n",
    "to an online data base of structures. Its `Structure` and `Lattice`\n",
    "objects are directly supported by the DFTK `load_atoms` and `load_lattice`\n",
    "functions, such that DFTK may be readily used to run calculation on systems\n",
    "defined in pymatgen. Using the `pymatgen_structure` function a conversion\n",
    "from DFTK to pymatgen structures is also possible. In the following we\n",
    "use this to create a silicon supercell and find its LDA ground state\n",
    "using direct minimisation."
   ],
   "metadata": {}
  },
  {
   "cell_type": "markdown",
   "source": [
    "First we setup the silicon lattice in DFTK."
   ],
   "metadata": {}
  },
  {
   "outputs": [],
   "cell_type": "code",
   "source": [
    "using DFTK\n",
    "\n",
    "a = 10.263141334305942  # Lattice constant in Bohr\n",
    "lattice = a / 2 .* [[0 1 1.]; [1 0 1.]; [1 1 0.]]\n",
    "Si = ElementPsp(:Si, psp=load_psp(\"hgh/lda/Si-q4\"))\n",
    "atoms = [Si => [ones(3)/8, -ones(3)/8]];"
   ],
   "metadata": {},
   "execution_count": 1
  },
  {
   "cell_type": "markdown",
   "source": [
    "Next we make a `[2, 2, 2]` supercell using pymatgen"
   ],
   "metadata": {}
  },
  {
   "outputs": [],
   "cell_type": "code",
   "source": [
    "pystruct = pymatgen_structure(lattice, atoms)\n",
    "pystruct.make_supercell([2, 2, 2])\n",
    "lattice = load_lattice(pystruct)\n",
    "atoms = [Si => [s.frac_coords for s in pystruct.sites]];"
   ],
   "metadata": {},
   "execution_count": 2
  },
  {
   "cell_type": "markdown",
   "source": [
    "Setup an LDA model and discretize using\n",
    "a single kpoint and a small `Ecut` of 5 Hartree."
   ],
   "metadata": {}
  },
  {
   "outputs": [
    {
     "output_type": "execute_result",
     "data": {
      "text/plain": "PlaneWaveBasis (Ecut=5.0, 1 kpoints)"
     },
     "metadata": {},
     "execution_count": 3
    }
   ],
   "cell_type": "code",
   "source": [
    "model = model_LDA(lattice, atoms)\n",
    "basis = PlaneWaveBasis(model, 5, kgrid=(1, 1, 1))"
   ],
   "metadata": {},
   "execution_count": 3
  },
  {
   "cell_type": "markdown",
   "source": [
    "Find the ground state using direct minimisation (always using SCF is boring ...)"
   ],
   "metadata": {}
  },
  {
   "outputs": [
    {
     "name": "stdout",
     "output_type": "stream",
     "text": [
      "Iter     Function value   Gradient norm \n",
      "     0     1.117657e+02     1.477491e+00\n",
      " * time: 0.09445786476135254\n",
      "     1     1.102494e+01     8.954741e-01\n",
      " * time: 1.0199368000030518\n",
      "     2    -1.164921e+01     1.002777e+00\n",
      " * time: 1.1654179096221924\n",
      "     3    -3.397193e+01     8.434768e-01\n",
      " * time: 1.32082200050354\n",
      "     4    -4.744727e+01     6.162960e-01\n",
      " * time: 1.482395887374878\n",
      "     5    -5.694513e+01     2.069684e-01\n",
      " * time: 1.6342477798461914\n",
      "     6    -5.985835e+01     1.572545e-01\n",
      " * time: 1.7464938163757324\n",
      "     7    -6.096027e+01     5.607195e-02\n",
      " * time: 1.8670639991760254\n",
      "     8    -6.138554e+01     6.460250e-02\n",
      " * time: 1.9882349967956543\n",
      "     9    -6.164933e+01     4.898537e-02\n",
      " * time: 2.1010468006134033\n",
      "    10    -6.186446e+01     2.496488e-02\n",
      " * time: 2.2211549282073975\n",
      "    11    -6.201459e+01     1.965047e-02\n",
      " * time: 2.340460777282715\n",
      "    12    -6.207534e+01     1.566714e-02\n",
      " * time: 2.4543638229370117\n",
      "    13    -6.212796e+01     1.510421e-02\n",
      " * time: 2.5735838413238525\n",
      "    14    -6.215622e+01     1.178956e-02\n",
      " * time: 2.694985866546631\n",
      "    15    -6.217988e+01     1.118324e-02\n",
      " * time: 2.8043768405914307\n",
      "    16    -6.219372e+01     8.246279e-03\n",
      " * time: 2.9233288764953613\n",
      "    17    -6.220434e+01     6.602337e-03\n",
      " * time: 3.04282283782959\n",
      "    18    -6.221302e+01     5.419467e-03\n",
      " * time: 3.154778003692627\n",
      "    19    -6.222075e+01     5.810640e-03\n",
      " * time: 3.2723147869110107\n",
      "    20    -6.222803e+01     5.811540e-03\n",
      " * time: 3.389669895172119\n",
      "    21    -6.223533e+01     6.380570e-03\n",
      " * time: 3.500861883163452\n",
      "    22    -6.224231e+01     6.007215e-03\n",
      " * time: 3.6203229427337646\n",
      "    23    -6.224802e+01     5.858459e-03\n",
      " * time: 3.739900827407837\n",
      "    24    -6.225225e+01     4.846618e-03\n",
      " * time: 3.851571798324585\n",
      "    25    -6.225529e+01     3.961479e-03\n",
      " * time: 3.970733880996704\n",
      "    26    -6.225741e+01     2.989025e-03\n",
      " * time: 4.091048955917358\n",
      "    27    -6.225877e+01     2.279396e-03\n",
      " * time: 4.211872816085815\n",
      "    28    -6.225973e+01     2.056220e-03\n",
      " * time: 4.323978900909424\n",
      "    29    -6.226043e+01     1.757772e-03\n",
      " * time: 4.442331790924072\n",
      "    30    -6.226094e+01     1.319963e-03\n",
      " * time: 4.564075946807861\n",
      "    31    -6.226126e+01     1.092038e-03\n",
      " * time: 4.675736904144287\n",
      "    32    -6.226144e+01     7.301838e-04\n",
      " * time: 4.794281959533691\n",
      "    33    -6.226155e+01     4.901640e-04\n",
      " * time: 4.912402868270874\n",
      "    34    -6.226161e+01     3.659269e-04\n",
      " * time: 5.024046897888184\n",
      "    35    -6.226164e+01     2.151949e-04\n",
      " * time: 5.143689870834351\n",
      "    36    -6.226165e+01     2.276887e-04\n",
      " * time: 5.263996839523315\n",
      "    37    -6.226166e+01     1.544537e-04\n",
      " * time: 5.375797986984253\n",
      "    38    -6.226166e+01     1.538752e-04\n",
      " * time: 5.495945930480957\n",
      "    39    -6.226166e+01     1.247939e-04\n",
      " * time: 5.614101886749268\n",
      "    40    -6.226166e+01     9.970239e-05\n",
      " * time: 5.724641799926758\n",
      "    41    -6.226166e+01     7.129953e-05\n",
      " * time: 5.8410749435424805\n",
      "    42    -6.226167e+01     5.069797e-05\n",
      " * time: 5.958525896072388\n",
      "    43    -6.226167e+01     3.342990e-05\n",
      " * time: 6.072281837463379\n",
      "    44    -6.226167e+01     2.559557e-05\n",
      " * time: 6.1906418800354\n",
      "    45    -6.226167e+01     2.283012e-05\n",
      " * time: 6.309975862503052\n",
      "    46    -6.226167e+01     1.774147e-05\n",
      " * time: 6.4210309982299805\n",
      "    47    -6.226167e+01     9.447785e-06\n",
      " * time: 6.541651964187622\n",
      "    48    -6.226167e+01     7.422259e-06\n",
      " * time: 6.662191867828369\n",
      "    49    -6.226167e+01     5.540383e-06\n",
      " * time: 6.77519679069519\n",
      "    50    -6.226167e+01     3.988948e-06\n",
      " * time: 6.893266916275024\n",
      "    51    -6.226167e+01     3.224923e-06\n",
      " * time: 7.010549783706665\n",
      "    52    -6.226167e+01     3.091617e-06\n",
      " * time: 7.122567892074585\n"
     ]
    }
   ],
   "cell_type": "code",
   "source": [
    "scfres = direct_minimization(basis, tol=1e-5);"
   ],
   "metadata": {},
   "execution_count": 4
  },
  {
   "outputs": [
    {
     "output_type": "execute_result",
     "data": {
      "text/plain": "Energy breakdown:\n    Kinetic             25.7671085\n    AtomicLocal         -18.8557704\n    AtomicNonlocal      14.8522644\n    Ewald               -67.1831486\n    PspCorrection       -2.3569765\n    Hartree             4.8485391 \n    Xc                  -19.3336828\n\n    total               -62.261666459592\n"
     },
     "metadata": {},
     "execution_count": 5
    }
   ],
   "cell_type": "code",
   "source": [
    "scfres.energies"
   ],
   "metadata": {},
   "execution_count": 5
  }
 ],
 "nbformat_minor": 3,
 "metadata": {
  "language_info": {
   "file_extension": ".jl",
   "mimetype": "application/julia",
   "name": "julia",
   "version": "1.3.1"
  },
  "kernelspec": {
   "name": "julia-1.3",
   "display_name": "Julia 1.3.1",
   "language": "julia"
  }
 },
 "nbformat": 4
}
