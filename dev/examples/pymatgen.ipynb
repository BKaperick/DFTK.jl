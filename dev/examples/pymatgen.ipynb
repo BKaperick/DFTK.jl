{
 "cells": [
  {
   "cell_type": "markdown",
   "source": [
    "# Creating supercells with pymatgen\n",
    "\n",
    "The [Pymatgen](https://pymatgen.org/) python library allows to setup\n",
    "solid-state calculations using a flexible set of classes as well as an API\n",
    "to an online data base of structures. Its `Structure` and `Lattice`\n",
    "objects are directly supported by the DFTK `load_atoms` and `load_lattice`\n",
    "functions, such that DFTK may be readily used to run calculation on systems\n",
    "defined in pymatgen. Using the `pymatgen_structure` function a conversion\n",
    "from DFTK to pymatgen structures is also possible. In the following we\n",
    "use this to create a silicon supercell and find its LDA ground state\n",
    "using direct minimisation."
   ],
   "metadata": {}
  },
  {
   "cell_type": "markdown",
   "source": [
    "First we setup the silicon lattice in DFTK."
   ],
   "metadata": {}
  },
  {
   "outputs": [],
   "cell_type": "code",
   "source": [
    "using DFTK\n",
    "\n",
    "a = 10.263141334305942  # Lattice constant in Bohr\n",
    "lattice = a / 2 .* [[0 1 1.]; [1 0 1.]; [1 1 0.]]\n",
    "Si = ElementPsp(:Si, psp=load_psp(\"hgh/lda/Si-q4\"))\n",
    "atoms = [Si => [ones(3)/8, -ones(3)/8]];"
   ],
   "metadata": {},
   "execution_count": 1
  },
  {
   "cell_type": "markdown",
   "source": [
    "Next we make a `[2, 2, 2]` supercell using pymatgen"
   ],
   "metadata": {}
  },
  {
   "outputs": [],
   "cell_type": "code",
   "source": [
    "pystruct = pymatgen_structure(lattice, atoms)\n",
    "pystruct.make_supercell([2, 2, 2])\n",
    "lattice = load_lattice(pystruct)\n",
    "atoms = [Si => [s.frac_coords for s in pystruct.sites]];"
   ],
   "metadata": {},
   "execution_count": 2
  },
  {
   "cell_type": "markdown",
   "source": [
    "Setup an LDA model and discretize using\n",
    "a single kpoint and a small `Ecut` of 5 Hartree.\n",
    "Notice that `PlaneWaveBasis` defaults to just using the ``Γ``-point\n",
    "if no ``k``-point options are provided."
   ],
   "metadata": {}
  },
  {
   "outputs": [
    {
     "output_type": "execute_result",
     "data": {
      "text/plain": "PlaneWaveBasis (Ecut=5.0, 1 kpoints)"
     },
     "metadata": {},
     "execution_count": 3
    }
   ],
   "cell_type": "code",
   "source": [
    "model = model_LDA(lattice, atoms)\n",
    "basis = PlaneWaveBasis(model, 5)"
   ],
   "metadata": {},
   "execution_count": 3
  },
  {
   "cell_type": "markdown",
   "source": [
    "Find the ground state using direct minimisation (always using SCF is boring ...)"
   ],
   "metadata": {}
  },
  {
   "outputs": [
    {
     "name": "stdout",
     "output_type": "stream",
     "text": [
      "Iter     Function value   Gradient norm \n",
      "     0     1.111560e+02     1.463669e+00\n",
      " * time: 0.0861058235168457\n",
      "     1     1.102911e+01     9.070787e-01\n",
      " * time: 0.9024248123168945\n",
      "     2    -1.176678e+01     9.837010e-01\n",
      " * time: 1.0432980060577393\n",
      "     3    -3.390469e+01     7.813146e-01\n",
      " * time: 1.1939067840576172\n",
      "     4    -4.765471e+01     5.598270e-01\n",
      " * time: 1.3371779918670654\n",
      "     5    -5.706556e+01     2.131928e-01\n",
      " * time: 1.4814019203186035\n",
      "     6    -5.989692e+01     1.466281e-01\n",
      " * time: 1.5878369808197021\n",
      "     7    -6.097702e+01     5.500925e-02\n",
      " * time: 1.7000329494476318\n",
      "     8    -6.141350e+01     4.330363e-02\n",
      " * time: 1.8117659091949463\n",
      "     9    -6.165567e+01     4.321450e-02\n",
      " * time: 1.9171547889709473\n",
      "    10    -6.183407e+01     3.049451e-02\n",
      " * time: 2.0288658142089844\n",
      "    11    -6.196883e+01     2.110347e-02\n",
      " * time: 2.140554904937744\n",
      "    12    -6.205206e+01     1.755626e-02\n",
      " * time: 2.2464499473571777\n",
      "    13    -6.209490e+01     1.850567e-02\n",
      " * time: 2.358071804046631\n",
      "    14    -6.213724e+01     1.342228e-02\n",
      " * time: 2.4717798233032227\n",
      "    15    -6.215643e+01     1.102426e-02\n",
      " * time: 2.577467918395996\n",
      "    16    -6.217138e+01     7.926229e-03\n",
      " * time: 2.690581798553467\n",
      "    17    -6.218146e+01     6.590560e-03\n",
      " * time: 2.8019068241119385\n",
      "    18    -6.218955e+01     6.152366e-03\n",
      " * time: 2.907789945602417\n",
      "    19    -6.219558e+01     6.449844e-03\n",
      " * time: 3.0195958614349365\n",
      "    20    -6.220083e+01     5.546474e-03\n",
      " * time: 3.1317498683929443\n",
      "    21    -6.220554e+01     6.112627e-03\n",
      " * time: 3.2432148456573486\n",
      "    22    -6.221006e+01     5.507917e-03\n",
      " * time: 3.349630832672119\n",
      "    23    -6.221418e+01     5.094176e-03\n",
      " * time: 3.4612579345703125\n",
      "    24    -6.221803e+01     5.829979e-03\n",
      " * time: 3.5739409923553467\n",
      "    25    -6.222170e+01     5.923306e-03\n",
      " * time: 3.6794469356536865\n",
      "    26    -6.222564e+01     5.893896e-03\n",
      " * time: 3.790404796600342\n",
      "    27    -6.223027e+01     5.972869e-03\n",
      " * time: 3.903134822845459\n",
      "    28    -6.223583e+01     5.860499e-03\n",
      " * time: 4.007495880126953\n",
      "    29    -6.224219e+01     5.611104e-03\n",
      " * time: 4.118383884429932\n",
      "    30    -6.224919e+01     4.889922e-03\n",
      " * time: 4.230142831802368\n",
      "    31    -6.225380e+01     4.468012e-03\n",
      " * time: 4.334290981292725\n",
      "    32    -6.225693e+01     4.043303e-03\n",
      " * time: 4.444875955581665\n",
      "    33    -6.225894e+01     3.025922e-03\n",
      " * time: 4.5562968254089355\n",
      "    34    -6.226023e+01     2.404426e-03\n",
      " * time: 4.661419868469238\n",
      "    35    -6.226087e+01     1.473800e-03\n",
      " * time: 4.772259950637817\n",
      "    36    -6.226117e+01     9.951679e-04\n",
      " * time: 4.882597923278809\n",
      "    37    -6.226134e+01     8.786039e-04\n",
      " * time: 4.986780881881714\n",
      "    38    -6.226144e+01     6.434796e-04\n",
      " * time: 5.097263813018799\n",
      "    39    -6.226151e+01     4.793290e-04\n",
      " * time: 5.207659959793091\n",
      "    40    -6.226156e+01     4.340253e-04\n",
      " * time: 5.3123369216918945\n",
      "    41    -6.226160e+01     3.683722e-04\n",
      " * time: 5.423510789871216\n",
      "    42    -6.226163e+01     3.251326e-04\n",
      " * time: 5.534856796264648\n",
      "    43    -6.226165e+01     2.578441e-04\n",
      " * time: 5.640116930007935\n",
      "    44    -6.226166e+01     2.040409e-04\n",
      " * time: 5.751477003097534\n",
      "    45    -6.226166e+01     1.477761e-04\n",
      " * time: 5.861681938171387\n",
      "    46    -6.226166e+01     7.020773e-05\n",
      " * time: 5.965751886367798\n",
      "    47    -6.226167e+01     6.325215e-05\n",
      " * time: 6.076851844787598\n",
      "    48    -6.226167e+01     3.916291e-05\n",
      " * time: 6.187570810317993\n",
      "    49    -6.226167e+01     2.953183e-05\n",
      " * time: 6.298289775848389\n",
      "    50    -6.226167e+01     2.615320e-05\n",
      " * time: 6.402639865875244\n",
      "    51    -6.226167e+01     2.398188e-05\n",
      " * time: 6.512915849685669\n",
      "    52    -6.226167e+01     2.162206e-05\n",
      " * time: 6.624366998672485\n",
      "    53    -6.226167e+01     1.518448e-05\n",
      " * time: 6.729975938796997\n",
      "    54    -6.226167e+01     1.316244e-05\n",
      " * time: 6.841124773025513\n",
      "    55    -6.226167e+01     8.490411e-06\n",
      " * time: 6.952178955078125\n",
      "    56    -6.226167e+01     5.785998e-06\n",
      " * time: 7.057032823562622\n",
      "    57    -6.226167e+01     4.072064e-06\n",
      " * time: 7.168523788452148\n",
      "    58    -6.226167e+01     2.940316e-06\n",
      " * time: 7.280507802963257\n"
     ]
    }
   ],
   "cell_type": "code",
   "source": [
    "scfres = direct_minimization(basis, tol=1e-5);"
   ],
   "metadata": {},
   "execution_count": 4
  },
  {
   "outputs": [
    {
     "output_type": "execute_result",
     "data": {
      "text/plain": "Energy breakdown:\n    Kinetic             25.7671076\n    AtomicLocal         -18.8557687\n    AtomicNonlocal      14.8522640\n    Ewald               -67.1831486\n    PspCorrection       -2.3569765\n    Hartree             4.8485383 \n    Xc                  -19.3336825\n\n    total               -62.261666460348\n"
     },
     "metadata": {},
     "execution_count": 5
    }
   ],
   "cell_type": "code",
   "source": [
    "scfres.energies"
   ],
   "metadata": {},
   "execution_count": 5
  }
 ],
 "nbformat_minor": 3,
 "metadata": {
  "language_info": {
   "file_extension": ".jl",
   "mimetype": "application/julia",
   "name": "julia",
   "version": "1.3.1"
  },
  "kernelspec": {
   "name": "julia-1.3",
   "display_name": "Julia 1.3.1",
   "language": "julia"
  }
 },
 "nbformat": 4
}
