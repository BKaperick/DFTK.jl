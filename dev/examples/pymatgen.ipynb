{
 "cells": [
  {
   "cell_type": "markdown",
   "source": [
    "# Creating supercells with pymatgen\n",
    "\n",
    "The [Pymatgen](https://pymatgen.org/) python library allows to setup\n",
    "solid-state calculations using a flexible set of classes as well as an API\n",
    "to an online data base of structures. Its `Structure` and `Lattice`\n",
    "objects are directly supported by the DFTK `load_atoms` and `load_lattice`\n",
    "functions, such that DFTK may be readily used to run calculation on systems\n",
    "defined in pymatgen. Using the `pymatgen_structure` function a conversion\n",
    "from DFTK to pymatgen structures is also possible. In the following we\n",
    "use this to create a silicon supercell and find its LDA ground state\n",
    "using direct minimisation."
   ],
   "metadata": {}
  },
  {
   "cell_type": "markdown",
   "source": [
    "First we setup the silicon lattice in DFTK."
   ],
   "metadata": {}
  },
  {
   "outputs": [],
   "cell_type": "code",
   "source": [
    "using DFTK\n",
    "\n",
    "a = 10.263141334305942  # Lattice constant in Bohr\n",
    "lattice = a / 2 .* [[0 1 1.]; [1 0 1.]; [1 1 0.]]\n",
    "Si = ElementPsp(:Si, psp=load_psp(\"hgh/lda/Si-q4\"))\n",
    "atoms = [Si => [ones(3)/8, -ones(3)/8]];"
   ],
   "metadata": {},
   "execution_count": 1
  },
  {
   "cell_type": "markdown",
   "source": [
    "Next we make a `[2, 2, 2]` supercell using pymatgen"
   ],
   "metadata": {}
  },
  {
   "outputs": [],
   "cell_type": "code",
   "source": [
    "pystruct = pymatgen_structure(lattice, atoms)\n",
    "pystruct.make_supercell([2, 2, 2])\n",
    "lattice = load_lattice(pystruct)\n",
    "atoms = [Si => [s.frac_coords for s in pystruct.sites]];"
   ],
   "metadata": {},
   "execution_count": 2
  },
  {
   "cell_type": "markdown",
   "source": [
    "Setup an LDA model and discretize using\n",
    "a single kpoint and a small `Ecut` of 5 Hartree."
   ],
   "metadata": {}
  },
  {
   "outputs": [
    {
     "output_type": "execute_result",
     "data": {
      "text/plain": "PlaneWaveBasis (Ecut=5.0, 1 kpoints)"
     },
     "metadata": {},
     "execution_count": 3
    }
   ],
   "cell_type": "code",
   "source": [
    "model = model_LDA(lattice, atoms)\n",
    "basis = PlaneWaveBasis(model, 5, kgrid=(1, 1, 1))"
   ],
   "metadata": {},
   "execution_count": 3
  },
  {
   "cell_type": "markdown",
   "source": [
    "Find the ground state using direct minimisation (always using SCF is boring ...)"
   ],
   "metadata": {}
  },
  {
   "outputs": [
    {
     "name": "stdout",
     "output_type": "stream",
     "text": [
      "Iter     Function value   Gradient norm \n",
      "     0     1.120312e+02     1.542890e+00\n",
      " * time: 0.10279703140258789\n",
      "     1     1.046852e+01     9.368601e-01\n",
      " * time: 1.3731598854064941\n",
      "     2    -1.182795e+01     1.021729e+00\n",
      " * time: 1.4390039443969727\n",
      "     3    -3.394927e+01     7.683734e-01\n",
      " * time: 1.5478858947753906\n",
      "     4    -4.739233e+01     5.946328e-01\n",
      " * time: 1.6200058460235596\n",
      "     5    -5.682970e+01     2.099278e-01\n",
      " * time: 1.7127668857574463\n",
      "     6    -5.977248e+01     1.176457e-01\n",
      " * time: 1.78489089012146\n",
      "     7    -6.085636e+01     4.966352e-02\n",
      " * time: 1.8446638584136963\n",
      "     8    -6.126127e+01     5.988999e-02\n",
      " * time: 1.9057650566101074\n",
      "     9    -6.155950e+01     3.586043e-02\n",
      " * time: 1.9878590106964111\n",
      "    10    -6.178565e+01     3.153324e-02\n",
      " * time: 2.0483219623565674\n",
      "    11    -6.196417e+01     2.154083e-02\n",
      " * time: 2.1134049892425537\n",
      "    12    -6.203174e+01     1.770439e-02\n",
      " * time: 2.1683359146118164\n",
      "    13    -6.210578e+01     1.450740e-02\n",
      " * time: 2.2311389446258545\n",
      "    14    -6.213622e+01     1.329903e-02\n",
      " * time: 2.2869679927825928\n",
      "    15    -6.216723e+01     1.024853e-02\n",
      " * time: 2.340498924255371\n",
      "    16    -6.218350e+01     9.715297e-03\n",
      " * time: 2.3942809104919434\n",
      "    17    -6.219601e+01     7.769589e-03\n",
      " * time: 2.454824924468994\n",
      "    18    -6.220535e+01     6.463193e-03\n",
      " * time: 2.510709047317505\n",
      "    19    -6.221184e+01     5.446385e-03\n",
      " * time: 2.569182872772217\n",
      "    20    -6.221645e+01     5.689005e-03\n",
      " * time: 2.627254009246826\n",
      "    21    -6.222002e+01     6.409103e-03\n",
      " * time: 2.690847873687744\n",
      "    22    -6.222343e+01     5.576947e-03\n",
      " * time: 2.7597029209136963\n",
      "    23    -6.222720e+01     5.386131e-03\n",
      " * time: 2.817189931869507\n",
      "    24    -6.223180e+01     5.750170e-03\n",
      " * time: 2.8883450031280518\n",
      "    25    -6.223746e+01     5.642943e-03\n",
      " * time: 2.946375846862793\n",
      "    26    -6.224402e+01     5.889955e-03\n",
      " * time: 3.0038280487060547\n",
      "    27    -6.225073e+01     4.650949e-03\n",
      " * time: 3.0586800575256348\n",
      "    28    -6.225564e+01     3.426237e-03\n",
      " * time: 3.1189939975738525\n",
      "    29    -6.225808e+01     3.412216e-03\n",
      " * time: 3.17415189743042\n",
      "    30    -6.225946e+01     2.076929e-03\n",
      " * time: 3.234848976135254\n",
      "    31    -6.226026e+01     1.385481e-03\n",
      " * time: 3.2908718585968018\n",
      "    32    -6.226078e+01     1.562426e-03\n",
      " * time: 3.3546249866485596\n",
      "    33    -6.226108e+01     1.258742e-03\n",
      " * time: 3.4154160022735596\n",
      "    34    -6.226134e+01     1.046370e-03\n",
      " * time: 3.472878932952881\n",
      "    35    -6.226149e+01     6.748180e-04\n",
      " * time: 3.538964033126831\n",
      "    36    -6.226157e+01     5.402384e-04\n",
      " * time: 3.59676194190979\n",
      "    37    -6.226161e+01     3.968822e-04\n",
      " * time: 3.656852960586548\n",
      "    38    -6.226164e+01     2.341217e-04\n",
      " * time: 3.71604585647583\n",
      "    39    -6.226165e+01     1.878558e-04\n",
      " * time: 3.7819788455963135\n",
      "    40    -6.226166e+01     1.343478e-04\n",
      " * time: 3.83858585357666\n",
      "    41    -6.226166e+01     9.519045e-05\n",
      " * time: 3.896543025970459\n",
      "    42    -6.226166e+01     7.704967e-05\n",
      " * time: 3.962440013885498\n",
      "    43    -6.226166e+01     6.659356e-05\n",
      " * time: 4.027171850204468\n",
      "    44    -6.226167e+01     5.935970e-05\n",
      " * time: 4.08657693862915\n",
      "    45    -6.226167e+01     4.690516e-05\n",
      " * time: 4.138225078582764\n",
      "    46    -6.226167e+01     3.705059e-05\n",
      " * time: 4.19996190071106\n",
      "    47    -6.226167e+01     3.281760e-05\n",
      " * time: 4.259737014770508\n",
      "    48    -6.226167e+01     2.285311e-05\n",
      " * time: 4.313341856002808\n",
      "    49    -6.226167e+01     1.751975e-05\n",
      " * time: 4.368649959564209\n",
      "    50    -6.226167e+01     1.073405e-05\n",
      " * time: 4.434002876281738\n",
      "    51    -6.226167e+01     9.798946e-06\n",
      " * time: 4.489009857177734\n",
      "    52    -6.226167e+01     8.584271e-06\n",
      " * time: 4.547504901885986\n",
      "    53    -6.226167e+01     7.407202e-06\n",
      " * time: 4.601853847503662\n",
      "    54    -6.226167e+01     4.818710e-06\n",
      " * time: 4.667398929595947\n",
      "    55    -6.226167e+01     3.072234e-06\n",
      " * time: 4.724531888961792\n",
      "    56    -6.226167e+01     2.096445e-06\n",
      " * time: 4.780394077301025\n"
     ]
    }
   ],
   "cell_type": "code",
   "source": [
    "scfres = direct_minimization(basis, tol=1e-5);"
   ],
   "metadata": {},
   "execution_count": 4
  },
  {
   "outputs": [
    {
     "output_type": "execute_result",
     "data": {
      "text/plain": "Energy breakdown:\n    Kinetic             25.7671074\n    AtomicLocal         -18.8557695\n    AtomicNonlocal      14.8522653\n    Ewald               -67.1831486\n    PspCorrection       -2.3569765\n    Hartree             4.8485379 \n    Xc                  -19.3336823\n\n    total               -62.261666460951\n"
     },
     "metadata": {},
     "execution_count": 5
    }
   ],
   "cell_type": "code",
   "source": [
    "scfres.energies"
   ],
   "metadata": {},
   "execution_count": 5
  }
 ],
 "nbformat_minor": 3,
 "metadata": {
  "language_info": {
   "file_extension": ".jl",
   "mimetype": "application/julia",
   "name": "julia",
   "version": "1.5.3"
  },
  "kernelspec": {
   "name": "julia-1.5",
   "display_name": "Julia 1.5.3",
   "language": "julia"
  }
 },
 "nbformat": 4
}
