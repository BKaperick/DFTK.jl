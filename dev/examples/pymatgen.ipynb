{
 "cells": [
  {
   "cell_type": "markdown",
   "source": [
    "# Creating supercells with pymatgen\n",
    "\n",
    "The [Pymatgen](https://pymatgen.org/) python library allows to setup\n",
    "solid-state calculations using a flexible set of classes as well as an API\n",
    "to an online data base of structures. Its `Structure` and `Lattice`\n",
    "objects are directly supported by the DFTK `load_atoms` and `load_lattice`\n",
    "functions, such that DFTK may be readily used to run calculation on systems\n",
    "defined in pymatgen. Using the `pymatgen_structure` function a conversion\n",
    "from DFTK to pymatgen structures is also possible. In the following we\n",
    "use this to create a silicon supercell and find its LDA ground state\n",
    "using direct minimisation."
   ],
   "metadata": {}
  },
  {
   "cell_type": "markdown",
   "source": [
    "First we setup the silicon lattice in DFTK."
   ],
   "metadata": {}
  },
  {
   "outputs": [],
   "cell_type": "code",
   "source": [
    "using DFTK\n",
    "\n",
    "a = 10.263141334305942  # Lattice constant in Bohr\n",
    "lattice = a / 2 .* [[0 1 1.]; [1 0 1.]; [1 1 0.]]\n",
    "Si = ElementPsp(:Si, psp=load_psp(\"hgh/lda/Si-q4\"))\n",
    "atoms = [Si => [ones(3)/8, -ones(3)/8]];"
   ],
   "metadata": {},
   "execution_count": 1
  },
  {
   "cell_type": "markdown",
   "source": [
    "Next we make a `[2, 2, 2]` supercell using pymatgen"
   ],
   "metadata": {}
  },
  {
   "outputs": [],
   "cell_type": "code",
   "source": [
    "pystruct = pymatgen_structure(lattice, atoms)\n",
    "pystruct.make_supercell([2, 2, 2])\n",
    "lattice = load_lattice(pystruct)\n",
    "atoms = [Si => [s.frac_coords for s in pystruct.sites]];"
   ],
   "metadata": {},
   "execution_count": 2
  },
  {
   "cell_type": "markdown",
   "source": [
    "Setup an LDA model and discretize using\n",
    "a single kpoint and a small `Ecut` of 5 Hartree."
   ],
   "metadata": {}
  },
  {
   "outputs": [
    {
     "output_type": "execute_result",
     "data": {
      "text/plain": "PlaneWaveBasis (Ecut=5.0, 1 kpoints)"
     },
     "metadata": {},
     "execution_count": 3
    }
   ],
   "cell_type": "code",
   "source": [
    "model = model_LDA(lattice, atoms)\n",
    "basis = PlaneWaveBasis(model, 5, kgrid=(1, 1, 1))"
   ],
   "metadata": {},
   "execution_count": 3
  },
  {
   "cell_type": "markdown",
   "source": [
    "Find the ground state using direct minimisation (always using SCF is boring ...)"
   ],
   "metadata": {}
  },
  {
   "outputs": [
    {
     "name": "stdout",
     "output_type": "stream",
     "text": [
      "Iter     Function value   Gradient norm \n",
      "     0     1.116935e+02     1.493481e+00\n",
      " * time: 0.09485292434692383\n",
      "     1     1.077306e+01     8.391372e-01\n",
      " * time: 1.3753299713134766\n",
      "     2    -1.190959e+01     9.950084e-01\n",
      " * time: 1.530095100402832\n",
      "     3    -3.390107e+01     7.443974e-01\n",
      " * time: 1.6728010177612305\n",
      "     4    -4.741816e+01     5.299625e-01\n",
      " * time: 1.8277881145477295\n",
      "     5    -5.682268e+01     2.097415e-01\n",
      " * time: 1.9759950637817383\n",
      "     6    -5.979251e+01     1.219276e-01\n",
      " * time: 2.0918259620666504\n",
      "     7    -6.091813e+01     4.833103e-02\n",
      " * time: 2.2024660110473633\n",
      "     8    -6.135762e+01     6.115489e-02\n",
      " * time: 2.32356595993042\n",
      "     9    -6.163247e+01     4.399786e-02\n",
      " * time: 2.435305118560791\n",
      "    10    -6.186547e+01     3.175376e-02\n",
      " * time: 2.554630994796753\n",
      "    11    -6.202321e+01     2.227585e-02\n",
      " * time: 2.6648881435394287\n",
      "    12    -6.208308e+01     2.022678e-02\n",
      " * time: 2.784420967102051\n",
      "    13    -6.214002e+01     1.551889e-02\n",
      " * time: 2.9023680686950684\n",
      "    14    -6.216595e+01     1.296878e-02\n",
      " * time: 3.0110819339752197\n",
      "    15    -6.218978e+01     1.023784e-02\n",
      " * time: 3.1302499771118164\n",
      "    16    -6.220357e+01     9.572593e-03\n",
      " * time: 3.2457399368286133\n",
      "    17    -6.221526e+01     8.033083e-03\n",
      " * time: 3.374875068664551\n",
      "    18    -6.222516e+01     7.384126e-03\n",
      " * time: 3.485974073410034\n",
      "    19    -6.223371e+01     6.826399e-03\n",
      " * time: 3.606253147125244\n",
      "    20    -6.224133e+01     7.026086e-03\n",
      " * time: 3.722947120666504\n",
      "    21    -6.224810e+01     6.052980e-03\n",
      " * time: 3.832258939743042\n",
      "    22    -6.225357e+01     4.878744e-03\n",
      " * time: 3.951256036758423\n",
      "    23    -6.225730e+01     3.635051e-03\n",
      " * time: 4.060387134552002\n",
      "    24    -6.225941e+01     2.016872e-03\n",
      " * time: 4.179527997970581\n",
      "    25    -6.226041e+01     1.686711e-03\n",
      " * time: 4.287944078445435\n",
      "    26    -6.226092e+01     1.166679e-03\n",
      " * time: 4.404415130615234\n",
      "    27    -6.226118e+01     9.865266e-04\n",
      " * time: 4.5139429569244385\n",
      "    28    -6.226133e+01     1.032896e-03\n",
      " * time: 4.632776975631714\n",
      "    29    -6.226143e+01     7.564795e-04\n",
      " * time: 4.750886917114258\n",
      "    30    -6.226151e+01     6.854073e-04\n",
      " * time: 4.860392093658447\n",
      "    31    -6.226156e+01     5.093175e-04\n",
      " * time: 4.979012966156006\n",
      "    32    -6.226160e+01     3.565553e-04\n",
      " * time: 5.0945940017700195\n",
      "    33    -6.226163e+01     2.935636e-04\n",
      " * time: 5.2201831340789795\n",
      "    34    -6.226165e+01     2.339984e-04\n",
      " * time: 5.329069137573242\n",
      "    35    -6.226166e+01     2.052601e-04\n",
      " * time: 5.445178031921387\n",
      "    36    -6.226166e+01     1.359431e-04\n",
      " * time: 5.562857151031494\n",
      "    37    -6.226166e+01     8.824516e-05\n",
      " * time: 5.672513961791992\n",
      "    38    -6.226167e+01     6.284178e-05\n",
      " * time: 5.78842306137085\n",
      "    39    -6.226167e+01     4.930017e-05\n",
      " * time: 5.89783501625061\n",
      "    40    -6.226167e+01     3.546636e-05\n",
      " * time: 6.01413106918335\n",
      "    41    -6.226167e+01     2.926149e-05\n",
      " * time: 6.1218061447143555\n",
      "    42    -6.226167e+01     2.412848e-05\n",
      " * time: 6.237652063369751\n",
      "    43    -6.226167e+01     2.049496e-05\n",
      " * time: 6.35304594039917\n",
      "    44    -6.226167e+01     1.873937e-05\n",
      " * time: 6.461457014083862\n",
      "    45    -6.226167e+01     1.436768e-05\n",
      " * time: 6.577672958374023\n",
      "    46    -6.226167e+01     9.932209e-06\n",
      " * time: 6.686301946640015\n",
      "    47    -6.226167e+01     6.136221e-06\n",
      " * time: 6.806602954864502\n",
      "    48    -6.226167e+01     4.189207e-06\n",
      " * time: 6.914304971694946\n",
      "    49    -6.226167e+01     3.041878e-06\n",
      " * time: 7.030906915664673\n"
     ]
    }
   ],
   "cell_type": "code",
   "source": [
    "scfres = direct_minimization(basis, tol=1e-5);"
   ],
   "metadata": {},
   "execution_count": 4
  },
  {
   "outputs": [
    {
     "output_type": "execute_result",
     "data": {
      "text/plain": "Energy breakdown:\n    Kinetic             25.7671070\n    AtomicLocal         -18.8557686\n    AtomicNonlocal      14.8522650\n    Ewald               -67.1831486\n    PspCorrection       -2.3569765\n    Hartree             4.8485375 \n    Xc                  -19.3336821\n\n    total               -62.261666460086\n"
     },
     "metadata": {},
     "execution_count": 5
    }
   ],
   "cell_type": "code",
   "source": [
    "scfres.energies"
   ],
   "metadata": {},
   "execution_count": 5
  }
 ],
 "nbformat_minor": 3,
 "metadata": {
  "language_info": {
   "file_extension": ".jl",
   "mimetype": "application/julia",
   "name": "julia",
   "version": "1.4.2"
  },
  "kernelspec": {
   "name": "julia-1.4",
   "display_name": "Julia 1.4.2",
   "language": "julia"
  }
 },
 "nbformat": 4
}
