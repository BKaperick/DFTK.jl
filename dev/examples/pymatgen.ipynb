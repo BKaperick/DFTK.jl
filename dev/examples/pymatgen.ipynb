{
 "cells": [
  {
   "cell_type": "markdown",
   "source": [
    "# Creating supercells with pymatgen\n",
    "\n",
    "The [Pymatgen](https://pymatgen.org/) python library allows to setup\n",
    "solid-state calculations using a flexible set of classes as well as an API\n",
    "to an online data base of structures. Its `Structure` and `Lattice`\n",
    "objects are directly supported by the DFTK `load_atoms` and `load_lattice`\n",
    "functions, such that DFTK may be readily used to run calculation on systems\n",
    "defined in pymatgen. Using the `pymatgen_structure` function a conversion\n",
    "from DFTK to pymatgen structures is also possible. In the following we\n",
    "use this to create a silicon supercell and find its LDA ground state\n",
    "using direct minimisation."
   ],
   "metadata": {}
  },
  {
   "cell_type": "markdown",
   "source": [
    "First we setup the silicon lattice in DFTK."
   ],
   "metadata": {}
  },
  {
   "outputs": [],
   "cell_type": "code",
   "source": [
    "using DFTK\n",
    "\n",
    "a = 10.263141334305942  # Lattice constant in Bohr\n",
    "lattice = a / 2 .* [[0 1 1.]; [1 0 1.]; [1 1 0.]]\n",
    "Si = ElementPsp(:Si, psp=load_psp(\"hgh/lda/Si-q4\"))\n",
    "atoms = [Si => [ones(3)/8, -ones(3)/8]];"
   ],
   "metadata": {},
   "execution_count": 1
  },
  {
   "cell_type": "markdown",
   "source": [
    "Next we make a `[2, 2, 2]` supercell using pymatgen"
   ],
   "metadata": {}
  },
  {
   "outputs": [],
   "cell_type": "code",
   "source": [
    "pystruct = pymatgen_structure(lattice, atoms)\n",
    "pystruct.make_supercell([2, 2, 2])\n",
    "lattice = load_lattice(pystruct)\n",
    "atoms = [Si => [s.frac_coords for s in pystruct.sites]];"
   ],
   "metadata": {},
   "execution_count": 2
  },
  {
   "cell_type": "markdown",
   "source": [
    "Setup an LDA model and discretize using\n",
    "a single kpoint and a small `Ecut` of 5 Hartree.\n",
    "Notice that `PlaneWaveBasis` defaults to just using the ``Γ``-point\n",
    "if no ``k``-point options are provided."
   ],
   "metadata": {}
  },
  {
   "outputs": [
    {
     "output_type": "execute_result",
     "data": {
      "text/plain": "PlaneWaveBasis (Ecut=5.0, 1 kpoints)"
     },
     "metadata": {},
     "execution_count": 3
    }
   ],
   "cell_type": "code",
   "source": [
    "model = model_LDA(lattice, atoms)\n",
    "basis = PlaneWaveBasis(model, 5)"
   ],
   "metadata": {},
   "execution_count": 3
  },
  {
   "cell_type": "markdown",
   "source": [
    "Find the ground state using direct minimisation (always using SCF is boring ...)"
   ],
   "metadata": {}
  },
  {
   "outputs": [
    {
     "name": "stdout",
     "output_type": "stream",
     "text": [
      "Iter     Function value   Gradient norm \n",
      "     0     1.125030e+02     1.657582e+00\n",
      " * time: 0.09037017822265625\n",
      "     1     1.094351e+01     8.894407e-01\n",
      " * time: 1.1222901344299316\n",
      "     2    -1.123011e+01     1.065517e+00\n",
      " * time: 1.456705093383789\n",
      "     3    -3.400206e+01     8.288302e-01\n",
      " * time: 1.6057381629943848\n",
      "     4    -4.748051e+01     6.912622e-01\n",
      " * time: 1.7523090839385986\n",
      "     5    -5.683221e+01     2.541606e-01\n",
      " * time: 1.8968491554260254\n",
      "     6    -5.970073e+01     2.109213e-01\n",
      " * time: 2.0211021900177\n",
      "     7    -6.086458e+01     8.052445e-02\n",
      " * time: 2.133707046508789\n",
      "     8    -6.134658e+01     4.866385e-02\n",
      " * time: 2.2382972240448\n",
      "     9    -6.161708e+01     6.542788e-02\n",
      " * time: 2.3498101234436035\n",
      "    10    -6.181331e+01     3.174593e-02\n",
      " * time: 2.4620699882507324\n",
      "    11    -6.196156e+01     2.355427e-02\n",
      " * time: 2.5733799934387207\n",
      "    12    -6.205066e+01     1.731614e-02\n",
      " * time: 2.6791491508483887\n",
      "    13    -6.209438e+01     1.733940e-02\n",
      " * time: 2.7915871143341064\n",
      "    14    -6.213795e+01     1.592381e-02\n",
      " * time: 2.9031550884246826\n",
      "    15    -6.215826e+01     1.206721e-02\n",
      " * time: 3.0150301456451416\n",
      "    16    -6.217510e+01     8.515228e-03\n",
      " * time: 3.124969005584717\n",
      "    17    -6.218579e+01     7.351664e-03\n",
      " * time: 3.2290091514587402\n",
      "    18    -6.219434e+01     5.774950e-03\n",
      " * time: 3.3393330574035645\n",
      "    19    -6.220025e+01     5.088157e-03\n",
      " * time: 3.4496002197265625\n",
      "    20    -6.220495e+01     4.819135e-03\n",
      " * time: 3.5614280700683594\n",
      "    21    -6.220895e+01     4.545249e-03\n",
      " * time: 3.666431188583374\n",
      "    22    -6.221220e+01     4.438048e-03\n",
      " * time: 3.7783491611480713\n",
      "    23    -6.221476e+01     4.637125e-03\n",
      " * time: 3.8903160095214844\n",
      "    24    -6.221694e+01     4.956213e-03\n",
      " * time: 4.0042500495910645\n",
      "    25    -6.221910e+01     4.769353e-03\n",
      " * time: 4.111438035964966\n",
      "    26    -6.222177e+01     5.296245e-03\n",
      " * time: 4.22277307510376\n",
      "    27    -6.222547e+01     6.225371e-03\n",
      " * time: 4.334722995758057\n",
      "    28    -6.223061e+01     5.922179e-03\n",
      " * time: 4.4462220668792725\n",
      "    29    -6.223721e+01     5.705670e-03\n",
      " * time: 4.5517802238464355\n",
      "    30    -6.224654e+01     5.374691e-03\n",
      " * time: 4.662217140197754\n",
      "    31    -6.225215e+01     4.406916e-03\n",
      " * time: 4.773148059844971\n",
      "    32    -6.225607e+01     3.744860e-03\n",
      " * time: 4.882758140563965\n",
      "    33    -6.225836e+01     2.524873e-03\n",
      " * time: 4.9942100048065186\n",
      "    34    -6.225987e+01     2.234476e-03\n",
      " * time: 5.098619222640991\n",
      "    35    -6.226069e+01     1.434517e-03\n",
      " * time: 5.208377122879028\n",
      "    36    -6.226106e+01     1.197122e-03\n",
      " * time: 5.317730188369751\n",
      "    37    -6.226128e+01     8.518748e-04\n",
      " * time: 5.42778205871582\n",
      "    38    -6.226140e+01     6.602967e-04\n",
      " * time: 5.532748222351074\n",
      "    39    -6.226148e+01     7.521913e-04\n",
      " * time: 5.642581224441528\n",
      "    40    -6.226154e+01     6.015713e-04\n",
      " * time: 5.753267049789429\n",
      "    41    -6.226158e+01     4.881426e-04\n",
      " * time: 5.863584995269775\n",
      "    42    -6.226161e+01     3.335517e-04\n",
      " * time: 5.968330144882202\n",
      "    43    -6.226164e+01     2.443027e-04\n",
      " * time: 6.078046083450317\n",
      "    44    -6.226165e+01     1.863779e-04\n",
      " * time: 6.18778920173645\n",
      "    45    -6.226166e+01     1.619591e-04\n",
      " * time: 6.296783208847046\n",
      "    46    -6.226166e+01     1.166752e-04\n",
      " * time: 6.406619071960449\n",
      "    47    -6.226166e+01     6.973463e-05\n",
      " * time: 6.512073040008545\n",
      "    48    -6.226167e+01     4.108849e-05\n",
      " * time: 6.622350215911865\n",
      "    49    -6.226167e+01     3.913492e-05\n",
      " * time: 6.732047080993652\n",
      "    50    -6.226167e+01     3.274491e-05\n",
      " * time: 6.841821193695068\n",
      "    51    -6.226167e+01     3.126348e-05\n",
      " * time: 6.946069002151489\n",
      "    52    -6.226167e+01     2.207872e-05\n",
      " * time: 7.055880069732666\n",
      "    53    -6.226167e+01     1.935982e-05\n",
      " * time: 7.16482400894165\n",
      "    54    -6.226167e+01     1.381729e-05\n",
      " * time: 7.273709058761597\n",
      "    55    -6.226167e+01     1.148936e-05\n",
      " * time: 7.387819051742554\n",
      "    56    -6.226167e+01     6.929856e-06\n",
      " * time: 7.496896028518677\n",
      "    57    -6.226167e+01     6.632846e-06\n",
      " * time: 7.607264041900635\n",
      "    58    -6.226167e+01     4.291922e-06\n",
      " * time: 7.718178987503052\n",
      "    59    -6.226167e+01     3.073053e-06\n",
      " * time: 7.823042154312134\n"
     ]
    }
   ],
   "cell_type": "code",
   "source": [
    "scfres = direct_minimization(basis, tol=1e-5);"
   ],
   "metadata": {},
   "execution_count": 4
  },
  {
   "outputs": [
    {
     "output_type": "execute_result",
     "data": {
      "text/plain": "Energy breakdown:\n    Kinetic             25.7671089\n    AtomicLocal         -18.8557738\n    AtomicNonlocal      14.8522668\n    Ewald               -67.1831486\n    PspCorrection       -2.3569765\n    Hartree             4.8485400 \n    Xc                  -19.3336831\n\n    total               -62.261666460146\n"
     },
     "metadata": {},
     "execution_count": 5
    }
   ],
   "cell_type": "code",
   "source": [
    "scfres.energies"
   ],
   "metadata": {},
   "execution_count": 5
  }
 ],
 "nbformat_minor": 3,
 "metadata": {
  "language_info": {
   "file_extension": ".jl",
   "mimetype": "application/julia",
   "name": "julia",
   "version": "1.3.1"
  },
  "kernelspec": {
   "name": "julia-1.3",
   "display_name": "Julia 1.3.1",
   "language": "julia"
  }
 },
 "nbformat": 4
}
