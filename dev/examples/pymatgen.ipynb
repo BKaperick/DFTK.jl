{
 "cells": [
  {
   "cell_type": "markdown",
   "source": [
    "# Creating supercells with pymatgen\n",
    "\n",
    "The [Pymatgen](https://pymatgen.org/) python library allows to setup\n",
    "solid-state calculations using a flexible set of classes as well as an API\n",
    "to an online data base of structures. Its `Structure` and `Lattice`\n",
    "objects are directly supported by the DFTK `load_atoms` and `load_lattice`\n",
    "functions, such that DFTK may be readily used to run calculation on systems\n",
    "defined in pymatgen. Using the `pymatgen_structure` function a conversion\n",
    "from DFTK to pymatgen structures is also possible. In the following we\n",
    "use this to create a silicon supercell and find its LDA ground state\n",
    "using direct minimisation."
   ],
   "metadata": {}
  },
  {
   "cell_type": "markdown",
   "source": [
    "First we setup the silicon lattice in DFTK."
   ],
   "metadata": {}
  },
  {
   "outputs": [],
   "cell_type": "code",
   "source": [
    "using DFTK\n",
    "\n",
    "a = 10.263141334305942  # Lattice constant in Bohr\n",
    "lattice = a / 2 .* [[0 1 1.]; [1 0 1.]; [1 1 0.]]\n",
    "Si = ElementPsp(:Si, psp=load_psp(\"hgh/lda/Si-q4\"))\n",
    "atoms = [Si => [ones(3)/8, -ones(3)/8]];"
   ],
   "metadata": {},
   "execution_count": 1
  },
  {
   "cell_type": "markdown",
   "source": [
    "Next we make a `[2, 2, 2]` supercell using pymatgen"
   ],
   "metadata": {}
  },
  {
   "outputs": [],
   "cell_type": "code",
   "source": [
    "pystruct = pymatgen_structure(lattice, atoms)\n",
    "pystruct.make_supercell([2, 2, 2])\n",
    "lattice = load_lattice(pystruct)\n",
    "atoms = [Si => [s.frac_coords for s in pystruct.sites]];"
   ],
   "metadata": {},
   "execution_count": 2
  },
  {
   "cell_type": "markdown",
   "source": [
    "Setup an LDA model and discretize using\n",
    "a single kpoint and a small `Ecut` of 5 Hartree."
   ],
   "metadata": {}
  },
  {
   "outputs": [
    {
     "output_type": "execute_result",
     "data": {
      "text/plain": "PlaneWaveBasis (Ecut=5.0, 1 kpoints)"
     },
     "metadata": {},
     "execution_count": 3
    }
   ],
   "cell_type": "code",
   "source": [
    "model = model_LDA(lattice, atoms)\n",
    "basis = PlaneWaveBasis(model, 5, kgrid=(1, 1, 1))"
   ],
   "metadata": {},
   "execution_count": 3
  },
  {
   "cell_type": "markdown",
   "source": [
    "Find the ground state using direct minimisation (always using SCF is boring ...)"
   ],
   "metadata": {}
  },
  {
   "outputs": [
    {
     "name": "stdout",
     "output_type": "stream",
     "text": [
      "Iter     Function value   Gradient norm \n",
      "     0     1.124198e+02     1.574762e+00\n",
      " * time: 0.1254270076751709\n",
      "     1     1.090889e+01     9.171317e-01\n",
      " * time: 0.9730520248413086\n",
      "     2    -1.189837e+01     9.784224e-01\n",
      " * time: 1.1143200397491455\n",
      "     3    -3.397985e+01     7.814788e-01\n",
      " * time: 1.2465360164642334\n",
      "     4    -4.743987e+01     5.291826e-01\n",
      " * time: 1.3929998874664307\n",
      "     5    -5.668114e+01     2.271436e-01\n",
      " * time: 1.5340819358825684\n",
      "     6    -5.942658e+01     2.252060e-01\n",
      " * time: 1.6428260803222656\n",
      "     7    -6.063837e+01     9.113060e-02\n",
      " * time: 1.7450120449066162\n",
      "     8    -6.123661e+01     4.940734e-02\n",
      " * time: 1.853287935256958\n",
      "     9    -6.158205e+01     3.772640e-02\n",
      " * time: 1.9636669158935547\n",
      "    10    -6.178257e+01     3.319147e-02\n",
      " * time: 2.0670230388641357\n",
      "    11    -6.191844e+01     2.795911e-02\n",
      " * time: 2.1753599643707275\n",
      "    12    -6.201881e+01     1.832868e-02\n",
      " * time: 2.283026933670044\n",
      "    13    -6.209772e+01     1.356023e-02\n",
      " * time: 2.3853759765625\n",
      "    14    -6.214070e+01     1.236815e-02\n",
      " * time: 2.495378017425537\n",
      "    15    -6.217523e+01     1.363240e-02\n",
      " * time: 2.600938081741333\n",
      "    16    -6.219312e+01     1.182551e-02\n",
      " * time: 2.711972951889038\n",
      "    17    -6.220633e+01     8.141392e-03\n",
      " * time: 2.820038080215454\n",
      "    18    -6.221562e+01     8.214516e-03\n",
      " * time: 2.921351909637451\n",
      "    19    -6.222300e+01     8.482750e-03\n",
      " * time: 3.0327210426330566\n",
      "    20    -6.222928e+01     7.778362e-03\n",
      " * time: 3.1574549674987793\n",
      "    21    -6.223566e+01     6.327099e-03\n",
      " * time: 3.269636869430542\n",
      "    22    -6.224205e+01     6.021399e-03\n",
      " * time: 3.3788678646087646\n",
      "    23    -6.224809e+01     5.908945e-03\n",
      " * time: 3.479067087173462\n",
      "    24    -6.225309e+01     4.921762e-03\n",
      " * time: 3.588581085205078\n",
      "    25    -6.225644e+01     3.621385e-03\n",
      " * time: 3.6967508792877197\n",
      "    26    -6.225849e+01     2.608232e-03\n",
      " * time: 3.7999229431152344\n",
      "    27    -6.225969e+01     1.849124e-03\n",
      " * time: 3.912332057952881\n",
      "    28    -6.226035e+01     1.363585e-03\n",
      " * time: 4.014169931411743\n",
      "    29    -6.226076e+01     1.409566e-03\n",
      " * time: 4.12393593788147\n",
      "    30    -6.226104e+01     9.950027e-04\n",
      " * time: 4.232642889022827\n",
      "    31    -6.226125e+01     8.397531e-04\n",
      " * time: 4.3352720737457275\n",
      "    32    -6.226142e+01     7.136676e-04\n",
      " * time: 4.443989992141724\n",
      "    33    -6.226153e+01     5.605685e-04\n",
      " * time: 4.54714298248291\n",
      "    34    -6.226160e+01     3.993295e-04\n",
      " * time: 4.658719062805176\n",
      "    35    -6.226163e+01     3.431264e-04\n",
      " * time: 4.770395040512085\n",
      "    36    -6.226165e+01     2.392287e-04\n",
      " * time: 4.873795986175537\n",
      "    37    -6.226166e+01     1.515032e-04\n",
      " * time: 4.984231948852539\n",
      "    38    -6.226166e+01     1.197993e-04\n",
      " * time: 5.087832927703857\n",
      "    39    -6.226166e+01     9.585213e-05\n",
      " * time: 5.197149991989136\n",
      "    40    -6.226166e+01     7.407586e-05\n",
      " * time: 5.309015989303589\n",
      "    41    -6.226167e+01     5.487926e-05\n",
      " * time: 5.414355993270874\n",
      "    42    -6.226167e+01     3.915063e-05\n",
      " * time: 5.5241498947143555\n",
      "    43    -6.226167e+01     3.550028e-05\n",
      " * time: 5.631671905517578\n",
      "    44    -6.226167e+01     2.867801e-05\n",
      " * time: 5.733604907989502\n",
      "    45    -6.226167e+01     1.966656e-05\n",
      " * time: 5.845630884170532\n",
      "    46    -6.226167e+01     1.667937e-05\n",
      " * time: 5.963106870651245\n",
      "    47    -6.226167e+01     1.316357e-05\n",
      " * time: 6.079952955245972\n",
      "    48    -6.226167e+01     8.525944e-06\n",
      " * time: 6.191665887832642\n",
      "    49    -6.226167e+01     5.722843e-06\n",
      " * time: 6.296027898788452\n",
      "    50    -6.226167e+01     4.338414e-06\n",
      " * time: 6.409552097320557\n",
      "    51    -6.226167e+01     3.847101e-06\n",
      " * time: 6.5296149253845215\n"
     ]
    }
   ],
   "cell_type": "code",
   "source": [
    "scfres = direct_minimization(basis, tol=1e-5);"
   ],
   "metadata": {},
   "execution_count": 4
  },
  {
   "outputs": [
    {
     "output_type": "execute_result",
     "data": {
      "text/plain": "Energy breakdown:\n    Kinetic             25.7671071\n    AtomicLocal         -18.8557653\n    AtomicNonlocal      14.8522620\n    Ewald               -67.1831486\n    PspCorrection       -2.3569765\n    Hartree             4.8485368 \n    Xc                  -19.3336819\n\n    total               -62.261666458342\n"
     },
     "metadata": {},
     "execution_count": 5
    }
   ],
   "cell_type": "code",
   "source": [
    "scfres.energies"
   ],
   "metadata": {},
   "execution_count": 5
  }
 ],
 "nbformat_minor": 3,
 "metadata": {
  "language_info": {
   "file_extension": ".jl",
   "mimetype": "application/julia",
   "name": "julia",
   "version": "1.3.1"
  },
  "kernelspec": {
   "name": "julia-1.3",
   "display_name": "Julia 1.3.1",
   "language": "julia"
  }
 },
 "nbformat": 4
}
