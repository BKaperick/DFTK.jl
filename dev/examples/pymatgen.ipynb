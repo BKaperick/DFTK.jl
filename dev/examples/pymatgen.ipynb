{
 "cells": [
  {
   "cell_type": "markdown",
   "source": [
    "# Creating supercells with pymatgen\n",
    "\n",
    "The [Pymatgen](https://pymatgen.org/) python library allows to setup\n",
    "solid-state calculations using a flexible set of classes as well as an API\n",
    "to an online data base of structures. Its `Structure` and `Lattice`\n",
    "objects are directly supported by the DFTK `load_atoms` and `load_lattice`\n",
    "functions, such that DFTK may be readily used to run calculation on systems\n",
    "defined in pymatgen. Using the `pymatgen_structure` function a conversion\n",
    "from DFTK to pymatgen structures is also possible. In the following we\n",
    "use this to create a silicon supercell and find its LDA ground state\n",
    "using direct minimisation."
   ],
   "metadata": {}
  },
  {
   "cell_type": "markdown",
   "source": [
    "First we setup the silicon lattice in DFTK."
   ],
   "metadata": {}
  },
  {
   "outputs": [],
   "cell_type": "code",
   "source": [
    "using DFTK\n",
    "\n",
    "a = 10.263141334305942  # Lattice constant in Bohr\n",
    "lattice = a / 2 .* [[0 1 1.]; [1 0 1.]; [1 1 0.]]\n",
    "Si = ElementPsp(:Si, psp=load_psp(\"hgh/lda/Si-q4\"))\n",
    "atoms = [Si => [ones(3)/8, -ones(3)/8]];"
   ],
   "metadata": {},
   "execution_count": 1
  },
  {
   "cell_type": "markdown",
   "source": [
    "Next we make a `[2, 2, 2]` supercell using pymatgen"
   ],
   "metadata": {}
  },
  {
   "outputs": [],
   "cell_type": "code",
   "source": [
    "pystruct = pymatgen_structure(lattice, atoms)\n",
    "pystruct.make_supercell([2, 2, 2])\n",
    "lattice = load_lattice(pystruct)\n",
    "atoms = [Si => [s.frac_coords for s in pystruct.sites]];"
   ],
   "metadata": {},
   "execution_count": 2
  },
  {
   "cell_type": "markdown",
   "source": [
    "Setup an LDA model and discretize using\n",
    "a single kpoint and a small `Ecut` of 5 Hartree.\n",
    "Notice that `PlaneWaveBasis` defaults to just using the ``Γ``-point\n",
    "if no ``k``-point options are provided."
   ],
   "metadata": {}
  },
  {
   "outputs": [
    {
     "output_type": "execute_result",
     "data": {
      "text/plain": "PlaneWaveBasis (Ecut=5.0, 1 kpoints)"
     },
     "metadata": {},
     "execution_count": 3
    }
   ],
   "cell_type": "code",
   "source": [
    "model = model_LDA(lattice, atoms)\n",
    "basis = PlaneWaveBasis(model, 5)"
   ],
   "metadata": {},
   "execution_count": 3
  },
  {
   "cell_type": "markdown",
   "source": [
    "Find the ground state using direct minimisation (always using SCF is boring ...)"
   ],
   "metadata": {}
  },
  {
   "outputs": [
    {
     "name": "stdout",
     "output_type": "stream",
     "text": [
      "Iter     Function value   Gradient norm \n",
      "     0     1.122620e+02     1.717039e+00\n",
      " * time: 0.11258101463317871\n",
      "     1     1.086243e+01     9.062864e-01\n",
      " * time: 0.9429678916931152\n",
      "     2    -1.184163e+01     1.069249e+00\n",
      " * time: 1.081610918045044\n",
      "     3    -3.421049e+01     7.859519e-01\n",
      " * time: 1.233525037765503\n",
      "     4    -4.789936e+01     5.349982e-01\n",
      " * time: 1.3769338130950928\n",
      "     5    -5.702937e+01     2.121210e-01\n",
      " * time: 1.5203218460083008\n",
      "     6    -5.991042e+01     8.179866e-02\n",
      " * time: 1.6257529258728027\n",
      "     7    -6.087418e+01     6.779837e-02\n",
      " * time: 1.7382149696350098\n",
      "     8    -6.131757e+01     5.481052e-02\n",
      " * time: 1.8504698276519775\n",
      "     9    -6.163844e+01     3.485326e-02\n",
      " * time: 1.9558699131011963\n",
      "    10    -6.187384e+01     2.580575e-02\n",
      " * time: 2.0719618797302246\n",
      "    11    -6.200647e+01     2.052913e-02\n",
      " * time: 2.207824945449829\n",
      "    12    -6.208342e+01     1.975253e-02\n",
      " * time: 2.3137118816375732\n",
      "    13    -6.213232e+01     1.801704e-02\n",
      " * time: 2.4258809089660645\n",
      "    14    -6.216672e+01     1.167956e-02\n",
      " * time: 2.5381829738616943\n",
      "    15    -6.218956e+01     8.746355e-03\n",
      " * time: 2.642979860305786\n",
      "    16    -6.220333e+01     9.113361e-03\n",
      " * time: 2.755307912826538\n",
      "    17    -6.221226e+01     7.955392e-03\n",
      " * time: 2.8609910011291504\n",
      "    18    -6.222029e+01     5.948613e-03\n",
      " * time: 2.974674940109253\n",
      "    19    -6.222701e+01     6.346041e-03\n",
      " * time: 3.0873918533325195\n",
      "    20    -6.223383e+01     6.637265e-03\n",
      " * time: 3.193328857421875\n",
      "    21    -6.224090e+01     5.933209e-03\n",
      " * time: 3.3053109645843506\n",
      "    22    -6.224774e+01     5.157035e-03\n",
      " * time: 3.4180548191070557\n",
      "    23    -6.225289e+01     4.537063e-03\n",
      " * time: 3.52329683303833\n",
      "    24    -6.225611e+01     3.257764e-03\n",
      " * time: 3.6357059478759766\n",
      "    25    -6.225798e+01     2.863734e-03\n",
      " * time: 3.747520923614502\n",
      "    26    -6.225914e+01     2.118105e-03\n",
      " * time: 3.852638006210327\n",
      "    27    -6.225993e+01     1.540758e-03\n",
      " * time: 3.964679002761841\n",
      "    28    -6.226052e+01     1.250562e-03\n",
      " * time: 4.077487945556641\n",
      "    29    -6.226093e+01     1.166711e-03\n",
      " * time: 4.184499979019165\n",
      "    30    -6.226125e+01     9.588287e-04\n",
      " * time: 4.2972729206085205\n",
      "    31    -6.226145e+01     7.162849e-04\n",
      " * time: 4.411293029785156\n",
      "    32    -6.226155e+01     6.141934e-04\n",
      " * time: 4.515970945358276\n",
      "    33    -6.226160e+01     4.355564e-04\n",
      " * time: 4.627722978591919\n",
      "    34    -6.226163e+01     3.021901e-04\n",
      " * time: 4.740051984786987\n",
      "    35    -6.226165e+01     1.913542e-04\n",
      " * time: 4.845678806304932\n",
      "    36    -6.226166e+01     1.529905e-04\n",
      " * time: 4.959173917770386\n",
      "    37    -6.226166e+01     1.168755e-04\n",
      " * time: 5.092345952987671\n",
      "    38    -6.226166e+01     1.029594e-04\n",
      " * time: 5.198465824127197\n",
      "    39    -6.226166e+01     9.483462e-05\n",
      " * time: 5.309805870056152\n",
      "    40    -6.226166e+01     8.118185e-05\n",
      " * time: 5.421161890029907\n",
      "    41    -6.226167e+01     7.125670e-05\n",
      " * time: 5.525578022003174\n",
      "    42    -6.226167e+01     5.345785e-05\n",
      " * time: 5.636847972869873\n",
      "    43    -6.226167e+01     3.299128e-05\n",
      " * time: 5.748212814331055\n",
      "    44    -6.226167e+01     2.190041e-05\n",
      " * time: 5.853549957275391\n",
      "    45    -6.226167e+01     1.937801e-05\n",
      " * time: 5.96609091758728\n",
      "    46    -6.226167e+01     1.108201e-05\n",
      " * time: 6.070984840393066\n",
      "    47    -6.226167e+01     8.108493e-06\n",
      " * time: 6.1830480098724365\n",
      "    48    -6.226167e+01     5.957789e-06\n",
      " * time: 6.29491400718689\n",
      "    49    -6.226167e+01     5.314591e-06\n",
      " * time: 6.400054931640625\n",
      "    50    -6.226167e+01     3.288546e-06\n",
      " * time: 6.511868953704834\n",
      "    51    -6.226167e+01     2.793643e-06\n",
      " * time: 6.624255895614624\n"
     ]
    }
   ],
   "cell_type": "code",
   "source": [
    "scfres = direct_minimization(basis, tol=1e-5);"
   ],
   "metadata": {},
   "execution_count": 4
  },
  {
   "outputs": [
    {
     "output_type": "execute_result",
     "data": {
      "text/plain": "Energy breakdown:\n    Kinetic             25.7671064\n    AtomicLocal         -18.8557695\n    AtomicNonlocal      14.8522665\n    Ewald               -67.1831486\n    PspCorrection       -2.3569765\n    Hartree             4.8485373 \n    Xc                  -19.3336820\n\n    total               -62.261666460656\n"
     },
     "metadata": {},
     "execution_count": 5
    }
   ],
   "cell_type": "code",
   "source": [
    "scfres.energies"
   ],
   "metadata": {},
   "execution_count": 5
  }
 ],
 "nbformat_minor": 3,
 "metadata": {
  "language_info": {
   "file_extension": ".jl",
   "mimetype": "application/julia",
   "name": "julia",
   "version": "1.3.1"
  },
  "kernelspec": {
   "name": "julia-1.3",
   "display_name": "Julia 1.3.1",
   "language": "julia"
  }
 },
 "nbformat": 4
}
