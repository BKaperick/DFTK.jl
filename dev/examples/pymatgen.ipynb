{
 "cells": [
  {
   "cell_type": "markdown",
   "source": [
    "# Creating supercells with pymatgen\n",
    "\n",
    "The [Pymatgen](https://pymatgen.org/) python library allows to setup\n",
    "solid-state calculations using a flexible set of classes as well as an API\n",
    "to an online data base of structures. Its `Structure` and `Lattice`\n",
    "objects are directly supported by the DFTK `load_atoms` and `load_lattice`\n",
    "functions, such that DFTK may be readily used to run calculation on systems\n",
    "defined in pymatgen. Using the `pymatgen_structure` function a conversion\n",
    "from DFTK to pymatgen structures is also possible. In the following we\n",
    "use this to create a silicon supercell and find its LDA ground state\n",
    "using direct minimisation."
   ],
   "metadata": {}
  },
  {
   "cell_type": "markdown",
   "source": [
    "First we setup the silicon lattice in DFTK."
   ],
   "metadata": {}
  },
  {
   "outputs": [],
   "cell_type": "code",
   "source": [
    "using DFTK\n",
    "\n",
    "a = 10.263141334305942  # Lattice constant in Bohr\n",
    "lattice = a / 2 .* [[0 1 1.]; [1 0 1.]; [1 1 0.]]\n",
    "Si = ElementPsp(:Si, psp=load_psp(\"hgh/lda/Si-q4\"))\n",
    "atoms = [Si => [ones(3)/8, -ones(3)/8]];"
   ],
   "metadata": {},
   "execution_count": 1
  },
  {
   "cell_type": "markdown",
   "source": [
    "Next we make a `[2, 2, 2]` supercell using pymatgen"
   ],
   "metadata": {}
  },
  {
   "outputs": [],
   "cell_type": "code",
   "source": [
    "pystruct = pymatgen_structure(lattice, atoms)\n",
    "pystruct.make_supercell([2, 2, 2])\n",
    "lattice = load_lattice(pystruct)\n",
    "atoms = [Si => [s.frac_coords for s in pystruct.sites]];"
   ],
   "metadata": {},
   "execution_count": 2
  },
  {
   "cell_type": "markdown",
   "source": [
    "Setup an LDA model and discretize using\n",
    "a single kpoint and a small `Ecut` of 5 Hartree."
   ],
   "metadata": {}
  },
  {
   "outputs": [
    {
     "output_type": "execute_result",
     "data": {
      "text/plain": "PlaneWaveBasis (Ecut=5.0, 1 kpoints)"
     },
     "metadata": {},
     "execution_count": 3
    }
   ],
   "cell_type": "code",
   "source": [
    "model = model_LDA(lattice, atoms)\n",
    "basis = PlaneWaveBasis(model, 5, kgrid=(1, 1, 1))"
   ],
   "metadata": {},
   "execution_count": 3
  },
  {
   "cell_type": "markdown",
   "source": [
    "Find the ground state using direct minimisation (always using SCF is boring ...)"
   ],
   "metadata": {}
  },
  {
   "outputs": [
    {
     "name": "stdout",
     "output_type": "stream",
     "text": [
      "Iter     Function value   Gradient norm \n",
      "     0     1.121871e+02     1.548131e+00\n",
      " * time: 0.09265303611755371\n",
      "     1     1.093828e+01     8.421688e-01\n",
      " * time: 1.3608238697052002\n",
      "     2    -1.135611e+01     9.716784e-01\n",
      " * time: 1.5212600231170654\n",
      "     3    -3.389773e+01     7.937760e-01\n",
      " * time: 1.6733129024505615\n",
      "     4    -4.745001e+01     6.517369e-01\n",
      " * time: 1.840608835220337\n",
      "     5    -5.677437e+01     2.431076e-01\n",
      " * time: 1.994182825088501\n",
      "     6    -5.966014e+01     1.770690e-01\n",
      " * time: 2.101749897003174\n",
      "     7    -6.081028e+01     6.692830e-02\n",
      " * time: 2.2210049629211426\n",
      "     8    -6.128290e+01     8.481763e-02\n",
      " * time: 2.333582878112793\n",
      "     9    -6.158603e+01     4.596983e-02\n",
      " * time: 2.4634180068969727\n",
      "    10    -6.182245e+01     3.395222e-02\n",
      " * time: 2.574906826019287\n",
      "    11    -6.199700e+01     2.657421e-02\n",
      " * time: 2.687274932861328\n",
      "    12    -6.207046e+01     2.148712e-02\n",
      " * time: 2.8103678226470947\n",
      "    13    -6.213686e+01     1.454296e-02\n",
      " * time: 2.9263689517974854\n",
      "    14    -6.216693e+01     1.229110e-02\n",
      " * time: 3.052600860595703\n",
      "    15    -6.219203e+01     9.255728e-03\n",
      " * time: 3.162493944168091\n",
      "    16    -6.220556e+01     7.612869e-03\n",
      " * time: 3.281709909439087\n",
      "    17    -6.221670e+01     6.122554e-03\n",
      " * time: 3.391554832458496\n",
      "    18    -6.222570e+01     6.249805e-03\n",
      " * time: 3.519106864929199\n",
      "    19    -6.223383e+01     6.205131e-03\n",
      " * time: 3.629103899002075\n",
      "    20    -6.224147e+01     6.514540e-03\n",
      " * time: 3.747776985168457\n",
      "    21    -6.224835e+01     5.357991e-03\n",
      " * time: 3.8600080013275146\n",
      "    22    -6.225376e+01     4.468273e-03\n",
      " * time: 3.971256971359253\n",
      "    23    -6.225741e+01     3.432175e-03\n",
      " * time: 4.0919189453125\n",
      "    24    -6.225947e+01     2.044986e-03\n",
      " * time: 4.213109970092773\n",
      "    25    -6.226045e+01     1.644553e-03\n",
      " * time: 4.337262868881226\n",
      "    26    -6.226091e+01     1.318207e-03\n",
      " * time: 4.450983047485352\n",
      "    27    -6.226116e+01     1.078230e-03\n",
      " * time: 4.572481870651245\n",
      "    28    -6.226132e+01     8.036320e-04\n",
      " * time: 4.683794975280762\n",
      "    29    -6.226143e+01     6.900436e-04\n",
      " * time: 4.804558038711548\n",
      "    30    -6.226150e+01     5.439001e-04\n",
      " * time: 4.914636850357056\n",
      "    31    -6.226156e+01     4.837289e-04\n",
      " * time: 5.048705816268921\n",
      "    32    -6.226160e+01     3.687621e-04\n",
      " * time: 5.156368970870972\n",
      "    33    -6.226163e+01     3.131040e-04\n",
      " * time: 5.273748874664307\n",
      "    34    -6.226165e+01     2.424523e-04\n",
      " * time: 5.382025957107544\n",
      "    35    -6.226166e+01     1.772119e-04\n",
      " * time: 5.495182991027832\n",
      "    36    -6.226166e+01     1.405778e-04\n",
      " * time: 5.615483045578003\n",
      "    37    -6.226166e+01     7.396899e-05\n",
      " * time: 5.725174903869629\n",
      "    38    -6.226167e+01     5.615409e-05\n",
      " * time: 5.844167947769165\n",
      "    39    -6.226167e+01     4.170429e-05\n",
      " * time: 5.95400595664978\n",
      "    40    -6.226167e+01     3.747702e-05\n",
      " * time: 6.07416296005249\n",
      "    41    -6.226167e+01     3.122288e-05\n",
      " * time: 6.183774948120117\n",
      "    42    -6.226167e+01     2.392401e-05\n",
      " * time: 6.317945957183838\n",
      "    43    -6.226167e+01     1.759333e-05\n",
      " * time: 6.427219867706299\n",
      "    44    -6.226167e+01     1.263998e-05\n",
      " * time: 6.545651912689209\n",
      "    45    -6.226167e+01     1.012273e-05\n",
      " * time: 6.655642032623291\n",
      "    46    -6.226167e+01     7.862430e-06\n",
      " * time: 6.767032861709595\n",
      "    47    -6.226167e+01     5.434533e-06\n",
      " * time: 6.8850648403167725\n",
      "    48    -6.226167e+01     3.648705e-06\n",
      " * time: 7.009296894073486\n",
      "    49    -6.226167e+01     2.518182e-06\n",
      " * time: 7.133357048034668\n"
     ]
    }
   ],
   "cell_type": "code",
   "source": [
    "scfres = direct_minimization(basis, tol=1e-5);"
   ],
   "metadata": {},
   "execution_count": 4
  },
  {
   "outputs": [
    {
     "output_type": "execute_result",
     "data": {
      "text/plain": "Energy breakdown:\n    Kinetic             25.7671065\n    AtomicLocal         -18.8557676\n    AtomicNonlocal      14.8522650\n    Ewald               -67.1831486\n    PspCorrection       -2.3569765\n    Hartree             4.8485366 \n    Xc                  -19.3336818\n\n    total               -62.261666460840\n"
     },
     "metadata": {},
     "execution_count": 5
    }
   ],
   "cell_type": "code",
   "source": [
    "scfres.energies"
   ],
   "metadata": {},
   "execution_count": 5
  }
 ],
 "nbformat_minor": 3,
 "metadata": {
  "language_info": {
   "file_extension": ".jl",
   "mimetype": "application/julia",
   "name": "julia",
   "version": "1.4.2"
  },
  "kernelspec": {
   "name": "julia-1.4",
   "display_name": "Julia 1.4.2",
   "language": "julia"
  }
 },
 "nbformat": 4
}
