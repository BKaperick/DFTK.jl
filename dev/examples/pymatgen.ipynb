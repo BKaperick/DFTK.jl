{
 "cells": [
  {
   "cell_type": "markdown",
   "source": [
    "# Creating supercells with pymatgen\n",
    "\n",
    "The [Pymatgen](https://pymatgen.org/) python library allows to setup\n",
    "solid-state calculations using a flexible set of classes as well as an API\n",
    "to an online data base of structures. Its `Structure` and `Lattice`\n",
    "objects are directly supported by the DFTK `load_atoms` and `load_lattice`\n",
    "functions, such that DFTK may be readily used to run calculation on systems\n",
    "defined in pymatgen. Using the `pymatgen_structure` function a conversion\n",
    "from DFTK to pymatgen structures is also possible. In the following we\n",
    "use this to create a silicon supercell and find its LDA ground state\n",
    "using direct minimisation."
   ],
   "metadata": {}
  },
  {
   "cell_type": "markdown",
   "source": [
    "First we setup the silicon lattice in DFTK."
   ],
   "metadata": {}
  },
  {
   "outputs": [],
   "cell_type": "code",
   "source": [
    "using DFTK\n",
    "\n",
    "a = 10.263141334305942  # Lattice constant in Bohr\n",
    "lattice = a / 2 .* [[0 1 1.]; [1 0 1.]; [1 1 0.]]\n",
    "Si = ElementPsp(:Si, psp=load_psp(\"hgh/lda/Si-q4\"))\n",
    "atoms = [Si => [ones(3)/8, -ones(3)/8]];"
   ],
   "metadata": {},
   "execution_count": 1
  },
  {
   "cell_type": "markdown",
   "source": [
    "Next we make a `[2, 2, 2]` supercell using pymatgen"
   ],
   "metadata": {}
  },
  {
   "outputs": [],
   "cell_type": "code",
   "source": [
    "pystruct = pymatgen_structure(lattice, atoms)\n",
    "pystruct.make_supercell([2, 2, 2])\n",
    "lattice = load_lattice(pystruct)\n",
    "atoms = [Si => [s.frac_coords for s in pystruct.sites]];"
   ],
   "metadata": {},
   "execution_count": 2
  },
  {
   "cell_type": "markdown",
   "source": [
    "Setup an LDA model and discretize using\n",
    "a single kpoint and a small `Ecut` of 5 Hartree."
   ],
   "metadata": {}
  },
  {
   "outputs": [
    {
     "output_type": "execute_result",
     "data": {
      "text/plain": "PlaneWaveBasis (Ecut=5.0, 1 kpoints)"
     },
     "metadata": {},
     "execution_count": 3
    }
   ],
   "cell_type": "code",
   "source": [
    "model = model_LDA(lattice, atoms)\n",
    "basis = PlaneWaveBasis(model, 5, kgrid=(1, 1, 1))"
   ],
   "metadata": {},
   "execution_count": 3
  },
  {
   "cell_type": "markdown",
   "source": [
    "Find the ground state using direct minimisation (always using SCF is boring ...)"
   ],
   "metadata": {}
  },
  {
   "outputs": [
    {
     "name": "stdout",
     "output_type": "stream",
     "text": [
      "Iter     Function value   Gradient norm \n",
      "     0     1.127059e+02     1.752278e+00\n",
      " * time: 1.0874030590057373\n",
      "     1     1.125994e+01     9.819044e-01\n",
      " * time: 3.2610220909118652\n",
      "     2    -1.222361e+01     1.188076e+00\n",
      " * time: 3.9043240547180176\n",
      "     3    -3.403371e+01     8.024268e-01\n",
      " * time: 4.828690052032471\n",
      "     4    -4.764209e+01     5.941642e-01\n",
      " * time: 5.752012014389038\n",
      "     5    -5.700607e+01     2.370731e-01\n",
      " * time: 6.666948080062866\n",
      "     6    -5.976195e+01     2.238247e-01\n",
      " * time: 7.292791128158569\n",
      "     7    -6.089367e+01     1.155579e-01\n",
      " * time: 7.908681154251099\n",
      "     8    -6.141385e+01     3.913664e-02\n",
      " * time: 8.53733205795288\n",
      "     9    -6.166661e+01     3.500688e-02\n",
      " * time: 9.14994215965271\n",
      "    10    -6.185658e+01     2.944394e-02\n",
      " * time: 9.761003017425537\n",
      "    11    -6.198052e+01     2.113292e-02\n",
      " * time: 10.37689208984375\n",
      "    12    -6.206236e+01     1.633363e-02\n",
      " * time: 10.986956119537354\n",
      "    13    -6.210672e+01     1.468277e-02\n",
      " * time: 11.60850214958191\n",
      "    14    -6.214129e+01     1.412957e-02\n",
      " * time: 12.220700979232788\n",
      "    15    -6.216146e+01     1.146062e-02\n",
      " * time: 12.84150218963623\n",
      "    16    -6.217500e+01     8.901128e-03\n",
      " * time: 13.45417308807373\n",
      "    17    -6.218384e+01     7.241482e-03\n",
      " * time: 14.062023162841797\n",
      "    18    -6.219110e+01     6.416975e-03\n",
      " * time: 14.669970989227295\n",
      "    19    -6.219709e+01     6.286736e-03\n",
      " * time: 15.290640115737915\n",
      "    20    -6.220265e+01     6.586464e-03\n",
      " * time: 15.908231973648071\n",
      "    21    -6.220811e+01     6.986172e-03\n",
      " * time: 16.514552116394043\n",
      "    22    -6.221354e+01     6.655372e-03\n",
      " * time: 17.12875008583069\n",
      "    23    -6.221861e+01     6.181544e-03\n",
      " * time: 17.739784002304077\n",
      "    24    -6.222315e+01     6.086197e-03\n",
      " * time: 18.36531114578247\n",
      "    25    -6.222764e+01     5.927991e-03\n",
      " * time: 18.97496509552002\n",
      "    26    -6.223273e+01     6.013992e-03\n",
      " * time: 19.591082096099854\n",
      "    27    -6.223824e+01     6.794641e-03\n",
      " * time: 20.21074104309082\n",
      "    28    -6.224425e+01     6.774471e-03\n",
      " * time: 20.824310064315796\n",
      "    29    -6.225012e+01     7.021487e-03\n",
      " * time: 21.441390991210938\n",
      "    30    -6.225463e+01     4.442756e-03\n",
      " * time: 22.05390214920044\n",
      "    31    -6.225773e+01     2.866361e-03\n",
      " * time: 22.674764156341553\n",
      "    32    -6.225957e+01     1.988436e-03\n",
      " * time: 23.29302215576172\n",
      "    33    -6.226052e+01     1.500386e-03\n",
      " * time: 23.91829013824463\n",
      "    34    -6.226106e+01     1.438248e-03\n",
      " * time: 24.55205011367798\n",
      "    35    -6.226132e+01     8.544641e-04\n",
      " * time: 25.197829008102417\n",
      "    36    -6.226145e+01     6.476108e-04\n",
      " * time: 25.828885078430176\n",
      "    37    -6.226153e+01     4.754033e-04\n",
      " * time: 26.441854000091553\n",
      "    38    -6.226157e+01     4.097933e-04\n",
      " * time: 27.056308031082153\n",
      "    39    -6.226160e+01     3.106843e-04\n",
      " * time: 27.68090009689331\n",
      "    40    -6.226162e+01     2.778900e-04\n",
      " * time: 28.294461011886597\n",
      "    41    -6.226164e+01     2.539093e-04\n",
      " * time: 28.900485038757324\n",
      "    42    -6.226165e+01     2.055566e-04\n",
      " * time: 29.517994165420532\n",
      "    43    -6.226166e+01     1.479435e-04\n",
      " * time: 30.147091150283813\n",
      "    44    -6.226166e+01     1.085238e-04\n",
      " * time: 30.759759187698364\n",
      "    45    -6.226166e+01     6.944705e-05\n",
      " * time: 31.391000032424927\n",
      "    46    -6.226167e+01     4.968094e-05\n",
      " * time: 32.01790404319763\n",
      "    47    -6.226167e+01     4.531497e-05\n",
      " * time: 32.64207196235657\n",
      "    48    -6.226167e+01     2.834884e-05\n",
      " * time: 33.258238077163696\n",
      "    49    -6.226167e+01     2.984487e-05\n",
      " * time: 33.87374806404114\n",
      "    50    -6.226167e+01     2.484852e-05\n",
      " * time: 34.48167014122009\n",
      "    51    -6.226167e+01     1.837673e-05\n",
      " * time: 35.10086703300476\n",
      "    52    -6.226167e+01     1.521388e-05\n",
      " * time: 35.723679065704346\n",
      "    53    -6.226167e+01     1.387989e-05\n",
      " * time: 36.344614028930664\n",
      "    54    -6.226167e+01     9.889709e-06\n",
      " * time: 36.95953607559204\n",
      "    55    -6.226167e+01     6.436826e-06\n",
      " * time: 37.58279013633728\n",
      "    56    -6.226167e+01     5.322086e-06\n",
      " * time: 38.20513105392456\n",
      "    57    -6.226167e+01     3.286041e-06\n",
      " * time: 38.8276801109314\n"
     ]
    }
   ],
   "cell_type": "code",
   "source": [
    "scfres = direct_minimization(basis, tol=1e-5);"
   ],
   "metadata": {},
   "execution_count": 4
  },
  {
   "outputs": [
    {
     "output_type": "execute_result",
     "data": {
      "text/plain": "Energy breakdown:\n    Kinetic             25.7671082\n    AtomicLocal         -18.8557724\n    AtomicNonlocal      14.8522665\n    Ewald               -67.1831486\n    PspCorrection       -2.3569765\n    Hartree             4.8485394 \n    Xc                  -19.3336829\n\n    total               -62.261666460978\n"
     },
     "metadata": {},
     "execution_count": 5
    }
   ],
   "cell_type": "code",
   "source": [
    "scfres.energies"
   ],
   "metadata": {},
   "execution_count": 5
  }
 ],
 "nbformat_minor": 3,
 "metadata": {
  "language_info": {
   "file_extension": ".jl",
   "mimetype": "application/julia",
   "name": "julia",
   "version": "1.6.0"
  },
  "kernelspec": {
   "name": "julia-1.6",
   "display_name": "Julia 1.6.0",
   "language": "julia"
  }
 },
 "nbformat": 4
}
