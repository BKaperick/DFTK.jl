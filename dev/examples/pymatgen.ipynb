{
 "cells": [
  {
   "cell_type": "markdown",
   "source": [
    "# Creating supercells with pymatgen\n",
    "\n",
    "The [Pymatgen](https://pymatgen.org/) python library allows to setup\n",
    "solid-state calculations using a flexible set of classes as well as an API\n",
    "to an online data base of structures. Its `Structure` and `Lattice`\n",
    "objects are directly supported by the DFTK `load_atoms` and `load_lattice`\n",
    "functions, such that DFTK may be readily used to run calculation on systems\n",
    "defined in pymatgen. Using the `pymatgen_structure` function a conversion\n",
    "from DFTK to pymatgen structures is also possible. In the following we\n",
    "use this to create a silicon supercell and find its LDA ground state\n",
    "using direct minimisation."
   ],
   "metadata": {}
  },
  {
   "cell_type": "markdown",
   "source": [
    "First we setup the silicon lattice in DFTK."
   ],
   "metadata": {}
  },
  {
   "outputs": [],
   "cell_type": "code",
   "source": [
    "using DFTK\n",
    "\n",
    "a = 10.263141334305942  # Lattice constant in Bohr\n",
    "lattice = a / 2 .* [[0 1 1.]; [1 0 1.]; [1 1 0.]]\n",
    "Si = ElementPsp(:Si, psp=load_psp(\"hgh/lda/Si-q4\"))\n",
    "atoms = [Si => [ones(3)/8, -ones(3)/8]];"
   ],
   "metadata": {},
   "execution_count": 1
  },
  {
   "cell_type": "markdown",
   "source": [
    "Next we make a `[2, 2, 2]` supercell using pymatgen"
   ],
   "metadata": {}
  },
  {
   "outputs": [],
   "cell_type": "code",
   "source": [
    "pystruct = pymatgen_structure(lattice, atoms)\n",
    "pystruct.make_supercell([2, 2, 2])\n",
    "lattice = load_lattice(pystruct)\n",
    "atoms = [Si => [s.frac_coords for s in pystruct.sites]];"
   ],
   "metadata": {},
   "execution_count": 2
  },
  {
   "cell_type": "markdown",
   "source": [
    "Setup an LDA model and discretize using\n",
    "a single kpoint and a small `Ecut` of 5 Hartree."
   ],
   "metadata": {}
  },
  {
   "outputs": [
    {
     "output_type": "execute_result",
     "data": {
      "text/plain": "PlaneWaveBasis (Ecut=5.0, 1 kpoints)"
     },
     "metadata": {},
     "execution_count": 3
    }
   ],
   "cell_type": "code",
   "source": [
    "model = model_LDA(lattice, atoms)\n",
    "basis = PlaneWaveBasis(model, 5, kgrid=(1, 1, 1))"
   ],
   "metadata": {},
   "execution_count": 3
  },
  {
   "cell_type": "markdown",
   "source": [
    "Find the ground state using direct minimisation (always using SCF is boring ...)"
   ],
   "metadata": {}
  },
  {
   "outputs": [
    {
     "name": "stdout",
     "output_type": "stream",
     "text": [
      "Iter     Function value   Gradient norm \n",
      "     0     1.118960e+02     1.557452e+00\n",
      " * time: 0.8576209545135498\n",
      "     1     1.095154e+01     9.715449e-01\n",
      " * time: 3.5115599632263184\n",
      "     2    -1.145865e+01     1.057389e+00\n",
      " * time: 4.228432893753052\n",
      "     3    -3.410529e+01     7.985129e-01\n",
      " * time: 5.326939821243286\n",
      "     4    -4.761595e+01     5.779691e-01\n",
      " * time: 6.385800838470459\n",
      "     5    -5.700069e+01     2.074320e-01\n",
      " * time: 7.472216844558716\n",
      "     6    -5.986647e+01     1.279507e-01\n",
      " * time: 8.188549041748047\n",
      "     7    -6.088289e+01     4.977011e-02\n",
      " * time: 8.903663873672485\n",
      "     8    -6.125159e+01     8.334156e-02\n",
      " * time: 9.61521601676941\n",
      "     9    -6.156794e+01     3.637489e-02\n",
      " * time: 10.313954830169678\n",
      "    10    -6.177810e+01     3.313609e-02\n",
      " * time: 11.011951923370361\n",
      "    11    -6.195129e+01     2.489472e-02\n",
      " * time: 11.711100816726685\n",
      "    12    -6.202658e+01     2.452130e-02\n",
      " * time: 12.392146825790405\n",
      "    13    -6.210222e+01     2.109270e-02\n",
      " * time: 13.082871913909912\n",
      "    14    -6.213699e+01     1.375156e-02\n",
      " * time: 13.762943983078003\n",
      "    15    -6.216533e+01     9.654776e-03\n",
      " * time: 14.455411911010742\n",
      "    16    -6.217912e+01     8.924441e-03\n",
      " * time: 15.174494981765747\n",
      "    17    -6.218912e+01     7.483015e-03\n",
      " * time: 15.895442008972168\n",
      "    18    -6.219710e+01     8.068189e-03\n",
      " * time: 16.619186878204346\n",
      "    19    -6.220395e+01     9.208836e-03\n",
      " * time: 17.343411922454834\n",
      "    20    -6.220996e+01     7.902866e-03\n",
      " * time: 18.041298866271973\n",
      "    21    -6.221605e+01     6.990022e-03\n",
      " * time: 18.739794969558716\n",
      "    22    -6.222274e+01     7.477562e-03\n",
      " * time: 19.435467004776\n",
      "    23    -6.222953e+01     7.259357e-03\n",
      " * time: 20.15165901184082\n",
      "    24    -6.223572e+01     6.731920e-03\n",
      " * time: 20.850492000579834\n",
      "    25    -6.224138e+01     6.776710e-03\n",
      " * time: 21.567179918289185\n",
      "    26    -6.224637e+01     6.933422e-03\n",
      " * time: 22.262157917022705\n",
      "    27    -6.225069e+01     5.642180e-03\n",
      " * time: 22.949914932250977\n",
      "    28    -6.225427e+01     4.914869e-03\n",
      " * time: 23.653833866119385\n",
      "    29    -6.225703e+01     4.241112e-03\n",
      " * time: 24.349606037139893\n",
      "    30    -6.225892e+01     2.855885e-03\n",
      " * time: 25.043484926223755\n",
      "    31    -6.226009e+01     2.065470e-03\n",
      " * time: 25.784485816955566\n",
      "    32    -6.226078e+01     1.545900e-03\n",
      " * time: 26.51699686050415\n",
      "    33    -6.226119e+01     1.079981e-03\n",
      " * time: 27.231127977371216\n",
      "    34    -6.226143e+01     7.586642e-04\n",
      " * time: 27.93390202522278\n",
      "    35    -6.226154e+01     5.248261e-04\n",
      " * time: 28.639776945114136\n",
      "    36    -6.226159e+01     4.418633e-04\n",
      " * time: 29.31215500831604\n",
      "    37    -6.226162e+01     3.721169e-04\n",
      " * time: 30.04989504814148\n",
      "    38    -6.226163e+01     2.887232e-04\n",
      " * time: 30.750509023666382\n",
      "    39    -6.226164e+01     2.635707e-04\n",
      " * time: 31.436909914016724\n",
      "    40    -6.226165e+01     2.088946e-04\n",
      " * time: 32.139564990997314\n",
      "    41    -6.226166e+01     1.619979e-04\n",
      " * time: 32.82823204994202\n",
      "    42    -6.226166e+01     1.567667e-04\n",
      " * time: 33.545888900756836\n",
      "    43    -6.226166e+01     8.308151e-05\n",
      " * time: 34.284854888916016\n",
      "    44    -6.226167e+01     5.821451e-05\n",
      " * time: 34.97767090797424\n",
      "    45    -6.226167e+01     3.877607e-05\n",
      " * time: 35.674842834472656\n",
      "    46    -6.226167e+01     3.266813e-05\n",
      " * time: 36.38768982887268\n",
      "    47    -6.226167e+01     2.302317e-05\n",
      " * time: 37.136900901794434\n",
      "    48    -6.226167e+01     1.955296e-05\n",
      " * time: 37.861552000045776\n",
      "    49    -6.226167e+01     1.333556e-05\n",
      " * time: 38.5826518535614\n",
      "    50    -6.226167e+01     1.077832e-05\n",
      " * time: 39.297932863235474\n",
      "    51    -6.226167e+01     1.058857e-05\n",
      " * time: 40.00899887084961\n",
      "    52    -6.226167e+01     8.609809e-06\n",
      " * time: 40.71923089027405\n",
      "    53    -6.226167e+01     7.132819e-06\n",
      " * time: 41.42044186592102\n",
      "    54    -6.226167e+01     5.280727e-06\n",
      " * time: 42.107605934143066\n",
      "    55    -6.226167e+01     3.792989e-06\n",
      " * time: 42.78893494606018\n",
      "    56    -6.226167e+01     2.552939e-06\n",
      " * time: 43.487608909606934\n"
     ]
    }
   ],
   "cell_type": "code",
   "source": [
    "scfres = direct_minimization(basis, tol=1e-5);"
   ],
   "metadata": {},
   "execution_count": 4
  },
  {
   "outputs": [
    {
     "output_type": "execute_result",
     "data": {
      "text/plain": "Energy breakdown:\n    Kinetic             25.7671071\n    AtomicLocal         -18.8557679\n    AtomicNonlocal      14.8522642\n    Ewald               -67.1831486\n    PspCorrection       -2.3569765\n    Hartree             4.8485375 \n    Xc                  -19.3336822\n\n    total               -62.261666460805\n"
     },
     "metadata": {},
     "execution_count": 5
    }
   ],
   "cell_type": "code",
   "source": [
    "scfres.energies"
   ],
   "metadata": {},
   "execution_count": 5
  }
 ],
 "nbformat_minor": 3,
 "metadata": {
  "language_info": {
   "file_extension": ".jl",
   "mimetype": "application/julia",
   "name": "julia",
   "version": "1.6.1"
  },
  "kernelspec": {
   "name": "julia-1.6",
   "display_name": "Julia 1.6.1",
   "language": "julia"
  }
 },
 "nbformat": 4
}
