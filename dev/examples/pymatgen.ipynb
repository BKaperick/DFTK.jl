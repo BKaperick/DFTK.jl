{
 "cells": [
  {
   "cell_type": "markdown",
   "source": [
    "# Creating supercells with pymatgen\n",
    "\n",
    "The [Pymatgen](https://pymatgen.org/) python library allows to setup\n",
    "solid-state calculations using a flexible set of classes as well as an API\n",
    "to an online data base of structures. Its `Structure` and `Lattice`\n",
    "objects are directly supported by the DFTK `load_atoms` and `load_lattice`\n",
    "functions, such that DFTK may be readily used to run calculation on systems\n",
    "defined in pymatgen. Using the `pymatgen_structure` function a conversion\n",
    "from DFTK to pymatgen structures is also possible. In the following we\n",
    "use this to create a silicon supercell and find its LDA ground state\n",
    "using direct minimisation."
   ],
   "metadata": {}
  },
  {
   "cell_type": "markdown",
   "source": [
    "First we setup the silicon lattice in DFTK."
   ],
   "metadata": {}
  },
  {
   "outputs": [],
   "cell_type": "code",
   "source": [
    "using DFTK\n",
    "\n",
    "a = 10.263141334305942  # Lattice constant in Bohr\n",
    "lattice = a / 2 .* [[0 1 1.]; [1 0 1.]; [1 1 0.]]\n",
    "Si = ElementPsp(:Si, psp=load_psp(\"hgh/lda/Si-q4\"))\n",
    "atoms = [Si => [ones(3)/8, -ones(3)/8]];"
   ],
   "metadata": {},
   "execution_count": 1
  },
  {
   "cell_type": "markdown",
   "source": [
    "Next we make a `[2, 2, 2]` supercell using pymatgen"
   ],
   "metadata": {}
  },
  {
   "outputs": [],
   "cell_type": "code",
   "source": [
    "pystruct = pymatgen_structure(lattice, atoms)\n",
    "pystruct.make_supercell([2, 2, 2])\n",
    "lattice = load_lattice(pystruct)\n",
    "atoms = [Si => [s.frac_coords for s in pystruct.sites]];"
   ],
   "metadata": {},
   "execution_count": 2
  },
  {
   "cell_type": "markdown",
   "source": [
    "Setup an LDA model and discretize using\n",
    "a single kpoint and a small `Ecut` of 5 Hartree."
   ],
   "metadata": {}
  },
  {
   "outputs": [
    {
     "output_type": "execute_result",
     "data": {
      "text/plain": "PlaneWaveBasis (Ecut=5.0, 1 kpoints)"
     },
     "metadata": {},
     "execution_count": 3
    }
   ],
   "cell_type": "code",
   "source": [
    "model = model_LDA(lattice, atoms)\n",
    "basis = PlaneWaveBasis(model, 5, kgrid=(1, 1, 1))"
   ],
   "metadata": {},
   "execution_count": 3
  },
  {
   "cell_type": "markdown",
   "source": [
    "Find the ground state using direct minimisation (always using SCF is boring ...)"
   ],
   "metadata": {}
  },
  {
   "outputs": [
    {
     "name": "stdout",
     "output_type": "stream",
     "text": [
      "Iter     Function value   Gradient norm \n",
      "     0     1.116141e+02     1.489944e+00\n",
      " * time: 0.3553040027618408\n",
      "     1     1.112370e+01     1.036767e+00\n",
      " * time: 2.339387893676758\n",
      "     2    -1.166982e+01     1.141250e+00\n",
      " * time: 2.990356922149658\n",
      "     3    -3.384333e+01     9.442593e-01\n",
      " * time: 3.957828998565674\n",
      "     4    -4.735641e+01     7.050693e-01\n",
      " * time: 5.259008884429932\n",
      "     5    -5.686075e+01     2.241356e-01\n",
      " * time: 6.209836006164551\n",
      "     6    -5.978611e+01     1.497310e-01\n",
      " * time: 6.854121923446655\n",
      "     7    -6.087141e+01     5.330224e-02\n",
      " * time: 7.495675802230835\n",
      "     8    -6.126668e+01     7.281446e-02\n",
      " * time: 8.349416017532349\n",
      "     9    -6.152443e+01     3.755492e-02\n",
      " * time: 8.991102933883667\n",
      "    10    -6.172425e+01     2.802482e-02\n",
      " * time: 9.640851020812988\n",
      "    11    -6.188987e+01     2.477482e-02\n",
      " * time: 10.280157804489136\n",
      "    12    -6.196118e+01     1.908193e-02\n",
      " * time: 10.92098879814148\n",
      "    13    -6.203820e+01     1.706141e-02\n",
      " * time: 11.572573900222778\n",
      "    14    -6.207870e+01     1.697647e-02\n",
      " * time: 12.213624000549316\n",
      "    15    -6.212151e+01     1.197636e-02\n",
      " * time: 12.858659982681274\n",
      "    16    -6.214919e+01     9.916218e-03\n",
      " * time: 13.510511875152588\n",
      "    17    -6.217003e+01     8.927868e-03\n",
      " * time: 14.155977010726929\n",
      "    18    -6.218448e+01     8.392812e-03\n",
      " * time: 14.796616792678833\n",
      "    19    -6.219331e+01     5.918664e-03\n",
      " * time: 15.44327688217163\n",
      "    20    -6.219913e+01     4.659080e-03\n",
      " * time: 16.084982872009277\n",
      "    21    -6.220344e+01     4.579381e-03\n",
      " * time: 16.729918003082275\n",
      "    22    -6.220722e+01     5.145653e-03\n",
      " * time: 17.371980905532837\n",
      "    23    -6.221086e+01     4.747701e-03\n",
      " * time: 18.013347864151\n",
      "    24    -6.221451e+01     5.053886e-03\n",
      " * time: 18.659539937973022\n",
      "    25    -6.221793e+01     5.664432e-03\n",
      " * time: 19.305685997009277\n",
      "    26    -6.222159e+01     7.038697e-03\n",
      " * time: 19.945173025131226\n",
      "    27    -6.222575e+01     6.405174e-03\n",
      " * time: 20.590754985809326\n",
      "    28    -6.223080e+01     6.122451e-03\n",
      " * time: 21.22985601425171\n",
      "    29    -6.223710e+01     7.206813e-03\n",
      " * time: 21.872184991836548\n",
      "    30    -6.224455e+01     6.189864e-03\n",
      " * time: 22.52342391014099\n",
      "    31    -6.225041e+01     4.923642e-03\n",
      " * time: 23.164757013320923\n",
      "    32    -6.225500e+01     3.948104e-03\n",
      " * time: 23.811596870422363\n",
      "    33    -6.225805e+01     3.047473e-03\n",
      " * time: 24.455196857452393\n",
      "    34    -6.225975e+01     2.654987e-03\n",
      " * time: 25.090521812438965\n",
      "    35    -6.226065e+01     1.846238e-03\n",
      " * time: 25.73878002166748\n",
      "    36    -6.226108e+01     1.097600e-03\n",
      " * time: 26.380936861038208\n",
      "    37    -6.226129e+01     9.080727e-04\n",
      " * time: 27.024115800857544\n",
      "    38    -6.226142e+01     5.944698e-04\n",
      " * time: 27.671068906784058\n",
      "    39    -6.226150e+01     5.637058e-04\n",
      " * time: 28.313992977142334\n",
      "    40    -6.226155e+01     5.006063e-04\n",
      " * time: 28.954880952835083\n",
      "    41    -6.226159e+01     4.835039e-04\n",
      " * time: 29.610967874526978\n",
      "    42    -6.226162e+01     3.850818e-04\n",
      " * time: 30.24759602546692\n",
      "    43    -6.226164e+01     3.083945e-04\n",
      " * time: 30.88955783843994\n",
      "    44    -6.226165e+01     2.057361e-04\n",
      " * time: 31.53426194190979\n",
      "    45    -6.226166e+01     1.547116e-04\n",
      " * time: 32.17289900779724\n",
      "    46    -6.226166e+01     1.050333e-04\n",
      " * time: 32.81867694854736\n",
      "    47    -6.226166e+01     6.166607e-05\n",
      " * time: 33.45364499092102\n",
      "    48    -6.226167e+01     4.118623e-05\n",
      " * time: 34.096691846847534\n",
      "    49    -6.226167e+01     3.188647e-05\n",
      " * time: 34.74885082244873\n",
      "    50    -6.226167e+01     2.835832e-05\n",
      " * time: 35.394020795822144\n",
      "    51    -6.226167e+01     2.269503e-05\n",
      " * time: 36.035071849823\n",
      "    52    -6.226167e+01     1.930874e-05\n",
      " * time: 36.68752694129944\n",
      "    53    -6.226167e+01     1.439840e-05\n",
      " * time: 37.33101987838745\n",
      "    54    -6.226167e+01     1.232541e-05\n",
      " * time: 37.97186279296875\n",
      "    55    -6.226167e+01     8.301070e-06\n",
      " * time: 38.62499690055847\n",
      "    56    -6.226167e+01     7.164362e-06\n",
      " * time: 39.29069685935974\n",
      "    57    -6.226167e+01     5.395246e-06\n",
      " * time: 39.9477698802948\n",
      "    58    -6.226167e+01     4.740773e-06\n",
      " * time: 40.591840982437134\n",
      "    59    -6.226167e+01     2.948944e-06\n",
      " * time: 41.238415002822876\n"
     ]
    }
   ],
   "cell_type": "code",
   "source": [
    "scfres = direct_minimization(basis, tol=1e-5);"
   ],
   "metadata": {},
   "execution_count": 4
  },
  {
   "outputs": [
    {
     "output_type": "execute_result",
     "data": {
      "text/plain": "Energy breakdown:\n    Kinetic             25.7671079\n    AtomicLocal         -18.8557700\n    AtomicNonlocal      14.8522648\n    Ewald               -67.1831486\n    PspCorrection       -2.3569765\n    Hartree             4.8485387 \n    Xc                  -19.3336827\n\n    total               -62.261666460909\n"
     },
     "metadata": {},
     "execution_count": 5
    }
   ],
   "cell_type": "code",
   "source": [
    "scfres.energies"
   ],
   "metadata": {},
   "execution_count": 5
  }
 ],
 "nbformat_minor": 3,
 "metadata": {
  "language_info": {
   "file_extension": ".jl",
   "mimetype": "application/julia",
   "name": "julia",
   "version": "1.5.3"
  },
  "kernelspec": {
   "name": "julia-1.5",
   "display_name": "Julia 1.5.3",
   "language": "julia"
  }
 },
 "nbformat": 4
}
