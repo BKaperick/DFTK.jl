{
 "cells": [
  {
   "cell_type": "markdown",
   "source": [
    "# Creating supercells with pymatgen\n",
    "\n",
    "The [Pymatgen](https://pymatgen.org/) python library allows to setup\n",
    "solid-state calculations using a flexible set of classes as well as an API\n",
    "to an online data base of structures. Its `Structure` and `Lattice`\n",
    "objects are directly supported by the DFTK `load_atoms` and `load_lattice`\n",
    "functions, such that DFTK may be readily used to run calculation on systems\n",
    "defined in pymatgen. Using the `pymatgen_structure` function a conversion\n",
    "from DFTK to pymatgen structures is also possible. In the following we\n",
    "use this to create a silicon supercell and find its LDA ground state\n",
    "using direct minimisation."
   ],
   "metadata": {}
  },
  {
   "cell_type": "markdown",
   "source": [
    "First we setup the silicon lattice in DFTK."
   ],
   "metadata": {}
  },
  {
   "outputs": [],
   "cell_type": "code",
   "source": [
    "using DFTK\n",
    "\n",
    "a = 10.263141334305942  # Lattice constant in Bohr\n",
    "lattice = a / 2 .* [[0 1 1.]; [1 0 1.]; [1 1 0.]]\n",
    "Si = ElementPsp(:Si, psp=load_psp(\"hgh/lda/Si-q4\"))\n",
    "atoms = [Si => [ones(3)/8, -ones(3)/8]];"
   ],
   "metadata": {},
   "execution_count": 1
  },
  {
   "cell_type": "markdown",
   "source": [
    "Next we make a `[2, 2, 2]` supercell using pymatgen"
   ],
   "metadata": {}
  },
  {
   "outputs": [],
   "cell_type": "code",
   "source": [
    "pystruct = pymatgen_structure(lattice, atoms)\n",
    "pystruct.make_supercell([2, 2, 2])\n",
    "lattice = load_lattice(pystruct)\n",
    "atoms = [Si => [s.frac_coords for s in pystruct.sites]];"
   ],
   "metadata": {},
   "execution_count": 2
  },
  {
   "cell_type": "markdown",
   "source": [
    "Setup an LDA model and discretize using\n",
    "a single kpoint and a small `Ecut` of 5 Hartree."
   ],
   "metadata": {}
  },
  {
   "outputs": [
    {
     "output_type": "execute_result",
     "data": {
      "text/plain": "PlaneWaveBasis (Ecut=5.0, 1 kpoints)"
     },
     "metadata": {},
     "execution_count": 3
    }
   ],
   "cell_type": "code",
   "source": [
    "model = model_LDA(lattice, atoms)\n",
    "basis = PlaneWaveBasis(model, 5, kgrid=(1, 1, 1))"
   ],
   "metadata": {},
   "execution_count": 3
  },
  {
   "cell_type": "markdown",
   "source": [
    "Find the ground state using direct minimisation (always using SCF is boring ...)"
   ],
   "metadata": {}
  },
  {
   "outputs": [
    {
     "name": "stdout",
     "output_type": "stream",
     "text": [
      "Iter     Function value   Gradient norm \n",
      "     0     1.124727e+02     1.689042e+00\n",
      " * time: 0.08120584487915039\n",
      "     1     1.081341e+01     9.317408e-01\n",
      " * time: 1.5418529510498047\n",
      "     2    -1.162880e+01     1.084074e+00\n",
      " * time: 1.631497859954834\n",
      "     3    -3.388843e+01     8.365345e-01\n",
      " * time: 1.748384952545166\n",
      "     4    -4.733366e+01     5.965129e-01\n",
      " * time: 1.9098739624023438\n",
      "     5    -5.671839e+01     2.021722e-01\n",
      " * time: 2.007145881652832\n",
      "     6    -5.963250e+01     1.403790e-01\n",
      " * time: 2.0826778411865234\n",
      "     7    -6.075847e+01     5.135033e-02\n",
      " * time: 2.1718249320983887\n",
      "     8    -6.118526e+01     6.484522e-02\n",
      " * time: 2.246706962585449\n",
      "     9    -6.148987e+01     4.938019e-02\n",
      " * time: 2.3247568607330322\n",
      "    10    -6.173955e+01     3.845147e-02\n",
      " * time: 2.402040958404541\n",
      "    11    -6.194894e+01     2.121933e-02\n",
      " * time: 2.4865598678588867\n",
      "    12    -6.203804e+01     1.879116e-02\n",
      " * time: 2.564116954803467\n",
      "    13    -6.213461e+01     1.816842e-02\n",
      " * time: 2.642071008682251\n",
      "    14    -6.217360e+01     1.412361e-02\n",
      " * time: 2.7159698009490967\n",
      "    15    -6.220868e+01     9.469039e-03\n",
      " * time: 2.800668954849243\n",
      "    16    -6.222412e+01     6.969013e-03\n",
      " * time: 2.8807568550109863\n",
      "    17    -6.223439e+01     5.939016e-03\n",
      " * time: 2.957643985748291\n",
      "    18    -6.224104e+01     4.782311e-03\n",
      " * time: 3.033545970916748\n",
      "    19    -6.224565e+01     4.404722e-03\n",
      " * time: 3.1177239418029785\n",
      "    20    -6.224941e+01     4.067268e-03\n",
      " * time: 3.195882797241211\n",
      "    21    -6.225287e+01     3.746498e-03\n",
      " * time: 3.275031805038452\n",
      "    22    -6.225601e+01     3.676853e-03\n",
      " * time: 3.357970952987671\n",
      "    23    -6.225844e+01     2.873986e-03\n",
      " * time: 3.4396770000457764\n",
      "    24    -6.226004e+01     2.254246e-03\n",
      " * time: 3.514833927154541\n",
      "    25    -6.226090e+01     1.507017e-03\n",
      " * time: 3.6011459827423096\n",
      "    26    -6.226129e+01     9.098007e-04\n",
      " * time: 3.684112787246704\n",
      "    27    -6.226146e+01     5.801140e-04\n",
      " * time: 3.7650339603424072\n",
      "    28    -6.226154e+01     4.892298e-04\n",
      " * time: 3.8473730087280273\n",
      "    29    -6.226158e+01     4.757244e-04\n",
      " * time: 3.9249320030212402\n",
      "    30    -6.226161e+01     4.076561e-04\n",
      " * time: 4.008540868759155\n",
      "    31    -6.226163e+01     3.305210e-04\n",
      " * time: 4.088329792022705\n",
      "    32    -6.226164e+01     2.572776e-04\n",
      " * time: 4.1668479442596436\n",
      "    33    -6.226165e+01     1.840437e-04\n",
      " * time: 4.2463219165802\n",
      "    34    -6.226166e+01     1.396445e-04\n",
      " * time: 4.331648826599121\n",
      "    35    -6.226166e+01     1.238697e-04\n",
      " * time: 4.411785840988159\n",
      "    36    -6.226166e+01     7.977846e-05\n",
      " * time: 4.489288806915283\n",
      "    37    -6.226167e+01     7.263086e-05\n",
      " * time: 4.569924831390381\n",
      "    38    -6.226167e+01     4.269446e-05\n",
      " * time: 4.6473000049591064\n",
      "    39    -6.226167e+01     3.049757e-05\n",
      " * time: 4.72507381439209\n",
      "    40    -6.226167e+01     2.456849e-05\n",
      " * time: 4.7999138832092285\n",
      "    41    -6.226167e+01     2.257050e-05\n",
      " * time: 4.885633945465088\n",
      "    42    -6.226167e+01     1.755574e-05\n",
      " * time: 4.973887920379639\n",
      "    43    -6.226167e+01     1.342072e-05\n",
      " * time: 5.061059951782227\n",
      "    44    -6.226167e+01     1.160664e-05\n",
      " * time: 5.1357948780059814\n",
      "    45    -6.226167e+01     1.121936e-05\n",
      " * time: 5.222803831100464\n",
      "    46    -6.226167e+01     7.478099e-06\n",
      " * time: 5.302376985549927\n",
      "    47    -6.226167e+01     5.084127e-06\n",
      " * time: 5.378511905670166\n",
      "    48    -6.226167e+01     3.229320e-06\n",
      " * time: 5.466447830200195\n",
      "    49    -6.226167e+01     2.253030e-06\n",
      " * time: 5.543405771255493\n"
     ]
    }
   ],
   "cell_type": "code",
   "source": [
    "scfres = direct_minimization(basis, tol=1e-5);"
   ],
   "metadata": {},
   "execution_count": 4
  },
  {
   "outputs": [
    {
     "output_type": "execute_result",
     "data": {
      "text/plain": "Energy breakdown:\n    Kinetic             25.7671061\n    AtomicLocal         -18.8557674\n    AtomicNonlocal      14.8522652\n    Ewald               -67.1831486\n    PspCorrection       -2.3569765\n    Hartree             4.8485366 \n    Xc                  -19.3336817\n\n    total               -62.261666461693\n"
     },
     "metadata": {},
     "execution_count": 5
    }
   ],
   "cell_type": "code",
   "source": [
    "scfres.energies"
   ],
   "metadata": {},
   "execution_count": 5
  }
 ],
 "nbformat_minor": 3,
 "metadata": {
  "language_info": {
   "file_extension": ".jl",
   "mimetype": "application/julia",
   "name": "julia",
   "version": "1.5.3"
  },
  "kernelspec": {
   "name": "julia-1.5",
   "display_name": "Julia 1.5.3",
   "language": "julia"
  }
 },
 "nbformat": 4
}
