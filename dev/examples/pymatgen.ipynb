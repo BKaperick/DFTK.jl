{
 "cells": [
  {
   "cell_type": "markdown",
   "source": [
    "# Creating supercells with pymatgen\n",
    "\n",
    "The [Pymatgen](https://pymatgen.org/) python library allows to setup\n",
    "solid-state calculations using a flexible set of classes as well as an API\n",
    "to an online data base of structures. Its `Structure` and `Lattice`\n",
    "objects are directly supported by the DFTK `load_atoms` and `load_lattice`\n",
    "functions, such that DFTK may be readily used to run calculation on systems\n",
    "defined in pymatgen. Using the `pymatgen_structure` function a conversion\n",
    "from DFTK to pymatgen structures is also possible. In the following we\n",
    "use this to create a silicon supercell and find its LDA ground state\n",
    "using direct minimisation."
   ],
   "metadata": {}
  },
  {
   "cell_type": "markdown",
   "source": [
    "First we setup the silicon lattice in DFTK."
   ],
   "metadata": {}
  },
  {
   "outputs": [],
   "cell_type": "code",
   "source": [
    "using DFTK\n",
    "\n",
    "a = 10.263141334305942  # Lattice constant in Bohr\n",
    "lattice = a / 2 .* [[0 1 1.]; [1 0 1.]; [1 1 0.]]\n",
    "Si = ElementPsp(:Si, psp=load_psp(\"hgh/lda/Si-q4\"))\n",
    "atoms = [Si => [ones(3)/8, -ones(3)/8]];"
   ],
   "metadata": {},
   "execution_count": 1
  },
  {
   "cell_type": "markdown",
   "source": [
    "Next we make a `[2, 2, 2]` supercell using pymatgen"
   ],
   "metadata": {}
  },
  {
   "outputs": [],
   "cell_type": "code",
   "source": [
    "pystruct = pymatgen_structure(lattice, atoms)\n",
    "pystruct.make_supercell([2, 2, 2])\n",
    "lattice = load_lattice(pystruct)\n",
    "atoms = [Si => [s.frac_coords for s in pystruct.sites]];"
   ],
   "metadata": {},
   "execution_count": 2
  },
  {
   "cell_type": "markdown",
   "source": [
    "Setup an LDA model and discretize using\n",
    "a single kpoint and a small `Ecut` of 5 Hartree."
   ],
   "metadata": {}
  },
  {
   "outputs": [
    {
     "output_type": "execute_result",
     "data": {
      "text/plain": "PlaneWaveBasis (Ecut=5.0, 1 kpoints)"
     },
     "metadata": {},
     "execution_count": 3
    }
   ],
   "cell_type": "code",
   "source": [
    "model = model_LDA(lattice, atoms)\n",
    "basis = PlaneWaveBasis(model, 5, kgrid=(1, 1, 1))"
   ],
   "metadata": {},
   "execution_count": 3
  },
  {
   "cell_type": "markdown",
   "source": [
    "Find the ground state using direct minimisation (always using SCF is boring ...)"
   ],
   "metadata": {}
  },
  {
   "outputs": [
    {
     "name": "stdout",
     "output_type": "stream",
     "text": [
      "Iter     Function value   Gradient norm \n",
      "     0     1.121553e+02     1.414435e+00\n",
      " * time: 0.7087199687957764\n",
      "     1     1.008747e+01     7.580316e-01\n",
      " * time: 2.112499952316284\n",
      "     2    -1.187804e+01     9.568096e-01\n",
      " * time: 2.8052430152893066\n",
      "     3    -3.429310e+01     6.947166e-01\n",
      " * time: 3.8299400806427\n",
      "     4    -4.764192e+01     4.861383e-01\n",
      " * time: 4.883531093597412\n",
      "     5    -5.702864e+01     1.910113e-01\n",
      " * time: 5.902583122253418\n",
      "     6    -5.986840e+01     1.398062e-01\n",
      " * time: 6.594900131225586\n",
      "     7    -6.094135e+01     4.970255e-02\n",
      " * time: 7.31464695930481\n",
      "     8    -6.136843e+01     5.033988e-02\n",
      " * time: 8.001984119415283\n",
      "     9    -6.162257e+01     4.667663e-02\n",
      " * time: 8.69707202911377\n",
      "    10    -6.183670e+01     2.488093e-02\n",
      " * time: 9.432886123657227\n",
      "    11    -6.200095e+01     2.034833e-02\n",
      " * time: 10.127192974090576\n",
      "    12    -6.208145e+01     1.960965e-02\n",
      " * time: 10.785660982131958\n",
      "    13    -6.214116e+01     1.318303e-02\n",
      " * time: 11.464699983596802\n",
      "    14    -6.217803e+01     1.127780e-02\n",
      " * time: 12.144465923309326\n",
      "    15    -6.220309e+01     9.886941e-03\n",
      " * time: 12.810512065887451\n",
      "    16    -6.221876e+01     8.221665e-03\n",
      " * time: 13.506520986557007\n",
      "    17    -6.222975e+01     6.558379e-03\n",
      " * time: 14.198260068893433\n",
      "    18    -6.223759e+01     6.202118e-03\n",
      " * time: 14.88997197151184\n",
      "    19    -6.224366e+01     6.327682e-03\n",
      " * time: 15.565207958221436\n",
      "    20    -6.224852e+01     5.265048e-03\n",
      " * time: 16.244261980056763\n",
      "    21    -6.225278e+01     4.821595e-03\n",
      " * time: 16.948800086975098\n",
      "    22    -6.225635e+01     3.487193e-03\n",
      " * time: 17.630906105041504\n",
      "    23    -6.225886e+01     2.988791e-03\n",
      " * time: 18.32141399383545\n",
      "    24    -6.226025e+01     1.944273e-03\n",
      " * time: 19.01550006866455\n",
      "    25    -6.226098e+01     1.385850e-03\n",
      " * time: 19.70903491973877\n",
      "    26    -6.226132e+01     8.619908e-04\n",
      " * time: 20.38800811767578\n",
      "    27    -6.226147e+01     7.075227e-04\n",
      " * time: 21.06675410270691\n",
      "    28    -6.226154e+01     4.764121e-04\n",
      " * time: 21.796378135681152\n",
      "    29    -6.226158e+01     4.491684e-04\n",
      " * time: 22.462239980697632\n",
      "    30    -6.226161e+01     4.086093e-04\n",
      " * time: 23.135374069213867\n",
      "    31    -6.226163e+01     3.176189e-04\n",
      " * time: 23.809385061264038\n",
      "    32    -6.226164e+01     2.702781e-04\n",
      " * time: 24.49058198928833\n",
      "    33    -6.226165e+01     2.136279e-04\n",
      " * time: 25.15309190750122\n",
      "    34    -6.226166e+01     1.472914e-04\n",
      " * time: 25.823200941085815\n",
      "    35    -6.226166e+01     1.374977e-04\n",
      " * time: 26.507159948349\n",
      "    36    -6.226166e+01     6.529611e-05\n",
      " * time: 27.180848121643066\n",
      "    37    -6.226167e+01     5.140094e-05\n",
      " * time: 27.84736394882202\n",
      "    38    -6.226167e+01     3.673710e-05\n",
      " * time: 28.535932064056396\n",
      "    39    -6.226167e+01     2.712166e-05\n",
      " * time: 29.22538113594055\n",
      "    40    -6.226167e+01     2.107291e-05\n",
      " * time: 29.907851934432983\n",
      "    41    -6.226167e+01     1.550055e-05\n",
      " * time: 30.57712411880493\n",
      "    42    -6.226167e+01     1.157946e-05\n",
      " * time: 31.24242901802063\n",
      "    43    -6.226167e+01     1.023587e-05\n",
      " * time: 31.904848098754883\n",
      "    44    -6.226167e+01     7.283840e-06\n",
      " * time: 32.57259798049927\n",
      "    45    -6.226167e+01     6.078865e-06\n",
      " * time: 33.23715901374817\n",
      "    46    -6.226167e+01     5.933394e-06\n",
      " * time: 33.922744035720825\n",
      "    47    -6.226167e+01     4.948037e-06\n",
      " * time: 34.58969497680664\n",
      "    48    -6.226167e+01     3.773272e-06\n",
      " * time: 35.269444942474365\n",
      "    49    -6.226167e+01     2.431415e-06\n",
      " * time: 35.94163799285889\n"
     ]
    }
   ],
   "cell_type": "code",
   "source": [
    "scfres = direct_minimization(basis, tol=1e-5);"
   ],
   "metadata": {},
   "execution_count": 4
  },
  {
   "outputs": [
    {
     "output_type": "execute_result",
     "data": {
      "text/plain": "Energy breakdown:\n    Kinetic             25.7671062\n    AtomicLocal         -18.8557696\n    AtomicNonlocal      14.8522669\n    Ewald               -67.1831486\n    PspCorrection       -2.3569765\n    Hartree             4.8485371 \n    Xc                  -19.3336819\n\n    total               -62.261666461284\n"
     },
     "metadata": {},
     "execution_count": 5
    }
   ],
   "cell_type": "code",
   "source": [
    "scfres.energies"
   ],
   "metadata": {},
   "execution_count": 5
  }
 ],
 "nbformat_minor": 3,
 "metadata": {
  "language_info": {
   "file_extension": ".jl",
   "mimetype": "application/julia",
   "name": "julia",
   "version": "1.6.2"
  },
  "kernelspec": {
   "name": "julia-1.6",
   "display_name": "Julia 1.6.2",
   "language": "julia"
  }
 },
 "nbformat": 4
}
