{
 "cells": [
  {
   "cell_type": "markdown",
   "source": [
    "# Creating supercells with pymatgen\n",
    "\n",
    "The [Pymatgen](https://pymatgen.org/) python library allows to setup\n",
    "solid-state calculations using a flexible set of classes as well as an API\n",
    "to an online data base of structures. Its `Structure` and `Lattice`\n",
    "objects are directly supported by the DFTK `load_atoms` and `load_lattice`\n",
    "functions, such that DFTK may be readily used to run calculation on systems\n",
    "defined in pymatgen. Using the `pymatgen_structure` function a conversion\n",
    "from DFTK to pymatgen structures is also possible. In the following we\n",
    "use this to create a silicon supercell and find its LDA ground state\n",
    "using direct minimisation."
   ],
   "metadata": {}
  },
  {
   "cell_type": "markdown",
   "source": [
    "First we setup the silicon lattice in DFTK."
   ],
   "metadata": {}
  },
  {
   "outputs": [],
   "cell_type": "code",
   "source": [
    "using DFTK\n",
    "\n",
    "a = 10.263141334305942  # Lattice constant in Bohr\n",
    "lattice = a / 2 .* [[0 1 1.]; [1 0 1.]; [1 1 0.]]\n",
    "Si = ElementPsp(:Si, psp=load_psp(\"hgh/lda/Si-q4\"))\n",
    "atoms = [Si => [ones(3)/8, -ones(3)/8]];"
   ],
   "metadata": {},
   "execution_count": 1
  },
  {
   "cell_type": "markdown",
   "source": [
    "Next we make a `[2, 2, 2]` supercell using pymatgen"
   ],
   "metadata": {}
  },
  {
   "outputs": [],
   "cell_type": "code",
   "source": [
    "pystruct = pymatgen_structure(lattice, atoms)\n",
    "pystruct.make_supercell([2, 2, 2])\n",
    "lattice = load_lattice(pystruct)\n",
    "atoms = [Si => [s.frac_coords for s in pystruct.sites]];"
   ],
   "metadata": {},
   "execution_count": 2
  },
  {
   "cell_type": "markdown",
   "source": [
    "Setup an LDA model and discretize using\n",
    "a single kpoint and a small `Ecut` of 5 Hartree."
   ],
   "metadata": {}
  },
  {
   "outputs": [
    {
     "output_type": "execute_result",
     "data": {
      "text/plain": "PlaneWaveBasis (Ecut=5.0, 1 kpoints)"
     },
     "metadata": {},
     "execution_count": 3
    }
   ],
   "cell_type": "code",
   "source": [
    "model = model_LDA(lattice, atoms)\n",
    "basis = PlaneWaveBasis(model, 5, kgrid=(1, 1, 1))"
   ],
   "metadata": {},
   "execution_count": 3
  },
  {
   "cell_type": "markdown",
   "source": [
    "Find the ground state using direct minimisation (always using SCF is boring ...)"
   ],
   "metadata": {}
  },
  {
   "outputs": [
    {
     "name": "stdout",
     "output_type": "stream",
     "text": [
      "Iter     Function value   Gradient norm \n",
      "     0     1.120922e+02     1.431902e+00\n",
      " * time: 0.8017950057983398\n",
      "     1     1.032434e+01     9.097283e-01\n",
      " * time: 2.206709861755371\n",
      "     2    -1.196531e+01     9.237721e-01\n",
      " * time: 2.9528048038482666\n",
      "     3    -3.403873e+01     7.247340e-01\n",
      " * time: 4.014460802078247\n",
      "     4    -4.754778e+01     5.137786e-01\n",
      " * time: 5.0277488231658936\n",
      "     5    -5.678398e+01     2.161218e-01\n",
      " * time: 6.052175998687744\n",
      "     6    -5.970145e+01     1.048394e-01\n",
      " * time: 6.769385814666748\n",
      "     7    -6.082019e+01     5.293212e-02\n",
      " * time: 7.496100902557373\n",
      "     8    -6.123552e+01     5.948077e-02\n",
      " * time: 8.18645191192627\n",
      "     9    -6.152069e+01     3.570161e-02\n",
      " * time: 8.884228944778442\n",
      "    10    -6.175345e+01     2.631654e-02\n",
      " * time: 9.597704887390137\n",
      "    11    -6.195547e+01     2.309324e-02\n",
      " * time: 10.296661853790283\n",
      "    12    -6.203558e+01     1.980681e-02\n",
      " * time: 11.000824928283691\n",
      "    13    -6.212001e+01     1.302563e-02\n",
      " * time: 11.689939975738525\n",
      "    14    -6.215049e+01     1.390355e-02\n",
      " * time: 12.396039962768555\n",
      "    15    -6.218037e+01     8.867502e-03\n",
      " * time: 13.096532821655273\n",
      "    16    -6.219424e+01     8.642511e-03\n",
      " * time: 13.78755784034729\n",
      "    17    -6.220606e+01     8.370297e-03\n",
      " * time: 14.477768898010254\n",
      "    18    -6.221375e+01     8.123208e-03\n",
      " * time: 15.171971797943115\n",
      "    19    -6.221995e+01     5.990454e-03\n",
      " * time: 15.86549186706543\n",
      "    20    -6.222525e+01     6.161428e-03\n",
      " * time: 16.565173864364624\n",
      "    21    -6.223081e+01     5.034907e-03\n",
      " * time: 17.25138282775879\n",
      "    22    -6.223696e+01     5.600797e-03\n",
      " * time: 17.952427864074707\n",
      "    23    -6.224336e+01     5.621941e-03\n",
      " * time: 18.648127794265747\n",
      "    24    -6.224924e+01     4.736993e-03\n",
      " * time: 19.338716983795166\n",
      "    25    -6.225397e+01     4.398316e-03\n",
      " * time: 20.062063932418823\n",
      "    26    -6.225706e+01     3.144700e-03\n",
      " * time: 20.761043787002563\n",
      "    27    -6.225883e+01     2.670457e-03\n",
      " * time: 21.467801809310913\n",
      "    28    -6.225980e+01     2.326574e-03\n",
      " * time: 22.15740394592285\n",
      "    29    -6.226042e+01     1.626528e-03\n",
      " * time: 22.893075942993164\n",
      "    30    -6.226085e+01     1.298817e-03\n",
      " * time: 23.592249870300293\n",
      "    31    -6.226114e+01     9.671851e-04\n",
      " * time: 24.286184787750244\n",
      "    32    -6.226134e+01     8.737281e-04\n",
      " * time: 24.982350826263428\n",
      "    33    -6.226148e+01     6.563465e-04\n",
      " * time: 25.700999975204468\n",
      "    34    -6.226156e+01     5.916441e-04\n",
      " * time: 26.394205808639526\n",
      "    35    -6.226161e+01     3.514655e-04\n",
      " * time: 27.09622287750244\n",
      "    36    -6.226164e+01     2.745573e-04\n",
      " * time: 27.789495944976807\n",
      "    37    -6.226165e+01     1.691024e-04\n",
      " * time: 28.510554790496826\n",
      "    38    -6.226166e+01     1.266892e-04\n",
      " * time: 29.217763900756836\n",
      "    39    -6.226166e+01     9.205656e-05\n",
      " * time: 29.9059739112854\n",
      "    40    -6.226166e+01     7.657717e-05\n",
      " * time: 30.597954988479614\n",
      "    41    -6.226166e+01     6.944868e-05\n",
      " * time: 31.32128381729126\n",
      "    42    -6.226166e+01     4.652283e-05\n",
      " * time: 32.02085280418396\n",
      "    43    -6.226167e+01     4.128834e-05\n",
      " * time: 32.71555995941162\n",
      "    44    -6.226167e+01     3.895248e-05\n",
      " * time: 33.41187000274658\n",
      "    45    -6.226167e+01     3.290018e-05\n",
      " * time: 34.141138792037964\n",
      "    46    -6.226167e+01     2.403470e-05\n",
      " * time: 34.84184980392456\n",
      "    47    -6.226167e+01     1.519389e-05\n",
      " * time: 35.547852993011475\n",
      "    48    -6.226167e+01     1.220429e-05\n",
      " * time: 36.2377769947052\n",
      "    49    -6.226167e+01     8.062528e-06\n",
      " * time: 36.96420097351074\n",
      "    50    -6.226167e+01     6.333002e-06\n",
      " * time: 37.663514852523804\n",
      "    51    -6.226167e+01     4.343465e-06\n",
      " * time: 38.361900806427\n",
      "    52    -6.226167e+01     3.473485e-06\n",
      " * time: 39.048200845718384\n",
      "    53    -6.226167e+01     2.910157e-06\n",
      " * time: 39.757903814315796\n"
     ]
    }
   ],
   "cell_type": "code",
   "source": [
    "scfres = direct_minimization(basis, tol=1e-5);"
   ],
   "metadata": {},
   "execution_count": 4
  },
  {
   "outputs": [
    {
     "output_type": "execute_result",
     "data": {
      "text/plain": "Energy breakdown:\n    Kinetic             25.7671075\n    AtomicLocal         -18.8557672\n    AtomicNonlocal      14.8522631\n    Ewald               -67.1831486\n    PspCorrection       -2.3569765\n    Hartree             4.8485376 \n    Xc                  -19.3336822\n\n    total               -62.261666459325\n"
     },
     "metadata": {},
     "execution_count": 5
    }
   ],
   "cell_type": "code",
   "source": [
    "scfres.energies"
   ],
   "metadata": {},
   "execution_count": 5
  }
 ],
 "nbformat_minor": 3,
 "metadata": {
  "language_info": {
   "file_extension": ".jl",
   "mimetype": "application/julia",
   "name": "julia",
   "version": "1.6.2"
  },
  "kernelspec": {
   "name": "julia-1.6",
   "display_name": "Julia 1.6.2",
   "language": "julia"
  }
 },
 "nbformat": 4
}
