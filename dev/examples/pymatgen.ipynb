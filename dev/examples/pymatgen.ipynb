{
 "cells": [
  {
   "cell_type": "markdown",
   "source": [
    "# Creating supercells with pymatgen\n",
    "\n",
    "The [Pymatgen](https://pymatgen.org/) python library allows to setup\n",
    "solid-state calculations using a flexible set of classes as well as an API\n",
    "to an online data base of structures. Its `Structure` and `Lattice`\n",
    "objects are directly supported by the DFTK `load_atoms` and `load_lattice`\n",
    "functions, such that DFTK may be readily used to run calculation on systems\n",
    "defined in pymatgen. Using the `pymatgen_structure` function a conversion\n",
    "from DFTK to pymatgen structures is also possible. In the following we\n",
    "use this to create a silicon supercell and find its LDA ground state\n",
    "using direct minimisation."
   ],
   "metadata": {}
  },
  {
   "cell_type": "markdown",
   "source": [
    "First we setup the silicon lattice in DFTK."
   ],
   "metadata": {}
  },
  {
   "outputs": [],
   "cell_type": "code",
   "source": [
    "using DFTK\n",
    "\n",
    "a = 10.263141334305942  # Lattice constant in Bohr\n",
    "lattice = a / 2 .* [[0 1 1.]; [1 0 1.]; [1 1 0.]]\n",
    "Si = ElementPsp(:Si, psp=load_psp(\"hgh/lda/Si-q4\"))\n",
    "atoms = [Si => [ones(3)/8, -ones(3)/8]];"
   ],
   "metadata": {},
   "execution_count": 1
  },
  {
   "cell_type": "markdown",
   "source": [
    "Next we make a `[2, 2, 2]` supercell using pymatgen"
   ],
   "metadata": {}
  },
  {
   "outputs": [],
   "cell_type": "code",
   "source": [
    "pystruct = pymatgen_structure(lattice, atoms)\n",
    "pystruct.make_supercell([2, 2, 2])\n",
    "lattice = load_lattice(pystruct)\n",
    "atoms = [Si => [s.frac_coords for s in pystruct.sites]];"
   ],
   "metadata": {},
   "execution_count": 2
  },
  {
   "cell_type": "markdown",
   "source": [
    "Setup an LDA model and discretize using\n",
    "a single kpoint and a small `Ecut` of 5 Hartree.\n",
    "Notice that `PlaneWaveBasis` defaults to just using the ``Γ``-point\n",
    "if no ``k``-point options are provided."
   ],
   "metadata": {}
  },
  {
   "outputs": [
    {
     "output_type": "execute_result",
     "data": {
      "text/plain": "PlaneWaveBasis (Ecut=5.0, 1 kpoints)"
     },
     "metadata": {},
     "execution_count": 3
    }
   ],
   "cell_type": "code",
   "source": [
    "model = model_LDA(lattice, atoms)\n",
    "basis = PlaneWaveBasis(model, 5)"
   ],
   "metadata": {},
   "execution_count": 3
  },
  {
   "cell_type": "markdown",
   "source": [
    "Find the ground state using direct minimisation (always using SCF is boring ...)"
   ],
   "metadata": {}
  },
  {
   "outputs": [
    {
     "name": "stdout",
     "output_type": "stream",
     "text": [
      "Iter     Function value   Gradient norm \n",
      "     0     1.116430e+02     1.492842e+00\n",
      " * time: 0.0914149284362793\n",
      "     1     1.117029e+01     8.384320e-01\n",
      " * time: 0.9414229393005371\n",
      "     2    -1.147040e+01     9.749639e-01\n",
      " * time: 1.0898230075836182\n",
      "     3    -3.384655e+01     7.158844e-01\n",
      " * time: 1.2578189373016357\n",
      "     4    -4.734590e+01     5.599326e-01\n",
      " * time: 1.3954100608825684\n",
      "     5    -5.678913e+01     2.198528e-01\n",
      " * time: 1.545083999633789\n",
      "     6    -5.967231e+01     1.855118e-01\n",
      " * time: 1.6596200466156006\n",
      "     7    -6.088511e+01     7.935174e-02\n",
      " * time: 1.766761064529419\n",
      "     8    -6.141259e+01     4.384559e-02\n",
      " * time: 1.8815479278564453\n",
      "     9    -6.170137e+01     3.221528e-02\n",
      " * time: 1.9889049530029297\n",
      "    10    -6.185135e+01     3.480195e-02\n",
      " * time: 2.1043601036071777\n",
      "    11    -6.198259e+01     2.106756e-02\n",
      " * time: 2.2111401557922363\n",
      "    12    -6.205579e+01     1.585453e-02\n",
      " * time: 2.3250491619110107\n",
      "    13    -6.210047e+01     1.505056e-02\n",
      " * time: 2.4340660572052\n",
      "    14    -6.213857e+01     1.411651e-02\n",
      " * time: 2.5490190982818604\n",
      "    15    -6.216506e+01     1.350711e-02\n",
      " * time: 2.656275987625122\n",
      "    16    -6.218661e+01     1.214425e-02\n",
      " * time: 2.771355152130127\n",
      "    17    -6.220161e+01     1.007979e-02\n",
      " * time: 2.8795621395111084\n",
      "    18    -6.221373e+01     1.048621e-02\n",
      " * time: 2.996535062789917\n",
      "    19    -6.222252e+01     8.474411e-03\n",
      " * time: 3.1040451526641846\n",
      "    20    -6.222969e+01     8.166593e-03\n",
      " * time: 3.2389769554138184\n",
      "    21    -6.223647e+01     6.183569e-03\n",
      " * time: 3.345935106277466\n",
      "    22    -6.224333e+01     4.845424e-03\n",
      " * time: 3.460768938064575\n",
      "    23    -6.224948e+01     4.380487e-03\n",
      " * time: 3.5675010681152344\n",
      "    24    -6.225396e+01     4.025475e-03\n",
      " * time: 3.6831400394439697\n",
      "    25    -6.225718e+01     3.289818e-03\n",
      " * time: 3.7913169860839844\n",
      "    26    -6.225902e+01     2.657209e-03\n",
      " * time: 3.925971031188965\n",
      "    27    -6.226001e+01     1.982431e-03\n",
      " * time: 4.034899950027466\n",
      "    28    -6.226054e+01     1.478589e-03\n",
      " * time: 4.149654150009155\n",
      "    29    -6.226089e+01     1.312752e-03\n",
      " * time: 4.257703065872192\n",
      "    30    -6.226116e+01     1.121112e-03\n",
      " * time: 4.37532114982605\n",
      "    31    -6.226133e+01     9.181080e-04\n",
      " * time: 4.48419713973999\n",
      "    32    -6.226146e+01     6.134188e-04\n",
      " * time: 4.599628925323486\n",
      "    33    -6.226154e+01     6.395359e-04\n",
      " * time: 4.706958055496216\n",
      "    34    -6.226160e+01     4.486631e-04\n",
      " * time: 4.823029041290283\n",
      "    35    -6.226163e+01     3.744042e-04\n",
      " * time: 4.9294610023498535\n",
      "    36    -6.226165e+01     1.903550e-04\n",
      " * time: 5.043271064758301\n",
      "    37    -6.226166e+01     1.338633e-04\n",
      " * time: 5.148713111877441\n",
      "    38    -6.226166e+01     1.047085e-04\n",
      " * time: 5.263585090637207\n",
      "    39    -6.226166e+01     7.057447e-05\n",
      " * time: 5.37293004989624\n",
      "    40    -6.226166e+01     6.432073e-05\n",
      " * time: 5.488302946090698\n",
      "    41    -6.226167e+01     5.039846e-05\n",
      " * time: 5.595360040664673\n",
      "    42    -6.226167e+01     3.885038e-05\n",
      " * time: 5.710262060165405\n",
      "    43    -6.226167e+01     2.932260e-05\n",
      " * time: 5.817486047744751\n",
      "    44    -6.226167e+01     2.255421e-05\n",
      " * time: 5.932877063751221\n",
      "    45    -6.226167e+01     2.190067e-05\n",
      " * time: 6.041463136672974\n",
      "    46    -6.226167e+01     1.586902e-05\n",
      " * time: 6.15583610534668\n",
      "    47    -6.226167e+01     1.058341e-05\n",
      " * time: 6.263282060623169\n",
      "    48    -6.226167e+01     8.227095e-06\n",
      " * time: 6.376971960067749\n",
      "    49    -6.226167e+01     6.786387e-06\n",
      " * time: 6.485526084899902\n",
      "    50    -6.226167e+01     4.774497e-06\n",
      " * time: 6.611763954162598\n"
     ]
    }
   ],
   "cell_type": "code",
   "source": [
    "scfres = direct_minimization(basis, tol=1e-5);"
   ],
   "metadata": {},
   "execution_count": 4
  },
  {
   "outputs": [
    {
     "output_type": "execute_result",
     "data": {
      "text/plain": "Energy breakdown:\n    Kinetic             25.7671067\n    AtomicLocal         -18.8557745\n    AtomicNonlocal      14.8522707\n    Ewald               -67.1831486\n    PspCorrection       -2.3569765\n    Hartree             4.8485381 \n    Xc                  -19.3336823\n\n    total               -62.261666453130\n"
     },
     "metadata": {},
     "execution_count": 5
    }
   ],
   "cell_type": "code",
   "source": [
    "scfres.energies"
   ],
   "metadata": {},
   "execution_count": 5
  }
 ],
 "nbformat_minor": 3,
 "metadata": {
  "language_info": {
   "file_extension": ".jl",
   "mimetype": "application/julia",
   "name": "julia",
   "version": "1.3.1"
  },
  "kernelspec": {
   "name": "julia-1.3",
   "display_name": "Julia 1.3.1",
   "language": "julia"
  }
 },
 "nbformat": 4
}
