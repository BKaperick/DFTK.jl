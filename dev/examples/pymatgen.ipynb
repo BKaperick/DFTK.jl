{
 "cells": [
  {
   "cell_type": "markdown",
   "source": [
    "# Creating supercells with pymatgen\n",
    "\n",
    "The [Pymatgen](https://pymatgen.org/) python library allows to setup\n",
    "solid-state calculations using a flexible set of classes as well as an API\n",
    "to an online data base of structures. Its `Structure` and `Lattice`\n",
    "objects are directly supported by the DFTK `load_atoms` and `load_lattice`\n",
    "functions, such that DFTK may be readily used to run calculation on systems\n",
    "defined in pymatgen. Using the `pymatgen_structure` function a conversion\n",
    "from DFTK to pymatgen structures is also possible. In the following we\n",
    "use this to create a silicon supercell and find its LDA ground state\n",
    "using direct minimisation."
   ],
   "metadata": {}
  },
  {
   "cell_type": "markdown",
   "source": [
    "First we setup the silicon lattice in DFTK."
   ],
   "metadata": {}
  },
  {
   "outputs": [],
   "cell_type": "code",
   "source": [
    "using DFTK\n",
    "\n",
    "a = 10.263141334305942  # Lattice constant in Bohr\n",
    "lattice = a / 2 .* [[0 1 1.]; [1 0 1.]; [1 1 0.]]\n",
    "Si = ElementPsp(:Si, psp=load_psp(\"hgh/lda/Si-q4\"))\n",
    "atoms = [Si => [ones(3)/8, -ones(3)/8]];"
   ],
   "metadata": {},
   "execution_count": 1
  },
  {
   "cell_type": "markdown",
   "source": [
    "Next we make a `[2, 2, 2]` supercell using pymatgen"
   ],
   "metadata": {}
  },
  {
   "outputs": [],
   "cell_type": "code",
   "source": [
    "pystruct = pymatgen_structure(lattice, atoms)\n",
    "pystruct.make_supercell([2, 2, 2])\n",
    "lattice = load_lattice(pystruct)\n",
    "atoms = [Si => [s.frac_coords for s in pystruct.sites]];"
   ],
   "metadata": {},
   "execution_count": 2
  },
  {
   "cell_type": "markdown",
   "source": [
    "Setup an LDA model and discretize using\n",
    "a single kpoint and a small `Ecut` of 5 Hartree."
   ],
   "metadata": {}
  },
  {
   "outputs": [
    {
     "output_type": "execute_result",
     "data": {
      "text/plain": "PlaneWaveBasis (Ecut=5.0, 1 kpoints)"
     },
     "metadata": {},
     "execution_count": 3
    }
   ],
   "cell_type": "code",
   "source": [
    "model = model_LDA(lattice, atoms)\n",
    "basis = PlaneWaveBasis(model, 5, kgrid=(1, 1, 1))"
   ],
   "metadata": {},
   "execution_count": 3
  },
  {
   "cell_type": "markdown",
   "source": [
    "Find the ground state using direct minimisation (always using SCF is boring ...)"
   ],
   "metadata": {}
  },
  {
   "outputs": [
    {
     "name": "stdout",
     "output_type": "stream",
     "text": [
      "Iter     Function value   Gradient norm \n",
      "     0     1.117443e+02     1.565882e+00\n",
      " * time: 0.08715987205505371\n",
      "     1     1.056904e+01     9.546440e-01\n",
      " * time: 0.9019320011138916\n",
      "     2    -1.138941e+01     1.031825e+00\n",
      " * time: 1.0481808185577393\n",
      "     3    -3.397723e+01     7.296857e-01\n",
      " * time: 1.219925880432129\n",
      "     4    -4.720753e+01     5.528416e-01\n",
      " * time: 1.3568170070648193\n",
      "     5    -5.686766e+01     2.257707e-01\n",
      " * time: 1.5115947723388672\n",
      "     6    -5.976740e+01     1.771394e-01\n",
      " * time: 1.6410009860992432\n",
      "     7    -6.090766e+01     7.267951e-02\n",
      " * time: 1.7457737922668457\n",
      "     8    -6.137642e+01     4.814259e-02\n",
      " * time: 1.8580679893493652\n",
      "     9    -6.163567e+01     2.960500e-02\n",
      " * time: 1.9637649059295654\n",
      "    10    -6.177862e+01     2.693879e-02\n",
      " * time: 2.075953960418701\n",
      "    11    -6.191590e+01     2.089241e-02\n",
      " * time: 2.1812899112701416\n",
      "    12    -6.200639e+01     1.972998e-02\n",
      " * time: 2.293677806854248\n",
      "    13    -6.205294e+01     1.605363e-02\n",
      " * time: 2.3993918895721436\n",
      "    14    -6.210087e+01     1.480053e-02\n",
      " * time: 2.512467861175537\n",
      "    15    -6.212933e+01     1.443122e-02\n",
      " * time: 2.618104934692383\n",
      "    16    -6.215428e+01     1.085135e-02\n",
      " * time: 2.730120897293091\n",
      "    17    -6.217238e+01     1.023089e-02\n",
      " * time: 2.835791826248169\n",
      "    18    -6.218667e+01     8.544999e-03\n",
      " * time: 2.9475278854370117\n",
      "    19    -6.219641e+01     7.058847e-03\n",
      " * time: 3.0524539947509766\n",
      "    20    -6.220371e+01     6.691443e-03\n",
      " * time: 3.1640799045562744\n",
      "    21    -6.220905e+01     6.229820e-03\n",
      " * time: 3.2690927982330322\n",
      "    22    -6.221362e+01     5.291344e-03\n",
      " * time: 3.380629777908325\n",
      "    23    -6.221751e+01     5.322347e-03\n",
      " * time: 3.4856979846954346\n",
      "    24    -6.222144e+01     5.214028e-03\n",
      " * time: 3.5968878269195557\n",
      "    25    -6.222582e+01     5.878282e-03\n",
      " * time: 3.701272964477539\n",
      "    26    -6.223095e+01     5.528040e-03\n",
      " * time: 3.812311887741089\n",
      "    27    -6.223691e+01     6.189733e-03\n",
      " * time: 3.916754961013794\n",
      "    28    -6.224330e+01     6.644788e-03\n",
      " * time: 4.028284788131714\n",
      "    29    -6.224963e+01     5.150904e-03\n",
      " * time: 4.1324169635772705\n",
      "    30    -6.225414e+01     4.257515e-03\n",
      " * time: 4.243650913238525\n",
      "    31    -6.225687e+01     3.304539e-03\n",
      " * time: 4.34959077835083\n",
      "    32    -6.225861e+01     2.850856e-03\n",
      " * time: 4.46028995513916\n",
      "    33    -6.225979e+01     2.329206e-03\n",
      " * time: 4.564752817153931\n",
      "    34    -6.226059e+01     1.482549e-03\n",
      " * time: 4.675495862960815\n",
      "    35    -6.226106e+01     1.384412e-03\n",
      " * time: 4.780030965805054\n",
      "    36    -6.226132e+01     9.855389e-04\n",
      " * time: 4.890747785568237\n",
      "    37    -6.226145e+01     8.321207e-04\n",
      " * time: 4.995375871658325\n",
      "    38    -6.226153e+01     4.832884e-04\n",
      " * time: 5.1063477993011475\n",
      "    39    -6.226158e+01     3.844964e-04\n",
      " * time: 5.210347890853882\n",
      "    40    -6.226161e+01     3.526259e-04\n",
      " * time: 5.321870803833008\n",
      "    41    -6.226163e+01     3.097348e-04\n",
      " * time: 5.427388906478882\n",
      "    42    -6.226164e+01     2.311011e-04\n",
      " * time: 5.538029909133911\n",
      "    43    -6.226165e+01     1.552823e-04\n",
      " * time: 5.642235994338989\n",
      "    44    -6.226166e+01     1.327229e-04\n",
      " * time: 5.754050970077515\n",
      "    45    -6.226166e+01     1.041094e-04\n",
      " * time: 5.857548952102661\n",
      "    46    -6.226166e+01     9.727455e-05\n",
      " * time: 5.968170881271362\n",
      "    47    -6.226167e+01     7.214346e-05\n",
      " * time: 6.072896957397461\n",
      "    48    -6.226167e+01     5.173742e-05\n",
      " * time: 6.183962821960449\n",
      "    49    -6.226167e+01     3.406995e-05\n",
      " * time: 6.287103891372681\n",
      "    50    -6.226167e+01     2.825225e-05\n",
      " * time: 6.398332834243774\n",
      "    51    -6.226167e+01     1.985279e-05\n",
      " * time: 6.502848863601685\n",
      "    52    -6.226167e+01     1.856584e-05\n",
      " * time: 6.613250970840454\n",
      "    53    -6.226167e+01     1.935003e-05\n",
      " * time: 6.718530893325806\n",
      "    54    -6.226167e+01     1.359013e-05\n",
      " * time: 6.829578876495361\n",
      "    55    -6.226167e+01     1.190377e-05\n",
      " * time: 6.934930801391602\n",
      "    56    -6.226167e+01     8.614452e-06\n",
      " * time: 7.04637885093689\n",
      "    57    -6.226167e+01     5.718492e-06\n",
      " * time: 7.151394844055176\n",
      "    58    -6.226167e+01     4.509817e-06\n",
      " * time: 7.27181077003479\n",
      "    59    -6.226167e+01     3.426076e-06\n",
      " * time: 7.375969886779785\n"
     ]
    }
   ],
   "cell_type": "code",
   "source": [
    "scfres = direct_minimization(basis, tol=1e-5);"
   ],
   "metadata": {},
   "execution_count": 4
  },
  {
   "outputs": [
    {
     "output_type": "execute_result",
     "data": {
      "text/plain": "Energy breakdown:\n    Kinetic             25.7671066\n    AtomicLocal         -18.8557693\n    AtomicNonlocal      14.8522660\n    Ewald               -67.1831486\n    PspCorrection       -2.3569765\n    Hartree             4.8485376 \n    Xc                  -19.3336822\n\n    total               -62.261666459820\n"
     },
     "metadata": {},
     "execution_count": 5
    }
   ],
   "cell_type": "code",
   "source": [
    "scfres.energies"
   ],
   "metadata": {},
   "execution_count": 5
  }
 ],
 "nbformat_minor": 3,
 "metadata": {
  "language_info": {
   "file_extension": ".jl",
   "mimetype": "application/julia",
   "name": "julia",
   "version": "1.3.1"
  },
  "kernelspec": {
   "name": "julia-1.3",
   "display_name": "Julia 1.3.1",
   "language": "julia"
  }
 },
 "nbformat": 4
}
