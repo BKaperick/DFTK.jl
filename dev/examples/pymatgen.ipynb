{
 "cells": [
  {
   "cell_type": "markdown",
   "source": [
    "# Creating supercells with pymatgen\n",
    "\n",
    "The [Pymatgen](https://pymatgen.org/) python library allows to setup\n",
    "solid-state calculations using a flexible set of classes as well as an API\n",
    "to an online data base of structures. Its `Structure` and `Lattice`\n",
    "objects are directly supported by the DFTK `load_atoms` and `load_lattice`\n",
    "functions, such that DFTK may be readily used to run calculation on systems\n",
    "defined in pymatgen. Using the `pymatgen_structure` function a conversion\n",
    "from DFTK to pymatgen structures is also possible. In the following we\n",
    "use this to create a silicon supercell and find its LDA ground state\n",
    "using direct minimisation."
   ],
   "metadata": {}
  },
  {
   "cell_type": "markdown",
   "source": [
    "First we setup the silicon lattice in DFTK."
   ],
   "metadata": {}
  },
  {
   "outputs": [],
   "cell_type": "code",
   "source": [
    "using DFTK\n",
    "\n",
    "a = 10.263141334305942  # Lattice constant in Bohr\n",
    "lattice = a / 2 .* [[0 1 1.]; [1 0 1.]; [1 1 0.]]\n",
    "Si = ElementPsp(:Si, psp=load_psp(\"hgh/lda/Si-q4\"))\n",
    "atoms = [Si => [ones(3)/8, -ones(3)/8]];"
   ],
   "metadata": {},
   "execution_count": 1
  },
  {
   "cell_type": "markdown",
   "source": [
    "Next we make a `[2, 2, 2]` supercell using pymatgen"
   ],
   "metadata": {}
  },
  {
   "outputs": [],
   "cell_type": "code",
   "source": [
    "pystruct = pymatgen_structure(lattice, atoms)\n",
    "pystruct.make_supercell([2, 2, 2])\n",
    "lattice = load_lattice(pystruct)\n",
    "atoms = [Si => [s.frac_coords for s in pystruct.sites]];"
   ],
   "metadata": {},
   "execution_count": 2
  },
  {
   "cell_type": "markdown",
   "source": [
    "Setup an LDA model and discretize using\n",
    "a single kpoint and a small `Ecut` of 5 Hartree."
   ],
   "metadata": {}
  },
  {
   "outputs": [
    {
     "output_type": "execute_result",
     "data": {
      "text/plain": "PlaneWaveBasis (Ecut=5.0, 1 kpoints)"
     },
     "metadata": {},
     "execution_count": 3
    }
   ],
   "cell_type": "code",
   "source": [
    "model = model_LDA(lattice, atoms)\n",
    "basis = PlaneWaveBasis(model, 5, kgrid=(1, 1, 1))"
   ],
   "metadata": {},
   "execution_count": 3
  },
  {
   "cell_type": "markdown",
   "source": [
    "Find the ground state using direct minimisation (always using SCF is boring ...)"
   ],
   "metadata": {}
  },
  {
   "outputs": [
    {
     "name": "stdout",
     "output_type": "stream",
     "text": [
      "Iter     Function value   Gradient norm \n",
      "     0     1.125911e+02     1.525967e+00\n",
      " * time: 0.12418484687805176\n",
      "     1     1.049991e+01     8.494469e-01\n",
      " * time: 1.3621690273284912\n",
      "     2    -1.159584e+01     9.483355e-01\n",
      " * time: 1.4972529411315918\n",
      "     3    -3.425352e+01     7.672246e-01\n",
      " * time: 1.6563358306884766\n",
      "     4    -4.775584e+01     5.856345e-01\n",
      " * time: 1.8102929592132568\n",
      "     5    -5.710598e+01     1.818976e-01\n",
      " * time: 1.9553618431091309\n",
      "     6    -5.994199e+01     1.047006e-01\n",
      " * time: 2.063232898712158\n",
      "     7    -6.092462e+01     5.137782e-02\n",
      " * time: 2.1780569553375244\n",
      "     8    -6.128413e+01     6.349415e-02\n",
      " * time: 2.284824848175049\n",
      "     9    -6.160034e+01     3.152810e-02\n",
      " * time: 2.3999478816986084\n",
      "    10    -6.181510e+01     3.105613e-02\n",
      " * time: 2.509462833404541\n",
      "    11    -6.198184e+01     2.546497e-02\n",
      " * time: 2.625082015991211\n",
      "    12    -6.205229e+01     1.856098e-02\n",
      " * time: 2.733719825744629\n",
      "    13    -6.211792e+01     1.606201e-02\n",
      " * time: 2.8498919010162354\n",
      "    14    -6.214760e+01     1.275702e-02\n",
      " * time: 2.958559989929199\n",
      "    15    -6.217195e+01     9.134015e-03\n",
      " * time: 3.073585033416748\n",
      "    16    -6.218532e+01     7.292027e-03\n",
      " * time: 3.1806910037994385\n",
      "    17    -6.219444e+01     5.764162e-03\n",
      " * time: 3.296627998352051\n",
      "    18    -6.220192e+01     5.681678e-03\n",
      " * time: 3.403770923614502\n",
      "    19    -6.220775e+01     5.668839e-03\n",
      " * time: 3.5197649002075195\n",
      "    20    -6.221309e+01     5.309899e-03\n",
      " * time: 3.6282379627227783\n",
      "    21    -6.221820e+01     5.776277e-03\n",
      " * time: 3.745347023010254\n",
      "    22    -6.222302e+01     5.410443e-03\n",
      " * time: 3.8540198802948\n",
      "    23    -6.222770e+01     4.896717e-03\n",
      " * time: 3.9701650142669678\n",
      "    24    -6.223244e+01     5.392468e-03\n",
      " * time: 4.077096939086914\n",
      "    25    -6.223738e+01     6.031050e-03\n",
      " * time: 4.190784931182861\n",
      "    26    -6.224245e+01     5.399637e-03\n",
      " * time: 4.296944856643677\n",
      "    27    -6.224776e+01     4.623977e-03\n",
      " * time: 4.411518812179565\n",
      "    28    -6.225258e+01     4.337564e-03\n",
      " * time: 4.5186848640441895\n",
      "    29    -6.225631e+01     3.732390e-03\n",
      " * time: 4.632485866546631\n",
      "    30    -6.225871e+01     3.222261e-03\n",
      " * time: 4.739543914794922\n",
      "    31    -6.226010e+01     1.855397e-03\n",
      " * time: 4.854583024978638\n",
      "    32    -6.226085e+01     1.432820e-03\n",
      " * time: 4.962090015411377\n",
      "    33    -6.226122e+01     8.833632e-04\n",
      " * time: 5.077169895172119\n",
      "    34    -6.226141e+01     7.075809e-04\n",
      " * time: 5.183765888214111\n",
      "    35    -6.226152e+01     5.882029e-04\n",
      " * time: 5.296957015991211\n",
      "    36    -6.226157e+01     5.312981e-04\n",
      " * time: 5.403264999389648\n",
      "    37    -6.226160e+01     3.702924e-04\n",
      " * time: 5.516979932785034\n",
      "    38    -6.226162e+01     3.316695e-04\n",
      " * time: 5.6229188442230225\n",
      "    39    -6.226164e+01     2.331762e-04\n",
      " * time: 5.736721992492676\n",
      "    40    -6.226165e+01     1.718310e-04\n",
      " * time: 5.84497594833374\n",
      "    41    -6.226165e+01     1.397688e-04\n",
      " * time: 5.959794998168945\n",
      "    42    -6.226166e+01     1.073398e-04\n",
      " * time: 6.0674638748168945\n",
      "    43    -6.226166e+01     8.604418e-05\n",
      " * time: 6.18156886100769\n",
      "    44    -6.226167e+01     7.017600e-05\n",
      " * time: 6.291604042053223\n",
      "    45    -6.226167e+01     4.531269e-05\n",
      " * time: 6.411808967590332\n",
      "    46    -6.226167e+01     3.241455e-05\n",
      " * time: 6.5217509269714355\n",
      "    47    -6.226167e+01     2.671917e-05\n",
      " * time: 6.638278007507324\n",
      "    48    -6.226167e+01     2.031523e-05\n",
      " * time: 6.749023914337158\n",
      "    49    -6.226167e+01     1.593705e-05\n",
      " * time: 6.869117021560669\n",
      "    50    -6.226167e+01     1.319095e-05\n",
      " * time: 6.979424953460693\n",
      "    51    -6.226167e+01     1.208381e-05\n",
      " * time: 7.097939968109131\n",
      "    52    -6.226167e+01     8.001873e-06\n",
      " * time: 7.208675861358643\n",
      "    53    -6.226167e+01     7.325072e-06\n",
      " * time: 7.327240943908691\n",
      "    54    -6.226167e+01     4.489385e-06\n",
      " * time: 7.437652826309204\n",
      "    55    -6.226167e+01     3.397383e-06\n",
      " * time: 7.557163953781128\n",
      "    56    -6.226167e+01     1.898473e-06\n",
      " * time: 7.667959928512573\n",
      "    57    -6.226167e+01     1.444281e-06\n",
      " * time: 7.787178993225098\n"
     ]
    }
   ],
   "cell_type": "code",
   "source": [
    "scfres = direct_minimization(basis, tol=1e-5);"
   ],
   "metadata": {},
   "execution_count": 4
  },
  {
   "outputs": [
    {
     "output_type": "execute_result",
     "data": {
      "text/plain": "Energy breakdown:\n    Kinetic             25.7671067\n    AtomicLocal         -18.8557659\n    AtomicNonlocal      14.8522630\n    Ewald               -67.1831486\n    PspCorrection       -2.3569765\n    Hartree             4.8485369 \n    Xc                  -19.3336819\n\n    total               -62.261666462732\n"
     },
     "metadata": {},
     "execution_count": 5
    }
   ],
   "cell_type": "code",
   "source": [
    "scfres.energies"
   ],
   "metadata": {},
   "execution_count": 5
  }
 ],
 "nbformat_minor": 3,
 "metadata": {
  "language_info": {
   "file_extension": ".jl",
   "mimetype": "application/julia",
   "name": "julia",
   "version": "1.4.2"
  },
  "kernelspec": {
   "name": "julia-1.4",
   "display_name": "Julia 1.4.2",
   "language": "julia"
  }
 },
 "nbformat": 4
}
