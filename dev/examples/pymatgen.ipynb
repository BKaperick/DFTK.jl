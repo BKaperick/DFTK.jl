{
 "cells": [
  {
   "cell_type": "markdown",
   "source": [
    "# Creating supercells with pymatgen\n",
    "\n",
    "The [Pymatgen](https://pymatgen.org/) python library allows to setup\n",
    "solid-state calculations using a flexible set of classes as well as an API\n",
    "to an online data base of structures. Its `Structure` and `Lattice`\n",
    "objects are directly supported by the DFTK `load_atoms` and `load_lattice`\n",
    "functions, such that DFTK may be readily used to run calculation on systems\n",
    "defined in pymatgen. Using the `pymatgen_structure` function a conversion\n",
    "from DFTK to pymatgen structures is also possible. In the following we\n",
    "use this to create a silicon supercell and find its LDA ground state\n",
    "using direct minimisation."
   ],
   "metadata": {}
  },
  {
   "cell_type": "markdown",
   "source": [
    "First we setup the silicon lattice in DFTK."
   ],
   "metadata": {}
  },
  {
   "outputs": [],
   "cell_type": "code",
   "source": [
    "using DFTK\n",
    "\n",
    "a = 10.263141334305942  # Lattice constant in Bohr\n",
    "lattice = a / 2 .* [[0 1 1.]; [1 0 1.]; [1 1 0.]]\n",
    "Si = ElementPsp(:Si, psp=load_psp(\"hgh/lda/Si-q4\"))\n",
    "atoms = [Si => [ones(3)/8, -ones(3)/8]];"
   ],
   "metadata": {},
   "execution_count": 1
  },
  {
   "cell_type": "markdown",
   "source": [
    "Next we make a `[2, 2, 2]` supercell using pymatgen"
   ],
   "metadata": {}
  },
  {
   "outputs": [],
   "cell_type": "code",
   "source": [
    "pystruct = pymatgen_structure(lattice, atoms)\n",
    "pystruct.make_supercell([2, 2, 2])\n",
    "lattice = load_lattice(pystruct)\n",
    "atoms = [Si => [s.frac_coords for s in pystruct.sites]];"
   ],
   "metadata": {},
   "execution_count": 2
  },
  {
   "cell_type": "markdown",
   "source": [
    "Setup an LDA model and discretize using\n",
    "a single kpoint and a small `Ecut` of 5 Hartree."
   ],
   "metadata": {}
  },
  {
   "outputs": [
    {
     "output_type": "execute_result",
     "data": {
      "text/plain": "PlaneWaveBasis (Ecut=5.0, 1 kpoints)"
     },
     "metadata": {},
     "execution_count": 3
    }
   ],
   "cell_type": "code",
   "source": [
    "model = model_LDA(lattice, atoms)\n",
    "basis = PlaneWaveBasis(model, 5, kgrid=(1, 1, 1))"
   ],
   "metadata": {},
   "execution_count": 3
  },
  {
   "cell_type": "markdown",
   "source": [
    "Find the ground state using direct minimisation (always using SCF is boring ...)"
   ],
   "metadata": {}
  },
  {
   "outputs": [
    {
     "name": "stdout",
     "output_type": "stream",
     "text": [
      "Iter     Function value   Gradient norm \n",
      "     0     1.124039e+02     1.534782e+00\n",
      " * time: 0.6949489116668701\n",
      "     1     1.066313e+01     8.958295e-01\n",
      " * time: 3.0241658687591553\n",
      "     2    -1.215090e+01     9.777192e-01\n",
      " * time: 3.6448588371276855\n",
      "     3    -3.423560e+01     7.846238e-01\n",
      " * time: 4.583132028579712\n",
      "     4    -4.764398e+01     6.167606e-01\n",
      " * time: 5.505109071731567\n",
      "     5    -5.693205e+01     2.084927e-01\n",
      " * time: 6.527343988418579\n",
      "     6    -5.978892e+01     1.392994e-01\n",
      " * time: 7.209388017654419\n",
      "     7    -6.092089e+01     5.084215e-02\n",
      " * time: 7.858442068099976\n",
      "     8    -6.137536e+01     5.442510e-02\n",
      " * time: 8.828134059906006\n",
      "     9    -6.161386e+01     4.332293e-02\n",
      " * time: 9.447572946548462\n",
      "    10    -6.181589e+01     2.473313e-02\n",
      " * time: 10.0709969997406\n",
      "    11    -6.195942e+01     1.854885e-02\n",
      " * time: 10.69803786277771\n",
      "    12    -6.203367e+01     1.479262e-02\n",
      " * time: 11.330141067504883\n",
      "    13    -6.209054e+01     1.629012e-02\n",
      " * time: 11.965405941009521\n",
      "    14    -6.212702e+01     1.409298e-02\n",
      " * time: 12.591760873794556\n",
      "    15    -6.215325e+01     1.114077e-02\n",
      " * time: 13.237138986587524\n",
      "    16    -6.216962e+01     8.924554e-03\n",
      " * time: 13.863740921020508\n",
      "    17    -6.218204e+01     8.568913e-03\n",
      " * time: 14.485821962356567\n",
      "    18    -6.219211e+01     9.790280e-03\n",
      " * time: 15.164708852767944\n",
      "    19    -6.220176e+01     8.235381e-03\n",
      " * time: 15.785555839538574\n",
      "    20    -6.221166e+01     8.513301e-03\n",
      " * time: 16.391506910324097\n",
      "    21    -6.222176e+01     8.534932e-03\n",
      " * time: 17.002235889434814\n",
      "    22    -6.223121e+01     7.524005e-03\n",
      " * time: 17.608815908432007\n",
      "    23    -6.223940e+01     6.763193e-03\n",
      " * time: 18.228494882583618\n",
      "    24    -6.224550e+01     6.676266e-03\n",
      " * time: 18.841810941696167\n",
      "    25    -6.225016e+01     5.406693e-03\n",
      " * time: 19.44615602493286\n",
      "    26    -6.225353e+01     4.430325e-03\n",
      " * time: 20.09431290626526\n",
      "    27    -6.225596e+01     3.188781e-03\n",
      " * time: 20.710726976394653\n",
      "    28    -6.225775e+01     2.723589e-03\n",
      " * time: 21.31645393371582\n",
      "    29    -6.225910e+01     2.103000e-03\n",
      " * time: 21.947593927383423\n",
      "    30    -6.226012e+01     2.012741e-03\n",
      " * time: 22.556777954101562\n",
      "    31    -6.226080e+01     1.629585e-03\n",
      " * time: 23.17778992652893\n",
      "    32    -6.226120e+01     1.048954e-03\n",
      " * time: 23.81774401664734\n",
      "    33    -6.226143e+01     7.902471e-04\n",
      " * time: 24.420104026794434\n",
      "    34    -6.226155e+01     6.133017e-04\n",
      " * time: 25.036293029785156\n",
      "    35    -6.226160e+01     4.255894e-04\n",
      " * time: 25.647080898284912\n",
      "    36    -6.226163e+01     3.095558e-04\n",
      " * time: 26.25579595565796\n",
      "    37    -6.226164e+01     2.705481e-04\n",
      " * time: 26.86587405204773\n",
      "    38    -6.226165e+01     2.238686e-04\n",
      " * time: 27.474599838256836\n",
      "    39    -6.226166e+01     1.793247e-04\n",
      " * time: 28.088494062423706\n",
      "    40    -6.226166e+01     1.148039e-04\n",
      " * time: 28.706724882125854\n",
      "    41    -6.226166e+01     9.335564e-05\n",
      " * time: 29.306230068206787\n",
      "    42    -6.226166e+01     9.110293e-05\n",
      " * time: 29.91068387031555\n",
      "    43    -6.226167e+01     6.394189e-05\n",
      " * time: 30.514147996902466\n",
      "    44    -6.226167e+01     4.126785e-05\n",
      " * time: 31.146790027618408\n",
      "    45    -6.226167e+01     2.700302e-05\n",
      " * time: 31.745874881744385\n",
      "    46    -6.226167e+01     2.105877e-05\n",
      " * time: 32.34783387184143\n",
      "    47    -6.226167e+01     1.639806e-05\n",
      " * time: 32.95625185966492\n",
      "    48    -6.226167e+01     1.164878e-05\n",
      " * time: 33.566163063049316\n",
      "    49    -6.226167e+01     1.067850e-05\n",
      " * time: 34.17688584327698\n",
      "    50    -6.226167e+01     7.867397e-06\n",
      " * time: 34.78587293624878\n",
      "    51    -6.226167e+01     6.692416e-06\n",
      " * time: 35.3828809261322\n",
      "    52    -6.226167e+01     5.965634e-06\n",
      " * time: 36.018882036209106\n",
      "    53    -6.226167e+01     4.272508e-06\n",
      " * time: 36.62985706329346\n",
      "    54    -6.226167e+01     3.277163e-06\n",
      " * time: 37.23431587219238\n",
      "    55    -6.226167e+01     2.091590e-06\n",
      " * time: 37.84217405319214\n",
      "    56    -6.226167e+01     1.822462e-06\n",
      " * time: 38.45781588554382\n"
     ]
    }
   ],
   "cell_type": "code",
   "source": [
    "scfres = direct_minimization(basis, tol=1e-5);"
   ],
   "metadata": {},
   "execution_count": 4
  },
  {
   "outputs": [
    {
     "output_type": "execute_result",
     "data": {
      "text/plain": "Energy breakdown:\n    Kinetic             25.7671071\n    AtomicLocal         -18.8557691\n    AtomicNonlocal      14.8522652\n    Ewald               -67.1831486\n    PspCorrection       -2.3569765\n    Hartree             4.8485377 \n    Xc                  -19.3336822\n\n    total               -62.261666462485\n"
     },
     "metadata": {},
     "execution_count": 5
    }
   ],
   "cell_type": "code",
   "source": [
    "scfres.energies"
   ],
   "metadata": {},
   "execution_count": 5
  }
 ],
 "nbformat_minor": 3,
 "metadata": {
  "language_info": {
   "file_extension": ".jl",
   "mimetype": "application/julia",
   "name": "julia",
   "version": "1.6.1"
  },
  "kernelspec": {
   "name": "julia-1.6",
   "display_name": "Julia 1.6.1",
   "language": "julia"
  }
 },
 "nbformat": 4
}
