{
 "cells": [
  {
   "cell_type": "markdown",
   "source": [
    "# Creating supercells with pymatgen\n",
    "\n",
    "The [Pymatgen](https://pymatgen.org/) python library allows to setup\n",
    "solid-state calculations using a flexible set of classes as well as an API\n",
    "to an online data base of structures. Its `Structure` and `Lattice`\n",
    "objects are directly supported by the DFTK `load_atoms` and `load_lattice`\n",
    "functions, such that DFTK may be readily used to run calculation on systems\n",
    "defined in pymatgen. Using the `pymatgen_structure` function a conversion\n",
    "from DFTK to pymatgen structures is also possible. In the following we\n",
    "use this to create a silicon supercell and find its LDA ground state\n",
    "using direct minimisation."
   ],
   "metadata": {}
  },
  {
   "cell_type": "markdown",
   "source": [
    "First we setup the silicon lattice in DFTK."
   ],
   "metadata": {}
  },
  {
   "outputs": [],
   "cell_type": "code",
   "source": [
    "using DFTK\n",
    "\n",
    "a = 10.263141334305942  # Lattice constant in Bohr\n",
    "lattice = a / 2 .* [[0 1 1.]; [1 0 1.]; [1 1 0.]]\n",
    "Si = ElementPsp(:Si, psp=load_psp(\"hgh/lda/Si-q4\"))\n",
    "atoms = [Si => [ones(3)/8, -ones(3)/8]];"
   ],
   "metadata": {},
   "execution_count": 1
  },
  {
   "cell_type": "markdown",
   "source": [
    "Next we make a `[2, 2, 2]` supercell using pymatgen"
   ],
   "metadata": {}
  },
  {
   "outputs": [],
   "cell_type": "code",
   "source": [
    "pystruct = pymatgen_structure(lattice, atoms)\n",
    "pystruct.make_supercell([2, 2, 2])\n",
    "lattice = load_lattice(pystruct)\n",
    "atoms = [Si => [s.frac_coords for s in pystruct.sites]];"
   ],
   "metadata": {},
   "execution_count": 2
  },
  {
   "cell_type": "markdown",
   "source": [
    "Setup an LDA model and discretize using\n",
    "a single kpoint and a small `Ecut` of 5 Hartree."
   ],
   "metadata": {}
  },
  {
   "outputs": [
    {
     "output_type": "execute_result",
     "data": {
      "text/plain": "PlaneWaveBasis (Ecut=5.0, 1 kpoints)"
     },
     "metadata": {},
     "execution_count": 3
    }
   ],
   "cell_type": "code",
   "source": [
    "model = model_LDA(lattice, atoms)\n",
    "basis = PlaneWaveBasis(model, 5, kgrid=(1, 1, 1))"
   ],
   "metadata": {},
   "execution_count": 3
  },
  {
   "cell_type": "markdown",
   "source": [
    "Find the ground state using direct minimisation (always using SCF is boring ...)"
   ],
   "metadata": {}
  },
  {
   "outputs": [
    {
     "name": "stdout",
     "output_type": "stream",
     "text": [
      "Iter     Function value   Gradient norm \n",
      "     0     1.115021e+02     1.762527e+00\n",
      " * time: 0.7011539936065674\n",
      "     1     1.014694e+01     9.202050e-01\n",
      " * time: 2.0104520320892334\n",
      "     2    -1.158459e+01     1.089217e+00\n",
      " * time: 2.6907410621643066\n",
      "     3    -3.420833e+01     8.148994e-01\n",
      " * time: 3.6553211212158203\n",
      "     4    -4.756921e+01     5.017690e-01\n",
      " * time: 4.6195690631866455\n",
      "     5    -5.703280e+01     2.400482e-01\n",
      " * time: 5.591886043548584\n",
      "     6    -5.991295e+01     1.337438e-01\n",
      " * time: 6.246628046035767\n",
      "     7    -6.094118e+01     5.041202e-02\n",
      " * time: 6.886240005493164\n",
      "     8    -6.129719e+01     7.925396e-02\n",
      " * time: 7.52836799621582\n",
      "     9    -6.156929e+01     3.159036e-02\n",
      " * time: 8.185052156448364\n",
      "    10    -6.175999e+01     2.464879e-02\n",
      " * time: 8.823089122772217\n",
      "    11    -6.192013e+01     2.112315e-02\n",
      " * time: 9.462013959884644\n",
      "    12    -6.199044e+01     1.967238e-02\n",
      " * time: 10.10650897026062\n",
      "    13    -6.207350e+01     1.668313e-02\n",
      " * time: 10.765666007995605\n",
      "    14    -6.211769e+01     1.539724e-02\n",
      " * time: 11.40419602394104\n",
      "    15    -6.216137e+01     1.160508e-02\n",
      " * time: 12.04986310005188\n",
      "    16    -6.218596e+01     1.030171e-02\n",
      " * time: 12.696360111236572\n",
      "    17    -6.220526e+01     9.192861e-03\n",
      " * time: 13.338212013244629\n",
      "    18    -6.221921e+01     6.315479e-03\n",
      " * time: 13.977607011795044\n",
      "    19    -6.222864e+01     7.030485e-03\n",
      " * time: 14.617029190063477\n",
      "    20    -6.223549e+01     7.756049e-03\n",
      " * time: 15.258685111999512\n",
      "    21    -6.224092e+01     7.742423e-03\n",
      " * time: 15.896797180175781\n",
      "    22    -6.224607e+01     6.838787e-03\n",
      " * time: 16.536838054656982\n",
      "    23    -6.225058e+01     5.930196e-03\n",
      " * time: 17.17429804801941\n",
      "    24    -6.225430e+01     5.562309e-03\n",
      " * time: 17.825942993164062\n",
      "    25    -6.225717e+01     4.578567e-03\n",
      " * time: 18.46399712562561\n",
      "    26    -6.225911e+01     3.113623e-03\n",
      " * time: 19.10587501525879\n",
      "    27    -6.226031e+01     1.743707e-03\n",
      " * time: 19.75117301940918\n",
      "    28    -6.226095e+01     1.357191e-03\n",
      " * time: 20.405179977416992\n",
      "    29    -6.226125e+01     1.034290e-03\n",
      " * time: 21.03938317298889\n",
      "    30    -6.226139e+01     8.237541e-04\n",
      " * time: 21.68361210823059\n",
      "    31    -6.226148e+01     6.114129e-04\n",
      " * time: 22.334464073181152\n",
      "    32    -6.226154e+01     4.906405e-04\n",
      " * time: 22.971440076828003\n",
      "    33    -6.226158e+01     4.076834e-04\n",
      " * time: 23.603809118270874\n",
      "    34    -6.226162e+01     3.594482e-04\n",
      " * time: 24.242964029312134\n",
      "    35    -6.226164e+01     2.669700e-04\n",
      " * time: 24.88855004310608\n",
      "    36    -6.226165e+01     2.140392e-04\n",
      " * time: 25.526757955551147\n",
      "    37    -6.226166e+01     1.565333e-04\n",
      " * time: 26.165593147277832\n",
      "    38    -6.226166e+01     1.094193e-04\n",
      " * time: 26.80493712425232\n",
      "    39    -6.226166e+01     7.458302e-05\n",
      " * time: 27.45512318611145\n",
      "    40    -6.226166e+01     6.035935e-05\n",
      " * time: 28.09308409690857\n",
      "    41    -6.226167e+01     4.050923e-05\n",
      " * time: 28.732203006744385\n",
      "    42    -6.226167e+01     4.021008e-05\n",
      " * time: 29.37671399116516\n",
      "    43    -6.226167e+01     3.356858e-05\n",
      " * time: 30.02586817741394\n",
      "    44    -6.226167e+01     2.715610e-05\n",
      " * time: 30.66443705558777\n",
      "    45    -6.226167e+01     1.896270e-05\n",
      " * time: 31.3094961643219\n",
      "    46    -6.226167e+01     1.585375e-05\n",
      " * time: 31.955986976623535\n",
      "    47    -6.226167e+01     1.186338e-05\n",
      " * time: 32.59396815299988\n",
      "    48    -6.226167e+01     1.021053e-05\n",
      " * time: 33.23279309272766\n",
      "    49    -6.226167e+01     7.619252e-06\n",
      " * time: 33.87153100967407\n",
      "    50    -6.226167e+01     5.404520e-06\n",
      " * time: 34.51687407493591\n",
      "    51    -6.226167e+01     3.465045e-06\n",
      " * time: 35.15502214431763\n",
      "    52    -6.226167e+01     2.249302e-06\n",
      " * time: 35.79444098472595\n"
     ]
    }
   ],
   "cell_type": "code",
   "source": [
    "scfres = direct_minimization(basis, tol=1e-5);"
   ],
   "metadata": {},
   "execution_count": 4
  },
  {
   "outputs": [
    {
     "output_type": "execute_result",
     "data": {
      "text/plain": "Energy breakdown:\n    Kinetic             25.7671063\n    AtomicLocal         -18.8557692\n    AtomicNonlocal      14.8522665\n    Ewald               -67.1831486\n    PspCorrection       -2.3569765\n    Hartree             4.8485370 \n    Xc                  -19.3336819\n\n    total               -62.261666460990\n"
     },
     "metadata": {},
     "execution_count": 5
    }
   ],
   "cell_type": "code",
   "source": [
    "scfres.energies"
   ],
   "metadata": {},
   "execution_count": 5
  }
 ],
 "nbformat_minor": 3,
 "metadata": {
  "language_info": {
   "file_extension": ".jl",
   "mimetype": "application/julia",
   "name": "julia",
   "version": "1.6.2"
  },
  "kernelspec": {
   "name": "julia-1.6",
   "display_name": "Julia 1.6.2",
   "language": "julia"
  }
 },
 "nbformat": 4
}
