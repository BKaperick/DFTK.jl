{
 "cells": [
  {
   "cell_type": "markdown",
   "source": [
    "# Creating supercells with pymatgen\n",
    "\n",
    "The [Pymatgen](https://pymatgen.org/) python library allows to setup\n",
    "solid-state calculations using a flexible set of classes as well as an API\n",
    "to an online data base of structures. Its `Structure` and `Lattice`\n",
    "objects are directly supported by the DFTK `load_atoms` and `load_lattice`\n",
    "functions, such that DFTK may be readily used to run calculation on systems\n",
    "defined in pymatgen. Using the `pymatgen_structure` function a conversion\n",
    "from DFTK to pymatgen structures is also possible. In the following we\n",
    "use this to create a silicon supercell and find its LDA ground state\n",
    "using direct minimisation."
   ],
   "metadata": {}
  },
  {
   "cell_type": "markdown",
   "source": [
    "First we setup the silicon lattice in DFTK."
   ],
   "metadata": {}
  },
  {
   "outputs": [],
   "cell_type": "code",
   "source": [
    "using DFTK\n",
    "\n",
    "a = 10.263141334305942  # Lattice constant in Bohr\n",
    "lattice = a / 2 .* [[0 1 1.]; [1 0 1.]; [1 1 0.]]\n",
    "Si = ElementPsp(:Si, psp=load_psp(\"hgh/lda/Si-q4\"))\n",
    "atoms = [Si => [ones(3)/8, -ones(3)/8]];"
   ],
   "metadata": {},
   "execution_count": 1
  },
  {
   "cell_type": "markdown",
   "source": [
    "Next we make a `[2, 2, 2]` supercell using pymatgen"
   ],
   "metadata": {}
  },
  {
   "outputs": [],
   "cell_type": "code",
   "source": [
    "pystruct = pymatgen_structure(lattice, atoms)\n",
    "pystruct.make_supercell([2, 2, 2])\n",
    "lattice = load_lattice(pystruct)\n",
    "atoms = [Si => [s.frac_coords for s in pystruct.sites]];"
   ],
   "metadata": {},
   "execution_count": 2
  },
  {
   "cell_type": "markdown",
   "source": [
    "Setup an LDA model and discretize using\n",
    "a single kpoint and a small `Ecut` of 5 Hartree."
   ],
   "metadata": {}
  },
  {
   "outputs": [
    {
     "output_type": "execute_result",
     "data": {
      "text/plain": "PlaneWaveBasis (Ecut=5.0, 1 kpoints)"
     },
     "metadata": {},
     "execution_count": 3
    }
   ],
   "cell_type": "code",
   "source": [
    "model = model_LDA(lattice, atoms)\n",
    "basis = PlaneWaveBasis(model, 5, kgrid=(1, 1, 1))"
   ],
   "metadata": {},
   "execution_count": 3
  },
  {
   "cell_type": "markdown",
   "source": [
    "Find the ground state using direct minimisation (always using SCF is boring ...)"
   ],
   "metadata": {}
  },
  {
   "outputs": [
    {
     "name": "stdout",
     "output_type": "stream",
     "text": [
      "Iter     Function value   Gradient norm \n",
      "     0     1.121265e+02     1.756276e+00\n",
      " * time: 0.9715509414672852\n",
      "     1     1.077159e+01     8.753044e-01\n",
      " * time: 3.088265895843506\n",
      "     2    -1.174062e+01     9.809496e-01\n",
      " * time: 3.979987859725952\n",
      "     3    -3.431387e+01     7.147192e-01\n",
      " * time: 4.786112070083618\n",
      "     4    -4.795260e+01     5.279254e-01\n",
      " * time: 5.5951550006866455\n",
      "     5    -5.715239e+01     1.831252e-01\n",
      " * time: 6.417973041534424\n",
      "     6    -5.993499e+01     8.191751e-02\n",
      " * time: 6.952760934829712\n",
      "     7    -6.087652e+01     5.579144e-02\n",
      " * time: 7.490429878234863\n",
      "     8    -6.125164e+01     5.177226e-02\n",
      " * time: 8.041635036468506\n",
      "     9    -6.156147e+01     4.828545e-02\n",
      " * time: 8.578257083892822\n",
      "    10    -6.177256e+01     3.512589e-02\n",
      " * time: 9.116736888885498\n",
      "    11    -6.192424e+01     2.533055e-02\n",
      " * time: 9.663635015487671\n",
      "    12    -6.200585e+01     2.186475e-02\n",
      " * time: 10.20151400566101\n",
      "    13    -6.208105e+01     1.961405e-02\n",
      " * time: 10.740378856658936\n",
      "    14    -6.212535e+01     1.676526e-02\n",
      " * time: 11.281589031219482\n",
      "    15    -6.216091e+01     1.430687e-02\n",
      " * time: 11.816447973251343\n",
      "    16    -6.218147e+01     1.149330e-02\n",
      " * time: 12.356456995010376\n",
      "    17    -6.219392e+01     7.709631e-03\n",
      " * time: 12.895375967025757\n",
      "    18    -6.220303e+01     5.942458e-03\n",
      " * time: 13.425733089447021\n",
      "    19    -6.220892e+01     5.888188e-03\n",
      " * time: 13.929907083511353\n",
      "    20    -6.221397e+01     6.229066e-03\n",
      " * time: 14.448859930038452\n",
      "    21    -6.221878e+01     6.267431e-03\n",
      " * time: 14.932472944259644\n",
      "    22    -6.222388e+01     5.873660e-03\n",
      " * time: 15.409321069717407\n",
      "    23    -6.222933e+01     6.204516e-03\n",
      " * time: 15.8858060836792\n",
      "    24    -6.223504e+01     5.427249e-03\n",
      " * time: 16.369155883789062\n",
      "    25    -6.224099e+01     4.804493e-03\n",
      " * time: 16.845968008041382\n",
      "    26    -6.224672e+01     4.432347e-03\n",
      " * time: 17.32319688796997\n",
      "    27    -6.225156e+01     3.818582e-03\n",
      " * time: 17.809846878051758\n",
      "    28    -6.225488e+01     4.431341e-03\n",
      " * time: 18.286158084869385\n",
      "    29    -6.225719e+01     3.058951e-03\n",
      " * time: 18.763278007507324\n",
      "    30    -6.225883e+01     2.397599e-03\n",
      " * time: 19.24549698829651\n",
      "    31    -6.225998e+01     1.806737e-03\n",
      " * time: 19.7219820022583\n",
      "    32    -6.226066e+01     1.476925e-03\n",
      " * time: 20.25587296485901\n",
      "    33    -6.226113e+01     1.241066e-03\n",
      " * time: 20.80022406578064\n",
      "    34    -6.226139e+01     9.413711e-04\n",
      " * time: 21.338130950927734\n",
      "    35    -6.226154e+01     6.580521e-04\n",
      " * time: 21.828338861465454\n",
      "    36    -6.226161e+01     3.581328e-04\n",
      " * time: 22.310545921325684\n",
      "    37    -6.226163e+01     2.437637e-04\n",
      " * time: 22.787572860717773\n",
      "    38    -6.226165e+01     1.904939e-04\n",
      " * time: 23.26476502418518\n",
      "    39    -6.226165e+01     1.714055e-04\n",
      " * time: 23.7449848651886\n",
      "    40    -6.226166e+01     1.438722e-04\n",
      " * time: 24.21981692314148\n",
      "    41    -6.226166e+01     9.669899e-05\n",
      " * time: 24.69405698776245\n",
      "    42    -6.226166e+01     8.707692e-05\n",
      " * time: 25.233443021774292\n",
      "    43    -6.226166e+01     6.432827e-05\n",
      " * time: 25.772557973861694\n",
      "    44    -6.226167e+01     4.377121e-05\n",
      " * time: 26.299279928207397\n",
      "    45    -6.226167e+01     3.912815e-05\n",
      " * time: 26.781157970428467\n",
      "    46    -6.226167e+01     2.754830e-05\n",
      " * time: 27.274839878082275\n",
      "    47    -6.226167e+01     2.231009e-05\n",
      " * time: 27.75395393371582\n",
      "    48    -6.226167e+01     1.586631e-05\n",
      " * time: 28.235805988311768\n",
      "    49    -6.226167e+01     1.051193e-05\n",
      " * time: 28.723877906799316\n",
      "    50    -6.226167e+01     7.941772e-06\n",
      " * time: 29.202059030532837\n",
      "    51    -6.226167e+01     5.662486e-06\n",
      " * time: 29.6782169342041\n",
      "    52    -6.226167e+01     4.828349e-06\n",
      " * time: 30.161654949188232\n",
      "    53    -6.226167e+01     4.274515e-06\n",
      " * time: 30.638012886047363\n",
      "    54    -6.226167e+01     3.582248e-06\n",
      " * time: 31.11590886116028\n"
     ]
    }
   ],
   "cell_type": "code",
   "source": [
    "scfres = direct_minimization(basis, tol=1e-5);"
   ],
   "metadata": {},
   "execution_count": 4
  },
  {
   "outputs": [
    {
     "output_type": "execute_result",
     "data": {
      "text/plain": "Energy breakdown:\n    Kinetic             25.7671088\n    AtomicLocal         -18.8557707\n    AtomicNonlocal      14.8522645\n    Ewald               -67.1831486\n    PspCorrection       -2.3569765\n    Hartree             4.8485388 \n    Xc                  -19.3336827\n\n    total               -62.261666456151\n"
     },
     "metadata": {},
     "execution_count": 5
    }
   ],
   "cell_type": "code",
   "source": [
    "scfres.energies"
   ],
   "metadata": {},
   "execution_count": 5
  }
 ],
 "nbformat_minor": 3,
 "metadata": {
  "language_info": {
   "file_extension": ".jl",
   "mimetype": "application/julia",
   "name": "julia",
   "version": "1.6.0"
  },
  "kernelspec": {
   "name": "julia-1.6",
   "display_name": "Julia 1.6.0",
   "language": "julia"
  }
 },
 "nbformat": 4
}
