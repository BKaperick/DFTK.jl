{
 "cells": [
  {
   "cell_type": "markdown",
   "source": [
    "# Creating supercells with pymatgen\n",
    "\n",
    "The [Pymatgen](https://pymatgen.org/) python library allows to setup\n",
    "solid-state calculations using a flexible set of classes as well as an API\n",
    "to an online data base of structures. Its `Structure` and `Lattice`\n",
    "objects are directly supported by the DFTK `load_atoms` and `load_lattice`\n",
    "functions, such that DFTK may be readily used to run calculation on systems\n",
    "defined in pymatgen. Using the `pymatgen_structure` function a conversion\n",
    "from DFTK to pymatgen structures is also possible. In the following we\n",
    "use this to create a silicon supercell and find its LDA ground state\n",
    "using direct minimisation."
   ],
   "metadata": {}
  },
  {
   "cell_type": "markdown",
   "source": [
    "First we setup the silicon lattice in DFTK."
   ],
   "metadata": {}
  },
  {
   "outputs": [],
   "cell_type": "code",
   "source": [
    "using DFTK\n",
    "\n",
    "a = 10.263141334305942  # Lattice constant in Bohr\n",
    "lattice = a / 2 .* [[0 1 1.]; [1 0 1.]; [1 1 0.]]\n",
    "Si = ElementPsp(:Si, psp=load_psp(\"hgh/lda/Si-q4\"))\n",
    "atoms = [Si => [ones(3)/8, -ones(3)/8]];"
   ],
   "metadata": {},
   "execution_count": 1
  },
  {
   "cell_type": "markdown",
   "source": [
    "Next we make a `[2, 2, 2]` supercell using pymatgen"
   ],
   "metadata": {}
  },
  {
   "outputs": [],
   "cell_type": "code",
   "source": [
    "pystruct = pymatgen_structure(lattice, atoms)\n",
    "pystruct.make_supercell([2, 2, 2])\n",
    "lattice = load_lattice(pystruct)\n",
    "atoms = [Si => [s.frac_coords for s in pystruct.sites]];"
   ],
   "metadata": {},
   "execution_count": 2
  },
  {
   "cell_type": "markdown",
   "source": [
    "Setup an LDA model and discretize using\n",
    "a single kpoint and a small `Ecut` of 5 Hartree."
   ],
   "metadata": {}
  },
  {
   "outputs": [
    {
     "output_type": "execute_result",
     "data": {
      "text/plain": "PlaneWaveBasis (Ecut=5.0, 1 kpoints)"
     },
     "metadata": {},
     "execution_count": 3
    }
   ],
   "cell_type": "code",
   "source": [
    "model = model_LDA(lattice, atoms)\n",
    "basis = PlaneWaveBasis(model, 5, kgrid=(1, 1, 1))"
   ],
   "metadata": {},
   "execution_count": 3
  },
  {
   "cell_type": "markdown",
   "source": [
    "Find the ground state using direct minimisation (always using SCF is boring ...)"
   ],
   "metadata": {}
  },
  {
   "outputs": [
    {
     "name": "stdout",
     "output_type": "stream",
     "text": [
      "Iter     Function value   Gradient norm \n",
      "     0     1.110270e+02     1.522802e+00\n",
      " * time: 0.08912205696105957\n",
      "     1     1.119121e+01     8.670926e-01\n",
      " * time: 0.8706469535827637\n",
      "     2    -1.146492e+01     9.233957e-01\n",
      " * time: 1.0244231224060059\n",
      "     3    -3.384943e+01     7.516409e-01\n",
      " * time: 1.183448076248169\n",
      "     4    -4.733740e+01     5.488358e-01\n",
      " * time: 1.3272840976715088\n",
      "     5    -5.692643e+01     2.114832e-01\n",
      " * time: 1.4670960903167725\n",
      "     6    -5.991794e+01     1.375016e-01\n",
      " * time: 1.5707809925079346\n",
      "     7    -6.101682e+01     5.046242e-02\n",
      " * time: 1.6814188957214355\n",
      "     8    -6.140238e+01     6.611295e-02\n",
      " * time: 1.7917261123657227\n",
      "     9    -6.165282e+01     5.052839e-02\n",
      " * time: 1.8968100547790527\n",
      "    10    -6.184438e+01     2.570875e-02\n",
      " * time: 2.007923126220703\n",
      "    11    -6.199556e+01     2.271569e-02\n",
      " * time: 2.1119019985198975\n",
      "    12    -6.205983e+01     1.670081e-02\n",
      " * time: 2.222745895385742\n",
      "    13    -6.212431e+01     1.449050e-02\n",
      " * time: 2.3317480087280273\n",
      "    14    -6.215425e+01     1.397161e-02\n",
      " * time: 2.434988021850586\n",
      "    15    -6.218023e+01     1.089994e-02\n",
      " * time: 2.547121047973633\n",
      "    16    -6.219382e+01     9.172032e-03\n",
      " * time: 2.6637420654296875\n",
      "    17    -6.220526e+01     6.972558e-03\n",
      " * time: 2.7781829833984375\n",
      "    18    -6.221499e+01     7.184924e-03\n",
      " * time: 2.888416051864624\n",
      "    19    -6.222409e+01     6.956778e-03\n",
      " * time: 2.9914650917053223\n",
      "    20    -6.223316e+01     6.530894e-03\n",
      " * time: 3.1008260250091553\n",
      "    21    -6.224186e+01     6.042282e-03\n",
      " * time: 3.204369068145752\n",
      "    22    -6.224926e+01     5.575666e-03\n",
      " * time: 3.314471960067749\n",
      "    23    -6.225449e+01     3.989220e-03\n",
      " * time: 3.4246859550476074\n",
      "    24    -6.225762e+01     2.999934e-03\n",
      " * time: 3.527724027633667\n",
      "    25    -6.225923e+01     2.593544e-03\n",
      " * time: 3.6374480724334717\n",
      "    26    -6.226009e+01     1.768367e-03\n",
      " * time: 3.740644931793213\n",
      "    27    -6.226060e+01     1.364352e-03\n",
      " * time: 3.8501079082489014\n",
      "    28    -6.226094e+01     1.135919e-03\n",
      " * time: 3.9596149921417236\n",
      "    29    -6.226118e+01     1.139055e-03\n",
      " * time: 4.063117027282715\n",
      "    30    -6.226136e+01     8.875885e-04\n",
      " * time: 4.174660921096802\n",
      "    31    -6.226149e+01     6.399409e-04\n",
      " * time: 4.278187036514282\n",
      "    32    -6.226157e+01     5.054371e-04\n",
      " * time: 4.388341903686523\n",
      "    33    -6.226161e+01     3.565661e-04\n",
      " * time: 4.498800992965698\n",
      "    34    -6.226164e+01     2.446322e-04\n",
      " * time: 4.602705955505371\n",
      "    35    -6.226165e+01     1.813347e-04\n",
      " * time: 4.713651895523071\n",
      "    36    -6.226166e+01     1.288619e-04\n",
      " * time: 4.823452949523926\n",
      "    37    -6.226166e+01     1.134087e-04\n",
      " * time: 4.927093982696533\n",
      "    38    -6.226166e+01     7.589077e-05\n",
      " * time: 5.040703058242798\n",
      "    39    -6.226166e+01     5.267143e-05\n",
      " * time: 5.159873008728027\n",
      "    40    -6.226167e+01     5.201163e-05\n",
      " * time: 5.274754047393799\n",
      "    41    -6.226167e+01     3.882706e-05\n",
      " * time: 5.3853759765625\n",
      "    42    -6.226167e+01     3.722258e-05\n",
      " * time: 5.489151954650879\n",
      "    43    -6.226167e+01     2.847970e-05\n",
      " * time: 5.601156949996948\n",
      "    44    -6.226167e+01     2.095345e-05\n",
      " * time: 5.720253944396973\n",
      "    45    -6.226167e+01     1.463222e-05\n",
      " * time: 5.834100961685181\n",
      "    46    -6.226167e+01     1.285329e-05\n",
      " * time: 5.945842027664185\n",
      "    47    -6.226167e+01     8.796483e-06\n",
      " * time: 6.049504041671753\n",
      "    48    -6.226167e+01     4.408184e-06\n",
      " * time: 6.159399032592773\n",
      "    49    -6.226167e+01     3.011897e-06\n",
      " * time: 6.262207984924316\n"
     ]
    }
   ],
   "cell_type": "code",
   "source": [
    "scfres = direct_minimization(basis, tol=1e-5);"
   ],
   "metadata": {},
   "execution_count": 4
  },
  {
   "outputs": [
    {
     "output_type": "execute_result",
     "data": {
      "text/plain": "Energy breakdown:\n    Kinetic             25.7671065\n    AtomicLocal         -18.8557625\n    AtomicNonlocal      14.8522605\n    Ewald               -67.1831486\n    PspCorrection       -2.3569765\n    Hartree             4.8485356 \n    Xc                  -19.3336814\n\n    total               -62.261666459034\n"
     },
     "metadata": {},
     "execution_count": 5
    }
   ],
   "cell_type": "code",
   "source": [
    "scfres.energies"
   ],
   "metadata": {},
   "execution_count": 5
  }
 ],
 "nbformat_minor": 3,
 "metadata": {
  "language_info": {
   "file_extension": ".jl",
   "mimetype": "application/julia",
   "name": "julia",
   "version": "1.3.1"
  },
  "kernelspec": {
   "name": "julia-1.3",
   "display_name": "Julia 1.3.1",
   "language": "julia"
  }
 },
 "nbformat": 4
}
