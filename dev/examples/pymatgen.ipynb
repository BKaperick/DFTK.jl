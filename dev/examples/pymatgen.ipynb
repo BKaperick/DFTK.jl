{
 "cells": [
  {
   "cell_type": "markdown",
   "source": [
    "# Creating supercells with pymatgen\n",
    "\n",
    "The [Pymatgen](https://pymatgen.org/) python library allows to setup\n",
    "solid-state calculations using a flexible set of classes as well as an API\n",
    "to an online data base of structures. Its `Structure` and `Lattice`\n",
    "objects are directly supported by the DFTK `load_atoms` and `load_lattice`\n",
    "functions, such that DFTK may be readily used to run calculation on systems\n",
    "defined in pymatgen. Using the `pymatgen_structure` function a conversion\n",
    "from DFTK to pymatgen structures is also possible. In the following we\n",
    "use this to create a silicon supercell and find its LDA ground state\n",
    "using direct minimisation."
   ],
   "metadata": {}
  },
  {
   "cell_type": "markdown",
   "source": [
    "First we setup the silicon lattice in DFTK."
   ],
   "metadata": {}
  },
  {
   "outputs": [],
   "cell_type": "code",
   "source": [
    "using DFTK\n",
    "\n",
    "a = 10.263141334305942  # Lattice constant in Bohr\n",
    "lattice = a / 2 .* [[0 1 1.]; [1 0 1.]; [1 1 0.]]\n",
    "Si = ElementPsp(:Si, psp=load_psp(\"hgh/lda/Si-q4\"))\n",
    "atoms = [Si => [ones(3)/8, -ones(3)/8]];"
   ],
   "metadata": {},
   "execution_count": 1
  },
  {
   "cell_type": "markdown",
   "source": [
    "Next we make a `[2, 2, 2]` supercell using pymatgen"
   ],
   "metadata": {}
  },
  {
   "outputs": [],
   "cell_type": "code",
   "source": [
    "pystruct = pymatgen_structure(lattice, atoms)\n",
    "pystruct.make_supercell([2, 2, 2])\n",
    "lattice = load_lattice(pystruct)\n",
    "atoms = [Si => [s.frac_coords for s in pystruct.sites]];"
   ],
   "metadata": {},
   "execution_count": 2
  },
  {
   "cell_type": "markdown",
   "source": [
    "Setup an LDA model and discretize using\n",
    "a single kpoint and a small `Ecut` of 5 Hartree.\n",
    "Notice that `PlaneWaveBasis` defaults to just using the ``Γ``-point\n",
    "if no ``k``-point options are provided."
   ],
   "metadata": {}
  },
  {
   "outputs": [
    {
     "output_type": "execute_result",
     "data": {
      "text/plain": "PlaneWaveBasis (Ecut=5.0, 1 kpoints)"
     },
     "metadata": {},
     "execution_count": 3
    }
   ],
   "cell_type": "code",
   "source": [
    "model = model_LDA(lattice, atoms)\n",
    "basis = PlaneWaveBasis(model, 5)"
   ],
   "metadata": {},
   "execution_count": 3
  },
  {
   "cell_type": "markdown",
   "source": [
    "Find the ground state using direct minimisation (always using SCF is boring ...)"
   ],
   "metadata": {}
  },
  {
   "outputs": [
    {
     "name": "stdout",
     "output_type": "stream",
     "text": [
      "Iter     Function value   Gradient norm \n",
      "     0     1.115453e+02     1.819613e+00\n",
      " * time: 0.1235508918762207\n",
      "     1     1.000567e+01     1.059304e+00\n",
      " * time: 0.9173150062561035\n",
      "     2    -1.136666e+01     1.208372e+00\n",
      " * time: 1.049293041229248\n",
      "     3    -3.377273e+01     9.749955e-01\n",
      " * time: 1.2084510326385498\n",
      "     4    -4.692682e+01     7.267260e-01\n",
      " * time: 1.3589880466461182\n",
      "     5    -5.693742e+01     2.183846e-01\n",
      " * time: 1.5037388801574707\n",
      "     6    -5.994876e+01     1.623136e-01\n",
      " * time: 1.6098740100860596\n",
      "     7    -6.106250e+01     5.000771e-02\n",
      " * time: 1.7232630252838135\n",
      "     8    -6.148213e+01     5.153591e-02\n",
      " * time: 1.8322780132293701\n",
      "     9    -6.167780e+01     2.971900e-02\n",
      " * time: 1.9467239379882812\n",
      "    10    -6.186246e+01     2.926791e-02\n",
      " * time: 2.054007053375244\n",
      "    11    -6.198921e+01     2.651057e-02\n",
      " * time: 2.168684959411621\n",
      "    12    -6.206395e+01     1.865856e-02\n",
      " * time: 2.2761659622192383\n",
      "    13    -6.211491e+01     1.564579e-02\n",
      " * time: 2.388948917388916\n",
      "    14    -6.215108e+01     1.346215e-02\n",
      " * time: 2.494697093963623\n",
      "    15    -6.217433e+01     8.907016e-03\n",
      " * time: 2.6083710193634033\n",
      "    16    -6.218859e+01     6.592872e-03\n",
      " * time: 2.7212369441986084\n",
      "    17    -6.219853e+01     7.419631e-03\n",
      " * time: 2.827756881713867\n",
      "    18    -6.220616e+01     6.510234e-03\n",
      " * time: 2.941293954849243\n",
      "    19    -6.221255e+01     6.978363e-03\n",
      " * time: 3.0495660305023193\n",
      "    20    -6.221869e+01     8.131441e-03\n",
      " * time: 3.163749933242798\n",
      "    21    -6.222488e+01     7.731078e-03\n",
      " * time: 3.268972873687744\n",
      "    22    -6.223158e+01     8.234210e-03\n",
      " * time: 3.381255865097046\n",
      "    23    -6.223885e+01     6.205967e-03\n",
      " * time: 3.486975908279419\n",
      "    24    -6.224568e+01     5.084716e-03\n",
      " * time: 3.599224090576172\n",
      "    25    -6.225113e+01     4.836951e-03\n",
      " * time: 3.7044548988342285\n",
      "    26    -6.225493e+01     3.872464e-03\n",
      " * time: 3.8181068897247314\n",
      "    27    -6.225715e+01     2.841457e-03\n",
      " * time: 3.924351930618286\n",
      "    28    -6.225856e+01     2.703622e-03\n",
      " * time: 4.03597092628479\n",
      "    29    -6.225958e+01     2.065118e-03\n",
      " * time: 4.141471862792969\n",
      "    30    -6.226038e+01     1.566401e-03\n",
      " * time: 4.25479793548584\n",
      "    31    -6.226092e+01     1.345149e-03\n",
      " * time: 4.359163045883179\n",
      "    32    -6.226125e+01     1.035971e-03\n",
      " * time: 4.4695799350738525\n",
      "    33    -6.226145e+01     7.609980e-04\n",
      " * time: 4.581413984298706\n",
      "    34    -6.226155e+01     6.324282e-04\n",
      " * time: 4.686686038970947\n",
      "    35    -6.226161e+01     3.913380e-04\n",
      " * time: 4.798465967178345\n",
      "    36    -6.226163e+01     3.163065e-04\n",
      " * time: 4.904502868652344\n",
      "    37    -6.226165e+01     2.220091e-04\n",
      " * time: 5.0183210372924805\n",
      "    38    -6.226165e+01     1.674341e-04\n",
      " * time: 5.124773025512695\n",
      "    39    -6.226166e+01     1.197685e-04\n",
      " * time: 5.237498044967651\n",
      "    40    -6.226166e+01     1.186768e-04\n",
      " * time: 5.343605041503906\n",
      "    41    -6.226166e+01     9.493562e-05\n",
      " * time: 5.457509994506836\n",
      "    42    -6.226166e+01     7.836956e-05\n",
      " * time: 5.563745021820068\n",
      "    43    -6.226167e+01     5.959640e-05\n",
      " * time: 5.676439046859741\n",
      "    44    -6.226167e+01     3.681080e-05\n",
      " * time: 5.783313035964966\n",
      "    45    -6.226167e+01     3.479516e-05\n",
      " * time: 5.896827936172485\n",
      "    46    -6.226167e+01     2.687807e-05\n",
      " * time: 6.004601001739502\n",
      "    47    -6.226167e+01     2.044026e-05\n",
      " * time: 6.117424011230469\n",
      "    48    -6.226167e+01     1.539369e-05\n",
      " * time: 6.22287392616272\n",
      "    49    -6.226167e+01     9.255637e-06\n",
      " * time: 6.335470914840698\n",
      "    50    -6.226167e+01     8.664055e-06\n",
      " * time: 6.448718070983887\n",
      "    51    -6.226167e+01     6.073424e-06\n",
      " * time: 6.554502964019775\n",
      "    52    -6.226167e+01     4.733529e-06\n",
      " * time: 6.668047904968262\n",
      "    53    -6.226167e+01     3.651194e-06\n",
      " * time: 6.775628089904785\n",
      "    54    -6.226167e+01     3.405920e-06\n",
      " * time: 6.888228893280029\n",
      "    55    -6.226167e+01     2.429111e-06\n",
      " * time: 6.9948508739471436\n",
      "    56    -6.226167e+01     2.474038e-06\n",
      " * time: 7.108293056488037\n"
     ]
    }
   ],
   "cell_type": "code",
   "source": [
    "scfres = direct_minimization(basis, tol=1e-5);"
   ],
   "metadata": {},
   "execution_count": 4
  },
  {
   "outputs": [
    {
     "output_type": "execute_result",
     "data": {
      "text/plain": "Energy breakdown:\n    Kinetic             25.7671064\n    AtomicLocal         -18.8557674\n    AtomicNonlocal      14.8522648\n    Ewald               -67.1831486\n    PspCorrection       -2.3569765\n    Hartree             4.8485367 \n    Xc                  -19.3336818\n\n    total               -62.261666462179\n"
     },
     "metadata": {},
     "execution_count": 5
    }
   ],
   "cell_type": "code",
   "source": [
    "scfres.energies"
   ],
   "metadata": {},
   "execution_count": 5
  }
 ],
 "nbformat_minor": 3,
 "metadata": {
  "language_info": {
   "file_extension": ".jl",
   "mimetype": "application/julia",
   "name": "julia",
   "version": "1.3.1"
  },
  "kernelspec": {
   "name": "julia-1.3",
   "display_name": "Julia 1.3.1",
   "language": "julia"
  }
 },
 "nbformat": 4
}
