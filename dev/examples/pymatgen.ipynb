{
 "cells": [
  {
   "cell_type": "markdown",
   "source": [
    "# Creating supercells with pymatgen\n",
    "\n",
    "The [Pymatgen](https://pymatgen.org/) python library allows to setup\n",
    "solid-state calculations using a flexible set of classes as well as an API\n",
    "to an online data base of structures. Its `Structure` and `Lattice`\n",
    "objects are directly supported by the DFTK `load_atoms` and `load_lattice`\n",
    "functions, such that DFTK may be readily used to run calculation on systems\n",
    "defined in pymatgen. Using the `pymatgen_structure` function a conversion\n",
    "from DFTK to pymatgen structures is also possible. In the following we\n",
    "use this to create a silicon supercell and find its LDA ground state\n",
    "using direct minimisation."
   ],
   "metadata": {}
  },
  {
   "cell_type": "markdown",
   "source": [
    "First we setup the silicon lattice in DFTK."
   ],
   "metadata": {}
  },
  {
   "outputs": [],
   "cell_type": "code",
   "source": [
    "using DFTK\n",
    "\n",
    "a = 10.263141334305942  # Lattice constant in Bohr\n",
    "lattice = a / 2 .* [[0 1 1.]; [1 0 1.]; [1 1 0.]]\n",
    "Si = ElementPsp(:Si, psp=load_psp(\"hgh/lda/Si-q4\"))\n",
    "atoms = [Si => [ones(3)/8, -ones(3)/8]];"
   ],
   "metadata": {},
   "execution_count": 1
  },
  {
   "cell_type": "markdown",
   "source": [
    "Next we make a `[2, 2, 2]` supercell using pymatgen"
   ],
   "metadata": {}
  },
  {
   "outputs": [],
   "cell_type": "code",
   "source": [
    "pystruct = pymatgen_structure(lattice, atoms)\n",
    "pystruct.make_supercell([2, 2, 2])\n",
    "lattice = load_lattice(pystruct)\n",
    "atoms = [Si => [s.frac_coords for s in pystruct.sites]];"
   ],
   "metadata": {},
   "execution_count": 2
  },
  {
   "cell_type": "markdown",
   "source": [
    "Setup an LDA model and discretize using\n",
    "a single kpoint and a small `Ecut` of 5 Hartree."
   ],
   "metadata": {}
  },
  {
   "outputs": [
    {
     "output_type": "execute_result",
     "data": {
      "text/plain": "PlaneWaveBasis (Ecut=5.0, 1 kpoints)"
     },
     "metadata": {},
     "execution_count": 3
    }
   ],
   "cell_type": "code",
   "source": [
    "model = model_LDA(lattice, atoms)\n",
    "basis = PlaneWaveBasis(model, 5, kgrid=(1, 1, 1))"
   ],
   "metadata": {},
   "execution_count": 3
  },
  {
   "cell_type": "markdown",
   "source": [
    "Find the ground state using direct minimisation (always using SCF is boring ...)"
   ],
   "metadata": {}
  },
  {
   "outputs": [
    {
     "name": "stdout",
     "output_type": "stream",
     "text": [
      "Iter     Function value   Gradient norm \n",
      "     0     1.120721e+02     1.458905e+00\n",
      " * time: 0.08944106101989746\n",
      "     1     1.113597e+01     8.440378e-01\n",
      " * time: 0.9478020668029785\n",
      "     2    -1.171424e+01     9.467217e-01\n",
      " * time: 1.076390027999878\n",
      "     3    -3.408931e+01     7.845139e-01\n",
      " * time: 1.237112045288086\n",
      "     4    -4.764510e+01     5.585544e-01\n",
      " * time: 1.388895034790039\n",
      "     5    -5.690209e+01     1.850537e-01\n",
      " * time: 1.5347061157226562\n",
      "     6    -5.978143e+01     1.179555e-01\n",
      " * time: 1.6414330005645752\n",
      "     7    -6.085370e+01     5.183750e-02\n",
      " * time: 1.7499699592590332\n",
      "     8    -6.125490e+01     6.596644e-02\n",
      " * time: 1.864617109298706\n",
      "     9    -6.156589e+01     3.633605e-02\n",
      " * time: 1.971325159072876\n",
      "    10    -6.178101e+01     2.740538e-02\n",
      " * time: 2.085245132446289\n",
      "    11    -6.195361e+01     2.220664e-02\n",
      " * time: 2.1914050579071045\n",
      "    12    -6.202664e+01     1.902294e-02\n",
      " * time: 2.305562973022461\n",
      "    13    -6.210746e+01     1.810845e-02\n",
      " * time: 2.4116909503936768\n",
      "    14    -6.214618e+01     1.367654e-02\n",
      " * time: 2.524986982345581\n",
      "    15    -6.218200e+01     1.212675e-02\n",
      " * time: 2.6324851512908936\n",
      "    16    -6.219829e+01     1.243175e-02\n",
      " * time: 2.7474191188812256\n",
      "    17    -6.221074e+01     1.076410e-02\n",
      " * time: 2.8546509742736816\n",
      "    18    -6.221953e+01     8.248761e-03\n",
      " * time: 2.967128038406372\n",
      "    19    -6.222651e+01     7.299148e-03\n",
      " * time: 3.0730769634246826\n",
      "    20    -6.223302e+01     6.650396e-03\n",
      " * time: 3.185197114944458\n",
      "    21    -6.223974e+01     6.125457e-03\n",
      " * time: 3.2921669483184814\n",
      "    22    -6.224639e+01     5.714929e-03\n",
      " * time: 3.410731077194214\n",
      "    23    -6.225199e+01     4.944648e-03\n",
      " * time: 3.5166311264038086\n",
      "    24    -6.225599e+01     3.522270e-03\n",
      " * time: 3.631498098373413\n",
      "    25    -6.225830e+01     2.663087e-03\n",
      " * time: 3.7369699478149414\n",
      "    26    -6.225954e+01     1.982599e-03\n",
      " * time: 3.8520989418029785\n",
      "    27    -6.226026e+01     1.497751e-03\n",
      " * time: 3.95957612991333\n",
      "    28    -6.226070e+01     1.437800e-03\n",
      " * time: 4.074378967285156\n",
      "    29    -6.226101e+01     1.285590e-03\n",
      " * time: 4.1821019649505615\n",
      "    30    -6.226124e+01     1.191157e-03\n",
      " * time: 4.290087938308716\n",
      "    31    -6.226141e+01     8.504635e-04\n",
      " * time: 4.405710935592651\n",
      "    32    -6.226152e+01     5.837717e-04\n",
      " * time: 4.514503002166748\n",
      "    33    -6.226158e+01     4.475579e-04\n",
      " * time: 4.629367113113403\n",
      "    34    -6.226163e+01     3.302068e-04\n",
      " * time: 4.735368967056274\n",
      "    35    -6.226165e+01     2.367006e-04\n",
      " * time: 4.849517107009888\n",
      "    36    -6.226166e+01     1.936727e-04\n",
      " * time: 4.957036018371582\n",
      "    37    -6.226166e+01     1.078000e-04\n",
      " * time: 5.07055401802063\n",
      "    38    -6.226166e+01     8.306227e-05\n",
      " * time: 5.178175926208496\n",
      "    39    -6.226166e+01     6.806882e-05\n",
      " * time: 5.293089151382446\n",
      "    40    -6.226167e+01     5.202359e-05\n",
      " * time: 5.400566101074219\n",
      "    41    -6.226167e+01     4.158485e-05\n",
      " * time: 5.516512155532837\n",
      "    42    -6.226167e+01     3.796118e-05\n",
      " * time: 5.6249189376831055\n",
      "    43    -6.226167e+01     3.800969e-05\n",
      " * time: 5.74194598197937\n",
      "    44    -6.226167e+01     2.558418e-05\n",
      " * time: 5.848735094070435\n",
      "    45    -6.226167e+01     1.549232e-05\n",
      " * time: 5.96384596824646\n",
      "    46    -6.226167e+01     1.174112e-05\n",
      " * time: 6.072019100189209\n",
      "    47    -6.226167e+01     9.904480e-06\n",
      " * time: 6.187320947647095\n",
      "    48    -6.226167e+01     6.259310e-06\n",
      " * time: 6.2952940464019775\n",
      "    49    -6.226167e+01     7.032260e-06\n",
      " * time: 6.4121339321136475\n",
      "    50    -6.226167e+01     3.826813e-06\n",
      " * time: 6.521183013916016\n"
     ]
    }
   ],
   "cell_type": "code",
   "source": [
    "scfres = direct_minimization(basis, tol=1e-5);"
   ],
   "metadata": {},
   "execution_count": 4
  },
  {
   "outputs": [
    {
     "output_type": "execute_result",
     "data": {
      "text/plain": "Energy breakdown:\n    Kinetic             25.7671055\n    AtomicLocal         -18.8557627\n    AtomicNonlocal      14.8522621\n    Ewald               -67.1831486\n    PspCorrection       -2.3569765\n    Hartree             4.8485350 \n    Xc                  -19.3336811\n\n    total               -62.261666457556\n"
     },
     "metadata": {},
     "execution_count": 5
    }
   ],
   "cell_type": "code",
   "source": [
    "scfres.energies"
   ],
   "metadata": {},
   "execution_count": 5
  }
 ],
 "nbformat_minor": 3,
 "metadata": {
  "language_info": {
   "file_extension": ".jl",
   "mimetype": "application/julia",
   "name": "julia",
   "version": "1.3.1"
  },
  "kernelspec": {
   "name": "julia-1.3",
   "display_name": "Julia 1.3.1",
   "language": "julia"
  }
 },
 "nbformat": 4
}
