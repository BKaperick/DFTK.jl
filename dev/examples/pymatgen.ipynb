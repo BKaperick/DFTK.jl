{
 "cells": [
  {
   "cell_type": "markdown",
   "source": [
    "# Creating supercells with pymatgen\n",
    "\n",
    "The [Pymatgen](https://pymatgen.org/) python library allows to setup\n",
    "solid-state calculations using a flexible set of classes as well as an API\n",
    "to an online data base of structures. Its `Structure` and `Lattice`\n",
    "objects are directly supported by the DFTK `load_atoms` and `load_lattice`\n",
    "functions, such that DFTK may be readily used to run calculation on systems\n",
    "defined in pymatgen. Using the `pymatgen_structure` function a conversion\n",
    "from DFTK to pymatgen structures is also possible. In the following we\n",
    "use this to create a silicon supercell and find its LDA ground state\n",
    "using direct minimisation."
   ],
   "metadata": {}
  },
  {
   "cell_type": "markdown",
   "source": [
    "First we setup the silicon lattice in DFTK."
   ],
   "metadata": {}
  },
  {
   "outputs": [],
   "cell_type": "code",
   "source": [
    "using DFTK\n",
    "\n",
    "a = 10.263141334305942  # Lattice constant in Bohr\n",
    "lattice = a / 2 .* [[0 1 1.]; [1 0 1.]; [1 1 0.]]\n",
    "Si = ElementPsp(:Si, psp=load_psp(\"hgh/lda/Si-q4\"))\n",
    "atoms = [Si => [ones(3)/8, -ones(3)/8]];"
   ],
   "metadata": {},
   "execution_count": 1
  },
  {
   "cell_type": "markdown",
   "source": [
    "Next we make a `[2, 2, 2]` supercell using pymatgen"
   ],
   "metadata": {}
  },
  {
   "outputs": [],
   "cell_type": "code",
   "source": [
    "pystruct = pymatgen_structure(lattice, atoms)\n",
    "pystruct.make_supercell([2, 2, 2])\n",
    "lattice = load_lattice(pystruct)\n",
    "atoms = [Si => [s.frac_coords for s in pystruct.sites]];"
   ],
   "metadata": {},
   "execution_count": 2
  },
  {
   "cell_type": "markdown",
   "source": [
    "Setup an LDA model and discretize using\n",
    "a single kpoint and a small `Ecut` of 5 Hartree."
   ],
   "metadata": {}
  },
  {
   "outputs": [
    {
     "output_type": "execute_result",
     "data": {
      "text/plain": "PlaneWaveBasis (Ecut=5.0, 1 kpoints)"
     },
     "metadata": {},
     "execution_count": 3
    }
   ],
   "cell_type": "code",
   "source": [
    "model = model_LDA(lattice, atoms)\n",
    "basis = PlaneWaveBasis(model, 5, kgrid=(1, 1, 1))"
   ],
   "metadata": {},
   "execution_count": 3
  },
  {
   "cell_type": "markdown",
   "source": [
    "Find the ground state using direct minimisation (always using SCF is boring ...)"
   ],
   "metadata": {}
  },
  {
   "outputs": [
    {
     "name": "stdout",
     "output_type": "stream",
     "text": [
      "Iter     Function value   Gradient norm \n",
      "     0     1.123600e+02     1.548024e+00\n",
      " * time: 0.07417988777160645\n",
      "     1     1.071699e+01     1.098654e+00\n",
      " * time: 1.4080510139465332\n",
      "     2    -1.091985e+01     1.245442e+00\n",
      " * time: 1.528843879699707\n",
      "     3    -3.400914e+01     8.379143e-01\n",
      " * time: 1.6254680156707764\n",
      "     4    -4.718181e+01     5.836052e-01\n",
      " * time: 1.7334299087524414\n",
      "     5    -5.677748e+01     2.088449e-01\n",
      " * time: 1.8455729484558105\n",
      "     6    -5.968484e+01     1.581053e-01\n",
      " * time: 1.9364080429077148\n",
      "     7    -6.088269e+01     6.328205e-02\n",
      " * time: 2.0105319023132324\n",
      "     8    -6.138085e+01     4.056628e-02\n",
      " * time: 2.084514856338501\n",
      "     9    -6.164766e+01     3.466255e-02\n",
      " * time: 2.1625468730926514\n",
      "    10    -6.181741e+01     2.986695e-02\n",
      " * time: 2.2508440017700195\n",
      "    11    -6.196895e+01     2.251096e-02\n",
      " * time: 2.324172019958496\n",
      "    12    -6.206897e+01     1.901357e-02\n",
      " * time: 2.3991198539733887\n",
      "    13    -6.211259e+01     1.606290e-02\n",
      " * time: 2.476223945617676\n",
      "    14    -6.216092e+01     1.320612e-02\n",
      " * time: 2.5483908653259277\n",
      "    15    -6.218063e+01     1.270928e-02\n",
      " * time: 2.631953001022339\n",
      "    16    -6.219669e+01     1.364799e-02\n",
      " * time: 2.7073159217834473\n",
      "    17    -6.220728e+01     1.224465e-02\n",
      " * time: 2.78411602973938\n",
      "    18    -6.221621e+01     1.106673e-02\n",
      " * time: 2.857661008834839\n",
      "    19    -6.222390e+01     8.617014e-03\n",
      " * time: 2.938400983810425\n",
      "    20    -6.223111e+01     8.355313e-03\n",
      " * time: 3.0191290378570557\n",
      "    21    -6.223824e+01     7.285763e-03\n",
      " * time: 3.091960906982422\n",
      "    22    -6.224531e+01     5.960204e-03\n",
      " * time: 3.1686549186706543\n",
      "    23    -6.225147e+01     4.880282e-03\n",
      " * time: 3.2455010414123535\n",
      "    24    -6.225580e+01     3.661277e-03\n",
      " * time: 3.3308229446411133\n",
      "    25    -6.225817e+01     2.771539e-03\n",
      " * time: 3.406255006790161\n",
      "    26    -6.225946e+01     2.347717e-03\n",
      " * time: 3.4827558994293213\n",
      "    27    -6.226019e+01     1.630092e-03\n",
      " * time: 3.557121992111206\n",
      "    28    -6.226063e+01     1.288350e-03\n",
      " * time: 3.6318039894104004\n",
      "    29    -6.226095e+01     1.258966e-03\n",
      " * time: 3.7125730514526367\n",
      "    30    -6.226119e+01     1.054696e-03\n",
      " * time: 3.7867958545684814\n",
      "    31    -6.226137e+01     8.062386e-04\n",
      " * time: 3.860081911087036\n",
      "    32    -6.226149e+01     6.175225e-04\n",
      " * time: 3.9365599155426025\n",
      "    33    -6.226158e+01     4.849533e-04\n",
      " * time: 4.018127918243408\n",
      "    34    -6.226162e+01     4.340983e-04\n",
      " * time: 4.093106031417847\n",
      "    35    -6.226164e+01     2.838650e-04\n",
      " * time: 4.170072078704834\n",
      "    36    -6.226166e+01     1.596829e-04\n",
      " * time: 4.2456629276275635\n",
      "    37    -6.226166e+01     9.759189e-05\n",
      " * time: 4.32094407081604\n",
      "    38    -6.226166e+01     7.992380e-05\n",
      " * time: 4.401386022567749\n",
      "    39    -6.226167e+01     5.676729e-05\n",
      " * time: 4.47891092300415\n",
      "    40    -6.226167e+01     4.218251e-05\n",
      " * time: 4.5528528690338135\n",
      "    41    -6.226167e+01     3.427911e-05\n",
      " * time: 4.627346992492676\n",
      "    42    -6.226167e+01     3.391493e-05\n",
      " * time: 4.704467058181763\n",
      "    43    -6.226167e+01     2.457896e-05\n",
      " * time: 4.785348892211914\n",
      "    44    -6.226167e+01     1.841972e-05\n",
      " * time: 4.859829902648926\n",
      "    45    -6.226167e+01     1.589923e-05\n",
      " * time: 4.934967041015625\n",
      "    46    -6.226167e+01     1.419895e-05\n",
      " * time: 5.00920295715332\n",
      "    47    -6.226167e+01     8.816884e-06\n",
      " * time: 5.0891499519348145\n",
      "    48    -6.226167e+01     7.145603e-06\n",
      " * time: 5.161056995391846\n",
      "    49    -6.226167e+01     5.980580e-06\n",
      " * time: 5.235247850418091\n",
      "    50    -6.226167e+01     3.625200e-06\n",
      " * time: 5.314346075057983\n"
     ]
    }
   ],
   "cell_type": "code",
   "source": [
    "scfres = direct_minimization(basis, tol=1e-5);"
   ],
   "metadata": {},
   "execution_count": 4
  },
  {
   "outputs": [
    {
     "output_type": "execute_result",
     "data": {
      "text/plain": "Energy breakdown:\n    Kinetic             25.7671059\n    AtomicLocal         -18.8557670\n    AtomicNonlocal      14.8522651\n    Ewald               -67.1831486\n    PspCorrection       -2.3569765\n    Hartree             4.8485363 \n    Xc                  -19.3336817\n\n    total               -62.261666456866\n"
     },
     "metadata": {},
     "execution_count": 5
    }
   ],
   "cell_type": "code",
   "source": [
    "scfres.energies"
   ],
   "metadata": {},
   "execution_count": 5
  }
 ],
 "nbformat_minor": 3,
 "metadata": {
  "language_info": {
   "file_extension": ".jl",
   "mimetype": "application/julia",
   "name": "julia",
   "version": "1.5.3"
  },
  "kernelspec": {
   "name": "julia-1.5",
   "display_name": "Julia 1.5.3",
   "language": "julia"
  }
 },
 "nbformat": 4
}
