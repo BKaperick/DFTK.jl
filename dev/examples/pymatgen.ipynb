{
 "cells": [
  {
   "cell_type": "markdown",
   "source": [
    "# Creating supercells with pymatgen\n",
    "\n",
    "The [Pymatgen](https://pymatgen.org/) python library allows to setup\n",
    "solid-state calculations using a flexible set of classes as well as an API\n",
    "to an online data base of structures. Its `Structure` and `Lattice`\n",
    "objects are directly supported by the DFTK `load_atoms` and `load_lattice`\n",
    "functions, such that DFTK may be readily used to run calculation on systems\n",
    "defined in pymatgen. Using the `pymatgen_structure` function a conversion\n",
    "from DFTK to pymatgen structures is also possible. In the following we\n",
    "use this to create a silicon supercell and find its LDA ground state\n",
    "using direct minimisation."
   ],
   "metadata": {}
  },
  {
   "cell_type": "markdown",
   "source": [
    "First we setup the silicon lattice in DFTK."
   ],
   "metadata": {}
  },
  {
   "outputs": [],
   "cell_type": "code",
   "source": [
    "using DFTK\n",
    "\n",
    "a = 10.263141334305942  # Lattice constant in Bohr\n",
    "lattice = a / 2 .* [[0 1 1.]; [1 0 1.]; [1 1 0.]]\n",
    "Si = ElementPsp(:Si, psp=load_psp(\"hgh/lda/Si-q4\"))\n",
    "atoms = [Si => [ones(3)/8, -ones(3)/8]];"
   ],
   "metadata": {},
   "execution_count": 1
  },
  {
   "cell_type": "markdown",
   "source": [
    "Next we make a `[2, 2, 2]` supercell using pymatgen"
   ],
   "metadata": {}
  },
  {
   "outputs": [],
   "cell_type": "code",
   "source": [
    "pystruct = pymatgen_structure(lattice, atoms)\n",
    "pystruct.make_supercell([2, 2, 2])\n",
    "lattice = load_lattice(pystruct)\n",
    "atoms = [Si => [s.frac_coords for s in pystruct.sites]];"
   ],
   "metadata": {},
   "execution_count": 2
  },
  {
   "cell_type": "markdown",
   "source": [
    "Setup an LDA model and discretize using\n",
    "a single kpoint and a small `Ecut` of 5 Hartree.\n",
    "Notice that `PlaneWaveBasis` defaults to just using the ``Γ``-point\n",
    "if no ``k``-point options are provided."
   ],
   "metadata": {}
  },
  {
   "outputs": [
    {
     "output_type": "execute_result",
     "data": {
      "text/plain": "PlaneWaveBasis (Ecut=5.0, 1 kpoints)"
     },
     "metadata": {},
     "execution_count": 3
    }
   ],
   "cell_type": "code",
   "source": [
    "model = model_LDA(lattice, atoms)\n",
    "basis = PlaneWaveBasis(model, 5)"
   ],
   "metadata": {},
   "execution_count": 3
  },
  {
   "cell_type": "markdown",
   "source": [
    "Find the ground state using direct minimisation (always using SCF is boring ...)"
   ],
   "metadata": {}
  },
  {
   "outputs": [
    {
     "name": "stdout",
     "output_type": "stream",
     "text": [
      "Iter     Function value   Gradient norm \n",
      "     0     1.117113e+02     1.568772e+00\n",
      " * time: 0.11998581886291504\n",
      "     1     1.040227e+01     9.394079e-01\n",
      " * time: 0.9766418933868408\n",
      "     2    -1.172722e+01     9.370649e-01\n",
      " * time: 1.111163854598999\n",
      "     3    -3.379371e+01     7.557226e-01\n",
      " * time: 1.2709848880767822\n",
      "     4    -4.715713e+01     6.297985e-01\n",
      " * time: 1.419252872467041\n",
      "     5    -5.664697e+01     2.129930e-01\n",
      " * time: 1.5645339488983154\n",
      "     6    -5.951903e+01     1.917551e-01\n",
      " * time: 1.6780939102172852\n",
      "     7    -6.072375e+01     7.556523e-02\n",
      " * time: 1.7919340133666992\n",
      "     8    -6.127273e+01     4.169593e-02\n",
      " * time: 1.8993189334869385\n",
      "     9    -6.160965e+01     3.631704e-02\n",
      " * time: 2.014737844467163\n",
      "    10    -6.180557e+01     2.880499e-02\n",
      " * time: 2.128154993057251\n",
      "    11    -6.192975e+01     2.857848e-02\n",
      " * time: 2.234128952026367\n",
      "    12    -6.201948e+01     1.915892e-02\n",
      " * time: 2.3478848934173584\n",
      "    13    -6.208648e+01     1.374419e-02\n",
      " * time: 2.4606809616088867\n",
      "    14    -6.213457e+01     1.428624e-02\n",
      " * time: 2.5673110485076904\n",
      "    15    -6.217090e+01     1.230721e-02\n",
      " * time: 2.680914878845215\n",
      "    16    -6.219547e+01     1.127028e-02\n",
      " * time: 2.7947118282318115\n",
      "    17    -6.221496e+01     8.007776e-03\n",
      " * time: 2.9094090461730957\n",
      "    18    -6.222873e+01     7.128443e-03\n",
      " * time: 3.0171499252319336\n",
      "    19    -6.223786e+01     6.566023e-03\n",
      " * time: 3.144623041152954\n",
      "    20    -6.224408e+01     5.597761e-03\n",
      " * time: 3.2593278884887695\n",
      "    21    -6.224882e+01     4.774379e-03\n",
      " * time: 3.366623878479004\n",
      "    22    -6.225303e+01     3.816667e-03\n",
      " * time: 3.4813058376312256\n",
      "    23    -6.225618e+01     3.876979e-03\n",
      " * time: 3.595599889755249\n",
      "    24    -6.225841e+01     2.715491e-03\n",
      " * time: 3.703810930252075\n",
      "    25    -6.225987e+01     1.875589e-03\n",
      " * time: 3.8196640014648438\n",
      "    26    -6.226076e+01     1.373457e-03\n",
      " * time: 3.9353089332580566\n",
      "    27    -6.226117e+01     1.070624e-03\n",
      " * time: 4.051429033279419\n",
      "    28    -6.226137e+01     7.484691e-04\n",
      " * time: 4.15822696685791\n",
      "    29    -6.226147e+01     8.376650e-04\n",
      " * time: 4.271148920059204\n",
      "    30    -6.226153e+01     5.322163e-04\n",
      " * time: 4.3859779834747314\n",
      "    31    -6.226157e+01     4.974732e-04\n",
      " * time: 4.493453025817871\n",
      "    32    -6.226160e+01     4.004920e-04\n",
      " * time: 4.609483003616333\n",
      "    33    -6.226163e+01     3.111509e-04\n",
      " * time: 4.723189830780029\n",
      "    34    -6.226164e+01     2.399878e-04\n",
      " * time: 4.837447881698608\n",
      "    35    -6.226165e+01     1.750501e-04\n",
      " * time: 4.944162845611572\n",
      "    36    -6.226166e+01     1.293805e-04\n",
      " * time: 5.075230836868286\n",
      "    37    -6.226166e+01     1.239799e-04\n",
      " * time: 5.193622827529907\n",
      "    38    -6.226166e+01     6.177884e-05\n",
      " * time: 5.3037269115448\n",
      "    39    -6.226167e+01     4.503084e-05\n",
      " * time: 5.420650005340576\n",
      "    40    -6.226167e+01     3.934945e-05\n",
      " * time: 5.536597967147827\n",
      "    41    -6.226167e+01     3.041654e-05\n",
      " * time: 5.646531820297241\n",
      "    42    -6.226167e+01     2.654481e-05\n",
      " * time: 5.76292085647583\n",
      "    43    -6.226167e+01     1.722005e-05\n",
      " * time: 5.8783159255981445\n",
      "    44    -6.226167e+01     1.513606e-05\n",
      " * time: 5.991348028182983\n",
      "    45    -6.226167e+01     1.418543e-05\n",
      " * time: 6.0989298820495605\n",
      "    46    -6.226167e+01     1.149381e-05\n",
      " * time: 6.213740825653076\n",
      "    47    -6.226167e+01     8.845291e-06\n",
      " * time: 6.330484867095947\n",
      "    48    -6.226167e+01     5.426663e-06\n",
      " * time: 6.440237998962402\n",
      "    49    -6.226167e+01     3.629504e-06\n",
      " * time: 6.556351900100708\n",
      "    50    -6.226167e+01     2.505840e-06\n",
      " * time: 6.672492980957031\n"
     ]
    }
   ],
   "cell_type": "code",
   "source": [
    "scfres = direct_minimization(basis, tol=1e-5);"
   ],
   "metadata": {},
   "execution_count": 4
  },
  {
   "outputs": [
    {
     "output_type": "execute_result",
     "data": {
      "text/plain": "Energy breakdown:\n    Kinetic             25.7671059\n    AtomicLocal         -18.8557654\n    AtomicNonlocal      14.8522637\n    Ewald               -67.1831486\n    PspCorrection       -2.3569765\n    Hartree             4.8485360 \n    Xc                  -19.3336815\n\n    total               -62.261666460744\n"
     },
     "metadata": {},
     "execution_count": 5
    }
   ],
   "cell_type": "code",
   "source": [
    "scfres.energies"
   ],
   "metadata": {},
   "execution_count": 5
  }
 ],
 "nbformat_minor": 3,
 "metadata": {
  "language_info": {
   "file_extension": ".jl",
   "mimetype": "application/julia",
   "name": "julia",
   "version": "1.3.1"
  },
  "kernelspec": {
   "name": "julia-1.3",
   "display_name": "Julia 1.3.1",
   "language": "julia"
  }
 },
 "nbformat": 4
}
