{
 "cells": [
  {
   "cell_type": "markdown",
   "source": [
    "# Creating supercells with pymatgen\n",
    "\n",
    "The [Pymatgen](https://pymatgen.org/) python library allows to setup\n",
    "solid-state calculations using a flexible set of classes as well as an API\n",
    "to an online data base of structures. Its `Structure` and `Lattice`\n",
    "objects are directly supported by the DFTK `load_atoms` and `load_lattice`\n",
    "functions, such that DFTK may be readily used to run calculation on systems\n",
    "defined in pymatgen. Using the `pymatgen_structure` function a conversion\n",
    "from DFTK to pymatgen structures is also possible. In the following we\n",
    "use this to create a silicon supercell and find its LDA ground state\n",
    "using direct minimisation."
   ],
   "metadata": {}
  },
  {
   "cell_type": "markdown",
   "source": [
    "First we setup the silicon lattice in DFTK."
   ],
   "metadata": {}
  },
  {
   "outputs": [],
   "cell_type": "code",
   "source": [
    "using DFTK\n",
    "\n",
    "a = 10.263141334305942  # Lattice constant in Bohr\n",
    "lattice = a / 2 .* [[0 1 1.]; [1 0 1.]; [1 1 0.]]\n",
    "Si = ElementPsp(:Si, psp=load_psp(\"hgh/lda/Si-q4\"))\n",
    "atoms = [Si => [ones(3)/8, -ones(3)/8]];"
   ],
   "metadata": {},
   "execution_count": 1
  },
  {
   "cell_type": "markdown",
   "source": [
    "Next we make a `[2, 2, 2]` supercell using pymatgen"
   ],
   "metadata": {}
  },
  {
   "outputs": [],
   "cell_type": "code",
   "source": [
    "pystruct = pymatgen_structure(lattice, atoms)\n",
    "pystruct.make_supercell([2, 2, 2])\n",
    "lattice = load_lattice(pystruct)\n",
    "atoms = [Si => [s.frac_coords for s in pystruct.sites]];"
   ],
   "metadata": {},
   "execution_count": 2
  },
  {
   "cell_type": "markdown",
   "source": [
    "Setup an LDA model and discretize using\n",
    "a single kpoint and a small `Ecut` of 5 Hartree."
   ],
   "metadata": {}
  },
  {
   "outputs": [
    {
     "output_type": "execute_result",
     "data": {
      "text/plain": "PlaneWaveBasis (Ecut=5.0, 1 kpoints)"
     },
     "metadata": {},
     "execution_count": 3
    }
   ],
   "cell_type": "code",
   "source": [
    "model = model_LDA(lattice, atoms)\n",
    "basis = PlaneWaveBasis(model, 5, kgrid=(1, 1, 1))"
   ],
   "metadata": {},
   "execution_count": 3
  },
  {
   "cell_type": "markdown",
   "source": [
    "Find the ground state using direct minimisation (always using SCF is boring ...)"
   ],
   "metadata": {}
  },
  {
   "outputs": [
    {
     "name": "stdout",
     "output_type": "stream",
     "text": [
      "Iter     Function value   Gradient norm \n",
      "     0     1.121428e+02     1.632101e+00\n",
      " * time: 0.09272313117980957\n",
      "     1     1.078605e+01     8.844887e-01\n",
      " * time: 0.9745299816131592\n",
      "     2    -1.175492e+01     1.051550e+00\n",
      " * time: 1.101747989654541\n",
      "     3    -3.415221e+01     7.962550e-01\n",
      " * time: 1.2628769874572754\n",
      "     4    -4.768100e+01     5.502533e-01\n",
      " * time: 1.4153931140899658\n",
      "     5    -5.685251e+01     1.829604e-01\n",
      " * time: 1.562648057937622\n",
      "     6    -5.972192e+01     1.124940e-01\n",
      " * time: 1.6787149906158447\n",
      "     7    -6.083784e+01     5.240263e-02\n",
      " * time: 1.7876172065734863\n",
      "     8    -6.128258e+01     6.077439e-02\n",
      " * time: 1.9051179885864258\n",
      "     9    -6.159752e+01     3.548038e-02\n",
      " * time: 2.0152080059051514\n",
      "    10    -6.182750e+01     2.819221e-02\n",
      " * time: 2.133674144744873\n",
      "    11    -6.199413e+01     2.220244e-02\n",
      " * time: 2.2517571449279785\n",
      "    12    -6.206273e+01     1.720743e-02\n",
      " * time: 2.3619771003723145\n",
      "    13    -6.213211e+01     1.427430e-02\n",
      " * time: 2.4812700748443604\n",
      "    14    -6.216167e+01     1.192441e-02\n",
      " * time: 2.592863082885742\n",
      "    15    -6.218652e+01     9.801138e-03\n",
      " * time: 2.7104082107543945\n",
      "    16    -6.219931e+01     8.825812e-03\n",
      " * time: 2.8202950954437256\n",
      "    17    -6.220928e+01     7.539113e-03\n",
      " * time: 2.9400980472564697\n",
      "    18    -6.221683e+01     7.170832e-03\n",
      " * time: 3.0591881275177\n",
      "    19    -6.222284e+01     6.736007e-03\n",
      " * time: 3.1696271896362305\n",
      "    20    -6.222854e+01     6.244811e-03\n",
      " * time: 3.2864081859588623\n",
      "    21    -6.223450e+01     6.634376e-03\n",
      " * time: 3.3959691524505615\n",
      "    22    -6.224074e+01     5.970070e-03\n",
      " * time: 3.5141520500183105\n",
      "    23    -6.224689e+01     5.245997e-03\n",
      " * time: 3.630542039871216\n",
      "    24    -6.225207e+01     5.051416e-03\n",
      " * time: 3.7393360137939453\n",
      "    25    -6.225564e+01     4.004174e-03\n",
      " * time: 3.854004144668579\n",
      "    26    -6.225795e+01     2.721163e-03\n",
      " * time: 3.9617650508880615\n",
      "    27    -6.225928e+01     2.218282e-03\n",
      " * time: 4.07883620262146\n",
      "    28    -6.226007e+01     1.828613e-03\n",
      " * time: 4.194258213043213\n",
      "    29    -6.226060e+01     1.509174e-03\n",
      " * time: 4.302854061126709\n",
      "    30    -6.226097e+01     1.198373e-03\n",
      " * time: 4.418909072875977\n",
      "    31    -6.226123e+01     1.011475e-03\n",
      " * time: 4.528205156326294\n",
      "    32    -6.226141e+01     7.574290e-04\n",
      " * time: 4.644863128662109\n",
      "    33    -6.226153e+01     5.838081e-04\n",
      " * time: 4.762354135513306\n",
      "    34    -6.226160e+01     3.933384e-04\n",
      " * time: 4.872120141983032\n",
      "    35    -6.226163e+01     2.800331e-04\n",
      " * time: 4.98872709274292\n",
      "    36    -6.226165e+01     2.204970e-04\n",
      " * time: 5.098430156707764\n",
      "    37    -6.226166e+01     1.412861e-04\n",
      " * time: 5.215214014053345\n",
      "    38    -6.226166e+01     1.045629e-04\n",
      " * time: 5.3330299854278564\n",
      "    39    -6.226166e+01     9.311650e-05\n",
      " * time: 5.442139148712158\n",
      "    40    -6.226166e+01     8.460612e-05\n",
      " * time: 5.558646202087402\n",
      "    41    -6.226167e+01     6.444015e-05\n",
      " * time: 5.667424201965332\n",
      "    42    -6.226167e+01     5.105601e-05\n",
      " * time: 5.784792184829712\n",
      "    43    -6.226167e+01     3.802229e-05\n",
      " * time: 5.90103006362915\n",
      "    44    -6.226167e+01     2.814724e-05\n",
      " * time: 6.011197090148926\n",
      "    45    -6.226167e+01     2.180040e-05\n",
      " * time: 6.127820014953613\n",
      "    46    -6.226167e+01     1.553745e-05\n",
      " * time: 6.238068103790283\n",
      "    47    -6.226167e+01     1.067570e-05\n",
      " * time: 6.355456113815308\n",
      "    48    -6.226167e+01     7.992446e-06\n",
      " * time: 6.472679138183594\n",
      "    49    -6.226167e+01     6.511587e-06\n",
      " * time: 6.583837985992432\n",
      "    50    -6.226167e+01     5.603873e-06\n",
      " * time: 6.7002480030059814\n"
     ]
    }
   ],
   "cell_type": "code",
   "source": [
    "scfres = direct_minimization(basis, tol=1e-5);"
   ],
   "metadata": {},
   "execution_count": 4
  },
  {
   "outputs": [
    {
     "output_type": "execute_result",
     "data": {
      "text/plain": "Energy breakdown:\n    Kinetic             25.7671060\n    AtomicLocal         -18.8557640\n    AtomicNonlocal      14.8522623\n    Ewald               -67.1831486\n    PspCorrection       -2.3569765\n    Hartree             4.8485358 \n    Xc                  -19.3336815\n\n    total               -62.261666452935\n"
     },
     "metadata": {},
     "execution_count": 5
    }
   ],
   "cell_type": "code",
   "source": [
    "scfres.energies"
   ],
   "metadata": {},
   "execution_count": 5
  }
 ],
 "nbformat_minor": 3,
 "metadata": {
  "language_info": {
   "file_extension": ".jl",
   "mimetype": "application/julia",
   "name": "julia",
   "version": "1.3.1"
  },
  "kernelspec": {
   "name": "julia-1.3",
   "display_name": "Julia 1.3.1",
   "language": "julia"
  }
 },
 "nbformat": 4
}
