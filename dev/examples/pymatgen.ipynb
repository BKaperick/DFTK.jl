{
 "cells": [
  {
   "cell_type": "markdown",
   "source": [
    "# Creating supercells with pymatgen\n",
    "\n",
    "The [Pymatgen](https://pymatgen.org/) python library allows to setup\n",
    "solid-state calculations using a flexible set of classes as well as an API\n",
    "to an online data base of structures. Its `Structure` and `Lattice`\n",
    "objects are directly supported by the DFTK `load_atoms` and `load_lattice`\n",
    "functions, such that DFTK may be readily used to run calculation on systems\n",
    "defined in pymatgen. Using the `pymatgen_structure` function a conversion\n",
    "from DFTK to pymatgen structures is also possible. In the following we\n",
    "use this to create a silicon supercell and find its LDA ground state\n",
    "using direct minimisation."
   ],
   "metadata": {}
  },
  {
   "cell_type": "markdown",
   "source": [
    "First we setup the silicon lattice in DFTK."
   ],
   "metadata": {}
  },
  {
   "outputs": [],
   "cell_type": "code",
   "source": [
    "using DFTK\n",
    "\n",
    "a = 10.263141334305942  # Lattice constant in Bohr\n",
    "lattice = a / 2 .* [[0 1 1.]; [1 0 1.]; [1 1 0.]]\n",
    "Si = ElementPsp(:Si, psp=load_psp(\"hgh/lda/Si-q4\"))\n",
    "atoms = [Si => [ones(3)/8, -ones(3)/8]];"
   ],
   "metadata": {},
   "execution_count": 1
  },
  {
   "cell_type": "markdown",
   "source": [
    "Next we make a `[2, 2, 2]` supercell using pymatgen"
   ],
   "metadata": {}
  },
  {
   "outputs": [],
   "cell_type": "code",
   "source": [
    "pystruct = pymatgen_structure(lattice, atoms)\n",
    "pystruct.make_supercell([2, 2, 2])\n",
    "lattice = load_lattice(pystruct)\n",
    "atoms = [Si => [s.frac_coords for s in pystruct.sites]];"
   ],
   "metadata": {},
   "execution_count": 2
  },
  {
   "cell_type": "markdown",
   "source": [
    "Setup an LDA model and discretize using\n",
    "a single kpoint and a small `Ecut` of 5 Hartree."
   ],
   "metadata": {}
  },
  {
   "outputs": [
    {
     "output_type": "execute_result",
     "data": {
      "text/plain": "PlaneWaveBasis (Ecut=5.0, 1 kpoints)"
     },
     "metadata": {},
     "execution_count": 3
    }
   ],
   "cell_type": "code",
   "source": [
    "model = model_LDA(lattice, atoms)\n",
    "basis = PlaneWaveBasis(model, 5, kgrid=(1, 1, 1))"
   ],
   "metadata": {},
   "execution_count": 3
  },
  {
   "cell_type": "markdown",
   "source": [
    "Find the ground state using direct minimisation (always using SCF is boring ...)"
   ],
   "metadata": {}
  },
  {
   "outputs": [
    {
     "name": "stdout",
     "output_type": "stream",
     "text": [
      "Iter     Function value   Gradient norm \n",
      "     0     1.116195e+02     1.571076e+00\n",
      " * time: 0.12368917465209961\n",
      "     1     1.001226e+01     9.591430e-01\n",
      " * time: 1.3406221866607666\n",
      "     2    -1.252381e+01     1.044366e+00\n",
      " * time: 1.48313307762146\n",
      "     3    -3.480647e+01     7.511850e-01\n",
      " * time: 1.6419041156768799\n",
      "     4    -4.834769e+01     5.134034e-01\n",
      " * time: 1.779414176940918\n",
      "     5    -5.729449e+01     2.086142e-01\n",
      " * time: 1.9295930862426758\n",
      "     6    -6.001588e+01     7.823043e-02\n",
      " * time: 2.0459370613098145\n",
      "     7    -6.095000e+01     5.507601e-02\n",
      " * time: 2.1542630195617676\n",
      "     8    -6.131609e+01     6.578038e-02\n",
      " * time: 2.270153045654297\n",
      "     9    -6.162230e+01     3.796409e-02\n",
      " * time: 2.3875250816345215\n",
      "    10    -6.181544e+01     2.639569e-02\n",
      " * time: 2.499983072280884\n",
      "    11    -6.195438e+01     2.078613e-02\n",
      " * time: 2.617824077606201\n",
      "    12    -6.202365e+01     1.679799e-02\n",
      " * time: 2.72527813911438\n",
      "    13    -6.209244e+01     1.406445e-02\n",
      " * time: 2.84051513671875\n",
      "    14    -6.213317e+01     1.361314e-02\n",
      " * time: 2.9484760761260986\n",
      "    15    -6.216651e+01     1.299126e-02\n",
      " * time: 3.0634732246398926\n",
      "    16    -6.218471e+01     9.165834e-03\n",
      " * time: 3.1797380447387695\n",
      "    17    -6.219617e+01     7.329945e-03\n",
      " * time: 3.2897231578826904\n",
      "    18    -6.220445e+01     6.571358e-03\n",
      " * time: 3.40575909614563\n",
      "    19    -6.221037e+01     5.765863e-03\n",
      " * time: 3.5152652263641357\n",
      "    20    -6.221552e+01     5.537624e-03\n",
      " * time: 3.6304290294647217\n",
      "    21    -6.222041e+01     5.838943e-03\n",
      " * time: 3.738685131072998\n",
      "    22    -6.222551e+01     6.661544e-03\n",
      " * time: 3.8540561199188232\n",
      "    23    -6.223100e+01     6.711191e-03\n",
      " * time: 3.970921039581299\n",
      "    24    -6.223696e+01     6.318331e-03\n",
      " * time: 4.079686164855957\n",
      "    25    -6.224276e+01     6.153081e-03\n",
      " * time: 4.1965861320495605\n",
      "    26    -6.224848e+01     5.334032e-03\n",
      " * time: 4.307080030441284\n",
      "    27    -6.225313e+01     4.271455e-03\n",
      " * time: 4.424948215484619\n",
      "    28    -6.225622e+01     2.744135e-03\n",
      " * time: 4.536185026168823\n",
      "    29    -6.225806e+01     2.415814e-03\n",
      " * time: 4.653233051300049\n",
      "    30    -6.225928e+01     2.318525e-03\n",
      " * time: 4.7701990604400635\n",
      "    31    -6.226015e+01     2.188708e-03\n",
      " * time: 4.880066156387329\n",
      "    32    -6.226076e+01     1.859941e-03\n",
      " * time: 4.998489141464233\n",
      "    33    -6.226117e+01     1.257511e-03\n",
      " * time: 5.108975172042847\n",
      "    34    -6.226141e+01     8.125999e-04\n",
      " * time: 5.227021217346191\n",
      "    35    -6.226155e+01     5.274968e-04\n",
      " * time: 5.336039066314697\n",
      "    36    -6.226160e+01     4.820106e-04\n",
      " * time: 5.454184055328369\n",
      "    37    -6.226163e+01     3.346463e-04\n",
      " * time: 5.572561025619507\n",
      "    38    -6.226165e+01     2.311272e-04\n",
      " * time: 5.682680130004883\n",
      "    39    -6.226165e+01     1.707030e-04\n",
      " * time: 5.801567077636719\n",
      "    40    -6.226166e+01     1.355338e-04\n",
      " * time: 5.914281129837036\n",
      "    41    -6.226166e+01     1.426748e-04\n",
      " * time: 6.032191038131714\n",
      "    42    -6.226166e+01     1.129554e-04\n",
      " * time: 6.139409065246582\n",
      "    43    -6.226166e+01     9.662665e-05\n",
      " * time: 6.255481004714966\n",
      "    44    -6.226167e+01     5.927634e-05\n",
      " * time: 6.371200084686279\n",
      "    45    -6.226167e+01     4.314643e-05\n",
      " * time: 6.480244159698486\n",
      "    46    -6.226167e+01     2.909323e-05\n",
      " * time: 6.596174001693726\n",
      "    47    -6.226167e+01     2.215009e-05\n",
      " * time: 6.7049150466918945\n",
      "    48    -6.226167e+01     1.585957e-05\n",
      " * time: 6.821598052978516\n",
      "    49    -6.226167e+01     1.141340e-05\n",
      " * time: 6.929879188537598\n",
      "    50    -6.226167e+01     9.562539e-06\n",
      " * time: 7.054754018783569\n",
      "    51    -6.226167e+01     7.374429e-06\n",
      " * time: 7.169386148452759\n",
      "    52    -6.226167e+01     6.415548e-06\n",
      " * time: 7.276909112930298\n",
      "    53    -6.226167e+01     5.246839e-06\n",
      " * time: 7.393731117248535\n",
      "    54    -6.226167e+01     4.043095e-06\n",
      " * time: 7.502836227416992\n",
      "    55    -6.226167e+01     2.958166e-06\n",
      " * time: 7.6177990436553955\n",
      "    56    -6.226167e+01     2.231464e-06\n",
      " * time: 7.726571083068848\n",
      "    57    -6.226167e+01     2.218189e-06\n",
      " * time: 7.842593193054199\n"
     ]
    }
   ],
   "cell_type": "code",
   "source": [
    "scfres = direct_minimization(basis, tol=1e-5);"
   ],
   "metadata": {},
   "execution_count": 4
  },
  {
   "outputs": [
    {
     "output_type": "execute_result",
     "data": {
      "text/plain": "Energy breakdown:\n    Kinetic             25.7671070\n    AtomicLocal         -18.8557689\n    AtomicNonlocal      14.8522652\n    Ewald               -67.1831486\n    PspCorrection       -2.3569765\n    Hartree             4.8485376 \n    Xc                  -19.3336822\n\n    total               -62.261666462335\n"
     },
     "metadata": {},
     "execution_count": 5
    }
   ],
   "cell_type": "code",
   "source": [
    "scfres.energies"
   ],
   "metadata": {},
   "execution_count": 5
  }
 ],
 "nbformat_minor": 3,
 "metadata": {
  "language_info": {
   "file_extension": ".jl",
   "mimetype": "application/julia",
   "name": "julia",
   "version": "1.4.2"
  },
  "kernelspec": {
   "name": "julia-1.4",
   "display_name": "Julia 1.4.2",
   "language": "julia"
  }
 },
 "nbformat": 4
}
