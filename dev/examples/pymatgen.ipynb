{
 "cells": [
  {
   "cell_type": "markdown",
   "source": [
    "# Creating supercells with pymatgen\n",
    "\n",
    "The [Pymatgen](https://pymatgen.org/) python library allows to setup\n",
    "solid-state calculations using a flexible set of classes as well as an API\n",
    "to an online data base of structures. Its `Structure` and `Lattice`\n",
    "objects are directly supported by the DFTK `load_atoms` and `load_lattice`\n",
    "functions, such that DFTK may be readily used to run calculation on systems\n",
    "defined in pymatgen. Using the `pymatgen_structure` function a conversion\n",
    "from DFTK to pymatgen structures is also possible. In the following we\n",
    "use this to create a silicon supercell and find its LDA ground state\n",
    "using direct minimisation."
   ],
   "metadata": {}
  },
  {
   "cell_type": "markdown",
   "source": [
    "First we setup the silicon lattice in DFTK."
   ],
   "metadata": {}
  },
  {
   "outputs": [],
   "cell_type": "code",
   "source": [
    "using DFTK\n",
    "\n",
    "a = 10.263141334305942  # Lattice constant in Bohr\n",
    "lattice = a / 2 .* [[0 1 1.]; [1 0 1.]; [1 1 0.]]\n",
    "Si = ElementPsp(:Si, psp=load_psp(\"hgh/lda/Si-q4\"))\n",
    "atoms = [Si => [ones(3)/8, -ones(3)/8]];"
   ],
   "metadata": {},
   "execution_count": 1
  },
  {
   "cell_type": "markdown",
   "source": [
    "Next we make a `[2, 2, 2]` supercell using pymatgen"
   ],
   "metadata": {}
  },
  {
   "outputs": [],
   "cell_type": "code",
   "source": [
    "pystruct = pymatgen_structure(lattice, atoms)\n",
    "pystruct.make_supercell([2, 2, 2])\n",
    "lattice = load_lattice(pystruct)\n",
    "atoms = [Si => [s.frac_coords for s in pystruct.sites]];"
   ],
   "metadata": {},
   "execution_count": 2
  },
  {
   "cell_type": "markdown",
   "source": [
    "Setup an LDA model and discretize using\n",
    "a single kpoint and a small `Ecut` of 5 Hartree."
   ],
   "metadata": {}
  },
  {
   "outputs": [
    {
     "output_type": "execute_result",
     "data": {
      "text/plain": "PlaneWaveBasis (Ecut=5.0, 1 kpoints)"
     },
     "metadata": {},
     "execution_count": 3
    }
   ],
   "cell_type": "code",
   "source": [
    "model = model_LDA(lattice, atoms)\n",
    "basis = PlaneWaveBasis(model, 5, kgrid=(1, 1, 1))"
   ],
   "metadata": {},
   "execution_count": 3
  },
  {
   "cell_type": "markdown",
   "source": [
    "Find the ground state using direct minimisation (always using SCF is boring ...)"
   ],
   "metadata": {}
  },
  {
   "outputs": [
    {
     "name": "stdout",
     "output_type": "stream",
     "text": [
      "Iter     Function value   Gradient norm \n",
      "     0     1.124460e+02     1.762744e+00\n",
      " * time: 0.06020808219909668\n",
      "     1     1.102562e+01     9.531346e-01\n",
      " * time: 1.2860229015350342\n",
      "     2    -1.221848e+01     1.059624e+00\n",
      " * time: 1.3732779026031494\n",
      "     3    -3.407235e+01     8.098673e-01\n",
      " * time: 1.4513189792633057\n",
      "     4    -4.773417e+01     5.929650e-01\n",
      " * time: 1.5375230312347412\n",
      "     5    -5.698632e+01     2.147011e-01\n",
      " * time: 1.6234588623046875\n",
      "     6    -5.981623e+01     1.406836e-01\n",
      " * time: 1.6784799098968506\n",
      "     7    -6.085580e+01     5.319556e-02\n",
      " * time: 1.7346270084381104\n",
      "     8    -6.126281e+01     9.148275e-02\n",
      " * time: 1.8011069297790527\n",
      "     9    -6.160678e+01     3.205312e-02\n",
      " * time: 1.8567900657653809\n",
      "    10    -6.182963e+01     2.923432e-02\n",
      " * time: 1.9152560234069824\n",
      "    11    -6.199046e+01     2.420956e-02\n",
      " * time: 1.9724700450897217\n",
      "    12    -6.205445e+01     1.869328e-02\n",
      " * time: 2.03898286819458\n",
      "    13    -6.212002e+01     1.354937e-02\n",
      " * time: 2.0969769954681396\n",
      "    14    -6.214894e+01     1.339456e-02\n",
      " * time: 2.155242919921875\n",
      "    15    -6.217327e+01     9.281935e-03\n",
      " * time: 2.2138309478759766\n",
      "    16    -6.218564e+01     7.998687e-03\n",
      " * time: 2.275892972946167\n",
      "    17    -6.219372e+01     5.834653e-03\n",
      " * time: 2.3340559005737305\n",
      "    18    -6.219930e+01     4.350288e-03\n",
      " * time: 2.392224073410034\n",
      "    19    -6.220313e+01     4.162414e-03\n",
      " * time: 2.456249952316284\n",
      "    20    -6.220613e+01     4.751919e-03\n",
      " * time: 2.514647960662842\n",
      "    21    -6.220869e+01     4.759168e-03\n",
      " * time: 2.570528030395508\n",
      "    22    -6.221106e+01     4.932605e-03\n",
      " * time: 2.628786087036133\n",
      "    23    -6.221349e+01     5.130154e-03\n",
      " * time: 2.6917128562927246\n",
      "    24    -6.221645e+01     6.107190e-03\n",
      " * time: 2.747931957244873\n",
      "    25    -6.222033e+01     8.209075e-03\n",
      " * time: 2.805427074432373\n",
      "    26    -6.222534e+01     9.027346e-03\n",
      " * time: 2.861708879470825\n",
      "    27    -6.223146e+01     7.043404e-03\n",
      " * time: 2.9258499145507812\n",
      "    28    -6.223933e+01     5.527521e-03\n",
      " * time: 2.9826700687408447\n",
      "    29    -6.224656e+01     5.560366e-03\n",
      " * time: 3.041287899017334\n",
      "    30    -6.225170e+01     4.275259e-03\n",
      " * time: 3.105604887008667\n",
      "    31    -6.225562e+01     3.002148e-03\n",
      " * time: 3.1632449626922607\n",
      "    32    -6.225804e+01     2.505941e-03\n",
      " * time: 3.221312999725342\n",
      "    33    -6.225955e+01     2.212539e-03\n",
      " * time: 3.2776758670806885\n",
      "    34    -6.226049e+01     1.520353e-03\n",
      " * time: 3.33981990814209\n",
      "    35    -6.226102e+01     1.251507e-03\n",
      " * time: 3.397981882095337\n",
      "    36    -6.226129e+01     1.150962e-03\n",
      " * time: 3.456333875656128\n",
      "    37    -6.226143e+01     7.355087e-04\n",
      " * time: 3.5149409770965576\n",
      "    38    -6.226151e+01     6.730749e-04\n",
      " * time: 3.577686071395874\n",
      "    39    -6.226156e+01     5.520229e-04\n",
      " * time: 3.6371679306030273\n",
      "    40    -6.226160e+01     4.175152e-04\n",
      " * time: 3.6966278553009033\n",
      "    41    -6.226162e+01     2.915068e-04\n",
      " * time: 3.7557690143585205\n",
      "    42    -6.226164e+01     2.666740e-04\n",
      " * time: 3.819817066192627\n",
      "    43    -6.226165e+01     2.078696e-04\n",
      " * time: 3.87780499458313\n",
      "    44    -6.226166e+01     1.386715e-04\n",
      " * time: 3.9367868900299072\n",
      "    45    -6.226166e+01     8.833265e-05\n",
      " * time: 4.000647068023682\n",
      "    46    -6.226166e+01     6.440911e-05\n",
      " * time: 4.0562920570373535\n",
      "    47    -6.226167e+01     5.869574e-05\n",
      " * time: 4.114274024963379\n",
      "    48    -6.226167e+01     4.888487e-05\n",
      " * time: 4.172513008117676\n",
      "    49    -6.226167e+01     3.159080e-05\n",
      " * time: 4.236975908279419\n",
      "    50    -6.226167e+01     2.436542e-05\n",
      " * time: 4.294712066650391\n",
      "    51    -6.226167e+01     2.265245e-05\n",
      " * time: 4.351000070571899\n",
      "    52    -6.226167e+01     2.266305e-05\n",
      " * time: 4.40802001953125\n",
      "    53    -6.226167e+01     1.844964e-05\n",
      " * time: 4.470547914505005\n",
      "    54    -6.226167e+01     1.413628e-05\n",
      " * time: 4.529064893722534\n",
      "    55    -6.226167e+01     9.473669e-06\n",
      " * time: 4.585820913314819\n",
      "    56    -6.226167e+01     7.749997e-06\n",
      " * time: 4.642662048339844\n",
      "    57    -6.226167e+01     5.430420e-06\n",
      " * time: 4.705967903137207\n",
      "    58    -6.226167e+01     4.256758e-06\n",
      " * time: 4.763952970504761\n",
      "    59    -6.226167e+01     2.429044e-06\n",
      " * time: 4.822015047073364\n"
     ]
    }
   ],
   "cell_type": "code",
   "source": [
    "scfres = direct_minimization(basis, tol=1e-5);"
   ],
   "metadata": {},
   "execution_count": 4
  },
  {
   "outputs": [
    {
     "output_type": "execute_result",
     "data": {
      "text/plain": "Energy breakdown:\n    Kinetic             25.7671062\n    AtomicLocal         -18.8557682\n    AtomicNonlocal      14.8522654\n    Ewald               -67.1831486\n    PspCorrection       -2.3569765\n    Hartree             4.8485373 \n    Xc                  -19.3336821\n\n    total               -62.261666460738\n"
     },
     "metadata": {},
     "execution_count": 5
    }
   ],
   "cell_type": "code",
   "source": [
    "scfres.energies"
   ],
   "metadata": {},
   "execution_count": 5
  }
 ],
 "nbformat_minor": 3,
 "metadata": {
  "language_info": {
   "file_extension": ".jl",
   "mimetype": "application/julia",
   "name": "julia",
   "version": "1.5.3"
  },
  "kernelspec": {
   "name": "julia-1.5",
   "display_name": "Julia 1.5.3",
   "language": "julia"
  }
 },
 "nbformat": 4
}
