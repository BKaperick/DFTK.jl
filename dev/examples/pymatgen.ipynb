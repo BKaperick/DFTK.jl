{
 "cells": [
  {
   "cell_type": "markdown",
   "source": [
    "# Creating supercells with pymatgen\n",
    "\n",
    "The [Pymatgen](https://pymatgen.org/) python library allows to setup\n",
    "solid-state calculations using a flexible set of classes as well as an API\n",
    "to an online data base of structures. Its `Structure` and `Lattice`\n",
    "objects are directly supported by the DFTK `load_atoms` and `load_lattice`\n",
    "functions, such that DFTK may be readily used to run calculation on systems\n",
    "defined in pymatgen. Using the `pymatgen_structure` function a conversion\n",
    "from DFTK to pymatgen structures is also possible. In the following we\n",
    "use this to create a silicon supercell and find its LDA ground state\n",
    "using direct minimisation."
   ],
   "metadata": {}
  },
  {
   "cell_type": "markdown",
   "source": [
    "First we setup the silicon lattice in DFTK."
   ],
   "metadata": {}
  },
  {
   "outputs": [],
   "cell_type": "code",
   "source": [
    "using DFTK\n",
    "\n",
    "a = 10.263141334305942  # Lattice constant in Bohr\n",
    "lattice = a / 2 .* [[0 1 1.]; [1 0 1.]; [1 1 0.]]\n",
    "Si = ElementPsp(:Si, psp=load_psp(\"hgh/lda/Si-q4\"))\n",
    "atoms = [Si => [ones(3)/8, -ones(3)/8]];"
   ],
   "metadata": {},
   "execution_count": 1
  },
  {
   "cell_type": "markdown",
   "source": [
    "Next we make a `[2, 2, 2]` supercell using pymatgen"
   ],
   "metadata": {}
  },
  {
   "outputs": [],
   "cell_type": "code",
   "source": [
    "pystruct = pymatgen_structure(lattice, atoms)\n",
    "pystruct.make_supercell([2, 2, 2])\n",
    "lattice = load_lattice(pystruct)\n",
    "atoms = [Si => [s.frac_coords for s in pystruct.sites]];"
   ],
   "metadata": {},
   "execution_count": 2
  },
  {
   "cell_type": "markdown",
   "source": [
    "Setup an LDA model and discretize using\n",
    "a single kpoint and a small `Ecut` of 5 Hartree."
   ],
   "metadata": {}
  },
  {
   "outputs": [
    {
     "output_type": "execute_result",
     "data": {
      "text/plain": "PlaneWaveBasis (Ecut=5.0, 1 kpoints)"
     },
     "metadata": {},
     "execution_count": 3
    }
   ],
   "cell_type": "code",
   "source": [
    "model = model_LDA(lattice, atoms)\n",
    "basis = PlaneWaveBasis(model, 5, kgrid=(1, 1, 1))"
   ],
   "metadata": {},
   "execution_count": 3
  },
  {
   "cell_type": "markdown",
   "source": [
    "Find the ground state using direct minimisation (always using SCF is boring ...)"
   ],
   "metadata": {}
  },
  {
   "outputs": [
    {
     "name": "stdout",
     "output_type": "stream",
     "text": [
      "Iter     Function value   Gradient norm \n",
      "     0     1.128252e+02     1.542582e+00\n",
      " * time: 0.6574521064758301\n",
      "     1     1.130992e+01     9.212911e-01\n",
      " * time: 1.917598009109497\n",
      "     2    -1.182032e+01     1.159881e+00\n",
      " * time: 2.542917013168335\n",
      "     3    -3.402971e+01     8.636257e-01\n",
      " * time: 3.4161479473114014\n",
      "     4    -4.749725e+01     6.946539e-01\n",
      " * time: 4.434570074081421\n",
      "     5    -5.668621e+01     2.912351e-01\n",
      " * time: 5.439497947692871\n",
      "     6    -5.944965e+01     2.923670e-01\n",
      " * time: 6.024939060211182\n",
      "     7    -6.065879e+01     1.114434e-01\n",
      " * time: 6.615612030029297\n",
      "     8    -6.126003e+01     4.957241e-02\n",
      " * time: 7.210827112197876\n",
      "     9    -6.156892e+01     3.605370e-02\n",
      " * time: 7.806560039520264\n",
      "    10    -6.182560e+01     2.862404e-02\n",
      " * time: 8.418776035308838\n",
      "    11    -6.198914e+01     2.503343e-02\n",
      " * time: 9.027704954147339\n",
      "    12    -6.209479e+01     1.621772e-02\n",
      " * time: 9.655018091201782\n",
      "    13    -6.214216e+01     1.337455e-02\n",
      " * time: 10.259231090545654\n",
      "    14    -6.218399e+01     1.115140e-02\n",
      " * time: 10.845132112503052\n",
      "    15    -6.220467e+01     9.120260e-03\n",
      " * time: 11.44583010673523\n",
      "    16    -6.222010e+01     7.246767e-03\n",
      " * time: 12.038499116897583\n",
      "    17    -6.223032e+01     5.901596e-03\n",
      " * time: 12.62868595123291\n",
      "    18    -6.223805e+01     4.870967e-03\n",
      " * time: 13.238789081573486\n",
      "    19    -6.224413e+01     4.522146e-03\n",
      " * time: 13.855184078216553\n",
      "    20    -6.224885e+01     5.246294e-03\n",
      " * time: 14.494600057601929\n",
      "    21    -6.225287e+01     4.039421e-03\n",
      " * time: 15.120716094970703\n",
      "    22    -6.225625e+01     3.380004e-03\n",
      " * time: 15.719237089157104\n",
      "    23    -6.225878e+01     2.061176e-03\n",
      " * time: 16.41604995727539\n",
      "    24    -6.226024e+01     1.539252e-03\n",
      " * time: 17.15577006340027\n",
      "    25    -6.226093e+01     1.172255e-03\n",
      " * time: 17.837355136871338\n",
      "    26    -6.226126e+01     8.411160e-04\n",
      " * time: 18.464869022369385\n",
      "    27    -6.226141e+01     6.501915e-04\n",
      " * time: 19.106290102005005\n",
      "    28    -6.226149e+01     5.623037e-04\n",
      " * time: 19.74600911140442\n",
      "    29    -6.226155e+01     4.655050e-04\n",
      " * time: 20.378031969070435\n",
      "    30    -6.226159e+01     4.542570e-04\n",
      " * time: 21.030729055404663\n",
      "    31    -6.226162e+01     3.232643e-04\n",
      " * time: 21.653438091278076\n",
      "    32    -6.226164e+01     2.257464e-04\n",
      " * time: 22.301453113555908\n",
      "    33    -6.226165e+01     1.702956e-04\n",
      " * time: 22.928575038909912\n",
      "    34    -6.226166e+01     1.498983e-04\n",
      " * time: 23.58280110359192\n",
      "    35    -6.226166e+01     1.111977e-04\n",
      " * time: 24.199011087417603\n",
      "    36    -6.226166e+01     8.166917e-05\n",
      " * time: 24.859652042388916\n",
      "    37    -6.226167e+01     6.261355e-05\n",
      " * time: 25.50140905380249\n",
      "    38    -6.226167e+01     3.699778e-05\n",
      " * time: 26.12160897254944\n",
      "    39    -6.226167e+01     2.997650e-05\n",
      " * time: 26.76561403274536\n",
      "    40    -6.226167e+01     1.888706e-05\n",
      " * time: 27.43612504005432\n",
      "    41    -6.226167e+01     1.901447e-05\n",
      " * time: 28.054357051849365\n",
      "    42    -6.226167e+01     1.611780e-05\n",
      " * time: 28.684191942214966\n",
      "    43    -6.226167e+01     1.396132e-05\n",
      " * time: 29.292493104934692\n",
      "    44    -6.226167e+01     1.061276e-05\n",
      " * time: 29.952190160751343\n",
      "    45    -6.226167e+01     7.166905e-06\n",
      " * time: 30.601447105407715\n",
      "    46    -6.226167e+01     4.877157e-06\n",
      " * time: 31.227458000183105\n",
      "    47    -6.226167e+01     4.198497e-06\n",
      " * time: 31.84078311920166\n",
      "    48    -6.226167e+01     3.146296e-06\n",
      " * time: 32.46233606338501\n"
     ]
    }
   ],
   "cell_type": "code",
   "source": [
    "scfres = direct_minimization(basis, tol=1e-5);"
   ],
   "metadata": {},
   "execution_count": 4
  },
  {
   "outputs": [
    {
     "output_type": "execute_result",
     "data": {
      "text/plain": "Energy breakdown:\n    Kinetic             25.7671068\n    AtomicLocal         -18.8557620\n    AtomicNonlocal      14.8522596\n    Ewald               -67.1831486\n    PspCorrection       -2.3569765\n    Hartree             4.8485360 \n    Xc                  -19.3336816\n\n    total               -62.261666459705\n"
     },
     "metadata": {},
     "execution_count": 5
    }
   ],
   "cell_type": "code",
   "source": [
    "scfres.energies"
   ],
   "metadata": {},
   "execution_count": 5
  }
 ],
 "nbformat_minor": 3,
 "metadata": {
  "language_info": {
   "file_extension": ".jl",
   "mimetype": "application/julia",
   "name": "julia",
   "version": "1.6.2"
  },
  "kernelspec": {
   "name": "julia-1.6",
   "display_name": "Julia 1.6.2",
   "language": "julia"
  }
 },
 "nbformat": 4
}
