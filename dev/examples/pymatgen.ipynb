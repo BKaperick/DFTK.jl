{
 "cells": [
  {
   "cell_type": "markdown",
   "source": [
    "# Creating supercells with pymatgen\n",
    "\n",
    "The [Pymatgen](https://pymatgen.org/) python library allows to setup\n",
    "solid-state calculations using a flexible set of classes as well as an API\n",
    "to an online data base of structures. Its `Structure` and `Lattice`\n",
    "objects are directly supported by the DFTK `load_atoms` and `load_lattice`\n",
    "functions, such that DFTK may be readily used to run calculation on systems\n",
    "defined in pymatgen. Using the `pymatgen_structure` function a conversion\n",
    "from DFTK to pymatgen structures is also possible. In the following we\n",
    "use this to create a silicon supercell and find its LDA ground state\n",
    "using direct minimisation."
   ],
   "metadata": {}
  },
  {
   "cell_type": "markdown",
   "source": [
    "First we setup the silicon lattice in DFTK."
   ],
   "metadata": {}
  },
  {
   "outputs": [],
   "cell_type": "code",
   "source": [
    "using DFTK\n",
    "\n",
    "a = 10.263141334305942  # Lattice constant in Bohr\n",
    "lattice = a / 2 .* [[0 1 1.]; [1 0 1.]; [1 1 0.]]\n",
    "Si = ElementPsp(:Si, psp=load_psp(\"hgh/lda/Si-q4\"))\n",
    "atoms = [Si => [ones(3)/8, -ones(3)/8]];"
   ],
   "metadata": {},
   "execution_count": 1
  },
  {
   "cell_type": "markdown",
   "source": [
    "Next we make a `[2, 2, 2]` supercell using pymatgen"
   ],
   "metadata": {}
  },
  {
   "outputs": [],
   "cell_type": "code",
   "source": [
    "pystruct = pymatgen_structure(lattice, atoms)\n",
    "pystruct.make_supercell([2, 2, 2])\n",
    "lattice = load_lattice(pystruct)\n",
    "atoms = [Si => [s.frac_coords for s in pystruct.sites]];"
   ],
   "metadata": {},
   "execution_count": 2
  },
  {
   "cell_type": "markdown",
   "source": [
    "Setup an LDA model and discretize using\n",
    "a single kpoint and a small `Ecut` of 5 Hartree."
   ],
   "metadata": {}
  },
  {
   "outputs": [
    {
     "output_type": "execute_result",
     "data": {
      "text/plain": "PlaneWaveBasis (Ecut=5.0, 1 kpoints)"
     },
     "metadata": {},
     "execution_count": 3
    }
   ],
   "cell_type": "code",
   "source": [
    "model = model_LDA(lattice, atoms)\n",
    "basis = PlaneWaveBasis(model, 5, kgrid=(1, 1, 1))"
   ],
   "metadata": {},
   "execution_count": 3
  },
  {
   "cell_type": "markdown",
   "source": [
    "Find the ground state using direct minimisation (always using SCF is boring ...)"
   ],
   "metadata": {}
  },
  {
   "outputs": [
    {
     "name": "stdout",
     "output_type": "stream",
     "text": [
      "Iter     Function value   Gradient norm \n",
      "     0     1.121625e+02     1.473761e+00\n",
      " * time: 0.7589900493621826\n",
      "     1     1.063489e+01     8.061285e-01\n",
      " * time: 1.9988961219787598\n",
      "     2    -1.203655e+01     9.088353e-01\n",
      " * time: 2.7050840854644775\n",
      "     3    -3.426815e+01     6.992507e-01\n",
      " * time: 3.671795129776001\n",
      "     4    -4.789140e+01     5.503636e-01\n",
      " * time: 4.6528401374816895\n",
      "     5    -5.705792e+01     1.770271e-01\n",
      " * time: 5.615707159042358\n",
      "     6    -5.989271e+01     1.159568e-01\n",
      " * time: 6.250575065612793\n",
      "     7    -6.095307e+01     5.245060e-02\n",
      " * time: 6.880446195602417\n",
      "     8    -6.135074e+01     6.725398e-02\n",
      " * time: 7.519620180130005\n",
      "     9    -6.164022e+01     3.391986e-02\n",
      " * time: 8.168438196182251\n",
      "    10    -6.184724e+01     2.363177e-02\n",
      " * time: 8.826052188873291\n",
      "    11    -6.200394e+01     2.209878e-02\n",
      " * time: 9.447591066360474\n",
      "    12    -6.206315e+01     1.640422e-02\n",
      " * time: 10.083823204040527\n",
      "    13    -6.212272e+01     1.105289e-02\n",
      " * time: 10.7306489944458\n",
      "    14    -6.214709e+01     1.103045e-02\n",
      " * time: 11.36198616027832\n",
      "    15    -6.216889e+01     1.049395e-02\n",
      " * time: 12.010877132415771\n",
      "    16    -6.218101e+01     7.899892e-03\n",
      " * time: 12.652711153030396\n",
      "    17    -6.219182e+01     6.541310e-03\n",
      " * time: 13.300185203552246\n",
      "    18    -6.220112e+01     6.294108e-03\n",
      " * time: 13.939930200576782\n",
      "    19    -6.220923e+01     6.314081e-03\n",
      " * time: 14.572067975997925\n",
      "    20    -6.221655e+01     5.770365e-03\n",
      " * time: 15.191208124160767\n",
      "    21    -6.222367e+01     5.237934e-03\n",
      " * time: 15.851763010025024\n",
      "    22    -6.223083e+01     5.051041e-03\n",
      " * time: 16.534502029418945\n",
      "    23    -6.223793e+01     5.180202e-03\n",
      " * time: 17.222412109375\n",
      "    24    -6.224450e+01     4.758766e-03\n",
      " * time: 17.872392177581787\n",
      "    25    -6.224979e+01     3.735246e-03\n",
      " * time: 18.496782064437866\n",
      "    26    -6.225334e+01     3.130824e-03\n",
      " * time: 19.156439065933228\n",
      "    27    -6.225588e+01     2.617584e-03\n",
      " * time: 19.795746088027954\n",
      "    28    -6.225779e+01     2.129397e-03\n",
      " * time: 20.45522713661194\n",
      "    29    -6.225925e+01     1.880391e-03\n",
      " * time: 21.097628116607666\n",
      "    30    -6.226027e+01     1.580375e-03\n",
      " * time: 21.755422115325928\n",
      "    31    -6.226086e+01     1.544061e-03\n",
      " * time: 22.389024019241333\n",
      "    32    -6.226121e+01     1.181192e-03\n",
      " * time: 23.015286207199097\n",
      "    33    -6.226142e+01     6.402588e-04\n",
      " * time: 23.6512291431427\n",
      "    34    -6.226155e+01     4.961812e-04\n",
      " * time: 24.31789803504944\n",
      "    35    -6.226161e+01     3.362482e-04\n",
      " * time: 24.982941150665283\n",
      "    36    -6.226163e+01     2.461579e-04\n",
      " * time: 25.64939308166504\n",
      "    37    -6.226165e+01     2.326654e-04\n",
      " * time: 26.339359045028687\n",
      "    38    -6.226165e+01     1.836755e-04\n",
      " * time: 27.009033203125\n",
      "    39    -6.226166e+01     1.575190e-04\n",
      " * time: 27.68403911590576\n",
      "    40    -6.226166e+01     1.338049e-04\n",
      " * time: 28.34750008583069\n",
      "    41    -6.226166e+01     1.104489e-04\n",
      " * time: 28.996538162231445\n",
      "    42    -6.226166e+01     7.401342e-05\n",
      " * time: 29.630840063095093\n",
      "    43    -6.226167e+01     5.120782e-05\n",
      " * time: 30.29606819152832\n",
      "    44    -6.226167e+01     4.237568e-05\n",
      " * time: 30.972761154174805\n",
      "    45    -6.226167e+01     3.016200e-05\n",
      " * time: 31.65595006942749\n",
      "    46    -6.226167e+01     2.078284e-05\n",
      " * time: 32.33984303474426\n",
      "    47    -6.226167e+01     1.232050e-05\n",
      " * time: 33.03888702392578\n",
      "    48    -6.226167e+01     9.018267e-06\n",
      " * time: 33.71013116836548\n",
      "    49    -6.226167e+01     7.246665e-06\n",
      " * time: 34.335169076919556\n",
      "    50    -6.226167e+01     5.970568e-06\n",
      " * time: 34.96966218948364\n",
      "    51    -6.226167e+01     6.362558e-06\n",
      " * time: 35.641868114471436\n",
      "    52    -6.226167e+01     4.373615e-06\n",
      " * time: 36.30292105674744\n",
      "    53    -6.226167e+01     4.224026e-06\n",
      " * time: 36.95130920410156\n",
      "    54    -6.226167e+01     3.362848e-06\n",
      " * time: 37.58540320396423\n",
      "    55    -6.226167e+01     2.317455e-06\n",
      " * time: 38.28183913230896\n"
     ]
    }
   ],
   "cell_type": "code",
   "source": [
    "scfres = direct_minimization(basis, tol=1e-5);"
   ],
   "metadata": {},
   "execution_count": 4
  },
  {
   "outputs": [
    {
     "output_type": "execute_result",
     "data": {
      "text/plain": "Energy breakdown:\n    Kinetic             25.7671067\n    AtomicLocal         -18.8557669\n    AtomicNonlocal      14.8522640\n    Ewald               -67.1831486\n    PspCorrection       -2.3569765\n    Hartree             4.8485368 \n    Xc                  -19.3336819\n\n    total               -62.261666460582\n"
     },
     "metadata": {},
     "execution_count": 5
    }
   ],
   "cell_type": "code",
   "source": [
    "scfres.energies"
   ],
   "metadata": {},
   "execution_count": 5
  }
 ],
 "nbformat_minor": 3,
 "metadata": {
  "language_info": {
   "file_extension": ".jl",
   "mimetype": "application/julia",
   "name": "julia",
   "version": "1.6.2"
  },
  "kernelspec": {
   "name": "julia-1.6",
   "display_name": "Julia 1.6.2",
   "language": "julia"
  }
 },
 "nbformat": 4
}
