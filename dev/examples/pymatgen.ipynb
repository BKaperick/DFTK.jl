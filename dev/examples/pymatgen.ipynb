{
 "cells": [
  {
   "cell_type": "markdown",
   "source": [
    "# Creating supercells with pymatgen\n",
    "\n",
    "The [Pymatgen](https://pymatgen.org/) python library allows to setup\n",
    "solid-state calculations using a flexible set of classes as well as an API\n",
    "to an online data base of structures. Its `Structure` and `Lattice`\n",
    "objects are directly supported by the DFTK `load_atoms` and `load_lattice`\n",
    "functions, such that DFTK may be readily used to run calculation on systems\n",
    "defined in pymatgen. Using the `pymatgen_structure` function a conversion\n",
    "from DFTK to pymatgen structures is also possible. In the following we\n",
    "use this to create a silicon supercell and find its LDA ground state\n",
    "using direct minimisation."
   ],
   "metadata": {}
  },
  {
   "cell_type": "markdown",
   "source": [
    "First we setup the silicon lattice in DFTK."
   ],
   "metadata": {}
  },
  {
   "outputs": [],
   "cell_type": "code",
   "source": [
    "using DFTK\n",
    "\n",
    "a = 10.263141334305942  # Lattice constant in Bohr\n",
    "lattice = a / 2 .* [[0 1 1.]; [1 0 1.]; [1 1 0.]]\n",
    "Si = ElementPsp(:Si, psp=load_psp(\"hgh/lda/Si-q4\"))\n",
    "atoms = [Si => [ones(3)/8, -ones(3)/8]];"
   ],
   "metadata": {},
   "execution_count": 1
  },
  {
   "cell_type": "markdown",
   "source": [
    "Next we make a `[2, 2, 2]` supercell using pymatgen"
   ],
   "metadata": {}
  },
  {
   "outputs": [],
   "cell_type": "code",
   "source": [
    "pystruct = pymatgen_structure(lattice, atoms)\n",
    "pystruct.make_supercell([2, 2, 2])\n",
    "lattice = load_lattice(pystruct)\n",
    "atoms = [Si => [s.frac_coords for s in pystruct.sites]];"
   ],
   "metadata": {},
   "execution_count": 2
  },
  {
   "cell_type": "markdown",
   "source": [
    "Setup an LDA model and discretize using\n",
    "a single kpoint and a small `Ecut` of 5 Hartree.\n",
    "Notice that `PlaneWaveBasis` defaults to just using the ``Γ``-point\n",
    "if no ``k``-point options are provided."
   ],
   "metadata": {}
  },
  {
   "outputs": [
    {
     "output_type": "execute_result",
     "data": {
      "text/plain": "PlaneWaveBasis (Ecut=5.0, 1 kpoints)"
     },
     "metadata": {},
     "execution_count": 3
    }
   ],
   "cell_type": "code",
   "source": [
    "model = model_LDA(lattice, atoms)\n",
    "basis = PlaneWaveBasis(model, 5)"
   ],
   "metadata": {},
   "execution_count": 3
  },
  {
   "cell_type": "markdown",
   "source": [
    "Find the ground state using direct minimisation (always using SCF is boring ...)"
   ],
   "metadata": {}
  },
  {
   "outputs": [
    {
     "name": "stdout",
     "output_type": "stream",
     "text": [
      "Iter     Function value   Gradient norm \n",
      "     0     1.119736e+02     1.758680e+00\n",
      " * time: 0.11704587936401367\n",
      "     1     1.078163e+01     9.304517e-01\n",
      " * time: 0.9971539974212646\n",
      "     2    -1.136665e+01     1.044621e+00\n",
      " * time: 1.1298108100891113\n",
      "     3    -3.381084e+01     8.066422e-01\n",
      " * time: 1.2921788692474365\n",
      "     4    -4.742362e+01     5.508206e-01\n",
      " * time: 1.4419920444488525\n",
      "     5    -5.689970e+01     2.017829e-01\n",
      " * time: 1.5918400287628174\n",
      "     6    -5.980052e+01     1.227587e-01\n",
      " * time: 1.707468032836914\n",
      "     7    -6.087691e+01     5.160136e-02\n",
      " * time: 1.8242650032043457\n",
      "     8    -6.127824e+01     5.790651e-02\n",
      " * time: 1.9355900287628174\n",
      "     9    -6.154535e+01     3.630522e-02\n",
      " * time: 2.054316997528076\n",
      "    10    -6.175269e+01     2.845864e-02\n",
      " * time: 2.1717529296875\n",
      "    11    -6.191712e+01     2.027259e-02\n",
      " * time: 2.2836239337921143\n",
      "    12    -6.198916e+01     1.901359e-02\n",
      " * time: 2.4006710052490234\n",
      "    13    -6.206704e+01     1.946930e-02\n",
      " * time: 2.520206928253174\n",
      "    14    -6.210929e+01     2.027844e-02\n",
      " * time: 2.6310298442840576\n",
      "    15    -6.215295e+01     1.738696e-02\n",
      " * time: 2.7463488578796387\n",
      "    16    -6.217891e+01     1.176099e-02\n",
      " * time: 2.8616349697113037\n",
      "    17    -6.220056e+01     8.879450e-03\n",
      " * time: 2.9786109924316406\n",
      "    18    -6.221573e+01     7.051768e-03\n",
      " * time: 3.090780019760132\n",
      "    19    -6.222692e+01     6.558341e-03\n",
      " * time: 3.2100439071655273\n",
      "    20    -6.223507e+01     5.444559e-03\n",
      " * time: 3.3277809619903564\n",
      "    21    -6.224184e+01     5.623773e-03\n",
      " * time: 3.4377849102020264\n",
      "    22    -6.224777e+01     4.968521e-03\n",
      " * time: 3.5542988777160645\n",
      "    23    -6.225284e+01     4.596522e-03\n",
      " * time: 3.672797918319702\n",
      "    24    -6.225673e+01     4.023411e-03\n",
      " * time: 3.783453941345215\n",
      "    25    -6.225920e+01     2.651218e-03\n",
      " * time: 3.8995418548583984\n",
      "    26    -6.226046e+01     1.727286e-03\n",
      " * time: 4.020463943481445\n",
      "    27    -6.226107e+01     1.017505e-03\n",
      " * time: 4.136767864227295\n",
      "    28    -6.226133e+01     7.837622e-04\n",
      " * time: 4.2471840381622314\n",
      "    29    -6.226146e+01     6.495468e-04\n",
      " * time: 4.367058038711548\n",
      "    30    -6.226153e+01     6.655107e-04\n",
      " * time: 4.4895758628845215\n",
      "    31    -6.226157e+01     4.360218e-04\n",
      " * time: 4.600850820541382\n",
      "    32    -6.226160e+01     3.825752e-04\n",
      " * time: 4.7184648513793945\n",
      "    33    -6.226162e+01     2.918049e-04\n",
      " * time: 4.834455966949463\n",
      "    34    -6.226164e+01     2.210989e-04\n",
      " * time: 4.942080974578857\n",
      "    35    -6.226165e+01     1.897708e-04\n",
      " * time: 5.060704946517944\n",
      "    36    -6.226166e+01     1.784513e-04\n",
      " * time: 5.17671799659729\n",
      "    37    -6.226166e+01     1.112230e-04\n",
      " * time: 5.285873889923096\n",
      "    38    -6.226166e+01     7.321845e-05\n",
      " * time: 5.402211904525757\n",
      "    39    -6.226167e+01     4.669794e-05\n",
      " * time: 5.517369985580444\n",
      "    40    -6.226167e+01     4.115661e-05\n",
      " * time: 5.632365942001343\n",
      "    41    -6.226167e+01     2.783160e-05\n",
      " * time: 5.741542816162109\n",
      "    42    -6.226167e+01     2.979302e-05\n",
      " * time: 5.856475830078125\n",
      "    43    -6.226167e+01     2.162679e-05\n",
      " * time: 5.973970890045166\n",
      "    44    -6.226167e+01     1.684407e-05\n",
      " * time: 6.0833659172058105\n",
      "    45    -6.226167e+01     1.272100e-05\n",
      " * time: 6.200997829437256\n",
      "    46    -6.226167e+01     8.900394e-06\n",
      " * time: 6.316928863525391\n",
      "    47    -6.226167e+01     6.905532e-06\n",
      " * time: 6.426479816436768\n",
      "    48    -6.226167e+01     5.851914e-06\n",
      " * time: 6.542405843734741\n",
      "    49    -6.226167e+01     4.770920e-06\n",
      " * time: 6.657097816467285\n",
      "    50    -6.226167e+01     3.810330e-06\n",
      " * time: 6.775728940963745\n",
      "    51    -6.226167e+01     2.437063e-06\n",
      " * time: 6.884974002838135\n"
     ]
    }
   ],
   "cell_type": "code",
   "source": [
    "scfres = direct_minimization(basis, tol=1e-5);"
   ],
   "metadata": {},
   "execution_count": 4
  },
  {
   "outputs": [
    {
     "output_type": "execute_result",
     "data": {
      "text/plain": "Energy breakdown:\n    Kinetic             25.7671076\n    AtomicLocal         -18.8557718\n    AtomicNonlocal      14.8522670\n    Ewald               -67.1831486\n    PspCorrection       -2.3569765\n    Hartree             4.8485384 \n    Xc                  -19.3336825\n\n    total               -62.261666460970\n"
     },
     "metadata": {},
     "execution_count": 5
    }
   ],
   "cell_type": "code",
   "source": [
    "scfres.energies"
   ],
   "metadata": {},
   "execution_count": 5
  }
 ],
 "nbformat_minor": 3,
 "metadata": {
  "language_info": {
   "file_extension": ".jl",
   "mimetype": "application/julia",
   "name": "julia",
   "version": "1.3.1"
  },
  "kernelspec": {
   "name": "julia-1.3",
   "display_name": "Julia 1.3.1",
   "language": "julia"
  }
 },
 "nbformat": 4
}
