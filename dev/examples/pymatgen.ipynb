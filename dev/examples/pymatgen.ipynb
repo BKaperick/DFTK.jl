{
 "cells": [
  {
   "cell_type": "markdown",
   "source": [
    "# Creating supercells with pymatgen\n",
    "\n",
    "The [Pymatgen](https://pymatgen.org/) python library allows to setup\n",
    "solid-state calculations using a flexible set of classes as well as an API\n",
    "to an online data base of structures. Its `Structure` and `Lattice`\n",
    "objects are directly supported by the DFTK `load_atoms` and `load_lattice`\n",
    "functions, such that DFTK may be readily used to run calculation on systems\n",
    "defined in pymatgen. Using the `pymatgen_structure` function a conversion\n",
    "from DFTK to pymatgen structures is also possible. In the following we\n",
    "use this to create a silicon supercell and find its LDA ground state\n",
    "using direct minimisation."
   ],
   "metadata": {}
  },
  {
   "cell_type": "markdown",
   "source": [
    "First we setup the silicon lattice in DFTK."
   ],
   "metadata": {}
  },
  {
   "outputs": [],
   "cell_type": "code",
   "source": [
    "using DFTK\n",
    "\n",
    "a = 10.263141334305942  # Lattice constant in Bohr\n",
    "lattice = a / 2 .* [[0 1 1.]; [1 0 1.]; [1 1 0.]]\n",
    "Si = ElementPsp(:Si, psp=load_psp(\"hgh/lda/Si-q4\"))\n",
    "atoms = [Si => [ones(3)/8, -ones(3)/8]];"
   ],
   "metadata": {},
   "execution_count": 1
  },
  {
   "cell_type": "markdown",
   "source": [
    "Next we make a `[2, 2, 2]` supercell using pymatgen"
   ],
   "metadata": {}
  },
  {
   "outputs": [],
   "cell_type": "code",
   "source": [
    "pystruct = pymatgen_structure(lattice, atoms)\n",
    "pystruct.make_supercell([2, 2, 2])\n",
    "lattice = load_lattice(pystruct)\n",
    "atoms = [Si => [s.frac_coords for s in pystruct.sites]];"
   ],
   "metadata": {},
   "execution_count": 2
  },
  {
   "cell_type": "markdown",
   "source": [
    "Setup an LDA model and discretize using\n",
    "a single kpoint and a small `Ecut` of 5 Hartree."
   ],
   "metadata": {}
  },
  {
   "outputs": [
    {
     "output_type": "execute_result",
     "data": {
      "text/plain": "PlaneWaveBasis (Ecut=5.0, 1 kpoints)"
     },
     "metadata": {},
     "execution_count": 3
    }
   ],
   "cell_type": "code",
   "source": [
    "model = model_LDA(lattice, atoms)\n",
    "basis = PlaneWaveBasis(model, 5, kgrid=(1, 1, 1))"
   ],
   "metadata": {},
   "execution_count": 3
  },
  {
   "cell_type": "markdown",
   "source": [
    "Find the ground state using direct minimisation (always using SCF is boring ...)"
   ],
   "metadata": {}
  },
  {
   "outputs": [
    {
     "name": "stdout",
     "output_type": "stream",
     "text": [
      "Iter     Function value   Gradient norm \n",
      "     0     1.108954e+02     1.609858e+00\n",
      " * time: 0.07342696189880371\n",
      "     1     1.075520e+01     9.229743e-01\n",
      " * time: 1.3655188083648682\n",
      "     2    -1.190452e+01     1.027031e+00\n",
      " * time: 1.4644010066986084\n",
      "     3    -3.420671e+01     7.409714e-01\n",
      " * time: 1.6332218647003174\n",
      "     4    -4.772707e+01     5.543102e-01\n",
      " * time: 1.751297950744629\n",
      "     5    -5.711536e+01     2.471401e-01\n",
      " * time: 1.8831830024719238\n",
      "     6    -5.995878e+01     1.728113e-01\n",
      " * time: 1.9832370281219482\n",
      "     7    -6.097852e+01     5.205887e-02\n",
      " * time: 2.092484951019287\n",
      "     8    -6.134704e+01     9.773166e-02\n",
      " * time: 2.1825509071350098\n",
      "     9    -6.160993e+01     5.521997e-02\n",
      " * time: 2.2744410037994385\n",
      "    10    -6.179592e+01     2.686380e-02\n",
      " * time: 2.366421937942505\n",
      "    11    -6.195527e+01     2.035834e-02\n",
      " * time: 2.458930015563965\n",
      "    12    -6.202498e+01     1.844130e-02\n",
      " * time: 2.5653939247131348\n",
      "    13    -6.209441e+01     1.493593e-02\n",
      " * time: 2.6568078994750977\n",
      "    14    -6.212329e+01     1.238654e-02\n",
      " * time: 2.7483718395233154\n",
      "    15    -6.214702e+01     1.008420e-02\n",
      " * time: 2.8410849571228027\n",
      "    16    -6.215902e+01     7.957483e-03\n",
      " * time: 2.9323458671569824\n",
      "    17    -6.216830e+01     7.711527e-03\n",
      " * time: 3.0325989723205566\n",
      "    18    -6.217543e+01     6.931225e-03\n",
      " * time: 3.123560905456543\n",
      "    19    -6.218240e+01     7.537744e-03\n",
      " * time: 3.2165238857269287\n",
      "    20    -6.219013e+01     8.623717e-03\n",
      " * time: 3.307914972305298\n",
      "    21    -6.219986e+01     8.968637e-03\n",
      " * time: 3.3991708755493164\n",
      "    22    -6.221115e+01     8.555064e-03\n",
      " * time: 3.4979748725891113\n",
      "    23    -6.222353e+01     7.093017e-03\n",
      " * time: 3.5889718532562256\n",
      "    24    -6.223473e+01     6.575883e-03\n",
      " * time: 3.6801388263702393\n",
      "    25    -6.224283e+01     5.133664e-03\n",
      " * time: 3.770310878753662\n",
      "    26    -6.224828e+01     4.561930e-03\n",
      " * time: 3.8611888885498047\n",
      "    27    -6.225213e+01     3.625303e-03\n",
      " * time: 3.9600608348846436\n",
      "    28    -6.225489e+01     3.147853e-03\n",
      " * time: 4.0521299839019775\n",
      "    29    -6.225701e+01     3.566864e-03\n",
      " * time: 4.142870903015137\n",
      "    30    -6.225863e+01     2.537954e-03\n",
      " * time: 4.23500394821167\n",
      "    31    -6.225982e+01     2.259566e-03\n",
      " * time: 4.325670003890991\n",
      "    32    -6.226060e+01     1.416880e-03\n",
      " * time: 4.425014019012451\n",
      "    33    -6.226108e+01     1.073595e-03\n",
      " * time: 4.515460014343262\n",
      "    34    -6.226137e+01     8.337030e-04\n",
      " * time: 4.605062007904053\n",
      "    35    -6.226152e+01     6.599762e-04\n",
      " * time: 4.695974826812744\n",
      "    36    -6.226158e+01     4.152584e-04\n",
      " * time: 4.786330938339233\n",
      "    37    -6.226161e+01     3.413038e-04\n",
      " * time: 4.885833024978638\n",
      "    38    -6.226163e+01     2.997733e-04\n",
      " * time: 4.976085901260376\n",
      "    39    -6.226164e+01     2.124959e-04\n",
      " * time: 5.065913915634155\n",
      "    40    -6.226165e+01     1.842255e-04\n",
      " * time: 5.157634019851685\n",
      "    41    -6.226166e+01     1.423736e-04\n",
      " * time: 5.248626947402954\n",
      "    42    -6.226166e+01     1.080900e-04\n",
      " * time: 5.346455812454224\n",
      "    43    -6.226166e+01     1.088088e-04\n",
      " * time: 5.43563985824585\n",
      "    44    -6.226166e+01     6.420451e-05\n",
      " * time: 5.525684833526611\n",
      "    45    -6.226167e+01     5.188896e-05\n",
      " * time: 5.614511013031006\n",
      "    46    -6.226167e+01     3.960018e-05\n",
      " * time: 5.704530954360962\n",
      "    47    -6.226167e+01     3.896777e-05\n",
      " * time: 5.803393840789795\n",
      "    48    -6.226167e+01     2.186929e-05\n",
      " * time: 5.893625020980835\n",
      "    49    -6.226167e+01     1.231882e-05\n",
      " * time: 5.983808994293213\n",
      "    50    -6.226167e+01     1.029838e-05\n",
      " * time: 6.074095010757446\n",
      "    51    -6.226167e+01     9.537817e-06\n",
      " * time: 6.165079832077026\n",
      "    52    -6.226167e+01     7.561457e-06\n",
      " * time: 6.265702962875366\n",
      "    53    -6.226167e+01     6.269215e-06\n",
      " * time: 6.356103897094727\n",
      "    54    -6.226167e+01     4.902786e-06\n",
      " * time: 6.446635007858276\n",
      "    55    -6.226167e+01     3.479613e-06\n",
      " * time: 6.543331861495972\n",
      "    56    -6.226167e+01     2.966004e-06\n",
      " * time: 6.643317937850952\n",
      "    57    -6.226167e+01     2.179662e-06\n",
      " * time: 6.748786926269531\n",
      "    58    -6.226167e+01     2.021481e-06\n",
      " * time: 6.838969945907593\n"
     ]
    }
   ],
   "cell_type": "code",
   "source": [
    "scfres = direct_minimization(basis, tol=1e-5);"
   ],
   "metadata": {},
   "execution_count": 4
  },
  {
   "outputs": [
    {
     "output_type": "execute_result",
     "data": {
      "text/plain": "Energy breakdown:\n    Kinetic             25.7671071\n    AtomicLocal         -18.8557680\n    AtomicNonlocal      14.8522642\n    Ewald               -67.1831486\n    PspCorrection       -2.3569765\n    Hartree             4.8485375 \n    Xc                  -19.3336822\n\n    total               -62.261666462778\n"
     },
     "metadata": {},
     "execution_count": 5
    }
   ],
   "cell_type": "code",
   "source": [
    "scfres.energies"
   ],
   "metadata": {},
   "execution_count": 5
  }
 ],
 "nbformat_minor": 3,
 "metadata": {
  "language_info": {
   "file_extension": ".jl",
   "mimetype": "application/julia",
   "name": "julia",
   "version": "1.4.2"
  },
  "kernelspec": {
   "name": "julia-1.4",
   "display_name": "Julia 1.4.2",
   "language": "julia"
  }
 },
 "nbformat": 4
}
