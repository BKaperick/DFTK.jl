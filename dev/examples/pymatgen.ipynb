{
 "cells": [
  {
   "cell_type": "markdown",
   "source": [
    "# Creating supercells with pymatgen\n",
    "\n",
    "The [Pymatgen](https://pymatgen.org/) python library allows to setup\n",
    "solid-state calculations using a flexible set of classes as well as an API\n",
    "to an online data base of structures. Its `Structure` and `Lattice`\n",
    "objects are directly supported by the DFTK `load_atoms` and `load_lattice`\n",
    "functions, such that DFTK may be readily used to run calculation on systems\n",
    "defined in pymatgen. Using the `pymatgen_structure` function a conversion\n",
    "from DFTK to pymatgen structures is also possible. In the following we\n",
    "use this to create a silicon supercell and find its LDA ground state\n",
    "using direct minimisation."
   ],
   "metadata": {}
  },
  {
   "cell_type": "markdown",
   "source": [
    "First we setup the silicon lattice in DFTK."
   ],
   "metadata": {}
  },
  {
   "outputs": [],
   "cell_type": "code",
   "source": [
    "using DFTK\n",
    "\n",
    "a = 10.263141334305942  # Lattice constant in Bohr\n",
    "lattice = a / 2 .* [[0 1 1.]; [1 0 1.]; [1 1 0.]]\n",
    "Si = ElementPsp(:Si, psp=load_psp(\"hgh/lda/Si-q4\"))\n",
    "atoms = [Si => [ones(3)/8, -ones(3)/8]];"
   ],
   "metadata": {},
   "execution_count": 1
  },
  {
   "cell_type": "markdown",
   "source": [
    "Next we make a `[2, 2, 2]` supercell using pymatgen"
   ],
   "metadata": {}
  },
  {
   "outputs": [],
   "cell_type": "code",
   "source": [
    "pystruct = pymatgen_structure(lattice, atoms)\n",
    "pystruct.make_supercell([2, 2, 2])\n",
    "lattice = load_lattice(pystruct)\n",
    "atoms = [Si => [s.frac_coords for s in pystruct.sites]];"
   ],
   "metadata": {},
   "execution_count": 2
  },
  {
   "cell_type": "markdown",
   "source": [
    "Setup an LDA model and discretize using\n",
    "a single kpoint and a small `Ecut` of 5 Hartree."
   ],
   "metadata": {}
  },
  {
   "outputs": [
    {
     "output_type": "execute_result",
     "data": {
      "text/plain": "PlaneWaveBasis (Ecut=5.0, 1 kpoints)"
     },
     "metadata": {},
     "execution_count": 3
    }
   ],
   "cell_type": "code",
   "source": [
    "model = model_LDA(lattice, atoms)\n",
    "basis = PlaneWaveBasis(model, 5, kgrid=(1, 1, 1))"
   ],
   "metadata": {},
   "execution_count": 3
  },
  {
   "cell_type": "markdown",
   "source": [
    "Find the ground state using direct minimisation (always using SCF is boring ...)"
   ],
   "metadata": {}
  },
  {
   "outputs": [
    {
     "name": "stdout",
     "output_type": "stream",
     "text": [
      "Iter     Function value   Gradient norm \n",
      "     0     1.110158e+02     1.541306e+00\n",
      " * time: 0.07048702239990234\n",
      "     1     1.116624e+01     8.587393e-01\n",
      " * time: 1.2871170043945312\n",
      "     2    -1.150379e+01     1.024068e+00\n",
      " * time: 1.3819541931152344\n",
      "     3    -3.370710e+01     8.014912e-01\n",
      " * time: 1.5071361064910889\n",
      "     4    -4.723906e+01     5.713751e-01\n",
      " * time: 1.6329150199890137\n",
      "     5    -5.692786e+01     2.323288e-01\n",
      " * time: 1.7645761966705322\n",
      "     6    -5.985872e+01     1.660531e-01\n",
      " * time: 1.8509631156921387\n",
      "     7    -6.097201e+01     5.586167e-02\n",
      " * time: 1.938735008239746\n",
      "     8    -6.141811e+01     4.638205e-02\n",
      " * time: 2.0263760089874268\n",
      "     9    -6.166949e+01     3.671222e-02\n",
      " * time: 2.1284801959991455\n",
      "    10    -6.186315e+01     2.615150e-02\n",
      " * time: 2.2166030406951904\n",
      "    11    -6.199789e+01     1.838454e-02\n",
      " * time: 2.3046281337738037\n",
      "    12    -6.207127e+01     1.784112e-02\n",
      " * time: 2.392592191696167\n",
      "    13    -6.211207e+01     1.603624e-02\n",
      " * time: 2.4791340827941895\n",
      "    14    -6.214930e+01     1.283446e-02\n",
      " * time: 2.57362699508667\n",
      "    15    -6.217090e+01     1.234491e-02\n",
      " * time: 2.660499095916748\n",
      "    16    -6.218728e+01     9.633579e-03\n",
      " * time: 2.747843027114868\n",
      "    17    -6.219942e+01     9.850106e-03\n",
      " * time: 2.8359971046447754\n",
      "    18    -6.220965e+01     8.649587e-03\n",
      " * time: 2.92262601852417\n",
      "    19    -6.221907e+01     6.945006e-03\n",
      " * time: 3.017407178878784\n",
      "    20    -6.222762e+01     6.362533e-03\n",
      " * time: 3.1048929691314697\n",
      "    21    -6.223625e+01     6.020208e-03\n",
      " * time: 3.1927649974823\n",
      "    22    -6.224405e+01     5.764410e-03\n",
      " * time: 3.279129981994629\n",
      "    23    -6.225021e+01     4.950306e-03\n",
      " * time: 3.364799976348877\n",
      "    24    -6.225441e+01     3.962347e-03\n",
      " * time: 3.45687198638916\n",
      "    25    -6.225708e+01     2.891058e-03\n",
      " * time: 3.5421180725097656\n",
      "    26    -6.225868e+01     2.135689e-03\n",
      " * time: 3.629181146621704\n",
      "    27    -6.225961e+01     1.939927e-03\n",
      " * time: 3.716055154800415\n",
      "    28    -6.226026e+01     1.734409e-03\n",
      " * time: 3.8017489910125732\n",
      "    29    -6.226073e+01     1.370409e-03\n",
      " * time: 3.894551992416382\n",
      "    30    -6.226107e+01     1.401231e-03\n",
      " * time: 3.9806251525878906\n",
      "    31    -6.226131e+01     1.063703e-03\n",
      " * time: 4.066261053085327\n",
      "    32    -6.226147e+01     8.864333e-04\n",
      " * time: 4.153249979019165\n",
      "    33    -6.226157e+01     6.268770e-04\n",
      " * time: 4.238391160964966\n",
      "    34    -6.226162e+01     3.555349e-04\n",
      " * time: 4.331935167312622\n",
      "    35    -6.226164e+01     2.285476e-04\n",
      " * time: 4.417850971221924\n",
      "    36    -6.226166e+01     1.466105e-04\n",
      " * time: 4.503462076187134\n",
      "    37    -6.226166e+01     1.231949e-04\n",
      " * time: 4.589794158935547\n",
      "    38    -6.226166e+01     1.208290e-04\n",
      " * time: 4.675661087036133\n",
      "    39    -6.226166e+01     9.727861e-05\n",
      " * time: 4.769241094589233\n",
      "    40    -6.226166e+01     6.948484e-05\n",
      " * time: 4.855401039123535\n",
      "    41    -6.226167e+01     4.785055e-05\n",
      " * time: 4.94087815284729\n",
      "    42    -6.226167e+01     4.107010e-05\n",
      " * time: 5.027017116546631\n",
      "    43    -6.226167e+01     3.007904e-05\n",
      " * time: 5.113311052322388\n",
      "    44    -6.226167e+01     2.597735e-05\n",
      " * time: 5.206716060638428\n",
      "    45    -6.226167e+01     2.025865e-05\n",
      " * time: 5.292452096939087\n",
      "    46    -6.226167e+01     1.379281e-05\n",
      " * time: 5.37783408164978\n",
      "    47    -6.226167e+01     9.473955e-06\n",
      " * time: 5.4633190631866455\n",
      "    48    -6.226167e+01     6.931987e-06\n",
      " * time: 5.549219131469727\n",
      "    49    -6.226167e+01     4.587545e-06\n",
      " * time: 5.642595052719116\n",
      "    50    -6.226167e+01     4.033093e-06\n",
      " * time: 5.728047132492065\n"
     ]
    }
   ],
   "cell_type": "code",
   "source": [
    "scfres = direct_minimization(basis, tol=1e-5);"
   ],
   "metadata": {},
   "execution_count": 4
  },
  {
   "outputs": [
    {
     "output_type": "execute_result",
     "data": {
      "text/plain": "Energy breakdown:\n    Kinetic             25.7671058\n    AtomicLocal         -18.8557626\n    AtomicNonlocal      14.8522615\n    Ewald               -67.1831486\n    PspCorrection       -2.3569765\n    Hartree             4.8485352 \n    Xc                  -19.3336813\n\n    total               -62.261666456609\n"
     },
     "metadata": {},
     "execution_count": 5
    }
   ],
   "cell_type": "code",
   "source": [
    "scfres.energies"
   ],
   "metadata": {},
   "execution_count": 5
  }
 ],
 "nbformat_minor": 3,
 "metadata": {
  "language_info": {
   "file_extension": ".jl",
   "mimetype": "application/julia",
   "name": "julia",
   "version": "1.4.2"
  },
  "kernelspec": {
   "name": "julia-1.4",
   "display_name": "Julia 1.4.2",
   "language": "julia"
  }
 },
 "nbformat": 4
}
