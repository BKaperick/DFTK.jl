{
 "cells": [
  {
   "cell_type": "markdown",
   "source": [
    "# Creating supercells with pymatgen\n",
    "\n",
    "The [Pymatgen](https://pymatgen.org/) python library allows to setup\n",
    "solid-state calculations using a flexible set of classes as well as an API\n",
    "to an online data base of structures. Its `Structure` and `Lattice`\n",
    "objects are directly supported by the DFTK `load_atoms` and `load_lattice`\n",
    "functions, such that DFTK may be readily used to run calculation on systems\n",
    "defined in pymatgen. Using the `pymatgen_structure` function a conversion\n",
    "from DFTK to pymatgen structures is also possible. In the following we\n",
    "use this to create a silicon supercell and find its LDA ground state\n",
    "using direct minimisation."
   ],
   "metadata": {}
  },
  {
   "cell_type": "markdown",
   "source": [
    "First we setup the silicon lattice in DFTK."
   ],
   "metadata": {}
  },
  {
   "outputs": [],
   "cell_type": "code",
   "source": [
    "using DFTK\n",
    "\n",
    "a = 10.263141334305942  # Lattice constant in Bohr\n",
    "lattice = a / 2 .* [[0 1 1.]; [1 0 1.]; [1 1 0.]]\n",
    "Si = ElementPsp(:Si, psp=load_psp(\"hgh/lda/Si-q4\"))\n",
    "atoms = [Si => [ones(3)/8, -ones(3)/8]];"
   ],
   "metadata": {},
   "execution_count": 1
  },
  {
   "cell_type": "markdown",
   "source": [
    "Next we make a `[2, 2, 2]` supercell using pymatgen"
   ],
   "metadata": {}
  },
  {
   "outputs": [],
   "cell_type": "code",
   "source": [
    "pystruct = pymatgen_structure(lattice, atoms)\n",
    "pystruct.make_supercell([2, 2, 2])\n",
    "lattice = load_lattice(pystruct)\n",
    "atoms = [Si => [s.frac_coords for s in pystruct.sites]];"
   ],
   "metadata": {},
   "execution_count": 2
  },
  {
   "cell_type": "markdown",
   "source": [
    "Setup an LDA model and discretize using\n",
    "a single kpoint and a small `Ecut` of 5 Hartree."
   ],
   "metadata": {}
  },
  {
   "outputs": [
    {
     "output_type": "execute_result",
     "data": {
      "text/plain": "PlaneWaveBasis (Ecut=5.0, 1 kpoints)"
     },
     "metadata": {},
     "execution_count": 3
    }
   ],
   "cell_type": "code",
   "source": [
    "model = model_LDA(lattice, atoms)\n",
    "basis = PlaneWaveBasis(model, 5, kgrid=(1, 1, 1))"
   ],
   "metadata": {},
   "execution_count": 3
  },
  {
   "cell_type": "markdown",
   "source": [
    "Find the ground state using direct minimisation (always using SCF is boring ...)"
   ],
   "metadata": {}
  },
  {
   "outputs": [
    {
     "name": "stdout",
     "output_type": "stream",
     "text": [
      "Iter     Function value   Gradient norm \n",
      "     0     1.118493e+02     1.672261e+00\n",
      " * time: 0.12157082557678223\n",
      "     1     1.086840e+01     1.030734e+00\n",
      " * time: 0.9075078964233398\n",
      "     2    -1.120187e+01     1.266984e+00\n",
      " * time: 1.0348658561706543\n",
      "     3    -3.386164e+01     8.596595e-01\n",
      " * time: 1.1929190158843994\n",
      "     4    -4.724432e+01     6.342808e-01\n",
      " * time: 1.3384268283843994\n",
      "     5    -5.690118e+01     2.112987e-01\n",
      " * time: 1.478529930114746\n",
      "     6    -5.980773e+01     1.314101e-01\n",
      " * time: 1.580185890197754\n",
      "     7    -6.088736e+01     5.430036e-02\n",
      " * time: 1.711488962173462\n",
      "     8    -6.129180e+01     5.791020e-02\n",
      " * time: 1.8151438236236572\n",
      "     9    -6.156366e+01     3.068273e-02\n",
      " * time: 1.923987865447998\n",
      "    10    -6.178087e+01     2.773081e-02\n",
      " * time: 2.026516914367676\n",
      "    11    -6.194978e+01     3.464442e-02\n",
      " * time: 2.135725975036621\n",
      "    12    -6.202845e+01     2.652002e-02\n",
      " * time: 2.238101005554199\n",
      "    13    -6.210770e+01     1.977645e-02\n",
      " * time: 2.347611904144287\n",
      "    14    -6.214855e+01     1.643270e-02\n",
      " * time: 2.4499950408935547\n",
      "    15    -6.218378e+01     1.333096e-02\n",
      " * time: 2.559309959411621\n",
      "    16    -6.220126e+01     1.006880e-02\n",
      " * time: 2.6622209548950195\n",
      "    17    -6.221469e+01     8.481101e-03\n",
      " * time: 2.7708098888397217\n",
      "    18    -6.222407e+01     7.882777e-03\n",
      " * time: 2.872635841369629\n",
      "    19    -6.223216e+01     6.559721e-03\n",
      " * time: 2.981667995452881\n",
      "    20    -6.223949e+01     5.945399e-03\n",
      " * time: 3.083699941635132\n",
      "    21    -6.224650e+01     6.431090e-03\n",
      " * time: 3.19307804107666\n",
      "    22    -6.225230e+01     5.328456e-03\n",
      " * time: 3.295785903930664\n",
      "    23    -6.225651e+01     3.676479e-03\n",
      " * time: 3.404136896133423\n",
      "    24    -6.225901e+01     2.292183e-03\n",
      " * time: 3.5063908100128174\n",
      "    25    -6.226027e+01     1.964048e-03\n",
      " * time: 3.61500883102417\n",
      "    26    -6.226088e+01     1.332268e-03\n",
      " * time: 3.717517852783203\n",
      "    27    -6.226118e+01     9.944746e-04\n",
      " * time: 3.8270668983459473\n",
      "    28    -6.226134e+01     7.687581e-04\n",
      " * time: 3.9300060272216797\n",
      "    29    -6.226144e+01     6.772087e-04\n",
      " * time: 4.039201021194458\n",
      "    30    -6.226152e+01     5.439799e-04\n",
      " * time: 4.1420769691467285\n",
      "    31    -6.226157e+01     4.776731e-04\n",
      " * time: 4.250293016433716\n",
      "    32    -6.226161e+01     3.564017e-04\n",
      " * time: 4.351477861404419\n",
      "    33    -6.226163e+01     3.200486e-04\n",
      " * time: 4.458920001983643\n",
      "    34    -6.226165e+01     2.934594e-04\n",
      " * time: 4.560930967330933\n",
      "    35    -6.226166e+01     1.816257e-04\n",
      " * time: 4.669546842575073\n",
      "    36    -6.226166e+01     1.259991e-04\n",
      " * time: 4.772173881530762\n",
      "    37    -6.226166e+01     7.807672e-05\n",
      " * time: 4.880849838256836\n",
      "    38    -6.226166e+01     5.106711e-05\n",
      " * time: 4.983734846115112\n",
      "    39    -6.226167e+01     3.933917e-05\n",
      " * time: 5.092299938201904\n",
      "    40    -6.226167e+01     3.425886e-05\n",
      " * time: 5.195160865783691\n",
      "    41    -6.226167e+01     3.205985e-05\n",
      " * time: 5.303253889083862\n",
      "    42    -6.226167e+01     2.810510e-05\n",
      " * time: 5.405503034591675\n",
      "    43    -6.226167e+01     2.291714e-05\n",
      " * time: 5.513293981552124\n",
      "    44    -6.226167e+01     1.746831e-05\n",
      " * time: 5.615571975708008\n",
      "    45    -6.226167e+01     1.249776e-05\n",
      " * time: 5.7236268520355225\n",
      "    46    -6.226167e+01     9.085402e-06\n",
      " * time: 5.825883865356445\n",
      "    47    -6.226167e+01     6.376774e-06\n",
      " * time: 5.933933973312378\n",
      "    48    -6.226167e+01     4.042123e-06\n",
      " * time: 6.035589933395386\n",
      "    49    -6.226167e+01     3.995525e-06\n",
      " * time: 6.14360499382019\n"
     ]
    }
   ],
   "cell_type": "code",
   "source": [
    "scfres = direct_minimization(basis, tol=1e-5);"
   ],
   "metadata": {},
   "execution_count": 4
  },
  {
   "outputs": [
    {
     "output_type": "execute_result",
     "data": {
      "text/plain": "Energy breakdown:\n    Kinetic             25.7671066\n    AtomicLocal         -18.8557710\n    AtomicNonlocal      14.8522677\n    Ewald               -67.1831486\n    PspCorrection       -2.3569765\n    Hartree             4.8485375 \n    Xc                  -19.3336821\n\n    total               -62.261666460219\n"
     },
     "metadata": {},
     "execution_count": 5
    }
   ],
   "cell_type": "code",
   "source": [
    "scfres.energies"
   ],
   "metadata": {},
   "execution_count": 5
  }
 ],
 "nbformat_minor": 3,
 "metadata": {
  "language_info": {
   "file_extension": ".jl",
   "mimetype": "application/julia",
   "name": "julia",
   "version": "1.3.1"
  },
  "kernelspec": {
   "name": "julia-1.3",
   "display_name": "Julia 1.3.1",
   "language": "julia"
  }
 },
 "nbformat": 4
}
