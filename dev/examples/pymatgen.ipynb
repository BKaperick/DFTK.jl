{
 "cells": [
  {
   "cell_type": "markdown",
   "source": [
    "# Creating supercells with pymatgen\n",
    "\n",
    "The [Pymatgen](https://pymatgen.org/) python library allows to setup\n",
    "solid-state calculations using a flexible set of classes as well as an API\n",
    "to an online data base of structures. Its `Structure` and `Lattice`\n",
    "objects are directly supported by the DFTK `load_atoms` and `load_lattice`\n",
    "functions, such that DFTK may be readily used to run calculation on systems\n",
    "defined in pymatgen. Using the `pymatgen_structure` function a conversion\n",
    "from DFTK to pymatgen structures is also possible. In the following we\n",
    "use this to create a silicon supercell and find its LDA ground state\n",
    "using direct minimisation."
   ],
   "metadata": {}
  },
  {
   "cell_type": "markdown",
   "source": [
    "First we setup the silicon lattice in DFTK."
   ],
   "metadata": {}
  },
  {
   "outputs": [],
   "cell_type": "code",
   "source": [
    "using DFTK\n",
    "\n",
    "a = 10.263141334305942  # Lattice constant in Bohr\n",
    "lattice = a / 2 .* [[0 1 1.]; [1 0 1.]; [1 1 0.]]\n",
    "Si = ElementPsp(:Si, psp=load_psp(\"hgh/lda/Si-q4\"))\n",
    "atoms = [Si => [ones(3)/8, -ones(3)/8]];"
   ],
   "metadata": {},
   "execution_count": 1
  },
  {
   "cell_type": "markdown",
   "source": [
    "Next we make a `[2, 2, 2]` supercell using pymatgen"
   ],
   "metadata": {}
  },
  {
   "outputs": [],
   "cell_type": "code",
   "source": [
    "pystruct = pymatgen_structure(lattice, atoms)\n",
    "pystruct.make_supercell([2, 2, 2])\n",
    "lattice = load_lattice(pystruct)\n",
    "atoms = [Si => [s.frac_coords for s in pystruct.sites]];"
   ],
   "metadata": {},
   "execution_count": 2
  },
  {
   "cell_type": "markdown",
   "source": [
    "Setup an LDA model and discretize using\n",
    "a single kpoint and a small `Ecut` of 5 Hartree.\n",
    "Notice that `PlaneWaveBasis` defaults to just using the ``Γ``-point\n",
    "if no ``k``-point options are provided."
   ],
   "metadata": {}
  },
  {
   "outputs": [
    {
     "name": "stdout",
     "output_type": "stream",
     "text": [
      "Iter     Function value   Gradient norm \n",
      "     0     1.121366e+02     1.824263e+00\n",
      " * time: 0.08679986000061035\n",
      "     1     1.035474e+01     9.940937e-01\n",
      " * time: 0.8810899257659912\n",
      "     2    -1.167430e+01     1.204369e+00\n",
      " * time: 1.0302529335021973\n",
      "     3    -3.393064e+01     9.062136e-01\n",
      " * time: 1.1741318702697754\n",
      "     4    -4.737324e+01     6.081873e-01\n",
      " * time: 1.3258209228515625\n",
      "     5    -5.682074e+01     2.251743e-01\n",
      " * time: 1.472717046737671\n",
      "     6    -5.956193e+01     1.962917e-01\n",
      " * time: 1.5769720077514648\n",
      "     7    -6.070078e+01     8.401254e-02\n",
      " * time: 1.6883199214935303\n",
      "     8    -6.123906e+01     4.150185e-02\n",
      " * time: 1.7934949398040771\n",
      "     9    -6.158700e+01     3.987510e-02\n",
      " * time: 1.9045429229736328\n",
      "    10    -6.179760e+01     3.269458e-02\n",
      " * time: 2.009377956390381\n",
      "    11    -6.192793e+01     2.926917e-02\n",
      " * time: 2.121914863586426\n",
      "    12    -6.202316e+01     2.027617e-02\n",
      " * time: 2.2272849082946777\n",
      "    13    -6.209362e+01     1.526693e-02\n",
      " * time: 2.339168071746826\n",
      "    14    -6.214263e+01     1.358145e-02\n",
      " * time: 2.4436209201812744\n",
      "    15    -6.217793e+01     1.318574e-02\n",
      " * time: 2.5547618865966797\n",
      "    16    -6.219750e+01     1.295252e-02\n",
      " * time: 2.659024953842163\n",
      "    17    -6.221145e+01     1.018243e-02\n",
      " * time: 2.76971697807312\n",
      "    18    -6.222063e+01     6.680080e-03\n",
      " * time: 2.873897075653076\n",
      "    19    -6.222768e+01     6.366556e-03\n",
      " * time: 2.985023021697998\n",
      "    20    -6.223332e+01     6.061656e-03\n",
      " * time: 3.0889439582824707\n",
      "    21    -6.223909e+01     5.423745e-03\n",
      " * time: 3.199887990951538\n",
      "    22    -6.224521e+01     5.283956e-03\n",
      " * time: 3.3033080101013184\n",
      "    23    -6.225066e+01     4.982886e-03\n",
      " * time: 3.4147350788116455\n",
      "    24    -6.225478e+01     4.561287e-03\n",
      " * time: 3.5182459354400635\n",
      "    25    -6.225743e+01     3.334465e-03\n",
      " * time: 3.62321400642395\n",
      "    26    -6.225907e+01     2.395757e-03\n",
      " * time: 3.73281192779541\n",
      "    27    -6.226005e+01     2.025191e-03\n",
      " * time: 3.836379051208496\n",
      "    28    -6.226061e+01     1.491871e-03\n",
      " * time: 3.9466800689697266\n",
      "    29    -6.226097e+01     1.136610e-03\n",
      " * time: 4.050451040267944\n",
      "    30    -6.226122e+01     9.631101e-04\n",
      " * time: 4.160039901733398\n",
      "    31    -6.226139e+01     7.259184e-04\n",
      " * time: 4.26346492767334\n",
      "    32    -6.226150e+01     5.589923e-04\n",
      " * time: 4.373652935028076\n",
      "    33    -6.226157e+01     6.590826e-04\n",
      " * time: 4.47763991355896\n",
      "    34    -6.226161e+01     3.532484e-04\n",
      " * time: 4.5890960693359375\n",
      "    35    -6.226164e+01     2.696027e-04\n",
      " * time: 4.701158046722412\n",
      "    36    -6.226165e+01     1.816399e-04\n",
      " * time: 4.819727897644043\n",
      "    37    -6.226166e+01     1.328433e-04\n",
      " * time: 4.923115968704224\n",
      "    38    -6.226166e+01     1.200219e-04\n",
      " * time: 5.032724857330322\n",
      "    39    -6.226166e+01     7.177058e-05\n",
      " * time: 5.136703968048096\n",
      "    40    -6.226166e+01     6.825157e-05\n",
      " * time: 5.246307849884033\n",
      "    41    -6.226167e+01     5.230850e-05\n",
      " * time: 5.350169897079468\n",
      "    42    -6.226167e+01     3.810668e-05\n",
      " * time: 5.460824012756348\n",
      "    43    -6.226167e+01     3.178237e-05\n",
      " * time: 5.564347982406616\n",
      "    44    -6.226167e+01     2.790116e-05\n",
      " * time: 5.674367904663086\n",
      "    45    -6.226167e+01     2.109703e-05\n",
      " * time: 5.778374910354614\n",
      "    46    -6.226167e+01     1.628129e-05\n",
      " * time: 5.8891918659210205\n",
      "    47    -6.226167e+01     1.125694e-05\n",
      " * time: 5.99274206161499\n",
      "    48    -6.226167e+01     8.899175e-06\n",
      " * time: 6.1050169467926025\n",
      "    49    -6.226167e+01     5.353847e-06\n",
      " * time: 6.208986043930054\n",
      "    50    -6.226167e+01     3.616274e-06\n",
      " * time: 6.336963891983032\n",
      "    51    -6.226167e+01     2.754893e-06\n",
      " * time: 6.441057920455933\n",
      "    52    -6.226167e+01     2.164791e-06\n",
      " * time: 6.553992033004761\n"
     ]
    }
   ],
   "cell_type": "code",
   "source": [
    "model = model_LDA(lattice, atoms)\n",
    "basis = PlaneWaveBasis(model, 5)\n",
    "\n",
    "# Find the ground state using direct minimisation (always using SCF is boring ...)\n",
    "scfres = direct_minimization(basis, tol=1e-5);"
   ],
   "metadata": {},
   "execution_count": 3
  },
  {
   "outputs": [
    {
     "output_type": "execute_result",
     "data": {
      "text/plain": "Energy breakdown:\n    Kinetic             25.7671072\n    AtomicLocal         -18.8557675\n    AtomicNonlocal      14.8522638\n    Ewald               -67.1831486\n    PspCorrection       -2.3569765\n    Hartree             4.8485373 \n    Xc                  -19.3336821\n\n    total               -62.261666461390\n"
     },
     "metadata": {},
     "execution_count": 4
    }
   ],
   "cell_type": "code",
   "source": [
    "scfres.energies"
   ],
   "metadata": {},
   "execution_count": 4
  }
 ],
 "nbformat_minor": 3,
 "metadata": {
  "language_info": {
   "file_extension": ".jl",
   "mimetype": "application/julia",
   "name": "julia",
   "version": "1.3.1"
  },
  "kernelspec": {
   "name": "julia-1.3",
   "display_name": "Julia 1.3.1",
   "language": "julia"
  }
 },
 "nbformat": 4
}
