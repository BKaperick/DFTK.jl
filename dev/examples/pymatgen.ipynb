{
 "cells": [
  {
   "cell_type": "markdown",
   "source": [
    "# Creating supercells with pymatgen\n",
    "\n",
    "The [Pymatgen](https://pymatgen.org/) python library allows to setup\n",
    "solid-state calculations using a flexible set of classes as well as an API\n",
    "to an online data base of structures. Its `Structure` and `Lattice`\n",
    "objects are directly supported by the DFTK `load_atoms` and `load_lattice`\n",
    "functions, such that DFTK may be readily used to run calculation on systems\n",
    "defined in pymatgen. Using the `pymatgen_structure` function a conversion\n",
    "from DFTK to pymatgen structures is also possible. In the following we\n",
    "use this to create a silicon supercell and find its LDA ground state\n",
    "using direct minimisation."
   ],
   "metadata": {}
  },
  {
   "cell_type": "markdown",
   "source": [
    "First we setup the silicon lattice in DFTK."
   ],
   "metadata": {}
  },
  {
   "outputs": [],
   "cell_type": "code",
   "source": [
    "using DFTK\n",
    "\n",
    "a = 10.263141334305942  # Lattice constant in Bohr\n",
    "lattice = a / 2 .* [[0 1 1.]; [1 0 1.]; [1 1 0.]]\n",
    "Si = ElementPsp(:Si, psp=load_psp(\"hgh/lda/Si-q4\"))\n",
    "atoms = [Si => [ones(3)/8, -ones(3)/8]];"
   ],
   "metadata": {},
   "execution_count": 1
  },
  {
   "cell_type": "markdown",
   "source": [
    "Next we make a `[2, 2, 2]` supercell using pymatgen"
   ],
   "metadata": {}
  },
  {
   "outputs": [],
   "cell_type": "code",
   "source": [
    "pystruct = pymatgen_structure(lattice, atoms)\n",
    "pystruct.make_supercell([2, 2, 2])\n",
    "lattice = load_lattice(pystruct)\n",
    "atoms = [Si => [s.frac_coords for s in pystruct.sites]];"
   ],
   "metadata": {},
   "execution_count": 2
  },
  {
   "cell_type": "markdown",
   "source": [
    "Setup an LDA model and discretize using\n",
    "a single kpoint and a small `Ecut` of 5 Hartree."
   ],
   "metadata": {}
  },
  {
   "outputs": [
    {
     "output_type": "execute_result",
     "data": {
      "text/plain": "PlaneWaveBasis (Ecut=5.0, 1 kpoints)"
     },
     "metadata": {},
     "execution_count": 3
    }
   ],
   "cell_type": "code",
   "source": [
    "model = model_LDA(lattice, atoms)\n",
    "basis = PlaneWaveBasis(model, 5, kgrid=(1, 1, 1))"
   ],
   "metadata": {},
   "execution_count": 3
  },
  {
   "cell_type": "markdown",
   "source": [
    "Find the ground state using direct minimisation (always using SCF is boring ...)"
   ],
   "metadata": {}
  },
  {
   "outputs": [
    {
     "name": "stdout",
     "output_type": "stream",
     "text": [
      "Iter     Function value   Gradient norm \n",
      "     0     1.119246e+02     1.583163e+00\n",
      " * time: 0.12472319602966309\n",
      "     1     1.064914e+01     1.167712e+00\n",
      " * time: 0.9729371070861816\n",
      "     2    -1.193218e+01     1.201780e+00\n",
      " * time: 1.0969090461730957\n",
      "     3    -3.438922e+01     8.571252e-01\n",
      " * time: 1.373725175857544\n",
      "     4    -4.800331e+01     5.472675e-01\n",
      " * time: 1.844722032546997\n",
      "     5    -5.708601e+01     1.845927e-01\n",
      " * time: 2.1926350593566895\n",
      "     6    -5.990736e+01     1.078870e-01\n",
      " * time: 2.2947142124176025\n",
      "     7    -6.094304e+01     5.303880e-02\n",
      " * time: 2.405125141143799\n",
      "     8    -6.134989e+01     7.576809e-02\n",
      " * time: 2.5138230323791504\n",
      "     9    -6.166452e+01     3.774805e-02\n",
      " * time: 2.620974063873291\n",
      "    10    -6.187469e+01     2.881398e-02\n",
      " * time: 2.728518009185791\n",
      "    11    -6.203117e+01     2.117476e-02\n",
      " * time: 2.830573081970215\n",
      "    12    -6.209535e+01     2.121920e-02\n",
      " * time: 2.9375131130218506\n",
      "    13    -6.215499e+01     1.391539e-02\n",
      " * time: 3.045436143875122\n",
      "    14    -6.218459e+01     1.287551e-02\n",
      " * time: 3.1525871753692627\n",
      "    15    -6.220882e+01     1.034797e-02\n",
      " * time: 3.2553510665893555\n",
      "    16    -6.222204e+01     7.495760e-03\n",
      " * time: 3.362971067428589\n",
      "    17    -6.223051e+01     6.627018e-03\n",
      " * time: 3.4706101417541504\n",
      "    18    -6.223714e+01     5.936295e-03\n",
      " * time: 3.5784451961517334\n",
      "    19    -6.224245e+01     5.479523e-03\n",
      " * time: 3.6859021186828613\n",
      "    20    -6.224749e+01     5.925336e-03\n",
      " * time: 3.788734197616577\n",
      "    21    -6.225221e+01     4.922933e-03\n",
      " * time: 3.896304130554199\n",
      "    22    -6.225629e+01     4.162306e-03\n",
      " * time: 4.007354974746704\n",
      "    23    -6.225894e+01     2.417965e-03\n",
      " * time: 4.122197151184082\n",
      "    24    -6.226022e+01     1.881830e-03\n",
      " * time: 4.238545179367065\n",
      "    25    -6.226084e+01     1.296252e-03\n",
      " * time: 4.346330165863037\n",
      "    26    -6.226113e+01     9.781730e-04\n",
      " * time: 4.460439205169678\n",
      "    27    -6.226129e+01     9.132096e-04\n",
      " * time: 4.5762410163879395\n",
      "    28    -6.226140e+01     7.077525e-04\n",
      " * time: 4.690416097640991\n",
      "    29    -6.226148e+01     6.424419e-04\n",
      " * time: 4.795239210128784\n",
      "    30    -6.226155e+01     5.534396e-04\n",
      " * time: 4.9041430950164795\n",
      "    31    -6.226160e+01     4.759884e-04\n",
      " * time: 5.012129068374634\n",
      "    32    -6.226163e+01     3.367016e-04\n",
      " * time: 5.124744176864624\n",
      "    33    -6.226165e+01     2.484535e-04\n",
      " * time: 5.239221096038818\n",
      "    34    -6.226166e+01     1.770063e-04\n",
      " * time: 5.347239017486572\n",
      "    35    -6.226166e+01     1.519273e-04\n",
      " * time: 5.458697080612183\n",
      "    36    -6.226166e+01     7.324206e-05\n",
      " * time: 5.56619119644165\n",
      "    37    -6.226166e+01     6.296072e-05\n",
      " * time: 5.673691034317017\n",
      "    38    -6.226167e+01     4.878857e-05\n",
      " * time: 5.7761549949646\n",
      "    39    -6.226167e+01     4.091236e-05\n",
      " * time: 5.883227109909058\n",
      "    40    -6.226167e+01     3.211577e-05\n",
      " * time: 5.992720127105713\n",
      "    41    -6.226167e+01     2.822163e-05\n",
      " * time: 6.103860139846802\n",
      "    42    -6.226167e+01     2.127073e-05\n",
      " * time: 6.215391159057617\n",
      "    43    -6.226167e+01     1.356992e-05\n",
      " * time: 6.320036172866821\n",
      "    44    -6.226167e+01     9.770178e-06\n",
      " * time: 6.426360130310059\n",
      "    45    -6.226167e+01     8.784556e-06\n",
      " * time: 6.5331480503082275\n",
      "    46    -6.226167e+01     6.612240e-06\n",
      " * time: 6.639731168746948\n",
      "    47    -6.226167e+01     4.207127e-06\n",
      " * time: 6.741083145141602\n",
      "    48    -6.226167e+01     3.563520e-06\n",
      " * time: 6.849240064620972\n"
     ]
    }
   ],
   "cell_type": "code",
   "source": [
    "scfres = direct_minimization(basis, tol=1e-5);"
   ],
   "metadata": {},
   "execution_count": 4
  },
  {
   "outputs": [
    {
     "output_type": "execute_result",
     "data": {
      "text/plain": "Energy breakdown:\n    Kinetic             25.7671071\n    AtomicLocal         -18.8557667\n    AtomicNonlocal      14.8522633\n    Ewald               -67.1831486\n    PspCorrection       -2.3569765\n    Hartree             4.8485371 \n    Xc                  -19.3336820\n\n    total               -62.261666460054\n"
     },
     "metadata": {},
     "execution_count": 5
    }
   ],
   "cell_type": "code",
   "source": [
    "scfres.energies"
   ],
   "metadata": {},
   "execution_count": 5
  }
 ],
 "nbformat_minor": 3,
 "metadata": {
  "language_info": {
   "file_extension": ".jl",
   "mimetype": "application/julia",
   "name": "julia",
   "version": "1.3.1"
  },
  "kernelspec": {
   "name": "julia-1.3",
   "display_name": "Julia 1.3.1",
   "language": "julia"
  }
 },
 "nbformat": 4
}
