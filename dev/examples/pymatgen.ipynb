{
 "cells": [
  {
   "cell_type": "markdown",
   "source": [
    "# Creating supercells with pymatgen\n",
    "\n",
    "The [Pymatgen](https://pymatgen.org/) python library allows to setup\n",
    "solid-state calculations using a flexible set of classes as well as an API\n",
    "to an online data base of structures. Its `Structure` and `Lattice`\n",
    "objects are directly supported by the DFTK `load_atoms` and `load_lattice`\n",
    "functions, such that DFTK may be readily used to run calculation on systems\n",
    "defined in pymatgen. Using the `pymatgen_structure` function a conversion\n",
    "from DFTK to pymatgen structures is also possible. In the following we\n",
    "use this to create a silicon supercell and find its LDA ground state\n",
    "using direct minimisation."
   ],
   "metadata": {}
  },
  {
   "cell_type": "markdown",
   "source": [
    "First we setup the silicon lattice in DFTK."
   ],
   "metadata": {}
  },
  {
   "outputs": [],
   "cell_type": "code",
   "source": [
    "using DFTK\n",
    "\n",
    "a = 10.263141334305942  # Lattice constant in Bohr\n",
    "lattice = a / 2 .* [[0 1 1.]; [1 0 1.]; [1 1 0.]]\n",
    "Si = ElementPsp(:Si, psp=load_psp(\"hgh/lda/Si-q4\"))\n",
    "atoms = [Si => [ones(3)/8, -ones(3)/8]];"
   ],
   "metadata": {},
   "execution_count": 1
  },
  {
   "cell_type": "markdown",
   "source": [
    "Next we make a `[2, 2, 2]` supercell using pymatgen"
   ],
   "metadata": {}
  },
  {
   "outputs": [],
   "cell_type": "code",
   "source": [
    "pystruct = pymatgen_structure(lattice, atoms)\n",
    "pystruct.make_supercell([2, 2, 2])\n",
    "lattice = load_lattice(pystruct)\n",
    "atoms = [Si => [s.frac_coords for s in pystruct.sites]];"
   ],
   "metadata": {},
   "execution_count": 2
  },
  {
   "cell_type": "markdown",
   "source": [
    "Setup an LDA model and discretize using\n",
    "a single kpoint and a small `Ecut` of 5 Hartree.\n",
    "Notice that `PlaneWaveBasis` defaults to just using the ``Γ``-point\n",
    "if no ``k``-point options are provided."
   ],
   "metadata": {}
  },
  {
   "outputs": [
    {
     "name": "stdout",
     "output_type": "stream",
     "text": [
      "Iter     Function value   Gradient norm \n",
      "     0     1.121375e+02     1.562694e+00\n",
      " * time: 0.0894169807434082\n",
      "     1     1.074296e+01     8.988096e-01\n",
      " * time: 0.905264139175415\n",
      "     2    -1.237579e+01     1.111649e+00\n",
      " * time: 1.0850131511688232\n",
      "     3    -3.396068e+01     7.799115e-01\n",
      " * time: 1.2763769626617432\n",
      "     4    -4.760119e+01     5.900584e-01\n",
      " * time: 1.4172930717468262\n",
      "     5    -5.690112e+01     2.013989e-01\n",
      " * time: 1.5708460807800293\n",
      "     6    -5.968903e+01     1.723497e-01\n",
      " * time: 1.6880919933319092\n",
      "     7    -6.085732e+01     7.627683e-02\n",
      " * time: 1.7971031665802002\n",
      "     8    -6.138053e+01     4.096555e-02\n",
      " * time: 1.9146971702575684\n",
      "     9    -6.168482e+01     3.375647e-02\n",
      " * time: 2.0231809616088867\n",
      "    10    -6.185498e+01     2.646100e-02\n",
      " * time: 2.150473117828369\n",
      "    11    -6.196582e+01     2.568325e-02\n",
      " * time: 2.267524003982544\n",
      "    12    -6.204326e+01     1.664407e-02\n",
      " * time: 2.376829147338867\n",
      "    13    -6.210017e+01     1.368113e-02\n",
      " * time: 2.4948251247406006\n",
      "    14    -6.213570e+01     1.217611e-02\n",
      " * time: 2.603971004486084\n",
      "    15    -6.216047e+01     1.281454e-02\n",
      " * time: 2.7206060886383057\n",
      "    16    -6.217538e+01     9.022627e-03\n",
      " * time: 2.830734968185425\n",
      "    17    -6.218734e+01     8.656063e-03\n",
      " * time: 2.9461259841918945\n",
      "    18    -6.219744e+01     9.306588e-03\n",
      " * time: 3.0541701316833496\n",
      "    19    -6.220695e+01     8.958027e-03\n",
      " * time: 3.1705901622772217\n",
      "    20    -6.221535e+01     9.937439e-03\n",
      " * time: 3.279129981994629\n",
      "    21    -6.222485e+01     7.150235e-03\n",
      " * time: 3.3966121673583984\n",
      "    22    -6.223475e+01     6.379555e-03\n",
      " * time: 3.506535053253174\n",
      "    23    -6.224404e+01     5.753188e-03\n",
      " * time: 3.6235830783843994\n",
      "    24    -6.225093e+01     5.064571e-03\n",
      " * time: 3.7332451343536377\n",
      "    25    -6.225521e+01     4.351349e-03\n",
      " * time: 3.8517630100250244\n",
      "    26    -6.225761e+01     2.988989e-03\n",
      " * time: 3.9610049724578857\n",
      "    27    -6.225898e+01     2.408596e-03\n",
      " * time: 4.0946080684661865\n",
      "    28    -6.225981e+01     2.145171e-03\n",
      " * time: 4.205613136291504\n",
      "    29    -6.226037e+01     1.747259e-03\n",
      " * time: 4.315387010574341\n",
      "    30    -6.226079e+01     1.720163e-03\n",
      " * time: 4.431210041046143\n",
      "    31    -6.226112e+01     1.288638e-03\n",
      " * time: 4.539663076400757\n",
      "    32    -6.226135e+01     1.008864e-03\n",
      " * time: 4.656481981277466\n",
      "    33    -6.226149e+01     8.765985e-04\n",
      " * time: 4.7655651569366455\n",
      "    34    -6.226158e+01     5.355248e-04\n",
      " * time: 4.883015155792236\n",
      "    35    -6.226162e+01     3.854905e-04\n",
      " * time: 4.991387128829956\n",
      "    36    -6.226164e+01     3.244900e-04\n",
      " * time: 5.108908176422119\n",
      "    37    -6.226165e+01     1.653772e-04\n",
      " * time: 5.217554092407227\n",
      "    38    -6.226166e+01     1.266412e-04\n",
      " * time: 5.337223052978516\n",
      "    39    -6.226166e+01     1.058331e-04\n",
      " * time: 5.456838130950928\n",
      "    40    -6.226166e+01     8.306699e-05\n",
      " * time: 5.585123062133789\n",
      "    41    -6.226166e+01     7.218664e-05\n",
      " * time: 5.694972991943359\n",
      "    42    -6.226167e+01     5.896424e-05\n",
      " * time: 5.812003135681152\n",
      "    43    -6.226167e+01     5.280259e-05\n",
      " * time: 5.920587062835693\n",
      "    44    -6.226167e+01     3.625277e-05\n",
      " * time: 6.036206960678101\n",
      "    45    -6.226167e+01     2.507688e-05\n",
      " * time: 6.145342111587524\n",
      "    46    -6.226167e+01     1.942673e-05\n",
      " * time: 6.261799097061157\n",
      "    47    -6.226167e+01     1.398129e-05\n",
      " * time: 6.37148118019104\n",
      "    48    -6.226167e+01     1.407154e-05\n",
      " * time: 6.48878812789917\n",
      "    49    -6.226167e+01     6.834477e-06\n",
      " * time: 6.59691309928894\n",
      "    50    -6.226167e+01     4.385486e-06\n",
      " * time: 6.725015163421631\n"
     ]
    }
   ],
   "cell_type": "code",
   "source": [
    "model = model_LDA(lattice, atoms)\n",
    "basis = PlaneWaveBasis(model, 5)\n",
    "\n",
    "# Find the ground state using direct minimisation (always using SCF is boring ...)\n",
    "scfres = direct_minimization(basis, tol=1e-5);"
   ],
   "metadata": {},
   "execution_count": 3
  },
  {
   "outputs": [
    {
     "output_type": "execute_result",
     "data": {
      "text/plain": "Energy breakdown:\n    Kinetic             25.7671052\n    AtomicLocal         -18.8557754\n    AtomicNonlocal      14.8522737\n    Ewald               -67.1831486\n    PspCorrection       -2.3569765\n    Hartree             4.8485369 \n    Xc                  -19.3336817\n\n    total               -62.261666453800\n"
     },
     "metadata": {},
     "execution_count": 4
    }
   ],
   "cell_type": "code",
   "source": [
    "scfres.energies"
   ],
   "metadata": {},
   "execution_count": 4
  }
 ],
 "nbformat_minor": 3,
 "metadata": {
  "language_info": {
   "file_extension": ".jl",
   "mimetype": "application/julia",
   "name": "julia",
   "version": "1.3.1"
  },
  "kernelspec": {
   "name": "julia-1.3",
   "display_name": "Julia 1.3.1",
   "language": "julia"
  }
 },
 "nbformat": 4
}
