{
 "cells": [
  {
   "cell_type": "markdown",
   "source": [
    "# Creating supercells with pymatgen\n",
    "\n",
    "The [Pymatgen](https://pymatgen.org/) python library allows to setup\n",
    "solid-state calculations using a flexible set of classes as well as an API\n",
    "to an online data base of structures. Its `Structure` and `Lattice`\n",
    "objects are directly supported by the DFTK `load_atoms` and `load_lattice`\n",
    "functions, such that DFTK may be readily used to run calculation on systems\n",
    "defined in pymatgen. Using the `pymatgen_structure` function a conversion\n",
    "from DFTK to pymatgen structures is also possible. In the following we\n",
    "use this to create a silicon supercell and find its LDA ground state\n",
    "using direct minimisation."
   ],
   "metadata": {}
  },
  {
   "cell_type": "markdown",
   "source": [
    "First we setup the silicon lattice in DFTK."
   ],
   "metadata": {}
  },
  {
   "outputs": [],
   "cell_type": "code",
   "source": [
    "using DFTK\n",
    "\n",
    "a = 10.263141334305942  # Lattice constant in Bohr\n",
    "lattice = a / 2 .* [[0 1 1.]; [1 0 1.]; [1 1 0.]]\n",
    "Si = ElementPsp(:Si, psp=load_psp(\"hgh/lda/Si-q4\"))\n",
    "atoms = [Si => [ones(3)/8, -ones(3)/8]];"
   ],
   "metadata": {},
   "execution_count": 1
  },
  {
   "cell_type": "markdown",
   "source": [
    "Next we make a `[2, 2, 2]` supercell using pymatgen"
   ],
   "metadata": {}
  },
  {
   "outputs": [],
   "cell_type": "code",
   "source": [
    "pystruct = pymatgen_structure(lattice, atoms)\n",
    "pystruct.make_supercell([2, 2, 2])\n",
    "lattice = load_lattice(pystruct)\n",
    "atoms = [Si => [s.frac_coords for s in pystruct.sites]];"
   ],
   "metadata": {},
   "execution_count": 2
  },
  {
   "cell_type": "markdown",
   "source": [
    "Setup an LDA model and discretize using\n",
    "a single kpoint and a small `Ecut` of 5 Hartree.\n",
    "Notice that `PlaneWaveBasis` defaults to just using the ``Γ``-point\n",
    "if no ``k``-point options are provided."
   ],
   "metadata": {}
  },
  {
   "outputs": [
    {
     "name": "stdout",
     "output_type": "stream",
     "text": [
      "Iter     Function value   Gradient norm \n",
      "     0     1.117767e+02     1.746709e+00\n",
      " * time: 0.16193199157714844\n",
      "     1     1.002976e+01     9.385094e-01\n",
      " * time: 1.0209999084472656\n",
      "     2    -1.150257e+01     1.110726e+00\n",
      " * time: 1.1548738479614258\n",
      "     3    -3.405473e+01     8.085236e-01\n",
      " * time: 1.324098825454712\n",
      "     4    -4.735618e+01     6.275138e-01\n",
      " * time: 1.4844038486480713\n",
      "     5    -5.691112e+01     2.147705e-01\n",
      " * time: 1.6374528408050537\n",
      "     6    -5.984240e+01     1.177397e-01\n",
      " * time: 1.7499139308929443\n",
      "     7    -6.090672e+01     5.610155e-02\n",
      " * time: 1.8694698810577393\n",
      "     8    -6.131512e+01     7.701744e-02\n",
      " * time: 1.9819810390472412\n",
      "     9    -6.162669e+01     4.029666e-02\n",
      " * time: 2.1009960174560547\n",
      "    10    -6.183832e+01     3.575361e-02\n",
      " * time: 2.214948892593384\n",
      "    11    -6.198828e+01     2.145720e-02\n",
      " * time: 2.3344969749450684\n",
      "    12    -6.204462e+01     1.888147e-02\n",
      " * time: 2.446462869644165\n",
      "    13    -6.210862e+01     1.329417e-02\n",
      " * time: 2.566283941268921\n",
      "    14    -6.214065e+01     1.079507e-02\n",
      " * time: 2.677258014678955\n",
      "    15    -6.217195e+01     9.974954e-03\n",
      " * time: 2.795883893966675\n",
      "    16    -6.218795e+01     9.571163e-03\n",
      " * time: 2.907094955444336\n",
      "    17    -6.220046e+01     8.154345e-03\n",
      " * time: 3.0241448879241943\n",
      "    18    -6.220923e+01     7.079504e-03\n",
      " * time: 3.1332828998565674\n",
      "    19    -6.221633e+01     6.996755e-03\n",
      " * time: 3.2496578693389893\n",
      "    20    -6.222220e+01     6.066910e-03\n",
      " * time: 3.359452962875366\n",
      "    21    -6.222783e+01     6.174664e-03\n",
      " * time: 3.475705862045288\n",
      "    22    -6.223382e+01     5.597149e-03\n",
      " * time: 3.5859768390655518\n",
      "    23    -6.223981e+01     5.027866e-03\n",
      " * time: 3.7025208473205566\n",
      "    24    -6.224567e+01     5.066223e-03\n",
      " * time: 3.8118159770965576\n",
      "    25    -6.225097e+01     4.161003e-03\n",
      " * time: 3.9285359382629395\n",
      "    26    -6.225507e+01     3.270252e-03\n",
      " * time: 4.038965940475464\n",
      "    27    -6.225761e+01     2.928255e-03\n",
      " * time: 4.156574010848999\n",
      "    28    -6.225910e+01     1.985873e-03\n",
      " * time: 4.266187906265259\n",
      "    29    -6.225999e+01     1.617061e-03\n",
      " * time: 4.382989883422852\n",
      "    30    -6.226056e+01     1.374939e-03\n",
      " * time: 4.492308855056763\n",
      "    31    -6.226095e+01     1.169400e-03\n",
      " * time: 4.610679864883423\n",
      "    32    -6.226122e+01     1.072641e-03\n",
      " * time: 4.720868825912476\n",
      "    33    -6.226142e+01     8.062550e-04\n",
      " * time: 4.838181972503662\n",
      "    34    -6.226154e+01     5.434884e-04\n",
      " * time: 4.947932958602905\n",
      "    35    -6.226160e+01     3.807594e-04\n",
      " * time: 5.064273834228516\n",
      "    36    -6.226163e+01     3.095233e-04\n",
      " * time: 5.173417806625366\n",
      "    37    -6.226165e+01     2.329402e-04\n",
      " * time: 5.290495872497559\n",
      "    38    -6.226166e+01     1.748019e-04\n",
      " * time: 5.401157855987549\n",
      "    39    -6.226166e+01     1.051608e-04\n",
      " * time: 5.5195159912109375\n",
      "    40    -6.226166e+01     8.526379e-05\n",
      " * time: 5.630026817321777\n",
      "    41    -6.226166e+01     6.095064e-05\n",
      " * time: 5.749255895614624\n",
      "    42    -6.226167e+01     5.138584e-05\n",
      " * time: 5.858453989028931\n",
      "    43    -6.226167e+01     5.140369e-05\n",
      " * time: 5.976104974746704\n",
      "    44    -6.226167e+01     3.921681e-05\n",
      " * time: 6.085054874420166\n",
      "    45    -6.226167e+01     2.756791e-05\n",
      " * time: 6.201527833938599\n",
      "    46    -6.226167e+01     1.946172e-05\n",
      " * time: 6.310861825942993\n",
      "    47    -6.226167e+01     1.577814e-05\n",
      " * time: 6.427793025970459\n",
      "    48    -6.226167e+01     1.294709e-05\n",
      " * time: 6.537880897521973\n",
      "    49    -6.226167e+01     8.207574e-06\n",
      " * time: 6.656781911849976\n",
      "    50    -6.226167e+01     6.917211e-06\n",
      " * time: 6.766819000244141\n",
      "    51    -6.226167e+01     4.828817e-06\n",
      " * time: 6.883819818496704\n",
      "    52    -6.226167e+01     4.207707e-06\n",
      " * time: 6.9933860301971436\n"
     ]
    }
   ],
   "cell_type": "code",
   "source": [
    "model = model_LDA(lattice, atoms)\n",
    "basis = PlaneWaveBasis(model, 5)\n",
    "\n",
    "# Find the ground state using direct minimisation (always using SCF is boring ...)\n",
    "scfres = direct_minimization(basis, tol=1e-5);"
   ],
   "metadata": {},
   "execution_count": 3
  },
  {
   "outputs": [
    {
     "output_type": "execute_result",
     "data": {
      "text/plain": "Energy breakdown:\n    Kinetic             25.7671086\n    AtomicLocal         -18.8557768\n    AtomicNonlocal      14.8522700\n    Ewald               -67.1831486\n    PspCorrection       -2.3569765\n    Hartree             4.8485401 \n    Xc                  -19.3336831\n\n    total               -62.261666456203\n"
     },
     "metadata": {},
     "execution_count": 4
    }
   ],
   "cell_type": "code",
   "source": [
    "scfres.energies"
   ],
   "metadata": {},
   "execution_count": 4
  }
 ],
 "nbformat_minor": 3,
 "metadata": {
  "language_info": {
   "file_extension": ".jl",
   "mimetype": "application/julia",
   "name": "julia",
   "version": "1.3.1"
  },
  "kernelspec": {
   "name": "julia-1.3",
   "display_name": "Julia 1.3.1",
   "language": "julia"
  }
 },
 "nbformat": 4
}
