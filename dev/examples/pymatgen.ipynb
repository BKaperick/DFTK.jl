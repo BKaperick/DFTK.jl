{
 "cells": [
  {
   "cell_type": "markdown",
   "source": [
    "# Creating supercells with pymatgen\n",
    "\n",
    "The [Pymatgen](https://pymatgen.org/) python library allows to setup\n",
    "solid-state calculations using a flexible set of classes as well as an API\n",
    "to an online data base of structures. Its `Structure` and `Lattice`\n",
    "objects are directly supported by the DFTK `load_atoms` and `load_lattice`\n",
    "functions, such that DFTK may be readily used to run calculation on systems\n",
    "defined in pymatgen. Using the `pymatgen_structure` function a conversion\n",
    "from DFTK to pymatgen structures is also possible. In the following we\n",
    "use this to create a silicon supercell and find its LDA ground state\n",
    "using direct minimisation."
   ],
   "metadata": {}
  },
  {
   "cell_type": "markdown",
   "source": [
    "First we setup the silicon lattice in DFTK."
   ],
   "metadata": {}
  },
  {
   "outputs": [],
   "cell_type": "code",
   "source": [
    "using DFTK\n",
    "\n",
    "a = 10.263141334305942  # Lattice constant in Bohr\n",
    "lattice = a / 2 .* [[0 1 1.]; [1 0 1.]; [1 1 0.]]\n",
    "Si = ElementPsp(:Si, psp=load_psp(\"hgh/lda/Si-q4\"))\n",
    "atoms = [Si => [ones(3)/8, -ones(3)/8]];"
   ],
   "metadata": {},
   "execution_count": 1
  },
  {
   "cell_type": "markdown",
   "source": [
    "Next we make a `[2, 2, 2]` supercell using pymatgen"
   ],
   "metadata": {}
  },
  {
   "outputs": [],
   "cell_type": "code",
   "source": [
    "pystruct = pymatgen_structure(lattice, atoms)\n",
    "pystruct.make_supercell([2, 2, 2])\n",
    "lattice = load_lattice(pystruct)\n",
    "atoms = [Si => [s.frac_coords for s in pystruct.sites]];"
   ],
   "metadata": {},
   "execution_count": 2
  },
  {
   "cell_type": "markdown",
   "source": [
    "Setup an LDA model and discretize using\n",
    "a single kpoint and a small `Ecut` of 5 Hartree."
   ],
   "metadata": {}
  },
  {
   "outputs": [
    {
     "output_type": "execute_result",
     "data": {
      "text/plain": "PlaneWaveBasis (Ecut=5.0, 1 kpoints)"
     },
     "metadata": {},
     "execution_count": 3
    }
   ],
   "cell_type": "code",
   "source": [
    "model = model_LDA(lattice, atoms)\n",
    "basis = PlaneWaveBasis(model, 5, kgrid=(1, 1, 1))"
   ],
   "metadata": {},
   "execution_count": 3
  },
  {
   "cell_type": "markdown",
   "source": [
    "Find the ground state using direct minimisation (always using SCF is boring ...)"
   ],
   "metadata": {}
  },
  {
   "outputs": [
    {
     "name": "stdout",
     "output_type": "stream",
     "text": [
      "Iter     Function value   Gradient norm \n",
      "     0     1.131356e+02     1.748250e+00\n",
      " * time: 0.8554720878601074\n",
      "     1     1.018375e+01     1.049257e+00\n",
      " * time: 3.497441053390503\n",
      "     2    -1.187204e+01     1.281728e+00\n",
      " * time: 4.240815162658691\n",
      "     3    -3.419856e+01     1.040504e+00\n",
      " * time: 5.254616022109985\n",
      "     4    -4.768153e+01     7.784920e-01\n",
      " * time: 6.254950046539307\n",
      "     5    -5.706383e+01     2.058158e-01\n",
      " * time: 7.283754110336304\n",
      "     6    -5.983771e+01     1.398712e-01\n",
      " * time: 7.966370105743408\n",
      "     7    -6.089792e+01     5.465006e-02\n",
      " * time: 8.626597166061401\n",
      "     8    -6.132970e+01     5.901843e-02\n",
      " * time: 9.319226026535034\n",
      "     9    -6.160511e+01     4.186675e-02\n",
      " * time: 10.00453805923462\n",
      "    10    -6.182960e+01     3.060784e-02\n",
      " * time: 10.68055510520935\n",
      "    11    -6.200059e+01     2.012101e-02\n",
      " * time: 11.423896074295044\n",
      "    12    -6.206938e+01     1.736578e-02\n",
      " * time: 12.091700077056885\n",
      "    13    -6.212895e+01     1.404404e-02\n",
      " * time: 12.779893159866333\n",
      "    14    -6.215782e+01     1.198341e-02\n",
      " * time: 13.473008155822754\n",
      "    15    -6.218079e+01     1.053938e-02\n",
      " * time: 14.15873098373413\n",
      "    16    -6.219358e+01     9.041369e-03\n",
      " * time: 14.861533164978027\n",
      "    17    -6.220378e+01     8.381769e-03\n",
      " * time: 15.566208124160767\n",
      "    18    -6.221172e+01     7.844932e-03\n",
      " * time: 16.27836012840271\n",
      "    19    -6.221773e+01     6.658316e-03\n",
      " * time: 16.9936580657959\n",
      "    20    -6.222292e+01     7.029781e-03\n",
      " * time: 17.673840045928955\n",
      "    21    -6.222785e+01     6.481363e-03\n",
      " * time: 18.35768699645996\n",
      "    22    -6.223313e+01     6.012833e-03\n",
      " * time: 19.040942192077637\n",
      "    23    -6.223920e+01     6.385988e-03\n",
      " * time: 19.736464977264404\n",
      "    24    -6.224547e+01     5.561115e-03\n",
      " * time: 20.440078020095825\n",
      "    25    -6.225091e+01     4.998369e-03\n",
      " * time: 21.09258198738098\n",
      "    26    -6.225501e+01     4.853351e-03\n",
      " * time: 21.800563097000122\n",
      "    27    -6.225756e+01     3.591035e-03\n",
      " * time: 22.48021411895752\n",
      "    28    -6.225908e+01     2.743250e-03\n",
      " * time: 23.151008129119873\n",
      "    29    -6.226001e+01     2.011891e-03\n",
      " * time: 23.81703209877014\n",
      "    30    -6.226063e+01     1.930569e-03\n",
      " * time: 24.500920057296753\n",
      "    31    -6.226101e+01     1.261898e-03\n",
      " * time: 25.214395999908447\n",
      "    32    -6.226126e+01     1.066906e-03\n",
      " * time: 25.938367128372192\n",
      "    33    -6.226144e+01     6.149250e-04\n",
      " * time: 26.61107611656189\n",
      "    34    -6.226156e+01     5.771561e-04\n",
      " * time: 27.311950206756592\n",
      "    35    -6.226161e+01     4.335368e-04\n",
      " * time: 27.967388153076172\n",
      "    36    -6.226164e+01     3.084413e-04\n",
      " * time: 28.64063310623169\n",
      "    37    -6.226165e+01     2.341378e-04\n",
      " * time: 29.349064111709595\n",
      "    38    -6.226166e+01     1.702330e-04\n",
      " * time: 30.03011417388916\n",
      "    39    -6.226166e+01     1.025949e-04\n",
      " * time: 30.73520517349243\n",
      "    40    -6.226166e+01     8.472521e-05\n",
      " * time: 31.398949146270752\n",
      "    41    -6.226166e+01     7.586990e-05\n",
      " * time: 32.08122205734253\n",
      "    42    -6.226166e+01     6.404773e-05\n",
      " * time: 32.743956089019775\n",
      "    43    -6.226167e+01     5.469787e-05\n",
      " * time: 33.419103145599365\n",
      "    44    -6.226167e+01     4.606213e-05\n",
      " * time: 34.08326005935669\n",
      "    45    -6.226167e+01     2.832346e-05\n",
      " * time: 34.76755714416504\n",
      "    46    -6.226167e+01     2.001753e-05\n",
      " * time: 35.43330001831055\n",
      "    47    -6.226167e+01     1.531644e-05\n",
      " * time: 36.109145164489746\n",
      "    48    -6.226167e+01     1.612869e-05\n",
      " * time: 36.78599405288696\n",
      "    49    -6.226167e+01     1.043567e-05\n",
      " * time: 37.465490102767944\n",
      "    50    -6.226167e+01     8.412149e-06\n",
      " * time: 38.144989013671875\n",
      "    51    -6.226167e+01     8.054861e-06\n",
      " * time: 38.8269829750061\n",
      "    52    -6.226167e+01     6.279047e-06\n",
      " * time: 39.52002716064453\n",
      "    53    -6.226167e+01     4.592629e-06\n",
      " * time: 40.2025351524353\n",
      "    54    -6.226167e+01     3.805973e-06\n",
      " * time: 40.898329973220825\n",
      "    55    -6.226167e+01     2.929023e-06\n",
      " * time: 41.57055401802063\n",
      "    56    -6.226167e+01     2.102669e-06\n",
      " * time: 42.25802516937256\n"
     ]
    }
   ],
   "cell_type": "code",
   "source": [
    "scfres = direct_minimization(basis, tol=1e-5);"
   ],
   "metadata": {},
   "execution_count": 4
  },
  {
   "outputs": [
    {
     "output_type": "execute_result",
     "data": {
      "text/plain": "Energy breakdown:\n    Kinetic             25.7671066\n    AtomicLocal         -18.8557663\n    AtomicNonlocal      14.8522635\n    Ewald               -67.1831486\n    PspCorrection       -2.3569765\n    Hartree             4.8485367 \n    Xc                  -19.3336819\n\n    total               -62.261666462208\n"
     },
     "metadata": {},
     "execution_count": 5
    }
   ],
   "cell_type": "code",
   "source": [
    "scfres.energies"
   ],
   "metadata": {},
   "execution_count": 5
  }
 ],
 "nbformat_minor": 3,
 "metadata": {
  "language_info": {
   "file_extension": ".jl",
   "mimetype": "application/julia",
   "name": "julia",
   "version": "1.6.1"
  },
  "kernelspec": {
   "name": "julia-1.6",
   "display_name": "Julia 1.6.1",
   "language": "julia"
  }
 },
 "nbformat": 4
}
