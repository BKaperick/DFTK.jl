{
 "cells": [
  {
   "cell_type": "markdown",
   "source": [
    "# Creating supercells with pymatgen\n",
    "\n",
    "The [Pymatgen](https://pymatgen.org/) python library allows to setup\n",
    "solid-state calculations using a flexible set of classes as well as an API\n",
    "to an online data base of structures. Its `Structure` and `Lattice`\n",
    "objects are directly supported by the DFTK `load_atoms` and `load_lattice`\n",
    "functions, such that DFTK may be readily used to run calculation on systems\n",
    "defined in pymatgen. Using the `pymatgen_structure` function a conversion\n",
    "from DFTK to pymatgen structures is also possible. In the following we\n",
    "use this to create a silicon supercell and find its LDA ground state\n",
    "using direct minimisation."
   ],
   "metadata": {}
  },
  {
   "cell_type": "markdown",
   "source": [
    "First we setup the silicon lattice in DFTK."
   ],
   "metadata": {}
  },
  {
   "outputs": [],
   "cell_type": "code",
   "source": [
    "using DFTK\n",
    "\n",
    "a = 10.263141334305942  # Lattice constant in Bohr\n",
    "lattice = a / 2 .* [[0 1 1.]; [1 0 1.]; [1 1 0.]]\n",
    "Si = ElementPsp(:Si, psp=load_psp(\"hgh/lda/Si-q4\"))\n",
    "atoms = [Si => [ones(3)/8, -ones(3)/8]];"
   ],
   "metadata": {},
   "execution_count": 1
  },
  {
   "cell_type": "markdown",
   "source": [
    "Next we make a `[2, 2, 2]` supercell using pymatgen"
   ],
   "metadata": {}
  },
  {
   "outputs": [],
   "cell_type": "code",
   "source": [
    "pystruct = pymatgen_structure(lattice, atoms)\n",
    "pystruct.make_supercell([2, 2, 2])\n",
    "lattice = load_lattice(pystruct)\n",
    "atoms = [Si => [s.frac_coords for s in pystruct.sites]];"
   ],
   "metadata": {},
   "execution_count": 2
  },
  {
   "cell_type": "markdown",
   "source": [
    "Setup an LDA model and discretize using\n",
    "a single kpoint and a small `Ecut` of 5 Hartree.\n",
    "Notice that `PlaneWaveBasis` defaults to just using the ``Γ``-point\n",
    "if no ``k``-point options are provided."
   ],
   "metadata": {}
  },
  {
   "outputs": [
    {
     "name": "stdout",
     "output_type": "stream",
     "text": [
      "Iter     Function value   Gradient norm \n",
      "     0     1.131046e+02     1.582444e+00\n",
      " * time: 0.08885979652404785\n",
      "     1     1.058032e+01     8.903073e-01\n",
      " * time: 0.9146888256072998\n",
      "     2    -1.156324e+01     1.060962e+00\n",
      " * time: 1.0458118915557861\n",
      "     3    -3.416504e+01     7.439072e-01\n",
      " * time: 1.2106029987335205\n",
      "     4    -4.767007e+01     6.061275e-01\n",
      " * time: 1.3653128147125244\n",
      "     5    -5.687900e+01     2.158718e-01\n",
      " * time: 1.5126619338989258\n",
      "     6    -5.977996e+01     1.444664e-01\n",
      " * time: 1.6232099533081055\n",
      "     7    -6.094448e+01     5.073819e-02\n",
      " * time: 1.7326748371124268\n",
      "     8    -6.138321e+01     6.294586e-02\n",
      " * time: 1.8480658531188965\n",
      "     9    -6.165207e+01     4.435873e-02\n",
      " * time: 1.9576029777526855\n",
      "    10    -6.185917e+01     3.120079e-02\n",
      " * time: 2.076235771179199\n",
      "    11    -6.201414e+01     2.402019e-02\n",
      " * time: 2.18849778175354\n",
      "    12    -6.207919e+01     1.906550e-02\n",
      " * time: 2.306353807449341\n",
      "    13    -6.213801e+01     1.472747e-02\n",
      " * time: 2.4196629524230957\n",
      "    14    -6.216665e+01     1.303564e-02\n",
      " * time: 2.5399627685546875\n",
      "    15    -6.219102e+01     1.306973e-02\n",
      " * time: 2.6555018424987793\n",
      "    16    -6.220589e+01     8.603138e-03\n",
      " * time: 2.7763829231262207\n",
      "    17    -6.221835e+01     7.202424e-03\n",
      " * time: 2.8971078395843506\n",
      "    18    -6.222813e+01     6.360340e-03\n",
      " * time: 3.0244247913360596\n",
      "    19    -6.223653e+01     5.897019e-03\n",
      " * time: 3.1355350017547607\n",
      "    20    -6.224334e+01     6.171991e-03\n",
      " * time: 3.250929832458496\n",
      "    21    -6.224935e+01     5.032362e-03\n",
      " * time: 3.3603339195251465\n",
      "    22    -6.225436e+01     4.801397e-03\n",
      " * time: 3.476409912109375\n",
      "    23    -6.225780e+01     3.036579e-03\n",
      " * time: 3.5877768993377686\n",
      "    24    -6.225965e+01     2.392170e-03\n",
      " * time: 3.704103946685791\n",
      "    25    -6.226058e+01     2.133490e-03\n",
      " * time: 3.814408779144287\n",
      "    26    -6.226103e+01     1.480425e-03\n",
      " * time: 3.9305028915405273\n",
      "    27    -6.226126e+01     9.511014e-04\n",
      " * time: 4.041766881942749\n",
      "    28    -6.226140e+01     9.141384e-04\n",
      " * time: 4.159833908081055\n",
      "    29    -6.226148e+01     6.854185e-04\n",
      " * time: 4.270172834396362\n",
      "    30    -6.226154e+01     5.951408e-04\n",
      " * time: 4.404743909835815\n",
      "    31    -6.226159e+01     4.378854e-04\n",
      " * time: 4.514714002609253\n",
      "    32    -6.226162e+01     3.460650e-04\n",
      " * time: 4.625783920288086\n",
      "    33    -6.226164e+01     2.586845e-04\n",
      " * time: 4.743001937866211\n",
      "    34    -6.226165e+01     2.520269e-04\n",
      " * time: 4.854204893112183\n",
      "    35    -6.226166e+01     1.395228e-04\n",
      " * time: 4.971466779708862\n",
      "    36    -6.226166e+01     9.612899e-05\n",
      " * time: 5.083005905151367\n",
      "    37    -6.226166e+01     7.281486e-05\n",
      " * time: 5.200878858566284\n",
      "    38    -6.226167e+01     5.742271e-05\n",
      " * time: 5.311650991439819\n",
      "    39    -6.226167e+01     4.712909e-05\n",
      " * time: 5.430334806442261\n",
      "    40    -6.226167e+01     4.420378e-05\n",
      " * time: 5.540804862976074\n",
      "    41    -6.226167e+01     2.920027e-05\n",
      " * time: 5.658221960067749\n",
      "    42    -6.226167e+01     2.254117e-05\n",
      " * time: 5.76887583732605\n",
      "    43    -6.226167e+01     1.737972e-05\n",
      " * time: 5.885422945022583\n",
      "    44    -6.226167e+01     1.385571e-05\n",
      " * time: 5.995872974395752\n",
      "    45    -6.226167e+01     1.261955e-05\n",
      " * time: 6.1177778244018555\n",
      "    46    -6.226167e+01     9.156245e-06\n",
      " * time: 6.2288618087768555\n",
      "    47    -6.226167e+01     6.831629e-06\n",
      " * time: 6.348951816558838\n",
      "    48    -6.226167e+01     3.843022e-06\n",
      " * time: 6.462610960006714\n",
      "    49    -6.226167e+01     3.027012e-06\n",
      " * time: 6.582253932952881\n"
     ]
    }
   ],
   "cell_type": "code",
   "source": [
    "model = model_LDA(lattice, atoms)\n",
    "basis = PlaneWaveBasis(model, 5)\n",
    "\n",
    "# Find the ground state using direct minimisation (always using SCF is boring ...)\n",
    "scfres = direct_minimization(basis, tol=1e-5);"
   ],
   "metadata": {},
   "execution_count": 3
  },
  {
   "outputs": [
    {
     "output_type": "execute_result",
     "data": {
      "text/plain": "Energy breakdown:\n    Kinetic             25.7671067\n    AtomicLocal         -18.8557706\n    AtomicNonlocal      14.8522672\n    Ewald               -67.1831486\n    PspCorrection       -2.3569765\n    Hartree             4.8485376 \n    Xc                  -19.3336821\n\n    total               -62.261666460849\n"
     },
     "metadata": {},
     "execution_count": 4
    }
   ],
   "cell_type": "code",
   "source": [
    "scfres.energies"
   ],
   "metadata": {},
   "execution_count": 4
  }
 ],
 "nbformat_minor": 3,
 "metadata": {
  "language_info": {
   "file_extension": ".jl",
   "mimetype": "application/julia",
   "name": "julia",
   "version": "1.3.1"
  },
  "kernelspec": {
   "name": "julia-1.3",
   "display_name": "Julia 1.3.1",
   "language": "julia"
  }
 },
 "nbformat": 4
}
