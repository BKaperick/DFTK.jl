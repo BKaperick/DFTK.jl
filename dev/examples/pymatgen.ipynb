{
 "cells": [
  {
   "cell_type": "markdown",
   "source": [
    "# Creating supercells with pymatgen\n",
    "\n",
    "The [Pymatgen](https://pymatgen.org/) python library allows to setup\n",
    "solid-state calculations using a flexible set of classes as well as an API\n",
    "to an online data base of structures. Its `Structure` and `Lattice`\n",
    "objects are directly supported by the DFTK `load_atoms` and `load_lattice`\n",
    "functions, such that DFTK may be readily used to run calculation on systems\n",
    "defined in pymatgen. Using the `pymatgen_structure` function a conversion\n",
    "from DFTK to pymatgen structures is also possible. In the following we\n",
    "use this to create a silicon supercell and find its LDA ground state\n",
    "using direct minimisation."
   ],
   "metadata": {}
  },
  {
   "cell_type": "markdown",
   "source": [
    "First we setup the silicon lattice in DFTK."
   ],
   "metadata": {}
  },
  {
   "outputs": [],
   "cell_type": "code",
   "source": [
    "using DFTK\n",
    "\n",
    "a = 10.263141334305942  # Lattice constant in Bohr\n",
    "lattice = a / 2 .* [[0 1 1.]; [1 0 1.]; [1 1 0.]]\n",
    "Si = ElementPsp(:Si, psp=load_psp(\"hgh/lda/Si-q4\"))\n",
    "atoms = [Si => [ones(3)/8, -ones(3)/8]];"
   ],
   "metadata": {},
   "execution_count": 1
  },
  {
   "cell_type": "markdown",
   "source": [
    "Next we make a `[2, 2, 2]` supercell using pymatgen"
   ],
   "metadata": {}
  },
  {
   "outputs": [],
   "cell_type": "code",
   "source": [
    "pystruct = pymatgen_structure(lattice, atoms)\n",
    "pystruct.make_supercell([2, 2, 2])\n",
    "lattice = load_lattice(pystruct)\n",
    "atoms = [Si => [s.frac_coords for s in pystruct.sites]];"
   ],
   "metadata": {},
   "execution_count": 2
  },
  {
   "cell_type": "markdown",
   "source": [
    "Setup an LDA model and discretize using\n",
    "a single kpoint and a small `Ecut` of 5 Hartree."
   ],
   "metadata": {}
  },
  {
   "outputs": [
    {
     "output_type": "execute_result",
     "data": {
      "text/plain": "PlaneWaveBasis (Ecut=5.0, 1 kpoints)"
     },
     "metadata": {},
     "execution_count": 3
    }
   ],
   "cell_type": "code",
   "source": [
    "model = model_LDA(lattice, atoms)\n",
    "basis = PlaneWaveBasis(model, 5, kgrid=(1, 1, 1))"
   ],
   "metadata": {},
   "execution_count": 3
  },
  {
   "cell_type": "markdown",
   "source": [
    "Find the ground state using direct minimisation (always using SCF is boring ...)"
   ],
   "metadata": {}
  },
  {
   "outputs": [
    {
     "name": "stdout",
     "output_type": "stream",
     "text": [
      "Iter     Function value   Gradient norm \n",
      "     0     1.117817e+02     1.792349e+00\n",
      " * time: 0.3033459186553955\n",
      "     1     1.042619e+01     1.214513e+00\n",
      " * time: 1.9471888542175293\n",
      "     2    -1.198949e+01     1.299100e+00\n",
      " * time: 2.50280499458313\n",
      "     3    -3.408437e+01     1.111515e+00\n",
      " * time: 3.6065449714660645\n",
      "     4    -4.761871e+01     8.242168e-01\n",
      " * time: 4.415462970733643\n",
      "     5    -5.678143e+01     3.053850e-01\n",
      " * time: 5.235323905944824\n",
      "     6    -5.963106e+01     2.016425e-01\n",
      " * time: 5.966808080673218\n",
      "     7    -6.078083e+01     6.287355e-02\n",
      " * time: 6.515851974487305\n",
      "     8    -6.126370e+01     7.415019e-02\n",
      " * time: 7.06993293762207\n",
      "     9    -6.152894e+01     5.523532e-02\n",
      " * time: 7.6248779296875\n",
      "    10    -6.174504e+01     3.721089e-02\n",
      " * time: 8.171859979629517\n",
      "    11    -6.191352e+01     2.491940e-02\n",
      " * time: 8.724031925201416\n",
      "    12    -6.201431e+01     2.045228e-02\n",
      " * time: 9.269917964935303\n",
      "    13    -6.207864e+01     1.504394e-02\n",
      " * time: 9.816552877426147\n",
      "    14    -6.212401e+01     1.766539e-02\n",
      " * time: 10.369221925735474\n",
      "    15    -6.214812e+01     1.201467e-02\n",
      " * time: 10.915422916412354\n",
      "    16    -6.216417e+01     9.480366e-03\n",
      " * time: 11.461689949035645\n",
      "    17    -6.217648e+01     8.555056e-03\n",
      " * time: 12.012220859527588\n",
      "    18    -6.218574e+01     7.492741e-03\n",
      " * time: 12.558990955352783\n",
      "    19    -6.219365e+01     8.805087e-03\n",
      " * time: 13.10539197921753\n",
      "    20    -6.220127e+01     8.759125e-03\n",
      " * time: 13.656539916992188\n",
      "    21    -6.220948e+01     8.323082e-03\n",
      " * time: 14.203155994415283\n",
      "    22    -6.221838e+01     8.511007e-03\n",
      " * time: 14.755044937133789\n",
      "    23    -6.222784e+01     7.803796e-03\n",
      " * time: 15.306036949157715\n",
      "    24    -6.223699e+01     6.948824e-03\n",
      " * time: 15.85320496559143\n",
      "    25    -6.224429e+01     5.744871e-03\n",
      " * time: 16.403790950775146\n",
      "    26    -6.224938e+01     5.316579e-03\n",
      " * time: 16.94928002357483\n",
      "    27    -6.225273e+01     4.232545e-03\n",
      " * time: 17.495418071746826\n",
      "    28    -6.225510e+01     3.413847e-03\n",
      " * time: 18.04626989364624\n",
      "    29    -6.225703e+01     2.962259e-03\n",
      " * time: 18.592472076416016\n",
      "    30    -6.225867e+01     2.391659e-03\n",
      " * time: 19.139420986175537\n",
      "    31    -6.225984e+01     2.218392e-03\n",
      " * time: 19.690401077270508\n",
      "    32    -6.226062e+01     1.640839e-03\n",
      " * time: 20.23696994781494\n",
      "    33    -6.226111e+01     1.222727e-03\n",
      " * time: 20.78781294822693\n",
      "    34    -6.226140e+01     8.512966e-04\n",
      " * time: 21.33421301841736\n",
      "    35    -6.226154e+01     6.928893e-04\n",
      " * time: 21.881062030792236\n",
      "    36    -6.226161e+01     3.691130e-04\n",
      " * time: 22.431550979614258\n",
      "    37    -6.226163e+01     2.998102e-04\n",
      " * time: 22.977731943130493\n",
      "    38    -6.226165e+01     2.055448e-04\n",
      " * time: 23.523814916610718\n",
      "    39    -6.226165e+01     1.886059e-04\n",
      " * time: 24.0740909576416\n",
      "    40    -6.226166e+01     1.704298e-04\n",
      " * time: 24.620080947875977\n",
      "    41    -6.226166e+01     1.403643e-04\n",
      " * time: 25.175498962402344\n",
      "    42    -6.226166e+01     1.105254e-04\n",
      " * time: 25.726369857788086\n",
      "    43    -6.226166e+01     9.031499e-05\n",
      " * time: 26.271944999694824\n",
      "    44    -6.226167e+01     7.308570e-05\n",
      " * time: 26.817533016204834\n",
      "    45    -6.226167e+01     5.122380e-05\n",
      " * time: 27.36790108680725\n",
      "    46    -6.226167e+01     3.447282e-05\n",
      " * time: 27.913328886032104\n",
      "    47    -6.226167e+01     2.657222e-05\n",
      " * time: 28.46508002281189\n",
      "    48    -6.226167e+01     2.047701e-05\n",
      " * time: 29.01110291481018\n",
      "    49    -6.226167e+01     1.261485e-05\n",
      " * time: 29.557066917419434\n",
      "    50    -6.226167e+01     9.539141e-06\n",
      " * time: 30.108027935028076\n",
      "    51    -6.226167e+01     7.421458e-06\n",
      " * time: 30.654403924942017\n",
      "    52    -6.226167e+01     6.045414e-06\n",
      " * time: 31.200116872787476\n",
      "    53    -6.226167e+01     4.897420e-06\n",
      " * time: 31.750312089920044\n",
      "    54    -6.226167e+01     4.038018e-06\n",
      " * time: 32.29607105255127\n"
     ]
    }
   ],
   "cell_type": "code",
   "source": [
    "scfres = direct_minimization(basis, tol=1e-5);"
   ],
   "metadata": {},
   "execution_count": 4
  },
  {
   "outputs": [
    {
     "output_type": "execute_result",
     "data": {
      "text/plain": "Energy breakdown:\n    Kinetic             25.7671078\n    AtomicLocal         -18.8557717\n    AtomicNonlocal      14.8522665\n    Ewald               -67.1831486\n    PspCorrection       -2.3569765\n    Hartree             4.8485387 \n    Xc                  -19.3336826\n\n    total               -62.261666454035\n"
     },
     "metadata": {},
     "execution_count": 5
    }
   ],
   "cell_type": "code",
   "source": [
    "scfres.energies"
   ],
   "metadata": {},
   "execution_count": 5
  }
 ],
 "nbformat_minor": 3,
 "metadata": {
  "language_info": {
   "file_extension": ".jl",
   "mimetype": "application/julia",
   "name": "julia",
   "version": "1.5.3"
  },
  "kernelspec": {
   "name": "julia-1.5",
   "display_name": "Julia 1.5.3",
   "language": "julia"
  }
 },
 "nbformat": 4
}
