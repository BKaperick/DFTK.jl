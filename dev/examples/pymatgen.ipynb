{
 "cells": [
  {
   "cell_type": "markdown",
   "source": [
    "# Creating supercells with pymatgen\n",
    "\n",
    "The [Pymatgen](https://pymatgen.org/) python library allows to setup\n",
    "solid-state calculations using a flexible set of classes as well as an API\n",
    "to an online data base of structures. Its `Structure` and `Lattice`\n",
    "objects are directly supported by the DFTK `load_atoms` and `load_lattice`\n",
    "functions, such that DFTK may be readily used to run calculation on systems\n",
    "defined in pymatgen. Using the `pymatgen_structure` function a conversion\n",
    "from DFTK to pymatgen structures is also possible. In the following we\n",
    "use this to create a silicon supercell and find its LDA ground state\n",
    "using direct minimisation."
   ],
   "metadata": {}
  },
  {
   "cell_type": "markdown",
   "source": [
    "First we setup the silicon lattice in DFTK."
   ],
   "metadata": {}
  },
  {
   "outputs": [],
   "cell_type": "code",
   "source": [
    "using DFTK\n",
    "\n",
    "a = 10.263141334305942  # Lattice constant in Bohr\n",
    "lattice = a / 2 .* [[0 1 1.]; [1 0 1.]; [1 1 0.]]\n",
    "Si = ElementPsp(:Si, psp=load_psp(\"hgh/lda/Si-q4\"))\n",
    "atoms = [Si => [ones(3)/8, -ones(3)/8]];"
   ],
   "metadata": {},
   "execution_count": 1
  },
  {
   "cell_type": "markdown",
   "source": [
    "Next we make a `[2, 2, 2]` supercell using pymatgen"
   ],
   "metadata": {}
  },
  {
   "outputs": [],
   "cell_type": "code",
   "source": [
    "pystruct = pymatgen_structure(lattice, atoms)\n",
    "pystruct.make_supercell([2, 2, 2])\n",
    "lattice = load_lattice(pystruct)\n",
    "atoms = [Si => [s.frac_coords for s in pystruct.sites]];"
   ],
   "metadata": {},
   "execution_count": 2
  },
  {
   "cell_type": "markdown",
   "source": [
    "Setup an LDA model and discretize using\n",
    "a single kpoint and a small `Ecut` of 5 Hartree."
   ],
   "metadata": {}
  },
  {
   "outputs": [
    {
     "output_type": "execute_result",
     "data": {
      "text/plain": "PlaneWaveBasis (Ecut=5.0, 1 kpoints)"
     },
     "metadata": {},
     "execution_count": 3
    }
   ],
   "cell_type": "code",
   "source": [
    "model = model_LDA(lattice, atoms)\n",
    "basis = PlaneWaveBasis(model, 5, kgrid=(1, 1, 1))"
   ],
   "metadata": {},
   "execution_count": 3
  },
  {
   "cell_type": "markdown",
   "source": [
    "Find the ground state using direct minimisation (always using SCF is boring ...)"
   ],
   "metadata": {}
  },
  {
   "outputs": [
    {
     "name": "stdout",
     "output_type": "stream",
     "text": [
      "Iter     Function value   Gradient norm \n",
      "     0     1.124973e+02     1.721779e+00\n",
      " * time: 0.12695002555847168\n",
      "     1     1.106770e+01     7.840131e-01\n",
      " * time: 1.3303358554840088\n",
      "     2    -1.159227e+01     9.450275e-01\n",
      " * time: 1.4795889854431152\n",
      "     3    -3.373532e+01     7.207410e-01\n",
      " * time: 1.6194438934326172\n",
      "     4    -4.733251e+01     5.947558e-01\n",
      " * time: 1.7752039432525635\n",
      "     5    -5.689242e+01     2.374373e-01\n",
      " * time: 1.9240970611572266\n",
      "     6    -5.977812e+01     2.097292e-01\n",
      " * time: 2.0403048992156982\n",
      "     7    -6.091933e+01     8.463507e-02\n",
      " * time: 2.1494719982147217\n",
      "     8    -6.141150e+01     3.787424e-02\n",
      " * time: 2.271008014678955\n",
      "     9    -6.169164e+01     3.843542e-02\n",
      " * time: 2.3801119327545166\n",
      "    10    -6.186685e+01     2.884645e-02\n",
      " * time: 2.496212959289551\n",
      "    11    -6.198345e+01     2.614652e-02\n",
      " * time: 2.612082004547119\n",
      "    12    -6.206882e+01     1.545582e-02\n",
      " * time: 2.720974922180176\n",
      "    13    -6.212725e+01     1.315479e-02\n",
      " * time: 2.8385589122772217\n",
      "    14    -6.215598e+01     1.113030e-02\n",
      " * time: 2.9468069076538086\n",
      "    15    -6.217908e+01     9.092861e-03\n",
      " * time: 3.0637118816375732\n",
      "    16    -6.219070e+01     7.607398e-03\n",
      " * time: 3.1715240478515625\n",
      "    17    -6.219984e+01     5.968546e-03\n",
      " * time: 3.2904200553894043\n",
      "    18    -6.220767e+01     5.893034e-03\n",
      " * time: 3.4268040657043457\n",
      "    19    -6.221415e+01     5.694971e-03\n",
      " * time: 3.5373079776763916\n",
      "    20    -6.222053e+01     6.000078e-03\n",
      " * time: 3.6534688472747803\n",
      "    21    -6.222700e+01     5.954351e-03\n",
      " * time: 3.7636568546295166\n",
      "    22    -6.223356e+01     5.266094e-03\n",
      " * time: 3.8794820308685303\n",
      "    23    -6.223977e+01     5.179661e-03\n",
      " * time: 3.988294839859009\n",
      "    24    -6.224523e+01     5.120450e-03\n",
      " * time: 4.105654954910278\n",
      "    25    -6.224993e+01     4.580907e-03\n",
      " * time: 4.222692966461182\n",
      "    26    -6.225359e+01     4.091468e-03\n",
      " * time: 4.331268072128296\n",
      "    27    -6.225627e+01     3.161261e-03\n",
      " * time: 4.448415040969849\n",
      "    28    -6.225814e+01     2.743248e-03\n",
      " * time: 4.556630849838257\n",
      "    29    -6.225940e+01     2.460865e-03\n",
      " * time: 4.67217493057251\n",
      "    30    -6.226026e+01     2.299683e-03\n",
      " * time: 4.781138896942139\n",
      "    31    -6.226085e+01     1.509622e-03\n",
      " * time: 4.897228002548218\n",
      "    32    -6.226122e+01     1.057053e-03\n",
      " * time: 5.0139570236206055\n",
      "    33    -6.226144e+01     7.388692e-04\n",
      " * time: 5.123225927352905\n",
      "    34    -6.226156e+01     4.997333e-04\n",
      " * time: 5.2376909255981445\n",
      "    35    -6.226161e+01     3.481050e-04\n",
      " * time: 5.346648931503296\n",
      "    36    -6.226164e+01     2.473227e-04\n",
      " * time: 5.462467908859253\n",
      "    37    -6.226165e+01     1.895315e-04\n",
      " * time: 5.571094036102295\n",
      "    38    -6.226165e+01     1.639163e-04\n",
      " * time: 5.6883580684661865\n",
      "    39    -6.226166e+01     1.313326e-04\n",
      " * time: 5.7978198528289795\n",
      "    40    -6.226166e+01     1.144704e-04\n",
      " * time: 5.91402006149292\n",
      "    41    -6.226166e+01     9.506455e-05\n",
      " * time: 6.031064033508301\n",
      "    42    -6.226166e+01     7.482937e-05\n",
      " * time: 6.1381330490112305\n",
      "    43    -6.226167e+01     6.107938e-05\n",
      " * time: 6.254870891571045\n",
      "    44    -6.226167e+01     4.066559e-05\n",
      " * time: 6.361418962478638\n",
      "    45    -6.226167e+01     2.837985e-05\n",
      " * time: 6.4749510288238525\n",
      "    46    -6.226167e+01     1.810841e-05\n",
      " * time: 6.582020998001099\n",
      "    47    -6.226167e+01     1.364758e-05\n",
      " * time: 6.696847915649414\n",
      "    48    -6.226167e+01     9.509327e-06\n",
      " * time: 6.812358856201172\n",
      "    49    -6.226167e+01     6.753885e-06\n",
      " * time: 6.920037031173706\n",
      "    50    -6.226167e+01     5.940171e-06\n",
      " * time: 7.034258842468262\n",
      "    51    -6.226167e+01     4.826392e-06\n",
      " * time: 7.142216920852661\n",
      "    52    -6.226167e+01     3.585726e-06\n",
      " * time: 7.256962060928345\n"
     ]
    }
   ],
   "cell_type": "code",
   "source": [
    "scfres = direct_minimization(basis, tol=1e-5);"
   ],
   "metadata": {},
   "execution_count": 4
  },
  {
   "outputs": [
    {
     "output_type": "execute_result",
     "data": {
      "text/plain": "Energy breakdown:\n    Kinetic             25.7671075\n    AtomicLocal         -18.8557752\n    AtomicNonlocal      14.8522700\n    Ewald               -67.1831486\n    PspCorrection       -2.3569765\n    Hartree             4.8485390 \n    Xc                  -19.3336827\n\n    total               -62.261666456170\n"
     },
     "metadata": {},
     "execution_count": 5
    }
   ],
   "cell_type": "code",
   "source": [
    "scfres.energies"
   ],
   "metadata": {},
   "execution_count": 5
  }
 ],
 "nbformat_minor": 3,
 "metadata": {
  "language_info": {
   "file_extension": ".jl",
   "mimetype": "application/julia",
   "name": "julia",
   "version": "1.4.2"
  },
  "kernelspec": {
   "name": "julia-1.4",
   "display_name": "Julia 1.4.2",
   "language": "julia"
  }
 },
 "nbformat": 4
}
