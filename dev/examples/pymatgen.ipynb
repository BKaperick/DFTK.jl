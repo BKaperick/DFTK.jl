{
 "cells": [
  {
   "cell_type": "markdown",
   "source": [
    "# Creating supercells with pymatgen\n",
    "\n",
    "The [Pymatgen](https://pymatgen.org/) python library allows to setup\n",
    "solid-state calculations using a flexible set of classes as well as an API\n",
    "to an online data base of structures. Its `Structure` and `Lattice`\n",
    "objects are directly supported by the DFTK `load_atoms` and `load_lattice`\n",
    "functions, such that DFTK may be readily used to run calculation on systems\n",
    "defined in pymatgen. Using the `pymatgen_structure` function a conversion\n",
    "from DFTK to pymatgen structures is also possible. In the following we\n",
    "use this to create a silicon supercell and find its LDA ground state\n",
    "using direct minimisation."
   ],
   "metadata": {}
  },
  {
   "cell_type": "markdown",
   "source": [
    "First we setup the silicon lattice in DFTK."
   ],
   "metadata": {}
  },
  {
   "outputs": [],
   "cell_type": "code",
   "source": [
    "using DFTK\n",
    "\n",
    "a = 10.263141334305942  # Lattice constant in Bohr\n",
    "lattice = a / 2 .* [[0 1 1.]; [1 0 1.]; [1 1 0.]]\n",
    "Si = ElementPsp(:Si, psp=load_psp(\"hgh/lda/Si-q4\"))\n",
    "atoms = [Si => [ones(3)/8, -ones(3)/8]];"
   ],
   "metadata": {},
   "execution_count": 1
  },
  {
   "cell_type": "markdown",
   "source": [
    "Next we make a `[2, 2, 2]` supercell using pymatgen"
   ],
   "metadata": {}
  },
  {
   "outputs": [],
   "cell_type": "code",
   "source": [
    "pystruct = pymatgen_structure(lattice, atoms)\n",
    "pystruct.make_supercell([2, 2, 2])\n",
    "lattice = load_lattice(pystruct)\n",
    "atoms = [Si => [s.frac_coords for s in pystruct.sites]];"
   ],
   "metadata": {},
   "execution_count": 2
  },
  {
   "cell_type": "markdown",
   "source": [
    "Setup an LDA model and discretize using\n",
    "a single kpoint and a small `Ecut` of 5 Hartree.\n",
    "Notice that `PlaneWaveBasis` defaults to just using the ``Γ``-point\n",
    "if no ``k``-point options are provided."
   ],
   "metadata": {}
  },
  {
   "outputs": [
    {
     "output_type": "execute_result",
     "data": {
      "text/plain": "PlaneWaveBasis (Ecut=5.0, 1 kpoints)"
     },
     "metadata": {},
     "execution_count": 3
    }
   ],
   "cell_type": "code",
   "source": [
    "model = model_LDA(lattice, atoms)\n",
    "basis = PlaneWaveBasis(model, 5)"
   ],
   "metadata": {},
   "execution_count": 3
  },
  {
   "cell_type": "markdown",
   "source": [
    "Find the ground state using direct minimisation (always using SCF is boring ...)"
   ],
   "metadata": {}
  },
  {
   "outputs": [
    {
     "name": "stdout",
     "output_type": "stream",
     "text": [
      "Iter     Function value   Gradient norm \n",
      "     0     1.124656e+02     1.716835e+00\n",
      " * time: 0.09519290924072266\n",
      "     1     1.083924e+01     1.025729e+00\n",
      " * time: 0.9645860195159912\n",
      "     2    -1.187896e+01     1.229568e+00\n",
      " * time: 1.109678030014038\n",
      "     3    -3.410361e+01     9.136520e-01\n",
      " * time: 1.2672820091247559\n",
      "     4    -4.751714e+01     6.461960e-01\n",
      " * time: 1.418267011642456\n",
      "     5    -5.681157e+01     2.321287e-01\n",
      " * time: 1.5765550136566162\n",
      "     6    -5.968207e+01     1.990874e-01\n",
      " * time: 1.6955249309539795\n",
      "     7    -6.086193e+01     7.794479e-02\n",
      " * time: 1.805898904800415\n",
      "     8    -6.137427e+01     4.515507e-02\n",
      " * time: 1.9260268211364746\n",
      "     9    -6.167262e+01     3.743134e-02\n",
      " * time: 2.0594968795776367\n",
      "    10    -6.184428e+01     2.872932e-02\n",
      " * time: 2.1861038208007812\n",
      "    11    -6.199456e+01     2.247265e-02\n",
      " * time: 2.302367925643921\n",
      "    12    -6.208013e+01     1.545385e-02\n",
      " * time: 2.423360824584961\n",
      "    13    -6.212866e+01     1.447207e-02\n",
      " * time: 2.5445029735565186\n",
      "    14    -6.216458e+01     1.167897e-02\n",
      " * time: 2.656177043914795\n",
      "    15    -6.218399e+01     9.668191e-03\n",
      " * time: 2.780540943145752\n",
      "    16    -6.219569e+01     7.657272e-03\n",
      " * time: 2.902150869369507\n",
      "    17    -6.220234e+01     5.241917e-03\n",
      " * time: 3.0235660076141357\n",
      "    18    -6.220695e+01     3.825878e-03\n",
      " * time: 3.1355459690093994\n",
      "    19    -6.220999e+01     3.730087e-03\n",
      " * time: 3.2548718452453613\n",
      "    20    -6.221221e+01     4.134655e-03\n",
      " * time: 3.376248836517334\n",
      "    21    -6.221412e+01     4.943610e-03\n",
      " * time: 3.489917039871216\n",
      "    22    -6.221601e+01     4.681091e-03\n",
      " * time: 3.6253738403320312\n",
      "    23    -6.221813e+01     4.886389e-03\n",
      " * time: 3.7471699714660645\n",
      "    24    -6.222098e+01     5.614973e-03\n",
      " * time: 3.867743968963623\n",
      "    25    -6.222520e+01     5.999065e-03\n",
      " * time: 3.9815988540649414\n",
      "    26    -6.223078e+01     6.429901e-03\n",
      " * time: 4.103551864624023\n",
      "    27    -6.223799e+01     6.069484e-03\n",
      " * time: 4.225786924362183\n",
      "    28    -6.224691e+01     5.214586e-03\n",
      " * time: 4.346765041351318\n",
      "    29    -6.225201e+01     4.453957e-03\n",
      " * time: 4.462129831314087\n",
      "    30    -6.225563e+01     3.504925e-03\n",
      " * time: 4.5833539962768555\n",
      "    31    -6.225783e+01     2.813925e-03\n",
      " * time: 4.702883005142212\n",
      "    32    -6.225932e+01     2.201494e-03\n",
      " * time: 4.816726922988892\n",
      "    33    -6.226017e+01     1.718505e-03\n",
      " * time: 4.935940980911255\n",
      "    34    -6.226079e+01     1.295302e-03\n",
      " * time: 5.054865837097168\n",
      "    35    -6.226120e+01     1.010832e-03\n",
      " * time: 5.175638914108276\n",
      "    36    -6.226142e+01     8.144159e-04\n",
      " * time: 5.294071912765503\n",
      "    37    -6.226152e+01     6.000313e-04\n",
      " * time: 5.4124839305877686\n",
      "    38    -6.226158e+01     4.275179e-04\n",
      " * time: 5.533599853515625\n",
      "    39    -6.226161e+01     3.183886e-04\n",
      " * time: 5.645766973495483\n",
      "    40    -6.226163e+01     2.709151e-04\n",
      " * time: 5.768854856491089\n",
      "    41    -6.226164e+01     2.276465e-04\n",
      " * time: 5.890311002731323\n",
      "    42    -6.226165e+01     1.667798e-04\n",
      " * time: 6.0110180377960205\n",
      "    43    -6.226166e+01     1.248001e-04\n",
      " * time: 6.123921871185303\n",
      "    44    -6.226166e+01     1.099022e-04\n",
      " * time: 6.24591588973999\n",
      "    45    -6.226166e+01     9.337147e-05\n",
      " * time: 6.366947889328003\n",
      "    46    -6.226166e+01     7.805235e-05\n",
      " * time: 6.480638027191162\n",
      "    47    -6.226167e+01     5.608106e-05\n",
      " * time: 6.599665880203247\n",
      "    48    -6.226167e+01     4.290235e-05\n",
      " * time: 6.717836856842041\n",
      "    49    -6.226167e+01     3.576094e-05\n",
      " * time: 6.837484836578369\n",
      "    50    -6.226167e+01     2.450585e-05\n",
      " * time: 6.949189901351929\n",
      "    51    -6.226167e+01     2.357107e-05\n",
      " * time: 7.083009958267212\n",
      "    52    -6.226167e+01     1.444854e-05\n",
      " * time: 7.205744981765747\n",
      "    53    -6.226167e+01     1.358814e-05\n",
      " * time: 7.321884870529175\n",
      "    54    -6.226167e+01     1.012419e-05\n",
      " * time: 7.442981004714966\n",
      "    55    -6.226167e+01     6.670054e-06\n",
      " * time: 7.564393043518066\n",
      "    56    -6.226167e+01     4.772389e-06\n",
      " * time: 7.685506820678711\n",
      "    57    -6.226167e+01     3.500600e-06\n",
      " * time: 7.800647974014282\n",
      "    58    -6.226167e+01     3.272576e-06\n",
      " * time: 7.921278953552246\n"
     ]
    }
   ],
   "cell_type": "code",
   "source": [
    "scfres = direct_minimization(basis, tol=1e-5);"
   ],
   "metadata": {},
   "execution_count": 4
  },
  {
   "outputs": [
    {
     "output_type": "execute_result",
     "data": {
      "text/plain": "Energy breakdown:\n    Kinetic             25.7671070\n    AtomicLocal         -18.8557672\n    AtomicNonlocal      14.8522637\n    Ewald               -67.1831486\n    PspCorrection       -2.3569765\n    Hartree             4.8485374 \n    Xc                  -19.3336821\n\n    total               -62.261666460597\n"
     },
     "metadata": {},
     "execution_count": 5
    }
   ],
   "cell_type": "code",
   "source": [
    "scfres.energies"
   ],
   "metadata": {},
   "execution_count": 5
  }
 ],
 "nbformat_minor": 3,
 "metadata": {
  "language_info": {
   "file_extension": ".jl",
   "mimetype": "application/julia",
   "name": "julia",
   "version": "1.3.1"
  },
  "kernelspec": {
   "name": "julia-1.3",
   "display_name": "Julia 1.3.1",
   "language": "julia"
  }
 },
 "nbformat": 4
}
