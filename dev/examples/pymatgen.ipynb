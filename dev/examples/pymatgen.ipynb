{
 "cells": [
  {
   "cell_type": "markdown",
   "source": [
    "# Creating supercells with pymatgen\n",
    "\n",
    "The [Pymatgen](https://pymatgen.org/) python library allows to setup\n",
    "solid-state calculations using a flexible set of classes as well as an API\n",
    "to an online data base of structures. Its `Structure` and `Lattice`\n",
    "objects are directly supported by the DFTK `load_atoms` and `load_lattice`\n",
    "functions, such that DFTK may be readily used to run calculation on systems\n",
    "defined in pymatgen. Using the `pymatgen_structure` function a conversion\n",
    "from DFTK to pymatgen structures is also possible. In the following we\n",
    "use this to create a silicon supercell and find its LDA ground state\n",
    "using direct minimisation."
   ],
   "metadata": {}
  },
  {
   "cell_type": "markdown",
   "source": [
    "First we setup the silicon lattice in DFTK."
   ],
   "metadata": {}
  },
  {
   "outputs": [],
   "cell_type": "code",
   "source": [
    "using DFTK\n",
    "\n",
    "a = 10.263141334305942  # Lattice constant in Bohr\n",
    "lattice = a / 2 .* [[0 1 1.]; [1 0 1.]; [1 1 0.]]\n",
    "Si = ElementPsp(:Si, psp=load_psp(\"hgh/lda/Si-q4\"))\n",
    "atoms = [Si => [ones(3)/8, -ones(3)/8]];"
   ],
   "metadata": {},
   "execution_count": 1
  },
  {
   "cell_type": "markdown",
   "source": [
    "Next we make a `[2, 2, 2]` supercell using pymatgen"
   ],
   "metadata": {}
  },
  {
   "outputs": [],
   "cell_type": "code",
   "source": [
    "pystruct = pymatgen_structure(lattice, atoms)\n",
    "pystruct.make_supercell([2, 2, 2])\n",
    "lattice = load_lattice(pystruct)\n",
    "atoms = [Si => [s.frac_coords for s in pystruct.sites]];"
   ],
   "metadata": {},
   "execution_count": 2
  },
  {
   "cell_type": "markdown",
   "source": [
    "Setup an LDA model and discretize using\n",
    "a single kpoint and a small `Ecut` of 5 Hartree."
   ],
   "metadata": {}
  },
  {
   "outputs": [
    {
     "output_type": "execute_result",
     "data": {
      "text/plain": "PlaneWaveBasis (Ecut=5.0, 1 kpoints)"
     },
     "metadata": {},
     "execution_count": 3
    }
   ],
   "cell_type": "code",
   "source": [
    "model = model_LDA(lattice, atoms)\n",
    "basis = PlaneWaveBasis(model, 5, kgrid=(1, 1, 1))"
   ],
   "metadata": {},
   "execution_count": 3
  },
  {
   "cell_type": "markdown",
   "source": [
    "Find the ground state using direct minimisation (always using SCF is boring ...)"
   ],
   "metadata": {}
  },
  {
   "outputs": [
    {
     "name": "stdout",
     "output_type": "stream",
     "text": [
      "Iter     Function value   Gradient norm \n",
      "     0     1.117537e+02     1.656400e+00\n",
      " * time: 0.08872580528259277\n",
      "     1     1.075710e+01     9.504320e-01\n",
      " * time: 0.9799149036407471\n",
      "     2    -1.211842e+01     1.091357e+00\n",
      " * time: 1.1040408611297607\n",
      "     3    -3.418029e+01     8.510157e-01\n",
      " * time: 1.2557408809661865\n",
      "     4    -4.765542e+01     6.710867e-01\n",
      " * time: 1.4032578468322754\n",
      "     5    -5.714002e+01     1.875801e-01\n",
      " * time: 1.5433988571166992\n",
      "     6    -5.991139e+01     1.538177e-01\n",
      " * time: 1.654331922531128\n",
      "     7    -6.098209e+01     6.158659e-02\n",
      " * time: 1.758227825164795\n",
      "     8    -6.141048e+01     4.685478e-02\n",
      " * time: 1.8697149753570557\n",
      "     9    -6.165005e+01     4.852932e-02\n",
      " * time: 1.9809727668762207\n",
      "    10    -6.183024e+01     3.266474e-02\n",
      " * time: 2.0851528644561768\n",
      "    11    -6.196543e+01     2.254518e-02\n",
      " * time: 2.1951968669891357\n",
      "    12    -6.204963e+01     1.636796e-02\n",
      " * time: 2.297775983810425\n",
      "    13    -6.209515e+01     1.561382e-02\n",
      " * time: 2.408371925354004\n",
      "    14    -6.213936e+01     1.254263e-02\n",
      " * time: 2.518159866333008\n",
      "    15    -6.216076e+01     1.394852e-02\n",
      " * time: 2.6218419075012207\n",
      "    16    -6.217685e+01     8.797481e-03\n",
      " * time: 2.7315049171447754\n",
      "    17    -6.218680e+01     6.853202e-03\n",
      " * time: 2.843113899230957\n",
      "    18    -6.219482e+01     6.186967e-03\n",
      " * time: 2.9459078311920166\n",
      "    19    -6.220058e+01     5.851208e-03\n",
      " * time: 3.0570287704467773\n",
      "    20    -6.220577e+01     4.917328e-03\n",
      " * time: 3.160592794418335\n",
      "    21    -6.221051e+01     6.154902e-03\n",
      " * time: 3.271700859069824\n",
      "    22    -6.221477e+01     6.584795e-03\n",
      " * time: 3.381901979446411\n",
      "    23    -6.221868e+01     6.064832e-03\n",
      " * time: 3.485294818878174\n",
      "    24    -6.222262e+01     6.714478e-03\n",
      " * time: 3.5961008071899414\n",
      "    25    -6.222694e+01     6.670996e-03\n",
      " * time: 3.69919490814209\n",
      "    26    -6.223192e+01     5.408822e-03\n",
      " * time: 3.8099899291992188\n",
      "    27    -6.223770e+01     5.971313e-03\n",
      " * time: 3.9206719398498535\n",
      "    28    -6.224408e+01     5.591743e-03\n",
      " * time: 4.023756980895996\n",
      "    29    -6.225014e+01     5.068612e-03\n",
      " * time: 4.133840799331665\n",
      "    30    -6.225438e+01     4.198944e-03\n",
      " * time: 4.236405849456787\n",
      "    31    -6.225739e+01     3.216001e-03\n",
      " * time: 4.347143888473511\n",
      "    32    -6.225928e+01     2.134197e-03\n",
      " * time: 4.457306861877441\n",
      "    33    -6.226036e+01     1.770403e-03\n",
      " * time: 4.560459852218628\n",
      "    34    -6.226092e+01     1.278337e-03\n",
      " * time: 4.671472787857056\n",
      "    35    -6.226123e+01     9.158348e-04\n",
      " * time: 4.78169584274292\n",
      "    36    -6.226139e+01     7.670505e-04\n",
      " * time: 4.884974002838135\n",
      "    37    -6.226147e+01     6.297490e-04\n",
      " * time: 4.995467901229858\n",
      "    38    -6.226153e+01     5.053584e-04\n",
      " * time: 5.0983428955078125\n",
      "    39    -6.226157e+01     4.011545e-04\n",
      " * time: 5.207741975784302\n",
      "    40    -6.226160e+01     3.549322e-04\n",
      " * time: 5.317230939865112\n",
      "    41    -6.226163e+01     2.720508e-04\n",
      " * time: 5.420244932174683\n",
      "    42    -6.226165e+01     2.347961e-04\n",
      " * time: 5.530411958694458\n",
      "    43    -6.226166e+01     2.045284e-04\n",
      " * time: 5.633343935012817\n",
      "    44    -6.226166e+01     1.545986e-04\n",
      " * time: 5.743584871292114\n",
      "    45    -6.226166e+01     9.303987e-05\n",
      " * time: 5.853722810745239\n",
      "    46    -6.226167e+01     5.901508e-05\n",
      " * time: 5.9565589427948\n",
      "    47    -6.226167e+01     4.531511e-05\n",
      " * time: 6.066742897033691\n",
      "    48    -6.226167e+01     2.844090e-05\n",
      " * time: 6.1762189865112305\n",
      "    49    -6.226167e+01     2.522624e-05\n",
      " * time: 6.279670000076294\n",
      "    50    -6.226167e+01     2.044162e-05\n",
      " * time: 6.390601873397827\n",
      "    51    -6.226167e+01     1.689339e-05\n",
      " * time: 6.4935338497161865\n",
      "    52    -6.226167e+01     1.365543e-05\n",
      " * time: 6.605772972106934\n",
      "    53    -6.226167e+01     1.091643e-05\n",
      " * time: 6.716280937194824\n",
      "    54    -6.226167e+01     8.103540e-06\n",
      " * time: 6.819188833236694\n",
      "    55    -6.226167e+01     6.456742e-06\n",
      " * time: 6.929272890090942\n",
      "    56    -6.226167e+01     4.368010e-06\n",
      " * time: 7.0330657958984375\n",
      "    57    -6.226167e+01     3.902323e-06\n",
      " * time: 7.143966913223267\n"
     ]
    }
   ],
   "cell_type": "code",
   "source": [
    "scfres = direct_minimization(basis, tol=1e-5);"
   ],
   "metadata": {},
   "execution_count": 4
  },
  {
   "outputs": [
    {
     "output_type": "execute_result",
     "data": {
      "text/plain": "Energy breakdown:\n    Kinetic             25.7671074\n    AtomicLocal         -18.8557659\n    AtomicNonlocal      14.8522619\n    Ewald               -67.1831486\n    PspCorrection       -2.3569765\n    Hartree             4.8485377 \n    Xc                  -19.3336823\n\n    total               -62.261666459829\n"
     },
     "metadata": {},
     "execution_count": 5
    }
   ],
   "cell_type": "code",
   "source": [
    "scfres.energies"
   ],
   "metadata": {},
   "execution_count": 5
  }
 ],
 "nbformat_minor": 3,
 "metadata": {
  "language_info": {
   "file_extension": ".jl",
   "mimetype": "application/julia",
   "name": "julia",
   "version": "1.3.1"
  },
  "kernelspec": {
   "name": "julia-1.3",
   "display_name": "Julia 1.3.1",
   "language": "julia"
  }
 },
 "nbformat": 4
}
