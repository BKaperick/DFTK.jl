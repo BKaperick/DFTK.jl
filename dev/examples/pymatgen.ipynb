{
 "cells": [
  {
   "cell_type": "markdown",
   "source": [
    "# Creating supercells with pymatgen\n",
    "\n",
    "The [Pymatgen](https://pymatgen.org/) python library allows to setup\n",
    "solid-state calculations using a flexible set of classes as well as an API\n",
    "to an online data base of structures. Its `Structure` and `Lattice`\n",
    "objects are directly supported by the DFTK `load_atoms` and `load_lattice`\n",
    "functions, such that DFTK may be readily used to run calculation on systems\n",
    "defined in pymatgen. Using the `pymatgen_structure` function a conversion\n",
    "from DFTK to pymatgen structures is also possible. In the following we\n",
    "use this to create a silicon supercell and find its LDA ground state\n",
    "using direct minimisation."
   ],
   "metadata": {}
  },
  {
   "cell_type": "markdown",
   "source": [
    "First we setup the silicon lattice in DFTK."
   ],
   "metadata": {}
  },
  {
   "outputs": [],
   "cell_type": "code",
   "source": [
    "using DFTK\n",
    "\n",
    "a = 10.263141334305942  # Lattice constant in Bohr\n",
    "lattice = a / 2 .* [[0 1 1.]; [1 0 1.]; [1 1 0.]]\n",
    "Si = ElementPsp(:Si, psp=load_psp(\"hgh/lda/Si-q4\"))\n",
    "atoms = [Si => [ones(3)/8, -ones(3)/8]];"
   ],
   "metadata": {},
   "execution_count": 1
  },
  {
   "cell_type": "markdown",
   "source": [
    "Next we make a `[2, 2, 2]` supercell using pymatgen"
   ],
   "metadata": {}
  },
  {
   "outputs": [],
   "cell_type": "code",
   "source": [
    "pystruct = pymatgen_structure(lattice, atoms)\n",
    "pystruct.make_supercell([2, 2, 2])\n",
    "lattice = load_lattice(pystruct)\n",
    "atoms = [Si => [s.frac_coords for s in pystruct.sites]];"
   ],
   "metadata": {},
   "execution_count": 2
  },
  {
   "cell_type": "markdown",
   "source": [
    "Setup an LDA model and discretize using\n",
    "a single kpoint and a small `Ecut` of 5 Hartree.\n",
    "Notice that `PlaneWaveBasis` defaults to just using the ``Γ``-point\n",
    "if no ``k``-point options are provided."
   ],
   "metadata": {}
  },
  {
   "outputs": [
    {
     "name": "stdout",
     "output_type": "stream",
     "text": [
      "Iter     Function value   Gradient norm \n",
      "     0     1.127348e+02     1.575583e+00\n",
      " * time: 0.10928797721862793\n",
      "     1     1.177790e+01     9.299616e-01\n",
      " * time: 0.8744189739227295\n",
      "     2    -1.184639e+01     1.093420e+00\n",
      " * time: 1.0244719982147217\n",
      "     3    -3.411810e+01     8.175835e-01\n",
      " * time: 1.1793339252471924\n",
      "     4    -4.806876e+01     5.426639e-01\n",
      " * time: 1.3300020694732666\n",
      "     5    -5.707555e+01     1.935239e-01\n",
      " * time: 1.4779210090637207\n",
      "     6    -5.982223e+01     1.278914e-01\n",
      " * time: 1.5927879810333252\n",
      "     7    -6.084340e+01     6.086012e-02\n",
      " * time: 1.7011420726776123\n",
      "     8    -6.125599e+01     8.501604e-02\n",
      " * time: 1.8167569637298584\n",
      "     9    -6.156780e+01     3.165893e-02\n",
      " * time: 1.9327919483184814\n",
      "    10    -6.176896e+01     2.637364e-02\n",
      " * time: 2.042085886001587\n",
      "    11    -6.192370e+01     2.238485e-02\n",
      " * time: 2.1573050022125244\n",
      "    12    -6.199340e+01     2.043105e-02\n",
      " * time: 2.2719030380249023\n",
      "    13    -6.206863e+01     1.712858e-02\n",
      " * time: 2.386060953140259\n",
      "    14    -6.210872e+01     1.421642e-02\n",
      " * time: 2.494596004486084\n",
      "    15    -6.214719e+01     1.168427e-02\n",
      " * time: 2.6092469692230225\n",
      "    16    -6.216762e+01     1.059966e-02\n",
      " * time: 2.724560022354126\n",
      "    17    -6.218345e+01     6.982197e-03\n",
      " * time: 2.8338818550109863\n",
      "    18    -6.219405e+01     5.990955e-03\n",
      " * time: 2.9491639137268066\n",
      "    19    -6.220179e+01     5.281773e-03\n",
      " * time: 3.063322067260742\n",
      "    20    -6.220740e+01     5.764779e-03\n",
      " * time: 3.1708948612213135\n",
      "    21    -6.221237e+01     6.117536e-03\n",
      " * time: 3.2842040061950684\n",
      "    22    -6.221702e+01     5.916028e-03\n",
      " * time: 3.3978500366210938\n",
      "    23    -6.222178e+01     5.107628e-03\n",
      " * time: 3.5057289600372314\n",
      "    24    -6.222680e+01     5.739418e-03\n",
      " * time: 3.6203298568725586\n",
      "    25    -6.223200e+01     4.859060e-03\n",
      " * time: 3.734523057937622\n",
      "    26    -6.223748e+01     6.190545e-03\n",
      " * time: 3.8482789993286133\n",
      "    27    -6.224265e+01     4.451369e-03\n",
      " * time: 3.956342935562134\n",
      "    28    -6.224748e+01     4.568774e-03\n",
      " * time: 4.070453882217407\n",
      "    29    -6.225157e+01     3.453124e-03\n",
      " * time: 4.186110019683838\n",
      "    30    -6.225499e+01     3.305647e-03\n",
      " * time: 4.2945239543914795\n",
      "    31    -6.225775e+01     2.436148e-03\n",
      " * time: 4.40923285484314\n",
      "    32    -6.225952e+01     2.246448e-03\n",
      " * time: 4.524416923522949\n",
      "    33    -6.226054e+01     1.659935e-03\n",
      " * time: 4.632786989212036\n",
      "    34    -6.226111e+01     1.115301e-03\n",
      " * time: 4.747818946838379\n",
      "    35    -6.226138e+01     1.015777e-03\n",
      " * time: 4.861947059631348\n",
      "    36    -6.226151e+01     8.365225e-04\n",
      " * time: 4.970952033996582\n",
      "    37    -6.226157e+01     4.899398e-04\n",
      " * time: 5.084810018539429\n",
      "    38    -6.226161e+01     3.524319e-04\n",
      " * time: 5.1985390186309814\n",
      "    39    -6.226163e+01     2.700755e-04\n",
      " * time: 5.312314033508301\n",
      "    40    -6.226164e+01     2.062712e-04\n",
      " * time: 5.420325994491577\n",
      "    41    -6.226165e+01     2.132696e-04\n",
      " * time: 5.53390097618103\n",
      "    42    -6.226165e+01     1.645143e-04\n",
      " * time: 5.6473469734191895\n",
      "    43    -6.226166e+01     1.303273e-04\n",
      " * time: 5.755899906158447\n",
      "    44    -6.226166e+01     8.168005e-05\n",
      " * time: 5.870800018310547\n",
      "    45    -6.226166e+01     6.836224e-05\n",
      " * time: 5.9853808879852295\n",
      "    46    -6.226167e+01     5.450399e-05\n",
      " * time: 6.092278957366943\n",
      "    47    -6.226167e+01     3.652125e-05\n",
      " * time: 6.205709934234619\n",
      "    48    -6.226167e+01     2.867214e-05\n",
      " * time: 6.319010972976685\n",
      "    49    -6.226167e+01     1.875633e-05\n",
      " * time: 6.426394939422607\n",
      "    50    -6.226167e+01     1.553663e-05\n",
      " * time: 6.539697885513306\n",
      "    51    -6.226167e+01     1.439542e-05\n",
      " * time: 6.652930021286011\n",
      "    52    -6.226167e+01     1.185158e-05\n",
      " * time: 6.767534971237183\n",
      "    53    -6.226167e+01     9.711734e-06\n",
      " * time: 6.87567400932312\n",
      "    54    -6.226167e+01     6.067697e-06\n",
      " * time: 6.989281892776489\n",
      "    55    -6.226167e+01     4.450173e-06\n",
      " * time: 7.102547883987427\n",
      "    56    -6.226167e+01     3.957302e-06\n",
      " * time: 7.210061073303223\n",
      "    57    -6.226167e+01     2.304625e-06\n",
      " * time: 7.322767019271851\n"
     ]
    }
   ],
   "cell_type": "code",
   "source": [
    "model = model_LDA(lattice, atoms)\n",
    "basis = PlaneWaveBasis(model, 5)\n",
    "\n",
    "# Find the ground state using direct minimisation (always using SCF is boring ...)\n",
    "scfres = direct_minimization(basis, tol=1e-5);"
   ],
   "metadata": {},
   "execution_count": 3
  },
  {
   "outputs": [
    {
     "output_type": "execute_result",
     "data": {
      "text/plain": "Energy breakdown:\n    Kinetic             25.7671074\n    AtomicLocal         -18.8557698\n    AtomicNonlocal      14.8522653\n    Ewald               -67.1831486\n    PspCorrection       -2.3569765\n    Hartree             4.8485384 \n    Xc                  -19.3336825\n\n    total               -62.261666460876\n"
     },
     "metadata": {},
     "execution_count": 4
    }
   ],
   "cell_type": "code",
   "source": [
    "scfres.energies"
   ],
   "metadata": {},
   "execution_count": 4
  }
 ],
 "nbformat_minor": 3,
 "metadata": {
  "language_info": {
   "file_extension": ".jl",
   "mimetype": "application/julia",
   "name": "julia",
   "version": "1.3.1"
  },
  "kernelspec": {
   "name": "julia-1.3",
   "display_name": "Julia 1.3.1",
   "language": "julia"
  }
 },
 "nbformat": 4
}
