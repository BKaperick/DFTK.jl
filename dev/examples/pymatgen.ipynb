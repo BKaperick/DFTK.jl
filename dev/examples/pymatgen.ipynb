{
 "cells": [
  {
   "cell_type": "markdown",
   "source": [
    "# Creating supercells with pymatgen\n",
    "\n",
    "The [Pymatgen](https://pymatgen.org/) python library allows to setup\n",
    "solid-state calculations using a flexible set of classes as well as an API\n",
    "to an online data base of structures. Its `Structure` and `Lattice`\n",
    "objects are directly supported by the DFTK `load_atoms` and `load_lattice`\n",
    "functions, such that DFTK may be readily used to run calculation on systems\n",
    "defined in pymatgen. Using the `pymatgen_structure` function a conversion\n",
    "from DFTK to pymatgen structures is also possible. In the following we\n",
    "use this to create a silicon supercell and find its LDA ground state\n",
    "using direct minimisation."
   ],
   "metadata": {}
  },
  {
   "cell_type": "markdown",
   "source": [
    "First we setup the silicon lattice in DFTK."
   ],
   "metadata": {}
  },
  {
   "outputs": [],
   "cell_type": "code",
   "source": [
    "using DFTK\n",
    "\n",
    "a = 10.263141334305942  # Lattice constant in Bohr\n",
    "lattice = a / 2 .* [[0 1 1.]; [1 0 1.]; [1 1 0.]]\n",
    "Si = ElementPsp(:Si, psp=load_psp(\"hgh/lda/Si-q4\"))\n",
    "atoms = [Si => [ones(3)/8, -ones(3)/8]];"
   ],
   "metadata": {},
   "execution_count": 1
  },
  {
   "cell_type": "markdown",
   "source": [
    "Next we make a `[2, 2, 2]` supercell using pymatgen"
   ],
   "metadata": {}
  },
  {
   "outputs": [],
   "cell_type": "code",
   "source": [
    "pystruct = pymatgen_structure(lattice, atoms)\n",
    "pystruct.make_supercell([2, 2, 2])\n",
    "lattice = load_lattice(pystruct)\n",
    "atoms = [Si => [s.frac_coords for s in pystruct.sites]];"
   ],
   "metadata": {},
   "execution_count": 2
  },
  {
   "cell_type": "markdown",
   "source": [
    "Setup an LDA model and discretize using\n",
    "a single kpoint and a small `Ecut` of 5 Hartree.\n",
    "Notice that `PlaneWaveBasis` defaults to just using the ``Γ``-point\n",
    "if no ``k``-point options are provided."
   ],
   "metadata": {}
  },
  {
   "outputs": [
    {
     "output_type": "execute_result",
     "data": {
      "text/plain": "PlaneWaveBasis (Ecut=5.0, 1 kpoints)"
     },
     "metadata": {},
     "execution_count": 3
    }
   ],
   "cell_type": "code",
   "source": [
    "model = model_LDA(lattice, atoms)\n",
    "basis = PlaneWaveBasis(model, 5)"
   ],
   "metadata": {},
   "execution_count": 3
  },
  {
   "cell_type": "markdown",
   "source": [
    "Find the ground state using direct minimisation (always using SCF is boring ...)"
   ],
   "metadata": {}
  },
  {
   "outputs": [
    {
     "name": "stdout",
     "output_type": "stream",
     "text": [
      "Iter     Function value   Gradient norm \n",
      "     0     1.121451e+02     1.741634e+00\n",
      " * time: 0.09807300567626953\n",
      "     1     1.033478e+01     9.307798e-01\n",
      " * time: 0.9714679718017578\n",
      "     2    -1.145460e+01     1.061234e+00\n",
      " * time: 1.110741138458252\n",
      "     3    -3.402272e+01     8.192082e-01\n",
      " * time: 1.2877051830291748\n",
      "     4    -4.734896e+01     5.363691e-01\n",
      " * time: 1.448047161102295\n",
      "     5    -5.682760e+01     2.290778e-01\n",
      " * time: 1.6009809970855713\n",
      "     6    -5.965222e+01     1.614126e-01\n",
      " * time: 1.7137880325317383\n",
      "     7    -6.081500e+01     7.973542e-02\n",
      " * time: 1.8350720405578613\n",
      "     8    -6.133630e+01     4.212304e-02\n",
      " * time: 1.956305980682373\n",
      "     9    -6.165339e+01     3.057895e-02\n",
      " * time: 2.0697901248931885\n",
      "    10    -6.180872e+01     2.489596e-02\n",
      " * time: 2.190592050552368\n",
      "    11    -6.194930e+01     2.378512e-02\n",
      " * time: 2.3032779693603516\n",
      "    12    -6.202537e+01     2.047869e-02\n",
      " * time: 2.422790050506592\n",
      "    13    -6.207825e+01     1.886690e-02\n",
      " * time: 2.545657157897949\n",
      "    14    -6.212174e+01     1.570884e-02\n",
      " * time: 2.6593570709228516\n",
      "    15    -6.215267e+01     1.186825e-02\n",
      " * time: 2.782371997833252\n",
      "    16    -6.217786e+01     1.112377e-02\n",
      " * time: 2.9035849571228027\n",
      "    17    -6.219609e+01     9.351112e-03\n",
      " * time: 3.0202760696411133\n",
      "    18    -6.220902e+01     6.831859e-03\n",
      " * time: 3.1423239707946777\n",
      "    19    -6.221810e+01     6.967922e-03\n",
      " * time: 3.2591559886932373\n",
      "    20    -6.222465e+01     5.348064e-03\n",
      " * time: 3.385040044784546\n",
      "    21    -6.223025e+01     5.457879e-03\n",
      " * time: 3.509597063064575\n",
      "    22    -6.223537e+01     5.743301e-03\n",
      " * time: 3.6269800662994385\n",
      "    23    -6.224036e+01     5.367351e-03\n",
      " * time: 3.754364013671875\n",
      "    24    -6.224549e+01     4.723471e-03\n",
      " * time: 3.8797600269317627\n",
      "    25    -6.225074e+01     4.272948e-03\n",
      " * time: 3.9977400302886963\n",
      "    26    -6.225500e+01     3.775913e-03\n",
      " * time: 4.124428033828735\n",
      "    27    -6.225781e+01     2.573326e-03\n",
      " * time: 4.245553970336914\n",
      "    28    -6.225939e+01     1.899346e-03\n",
      " * time: 4.371787071228027\n",
      "    29    -6.226021e+01     1.893731e-03\n",
      " * time: 4.495871067047119\n",
      "    30    -6.226068e+01     1.525464e-03\n",
      " * time: 4.613684177398682\n",
      "    31    -6.226099e+01     1.186179e-03\n",
      " * time: 4.738976955413818\n",
      "    32    -6.226121e+01     1.029970e-03\n",
      " * time: 4.85536003112793\n",
      "    33    -6.226138e+01     9.030572e-04\n",
      " * time: 4.976891040802002\n",
      "    34    -6.226151e+01     5.721435e-04\n",
      " * time: 5.096335172653198\n",
      "    35    -6.226159e+01     4.362463e-04\n",
      " * time: 5.210715055465698\n",
      "    36    -6.226162e+01     3.872623e-04\n",
      " * time: 5.340459108352661\n",
      "    37    -6.226164e+01     2.805692e-04\n",
      " * time: 5.471078157424927\n",
      "    38    -6.226165e+01     2.106933e-04\n",
      " * time: 5.591310977935791\n",
      "    39    -6.226166e+01     1.215864e-04\n",
      " * time: 5.715435981750488\n",
      "    40    -6.226166e+01     1.045497e-04\n",
      " * time: 5.832200050354004\n",
      "    41    -6.226166e+01     8.424846e-05\n",
      " * time: 5.956294059753418\n",
      "    42    -6.226166e+01     6.635319e-05\n",
      " * time: 6.078977108001709\n",
      "    43    -6.226167e+01     6.338346e-05\n",
      " * time: 6.19661808013916\n",
      "    44    -6.226167e+01     4.041791e-05\n",
      " * time: 6.316241025924683\n",
      "    45    -6.226167e+01     3.777913e-05\n",
      " * time: 6.43090295791626\n",
      "    46    -6.226167e+01     2.541776e-05\n",
      " * time: 6.551246166229248\n",
      "    47    -6.226167e+01     2.030243e-05\n",
      " * time: 6.6731791496276855\n",
      "    48    -6.226167e+01     1.417332e-05\n",
      " * time: 6.790029048919678\n",
      "    49    -6.226167e+01     8.980946e-06\n",
      " * time: 6.911656141281128\n",
      "    50    -6.226167e+01     7.426231e-06\n",
      " * time: 7.0332231521606445\n",
      "    51    -6.226167e+01     7.232654e-06\n",
      " * time: 7.145231008529663\n",
      "    52    -6.226167e+01     4.800665e-06\n",
      " * time: 7.269263982772827\n",
      "    53    -6.226167e+01     3.127691e-06\n",
      " * time: 7.382739067077637\n"
     ]
    }
   ],
   "cell_type": "code",
   "source": [
    "scfres = direct_minimization(basis, tol=1e-5);"
   ],
   "metadata": {},
   "execution_count": 4
  },
  {
   "outputs": [
    {
     "output_type": "execute_result",
     "data": {
      "text/plain": "Energy breakdown:\n    Kinetic             25.7671080\n    AtomicLocal         -18.8557662\n    AtomicNonlocal      14.8522614\n    Ewald               -67.1831486\n    PspCorrection       -2.3569765\n    Hartree             4.8485380 \n    Xc                  -19.3336825\n\n    total               -62.261666457692\n"
     },
     "metadata": {},
     "execution_count": 5
    }
   ],
   "cell_type": "code",
   "source": [
    "scfres.energies"
   ],
   "metadata": {},
   "execution_count": 5
  }
 ],
 "nbformat_minor": 3,
 "metadata": {
  "language_info": {
   "file_extension": ".jl",
   "mimetype": "application/julia",
   "name": "julia",
   "version": "1.3.1"
  },
  "kernelspec": {
   "name": "julia-1.3",
   "display_name": "Julia 1.3.1",
   "language": "julia"
  }
 },
 "nbformat": 4
}
