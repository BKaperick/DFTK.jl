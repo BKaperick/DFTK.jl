{
 "cells": [
  {
   "cell_type": "markdown",
   "source": [
    "# Creating supercells with pymatgen\n",
    "\n",
    "The [Pymatgen](https://pymatgen.org/) python library allows to setup\n",
    "solid-state calculations using a flexible set of classes as well as an API\n",
    "to an online data base of structures. Its `Structure` and `Lattice`\n",
    "objects are directly supported by the DFTK `load_atoms` and `load_lattice`\n",
    "functions, such that DFTK may be readily used to run calculation on systems\n",
    "defined in pymatgen. Using the `pymatgen_structure` function a conversion\n",
    "from DFTK to pymatgen structures is also possible. In the following we\n",
    "use this to create a silicon supercell and find its LDA ground state\n",
    "using direct minimisation."
   ],
   "metadata": {}
  },
  {
   "cell_type": "markdown",
   "source": [
    "First we setup the silicon lattice in DFTK."
   ],
   "metadata": {}
  },
  {
   "outputs": [],
   "cell_type": "code",
   "source": [
    "using DFTK\n",
    "\n",
    "a = 10.263141334305942  # Lattice constant in Bohr\n",
    "lattice = a / 2 .* [[0 1 1.]; [1 0 1.]; [1 1 0.]]\n",
    "Si = ElementPsp(:Si, psp=load_psp(\"hgh/lda/Si-q4\"))\n",
    "atoms = [Si => [ones(3)/8, -ones(3)/8]];"
   ],
   "metadata": {},
   "execution_count": 1
  },
  {
   "cell_type": "markdown",
   "source": [
    "Next we make a `[2, 2, 2]` supercell using pymatgen"
   ],
   "metadata": {}
  },
  {
   "outputs": [],
   "cell_type": "code",
   "source": [
    "pystruct = pymatgen_structure(lattice, atoms)\n",
    "pystruct.make_supercell([2, 2, 2])\n",
    "lattice = load_lattice(pystruct)\n",
    "atoms = [Si => [s.frac_coords for s in pystruct.sites]];"
   ],
   "metadata": {},
   "execution_count": 2
  },
  {
   "cell_type": "markdown",
   "source": [
    "Setup an LDA model and discretize using\n",
    "a single kpoint and a small `Ecut` of 5 Hartree."
   ],
   "metadata": {}
  },
  {
   "outputs": [
    {
     "output_type": "execute_result",
     "data": {
      "text/plain": "PlaneWaveBasis (Ecut=5.0, 1 kpoints)"
     },
     "metadata": {},
     "execution_count": 3
    }
   ],
   "cell_type": "code",
   "source": [
    "model = model_LDA(lattice, atoms)\n",
    "basis = PlaneWaveBasis(model, 5, kgrid=(1, 1, 1))"
   ],
   "metadata": {},
   "execution_count": 3
  },
  {
   "cell_type": "markdown",
   "source": [
    "Find the ground state using direct minimisation (always using SCF is boring ...)"
   ],
   "metadata": {}
  },
  {
   "outputs": [
    {
     "name": "stdout",
     "output_type": "stream",
     "text": [
      "Iter     Function value   Gradient norm \n",
      "     0     1.123762e+02     1.728386e+00\n",
      " * time: 0.07359004020690918\n",
      "     1     1.108607e+01     9.583937e-01\n",
      " * time: 1.3999600410461426\n",
      "     2    -1.218139e+01     1.098011e+00\n",
      " * time: 1.498365879058838\n",
      "     3    -3.401926e+01     8.550176e-01\n",
      " * time: 1.6666450500488281\n",
      "     4    -4.768162e+01     7.008828e-01\n",
      " * time: 1.7826788425445557\n",
      "     5    -5.691913e+01     2.847859e-01\n",
      " * time: 1.9039690494537354\n",
      "     6    -5.965968e+01     2.487985e-01\n",
      " * time: 2.0047600269317627\n",
      "     7    -6.080247e+01     1.242613e-01\n",
      " * time: 2.1194729804992676\n",
      "     8    -6.133402e+01     3.725013e-02\n",
      " * time: 2.2082579135894775\n",
      "     9    -6.160275e+01     3.963403e-02\n",
      " * time: 2.2980589866638184\n",
      "    10    -6.179753e+01     4.039571e-02\n",
      " * time: 2.388746976852417\n",
      "    11    -6.195890e+01     2.539525e-02\n",
      " * time: 2.4799108505249023\n",
      "    12    -6.206463e+01     1.695234e-02\n",
      " * time: 2.582103967666626\n",
      "    13    -6.212233e+01     1.444631e-02\n",
      " * time: 2.6715829372406006\n",
      "    14    -6.216370e+01     1.144376e-02\n",
      " * time: 2.7625949382781982\n",
      "    15    -6.218937e+01     1.101321e-02\n",
      " * time: 2.853606939315796\n",
      "    16    -6.220605e+01     9.088922e-03\n",
      " * time: 2.946004867553711\n",
      "    17    -6.221746e+01     7.958210e-03\n",
      " * time: 3.0450758934020996\n",
      "    18    -6.222640e+01     5.602867e-03\n",
      " * time: 3.1356658935546875\n",
      "    19    -6.223318e+01     5.628705e-03\n",
      " * time: 3.2271499633789062\n",
      "    20    -6.223947e+01     6.065171e-03\n",
      " * time: 3.3173649311065674\n",
      "    21    -6.224538e+01     6.355071e-03\n",
      " * time: 3.408212900161743\n",
      "    22    -6.225084e+01     6.088228e-03\n",
      " * time: 3.5078468322753906\n",
      "    23    -6.225509e+01     4.113000e-03\n",
      " * time: 3.5990090370178223\n",
      "    24    -6.225794e+01     3.319925e-03\n",
      " * time: 3.6894519329071045\n",
      "    25    -6.225950e+01     2.109861e-03\n",
      " * time: 3.7781460285186768\n",
      "    26    -6.226030e+01     1.823996e-03\n",
      " * time: 3.86775803565979\n",
      "    27    -6.226075e+01     1.356552e-03\n",
      " * time: 3.966982841491699\n",
      "    28    -6.226104e+01     1.120865e-03\n",
      " * time: 4.057130813598633\n",
      "    29    -6.226124e+01     1.011642e-03\n",
      " * time: 4.147902011871338\n",
      "    30    -6.226139e+01     8.162550e-04\n",
      " * time: 4.238049030303955\n",
      "    31    -6.226149e+01     6.462538e-04\n",
      " * time: 4.327216863632202\n",
      "    32    -6.226156e+01     4.590496e-04\n",
      " * time: 4.424168825149536\n",
      "    33    -6.226161e+01     3.670290e-04\n",
      " * time: 4.5130720138549805\n",
      "    34    -6.226164e+01     2.646897e-04\n",
      " * time: 4.603492021560669\n",
      "    35    -6.226165e+01     1.761868e-04\n",
      " * time: 4.692649841308594\n",
      "    36    -6.226166e+01     1.707903e-04\n",
      " * time: 4.7822959423065186\n",
      "    37    -6.226166e+01     1.192035e-04\n",
      " * time: 4.87904691696167\n",
      "    38    -6.226166e+01     1.004798e-04\n",
      " * time: 4.9679059982299805\n",
      "    39    -6.226167e+01     9.118947e-05\n",
      " * time: 5.068434953689575\n",
      "    40    -6.226167e+01     7.269498e-05\n",
      " * time: 5.158289909362793\n",
      "    41    -6.226167e+01     6.205791e-05\n",
      " * time: 5.249369859695435\n",
      "    42    -6.226167e+01     4.433509e-05\n",
      " * time: 5.34717583656311\n",
      "    43    -6.226167e+01     3.260040e-05\n",
      " * time: 5.437474012374878\n",
      "    44    -6.226167e+01     2.195625e-05\n",
      " * time: 5.526674032211304\n",
      "    45    -6.226167e+01     1.462794e-05\n",
      " * time: 5.618546009063721\n",
      "    46    -6.226167e+01     1.153423e-05\n",
      " * time: 5.709913969039917\n",
      "    47    -6.226167e+01     7.317633e-06\n",
      " * time: 5.808076858520508\n",
      "    48    -6.226167e+01     5.211384e-06\n",
      " * time: 5.897194862365723\n",
      "    49    -6.226167e+01     3.687953e-06\n",
      " * time: 5.988174915313721\n",
      "    50    -6.226167e+01     2.573816e-06\n",
      " * time: 6.079607009887695\n",
      "    51    -6.226167e+01     2.646573e-06\n",
      " * time: 6.171178817749023\n"
     ]
    }
   ],
   "cell_type": "code",
   "source": [
    "scfres = direct_minimization(basis, tol=1e-5);"
   ],
   "metadata": {},
   "execution_count": 4
  },
  {
   "outputs": [
    {
     "output_type": "execute_result",
     "data": {
      "text/plain": "Energy breakdown:\n    Kinetic             25.7671074\n    AtomicLocal         -18.8557659\n    AtomicNonlocal      14.8522619\n    Ewald               -67.1831486\n    PspCorrection       -2.3569765\n    Hartree             4.8485374 \n    Xc                  -19.3336822\n\n    total               -62.261666461642\n"
     },
     "metadata": {},
     "execution_count": 5
    }
   ],
   "cell_type": "code",
   "source": [
    "scfres.energies"
   ],
   "metadata": {},
   "execution_count": 5
  }
 ],
 "nbformat_minor": 3,
 "metadata": {
  "language_info": {
   "file_extension": ".jl",
   "mimetype": "application/julia",
   "name": "julia",
   "version": "1.4.2"
  },
  "kernelspec": {
   "name": "julia-1.4",
   "display_name": "Julia 1.4.2",
   "language": "julia"
  }
 },
 "nbformat": 4
}
