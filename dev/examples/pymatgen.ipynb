{
 "cells": [
  {
   "cell_type": "markdown",
   "source": [
    "# Creating supercells with pymatgen\n",
    "\n",
    "The [Pymatgen](https://pymatgen.org/) python library allows to setup\n",
    "solid-state calculations using a flexible set of classes as well as an API\n",
    "to an online data base of structures. Its `Structure` and `Lattice`\n",
    "objects are directly supported by the DFTK `load_atoms` and `load_lattice`\n",
    "functions, such that DFTK may be readily used to run calculation on systems\n",
    "defined in pymatgen. Using the `pymatgen_structure` function a conversion\n",
    "from DFTK to pymatgen structures is also possible. In the following we\n",
    "use this to create a silicon supercell and find its LDA ground state\n",
    "using direct minimisation."
   ],
   "metadata": {}
  },
  {
   "cell_type": "markdown",
   "source": [
    "First we setup the silicon lattice in DFTK."
   ],
   "metadata": {}
  },
  {
   "outputs": [],
   "cell_type": "code",
   "source": [
    "using DFTK\n",
    "\n",
    "a = 10.263141334305942  # Lattice constant in Bohr\n",
    "lattice = a / 2 .* [[0 1 1.]; [1 0 1.]; [1 1 0.]]\n",
    "Si = ElementPsp(:Si, psp=load_psp(\"hgh/lda/Si-q4\"))\n",
    "atoms = [Si => [ones(3)/8, -ones(3)/8]];"
   ],
   "metadata": {},
   "execution_count": 1
  },
  {
   "cell_type": "markdown",
   "source": [
    "Next we make a `[2, 2, 2]` supercell using pymatgen"
   ],
   "metadata": {}
  },
  {
   "outputs": [],
   "cell_type": "code",
   "source": [
    "pystruct = pymatgen_structure(lattice, atoms)\n",
    "pystruct.make_supercell([2, 2, 2])\n",
    "lattice = load_lattice(pystruct)\n",
    "atoms = [Si => [s.frac_coords for s in pystruct.sites]];"
   ],
   "metadata": {},
   "execution_count": 2
  },
  {
   "cell_type": "markdown",
   "source": [
    "Setup an LDA model and discretize using\n",
    "a single kpoint and a small `Ecut` of 5 Hartree."
   ],
   "metadata": {}
  },
  {
   "outputs": [
    {
     "output_type": "execute_result",
     "data": {
      "text/plain": "PlaneWaveBasis (Ecut=5.0, 1 kpoints)"
     },
     "metadata": {},
     "execution_count": 3
    }
   ],
   "cell_type": "code",
   "source": [
    "model = model_LDA(lattice, atoms)\n",
    "basis = PlaneWaveBasis(model, 5, kgrid=(1, 1, 1))"
   ],
   "metadata": {},
   "execution_count": 3
  },
  {
   "cell_type": "markdown",
   "source": [
    "Find the ground state using direct minimisation (always using SCF is boring ...)"
   ],
   "metadata": {}
  },
  {
   "outputs": [
    {
     "name": "stdout",
     "output_type": "stream",
     "text": [
      "Iter     Function value   Gradient norm \n",
      "     0     1.113146e+02     1.482029e+00\n",
      " * time: 0.6992490291595459\n",
      "     1     1.071696e+01     9.491443e-01\n",
      " * time: 2.0883591175079346\n",
      "     2    -1.138461e+01     1.105409e+00\n",
      " * time: 2.7834880352020264\n",
      "     3    -3.402291e+01     7.557699e-01\n",
      " * time: 3.7636759281158447\n",
      "     4    -4.737597e+01     5.889780e-01\n",
      " * time: 4.72720193862915\n",
      "     5    -5.702895e+01     2.395512e-01\n",
      " * time: 5.724928140640259\n",
      "     6    -5.997158e+01     1.423997e-01\n",
      " * time: 6.382604122161865\n",
      "     7    -6.101207e+01     4.509268e-02\n",
      " * time: 7.047425031661987\n",
      "     8    -6.138645e+01     7.900208e-02\n",
      " * time: 7.70560097694397\n",
      "     9    -6.164324e+01     3.691503e-02\n",
      " * time: 8.371928930282593\n",
      "    10    -6.184017e+01     2.181680e-02\n",
      " * time: 9.027969121932983\n",
      "    11    -6.199117e+01     1.860231e-02\n",
      " * time: 9.675604104995728\n",
      "    12    -6.205072e+01     1.413046e-02\n",
      " * time: 10.32085394859314\n",
      "    13    -6.211534e+01     1.254323e-02\n",
      " * time: 10.997547149658203\n",
      "    14    -6.214511e+01     1.100218e-02\n",
      " * time: 11.646201133728027\n",
      "    15    -6.217208e+01     1.091474e-02\n",
      " * time: 12.295642137527466\n",
      "    16    -6.218551e+01     9.631001e-03\n",
      " * time: 12.983865022659302\n",
      "    17    -6.219571e+01     5.656886e-03\n",
      " * time: 13.659446954727173\n",
      "    18    -6.220390e+01     5.718823e-03\n",
      " * time: 14.337074041366577\n",
      "    19    -6.221136e+01     6.371978e-03\n",
      " * time: 15.02285099029541\n",
      "    20    -6.221893e+01     6.282631e-03\n",
      " * time: 15.67647910118103\n",
      "    21    -6.222698e+01     7.315006e-03\n",
      " * time: 16.324023962020874\n",
      "    22    -6.223520e+01     5.775908e-03\n",
      " * time: 16.97357201576233\n",
      "    23    -6.224282e+01     5.021471e-03\n",
      " * time: 17.62908697128296\n",
      "    24    -6.224905e+01     3.926381e-03\n",
      " * time: 18.28337597846985\n",
      "    25    -6.225315e+01     3.139243e-03\n",
      " * time: 18.93023109436035\n",
      "    26    -6.225580e+01     2.709913e-03\n",
      " * time: 19.57584500312805\n",
      "    27    -6.225757e+01     2.588291e-03\n",
      " * time: 20.22026515007019\n",
      "    28    -6.225883e+01     2.323200e-03\n",
      " * time: 20.874036073684692\n",
      "    29    -6.225978e+01     1.891179e-03\n",
      " * time: 21.515499114990234\n",
      "    30    -6.226048e+01     1.552824e-03\n",
      " * time: 22.15497612953186\n",
      "    31    -6.226097e+01     1.223349e-03\n",
      " * time: 22.803460121154785\n",
      "    32    -6.226129e+01     9.028444e-04\n",
      " * time: 23.46927809715271\n",
      "    33    -6.226148e+01     5.939061e-04\n",
      " * time: 24.12806510925293\n",
      "    34    -6.226158e+01     4.062811e-04\n",
      " * time: 24.76841711997986\n",
      "    35    -6.226162e+01     3.446942e-04\n",
      " * time: 25.433179140090942\n",
      "    36    -6.226164e+01     2.826078e-04\n",
      " * time: 26.087186098098755\n",
      "    37    -6.226165e+01     1.826809e-04\n",
      " * time: 26.742758989334106\n",
      "    38    -6.226166e+01     1.157633e-04\n",
      " * time: 27.40966510772705\n",
      "    39    -6.226166e+01     1.074701e-04\n",
      " * time: 28.08142399787903\n",
      "    40    -6.226166e+01     8.527162e-05\n",
      " * time: 28.737993955612183\n",
      "    41    -6.226166e+01     7.168839e-05\n",
      " * time: 29.389981985092163\n",
      "    42    -6.226166e+01     5.570573e-05\n",
      " * time: 30.032937049865723\n",
      "    43    -6.226167e+01     4.743906e-05\n",
      " * time: 30.715852975845337\n",
      "    44    -6.226167e+01     3.627797e-05\n",
      " * time: 31.37617802619934\n",
      "    45    -6.226167e+01     2.334269e-05\n",
      " * time: 32.021677017211914\n",
      "    46    -6.226167e+01     1.744620e-05\n",
      " * time: 32.67348909378052\n",
      "    47    -6.226167e+01     1.050806e-05\n",
      " * time: 33.37345314025879\n",
      "    48    -6.226167e+01     6.450375e-06\n",
      " * time: 34.009320974349976\n",
      "    49    -6.226167e+01     4.948902e-06\n",
      " * time: 34.661309003829956\n",
      "    50    -6.226167e+01     4.413429e-06\n",
      " * time: 35.31855010986328\n"
     ]
    }
   ],
   "cell_type": "code",
   "source": [
    "scfres = direct_minimization(basis, tol=1e-5);"
   ],
   "metadata": {},
   "execution_count": 4
  },
  {
   "outputs": [
    {
     "output_type": "execute_result",
     "data": {
      "text/plain": "Energy breakdown:\n    Kinetic             25.7671053\n    AtomicLocal         -18.8557599\n    AtomicNonlocal      14.8522599\n    Ewald               -67.1831486\n    PspCorrection       -2.3569765\n    Hartree             4.8485343 \n    Xc                  -19.3336809\n\n    total               -62.261666454116\n"
     },
     "metadata": {},
     "execution_count": 5
    }
   ],
   "cell_type": "code",
   "source": [
    "scfres.energies"
   ],
   "metadata": {},
   "execution_count": 5
  }
 ],
 "nbformat_minor": 3,
 "metadata": {
  "language_info": {
   "file_extension": ".jl",
   "mimetype": "application/julia",
   "name": "julia",
   "version": "1.6.2"
  },
  "kernelspec": {
   "name": "julia-1.6",
   "display_name": "Julia 1.6.2",
   "language": "julia"
  }
 },
 "nbformat": 4
}
