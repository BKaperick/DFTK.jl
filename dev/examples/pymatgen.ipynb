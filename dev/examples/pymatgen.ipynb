{
 "cells": [
  {
   "cell_type": "markdown",
   "source": [
    "# Creating supercells with pymatgen\n",
    "\n",
    "The [Pymatgen](https://pymatgen.org/) python library allows to setup\n",
    "solid-state calculations using a flexible set of classes as well as an API\n",
    "to an online data base of structures. Its `Structure` and `Lattice`\n",
    "objects are directly supported by the DFTK `load_atoms` and `load_lattice`\n",
    "functions, such that DFTK may be readily used to run calculation on systems\n",
    "defined in pymatgen. Using the `pymatgen_structure` function a conversion\n",
    "from DFTK to pymatgen structures is also possible. In the following we\n",
    "use this to create a silicon supercell and find its LDA ground state\n",
    "using direct minimisation."
   ],
   "metadata": {}
  },
  {
   "cell_type": "markdown",
   "source": [
    "First we setup the silicon lattice in DFTK."
   ],
   "metadata": {}
  },
  {
   "outputs": [],
   "cell_type": "code",
   "source": [
    "using DFTK\n",
    "\n",
    "a = 10.263141334305942  # Lattice constant in Bohr\n",
    "lattice = a / 2 .* [[0 1 1.]; [1 0 1.]; [1 1 0.]]\n",
    "Si = ElementPsp(:Si, psp=load_psp(\"hgh/lda/Si-q4\"))\n",
    "atoms = [Si => [ones(3)/8, -ones(3)/8]];"
   ],
   "metadata": {},
   "execution_count": 1
  },
  {
   "cell_type": "markdown",
   "source": [
    "Next we make a `[2, 2, 2]` supercell using pymatgen"
   ],
   "metadata": {}
  },
  {
   "outputs": [],
   "cell_type": "code",
   "source": [
    "pystruct = pymatgen_structure(lattice, atoms)\n",
    "pystruct.make_supercell([2, 2, 2])\n",
    "lattice = load_lattice(pystruct)\n",
    "atoms = [Si => [s.frac_coords for s in pystruct.sites]];"
   ],
   "metadata": {},
   "execution_count": 2
  },
  {
   "cell_type": "markdown",
   "source": [
    "Setup an LDA model and discretize using\n",
    "a single kpoint and a small `Ecut` of 5 Hartree.\n",
    "Notice that `PlaneWaveBasis` defaults to just using the ``Γ``-point\n",
    "if no ``k``-point options are provided."
   ],
   "metadata": {}
  },
  {
   "outputs": [
    {
     "output_type": "execute_result",
     "data": {
      "text/plain": "PlaneWaveBasis (Ecut=5.0, 1 kpoints)"
     },
     "metadata": {},
     "execution_count": 3
    }
   ],
   "cell_type": "code",
   "source": [
    "model = model_LDA(lattice, atoms)\n",
    "basis = PlaneWaveBasis(model, 5)"
   ],
   "metadata": {},
   "execution_count": 3
  },
  {
   "cell_type": "markdown",
   "source": [
    "Find the ground state using direct minimisation (always using SCF is boring ...)"
   ],
   "metadata": {}
  },
  {
   "outputs": [
    {
     "name": "stdout",
     "output_type": "stream",
     "text": [
      "Iter     Function value   Gradient norm \n",
      "     0     1.106792e+02     1.719980e+00\n",
      " * time: 0.1186380386352539\n",
      "     1     1.009146e+01     9.315795e-01\n",
      " * time: 0.9719219207763672\n",
      "     2    -1.170573e+01     1.113803e+00\n",
      " * time: 1.1092529296875\n",
      "     3    -3.403988e+01     8.614626e-01\n",
      " * time: 1.2720279693603516\n",
      "     4    -4.748347e+01     6.091410e-01\n",
      " * time: 1.4220459461212158\n",
      "     5    -5.688204e+01     2.025914e-01\n",
      " * time: 1.5667710304260254\n",
      "     6    -5.976214e+01     1.344801e-01\n",
      " * time: 1.680103063583374\n",
      "     7    -6.088585e+01     5.378643e-02\n",
      " * time: 1.7917490005493164\n",
      "     8    -6.133260e+01     4.756911e-02\n",
      " * time: 1.9084501266479492\n",
      "     9    -6.159424e+01     4.625756e-02\n",
      " * time: 2.0237491130828857\n",
      "    10    -6.181963e+01     2.822852e-02\n",
      " * time: 2.1334049701690674\n",
      "    11    -6.198917e+01     2.131999e-02\n",
      " * time: 2.248522996902466\n",
      "    12    -6.206661e+01     1.663200e-02\n",
      " * time: 2.3626670837402344\n",
      "    13    -6.212623e+01     1.278014e-02\n",
      " * time: 2.4697670936584473\n",
      "    14    -6.216140e+01     1.132138e-02\n",
      " * time: 2.5835471153259277\n",
      "    15    -6.218815e+01     1.053421e-02\n",
      " * time: 2.7002789974212646\n",
      "    16    -6.220406e+01     1.019548e-02\n",
      " * time: 2.8087270259857178\n",
      "    17    -6.221434e+01     8.911176e-03\n",
      " * time: 2.9257290363311768\n",
      "    18    -6.222124e+01     7.835278e-03\n",
      " * time: 3.0418519973754883\n",
      "    19    -6.222727e+01     6.726516e-03\n",
      " * time: 3.1509311199188232\n",
      "    20    -6.223261e+01     6.841773e-03\n",
      " * time: 3.266771078109741\n",
      "    21    -6.223805e+01     5.989237e-03\n",
      " * time: 3.381747007369995\n",
      "    22    -6.224356e+01     5.404913e-03\n",
      " * time: 3.4899449348449707\n",
      "    23    -6.224907e+01     5.029262e-03\n",
      " * time: 3.605087995529175\n",
      "    24    -6.225371e+01     5.241006e-03\n",
      " * time: 3.7203500270843506\n",
      "    25    -6.225695e+01     3.554007e-03\n",
      " * time: 3.828284978866577\n",
      "    26    -6.225893e+01     2.583843e-03\n",
      " * time: 3.944283962249756\n",
      "    27    -6.226001e+01     1.764096e-03\n",
      " * time: 4.058438062667847\n",
      "    28    -6.226059e+01     1.576785e-03\n",
      " * time: 4.166126012802124\n",
      "    29    -6.226093e+01     1.492868e-03\n",
      " * time: 4.2933409214019775\n",
      "    30    -6.226117e+01     1.054455e-03\n",
      " * time: 4.41386604309082\n",
      "    31    -6.226134e+01     8.046166e-04\n",
      " * time: 4.522226095199585\n",
      "    32    -6.226147e+01     7.391937e-04\n",
      " * time: 4.637344121932983\n",
      "    33    -6.226156e+01     5.838808e-04\n",
      " * time: 4.766600131988525\n",
      "    34    -6.226161e+01     4.060676e-04\n",
      " * time: 4.891509056091309\n",
      "    35    -6.226164e+01     2.668374e-04\n",
      " * time: 5.026754140853882\n",
      "    36    -6.226165e+01     3.108730e-04\n",
      " * time: 5.161221981048584\n",
      "    37    -6.226166e+01     1.298509e-04\n",
      " * time: 5.269181966781616\n",
      "    38    -6.226166e+01     9.278831e-05\n",
      " * time: 5.390944004058838\n",
      "    39    -6.226166e+01     6.834914e-05\n",
      " * time: 5.528295993804932\n",
      "    40    -6.226166e+01     5.599864e-05\n",
      " * time: 5.652705907821655\n",
      "    41    -6.226167e+01     5.194336e-05\n",
      " * time: 5.783724069595337\n",
      "    42    -6.226167e+01     4.747104e-05\n",
      " * time: 5.901330947875977\n",
      "    43    -6.226167e+01     2.911619e-05\n",
      " * time: 6.009473085403442\n",
      "    44    -6.226167e+01     2.293217e-05\n",
      " * time: 6.123773097991943\n",
      "    45    -6.226167e+01     1.881118e-05\n",
      " * time: 6.237458944320679\n",
      "    46    -6.226167e+01     1.411717e-05\n",
      " * time: 6.347028017044067\n",
      "    47    -6.226167e+01     9.692193e-06\n",
      " * time: 6.483397006988525\n",
      "    48    -6.226167e+01     6.525172e-06\n",
      " * time: 6.610445976257324\n",
      "    49    -6.226167e+01     4.778212e-06\n",
      " * time: 6.717906951904297\n",
      "    50    -6.226167e+01     5.274706e-06\n",
      " * time: 6.831107139587402\n"
     ]
    }
   ],
   "cell_type": "code",
   "source": [
    "scfres = direct_minimization(basis, tol=1e-5);"
   ],
   "metadata": {},
   "execution_count": 4
  },
  {
   "outputs": [
    {
     "output_type": "execute_result",
     "data": {
      "text/plain": "Energy breakdown:\n    Kinetic             25.7671064\n    AtomicLocal         -18.8557686\n    AtomicNonlocal      14.8522658\n    Ewald               -67.1831486\n    PspCorrection       -2.3569765\n    Hartree             4.8485371 \n    Xc                  -19.3336820\n\n    total               -62.261666455616\n"
     },
     "metadata": {},
     "execution_count": 5
    }
   ],
   "cell_type": "code",
   "source": [
    "scfres.energies"
   ],
   "metadata": {},
   "execution_count": 5
  }
 ],
 "nbformat_minor": 3,
 "metadata": {
  "language_info": {
   "file_extension": ".jl",
   "mimetype": "application/julia",
   "name": "julia",
   "version": "1.3.1"
  },
  "kernelspec": {
   "name": "julia-1.3",
   "display_name": "Julia 1.3.1",
   "language": "julia"
  }
 },
 "nbformat": 4
}
