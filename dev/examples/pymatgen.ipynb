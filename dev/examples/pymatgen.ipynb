{
 "cells": [
  {
   "cell_type": "markdown",
   "source": [
    "# Creating supercells with pymatgen\n",
    "\n",
    "The [Pymatgen](https://pymatgen.org/) python library allows to setup\n",
    "solid-state calculations using a flexible set of classes as well as an API\n",
    "to an online data base of structures. Its `Structure` and `Lattice`\n",
    "objects are directly supported by the DFTK `load_atoms` and `load_lattice`\n",
    "functions, such that DFTK may be readily used to run calculation on systems\n",
    "defined in pymatgen. Using the `pymatgen_structure` function a conversion\n",
    "from DFTK to pymatgen structures is also possible. In the following we\n",
    "use this to create a silicon supercell and find its LDA ground state\n",
    "using direct minimisation."
   ],
   "metadata": {}
  },
  {
   "cell_type": "markdown",
   "source": [
    "First we setup the silicon lattice in DFTK."
   ],
   "metadata": {}
  },
  {
   "outputs": [],
   "cell_type": "code",
   "source": [
    "using DFTK\n",
    "\n",
    "a = 10.263141334305942  # Lattice constant in Bohr\n",
    "lattice = a / 2 .* [[0 1 1.]; [1 0 1.]; [1 1 0.]]\n",
    "Si = ElementPsp(:Si, psp=load_psp(\"hgh/lda/Si-q4\"))\n",
    "atoms = [Si => [ones(3)/8, -ones(3)/8]];"
   ],
   "metadata": {},
   "execution_count": 1
  },
  {
   "cell_type": "markdown",
   "source": [
    "Next we make a `[2, 2, 2]` supercell using pymatgen"
   ],
   "metadata": {}
  },
  {
   "outputs": [],
   "cell_type": "code",
   "source": [
    "pystruct = pymatgen_structure(lattice, atoms)\n",
    "pystruct.make_supercell([2, 2, 2])\n",
    "lattice = load_lattice(pystruct)\n",
    "atoms = [Si => [s.frac_coords for s in pystruct.sites]];"
   ],
   "metadata": {},
   "execution_count": 2
  },
  {
   "cell_type": "markdown",
   "source": [
    "Setup an LDA model and discretize using\n",
    "a single kpoint and a small `Ecut` of 5 Hartree."
   ],
   "metadata": {}
  },
  {
   "outputs": [
    {
     "output_type": "execute_result",
     "data": {
      "text/plain": "PlaneWaveBasis (Ecut=5.0, 1 kpoints)"
     },
     "metadata": {},
     "execution_count": 3
    }
   ],
   "cell_type": "code",
   "source": [
    "model = model_LDA(lattice, atoms)\n",
    "basis = PlaneWaveBasis(model, 5, kgrid=(1, 1, 1))"
   ],
   "metadata": {},
   "execution_count": 3
  },
  {
   "cell_type": "markdown",
   "source": [
    "Find the ground state using direct minimisation (always using SCF is boring ...)"
   ],
   "metadata": {}
  },
  {
   "outputs": [
    {
     "name": "stdout",
     "output_type": "stream",
     "text": [
      "Iter     Function value   Gradient norm \n",
      "     0     1.126015e+02     1.899871e+00\n",
      " * time: 0.3677330017089844\n",
      "     1     1.037079e+01     1.090411e+00\n",
      " * time: 2.3444690704345703\n",
      "     2    -1.246678e+01     1.279433e+00\n",
      " * time: 3.0169551372528076\n",
      "     3    -3.438502e+01     9.656248e-01\n",
      " * time: 4.007810115814209\n",
      "     4    -4.786761e+01     6.413934e-01\n",
      " * time: 5.017750024795532\n",
      "     5    -5.705687e+01     2.336640e-01\n",
      " * time: 5.994978189468384\n",
      "     6    -5.980880e+01     1.470664e-01\n",
      " * time: 6.65503716468811\n",
      "     7    -6.087065e+01     4.670826e-02\n",
      " * time: 7.3188111782073975\n",
      "     8    -6.129091e+01     7.536078e-02\n",
      " * time: 8.140619039535522\n",
      "     9    -6.156683e+01     4.336126e-02\n",
      " * time: 8.812929153442383\n",
      "    10    -6.176473e+01     2.596315e-02\n",
      " * time: 9.489200115203857\n",
      "    11    -6.190852e+01     1.933111e-02\n",
      " * time: 10.1636381149292\n",
      "    12    -6.197245e+01     1.769442e-02\n",
      " * time: 10.836238145828247\n",
      "    13    -6.204786e+01     1.669765e-02\n",
      " * time: 11.852210998535156\n",
      "    14    -6.209310e+01     1.779149e-02\n",
      " * time: 12.512411117553711\n",
      "    15    -6.214174e+01     1.685936e-02\n",
      " * time: 13.174013137817383\n",
      "    16    -6.217015e+01     1.296356e-02\n",
      " * time: 13.833449125289917\n",
      "    17    -6.218886e+01     8.627023e-03\n",
      " * time: 14.506622076034546\n",
      "    18    -6.219976e+01     7.741388e-03\n",
      " * time: 15.167253017425537\n",
      "    19    -6.220666e+01     6.553974e-03\n",
      " * time: 15.82565712928772\n",
      "    20    -6.221127e+01     5.148581e-03\n",
      " * time: 16.497281074523926\n",
      "    21    -6.221494e+01     4.341335e-03\n",
      " * time: 17.157371997833252\n",
      "    22    -6.221802e+01     5.222028e-03\n",
      " * time: 17.81445598602295\n",
      "    23    -6.222081e+01     5.543723e-03\n",
      " * time: 18.482547998428345\n",
      "    24    -6.222386e+01     6.493919e-03\n",
      " * time: 19.140923023223877\n",
      "    25    -6.222790e+01     6.273940e-03\n",
      " * time: 19.801462173461914\n",
      "    26    -6.223317e+01     6.823847e-03\n",
      " * time: 20.468980073928833\n",
      "    27    -6.223960e+01     6.807787e-03\n",
      " * time: 21.128456115722656\n",
      "    28    -6.224673e+01     5.676415e-03\n",
      " * time: 21.79480814933777\n",
      "    29    -6.225312e+01     3.841934e-03\n",
      " * time: 22.45384407043457\n",
      "    30    -6.225631e+01     3.838590e-03\n",
      " * time: 23.113397121429443\n",
      "    31    -6.225819e+01     2.819009e-03\n",
      " * time: 23.78075098991394\n",
      "    32    -6.225931e+01     2.231859e-03\n",
      " * time: 24.439953088760376\n",
      "    33    -6.226017e+01     1.860140e-03\n",
      " * time: 25.09830904006958\n",
      "    34    -6.226069e+01     1.439631e-03\n",
      " * time: 25.7655611038208\n",
      "    35    -6.226111e+01     1.215341e-03\n",
      " * time: 26.42608118057251\n",
      "    36    -6.226135e+01     9.747275e-04\n",
      " * time: 27.085532188415527\n",
      "    37    -6.226149e+01     6.548019e-04\n",
      " * time: 27.751710176467896\n",
      "    38    -6.226157e+01     4.995589e-04\n",
      " * time: 28.409499168395996\n",
      "    39    -6.226161e+01     3.732093e-04\n",
      " * time: 29.067507028579712\n",
      "    40    -6.226163e+01     2.611763e-04\n",
      " * time: 29.733214139938354\n",
      "    41    -6.226165e+01     2.080943e-04\n",
      " * time: 30.3924720287323\n",
      "    42    -6.226165e+01     1.425665e-04\n",
      " * time: 31.062740087509155\n",
      "    43    -6.226166e+01     1.255971e-04\n",
      " * time: 31.72534203529358\n",
      "    44    -6.226166e+01     1.089048e-04\n",
      " * time: 32.38584113121033\n",
      "    45    -6.226166e+01     9.262562e-05\n",
      " * time: 33.055153131484985\n",
      "    46    -6.226166e+01     7.113534e-05\n",
      " * time: 33.71471905708313\n",
      "    47    -6.226167e+01     5.474706e-05\n",
      " * time: 34.373425006866455\n",
      "    48    -6.226167e+01     3.903346e-05\n",
      " * time: 35.04116201400757\n",
      "    49    -6.226167e+01     3.043022e-05\n",
      " * time: 35.70161819458008\n",
      "    50    -6.226167e+01     2.259515e-05\n",
      " * time: 36.35963320732117\n",
      "    51    -6.226167e+01     1.801680e-05\n",
      " * time: 37.02619910240173\n",
      "    52    -6.226167e+01     1.397801e-05\n",
      " * time: 37.68436098098755\n",
      "    53    -6.226167e+01     1.205948e-05\n",
      " * time: 38.34406304359436\n",
      "    54    -6.226167e+01     9.964327e-06\n",
      " * time: 39.015257120132446\n",
      "    55    -6.226167e+01     6.934048e-06\n",
      " * time: 39.675132036209106\n",
      "    56    -6.226167e+01     4.743719e-06\n",
      " * time: 40.34142208099365\n",
      "    57    -6.226167e+01     4.216386e-06\n",
      " * time: 41.00173997879028\n",
      "    58    -6.226167e+01     4.025173e-06\n",
      " * time: 41.65995812416077\n",
      "    59    -6.226167e+01     2.908512e-06\n",
      " * time: 42.32677507400513\n"
     ]
    }
   ],
   "cell_type": "code",
   "source": [
    "scfres = direct_minimization(basis, tol=1e-5);"
   ],
   "metadata": {},
   "execution_count": 4
  },
  {
   "outputs": [
    {
     "output_type": "execute_result",
     "data": {
      "text/plain": "Energy breakdown:\n    Kinetic             25.7671069\n    AtomicLocal         -18.8557708\n    AtomicNonlocal      14.8522669\n    Ewald               -67.1831486\n    PspCorrection       -2.3569765\n    Hartree             4.8485382 \n    Xc                  -19.3336824\n\n    total               -62.261666460413\n"
     },
     "metadata": {},
     "execution_count": 5
    }
   ],
   "cell_type": "code",
   "source": [
    "scfres.energies"
   ],
   "metadata": {},
   "execution_count": 5
  }
 ],
 "nbformat_minor": 3,
 "metadata": {
  "language_info": {
   "file_extension": ".jl",
   "mimetype": "application/julia",
   "name": "julia",
   "version": "1.5.3"
  },
  "kernelspec": {
   "name": "julia-1.5",
   "display_name": "Julia 1.5.3",
   "language": "julia"
  }
 },
 "nbformat": 4
}
