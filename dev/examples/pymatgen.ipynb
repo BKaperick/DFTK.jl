{
 "cells": [
  {
   "cell_type": "markdown",
   "source": [
    "# Creating supercells with pymatgen\n",
    "\n",
    "The [Pymatgen](https://pymatgen.org/) python library allows to setup\n",
    "solid-state calculations using a flexible set of classes as well as an API\n",
    "to an online data base of structures. Its `Structure` and `Lattice`\n",
    "objects are directly supported by the DFTK `load_atoms` and `load_lattice`\n",
    "functions, such that DFTK may be readily used to run calculation on systems\n",
    "defined in pymatgen. Using the `pymatgen_structure` function a conversion\n",
    "from DFTK to pymatgen structures is also possible. In the following we\n",
    "use this to create a silicon supercell and find its LDA ground state\n",
    "using direct minimisation."
   ],
   "metadata": {}
  },
  {
   "cell_type": "markdown",
   "source": [
    "First we setup the silicon lattice in DFTK."
   ],
   "metadata": {}
  },
  {
   "outputs": [],
   "cell_type": "code",
   "source": [
    "using DFTK\n",
    "\n",
    "a = 10.263141334305942  # Lattice constant in Bohr\n",
    "lattice = a / 2 .* [[0 1 1.]; [1 0 1.]; [1 1 0.]]\n",
    "Si = ElementPsp(:Si, psp=load_psp(\"hgh/lda/Si-q4\"))\n",
    "atoms = [Si => [ones(3)/8, -ones(3)/8]];"
   ],
   "metadata": {},
   "execution_count": 1
  },
  {
   "cell_type": "markdown",
   "source": [
    "Next we make a `[2, 2, 2]` supercell using pymatgen"
   ],
   "metadata": {}
  },
  {
   "outputs": [],
   "cell_type": "code",
   "source": [
    "pystruct = pymatgen_structure(lattice, atoms)\n",
    "pystruct.make_supercell([2, 2, 2])\n",
    "lattice = load_lattice(pystruct)\n",
    "atoms = [Si => [s.frac_coords for s in pystruct.sites]];"
   ],
   "metadata": {},
   "execution_count": 2
  },
  {
   "cell_type": "markdown",
   "source": [
    "Setup an LDA model and discretize using\n",
    "a single kpoint and a small `Ecut` of 5 Hartree.\n",
    "Notice that `PlaneWaveBasis` defaults to just using the ``Γ``-point\n",
    "if no ``k``-point options are provided."
   ],
   "metadata": {}
  },
  {
   "outputs": [
    {
     "name": "stdout",
     "output_type": "stream",
     "text": [
      "Iter     Function value   Gradient norm \n",
      "     0     1.122031e+02     1.605891e+00\n",
      " * time: 0.09089398384094238\n",
      "     1     1.094251e+01     8.371706e-01\n",
      " * time: 0.9229190349578857\n",
      "     2    -1.215395e+01     1.021238e+00\n",
      " * time: 1.109787940979004\n",
      "     3    -3.451538e+01     7.633220e-01\n",
      " * time: 1.2514488697052002\n",
      "     4    -4.806141e+01     5.944475e-01\n",
      " * time: 1.4167988300323486\n",
      "     5    -5.705667e+01     1.861962e-01\n",
      " * time: 1.569464921951294\n",
      "     6    -5.985841e+01     9.755490e-02\n",
      " * time: 1.6795730590820312\n",
      "     7    -6.090483e+01     5.510798e-02\n",
      " * time: 1.7990589141845703\n",
      "     8    -6.129507e+01     6.613868e-02\n",
      " * time: 1.9097979068756104\n",
      "     9    -6.160966e+01     3.337990e-02\n",
      " * time: 2.028977870941162\n",
      "    10    -6.181147e+01     2.511398e-02\n",
      " * time: 2.140645980834961\n",
      "    11    -6.197857e+01     1.859732e-02\n",
      " * time: 2.2588050365448\n",
      "    12    -6.204903e+01     1.519457e-02\n",
      " * time: 2.3675689697265625\n",
      "    13    -6.211840e+01     1.589424e-02\n",
      " * time: 2.4830868244171143\n",
      "    14    -6.214825e+01     1.449837e-02\n",
      " * time: 2.591294050216675\n",
      "    15    -6.217473e+01     1.061501e-02\n",
      " * time: 2.7068488597869873\n",
      "    16    -6.219035e+01     9.991751e-03\n",
      " * time: 2.8147590160369873\n",
      "    17    -6.220218e+01     7.718907e-03\n",
      " * time: 2.930588960647583\n",
      "    18    -6.221210e+01     8.143663e-03\n",
      " * time: 3.0386879444122314\n",
      "    19    -6.221981e+01     7.304926e-03\n",
      " * time: 3.1536288261413574\n",
      "    20    -6.222630e+01     7.207514e-03\n",
      " * time: 3.261662006378174\n",
      "    21    -6.223217e+01     7.229449e-03\n",
      " * time: 3.3725409507751465\n",
      "    22    -6.223804e+01     5.629690e-03\n",
      " * time: 3.487694025039673\n",
      "    23    -6.224392e+01     5.495438e-03\n",
      " * time: 3.595500946044922\n",
      "    24    -6.224905e+01     4.753011e-03\n",
      " * time: 3.710742950439453\n",
      "    25    -6.225346e+01     4.102762e-03\n",
      " * time: 3.819962978363037\n",
      "    26    -6.225656e+01     2.707388e-03\n",
      " * time: 3.9374778270721436\n",
      "    27    -6.225849e+01     2.252434e-03\n",
      " * time: 4.048253059387207\n",
      "    28    -6.225961e+01     2.055845e-03\n",
      " * time: 4.163625001907349\n",
      "    29    -6.226034e+01     1.941668e-03\n",
      " * time: 4.27142596244812\n",
      "    30    -6.226083e+01     1.326272e-03\n",
      " * time: 4.38715386390686\n",
      "    31    -6.226116e+01     1.027459e-03\n",
      " * time: 4.495381832122803\n",
      "    32    -6.226135e+01     7.958757e-04\n",
      " * time: 4.6108479499816895\n",
      "    33    -6.226149e+01     6.596108e-04\n",
      " * time: 4.71924901008606\n",
      "    34    -6.226157e+01     4.237578e-04\n",
      " * time: 4.834641933441162\n",
      "    35    -6.226162e+01     3.529703e-04\n",
      " * time: 4.943356037139893\n",
      "    36    -6.226164e+01     2.373376e-04\n",
      " * time: 5.058246850967407\n",
      "    37    -6.226165e+01     1.514285e-04\n",
      " * time: 5.166981935501099\n",
      "    38    -6.226166e+01     1.014744e-04\n",
      " * time: 5.282444953918457\n",
      "    39    -6.226166e+01     8.754955e-05\n",
      " * time: 5.391465902328491\n",
      "    40    -6.226166e+01     7.434323e-05\n",
      " * time: 5.5060670375823975\n",
      "    41    -6.226166e+01     6.784847e-05\n",
      " * time: 5.613443851470947\n",
      "    42    -6.226167e+01     6.188313e-05\n",
      " * time: 5.7277679443359375\n",
      "    43    -6.226167e+01     4.457975e-05\n",
      " * time: 5.834990978240967\n",
      "    44    -6.226167e+01     3.488925e-05\n",
      " * time: 5.949986934661865\n",
      "    45    -6.226167e+01     2.402992e-05\n",
      " * time: 6.05902099609375\n",
      "    46    -6.226167e+01     1.807213e-05\n",
      " * time: 6.173388957977295\n",
      "    47    -6.226167e+01     1.418023e-05\n",
      " * time: 6.279799938201904\n",
      "    48    -6.226167e+01     1.197187e-05\n",
      " * time: 6.397619962692261\n",
      "    49    -6.226167e+01     8.684382e-06\n",
      " * time: 6.510144948959351\n",
      "    50    -6.226167e+01     6.769872e-06\n",
      " * time: 6.6388280391693115\n",
      "    51    -6.226167e+01     4.215095e-06\n",
      " * time: 6.753763914108276\n",
      "    52    -6.226167e+01     3.267099e-06\n",
      " * time: 6.86139702796936\n",
      "    53    -6.226167e+01     2.611382e-06\n",
      " * time: 6.976233959197998\n"
     ]
    }
   ],
   "cell_type": "code",
   "source": [
    "model = model_LDA(lattice, atoms)\n",
    "basis = PlaneWaveBasis(model, 5)\n",
    "\n",
    "# Find the ground state using direct minimisation (always using SCF is boring ...)\n",
    "scfres = direct_minimization(basis, tol=1e-5);"
   ],
   "metadata": {},
   "execution_count": 3
  },
  {
   "outputs": [
    {
     "output_type": "execute_result",
     "data": {
      "text/plain": "Energy breakdown:\n    Kinetic             25.7671070\n    AtomicLocal         -18.8557682\n    AtomicNonlocal      14.8522646\n    Ewald               -67.1831486\n    PspCorrection       -2.3569765\n    Hartree             4.8485373 \n    Xc                  -19.3336821\n\n    total               -62.261666460374\n"
     },
     "metadata": {},
     "execution_count": 4
    }
   ],
   "cell_type": "code",
   "source": [
    "scfres.energies"
   ],
   "metadata": {},
   "execution_count": 4
  }
 ],
 "nbformat_minor": 3,
 "metadata": {
  "language_info": {
   "file_extension": ".jl",
   "mimetype": "application/julia",
   "name": "julia",
   "version": "1.3.1"
  },
  "kernelspec": {
   "name": "julia-1.3",
   "display_name": "Julia 1.3.1",
   "language": "julia"
  }
 },
 "nbformat": 4
}
