{
 "cells": [
  {
   "cell_type": "markdown",
   "source": [
    "# Creating supercells with pymatgen\n",
    "\n",
    "The [Pymatgen](https://pymatgen.org/) python library allows to setup\n",
    "solid-state calculations using a flexible set of classes as well as an API\n",
    "to an online data base of structures. Its `Structure` and `Lattice`\n",
    "objects are directly supported by the DFTK `load_atoms` and `load_lattice`\n",
    "functions, such that DFTK may be readily used to run calculation on systems\n",
    "defined in pymatgen. Using the `pymatgen_structure` function a conversion\n",
    "from DFTK to pymatgen structures is also possible. In the following we\n",
    "use this to create a silicon supercell and find its LDA ground state\n",
    "using direct minimisation."
   ],
   "metadata": {}
  },
  {
   "cell_type": "markdown",
   "source": [
    "First we setup the silicon lattice in DFTK."
   ],
   "metadata": {}
  },
  {
   "outputs": [],
   "cell_type": "code",
   "source": [
    "using DFTK\n",
    "\n",
    "a = 10.263141334305942  # Lattice constant in Bohr\n",
    "lattice = a / 2 .* [[0 1 1.]; [1 0 1.]; [1 1 0.]]\n",
    "Si = ElementPsp(:Si, psp=load_psp(\"hgh/lda/Si-q4\"))\n",
    "atoms = [Si => [ones(3)/8, -ones(3)/8]];"
   ],
   "metadata": {},
   "execution_count": 1
  },
  {
   "cell_type": "markdown",
   "source": [
    "Next we make a `[2, 2, 2]` supercell using pymatgen"
   ],
   "metadata": {}
  },
  {
   "outputs": [],
   "cell_type": "code",
   "source": [
    "pystruct = pymatgen_structure(lattice, atoms)\n",
    "pystruct.make_supercell([2, 2, 2])\n",
    "lattice = load_lattice(pystruct)\n",
    "atoms = [Si => [s.frac_coords for s in pystruct.sites]];"
   ],
   "metadata": {},
   "execution_count": 2
  },
  {
   "cell_type": "markdown",
   "source": [
    "Setup an LDA model and discretize using\n",
    "a single kpoint and a small `Ecut` of 5 Hartree."
   ],
   "metadata": {}
  },
  {
   "outputs": [
    {
     "output_type": "execute_result",
     "data": {
      "text/plain": "PlaneWaveBasis (Ecut=5.0, 1 kpoints)"
     },
     "metadata": {},
     "execution_count": 3
    }
   ],
   "cell_type": "code",
   "source": [
    "model = model_LDA(lattice, atoms)\n",
    "basis = PlaneWaveBasis(model, 5, kgrid=(1, 1, 1))"
   ],
   "metadata": {},
   "execution_count": 3
  },
  {
   "cell_type": "markdown",
   "source": [
    "Find the ground state using direct minimisation (always using SCF is boring ...)"
   ],
   "metadata": {}
  },
  {
   "outputs": [
    {
     "name": "stdout",
     "output_type": "stream",
     "text": [
      "Iter     Function value   Gradient norm \n",
      "     0     1.124720e+02     1.576764e+00\n",
      " * time: 0.3470571041107178\n",
      "     1     1.070902e+01     1.057659e+00\n",
      " * time: 2.1824259757995605\n",
      "     2    -1.190309e+01     1.005469e+00\n",
      " * time: 2.788555145263672\n",
      "     3    -3.429769e+01     8.411948e-01\n",
      " * time: 3.6946990489959717\n",
      "     4    -4.794660e+01     6.325187e-01\n",
      " * time: 4.554778099060059\n",
      "     5    -5.706145e+01     1.925421e-01\n",
      " * time: 5.50510311126709\n",
      "     6    -5.990805e+01     1.321651e-01\n",
      " * time: 6.137176990509033\n",
      "     7    -6.096205e+01     5.449740e-02\n",
      " * time: 6.743517160415649\n",
      "     8    -6.134327e+01     8.153182e-02\n",
      " * time: 7.349250078201294\n",
      "     9    -6.163905e+01     3.449308e-02\n",
      " * time: 7.932445049285889\n",
      "    10    -6.183392e+01     2.627582e-02\n",
      " * time: 8.551711082458496\n",
      "    11    -6.198276e+01     1.993348e-02\n",
      " * time: 9.171962976455688\n",
      "    12    -6.204200e+01     1.608759e-02\n",
      " * time: 9.768180131912231\n",
      "    13    -6.210231e+01     1.842067e-02\n",
      " * time: 10.361701011657715\n",
      "    14    -6.213164e+01     1.567116e-02\n",
      " * time: 10.968086004257202\n",
      "    15    -6.215746e+01     1.198404e-02\n",
      " * time: 11.550377130508423\n",
      "    16    -6.217160e+01     1.021098e-02\n",
      " * time: 12.128767013549805\n",
      "    17    -6.218202e+01     8.378900e-03\n",
      " * time: 12.741971015930176\n",
      "    18    -6.219052e+01     6.568456e-03\n",
      " * time: 13.347836971282959\n",
      "    19    -6.219774e+01     6.508892e-03\n",
      " * time: 13.94325304031372\n",
      "    20    -6.220421e+01     8.736246e-03\n",
      " * time: 14.510602951049805\n",
      "    21    -6.221061e+01     8.027420e-03\n",
      " * time: 15.097917079925537\n",
      "    22    -6.221726e+01     7.130917e-03\n",
      " * time: 15.713343143463135\n",
      "    23    -6.222417e+01     7.534815e-03\n",
      " * time: 16.304297924041748\n",
      "    24    -6.223059e+01     5.651922e-03\n",
      " * time: 16.888296127319336\n",
      "    25    -6.223642e+01     4.765438e-03\n",
      " * time: 17.48507595062256\n",
      "    26    -6.224192e+01     4.587896e-03\n",
      " * time: 18.08461594581604\n",
      "    27    -6.224681e+01     4.957600e-03\n",
      " * time: 18.692366123199463\n",
      "    28    -6.225103e+01     4.146635e-03\n",
      " * time: 19.290966987609863\n",
      "    29    -6.225443e+01     4.387063e-03\n",
      " * time: 19.87531805038452\n",
      "    30    -6.225708e+01     3.404317e-03\n",
      " * time: 20.470004081726074\n",
      "    31    -6.225906e+01     2.627166e-03\n",
      " * time: 21.077582120895386\n",
      "    32    -6.226016e+01     1.690028e-03\n",
      " * time: 21.666815042495728\n",
      "    33    -6.226084e+01     1.695975e-03\n",
      " * time: 22.236462116241455\n",
      "    34    -6.226123e+01     1.144435e-03\n",
      " * time: 22.822132110595703\n",
      "    35    -6.226144e+01     7.887691e-04\n",
      " * time: 23.450046062469482\n",
      "    36    -6.226154e+01     4.166939e-04\n",
      " * time: 24.054070949554443\n",
      "    37    -6.226159e+01     3.535593e-04\n",
      " * time: 24.624166011810303\n",
      "    38    -6.226161e+01     3.101470e-04\n",
      " * time: 25.214980125427246\n",
      "    39    -6.226163e+01     2.442608e-04\n",
      " * time: 25.824651956558228\n",
      "    40    -6.226164e+01     2.027409e-04\n",
      " * time: 26.407698154449463\n",
      "    41    -6.226165e+01     1.819239e-04\n",
      " * time: 27.001618146896362\n",
      "    42    -6.226166e+01     1.344507e-04\n",
      " * time: 27.593003034591675\n",
      "    43    -6.226166e+01     1.101223e-04\n",
      " * time: 28.16268014907837\n",
      "    44    -6.226166e+01     7.591379e-05\n",
      " * time: 28.767313957214355\n",
      "    45    -6.226167e+01     6.287968e-05\n",
      " * time: 29.395339965820312\n",
      "    46    -6.226167e+01     4.381696e-05\n",
      " * time: 29.965196132659912\n",
      "    47    -6.226167e+01     3.297307e-05\n",
      " * time: 30.550776958465576\n",
      "    48    -6.226167e+01     2.386431e-05\n",
      " * time: 31.149973154067993\n",
      "    49    -6.226167e+01     1.764571e-05\n",
      " * time: 31.73993706703186\n",
      "    50    -6.226167e+01     1.302580e-05\n",
      " * time: 32.33379292488098\n",
      "    51    -6.226167e+01     1.138698e-05\n",
      " * time: 32.907007932662964\n",
      "    52    -6.226167e+01     9.560554e-06\n",
      " * time: 33.507734060287476\n",
      "    53    -6.226167e+01     9.313176e-06\n",
      " * time: 34.10889410972595\n",
      "    54    -6.226167e+01     6.516262e-06\n",
      " * time: 34.744889974594116\n",
      "    55    -6.226167e+01     5.045311e-06\n",
      " * time: 35.36646914482117\n",
      "    56    -6.226167e+01     3.595762e-06\n",
      " * time: 35.986550092697144\n",
      "    57    -6.226167e+01     1.927999e-06\n",
      " * time: 36.587867975234985\n"
     ]
    }
   ],
   "cell_type": "code",
   "source": [
    "scfres = direct_minimization(basis, tol=1e-5);"
   ],
   "metadata": {},
   "execution_count": 4
  },
  {
   "outputs": [
    {
     "output_type": "execute_result",
     "data": {
      "text/plain": "Energy breakdown:\n    Kinetic             25.7671077\n    AtomicLocal         -18.8557731\n    AtomicNonlocal      14.8522678\n    Ewald               -67.1831486\n    PspCorrection       -2.3569765\n    Hartree             4.8485390 \n    Xc                  -19.3336827\n\n    total               -62.261666461854\n"
     },
     "metadata": {},
     "execution_count": 5
    }
   ],
   "cell_type": "code",
   "source": [
    "scfres.energies"
   ],
   "metadata": {},
   "execution_count": 5
  }
 ],
 "nbformat_minor": 3,
 "metadata": {
  "language_info": {
   "file_extension": ".jl",
   "mimetype": "application/julia",
   "name": "julia",
   "version": "1.5.3"
  },
  "kernelspec": {
   "name": "julia-1.5",
   "display_name": "Julia 1.5.3",
   "language": "julia"
  }
 },
 "nbformat": 4
}
