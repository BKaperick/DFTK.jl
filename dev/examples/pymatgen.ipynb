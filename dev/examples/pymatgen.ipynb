{
 "cells": [
  {
   "cell_type": "markdown",
   "source": [
    "# Creating supercells with pymatgen\n",
    "\n",
    "The [Pymatgen](https://pymatgen.org/) python library allows to setup\n",
    "solid-state calculations using a flexible set of classes as well as an API\n",
    "to an online data base of structures. Its `Structure` and `Lattice`\n",
    "objects are directly supported by the DFTK `load_atoms` and `load_lattice`\n",
    "functions, such that DFTK may be readily used to run calculation on systems\n",
    "defined in pymatgen. Using the `pymatgen_structure` function a conversion\n",
    "from DFTK to pymatgen structures is also possible. In the following we\n",
    "use this to create a silicon supercell and find its LDA ground state\n",
    "using direct minimisation."
   ],
   "metadata": {}
  },
  {
   "cell_type": "markdown",
   "source": [
    "First we setup the silicon lattice in DFTK."
   ],
   "metadata": {}
  },
  {
   "outputs": [],
   "cell_type": "code",
   "source": [
    "using DFTK\n",
    "\n",
    "a = 10.263141334305942  # Lattice constant in Bohr\n",
    "lattice = a / 2 .* [[0 1 1.]; [1 0 1.]; [1 1 0.]]\n",
    "Si = ElementPsp(:Si, psp=load_psp(\"hgh/lda/Si-q4\"))\n",
    "atoms = [Si => [ones(3)/8, -ones(3)/8]];"
   ],
   "metadata": {},
   "execution_count": 1
  },
  {
   "cell_type": "markdown",
   "source": [
    "Next we make a `[2, 2, 2]` supercell using pymatgen"
   ],
   "metadata": {}
  },
  {
   "outputs": [],
   "cell_type": "code",
   "source": [
    "pystruct = pymatgen_structure(lattice, atoms)\n",
    "pystruct.make_supercell([2, 2, 2])\n",
    "lattice = load_lattice(pystruct)\n",
    "atoms = [Si => [s.frac_coords for s in pystruct.sites]];"
   ],
   "metadata": {},
   "execution_count": 2
  },
  {
   "cell_type": "markdown",
   "source": [
    "Setup an LDA model and discretize using\n",
    "a single kpoint and a small `Ecut` of 5 Hartree."
   ],
   "metadata": {}
  },
  {
   "outputs": [
    {
     "output_type": "execute_result",
     "data": {
      "text/plain": "PlaneWaveBasis (Ecut=5.0, 1 kpoints)"
     },
     "metadata": {},
     "execution_count": 3
    }
   ],
   "cell_type": "code",
   "source": [
    "model = model_LDA(lattice, atoms)\n",
    "basis = PlaneWaveBasis(model, 5, kgrid=(1, 1, 1))"
   ],
   "metadata": {},
   "execution_count": 3
  },
  {
   "cell_type": "markdown",
   "source": [
    "Find the ground state using direct minimisation (always using SCF is boring ...)"
   ],
   "metadata": {}
  },
  {
   "outputs": [
    {
     "name": "stdout",
     "output_type": "stream",
     "text": [
      "Iter     Function value   Gradient norm \n",
      "     0     1.114204e+02     1.545482e+00\n",
      " * time: 0.38082098960876465\n",
      "     1     1.062450e+01     8.735415e-01\n",
      " * time: 2.324432849884033\n",
      "     2    -1.150322e+01     1.066261e+00\n",
      " * time: 3.0440988540649414\n",
      "     3    -3.414880e+01     7.389272e-01\n",
      " * time: 4.134299039840698\n",
      "     4    -4.754985e+01     5.257573e-01\n",
      " * time: 5.191606044769287\n",
      "     5    -5.707745e+01     2.302140e-01\n",
      " * time: 6.235673904418945\n",
      "     6    -5.997113e+01     1.587956e-01\n",
      " * time: 6.940937042236328\n",
      "     7    -6.105442e+01     5.053277e-02\n",
      " * time: 7.6262969970703125\n",
      "     8    -6.145664e+01     7.273477e-02\n",
      " * time: 8.319392919540405\n",
      "     9    -6.172694e+01     4.493600e-02\n",
      " * time: 9.009606838226318\n",
      "    10    -6.192414e+01     2.957156e-02\n",
      " * time: 9.70747685432434\n",
      "    11    -6.206414e+01     1.842176e-02\n",
      " * time: 10.399018049240112\n",
      "    12    -6.211739e+01     1.803401e-02\n",
      " * time: 11.089184045791626\n",
      "    13    -6.216723e+01     1.303048e-02\n",
      " * time: 11.782397985458374\n",
      "    14    -6.219000e+01     1.156228e-02\n",
      " * time: 12.480831861495972\n",
      "    15    -6.220855e+01     9.741268e-03\n",
      " * time: 13.173348903656006\n",
      "    16    -6.221852e+01     7.609444e-03\n",
      " * time: 13.866299867630005\n",
      "    17    -6.222601e+01     6.047452e-03\n",
      " * time: 14.55918288230896\n",
      "    18    -6.223247e+01     6.472998e-03\n",
      " * time: 15.255303859710693\n",
      "    19    -6.223800e+01     5.909731e-03\n",
      " * time: 15.945549011230469\n",
      "    20    -6.224312e+01     4.758695e-03\n",
      " * time: 16.638104915618896\n",
      "    21    -6.224804e+01     4.800415e-03\n",
      " * time: 17.331231832504272\n",
      "    22    -6.225272e+01     3.873386e-03\n",
      " * time: 18.024865865707397\n",
      "    23    -6.225647e+01     3.311497e-03\n",
      " * time: 18.716903924942017\n",
      "    24    -6.225871e+01     3.063632e-03\n",
      " * time: 19.40411686897278\n",
      "    25    -6.225997e+01     2.283499e-03\n",
      " * time: 20.08885097503662\n",
      "    26    -6.226061e+01     1.707492e-03\n",
      " * time: 20.78260588645935\n",
      "    27    -6.226097e+01     1.152518e-03\n",
      " * time: 21.470396995544434\n",
      "    28    -6.226119e+01     9.277033e-04\n",
      " * time: 22.156407833099365\n",
      "    29    -6.226135e+01     8.058813e-04\n",
      " * time: 22.840939044952393\n",
      "    30    -6.226146e+01     6.509441e-04\n",
      " * time: 23.531919956207275\n",
      "    31    -6.226153e+01     4.796549e-04\n",
      " * time: 24.220957040786743\n",
      "    32    -6.226159e+01     4.253345e-04\n",
      " * time: 24.911595821380615\n",
      "    33    -6.226162e+01     3.652032e-04\n",
      " * time: 25.60250997543335\n",
      "    34    -6.226164e+01     2.786210e-04\n",
      " * time: 26.298945903778076\n",
      "    35    -6.226166e+01     1.780804e-04\n",
      " * time: 26.99098300933838\n",
      "    36    -6.226166e+01     1.137757e-04\n",
      " * time: 27.682137966156006\n",
      "    37    -6.226166e+01     9.200277e-05\n",
      " * time: 28.37303400039673\n",
      "    38    -6.226166e+01     6.322482e-05\n",
      " * time: 29.072454929351807\n",
      "    39    -6.226167e+01     4.425427e-05\n",
      " * time: 29.761620044708252\n",
      "    40    -6.226167e+01     3.451988e-05\n",
      " * time: 30.453699827194214\n",
      "    41    -6.226167e+01     2.852594e-05\n",
      " * time: 31.144868850708008\n",
      "    42    -6.226167e+01     2.575330e-05\n",
      " * time: 31.843760013580322\n",
      "    43    -6.226167e+01     1.771128e-05\n",
      " * time: 32.531075954437256\n",
      "    44    -6.226167e+01     1.552946e-05\n",
      " * time: 33.21763205528259\n",
      "    45    -6.226167e+01     1.193840e-05\n",
      " * time: 33.90821695327759\n",
      "    46    -6.226167e+01     9.632110e-06\n",
      " * time: 34.603346824645996\n",
      "    47    -6.226167e+01     8.303767e-06\n",
      " * time: 35.28801083564758\n",
      "    48    -6.226167e+01     6.944617e-06\n",
      " * time: 35.97818994522095\n",
      "    49    -6.226167e+01     4.654376e-06\n",
      " * time: 36.666751861572266\n"
     ]
    }
   ],
   "cell_type": "code",
   "source": [
    "scfres = direct_minimization(basis, tol=1e-5);"
   ],
   "metadata": {},
   "execution_count": 4
  },
  {
   "outputs": [
    {
     "output_type": "execute_result",
     "data": {
      "text/plain": "Energy breakdown:\n    Kinetic             25.7671066\n    AtomicLocal         -18.8557719\n    AtomicNonlocal      14.8522684\n    Ewald               -67.1831486\n    PspCorrection       -2.3569765\n    Hartree             4.8485377 \n    Xc                  -19.3336822\n\n    total               -62.261666457076\n"
     },
     "metadata": {},
     "execution_count": 5
    }
   ],
   "cell_type": "code",
   "source": [
    "scfres.energies"
   ],
   "metadata": {},
   "execution_count": 5
  }
 ],
 "nbformat_minor": 3,
 "metadata": {
  "language_info": {
   "file_extension": ".jl",
   "mimetype": "application/julia",
   "name": "julia",
   "version": "1.5.4"
  },
  "kernelspec": {
   "name": "julia-1.5",
   "display_name": "Julia 1.5.4",
   "language": "julia"
  }
 },
 "nbformat": 4
}
