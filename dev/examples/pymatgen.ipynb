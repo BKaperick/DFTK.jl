{
 "cells": [
  {
   "cell_type": "markdown",
   "source": [
    "# Creating supercells with pymatgen\n",
    "\n",
    "The [Pymatgen](https://pymatgen.org/) python library allows to setup\n",
    "solid-state calculations using a flexible set of classes as well as an API\n",
    "to an online data base of structures. Its `Structure` and `Lattice`\n",
    "objects are directly supported by the DFTK `load_atoms` and `load_lattice`\n",
    "functions, such that DFTK may be readily used to run calculation on systems\n",
    "defined in pymatgen. Using the `pymatgen_structure` function a conversion\n",
    "from DFTK to pymatgen structures is also possible. In the following we\n",
    "use this to create a silicon supercell and find its LDA ground state\n",
    "using direct minimisation."
   ],
   "metadata": {}
  },
  {
   "cell_type": "markdown",
   "source": [
    "First we setup the silicon lattice in DFTK."
   ],
   "metadata": {}
  },
  {
   "outputs": [],
   "cell_type": "code",
   "source": [
    "using DFTK\n",
    "\n",
    "a = 10.263141334305942  # Lattice constant in Bohr\n",
    "lattice = a / 2 .* [[0 1 1.]; [1 0 1.]; [1 1 0.]]\n",
    "Si = ElementPsp(:Si, psp=load_psp(\"hgh/lda/Si-q4\"))\n",
    "atoms = [Si => [ones(3)/8, -ones(3)/8]];"
   ],
   "metadata": {},
   "execution_count": 1
  },
  {
   "cell_type": "markdown",
   "source": [
    "Next we make a `[2, 2, 2]` supercell using pymatgen"
   ],
   "metadata": {}
  },
  {
   "outputs": [],
   "cell_type": "code",
   "source": [
    "pystruct = pymatgen_structure(lattice, atoms)\n",
    "pystruct.make_supercell([2, 2, 2])\n",
    "lattice = load_lattice(pystruct)\n",
    "atoms = [Si => [s.frac_coords for s in pystruct.sites]];"
   ],
   "metadata": {},
   "execution_count": 2
  },
  {
   "cell_type": "markdown",
   "source": [
    "Setup an LDA model and discretize using\n",
    "a single kpoint and a small `Ecut` of 5 Hartree."
   ],
   "metadata": {}
  },
  {
   "outputs": [
    {
     "output_type": "execute_result",
     "data": {
      "text/plain": "PlaneWaveBasis (Ecut=5.0, 1 kpoints)"
     },
     "metadata": {},
     "execution_count": 3
    }
   ],
   "cell_type": "code",
   "source": [
    "model = model_LDA(lattice, atoms)\n",
    "basis = PlaneWaveBasis(model, 5, kgrid=(1, 1, 1))"
   ],
   "metadata": {},
   "execution_count": 3
  },
  {
   "cell_type": "markdown",
   "source": [
    "Find the ground state using direct minimisation (always using SCF is boring ...)"
   ],
   "metadata": {}
  },
  {
   "outputs": [
    {
     "name": "stdout",
     "output_type": "stream",
     "text": [
      "Iter     Function value   Gradient norm \n",
      "     0     1.125562e+02     1.549688e+00\n",
      " * time: 0.12113690376281738\n",
      "     1     1.097746e+01     8.160994e-01\n",
      " * time: 1.3151359558105469\n",
      "     2    -1.229744e+01     9.484659e-01\n",
      " * time: 1.4491558074951172\n",
      "     3    -3.414772e+01     7.162399e-01\n",
      " * time: 1.617602825164795\n",
      "     4    -4.766143e+01     5.200478e-01\n",
      " * time: 1.7685678005218506\n",
      "     5    -5.687032e+01     2.115546e-01\n",
      " * time: 1.9128808975219727\n",
      "     6    -5.971531e+01     1.544505e-01\n",
      " * time: 2.0192699432373047\n",
      "     7    -6.083312e+01     5.471658e-02\n",
      " * time: 2.132413864135742\n",
      "     8    -6.128791e+01     5.505455e-02\n",
      " * time: 2.2450649738311768\n",
      "     9    -6.154961e+01     5.273947e-02\n",
      " * time: 2.351799964904785\n",
      "    10    -6.176752e+01     2.728432e-02\n",
      " * time: 2.4665069580078125\n",
      "    11    -6.193440e+01     2.725226e-02\n",
      " * time: 2.5799148082733154\n",
      "    12    -6.203131e+01     2.200378e-02\n",
      " * time: 2.6878907680511475\n",
      "    13    -6.210494e+01     1.622558e-02\n",
      " * time: 2.802043914794922\n",
      "    14    -6.215766e+01     1.648145e-02\n",
      " * time: 2.9097769260406494\n",
      "    15    -6.219083e+01     1.086524e-02\n",
      " * time: 3.02217698097229\n",
      "    16    -6.221067e+01     9.112459e-03\n",
      " * time: 3.135236978530884\n",
      "    17    -6.222378e+01     6.715372e-03\n",
      " * time: 3.241240978240967\n",
      "    18    -6.223348e+01     6.383362e-03\n",
      " * time: 3.354416847229004\n",
      "    19    -6.224043e+01     4.923830e-03\n",
      " * time: 3.4683849811553955\n",
      "    20    -6.224617e+01     4.720682e-03\n",
      " * time: 3.5746068954467773\n",
      "    21    -6.225160e+01     4.319679e-03\n",
      " * time: 3.6882009506225586\n",
      "    22    -6.225582e+01     4.132127e-03\n",
      " * time: 3.7954659461975098\n",
      "    23    -6.225855e+01     2.691027e-03\n",
      " * time: 3.911587953567505\n",
      "    24    -6.226009e+01     2.126010e-03\n",
      " * time: 4.026484966278076\n",
      "    25    -6.226091e+01     1.296288e-03\n",
      " * time: 4.133148908615112\n",
      "    26    -6.226131e+01     1.011279e-03\n",
      " * time: 4.246553897857666\n",
      "    27    -6.226146e+01     7.915317e-04\n",
      " * time: 4.352840900421143\n",
      "    28    -6.226154e+01     5.186359e-04\n",
      " * time: 4.468605995178223\n",
      "    29    -6.226159e+01     4.688488e-04\n",
      " * time: 4.5839128494262695\n",
      "    30    -6.226161e+01     3.108276e-04\n",
      " * time: 4.691523790359497\n",
      "    31    -6.226163e+01     2.989371e-04\n",
      " * time: 4.806870937347412\n",
      "    32    -6.226164e+01     2.680261e-04\n",
      " * time: 4.9229137897491455\n",
      "    33    -6.226165e+01     1.916275e-04\n",
      " * time: 5.030818939208984\n",
      "    34    -6.226166e+01     1.459757e-04\n",
      " * time: 5.145124912261963\n",
      "    35    -6.226166e+01     1.109174e-04\n",
      " * time: 5.251610994338989\n",
      "    36    -6.226166e+01     9.003107e-05\n",
      " * time: 5.365839004516602\n",
      "    37    -6.226167e+01     6.965366e-05\n",
      " * time: 5.480855941772461\n",
      "    38    -6.226167e+01     4.984767e-05\n",
      " * time: 5.588037967681885\n",
      "    39    -6.226167e+01     2.730975e-05\n",
      " * time: 5.700708866119385\n",
      "    40    -6.226167e+01     1.854217e-05\n",
      " * time: 5.814488887786865\n",
      "    41    -6.226167e+01     1.744974e-05\n",
      " * time: 5.923828840255737\n",
      "    42    -6.226167e+01     1.296436e-05\n",
      " * time: 6.0383219718933105\n",
      "    43    -6.226167e+01     9.262186e-06\n",
      " * time: 6.14703893661499\n",
      "    44    -6.226167e+01     8.184841e-06\n",
      " * time: 6.262762784957886\n",
      "    45    -6.226167e+01     7.079182e-06\n",
      " * time: 6.377175807952881\n",
      "    46    -6.226167e+01     7.105801e-06\n",
      " * time: 6.486240863800049\n",
      "    47    -6.226167e+01     5.184460e-06\n",
      " * time: 6.60099196434021\n",
      "    48    -6.226167e+01     3.660778e-06\n",
      " * time: 6.7161219120025635\n",
      "    49    -6.226167e+01     2.189561e-06\n",
      " * time: 6.8228209018707275\n"
     ]
    }
   ],
   "cell_type": "code",
   "source": [
    "scfres = direct_minimization(basis, tol=1e-5);"
   ],
   "metadata": {},
   "execution_count": 4
  },
  {
   "outputs": [
    {
     "output_type": "execute_result",
     "data": {
      "text/plain": "Energy breakdown:\n    Kinetic             25.7671058\n    AtomicLocal         -18.8557632\n    AtomicNonlocal      14.8522620\n    Ewald               -67.1831486\n    PspCorrection       -2.3569765\n    Hartree             4.8485354 \n    Xc                  -19.3336813\n\n    total               -62.261666461686\n"
     },
     "metadata": {},
     "execution_count": 5
    }
   ],
   "cell_type": "code",
   "source": [
    "scfres.energies"
   ],
   "metadata": {},
   "execution_count": 5
  }
 ],
 "nbformat_minor": 3,
 "metadata": {
  "language_info": {
   "file_extension": ".jl",
   "mimetype": "application/julia",
   "name": "julia",
   "version": "1.4.2"
  },
  "kernelspec": {
   "name": "julia-1.4",
   "display_name": "Julia 1.4.2",
   "language": "julia"
  }
 },
 "nbformat": 4
}
