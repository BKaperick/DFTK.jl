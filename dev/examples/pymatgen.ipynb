{
 "cells": [
  {
   "cell_type": "markdown",
   "source": [
    "# Creating supercells with pymatgen\n",
    "\n",
    "The [Pymatgen](https://pymatgen.org/) python library allows to setup\n",
    "solid-state calculations using a flexible set of classes as well as an API\n",
    "to an online data base of structures. Its `Structure` and `Lattice`\n",
    "objects are directly supported by the DFTK `load_atoms` and `load_lattice`\n",
    "functions, such that DFTK may be readily used to run calculation on systems\n",
    "defined in pymatgen. Using the `pymatgen_structure` function a conversion\n",
    "from DFTK to pymatgen structures is also possible. In the following we\n",
    "use this to create a silicon supercell and find its LDA ground state\n",
    "using direct minimisation."
   ],
   "metadata": {}
  },
  {
   "cell_type": "markdown",
   "source": [
    "First we setup the silicon lattice in DFTK."
   ],
   "metadata": {}
  },
  {
   "outputs": [],
   "cell_type": "code",
   "source": [
    "using DFTK\n",
    "\n",
    "a = 10.263141334305942  # Lattice constant in Bohr\n",
    "lattice = a / 2 .* [[0 1 1.]; [1 0 1.]; [1 1 0.]]\n",
    "Si = ElementPsp(:Si, psp=load_psp(\"hgh/lda/Si-q4\"))\n",
    "atoms = [Si => [ones(3)/8, -ones(3)/8]];"
   ],
   "metadata": {},
   "execution_count": 1
  },
  {
   "cell_type": "markdown",
   "source": [
    "Next we make a `[2, 2, 2]` supercell using pymatgen"
   ],
   "metadata": {}
  },
  {
   "outputs": [],
   "cell_type": "code",
   "source": [
    "pystruct = pymatgen_structure(lattice, atoms)\n",
    "pystruct.make_supercell([2, 2, 2])\n",
    "lattice = load_lattice(pystruct)\n",
    "atoms = [Si => [s.frac_coords for s in pystruct.sites]];"
   ],
   "metadata": {},
   "execution_count": 2
  },
  {
   "cell_type": "markdown",
   "source": [
    "Setup an LDA model and discretize using\n",
    "a single kpoint and a small `Ecut` of 5 Hartree.\n",
    "Notice that `PlaneWaveBasis` defaults to just using the ``Γ``-point\n",
    "if no ``k``-point options are provided."
   ],
   "metadata": {}
  },
  {
   "outputs": [
    {
     "output_type": "execute_result",
     "data": {
      "text/plain": "PlaneWaveBasis (Ecut=5.0, 1 kpoints)"
     },
     "metadata": {},
     "execution_count": 3
    }
   ],
   "cell_type": "code",
   "source": [
    "model = model_LDA(lattice, atoms)\n",
    "basis = PlaneWaveBasis(model, 5)"
   ],
   "metadata": {},
   "execution_count": 3
  },
  {
   "cell_type": "markdown",
   "source": [
    "Find the ground state using direct minimisation (always using SCF is boring ...)"
   ],
   "metadata": {}
  },
  {
   "outputs": [
    {
     "name": "stdout",
     "output_type": "stream",
     "text": [
      "Iter     Function value   Gradient norm \n",
      "     0     1.119714e+02     1.819000e+00\n",
      " * time: 0.08711791038513184\n",
      "     1     1.132018e+01     9.399134e-01\n",
      " * time: 0.8867719173431396\n",
      "     2    -1.227120e+01     1.116811e+00\n",
      " * time: 1.020946979522705\n",
      "     3    -3.414726e+01     8.094033e-01\n",
      " * time: 1.1826889514923096\n",
      "     4    -4.792017e+01     5.329285e-01\n",
      " * time: 1.3282568454742432\n",
      "     5    -5.707789e+01     1.900926e-01\n",
      " * time: 1.4703028202056885\n",
      "     6    -5.989767e+01     1.278747e-01\n",
      " * time: 1.5749108791351318\n",
      "     7    -6.094767e+01     5.471213e-02\n",
      " * time: 1.6859238147735596\n",
      "     8    -6.134419e+01     6.542203e-02\n",
      " * time: 1.79697585105896\n",
      "     9    -6.160811e+01     4.543255e-02\n",
      " * time: 1.9012019634246826\n",
      "    10    -6.180410e+01     3.337327e-02\n",
      " * time: 2.011802911758423\n",
      "    11    -6.196774e+01     2.380573e-02\n",
      " * time: 2.1218748092651367\n",
      "    12    -6.203892e+01     1.798207e-02\n",
      " * time: 2.2249820232391357\n",
      "    13    -6.210782e+01     1.764160e-02\n",
      " * time: 2.3357458114624023\n",
      "    14    -6.213898e+01     1.708551e-02\n",
      " * time: 2.439450979232788\n",
      "    15    -6.216521e+01     1.126957e-02\n",
      " * time: 2.5506529808044434\n",
      "    16    -6.217915e+01     1.022055e-02\n",
      " * time: 2.661561965942383\n",
      "    17    -6.219101e+01     7.738193e-03\n",
      " * time: 2.7654500007629395\n",
      "    18    -6.220075e+01     7.703396e-03\n",
      " * time: 2.8759968280792236\n",
      "    19    -6.220975e+01     7.011824e-03\n",
      " * time: 2.9855518341064453\n",
      "    20    -6.221885e+01     7.679154e-03\n",
      " * time: 3.0883569717407227\n",
      "    21    -6.222793e+01     7.737650e-03\n",
      " * time: 3.19828200340271\n",
      "    22    -6.223644e+01     6.805713e-03\n",
      " * time: 3.3022589683532715\n",
      "    23    -6.224348e+01     5.862887e-03\n",
      " * time: 3.412653923034668\n",
      "    24    -6.224887e+01     4.655411e-03\n",
      " * time: 3.5241498947143555\n",
      "    25    -6.225262e+01     3.759744e-03\n",
      " * time: 3.6279709339141846\n",
      "    26    -6.225522e+01     3.190643e-03\n",
      " * time: 3.7390730381011963\n",
      "    27    -6.225716e+01     2.788500e-03\n",
      " * time: 3.8490889072418213\n",
      "    28    -6.225865e+01     2.433077e-03\n",
      " * time: 3.9525530338287354\n",
      "    29    -6.225978e+01     2.182114e-03\n",
      " * time: 4.062875032424927\n",
      "    30    -6.226056e+01     1.870525e-03\n",
      " * time: 4.173172950744629\n",
      "    31    -6.226104e+01     1.268393e-03\n",
      " * time: 4.276372909545898\n",
      "    32    -6.226133e+01     8.717420e-04\n",
      " * time: 4.388120889663696\n",
      "    33    -6.226150e+01     6.901094e-04\n",
      " * time: 4.492462873458862\n",
      "    34    -6.226159e+01     4.782032e-04\n",
      " * time: 4.603575944900513\n",
      "    35    -6.226163e+01     3.739376e-04\n",
      " * time: 4.713377952575684\n",
      "    36    -6.226165e+01     2.147656e-04\n",
      " * time: 4.8165388107299805\n",
      "    37    -6.226166e+01     1.848417e-04\n",
      " * time: 4.926123857498169\n",
      "    38    -6.226166e+01     1.118667e-04\n",
      " * time: 5.037510871887207\n",
      "    39    -6.226166e+01     9.719718e-05\n",
      " * time: 5.140889883041382\n",
      "    40    -6.226166e+01     7.594743e-05\n",
      " * time: 5.251132965087891\n",
      "    41    -6.226166e+01     5.430253e-05\n",
      " * time: 5.354282855987549\n",
      "    42    -6.226167e+01     4.543234e-05\n",
      " * time: 5.4687159061431885\n",
      "    43    -6.226167e+01     4.144821e-05\n",
      " * time: 5.578577995300293\n",
      "    44    -6.226167e+01     3.330253e-05\n",
      " * time: 5.682308912277222\n",
      "    45    -6.226167e+01     2.171560e-05\n",
      " * time: 5.792309999465942\n",
      "    46    -6.226167e+01     1.565842e-05\n",
      " * time: 5.901777029037476\n",
      "    47    -6.226167e+01     1.163253e-05\n",
      " * time: 6.006002902984619\n",
      "    48    -6.226167e+01     7.746823e-06\n",
      " * time: 6.116508960723877\n",
      "    49    -6.226167e+01     6.640571e-06\n",
      " * time: 6.226864814758301\n",
      "    50    -6.226167e+01     5.170548e-06\n",
      " * time: 6.330209016799927\n",
      "    51    -6.226167e+01     3.891179e-06\n",
      " * time: 6.441144943237305\n"
     ]
    }
   ],
   "cell_type": "code",
   "source": [
    "scfres = direct_minimization(basis, tol=1e-5);"
   ],
   "metadata": {},
   "execution_count": 4
  },
  {
   "outputs": [
    {
     "output_type": "execute_result",
     "data": {
      "text/plain": "Energy breakdown:\n    Kinetic             25.7671084\n    AtomicLocal         -18.8557743\n    AtomicNonlocal      14.8522679\n    Ewald               -67.1831486\n    PspCorrection       -2.3569765\n    Hartree             4.8485396 \n    Xc                  -19.3336830\n\n    total               -62.261666455531\n"
     },
     "metadata": {},
     "execution_count": 5
    }
   ],
   "cell_type": "code",
   "source": [
    "scfres.energies"
   ],
   "metadata": {},
   "execution_count": 5
  }
 ],
 "nbformat_minor": 3,
 "metadata": {
  "language_info": {
   "file_extension": ".jl",
   "mimetype": "application/julia",
   "name": "julia",
   "version": "1.3.1"
  },
  "kernelspec": {
   "name": "julia-1.3",
   "display_name": "Julia 1.3.1",
   "language": "julia"
  }
 },
 "nbformat": 4
}
