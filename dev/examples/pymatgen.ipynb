{
 "cells": [
  {
   "cell_type": "markdown",
   "source": [
    "# Creating supercells with pymatgen\n",
    "\n",
    "The [Pymatgen](https://pymatgen.org/) python library allows to setup\n",
    "solid-state calculations using a flexible set of classes as well as an API\n",
    "to an online data base of structures. Its `Structure` and `Lattice`\n",
    "objects are directly supported by the DFTK `load_atoms` and `load_lattice`\n",
    "functions, such that DFTK may be readily used to run calculation on systems\n",
    "defined in pymatgen. Using the `pymatgen_structure` function a conversion\n",
    "from DFTK to pymatgen structures is also possible. In the following we\n",
    "use this to create a silicon supercell and find its LDA ground state\n",
    "using direct minimisation."
   ],
   "metadata": {}
  },
  {
   "cell_type": "markdown",
   "source": [
    "First we setup the silicon lattice in DFTK."
   ],
   "metadata": {}
  },
  {
   "outputs": [],
   "cell_type": "code",
   "source": [
    "using DFTK\n",
    "\n",
    "a = 10.263141334305942  # Lattice constant in Bohr\n",
    "lattice = a / 2 .* [[0 1 1.]; [1 0 1.]; [1 1 0.]]\n",
    "Si = ElementPsp(:Si, psp=load_psp(\"hgh/lda/Si-q4\"))\n",
    "atoms = [Si => [ones(3)/8, -ones(3)/8]];"
   ],
   "metadata": {},
   "execution_count": 1
  },
  {
   "cell_type": "markdown",
   "source": [
    "Next we make a `[2, 2, 2]` supercell using pymatgen"
   ],
   "metadata": {}
  },
  {
   "outputs": [],
   "cell_type": "code",
   "source": [
    "pystruct = pymatgen_structure(lattice, atoms)\n",
    "pystruct.make_supercell([2, 2, 2])\n",
    "lattice = load_lattice(pystruct)\n",
    "atoms = [Si => [s.frac_coords for s in pystruct.sites]];"
   ],
   "metadata": {},
   "execution_count": 2
  },
  {
   "cell_type": "markdown",
   "source": [
    "Setup an LDA model and discretize using\n",
    "a single kpoint and a small `Ecut` of 5 Hartree."
   ],
   "metadata": {}
  },
  {
   "outputs": [
    {
     "output_type": "execute_result",
     "data": {
      "text/plain": "PlaneWaveBasis (Ecut=5.0, 1 kpoints)"
     },
     "metadata": {},
     "execution_count": 3
    }
   ],
   "cell_type": "code",
   "source": [
    "model = model_LDA(lattice, atoms)\n",
    "basis = PlaneWaveBasis(model, 5, kgrid=(1, 1, 1))"
   ],
   "metadata": {},
   "execution_count": 3
  },
  {
   "cell_type": "markdown",
   "source": [
    "Find the ground state using direct minimisation (always using SCF is boring ...)"
   ],
   "metadata": {}
  },
  {
   "outputs": [
    {
     "name": "stdout",
     "output_type": "stream",
     "text": [
      "Iter     Function value   Gradient norm \n",
      "     0     1.120120e+02     1.585256e+00\n",
      " * time: 0.13991785049438477\n",
      "     1     1.102986e+01     1.016311e+00\n",
      " * time: 1.0087878704071045\n",
      "     2    -1.193048e+01     1.097339e+00\n",
      " * time: 1.1447618007659912\n",
      "     3    -3.385283e+01     8.313460e-01\n",
      " * time: 1.3119189739227295\n",
      "     4    -4.732927e+01     6.699657e-01\n",
      " * time: 1.4664809703826904\n",
      "     5    -5.686932e+01     2.201666e-01\n",
      " * time: 1.6147289276123047\n",
      "     6    -5.967720e+01     1.783789e-01\n",
      " * time: 1.7229368686676025\n",
      "     7    -6.082629e+01     6.338798e-02\n",
      " * time: 1.8575890064239502\n",
      "     8    -6.132566e+01     4.854591e-02\n",
      " * time: 1.9649109840393066\n",
      "     9    -6.160566e+01     4.750617e-02\n",
      " * time: 2.079838991165161\n",
      "    10    -6.179305e+01     3.086306e-02\n",
      " * time: 2.188450813293457\n",
      "    11    -6.194396e+01     2.425773e-02\n",
      " * time: 2.3037469387054443\n",
      "    12    -6.203679e+01     1.967582e-02\n",
      " * time: 2.4109139442443848\n",
      "    13    -6.208223e+01     1.664681e-02\n",
      " * time: 2.5242669582366943\n",
      "    14    -6.212804e+01     1.240669e-02\n",
      " * time: 2.6312777996063232\n",
      "    15    -6.215045e+01     1.096799e-02\n",
      " * time: 2.7460780143737793\n",
      "    16    -6.216894e+01     9.521984e-03\n",
      " * time: 2.853677988052368\n",
      "    17    -6.218243e+01     7.674573e-03\n",
      " * time: 2.9690330028533936\n",
      "    18    -6.219394e+01     8.499149e-03\n",
      " * time: 3.0771279335021973\n",
      "    19    -6.220321e+01     8.898431e-03\n",
      " * time: 3.191800832748413\n",
      "    20    -6.221198e+01     8.702081e-03\n",
      " * time: 3.2990329265594482\n",
      "    21    -6.222067e+01     1.153101e-02\n",
      " * time: 3.413424015045166\n",
      "    22    -6.222936e+01     8.418703e-03\n",
      " * time: 3.5200228691101074\n",
      "    23    -6.223773e+01     6.502374e-03\n",
      " * time: 3.63429594039917\n",
      "    24    -6.224463e+01     5.465882e-03\n",
      " * time: 3.7427308559417725\n",
      "    25    -6.224996e+01     4.211132e-03\n",
      " * time: 3.8571879863739014\n",
      "    26    -6.225382e+01     3.299185e-03\n",
      " * time: 3.9649817943573\n",
      "    27    -6.225631e+01     2.820982e-03\n",
      " * time: 4.082255840301514\n",
      "    28    -6.225797e+01     2.599534e-03\n",
      " * time: 4.19015097618103\n",
      "    29    -6.225922e+01     2.177828e-03\n",
      " * time: 4.3057708740234375\n",
      "    30    -6.226017e+01     1.820245e-03\n",
      " * time: 4.416258811950684\n",
      "    31    -6.226079e+01     1.356373e-03\n",
      " * time: 4.532451868057251\n",
      "    32    -6.226117e+01     1.283505e-03\n",
      " * time: 4.641110897064209\n",
      "    33    -6.226141e+01     7.463014e-04\n",
      " * time: 4.757660865783691\n",
      "    34    -6.226154e+01     7.042161e-04\n",
      " * time: 4.865213871002197\n",
      "    35    -6.226161e+01     4.770329e-04\n",
      " * time: 4.980788946151733\n",
      "    36    -6.226164e+01     2.588949e-04\n",
      " * time: 5.0887579917907715\n",
      "    37    -6.226165e+01     1.769778e-04\n",
      " * time: 5.2041637897491455\n",
      "    38    -6.226166e+01     1.420456e-04\n",
      " * time: 5.3242058753967285\n",
      "    39    -6.226166e+01     1.074262e-04\n",
      " * time: 5.445040941238403\n",
      "    40    -6.226166e+01     8.189022e-05\n",
      " * time: 5.553752899169922\n",
      "    41    -6.226166e+01     7.783471e-05\n",
      " * time: 5.667824983596802\n",
      "    42    -6.226166e+01     6.767477e-05\n",
      " * time: 5.774868011474609\n",
      "    43    -6.226167e+01     4.830085e-05\n",
      " * time: 5.889375925064087\n",
      "    44    -6.226167e+01     3.338190e-05\n",
      " * time: 5.995797872543335\n",
      "    45    -6.226167e+01     2.680088e-05\n",
      " * time: 6.109668970108032\n",
      "    46    -6.226167e+01     1.839222e-05\n",
      " * time: 6.216250896453857\n",
      "    47    -6.226167e+01     1.337137e-05\n",
      " * time: 6.329080820083618\n",
      "    48    -6.226167e+01     1.130723e-05\n",
      " * time: 6.436223983764648\n",
      "    49    -6.226167e+01     9.312447e-06\n",
      " * time: 6.550206899642944\n",
      "    50    -6.226167e+01     6.716343e-06\n",
      " * time: 6.6565258502960205\n",
      "    51    -6.226167e+01     4.728712e-06\n",
      " * time: 6.770993947982788\n",
      "    52    -6.226167e+01     3.818205e-06\n",
      " * time: 6.8781609535217285\n",
      "    53    -6.226167e+01     3.269034e-06\n",
      " * time: 6.992621898651123\n",
      "    54    -6.226167e+01     2.832318e-06\n",
      " * time: 7.09983491897583\n"
     ]
    }
   ],
   "cell_type": "code",
   "source": [
    "scfres = direct_minimization(basis, tol=1e-5);"
   ],
   "metadata": {},
   "execution_count": 4
  },
  {
   "outputs": [
    {
     "output_type": "execute_result",
     "data": {
      "text/plain": "Energy breakdown:\n    Kinetic             25.7671069\n    AtomicLocal         -18.8557706\n    AtomicNonlocal      14.8522671\n    Ewald               -67.1831486\n    PspCorrection       -2.3569765\n    Hartree             4.8485374 \n    Xc                  -19.3336821\n\n    total               -62.261666459817\n"
     },
     "metadata": {},
     "execution_count": 5
    }
   ],
   "cell_type": "code",
   "source": [
    "scfres.energies"
   ],
   "metadata": {},
   "execution_count": 5
  }
 ],
 "nbformat_minor": 3,
 "metadata": {
  "language_info": {
   "file_extension": ".jl",
   "mimetype": "application/julia",
   "name": "julia",
   "version": "1.3.1"
  },
  "kernelspec": {
   "name": "julia-1.3",
   "display_name": "Julia 1.3.1",
   "language": "julia"
  }
 },
 "nbformat": 4
}
