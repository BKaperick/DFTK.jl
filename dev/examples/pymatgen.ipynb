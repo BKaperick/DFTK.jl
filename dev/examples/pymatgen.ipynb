{
 "cells": [
  {
   "cell_type": "markdown",
   "source": [
    "# Creating supercells with pymatgen\n",
    "\n",
    "The [Pymatgen](https://pymatgen.org/) python library allows to setup\n",
    "solid-state calculations using a flexible set of classes as well as an API\n",
    "to an online data base of structures. Its `Structure` and `Lattice`\n",
    "objects are directly supported by the DFTK `load_atoms` and `load_lattice`\n",
    "functions, such that DFTK may be readily used to run calculation on systems\n",
    "defined in pymatgen. Using the `pymatgen_structure` function a conversion\n",
    "from DFTK to pymatgen structures is also possible. In the following we\n",
    "use this to create a silicon supercell and find its LDA ground state\n",
    "using direct minimisation."
   ],
   "metadata": {}
  },
  {
   "cell_type": "markdown",
   "source": [
    "First we setup the silicon lattice in DFTK."
   ],
   "metadata": {}
  },
  {
   "outputs": [],
   "cell_type": "code",
   "source": [
    "using DFTK\n",
    "\n",
    "a = 10.263141334305942  # Lattice constant in Bohr\n",
    "lattice = a / 2 .* [[0 1 1.]; [1 0 1.]; [1 1 0.]]\n",
    "Si = ElementPsp(:Si, psp=load_psp(\"hgh/lda/Si-q4\"))\n",
    "atoms = [Si => [ones(3)/8, -ones(3)/8]];"
   ],
   "metadata": {},
   "execution_count": 1
  },
  {
   "cell_type": "markdown",
   "source": [
    "Next we make a `[2, 2, 2]` supercell using pymatgen"
   ],
   "metadata": {}
  },
  {
   "outputs": [],
   "cell_type": "code",
   "source": [
    "pystruct = pymatgen_structure(lattice, atoms)\n",
    "pystruct.make_supercell([2, 2, 2])\n",
    "lattice = load_lattice(pystruct)\n",
    "atoms = [Si => [s.frac_coords for s in pystruct.sites]];"
   ],
   "metadata": {},
   "execution_count": 2
  },
  {
   "cell_type": "markdown",
   "source": [
    "Setup an LDA model and discretize using\n",
    "a single kpoint and a small `Ecut` of 5 Hartree."
   ],
   "metadata": {}
  },
  {
   "outputs": [
    {
     "output_type": "execute_result",
     "data": {
      "text/plain": "PlaneWaveBasis (Ecut=5.0, 1 kpoints)"
     },
     "metadata": {},
     "execution_count": 3
    }
   ],
   "cell_type": "code",
   "source": [
    "model = model_LDA(lattice, atoms)\n",
    "basis = PlaneWaveBasis(model, 5, kgrid=(1, 1, 1))"
   ],
   "metadata": {},
   "execution_count": 3
  },
  {
   "cell_type": "markdown",
   "source": [
    "Find the ground state using direct minimisation (always using SCF is boring ...)"
   ],
   "metadata": {}
  },
  {
   "outputs": [
    {
     "name": "stdout",
     "output_type": "stream",
     "text": [
      "Iter     Function value   Gradient norm \n",
      "     0     1.118007e+02     1.737109e+00\n",
      " * time: 1.1061418056488037\n",
      "     1     1.090166e+01     9.940736e-01\n",
      " * time: 3.7174339294433594\n",
      "     2    -1.150064e+01     1.124580e+00\n",
      " * time: 4.364718914031982\n",
      "     3    -3.402755e+01     8.618323e-01\n",
      " * time: 5.3089759349823\n",
      "     4    -4.756710e+01     5.494732e-01\n",
      " * time: 6.478245973587036\n",
      "     5    -5.680619e+01     2.585879e-01\n",
      " * time: 7.4682958126068115\n",
      "     6    -5.966406e+01     1.841496e-01\n",
      " * time: 8.090849876403809\n",
      "     7    -6.085259e+01     7.800898e-02\n",
      " * time: 8.681526899337769\n",
      "     8    -6.135580e+01     6.667444e-02\n",
      " * time: 9.283129930496216\n",
      "     9    -6.162752e+01     6.427943e-02\n",
      " * time: 9.906085014343262\n",
      "    10    -6.184125e+01     3.419281e-02\n",
      " * time: 10.48379898071289\n",
      "    11    -6.199207e+01     2.348067e-02\n",
      " * time: 11.104430913925171\n",
      "    12    -6.206690e+01     1.622964e-02\n",
      " * time: 11.755483865737915\n",
      "    13    -6.211174e+01     1.849791e-02\n",
      " * time: 12.387220859527588\n",
      "    14    -6.214879e+01     1.225163e-02\n",
      " * time: 12.986647844314575\n",
      "    15    -6.217153e+01     1.251746e-02\n",
      " * time: 13.633402824401855\n",
      "    16    -6.218786e+01     1.040831e-02\n",
      " * time: 14.234567880630493\n",
      "    17    -6.219798e+01     9.987300e-03\n",
      " * time: 14.833269834518433\n",
      "    18    -6.220481e+01     7.633216e-03\n",
      " * time: 15.50232982635498\n",
      "    19    -6.220980e+01     7.702235e-03\n",
      " * time: 16.108245849609375\n",
      "    20    -6.221390e+01     7.967337e-03\n",
      " * time: 16.71262502670288\n",
      "    21    -6.221817e+01     9.702827e-03\n",
      " * time: 17.34620499610901\n",
      "    22    -6.222307e+01     8.646509e-03\n",
      " * time: 17.91885280609131\n",
      "    23    -6.222897e+01     7.853662e-03\n",
      " * time: 18.53671383857727\n",
      "    24    -6.223550e+01     6.226064e-03\n",
      " * time: 19.139465808868408\n",
      "    25    -6.224196e+01     6.582883e-03\n",
      " * time: 19.7548668384552\n",
      "    26    -6.224784e+01     6.570046e-03\n",
      " * time: 20.377234935760498\n",
      "    27    -6.225254e+01     4.897523e-03\n",
      " * time: 21.025902032852173\n",
      "    28    -6.225578e+01     3.946770e-03\n",
      " * time: 21.693851947784424\n",
      "    29    -6.225790e+01     3.260252e-03\n",
      " * time: 22.299777030944824\n",
      "    30    -6.225929e+01     2.710101e-03\n",
      " * time: 22.895288944244385\n",
      "    31    -6.226023e+01     1.916403e-03\n",
      " * time: 23.50058889389038\n",
      "    32    -6.226081e+01     1.498321e-03\n",
      " * time: 24.09876585006714\n",
      "    33    -6.226120e+01     1.049044e-03\n",
      " * time: 24.693953037261963\n",
      "    34    -6.226142e+01     9.017264e-04\n",
      " * time: 25.296506881713867\n",
      "    35    -6.226154e+01     6.621624e-04\n",
      " * time: 25.89893889427185\n",
      "    36    -6.226160e+01     4.420289e-04\n",
      " * time: 26.506029844284058\n",
      "    37    -6.226163e+01     2.995684e-04\n",
      " * time: 27.13970184326172\n",
      "    38    -6.226165e+01     2.548098e-04\n",
      " * time: 27.73655390739441\n",
      "    39    -6.226165e+01     1.786490e-04\n",
      " * time: 28.348188877105713\n",
      "    40    -6.226166e+01     1.282937e-04\n",
      " * time: 28.991320848464966\n",
      "    41    -6.226166e+01     1.258972e-04\n",
      " * time: 29.576732873916626\n",
      "    42    -6.226166e+01     8.655282e-05\n",
      " * time: 30.201591968536377\n",
      "    43    -6.226166e+01     7.185672e-05\n",
      " * time: 30.819458961486816\n",
      "    44    -6.226167e+01     4.857852e-05\n",
      " * time: 31.40792202949524\n",
      "    45    -6.226167e+01     4.011130e-05\n",
      " * time: 32.059303998947144\n",
      "    46    -6.226167e+01     3.227585e-05\n",
      " * time: 32.66533303260803\n",
      "    47    -6.226167e+01     2.512460e-05\n",
      " * time: 33.27776789665222\n",
      "    48    -6.226167e+01     1.991082e-05\n",
      " * time: 33.90141797065735\n",
      "    49    -6.226167e+01     1.403971e-05\n",
      " * time: 34.51400089263916\n",
      "    50    -6.226167e+01     1.095948e-05\n",
      " * time: 35.10029482841492\n",
      "    51    -6.226167e+01     8.801880e-06\n",
      " * time: 35.71061682701111\n",
      "    52    -6.226167e+01     6.771913e-06\n",
      " * time: 36.33488893508911\n",
      "    53    -6.226167e+01     5.368563e-06\n",
      " * time: 36.940714836120605\n",
      "    54    -6.226167e+01     4.414499e-06\n",
      " * time: 37.545424938201904\n",
      "    55    -6.226167e+01     3.791489e-06\n",
      " * time: 38.122108936309814\n",
      "    56    -6.226167e+01     3.166148e-06\n",
      " * time: 38.74977684020996\n",
      "    57    -6.226167e+01     1.866146e-06\n",
      " * time: 39.37148189544678\n"
     ]
    }
   ],
   "cell_type": "code",
   "source": [
    "scfres = direct_minimization(basis, tol=1e-5);"
   ],
   "metadata": {},
   "execution_count": 4
  },
  {
   "outputs": [
    {
     "output_type": "execute_result",
     "data": {
      "text/plain": "Energy breakdown:\n    Kinetic             25.7671066\n    AtomicLocal         -18.8557679\n    AtomicNonlocal      14.8522649\n    Ewald               -67.1831486\n    PspCorrection       -2.3569765\n    Hartree             4.8485370 \n    Xc                  -19.3336819\n\n    total               -62.261666462216\n"
     },
     "metadata": {},
     "execution_count": 5
    }
   ],
   "cell_type": "code",
   "source": [
    "scfres.energies"
   ],
   "metadata": {},
   "execution_count": 5
  }
 ],
 "nbformat_minor": 3,
 "metadata": {
  "language_info": {
   "file_extension": ".jl",
   "mimetype": "application/julia",
   "name": "julia",
   "version": "1.6.0"
  },
  "kernelspec": {
   "name": "julia-1.6",
   "display_name": "Julia 1.6.0",
   "language": "julia"
  }
 },
 "nbformat": 4
}
