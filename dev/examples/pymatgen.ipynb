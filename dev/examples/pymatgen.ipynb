{
 "cells": [
  {
   "cell_type": "markdown",
   "source": [
    "# Creating supercells with pymatgen\n",
    "\n",
    "The [Pymatgen](https://pymatgen.org/) python library allows to setup\n",
    "solid-state calculations using a flexible set of classes as well as an API\n",
    "to an online data base of structures. Its `Structure` and `Lattice`\n",
    "objects are directly supported by the DFTK `load_atoms` and `load_lattice`\n",
    "functions, such that DFTK may be readily used to run calculation on systems\n",
    "defined in pymatgen. Using the `pymatgen_structure` function a conversion\n",
    "from DFTK to pymatgen structures is also possible. In the following we\n",
    "use this to create a silicon supercell and find its LDA ground state\n",
    "using direct minimisation."
   ],
   "metadata": {}
  },
  {
   "cell_type": "markdown",
   "source": [
    "First we setup the silicon lattice in DFTK."
   ],
   "metadata": {}
  },
  {
   "outputs": [],
   "cell_type": "code",
   "source": [
    "using DFTK\n",
    "\n",
    "a = 10.263141334305942  # Lattice constant in Bohr\n",
    "lattice = a / 2 .* [[0 1 1.]; [1 0 1.]; [1 1 0.]]\n",
    "Si = ElementPsp(:Si, psp=load_psp(\"hgh/lda/Si-q4\"))\n",
    "atoms = [Si => [ones(3)/8, -ones(3)/8]];"
   ],
   "metadata": {},
   "execution_count": 1
  },
  {
   "cell_type": "markdown",
   "source": [
    "Next we make a `[2, 2, 2]` supercell using pymatgen"
   ],
   "metadata": {}
  },
  {
   "outputs": [],
   "cell_type": "code",
   "source": [
    "pystruct = pymatgen_structure(lattice, atoms)\n",
    "pystruct.make_supercell([2, 2, 2])\n",
    "lattice = load_lattice(pystruct)\n",
    "atoms = [Si => [s.frac_coords for s in pystruct.sites]];"
   ],
   "metadata": {},
   "execution_count": 2
  },
  {
   "cell_type": "markdown",
   "source": [
    "Setup an LDA model and discretize using\n",
    "a single kpoint and a small `Ecut` of 5 Hartree."
   ],
   "metadata": {}
  },
  {
   "outputs": [
    {
     "output_type": "execute_result",
     "data": {
      "text/plain": "PlaneWaveBasis (Ecut=5.0, 1 kpoints)"
     },
     "metadata": {},
     "execution_count": 3
    }
   ],
   "cell_type": "code",
   "source": [
    "model = model_LDA(lattice, atoms)\n",
    "basis = PlaneWaveBasis(model, 5, kgrid=(1, 1, 1))"
   ],
   "metadata": {},
   "execution_count": 3
  },
  {
   "cell_type": "markdown",
   "source": [
    "Find the ground state using direct minimisation (always using SCF is boring ...)"
   ],
   "metadata": {}
  },
  {
   "outputs": [
    {
     "name": "stdout",
     "output_type": "stream",
     "text": [
      "Iter     Function value   Gradient norm \n",
      "     0     1.114074e+02     1.488169e+00\n",
      " * time: 0.38480091094970703\n",
      "     1     1.037164e+01     9.242486e-01\n",
      " * time: 2.3753130435943604\n",
      "     2    -1.155768e+01     1.025110e+00\n",
      " * time: 3.065113067626953\n",
      "     3    -3.363660e+01     8.410566e-01\n",
      " * time: 4.09608006477356\n",
      "     4    -4.679595e+01     7.364216e-01\n",
      " * time: 5.1269690990448\n",
      "     5    -5.669423e+01     2.660630e-01\n",
      " * time: 6.161010026931763\n",
      "     6    -5.955657e+01     2.716569e-01\n",
      " * time: 6.849260091781616\n",
      "     7    -6.075238e+01     1.154856e-01\n",
      " * time: 7.53971004486084\n",
      "     8    -6.128103e+01     4.055306e-02\n",
      " * time: 8.234080076217651\n",
      "     9    -6.154368e+01     3.336302e-02\n",
      " * time: 8.925647020339966\n",
      "    10    -6.172203e+01     3.140554e-02\n",
      " * time: 9.608704090118408\n",
      "    11    -6.186452e+01     2.172721e-02\n",
      " * time: 10.301640033721924\n",
      "    12    -6.196431e+01     1.914119e-02\n",
      " * time: 11.002727031707764\n",
      "    13    -6.202419e+01     2.068268e-02\n",
      " * time: 11.704447031021118\n",
      "    14    -6.208260e+01     1.672662e-02\n",
      " * time: 12.37345004081726\n",
      "    15    -6.212005e+01     1.306742e-02\n",
      " * time: 13.03511095046997\n",
      "    16    -6.215090e+01     1.061957e-02\n",
      " * time: 13.705720901489258\n",
      "    17    -6.216999e+01     8.798186e-03\n",
      " * time: 14.375560998916626\n",
      "    18    -6.218394e+01     6.288903e-03\n",
      " * time: 15.040380001068115\n",
      "    19    -6.219299e+01     5.715339e-03\n",
      " * time: 15.703856945037842\n",
      "    20    -6.219907e+01     6.222047e-03\n",
      " * time: 16.395724058151245\n",
      "    21    -6.220391e+01     6.137515e-03\n",
      " * time: 17.075074911117554\n",
      "    22    -6.220741e+01     5.320580e-03\n",
      " * time: 17.763653993606567\n",
      "    23    -6.221002e+01     4.329301e-03\n",
      " * time: 18.470474004745483\n",
      "    24    -6.221188e+01     2.906664e-03\n",
      " * time: 19.16726303100586\n",
      "    25    -6.221318e+01     1.855982e-03\n",
      " * time: 19.84566593170166\n",
      "    26    -6.221392e+01     2.376738e-03\n",
      " * time: 20.53092908859253\n",
      "    27    -6.221441e+01     2.085890e-03\n",
      " * time: 21.209397077560425\n",
      "    28    -6.221479e+01     2.011580e-03\n",
      " * time: 21.900875091552734\n",
      "    29    -6.221520e+01     2.242657e-03\n",
      " * time: 22.600406885147095\n",
      "    30    -6.221582e+01     3.044352e-03\n",
      " * time: 23.287421941757202\n",
      "    31    -6.221702e+01     4.208869e-03\n",
      " * time: 23.968295097351074\n",
      "    32    -6.221944e+01     6.015349e-03\n",
      " * time: 24.67280888557434\n",
      "    33    -6.222299e+01     7.574490e-03\n",
      " * time: 25.348453998565674\n",
      "    34    -6.222949e+01     8.806700e-03\n",
      " * time: 26.0365629196167\n",
      "    35    -6.224119e+01     6.649544e-03\n",
      " * time: 26.73365592956543\n",
      "    36    -6.225163e+01     4.662138e-03\n",
      " * time: 27.43246102333069\n",
      "    37    -6.225495e+01     4.690760e-03\n",
      " * time: 28.11727499961853\n",
      "    38    -6.225797e+01     2.817803e-03\n",
      " * time: 28.795897960662842\n",
      "    39    -6.225914e+01     2.951579e-03\n",
      " * time: 29.48226499557495\n",
      "    40    -6.226008e+01     1.719720e-03\n",
      " * time: 30.177736043930054\n",
      "    41    -6.226069e+01     1.459359e-03\n",
      " * time: 30.85903811454773\n",
      "    42    -6.226102e+01     1.169495e-03\n",
      " * time: 31.538331031799316\n",
      "    43    -6.226125e+01     8.383310e-04\n",
      " * time: 32.2474730014801\n",
      "    44    -6.226142e+01     8.013451e-04\n",
      " * time: 32.946463108062744\n",
      "    45    -6.226152e+01     6.024938e-04\n",
      " * time: 33.62292790412903\n",
      "    46    -6.226158e+01     4.279283e-04\n",
      " * time: 34.3188259601593\n",
      "    47    -6.226161e+01     4.041081e-04\n",
      " * time: 34.99729299545288\n",
      "    48    -6.226163e+01     3.689906e-04\n",
      " * time: 35.67648506164551\n",
      "    49    -6.226165e+01     2.553731e-04\n",
      " * time: 36.372360944747925\n",
      "    50    -6.226165e+01     1.945233e-04\n",
      " * time: 37.06104111671448\n",
      "    51    -6.226166e+01     1.654483e-04\n",
      " * time: 37.74782395362854\n",
      "    52    -6.226166e+01     1.353950e-04\n",
      " * time: 38.45181608200073\n",
      "    53    -6.226166e+01     1.053386e-04\n",
      " * time: 39.14758896827698\n",
      "    54    -6.226166e+01     6.824650e-05\n",
      " * time: 39.8313570022583\n",
      "    55    -6.226167e+01     4.647728e-05\n",
      " * time: 40.51060104370117\n",
      "    56    -6.226167e+01     3.980310e-05\n",
      " * time: 41.189656019210815\n",
      "    57    -6.226167e+01     2.814901e-05\n",
      " * time: 41.8842089176178\n",
      "    58    -6.226167e+01     1.760378e-05\n",
      " * time: 42.57972192764282\n",
      "    59    -6.226167e+01     1.251280e-05\n",
      " * time: 43.25454306602478\n",
      "    60    -6.226167e+01     1.036906e-05\n",
      " * time: 43.9381799697876\n",
      "    61    -6.226167e+01     8.907612e-06\n",
      " * time: 44.62398290634155\n",
      "    62    -6.226167e+01     6.723586e-06\n",
      " * time: 45.302797079086304\n",
      "    63    -6.226167e+01     6.145041e-06\n",
      " * time: 46.00850510597229\n",
      "    64    -6.226167e+01     5.446049e-06\n",
      " * time: 46.687378883361816\n",
      "    65    -6.226167e+01     4.536479e-06\n",
      " * time: 47.35634207725525\n",
      "    66    -6.226167e+01     3.839676e-06\n",
      " * time: 48.0173659324646\n",
      "    67    -6.226167e+01     2.530041e-06\n",
      " * time: 48.67873692512512\n",
      "    68    -6.226167e+01     1.728756e-06\n",
      " * time: 49.340411901474\n"
     ]
    }
   ],
   "cell_type": "code",
   "source": [
    "scfres = direct_minimization(basis, tol=1e-5);"
   ],
   "metadata": {},
   "execution_count": 4
  },
  {
   "outputs": [
    {
     "output_type": "execute_result",
     "data": {
      "text/plain": "Energy breakdown:\n    Kinetic             25.7671073\n    AtomicLocal         -18.8557687\n    AtomicNonlocal      14.8522646\n    Ewald               -67.1831486\n    PspCorrection       -2.3569765\n    Hartree             4.8485377 \n    Xc                  -19.3336822\n\n    total               -62.261666462429\n"
     },
     "metadata": {},
     "execution_count": 5
    }
   ],
   "cell_type": "code",
   "source": [
    "scfres.energies"
   ],
   "metadata": {},
   "execution_count": 5
  }
 ],
 "nbformat_minor": 3,
 "metadata": {
  "language_info": {
   "file_extension": ".jl",
   "mimetype": "application/julia",
   "name": "julia",
   "version": "1.5.3"
  },
  "kernelspec": {
   "name": "julia-1.5",
   "display_name": "Julia 1.5.3",
   "language": "julia"
  }
 },
 "nbformat": 4
}
