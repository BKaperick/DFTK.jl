{
 "cells": [
  {
   "cell_type": "markdown",
   "source": [
    "# Creating supercells with pymatgen\n",
    "\n",
    "The [Pymatgen](https://pymatgen.org/) python library allows to setup\n",
    "solid-state calculations using a flexible set of classes as well as an API\n",
    "to an online data base of structures. Its `Structure` and `Lattice`\n",
    "objects are directly supported by the DFTK `load_atoms` and `load_lattice`\n",
    "functions, such that DFTK may be readily used to run calculation on systems\n",
    "defined in pymatgen. Using the `pymatgen_structure` function a conversion\n",
    "from DFTK to pymatgen structures is also possible. In the following we\n",
    "use this to create a silicon supercell and find its LDA ground state\n",
    "using direct minimisation."
   ],
   "metadata": {}
  },
  {
   "cell_type": "markdown",
   "source": [
    "First we setup the silicon lattice in DFTK."
   ],
   "metadata": {}
  },
  {
   "outputs": [],
   "cell_type": "code",
   "source": [
    "using DFTK\n",
    "\n",
    "a = 10.263141334305942  # Lattice constant in Bohr\n",
    "lattice = a / 2 .* [[0 1 1.]; [1 0 1.]; [1 1 0.]]\n",
    "Si = ElementPsp(:Si, psp=load_psp(\"hgh/lda/Si-q4\"))\n",
    "atoms = [Si => [ones(3)/8, -ones(3)/8]];"
   ],
   "metadata": {},
   "execution_count": 1
  },
  {
   "cell_type": "markdown",
   "source": [
    "Next we make a `[2, 2, 2]` supercell using pymatgen"
   ],
   "metadata": {}
  },
  {
   "outputs": [],
   "cell_type": "code",
   "source": [
    "pystruct = pymatgen_structure(lattice, atoms)\n",
    "pystruct.make_supercell([2, 2, 2])\n",
    "lattice = load_lattice(pystruct)\n",
    "atoms = [Si => [s.frac_coords for s in pystruct.sites]];"
   ],
   "metadata": {},
   "execution_count": 2
  },
  {
   "cell_type": "markdown",
   "source": [
    "Setup an LDA model and discretize using\n",
    "a single kpoint and a small `Ecut` of 5 Hartree.\n",
    "Notice that `PlaneWaveBasis` defaults to just using the ``Γ``-point\n",
    "if no ``k``-point options are provided."
   ],
   "metadata": {}
  },
  {
   "outputs": [
    {
     "name": "stdout",
     "output_type": "stream",
     "text": [
      "Iter     Function value   Gradient norm \n",
      "     0     1.122314e+02     1.525664e+00\n",
      " * time: 0.12708616256713867\n",
      "     1     1.092813e+01     9.533364e-01\n",
      " * time: 0.9932291507720947\n",
      "     2    -1.164608e+01     9.663196e-01\n",
      " * time: 1.1322221755981445\n",
      "     3    -3.434668e+01     7.519069e-01\n",
      " * time: 1.2879440784454346\n",
      "     4    -4.795908e+01     5.197166e-01\n",
      " * time: 1.4402990341186523\n",
      "     5    -5.719416e+01     1.749408e-01\n",
      " * time: 1.5920400619506836\n",
      "     6    -5.994368e+01     1.138361e-01\n",
      " * time: 1.7102751731872559\n",
      "     7    -6.094494e+01     6.038248e-02\n",
      " * time: 1.8259050846099854\n",
      "     8    -6.132397e+01     6.203168e-02\n",
      " * time: 1.9499061107635498\n",
      "     9    -6.162173e+01     3.827157e-02\n",
      " * time: 2.0731420516967773\n",
      "    10    -6.183176e+01     2.746989e-02\n",
      " * time: 2.1874091625213623\n",
      "    11    -6.199512e+01     1.925088e-02\n",
      " * time: 2.309467077255249\n",
      "    12    -6.206217e+01     1.785457e-02\n",
      " * time: 2.4289469718933105\n",
      "    13    -6.212964e+01     1.749902e-02\n",
      " * time: 2.5408570766448975\n",
      "    14    -6.215775e+01     1.342859e-02\n",
      " * time: 2.658722162246704\n",
      "    15    -6.218263e+01     1.236775e-02\n",
      " * time: 2.776743173599243\n",
      "    16    -6.219662e+01     1.121534e-02\n",
      " * time: 2.887761116027832\n",
      "    17    -6.220807e+01     9.431717e-03\n",
      " * time: 3.0053141117095947\n",
      "    18    -6.221715e+01     8.128494e-03\n",
      " * time: 3.122929096221924\n",
      "    19    -6.222477e+01     8.004306e-03\n",
      " * time: 3.232707977294922\n",
      "    20    -6.223158e+01     6.765959e-03\n",
      " * time: 3.3508529663085938\n",
      "    21    -6.223828e+01     6.834363e-03\n",
      " * time: 3.4699201583862305\n",
      "    22    -6.224486e+01     5.903923e-03\n",
      " * time: 3.5854461193084717\n",
      "    23    -6.225052e+01     4.961930e-03\n",
      " * time: 3.6969010829925537\n",
      "    24    -6.225458e+01     4.675631e-03\n",
      " * time: 3.816230058670044\n",
      "    25    -6.225723e+01     3.263140e-03\n",
      " * time: 3.9346110820770264\n",
      "    26    -6.225887e+01     2.524177e-03\n",
      " * time: 4.046364068984985\n",
      "    27    -6.225980e+01     1.881172e-03\n",
      " * time: 4.16475510597229\n",
      "    28    -6.226041e+01     1.625614e-03\n",
      " * time: 4.282173156738281\n",
      "    29    -6.226083e+01     1.383026e-03\n",
      " * time: 4.391355037689209\n",
      "    30    -6.226114e+01     1.099316e-03\n",
      " * time: 4.507137060165405\n",
      "    31    -6.226135e+01     8.098653e-04\n",
      " * time: 4.62253999710083\n",
      "    32    -6.226149e+01     6.329849e-04\n",
      " * time: 4.7316789627075195\n",
      "    33    -6.226158e+01     4.799558e-04\n",
      " * time: 4.847761154174805\n",
      "    34    -6.226162e+01     3.102495e-04\n",
      " * time: 4.965062141418457\n",
      "    35    -6.226165e+01     2.015333e-04\n",
      " * time: 5.0819091796875\n",
      "    36    -6.226166e+01     1.781074e-04\n",
      " * time: 5.19101095199585\n",
      "    37    -6.226166e+01     1.311811e-04\n",
      " * time: 5.308760166168213\n",
      "    38    -6.226166e+01     8.067481e-05\n",
      " * time: 5.424000978469849\n",
      "    39    -6.226166e+01     7.092378e-05\n",
      " * time: 5.53213095664978\n",
      "    40    -6.226167e+01     5.951575e-05\n",
      " * time: 5.6484739780426025\n",
      "    41    -6.226167e+01     4.276149e-05\n",
      " * time: 5.763576984405518\n",
      "    42    -6.226167e+01     3.514910e-05\n",
      " * time: 5.872675180435181\n",
      "    43    -6.226167e+01     3.199808e-05\n",
      " * time: 5.989031076431274\n",
      "    44    -6.226167e+01     2.772580e-05\n",
      " * time: 6.105090141296387\n",
      "    45    -6.226167e+01     2.319904e-05\n",
      " * time: 6.21520209312439\n",
      "    46    -6.226167e+01     1.734078e-05\n",
      " * time: 6.331717014312744\n",
      "    47    -6.226167e+01     1.269983e-05\n",
      " * time: 6.4471821784973145\n",
      "    48    -6.226167e+01     8.496121e-06\n",
      " * time: 6.556267976760864\n",
      "    49    -6.226167e+01     5.774869e-06\n",
      " * time: 6.672971963882446\n",
      "    50    -6.226167e+01     3.421196e-06\n",
      " * time: 6.789914131164551\n",
      "    51    -6.226167e+01     2.881816e-06\n",
      " * time: 6.906644105911255\n",
      "    52    -6.226167e+01     2.329170e-06\n",
      " * time: 7.015902042388916\n"
     ]
    }
   ],
   "cell_type": "code",
   "source": [
    "model = model_LDA(lattice, atoms)\n",
    "basis = PlaneWaveBasis(model, 5)\n",
    "\n",
    "# Find the ground state using direct minimisation (always using SCF is boring ...)\n",
    "scfres = direct_minimization(basis, tol=1e-5);"
   ],
   "metadata": {},
   "execution_count": 3
  },
  {
   "outputs": [
    {
     "output_type": "execute_result",
     "data": {
      "text/plain": "Energy breakdown:\n    Kinetic             25.7671075\n    AtomicLocal         -18.8557683\n    AtomicNonlocal      14.8522639\n    Ewald               -67.1831486\n    PspCorrection       -2.3569765\n    Hartree             4.8485379 \n    Xc                  -19.3336823\n\n    total               -62.261666461279\n"
     },
     "metadata": {},
     "execution_count": 4
    }
   ],
   "cell_type": "code",
   "source": [
    "scfres.energies"
   ],
   "metadata": {},
   "execution_count": 4
  }
 ],
 "nbformat_minor": 3,
 "metadata": {
  "language_info": {
   "file_extension": ".jl",
   "mimetype": "application/julia",
   "name": "julia",
   "version": "1.3.1"
  },
  "kernelspec": {
   "name": "julia-1.3",
   "display_name": "Julia 1.3.1",
   "language": "julia"
  }
 },
 "nbformat": 4
}
