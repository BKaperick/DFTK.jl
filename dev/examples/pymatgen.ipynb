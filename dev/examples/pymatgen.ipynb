{
 "cells": [
  {
   "cell_type": "markdown",
   "source": [
    "# Creating supercells with pymatgen\n",
    "\n",
    "The [Pymatgen](https://pymatgen.org/) python library allows to setup\n",
    "solid-state calculations using a flexible set of classes as well as an API\n",
    "to an online data base of structures. Its `Structure` and `Lattice`\n",
    "objects are directly supported by the DFTK `load_atoms` and `load_lattice`\n",
    "functions, such that DFTK may be readily used to run calculation on systems\n",
    "defined in pymatgen. Using the `pymatgen_structure` function a conversion\n",
    "from DFTK to pymatgen structures is also possible. In the following we\n",
    "use this to create a silicon supercell and find its LDA ground state\n",
    "using direct minimisation."
   ],
   "metadata": {}
  },
  {
   "cell_type": "markdown",
   "source": [
    "First we setup the silicon lattice in DFTK."
   ],
   "metadata": {}
  },
  {
   "outputs": [],
   "cell_type": "code",
   "source": [
    "using DFTK\n",
    "\n",
    "a = 10.263141334305942  # Lattice constant in Bohr\n",
    "lattice = a / 2 .* [[0 1 1.]; [1 0 1.]; [1 1 0.]]\n",
    "Si = ElementPsp(:Si, psp=load_psp(\"hgh/lda/Si-q4\"))\n",
    "atoms = [Si => [ones(3)/8, -ones(3)/8]];"
   ],
   "metadata": {},
   "execution_count": 1
  },
  {
   "cell_type": "markdown",
   "source": [
    "Next we make a `[2, 2, 2]` supercell using pymatgen"
   ],
   "metadata": {}
  },
  {
   "outputs": [],
   "cell_type": "code",
   "source": [
    "pystruct = pymatgen_structure(lattice, atoms)\n",
    "pystruct.make_supercell([2, 2, 2])\n",
    "lattice = load_lattice(pystruct)\n",
    "atoms = [Si => [s.frac_coords for s in pystruct.sites]];"
   ],
   "metadata": {},
   "execution_count": 2
  },
  {
   "cell_type": "markdown",
   "source": [
    "Setup an LDA model and discretize using\n",
    "a single kpoint and a small `Ecut` of 5 Hartree."
   ],
   "metadata": {}
  },
  {
   "outputs": [
    {
     "output_type": "execute_result",
     "data": {
      "text/plain": "PlaneWaveBasis (Ecut=5.0, 1 kpoints)"
     },
     "metadata": {},
     "execution_count": 3
    }
   ],
   "cell_type": "code",
   "source": [
    "model = model_LDA(lattice, atoms)\n",
    "basis = PlaneWaveBasis(model, 5, kgrid=(1, 1, 1))"
   ],
   "metadata": {},
   "execution_count": 3
  },
  {
   "cell_type": "markdown",
   "source": [
    "Find the ground state using direct minimisation (always using SCF is boring ...)"
   ],
   "metadata": {}
  },
  {
   "outputs": [
    {
     "name": "stdout",
     "output_type": "stream",
     "text": [
      "Iter     Function value   Gradient norm \n",
      "     0     1.119889e+02     1.658846e+00\n",
      " * time: 0.07575297355651855\n",
      "     1     1.060450e+01     9.632346e-01\n",
      " * time: 1.2338900566101074\n",
      "     2    -1.142914e+01     1.157506e+00\n",
      " * time: 1.3780109882354736\n",
      "     3    -3.349209e+01     8.629533e-01\n",
      " * time: 1.4997010231018066\n",
      "     4    -4.686964e+01     6.225366e-01\n",
      " * time: 1.6339268684387207\n",
      "     5    -5.677751e+01     2.202509e-01\n",
      " * time: 1.7729899883270264\n",
      "     6    -5.971688e+01     1.835601e-01\n",
      " * time: 1.8882949352264404\n",
      "     7    -6.093897e+01     6.969099e-02\n",
      " * time: 1.9825739860534668\n",
      "     8    -6.145500e+01     4.801102e-02\n",
      " * time: 2.07785701751709\n",
      "     9    -6.174757e+01     3.224388e-02\n",
      " * time: 2.1731550693511963\n",
      "    10    -6.190741e+01     2.431138e-02\n",
      " * time: 2.269676923751831\n",
      "    11    -6.200759e+01     2.044556e-02\n",
      " * time: 2.3760600090026855\n",
      "    12    -6.206729e+01     1.867479e-02\n",
      " * time: 2.469666004180908\n",
      "    13    -6.211439e+01     1.387622e-02\n",
      " * time: 2.564504861831665\n",
      "    14    -6.215245e+01     1.184958e-02\n",
      " * time: 2.659271001815796\n",
      "    15    -6.217348e+01     1.057489e-02\n",
      " * time: 2.755044937133789\n",
      "    16    -6.218910e+01     8.357287e-03\n",
      " * time: 2.8587419986724854\n",
      "    17    -6.219922e+01     7.402929e-03\n",
      " * time: 2.9550750255584717\n",
      "    18    -6.220787e+01     6.419896e-03\n",
      " * time: 3.0512359142303467\n",
      "    19    -6.221464e+01     6.124827e-03\n",
      " * time: 3.1467950344085693\n",
      "    20    -6.222119e+01     7.457460e-03\n",
      " * time: 3.2500009536743164\n",
      "    21    -6.222837e+01     6.564043e-03\n",
      " * time: 3.3443398475646973\n",
      "    22    -6.223627e+01     7.076405e-03\n",
      " * time: 3.438710927963257\n",
      "    23    -6.224351e+01     6.535734e-03\n",
      " * time: 3.5326390266418457\n",
      "    24    -6.224906e+01     5.199490e-03\n",
      " * time: 3.627333879470825\n",
      "    25    -6.225291e+01     4.359816e-03\n",
      " * time: 3.731031894683838\n",
      "    26    -6.225554e+01     3.434320e-03\n",
      " * time: 3.82596492767334\n",
      "    27    -6.225746e+01     2.968603e-03\n",
      " * time: 3.920897960662842\n",
      "    28    -6.225888e+01     2.274892e-03\n",
      " * time: 4.016211986541748\n",
      "    29    -6.225992e+01     2.188866e-03\n",
      " * time: 4.112624883651733\n",
      "    30    -6.226066e+01     2.096267e-03\n",
      " * time: 4.214766025543213\n",
      "    31    -6.226113e+01     1.733514e-03\n",
      " * time: 4.309172868728638\n",
      "    32    -6.226138e+01     1.168203e-03\n",
      " * time: 4.403473854064941\n",
      "    33    -6.226151e+01     7.523453e-04\n",
      " * time: 4.49791693687439\n",
      "    34    -6.226159e+01     4.965126e-04\n",
      " * time: 4.59214186668396\n",
      "    35    -6.226162e+01     3.834032e-04\n",
      " * time: 4.695154905319214\n",
      "    36    -6.226164e+01     3.011170e-04\n",
      " * time: 4.7900378704071045\n",
      "    37    -6.226165e+01     2.322912e-04\n",
      " * time: 4.884363889694214\n",
      "    38    -6.226165e+01     1.754107e-04\n",
      " * time: 4.9784510135650635\n",
      "    39    -6.226166e+01     1.493577e-04\n",
      " * time: 5.08522891998291\n",
      "    40    -6.226166e+01     1.095464e-04\n",
      " * time: 5.180553913116455\n",
      "    41    -6.226166e+01     9.376137e-05\n",
      " * time: 5.2755138874053955\n",
      "    42    -6.226166e+01     6.086012e-05\n",
      " * time: 5.370228052139282\n",
      "    43    -6.226167e+01     4.164451e-05\n",
      " * time: 5.4647040367126465\n",
      "    44    -6.226167e+01     3.116343e-05\n",
      " * time: 5.566699981689453\n",
      "    45    -6.226167e+01     2.390970e-05\n",
      " * time: 5.661728858947754\n",
      "    46    -6.226167e+01     2.190715e-05\n",
      " * time: 5.75773286819458\n",
      "    47    -6.226167e+01     1.262540e-05\n",
      " * time: 5.85312294960022\n",
      "    48    -6.226167e+01     9.726732e-06\n",
      " * time: 5.948161840438843\n",
      "    49    -6.226167e+01     7.195674e-06\n",
      " * time: 6.0518858432769775\n",
      "    50    -6.226167e+01     6.198998e-06\n",
      " * time: 6.1463470458984375\n",
      "    51    -6.226167e+01     4.849493e-06\n",
      " * time: 6.243304967880249\n",
      "    52    -6.226167e+01     3.784652e-06\n",
      " * time: 6.337131023406982\n",
      "    53    -6.226167e+01     3.099409e-06\n",
      " * time: 6.431846857070923\n",
      "    54    -6.226167e+01     2.655840e-06\n",
      " * time: 6.533639907836914\n",
      "    55    -6.226167e+01     2.065526e-06\n",
      " * time: 6.6271350383758545\n"
     ]
    }
   ],
   "cell_type": "code",
   "source": [
    "scfres = direct_minimization(basis, tol=1e-5);"
   ],
   "metadata": {},
   "execution_count": 4
  },
  {
   "outputs": [
    {
     "output_type": "execute_result",
     "data": {
      "text/plain": "Energy breakdown:\n    Kinetic             25.7671067\n    AtomicLocal         -18.8557681\n    AtomicNonlocal      14.8522650\n    Ewald               -67.1831486\n    PspCorrection       -2.3569765\n    Hartree             4.8485371 \n    Xc                  -19.3336820\n\n    total               -62.261666461889\n"
     },
     "metadata": {},
     "execution_count": 5
    }
   ],
   "cell_type": "code",
   "source": [
    "scfres.energies"
   ],
   "metadata": {},
   "execution_count": 5
  }
 ],
 "nbformat_minor": 3,
 "metadata": {
  "language_info": {
   "file_extension": ".jl",
   "mimetype": "application/julia",
   "name": "julia",
   "version": "1.4.2"
  },
  "kernelspec": {
   "name": "julia-1.4",
   "display_name": "Julia 1.4.2",
   "language": "julia"
  }
 },
 "nbformat": 4
}
