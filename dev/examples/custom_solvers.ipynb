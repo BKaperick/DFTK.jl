{
 "cells": [
  {
   "cell_type": "markdown",
   "source": [
    "# Custom solvers\n",
    "In this example, we show how to define custom solvers. Our system\n",
    "will again be silicon, because we are not very imaginative"
   ],
   "metadata": {}
  },
  {
   "outputs": [],
   "cell_type": "code",
   "source": [
    "using DFTK, LinearAlgebra\n",
    "\n",
    "a = 10.26\n",
    "lattice = a / 2 * [[0 1 1.];\n",
    "                   [1 0 1.];\n",
    "                   [1 1 0.]]\n",
    "Si = ElementPsp(:Si, psp=load_psp(\"hgh/lda/Si-q4\"))\n",
    "atoms = [Si => [ones(3)/8, -ones(3)/8]]\n",
    "\n",
    "# We take very (very) crude parameters\n",
    "model = model_LDA(lattice, atoms)\n",
    "kgrid = [1, 1, 1]\n",
    "Ecut = 5\n",
    "basis = PlaneWaveBasis(model, Ecut; kgrid=kgrid);"
   ],
   "metadata": {},
   "execution_count": 1
  },
  {
   "cell_type": "markdown",
   "source": [
    "We define our custom fix-point solver: simply a damped fixed-point"
   ],
   "metadata": {}
  },
  {
   "outputs": [],
   "cell_type": "code",
   "source": [
    "function my_fp_solver(f, x0, max_iter; tol)\n",
    "    mixing_factor = .7\n",
    "    x = x0\n",
    "    fx = f(x)\n",
    "    for n = 1:max_iter\n",
    "        inc = fx - x\n",
    "        if norm(inc) < tol\n",
    "            break\n",
    "        end\n",
    "        x = x + mixing_factor * inc\n",
    "        fx = f(x)\n",
    "    end\n",
    "    (fixpoint=x, converged=norm(fx-x) < tol)\n",
    "end;"
   ],
   "metadata": {},
   "execution_count": 2
  },
  {
   "cell_type": "markdown",
   "source": [
    "Our eigenvalue solver just forms the dense matrix and diagonalizes\n",
    "it explicitly (this only works for very small systems)"
   ],
   "metadata": {}
  },
  {
   "outputs": [],
   "cell_type": "code",
   "source": [
    "function my_eig_solver(A, X0; maxiter, tol, kwargs...)\n",
    "    n = size(X0, 2)\n",
    "    A = Array(A)\n",
    "    E = eigen(A)\n",
    "    λ = E.values[1:n]\n",
    "    X = E.vectors[:, 1:n]\n",
    "    (λ=λ, X=X, residual_norms=[], iterations=0, converged=true, n_matvec=0)\n",
    "end;"
   ],
   "metadata": {},
   "execution_count": 3
  },
  {
   "cell_type": "markdown",
   "source": [
    "Finally we also define our custom mixing scheme. It will be a mixture\n",
    "of simple mixing (for the first 2 steps) and than default to Kerker mixing."
   ],
   "metadata": {}
  },
  {
   "outputs": [],
   "cell_type": "code",
   "source": [
    "struct MyMixing\n",
    "    α  # Damping parameter\n",
    "end\n",
    "MyMixing() = MyMixing(0.7)\n",
    "\n",
    "function DFTK.mix(mixing::MyMixing, basis, ρin::RealFourierArray, ρout::RealFourierArray; n_iter, kwargs...)\n",
    "    if n_iter <= 2\n",
    "        # Just do simple mixing\n",
    "        ρin + mixing.α * (ρout - ρin)\n",
    "    else\n",
    "        # Use the KerkerMixing from DFTK\n",
    "        DFTK.mix(KerkerMixing(α=mixing.α), basis, ρin, ρout; kwargs...)\n",
    "    end\n",
    "end"
   ],
   "metadata": {},
   "execution_count": 4
  },
  {
   "cell_type": "markdown",
   "source": [
    "That's it! Now we just run the SCF with these solvers"
   ],
   "metadata": {}
  },
  {
   "outputs": [
    {
     "name": "stdout",
     "output_type": "stream",
     "text": [
      "Iter   Energy             ρout-ρin\n",
      "----   ------             --------\n",
      "  1    -7.166864152879    3.621654E-01\n",
      "  2    -7.238616681087    1.826981E-01\n",
      "  3    -7.247822849851    7.736030E-02\n",
      "  4    -7.248791085965    4.223417E-02\n",
      "  5    -7.249087294750    2.332969E-02\n",
      "  6    -7.249176872284    1.308176E-02\n",
      "  7    -7.249204219070    7.456276E-03\n",
      "  8    -7.249212750601    4.320407E-03\n",
      "  9    -7.249215491475    2.543073E-03\n",
      " 10    -7.249216402278    1.518729E-03\n",
      " 11    -7.249216715866    9.188093E-04\n",
      " 12    -7.249216827647    5.622048E-04\n",
      " 13    -7.249216868788    3.473830E-04\n",
      " 14    -7.249216884363    2.164416E-04\n",
      " 15    -7.249216890400    1.358100E-04\n"
     ]
    }
   ],
   "cell_type": "code",
   "source": [
    "scfres = self_consistent_field(basis;\n",
    "                               tol=1e-8,\n",
    "                               solver=my_fp_solver,\n",
    "                               eigensolver=my_eig_solver,\n",
    "                               mixing=MyMixing());"
   ],
   "metadata": {},
   "execution_count": 5
  },
  {
   "cell_type": "markdown",
   "source": [
    "Note that the default convergence criterion is on the difference of\n",
    "energy from one step to the other; when this gets below `tol`, the\n",
    "\"driver\" `self_consistent_field` artificially makes the fixpoint\n",
    "solver think it's converged by forcing `f(x) = x`. You can customize\n",
    "this with the `is_converged` keyword argument to\n",
    "`self_consistent_field`."
   ],
   "metadata": {}
  }
 ],
 "nbformat_minor": 3,
 "metadata": {
  "language_info": {
   "file_extension": ".jl",
   "mimetype": "application/julia",
   "name": "julia",
   "version": "1.3.1"
  },
  "kernelspec": {
   "name": "julia-1.3",
   "display_name": "Julia 1.3.1",
   "language": "julia"
  }
 },
 "nbformat": 4
}
