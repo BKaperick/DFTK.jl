{
 "cells": [
  {
   "cell_type": "markdown",
   "metadata": {},
   "source": [
    "# DFT calculations in DFTK"
   ]
  },
  {
   "cell_type": "code",
   "execution_count": null,
   "metadata": {},
   "outputs": [],
   "source": [
    "# Activate source directory of DFTK\n",
    "import Pkg\n",
    "Pkg.activate(\"..\")\n",
    "Pkg.instantiate()\n",
    "\n",
    "using DFTK"
   ]
  },
  {
   "cell_type": "markdown",
   "metadata": {},
   "source": [
    "### Parameters"
   ]
  },
  {
   "cell_type": "code",
   "execution_count": null,
   "metadata": {},
   "outputs": [],
   "source": [
    "kgrid = [3, 3, 3]    # k-Point grid\n",
    "Ecut = 15            # Kinetic energy cutoff in Hartree\n",
    "Tsmear = 0.01        # Smearing temperature in Hartree (for metals)\n",
    "T = Float64;         # Floating point type for computations"
   ]
  },
  {
   "cell_type": "markdown",
   "metadata": {},
   "source": [
    "### Setting up lattices and structures"
   ]
  },
  {
   "cell_type": "code",
   "execution_count": null,
   "metadata": {},
   "outputs": [],
   "source": [
    "# Build Silicon (an Insulator)\n",
    "\n",
    "a = 10.263141334305942  # Silicon lattice constant in Bohr\n",
    "lattice = a / 2 .* [[0 1 1.]; [1 0 1.]; [1 1 0.]]\n",
    "Si = ElementPsp(:Si, psp=load_psp(\"hgh/lda/Si-q4\"))\n",
    "atoms = [Si => [ones(3)/8, -ones(3)/8]]\n",
    "n_bands = 6\n",
    "\n",
    "model = model_dft(lattice, :lda_xc_teter93, atoms);"
   ]
  },
  {
   "cell_type": "markdown",
   "metadata": {},
   "source": [
    "or"
   ]
  },
  {
   "cell_type": "code",
   "execution_count": null,
   "metadata": {},
   "outputs": [],
   "source": [
    "n_electrons = sum(length(pos) * n_elec_valence(spec) for (spec, pos) in atoms)    \n",
    "model = Model(Array{T}(lattice); n_electrons=n_electrons, atoms=atoms,\n",
    "              external=term_external(atoms),    \n",
    "              nonlocal=term_nonlocal(atoms),    \n",
    "              hartree=term_hartree(),    \n",
    "              xc=term_xc(:lda_x, :lda_c_vwn));"
   ]
  },
  {
   "cell_type": "markdown",
   "metadata": {},
   "source": [
    "or"
   ]
  },
  {
   "cell_type": "code",
   "execution_count": null,
   "metadata": {},
   "outputs": [],
   "source": [
    "# Build graphite (a Metal)\n",
    "# Note: This is not exactly the minimum-energy structure\n",
    "\n",
    "ÅtoBohr = 1.8897261246257702  # Convert Ångström to bohr\n",
    "a = 1.228ÅtoBohr   \n",
    "b = 2.12695839ÅtoBohr\n",
    "c = 7ÅtoBohr\n",
    "lattice = [[a a 0]; [-b b 0]; [0 0 c]]\n",
    "C = ElementPsp(:C, psp=load_psp(\"hgh/lda/C-q4\"))\n",
    "atoms = (C => [[0, 0, 1/4], [0, 0, 3/4],\n",
    "                     [1/3, 2/3, 1/4], [2/3, 1/3, 3/4]], )\n",
    "n_bands = 15\n",
    "\n",
    "model = model_dft(Array{T}(lattice), :lda_xc_teter93, atoms;\n",
    "                  temperature=Tsmear, smearing=Smearing.MethfesselPaxton2());"
   ]
  },
  {
   "cell_type": "markdown",
   "metadata": {},
   "source": [
    "### Running an SCF computation"
   ]
  },
  {
   "cell_type": "code",
   "execution_count": null,
   "metadata": {},
   "outputs": [],
   "source": [
    "# Discretise the model\n",
    "basis = PlaneWaveBasis(model, Ecut, kgrid=kgrid);"
   ]
  },
  {
   "cell_type": "code",
   "execution_count": null,
   "metadata": {},
   "outputs": [],
   "source": [
    "# Build self-consistent Hamiltonian\n",
    "\n",
    "ham = Hamiltonian(basis, guess_density(basis, atoms))\n",
    "scfres = self_consistent_field(ham, n_bands, tol=1e-6, mixing=KerkerMixing())\n",
    "print_energies(scfres.energies)\n",
    "\n",
    "println(\"\\nkpt   occupation\")\n",
    "for ik in 1:length(basis.kpoints)\n",
    "    println(\"   $ik  $(scfres.occupation[ik])\")\n",
    "end"
   ]
  },
  {
   "cell_type": "markdown",
   "metadata": {},
   "source": [
    "### Post-process SCF results"
   ]
  },
  {
   "cell_type": "code",
   "execution_count": null,
   "metadata": {
    "scrolled": true
   },
   "outputs": [],
   "source": [
    "# Compute bandstructure\n",
    "plot_bandstructure(scfres, n_bands)"
   ]
  },
  {
   "cell_type": "code",
   "execution_count": null,
   "metadata": {},
   "outputs": [],
   "source": [
    "# Plot of the density versus the norm of the reciprocal lattice points\n",
    "Gabs = vec([sum(abs, G) for G in G_vectors(basis)])\n",
    "PyPlot.semilogy(Gabs, vec(abs.(scfres.ρ.fourier)), \".\")"
   ]
  },
  {
   "cell_type": "code",
   "execution_count": null,
   "metadata": {},
   "outputs": [],
   "source": [
    "# Plot the density of state\n",
    "εs = collect(-0.3:0.005:0.3)\n",
    "doses = [DFTK.DOS(ε + scfres.εF, basis, scfres.orben,\n",
    "                  T=0.03, smearing=Smearing.Gaussian()) for ε in εs]\n",
    "PyPlot.plot(εs, doses)"
   ]
  }
 ],
 "metadata": {
  "@webio": {
   "lastCommId": null,
   "lastKernelId": null
  },
  "kernelspec": {
   "display_name": "Julia 1.3.1",
   "language": "julia",
   "name": "julia-1.3"
  },
  "language_info": {
   "file_extension": ".jl",
   "mimetype": "application/julia",
   "name": "julia",
   "version": "1.3.1"
  }
 },
 "nbformat": 4,
 "nbformat_minor": 2
}
